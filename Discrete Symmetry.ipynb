{
 "cells": [
  {
   "cell_type": "code",
   "execution_count": 1,
   "id": "4568faaa-7b48-44b9-82e8-e8d273731032",
   "metadata": {},
   "outputs": [
    {
     "name": "stderr",
     "output_type": "stream",
     "text": [
      "Warning: Mujoco-based envs failed to import. Set the environment variable D4RL_SUPPRESS_IMPORT_ERROR=1 to suppress this message.\n",
      "No module named 'mjrl'\n",
      "Warning: Flow failed to import. Set the environment variable D4RL_SUPPRESS_IMPORT_ERROR=1 to suppress this message.\n",
      "No module named 'flow'\n",
      "Warning: CARLA failed to import. Set the environment variable D4RL_SUPPRESS_IMPORT_ERROR=1 to suppress this message.\n",
      "No module named 'carla'\n",
      "pybullet build time: May 20 2022 19:44:17\n",
      "/home/yasin/.local/share/virtualenvs/symmetry-cs285-U_vq4NrE/lib/python3.8/site-packages/pybullet_envs/env_bases.py:8: DeprecationWarning: pkg_resources is deprecated as an API. See https://setuptools.pypa.io/en/latest/pkg_resources.html\n",
      "  from pkg_resources import parse_version\n",
      "/home/yasin/.local/share/virtualenvs/symmetry-cs285-U_vq4NrE/lib/python3.8/site-packages/pkg_resources/__init__.py:2871: DeprecationWarning: Deprecated call to `pkg_resources.declare_namespace('mpl_toolkits')`.\n",
      "Implementing implicit namespace packages (as specified in PEP 420) is preferred to `pkg_resources.declare_namespace`. See https://setuptools.pypa.io/en/latest/references/keywords.html#keyword-namespace-packages\n",
      "  declare_namespace(pkg)\n"
     ]
    }
   ],
   "source": [
    "import d3rlpy\n",
    "import d4rl\n",
    "import gym\n",
    "import h5py\n",
    "import numpy as np\n",
    "from d3rlpy.dataset import MDPDataset\n",
    "from sklearn.model_selection import train_test_split\n",
    "import gym\n",
    "from gym.wrappers import TransformObservation\n",
    "import encoders\n",
    "import os"
   ]
  },
  {
   "cell_type": "code",
   "execution_count": 2,
   "id": "fdf4ce17-fd45-4cac-a22b-9561ed48755d",
   "metadata": {},
   "outputs": [
    {
     "name": "stdout",
     "output_type": "stream",
     "text": [
      "0.23.1\n"
     ]
    }
   ],
   "source": [
    "print(gym.version.VERSION)"
   ]
  },
  {
   "cell_type": "code",
   "execution_count": 3,
   "id": "a04b511d-0e25-4397-89c6-4663fdf0ada8",
   "metadata": {},
   "outputs": [
    {
     "name": "stderr",
     "output_type": "stream",
     "text": [
      "/home/yasin/.local/share/virtualenvs/symmetry-cs285-U_vq4NrE/lib/python3.8/site-packages/gym/envs/registration.py:505: UserWarning: \u001b[33mWARN: The environment Walker2d-v2 is out of date. You should consider upgrading to version `v3` with the environment ID `Walker2d-v3`.\u001b[0m\n",
      "  logger.warn(\n"
     ]
    },
    {
     "data": {
      "text/plain": [
       "array([ 1.25450464e+00, -3.55840387e-03,  4.48649447e-03, -1.88168548e-03,\n",
       "       -7.66735510e-04,  3.27702594e-03, -9.08008636e-04,  4.95936877e-04,\n",
       "       -4.72440887e-03,  2.53513109e-03,  3.81433132e-04, -1.70268284e-03,\n",
       "        2.88428703e-03, -1.96805171e-03, -4.65021105e-04, -3.65958303e-03,\n",
       "       -9.68870136e-04])"
      ]
     },
     "execution_count": 3,
     "metadata": {},
     "output_type": "execute_result"
    }
   ],
   "source": [
    "seed = 1\n",
    "d3rlpy.seed(seed)\n",
    "use_gpu = True\n",
    "# prepare environment\n",
    "#env = gym.make(\"InvertedPendulum-v2\")\n",
    "#eval_env = gym.make(\"InvertedPendulum-v2\")\n",
    "env = gym.make(\"Walker2d-v2\")\n",
    "eval_env = gym.make(\"Walker2d-v2\")\n",
    "env.reset(seed=seed)\n",
    "eval_env.reset(seed=seed)"
   ]
  },
  {
   "cell_type": "markdown",
   "id": "d6cb06c5-3a19-401a-994d-6ef71075a9b4",
   "metadata": {},
   "source": [
    "## Get Dataset"
   ]
  },
  {
   "cell_type": "code",
   "execution_count": 37,
   "id": "b85620f3-fa5b-4faf-a82b-cc374fdd30c4",
   "metadata": {},
   "outputs": [],
   "source": [
    "def read_hdf5_to_dict(file_name):\n",
    "    data = {}\n",
    "\n",
    "    def recursive_read(group, prefix=''):\n",
    "        for key in group.keys():\n",
    "            if key not in ['observations', 'actions', 'terminals', 'rewards', 'timeouts']:\n",
    "                continue\n",
    "            item = group[key]\n",
    "            if isinstance(item, h5py.Dataset):\n",
    "                # This is a dataset\n",
    "                data[prefix + key] = np.array(item)\n",
    "            elif isinstance(item, h5py.Group):\n",
    "                # This is a group, so recurse into it\n",
    "                new_prefix = prefix + key + '/'\n",
    "                recursive_read(item, new_prefix)\n",
    "\n",
    "    with h5py.File(file_name, 'r') as f:\n",
    "        recursive_read(f)\n",
    "\n",
    "    return data\n",
    "    \n",
    "file_path = 'd3rlpy_data/walker2d_expert-v2.hdf5'  # Replace with the path to your HDF5 file\n",
    "data_dict = read_hdf5_to_dict(file_path)"
   ]
  },
  {
   "cell_type": "code",
   "execution_count": 38,
   "id": "9fc6a84c-b72b-45f7-85ab-306232f1229b",
   "metadata": {},
   "outputs": [],
   "source": [
    "# Example transformation matrices\n",
    "m = data_dict['observations'].shape[1]\n",
    "n = data_dict['actions'].shape[1]\n",
    "P_s = np.zeros((m,m))  # Replace with your P_s matrix\n",
    "P_s\n",
    "P_a = np.zeros((n,n))  # Replace with your P_a matrix"
   ]
  },
  {
   "cell_type": "code",
   "execution_count": 39,
   "id": "a98f968b-5736-435d-bbe2-515630fedd3f",
   "metadata": {},
   "outputs": [],
   "source": [
    "def create_permutation_matrix(size, source_indices, target_indices):\n",
    "    \"\"\"\n",
    "    Create a permutation matrix of given size that permutes rows from source_indices to target_indices.\n",
    "\n",
    "    :param size: Size of the square permutation matrix\n",
    "    :param source_indices: List of indices to be permuted\n",
    "    :param target_indices: List of target indices where source indices should be moved\n",
    "    :return: Permutation matrix of size 'size x size'\n",
    "    \"\"\"\n",
    "    if len(source_indices) != len(target_indices):\n",
    "        raise ValueError(\"Source and target indices lists must be of the same length\")\n",
    "\n",
    "    # Create an identity matrix\n",
    "    perm_matrix = np.identity(size)\n",
    "\n",
    "    # Apply the permutations\n",
    "    for src, tgt in zip(source_indices, target_indices):\n",
    "        perm_matrix[[src, tgt]] = perm_matrix[[tgt, src]]\n",
    "\n",
    "    return perm_matrix"
   ]
  },
  {
   "cell_type": "code",
   "execution_count": 40,
   "id": "2e5d1d40-c882-434f-bcd9-90acd7aad401",
   "metadata": {},
   "outputs": [],
   "source": [
    "m = data_dict['observations'].shape[1]\n",
    "n = data_dict['actions'].shape[1]\n",
    "\n",
    "P_s = create_permutation_matrix(m, [2, 3, 4, 11, 12, 13], [5, 6, 7, 14, 15, 16])\n",
    "P_a = create_permutation_matrix(n, [0, 1, 2], [3, 4, 5])"
   ]
  },
  {
   "cell_type": "code",
   "execution_count": 41,
   "id": "f1e56ac4-b65b-4c53-892b-4ed71ce3ec1e",
   "metadata": {},
   "outputs": [
    {
     "data": {
      "text/plain": [
       "(array([[1., 0., 0., 0., 0., 0., 0., 0., 0., 0., 0., 0., 0., 0., 0., 0.,\n",
       "         0.],\n",
       "        [0., 1., 0., 0., 0., 0., 0., 0., 0., 0., 0., 0., 0., 0., 0., 0.,\n",
       "         0.],\n",
       "        [0., 0., 0., 0., 0., 1., 0., 0., 0., 0., 0., 0., 0., 0., 0., 0.,\n",
       "         0.],\n",
       "        [0., 0., 0., 0., 0., 0., 1., 0., 0., 0., 0., 0., 0., 0., 0., 0.,\n",
       "         0.],\n",
       "        [0., 0., 0., 0., 0., 0., 0., 1., 0., 0., 0., 0., 0., 0., 0., 0.,\n",
       "         0.],\n",
       "        [0., 0., 1., 0., 0., 0., 0., 0., 0., 0., 0., 0., 0., 0., 0., 0.,\n",
       "         0.],\n",
       "        [0., 0., 0., 1., 0., 0., 0., 0., 0., 0., 0., 0., 0., 0., 0., 0.,\n",
       "         0.],\n",
       "        [0., 0., 0., 0., 1., 0., 0., 0., 0., 0., 0., 0., 0., 0., 0., 0.,\n",
       "         0.],\n",
       "        [0., 0., 0., 0., 0., 0., 0., 0., 1., 0., 0., 0., 0., 0., 0., 0.,\n",
       "         0.],\n",
       "        [0., 0., 0., 0., 0., 0., 0., 0., 0., 1., 0., 0., 0., 0., 0., 0.,\n",
       "         0.],\n",
       "        [0., 0., 0., 0., 0., 0., 0., 0., 0., 0., 1., 0., 0., 0., 0., 0.,\n",
       "         0.],\n",
       "        [0., 0., 0., 0., 0., 0., 0., 0., 0., 0., 0., 0., 0., 0., 1., 0.,\n",
       "         0.],\n",
       "        [0., 0., 0., 0., 0., 0., 0., 0., 0., 0., 0., 0., 0., 0., 0., 1.,\n",
       "         0.],\n",
       "        [0., 0., 0., 0., 0., 0., 0., 0., 0., 0., 0., 0., 0., 0., 0., 0.,\n",
       "         1.],\n",
       "        [0., 0., 0., 0., 0., 0., 0., 0., 0., 0., 0., 1., 0., 0., 0., 0.,\n",
       "         0.],\n",
       "        [0., 0., 0., 0., 0., 0., 0., 0., 0., 0., 0., 0., 1., 0., 0., 0.,\n",
       "         0.],\n",
       "        [0., 0., 0., 0., 0., 0., 0., 0., 0., 0., 0., 0., 0., 1., 0., 0.,\n",
       "         0.]]),\n",
       " array([[0., 0., 0., 1., 0., 0.],\n",
       "        [0., 0., 0., 0., 1., 0.],\n",
       "        [0., 0., 0., 0., 0., 1.],\n",
       "        [1., 0., 0., 0., 0., 0.],\n",
       "        [0., 1., 0., 0., 0., 0.],\n",
       "        [0., 0., 1., 0., 0., 0.]]))"
      ]
     },
     "execution_count": 41,
     "metadata": {},
     "output_type": "execute_result"
    }
   ],
   "source": [
    "P_s, P_a"
   ]
  },
  {
   "cell_type": "code",
   "execution_count": 42,
   "id": "eae5ca88-7ace-4604-890e-a39953714402",
   "metadata": {},
   "outputs": [],
   "source": [
    "def augment_data(data_dict, P_s, P_a):\n",
    "    # Vectorized transformation\n",
    "    transformed_observations = np.dot(data_dict['observations'], P_s.T)  # Transpose if necessary\n",
    "    transformed_actions = np.dot(data_dict['actions'], P_a.T)            # Transpose if necessary\n",
    "    \n",
    "    data_dict['observations'] = np.concatenate((data_dict['observations'], transformed_observations), axis=0)\n",
    "    data_dict['actions'] = np.concatenate((data_dict['actions'], transformed_actions), axis=0)\n",
    "    data_dict['terminals'] = np.concatenate((data_dict['terminals'], data_dict['terminals']))\n",
    "    data_dict['rewards'] = np.concatenate((data_dict['rewards'], data_dict['rewards']))\n",
    "    data_dict['timeouts'] = np.concatenate((data_dict['timeouts'], data_dict['timeouts']))"
   ]
  },
  {
   "cell_type": "code",
   "execution_count": 43,
   "id": "8d9fba38-b8f3-4518-a4f7-cf7a55b2dc1a",
   "metadata": {},
   "outputs": [],
   "source": [
    "augment_data(data_dict, P_s, P_a)"
   ]
  },
  {
   "cell_type": "code",
   "execution_count": 44,
   "id": "2195b28e-3215-4fbf-85a5-64f447e4fccd",
   "metadata": {},
   "outputs": [],
   "source": [
    "dataset = MDPDataset(data_dict['observations'], data_dict['actions'], data_dict['rewards'], np.logical_or(data_dict['terminals'], data_dict['timeouts']))\n",
    "del data_dict"
   ]
  },
  {
   "cell_type": "markdown",
   "id": "cca632bf-1bea-4f3b-b65e-135ad924a93b",
   "metadata": {},
   "source": [
    "## Training"
   ]
  },
  {
   "cell_type": "code",
   "execution_count": 31,
   "id": "c6843c5c-4c8b-4335-bb77-b10b21567977",
   "metadata": {},
   "outputs": [],
   "source": [
    "train_episodes, test_episodes = train_test_split(dataset, random_state=seed, train_size=0.1)"
   ]
  },
  {
   "cell_type": "code",
   "execution_count": 32,
   "id": "9a71728e-3afe-45c0-a61c-2a448b3d0832",
   "metadata": {},
   "outputs": [],
   "source": [
    "#encoder_factory = encoders.SymmetryEncoderFactory(project=inverted_pendulum_project, projection_size=projection_size)\n",
    "#dynamics = d3rlpy.dynamics.ProbabilisticEnsembleDynamics(learning_rate=1e-4, use_gpu=True, state_encoder_factory=encoder_factory)\n",
    "dynamics = d3rlpy.dynamics.ProbabilisticEnsembleDynamics(learning_rate=1e-4, use_gpu=True) # Baseline"
   ]
  },
  {
   "cell_type": "code",
   "execution_count": null,
   "id": "7e98c06b-d6c3-41d6-bfba-4de0d5fa9bf9",
   "metadata": {},
   "outputs": [
    {
     "name": "stdout",
     "output_type": "stream",
     "text": [
      "\u001b[2m2023-11-14 21:29:08\u001b[0m [\u001b[32m\u001b[1mdebug    \u001b[0m] \u001b[1mRoundIterator is selected.\u001b[0m\n",
      "\u001b[2m2023-11-14 21:29:08\u001b[0m [\u001b[32m\u001b[1minfo     \u001b[0m] \u001b[1mDirectory is created at d3rlpy_logs/SeparateStateAndRewardEncoders_20231114212908\u001b[0m\n",
      "\u001b[2m2023-11-14 21:29:08\u001b[0m [\u001b[32m\u001b[1mdebug    \u001b[0m] \u001b[1mBuilding models...\u001b[0m\n",
      "\u001b[2m2023-11-14 21:29:08\u001b[0m [\u001b[32m\u001b[1mdebug    \u001b[0m] \u001b[1mModels have been built.\u001b[0m\n",
      "\u001b[2m2023-11-14 21:29:08\u001b[0m [\u001b[32m\u001b[1minfo     \u001b[0m] \u001b[1mParameters are saved to d3rlpy_logs/SeparateStateAndRewardEncoders_20231114212908/params.json\u001b[0m \u001b[36mparams\u001b[0m=\u001b[35m{'action_scaler': None, 'batch_size': 100, 'discrete_action': False, 'gamma': 1.0, 'generated_maxlen': 100000, 'learning_rate': 0.0001, 'n_ensembles': 5, 'n_frames': 1, 'n_steps': 1, 'optim_factory': {'optim_cls': 'Adam', 'betas': (0.9, 0.999), 'eps': 1e-08, 'weight_decay': 0.0001, 'amsgrad': False}, 'real_ratio': 1.0, 'reward_encoder_factory': {'type': 'default', 'params': {'activation': 'relu', 'use_batch_norm': False, 'dropout_rate': None}}, 'reward_scaler': None, 'scaler': None, 'state_encoder_factory': {'type': 'default', 'params': {'activation': 'relu', 'use_batch_norm': False, 'dropout_rate': None}}, 'use_gpu': 0, 'variance_type': 'max', 'algorithm': 'ProbabilisticEnsembleDynamics', 'observation_shape': (17,), 'action_size': 6}\u001b[0m\n"
     ]
    },
    {
     "data": {
      "application/vnd.jupyter.widget-view+json": {
       "model_id": "c0f0848e6a934a5bbeb719c88632201a",
       "version_major": 2,
       "version_minor": 0
      },
      "text/plain": [
       "Epoch 1/100:   0%|          | 0/992 [00:00<?, ?it/s]"
      ]
     },
     "metadata": {},
     "output_type": "display_data"
    },
    {
     "name": "stdout",
     "output_type": "stream",
     "text": [
      "\u001b[2m2023-11-14 21:29:57\u001b[0m [\u001b[32m\u001b[1minfo     \u001b[0m] \u001b[1mSeparateStateAndRewardEncoders_20231114212908: epoch=1 step=992\u001b[0m \u001b[36mepoch\u001b[0m=\u001b[35m1\u001b[0m \u001b[36mmetrics\u001b[0m=\u001b[35m{'time_sample_batch': 0.00025271119609955817, 'time_algorithm_update': 0.02303843056001971, 'loss': -39.001211083471595, 'time_step': 0.023374602919624697, 'observation_error': 43.4004609201577, 'reward_error': 0.016453990222475432, 'variance': 22.547224731700684}\u001b[0m \u001b[36mstep\u001b[0m=\u001b[35m992\u001b[0m\n",
      "\u001b[2m2023-11-14 21:29:57\u001b[0m [\u001b[32m\u001b[1minfo     \u001b[0m] \u001b[1mModel parameters are saved to d3rlpy_logs/SeparateStateAndRewardEncoders_20231114212908/model_992.pt\u001b[0m\n"
     ]
    },
    {
     "data": {
      "application/vnd.jupyter.widget-view+json": {
       "model_id": "1aa53328e757474a9c21c739e6ce464b",
       "version_major": 2,
       "version_minor": 0
      },
      "text/plain": [
       "Epoch 2/100:   0%|          | 0/992 [00:00<?, ?it/s]"
      ]
     },
     "metadata": {},
     "output_type": "display_data"
    },
    {
     "name": "stdout",
     "output_type": "stream",
     "text": [
      "\u001b[2m2023-11-14 21:30:41\u001b[0m [\u001b[32m\u001b[1minfo     \u001b[0m] \u001b[1mSeparateStateAndRewardEncoders_20231114212908: epoch=2 step=1984\u001b[0m \u001b[36mepoch\u001b[0m=\u001b[35m2\u001b[0m \u001b[36mmetrics\u001b[0m=\u001b[35m{'time_sample_batch': 0.00023783887586285992, 'time_algorithm_update': 0.022105127332671996, 'loss': -61.47404948021135, 'time_step': 0.02241803249043803, 'observation_error': 45.788177242730626, 'reward_error': 0.01016925438169652, 'variance': 25.64507883825302}\u001b[0m \u001b[36mstep\u001b[0m=\u001b[35m1984\u001b[0m\n",
      "\u001b[2m2023-11-14 21:30:41\u001b[0m [\u001b[32m\u001b[1minfo     \u001b[0m] \u001b[1mModel parameters are saved to d3rlpy_logs/SeparateStateAndRewardEncoders_20231114212908/model_1984.pt\u001b[0m\n"
     ]
    },
    {
     "data": {
      "application/vnd.jupyter.widget-view+json": {
       "model_id": "8c0598dfddda4c479093933db79af66e",
       "version_major": 2,
       "version_minor": 0
      },
      "text/plain": [
       "Epoch 3/100:   0%|          | 0/992 [00:00<?, ?it/s]"
      ]
     },
     "metadata": {},
     "output_type": "display_data"
    },
    {
     "name": "stdout",
     "output_type": "stream",
     "text": [
      "\u001b[2m2023-11-14 21:31:26\u001b[0m [\u001b[32m\u001b[1minfo     \u001b[0m] \u001b[1mSeparateStateAndRewardEncoders_20231114212908: epoch=3 step=2976\u001b[0m \u001b[36mepoch\u001b[0m=\u001b[35m3\u001b[0m \u001b[36mmetrics\u001b[0m=\u001b[35m{'time_sample_batch': 0.00024711436802341095, 'time_algorithm_update': 0.021937623620033264, 'loss': -67.79079784933597, 'time_step': 0.02225967232258089, 'observation_error': 44.49805901259089, 'reward_error': 0.006933039223354913, 'variance': 24.591408610806464}\u001b[0m \u001b[36mstep\u001b[0m=\u001b[35m2976\u001b[0m\n",
      "\u001b[2m2023-11-14 21:31:26\u001b[0m [\u001b[32m\u001b[1minfo     \u001b[0m] \u001b[1mModel parameters are saved to d3rlpy_logs/SeparateStateAndRewardEncoders_20231114212908/model_2976.pt\u001b[0m\n"
     ]
    },
    {
     "data": {
      "application/vnd.jupyter.widget-view+json": {
       "model_id": "6f3d900eeaff459ebdcb01eafb370ad1",
       "version_major": 2,
       "version_minor": 0
      },
      "text/plain": [
       "Epoch 4/100:   0%|          | 0/992 [00:00<?, ?it/s]"
      ]
     },
     "metadata": {},
     "output_type": "display_data"
    },
    {
     "name": "stdout",
     "output_type": "stream",
     "text": [
      "\u001b[2m2023-11-14 21:32:11\u001b[0m [\u001b[32m\u001b[1minfo     \u001b[0m] \u001b[1mSeparateStateAndRewardEncoders_20231114212908: epoch=4 step=3968\u001b[0m \u001b[36mepoch\u001b[0m=\u001b[35m4\u001b[0m \u001b[36mmetrics\u001b[0m=\u001b[35m{'time_sample_batch': 0.00025936600662046863, 'time_algorithm_update': 0.021747652801775163, 'loss': -74.69141447640234, 'time_step': 0.0220895299027043, 'observation_error': 45.85024042346825, 'reward_error': 0.005845018692515095, 'variance': 26.463211435627407}\u001b[0m \u001b[36mstep\u001b[0m=\u001b[35m3968\u001b[0m\n",
      "\u001b[2m2023-11-14 21:32:11\u001b[0m [\u001b[32m\u001b[1minfo     \u001b[0m] \u001b[1mModel parameters are saved to d3rlpy_logs/SeparateStateAndRewardEncoders_20231114212908/model_3968.pt\u001b[0m\n"
     ]
    },
    {
     "data": {
      "application/vnd.jupyter.widget-view+json": {
       "model_id": "e19e18bc7d7545cc82faa25ec0584fb9",
       "version_major": 2,
       "version_minor": 0
      },
      "text/plain": [
       "Epoch 5/100:   0%|          | 0/992 [00:00<?, ?it/s]"
      ]
     },
     "metadata": {},
     "output_type": "display_data"
    },
    {
     "name": "stdout",
     "output_type": "stream",
     "text": [
      "\u001b[2m2023-11-14 21:32:56\u001b[0m [\u001b[32m\u001b[1minfo     \u001b[0m] \u001b[1mSeparateStateAndRewardEncoders_20231114212908: epoch=5 step=4960\u001b[0m \u001b[36mepoch\u001b[0m=\u001b[35m5\u001b[0m \u001b[36mmetrics\u001b[0m=\u001b[35m{'time_sample_batch': 0.0002511559474852777, 'time_algorithm_update': 0.021507944070523786, 'loss': -78.57217763796929, 'time_step': 0.021839108918943712, 'observation_error': 44.76986706569223, 'reward_error': 0.0048291328347295, 'variance': 25.45745202042262}\u001b[0m \u001b[36mstep\u001b[0m=\u001b[35m4960\u001b[0m\n",
      "\u001b[2m2023-11-14 21:32:56\u001b[0m [\u001b[32m\u001b[1minfo     \u001b[0m] \u001b[1mModel parameters are saved to d3rlpy_logs/SeparateStateAndRewardEncoders_20231114212908/model_4960.pt\u001b[0m\n"
     ]
    },
    {
     "data": {
      "application/vnd.jupyter.widget-view+json": {
       "model_id": "5b3840d85e6d4beab0632746c6f4b22c",
       "version_major": 2,
       "version_minor": 0
      },
      "text/plain": [
       "Epoch 6/100:   0%|          | 0/992 [00:00<?, ?it/s]"
      ]
     },
     "metadata": {},
     "output_type": "display_data"
    },
    {
     "name": "stdout",
     "output_type": "stream",
     "text": [
      "\u001b[2m2023-11-14 21:33:40\u001b[0m [\u001b[32m\u001b[1minfo     \u001b[0m] \u001b[1mSeparateStateAndRewardEncoders_20231114212908: epoch=6 step=5952\u001b[0m \u001b[36mepoch\u001b[0m=\u001b[35m6\u001b[0m \u001b[36mmetrics\u001b[0m=\u001b[35m{'time_sample_batch': 0.0002404439353173779, 'time_algorithm_update': 0.021496439172375585, 'loss': -81.94514847474713, 'time_step': 0.021814471771640163, 'observation_error': 45.26272444978763, 'reward_error': 0.004156605407183281, 'variance': 26.632990397714508}\u001b[0m \u001b[36mstep\u001b[0m=\u001b[35m5952\u001b[0m\n",
      "\u001b[2m2023-11-14 21:33:40\u001b[0m [\u001b[32m\u001b[1minfo     \u001b[0m] \u001b[1mModel parameters are saved to d3rlpy_logs/SeparateStateAndRewardEncoders_20231114212908/model_5952.pt\u001b[0m\n"
     ]
    },
    {
     "data": {
      "application/vnd.jupyter.widget-view+json": {
       "model_id": "2b1e0b5d09cf496c8694e101aca48e5d",
       "version_major": 2,
       "version_minor": 0
      },
      "text/plain": [
       "Epoch 7/100:   0%|          | 0/992 [00:00<?, ?it/s]"
      ]
     },
     "metadata": {},
     "output_type": "display_data"
    },
    {
     "name": "stdout",
     "output_type": "stream",
     "text": [
      "\u001b[2m2023-11-14 21:34:24\u001b[0m [\u001b[32m\u001b[1minfo     \u001b[0m] \u001b[1mSeparateStateAndRewardEncoders_20231114212908: epoch=7 step=6944\u001b[0m \u001b[36mepoch\u001b[0m=\u001b[35m7\u001b[0m \u001b[36mmetrics\u001b[0m=\u001b[35m{'time_sample_batch': 0.00024880108333403064, 'time_algorithm_update': 0.0214360517359549, 'loss': -81.92895012973777, 'time_step': 0.021762563576621395, 'observation_error': 43.26217115602332, 'reward_error': 0.0041001422333044515, 'variance': 24.713204239645535}\u001b[0m \u001b[36mstep\u001b[0m=\u001b[35m6944\u001b[0m\n",
      "\u001b[2m2023-11-14 21:34:24\u001b[0m [\u001b[32m\u001b[1minfo     \u001b[0m] \u001b[1mModel parameters are saved to d3rlpy_logs/SeparateStateAndRewardEncoders_20231114212908/model_6944.pt\u001b[0m\n"
     ]
    },
    {
     "data": {
      "application/vnd.jupyter.widget-view+json": {
       "model_id": "f29ed989a5d94e779592ce3999284323",
       "version_major": 2,
       "version_minor": 0
      },
      "text/plain": [
       "Epoch 8/100:   0%|          | 0/992 [00:00<?, ?it/s]"
      ]
     },
     "metadata": {},
     "output_type": "display_data"
    },
    {
     "name": "stdout",
     "output_type": "stream",
     "text": [
      "\u001b[2m2023-11-14 21:35:11\u001b[0m [\u001b[32m\u001b[1minfo     \u001b[0m] \u001b[1mSeparateStateAndRewardEncoders_20231114212908: epoch=8 step=7936\u001b[0m \u001b[36mepoch\u001b[0m=\u001b[35m8\u001b[0m \u001b[36mmetrics\u001b[0m=\u001b[35m{'time_sample_batch': 0.0002664041615301563, 'time_algorithm_update': 0.022456519546047334, 'loss': -83.14716051566985, 'time_step': 0.022806797056428848, 'observation_error': 43.07792462208441, 'reward_error': 0.0034702222157408187, 'variance': 24.564442231557106}\u001b[0m \u001b[36mstep\u001b[0m=\u001b[35m7936\u001b[0m\n",
      "\u001b[2m2023-11-14 21:35:11\u001b[0m [\u001b[32m\u001b[1minfo     \u001b[0m] \u001b[1mModel parameters are saved to d3rlpy_logs/SeparateStateAndRewardEncoders_20231114212908/model_7936.pt\u001b[0m\n"
     ]
    },
    {
     "data": {
      "application/vnd.jupyter.widget-view+json": {
       "model_id": "c01aad0433214318b7ec67886f41bfcb",
       "version_major": 2,
       "version_minor": 0
      },
      "text/plain": [
       "Epoch 9/100:   0%|          | 0/992 [00:00<?, ?it/s]"
      ]
     },
     "metadata": {},
     "output_type": "display_data"
    },
    {
     "name": "stdout",
     "output_type": "stream",
     "text": [
      "\u001b[2m2023-11-14 21:35:58\u001b[0m [\u001b[32m\u001b[1minfo     \u001b[0m] \u001b[1mSeparateStateAndRewardEncoders_20231114212908: epoch=9 step=8928\u001b[0m \u001b[36mepoch\u001b[0m=\u001b[35m9\u001b[0m \u001b[36mmetrics\u001b[0m=\u001b[35m{'time_sample_batch': 0.00028344291833139234, 'time_algorithm_update': 0.02430772348757713, 'loss': -84.99661736863274, 'time_step': 0.024677270122112765, 'observation_error': 42.61580233932553, 'reward_error': 0.0030587134146211063, 'variance': 24.469036133569613}\u001b[0m \u001b[36mstep\u001b[0m=\u001b[35m8928\u001b[0m\n",
      "\u001b[2m2023-11-14 21:35:58\u001b[0m [\u001b[32m\u001b[1minfo     \u001b[0m] \u001b[1mModel parameters are saved to d3rlpy_logs/SeparateStateAndRewardEncoders_20231114212908/model_8928.pt\u001b[0m\n"
     ]
    },
    {
     "data": {
      "application/vnd.jupyter.widget-view+json": {
       "model_id": "c4bd80d3852542ec853864fe2fccf6fe",
       "version_major": 2,
       "version_minor": 0
      },
      "text/plain": [
       "Epoch 10/100:   0%|          | 0/992 [00:00<?, ?it/s]"
      ]
     },
     "metadata": {},
     "output_type": "display_data"
    },
    {
     "name": "stdout",
     "output_type": "stream",
     "text": [
      "\u001b[2m2023-11-14 21:36:44\u001b[0m [\u001b[32m\u001b[1minfo     \u001b[0m] \u001b[1mSeparateStateAndRewardEncoders_20231114212908: epoch=10 step=9920\u001b[0m \u001b[36mepoch\u001b[0m=\u001b[35m10\u001b[0m \u001b[36mmetrics\u001b[0m=\u001b[35m{'time_sample_batch': 0.00026531156993681384, 'time_algorithm_update': 0.023085130078177297, 'loss': -87.97647725574431, 'time_step': 0.023434124165965665, 'observation_error': 42.89843110032249, 'reward_error': 0.003304284340692829, 'variance': 24.960855157132677}\u001b[0m \u001b[36mstep\u001b[0m=\u001b[35m9920\u001b[0m\n",
      "\u001b[2m2023-11-14 21:36:44\u001b[0m [\u001b[32m\u001b[1minfo     \u001b[0m] \u001b[1mModel parameters are saved to d3rlpy_logs/SeparateStateAndRewardEncoders_20231114212908/model_9920.pt\u001b[0m\n"
     ]
    },
    {
     "data": {
      "application/vnd.jupyter.widget-view+json": {
       "model_id": "5f429a77c5654a8ca041f0e3b8ebb7d5",
       "version_major": 2,
       "version_minor": 0
      },
      "text/plain": [
       "Epoch 11/100:   0%|          | 0/992 [00:00<?, ?it/s]"
      ]
     },
     "metadata": {},
     "output_type": "display_data"
    },
    {
     "name": "stdout",
     "output_type": "stream",
     "text": [
      "\u001b[2m2023-11-14 21:37:29\u001b[0m [\u001b[32m\u001b[1minfo     \u001b[0m] \u001b[1mSeparateStateAndRewardEncoders_20231114212908: epoch=11 step=10912\u001b[0m \u001b[36mepoch\u001b[0m=\u001b[35m11\u001b[0m \u001b[36mmetrics\u001b[0m=\u001b[35m{'time_sample_batch': 0.00025957822799682617, 'time_algorithm_update': 0.022305217481428576, 'loss': -89.1849231448385, 'time_step': 0.022643088333068356, 'observation_error': 41.99172514934505, 'reward_error': 0.0028869631116271426, 'variance': 24.01629369482676}\u001b[0m \u001b[36mstep\u001b[0m=\u001b[35m10912\u001b[0m\n",
      "\u001b[2m2023-11-14 21:37:29\u001b[0m [\u001b[32m\u001b[1minfo     \u001b[0m] \u001b[1mModel parameters are saved to d3rlpy_logs/SeparateStateAndRewardEncoders_20231114212908/model_10912.pt\u001b[0m\n"
     ]
    },
    {
     "data": {
      "application/vnd.jupyter.widget-view+json": {
       "model_id": "405ddb6404c747bb88cdf618864a616f",
       "version_major": 2,
       "version_minor": 0
      },
      "text/plain": [
       "Epoch 12/100:   0%|          | 0/992 [00:00<?, ?it/s]"
      ]
     },
     "metadata": {},
     "output_type": "display_data"
    },
    {
     "name": "stdout",
     "output_type": "stream",
     "text": [
      "\u001b[2m2023-11-14 21:38:15\u001b[0m [\u001b[32m\u001b[1minfo     \u001b[0m] \u001b[1mSeparateStateAndRewardEncoders_20231114212908: epoch=12 step=11904\u001b[0m \u001b[36mepoch\u001b[0m=\u001b[35m12\u001b[0m \u001b[36mmetrics\u001b[0m=\u001b[35m{'time_sample_batch': 0.00025974262145257764, 'time_algorithm_update': 0.02295404456315502, 'loss': -88.98211520477649, 'time_step': 0.023297443745597717, 'observation_error': 41.164219686232656, 'reward_error': 0.002695837908053498, 'variance': 23.130759933456314}\u001b[0m \u001b[36mstep\u001b[0m=\u001b[35m11904\u001b[0m\n",
      "\u001b[2m2023-11-14 21:38:15\u001b[0m [\u001b[32m\u001b[1minfo     \u001b[0m] \u001b[1mModel parameters are saved to d3rlpy_logs/SeparateStateAndRewardEncoders_20231114212908/model_11904.pt\u001b[0m\n"
     ]
    },
    {
     "data": {
      "application/vnd.jupyter.widget-view+json": {
       "model_id": "0171aeff9f524c65bee638ff56cb0cb7",
       "version_major": 2,
       "version_minor": 0
      },
      "text/plain": [
       "Epoch 13/100:   0%|          | 0/992 [00:00<?, ?it/s]"
      ]
     },
     "metadata": {},
     "output_type": "display_data"
    },
    {
     "name": "stdout",
     "output_type": "stream",
     "text": [
      "\u001b[2m2023-11-14 21:38:59\u001b[0m [\u001b[32m\u001b[1minfo     \u001b[0m] \u001b[1mSeparateStateAndRewardEncoders_20231114212908: epoch=13 step=12896\u001b[0m \u001b[36mepoch\u001b[0m=\u001b[35m13\u001b[0m \u001b[36mmetrics\u001b[0m=\u001b[35m{'time_sample_batch': 0.00023465002736737652, 'time_algorithm_update': 0.02098147931598848, 'loss': -90.67705409853689, 'time_step': 0.021295300174144008, 'observation_error': 41.83776258460376, 'reward_error': 0.0027422549499183557, 'variance': 24.328460015499857}\u001b[0m \u001b[36mstep\u001b[0m=\u001b[35m12896\u001b[0m\n",
      "\u001b[2m2023-11-14 21:38:59\u001b[0m [\u001b[32m\u001b[1minfo     \u001b[0m] \u001b[1mModel parameters are saved to d3rlpy_logs/SeparateStateAndRewardEncoders_20231114212908/model_12896.pt\u001b[0m\n"
     ]
    },
    {
     "data": {
      "application/vnd.jupyter.widget-view+json": {
       "model_id": "d449639f6d4a425c990bc5cc88e8ee98",
       "version_major": 2,
       "version_minor": 0
      },
      "text/plain": [
       "Epoch 14/100:   0%|          | 0/992 [00:00<?, ?it/s]"
      ]
     },
     "metadata": {},
     "output_type": "display_data"
    },
    {
     "name": "stdout",
     "output_type": "stream",
     "text": [
      "\u001b[2m2023-11-14 21:39:42\u001b[0m [\u001b[32m\u001b[1minfo     \u001b[0m] \u001b[1mSeparateStateAndRewardEncoders_20231114212908: epoch=14 step=13888\u001b[0m \u001b[36mepoch\u001b[0m=\u001b[35m14\u001b[0m \u001b[36mmetrics\u001b[0m=\u001b[35m{'time_sample_batch': 0.00022601336240768433, 'time_algorithm_update': 0.020629445871999188, 'loss': -92.56963223795736, 'time_step': 0.020928800827072512, 'observation_error': 42.15852065521219, 'reward_error': 0.002913096507448536, 'variance': 24.86005408998516}\u001b[0m \u001b[36mstep\u001b[0m=\u001b[35m13888\u001b[0m\n",
      "\u001b[2m2023-11-14 21:39:42\u001b[0m [\u001b[32m\u001b[1minfo     \u001b[0m] \u001b[1mModel parameters are saved to d3rlpy_logs/SeparateStateAndRewardEncoders_20231114212908/model_13888.pt\u001b[0m\n"
     ]
    },
    {
     "data": {
      "application/vnd.jupyter.widget-view+json": {
       "model_id": "de9c1c0e8bf145f0a1dc443f0b9a84b6",
       "version_major": 2,
       "version_minor": 0
      },
      "text/plain": [
       "Epoch 15/100:   0%|          | 0/992 [00:00<?, ?it/s]"
      ]
     },
     "metadata": {},
     "output_type": "display_data"
    },
    {
     "name": "stdout",
     "output_type": "stream",
     "text": [
      "\u001b[2m2023-11-14 21:40:29\u001b[0m [\u001b[32m\u001b[1minfo     \u001b[0m] \u001b[1mSeparateStateAndRewardEncoders_20231114212908: epoch=15 step=14880\u001b[0m \u001b[36mepoch\u001b[0m=\u001b[35m15\u001b[0m \u001b[36mmetrics\u001b[0m=\u001b[35m{'time_sample_batch': 0.00024989271356213477, 'time_algorithm_update': 0.02204003401340977, 'loss': -93.6434417270845, 'time_step': 0.022369569588092067, 'observation_error': 41.93543645186048, 'reward_error': 0.0026039604063509206, 'variance': 24.42482462204377}\u001b[0m \u001b[36mstep\u001b[0m=\u001b[35m14880\u001b[0m\n",
      "\u001b[2m2023-11-14 21:40:29\u001b[0m [\u001b[32m\u001b[1minfo     \u001b[0m] \u001b[1mModel parameters are saved to d3rlpy_logs/SeparateStateAndRewardEncoders_20231114212908/model_14880.pt\u001b[0m\n"
     ]
    },
    {
     "data": {
      "application/vnd.jupyter.widget-view+json": {
       "model_id": "6d723d362a27433ebbb82a4d010fb411",
       "version_major": 2,
       "version_minor": 0
      },
      "text/plain": [
       "Epoch 16/100:   0%|          | 0/992 [00:00<?, ?it/s]"
      ]
     },
     "metadata": {},
     "output_type": "display_data"
    },
    {
     "name": "stdout",
     "output_type": "stream",
     "text": [
      "\u001b[2m2023-11-14 21:41:17\u001b[0m [\u001b[32m\u001b[1minfo     \u001b[0m] \u001b[1mSeparateStateAndRewardEncoders_20231114212908: epoch=16 step=15872\u001b[0m \u001b[36mepoch\u001b[0m=\u001b[35m16\u001b[0m \u001b[36mmetrics\u001b[0m=\u001b[35m{'time_sample_batch': 0.0003098323941230774, 'time_algorithm_update': 0.02524277832238905, 'loss': -93.78991958402818, 'time_step': 0.02564683989171059, 'observation_error': 41.795409739401705, 'reward_error': 0.002419652874858201, 'variance': 24.927843386674457}\u001b[0m \u001b[36mstep\u001b[0m=\u001b[35m15872\u001b[0m\n",
      "\u001b[2m2023-11-14 21:41:17\u001b[0m [\u001b[32m\u001b[1minfo     \u001b[0m] \u001b[1mModel parameters are saved to d3rlpy_logs/SeparateStateAndRewardEncoders_20231114212908/model_15872.pt\u001b[0m\n"
     ]
    },
    {
     "data": {
      "application/vnd.jupyter.widget-view+json": {
       "model_id": "263de26cdf1648dcad84a6cbbd90b4b8",
       "version_major": 2,
       "version_minor": 0
      },
      "text/plain": [
       "Epoch 17/100:   0%|          | 0/992 [00:00<?, ?it/s]"
      ]
     },
     "metadata": {},
     "output_type": "display_data"
    },
    {
     "name": "stdout",
     "output_type": "stream",
     "text": [
      "\u001b[2m2023-11-14 21:42:03\u001b[0m [\u001b[32m\u001b[1minfo     \u001b[0m] \u001b[1mSeparateStateAndRewardEncoders_20231114212908: epoch=17 step=16864\u001b[0m \u001b[36mepoch\u001b[0m=\u001b[35m17\u001b[0m \u001b[36mmetrics\u001b[0m=\u001b[35m{'time_sample_batch': 0.000273175056903593, 'time_algorithm_update': 0.022786877568691008, 'loss': -93.90226104158548, 'time_step': 0.023142130865204717, 'observation_error': 42.58333749451807, 'reward_error': 0.0025786850504204376, 'variance': 26.28943162711938}\u001b[0m \u001b[36mstep\u001b[0m=\u001b[35m16864\u001b[0m\n",
      "\u001b[2m2023-11-14 21:42:03\u001b[0m [\u001b[32m\u001b[1minfo     \u001b[0m] \u001b[1mModel parameters are saved to d3rlpy_logs/SeparateStateAndRewardEncoders_20231114212908/model_16864.pt\u001b[0m\n"
     ]
    },
    {
     "data": {
      "application/vnd.jupyter.widget-view+json": {
       "model_id": "3ccc4756b0084a7b8e5df06c9b518b52",
       "version_major": 2,
       "version_minor": 0
      },
      "text/plain": [
       "Epoch 18/100:   0%|          | 0/992 [00:00<?, ?it/s]"
      ]
     },
     "metadata": {},
     "output_type": "display_data"
    },
    {
     "name": "stdout",
     "output_type": "stream",
     "text": [
      "\u001b[2m2023-11-14 21:42:48\u001b[0m [\u001b[32m\u001b[1minfo     \u001b[0m] \u001b[1mSeparateStateAndRewardEncoders_20231114212908: epoch=18 step=17856\u001b[0m \u001b[36mepoch\u001b[0m=\u001b[35m18\u001b[0m \u001b[36mmetrics\u001b[0m=\u001b[35m{'time_sample_batch': 0.00024163867196729108, 'time_algorithm_update': 0.021488349283895185, 'loss': -95.17271502171793, 'time_step': 0.02180691135506476, 'observation_error': 42.16797164353208, 'reward_error': 0.0025507404056083383, 'variance': 25.509545483772225}\u001b[0m \u001b[36mstep\u001b[0m=\u001b[35m17856\u001b[0m\n",
      "\u001b[2m2023-11-14 21:42:48\u001b[0m [\u001b[32m\u001b[1minfo     \u001b[0m] \u001b[1mModel parameters are saved to d3rlpy_logs/SeparateStateAndRewardEncoders_20231114212908/model_17856.pt\u001b[0m\n"
     ]
    },
    {
     "data": {
      "application/vnd.jupyter.widget-view+json": {
       "model_id": "712fc5e6b4504a02aef6486affa801a6",
       "version_major": 2,
       "version_minor": 0
      },
      "text/plain": [
       "Epoch 19/100:   0%|          | 0/992 [00:00<?, ?it/s]"
      ]
     },
     "metadata": {},
     "output_type": "display_data"
    },
    {
     "name": "stdout",
     "output_type": "stream",
     "text": [
      "\u001b[2m2023-11-14 21:43:36\u001b[0m [\u001b[32m\u001b[1minfo     \u001b[0m] \u001b[1mSeparateStateAndRewardEncoders_20231114212908: epoch=19 step=18848\u001b[0m \u001b[36mepoch\u001b[0m=\u001b[35m19\u001b[0m \u001b[36mmetrics\u001b[0m=\u001b[35m{'time_sample_batch': 0.00030480637665717834, 'time_algorithm_update': 0.02460837027718944, 'loss': -98.95077873526081, 'time_step': 0.025002616788110426, 'observation_error': 40.972890222735494, 'reward_error': 0.002486894492662727, 'variance': 24.237738938955335}\u001b[0m \u001b[36mstep\u001b[0m=\u001b[35m18848\u001b[0m\n",
      "\u001b[2m2023-11-14 21:43:36\u001b[0m [\u001b[32m\u001b[1minfo     \u001b[0m] \u001b[1mModel parameters are saved to d3rlpy_logs/SeparateStateAndRewardEncoders_20231114212908/model_18848.pt\u001b[0m\n"
     ]
    },
    {
     "data": {
      "application/vnd.jupyter.widget-view+json": {
       "model_id": "f06d74fcb4a64b93b52209daaedd8cbd",
       "version_major": 2,
       "version_minor": 0
      },
      "text/plain": [
       "Epoch 20/100:   0%|          | 0/992 [00:00<?, ?it/s]"
      ]
     },
     "metadata": {},
     "output_type": "display_data"
    },
    {
     "name": "stdout",
     "output_type": "stream",
     "text": [
      "\u001b[2m2023-11-14 21:44:22\u001b[0m [\u001b[32m\u001b[1minfo     \u001b[0m] \u001b[1mSeparateStateAndRewardEncoders_20231114212908: epoch=20 step=19840\u001b[0m \u001b[36mepoch\u001b[0m=\u001b[35m20\u001b[0m \u001b[36mmetrics\u001b[0m=\u001b[35m{'time_sample_batch': 0.00026812909110899896, 'time_algorithm_update': 0.022771664444477327, 'loss': -94.27305499199898, 'time_step': 0.023118425521158403, 'observation_error': 40.95337497183383, 'reward_error': 0.002705557852593208, 'variance': 24.24772035944753}\u001b[0m \u001b[36mstep\u001b[0m=\u001b[35m19840\u001b[0m\n",
      "\u001b[2m2023-11-14 21:44:22\u001b[0m [\u001b[32m\u001b[1minfo     \u001b[0m] \u001b[1mModel parameters are saved to d3rlpy_logs/SeparateStateAndRewardEncoders_20231114212908/model_19840.pt\u001b[0m\n"
     ]
    },
    {
     "data": {
      "application/vnd.jupyter.widget-view+json": {
       "model_id": "13aa8dff1b31475487e3e140fd2efa4a",
       "version_major": 2,
       "version_minor": 0
      },
      "text/plain": [
       "Epoch 21/100:   0%|          | 0/992 [00:00<?, ?it/s]"
      ]
     },
     "metadata": {},
     "output_type": "display_data"
    },
    {
     "name": "stdout",
     "output_type": "stream",
     "text": [
      "\u001b[2m2023-11-14 21:45:08\u001b[0m [\u001b[32m\u001b[1minfo     \u001b[0m] \u001b[1mSeparateStateAndRewardEncoders_20231114212908: epoch=21 step=20832\u001b[0m \u001b[36mepoch\u001b[0m=\u001b[35m21\u001b[0m \u001b[36mmetrics\u001b[0m=\u001b[35m{'time_sample_batch': 0.0002763826520212235, 'time_algorithm_update': 0.02273425147418053, 'loss': -97.74281774124792, 'time_step': 0.023091109769959605, 'observation_error': 41.37032681062143, 'reward_error': 0.002336766256924645, 'variance': 25.375266975880464}\u001b[0m \u001b[36mstep\u001b[0m=\u001b[35m20832\u001b[0m\n",
      "\u001b[2m2023-11-14 21:45:08\u001b[0m [\u001b[32m\u001b[1minfo     \u001b[0m] \u001b[1mModel parameters are saved to d3rlpy_logs/SeparateStateAndRewardEncoders_20231114212908/model_20832.pt\u001b[0m\n"
     ]
    },
    {
     "data": {
      "application/vnd.jupyter.widget-view+json": {
       "model_id": "eea0b4a69d13432c9c83d90ffad3245a",
       "version_major": 2,
       "version_minor": 0
      },
      "text/plain": [
       "Epoch 22/100:   0%|          | 0/992 [00:00<?, ?it/s]"
      ]
     },
     "metadata": {},
     "output_type": "display_data"
    },
    {
     "name": "stdout",
     "output_type": "stream",
     "text": [
      "\u001b[2m2023-11-14 21:45:59\u001b[0m [\u001b[32m\u001b[1minfo     \u001b[0m] \u001b[1mSeparateStateAndRewardEncoders_20231114212908: epoch=22 step=21824\u001b[0m \u001b[36mepoch\u001b[0m=\u001b[35m22\u001b[0m \u001b[36mmetrics\u001b[0m=\u001b[35m{'time_sample_batch': 0.0003300426948455072, 'time_algorithm_update': 0.027525604732574954, 'loss': -99.00634179288342, 'time_step': 0.0279609618648406, 'observation_error': 40.528152484457095, 'reward_error': 0.0023284596467886658, 'variance': 23.83657875245571}\u001b[0m \u001b[36mstep\u001b[0m=\u001b[35m21824\u001b[0m\n",
      "\u001b[2m2023-11-14 21:45:59\u001b[0m [\u001b[32m\u001b[1minfo     \u001b[0m] \u001b[1mModel parameters are saved to d3rlpy_logs/SeparateStateAndRewardEncoders_20231114212908/model_21824.pt\u001b[0m\n"
     ]
    },
    {
     "data": {
      "application/vnd.jupyter.widget-view+json": {
       "model_id": "b9efbf6b281c4e1daa0fb60db326df44",
       "version_major": 2,
       "version_minor": 0
      },
      "text/plain": [
       "Epoch 23/100:   0%|          | 0/992 [00:00<?, ?it/s]"
      ]
     },
     "metadata": {},
     "output_type": "display_data"
    },
    {
     "name": "stdout",
     "output_type": "stream",
     "text": [
      "\u001b[2m2023-11-14 21:46:45\u001b[0m [\u001b[32m\u001b[1minfo     \u001b[0m] \u001b[1mSeparateStateAndRewardEncoders_20231114212908: epoch=23 step=22816\u001b[0m \u001b[36mepoch\u001b[0m=\u001b[35m23\u001b[0m \u001b[36mmetrics\u001b[0m=\u001b[35m{'time_sample_batch': 0.00026581196054335565, 'time_algorithm_update': 0.023043132357058987, 'loss': -100.39199947637897, 'time_step': 0.023386804086546743, 'observation_error': 41.64086826014276, 'reward_error': 0.0022192846746768506, 'variance': 25.795665669630235}\u001b[0m \u001b[36mstep\u001b[0m=\u001b[35m22816\u001b[0m\n",
      "\u001b[2m2023-11-14 21:46:45\u001b[0m [\u001b[32m\u001b[1minfo     \u001b[0m] \u001b[1mModel parameters are saved to d3rlpy_logs/SeparateStateAndRewardEncoders_20231114212908/model_22816.pt\u001b[0m\n"
     ]
    },
    {
     "data": {
      "application/vnd.jupyter.widget-view+json": {
       "model_id": "e9f2c18026424328af6fa8a6da16d9f2",
       "version_major": 2,
       "version_minor": 0
      },
      "text/plain": [
       "Epoch 24/100:   0%|          | 0/992 [00:00<?, ?it/s]"
      ]
     },
     "metadata": {},
     "output_type": "display_data"
    },
    {
     "name": "stdout",
     "output_type": "stream",
     "text": [
      "\u001b[2m2023-11-14 21:47:32\u001b[0m [\u001b[32m\u001b[1minfo     \u001b[0m] \u001b[1mSeparateStateAndRewardEncoders_20231114212908: epoch=24 step=23808\u001b[0m \u001b[36mepoch\u001b[0m=\u001b[35m24\u001b[0m \u001b[36mmetrics\u001b[0m=\u001b[35m{'time_sample_batch': 0.0002552386253110824, 'time_algorithm_update': 0.022815760345228257, 'loss': -100.3950082808733, 'time_step': 0.0231401004618214, 'observation_error': 41.30472613246066, 'reward_error': 0.0023891321935949534, 'variance': 25.055457111589114}\u001b[0m \u001b[36mstep\u001b[0m=\u001b[35m23808\u001b[0m\n",
      "\u001b[2m2023-11-14 21:47:32\u001b[0m [\u001b[32m\u001b[1minfo     \u001b[0m] \u001b[1mModel parameters are saved to d3rlpy_logs/SeparateStateAndRewardEncoders_20231114212908/model_23808.pt\u001b[0m\n"
     ]
    },
    {
     "data": {
      "application/vnd.jupyter.widget-view+json": {
       "model_id": "530d2f2c10bc4802a028674cb7c9af92",
       "version_major": 2,
       "version_minor": 0
      },
      "text/plain": [
       "Epoch 25/100:   0%|          | 0/992 [00:00<?, ?it/s]"
      ]
     },
     "metadata": {},
     "output_type": "display_data"
    },
    {
     "name": "stdout",
     "output_type": "stream",
     "text": [
      "\u001b[2m2023-11-14 21:48:17\u001b[0m [\u001b[32m\u001b[1minfo     \u001b[0m] \u001b[1mSeparateStateAndRewardEncoders_20231114212908: epoch=25 step=24800\u001b[0m \u001b[36mepoch\u001b[0m=\u001b[35m25\u001b[0m \u001b[36mmetrics\u001b[0m=\u001b[35m{'time_sample_batch': 0.0002562879554687008, 'time_algorithm_update': 0.022922920363564647, 'loss': -101.34700237743316, 'time_step': 0.023250842767377055, 'observation_error': 41.37957689299919, 'reward_error': 0.002114602164799047, 'variance': 25.89095968440188}\u001b[0m \u001b[36mstep\u001b[0m=\u001b[35m24800\u001b[0m\n",
      "\u001b[2m2023-11-14 21:48:17\u001b[0m [\u001b[32m\u001b[1minfo     \u001b[0m] \u001b[1mModel parameters are saved to d3rlpy_logs/SeparateStateAndRewardEncoders_20231114212908/model_24800.pt\u001b[0m\n"
     ]
    },
    {
     "data": {
      "application/vnd.jupyter.widget-view+json": {
       "model_id": "2d2b7367f521484ab528b3a748278e89",
       "version_major": 2,
       "version_minor": 0
      },
      "text/plain": [
       "Epoch 26/100:   0%|          | 0/992 [00:00<?, ?it/s]"
      ]
     },
     "metadata": {},
     "output_type": "display_data"
    },
    {
     "name": "stdout",
     "output_type": "stream",
     "text": [
      "\u001b[2m2023-11-14 21:49:01\u001b[0m [\u001b[32m\u001b[1minfo     \u001b[0m] \u001b[1mSeparateStateAndRewardEncoders_20231114212908: epoch=26 step=25792\u001b[0m \u001b[36mepoch\u001b[0m=\u001b[35m26\u001b[0m \u001b[36mmetrics\u001b[0m=\u001b[35m{'time_sample_batch': 0.00022132141936209894, 'time_algorithm_update': 0.02034796942626276, 'loss': -99.75957201661602, 'time_step': 0.020632120630433484, 'observation_error': 40.49951053080313, 'reward_error': 0.0022608496439435626, 'variance': 24.61641502115753}\u001b[0m \u001b[36mstep\u001b[0m=\u001b[35m25792\u001b[0m\n",
      "\u001b[2m2023-11-14 21:49:01\u001b[0m [\u001b[32m\u001b[1minfo     \u001b[0m] \u001b[1mModel parameters are saved to d3rlpy_logs/SeparateStateAndRewardEncoders_20231114212908/model_25792.pt\u001b[0m\n"
     ]
    },
    {
     "data": {
      "application/vnd.jupyter.widget-view+json": {
       "model_id": "f173cf689bac4f78b1a944b9253b1269",
       "version_major": 2,
       "version_minor": 0
      },
      "text/plain": [
       "Epoch 27/100:   0%|          | 0/992 [00:00<?, ?it/s]"
      ]
     },
     "metadata": {},
     "output_type": "display_data"
    },
    {
     "name": "stdout",
     "output_type": "stream",
     "text": [
      "\u001b[2m2023-11-14 21:49:44\u001b[0m [\u001b[32m\u001b[1minfo     \u001b[0m] \u001b[1mSeparateStateAndRewardEncoders_20231114212908: epoch=27 step=26784\u001b[0m \u001b[36mepoch\u001b[0m=\u001b[35m27\u001b[0m \u001b[36mmetrics\u001b[0m=\u001b[35m{'time_sample_batch': 0.0002217153387684976, 'time_algorithm_update': 0.020368682521004832, 'loss': -103.25199329468512, 'time_step': 0.020649811433207606, 'observation_error': 40.767635662356945, 'reward_error': 0.0023512277930743727, 'variance': 24.811147203328346}\u001b[0m \u001b[36mstep\u001b[0m=\u001b[35m26784\u001b[0m\n",
      "\u001b[2m2023-11-14 21:49:44\u001b[0m [\u001b[32m\u001b[1minfo     \u001b[0m] \u001b[1mModel parameters are saved to d3rlpy_logs/SeparateStateAndRewardEncoders_20231114212908/model_26784.pt\u001b[0m\n"
     ]
    },
    {
     "data": {
      "application/vnd.jupyter.widget-view+json": {
       "model_id": "13faf86dc3ef477e88caf6d5fc509558",
       "version_major": 2,
       "version_minor": 0
      },
      "text/plain": [
       "Epoch 28/100:   0%|          | 0/992 [00:00<?, ?it/s]"
      ]
     },
     "metadata": {},
     "output_type": "display_data"
    },
    {
     "name": "stdout",
     "output_type": "stream",
     "text": [
      "\u001b[2m2023-11-14 21:50:28\u001b[0m [\u001b[32m\u001b[1minfo     \u001b[0m] \u001b[1mSeparateStateAndRewardEncoders_20231114212908: epoch=28 step=27776\u001b[0m \u001b[36mepoch\u001b[0m=\u001b[35m28\u001b[0m \u001b[36mmetrics\u001b[0m=\u001b[35m{'time_sample_batch': 0.00021814963509959558, 'time_algorithm_update': 0.020303285891009916, 'loss': -103.07623204300481, 'time_step': 0.02058048281938799, 'observation_error': 40.843626867891274, 'reward_error': 0.0019835722101870595, 'variance': 26.543427697062626}\u001b[0m \u001b[36mstep\u001b[0m=\u001b[35m27776\u001b[0m\n",
      "\u001b[2m2023-11-14 21:50:28\u001b[0m [\u001b[32m\u001b[1minfo     \u001b[0m] \u001b[1mModel parameters are saved to d3rlpy_logs/SeparateStateAndRewardEncoders_20231114212908/model_27776.pt\u001b[0m\n"
     ]
    },
    {
     "data": {
      "application/vnd.jupyter.widget-view+json": {
       "model_id": "2a4d92faa05b4b31ae80dea39c86e388",
       "version_major": 2,
       "version_minor": 0
      },
      "text/plain": [
       "Epoch 29/100:   0%|          | 0/992 [00:00<?, ?it/s]"
      ]
     },
     "metadata": {},
     "output_type": "display_data"
    },
    {
     "name": "stdout",
     "output_type": "stream",
     "text": [
      "\u001b[2m2023-11-14 21:51:12\u001b[0m [\u001b[32m\u001b[1minfo     \u001b[0m] \u001b[1mSeparateStateAndRewardEncoders_20231114212908: epoch=29 step=28768\u001b[0m \u001b[36mepoch\u001b[0m=\u001b[35m29\u001b[0m \u001b[36mmetrics\u001b[0m=\u001b[35m{'time_sample_batch': 0.00022131444946412118, 'time_algorithm_update': 0.02052841023091347, 'loss': -102.81762781546962, 'time_step': 0.020811570748206106, 'observation_error': 42.410448809120446, 'reward_error': 0.0021603070503728537, 'variance': 28.383515144651067}\u001b[0m \u001b[36mstep\u001b[0m=\u001b[35m28768\u001b[0m\n",
      "\u001b[2m2023-11-14 21:51:12\u001b[0m [\u001b[32m\u001b[1minfo     \u001b[0m] \u001b[1mModel parameters are saved to d3rlpy_logs/SeparateStateAndRewardEncoders_20231114212908/model_28768.pt\u001b[0m\n"
     ]
    },
    {
     "data": {
      "application/vnd.jupyter.widget-view+json": {
       "model_id": "748b211db96245b1b42ed27d9526262c",
       "version_major": 2,
       "version_minor": 0
      },
      "text/plain": [
       "Epoch 30/100:   0%|          | 0/992 [00:00<?, ?it/s]"
      ]
     },
     "metadata": {},
     "output_type": "display_data"
    },
    {
     "name": "stdout",
     "output_type": "stream",
     "text": [
      "\u001b[2m2023-11-14 21:51:55\u001b[0m [\u001b[32m\u001b[1minfo     \u001b[0m] \u001b[1mSeparateStateAndRewardEncoders_20231114212908: epoch=30 step=29760\u001b[0m \u001b[36mepoch\u001b[0m=\u001b[35m30\u001b[0m \u001b[36mmetrics\u001b[0m=\u001b[35m{'time_sample_batch': 0.00021798379959598663, 'time_algorithm_update': 0.0203537666989911, 'loss': -103.67346763947317, 'time_step': 0.020631145806081833, 'observation_error': 41.17797161536329, 'reward_error': 0.0022017658460765817, 'variance': 26.128066270791955}\u001b[0m \u001b[36mstep\u001b[0m=\u001b[35m29760\u001b[0m\n",
      "\u001b[2m2023-11-14 21:51:55\u001b[0m [\u001b[32m\u001b[1minfo     \u001b[0m] \u001b[1mModel parameters are saved to d3rlpy_logs/SeparateStateAndRewardEncoders_20231114212908/model_29760.pt\u001b[0m\n"
     ]
    },
    {
     "data": {
      "application/vnd.jupyter.widget-view+json": {
       "model_id": "302b847cd9594f77a3ce624521a2cc51",
       "version_major": 2,
       "version_minor": 0
      },
      "text/plain": [
       "Epoch 31/100:   0%|          | 0/992 [00:00<?, ?it/s]"
      ]
     },
     "metadata": {},
     "output_type": "display_data"
    },
    {
     "name": "stdout",
     "output_type": "stream",
     "text": [
      "\u001b[2m2023-11-14 21:52:38\u001b[0m [\u001b[32m\u001b[1minfo     \u001b[0m] \u001b[1mSeparateStateAndRewardEncoders_20231114212908: epoch=31 step=30752\u001b[0m \u001b[36mepoch\u001b[0m=\u001b[35m31\u001b[0m \u001b[36mmetrics\u001b[0m=\u001b[35m{'time_sample_batch': 0.00021858825798957578, 'time_algorithm_update': 0.020507997322467067, 'loss': -103.99628905423226, 'time_step': 0.020787276808292635, 'observation_error': 40.005391022744504, 'reward_error': 0.0021911779071549925, 'variance': 24.414681519349216}\u001b[0m \u001b[36mstep\u001b[0m=\u001b[35m30752\u001b[0m\n",
      "\u001b[2m2023-11-14 21:52:38\u001b[0m [\u001b[32m\u001b[1minfo     \u001b[0m] \u001b[1mModel parameters are saved to d3rlpy_logs/SeparateStateAndRewardEncoders_20231114212908/model_30752.pt\u001b[0m\n"
     ]
    },
    {
     "data": {
      "application/vnd.jupyter.widget-view+json": {
       "model_id": "ff7847e4d34845e7bda31e168fd27a3c",
       "version_major": 2,
       "version_minor": 0
      },
      "text/plain": [
       "Epoch 32/100:   0%|          | 0/992 [00:00<?, ?it/s]"
      ]
     },
     "metadata": {},
     "output_type": "display_data"
    },
    {
     "name": "stdout",
     "output_type": "stream",
     "text": [
      "\u001b[2m2023-11-14 21:53:22\u001b[0m [\u001b[32m\u001b[1minfo     \u001b[0m] \u001b[1mSeparateStateAndRewardEncoders_20231114212908: epoch=32 step=31744\u001b[0m \u001b[36mepoch\u001b[0m=\u001b[35m32\u001b[0m \u001b[36mmetrics\u001b[0m=\u001b[35m{'time_sample_batch': 0.0002195400095755054, 'time_algorithm_update': 0.02040718303572747, 'loss': -103.22056813490006, 'time_step': 0.020686629078080578, 'observation_error': 40.24068992269282, 'reward_error': 0.0018547208247850053, 'variance': 24.942273260802956}\u001b[0m \u001b[36mstep\u001b[0m=\u001b[35m31744\u001b[0m\n",
      "\u001b[2m2023-11-14 21:53:22\u001b[0m [\u001b[32m\u001b[1minfo     \u001b[0m] \u001b[1mModel parameters are saved to d3rlpy_logs/SeparateStateAndRewardEncoders_20231114212908/model_31744.pt\u001b[0m\n"
     ]
    },
    {
     "data": {
      "application/vnd.jupyter.widget-view+json": {
       "model_id": "35fe5d9bce7b4b1e8233f56e8fd953c4",
       "version_major": 2,
       "version_minor": 0
      },
      "text/plain": [
       "Epoch 33/100:   0%|          | 0/992 [00:00<?, ?it/s]"
      ]
     },
     "metadata": {},
     "output_type": "display_data"
    },
    {
     "name": "stdout",
     "output_type": "stream",
     "text": [
      "\u001b[2m2023-11-14 21:54:05\u001b[0m [\u001b[32m\u001b[1minfo     \u001b[0m] \u001b[1mSeparateStateAndRewardEncoders_20231114212908: epoch=33 step=32736\u001b[0m \u001b[36mepoch\u001b[0m=\u001b[35m33\u001b[0m \u001b[36mmetrics\u001b[0m=\u001b[35m{'time_sample_batch': 0.00022269569097026703, 'time_algorithm_update': 0.02040674994068761, 'loss': -102.35619106600362, 'time_step': 0.02069824525425511, 'observation_error': 39.3652730968132, 'reward_error': 0.0018314836727813693, 'variance': 24.33370803732925}\u001b[0m \u001b[36mstep\u001b[0m=\u001b[35m32736\u001b[0m\n",
      "\u001b[2m2023-11-14 21:54:05\u001b[0m [\u001b[32m\u001b[1minfo     \u001b[0m] \u001b[1mModel parameters are saved to d3rlpy_logs/SeparateStateAndRewardEncoders_20231114212908/model_32736.pt\u001b[0m\n"
     ]
    },
    {
     "data": {
      "application/vnd.jupyter.widget-view+json": {
       "model_id": "6a4b908c8d324840bb008d3e687131df",
       "version_major": 2,
       "version_minor": 0
      },
      "text/plain": [
       "Epoch 34/100:   0%|          | 0/992 [00:00<?, ?it/s]"
      ]
     },
     "metadata": {},
     "output_type": "display_data"
    },
    {
     "name": "stdout",
     "output_type": "stream",
     "text": [
      "\u001b[2m2023-11-14 21:55:03\u001b[0m [\u001b[32m\u001b[1minfo     \u001b[0m] \u001b[1mSeparateStateAndRewardEncoders_20231114212908: epoch=34 step=33728\u001b[0m \u001b[36mepoch\u001b[0m=\u001b[35m34\u001b[0m \u001b[36mmetrics\u001b[0m=\u001b[35m{'time_sample_batch': 0.000269162078057566, 'time_algorithm_update': 0.02392301900732902, 'loss': -103.18242978448829, 'time_step': 0.02427211211573693, 'observation_error': 39.95029957345183, 'reward_error': 0.0019151870328291635, 'variance': 25.302233526497815}\u001b[0m \u001b[36mstep\u001b[0m=\u001b[35m33728\u001b[0m\n",
      "\u001b[2m2023-11-14 21:55:03\u001b[0m [\u001b[32m\u001b[1minfo     \u001b[0m] \u001b[1mModel parameters are saved to d3rlpy_logs/SeparateStateAndRewardEncoders_20231114212908/model_33728.pt\u001b[0m\n"
     ]
    },
    {
     "data": {
      "application/vnd.jupyter.widget-view+json": {
       "model_id": "fbf636e0931d4dfab530dc08bc715f65",
       "version_major": 2,
       "version_minor": 0
      },
      "text/plain": [
       "Epoch 35/100:   0%|          | 0/992 [00:00<?, ?it/s]"
      ]
     },
     "metadata": {},
     "output_type": "display_data"
    },
    {
     "name": "stdout",
     "output_type": "stream",
     "text": [
      "\u001b[2m2023-11-14 21:55:51\u001b[0m [\u001b[32m\u001b[1minfo     \u001b[0m] \u001b[1mSeparateStateAndRewardEncoders_20231114212908: epoch=35 step=34720\u001b[0m \u001b[36mepoch\u001b[0m=\u001b[35m35\u001b[0m \u001b[36mmetrics\u001b[0m=\u001b[35m{'time_sample_batch': 0.0002624815510165307, 'time_algorithm_update': 0.023349989325769486, 'loss': -106.75020314993397, 'time_step': 0.023681998012527343, 'observation_error': 40.47210139996094, 'reward_error': 0.0021214440271804494, 'variance': 26.084390711539985}\u001b[0m \u001b[36mstep\u001b[0m=\u001b[35m34720\u001b[0m\n",
      "\u001b[2m2023-11-14 21:55:51\u001b[0m [\u001b[32m\u001b[1minfo     \u001b[0m] \u001b[1mModel parameters are saved to d3rlpy_logs/SeparateStateAndRewardEncoders_20231114212908/model_34720.pt\u001b[0m\n"
     ]
    },
    {
     "data": {
      "application/vnd.jupyter.widget-view+json": {
       "model_id": "0afda3bddfd2431591f3c65b10c4b709",
       "version_major": 2,
       "version_minor": 0
      },
      "text/plain": [
       "Epoch 36/100:   0%|          | 0/992 [00:00<?, ?it/s]"
      ]
     },
     "metadata": {},
     "output_type": "display_data"
    },
    {
     "name": "stdout",
     "output_type": "stream",
     "text": [
      "\u001b[2m2023-11-14 21:56:35\u001b[0m [\u001b[32m\u001b[1minfo     \u001b[0m] \u001b[1mSeparateStateAndRewardEncoders_20231114212908: epoch=36 step=35712\u001b[0m \u001b[36mepoch\u001b[0m=\u001b[35m36\u001b[0m \u001b[36mmetrics\u001b[0m=\u001b[35m{'time_sample_batch': 0.00023390569033161286, 'time_algorithm_update': 0.02044042295986606, 'loss': -107.16143824881122, 'time_step': 0.020736081705939387, 'observation_error': 40.10994731719251, 'reward_error': 0.0023183664672054953, 'variance': 25.39150948857387}\u001b[0m \u001b[36mstep\u001b[0m=\u001b[35m35712\u001b[0m\n",
      "\u001b[2m2023-11-14 21:56:35\u001b[0m [\u001b[32m\u001b[1minfo     \u001b[0m] \u001b[1mModel parameters are saved to d3rlpy_logs/SeparateStateAndRewardEncoders_20231114212908/model_35712.pt\u001b[0m\n"
     ]
    },
    {
     "data": {
      "application/vnd.jupyter.widget-view+json": {
       "model_id": "6940f3a17d0a4df38fe82f1f756c8109",
       "version_major": 2,
       "version_minor": 0
      },
      "text/plain": [
       "Epoch 37/100:   0%|          | 0/992 [00:00<?, ?it/s]"
      ]
     },
     "metadata": {},
     "output_type": "display_data"
    },
    {
     "name": "stdout",
     "output_type": "stream",
     "text": [
      "\u001b[2m2023-11-14 21:57:25\u001b[0m [\u001b[32m\u001b[1minfo     \u001b[0m] \u001b[1mSeparateStateAndRewardEncoders_20231114212908: epoch=37 step=36704\u001b[0m \u001b[36mepoch\u001b[0m=\u001b[35m37\u001b[0m \u001b[36mmetrics\u001b[0m=\u001b[35m{'time_sample_batch': 0.0002428569620655429, 'time_algorithm_update': 0.02135727314218398, 'loss': -107.61596527647588, 'time_step': 0.021667660003708254, 'observation_error': 40.40791113582923, 'reward_error': 0.001967071408989647, 'variance': 25.46167759077006}\u001b[0m \u001b[36mstep\u001b[0m=\u001b[35m36704\u001b[0m\n",
      "\u001b[2m2023-11-14 21:57:25\u001b[0m [\u001b[32m\u001b[1minfo     \u001b[0m] \u001b[1mModel parameters are saved to d3rlpy_logs/SeparateStateAndRewardEncoders_20231114212908/model_36704.pt\u001b[0m\n"
     ]
    },
    {
     "data": {
      "application/vnd.jupyter.widget-view+json": {
       "model_id": "c3918961300942739034a3dd93d86a73",
       "version_major": 2,
       "version_minor": 0
      },
      "text/plain": [
       "Epoch 38/100:   0%|          | 0/992 [00:00<?, ?it/s]"
      ]
     },
     "metadata": {},
     "output_type": "display_data"
    },
    {
     "name": "stdout",
     "output_type": "stream",
     "text": [
      "\u001b[2m2023-11-14 21:58:10\u001b[0m [\u001b[32m\u001b[1minfo     \u001b[0m] \u001b[1mSeparateStateAndRewardEncoders_20231114212908: epoch=38 step=37696\u001b[0m \u001b[36mepoch\u001b[0m=\u001b[35m38\u001b[0m \u001b[36mmetrics\u001b[0m=\u001b[35m{'time_sample_batch': 0.00024684662780454083, 'time_algorithm_update': 0.021893807476566683, 'loss': -108.488378416146, 'time_step': 0.022208732462698413, 'observation_error': 39.13262087383676, 'reward_error': 0.0018316774555864257, 'variance': 24.19942152471814}\u001b[0m \u001b[36mstep\u001b[0m=\u001b[35m37696\u001b[0m\n",
      "\u001b[2m2023-11-14 21:58:10\u001b[0m [\u001b[32m\u001b[1minfo     \u001b[0m] \u001b[1mModel parameters are saved to d3rlpy_logs/SeparateStateAndRewardEncoders_20231114212908/model_37696.pt\u001b[0m\n"
     ]
    },
    {
     "data": {
      "application/vnd.jupyter.widget-view+json": {
       "model_id": "b83a038e38454b3b83a56e0083c7355a",
       "version_major": 2,
       "version_minor": 0
      },
      "text/plain": [
       "Epoch 39/100:   0%|          | 0/992 [00:00<?, ?it/s]"
      ]
     },
     "metadata": {},
     "output_type": "display_data"
    },
    {
     "name": "stdout",
     "output_type": "stream",
     "text": [
      "\u001b[2m2023-11-14 21:58:52\u001b[0m [\u001b[32m\u001b[1minfo     \u001b[0m] \u001b[1mSeparateStateAndRewardEncoders_20231114212908: epoch=39 step=38688\u001b[0m \u001b[36mepoch\u001b[0m=\u001b[35m39\u001b[0m \u001b[36mmetrics\u001b[0m=\u001b[35m{'time_sample_batch': 0.00021382421255111694, 'time_algorithm_update': 0.01885821694327939, 'loss': -106.60376462965242, 'time_step': 0.01912777005664764, 'observation_error': 38.33071319704798, 'reward_error': 0.0019952581948789556, 'variance': 23.01673078627149}\u001b[0m \u001b[36mstep\u001b[0m=\u001b[35m38688\u001b[0m\n",
      "\u001b[2m2023-11-14 21:58:52\u001b[0m [\u001b[32m\u001b[1minfo     \u001b[0m] \u001b[1mModel parameters are saved to d3rlpy_logs/SeparateStateAndRewardEncoders_20231114212908/model_38688.pt\u001b[0m\n"
     ]
    },
    {
     "data": {
      "application/vnd.jupyter.widget-view+json": {
       "model_id": "f5af643a35454f54b30872272a94dae0",
       "version_major": 2,
       "version_minor": 0
      },
      "text/plain": [
       "Epoch 40/100:   0%|          | 0/992 [00:00<?, ?it/s]"
      ]
     },
     "metadata": {},
     "output_type": "display_data"
    },
    {
     "name": "stdout",
     "output_type": "stream",
     "text": [
      "\u001b[2m2023-11-14 21:59:33\u001b[0m [\u001b[32m\u001b[1minfo     \u001b[0m] \u001b[1mSeparateStateAndRewardEncoders_20231114212908: epoch=40 step=39680\u001b[0m \u001b[36mepoch\u001b[0m=\u001b[35m40\u001b[0m \u001b[36mmetrics\u001b[0m=\u001b[35m{'time_sample_batch': 0.00019344086608579083, 'time_algorithm_update': 0.01814709315376897, 'loss': -107.7993250460394, 'time_step': 0.018393561003669616, 'observation_error': 41.11835568550101, 'reward_error': 0.0019764574439874033, 'variance': 27.39079101153281}\u001b[0m \u001b[36mstep\u001b[0m=\u001b[35m39680\u001b[0m\n",
      "\u001b[2m2023-11-14 21:59:33\u001b[0m [\u001b[32m\u001b[1minfo     \u001b[0m] \u001b[1mModel parameters are saved to d3rlpy_logs/SeparateStateAndRewardEncoders_20231114212908/model_39680.pt\u001b[0m\n"
     ]
    },
    {
     "data": {
      "application/vnd.jupyter.widget-view+json": {
       "model_id": "c607551c88124e0cabfe1c844a84f1b1",
       "version_major": 2,
       "version_minor": 0
      },
      "text/plain": [
       "Epoch 41/100:   0%|          | 0/992 [00:00<?, ?it/s]"
      ]
     },
     "metadata": {},
     "output_type": "display_data"
    },
    {
     "name": "stdout",
     "output_type": "stream",
     "text": [
      "\u001b[2m2023-11-14 22:00:14\u001b[0m [\u001b[32m\u001b[1minfo     \u001b[0m] \u001b[1mSeparateStateAndRewardEncoders_20231114212908: epoch=41 step=40672\u001b[0m \u001b[36mepoch\u001b[0m=\u001b[35m41\u001b[0m \u001b[36mmetrics\u001b[0m=\u001b[35m{'time_sample_batch': 0.00021286308765411377, 'time_algorithm_update': 0.019012425215013565, 'loss': -110.33918173274687, 'time_step': 0.019282058602379214, 'observation_error': 38.99408004819767, 'reward_error': 0.0018122503208908615, 'variance': 24.806308610734014}\u001b[0m \u001b[36mstep\u001b[0m=\u001b[35m40672\u001b[0m\n",
      "\u001b[2m2023-11-14 22:00:14\u001b[0m [\u001b[32m\u001b[1minfo     \u001b[0m] \u001b[1mModel parameters are saved to d3rlpy_logs/SeparateStateAndRewardEncoders_20231114212908/model_40672.pt\u001b[0m\n"
     ]
    },
    {
     "data": {
      "application/vnd.jupyter.widget-view+json": {
       "model_id": "131e7d90ae1a42f19c68ae72f48a863c",
       "version_major": 2,
       "version_minor": 0
      },
      "text/plain": [
       "Epoch 42/100:   0%|          | 0/992 [00:00<?, ?it/s]"
      ]
     },
     "metadata": {},
     "output_type": "display_data"
    },
    {
     "name": "stdout",
     "output_type": "stream",
     "text": [
      "\u001b[2m2023-11-14 22:00:56\u001b[0m [\u001b[32m\u001b[1minfo     \u001b[0m] \u001b[1mSeparateStateAndRewardEncoders_20231114212908: epoch=42 step=41664\u001b[0m \u001b[36mepoch\u001b[0m=\u001b[35m42\u001b[0m \u001b[36mmetrics\u001b[0m=\u001b[35m{'time_sample_batch': 0.00021945589011715305, 'time_algorithm_update': 0.0190674340532672, 'loss': -109.22304934070957, 'time_step': 0.019344699478918505, 'observation_error': 38.78171231985536, 'reward_error': 0.0017739937534031619, 'variance': 24.374703231138056}\u001b[0m \u001b[36mstep\u001b[0m=\u001b[35m41664\u001b[0m\n",
      "\u001b[2m2023-11-14 22:00:56\u001b[0m [\u001b[32m\u001b[1minfo     \u001b[0m] \u001b[1mModel parameters are saved to d3rlpy_logs/SeparateStateAndRewardEncoders_20231114212908/model_41664.pt\u001b[0m\n"
     ]
    },
    {
     "data": {
      "application/vnd.jupyter.widget-view+json": {
       "model_id": "a64d57f440d74b7dbe39c73a55c58ad4",
       "version_major": 2,
       "version_minor": 0
      },
      "text/plain": [
       "Epoch 43/100:   0%|          | 0/992 [00:00<?, ?it/s]"
      ]
     },
     "metadata": {},
     "output_type": "display_data"
    },
    {
     "name": "stdout",
     "output_type": "stream",
     "text": [
      "\u001b[2m2023-11-14 22:01:37\u001b[0m [\u001b[32m\u001b[1minfo     \u001b[0m] \u001b[1mSeparateStateAndRewardEncoders_20231114212908: epoch=43 step=42656\u001b[0m \u001b[36mepoch\u001b[0m=\u001b[35m43\u001b[0m \u001b[36mmetrics\u001b[0m=\u001b[35m{'time_sample_batch': 0.00019368625456287015, 'time_algorithm_update': 0.018154401692651933, 'loss': -107.55396937362609, 'time_step': 0.018399795457240072, 'observation_error': 39.006450051030164, 'reward_error': 0.0017959961485855267, 'variance': 25.66863426653352}\u001b[0m \u001b[36mstep\u001b[0m=\u001b[35m42656\u001b[0m\n",
      "\u001b[2m2023-11-14 22:01:37\u001b[0m [\u001b[32m\u001b[1minfo     \u001b[0m] \u001b[1mModel parameters are saved to d3rlpy_logs/SeparateStateAndRewardEncoders_20231114212908/model_42656.pt\u001b[0m\n"
     ]
    },
    {
     "data": {
      "application/vnd.jupyter.widget-view+json": {
       "model_id": "fefba0a9150847a4a7a7e0c2054928e7",
       "version_major": 2,
       "version_minor": 0
      },
      "text/plain": [
       "Epoch 44/100:   0%|          | 0/992 [00:00<?, ?it/s]"
      ]
     },
     "metadata": {},
     "output_type": "display_data"
    },
    {
     "name": "stdout",
     "output_type": "stream",
     "text": [
      "\u001b[2m2023-11-14 22:02:20\u001b[0m [\u001b[32m\u001b[1minfo     \u001b[0m] \u001b[1mSeparateStateAndRewardEncoders_20231114212908: epoch=44 step=43648\u001b[0m \u001b[36mepoch\u001b[0m=\u001b[35m44\u001b[0m \u001b[36mmetrics\u001b[0m=\u001b[35m{'time_sample_batch': 0.00021460436044200775, 'time_algorithm_update': 0.019117812235509197, 'loss': -108.66581978336457, 'time_step': 0.019389017214698177, 'observation_error': 38.71302926638312, 'reward_error': 0.0019048271837094346, 'variance': 24.264881896960073}\u001b[0m \u001b[36mstep\u001b[0m=\u001b[35m43648\u001b[0m\n",
      "\u001b[2m2023-11-14 22:02:20\u001b[0m [\u001b[32m\u001b[1minfo     \u001b[0m] \u001b[1mModel parameters are saved to d3rlpy_logs/SeparateStateAndRewardEncoders_20231114212908/model_43648.pt\u001b[0m\n"
     ]
    },
    {
     "data": {
      "application/vnd.jupyter.widget-view+json": {
       "model_id": "b4b876a462a047c08b9fae06e58b8ace",
       "version_major": 2,
       "version_minor": 0
      },
      "text/plain": [
       "Epoch 45/100:   0%|          | 0/992 [00:00<?, ?it/s]"
      ]
     },
     "metadata": {},
     "output_type": "display_data"
    },
    {
     "name": "stdout",
     "output_type": "stream",
     "text": [
      "\u001b[2m2023-11-14 22:03:00\u001b[0m [\u001b[32m\u001b[1minfo     \u001b[0m] \u001b[1mSeparateStateAndRewardEncoders_20231114212908: epoch=45 step=44640\u001b[0m \u001b[36mepoch\u001b[0m=\u001b[35m45\u001b[0m \u001b[36mmetrics\u001b[0m=\u001b[35m{'time_sample_batch': 0.0001943346954161121, 'time_algorithm_update': 0.01786412707259578, 'loss': -110.76051847204086, 'time_step': 0.018109170179213246, 'observation_error': 38.41469187105036, 'reward_error': 0.001663616237261334, 'variance': 24.37981708735466}\u001b[0m \u001b[36mstep\u001b[0m=\u001b[35m44640\u001b[0m\n",
      "\u001b[2m2023-11-14 22:03:00\u001b[0m [\u001b[32m\u001b[1minfo     \u001b[0m] \u001b[1mModel parameters are saved to d3rlpy_logs/SeparateStateAndRewardEncoders_20231114212908/model_44640.pt\u001b[0m\n"
     ]
    },
    {
     "data": {
      "application/vnd.jupyter.widget-view+json": {
       "model_id": "2f5b76d0ba4945acb15543f82c4eb865",
       "version_major": 2,
       "version_minor": 0
      },
      "text/plain": [
       "Epoch 46/100:   0%|          | 0/992 [00:00<?, ?it/s]"
      ]
     },
     "metadata": {},
     "output_type": "display_data"
    },
    {
     "name": "stdout",
     "output_type": "stream",
     "text": [
      "\u001b[2m2023-11-14 22:03:41\u001b[0m [\u001b[32m\u001b[1minfo     \u001b[0m] \u001b[1mSeparateStateAndRewardEncoders_20231114212908: epoch=46 step=45632\u001b[0m \u001b[36mepoch\u001b[0m=\u001b[35m46\u001b[0m \u001b[36mmetrics\u001b[0m=\u001b[35m{'time_sample_batch': 0.00020854679807539908, 'time_algorithm_update': 0.019048589612207106, 'loss': -109.88675142055557, 'time_step': 0.01931283406672939, 'observation_error': 38.16775321906707, 'reward_error': 0.0018342235573480155, 'variance': 23.75462758010692}\u001b[0m \u001b[36mstep\u001b[0m=\u001b[35m45632\u001b[0m\n",
      "\u001b[2m2023-11-14 22:03:41\u001b[0m [\u001b[32m\u001b[1minfo     \u001b[0m] \u001b[1mModel parameters are saved to d3rlpy_logs/SeparateStateAndRewardEncoders_20231114212908/model_45632.pt\u001b[0m\n"
     ]
    },
    {
     "data": {
      "application/vnd.jupyter.widget-view+json": {
       "model_id": "a531ae7806484c90b0049699ebdea39a",
       "version_major": 2,
       "version_minor": 0
      },
      "text/plain": [
       "Epoch 47/100:   0%|          | 0/992 [00:00<?, ?it/s]"
      ]
     },
     "metadata": {},
     "output_type": "display_data"
    },
    {
     "name": "stdout",
     "output_type": "stream",
     "text": [
      "\u001b[2m2023-11-14 22:04:26\u001b[0m [\u001b[32m\u001b[1minfo     \u001b[0m] \u001b[1mSeparateStateAndRewardEncoders_20231114212908: epoch=47 step=46624\u001b[0m \u001b[36mepoch\u001b[0m=\u001b[35m47\u001b[0m \u001b[36mmetrics\u001b[0m=\u001b[35m{'time_sample_batch': 0.0002185363442667069, 'time_algorithm_update': 0.018865100799068328, 'loss': -112.61130107987312, 'time_step': 0.019141610831983628, 'observation_error': 39.56128377585891, 'reward_error': 0.0016631651166954932, 'variance': 26.24804820339779}\u001b[0m \u001b[36mstep\u001b[0m=\u001b[35m46624\u001b[0m\n",
      "\u001b[2m2023-11-14 22:04:26\u001b[0m [\u001b[32m\u001b[1minfo     \u001b[0m] \u001b[1mModel parameters are saved to d3rlpy_logs/SeparateStateAndRewardEncoders_20231114212908/model_46624.pt\u001b[0m\n"
     ]
    },
    {
     "data": {
      "application/vnd.jupyter.widget-view+json": {
       "model_id": "2ec73681170f4bb1b849c9d6d4c74dff",
       "version_major": 2,
       "version_minor": 0
      },
      "text/plain": [
       "Epoch 48/100:   0%|          | 0/992 [00:00<?, ?it/s]"
      ]
     },
     "metadata": {},
     "output_type": "display_data"
    },
    {
     "name": "stdout",
     "output_type": "stream",
     "text": [
      "\u001b[2m2023-11-14 22:05:09\u001b[0m [\u001b[32m\u001b[1minfo     \u001b[0m] \u001b[1mSeparateStateAndRewardEncoders_20231114212908: epoch=48 step=47616\u001b[0m \u001b[36mepoch\u001b[0m=\u001b[35m48\u001b[0m \u001b[36mmetrics\u001b[0m=\u001b[35m{'time_sample_batch': 0.0001969539350078952, 'time_algorithm_update': 0.018059570462472977, 'loss': -111.22820127202618, 'time_step': 0.018310655749613238, 'observation_error': 39.603185066961196, 'reward_error': 0.001823142887401102, 'variance': 26.64928856794238}\u001b[0m \u001b[36mstep\u001b[0m=\u001b[35m47616\u001b[0m\n",
      "\u001b[2m2023-11-14 22:05:09\u001b[0m [\u001b[32m\u001b[1minfo     \u001b[0m] \u001b[1mModel parameters are saved to d3rlpy_logs/SeparateStateAndRewardEncoders_20231114212908/model_47616.pt\u001b[0m\n"
     ]
    },
    {
     "data": {
      "application/vnd.jupyter.widget-view+json": {
       "model_id": "29165ef83208419398ea3bd72d88f7e7",
       "version_major": 2,
       "version_minor": 0
      },
      "text/plain": [
       "Epoch 49/100:   0%|          | 0/992 [00:00<?, ?it/s]"
      ]
     },
     "metadata": {},
     "output_type": "display_data"
    },
    {
     "name": "stdout",
     "output_type": "stream",
     "text": [
      "\u001b[2m2023-11-14 22:05:47\u001b[0m [\u001b[32m\u001b[1minfo     \u001b[0m] \u001b[1mSeparateStateAndRewardEncoders_20231114212908: epoch=49 step=48608\u001b[0m \u001b[36mepoch\u001b[0m=\u001b[35m49\u001b[0m \u001b[36mmetrics\u001b[0m=\u001b[35m{'time_sample_batch': 0.00020919764234173682, 'time_algorithm_update': 0.01810407494345019, 'loss': -113.41679551716774, 'time_step': 0.018370235879575054, 'observation_error': 40.48314896487527, 'reward_error': 0.0016413354758130101, 'variance': 29.065852925938433}\u001b[0m \u001b[36mstep\u001b[0m=\u001b[35m48608\u001b[0m\n",
      "\u001b[2m2023-11-14 22:05:47\u001b[0m [\u001b[32m\u001b[1minfo     \u001b[0m] \u001b[1mModel parameters are saved to d3rlpy_logs/SeparateStateAndRewardEncoders_20231114212908/model_48608.pt\u001b[0m\n"
     ]
    },
    {
     "data": {
      "application/vnd.jupyter.widget-view+json": {
       "model_id": "2214ef64c545432d8df62ea522c87c95",
       "version_major": 2,
       "version_minor": 0
      },
      "text/plain": [
       "Epoch 50/100:   0%|          | 0/992 [00:00<?, ?it/s]"
      ]
     },
     "metadata": {},
     "output_type": "display_data"
    },
    {
     "name": "stdout",
     "output_type": "stream",
     "text": [
      "\u001b[2m2023-11-14 22:06:25\u001b[0m [\u001b[32m\u001b[1minfo     \u001b[0m] \u001b[1mSeparateStateAndRewardEncoders_20231114212908: epoch=50 step=49600\u001b[0m \u001b[36mepoch\u001b[0m=\u001b[35m50\u001b[0m \u001b[36mmetrics\u001b[0m=\u001b[35m{'time_sample_batch': 0.00020621452600725235, 'time_algorithm_update': 0.0174677653178092, 'loss': -109.80841318734231, 'time_step': 0.01772642856644046, 'observation_error': 36.99368722667794, 'reward_error': 0.0016584835091889515, 'variance': 22.609018275165823}\u001b[0m \u001b[36mstep\u001b[0m=\u001b[35m49600\u001b[0m\n",
      "\u001b[2m2023-11-14 22:06:25\u001b[0m [\u001b[32m\u001b[1minfo     \u001b[0m] \u001b[1mModel parameters are saved to d3rlpy_logs/SeparateStateAndRewardEncoders_20231114212908/model_49600.pt\u001b[0m\n"
     ]
    },
    {
     "data": {
      "application/vnd.jupyter.widget-view+json": {
       "model_id": "833c2dabd8c149acafd6a4086e98b396",
       "version_major": 2,
       "version_minor": 0
      },
      "text/plain": [
       "Epoch 51/100:   0%|          | 0/992 [00:00<?, ?it/s]"
      ]
     },
     "metadata": {},
     "output_type": "display_data"
    },
    {
     "name": "stdout",
     "output_type": "stream",
     "text": [
      "\u001b[2m2023-11-14 22:07:02\u001b[0m [\u001b[32m\u001b[1minfo     \u001b[0m] \u001b[1mSeparateStateAndRewardEncoders_20231114212908: epoch=51 step=50592\u001b[0m \u001b[36mepoch\u001b[0m=\u001b[35m51\u001b[0m \u001b[36mmetrics\u001b[0m=\u001b[35m{'time_sample_batch': 0.00020751140771373627, 'time_algorithm_update': 0.017283179346592195, 'loss': -111.68877245533851, 'time_step': 0.017542790741689743, 'observation_error': 38.71320994840614, 'reward_error': 0.0017013308427489562, 'variance': 25.176251265696948}\u001b[0m \u001b[36mstep\u001b[0m=\u001b[35m50592\u001b[0m\n",
      "\u001b[2m2023-11-14 22:07:02\u001b[0m [\u001b[32m\u001b[1minfo     \u001b[0m] \u001b[1mModel parameters are saved to d3rlpy_logs/SeparateStateAndRewardEncoders_20231114212908/model_50592.pt\u001b[0m\n"
     ]
    },
    {
     "data": {
      "application/vnd.jupyter.widget-view+json": {
       "model_id": "a633d8e9be2e471388cba4225af116b3",
       "version_major": 2,
       "version_minor": 0
      },
      "text/plain": [
       "Epoch 52/100:   0%|          | 0/992 [00:00<?, ?it/s]"
      ]
     },
     "metadata": {},
     "output_type": "display_data"
    },
    {
     "name": "stdout",
     "output_type": "stream",
     "text": [
      "\u001b[2m2023-11-14 22:07:40\u001b[0m [\u001b[32m\u001b[1minfo     \u001b[0m] \u001b[1mSeparateStateAndRewardEncoders_20231114212908: epoch=52 step=51584\u001b[0m \u001b[36mepoch\u001b[0m=\u001b[35m52\u001b[0m \u001b[36mmetrics\u001b[0m=\u001b[35m{'time_sample_batch': 0.00022366811190882037, 'time_algorithm_update': 0.017924174185722105, 'loss': -113.45851267537763, 'time_step': 0.01820304124586044, 'observation_error': 36.87612228983435, 'reward_error': 0.0015854151996763245, 'variance': 22.4529449817527}\u001b[0m \u001b[36mstep\u001b[0m=\u001b[35m51584\u001b[0m\n",
      "\u001b[2m2023-11-14 22:07:40\u001b[0m [\u001b[32m\u001b[1minfo     \u001b[0m] \u001b[1mModel parameters are saved to d3rlpy_logs/SeparateStateAndRewardEncoders_20231114212908/model_51584.pt\u001b[0m\n"
     ]
    },
    {
     "data": {
      "application/vnd.jupyter.widget-view+json": {
       "model_id": "784dcb6721984fdf89be8872c4d30c55",
       "version_major": 2,
       "version_minor": 0
      },
      "text/plain": [
       "Epoch 53/100:   0%|          | 0/992 [00:00<?, ?it/s]"
      ]
     },
     "metadata": {},
     "output_type": "display_data"
    },
    {
     "name": "stdout",
     "output_type": "stream",
     "text": [
      "\u001b[2m2023-11-14 22:08:18\u001b[0m [\u001b[32m\u001b[1minfo     \u001b[0m] \u001b[1mSeparateStateAndRewardEncoders_20231114212908: epoch=53 step=52576\u001b[0m \u001b[36mepoch\u001b[0m=\u001b[35m53\u001b[0m \u001b[36mmetrics\u001b[0m=\u001b[35m{'time_sample_batch': 0.00021830537626820227, 'time_algorithm_update': 0.017879093366284526, 'loss': -113.55523976972026, 'time_step': 0.018151637527250474, 'observation_error': 38.33812176790171, 'reward_error': 0.0018567744481823563, 'variance': 26.486547245725923}\u001b[0m \u001b[36mstep\u001b[0m=\u001b[35m52576\u001b[0m\n",
      "\u001b[2m2023-11-14 22:08:18\u001b[0m [\u001b[32m\u001b[1minfo     \u001b[0m] \u001b[1mModel parameters are saved to d3rlpy_logs/SeparateStateAndRewardEncoders_20231114212908/model_52576.pt\u001b[0m\n"
     ]
    },
    {
     "data": {
      "application/vnd.jupyter.widget-view+json": {
       "model_id": "b0015abcc60243968cd7df6ed3ca49cc",
       "version_major": 2,
       "version_minor": 0
      },
      "text/plain": [
       "Epoch 54/100:   0%|          | 0/992 [00:00<?, ?it/s]"
      ]
     },
     "metadata": {},
     "output_type": "display_data"
    },
    {
     "name": "stdout",
     "output_type": "stream",
     "text": [
      "\u001b[2m2023-11-14 22:08:57\u001b[0m [\u001b[32m\u001b[1minfo     \u001b[0m] \u001b[1mSeparateStateAndRewardEncoders_20231114212908: epoch=54 step=53568\u001b[0m \u001b[36mepoch\u001b[0m=\u001b[35m54\u001b[0m \u001b[36mmetrics\u001b[0m=\u001b[35m{'time_sample_batch': 0.0002077147364616394, 'time_algorithm_update': 0.017378417714949575, 'loss': -113.23960144913966, 'time_step': 0.01763951826480127, 'observation_error': 41.53607755088449, 'reward_error': 0.0018477300192789466, 'variance': 30.083630615836647}\u001b[0m \u001b[36mstep\u001b[0m=\u001b[35m53568\u001b[0m\n",
      "\u001b[2m2023-11-14 22:08:57\u001b[0m [\u001b[32m\u001b[1minfo     \u001b[0m] \u001b[1mModel parameters are saved to d3rlpy_logs/SeparateStateAndRewardEncoders_20231114212908/model_53568.pt\u001b[0m\n"
     ]
    },
    {
     "data": {
      "application/vnd.jupyter.widget-view+json": {
       "model_id": "85c2618078f64185857e3532f675a7b2",
       "version_major": 2,
       "version_minor": 0
      },
      "text/plain": [
       "Epoch 55/100:   0%|          | 0/992 [00:00<?, ?it/s]"
      ]
     },
     "metadata": {},
     "output_type": "display_data"
    },
    {
     "name": "stdout",
     "output_type": "stream",
     "text": [
      "\u001b[2m2023-11-14 22:09:36\u001b[0m [\u001b[32m\u001b[1minfo     \u001b[0m] \u001b[1mSeparateStateAndRewardEncoders_20231114212908: epoch=55 step=54560\u001b[0m \u001b[36mepoch\u001b[0m=\u001b[35m55\u001b[0m \u001b[36mmetrics\u001b[0m=\u001b[35m{'time_sample_batch': 0.00020397911148686563, 'time_algorithm_update': 0.018058590831295136, 'loss': -114.08048531413078, 'time_step': 0.018316133128058527, 'observation_error': 39.84331979583058, 'reward_error': 0.0016361419824097122, 'variance': 27.34112649407433}\u001b[0m \u001b[36mstep\u001b[0m=\u001b[35m54560\u001b[0m\n",
      "\u001b[2m2023-11-14 22:09:36\u001b[0m [\u001b[32m\u001b[1minfo     \u001b[0m] \u001b[1mModel parameters are saved to d3rlpy_logs/SeparateStateAndRewardEncoders_20231114212908/model_54560.pt\u001b[0m\n"
     ]
    },
    {
     "data": {
      "application/vnd.jupyter.widget-view+json": {
       "model_id": "1cc3879912c54882a1db73b4aed897d2",
       "version_major": 2,
       "version_minor": 0
      },
      "text/plain": [
       "Epoch 56/100:   0%|          | 0/992 [00:00<?, ?it/s]"
      ]
     },
     "metadata": {},
     "output_type": "display_data"
    },
    {
     "name": "stdout",
     "output_type": "stream",
     "text": [
      "\u001b[2m2023-11-14 22:10:15\u001b[0m [\u001b[32m\u001b[1minfo     \u001b[0m] \u001b[1mSeparateStateAndRewardEncoders_20231114212908: epoch=56 step=55552\u001b[0m \u001b[36mepoch\u001b[0m=\u001b[35m56\u001b[0m \u001b[36mmetrics\u001b[0m=\u001b[35m{'time_sample_batch': 0.0002127126339943178, 'time_algorithm_update': 0.019008983767801715, 'loss': -113.44075421267941, 'time_step': 0.01927908678208628, 'observation_error': 42.63745005816319, 'reward_error': 0.0016366664158433736, 'variance': 33.328670670412514}\u001b[0m \u001b[36mstep\u001b[0m=\u001b[35m55552\u001b[0m\n",
      "\u001b[2m2023-11-14 22:10:15\u001b[0m [\u001b[32m\u001b[1minfo     \u001b[0m] \u001b[1mModel parameters are saved to d3rlpy_logs/SeparateStateAndRewardEncoders_20231114212908/model_55552.pt\u001b[0m\n"
     ]
    },
    {
     "data": {
      "application/vnd.jupyter.widget-view+json": {
       "model_id": "da73b0a9bef94991a5194822d434e36b",
       "version_major": 2,
       "version_minor": 0
      },
      "text/plain": [
       "Epoch 57/100:   0%|          | 0/992 [00:00<?, ?it/s]"
      ]
     },
     "metadata": {},
     "output_type": "display_data"
    },
    {
     "name": "stdout",
     "output_type": "stream",
     "text": [
      "\u001b[2m2023-11-14 22:10:56\u001b[0m [\u001b[32m\u001b[1minfo     \u001b[0m] \u001b[1mSeparateStateAndRewardEncoders_20231114212908: epoch=57 step=56544\u001b[0m \u001b[36mepoch\u001b[0m=\u001b[35m57\u001b[0m \u001b[36mmetrics\u001b[0m=\u001b[35m{'time_sample_batch': 0.0002122016683701546, 'time_algorithm_update': 0.0192684379796828, 'loss': -113.7913044227227, 'time_step': 0.019540620186636524, 'observation_error': 37.990187674991056, 'reward_error': 0.0017436643777291334, 'variance': 24.267501646700502}\u001b[0m \u001b[36mstep\u001b[0m=\u001b[35m56544\u001b[0m\n",
      "\u001b[2m2023-11-14 22:10:56\u001b[0m [\u001b[32m\u001b[1minfo     \u001b[0m] \u001b[1mModel parameters are saved to d3rlpy_logs/SeparateStateAndRewardEncoders_20231114212908/model_56544.pt\u001b[0m\n"
     ]
    },
    {
     "data": {
      "application/vnd.jupyter.widget-view+json": {
       "model_id": "679d2d5c336342499cf348bafef4846c",
       "version_major": 2,
       "version_minor": 0
      },
      "text/plain": [
       "Epoch 58/100:   0%|          | 0/992 [00:00<?, ?it/s]"
      ]
     },
     "metadata": {},
     "output_type": "display_data"
    },
    {
     "name": "stdout",
     "output_type": "stream",
     "text": [
      "\u001b[2m2023-11-14 22:11:35\u001b[0m [\u001b[32m\u001b[1minfo     \u001b[0m] \u001b[1mSeparateStateAndRewardEncoders_20231114212908: epoch=58 step=57536\u001b[0m \u001b[36mepoch\u001b[0m=\u001b[35m58\u001b[0m \u001b[36mmetrics\u001b[0m=\u001b[35m{'time_sample_batch': 0.000216518678972798, 'time_algorithm_update': 0.018294031341229717, 'loss': -115.66896873135721, 'time_step': 0.01856557568234782, 'observation_error': 37.82434813009965, 'reward_error': 0.0014746797585630535, 'variance': 25.628118286931514}\u001b[0m \u001b[36mstep\u001b[0m=\u001b[35m57536\u001b[0m\n",
      "\u001b[2m2023-11-14 22:11:35\u001b[0m [\u001b[32m\u001b[1minfo     \u001b[0m] \u001b[1mModel parameters are saved to d3rlpy_logs/SeparateStateAndRewardEncoders_20231114212908/model_57536.pt\u001b[0m\n"
     ]
    },
    {
     "data": {
      "application/vnd.jupyter.widget-view+json": {
       "model_id": "43d465b3fa6e4273bde9b269a7b6f7ce",
       "version_major": 2,
       "version_minor": 0
      },
      "text/plain": [
       "Epoch 59/100:   0%|          | 0/992 [00:00<?, ?it/s]"
      ]
     },
     "metadata": {},
     "output_type": "display_data"
    },
    {
     "name": "stdout",
     "output_type": "stream",
     "text": [
      "\u001b[2m2023-11-14 22:12:14\u001b[0m [\u001b[32m\u001b[1minfo     \u001b[0m] \u001b[1mSeparateStateAndRewardEncoders_20231114212908: epoch=59 step=58528\u001b[0m \u001b[36mepoch\u001b[0m=\u001b[35m59\u001b[0m \u001b[36mmetrics\u001b[0m=\u001b[35m{'time_sample_batch': 0.00021621969438368274, 'time_algorithm_update': 0.01905235960598915, 'loss': -116.0586555359825, 'time_step': 0.019327858282673742, 'observation_error': 37.03371765774693, 'reward_error': 0.0016407932389039285, 'variance': 24.17410838385403}\u001b[0m \u001b[36mstep\u001b[0m=\u001b[35m58528\u001b[0m\n",
      "\u001b[2m2023-11-14 22:12:14\u001b[0m [\u001b[32m\u001b[1minfo     \u001b[0m] \u001b[1mModel parameters are saved to d3rlpy_logs/SeparateStateAndRewardEncoders_20231114212908/model_58528.pt\u001b[0m\n"
     ]
    },
    {
     "data": {
      "application/vnd.jupyter.widget-view+json": {
       "model_id": "2257b873902d488aba7901a7e23f491c",
       "version_major": 2,
       "version_minor": 0
      },
      "text/plain": [
       "Epoch 60/100:   0%|          | 0/992 [00:00<?, ?it/s]"
      ]
     },
     "metadata": {},
     "output_type": "display_data"
    },
    {
     "name": "stdout",
     "output_type": "stream",
     "text": [
      "\u001b[2m2023-11-14 22:12:54\u001b[0m [\u001b[32m\u001b[1minfo     \u001b[0m] \u001b[1mSeparateStateAndRewardEncoders_20231114212908: epoch=60 step=59520\u001b[0m \u001b[36mepoch\u001b[0m=\u001b[35m60\u001b[0m \u001b[36mmetrics\u001b[0m=\u001b[35m{'time_sample_batch': 0.00021913743788196194, 'time_algorithm_update': 0.018892468944672617, 'loss': -117.71550580907252, 'time_step': 0.019169783399951075, 'observation_error': 39.53649477080144, 'reward_error': 0.0016242292707377112, 'variance': 29.565579181782006}\u001b[0m \u001b[36mstep\u001b[0m=\u001b[35m59520\u001b[0m\n",
      "\u001b[2m2023-11-14 22:12:54\u001b[0m [\u001b[32m\u001b[1minfo     \u001b[0m] \u001b[1mModel parameters are saved to d3rlpy_logs/SeparateStateAndRewardEncoders_20231114212908/model_59520.pt\u001b[0m\n"
     ]
    },
    {
     "data": {
      "application/vnd.jupyter.widget-view+json": {
       "model_id": "45888522b626455e886c9c94cf27e114",
       "version_major": 2,
       "version_minor": 0
      },
      "text/plain": [
       "Epoch 61/100:   0%|          | 0/992 [00:00<?, ?it/s]"
      ]
     },
     "metadata": {},
     "output_type": "display_data"
    },
    {
     "name": "stdout",
     "output_type": "stream",
     "text": [
      "\u001b[2m2023-11-14 22:13:34\u001b[0m [\u001b[32m\u001b[1minfo     \u001b[0m] \u001b[1mSeparateStateAndRewardEncoders_20231114212908: epoch=61 step=60512\u001b[0m \u001b[36mepoch\u001b[0m=\u001b[35m61\u001b[0m \u001b[36mmetrics\u001b[0m=\u001b[35m{'time_sample_batch': 0.00020392695742268716, 'time_algorithm_update': 0.018381863111449827, 'loss': -113.00968954207436, 'time_step': 0.018641427399650697, 'observation_error': 38.57816900839435, 'reward_error': 0.0015448526266042613, 'variance': 27.19495168708894}\u001b[0m \u001b[36mstep\u001b[0m=\u001b[35m60512\u001b[0m\n",
      "\u001b[2m2023-11-14 22:13:34\u001b[0m [\u001b[32m\u001b[1minfo     \u001b[0m] \u001b[1mModel parameters are saved to d3rlpy_logs/SeparateStateAndRewardEncoders_20231114212908/model_60512.pt\u001b[0m\n"
     ]
    },
    {
     "data": {
      "application/vnd.jupyter.widget-view+json": {
       "model_id": "064249e79daa4e198fe371f352d451ae",
       "version_major": 2,
       "version_minor": 0
      },
      "text/plain": [
       "Epoch 62/100:   0%|          | 0/992 [00:00<?, ?it/s]"
      ]
     },
     "metadata": {},
     "output_type": "display_data"
    },
    {
     "name": "stdout",
     "output_type": "stream",
     "text": [
      "\u001b[2m2023-11-14 22:14:13\u001b[0m [\u001b[32m\u001b[1minfo     \u001b[0m] \u001b[1mSeparateStateAndRewardEncoders_20231114212908: epoch=62 step=61504\u001b[0m \u001b[36mepoch\u001b[0m=\u001b[35m62\u001b[0m \u001b[36mmetrics\u001b[0m=\u001b[35m{'time_sample_batch': 0.0002177110122096154, 'time_algorithm_update': 0.01925022755899737, 'loss': -116.50940464292803, 'time_step': 0.01952544503634976, 'observation_error': 37.497074535445456, 'reward_error': 0.0016086847136001987, 'variance': 24.06303283430636}\u001b[0m \u001b[36mstep\u001b[0m=\u001b[35m61504\u001b[0m\n",
      "\u001b[2m2023-11-14 22:14:13\u001b[0m [\u001b[32m\u001b[1minfo     \u001b[0m] \u001b[1mModel parameters are saved to d3rlpy_logs/SeparateStateAndRewardEncoders_20231114212908/model_61504.pt\u001b[0m\n"
     ]
    },
    {
     "data": {
      "application/vnd.jupyter.widget-view+json": {
       "model_id": "6185eddd30e74aedbf4fc90823780269",
       "version_major": 2,
       "version_minor": 0
      },
      "text/plain": [
       "Epoch 63/100:   0%|          | 0/992 [00:00<?, ?it/s]"
      ]
     },
     "metadata": {},
     "output_type": "display_data"
    },
    {
     "name": "stdout",
     "output_type": "stream",
     "text": [
      "\u001b[2m2023-11-14 22:14:52\u001b[0m [\u001b[32m\u001b[1minfo     \u001b[0m] \u001b[1mSeparateStateAndRewardEncoders_20231114212908: epoch=63 step=62496\u001b[0m \u001b[36mepoch\u001b[0m=\u001b[35m63\u001b[0m \u001b[36mmetrics\u001b[0m=\u001b[35m{'time_sample_batch': 0.00021024312703840195, 'time_algorithm_update': 0.018833332004085664, 'loss': -115.08355304454604, 'time_step': 0.019100686955836513, 'observation_error': 36.25185580723697, 'reward_error': 0.001609266571074768, 'variance': 23.12942517358687}\u001b[0m \u001b[36mstep\u001b[0m=\u001b[35m62496\u001b[0m\n",
      "\u001b[2m2023-11-14 22:14:52\u001b[0m [\u001b[32m\u001b[1minfo     \u001b[0m] \u001b[1mModel parameters are saved to d3rlpy_logs/SeparateStateAndRewardEncoders_20231114212908/model_62496.pt\u001b[0m\n"
     ]
    },
    {
     "data": {
      "application/vnd.jupyter.widget-view+json": {
       "model_id": "fac914a9d86e4f77b982aabeea4aaac5",
       "version_major": 2,
       "version_minor": 0
      },
      "text/plain": [
       "Epoch 64/100:   0%|          | 0/992 [00:00<?, ?it/s]"
      ]
     },
     "metadata": {},
     "output_type": "display_data"
    },
    {
     "name": "stdout",
     "output_type": "stream",
     "text": [
      "\u001b[2m2023-11-14 22:15:31\u001b[0m [\u001b[32m\u001b[1minfo     \u001b[0m] \u001b[1mSeparateStateAndRewardEncoders_20231114212908: epoch=64 step=63488\u001b[0m \u001b[36mepoch\u001b[0m=\u001b[35m64\u001b[0m \u001b[36mmetrics\u001b[0m=\u001b[35m{'time_sample_batch': 0.00021291283830519644, 'time_algorithm_update': 0.017205494305779858, 'loss': -116.04517193763486, 'time_step': 0.017471130336484602, 'observation_error': 37.04040332483361, 'reward_error': 0.0015281640431185428, 'variance': 23.303445432057647}\u001b[0m \u001b[36mstep\u001b[0m=\u001b[35m63488\u001b[0m\n",
      "\u001b[2m2023-11-14 22:15:31\u001b[0m [\u001b[32m\u001b[1minfo     \u001b[0m] \u001b[1mModel parameters are saved to d3rlpy_logs/SeparateStateAndRewardEncoders_20231114212908/model_63488.pt\u001b[0m\n"
     ]
    },
    {
     "data": {
      "application/vnd.jupyter.widget-view+json": {
       "model_id": "533a6adb28c541efb7a40dbb4d097796",
       "version_major": 2,
       "version_minor": 0
      },
      "text/plain": [
       "Epoch 65/100:   0%|          | 0/992 [00:00<?, ?it/s]"
      ]
     },
     "metadata": {},
     "output_type": "display_data"
    },
    {
     "name": "stdout",
     "output_type": "stream",
     "text": [
      "\u001b[2m2023-11-14 22:16:09\u001b[0m [\u001b[32m\u001b[1minfo     \u001b[0m] \u001b[1mSeparateStateAndRewardEncoders_20231114212908: epoch=65 step=64480\u001b[0m \u001b[36mepoch\u001b[0m=\u001b[35m65\u001b[0m \u001b[36mmetrics\u001b[0m=\u001b[35m{'time_sample_batch': 0.00021198632255677255, 'time_algorithm_update': 0.018774736552469192, 'loss': -117.09834356654075, 'time_step': 0.019044312017579234, 'observation_error': 36.79638306518546, 'reward_error': 0.0015797860461050234, 'variance': 23.131144828547903}\u001b[0m \u001b[36mstep\u001b[0m=\u001b[35m64480\u001b[0m\n",
      "\u001b[2m2023-11-14 22:16:09\u001b[0m [\u001b[32m\u001b[1minfo     \u001b[0m] \u001b[1mModel parameters are saved to d3rlpy_logs/SeparateStateAndRewardEncoders_20231114212908/model_64480.pt\u001b[0m\n"
     ]
    },
    {
     "data": {
      "application/vnd.jupyter.widget-view+json": {
       "model_id": "704ec85248464c67b0dfc26b6cb417f0",
       "version_major": 2,
       "version_minor": 0
      },
      "text/plain": [
       "Epoch 66/100:   0%|          | 0/992 [00:00<?, ?it/s]"
      ]
     },
     "metadata": {},
     "output_type": "display_data"
    },
    {
     "name": "stdout",
     "output_type": "stream",
     "text": [
      "\u001b[2m2023-11-14 22:16:48\u001b[0m [\u001b[32m\u001b[1minfo     \u001b[0m] \u001b[1mSeparateStateAndRewardEncoders_20231114212908: epoch=66 step=65472\u001b[0m \u001b[36mepoch\u001b[0m=\u001b[35m66\u001b[0m \u001b[36mmetrics\u001b[0m=\u001b[35m{'time_sample_batch': 0.0002180405201450471, 'time_algorithm_update': 0.018240995705127716, 'loss': -115.76672737540737, 'time_step': 0.018515558012070193, 'observation_error': 36.911223669033305, 'reward_error': 0.0015456615247780975, 'variance': 23.35593157334864}\u001b[0m \u001b[36mstep\u001b[0m=\u001b[35m65472\u001b[0m\n",
      "\u001b[2m2023-11-14 22:16:48\u001b[0m [\u001b[32m\u001b[1minfo     \u001b[0m] \u001b[1mModel parameters are saved to d3rlpy_logs/SeparateStateAndRewardEncoders_20231114212908/model_65472.pt\u001b[0m\n"
     ]
    },
    {
     "data": {
      "application/vnd.jupyter.widget-view+json": {
       "model_id": "547a6af66fb74f66b5a1337ebc2a207b",
       "version_major": 2,
       "version_minor": 0
      },
      "text/plain": [
       "Epoch 67/100:   0%|          | 0/992 [00:00<?, ?it/s]"
      ]
     },
     "metadata": {},
     "output_type": "display_data"
    },
    {
     "name": "stdout",
     "output_type": "stream",
     "text": [
      "\u001b[2m2023-11-14 22:17:27\u001b[0m [\u001b[32m\u001b[1minfo     \u001b[0m] \u001b[1mSeparateStateAndRewardEncoders_20231114212908: epoch=67 step=66464\u001b[0m \u001b[36mepoch\u001b[0m=\u001b[35m67\u001b[0m \u001b[36mmetrics\u001b[0m=\u001b[35m{'time_sample_batch': 0.00020115510109932193, 'time_algorithm_update': 0.018112686853254994, 'loss': -116.43934631059247, 'time_step': 0.01836814058403815, 'observation_error': 38.49977924654926, 'reward_error': 0.0016296465123858408, 'variance': 27.94029291590101}\u001b[0m \u001b[36mstep\u001b[0m=\u001b[35m66464\u001b[0m\n",
      "\u001b[2m2023-11-14 22:17:27\u001b[0m [\u001b[32m\u001b[1minfo     \u001b[0m] \u001b[1mModel parameters are saved to d3rlpy_logs/SeparateStateAndRewardEncoders_20231114212908/model_66464.pt\u001b[0m\n"
     ]
    },
    {
     "data": {
      "application/vnd.jupyter.widget-view+json": {
       "model_id": "b529ba5c616f4184b77faad90b16c0b2",
       "version_major": 2,
       "version_minor": 0
      },
      "text/plain": [
       "Epoch 68/100:   0%|          | 0/992 [00:00<?, ?it/s]"
      ]
     },
     "metadata": {},
     "output_type": "display_data"
    },
    {
     "name": "stdout",
     "output_type": "stream",
     "text": [
      "\u001b[2m2023-11-14 22:18:05\u001b[0m [\u001b[32m\u001b[1minfo     \u001b[0m] \u001b[1mSeparateStateAndRewardEncoders_20231114212908: epoch=68 step=67456\u001b[0m \u001b[36mepoch\u001b[0m=\u001b[35m68\u001b[0m \u001b[36mmetrics\u001b[0m=\u001b[35m{'time_sample_batch': 0.00019852432512467908, 'time_algorithm_update': 0.01736025175740642, 'loss': -116.84793611687999, 'time_step': 0.01761094504787076, 'observation_error': 37.16449105882532, 'reward_error': 0.0014828540008225903, 'variance': 24.014342670019204}\u001b[0m \u001b[36mstep\u001b[0m=\u001b[35m67456\u001b[0m\n",
      "\u001b[2m2023-11-14 22:18:05\u001b[0m [\u001b[32m\u001b[1minfo     \u001b[0m] \u001b[1mModel parameters are saved to d3rlpy_logs/SeparateStateAndRewardEncoders_20231114212908/model_67456.pt\u001b[0m\n"
     ]
    },
    {
     "data": {
      "application/vnd.jupyter.widget-view+json": {
       "model_id": "940ac2eb19a640f699cd71a3634454d8",
       "version_major": 2,
       "version_minor": 0
      },
      "text/plain": [
       "Epoch 69/100:   0%|          | 0/992 [00:00<?, ?it/s]"
      ]
     },
     "metadata": {},
     "output_type": "display_data"
    },
    {
     "name": "stdout",
     "output_type": "stream",
     "text": [
      "\u001b[2m2023-11-14 22:18:44\u001b[0m [\u001b[32m\u001b[1minfo     \u001b[0m] \u001b[1mSeparateStateAndRewardEncoders_20231114212908: epoch=69 step=68448\u001b[0m \u001b[36mepoch\u001b[0m=\u001b[35m69\u001b[0m \u001b[36mmetrics\u001b[0m=\u001b[35m{'time_sample_batch': 0.00021956861019134521, 'time_algorithm_update': 0.01915483921766281, 'loss': -118.46603348682964, 'time_step': 0.019431296375490004, 'observation_error': 36.26402218605329, 'reward_error': 0.0015882365995676646, 'variance': 22.84451089334137}\u001b[0m \u001b[36mstep\u001b[0m=\u001b[35m68448\u001b[0m\n",
      "\u001b[2m2023-11-14 22:18:44\u001b[0m [\u001b[32m\u001b[1minfo     \u001b[0m] \u001b[1mModel parameters are saved to d3rlpy_logs/SeparateStateAndRewardEncoders_20231114212908/model_68448.pt\u001b[0m\n"
     ]
    },
    {
     "data": {
      "application/vnd.jupyter.widget-view+json": {
       "model_id": "d2cc52476e8c417ab779a68e5ec1135a",
       "version_major": 2,
       "version_minor": 0
      },
      "text/plain": [
       "Epoch 70/100:   0%|          | 0/992 [00:00<?, ?it/s]"
      ]
     },
     "metadata": {},
     "output_type": "display_data"
    },
    {
     "name": "stdout",
     "output_type": "stream",
     "text": [
      "\u001b[2m2023-11-14 22:19:22\u001b[0m [\u001b[32m\u001b[1minfo     \u001b[0m] \u001b[1mSeparateStateAndRewardEncoders_20231114212908: epoch=70 step=69440\u001b[0m \u001b[36mepoch\u001b[0m=\u001b[35m70\u001b[0m \u001b[36mmetrics\u001b[0m=\u001b[35m{'time_sample_batch': 0.00021511869084450507, 'time_algorithm_update': 0.017727076526611082, 'loss': -117.17253010888254, 'time_step': 0.01799732518772925, 'observation_error': 36.96504238780977, 'reward_error': 0.0015096694632174702, 'variance': 24.623054434926445}\u001b[0m \u001b[36mstep\u001b[0m=\u001b[35m69440\u001b[0m\n",
      "\u001b[2m2023-11-14 22:19:22\u001b[0m [\u001b[32m\u001b[1minfo     \u001b[0m] \u001b[1mModel parameters are saved to d3rlpy_logs/SeparateStateAndRewardEncoders_20231114212908/model_69440.pt\u001b[0m\n"
     ]
    },
    {
     "data": {
      "application/vnd.jupyter.widget-view+json": {
       "model_id": "41df483972ca40e19b1f659eff62273b",
       "version_major": 2,
       "version_minor": 0
      },
      "text/plain": [
       "Epoch 71/100:   0%|          | 0/992 [00:00<?, ?it/s]"
      ]
     },
     "metadata": {},
     "output_type": "display_data"
    },
    {
     "name": "stdout",
     "output_type": "stream",
     "text": [
      "\u001b[2m2023-11-14 22:20:01\u001b[0m [\u001b[32m\u001b[1minfo     \u001b[0m] \u001b[1mSeparateStateAndRewardEncoders_20231114212908: epoch=71 step=70432\u001b[0m \u001b[36mepoch\u001b[0m=\u001b[35m71\u001b[0m \u001b[36mmetrics\u001b[0m=\u001b[35m{'time_sample_batch': 0.00020654619701447025, 'time_algorithm_update': 0.018277452117012392, 'loss': -119.03175296610401, 'time_step': 0.01853848224686038, 'observation_error': 36.57921372096204, 'reward_error': 0.0014954960207925097, 'variance': 23.471546386151182}\u001b[0m \u001b[36mstep\u001b[0m=\u001b[35m70432\u001b[0m\n",
      "\u001b[2m2023-11-14 22:20:01\u001b[0m [\u001b[32m\u001b[1minfo     \u001b[0m] \u001b[1mModel parameters are saved to d3rlpy_logs/SeparateStateAndRewardEncoders_20231114212908/model_70432.pt\u001b[0m\n"
     ]
    },
    {
     "data": {
      "application/vnd.jupyter.widget-view+json": {
       "model_id": "7ea78fcf99824f839f43fa2b2c55ad14",
       "version_major": 2,
       "version_minor": 0
      },
      "text/plain": [
       "Epoch 72/100:   0%|          | 0/992 [00:00<?, ?it/s]"
      ]
     },
     "metadata": {},
     "output_type": "display_data"
    },
    {
     "name": "stdout",
     "output_type": "stream",
     "text": [
      "\u001b[2m2023-11-14 22:20:39\u001b[0m [\u001b[32m\u001b[1minfo     \u001b[0m] \u001b[1mSeparateStateAndRewardEncoders_20231114212908: epoch=72 step=71424\u001b[0m \u001b[36mepoch\u001b[0m=\u001b[35m72\u001b[0m \u001b[36mmetrics\u001b[0m=\u001b[35m{'time_sample_batch': 0.000209367323306299, 'time_algorithm_update': 0.01819823874581245, 'loss': -117.36808730709937, 'time_step': 0.018464429243918386, 'observation_error': 35.91342064557411, 'reward_error': 0.0014837846382092252, 'variance': 22.252026457908617}\u001b[0m \u001b[36mstep\u001b[0m=\u001b[35m71424\u001b[0m\n",
      "\u001b[2m2023-11-14 22:20:39\u001b[0m [\u001b[32m\u001b[1minfo     \u001b[0m] \u001b[1mModel parameters are saved to d3rlpy_logs/SeparateStateAndRewardEncoders_20231114212908/model_71424.pt\u001b[0m\n"
     ]
    },
    {
     "data": {
      "application/vnd.jupyter.widget-view+json": {
       "model_id": "ea0847ec56b34c0f8b7d149cc207ad20",
       "version_major": 2,
       "version_minor": 0
      },
      "text/plain": [
       "Epoch 73/100:   0%|          | 0/992 [00:00<?, ?it/s]"
      ]
     },
     "metadata": {},
     "output_type": "display_data"
    },
    {
     "name": "stdout",
     "output_type": "stream",
     "text": [
      "\u001b[2m2023-11-14 22:21:18\u001b[0m [\u001b[32m\u001b[1minfo     \u001b[0m] \u001b[1mSeparateStateAndRewardEncoders_20231114212908: epoch=73 step=72416\u001b[0m \u001b[36mepoch\u001b[0m=\u001b[35m73\u001b[0m \u001b[36mmetrics\u001b[0m=\u001b[35m{'time_sample_batch': 0.00021400903501818256, 'time_algorithm_update': 0.01838476691515215, 'loss': -119.58374814256545, 'time_step': 0.018656277608486913, 'observation_error': 36.520435004820875, 'reward_error': 0.0015711096224505978, 'variance': 24.278758064373466}\u001b[0m \u001b[36mstep\u001b[0m=\u001b[35m72416\u001b[0m\n",
      "\u001b[2m2023-11-14 22:21:18\u001b[0m [\u001b[32m\u001b[1minfo     \u001b[0m] \u001b[1mModel parameters are saved to d3rlpy_logs/SeparateStateAndRewardEncoders_20231114212908/model_72416.pt\u001b[0m\n"
     ]
    },
    {
     "data": {
      "application/vnd.jupyter.widget-view+json": {
       "model_id": "ab628bf68c274c32b9a74d45bd72381c",
       "version_major": 2,
       "version_minor": 0
      },
      "text/plain": [
       "Epoch 74/100:   0%|          | 0/992 [00:00<?, ?it/s]"
      ]
     },
     "metadata": {},
     "output_type": "display_data"
    },
    {
     "name": "stdout",
     "output_type": "stream",
     "text": [
      "\u001b[2m2023-11-14 22:21:56\u001b[0m [\u001b[32m\u001b[1minfo     \u001b[0m] \u001b[1mSeparateStateAndRewardEncoders_20231114212908: epoch=74 step=73408\u001b[0m \u001b[36mepoch\u001b[0m=\u001b[35m74\u001b[0m \u001b[36mmetrics\u001b[0m=\u001b[35m{'time_sample_batch': 0.0002028180226202934, 'time_algorithm_update': 0.01769335664087726, 'loss': -119.75252240319406, 'time_step': 0.01794960229627548, 'observation_error': 36.18623993011162, 'reward_error': 0.0014835281865347983, 'variance': 24.11706635096643}\u001b[0m \u001b[36mstep\u001b[0m=\u001b[35m73408\u001b[0m\n",
      "\u001b[2m2023-11-14 22:21:56\u001b[0m [\u001b[32m\u001b[1minfo     \u001b[0m] \u001b[1mModel parameters are saved to d3rlpy_logs/SeparateStateAndRewardEncoders_20231114212908/model_73408.pt\u001b[0m\n"
     ]
    },
    {
     "data": {
      "application/vnd.jupyter.widget-view+json": {
       "model_id": "8798ca47b6594e59a5645533b6cbbd82",
       "version_major": 2,
       "version_minor": 0
      },
      "text/plain": [
       "Epoch 75/100:   0%|          | 0/992 [00:00<?, ?it/s]"
      ]
     },
     "metadata": {},
     "output_type": "display_data"
    },
    {
     "name": "stdout",
     "output_type": "stream",
     "text": [
      "\u001b[2m2023-11-14 22:22:34\u001b[0m [\u001b[32m\u001b[1minfo     \u001b[0m] \u001b[1mSeparateStateAndRewardEncoders_20231114212908: epoch=75 step=74400\u001b[0m \u001b[36mepoch\u001b[0m=\u001b[35m75\u001b[0m \u001b[36mmetrics\u001b[0m=\u001b[35m{'time_sample_batch': 0.00020751813727040445, 'time_algorithm_update': 0.017309702932834625, 'loss': -119.30591982987619, 'time_step': 0.017571922752165025, 'observation_error': 35.686394037564305, 'reward_error': 0.0015313426222538118, 'variance': 22.88213320868373}\u001b[0m \u001b[36mstep\u001b[0m=\u001b[35m74400\u001b[0m\n",
      "\u001b[2m2023-11-14 22:22:34\u001b[0m [\u001b[32m\u001b[1minfo     \u001b[0m] \u001b[1mModel parameters are saved to d3rlpy_logs/SeparateStateAndRewardEncoders_20231114212908/model_74400.pt\u001b[0m\n"
     ]
    },
    {
     "data": {
      "application/vnd.jupyter.widget-view+json": {
       "model_id": "fb701560c81743e790b3e0367ad09703",
       "version_major": 2,
       "version_minor": 0
      },
      "text/plain": [
       "Epoch 76/100:   0%|          | 0/992 [00:00<?, ?it/s]"
      ]
     },
     "metadata": {},
     "output_type": "display_data"
    },
    {
     "name": "stdout",
     "output_type": "stream",
     "text": [
      "\u001b[2m2023-11-14 22:23:13\u001b[0m [\u001b[32m\u001b[1minfo     \u001b[0m] \u001b[1mSeparateStateAndRewardEncoders_20231114212908: epoch=76 step=75392\u001b[0m \u001b[36mepoch\u001b[0m=\u001b[35m76\u001b[0m \u001b[36mmetrics\u001b[0m=\u001b[35m{'time_sample_batch': 0.00021223483547087637, 'time_algorithm_update': 0.018227196749179594, 'loss': -119.44864637044168, 'time_step': 0.018495718798329754, 'observation_error': 35.73007203716967, 'reward_error': 0.001544535044616282, 'variance': 22.598925833235384}\u001b[0m \u001b[36mstep\u001b[0m=\u001b[35m75392\u001b[0m\n",
      "\u001b[2m2023-11-14 22:23:13\u001b[0m [\u001b[32m\u001b[1minfo     \u001b[0m] \u001b[1mModel parameters are saved to d3rlpy_logs/SeparateStateAndRewardEncoders_20231114212908/model_75392.pt\u001b[0m\n"
     ]
    },
    {
     "data": {
      "application/vnd.jupyter.widget-view+json": {
       "model_id": "52b501eeec7c454c97a2bc2bd3174db0",
       "version_major": 2,
       "version_minor": 0
      },
      "text/plain": [
       "Epoch 77/100:   0%|          | 0/992 [00:00<?, ?it/s]"
      ]
     },
     "metadata": {},
     "output_type": "display_data"
    },
    {
     "name": "stdout",
     "output_type": "stream",
     "text": [
      "\u001b[2m2023-11-14 22:23:51\u001b[0m [\u001b[32m\u001b[1minfo     \u001b[0m] \u001b[1mSeparateStateAndRewardEncoders_20231114212908: epoch=77 step=76384\u001b[0m \u001b[36mepoch\u001b[0m=\u001b[35m77\u001b[0m \u001b[36mmetrics\u001b[0m=\u001b[35m{'time_sample_batch': 0.00020884241788618027, 'time_algorithm_update': 0.018371886303347927, 'loss': -120.85002750638992, 'time_step': 0.018636882545486573, 'observation_error': 36.05185562814974, 'reward_error': 0.0013466615131220339, 'variance': 23.009967707995045}\u001b[0m \u001b[36mstep\u001b[0m=\u001b[35m76384\u001b[0m\n",
      "\u001b[2m2023-11-14 22:23:51\u001b[0m [\u001b[32m\u001b[1minfo     \u001b[0m] \u001b[1mModel parameters are saved to d3rlpy_logs/SeparateStateAndRewardEncoders_20231114212908/model_76384.pt\u001b[0m\n"
     ]
    },
    {
     "data": {
      "application/vnd.jupyter.widget-view+json": {
       "model_id": "c70cfa331c644af1bc8ce8087a069cde",
       "version_major": 2,
       "version_minor": 0
      },
      "text/plain": [
       "Epoch 78/100:   0%|          | 0/992 [00:00<?, ?it/s]"
      ]
     },
     "metadata": {},
     "output_type": "display_data"
    },
    {
     "name": "stdout",
     "output_type": "stream",
     "text": [
      "\u001b[2m2023-11-14 22:24:29\u001b[0m [\u001b[32m\u001b[1minfo     \u001b[0m] \u001b[1mSeparateStateAndRewardEncoders_20231114212908: epoch=78 step=77376\u001b[0m \u001b[36mepoch\u001b[0m=\u001b[35m78\u001b[0m \u001b[36mmetrics\u001b[0m=\u001b[35m{'time_sample_batch': 0.00019609255175436697, 'time_algorithm_update': 0.017167735243997267, 'loss': -117.87678377859054, 'time_step': 0.017416208261443723, 'observation_error': 37.6569688504601, 'reward_error': 0.0015410046410569407, 'variance': 25.428665489621757}\u001b[0m \u001b[36mstep\u001b[0m=\u001b[35m77376\u001b[0m\n",
      "\u001b[2m2023-11-14 22:24:29\u001b[0m [\u001b[32m\u001b[1minfo     \u001b[0m] \u001b[1mModel parameters are saved to d3rlpy_logs/SeparateStateAndRewardEncoders_20231114212908/model_77376.pt\u001b[0m\n"
     ]
    },
    {
     "data": {
      "application/vnd.jupyter.widget-view+json": {
       "model_id": "97cfcde17df9483893ee0ba6512a997f",
       "version_major": 2,
       "version_minor": 0
      },
      "text/plain": [
       "Epoch 79/100:   0%|          | 0/992 [00:00<?, ?it/s]"
      ]
     },
     "metadata": {},
     "output_type": "display_data"
    },
    {
     "name": "stdout",
     "output_type": "stream",
     "text": [
      "\u001b[2m2023-11-14 22:25:07\u001b[0m [\u001b[32m\u001b[1minfo     \u001b[0m] \u001b[1mSeparateStateAndRewardEncoders_20231114212908: epoch=79 step=78368\u001b[0m \u001b[36mepoch\u001b[0m=\u001b[35m79\u001b[0m \u001b[36mmetrics\u001b[0m=\u001b[35m{'time_sample_batch': 0.00021331372760957288, 'time_algorithm_update': 0.018128926234860576, 'loss': -119.32719502141398, 'time_step': 0.018400826761799473, 'observation_error': 39.734670748040394, 'reward_error': 0.0015801496414799229, 'variance': 28.937803908651272}\u001b[0m \u001b[36mstep\u001b[0m=\u001b[35m78368\u001b[0m\n",
      "\u001b[2m2023-11-14 22:25:07\u001b[0m [\u001b[32m\u001b[1minfo     \u001b[0m] \u001b[1mModel parameters are saved to d3rlpy_logs/SeparateStateAndRewardEncoders_20231114212908/model_78368.pt\u001b[0m\n"
     ]
    },
    {
     "data": {
      "application/vnd.jupyter.widget-view+json": {
       "model_id": "41e731dd4bd2451abeaede1cf2e4824c",
       "version_major": 2,
       "version_minor": 0
      },
      "text/plain": [
       "Epoch 80/100:   0%|          | 0/992 [00:00<?, ?it/s]"
      ]
     },
     "metadata": {},
     "output_type": "display_data"
    },
    {
     "name": "stdout",
     "output_type": "stream",
     "text": [
      "\u001b[2m2023-11-14 22:25:46\u001b[0m [\u001b[32m\u001b[1minfo     \u001b[0m] \u001b[1mSeparateStateAndRewardEncoders_20231114212908: epoch=80 step=79360\u001b[0m \u001b[36mepoch\u001b[0m=\u001b[35m80\u001b[0m \u001b[36mmetrics\u001b[0m=\u001b[35m{'time_sample_batch': 0.0002100035067527525, 'time_algorithm_update': 0.01846821726329865, 'loss': -121.66909744566486, 'time_step': 0.018732790985415058, 'observation_error': 35.99262478673163, 'reward_error': 0.0014953553591063409, 'variance': 22.901676471465496}\u001b[0m \u001b[36mstep\u001b[0m=\u001b[35m79360\u001b[0m\n",
      "\u001b[2m2023-11-14 22:25:46\u001b[0m [\u001b[32m\u001b[1minfo     \u001b[0m] \u001b[1mModel parameters are saved to d3rlpy_logs/SeparateStateAndRewardEncoders_20231114212908/model_79360.pt\u001b[0m\n"
     ]
    },
    {
     "data": {
      "application/vnd.jupyter.widget-view+json": {
       "model_id": "c89ebd223cb146fcb907c386e6f441bc",
       "version_major": 2,
       "version_minor": 0
      },
      "text/plain": [
       "Epoch 81/100:   0%|          | 0/992 [00:00<?, ?it/s]"
      ]
     },
     "metadata": {},
     "output_type": "display_data"
    },
    {
     "name": "stdout",
     "output_type": "stream",
     "text": [
      "\u001b[2m2023-11-14 22:26:24\u001b[0m [\u001b[32m\u001b[1minfo     \u001b[0m] \u001b[1mSeparateStateAndRewardEncoders_20231114212908: epoch=81 step=80352\u001b[0m \u001b[36mepoch\u001b[0m=\u001b[35m81\u001b[0m \u001b[36mmetrics\u001b[0m=\u001b[35m{'time_sample_batch': 0.00021601828836625623, 'time_algorithm_update': 0.017863184694320924, 'loss': -119.27312592537173, 'time_step': 0.018136550582224322, 'observation_error': 35.643048222350984, 'reward_error': 0.0014808093558043565, 'variance': 22.71184120781415}\u001b[0m \u001b[36mstep\u001b[0m=\u001b[35m80352\u001b[0m\n",
      "\u001b[2m2023-11-14 22:26:24\u001b[0m [\u001b[32m\u001b[1minfo     \u001b[0m] \u001b[1mModel parameters are saved to d3rlpy_logs/SeparateStateAndRewardEncoders_20231114212908/model_80352.pt\u001b[0m\n"
     ]
    },
    {
     "data": {
      "application/vnd.jupyter.widget-view+json": {
       "model_id": "055497ca36a2416a8e24c55982aaaf92",
       "version_major": 2,
       "version_minor": 0
      },
      "text/plain": [
       "Epoch 82/100:   0%|          | 0/992 [00:00<?, ?it/s]"
      ]
     },
     "metadata": {},
     "output_type": "display_data"
    },
    {
     "name": "stdout",
     "output_type": "stream",
     "text": [
      "\u001b[2m2023-11-14 22:27:02\u001b[0m [\u001b[32m\u001b[1minfo     \u001b[0m] \u001b[1mSeparateStateAndRewardEncoders_20231114212908: epoch=82 step=81344\u001b[0m \u001b[36mepoch\u001b[0m=\u001b[35m82\u001b[0m \u001b[36mmetrics\u001b[0m=\u001b[35m{'time_sample_batch': 0.00019964095084897934, 'time_algorithm_update': 0.017135287725156354, 'loss': -121.85197000541994, 'time_step': 0.01738592405473032, 'observation_error': 36.251743379652844, 'reward_error': 0.0015257108662048568, 'variance': 23.794174283349847}\u001b[0m \u001b[36mstep\u001b[0m=\u001b[35m81344\u001b[0m\n",
      "\u001b[2m2023-11-14 22:27:02\u001b[0m [\u001b[32m\u001b[1minfo     \u001b[0m] \u001b[1mModel parameters are saved to d3rlpy_logs/SeparateStateAndRewardEncoders_20231114212908/model_81344.pt\u001b[0m\n"
     ]
    },
    {
     "data": {
      "application/vnd.jupyter.widget-view+json": {
       "model_id": "6769057b07514a9fa0cb22c293ddc895",
       "version_major": 2,
       "version_minor": 0
      },
      "text/plain": [
       "Epoch 83/100:   0%|          | 0/992 [00:00<?, ?it/s]"
      ]
     },
     "metadata": {},
     "output_type": "display_data"
    },
    {
     "name": "stdout",
     "output_type": "stream",
     "text": [
      "\u001b[2m2023-11-14 22:27:40\u001b[0m [\u001b[32m\u001b[1minfo     \u001b[0m] \u001b[1mSeparateStateAndRewardEncoders_20231114212908: epoch=83 step=82336\u001b[0m \u001b[36mepoch\u001b[0m=\u001b[35m83\u001b[0m \u001b[36mmetrics\u001b[0m=\u001b[35m{'time_sample_batch': 0.00021282823816422494, 'time_algorithm_update': 0.018127587533766223, 'loss': -122.457793653492, 'time_step': 0.01839775664191092, 'observation_error': 35.28444249558059, 'reward_error': 0.0014994260085417627, 'variance': 22.322580407660105}\u001b[0m \u001b[36mstep\u001b[0m=\u001b[35m82336\u001b[0m\n",
      "\u001b[2m2023-11-14 22:27:40\u001b[0m [\u001b[32m\u001b[1minfo     \u001b[0m] \u001b[1mModel parameters are saved to d3rlpy_logs/SeparateStateAndRewardEncoders_20231114212908/model_82336.pt\u001b[0m\n"
     ]
    },
    {
     "data": {
      "application/vnd.jupyter.widget-view+json": {
       "model_id": "e05c4df5f50149969177a57408c703a5",
       "version_major": 2,
       "version_minor": 0
      },
      "text/plain": [
       "Epoch 84/100:   0%|          | 0/992 [00:00<?, ?it/s]"
      ]
     },
     "metadata": {},
     "output_type": "display_data"
    },
    {
     "name": "stdout",
     "output_type": "stream",
     "text": [
      "\u001b[2m2023-11-14 22:28:18\u001b[0m [\u001b[32m\u001b[1minfo     \u001b[0m] \u001b[1mSeparateStateAndRewardEncoders_20231114212908: epoch=84 step=83328\u001b[0m \u001b[36mepoch\u001b[0m=\u001b[35m84\u001b[0m \u001b[36mmetrics\u001b[0m=\u001b[35m{'time_sample_batch': 0.00021228891226553147, 'time_algorithm_update': 0.018020485197344133, 'loss': -121.57191812511414, 'time_step': 0.01828884405474509, 'observation_error': 36.350198423881466, 'reward_error': 0.0014646192543808527, 'variance': 23.889276711161102}\u001b[0m \u001b[36mstep\u001b[0m=\u001b[35m83328\u001b[0m\n",
      "\u001b[2m2023-11-14 22:28:18\u001b[0m [\u001b[32m\u001b[1minfo     \u001b[0m] \u001b[1mModel parameters are saved to d3rlpy_logs/SeparateStateAndRewardEncoders_20231114212908/model_83328.pt\u001b[0m\n"
     ]
    },
    {
     "data": {
      "application/vnd.jupyter.widget-view+json": {
       "model_id": "c46764417fea4f0194e9e5ab249f187c",
       "version_major": 2,
       "version_minor": 0
      },
      "text/plain": [
       "Epoch 85/100:   0%|          | 0/992 [00:00<?, ?it/s]"
      ]
     },
     "metadata": {},
     "output_type": "display_data"
    },
    {
     "name": "stdout",
     "output_type": "stream",
     "text": [
      "\u001b[2m2023-11-14 22:28:56\u001b[0m [\u001b[32m\u001b[1minfo     \u001b[0m] \u001b[1mSeparateStateAndRewardEncoders_20231114212908: epoch=85 step=84320\u001b[0m \u001b[36mepoch\u001b[0m=\u001b[35m85\u001b[0m \u001b[36mmetrics\u001b[0m=\u001b[35m{'time_sample_batch': 0.0002128186245118418, 'time_algorithm_update': 0.017265041749323567, 'loss': -120.80127926411167, 'time_step': 0.017531698749911402, 'observation_error': 35.201035690945595, 'reward_error': 0.0013227470969329217, 'variance': 22.016826908635398}\u001b[0m \u001b[36mstep\u001b[0m=\u001b[35m84320\u001b[0m\n",
      "\u001b[2m2023-11-14 22:28:57\u001b[0m [\u001b[32m\u001b[1minfo     \u001b[0m] \u001b[1mModel parameters are saved to d3rlpy_logs/SeparateStateAndRewardEncoders_20231114212908/model_84320.pt\u001b[0m\n"
     ]
    },
    {
     "data": {
      "application/vnd.jupyter.widget-view+json": {
       "model_id": "7a84391a3ef2459292b121f9947988d3",
       "version_major": 2,
       "version_minor": 0
      },
      "text/plain": [
       "Epoch 86/100:   0%|          | 0/992 [00:00<?, ?it/s]"
      ]
     },
     "metadata": {},
     "output_type": "display_data"
    },
    {
     "name": "stdout",
     "output_type": "stream",
     "text": [
      "\u001b[2m2023-11-14 22:29:34\u001b[0m [\u001b[32m\u001b[1minfo     \u001b[0m] \u001b[1mSeparateStateAndRewardEncoders_20231114212908: epoch=86 step=85312\u001b[0m \u001b[36mepoch\u001b[0m=\u001b[35m86\u001b[0m \u001b[36mmetrics\u001b[0m=\u001b[35m{'time_sample_batch': 0.00020513611455117502, 'time_algorithm_update': 0.01733388247028474, 'loss': -121.67548700734493, 'time_step': 0.017590780652338458, 'observation_error': 38.04285046044014, 'reward_error': 0.00126588446423032, 'variance': 26.96343166228599}\u001b[0m \u001b[36mstep\u001b[0m=\u001b[35m85312\u001b[0m\n",
      "\u001b[2m2023-11-14 22:29:34\u001b[0m [\u001b[32m\u001b[1minfo     \u001b[0m] \u001b[1mModel parameters are saved to d3rlpy_logs/SeparateStateAndRewardEncoders_20231114212908/model_85312.pt\u001b[0m\n"
     ]
    },
    {
     "data": {
      "application/vnd.jupyter.widget-view+json": {
       "model_id": "2d959f3945fb4f1992058565f2075fac",
       "version_major": 2,
       "version_minor": 0
      },
      "text/plain": [
       "Epoch 87/100:   0%|          | 0/992 [00:00<?, ?it/s]"
      ]
     },
     "metadata": {},
     "output_type": "display_data"
    },
    {
     "name": "stdout",
     "output_type": "stream",
     "text": [
      "\u001b[2m2023-11-14 22:30:13\u001b[0m [\u001b[32m\u001b[1minfo     \u001b[0m] \u001b[1mSeparateStateAndRewardEncoders_20231114212908: epoch=87 step=86304\u001b[0m \u001b[36mepoch\u001b[0m=\u001b[35m87\u001b[0m \u001b[36mmetrics\u001b[0m=\u001b[35m{'time_sample_batch': 0.0002155681290934163, 'time_algorithm_update': 0.018375592606682933, 'loss': -123.3352538683722, 'time_step': 0.018644928211166013, 'observation_error': 37.6092634193231, 'reward_error': 0.0013337051362183687, 'variance': 26.264503023769755}\u001b[0m \u001b[36mstep\u001b[0m=\u001b[35m86304\u001b[0m\n",
      "\u001b[2m2023-11-14 22:30:13\u001b[0m [\u001b[32m\u001b[1minfo     \u001b[0m] \u001b[1mModel parameters are saved to d3rlpy_logs/SeparateStateAndRewardEncoders_20231114212908/model_86304.pt\u001b[0m\n"
     ]
    },
    {
     "data": {
      "application/vnd.jupyter.widget-view+json": {
       "model_id": "7a25cf50eed94e638938d0ad3f4a1612",
       "version_major": 2,
       "version_minor": 0
      },
      "text/plain": [
       "Epoch 88/100:   0%|          | 0/992 [00:00<?, ?it/s]"
      ]
     },
     "metadata": {},
     "output_type": "display_data"
    },
    {
     "name": "stdout",
     "output_type": "stream",
     "text": [
      "\u001b[2m2023-11-14 22:30:51\u001b[0m [\u001b[32m\u001b[1minfo     \u001b[0m] \u001b[1mSeparateStateAndRewardEncoders_20231114212908: epoch=88 step=87296\u001b[0m \u001b[36mepoch\u001b[0m=\u001b[35m88\u001b[0m \u001b[36mmetrics\u001b[0m=\u001b[35m{'time_sample_batch': 0.00021018688717196063, 'time_algorithm_update': 0.018198956645304156, 'loss': -121.59055316159802, 'time_step': 0.018466454840475512, 'observation_error': 35.473176814477384, 'reward_error': 0.0013598115789775166, 'variance': 23.556060815655226}\u001b[0m \u001b[36mstep\u001b[0m=\u001b[35m87296\u001b[0m\n",
      "\u001b[2m2023-11-14 22:30:51\u001b[0m [\u001b[32m\u001b[1minfo     \u001b[0m] \u001b[1mModel parameters are saved to d3rlpy_logs/SeparateStateAndRewardEncoders_20231114212908/model_87296.pt\u001b[0m\n"
     ]
    },
    {
     "data": {
      "application/vnd.jupyter.widget-view+json": {
       "model_id": "5f01a74b991842ab91330c58f564b74d",
       "version_major": 2,
       "version_minor": 0
      },
      "text/plain": [
       "Epoch 89/100:   0%|          | 0/992 [00:00<?, ?it/s]"
      ]
     },
     "metadata": {},
     "output_type": "display_data"
    },
    {
     "name": "stdout",
     "output_type": "stream",
     "text": [
      "\u001b[2m2023-11-14 22:31:29\u001b[0m [\u001b[32m\u001b[1minfo     \u001b[0m] \u001b[1mSeparateStateAndRewardEncoders_20231114212908: epoch=89 step=88288\u001b[0m \u001b[36mepoch\u001b[0m=\u001b[35m89\u001b[0m \u001b[36mmetrics\u001b[0m=\u001b[35m{'time_sample_batch': 0.00020276658958004367, 'time_algorithm_update': 0.017147245666673108, 'loss': -122.25667582404229, 'time_step': 0.01740193655413966, 'observation_error': 34.81846553151427, 'reward_error': 0.0014092886271648499, 'variance': 21.992486813666325}\u001b[0m \u001b[36mstep\u001b[0m=\u001b[35m88288\u001b[0m\n",
      "\u001b[2m2023-11-14 22:31:29\u001b[0m [\u001b[32m\u001b[1minfo     \u001b[0m] \u001b[1mModel parameters are saved to d3rlpy_logs/SeparateStateAndRewardEncoders_20231114212908/model_88288.pt\u001b[0m\n"
     ]
    },
    {
     "data": {
      "application/vnd.jupyter.widget-view+json": {
       "model_id": "44776aa22925431b9005bde26f522c13",
       "version_major": 2,
       "version_minor": 0
      },
      "text/plain": [
       "Epoch 90/100:   0%|          | 0/992 [00:00<?, ?it/s]"
      ]
     },
     "metadata": {},
     "output_type": "display_data"
    },
    {
     "name": "stdout",
     "output_type": "stream",
     "text": [
      "\u001b[2m2023-11-14 22:32:07\u001b[0m [\u001b[32m\u001b[1minfo     \u001b[0m] \u001b[1mSeparateStateAndRewardEncoders_20231114212908: epoch=90 step=89280\u001b[0m \u001b[36mepoch\u001b[0m=\u001b[35m90\u001b[0m \u001b[36mmetrics\u001b[0m=\u001b[35m{'time_sample_batch': 0.00019832171740070465, 'time_algorithm_update': 0.01734099224690468, 'loss': -122.34646393791321, 'time_step': 0.017590357170950983, 'observation_error': 34.85427976290808, 'reward_error': 0.001377285862303592, 'variance': 21.784293158612087}\u001b[0m \u001b[36mstep\u001b[0m=\u001b[35m89280\u001b[0m\n",
      "\u001b[2m2023-11-14 22:32:07\u001b[0m [\u001b[32m\u001b[1minfo     \u001b[0m] \u001b[1mModel parameters are saved to d3rlpy_logs/SeparateStateAndRewardEncoders_20231114212908/model_89280.pt\u001b[0m\n"
     ]
    },
    {
     "data": {
      "application/vnd.jupyter.widget-view+json": {
       "model_id": "f30bd1db3e8b42e98da89eac04a0961f",
       "version_major": 2,
       "version_minor": 0
      },
      "text/plain": [
       "Epoch 91/100:   0%|          | 0/992 [00:00<?, ?it/s]"
      ]
     },
     "metadata": {},
     "output_type": "display_data"
    },
    {
     "name": "stdout",
     "output_type": "stream",
     "text": [
      "\u001b[2m2023-11-14 22:32:44\u001b[0m [\u001b[32m\u001b[1minfo     \u001b[0m] \u001b[1mSeparateStateAndRewardEncoders_20231114212908: epoch=91 step=90272\u001b[0m \u001b[36mepoch\u001b[0m=\u001b[35m91\u001b[0m \u001b[36mmetrics\u001b[0m=\u001b[35m{'time_sample_batch': 0.0002084718115868107, 'time_algorithm_update': 0.017785097081815044, 'loss': -124.49954896396206, 'time_step': 0.01804753441003061, 'observation_error': 35.605072590837004, 'reward_error': 0.0014298977624717733, 'variance': 23.31604779548327}\u001b[0m \u001b[36mstep\u001b[0m=\u001b[35m90272\u001b[0m\n",
      "\u001b[2m2023-11-14 22:32:44\u001b[0m [\u001b[32m\u001b[1minfo     \u001b[0m] \u001b[1mModel parameters are saved to d3rlpy_logs/SeparateStateAndRewardEncoders_20231114212908/model_90272.pt\u001b[0m\n"
     ]
    },
    {
     "data": {
      "application/vnd.jupyter.widget-view+json": {
       "model_id": "48c873802be34923b87bcfe626fadb45",
       "version_major": 2,
       "version_minor": 0
      },
      "text/plain": [
       "Epoch 92/100:   0%|          | 0/992 [00:00<?, ?it/s]"
      ]
     },
     "metadata": {},
     "output_type": "display_data"
    },
    {
     "name": "stdout",
     "output_type": "stream",
     "text": [
      "\u001b[2m2023-11-14 22:33:23\u001b[0m [\u001b[32m\u001b[1minfo     \u001b[0m] \u001b[1mSeparateStateAndRewardEncoders_20231114212908: epoch=92 step=91264\u001b[0m \u001b[36mepoch\u001b[0m=\u001b[35m92\u001b[0m \u001b[36mmetrics\u001b[0m=\u001b[35m{'time_sample_batch': 0.0002092586890343697, 'time_algorithm_update': 0.01826858832951515, 'loss': -121.13986396597278, 'time_step': 0.018534484649858168, 'observation_error': 35.06438123908293, 'reward_error': 0.0013745811880783686, 'variance': 22.80093299330877}\u001b[0m \u001b[36mstep\u001b[0m=\u001b[35m91264\u001b[0m\n",
      "\u001b[2m2023-11-14 22:33:23\u001b[0m [\u001b[32m\u001b[1minfo     \u001b[0m] \u001b[1mModel parameters are saved to d3rlpy_logs/SeparateStateAndRewardEncoders_20231114212908/model_91264.pt\u001b[0m\n"
     ]
    },
    {
     "data": {
      "application/vnd.jupyter.widget-view+json": {
       "model_id": "437be3276ec64cd8bc9475c41bdc8995",
       "version_major": 2,
       "version_minor": 0
      },
      "text/plain": [
       "Epoch 93/100:   0%|          | 0/992 [00:00<?, ?it/s]"
      ]
     },
     "metadata": {},
     "output_type": "display_data"
    },
    {
     "name": "stdout",
     "output_type": "stream",
     "text": [
      "\u001b[2m2023-11-14 22:34:01\u001b[0m [\u001b[32m\u001b[1minfo     \u001b[0m] \u001b[1mSeparateStateAndRewardEncoders_20231114212908: epoch=93 step=92256\u001b[0m \u001b[36mepoch\u001b[0m=\u001b[35m93\u001b[0m \u001b[36mmetrics\u001b[0m=\u001b[35m{'time_sample_batch': 0.00020883857242522702, 'time_algorithm_update': 0.01720280248311258, 'loss': -123.2798170351213, 'time_step': 0.017466169211172288, 'observation_error': 35.84941734055401, 'reward_error': 0.001323470493464907, 'variance': 23.187874401015208}\u001b[0m \u001b[36mstep\u001b[0m=\u001b[35m92256\u001b[0m\n",
      "\u001b[2m2023-11-14 22:34:01\u001b[0m [\u001b[32m\u001b[1minfo     \u001b[0m] \u001b[1mModel parameters are saved to d3rlpy_logs/SeparateStateAndRewardEncoders_20231114212908/model_92256.pt\u001b[0m\n"
     ]
    },
    {
     "data": {
      "application/vnd.jupyter.widget-view+json": {
       "model_id": "0d1b15e9a21a4ac3b14d830ec5ea016b",
       "version_major": 2,
       "version_minor": 0
      },
      "text/plain": [
       "Epoch 94/100:   0%|          | 0/992 [00:00<?, ?it/s]"
      ]
     },
     "metadata": {},
     "output_type": "display_data"
    },
    {
     "name": "stdout",
     "output_type": "stream",
     "text": [
      "\u001b[2m2023-11-14 22:34:39\u001b[0m [\u001b[32m\u001b[1minfo     \u001b[0m] \u001b[1mSeparateStateAndRewardEncoders_20231114212908: epoch=94 step=93248\u001b[0m \u001b[36mepoch\u001b[0m=\u001b[35m94\u001b[0m \u001b[36mmetrics\u001b[0m=\u001b[35m{'time_sample_batch': 0.00021813377257316342, 'time_algorithm_update': 0.018156343890774633, 'loss': -123.97668982321217, 'time_step': 0.01843202955299808, 'observation_error': 35.44482044196597, 'reward_error': 0.001343021424162882, 'variance': 22.823314460994535}\u001b[0m \u001b[36mstep\u001b[0m=\u001b[35m93248\u001b[0m\n",
      "\u001b[2m2023-11-14 22:34:39\u001b[0m [\u001b[32m\u001b[1minfo     \u001b[0m] \u001b[1mModel parameters are saved to d3rlpy_logs/SeparateStateAndRewardEncoders_20231114212908/model_93248.pt\u001b[0m\n"
     ]
    },
    {
     "data": {
      "application/vnd.jupyter.widget-view+json": {
       "model_id": "78c5d6d366b941818e3a0ab1ed662637",
       "version_major": 2,
       "version_minor": 0
      },
      "text/plain": [
       "Epoch 95/100:   0%|          | 0/992 [00:00<?, ?it/s]"
      ]
     },
     "metadata": {},
     "output_type": "display_data"
    },
    {
     "name": "stdout",
     "output_type": "stream",
     "text": [
      "\u001b[2m2023-11-14 22:35:17\u001b[0m [\u001b[32m\u001b[1minfo     \u001b[0m] \u001b[1mSeparateStateAndRewardEncoders_20231114212908: epoch=95 step=94240\u001b[0m \u001b[36mepoch\u001b[0m=\u001b[35m95\u001b[0m \u001b[36mmetrics\u001b[0m=\u001b[35m{'time_sample_batch': 0.00021311977217274328, 'time_algorithm_update': 0.018011697598042026, 'loss': -124.4631887751241, 'time_step': 0.018282226977809783, 'observation_error': 35.299441778847964, 'reward_error': 0.0013711640487650604, 'variance': 23.319252534989385}\u001b[0m \u001b[36mstep\u001b[0m=\u001b[35m94240\u001b[0m\n",
      "\u001b[2m2023-11-14 22:35:17\u001b[0m [\u001b[32m\u001b[1minfo     \u001b[0m] \u001b[1mModel parameters are saved to d3rlpy_logs/SeparateStateAndRewardEncoders_20231114212908/model_94240.pt\u001b[0m\n"
     ]
    },
    {
     "data": {
      "application/vnd.jupyter.widget-view+json": {
       "model_id": "40deb3db329340df920e148c6eb9b060",
       "version_major": 2,
       "version_minor": 0
      },
      "text/plain": [
       "Epoch 96/100:   0%|          | 0/992 [00:00<?, ?it/s]"
      ]
     },
     "metadata": {},
     "output_type": "display_data"
    },
    {
     "name": "stdout",
     "output_type": "stream",
     "text": [
      "\u001b[2m2023-11-14 22:35:56\u001b[0m [\u001b[32m\u001b[1minfo     \u001b[0m] \u001b[1mSeparateStateAndRewardEncoders_20231114212908: epoch=96 step=95232\u001b[0m \u001b[36mepoch\u001b[0m=\u001b[35m96\u001b[0m \u001b[36mmetrics\u001b[0m=\u001b[35m{'time_sample_batch': 0.00022161679883157053, 'time_algorithm_update': 0.018271324615324696, 'loss': -122.51118320995762, 'time_step': 0.01855109752185883, 'observation_error': 34.95583406433821, 'reward_error': 0.001415578948081487, 'variance': 22.298285737071897}\u001b[0m \u001b[36mstep\u001b[0m=\u001b[35m95232\u001b[0m\n",
      "\u001b[2m2023-11-14 22:35:56\u001b[0m [\u001b[32m\u001b[1minfo     \u001b[0m] \u001b[1mModel parameters are saved to d3rlpy_logs/SeparateStateAndRewardEncoders_20231114212908/model_95232.pt\u001b[0m\n"
     ]
    },
    {
     "data": {
      "application/vnd.jupyter.widget-view+json": {
       "model_id": "34ea37c4590c425fb07f3c17ac2f59e6",
       "version_major": 2,
       "version_minor": 0
      },
      "text/plain": [
       "Epoch 97/100:   0%|          | 0/992 [00:00<?, ?it/s]"
      ]
     },
     "metadata": {},
     "output_type": "display_data"
    },
    {
     "name": "stdout",
     "output_type": "stream",
     "text": [
      "\u001b[2m2023-11-14 22:36:33\u001b[0m [\u001b[32m\u001b[1minfo     \u001b[0m] \u001b[1mSeparateStateAndRewardEncoders_20231114212908: epoch=97 step=96224\u001b[0m \u001b[36mepoch\u001b[0m=\u001b[35m97\u001b[0m \u001b[36mmetrics\u001b[0m=\u001b[35m{'time_sample_batch': 0.00020459150114367084, 'time_algorithm_update': 0.017256302698965994, 'loss': -124.67133453296077, 'time_step': 0.017513685168758515, 'observation_error': 34.896655733455475, 'reward_error': 0.001288039453963522, 'variance': 22.379860432766048}\u001b[0m \u001b[36mstep\u001b[0m=\u001b[35m96224\u001b[0m\n",
      "\u001b[2m2023-11-14 22:36:33\u001b[0m [\u001b[32m\u001b[1minfo     \u001b[0m] \u001b[1mModel parameters are saved to d3rlpy_logs/SeparateStateAndRewardEncoders_20231114212908/model_96224.pt\u001b[0m\n"
     ]
    },
    {
     "data": {
      "application/vnd.jupyter.widget-view+json": {
       "model_id": "53930ef7c1eb4717920e8587e8cc7215",
       "version_major": 2,
       "version_minor": 0
      },
      "text/plain": [
       "Epoch 98/100:   0%|          | 0/992 [00:00<?, ?it/s]"
      ]
     },
     "metadata": {},
     "output_type": "display_data"
    },
    {
     "name": "stdout",
     "output_type": "stream",
     "text": [
      "\u001b[2m2023-11-14 22:37:11\u001b[0m [\u001b[32m\u001b[1minfo     \u001b[0m] \u001b[1mSeparateStateAndRewardEncoders_20231114212908: epoch=98 step=97216\u001b[0m \u001b[36mepoch\u001b[0m=\u001b[35m98\u001b[0m \u001b[36mmetrics\u001b[0m=\u001b[35m{'time_sample_batch': 0.00021092497533367526, 'time_algorithm_update': 0.01790240599263099, 'loss': -125.14057612226856, 'time_step': 0.018171135215990005, 'observation_error': 34.45343410092868, 'reward_error': 0.001325730130646736, 'variance': 22.157576461240684}\u001b[0m \u001b[36mstep\u001b[0m=\u001b[35m97216\u001b[0m\n",
      "\u001b[2m2023-11-14 22:37:11\u001b[0m [\u001b[32m\u001b[1minfo     \u001b[0m] \u001b[1mModel parameters are saved to d3rlpy_logs/SeparateStateAndRewardEncoders_20231114212908/model_97216.pt\u001b[0m\n"
     ]
    },
    {
     "data": {
      "application/vnd.jupyter.widget-view+json": {
       "model_id": "cfbb6e7a52e040f68cf11a118dcda1e0",
       "version_major": 2,
       "version_minor": 0
      },
      "text/plain": [
       "Epoch 99/100:   0%|          | 0/992 [00:00<?, ?it/s]"
      ]
     },
     "metadata": {},
     "output_type": "display_data"
    },
    {
     "name": "stdout",
     "output_type": "stream",
     "text": [
      "\u001b[2m2023-11-14 22:37:50\u001b[0m [\u001b[32m\u001b[1minfo     \u001b[0m] \u001b[1mSeparateStateAndRewardEncoders_20231114212908: epoch=99 step=98208\u001b[0m \u001b[36mepoch\u001b[0m=\u001b[35m99\u001b[0m \u001b[36mmetrics\u001b[0m=\u001b[35m{'time_sample_batch': 0.00020923080944245862, 'time_algorithm_update': 0.018125137975139004, 'loss': -124.2604928420436, 'time_step': 0.018391027806266662, 'observation_error': 35.199419645193714, 'reward_error': 0.001197132637240125, 'variance': 23.095723561930722}\u001b[0m \u001b[36mstep\u001b[0m=\u001b[35m98208\u001b[0m\n",
      "\u001b[2m2023-11-14 22:37:50\u001b[0m [\u001b[32m\u001b[1minfo     \u001b[0m] \u001b[1mModel parameters are saved to d3rlpy_logs/SeparateStateAndRewardEncoders_20231114212908/model_98208.pt\u001b[0m\n"
     ]
    },
    {
     "data": {
      "application/vnd.jupyter.widget-view+json": {
       "model_id": "765bbc523f634162ae1c073d81faffef",
       "version_major": 2,
       "version_minor": 0
      },
      "text/plain": [
       "Epoch 100/100:   0%|          | 0/992 [00:00<?, ?it/s]"
      ]
     },
     "metadata": {},
     "output_type": "display_data"
    }
   ],
   "source": [
    "# same as algorithms\n",
    "dynamics.fit(train_episodes,\n",
    "             eval_episodes=test_episodes,\n",
    "             n_epochs=100,\n",
    "             scorers={\n",
    "                'observation_error': d3rlpy.metrics.scorer.dynamics_observation_prediction_error_scorer,\n",
    "                'reward_error': d3rlpy.metrics.scorer.dynamics_reward_prediction_error_scorer,\n",
    "                'variance': d3rlpy.metrics.scorer.dynamics_prediction_variance_scorer,\n",
    "             },\n",
    "            tensorboard_dir='tensorboard_logs/dynamics',\n",
    "            experiment_name='SeparateStateAndRewardEncoders')"
   ]
  }
 ],
 "metadata": {
  "kernelspec": {
   "display_name": "Python 3 (ipykernel)",
   "language": "python",
   "name": "python3"
  },
  "language_info": {
   "codemirror_mode": {
    "name": "ipython",
    "version": 3
   },
   "file_extension": ".py",
   "mimetype": "text/x-python",
   "name": "python",
   "nbconvert_exporter": "python",
   "pygments_lexer": "ipython3",
   "version": "3.8.10"
  }
 },
 "nbformat": 4,
 "nbformat_minor": 5
}
