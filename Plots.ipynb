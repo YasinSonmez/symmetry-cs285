{
 "cells": [
  {
   "cell_type": "code",
   "execution_count": 1,
   "id": "bee5ab12-0065-48b5-b427-15ecf8ccd221",
   "metadata": {},
   "outputs": [],
   "source": [
    "import os\n",
    "import json\n",
    "import pandas as pd\n",
    "import numpy as np\n",
    "from matplotlib import pyplot as plt"
   ]
  },
  {
   "cell_type": "code",
   "execution_count": 2,
   "id": "71a4f8ef-a999-4129-a386-e68a9c20e2e8",
   "metadata": {},
   "outputs": [],
   "source": [
    "def general_plotting(data_array, metric_names, title, save_location):\n",
    "    #plt.style.use('seaborn-v0_8-whitegrid')\n",
    "    for metric_name in metric_names:\n",
    "        for data_i in data_array:\n",
    "            x = data_i[metric_name][0, :,0]\n",
    "            ys = data_i[metric_name][:, :, 1]\n",
    "            mean=np.mean(ys,axis=0)\n",
    "            std=np.std(ys,axis=0)\n",
    "            plt.plot(x, mean, label = data_i['type'])\n",
    "            plt.fill_between(x, mean-std, mean+std, alpha=0.2)\n",
    "        plt.grid()\n",
    "        if title is not None:\n",
    "            plt.title(title)\n",
    "        plt.ylabel(metric_name)\n",
    "        plt.xlabel('iterations')\n",
    "        plt.legend()\n",
    "        if save_location:\n",
    "            if not os.path.exists(save_location):\n",
    "                os.makedirs(save_location)\n",
    "            plt.savefig(save_location + '/' + title + '_' + metric_name + '.png')\n",
    "        plt.show()"
   ]
  },
  {
   "cell_type": "code",
   "execution_count": 8,
   "id": "78e1baa0-2b73-4727-9ee5-4b7bd6b98421",
   "metadata": {},
   "outputs": [],
   "source": [
    "def read_and_plot_data(models_dir, starts_with, metric_names, title=None):\n",
    "    model_paths = [filename for filename in os.listdir(models_dir) if filename.startswith(starts_with)]\n",
    "    model_paths = [models_dir + model_paths_i for model_paths_i in model_paths]\n",
    "    model_paths.sort()\n",
    "    print(model_paths)\n",
    "    model_paths = model_paths[:-2]\n",
    "\n",
    "    symmetry_reduced_paths = []\n",
    "    default_paths = []\n",
    "    for model_path_i in model_paths:\n",
    "        f = open(model_path_i +'/params.json')\n",
    "        model_path_i_params = json.load(f)\n",
    "        if(model_path_i_params[\"state_encoder_factory\"]['type']=='symmetry'):\n",
    "            symmetry_reduced_paths.append(model_path_i)\n",
    "        else:\n",
    "            default_paths.append(model_path_i)\n",
    "    print(\"Default_paths:\", default_paths, \"Symmetry reduced paths: \", symmetry_reduced_paths)\n",
    "\n",
    "    default_data = {metric:[] for metric in metric_names}\n",
    "    default_data['type'] = 'default'\n",
    "    symmetry_reduced_data = {metric:[] for metric in metric_names}\n",
    "    symmetry_reduced_data['type'] = 'symmetry'\n",
    "    \n",
    "    for metric_name in metric_names:\n",
    "        for default_path in default_paths:\n",
    "            default_data[metric_name].append(np.loadtxt(default_path + '/' + metric_name + \".csv\", delimiter=',')[:,1:3])\n",
    "        default_data[metric_name] = np.array(default_data[metric_name])\n",
    "        for symmetry_reduced_path in symmetry_reduced_paths:\n",
    "            symmetry_reduced_data[metric_name].append(np.loadtxt(symmetry_reduced_path + '/' + metric_name + \".csv\", delimiter=',')[:,1:3])\n",
    "        symmetry_reduced_data[metric_name] = np.array(symmetry_reduced_data[metric_name])\n",
    "    general_plotting([default_data, symmetry_reduced_data], metric_names, title, save_location=models_dir + \"figures/\" + starts_with)"
   ]
  },
  {
   "cell_type": "code",
   "execution_count": 9,
   "id": "42748e90-7e88-46fa-b528-c6af4493122e",
   "metadata": {},
   "outputs": [],
   "source": [
    "type = 'dynamics'\n",
    "#type = 'offline-rl'\n",
    "\n",
    "starts_with = 'exp_9_reacher_dynamics'\n",
    "title = 'Inverted Pendulum Dynamics'\n",
    "\n",
    "if type == 'dynamics':\n",
    "    metric_names =  [\"loss\", \"variance\", \"observation_error\", \"reward_error\"]\n",
    "if type == 'offline-rl':\n",
    "    metric_names =  [\"loss\", \"variance\", \"observation_error\", \"reward_error\"]"
   ]
  },
  {
   "cell_type": "code",
   "execution_count": 10,
   "id": "c500c3bb-83ef-4b2c-9867-cf9bab3aa7dd",
   "metadata": {},
   "outputs": [
    {
     "name": "stdout",
     "output_type": "stream",
     "text": [
      "['d3rlpy_logs/exp_9_reacher_dynamics_default_20231109015540', 'd3rlpy_logs/exp_9_reacher_dynamics_default_20231109095104', 'd3rlpy_logs/exp_9_reacher_dynamics_default_20231109174859', 'd3rlpy_logs/exp_9_reacher_dynamics_symmetry_20231108215725', 'd3rlpy_logs/exp_9_reacher_dynamics_symmetry_20231109055055', 'd3rlpy_logs/exp_9_reacher_dynamics_symmetry_20231109134751']\n",
      "Default_paths: ['d3rlpy_logs/exp_9_reacher_dynamics_default_20231109015540', 'd3rlpy_logs/exp_9_reacher_dynamics_default_20231109095104', 'd3rlpy_logs/exp_9_reacher_dynamics_default_20231109174859'] Symmetry reduced paths:  ['d3rlpy_logs/exp_9_reacher_dynamics_symmetry_20231108215725']\n"
     ]
    },
    {
     "ename": "ValueError",
     "evalue": "setting an array element with a sequence. The requested array has an inhomogeneous shape after 1 dimensions. The detected shape was (3,) + inhomogeneous part.",
     "output_type": "error",
     "traceback": [
      "\u001b[0;31m---------------------------------------------------------------------------\u001b[0m",
      "\u001b[0;31mValueError\u001b[0m                                Traceback (most recent call last)",
      "Cell \u001b[0;32mIn[10], line 1\u001b[0m\n\u001b[0;32m----> 1\u001b[0m \u001b[43mread_and_plot_data\u001b[49m\u001b[43m(\u001b[49m\u001b[38;5;124;43m\"\u001b[39;49m\u001b[38;5;124;43md3rlpy_logs/\u001b[39;49m\u001b[38;5;124;43m\"\u001b[39;49m\u001b[43m,\u001b[49m\u001b[43m \u001b[49m\u001b[43mstarts_with\u001b[49m\u001b[43m,\u001b[49m\u001b[43m \u001b[49m\u001b[43mmetric_names\u001b[49m\u001b[43m,\u001b[49m\u001b[43m \u001b[49m\u001b[43mtitle\u001b[49m\u001b[38;5;241;43m=\u001b[39;49m\u001b[43mtitle\u001b[49m\u001b[43m)\u001b[49m\n",
      "Cell \u001b[0;32mIn[8], line 27\u001b[0m, in \u001b[0;36mread_and_plot_data\u001b[0;34m(models_dir, starts_with, metric_names, title)\u001b[0m\n\u001b[1;32m     25\u001b[0m \u001b[38;5;28;01mfor\u001b[39;00m default_path \u001b[38;5;129;01min\u001b[39;00m default_paths:\n\u001b[1;32m     26\u001b[0m     default_data[metric_name]\u001b[38;5;241m.\u001b[39mappend(np\u001b[38;5;241m.\u001b[39mloadtxt(default_path \u001b[38;5;241m+\u001b[39m \u001b[38;5;124m'\u001b[39m\u001b[38;5;124m/\u001b[39m\u001b[38;5;124m'\u001b[39m \u001b[38;5;241m+\u001b[39m metric_name \u001b[38;5;241m+\u001b[39m \u001b[38;5;124m\"\u001b[39m\u001b[38;5;124m.csv\u001b[39m\u001b[38;5;124m\"\u001b[39m, delimiter\u001b[38;5;241m=\u001b[39m\u001b[38;5;124m'\u001b[39m\u001b[38;5;124m,\u001b[39m\u001b[38;5;124m'\u001b[39m)[:,\u001b[38;5;241m1\u001b[39m:\u001b[38;5;241m3\u001b[39m])\n\u001b[0;32m---> 27\u001b[0m default_data[metric_name] \u001b[38;5;241m=\u001b[39m \u001b[43mnp\u001b[49m\u001b[38;5;241;43m.\u001b[39;49m\u001b[43marray\u001b[49m\u001b[43m(\u001b[49m\u001b[43mdefault_data\u001b[49m\u001b[43m[\u001b[49m\u001b[43mmetric_name\u001b[49m\u001b[43m]\u001b[49m\u001b[43m)\u001b[49m\n\u001b[1;32m     28\u001b[0m \u001b[38;5;28;01mfor\u001b[39;00m symmetry_reduced_path \u001b[38;5;129;01min\u001b[39;00m symmetry_reduced_paths:\n\u001b[1;32m     29\u001b[0m     symmetry_reduced_data[metric_name]\u001b[38;5;241m.\u001b[39mappend(np\u001b[38;5;241m.\u001b[39mloadtxt(symmetry_reduced_path \u001b[38;5;241m+\u001b[39m \u001b[38;5;124m'\u001b[39m\u001b[38;5;124m/\u001b[39m\u001b[38;5;124m'\u001b[39m \u001b[38;5;241m+\u001b[39m metric_name \u001b[38;5;241m+\u001b[39m \u001b[38;5;124m\"\u001b[39m\u001b[38;5;124m.csv\u001b[39m\u001b[38;5;124m\"\u001b[39m, delimiter\u001b[38;5;241m=\u001b[39m\u001b[38;5;124m'\u001b[39m\u001b[38;5;124m,\u001b[39m\u001b[38;5;124m'\u001b[39m)[:,\u001b[38;5;241m1\u001b[39m:\u001b[38;5;241m3\u001b[39m])\n",
      "\u001b[0;31mValueError\u001b[0m: setting an array element with a sequence. The requested array has an inhomogeneous shape after 1 dimensions. The detected shape was (3,) + inhomogeneous part."
     ]
    }
   ],
   "source": [
    "read_and_plot_data(\"d3rlpy_logs/\", starts_with, metric_names, title=title)"
   ]
  },
  {
   "cell_type": "code",
   "execution_count": null,
   "id": "b2a2c0d9-02f8-4706-8d0c-879ecfe4dcb6",
   "metadata": {},
   "outputs": [],
   "source": []
  },
  {
   "cell_type": "code",
   "execution_count": null,
   "id": "c5fb934c-53be-46a4-a39b-480868ffbf83",
   "metadata": {},
   "outputs": [],
   "source": []
  }
 ],
 "metadata": {
  "kernelspec": {
   "display_name": "Python 3 (ipykernel)",
   "language": "python",
   "name": "python3"
  },
  "language_info": {
   "codemirror_mode": {
    "name": "ipython",
    "version": 3
   },
   "file_extension": ".py",
   "mimetype": "text/x-python",
   "name": "python",
   "nbconvert_exporter": "python",
   "pygments_lexer": "ipython3",
   "version": "3.8.10"
  }
 },
 "nbformat": 4,
 "nbformat_minor": 5
}
