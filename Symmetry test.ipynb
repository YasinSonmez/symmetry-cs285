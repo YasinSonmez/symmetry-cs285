{
 "cells": [
  {
   "cell_type": "code",
   "execution_count": 1,
   "id": "3cef1889",
   "metadata": {},
   "outputs": [
    {
     "name": "stderr",
     "output_type": "stream",
     "text": [
      "Warning: Gym version v0.24.1 has a number of critical issues with `gym.make` such that environment observation and action spaces are incorrectly evaluated, raising incorrect errors and warning . It is recommend to downgrading to v0.23.1 or upgrading to v0.25.1\n"
     ]
    }
   ],
   "source": [
    "import d3rlpy\n",
    "from d3rlpy.algos import COMBO\n",
    "from sklearn.model_selection import train_test_split\n",
    "import gymnasium as gym\n",
    "import numpy as np\n",
    "import encoders"
   ]
  },
  {
   "cell_type": "markdown",
   "id": "47a5f2b7-f1c9-4c90-b9ff-a0991612c559",
   "metadata": {},
   "source": [
    "## Params"
   ]
  },
  {
   "cell_type": "code",
   "execution_count": 2,
   "id": "6547464d-8f48-46fd-b606-f121a3cd53f2",
   "metadata": {},
   "outputs": [
    {
     "data": {
      "text/plain": [
       "(array([ 0.00023643,  0.00900927, -0.00711681,  0.00897299]), {})"
      ]
     },
     "execution_count": 2,
     "metadata": {},
     "output_type": "execute_result"
    }
   ],
   "source": [
    "seed = 1\n",
    "d3rlpy.seed(seed)\n",
    "use_gpu = True\n",
    "# prepare environment\n",
    "env = gym.make(\"InvertedPendulum-v4\")\n",
    "eval_env = gym.make(\"InvertedPendulum-v4\")\n",
    "env.reset(seed=seed)\n",
    "eval_env.reset(seed=seed)"
   ]
  },
  {
   "cell_type": "markdown",
   "id": "c35492fa-eb11-45b6-b1bc-50b9d9893ab5",
   "metadata": {},
   "source": [
    "## Create dataset"
   ]
  },
  {
   "cell_type": "code",
   "execution_count": null,
   "id": "133dc7a7-22c1-4bc8-a90c-9ebcce88928a",
   "metadata": {
    "scrolled": true
   },
   "outputs": [],
   "source": [
    "actor_encoder = d3rlpy.models.encoders.DefaultEncoderFactory(dropout_rate=0.2)\n",
    "# setup algorithm\n",
    "sac = d3rlpy.algos.SAC(\n",
    "    batch_size=256,\n",
    "    actor_encoder_factory=actor_encoder,\n",
    "    actor_learning_rate=3e-4,\n",
    "    critic_learning_rate=3e-4,\n",
    "    temp_learning_rate=3e-4,\n",
    "    use_gpu=use_gpu\n",
    ")\n",
    "\n",
    "# prepare utilities\n",
    "buffer = d3rlpy.online.buffers.ReplayBuffer(maxlen=1000000, env=env)\n",
    "\n",
    "# start training\n",
    "sac.fit_online(\n",
    "    env,\n",
    "    buffer,\n",
    "    eval_env=eval_env,\n",
    "    n_steps=100000,\n",
    "    n_steps_per_epoch=1000,\n",
    "    update_interval=1,\n",
    "    update_start_step=1000,\n",
    "    tensorboard_dir='tensorboard_logs'\n",
    ")"
   ]
  },
  {
   "cell_type": "code",
   "execution_count": null,
   "id": "ce7e7bd2-1bdf-4dec-9ecc-d1b42275b07e",
   "metadata": {},
   "outputs": [],
   "source": [
    "# export replay buffer as MDPDataset\n",
    "dataset = buffer.to_mdp_dataset()\n",
    "\n",
    "# save MDPDataset\n",
    "dataset.dump('d3rlpy_data/inverted_pendulum2.h5')"
   ]
  },
  {
   "cell_type": "markdown",
   "id": "74f4fca6-103e-4428-8afe-04f98213ed31",
   "metadata": {},
   "source": [
    "## Load the dataset"
   ]
  },
  {
   "cell_type": "code",
   "execution_count": 3,
   "id": "987e3d33-fceb-4576-a2da-5f617d746d01",
   "metadata": {},
   "outputs": [],
   "source": [
    "dataset = d3rlpy.dataset.MDPDataset.load('d3rlpy_data/inverted_pendulum2.h5')"
   ]
  },
  {
   "cell_type": "code",
   "execution_count": 4,
   "id": "5d4e58c8-a0ea-42a0-825a-702e5fa767be",
   "metadata": {},
   "outputs": [],
   "source": [
    "train_episodes, test_episodes = train_test_split(dataset, random_state=seed)"
   ]
  },
  {
   "cell_type": "markdown",
   "id": "425935b5-2a2f-497d-a63e-c2eb7f7cf8eb",
   "metadata": {},
   "source": [
    "## Dynamics learning"
   ]
  },
  {
   "cell_type": "code",
   "execution_count": 5,
   "id": "d6db25ae-3d57-4680-bec9-9ccde0b9f983",
   "metadata": {},
   "outputs": [
    {
     "name": "stdout",
     "output_type": "stream",
     "text": [
      "Using SymmetryEncoderFactory\n"
     ]
    }
   ],
   "source": [
    "def inverted_pendulum_project(x):\n",
    "    return x[:, 1:]\n",
    "projection_size = 3\n",
    "encoder_factory = encoders.SymmetryEncoderFactory(project=inverted_pendulum_project, projection_size=projection_size)\n",
    "dynamics = d3rlpy.dynamics.ProbabilisticEnsembleDynamics(learning_rate=1e-4, use_gpu=True, state_encoder_factory=encoder_factory)\n",
    "#dynamics = d3rlpy.dynamics.ProbabilisticEnsembleDynamics(learning_rate=1e-4, use_gpu=True) # Baseline"
   ]
  },
  {
   "cell_type": "code",
   "execution_count": 7,
   "id": "a6a23e36",
   "metadata": {
    "scrolled": true
   },
   "outputs": [
    {
     "name": "stdout",
     "output_type": "stream",
     "text": [
      "\u001b[2m2023-10-11 16:01:13\u001b[0m [\u001b[32m\u001b[1mdebug    \u001b[0m] \u001b[1mRoundIterator is selected.\u001b[0m\n",
      "\u001b[2m2023-10-11 16:01:13\u001b[0m [\u001b[32m\u001b[1minfo     \u001b[0m] \u001b[1mDirectory is created at d3rlpy_logs/SeparateStateAndRewardEncoders_20231011160113\u001b[0m\n",
      "\u001b[2m2023-10-11 16:01:13\u001b[0m [\u001b[33m\u001b[1mwarning  \u001b[0m] \u001b[1mSkip building models since they're already built.\u001b[0m\n",
      "\u001b[2m2023-10-11 16:01:13\u001b[0m [\u001b[32m\u001b[1minfo     \u001b[0m] \u001b[1mParameters are saved to d3rlpy_logs/SeparateStateAndRewardEncoders_20231011160113/params.json\u001b[0m \u001b[36mparams\u001b[0m=\u001b[35m{'action_scaler': None, 'batch_size': 100, 'discrete_action': False, 'gamma': 1.0, 'generated_maxlen': 100000, 'learning_rate': 0.0001, 'n_ensembles': 5, 'n_frames': 1, 'n_steps': 1, 'optim_factory': {'optim_cls': 'Adam', 'betas': (0.9, 0.999), 'eps': 1e-08, 'weight_decay': 0.0001, 'amsgrad': False}, 'real_ratio': 1.0, 'reward_encoder_factory': {'type': 'default', 'params': {'activation': 'relu', 'use_batch_norm': False, 'dropout_rate': None}}, 'reward_scaler': None, 'scaler': None, 'state_encoder_factory': {'type': 'symmetry', 'params': {'hidden_units': [256, 256], 'activation': 'relu', 'use_batch_norm': False, 'dropout_rate': None, 'use_dense': False, 'project': <function inverted_pendulum_project at 0x7f0108ecd550>, 'projection_size': 3}}, 'use_gpu': None, 'variance_type': 'max', 'algorithm': 'ProbabilisticEnsembleDynamics', 'observation_shape': (4,), 'action_size': 1}\u001b[0m\n"
     ]
    },
    {
     "data": {
      "application/vnd.jupyter.widget-view+json": {
       "model_id": "f94dd282b9b44cd1949582bf1af99303",
       "version_major": 2,
       "version_minor": 0
      },
      "text/plain": [
       "Epoch 1/100:   0%|          | 0/714 [00:00<?, ?it/s]"
      ]
     },
     "metadata": {},
     "output_type": "display_data"
    },
    {
     "name": "stdout",
     "output_type": "stream",
     "text": [
      "\u001b[2m2023-10-11 16:01:42\u001b[0m [\u001b[32m\u001b[1minfo     \u001b[0m] \u001b[1mSeparateStateAndRewardEncoders_20231011160113: epoch=1 step=714\u001b[0m \u001b[36mepoch\u001b[0m=\u001b[35m1\u001b[0m \u001b[36mmetrics\u001b[0m=\u001b[35m{'time_sample_batch': 0.0005488235409520253, 'time_algorithm_update': 0.0357434352238973, 'loss': -32.93809812075617, 'time_step': 0.03645618723220184, 'observation_error': 0.016063637931700202, 'reward_error': 0.0016804140969261861, 'variance': 0.01215117613131028}\u001b[0m \u001b[36mstep\u001b[0m=\u001b[35m714\u001b[0m\n",
      "\u001b[2m2023-10-11 16:01:42\u001b[0m [\u001b[32m\u001b[1minfo     \u001b[0m] \u001b[1mModel parameters are saved to d3rlpy_logs/SeparateStateAndRewardEncoders_20231011160113/model_714.pt\u001b[0m\n"
     ]
    },
    {
     "data": {
      "application/vnd.jupyter.widget-view+json": {
       "model_id": "0df8956f12794916b08e23f1a274a06d",
       "version_major": 2,
       "version_minor": 0
      },
      "text/plain": [
       "Epoch 2/100:   0%|          | 0/714 [00:00<?, ?it/s]"
      ]
     },
     "metadata": {},
     "output_type": "display_data"
    },
    {
     "name": "stdout",
     "output_type": "stream",
     "text": [
      "\u001b[2m2023-10-11 16:02:12\u001b[0m [\u001b[32m\u001b[1minfo     \u001b[0m] \u001b[1mSeparateStateAndRewardEncoders_20231011160113: epoch=2 step=1428\u001b[0m \u001b[36mepoch\u001b[0m=\u001b[35m2\u001b[0m \u001b[36mmetrics\u001b[0m=\u001b[35m{'time_sample_batch': 0.0005533832127974481, 'time_algorithm_update': 0.0370452494180503, 'loss': -41.99179640804686, 'time_step': 0.03776338420996145, 'observation_error': 0.01028619149651415, 'reward_error': 0.0006694518923929904, 'variance': 0.004676957080329532}\u001b[0m \u001b[36mstep\u001b[0m=\u001b[35m1428\u001b[0m\n",
      "\u001b[2m2023-10-11 16:02:12\u001b[0m [\u001b[32m\u001b[1minfo     \u001b[0m] \u001b[1mModel parameters are saved to d3rlpy_logs/SeparateStateAndRewardEncoders_20231011160113/model_1428.pt\u001b[0m\n"
     ]
    },
    {
     "data": {
      "application/vnd.jupyter.widget-view+json": {
       "model_id": "15523e62c6b948cbad3dfa234133b706",
       "version_major": 2,
       "version_minor": 0
      },
      "text/plain": [
       "Epoch 3/100:   0%|          | 0/714 [00:00<?, ?it/s]"
      ]
     },
     "metadata": {},
     "output_type": "display_data"
    },
    {
     "name": "stdout",
     "output_type": "stream",
     "text": [
      "\u001b[2m2023-10-11 16:02:47\u001b[0m [\u001b[32m\u001b[1minfo     \u001b[0m] \u001b[1mSeparateStateAndRewardEncoders_20231011160113: epoch=3 step=2142\u001b[0m \u001b[36mepoch\u001b[0m=\u001b[35m3\u001b[0m \u001b[36mmetrics\u001b[0m=\u001b[35m{'time_sample_batch': 0.0005800857597372445, 'time_algorithm_update': 0.041098010974103996, 'loss': -49.00794673266531, 'time_step': 0.0418581545185976, 'observation_error': 0.012040702134374115, 'reward_error': 0.00039915916356946386, 'variance': 0.0093081758324502}\u001b[0m \u001b[36mstep\u001b[0m=\u001b[35m2142\u001b[0m\n",
      "\u001b[2m2023-10-11 16:02:47\u001b[0m [\u001b[32m\u001b[1minfo     \u001b[0m] \u001b[1mModel parameters are saved to d3rlpy_logs/SeparateStateAndRewardEncoders_20231011160113/model_2142.pt\u001b[0m\n"
     ]
    },
    {
     "data": {
      "application/vnd.jupyter.widget-view+json": {
       "model_id": "9019213c28fb48bb87fb7e8fe05b8109",
       "version_major": 2,
       "version_minor": 0
      },
      "text/plain": [
       "Epoch 4/100:   0%|          | 0/714 [00:00<?, ?it/s]"
      ]
     },
     "metadata": {},
     "output_type": "display_data"
    },
    {
     "name": "stdout",
     "output_type": "stream",
     "text": [
      "\u001b[2m2023-10-11 16:03:10\u001b[0m [\u001b[32m\u001b[1minfo     \u001b[0m] \u001b[1mSeparateStateAndRewardEncoders_20231011160113: epoch=4 step=2856\u001b[0m \u001b[36mepoch\u001b[0m=\u001b[35m4\u001b[0m \u001b[36mmetrics\u001b[0m=\u001b[35m{'time_sample_batch': 0.0003020255839457365, 'time_algorithm_update': 0.027733295571570303, 'loss': -55.49056655686109, 'time_step': 0.028121929876610677, 'observation_error': 0.012499884110986357, 'reward_error': 0.0002242284766495115, 'variance': 0.01795299056737318}\u001b[0m \u001b[36mstep\u001b[0m=\u001b[35m2856\u001b[0m\n",
      "\u001b[2m2023-10-11 16:03:10\u001b[0m [\u001b[32m\u001b[1minfo     \u001b[0m] \u001b[1mModel parameters are saved to d3rlpy_logs/SeparateStateAndRewardEncoders_20231011160113/model_2856.pt\u001b[0m\n"
     ]
    },
    {
     "data": {
      "application/vnd.jupyter.widget-view+json": {
       "model_id": "2f8fe1ad749646d89d907b1fb23bc5f1",
       "version_major": 2,
       "version_minor": 0
      },
      "text/plain": [
       "Epoch 5/100:   0%|          | 0/714 [00:00<?, ?it/s]"
      ]
     },
     "metadata": {},
     "output_type": "display_data"
    },
    {
     "name": "stdout",
     "output_type": "stream",
     "text": [
      "\u001b[2m2023-10-11 16:03:32\u001b[0m [\u001b[32m\u001b[1minfo     \u001b[0m] \u001b[1mSeparateStateAndRewardEncoders_20231011160113: epoch=5 step=3570\u001b[0m \u001b[36mepoch\u001b[0m=\u001b[35m5\u001b[0m \u001b[36mmetrics\u001b[0m=\u001b[35m{'time_sample_batch': 0.0002748114722115653, 'time_algorithm_update': 0.026892453682522813, 'loss': -59.63024784336571, 'time_step': 0.02724430574422457, 'observation_error': 0.02593868816331802, 'reward_error': 0.00020959566739003855, 'variance': 0.028549895649231136}\u001b[0m \u001b[36mstep\u001b[0m=\u001b[35m3570\u001b[0m\n",
      "\u001b[2m2023-10-11 16:03:32\u001b[0m [\u001b[32m\u001b[1minfo     \u001b[0m] \u001b[1mModel parameters are saved to d3rlpy_logs/SeparateStateAndRewardEncoders_20231011160113/model_3570.pt\u001b[0m\n"
     ]
    },
    {
     "data": {
      "application/vnd.jupyter.widget-view+json": {
       "model_id": "b720a685dff64af080f1fcf0b228f645",
       "version_major": 2,
       "version_minor": 0
      },
      "text/plain": [
       "Epoch 6/100:   0%|          | 0/714 [00:00<?, ?it/s]"
      ]
     },
     "metadata": {},
     "output_type": "display_data"
    },
    {
     "name": "stdout",
     "output_type": "stream",
     "text": [
      "\u001b[2m2023-10-11 16:03:56\u001b[0m [\u001b[32m\u001b[1minfo     \u001b[0m] \u001b[1mSeparateStateAndRewardEncoders_20231011160113: epoch=6 step=4284\u001b[0m \u001b[36mepoch\u001b[0m=\u001b[35m6\u001b[0m \u001b[36mmetrics\u001b[0m=\u001b[35m{'time_sample_batch': 0.0003071298786238128, 'time_algorithm_update': 0.029435155772361436, 'loss': -62.5907353085964, 'time_step': 0.02982819581232151, 'observation_error': 0.0352631327635547, 'reward_error': 5.913273457840564e-05, 'variance': 0.04466193600213559}\u001b[0m \u001b[36mstep\u001b[0m=\u001b[35m4284\u001b[0m\n",
      "\u001b[2m2023-10-11 16:03:56\u001b[0m [\u001b[32m\u001b[1minfo     \u001b[0m] \u001b[1mModel parameters are saved to d3rlpy_logs/SeparateStateAndRewardEncoders_20231011160113/model_4284.pt\u001b[0m\n"
     ]
    },
    {
     "data": {
      "application/vnd.jupyter.widget-view+json": {
       "model_id": "cb4e3d9042874fd8bac1eb2a5898ab0d",
       "version_major": 2,
       "version_minor": 0
      },
      "text/plain": [
       "Epoch 7/100:   0%|          | 0/714 [00:00<?, ?it/s]"
      ]
     },
     "metadata": {},
     "output_type": "display_data"
    },
    {
     "name": "stdout",
     "output_type": "stream",
     "text": [
      "\u001b[2m2023-10-11 16:04:20\u001b[0m [\u001b[32m\u001b[1minfo     \u001b[0m] \u001b[1mSeparateStateAndRewardEncoders_20231011160113: epoch=7 step=4998\u001b[0m \u001b[36mepoch\u001b[0m=\u001b[35m7\u001b[0m \u001b[36mmetrics\u001b[0m=\u001b[35m{'time_sample_batch': 0.0002860315039712174, 'time_algorithm_update': 0.029342776587029464, 'loss': -64.54988837843182, 'time_step': 0.029707822145200243, 'observation_error': 0.07959647836077188, 'reward_error': 7.576506914797682e-05, 'variance': 0.07718235905538445}\u001b[0m \u001b[36mstep\u001b[0m=\u001b[35m4998\u001b[0m\n",
      "\u001b[2m2023-10-11 16:04:20\u001b[0m [\u001b[32m\u001b[1minfo     \u001b[0m] \u001b[1mModel parameters are saved to d3rlpy_logs/SeparateStateAndRewardEncoders_20231011160113/model_4998.pt\u001b[0m\n"
     ]
    },
    {
     "data": {
      "application/vnd.jupyter.widget-view+json": {
       "model_id": "476a62f165494b1c88493a246929b8a8",
       "version_major": 2,
       "version_minor": 0
      },
      "text/plain": [
       "Epoch 8/100:   0%|          | 0/714 [00:00<?, ?it/s]"
      ]
     },
     "metadata": {},
     "output_type": "display_data"
    },
    {
     "name": "stdout",
     "output_type": "stream",
     "text": [
      "\u001b[2m2023-10-11 16:04:43\u001b[0m [\u001b[32m\u001b[1minfo     \u001b[0m] \u001b[1mSeparateStateAndRewardEncoders_20231011160113: epoch=8 step=5712\u001b[0m \u001b[36mepoch\u001b[0m=\u001b[35m8\u001b[0m \u001b[36mmetrics\u001b[0m=\u001b[35m{'time_sample_batch': 0.0002635299992494556, 'time_algorithm_update': 0.027883324636464694, 'loss': -66.8159948677576, 'time_step': 0.028218350824521704, 'observation_error': 0.06598608904128779, 'reward_error': 3.1240549454581794e-05, 'variance': 0.08229025061837277}\u001b[0m \u001b[36mstep\u001b[0m=\u001b[35m5712\u001b[0m\n",
      "\u001b[2m2023-10-11 16:04:43\u001b[0m [\u001b[32m\u001b[1minfo     \u001b[0m] \u001b[1mModel parameters are saved to d3rlpy_logs/SeparateStateAndRewardEncoders_20231011160113/model_5712.pt\u001b[0m\n"
     ]
    },
    {
     "data": {
      "application/vnd.jupyter.widget-view+json": {
       "model_id": "f23e620db6d94c4eb6bda9b81e180f30",
       "version_major": 2,
       "version_minor": 0
      },
      "text/plain": [
       "Epoch 9/100:   0%|          | 0/714 [00:00<?, ?it/s]"
      ]
     },
     "metadata": {},
     "output_type": "display_data"
    },
    {
     "name": "stdout",
     "output_type": "stream",
     "text": [
      "\u001b[2m2023-10-11 16:05:05\u001b[0m [\u001b[32m\u001b[1minfo     \u001b[0m] \u001b[1mSeparateStateAndRewardEncoders_20231011160113: epoch=9 step=6426\u001b[0m \u001b[36mepoch\u001b[0m=\u001b[35m9\u001b[0m \u001b[36mmetrics\u001b[0m=\u001b[35m{'time_sample_batch': 0.0002669553462864638, 'time_algorithm_update': 0.027892351150512695, 'loss': -67.98284289616497, 'time_step': 0.028229115389976182, 'observation_error': 0.07279709196346495, 'reward_error': 1.9327542722844794e-05, 'variance': 0.08355996130921885}\u001b[0m \u001b[36mstep\u001b[0m=\u001b[35m6426\u001b[0m\n",
      "\u001b[2m2023-10-11 16:05:05\u001b[0m [\u001b[32m\u001b[1minfo     \u001b[0m] \u001b[1mModel parameters are saved to d3rlpy_logs/SeparateStateAndRewardEncoders_20231011160113/model_6426.pt\u001b[0m\n"
     ]
    },
    {
     "data": {
      "application/vnd.jupyter.widget-view+json": {
       "model_id": "d469ee0a58c344ac87962ab6ad0bd912",
       "version_major": 2,
       "version_minor": 0
      },
      "text/plain": [
       "Epoch 10/100:   0%|          | 0/714 [00:00<?, ?it/s]"
      ]
     },
     "metadata": {},
     "output_type": "display_data"
    },
    {
     "name": "stdout",
     "output_type": "stream",
     "text": [
      "\u001b[2m2023-10-11 16:05:28\u001b[0m [\u001b[32m\u001b[1minfo     \u001b[0m] \u001b[1mSeparateStateAndRewardEncoders_20231011160113: epoch=10 step=7140\u001b[0m \u001b[36mepoch\u001b[0m=\u001b[35m10\u001b[0m \u001b[36mmetrics\u001b[0m=\u001b[35m{'time_sample_batch': 0.0002694931350836233, 'time_algorithm_update': 0.02798398502734529, 'loss': -69.49162844115612, 'time_step': 0.028327676762385862, 'observation_error': 0.07283078453936066, 'reward_error': 1.2177851885506182e-05, 'variance': 0.10398370912911659}\u001b[0m \u001b[36mstep\u001b[0m=\u001b[35m7140\u001b[0m\n",
      "\u001b[2m2023-10-11 16:05:28\u001b[0m [\u001b[32m\u001b[1minfo     \u001b[0m] \u001b[1mModel parameters are saved to d3rlpy_logs/SeparateStateAndRewardEncoders_20231011160113/model_7140.pt\u001b[0m\n"
     ]
    },
    {
     "data": {
      "application/vnd.jupyter.widget-view+json": {
       "model_id": "261ecc52baab4e7dafe79e6dc67b3659",
       "version_major": 2,
       "version_minor": 0
      },
      "text/plain": [
       "Epoch 11/100:   0%|          | 0/714 [00:00<?, ?it/s]"
      ]
     },
     "metadata": {},
     "output_type": "display_data"
    },
    {
     "name": "stdout",
     "output_type": "stream",
     "text": [
      "\u001b[2m2023-10-11 16:05:52\u001b[0m [\u001b[32m\u001b[1minfo     \u001b[0m] \u001b[1mSeparateStateAndRewardEncoders_20231011160113: epoch=11 step=7854\u001b[0m \u001b[36mepoch\u001b[0m=\u001b[35m11\u001b[0m \u001b[36mmetrics\u001b[0m=\u001b[35m{'time_sample_batch': 0.00026920763384394287, 'time_algorithm_update': 0.02853827349612025, 'loss': -70.72018104307458, 'time_step': 0.028880503665165407, 'observation_error': 0.08261175267442493, 'reward_error': 8.42658654284104e-06, 'variance': 0.08459742627140697}\u001b[0m \u001b[36mstep\u001b[0m=\u001b[35m7854\u001b[0m\n",
      "\u001b[2m2023-10-11 16:05:52\u001b[0m [\u001b[32m\u001b[1minfo     \u001b[0m] \u001b[1mModel parameters are saved to d3rlpy_logs/SeparateStateAndRewardEncoders_20231011160113/model_7854.pt\u001b[0m\n"
     ]
    },
    {
     "data": {
      "application/vnd.jupyter.widget-view+json": {
       "model_id": "73944465bde34a9ea354f9af0d2dcf28",
       "version_major": 2,
       "version_minor": 0
      },
      "text/plain": [
       "Epoch 12/100:   0%|          | 0/714 [00:00<?, ?it/s]"
      ]
     },
     "metadata": {},
     "output_type": "display_data"
    },
    {
     "name": "stdout",
     "output_type": "stream",
     "text": [
      "\u001b[2m2023-10-11 16:06:15\u001b[0m [\u001b[32m\u001b[1minfo     \u001b[0m] \u001b[1mSeparateStateAndRewardEncoders_20231011160113: epoch=12 step=8568\u001b[0m \u001b[36mepoch\u001b[0m=\u001b[35m12\u001b[0m \u001b[36mmetrics\u001b[0m=\u001b[35m{'time_sample_batch': 0.00026392970098500825, 'time_algorithm_update': 0.028242904932892957, 'loss': -71.85331416731121, 'time_step': 0.02857557298088608, 'observation_error': 0.07821686286733326, 'reward_error': 8.127057496526309e-06, 'variance': 0.08100600219900284}\u001b[0m \u001b[36mstep\u001b[0m=\u001b[35m8568\u001b[0m\n",
      "\u001b[2m2023-10-11 16:06:15\u001b[0m [\u001b[32m\u001b[1minfo     \u001b[0m] \u001b[1mModel parameters are saved to d3rlpy_logs/SeparateStateAndRewardEncoders_20231011160113/model_8568.pt\u001b[0m\n"
     ]
    },
    {
     "data": {
      "application/vnd.jupyter.widget-view+json": {
       "model_id": "9f18337ef30f4cac8ab9b114b364d199",
       "version_major": 2,
       "version_minor": 0
      },
      "text/plain": [
       "Epoch 13/100:   0%|          | 0/714 [00:00<?, ?it/s]"
      ]
     },
     "metadata": {},
     "output_type": "display_data"
    },
    {
     "name": "stdout",
     "output_type": "stream",
     "text": [
      "\u001b[2m2023-10-11 16:06:39\u001b[0m [\u001b[32m\u001b[1minfo     \u001b[0m] \u001b[1mSeparateStateAndRewardEncoders_20231011160113: epoch=13 step=9282\u001b[0m \u001b[36mepoch\u001b[0m=\u001b[35m13\u001b[0m \u001b[36mmetrics\u001b[0m=\u001b[35m{'time_sample_batch': 0.0002645177333628764, 'time_algorithm_update': 0.02868460373384278, 'loss': -72.7339353708326, 'time_step': 0.02902225018883286, 'observation_error': 0.07101217299522311, 'reward_error': 7.054472255326367e-06, 'variance': 0.08766420931142052}\u001b[0m \u001b[36mstep\u001b[0m=\u001b[35m9282\u001b[0m\n",
      "\u001b[2m2023-10-11 16:06:39\u001b[0m [\u001b[32m\u001b[1minfo     \u001b[0m] \u001b[1mModel parameters are saved to d3rlpy_logs/SeparateStateAndRewardEncoders_20231011160113/model_9282.pt\u001b[0m\n"
     ]
    },
    {
     "data": {
      "application/vnd.jupyter.widget-view+json": {
       "model_id": "15d5bed881df4effb27678e8ed2cc637",
       "version_major": 2,
       "version_minor": 0
      },
      "text/plain": [
       "Epoch 14/100:   0%|          | 0/714 [00:00<?, ?it/s]"
      ]
     },
     "metadata": {},
     "output_type": "display_data"
    },
    {
     "name": "stdout",
     "output_type": "stream",
     "text": [
      "\u001b[2m2023-10-11 16:07:03\u001b[0m [\u001b[32m\u001b[1minfo     \u001b[0m] \u001b[1mSeparateStateAndRewardEncoders_20231011160113: epoch=14 step=9996\u001b[0m \u001b[36mepoch\u001b[0m=\u001b[35m14\u001b[0m \u001b[36mmetrics\u001b[0m=\u001b[35m{'time_sample_batch': 0.0002683755062541374, 'time_algorithm_update': 0.02902599075595204, 'loss': -72.85033555591808, 'time_step': 0.029369880171383127, 'observation_error': 0.09024285228451698, 'reward_error': 9.258893871044738e-06, 'variance': 0.08673457444343503}\u001b[0m \u001b[36mstep\u001b[0m=\u001b[35m9996\u001b[0m\n",
      "\u001b[2m2023-10-11 16:07:03\u001b[0m [\u001b[32m\u001b[1minfo     \u001b[0m] \u001b[1mModel parameters are saved to d3rlpy_logs/SeparateStateAndRewardEncoders_20231011160113/model_9996.pt\u001b[0m\n"
     ]
    },
    {
     "data": {
      "application/vnd.jupyter.widget-view+json": {
       "model_id": "313d530f0e29483e8fd89a79e229ace3",
       "version_major": 2,
       "version_minor": 0
      },
      "text/plain": [
       "Epoch 15/100:   0%|          | 0/714 [00:00<?, ?it/s]"
      ]
     },
     "metadata": {},
     "output_type": "display_data"
    },
    {
     "name": "stdout",
     "output_type": "stream",
     "text": [
      "\u001b[2m2023-10-11 16:07:28\u001b[0m [\u001b[32m\u001b[1minfo     \u001b[0m] \u001b[1mSeparateStateAndRewardEncoders_20231011160113: epoch=15 step=10710\u001b[0m \u001b[36mepoch\u001b[0m=\u001b[35m15\u001b[0m \u001b[36mmetrics\u001b[0m=\u001b[35m{'time_sample_batch': 0.000267836226134741, 'time_algorithm_update': 0.02905042565503374, 'loss': -73.71083363231156, 'time_step': 0.029392140252249583, 'observation_error': 0.07191846972008979, 'reward_error': 6.80804858040102e-06, 'variance': 0.0826738396330889}\u001b[0m \u001b[36mstep\u001b[0m=\u001b[35m10710\u001b[0m\n",
      "\u001b[2m2023-10-11 16:07:28\u001b[0m [\u001b[32m\u001b[1minfo     \u001b[0m] \u001b[1mModel parameters are saved to d3rlpy_logs/SeparateStateAndRewardEncoders_20231011160113/model_10710.pt\u001b[0m\n"
     ]
    },
    {
     "data": {
      "application/vnd.jupyter.widget-view+json": {
       "model_id": "11608061ccc34c1e81c8e8632908ea33",
       "version_major": 2,
       "version_minor": 0
      },
      "text/plain": [
       "Epoch 16/100:   0%|          | 0/714 [00:00<?, ?it/s]"
      ]
     },
     "metadata": {},
     "output_type": "display_data"
    },
    {
     "name": "stdout",
     "output_type": "stream",
     "text": [
      "\u001b[2m2023-10-11 16:07:52\u001b[0m [\u001b[32m\u001b[1minfo     \u001b[0m] \u001b[1mSeparateStateAndRewardEncoders_20231011160113: epoch=16 step=11424\u001b[0m \u001b[36mepoch\u001b[0m=\u001b[35m16\u001b[0m \u001b[36mmetrics\u001b[0m=\u001b[35m{'time_sample_batch': 0.0002654530421024611, 'time_algorithm_update': 0.028646148553415508, 'loss': -74.32843611420704, 'time_step': 0.028982575200185056, 'observation_error': 0.0727589084181637, 'reward_error': 5.376773028146061e-06, 'variance': 0.08366453285136155}\u001b[0m \u001b[36mstep\u001b[0m=\u001b[35m11424\u001b[0m\n",
      "\u001b[2m2023-10-11 16:07:52\u001b[0m [\u001b[32m\u001b[1minfo     \u001b[0m] \u001b[1mModel parameters are saved to d3rlpy_logs/SeparateStateAndRewardEncoders_20231011160113/model_11424.pt\u001b[0m\n"
     ]
    },
    {
     "data": {
      "application/vnd.jupyter.widget-view+json": {
       "model_id": "70430fc961e54161872010940a32efae",
       "version_major": 2,
       "version_minor": 0
      },
      "text/plain": [
       "Epoch 17/100:   0%|          | 0/714 [00:00<?, ?it/s]"
      ]
     },
     "metadata": {},
     "output_type": "display_data"
    },
    {
     "name": "stdout",
     "output_type": "stream",
     "text": [
      "\u001b[2m2023-10-11 16:08:15\u001b[0m [\u001b[32m\u001b[1minfo     \u001b[0m] \u001b[1mSeparateStateAndRewardEncoders_20231011160113: epoch=17 step=12138\u001b[0m \u001b[36mepoch\u001b[0m=\u001b[35m17\u001b[0m \u001b[36mmetrics\u001b[0m=\u001b[35m{'time_sample_batch': 0.00026712731486942923, 'time_algorithm_update': 0.027662879946519014, 'loss': -75.01022903057708, 'time_step': 0.02800061288667994, 'observation_error': 0.06319164701810565, 'reward_error': 8.348477831786902e-06, 'variance': 0.07418344688508777}\u001b[0m \u001b[36mstep\u001b[0m=\u001b[35m12138\u001b[0m\n",
      "\u001b[2m2023-10-11 16:08:15\u001b[0m [\u001b[32m\u001b[1minfo     \u001b[0m] \u001b[1mModel parameters are saved to d3rlpy_logs/SeparateStateAndRewardEncoders_20231011160113/model_12138.pt\u001b[0m\n"
     ]
    },
    {
     "data": {
      "application/vnd.jupyter.widget-view+json": {
       "model_id": "dd3a112352a54b73ac91f3c32bde9d2d",
       "version_major": 2,
       "version_minor": 0
      },
      "text/plain": [
       "Epoch 18/100:   0%|          | 0/714 [00:00<?, ?it/s]"
      ]
     },
     "metadata": {},
     "output_type": "display_data"
    },
    {
     "name": "stdout",
     "output_type": "stream",
     "text": [
      "\u001b[2m2023-10-11 16:08:37\u001b[0m [\u001b[32m\u001b[1minfo     \u001b[0m] \u001b[1mSeparateStateAndRewardEncoders_20231011160113: epoch=18 step=12852\u001b[0m \u001b[36mepoch\u001b[0m=\u001b[35m18\u001b[0m \u001b[36mmetrics\u001b[0m=\u001b[35m{'time_sample_batch': 0.00028229961876107863, 'time_algorithm_update': 0.02667390098090933, 'loss': -74.88982217318538, 'time_step': 0.02702823907387357, 'observation_error': 0.05122103341570176, 'reward_error': 6.715269744926453e-06, 'variance': 0.06030827052741422}\u001b[0m \u001b[36mstep\u001b[0m=\u001b[35m12852\u001b[0m\n",
      "\u001b[2m2023-10-11 16:08:37\u001b[0m [\u001b[32m\u001b[1minfo     \u001b[0m] \u001b[1mModel parameters are saved to d3rlpy_logs/SeparateStateAndRewardEncoders_20231011160113/model_12852.pt\u001b[0m\n"
     ]
    },
    {
     "data": {
      "application/vnd.jupyter.widget-view+json": {
       "model_id": "11d2aa5a77e94280a8b1d939301d16e3",
       "version_major": 2,
       "version_minor": 0
      },
      "text/plain": [
       "Epoch 19/100:   0%|          | 0/714 [00:00<?, ?it/s]"
      ]
     },
     "metadata": {},
     "output_type": "display_data"
    },
    {
     "name": "stdout",
     "output_type": "stream",
     "text": [
      "\u001b[2m2023-10-11 16:09:00\u001b[0m [\u001b[32m\u001b[1minfo     \u001b[0m] \u001b[1mSeparateStateAndRewardEncoders_20231011160113: epoch=19 step=13566\u001b[0m \u001b[36mepoch\u001b[0m=\u001b[35m19\u001b[0m \u001b[36mmetrics\u001b[0m=\u001b[35m{'time_sample_batch': 0.00027028118528905703, 'time_algorithm_update': 0.02664151345314432, 'loss': -75.90786019660511, 'time_step': 0.026988395789758163, 'observation_error': 0.05814140938035148, 'reward_error': 1.0582233100350777e-05, 'variance': 0.06042807269206035}\u001b[0m \u001b[36mstep\u001b[0m=\u001b[35m13566\u001b[0m\n",
      "\u001b[2m2023-10-11 16:09:00\u001b[0m [\u001b[32m\u001b[1minfo     \u001b[0m] \u001b[1mModel parameters are saved to d3rlpy_logs/SeparateStateAndRewardEncoders_20231011160113/model_13566.pt\u001b[0m\n"
     ]
    },
    {
     "data": {
      "application/vnd.jupyter.widget-view+json": {
       "model_id": "2034de3d3ad2435aac7e522e11a2a0d0",
       "version_major": 2,
       "version_minor": 0
      },
      "text/plain": [
       "Epoch 20/100:   0%|          | 0/714 [00:00<?, ?it/s]"
      ]
     },
     "metadata": {},
     "output_type": "display_data"
    },
    {
     "name": "stdout",
     "output_type": "stream",
     "text": [
      "\u001b[2m2023-10-11 16:09:25\u001b[0m [\u001b[32m\u001b[1minfo     \u001b[0m] \u001b[1mSeparateStateAndRewardEncoders_20231011160113: epoch=20 step=14280\u001b[0m \u001b[36mepoch\u001b[0m=\u001b[35m20\u001b[0m \u001b[36mmetrics\u001b[0m=\u001b[35m{'time_sample_batch': 0.0002836830475751091, 'time_algorithm_update': 0.02786560352442979, 'loss': -76.01860527097344, 'time_step': 0.02822520151859572, 'observation_error': 0.05381588387876356, 'reward_error': 6.203574376925544e-06, 'variance': 0.05712321908310585}\u001b[0m \u001b[36mstep\u001b[0m=\u001b[35m14280\u001b[0m\n",
      "\u001b[2m2023-10-11 16:09:25\u001b[0m [\u001b[32m\u001b[1minfo     \u001b[0m] \u001b[1mModel parameters are saved to d3rlpy_logs/SeparateStateAndRewardEncoders_20231011160113/model_14280.pt\u001b[0m\n"
     ]
    },
    {
     "data": {
      "application/vnd.jupyter.widget-view+json": {
       "model_id": "8eba86f6e809481cb52fcd35fddfa7cb",
       "version_major": 2,
       "version_minor": 0
      },
      "text/plain": [
       "Epoch 21/100:   0%|          | 0/714 [00:00<?, ?it/s]"
      ]
     },
     "metadata": {},
     "output_type": "display_data"
    },
    {
     "name": "stdout",
     "output_type": "stream",
     "text": [
      "\u001b[2m2023-10-11 16:09:50\u001b[0m [\u001b[32m\u001b[1minfo     \u001b[0m] \u001b[1mSeparateStateAndRewardEncoders_20231011160113: epoch=21 step=14994\u001b[0m \u001b[36mepoch\u001b[0m=\u001b[35m21\u001b[0m \u001b[36mmetrics\u001b[0m=\u001b[35m{'time_sample_batch': 0.00031195134341883724, 'time_algorithm_update': 0.029524042826740683, 'loss': -76.15675635197583, 'time_step': 0.029920159601697735, 'observation_error': 0.054176032864033954, 'reward_error': 5.83681408161328e-06, 'variance': 0.056528824787859665}\u001b[0m \u001b[36mstep\u001b[0m=\u001b[35m14994\u001b[0m\n",
      "\u001b[2m2023-10-11 16:09:50\u001b[0m [\u001b[32m\u001b[1minfo     \u001b[0m] \u001b[1mModel parameters are saved to d3rlpy_logs/SeparateStateAndRewardEncoders_20231011160113/model_14994.pt\u001b[0m\n"
     ]
    },
    {
     "data": {
      "application/vnd.jupyter.widget-view+json": {
       "model_id": "63aa6c8271114da88960a8884e54230e",
       "version_major": 2,
       "version_minor": 0
      },
      "text/plain": [
       "Epoch 22/100:   0%|          | 0/714 [00:00<?, ?it/s]"
      ]
     },
     "metadata": {},
     "output_type": "display_data"
    },
    {
     "name": "stdout",
     "output_type": "stream",
     "text": [
      "\u001b[2m2023-10-11 16:10:13\u001b[0m [\u001b[32m\u001b[1minfo     \u001b[0m] \u001b[1mSeparateStateAndRewardEncoders_20231011160113: epoch=22 step=15708\u001b[0m \u001b[36mepoch\u001b[0m=\u001b[35m22\u001b[0m \u001b[36mmetrics\u001b[0m=\u001b[35m{'time_sample_batch': 0.00026576091595390596, 'time_algorithm_update': 0.026803791356019947, 'loss': -77.24458712088962, 'time_step': 0.027137501900937378, 'observation_error': 0.05019693149219176, 'reward_error': 6.027386436882101e-06, 'variance': 0.04588402651152553}\u001b[0m \u001b[36mstep\u001b[0m=\u001b[35m15708\u001b[0m\n",
      "\u001b[2m2023-10-11 16:10:13\u001b[0m [\u001b[32m\u001b[1minfo     \u001b[0m] \u001b[1mModel parameters are saved to d3rlpy_logs/SeparateStateAndRewardEncoders_20231011160113/model_15708.pt\u001b[0m\n"
     ]
    },
    {
     "data": {
      "application/vnd.jupyter.widget-view+json": {
       "model_id": "d7782b7bde2045cba2f85de081a7168c",
       "version_major": 2,
       "version_minor": 0
      },
      "text/plain": [
       "Epoch 23/100:   0%|          | 0/714 [00:00<?, ?it/s]"
      ]
     },
     "metadata": {},
     "output_type": "display_data"
    },
    {
     "name": "stdout",
     "output_type": "stream",
     "text": [
      "\u001b[2m2023-10-11 16:10:36\u001b[0m [\u001b[32m\u001b[1minfo     \u001b[0m] \u001b[1mSeparateStateAndRewardEncoders_20231011160113: epoch=23 step=16422\u001b[0m \u001b[36mepoch\u001b[0m=\u001b[35m23\u001b[0m \u001b[36mmetrics\u001b[0m=\u001b[35m{'time_sample_batch': 0.0002678679484947055, 'time_algorithm_update': 0.027553397066452923, 'loss': -76.27150901292218, 'time_step': 0.027895345407373765, 'observation_error': 0.047019793146334025, 'reward_error': 4.119048071877392e-06, 'variance': 0.044560108004023144}\u001b[0m \u001b[36mstep\u001b[0m=\u001b[35m16422\u001b[0m\n",
      "\u001b[2m2023-10-11 16:10:36\u001b[0m [\u001b[32m\u001b[1minfo     \u001b[0m] \u001b[1mModel parameters are saved to d3rlpy_logs/SeparateStateAndRewardEncoders_20231011160113/model_16422.pt\u001b[0m\n"
     ]
    },
    {
     "data": {
      "application/vnd.jupyter.widget-view+json": {
       "model_id": "9718a3e6aa5442738785a22745e64846",
       "version_major": 2,
       "version_minor": 0
      },
      "text/plain": [
       "Epoch 24/100:   0%|          | 0/714 [00:00<?, ?it/s]"
      ]
     },
     "metadata": {},
     "output_type": "display_data"
    },
    {
     "name": "stdout",
     "output_type": "stream",
     "text": [
      "\u001b[2m2023-10-11 16:11:00\u001b[0m [\u001b[32m\u001b[1minfo     \u001b[0m] \u001b[1mSeparateStateAndRewardEncoders_20231011160113: epoch=24 step=17136\u001b[0m \u001b[36mepoch\u001b[0m=\u001b[35m24\u001b[0m \u001b[36mmetrics\u001b[0m=\u001b[35m{'time_sample_batch': 0.00027278925524372346, 'time_algorithm_update': 0.028071282290610948, 'loss': -77.37493081186332, 'time_step': 0.028419137001037598, 'observation_error': 0.05478922580812391, 'reward_error': 8.536133370875475e-06, 'variance': 0.04322080005910254}\u001b[0m \u001b[36mstep\u001b[0m=\u001b[35m17136\u001b[0m\n",
      "\u001b[2m2023-10-11 16:11:00\u001b[0m [\u001b[32m\u001b[1minfo     \u001b[0m] \u001b[1mModel parameters are saved to d3rlpy_logs/SeparateStateAndRewardEncoders_20231011160113/model_17136.pt\u001b[0m\n"
     ]
    },
    {
     "data": {
      "application/vnd.jupyter.widget-view+json": {
       "model_id": "1af44eda2d05470684f0a3b009e9da9f",
       "version_major": 2,
       "version_minor": 0
      },
      "text/plain": [
       "Epoch 25/100:   0%|          | 0/714 [00:00<?, ?it/s]"
      ]
     },
     "metadata": {},
     "output_type": "display_data"
    },
    {
     "name": "stdout",
     "output_type": "stream",
     "text": [
      "\u001b[2m2023-10-11 16:11:24\u001b[0m [\u001b[32m\u001b[1minfo     \u001b[0m] \u001b[1mSeparateStateAndRewardEncoders_20231011160113: epoch=25 step=17850\u001b[0m \u001b[36mepoch\u001b[0m=\u001b[35m25\u001b[0m \u001b[36mmetrics\u001b[0m=\u001b[35m{'time_sample_batch': 0.0002664805126457321, 'time_algorithm_update': 0.028459115522582325, 'loss': -77.15871362392308, 'time_step': 0.028798521733751484, 'observation_error': 0.049331784441540794, 'reward_error': 5.202337601934514e-06, 'variance': 0.041804855220275224}\u001b[0m \u001b[36mstep\u001b[0m=\u001b[35m17850\u001b[0m\n",
      "\u001b[2m2023-10-11 16:11:24\u001b[0m [\u001b[32m\u001b[1minfo     \u001b[0m] \u001b[1mModel parameters are saved to d3rlpy_logs/SeparateStateAndRewardEncoders_20231011160113/model_17850.pt\u001b[0m\n"
     ]
    },
    {
     "data": {
      "application/vnd.jupyter.widget-view+json": {
       "model_id": "be00fa0a934b4b0690807f811a508797",
       "version_major": 2,
       "version_minor": 0
      },
      "text/plain": [
       "Epoch 26/100:   0%|          | 0/714 [00:00<?, ?it/s]"
      ]
     },
     "metadata": {},
     "output_type": "display_data"
    },
    {
     "name": "stdout",
     "output_type": "stream",
     "text": [
      "\u001b[2m2023-10-11 16:11:48\u001b[0m [\u001b[32m\u001b[1minfo     \u001b[0m] \u001b[1mSeparateStateAndRewardEncoders_20231011160113: epoch=26 step=18564\u001b[0m \u001b[36mepoch\u001b[0m=\u001b[35m26\u001b[0m \u001b[36mmetrics\u001b[0m=\u001b[35m{'time_sample_batch': 0.00025644222227465204, 'time_algorithm_update': 0.02868655115282502, 'loss': -77.46443978077224, 'time_step': 0.029010880895021584, 'observation_error': 0.0416893146834523, 'reward_error': 1.272563056886849e-05, 'variance': 0.03832973771797907}\u001b[0m \u001b[36mstep\u001b[0m=\u001b[35m18564\u001b[0m\n",
      "\u001b[2m2023-10-11 16:11:48\u001b[0m [\u001b[32m\u001b[1minfo     \u001b[0m] \u001b[1mModel parameters are saved to d3rlpy_logs/SeparateStateAndRewardEncoders_20231011160113/model_18564.pt\u001b[0m\n"
     ]
    },
    {
     "data": {
      "application/vnd.jupyter.widget-view+json": {
       "model_id": "fd46716b76a64f2f90a587e84e0fc3c3",
       "version_major": 2,
       "version_minor": 0
      },
      "text/plain": [
       "Epoch 27/100:   0%|          | 0/714 [00:00<?, ?it/s]"
      ]
     },
     "metadata": {},
     "output_type": "display_data"
    },
    {
     "name": "stdout",
     "output_type": "stream",
     "text": [
      "\u001b[2m2023-10-11 16:12:12\u001b[0m [\u001b[32m\u001b[1minfo     \u001b[0m] \u001b[1mSeparateStateAndRewardEncoders_20231011160113: epoch=27 step=19278\u001b[0m \u001b[36mepoch\u001b[0m=\u001b[35m27\u001b[0m \u001b[36mmetrics\u001b[0m=\u001b[35m{'time_sample_batch': 0.0002668668575981418, 'time_algorithm_update': 0.02837608508369168, 'loss': -77.9178146394361, 'time_step': 0.028716801929206743, 'observation_error': 0.05030161891218812, 'reward_error': 6.676089352620778e-06, 'variance': 0.03765952237216602}\u001b[0m \u001b[36mstep\u001b[0m=\u001b[35m19278\u001b[0m\n",
      "\u001b[2m2023-10-11 16:12:12\u001b[0m [\u001b[32m\u001b[1minfo     \u001b[0m] \u001b[1mModel parameters are saved to d3rlpy_logs/SeparateStateAndRewardEncoders_20231011160113/model_19278.pt\u001b[0m\n"
     ]
    },
    {
     "data": {
      "application/vnd.jupyter.widget-view+json": {
       "model_id": "92794462423e4714b667e01fec870ae0",
       "version_major": 2,
       "version_minor": 0
      },
      "text/plain": [
       "Epoch 28/100:   0%|          | 0/714 [00:00<?, ?it/s]"
      ]
     },
     "metadata": {},
     "output_type": "display_data"
    },
    {
     "name": "stdout",
     "output_type": "stream",
     "text": [
      "\u001b[2m2023-10-11 16:12:36\u001b[0m [\u001b[32m\u001b[1minfo     \u001b[0m] \u001b[1mSeparateStateAndRewardEncoders_20231011160113: epoch=28 step=19992\u001b[0m \u001b[36mepoch\u001b[0m=\u001b[35m28\u001b[0m \u001b[36mmetrics\u001b[0m=\u001b[35m{'time_sample_batch': 0.0002860488677893032, 'time_algorithm_update': 0.029162906465076265, 'loss': -77.37744206607509, 'time_step': 0.02952440312596596, 'observation_error': 0.03297123173199638, 'reward_error': 1.8873392512282002e-05, 'variance': 0.03619601391406776}\u001b[0m \u001b[36mstep\u001b[0m=\u001b[35m19992\u001b[0m\n",
      "\u001b[2m2023-10-11 16:12:36\u001b[0m [\u001b[32m\u001b[1minfo     \u001b[0m] \u001b[1mModel parameters are saved to d3rlpy_logs/SeparateStateAndRewardEncoders_20231011160113/model_19992.pt\u001b[0m\n"
     ]
    },
    {
     "data": {
      "application/vnd.jupyter.widget-view+json": {
       "model_id": "dd14efccae324e8bae1300f6fbf311f9",
       "version_major": 2,
       "version_minor": 0
      },
      "text/plain": [
       "Epoch 29/100:   0%|          | 0/714 [00:00<?, ?it/s]"
      ]
     },
     "metadata": {},
     "output_type": "display_data"
    },
    {
     "name": "stdout",
     "output_type": "stream",
     "text": [
      "\u001b[2m2023-10-11 16:13:00\u001b[0m [\u001b[32m\u001b[1minfo     \u001b[0m] \u001b[1mSeparateStateAndRewardEncoders_20231011160113: epoch=29 step=20706\u001b[0m \u001b[36mepoch\u001b[0m=\u001b[35m29\u001b[0m \u001b[36mmetrics\u001b[0m=\u001b[35m{'time_sample_batch': 0.0002691572119875782, 'time_algorithm_update': 0.02792070960464264, 'loss': -78.51942420339718, 'time_step': 0.028262248226240568, 'observation_error': 0.03453809876229121, 'reward_error': 1.514783918821821e-05, 'variance': 0.035126873921009834}\u001b[0m \u001b[36mstep\u001b[0m=\u001b[35m20706\u001b[0m\n",
      "\u001b[2m2023-10-11 16:13:00\u001b[0m [\u001b[32m\u001b[1minfo     \u001b[0m] \u001b[1mModel parameters are saved to d3rlpy_logs/SeparateStateAndRewardEncoders_20231011160113/model_20706.pt\u001b[0m\n"
     ]
    },
    {
     "data": {
      "application/vnd.jupyter.widget-view+json": {
       "model_id": "9616186e939b420b9e62e1cb1cea3656",
       "version_major": 2,
       "version_minor": 0
      },
      "text/plain": [
       "Epoch 30/100:   0%|          | 0/714 [00:00<?, ?it/s]"
      ]
     },
     "metadata": {},
     "output_type": "display_data"
    },
    {
     "name": "stdout",
     "output_type": "stream",
     "text": [
      "\u001b[2m2023-10-11 16:13:39\u001b[0m [\u001b[32m\u001b[1minfo     \u001b[0m] \u001b[1mSeparateStateAndRewardEncoders_20231011160113: epoch=30 step=21420\u001b[0m \u001b[36mepoch\u001b[0m=\u001b[35m30\u001b[0m \u001b[36mmetrics\u001b[0m=\u001b[35m{'time_sample_batch': 0.0006017207431526077, 'time_algorithm_update': 0.04797992485911906, 'loss': -78.88330051144298, 'time_step': 0.04878089107385203, 'observation_error': 0.03715907800822005, 'reward_error': 4.053780895902161e-06, 'variance': 0.034499472030521665}\u001b[0m \u001b[36mstep\u001b[0m=\u001b[35m21420\u001b[0m\n",
      "\u001b[2m2023-10-11 16:13:39\u001b[0m [\u001b[32m\u001b[1minfo     \u001b[0m] \u001b[1mModel parameters are saved to d3rlpy_logs/SeparateStateAndRewardEncoders_20231011160113/model_21420.pt\u001b[0m\n"
     ]
    },
    {
     "data": {
      "application/vnd.jupyter.widget-view+json": {
       "model_id": "e2abb1393db048a1a43900ab0bbd8c45",
       "version_major": 2,
       "version_minor": 0
      },
      "text/plain": [
       "Epoch 31/100:   0%|          | 0/714 [00:00<?, ?it/s]"
      ]
     },
     "metadata": {},
     "output_type": "display_data"
    },
    {
     "name": "stdout",
     "output_type": "stream",
     "text": [
      "\u001b[2m2023-10-11 16:14:16\u001b[0m [\u001b[32m\u001b[1minfo     \u001b[0m] \u001b[1mSeparateStateAndRewardEncoders_20231011160113: epoch=31 step=22134\u001b[0m \u001b[36mepoch\u001b[0m=\u001b[35m31\u001b[0m \u001b[36mmetrics\u001b[0m=\u001b[35m{'time_sample_batch': 0.0005516568485762225, 'time_algorithm_update': 0.04407665575919699, 'loss': -77.95981201471066, 'time_step': 0.04479920997673056, 'observation_error': 0.034536206660390915, 'reward_error': 4.634540308391525e-06, 'variance': 0.02914444518165094}\u001b[0m \u001b[36mstep\u001b[0m=\u001b[35m22134\u001b[0m\n",
      "\u001b[2m2023-10-11 16:14:17\u001b[0m [\u001b[32m\u001b[1minfo     \u001b[0m] \u001b[1mModel parameters are saved to d3rlpy_logs/SeparateStateAndRewardEncoders_20231011160113/model_22134.pt\u001b[0m\n"
     ]
    },
    {
     "data": {
      "application/vnd.jupyter.widget-view+json": {
       "model_id": "2f139ba2e83c4e23a14ddb8c14c959a8",
       "version_major": 2,
       "version_minor": 0
      },
      "text/plain": [
       "Epoch 32/100:   0%|          | 0/714 [00:00<?, ?it/s]"
      ]
     },
     "metadata": {},
     "output_type": "display_data"
    },
    {
     "name": "stdout",
     "output_type": "stream",
     "text": [
      "\u001b[2m2023-10-11 16:14:52\u001b[0m [\u001b[32m\u001b[1minfo     \u001b[0m] \u001b[1mSeparateStateAndRewardEncoders_20231011160113: epoch=32 step=22848\u001b[0m \u001b[36mepoch\u001b[0m=\u001b[35m32\u001b[0m \u001b[36mmetrics\u001b[0m=\u001b[35m{'time_sample_batch': 0.000508778569411163, 'time_algorithm_update': 0.04314671143764207, 'loss': -79.16124798002697, 'time_step': 0.04381124178568522, 'observation_error': 0.02940685172400477, 'reward_error': 5.042256148722327e-06, 'variance': 0.02672819085370568}\u001b[0m \u001b[36mstep\u001b[0m=\u001b[35m22848\u001b[0m\n",
      "\u001b[2m2023-10-11 16:14:52\u001b[0m [\u001b[32m\u001b[1minfo     \u001b[0m] \u001b[1mModel parameters are saved to d3rlpy_logs/SeparateStateAndRewardEncoders_20231011160113/model_22848.pt\u001b[0m\n"
     ]
    },
    {
     "data": {
      "application/vnd.jupyter.widget-view+json": {
       "model_id": "8f7214915147469580a392b9c5e7b2a7",
       "version_major": 2,
       "version_minor": 0
      },
      "text/plain": [
       "Epoch 33/100:   0%|          | 0/714 [00:00<?, ?it/s]"
      ]
     },
     "metadata": {},
     "output_type": "display_data"
    },
    {
     "name": "stdout",
     "output_type": "stream",
     "text": [
      "\u001b[2m2023-10-11 16:15:21\u001b[0m [\u001b[32m\u001b[1minfo     \u001b[0m] \u001b[1mSeparateStateAndRewardEncoders_20231011160113: epoch=33 step=23562\u001b[0m \u001b[36mepoch\u001b[0m=\u001b[35m33\u001b[0m \u001b[36mmetrics\u001b[0m=\u001b[35m{'time_sample_batch': 0.00037025136440074075, 'time_algorithm_update': 0.034326914979630155, 'loss': -78.69275724053048, 'time_step': 0.034803725424267, 'observation_error': 0.03409830950313699, 'reward_error': 6.181279594700322e-06, 'variance': 0.027149672709130556}\u001b[0m \u001b[36mstep\u001b[0m=\u001b[35m23562\u001b[0m\n",
      "\u001b[2m2023-10-11 16:15:21\u001b[0m [\u001b[32m\u001b[1minfo     \u001b[0m] \u001b[1mModel parameters are saved to d3rlpy_logs/SeparateStateAndRewardEncoders_20231011160113/model_23562.pt\u001b[0m\n"
     ]
    },
    {
     "data": {
      "application/vnd.jupyter.widget-view+json": {
       "model_id": "4133da93a02849cb8141d45e02b75d20",
       "version_major": 2,
       "version_minor": 0
      },
      "text/plain": [
       "Epoch 34/100:   0%|          | 0/714 [00:00<?, ?it/s]"
      ]
     },
     "metadata": {},
     "output_type": "display_data"
    },
    {
     "name": "stdout",
     "output_type": "stream",
     "text": [
      "\u001b[2m2023-10-11 16:15:57\u001b[0m [\u001b[32m\u001b[1minfo     \u001b[0m] \u001b[1mSeparateStateAndRewardEncoders_20231011160113: epoch=34 step=24276\u001b[0m \u001b[36mepoch\u001b[0m=\u001b[35m34\u001b[0m \u001b[36mmetrics\u001b[0m=\u001b[35m{'time_sample_batch': 0.0005218685508108273, 'time_algorithm_update': 0.04354527083431639, 'loss': -78.82215552503655, 'time_step': 0.04422280234115131, 'observation_error': 0.02886928450456361, 'reward_error': 5.108550123520058e-06, 'variance': 0.02645634787088616}\u001b[0m \u001b[36mstep\u001b[0m=\u001b[35m24276\u001b[0m\n",
      "\u001b[2m2023-10-11 16:15:57\u001b[0m [\u001b[32m\u001b[1minfo     \u001b[0m] \u001b[1mModel parameters are saved to d3rlpy_logs/SeparateStateAndRewardEncoders_20231011160113/model_24276.pt\u001b[0m\n"
     ]
    },
    {
     "data": {
      "application/vnd.jupyter.widget-view+json": {
       "model_id": "d18bec624a5141a4a5e99c9f911916fe",
       "version_major": 2,
       "version_minor": 0
      },
      "text/plain": [
       "Epoch 35/100:   0%|          | 0/714 [00:00<?, ?it/s]"
      ]
     },
     "metadata": {},
     "output_type": "display_data"
    },
    {
     "name": "stdout",
     "output_type": "stream",
     "text": [
      "\u001b[2m2023-10-11 16:16:32\u001b[0m [\u001b[32m\u001b[1minfo     \u001b[0m] \u001b[1mSeparateStateAndRewardEncoders_20231011160113: epoch=35 step=24990\u001b[0m \u001b[36mepoch\u001b[0m=\u001b[35m35\u001b[0m \u001b[36mmetrics\u001b[0m=\u001b[35m{'time_sample_batch': 0.0004935922408972134, 'time_algorithm_update': 0.04230437759591752, 'loss': -79.22568486585003, 'time_step': 0.042942015730700236, 'observation_error': 0.027291970905697415, 'reward_error': 1.1562652519398613e-05, 'variance': 0.023663024133733845}\u001b[0m \u001b[36mstep\u001b[0m=\u001b[35m24990\u001b[0m\n",
      "\u001b[2m2023-10-11 16:16:32\u001b[0m [\u001b[32m\u001b[1minfo     \u001b[0m] \u001b[1mModel parameters are saved to d3rlpy_logs/SeparateStateAndRewardEncoders_20231011160113/model_24990.pt\u001b[0m\n"
     ]
    },
    {
     "data": {
      "application/vnd.jupyter.widget-view+json": {
       "model_id": "93a19382363e4e8391fa631f8cecfca8",
       "version_major": 2,
       "version_minor": 0
      },
      "text/plain": [
       "Epoch 36/100:   0%|          | 0/714 [00:00<?, ?it/s]"
      ]
     },
     "metadata": {},
     "output_type": "display_data"
    },
    {
     "name": "stdout",
     "output_type": "stream",
     "text": [
      "\u001b[2m2023-10-11 16:17:00\u001b[0m [\u001b[32m\u001b[1minfo     \u001b[0m] \u001b[1mSeparateStateAndRewardEncoders_20231011160113: epoch=36 step=25704\u001b[0m \u001b[36mepoch\u001b[0m=\u001b[35m36\u001b[0m \u001b[36mmetrics\u001b[0m=\u001b[35m{'time_sample_batch': 0.00036127794356573197, 'time_algorithm_update': 0.03417142666354567, 'loss': -79.45777052657611, 'time_step': 0.03465371539278859, 'observation_error': 0.027708821920332548, 'reward_error': 4.702045926392268e-06, 'variance': 0.022300928927597368}\u001b[0m \u001b[36mstep\u001b[0m=\u001b[35m25704\u001b[0m\n",
      "\u001b[2m2023-10-11 16:17:00\u001b[0m [\u001b[32m\u001b[1minfo     \u001b[0m] \u001b[1mModel parameters are saved to d3rlpy_logs/SeparateStateAndRewardEncoders_20231011160113/model_25704.pt\u001b[0m\n"
     ]
    },
    {
     "data": {
      "application/vnd.jupyter.widget-view+json": {
       "model_id": "b20bc17c2cda4bd49a248ce3b1777391",
       "version_major": 2,
       "version_minor": 0
      },
      "text/plain": [
       "Epoch 37/100:   0%|          | 0/714 [00:00<?, ?it/s]"
      ]
     },
     "metadata": {},
     "output_type": "display_data"
    },
    {
     "name": "stdout",
     "output_type": "stream",
     "text": [
      "\u001b[2m2023-10-11 16:17:25\u001b[0m [\u001b[32m\u001b[1minfo     \u001b[0m] \u001b[1mSeparateStateAndRewardEncoders_20231011160113: epoch=37 step=26418\u001b[0m \u001b[36mepoch\u001b[0m=\u001b[35m37\u001b[0m \u001b[36mmetrics\u001b[0m=\u001b[35m{'time_sample_batch': 0.00030151201563389027, 'time_algorithm_update': 0.030993534737274425, 'loss': -80.21153719685658, 'time_step': 0.03137853900257613, 'observation_error': 0.026951387908764366, 'reward_error': 4.369890892361099e-06, 'variance': 0.02053690517436888}\u001b[0m \u001b[36mstep\u001b[0m=\u001b[35m26418\u001b[0m\n",
      "\u001b[2m2023-10-11 16:17:25\u001b[0m [\u001b[32m\u001b[1minfo     \u001b[0m] \u001b[1mModel parameters are saved to d3rlpy_logs/SeparateStateAndRewardEncoders_20231011160113/model_26418.pt\u001b[0m\n"
     ]
    },
    {
     "data": {
      "application/vnd.jupyter.widget-view+json": {
       "model_id": "df2a63bff3004a87a156c08352f91a31",
       "version_major": 2,
       "version_minor": 0
      },
      "text/plain": [
       "Epoch 38/100:   0%|          | 0/714 [00:00<?, ?it/s]"
      ]
     },
     "metadata": {},
     "output_type": "display_data"
    },
    {
     "name": "stdout",
     "output_type": "stream",
     "text": [
      "\u001b[2m2023-10-11 16:17:50\u001b[0m [\u001b[32m\u001b[1minfo     \u001b[0m] \u001b[1mSeparateStateAndRewardEncoders_20231011160113: epoch=38 step=27132\u001b[0m \u001b[36mepoch\u001b[0m=\u001b[35m38\u001b[0m \u001b[36mmetrics\u001b[0m=\u001b[35m{'time_sample_batch': 0.0002969022558516815, 'time_algorithm_update': 0.03014738553044509, 'loss': -80.0239588907119, 'time_step': 0.03052353157716639, 'observation_error': 0.031072697627830125, 'reward_error': 3.97495602333563e-06, 'variance': 0.022706129107332444}\u001b[0m \u001b[36mstep\u001b[0m=\u001b[35m27132\u001b[0m\n",
      "\u001b[2m2023-10-11 16:17:50\u001b[0m [\u001b[32m\u001b[1minfo     \u001b[0m] \u001b[1mModel parameters are saved to d3rlpy_logs/SeparateStateAndRewardEncoders_20231011160113/model_27132.pt\u001b[0m\n"
     ]
    },
    {
     "data": {
      "application/vnd.jupyter.widget-view+json": {
       "model_id": "b66cff55856341689f057c173f4b54cf",
       "version_major": 2,
       "version_minor": 0
      },
      "text/plain": [
       "Epoch 39/100:   0%|          | 0/714 [00:00<?, ?it/s]"
      ]
     },
     "metadata": {},
     "output_type": "display_data"
    },
    {
     "name": "stdout",
     "output_type": "stream",
     "text": [
      "\u001b[2m2023-10-11 16:18:16\u001b[0m [\u001b[32m\u001b[1minfo     \u001b[0m] \u001b[1mSeparateStateAndRewardEncoders_20231011160113: epoch=39 step=27846\u001b[0m \u001b[36mepoch\u001b[0m=\u001b[35m39\u001b[0m \u001b[36mmetrics\u001b[0m=\u001b[35m{'time_sample_batch': 0.0003051160096454353, 'time_algorithm_update': 0.030429923901704847, 'loss': -80.28760922055285, 'time_step': 0.030818075025115025, 'observation_error': 0.023312361508781947, 'reward_error': 4.1042375402914884e-06, 'variance': 0.019981544668422113}\u001b[0m \u001b[36mstep\u001b[0m=\u001b[35m27846\u001b[0m\n",
      "\u001b[2m2023-10-11 16:18:16\u001b[0m [\u001b[32m\u001b[1minfo     \u001b[0m] \u001b[1mModel parameters are saved to d3rlpy_logs/SeparateStateAndRewardEncoders_20231011160113/model_27846.pt\u001b[0m\n"
     ]
    },
    {
     "data": {
      "application/vnd.jupyter.widget-view+json": {
       "model_id": "e2b66c8d918c4dadbdf3b99f4ebbfd95",
       "version_major": 2,
       "version_minor": 0
      },
      "text/plain": [
       "Epoch 40/100:   0%|          | 0/714 [00:00<?, ?it/s]"
      ]
     },
     "metadata": {},
     "output_type": "display_data"
    },
    {
     "name": "stdout",
     "output_type": "stream",
     "text": [
      "\u001b[2m2023-10-11 16:18:40\u001b[0m [\u001b[32m\u001b[1minfo     \u001b[0m] \u001b[1mSeparateStateAndRewardEncoders_20231011160113: epoch=40 step=28560\u001b[0m \u001b[36mepoch\u001b[0m=\u001b[35m40\u001b[0m \u001b[36mmetrics\u001b[0m=\u001b[35m{'time_sample_batch': 0.0002827297071782815, 'time_algorithm_update': 0.029362126892688228, 'loss': -79.85268249298011, 'time_step': 0.02972174959690297, 'observation_error': 0.023187914986421535, 'reward_error': 4.393567446202786e-06, 'variance': 0.019260564122541513}\u001b[0m \u001b[36mstep\u001b[0m=\u001b[35m28560\u001b[0m\n",
      "\u001b[2m2023-10-11 16:18:40\u001b[0m [\u001b[32m\u001b[1minfo     \u001b[0m] \u001b[1mModel parameters are saved to d3rlpy_logs/SeparateStateAndRewardEncoders_20231011160113/model_28560.pt\u001b[0m\n"
     ]
    },
    {
     "data": {
      "application/vnd.jupyter.widget-view+json": {
       "model_id": "814a5b16b68443d398e7615b5beca207",
       "version_major": 2,
       "version_minor": 0
      },
      "text/plain": [
       "Epoch 41/100:   0%|          | 0/714 [00:00<?, ?it/s]"
      ]
     },
     "metadata": {},
     "output_type": "display_data"
    },
    {
     "name": "stdout",
     "output_type": "stream",
     "text": [
      "\u001b[2m2023-10-11 16:19:03\u001b[0m [\u001b[32m\u001b[1minfo     \u001b[0m] \u001b[1mSeparateStateAndRewardEncoders_20231011160113: epoch=41 step=29274\u001b[0m \u001b[36mepoch\u001b[0m=\u001b[35m41\u001b[0m \u001b[36mmetrics\u001b[0m=\u001b[35m{'time_sample_batch': 0.0002654827609449542, 'time_algorithm_update': 0.028316502811528053, 'loss': -80.2375579578202, 'time_step': 0.02865489924989161, 'observation_error': 0.023586039345311026, 'reward_error': 4.66639229602513e-06, 'variance': 0.018237489018015397}\u001b[0m \u001b[36mstep\u001b[0m=\u001b[35m29274\u001b[0m\n",
      "\u001b[2m2023-10-11 16:19:03\u001b[0m [\u001b[32m\u001b[1minfo     \u001b[0m] \u001b[1mModel parameters are saved to d3rlpy_logs/SeparateStateAndRewardEncoders_20231011160113/model_29274.pt\u001b[0m\n"
     ]
    },
    {
     "data": {
      "application/vnd.jupyter.widget-view+json": {
       "model_id": "a8e596223b3640318b978c7ba641494d",
       "version_major": 2,
       "version_minor": 0
      },
      "text/plain": [
       "Epoch 42/100:   0%|          | 0/714 [00:00<?, ?it/s]"
      ]
     },
     "metadata": {},
     "output_type": "display_data"
    },
    {
     "name": "stdout",
     "output_type": "stream",
     "text": [
      "\u001b[2m2023-10-11 16:19:27\u001b[0m [\u001b[32m\u001b[1minfo     \u001b[0m] \u001b[1mSeparateStateAndRewardEncoders_20231011160113: epoch=42 step=29988\u001b[0m \u001b[36mepoch\u001b[0m=\u001b[35m42\u001b[0m \u001b[36mmetrics\u001b[0m=\u001b[35m{'time_sample_batch': 0.0002761060784176952, 'time_algorithm_update': 0.028533778270753492, 'loss': -80.58065332685199, 'time_step': 0.02888230516129181, 'observation_error': 0.021782848647135717, 'reward_error': 3.836896337399115e-06, 'variance': 0.017278981603537896}\u001b[0m \u001b[36mstep\u001b[0m=\u001b[35m29988\u001b[0m\n",
      "\u001b[2m2023-10-11 16:19:27\u001b[0m [\u001b[32m\u001b[1minfo     \u001b[0m] \u001b[1mModel parameters are saved to d3rlpy_logs/SeparateStateAndRewardEncoders_20231011160113/model_29988.pt\u001b[0m\n"
     ]
    },
    {
     "data": {
      "application/vnd.jupyter.widget-view+json": {
       "model_id": "542c8d28b4c0470b93fdb567d60425eb",
       "version_major": 2,
       "version_minor": 0
      },
      "text/plain": [
       "Epoch 43/100:   0%|          | 0/714 [00:00<?, ?it/s]"
      ]
     },
     "metadata": {},
     "output_type": "display_data"
    },
    {
     "name": "stdout",
     "output_type": "stream",
     "text": [
      "\u001b[2m2023-10-11 16:19:59\u001b[0m [\u001b[32m\u001b[1minfo     \u001b[0m] \u001b[1mSeparateStateAndRewardEncoders_20231011160113: epoch=43 step=30702\u001b[0m \u001b[36mepoch\u001b[0m=\u001b[35m43\u001b[0m \u001b[36mmetrics\u001b[0m=\u001b[35m{'time_sample_batch': 0.0004427259375735157, 'time_algorithm_update': 0.03940820426834064, 'loss': -79.9376709988805, 'time_step': 0.03997565918609876, 'observation_error': 0.022542394061086674, 'reward_error': 1.2767225957362633e-05, 'variance': 0.016718689407726712}\u001b[0m \u001b[36mstep\u001b[0m=\u001b[35m30702\u001b[0m\n",
      "\u001b[2m2023-10-11 16:19:59\u001b[0m [\u001b[32m\u001b[1minfo     \u001b[0m] \u001b[1mModel parameters are saved to d3rlpy_logs/SeparateStateAndRewardEncoders_20231011160113/model_30702.pt\u001b[0m\n"
     ]
    },
    {
     "data": {
      "application/vnd.jupyter.widget-view+json": {
       "model_id": "30cc34d7dceb4dbb90ca1d05687df1e4",
       "version_major": 2,
       "version_minor": 0
      },
      "text/plain": [
       "Epoch 44/100:   0%|          | 0/714 [00:00<?, ?it/s]"
      ]
     },
     "metadata": {},
     "output_type": "display_data"
    },
    {
     "name": "stdout",
     "output_type": "stream",
     "text": [
      "\u001b[2m2023-10-11 16:20:31\u001b[0m [\u001b[32m\u001b[1minfo     \u001b[0m] \u001b[1mSeparateStateAndRewardEncoders_20231011160113: epoch=44 step=31416\u001b[0m \u001b[36mepoch\u001b[0m=\u001b[35m44\u001b[0m \u001b[36mmetrics\u001b[0m=\u001b[35m{'time_sample_batch': 0.00042895409239440403, 'time_algorithm_update': 0.03813651362720992, 'loss': -79.75429475340857, 'time_step': 0.03868182500203451, 'observation_error': 0.02281993599851113, 'reward_error': 3.624094943742227e-06, 'variance': 0.01570795112701311}\u001b[0m \u001b[36mstep\u001b[0m=\u001b[35m31416\u001b[0m\n",
      "\u001b[2m2023-10-11 16:20:31\u001b[0m [\u001b[32m\u001b[1minfo     \u001b[0m] \u001b[1mModel parameters are saved to d3rlpy_logs/SeparateStateAndRewardEncoders_20231011160113/model_31416.pt\u001b[0m\n"
     ]
    },
    {
     "data": {
      "application/vnd.jupyter.widget-view+json": {
       "model_id": "51a6d128ec364027b1e9533d642afa27",
       "version_major": 2,
       "version_minor": 0
      },
      "text/plain": [
       "Epoch 45/100:   0%|          | 0/714 [00:00<?, ?it/s]"
      ]
     },
     "metadata": {},
     "output_type": "display_data"
    },
    {
     "name": "stdout",
     "output_type": "stream",
     "text": [
      "\u001b[2m2023-10-11 16:21:07\u001b[0m [\u001b[32m\u001b[1minfo     \u001b[0m] \u001b[1mSeparateStateAndRewardEncoders_20231011160113: epoch=45 step=32130\u001b[0m \u001b[36mepoch\u001b[0m=\u001b[35m45\u001b[0m \u001b[36mmetrics\u001b[0m=\u001b[35m{'time_sample_batch': 0.000537439220759715, 'time_algorithm_update': 0.042958160408404694, 'loss': -81.17683072985054, 'time_step': 0.043636413849368484, 'observation_error': 0.01917555776260205, 'reward_error': 3.339657073260015e-06, 'variance': 0.014572427736110059}\u001b[0m \u001b[36mstep\u001b[0m=\u001b[35m32130\u001b[0m\n",
      "\u001b[2m2023-10-11 16:21:07\u001b[0m [\u001b[32m\u001b[1minfo     \u001b[0m] \u001b[1mModel parameters are saved to d3rlpy_logs/SeparateStateAndRewardEncoders_20231011160113/model_32130.pt\u001b[0m\n"
     ]
    },
    {
     "data": {
      "application/vnd.jupyter.widget-view+json": {
       "model_id": "b477a6f9588f444f95f5767da236e0cf",
       "version_major": 2,
       "version_minor": 0
      },
      "text/plain": [
       "Epoch 46/100:   0%|          | 0/714 [00:00<?, ?it/s]"
      ]
     },
     "metadata": {},
     "output_type": "display_data"
    },
    {
     "name": "stdout",
     "output_type": "stream",
     "text": [
      "\u001b[2m2023-10-11 16:21:45\u001b[0m [\u001b[32m\u001b[1minfo     \u001b[0m] \u001b[1mSeparateStateAndRewardEncoders_20231011160113: epoch=46 step=32844\u001b[0m \u001b[36mepoch\u001b[0m=\u001b[35m46\u001b[0m \u001b[36mmetrics\u001b[0m=\u001b[35m{'time_sample_batch': 0.0005676629496555702, 'time_algorithm_update': 0.04576293260109525, 'loss': -80.66207380321514, 'time_step': 0.04649978325146587, 'observation_error': 0.020848629467595844, 'reward_error': 3.003544278583763e-06, 'variance': 0.01374013132031655}\u001b[0m \u001b[36mstep\u001b[0m=\u001b[35m32844\u001b[0m\n",
      "\u001b[2m2023-10-11 16:21:45\u001b[0m [\u001b[32m\u001b[1minfo     \u001b[0m] \u001b[1mModel parameters are saved to d3rlpy_logs/SeparateStateAndRewardEncoders_20231011160113/model_32844.pt\u001b[0m\n"
     ]
    },
    {
     "data": {
      "application/vnd.jupyter.widget-view+json": {
       "model_id": "4fac8c6631b7400ebd4d83a8a2859ac7",
       "version_major": 2,
       "version_minor": 0
      },
      "text/plain": [
       "Epoch 47/100:   0%|          | 0/714 [00:00<?, ?it/s]"
      ]
     },
     "metadata": {},
     "output_type": "display_data"
    },
    {
     "name": "stdout",
     "output_type": "stream",
     "text": [
      "\u001b[2m2023-10-11 16:22:22\u001b[0m [\u001b[32m\u001b[1minfo     \u001b[0m] \u001b[1mSeparateStateAndRewardEncoders_20231011160113: epoch=47 step=33558\u001b[0m \u001b[36mepoch\u001b[0m=\u001b[35m47\u001b[0m \u001b[36mmetrics\u001b[0m=\u001b[35m{'time_sample_batch': 0.000574769426126774, 'time_algorithm_update': 0.04427294671034612, 'loss': -81.72468439070117, 'time_step': 0.045004623944685906, 'observation_error': 0.022200483680366267, 'reward_error': 4.883020578810794e-06, 'variance': 0.013894735464953777}\u001b[0m \u001b[36mstep\u001b[0m=\u001b[35m33558\u001b[0m\n",
      "\u001b[2m2023-10-11 16:22:22\u001b[0m [\u001b[32m\u001b[1minfo     \u001b[0m] \u001b[1mModel parameters are saved to d3rlpy_logs/SeparateStateAndRewardEncoders_20231011160113/model_33558.pt\u001b[0m\n"
     ]
    },
    {
     "data": {
      "application/vnd.jupyter.widget-view+json": {
       "model_id": "efc824b6747a4576b9fa6c925e2dce5e",
       "version_major": 2,
       "version_minor": 0
      },
      "text/plain": [
       "Epoch 48/100:   0%|          | 0/714 [00:00<?, ?it/s]"
      ]
     },
     "metadata": {},
     "output_type": "display_data"
    },
    {
     "name": "stdout",
     "output_type": "stream",
     "text": [
      "\u001b[2m2023-10-11 16:22:58\u001b[0m [\u001b[32m\u001b[1minfo     \u001b[0m] \u001b[1mSeparateStateAndRewardEncoders_20231011160113: epoch=48 step=34272\u001b[0m \u001b[36mepoch\u001b[0m=\u001b[35m48\u001b[0m \u001b[36mmetrics\u001b[0m=\u001b[35m{'time_sample_batch': 0.0005590818843253854, 'time_algorithm_update': 0.044602059516586176, 'loss': -81.26155036904899, 'time_step': 0.04532777595252884, 'observation_error': 0.022188829801390163, 'reward_error': 6.466133380181609e-06, 'variance': 0.013311825763484822}\u001b[0m \u001b[36mstep\u001b[0m=\u001b[35m34272\u001b[0m\n",
      "\u001b[2m2023-10-11 16:22:58\u001b[0m [\u001b[32m\u001b[1minfo     \u001b[0m] \u001b[1mModel parameters are saved to d3rlpy_logs/SeparateStateAndRewardEncoders_20231011160113/model_34272.pt\u001b[0m\n"
     ]
    },
    {
     "data": {
      "application/vnd.jupyter.widget-view+json": {
       "model_id": "8a044e00ae774f7486ee5a55fb26df87",
       "version_major": 2,
       "version_minor": 0
      },
      "text/plain": [
       "Epoch 49/100:   0%|          | 0/714 [00:00<?, ?it/s]"
      ]
     },
     "metadata": {},
     "output_type": "display_data"
    },
    {
     "name": "stdout",
     "output_type": "stream",
     "text": [
      "\u001b[2m2023-10-11 16:23:33\u001b[0m [\u001b[32m\u001b[1minfo     \u001b[0m] \u001b[1mSeparateStateAndRewardEncoders_20231011160113: epoch=49 step=34986\u001b[0m \u001b[36mepoch\u001b[0m=\u001b[35m49\u001b[0m \u001b[36mmetrics\u001b[0m=\u001b[35m{'time_sample_batch': 0.0005323012002042028, 'time_algorithm_update': 0.041902289337136835, 'loss': -80.88673056006766, 'time_step': 0.04260573734422358, 'observation_error': 0.021307029513213883, 'reward_error': 4.394884322647032e-06, 'variance': 0.013475305284165823}\u001b[0m \u001b[36mstep\u001b[0m=\u001b[35m34986\u001b[0m\n",
      "\u001b[2m2023-10-11 16:23:33\u001b[0m [\u001b[32m\u001b[1minfo     \u001b[0m] \u001b[1mModel parameters are saved to d3rlpy_logs/SeparateStateAndRewardEncoders_20231011160113/model_34986.pt\u001b[0m\n"
     ]
    },
    {
     "data": {
      "application/vnd.jupyter.widget-view+json": {
       "model_id": "76a9cbc23d164cc0b53032ad8ca2f251",
       "version_major": 2,
       "version_minor": 0
      },
      "text/plain": [
       "Epoch 50/100:   0%|          | 0/714 [00:00<?, ?it/s]"
      ]
     },
     "metadata": {},
     "output_type": "display_data"
    },
    {
     "name": "stdout",
     "output_type": "stream",
     "text": [
      "\u001b[2m2023-10-11 16:24:04\u001b[0m [\u001b[32m\u001b[1minfo     \u001b[0m] \u001b[1mSeparateStateAndRewardEncoders_20231011160113: epoch=50 step=35700\u001b[0m \u001b[36mepoch\u001b[0m=\u001b[35m50\u001b[0m \u001b[36mmetrics\u001b[0m=\u001b[35m{'time_sample_batch': 0.0004538591502427387, 'time_algorithm_update': 0.03878985800329043, 'loss': -81.63311327338553, 'time_step': 0.039375832768715396, 'observation_error': 0.018807358095784606, 'reward_error': 2.9673021301292876e-06, 'variance': 0.012403515718383513}\u001b[0m \u001b[36mstep\u001b[0m=\u001b[35m35700\u001b[0m\n",
      "\u001b[2m2023-10-11 16:24:04\u001b[0m [\u001b[32m\u001b[1minfo     \u001b[0m] \u001b[1mModel parameters are saved to d3rlpy_logs/SeparateStateAndRewardEncoders_20231011160113/model_35700.pt\u001b[0m\n"
     ]
    },
    {
     "data": {
      "application/vnd.jupyter.widget-view+json": {
       "model_id": "488aa32963b3464ab68bf9f6f6b86831",
       "version_major": 2,
       "version_minor": 0
      },
      "text/plain": [
       "Epoch 51/100:   0%|          | 0/714 [00:00<?, ?it/s]"
      ]
     },
     "metadata": {},
     "output_type": "display_data"
    },
    {
     "name": "stdout",
     "output_type": "stream",
     "text": [
      "\u001b[2m2023-10-11 16:24:36\u001b[0m [\u001b[32m\u001b[1minfo     \u001b[0m] \u001b[1mSeparateStateAndRewardEncoders_20231011160113: epoch=51 step=36414\u001b[0m \u001b[36mepoch\u001b[0m=\u001b[35m51\u001b[0m \u001b[36mmetrics\u001b[0m=\u001b[35m{'time_sample_batch': 0.0004834985198760901, 'time_algorithm_update': 0.03882662054537391, 'loss': -81.57586403186916, 'time_step': 0.03944986040184812, 'observation_error': 0.019734688144467268, 'reward_error': 3.4522006654801007e-06, 'variance': 0.012681928836373589}\u001b[0m \u001b[36mstep\u001b[0m=\u001b[35m36414\u001b[0m\n",
      "\u001b[2m2023-10-11 16:24:36\u001b[0m [\u001b[32m\u001b[1minfo     \u001b[0m] \u001b[1mModel parameters are saved to d3rlpy_logs/SeparateStateAndRewardEncoders_20231011160113/model_36414.pt\u001b[0m\n"
     ]
    },
    {
     "data": {
      "application/vnd.jupyter.widget-view+json": {
       "model_id": "e293dd97d48542e9a61533bd9f91415f",
       "version_major": 2,
       "version_minor": 0
      },
      "text/plain": [
       "Epoch 52/100:   0%|          | 0/714 [00:00<?, ?it/s]"
      ]
     },
     "metadata": {},
     "output_type": "display_data"
    },
    {
     "name": "stdout",
     "output_type": "stream",
     "text": [
      "\u001b[2m2023-10-11 16:25:05\u001b[0m [\u001b[32m\u001b[1minfo     \u001b[0m] \u001b[1mSeparateStateAndRewardEncoders_20231011160113: epoch=52 step=37128\u001b[0m \u001b[36mepoch\u001b[0m=\u001b[35m52\u001b[0m \u001b[36mmetrics\u001b[0m=\u001b[35m{'time_sample_batch': 0.00041687221420245345, 'time_algorithm_update': 0.035589202111508664, 'loss': -81.70678867478999, 'time_step': 0.036134745226520784, 'observation_error': 0.019651802406707115, 'reward_error': 4.201648716383661e-06, 'variance': 0.01232545005660732}\u001b[0m \u001b[36mstep\u001b[0m=\u001b[35m37128\u001b[0m\n",
      "\u001b[2m2023-10-11 16:25:05\u001b[0m [\u001b[32m\u001b[1minfo     \u001b[0m] \u001b[1mModel parameters are saved to d3rlpy_logs/SeparateStateAndRewardEncoders_20231011160113/model_37128.pt\u001b[0m\n"
     ]
    },
    {
     "data": {
      "application/vnd.jupyter.widget-view+json": {
       "model_id": "4d33314c223c4365bfc5f73cb4d45195",
       "version_major": 2,
       "version_minor": 0
      },
      "text/plain": [
       "Epoch 53/100:   0%|          | 0/714 [00:00<?, ?it/s]"
      ]
     },
     "metadata": {},
     "output_type": "display_data"
    },
    {
     "name": "stdout",
     "output_type": "stream",
     "text": [
      "\u001b[2m2023-10-11 16:25:32\u001b[0m [\u001b[32m\u001b[1minfo     \u001b[0m] \u001b[1mSeparateStateAndRewardEncoders_20231011160113: epoch=53 step=37842\u001b[0m \u001b[36mepoch\u001b[0m=\u001b[35m53\u001b[0m \u001b[36mmetrics\u001b[0m=\u001b[35m{'time_sample_batch': 0.00040061099856507544, 'time_algorithm_update': 0.03398974870099407, 'loss': -82.3489609218779, 'time_step': 0.034501134514474736, 'observation_error': 0.02044353635734806, 'reward_error': 4.157707748217008e-06, 'variance': 0.01159401209670947}\u001b[0m \u001b[36mstep\u001b[0m=\u001b[35m37842\u001b[0m\n",
      "\u001b[2m2023-10-11 16:25:33\u001b[0m [\u001b[32m\u001b[1minfo     \u001b[0m] \u001b[1mModel parameters are saved to d3rlpy_logs/SeparateStateAndRewardEncoders_20231011160113/model_37842.pt\u001b[0m\n"
     ]
    },
    {
     "data": {
      "application/vnd.jupyter.widget-view+json": {
       "model_id": "6003aadb62414ec18c24b6761c3bdc05",
       "version_major": 2,
       "version_minor": 0
      },
      "text/plain": [
       "Epoch 54/100:   0%|          | 0/714 [00:00<?, ?it/s]"
      ]
     },
     "metadata": {},
     "output_type": "display_data"
    },
    {
     "name": "stdout",
     "output_type": "stream",
     "text": [
      "\u001b[2m2023-10-11 16:26:06\u001b[0m [\u001b[32m\u001b[1minfo     \u001b[0m] \u001b[1mSeparateStateAndRewardEncoders_20231011160113: epoch=54 step=38556\u001b[0m \u001b[36mepoch\u001b[0m=\u001b[35m54\u001b[0m \u001b[36mmetrics\u001b[0m=\u001b[35m{'time_sample_batch': 0.0005090867771821864, 'time_algorithm_update': 0.040470067526446, 'loss': -82.84689677796779, 'time_step': 0.041134428243343235, 'observation_error': 0.018748553674222606, 'reward_error': 4.45255434746054e-06, 'variance': 0.011015604780435399}\u001b[0m \u001b[36mstep\u001b[0m=\u001b[35m38556\u001b[0m\n",
      "\u001b[2m2023-10-11 16:26:06\u001b[0m [\u001b[32m\u001b[1minfo     \u001b[0m] \u001b[1mModel parameters are saved to d3rlpy_logs/SeparateStateAndRewardEncoders_20231011160113/model_38556.pt\u001b[0m\n"
     ]
    },
    {
     "data": {
      "application/vnd.jupyter.widget-view+json": {
       "model_id": "9bf2c197f95e47ceb83e46fed41142e2",
       "version_major": 2,
       "version_minor": 0
      },
      "text/plain": [
       "Epoch 55/100:   0%|          | 0/714 [00:00<?, ?it/s]"
      ]
     },
     "metadata": {},
     "output_type": "display_data"
    },
    {
     "name": "stdout",
     "output_type": "stream",
     "text": [
      "\u001b[2m2023-10-11 16:26:38\u001b[0m [\u001b[32m\u001b[1minfo     \u001b[0m] \u001b[1mSeparateStateAndRewardEncoders_20231011160113: epoch=55 step=39270\u001b[0m \u001b[36mepoch\u001b[0m=\u001b[35m55\u001b[0m \u001b[36mmetrics\u001b[0m=\u001b[35m{'time_sample_batch': 0.00047514652337680676, 'time_algorithm_update': 0.039072419748920686, 'loss': -80.60870648231827, 'time_step': 0.03968911945652895, 'observation_error': 0.02280262520621532, 'reward_error': 6.828771326472039e-06, 'variance': 0.01282564367465327}\u001b[0m \u001b[36mstep\u001b[0m=\u001b[35m39270\u001b[0m\n",
      "\u001b[2m2023-10-11 16:26:38\u001b[0m [\u001b[32m\u001b[1minfo     \u001b[0m] \u001b[1mModel parameters are saved to d3rlpy_logs/SeparateStateAndRewardEncoders_20231011160113/model_39270.pt\u001b[0m\n"
     ]
    },
    {
     "data": {
      "application/vnd.jupyter.widget-view+json": {
       "model_id": "b8fdefea340542adaca791c33aad9852",
       "version_major": 2,
       "version_minor": 0
      },
      "text/plain": [
       "Epoch 56/100:   0%|          | 0/714 [00:00<?, ?it/s]"
      ]
     },
     "metadata": {},
     "output_type": "display_data"
    },
    {
     "name": "stdout",
     "output_type": "stream",
     "text": [
      "\u001b[2m2023-10-11 16:27:12\u001b[0m [\u001b[32m\u001b[1minfo     \u001b[0m] \u001b[1mSeparateStateAndRewardEncoders_20231011160113: epoch=56 step=39984\u001b[0m \u001b[36mepoch\u001b[0m=\u001b[35m56\u001b[0m \u001b[36mmetrics\u001b[0m=\u001b[35m{'time_sample_batch': 0.0005311214623331022, 'time_algorithm_update': 0.041672227429408654, 'loss': -82.7783345348027, 'time_step': 0.042366036180020716, 'observation_error': 0.01917708586001866, 'reward_error': 3.580543799019659e-06, 'variance': 0.01043618020588826}\u001b[0m \u001b[36mstep\u001b[0m=\u001b[35m39984\u001b[0m\n",
      "\u001b[2m2023-10-11 16:27:12\u001b[0m [\u001b[32m\u001b[1minfo     \u001b[0m] \u001b[1mModel parameters are saved to d3rlpy_logs/SeparateStateAndRewardEncoders_20231011160113/model_39984.pt\u001b[0m\n"
     ]
    },
    {
     "data": {
      "application/vnd.jupyter.widget-view+json": {
       "model_id": "c96da0a31cfa4708af50d4abed559fd5",
       "version_major": 2,
       "version_minor": 0
      },
      "text/plain": [
       "Epoch 57/100:   0%|          | 0/714 [00:00<?, ?it/s]"
      ]
     },
     "metadata": {},
     "output_type": "display_data"
    },
    {
     "name": "stdout",
     "output_type": "stream",
     "text": [
      "\u001b[2m2023-10-11 16:27:43\u001b[0m [\u001b[32m\u001b[1minfo     \u001b[0m] \u001b[1mSeparateStateAndRewardEncoders_20231011160113: epoch=57 step=40698\u001b[0m \u001b[36mepoch\u001b[0m=\u001b[35m57\u001b[0m \u001b[36mmetrics\u001b[0m=\u001b[35m{'time_sample_batch': 0.00046360759841961686, 'time_algorithm_update': 0.0388637524025113, 'loss': -82.91348008548512, 'time_step': 0.03947734265100388, 'observation_error': 0.020159360660450446, 'reward_error': 3.5016823324708196e-06, 'variance': 0.010095075476883708}\u001b[0m \u001b[36mstep\u001b[0m=\u001b[35m40698\u001b[0m\n",
      "\u001b[2m2023-10-11 16:27:43\u001b[0m [\u001b[32m\u001b[1minfo     \u001b[0m] \u001b[1mModel parameters are saved to d3rlpy_logs/SeparateStateAndRewardEncoders_20231011160113/model_40698.pt\u001b[0m\n"
     ]
    },
    {
     "data": {
      "application/vnd.jupyter.widget-view+json": {
       "model_id": "bd98a796566f4ea1ae2e0ed9427f2e1c",
       "version_major": 2,
       "version_minor": 0
      },
      "text/plain": [
       "Epoch 58/100:   0%|          | 0/714 [00:00<?, ?it/s]"
      ]
     },
     "metadata": {},
     "output_type": "display_data"
    },
    {
     "name": "stdout",
     "output_type": "stream",
     "text": [
      "\u001b[2m2023-10-11 16:28:16\u001b[0m [\u001b[32m\u001b[1minfo     \u001b[0m] \u001b[1mSeparateStateAndRewardEncoders_20231011160113: epoch=58 step=41412\u001b[0m \u001b[36mepoch\u001b[0m=\u001b[35m58\u001b[0m \u001b[36mmetrics\u001b[0m=\u001b[35m{'time_sample_batch': 0.00048469762508274796, 'time_algorithm_update': 0.0399107038139963, 'loss': -81.52942722651805, 'time_step': 0.04054202151899578, 'observation_error': 0.019371351789565266, 'reward_error': 3.5396250811011863e-06, 'variance': 0.00985641742054154}\u001b[0m \u001b[36mstep\u001b[0m=\u001b[35m41412\u001b[0m\n",
      "\u001b[2m2023-10-11 16:28:16\u001b[0m [\u001b[32m\u001b[1minfo     \u001b[0m] \u001b[1mModel parameters are saved to d3rlpy_logs/SeparateStateAndRewardEncoders_20231011160113/model_41412.pt\u001b[0m\n"
     ]
    },
    {
     "data": {
      "application/vnd.jupyter.widget-view+json": {
       "model_id": "16593297563e48ba98f3d43be6a706f4",
       "version_major": 2,
       "version_minor": 0
      },
      "text/plain": [
       "Epoch 59/100:   0%|          | 0/714 [00:00<?, ?it/s]"
      ]
     },
     "metadata": {},
     "output_type": "display_data"
    },
    {
     "name": "stdout",
     "output_type": "stream",
     "text": [
      "\u001b[2m2023-10-11 16:28:49\u001b[0m [\u001b[32m\u001b[1minfo     \u001b[0m] \u001b[1mSeparateStateAndRewardEncoders_20231011160113: epoch=59 step=42126\u001b[0m \u001b[36mepoch\u001b[0m=\u001b[35m59\u001b[0m \u001b[36mmetrics\u001b[0m=\u001b[35m{'time_sample_batch': 0.00048619992926675066, 'time_algorithm_update': 0.04102560285092736, 'loss': -81.14000523324107, 'time_step': 0.04165593015045679, 'observation_error': 0.018900732641539384, 'reward_error': 1.2771485146743034e-05, 'variance': 0.011473967552451123}\u001b[0m \u001b[36mstep\u001b[0m=\u001b[35m42126\u001b[0m\n",
      "\u001b[2m2023-10-11 16:28:49\u001b[0m [\u001b[32m\u001b[1minfo     \u001b[0m] \u001b[1mModel parameters are saved to d3rlpy_logs/SeparateStateAndRewardEncoders_20231011160113/model_42126.pt\u001b[0m\n"
     ]
    },
    {
     "data": {
      "application/vnd.jupyter.widget-view+json": {
       "model_id": "63c0dc9331494721acc186e940f8ab33",
       "version_major": 2,
       "version_minor": 0
      },
      "text/plain": [
       "Epoch 60/100:   0%|          | 0/714 [00:00<?, ?it/s]"
      ]
     },
     "metadata": {},
     "output_type": "display_data"
    },
    {
     "name": "stdout",
     "output_type": "stream",
     "text": [
      "\u001b[2m2023-10-11 16:29:14\u001b[0m [\u001b[32m\u001b[1minfo     \u001b[0m] \u001b[1mSeparateStateAndRewardEncoders_20231011160113: epoch=60 step=42840\u001b[0m \u001b[36mepoch\u001b[0m=\u001b[35m60\u001b[0m \u001b[36mmetrics\u001b[0m=\u001b[35m{'time_sample_batch': 0.00031686630569586235, 'time_algorithm_update': 0.030413695744105747, 'loss': -83.30349615508435, 'time_step': 0.030814421277086276, 'observation_error': 0.01893814998241631, 'reward_error': 2.659328149956781e-06, 'variance': 0.00960920060754477}\u001b[0m \u001b[36mstep\u001b[0m=\u001b[35m42840\u001b[0m\n",
      "\u001b[2m2023-10-11 16:29:14\u001b[0m [\u001b[32m\u001b[1minfo     \u001b[0m] \u001b[1mModel parameters are saved to d3rlpy_logs/SeparateStateAndRewardEncoders_20231011160113/model_42840.pt\u001b[0m\n"
     ]
    },
    {
     "data": {
      "application/vnd.jupyter.widget-view+json": {
       "model_id": "189682d83eee47db9d3dd85f22cbba36",
       "version_major": 2,
       "version_minor": 0
      },
      "text/plain": [
       "Epoch 61/100:   0%|          | 0/714 [00:00<?, ?it/s]"
      ]
     },
     "metadata": {},
     "output_type": "display_data"
    },
    {
     "name": "stdout",
     "output_type": "stream",
     "text": [
      "\u001b[2m2023-10-11 16:29:38\u001b[0m [\u001b[32m\u001b[1minfo     \u001b[0m] \u001b[1mSeparateStateAndRewardEncoders_20231011160113: epoch=61 step=43554\u001b[0m \u001b[36mepoch\u001b[0m=\u001b[35m61\u001b[0m \u001b[36mmetrics\u001b[0m=\u001b[35m{'time_sample_batch': 0.00029282476387771907, 'time_algorithm_update': 0.02896586419487534, 'loss': -83.61640770962926, 'time_step': 0.02933753204612839, 'observation_error': 0.017601060831410116, 'reward_error': 3.5589070221663443e-06, 'variance': 0.010041168371136314}\u001b[0m \u001b[36mstep\u001b[0m=\u001b[35m43554\u001b[0m\n",
      "\u001b[2m2023-10-11 16:29:38\u001b[0m [\u001b[32m\u001b[1minfo     \u001b[0m] \u001b[1mModel parameters are saved to d3rlpy_logs/SeparateStateAndRewardEncoders_20231011160113/model_43554.pt\u001b[0m\n"
     ]
    },
    {
     "data": {
      "application/vnd.jupyter.widget-view+json": {
       "model_id": "a8efd2f054d440b2afdecba6e6dd286f",
       "version_major": 2,
       "version_minor": 0
      },
      "text/plain": [
       "Epoch 62/100:   0%|          | 0/714 [00:00<?, ?it/s]"
      ]
     },
     "metadata": {},
     "output_type": "display_data"
    },
    {
     "name": "stdout",
     "output_type": "stream",
     "text": [
      "\u001b[2m2023-10-11 16:30:00\u001b[0m [\u001b[32m\u001b[1minfo     \u001b[0m] \u001b[1mSeparateStateAndRewardEncoders_20231011160113: epoch=62 step=44268\u001b[0m \u001b[36mepoch\u001b[0m=\u001b[35m62\u001b[0m \u001b[36mmetrics\u001b[0m=\u001b[35m{'time_sample_batch': 0.000273803035084273, 'time_algorithm_update': 0.027988218125842866, 'loss': -82.11825900518593, 'time_step': 0.028338132118310582, 'observation_error': 0.01876697190605906, 'reward_error': 3.826909808330311e-06, 'variance': 0.009397098749053038}\u001b[0m \u001b[36mstep\u001b[0m=\u001b[35m44268\u001b[0m\n",
      "\u001b[2m2023-10-11 16:30:00\u001b[0m [\u001b[32m\u001b[1minfo     \u001b[0m] \u001b[1mModel parameters are saved to d3rlpy_logs/SeparateStateAndRewardEncoders_20231011160113/model_44268.pt\u001b[0m\n"
     ]
    },
    {
     "data": {
      "application/vnd.jupyter.widget-view+json": {
       "model_id": "921c5acf5ca24707a40491f5028894d2",
       "version_major": 2,
       "version_minor": 0
      },
      "text/plain": [
       "Epoch 63/100:   0%|          | 0/714 [00:00<?, ?it/s]"
      ]
     },
     "metadata": {},
     "output_type": "display_data"
    },
    {
     "name": "stdout",
     "output_type": "stream",
     "text": [
      "\u001b[2m2023-10-11 16:30:24\u001b[0m [\u001b[32m\u001b[1minfo     \u001b[0m] \u001b[1mSeparateStateAndRewardEncoders_20231011160113: epoch=63 step=44982\u001b[0m \u001b[36mepoch\u001b[0m=\u001b[35m63\u001b[0m \u001b[36mmetrics\u001b[0m=\u001b[35m{'time_sample_batch': 0.0002734507499288778, 'time_algorithm_update': 0.028508590383022104, 'loss': -83.53061570506804, 'time_step': 0.028859060685507722, 'observation_error': 0.020677537879502928, 'reward_error': 3.5803644488745474e-06, 'variance': 0.008613673756421993}\u001b[0m \u001b[36mstep\u001b[0m=\u001b[35m44982\u001b[0m\n",
      "\u001b[2m2023-10-11 16:30:24\u001b[0m [\u001b[32m\u001b[1minfo     \u001b[0m] \u001b[1mModel parameters are saved to d3rlpy_logs/SeparateStateAndRewardEncoders_20231011160113/model_44982.pt\u001b[0m\n"
     ]
    },
    {
     "data": {
      "application/vnd.jupyter.widget-view+json": {
       "model_id": "5f78612a055743338e6a87e749518215",
       "version_major": 2,
       "version_minor": 0
      },
      "text/plain": [
       "Epoch 64/100:   0%|          | 0/714 [00:00<?, ?it/s]"
      ]
     },
     "metadata": {},
     "output_type": "display_data"
    },
    {
     "name": "stdout",
     "output_type": "stream",
     "text": [
      "\u001b[2m2023-10-11 16:30:48\u001b[0m [\u001b[32m\u001b[1minfo     \u001b[0m] \u001b[1mSeparateStateAndRewardEncoders_20231011160113: epoch=64 step=45696\u001b[0m \u001b[36mepoch\u001b[0m=\u001b[35m64\u001b[0m \u001b[36mmetrics\u001b[0m=\u001b[35m{'time_sample_batch': 0.00029668587596476577, 'time_algorithm_update': 0.030167175274269254, 'loss': -82.55528586251395, 'time_step': 0.03054780252173501, 'observation_error': 0.019444775910352118, 'reward_error': 1.5123900278872297e-05, 'variance': 0.009637590576139107}\u001b[0m \u001b[36mstep\u001b[0m=\u001b[35m45696\u001b[0m\n",
      "\u001b[2m2023-10-11 16:30:48\u001b[0m [\u001b[32m\u001b[1minfo     \u001b[0m] \u001b[1mModel parameters are saved to d3rlpy_logs/SeparateStateAndRewardEncoders_20231011160113/model_45696.pt\u001b[0m\n"
     ]
    },
    {
     "data": {
      "application/vnd.jupyter.widget-view+json": {
       "model_id": "d6cb97d2db094a29938fa86220326d19",
       "version_major": 2,
       "version_minor": 0
      },
      "text/plain": [
       "Epoch 65/100:   0%|          | 0/714 [00:00<?, ?it/s]"
      ]
     },
     "metadata": {},
     "output_type": "display_data"
    },
    {
     "name": "stdout",
     "output_type": "stream",
     "text": [
      "\u001b[2m2023-10-11 16:31:12\u001b[0m [\u001b[32m\u001b[1minfo     \u001b[0m] \u001b[1mSeparateStateAndRewardEncoders_20231011160113: epoch=65 step=46410\u001b[0m \u001b[36mepoch\u001b[0m=\u001b[35m65\u001b[0m \u001b[36mmetrics\u001b[0m=\u001b[35m{'time_sample_batch': 0.00029435010851264334, 'time_algorithm_update': 0.029161221172963204, 'loss': -83.39281118483771, 'time_step': 0.02953894398793453, 'observation_error': 0.019808265908819116, 'reward_error': 6.907334142790937e-06, 'variance': 0.009124331380083502}\u001b[0m \u001b[36mstep\u001b[0m=\u001b[35m46410\u001b[0m\n",
      "\u001b[2m2023-10-11 16:31:12\u001b[0m [\u001b[32m\u001b[1minfo     \u001b[0m] \u001b[1mModel parameters are saved to d3rlpy_logs/SeparateStateAndRewardEncoders_20231011160113/model_46410.pt\u001b[0m\n"
     ]
    },
    {
     "data": {
      "application/vnd.jupyter.widget-view+json": {
       "model_id": "803a47c8ce9a4292991faf9700fd67b4",
       "version_major": 2,
       "version_minor": 0
      },
      "text/plain": [
       "Epoch 66/100:   0%|          | 0/714 [00:00<?, ?it/s]"
      ]
     },
     "metadata": {},
     "output_type": "display_data"
    },
    {
     "name": "stdout",
     "output_type": "stream",
     "text": [
      "\u001b[2m2023-10-11 16:31:34\u001b[0m [\u001b[32m\u001b[1minfo     \u001b[0m] \u001b[1mSeparateStateAndRewardEncoders_20231011160113: epoch=66 step=47124\u001b[0m \u001b[36mepoch\u001b[0m=\u001b[35m66\u001b[0m \u001b[36mmetrics\u001b[0m=\u001b[35m{'time_sample_batch': 0.00027301364920052495, 'time_algorithm_update': 0.02814870788937523, 'loss': -83.47771471755512, 'time_step': 0.02849504359963895, 'observation_error': 0.018219062578555503, 'reward_error': 5.823189005841414e-06, 'variance': 0.0095371551560211}\u001b[0m \u001b[36mstep\u001b[0m=\u001b[35m47124\u001b[0m\n",
      "\u001b[2m2023-10-11 16:31:34\u001b[0m [\u001b[32m\u001b[1minfo     \u001b[0m] \u001b[1mModel parameters are saved to d3rlpy_logs/SeparateStateAndRewardEncoders_20231011160113/model_47124.pt\u001b[0m\n"
     ]
    },
    {
     "data": {
      "application/vnd.jupyter.widget-view+json": {
       "model_id": "9aa3a29d7fac45b586305445450a1bd6",
       "version_major": 2,
       "version_minor": 0
      },
      "text/plain": [
       "Epoch 67/100:   0%|          | 0/714 [00:00<?, ?it/s]"
      ]
     },
     "metadata": {},
     "output_type": "display_data"
    },
    {
     "name": "stdout",
     "output_type": "stream",
     "text": [
      "\u001b[2m2023-10-11 16:32:06\u001b[0m [\u001b[32m\u001b[1minfo     \u001b[0m] \u001b[1mSeparateStateAndRewardEncoders_20231011160113: epoch=67 step=47838\u001b[0m \u001b[36mepoch\u001b[0m=\u001b[35m67\u001b[0m \u001b[36mmetrics\u001b[0m=\u001b[35m{'time_sample_batch': 0.00044384723951836595, 'time_algorithm_update': 0.03923159086403726, 'loss': -82.18948255667165, 'time_step': 0.03981178648331586, 'observation_error': 0.018351264684812445, 'reward_error': 2.747431738522859e-06, 'variance': 0.009317538942303024}\u001b[0m \u001b[36mstep\u001b[0m=\u001b[35m47838\u001b[0m\n",
      "\u001b[2m2023-10-11 16:32:06\u001b[0m [\u001b[32m\u001b[1minfo     \u001b[0m] \u001b[1mModel parameters are saved to d3rlpy_logs/SeparateStateAndRewardEncoders_20231011160113/model_47838.pt\u001b[0m\n"
     ]
    },
    {
     "data": {
      "application/vnd.jupyter.widget-view+json": {
       "model_id": "8a35ebf14bd1418fb73683015e546829",
       "version_major": 2,
       "version_minor": 0
      },
      "text/plain": [
       "Epoch 68/100:   0%|          | 0/714 [00:00<?, ?it/s]"
      ]
     },
     "metadata": {},
     "output_type": "display_data"
    },
    {
     "name": "stdout",
     "output_type": "stream",
     "text": [
      "\u001b[2m2023-10-11 16:32:39\u001b[0m [\u001b[32m\u001b[1minfo     \u001b[0m] \u001b[1mSeparateStateAndRewardEncoders_20231011160113: epoch=68 step=48552\u001b[0m \u001b[36mepoch\u001b[0m=\u001b[35m68\u001b[0m \u001b[36mmetrics\u001b[0m=\u001b[35m{'time_sample_batch': 0.00048524825846781586, 'time_algorithm_update': 0.040795605055758265, 'loss': -84.39263427157361, 'time_step': 0.041427050651956336, 'observation_error': 0.01798807329293541, 'reward_error': 5.572373785866355e-06, 'variance': 0.009082506607400493}\u001b[0m \u001b[36mstep\u001b[0m=\u001b[35m48552\u001b[0m\n",
      "\u001b[2m2023-10-11 16:32:39\u001b[0m [\u001b[32m\u001b[1minfo     \u001b[0m] \u001b[1mModel parameters are saved to d3rlpy_logs/SeparateStateAndRewardEncoders_20231011160113/model_48552.pt\u001b[0m\n"
     ]
    },
    {
     "data": {
      "application/vnd.jupyter.widget-view+json": {
       "model_id": "0ae9fa983e60497d8dc2922dd5db5695",
       "version_major": 2,
       "version_minor": 0
      },
      "text/plain": [
       "Epoch 69/100:   0%|          | 0/714 [00:00<?, ?it/s]"
      ]
     },
     "metadata": {},
     "output_type": "display_data"
    },
    {
     "name": "stdout",
     "output_type": "stream",
     "text": [
      "\u001b[2m2023-10-11 16:33:14\u001b[0m [\u001b[32m\u001b[1minfo     \u001b[0m] \u001b[1mSeparateStateAndRewardEncoders_20231011160113: epoch=69 step=49266\u001b[0m \u001b[36mepoch\u001b[0m=\u001b[35m69\u001b[0m \u001b[36mmetrics\u001b[0m=\u001b[35m{'time_sample_batch': 0.0005335917993753898, 'time_algorithm_update': 0.04183447294208516, 'loss': -83.9429427315207, 'time_step': 0.04253928267321333, 'observation_error': 0.018997037600291183, 'reward_error': 2.2931732848222106e-06, 'variance': 0.008427047030137972}\u001b[0m \u001b[36mstep\u001b[0m=\u001b[35m49266\u001b[0m\n",
      "\u001b[2m2023-10-11 16:33:14\u001b[0m [\u001b[32m\u001b[1minfo     \u001b[0m] \u001b[1mModel parameters are saved to d3rlpy_logs/SeparateStateAndRewardEncoders_20231011160113/model_49266.pt\u001b[0m\n"
     ]
    },
    {
     "data": {
      "application/vnd.jupyter.widget-view+json": {
       "model_id": "55b556fe60184d4ab3dde8c8aa952c37",
       "version_major": 2,
       "version_minor": 0
      },
      "text/plain": [
       "Epoch 70/100:   0%|          | 0/714 [00:00<?, ?it/s]"
      ]
     },
     "metadata": {},
     "output_type": "display_data"
    },
    {
     "name": "stdout",
     "output_type": "stream",
     "text": [
      "\u001b[2m2023-10-11 16:33:48\u001b[0m [\u001b[32m\u001b[1minfo     \u001b[0m] \u001b[1mSeparateStateAndRewardEncoders_20231011160113: epoch=70 step=49980\u001b[0m \u001b[36mepoch\u001b[0m=\u001b[35m70\u001b[0m \u001b[36mmetrics\u001b[0m=\u001b[35m{'time_sample_batch': 0.0004924592517671131, 'time_algorithm_update': 0.041611824049001316, 'loss': -83.47884010934696, 'time_step': 0.04225606076857623, 'observation_error': 0.018696850271322823, 'reward_error': 8.404580434488172e-06, 'variance': 0.009828245469365003}\u001b[0m \u001b[36mstep\u001b[0m=\u001b[35m49980\u001b[0m\n",
      "\u001b[2m2023-10-11 16:33:48\u001b[0m [\u001b[32m\u001b[1minfo     \u001b[0m] \u001b[1mModel parameters are saved to d3rlpy_logs/SeparateStateAndRewardEncoders_20231011160113/model_49980.pt\u001b[0m\n"
     ]
    },
    {
     "data": {
      "application/vnd.jupyter.widget-view+json": {
       "model_id": "ae02382e590f4a95917fd2155e2b12cb",
       "version_major": 2,
       "version_minor": 0
      },
      "text/plain": [
       "Epoch 71/100:   0%|          | 0/714 [00:00<?, ?it/s]"
      ]
     },
     "metadata": {},
     "output_type": "display_data"
    },
    {
     "name": "stdout",
     "output_type": "stream",
     "text": [
      "\u001b[2m2023-10-11 16:34:22\u001b[0m [\u001b[32m\u001b[1minfo     \u001b[0m] \u001b[1mSeparateStateAndRewardEncoders_20231011160113: epoch=71 step=50694\u001b[0m \u001b[36mepoch\u001b[0m=\u001b[35m71\u001b[0m \u001b[36mmetrics\u001b[0m=\u001b[35m{'time_sample_batch': 0.000516717173472172, 'time_algorithm_update': 0.04201172713805981, 'loss': -83.28063187746106, 'time_step': 0.04267964075927307, 'observation_error': 0.018410752602647764, 'reward_error': 5.609950330287334e-06, 'variance': 0.010892596144294355}\u001b[0m \u001b[36mstep\u001b[0m=\u001b[35m50694\u001b[0m\n",
      "\u001b[2m2023-10-11 16:34:22\u001b[0m [\u001b[32m\u001b[1minfo     \u001b[0m] \u001b[1mModel parameters are saved to d3rlpy_logs/SeparateStateAndRewardEncoders_20231011160113/model_50694.pt\u001b[0m\n"
     ]
    },
    {
     "data": {
      "application/vnd.jupyter.widget-view+json": {
       "model_id": "2f7afc03a47e4b109652d6d3e4f40df5",
       "version_major": 2,
       "version_minor": 0
      },
      "text/plain": [
       "Epoch 72/100:   0%|          | 0/714 [00:00<?, ?it/s]"
      ]
     },
     "metadata": {},
     "output_type": "display_data"
    },
    {
     "name": "stdout",
     "output_type": "stream",
     "text": [
      "\u001b[2m2023-10-11 16:34:56\u001b[0m [\u001b[32m\u001b[1minfo     \u001b[0m] \u001b[1mSeparateStateAndRewardEncoders_20231011160113: epoch=72 step=51408\u001b[0m \u001b[36mepoch\u001b[0m=\u001b[35m72\u001b[0m \u001b[36mmetrics\u001b[0m=\u001b[35m{'time_sample_batch': 0.0005229564607978201, 'time_algorithm_update': 0.041944632677137016, 'loss': -83.68249530151111, 'time_step': 0.042618763213064154, 'observation_error': 0.01887437765087096, 'reward_error': 2.6989600910609873e-06, 'variance': 0.007675929806760356}\u001b[0m \u001b[36mstep\u001b[0m=\u001b[35m51408\u001b[0m\n",
      "\u001b[2m2023-10-11 16:34:56\u001b[0m [\u001b[32m\u001b[1minfo     \u001b[0m] \u001b[1mModel parameters are saved to d3rlpy_logs/SeparateStateAndRewardEncoders_20231011160113/model_51408.pt\u001b[0m\n"
     ]
    },
    {
     "data": {
      "application/vnd.jupyter.widget-view+json": {
       "model_id": "f4818cba220a48a8a2b306f1bcb7bb3b",
       "version_major": 2,
       "version_minor": 0
      },
      "text/plain": [
       "Epoch 73/100:   0%|          | 0/714 [00:00<?, ?it/s]"
      ]
     },
     "metadata": {},
     "output_type": "display_data"
    },
    {
     "name": "stdout",
     "output_type": "stream",
     "text": [
      "\u001b[2m2023-10-11 16:35:30\u001b[0m [\u001b[32m\u001b[1minfo     \u001b[0m] \u001b[1mSeparateStateAndRewardEncoders_20231011160113: epoch=73 step=52122\u001b[0m \u001b[36mepoch\u001b[0m=\u001b[35m73\u001b[0m \u001b[36mmetrics\u001b[0m=\u001b[35m{'time_sample_batch': 0.0005013588763752571, 'time_algorithm_update': 0.04101110205930822, 'loss': -84.10099656641984, 'time_step': 0.04167364324842181, 'observation_error': 0.016420762972113815, 'reward_error': 3.987016289871897e-06, 'variance': 0.008195910949900291}\u001b[0m \u001b[36mstep\u001b[0m=\u001b[35m52122\u001b[0m\n",
      "\u001b[2m2023-10-11 16:35:30\u001b[0m [\u001b[32m\u001b[1minfo     \u001b[0m] \u001b[1mModel parameters are saved to d3rlpy_logs/SeparateStateAndRewardEncoders_20231011160113/model_52122.pt\u001b[0m\n"
     ]
    },
    {
     "data": {
      "application/vnd.jupyter.widget-view+json": {
       "model_id": "e558b39f43db490eb324fcf6d600bc8a",
       "version_major": 2,
       "version_minor": 0
      },
      "text/plain": [
       "Epoch 74/100:   0%|          | 0/714 [00:00<?, ?it/s]"
      ]
     },
     "metadata": {},
     "output_type": "display_data"
    },
    {
     "name": "stdout",
     "output_type": "stream",
     "text": [
      "\u001b[2m2023-10-11 16:36:03\u001b[0m [\u001b[32m\u001b[1minfo     \u001b[0m] \u001b[1mSeparateStateAndRewardEncoders_20231011160113: epoch=74 step=52836\u001b[0m \u001b[36mepoch\u001b[0m=\u001b[35m74\u001b[0m \u001b[36mmetrics\u001b[0m=\u001b[35m{'time_sample_batch': 0.0005145790864105652, 'time_algorithm_update': 0.040900808088585774, 'loss': -84.17150985493379, 'time_step': 0.04157400565321038, 'observation_error': 0.016604824234205107, 'reward_error': 5.629404230315243e-06, 'variance': 0.010142816833024877}\u001b[0m \u001b[36mstep\u001b[0m=\u001b[35m52836\u001b[0m\n",
      "\u001b[2m2023-10-11 16:36:03\u001b[0m [\u001b[32m\u001b[1minfo     \u001b[0m] \u001b[1mModel parameters are saved to d3rlpy_logs/SeparateStateAndRewardEncoders_20231011160113/model_52836.pt\u001b[0m\n"
     ]
    },
    {
     "data": {
      "application/vnd.jupyter.widget-view+json": {
       "model_id": "5edaf712095b44239c6c6deb0c043001",
       "version_major": 2,
       "version_minor": 0
      },
      "text/plain": [
       "Epoch 75/100:   0%|          | 0/714 [00:00<?, ?it/s]"
      ]
     },
     "metadata": {},
     "output_type": "display_data"
    },
    {
     "name": "stdout",
     "output_type": "stream",
     "text": [
      "\u001b[2m2023-10-11 16:36:35\u001b[0m [\u001b[32m\u001b[1minfo     \u001b[0m] \u001b[1mSeparateStateAndRewardEncoders_20231011160113: epoch=75 step=53550\u001b[0m \u001b[36mepoch\u001b[0m=\u001b[35m75\u001b[0m \u001b[36mmetrics\u001b[0m=\u001b[35m{'time_sample_batch': 0.000503691972470751, 'time_algorithm_update': 0.040288687754078074, 'loss': -84.43958365817029, 'time_step': 0.04094687630148495, 'observation_error': 0.017680384257064974, 'reward_error': 8.094908783291446e-06, 'variance': 0.008842178810337576}\u001b[0m \u001b[36mstep\u001b[0m=\u001b[35m53550\u001b[0m\n",
      "\u001b[2m2023-10-11 16:36:36\u001b[0m [\u001b[32m\u001b[1minfo     \u001b[0m] \u001b[1mModel parameters are saved to d3rlpy_logs/SeparateStateAndRewardEncoders_20231011160113/model_53550.pt\u001b[0m\n"
     ]
    },
    {
     "data": {
      "application/vnd.jupyter.widget-view+json": {
       "model_id": "67fbeea98de94aeaa34ee51b2b33dac9",
       "version_major": 2,
       "version_minor": 0
      },
      "text/plain": [
       "Epoch 76/100:   0%|          | 0/714 [00:00<?, ?it/s]"
      ]
     },
     "metadata": {},
     "output_type": "display_data"
    },
    {
     "name": "stdout",
     "output_type": "stream",
     "text": [
      "\u001b[2m2023-10-11 16:37:09\u001b[0m [\u001b[32m\u001b[1minfo     \u001b[0m] \u001b[1mSeparateStateAndRewardEncoders_20231011160113: epoch=76 step=54264\u001b[0m \u001b[36mepoch\u001b[0m=\u001b[35m76\u001b[0m \u001b[36mmetrics\u001b[0m=\u001b[35m{'time_sample_batch': 0.0005276627233382367, 'time_algorithm_update': 0.0416178289247828, 'loss': -83.55297973643498, 'time_step': 0.04229995316150142, 'observation_error': 0.0192883158911782, 'reward_error': 4.703222534231512e-06, 'variance': 0.008786378555535237}\u001b[0m \u001b[36mstep\u001b[0m=\u001b[35m54264\u001b[0m\n",
      "\u001b[2m2023-10-11 16:37:09\u001b[0m [\u001b[32m\u001b[1minfo     \u001b[0m] \u001b[1mModel parameters are saved to d3rlpy_logs/SeparateStateAndRewardEncoders_20231011160113/model_54264.pt\u001b[0m\n"
     ]
    },
    {
     "data": {
      "application/vnd.jupyter.widget-view+json": {
       "model_id": "fc88a0e4d606444888700cd3c5492fb7",
       "version_major": 2,
       "version_minor": 0
      },
      "text/plain": [
       "Epoch 77/100:   0%|          | 0/714 [00:00<?, ?it/s]"
      ]
     },
     "metadata": {},
     "output_type": "display_data"
    },
    {
     "name": "stdout",
     "output_type": "stream",
     "text": [
      "\u001b[2m2023-10-11 16:37:42\u001b[0m [\u001b[32m\u001b[1minfo     \u001b[0m] \u001b[1mSeparateStateAndRewardEncoders_20231011160113: epoch=77 step=54978\u001b[0m \u001b[36mepoch\u001b[0m=\u001b[35m77\u001b[0m \u001b[36mmetrics\u001b[0m=\u001b[35m{'time_sample_batch': 0.0005011618638238987, 'time_algorithm_update': 0.04059468163829558, 'loss': -84.70983488953748, 'time_step': 0.04125015107857413, 'observation_error': 0.016787260428445774, 'reward_error': 4.77717984826179e-06, 'variance': 0.008122651821448347}\u001b[0m \u001b[36mstep\u001b[0m=\u001b[35m54978\u001b[0m\n",
      "\u001b[2m2023-10-11 16:37:42\u001b[0m [\u001b[32m\u001b[1minfo     \u001b[0m] \u001b[1mModel parameters are saved to d3rlpy_logs/SeparateStateAndRewardEncoders_20231011160113/model_54978.pt\u001b[0m\n"
     ]
    },
    {
     "data": {
      "application/vnd.jupyter.widget-view+json": {
       "model_id": "74972e0d48f94555828dddbc4c553096",
       "version_major": 2,
       "version_minor": 0
      },
      "text/plain": [
       "Epoch 78/100:   0%|          | 0/714 [00:00<?, ?it/s]"
      ]
     },
     "metadata": {},
     "output_type": "display_data"
    },
    {
     "name": "stdout",
     "output_type": "stream",
     "text": [
      "\u001b[2m2023-10-11 16:38:16\u001b[0m [\u001b[32m\u001b[1minfo     \u001b[0m] \u001b[1mSeparateStateAndRewardEncoders_20231011160113: epoch=78 step=55692\u001b[0m \u001b[36mepoch\u001b[0m=\u001b[35m78\u001b[0m \u001b[36mmetrics\u001b[0m=\u001b[35m{'time_sample_batch': 0.0005089565485465427, 'time_algorithm_update': 0.04123480046162752, 'loss': -84.15607547492874, 'time_step': 0.041904026386784574, 'observation_error': 0.015802451542780503, 'reward_error': 3.2201079465719142e-06, 'variance': 0.007285563016078921}\u001b[0m \u001b[36mstep\u001b[0m=\u001b[35m55692\u001b[0m\n",
      "\u001b[2m2023-10-11 16:38:16\u001b[0m [\u001b[32m\u001b[1minfo     \u001b[0m] \u001b[1mModel parameters are saved to d3rlpy_logs/SeparateStateAndRewardEncoders_20231011160113/model_55692.pt\u001b[0m\n"
     ]
    },
    {
     "data": {
      "application/vnd.jupyter.widget-view+json": {
       "model_id": "37b08a8c757e4e90b0521b3d4eafec13",
       "version_major": 2,
       "version_minor": 0
      },
      "text/plain": [
       "Epoch 79/100:   0%|          | 0/714 [00:00<?, ?it/s]"
      ]
     },
     "metadata": {},
     "output_type": "display_data"
    },
    {
     "name": "stdout",
     "output_type": "stream",
     "text": [
      "\u001b[2m2023-10-11 16:38:44\u001b[0m [\u001b[32m\u001b[1minfo     \u001b[0m] \u001b[1mSeparateStateAndRewardEncoders_20231011160113: epoch=79 step=56406\u001b[0m \u001b[36mepoch\u001b[0m=\u001b[35m79\u001b[0m \u001b[36mmetrics\u001b[0m=\u001b[35m{'time_sample_batch': 0.00040828380264154, 'time_algorithm_update': 0.03613395751023493, 'loss': -84.72234459617893, 'time_step': 0.036666977973211376, 'observation_error': 0.016583759390474233, 'reward_error': 5.527671087412465e-06, 'variance': 0.0076918716103711975}\u001b[0m \u001b[36mstep\u001b[0m=\u001b[35m56406\u001b[0m\n",
      "\u001b[2m2023-10-11 16:38:44\u001b[0m [\u001b[32m\u001b[1minfo     \u001b[0m] \u001b[1mModel parameters are saved to d3rlpy_logs/SeparateStateAndRewardEncoders_20231011160113/model_56406.pt\u001b[0m\n"
     ]
    },
    {
     "data": {
      "application/vnd.jupyter.widget-view+json": {
       "model_id": "9dc17aa4768c4628b3d6f1951afc15d6",
       "version_major": 2,
       "version_minor": 0
      },
      "text/plain": [
       "Epoch 80/100:   0%|          | 0/714 [00:00<?, ?it/s]"
      ]
     },
     "metadata": {},
     "output_type": "display_data"
    },
    {
     "name": "stdout",
     "output_type": "stream",
     "text": [
      "\u001b[2m2023-10-11 16:39:16\u001b[0m [\u001b[32m\u001b[1minfo     \u001b[0m] \u001b[1mSeparateStateAndRewardEncoders_20231011160113: epoch=80 step=57120\u001b[0m \u001b[36mepoch\u001b[0m=\u001b[35m80\u001b[0m \u001b[36mmetrics\u001b[0m=\u001b[35m{'time_sample_batch': 0.0004528286744232605, 'time_algorithm_update': 0.039286317945528434, 'loss': -84.45935203381279, 'time_step': 0.03987863317591136, 'observation_error': 0.01705104717879565, 'reward_error': 4.693105074000412e-06, 'variance': 0.007929689519758192}\u001b[0m \u001b[36mstep\u001b[0m=\u001b[35m57120\u001b[0m\n",
      "\u001b[2m2023-10-11 16:39:16\u001b[0m [\u001b[32m\u001b[1minfo     \u001b[0m] \u001b[1mModel parameters are saved to d3rlpy_logs/SeparateStateAndRewardEncoders_20231011160113/model_57120.pt\u001b[0m\n"
     ]
    },
    {
     "data": {
      "application/vnd.jupyter.widget-view+json": {
       "model_id": "04f4edb41c1c47b09e0e22cfbc6f2355",
       "version_major": 2,
       "version_minor": 0
      },
      "text/plain": [
       "Epoch 81/100:   0%|          | 0/714 [00:00<?, ?it/s]"
      ]
     },
     "metadata": {},
     "output_type": "display_data"
    },
    {
     "name": "stdout",
     "output_type": "stream",
     "text": [
      "\u001b[2m2023-10-11 16:39:47\u001b[0m [\u001b[32m\u001b[1minfo     \u001b[0m] \u001b[1mSeparateStateAndRewardEncoders_20231011160113: epoch=81 step=57834\u001b[0m \u001b[36mepoch\u001b[0m=\u001b[35m81\u001b[0m \u001b[36mmetrics\u001b[0m=\u001b[35m{'time_sample_batch': 0.00042891101676876804, 'time_algorithm_update': 0.037631660616364464, 'loss': -85.32332361045005, 'time_step': 0.03818406277344007, 'observation_error': 0.01782033293614169, 'reward_error': 2.8060035910354842e-06, 'variance': 0.007128678959522979}\u001b[0m \u001b[36mstep\u001b[0m=\u001b[35m57834\u001b[0m\n",
      "\u001b[2m2023-10-11 16:39:47\u001b[0m [\u001b[32m\u001b[1minfo     \u001b[0m] \u001b[1mModel parameters are saved to d3rlpy_logs/SeparateStateAndRewardEncoders_20231011160113/model_57834.pt\u001b[0m\n"
     ]
    },
    {
     "data": {
      "application/vnd.jupyter.widget-view+json": {
       "model_id": "1140619992514a1cb47ebd42cef67390",
       "version_major": 2,
       "version_minor": 0
      },
      "text/plain": [
       "Epoch 82/100:   0%|          | 0/714 [00:00<?, ?it/s]"
      ]
     },
     "metadata": {},
     "output_type": "display_data"
    },
    {
     "name": "stdout",
     "output_type": "stream",
     "text": [
      "\u001b[2m2023-10-11 16:40:18\u001b[0m [\u001b[32m\u001b[1minfo     \u001b[0m] \u001b[1mSeparateStateAndRewardEncoders_20231011160113: epoch=82 step=58548\u001b[0m \u001b[36mepoch\u001b[0m=\u001b[35m82\u001b[0m \u001b[36mmetrics\u001b[0m=\u001b[35m{'time_sample_batch': 0.0004540070766160468, 'time_algorithm_update': 0.03879248394685633, 'loss': -85.51477203048577, 'time_step': 0.039374564208236394, 'observation_error': 0.015890706744902294, 'reward_error': 3.850960545544194e-06, 'variance': 0.007756328706452901}\u001b[0m \u001b[36mstep\u001b[0m=\u001b[35m58548\u001b[0m\n",
      "\u001b[2m2023-10-11 16:40:18\u001b[0m [\u001b[32m\u001b[1minfo     \u001b[0m] \u001b[1mModel parameters are saved to d3rlpy_logs/SeparateStateAndRewardEncoders_20231011160113/model_58548.pt\u001b[0m\n"
     ]
    },
    {
     "data": {
      "application/vnd.jupyter.widget-view+json": {
       "model_id": "9cfc4c3d5b5f4364aa0e29ffcfc8ee56",
       "version_major": 2,
       "version_minor": 0
      },
      "text/plain": [
       "Epoch 83/100:   0%|          | 0/714 [00:00<?, ?it/s]"
      ]
     },
     "metadata": {},
     "output_type": "display_data"
    },
    {
     "name": "stdout",
     "output_type": "stream",
     "text": [
      "\u001b[2m2023-10-11 16:40:48\u001b[0m [\u001b[32m\u001b[1minfo     \u001b[0m] \u001b[1mSeparateStateAndRewardEncoders_20231011160113: epoch=83 step=59262\u001b[0m \u001b[36mepoch\u001b[0m=\u001b[35m83\u001b[0m \u001b[36mmetrics\u001b[0m=\u001b[35m{'time_sample_batch': 0.0004217865086403214, 'time_algorithm_update': 0.037147782763847115, 'loss': -85.89397691411465, 'time_step': 0.037701444131653515, 'observation_error': 0.01584994735965218, 'reward_error': 3.1608465737673006e-06, 'variance': 0.0064293394195474775}\u001b[0m \u001b[36mstep\u001b[0m=\u001b[35m59262\u001b[0m\n",
      "\u001b[2m2023-10-11 16:40:48\u001b[0m [\u001b[32m\u001b[1minfo     \u001b[0m] \u001b[1mModel parameters are saved to d3rlpy_logs/SeparateStateAndRewardEncoders_20231011160113/model_59262.pt\u001b[0m\n"
     ]
    },
    {
     "data": {
      "application/vnd.jupyter.widget-view+json": {
       "model_id": "d43f35d443be44bd94286866b3cf87c4",
       "version_major": 2,
       "version_minor": 0
      },
      "text/plain": [
       "Epoch 84/100:   0%|          | 0/714 [00:00<?, ?it/s]"
      ]
     },
     "metadata": {},
     "output_type": "display_data"
    },
    {
     "name": "stdout",
     "output_type": "stream",
     "text": [
      "\u001b[2m2023-10-11 16:41:18\u001b[0m [\u001b[32m\u001b[1minfo     \u001b[0m] \u001b[1mSeparateStateAndRewardEncoders_20231011160113: epoch=84 step=59976\u001b[0m \u001b[36mepoch\u001b[0m=\u001b[35m84\u001b[0m \u001b[36mmetrics\u001b[0m=\u001b[35m{'time_sample_batch': 0.0004475500737251688, 'time_algorithm_update': 0.03718172902820491, 'loss': -84.3186003073257, 'time_step': 0.03775471265242547, 'observation_error': 0.017288418076104404, 'reward_error': 5.802426097488414e-06, 'variance': 0.00834619214845138}\u001b[0m \u001b[36mstep\u001b[0m=\u001b[35m59976\u001b[0m\n",
      "\u001b[2m2023-10-11 16:41:18\u001b[0m [\u001b[32m\u001b[1minfo     \u001b[0m] \u001b[1mModel parameters are saved to d3rlpy_logs/SeparateStateAndRewardEncoders_20231011160113/model_59976.pt\u001b[0m\n"
     ]
    },
    {
     "data": {
      "application/vnd.jupyter.widget-view+json": {
       "model_id": "1724bb75a595452ab6275f17a0cfd0c2",
       "version_major": 2,
       "version_minor": 0
      },
      "text/plain": [
       "Epoch 85/100:   0%|          | 0/714 [00:00<?, ?it/s]"
      ]
     },
     "metadata": {},
     "output_type": "display_data"
    },
    {
     "name": "stdout",
     "output_type": "stream",
     "text": [
      "\u001b[2m2023-10-11 16:41:48\u001b[0m [\u001b[32m\u001b[1minfo     \u001b[0m] \u001b[1mSeparateStateAndRewardEncoders_20231011160113: epoch=85 step=60690\u001b[0m \u001b[36mepoch\u001b[0m=\u001b[35m85\u001b[0m \u001b[36mmetrics\u001b[0m=\u001b[35m{'time_sample_batch': 0.00044357776641845703, 'time_algorithm_update': 0.03743406070046732, 'loss': -85.25742914429566, 'time_step': 0.038002759802575205, 'observation_error': 0.015551940279715551, 'reward_error': 4.5339145670757255e-06, 'variance': 0.006780843355233836}\u001b[0m \u001b[36mstep\u001b[0m=\u001b[35m60690\u001b[0m\n",
      "\u001b[2m2023-10-11 16:41:49\u001b[0m [\u001b[32m\u001b[1minfo     \u001b[0m] \u001b[1mModel parameters are saved to d3rlpy_logs/SeparateStateAndRewardEncoders_20231011160113/model_60690.pt\u001b[0m\n"
     ]
    },
    {
     "data": {
      "application/vnd.jupyter.widget-view+json": {
       "model_id": "d59baf1d336f4f2293ef8b7a9c9e5adf",
       "version_major": 2,
       "version_minor": 0
      },
      "text/plain": [
       "Epoch 86/100:   0%|          | 0/714 [00:00<?, ?it/s]"
      ]
     },
     "metadata": {},
     "output_type": "display_data"
    },
    {
     "name": "stdout",
     "output_type": "stream",
     "text": [
      "\u001b[2m2023-10-11 16:42:19\u001b[0m [\u001b[32m\u001b[1minfo     \u001b[0m] \u001b[1mSeparateStateAndRewardEncoders_20231011160113: epoch=86 step=61404\u001b[0m \u001b[36mepoch\u001b[0m=\u001b[35m86\u001b[0m \u001b[36mmetrics\u001b[0m=\u001b[35m{'time_sample_batch': 0.00045134072878113646, 'time_algorithm_update': 0.037531678082228376, 'loss': -85.10525956407649, 'time_step': 0.038107538757537925, 'observation_error': 0.017245176991455287, 'reward_error': 1.1857091674294615e-05, 'variance': 0.007228420543766096}\u001b[0m \u001b[36mstep\u001b[0m=\u001b[35m61404\u001b[0m\n",
      "\u001b[2m2023-10-11 16:42:19\u001b[0m [\u001b[32m\u001b[1minfo     \u001b[0m] \u001b[1mModel parameters are saved to d3rlpy_logs/SeparateStateAndRewardEncoders_20231011160113/model_61404.pt\u001b[0m\n"
     ]
    },
    {
     "data": {
      "application/vnd.jupyter.widget-view+json": {
       "model_id": "508ecc0a6cf4450ca6c2df3b7014f48a",
       "version_major": 2,
       "version_minor": 0
      },
      "text/plain": [
       "Epoch 87/100:   0%|          | 0/714 [00:00<?, ?it/s]"
      ]
     },
     "metadata": {},
     "output_type": "display_data"
    },
    {
     "name": "stdout",
     "output_type": "stream",
     "text": [
      "\u001b[2m2023-10-11 16:42:50\u001b[0m [\u001b[32m\u001b[1minfo     \u001b[0m] \u001b[1mSeparateStateAndRewardEncoders_20231011160113: epoch=87 step=62118\u001b[0m \u001b[36mepoch\u001b[0m=\u001b[35m87\u001b[0m \u001b[36mmetrics\u001b[0m=\u001b[35m{'time_sample_batch': 0.00045861516680036275, 'time_algorithm_update': 0.03803903315247608, 'loss': -85.21683878324279, 'time_step': 0.03863671914536078, 'observation_error': 0.015272362958843834, 'reward_error': 2.6666651683927705e-06, 'variance': 0.0067244435456722575}\u001b[0m \u001b[36mstep\u001b[0m=\u001b[35m62118\u001b[0m\n",
      "\u001b[2m2023-10-11 16:42:50\u001b[0m [\u001b[32m\u001b[1minfo     \u001b[0m] \u001b[1mModel parameters are saved to d3rlpy_logs/SeparateStateAndRewardEncoders_20231011160113/model_62118.pt\u001b[0m\n"
     ]
    },
    {
     "data": {
      "application/vnd.jupyter.widget-view+json": {
       "model_id": "de1c32b037334f119eae1eb368fd34a7",
       "version_major": 2,
       "version_minor": 0
      },
      "text/plain": [
       "Epoch 88/100:   0%|          | 0/714 [00:00<?, ?it/s]"
      ]
     },
     "metadata": {},
     "output_type": "display_data"
    },
    {
     "name": "stdout",
     "output_type": "stream",
     "text": [
      "\u001b[2m2023-10-11 16:43:22\u001b[0m [\u001b[32m\u001b[1minfo     \u001b[0m] \u001b[1mSeparateStateAndRewardEncoders_20231011160113: epoch=88 step=62832\u001b[0m \u001b[36mepoch\u001b[0m=\u001b[35m88\u001b[0m \u001b[36mmetrics\u001b[0m=\u001b[35m{'time_sample_batch': 0.00048427488289627376, 'time_algorithm_update': 0.039505410929020046, 'loss': -85.17489622420624, 'time_step': 0.04013240571115531, 'observation_error': 0.01640689016214412, 'reward_error': 5.620667252562379e-06, 'variance': 0.00704788159850248}\u001b[0m \u001b[36mstep\u001b[0m=\u001b[35m62832\u001b[0m\n",
      "\u001b[2m2023-10-11 16:43:22\u001b[0m [\u001b[32m\u001b[1minfo     \u001b[0m] \u001b[1mModel parameters are saved to d3rlpy_logs/SeparateStateAndRewardEncoders_20231011160113/model_62832.pt\u001b[0m\n"
     ]
    },
    {
     "data": {
      "application/vnd.jupyter.widget-view+json": {
       "model_id": "6ad063895ca240e7bce30ab73aba466f",
       "version_major": 2,
       "version_minor": 0
      },
      "text/plain": [
       "Epoch 89/100:   0%|          | 0/714 [00:00<?, ?it/s]"
      ]
     },
     "metadata": {},
     "output_type": "display_data"
    },
    {
     "name": "stdout",
     "output_type": "stream",
     "text": [
      "\u001b[2m2023-10-11 16:43:55\u001b[0m [\u001b[32m\u001b[1minfo     \u001b[0m] \u001b[1mSeparateStateAndRewardEncoders_20231011160113: epoch=89 step=63546\u001b[0m \u001b[36mepoch\u001b[0m=\u001b[35m89\u001b[0m \u001b[36mmetrics\u001b[0m=\u001b[35m{'time_sample_batch': 0.00048676224983706864, 'time_algorithm_update': 0.04017375129945472, 'loss': -86.0148660996381, 'time_step': 0.040805240639117585, 'observation_error': 0.014562621026195592, 'reward_error': 2.5073676613273196e-06, 'variance': 0.006782828124273373}\u001b[0m \u001b[36mstep\u001b[0m=\u001b[35m63546\u001b[0m\n",
      "\u001b[2m2023-10-11 16:43:55\u001b[0m [\u001b[32m\u001b[1minfo     \u001b[0m] \u001b[1mModel parameters are saved to d3rlpy_logs/SeparateStateAndRewardEncoders_20231011160113/model_63546.pt\u001b[0m\n"
     ]
    },
    {
     "data": {
      "application/vnd.jupyter.widget-view+json": {
       "model_id": "c41b5c2845d247a08ace4f41f75e7d7a",
       "version_major": 2,
       "version_minor": 0
      },
      "text/plain": [
       "Epoch 90/100:   0%|          | 0/714 [00:00<?, ?it/s]"
      ]
     },
     "metadata": {},
     "output_type": "display_data"
    },
    {
     "name": "stdout",
     "output_type": "stream",
     "text": [
      "\u001b[2m2023-10-11 16:44:26\u001b[0m [\u001b[32m\u001b[1minfo     \u001b[0m] \u001b[1mSeparateStateAndRewardEncoders_20231011160113: epoch=90 step=64260\u001b[0m \u001b[36mepoch\u001b[0m=\u001b[35m90\u001b[0m \u001b[36mmetrics\u001b[0m=\u001b[35m{'time_sample_batch': 0.00042818040073084896, 'time_algorithm_update': 0.03801772541024772, 'loss': -85.17031541925853, 'time_step': 0.03856424791138379, 'observation_error': 0.014570377447710316, 'reward_error': 3.8725139648277935e-06, 'variance': 0.006397743556084688}\u001b[0m \u001b[36mstep\u001b[0m=\u001b[35m64260\u001b[0m\n",
      "\u001b[2m2023-10-11 16:44:26\u001b[0m [\u001b[32m\u001b[1minfo     \u001b[0m] \u001b[1mModel parameters are saved to d3rlpy_logs/SeparateStateAndRewardEncoders_20231011160113/model_64260.pt\u001b[0m\n"
     ]
    },
    {
     "data": {
      "application/vnd.jupyter.widget-view+json": {
       "model_id": "3764c2d9d5704a1aa3e87259fb7360bd",
       "version_major": 2,
       "version_minor": 0
      },
      "text/plain": [
       "Epoch 91/100:   0%|          | 0/714 [00:00<?, ?it/s]"
      ]
     },
     "metadata": {},
     "output_type": "display_data"
    },
    {
     "name": "stdout",
     "output_type": "stream",
     "text": [
      "\u001b[2m2023-10-11 16:44:56\u001b[0m [\u001b[32m\u001b[1minfo     \u001b[0m] \u001b[1mSeparateStateAndRewardEncoders_20231011160113: epoch=91 step=64974\u001b[0m \u001b[36mepoch\u001b[0m=\u001b[35m91\u001b[0m \u001b[36mmetrics\u001b[0m=\u001b[35m{'time_sample_batch': 0.0004207764019151362, 'time_algorithm_update': 0.03746064303635883, 'loss': -86.30247555259896, 'time_step': 0.0380053593664944, 'observation_error': 0.014050345812738133, 'reward_error': 4.441793514932537e-06, 'variance': 0.007038437875391445}\u001b[0m \u001b[36mstep\u001b[0m=\u001b[35m64974\u001b[0m\n",
      "\u001b[2m2023-10-11 16:44:56\u001b[0m [\u001b[32m\u001b[1minfo     \u001b[0m] \u001b[1mModel parameters are saved to d3rlpy_logs/SeparateStateAndRewardEncoders_20231011160113/model_64974.pt\u001b[0m\n"
     ]
    },
    {
     "data": {
      "application/vnd.jupyter.widget-view+json": {
       "model_id": "02a779ded34c47b89716325af23559f3",
       "version_major": 2,
       "version_minor": 0
      },
      "text/plain": [
       "Epoch 92/100:   0%|          | 0/714 [00:00<?, ?it/s]"
      ]
     },
     "metadata": {},
     "output_type": "display_data"
    },
    {
     "name": "stdout",
     "output_type": "stream",
     "text": [
      "\u001b[2m2023-10-11 16:45:28\u001b[0m [\u001b[32m\u001b[1minfo     \u001b[0m] \u001b[1mSeparateStateAndRewardEncoders_20231011160113: epoch=92 step=65688\u001b[0m \u001b[36mepoch\u001b[0m=\u001b[35m92\u001b[0m \u001b[36mmetrics\u001b[0m=\u001b[35m{'time_sample_batch': 0.0004908941707023385, 'time_algorithm_update': 0.03968228378883597, 'loss': -84.29094134792894, 'time_step': 0.040308200010732445, 'observation_error': 0.014216599042095868, 'reward_error': 3.3387525994743937e-06, 'variance': 0.007291049825388232}\u001b[0m \u001b[36mstep\u001b[0m=\u001b[35m65688\u001b[0m\n",
      "\u001b[2m2023-10-11 16:45:28\u001b[0m [\u001b[32m\u001b[1minfo     \u001b[0m] \u001b[1mModel parameters are saved to d3rlpy_logs/SeparateStateAndRewardEncoders_20231011160113/model_65688.pt\u001b[0m\n"
     ]
    },
    {
     "data": {
      "application/vnd.jupyter.widget-view+json": {
       "model_id": "61a2aedf43b349598455c038ee8f0e7a",
       "version_major": 2,
       "version_minor": 0
      },
      "text/plain": [
       "Epoch 93/100:   0%|          | 0/714 [00:00<?, ?it/s]"
      ]
     },
     "metadata": {},
     "output_type": "display_data"
    },
    {
     "name": "stdout",
     "output_type": "stream",
     "text": [
      "\u001b[2m2023-10-11 16:45:58\u001b[0m [\u001b[32m\u001b[1minfo     \u001b[0m] \u001b[1mSeparateStateAndRewardEncoders_20231011160113: epoch=93 step=66402\u001b[0m \u001b[36mepoch\u001b[0m=\u001b[35m93\u001b[0m \u001b[36mmetrics\u001b[0m=\u001b[35m{'time_sample_batch': 0.00043333845646107566, 'time_algorithm_update': 0.03743885912481142, 'loss': -86.04639410237972, 'time_step': 0.037997501904890985, 'observation_error': 0.015295580028483196, 'reward_error': 4.476113814413308e-06, 'variance': 0.006192965465197072}\u001b[0m \u001b[36mstep\u001b[0m=\u001b[35m66402\u001b[0m\n",
      "\u001b[2m2023-10-11 16:45:59\u001b[0m [\u001b[32m\u001b[1minfo     \u001b[0m] \u001b[1mModel parameters are saved to d3rlpy_logs/SeparateStateAndRewardEncoders_20231011160113/model_66402.pt\u001b[0m\n"
     ]
    },
    {
     "data": {
      "application/vnd.jupyter.widget-view+json": {
       "model_id": "9f56bc3a9c474304916abb8a35cfaf93",
       "version_major": 2,
       "version_minor": 0
      },
      "text/plain": [
       "Epoch 94/100:   0%|          | 0/714 [00:00<?, ?it/s]"
      ]
     },
     "metadata": {},
     "output_type": "display_data"
    },
    {
     "name": "stdout",
     "output_type": "stream",
     "text": [
      "\u001b[2m2023-10-11 16:46:30\u001b[0m [\u001b[32m\u001b[1minfo     \u001b[0m] \u001b[1mSeparateStateAndRewardEncoders_20231011160113: epoch=94 step=67116\u001b[0m \u001b[36mepoch\u001b[0m=\u001b[35m94\u001b[0m \u001b[36mmetrics\u001b[0m=\u001b[35m{'time_sample_batch': 0.00047028031335825347, 'time_algorithm_update': 0.03899181089481386, 'loss': -85.82760954571037, 'time_step': 0.03959856948264841, 'observation_error': 0.014363343865746543, 'reward_error': 3.975460381226627e-06, 'variance': 0.006299911156804411}\u001b[0m \u001b[36mstep\u001b[0m=\u001b[35m67116\u001b[0m\n",
      "\u001b[2m2023-10-11 16:46:30\u001b[0m [\u001b[32m\u001b[1minfo     \u001b[0m] \u001b[1mModel parameters are saved to d3rlpy_logs/SeparateStateAndRewardEncoders_20231011160113/model_67116.pt\u001b[0m\n"
     ]
    },
    {
     "data": {
      "application/vnd.jupyter.widget-view+json": {
       "model_id": "7a982ecf50444971ab1ce585b7617cd8",
       "version_major": 2,
       "version_minor": 0
      },
      "text/plain": [
       "Epoch 95/100:   0%|          | 0/714 [00:00<?, ?it/s]"
      ]
     },
     "metadata": {},
     "output_type": "display_data"
    },
    {
     "name": "stdout",
     "output_type": "stream",
     "text": [
      "\u001b[2m2023-10-11 16:47:01\u001b[0m [\u001b[32m\u001b[1minfo     \u001b[0m] \u001b[1mSeparateStateAndRewardEncoders_20231011160113: epoch=95 step=67830\u001b[0m \u001b[36mepoch\u001b[0m=\u001b[35m95\u001b[0m \u001b[36mmetrics\u001b[0m=\u001b[35m{'time_sample_batch': 0.00044498523744214484, 'time_algorithm_update': 0.038294371770543546, 'loss': -86.14321686774075, 'time_step': 0.038875431573691485, 'observation_error': 0.015557257215468141, 'reward_error': 4.108670667968917e-06, 'variance': 0.006150716252376151}\u001b[0m \u001b[36mstep\u001b[0m=\u001b[35m67830\u001b[0m\n",
      "\u001b[2m2023-10-11 16:47:01\u001b[0m [\u001b[32m\u001b[1minfo     \u001b[0m] \u001b[1mModel parameters are saved to d3rlpy_logs/SeparateStateAndRewardEncoders_20231011160113/model_67830.pt\u001b[0m\n"
     ]
    },
    {
     "data": {
      "application/vnd.jupyter.widget-view+json": {
       "model_id": "3de17baedbfe441b91792a5edd836036",
       "version_major": 2,
       "version_minor": 0
      },
      "text/plain": [
       "Epoch 96/100:   0%|          | 0/714 [00:00<?, ?it/s]"
      ]
     },
     "metadata": {},
     "output_type": "display_data"
    },
    {
     "name": "stdout",
     "output_type": "stream",
     "text": [
      "\u001b[2m2023-10-11 16:47:34\u001b[0m [\u001b[32m\u001b[1minfo     \u001b[0m] \u001b[1mSeparateStateAndRewardEncoders_20231011160113: epoch=96 step=68544\u001b[0m \u001b[36mepoch\u001b[0m=\u001b[35m96\u001b[0m \u001b[36mmetrics\u001b[0m=\u001b[35m{'time_sample_batch': 0.00045139181847665824, 'time_algorithm_update': 0.04023081815543295, 'loss': -85.64318241525432, 'time_step': 0.04081304166831222, 'observation_error': 0.015168525471019987, 'reward_error': 7.322407847279608e-06, 'variance': 0.006397175015959136}\u001b[0m \u001b[36mstep\u001b[0m=\u001b[35m68544\u001b[0m\n",
      "\u001b[2m2023-10-11 16:47:34\u001b[0m [\u001b[32m\u001b[1minfo     \u001b[0m] \u001b[1mModel parameters are saved to d3rlpy_logs/SeparateStateAndRewardEncoders_20231011160113/model_68544.pt\u001b[0m\n"
     ]
    },
    {
     "data": {
      "application/vnd.jupyter.widget-view+json": {
       "model_id": "50a4eae8e7344a118e3f04a4770ea9f7",
       "version_major": 2,
       "version_minor": 0
      },
      "text/plain": [
       "Epoch 97/100:   0%|          | 0/714 [00:00<?, ?it/s]"
      ]
     },
     "metadata": {},
     "output_type": "display_data"
    },
    {
     "name": "stdout",
     "output_type": "stream",
     "text": [
      "\u001b[2m2023-10-11 16:48:07\u001b[0m [\u001b[32m\u001b[1minfo     \u001b[0m] \u001b[1mSeparateStateAndRewardEncoders_20231011160113: epoch=97 step=69258\u001b[0m \u001b[36mepoch\u001b[0m=\u001b[35m97\u001b[0m \u001b[36mmetrics\u001b[0m=\u001b[35m{'time_sample_batch': 0.0005024401079706785, 'time_algorithm_update': 0.04212675909368264, 'loss': -85.41123670155929, 'time_step': 0.042782035862364357, 'observation_error': 0.014939372027605754, 'reward_error': 4.560460196481388e-06, 'variance': 0.007079962730012064}\u001b[0m \u001b[36mstep\u001b[0m=\u001b[35m69258\u001b[0m\n",
      "\u001b[2m2023-10-11 16:48:07\u001b[0m [\u001b[32m\u001b[1minfo     \u001b[0m] \u001b[1mModel parameters are saved to d3rlpy_logs/SeparateStateAndRewardEncoders_20231011160113/model_69258.pt\u001b[0m\n"
     ]
    },
    {
     "data": {
      "application/vnd.jupyter.widget-view+json": {
       "model_id": "c6b11b740e4f46f0b7cbd3ead0759f9b",
       "version_major": 2,
       "version_minor": 0
      },
      "text/plain": [
       "Epoch 98/100:   0%|          | 0/714 [00:00<?, ?it/s]"
      ]
     },
     "metadata": {},
     "output_type": "display_data"
    },
    {
     "name": "stdout",
     "output_type": "stream",
     "text": [
      "\u001b[2m2023-10-11 16:48:40\u001b[0m [\u001b[32m\u001b[1minfo     \u001b[0m] \u001b[1mSeparateStateAndRewardEncoders_20231011160113: epoch=98 step=69972\u001b[0m \u001b[36mepoch\u001b[0m=\u001b[35m98\u001b[0m \u001b[36mmetrics\u001b[0m=\u001b[35m{'time_sample_batch': 0.00048981227126776, 'time_algorithm_update': 0.04052655069100089, 'loss': -86.10941684947295, 'time_step': 0.04116782120295933, 'observation_error': 0.014430448917987107, 'reward_error': 2.9670767929387717e-06, 'variance': 0.007091523904537046}\u001b[0m \u001b[36mstep\u001b[0m=\u001b[35m69972\u001b[0m\n",
      "\u001b[2m2023-10-11 16:48:40\u001b[0m [\u001b[32m\u001b[1minfo     \u001b[0m] \u001b[1mModel parameters are saved to d3rlpy_logs/SeparateStateAndRewardEncoders_20231011160113/model_69972.pt\u001b[0m\n"
     ]
    },
    {
     "data": {
      "application/vnd.jupyter.widget-view+json": {
       "model_id": "759666754f164ac196ef1c694e17a20e",
       "version_major": 2,
       "version_minor": 0
      },
      "text/plain": [
       "Epoch 99/100:   0%|          | 0/714 [00:00<?, ?it/s]"
      ]
     },
     "metadata": {},
     "output_type": "display_data"
    },
    {
     "name": "stdout",
     "output_type": "stream",
     "text": [
      "\u001b[2m2023-10-11 16:49:13\u001b[0m [\u001b[32m\u001b[1minfo     \u001b[0m] \u001b[1mSeparateStateAndRewardEncoders_20231011160113: epoch=99 step=70686\u001b[0m \u001b[36mepoch\u001b[0m=\u001b[35m99\u001b[0m \u001b[36mmetrics\u001b[0m=\u001b[35m{'time_sample_batch': 0.0004933885499542835, 'time_algorithm_update': 0.040260149317295275, 'loss': -86.04313476947175, 'time_step': 0.040914698141295704, 'observation_error': 0.01615742872760815, 'reward_error': 8.8927554587419e-06, 'variance': 0.007027707547621536}\u001b[0m \u001b[36mstep\u001b[0m=\u001b[35m70686\u001b[0m\n",
      "\u001b[2m2023-10-11 16:49:13\u001b[0m [\u001b[32m\u001b[1minfo     \u001b[0m] \u001b[1mModel parameters are saved to d3rlpy_logs/SeparateStateAndRewardEncoders_20231011160113/model_70686.pt\u001b[0m\n"
     ]
    },
    {
     "data": {
      "application/vnd.jupyter.widget-view+json": {
       "model_id": "4bdf6a157afc4034b1e5423ea5a63eb4",
       "version_major": 2,
       "version_minor": 0
      },
      "text/plain": [
       "Epoch 100/100:   0%|          | 0/714 [00:00<?, ?it/s]"
      ]
     },
     "metadata": {},
     "output_type": "display_data"
    },
    {
     "name": "stdout",
     "output_type": "stream",
     "text": [
      "\u001b[2m2023-10-11 16:49:47\u001b[0m [\u001b[32m\u001b[1minfo     \u001b[0m] \u001b[1mSeparateStateAndRewardEncoders_20231011160113: epoch=100 step=71400\u001b[0m \u001b[36mepoch\u001b[0m=\u001b[35m100\u001b[0m \u001b[36mmetrics\u001b[0m=\u001b[35m{'time_sample_batch': 0.0005305554686474199, 'time_algorithm_update': 0.04220393391884342, 'loss': -86.33843726203555, 'time_step': 0.04288713838539872, 'observation_error': 0.016058845319678435, 'reward_error': 2.7430494585063786e-06, 'variance': 0.006247049604075671}\u001b[0m \u001b[36mstep\u001b[0m=\u001b[35m71400\u001b[0m\n",
      "\u001b[2m2023-10-11 16:49:47\u001b[0m [\u001b[32m\u001b[1minfo     \u001b[0m] \u001b[1mModel parameters are saved to d3rlpy_logs/SeparateStateAndRewardEncoders_20231011160113/model_71400.pt\u001b[0m\n"
     ]
    },
    {
     "data": {
      "text/plain": [
       "[(1,\n",
       "  {'time_sample_batch': 0.0005488235409520253,\n",
       "   'time_algorithm_update': 0.0357434352238973,\n",
       "   'loss': -32.93809812075617,\n",
       "   'time_step': 0.03645618723220184,\n",
       "   'observation_error': 0.016063637931700202,\n",
       "   'reward_error': 0.0016804140969261861,\n",
       "   'variance': 0.01215117613131028}),\n",
       " (2,\n",
       "  {'time_sample_batch': 0.0005533832127974481,\n",
       "   'time_algorithm_update': 0.0370452494180503,\n",
       "   'loss': -41.99179640804686,\n",
       "   'time_step': 0.03776338420996145,\n",
       "   'observation_error': 0.01028619149651415,\n",
       "   'reward_error': 0.0006694518923929904,\n",
       "   'variance': 0.004676957080329532}),\n",
       " (3,\n",
       "  {'time_sample_batch': 0.0005800857597372445,\n",
       "   'time_algorithm_update': 0.041098010974103996,\n",
       "   'loss': -49.00794673266531,\n",
       "   'time_step': 0.0418581545185976,\n",
       "   'observation_error': 0.012040702134374115,\n",
       "   'reward_error': 0.00039915916356946386,\n",
       "   'variance': 0.0093081758324502}),\n",
       " (4,\n",
       "  {'time_sample_batch': 0.0003020255839457365,\n",
       "   'time_algorithm_update': 0.027733295571570303,\n",
       "   'loss': -55.49056655686109,\n",
       "   'time_step': 0.028121929876610677,\n",
       "   'observation_error': 0.012499884110986357,\n",
       "   'reward_error': 0.0002242284766495115,\n",
       "   'variance': 0.01795299056737318}),\n",
       " (5,\n",
       "  {'time_sample_batch': 0.0002748114722115653,\n",
       "   'time_algorithm_update': 0.026892453682522813,\n",
       "   'loss': -59.63024784336571,\n",
       "   'time_step': 0.02724430574422457,\n",
       "   'observation_error': 0.02593868816331802,\n",
       "   'reward_error': 0.00020959566739003855,\n",
       "   'variance': 0.028549895649231136}),\n",
       " (6,\n",
       "  {'time_sample_batch': 0.0003071298786238128,\n",
       "   'time_algorithm_update': 0.029435155772361436,\n",
       "   'loss': -62.5907353085964,\n",
       "   'time_step': 0.02982819581232151,\n",
       "   'observation_error': 0.0352631327635547,\n",
       "   'reward_error': 5.913273457840564e-05,\n",
       "   'variance': 0.04466193600213559}),\n",
       " (7,\n",
       "  {'time_sample_batch': 0.0002860315039712174,\n",
       "   'time_algorithm_update': 0.029342776587029464,\n",
       "   'loss': -64.54988837843182,\n",
       "   'time_step': 0.029707822145200243,\n",
       "   'observation_error': 0.07959647836077188,\n",
       "   'reward_error': 7.576506914797682e-05,\n",
       "   'variance': 0.07718235905538445}),\n",
       " (8,\n",
       "  {'time_sample_batch': 0.0002635299992494556,\n",
       "   'time_algorithm_update': 0.027883324636464694,\n",
       "   'loss': -66.8159948677576,\n",
       "   'time_step': 0.028218350824521704,\n",
       "   'observation_error': 0.06598608904128779,\n",
       "   'reward_error': 3.1240549454581794e-05,\n",
       "   'variance': 0.08229025061837277}),\n",
       " (9,\n",
       "  {'time_sample_batch': 0.0002669553462864638,\n",
       "   'time_algorithm_update': 0.027892351150512695,\n",
       "   'loss': -67.98284289616497,\n",
       "   'time_step': 0.028229115389976182,\n",
       "   'observation_error': 0.07279709196346495,\n",
       "   'reward_error': 1.9327542722844794e-05,\n",
       "   'variance': 0.08355996130921885}),\n",
       " (10,\n",
       "  {'time_sample_batch': 0.0002694931350836233,\n",
       "   'time_algorithm_update': 0.02798398502734529,\n",
       "   'loss': -69.49162844115612,\n",
       "   'time_step': 0.028327676762385862,\n",
       "   'observation_error': 0.07283078453936066,\n",
       "   'reward_error': 1.2177851885506182e-05,\n",
       "   'variance': 0.10398370912911659}),\n",
       " (11,\n",
       "  {'time_sample_batch': 0.00026920763384394287,\n",
       "   'time_algorithm_update': 0.02853827349612025,\n",
       "   'loss': -70.72018104307458,\n",
       "   'time_step': 0.028880503665165407,\n",
       "   'observation_error': 0.08261175267442493,\n",
       "   'reward_error': 8.42658654284104e-06,\n",
       "   'variance': 0.08459742627140697}),\n",
       " (12,\n",
       "  {'time_sample_batch': 0.00026392970098500825,\n",
       "   'time_algorithm_update': 0.028242904932892957,\n",
       "   'loss': -71.85331416731121,\n",
       "   'time_step': 0.02857557298088608,\n",
       "   'observation_error': 0.07821686286733326,\n",
       "   'reward_error': 8.127057496526309e-06,\n",
       "   'variance': 0.08100600219900284}),\n",
       " (13,\n",
       "  {'time_sample_batch': 0.0002645177333628764,\n",
       "   'time_algorithm_update': 0.02868460373384278,\n",
       "   'loss': -72.7339353708326,\n",
       "   'time_step': 0.02902225018883286,\n",
       "   'observation_error': 0.07101217299522311,\n",
       "   'reward_error': 7.054472255326367e-06,\n",
       "   'variance': 0.08766420931142052}),\n",
       " (14,\n",
       "  {'time_sample_batch': 0.0002683755062541374,\n",
       "   'time_algorithm_update': 0.02902599075595204,\n",
       "   'loss': -72.85033555591808,\n",
       "   'time_step': 0.029369880171383127,\n",
       "   'observation_error': 0.09024285228451698,\n",
       "   'reward_error': 9.258893871044738e-06,\n",
       "   'variance': 0.08673457444343503}),\n",
       " (15,\n",
       "  {'time_sample_batch': 0.000267836226134741,\n",
       "   'time_algorithm_update': 0.02905042565503374,\n",
       "   'loss': -73.71083363231156,\n",
       "   'time_step': 0.029392140252249583,\n",
       "   'observation_error': 0.07191846972008979,\n",
       "   'reward_error': 6.80804858040102e-06,\n",
       "   'variance': 0.0826738396330889}),\n",
       " (16,\n",
       "  {'time_sample_batch': 0.0002654530421024611,\n",
       "   'time_algorithm_update': 0.028646148553415508,\n",
       "   'loss': -74.32843611420704,\n",
       "   'time_step': 0.028982575200185056,\n",
       "   'observation_error': 0.0727589084181637,\n",
       "   'reward_error': 5.376773028146061e-06,\n",
       "   'variance': 0.08366453285136155}),\n",
       " (17,\n",
       "  {'time_sample_batch': 0.00026712731486942923,\n",
       "   'time_algorithm_update': 0.027662879946519014,\n",
       "   'loss': -75.01022903057708,\n",
       "   'time_step': 0.02800061288667994,\n",
       "   'observation_error': 0.06319164701810565,\n",
       "   'reward_error': 8.348477831786902e-06,\n",
       "   'variance': 0.07418344688508777}),\n",
       " (18,\n",
       "  {'time_sample_batch': 0.00028229961876107863,\n",
       "   'time_algorithm_update': 0.02667390098090933,\n",
       "   'loss': -74.88982217318538,\n",
       "   'time_step': 0.02702823907387357,\n",
       "   'observation_error': 0.05122103341570176,\n",
       "   'reward_error': 6.715269744926453e-06,\n",
       "   'variance': 0.06030827052741422}),\n",
       " (19,\n",
       "  {'time_sample_batch': 0.00027028118528905703,\n",
       "   'time_algorithm_update': 0.02664151345314432,\n",
       "   'loss': -75.90786019660511,\n",
       "   'time_step': 0.026988395789758163,\n",
       "   'observation_error': 0.05814140938035148,\n",
       "   'reward_error': 1.0582233100350777e-05,\n",
       "   'variance': 0.06042807269206035}),\n",
       " (20,\n",
       "  {'time_sample_batch': 0.0002836830475751091,\n",
       "   'time_algorithm_update': 0.02786560352442979,\n",
       "   'loss': -76.01860527097344,\n",
       "   'time_step': 0.02822520151859572,\n",
       "   'observation_error': 0.05381588387876356,\n",
       "   'reward_error': 6.203574376925544e-06,\n",
       "   'variance': 0.05712321908310585}),\n",
       " (21,\n",
       "  {'time_sample_batch': 0.00031195134341883724,\n",
       "   'time_algorithm_update': 0.029524042826740683,\n",
       "   'loss': -76.15675635197583,\n",
       "   'time_step': 0.029920159601697735,\n",
       "   'observation_error': 0.054176032864033954,\n",
       "   'reward_error': 5.83681408161328e-06,\n",
       "   'variance': 0.056528824787859665}),\n",
       " (22,\n",
       "  {'time_sample_batch': 0.00026576091595390596,\n",
       "   'time_algorithm_update': 0.026803791356019947,\n",
       "   'loss': -77.24458712088962,\n",
       "   'time_step': 0.027137501900937378,\n",
       "   'observation_error': 0.05019693149219176,\n",
       "   'reward_error': 6.027386436882101e-06,\n",
       "   'variance': 0.04588402651152553}),\n",
       " (23,\n",
       "  {'time_sample_batch': 0.0002678679484947055,\n",
       "   'time_algorithm_update': 0.027553397066452923,\n",
       "   'loss': -76.27150901292218,\n",
       "   'time_step': 0.027895345407373765,\n",
       "   'observation_error': 0.047019793146334025,\n",
       "   'reward_error': 4.119048071877392e-06,\n",
       "   'variance': 0.044560108004023144}),\n",
       " (24,\n",
       "  {'time_sample_batch': 0.00027278925524372346,\n",
       "   'time_algorithm_update': 0.028071282290610948,\n",
       "   'loss': -77.37493081186332,\n",
       "   'time_step': 0.028419137001037598,\n",
       "   'observation_error': 0.05478922580812391,\n",
       "   'reward_error': 8.536133370875475e-06,\n",
       "   'variance': 0.04322080005910254}),\n",
       " (25,\n",
       "  {'time_sample_batch': 0.0002664805126457321,\n",
       "   'time_algorithm_update': 0.028459115522582325,\n",
       "   'loss': -77.15871362392308,\n",
       "   'time_step': 0.028798521733751484,\n",
       "   'observation_error': 0.049331784441540794,\n",
       "   'reward_error': 5.202337601934514e-06,\n",
       "   'variance': 0.041804855220275224}),\n",
       " (26,\n",
       "  {'time_sample_batch': 0.00025644222227465204,\n",
       "   'time_algorithm_update': 0.02868655115282502,\n",
       "   'loss': -77.46443978077224,\n",
       "   'time_step': 0.029010880895021584,\n",
       "   'observation_error': 0.0416893146834523,\n",
       "   'reward_error': 1.272563056886849e-05,\n",
       "   'variance': 0.03832973771797907}),\n",
       " (27,\n",
       "  {'time_sample_batch': 0.0002668668575981418,\n",
       "   'time_algorithm_update': 0.02837608508369168,\n",
       "   'loss': -77.9178146394361,\n",
       "   'time_step': 0.028716801929206743,\n",
       "   'observation_error': 0.05030161891218812,\n",
       "   'reward_error': 6.676089352620778e-06,\n",
       "   'variance': 0.03765952237216602}),\n",
       " (28,\n",
       "  {'time_sample_batch': 0.0002860488677893032,\n",
       "   'time_algorithm_update': 0.029162906465076265,\n",
       "   'loss': -77.37744206607509,\n",
       "   'time_step': 0.02952440312596596,\n",
       "   'observation_error': 0.03297123173199638,\n",
       "   'reward_error': 1.8873392512282002e-05,\n",
       "   'variance': 0.03619601391406776}),\n",
       " (29,\n",
       "  {'time_sample_batch': 0.0002691572119875782,\n",
       "   'time_algorithm_update': 0.02792070960464264,\n",
       "   'loss': -78.51942420339718,\n",
       "   'time_step': 0.028262248226240568,\n",
       "   'observation_error': 0.03453809876229121,\n",
       "   'reward_error': 1.514783918821821e-05,\n",
       "   'variance': 0.035126873921009834}),\n",
       " (30,\n",
       "  {'time_sample_batch': 0.0006017207431526077,\n",
       "   'time_algorithm_update': 0.04797992485911906,\n",
       "   'loss': -78.88330051144298,\n",
       "   'time_step': 0.04878089107385203,\n",
       "   'observation_error': 0.03715907800822005,\n",
       "   'reward_error': 4.053780895902161e-06,\n",
       "   'variance': 0.034499472030521665}),\n",
       " (31,\n",
       "  {'time_sample_batch': 0.0005516568485762225,\n",
       "   'time_algorithm_update': 0.04407665575919699,\n",
       "   'loss': -77.95981201471066,\n",
       "   'time_step': 0.04479920997673056,\n",
       "   'observation_error': 0.034536206660390915,\n",
       "   'reward_error': 4.634540308391525e-06,\n",
       "   'variance': 0.02914444518165094}),\n",
       " (32,\n",
       "  {'time_sample_batch': 0.000508778569411163,\n",
       "   'time_algorithm_update': 0.04314671143764207,\n",
       "   'loss': -79.16124798002697,\n",
       "   'time_step': 0.04381124178568522,\n",
       "   'observation_error': 0.02940685172400477,\n",
       "   'reward_error': 5.042256148722327e-06,\n",
       "   'variance': 0.02672819085370568}),\n",
       " (33,\n",
       "  {'time_sample_batch': 0.00037025136440074075,\n",
       "   'time_algorithm_update': 0.034326914979630155,\n",
       "   'loss': -78.69275724053048,\n",
       "   'time_step': 0.034803725424267,\n",
       "   'observation_error': 0.03409830950313699,\n",
       "   'reward_error': 6.181279594700322e-06,\n",
       "   'variance': 0.027149672709130556}),\n",
       " (34,\n",
       "  {'time_sample_batch': 0.0005218685508108273,\n",
       "   'time_algorithm_update': 0.04354527083431639,\n",
       "   'loss': -78.82215552503655,\n",
       "   'time_step': 0.04422280234115131,\n",
       "   'observation_error': 0.02886928450456361,\n",
       "   'reward_error': 5.108550123520058e-06,\n",
       "   'variance': 0.02645634787088616}),\n",
       " (35,\n",
       "  {'time_sample_batch': 0.0004935922408972134,\n",
       "   'time_algorithm_update': 0.04230437759591752,\n",
       "   'loss': -79.22568486585003,\n",
       "   'time_step': 0.042942015730700236,\n",
       "   'observation_error': 0.027291970905697415,\n",
       "   'reward_error': 1.1562652519398613e-05,\n",
       "   'variance': 0.023663024133733845}),\n",
       " (36,\n",
       "  {'time_sample_batch': 0.00036127794356573197,\n",
       "   'time_algorithm_update': 0.03417142666354567,\n",
       "   'loss': -79.45777052657611,\n",
       "   'time_step': 0.03465371539278859,\n",
       "   'observation_error': 0.027708821920332548,\n",
       "   'reward_error': 4.702045926392268e-06,\n",
       "   'variance': 0.022300928927597368}),\n",
       " (37,\n",
       "  {'time_sample_batch': 0.00030151201563389027,\n",
       "   'time_algorithm_update': 0.030993534737274425,\n",
       "   'loss': -80.21153719685658,\n",
       "   'time_step': 0.03137853900257613,\n",
       "   'observation_error': 0.026951387908764366,\n",
       "   'reward_error': 4.369890892361099e-06,\n",
       "   'variance': 0.02053690517436888}),\n",
       " (38,\n",
       "  {'time_sample_batch': 0.0002969022558516815,\n",
       "   'time_algorithm_update': 0.03014738553044509,\n",
       "   'loss': -80.0239588907119,\n",
       "   'time_step': 0.03052353157716639,\n",
       "   'observation_error': 0.031072697627830125,\n",
       "   'reward_error': 3.97495602333563e-06,\n",
       "   'variance': 0.022706129107332444}),\n",
       " (39,\n",
       "  {'time_sample_batch': 0.0003051160096454353,\n",
       "   'time_algorithm_update': 0.030429923901704847,\n",
       "   'loss': -80.28760922055285,\n",
       "   'time_step': 0.030818075025115025,\n",
       "   'observation_error': 0.023312361508781947,\n",
       "   'reward_error': 4.1042375402914884e-06,\n",
       "   'variance': 0.019981544668422113}),\n",
       " (40,\n",
       "  {'time_sample_batch': 0.0002827297071782815,\n",
       "   'time_algorithm_update': 0.029362126892688228,\n",
       "   'loss': -79.85268249298011,\n",
       "   'time_step': 0.02972174959690297,\n",
       "   'observation_error': 0.023187914986421535,\n",
       "   'reward_error': 4.393567446202786e-06,\n",
       "   'variance': 0.019260564122541513}),\n",
       " (41,\n",
       "  {'time_sample_batch': 0.0002654827609449542,\n",
       "   'time_algorithm_update': 0.028316502811528053,\n",
       "   'loss': -80.2375579578202,\n",
       "   'time_step': 0.02865489924989161,\n",
       "   'observation_error': 0.023586039345311026,\n",
       "   'reward_error': 4.66639229602513e-06,\n",
       "   'variance': 0.018237489018015397}),\n",
       " (42,\n",
       "  {'time_sample_batch': 0.0002761060784176952,\n",
       "   'time_algorithm_update': 0.028533778270753492,\n",
       "   'loss': -80.58065332685199,\n",
       "   'time_step': 0.02888230516129181,\n",
       "   'observation_error': 0.021782848647135717,\n",
       "   'reward_error': 3.836896337399115e-06,\n",
       "   'variance': 0.017278981603537896}),\n",
       " (43,\n",
       "  {'time_sample_batch': 0.0004427259375735157,\n",
       "   'time_algorithm_update': 0.03940820426834064,\n",
       "   'loss': -79.9376709988805,\n",
       "   'time_step': 0.03997565918609876,\n",
       "   'observation_error': 0.022542394061086674,\n",
       "   'reward_error': 1.2767225957362633e-05,\n",
       "   'variance': 0.016718689407726712}),\n",
       " (44,\n",
       "  {'time_sample_batch': 0.00042895409239440403,\n",
       "   'time_algorithm_update': 0.03813651362720992,\n",
       "   'loss': -79.75429475340857,\n",
       "   'time_step': 0.03868182500203451,\n",
       "   'observation_error': 0.02281993599851113,\n",
       "   'reward_error': 3.624094943742227e-06,\n",
       "   'variance': 0.01570795112701311}),\n",
       " (45,\n",
       "  {'time_sample_batch': 0.000537439220759715,\n",
       "   'time_algorithm_update': 0.042958160408404694,\n",
       "   'loss': -81.17683072985054,\n",
       "   'time_step': 0.043636413849368484,\n",
       "   'observation_error': 0.01917555776260205,\n",
       "   'reward_error': 3.339657073260015e-06,\n",
       "   'variance': 0.014572427736110059}),\n",
       " (46,\n",
       "  {'time_sample_batch': 0.0005676629496555702,\n",
       "   'time_algorithm_update': 0.04576293260109525,\n",
       "   'loss': -80.66207380321514,\n",
       "   'time_step': 0.04649978325146587,\n",
       "   'observation_error': 0.020848629467595844,\n",
       "   'reward_error': 3.003544278583763e-06,\n",
       "   'variance': 0.01374013132031655}),\n",
       " (47,\n",
       "  {'time_sample_batch': 0.000574769426126774,\n",
       "   'time_algorithm_update': 0.04427294671034612,\n",
       "   'loss': -81.72468439070117,\n",
       "   'time_step': 0.045004623944685906,\n",
       "   'observation_error': 0.022200483680366267,\n",
       "   'reward_error': 4.883020578810794e-06,\n",
       "   'variance': 0.013894735464953777}),\n",
       " (48,\n",
       "  {'time_sample_batch': 0.0005590818843253854,\n",
       "   'time_algorithm_update': 0.044602059516586176,\n",
       "   'loss': -81.26155036904899,\n",
       "   'time_step': 0.04532777595252884,\n",
       "   'observation_error': 0.022188829801390163,\n",
       "   'reward_error': 6.466133380181609e-06,\n",
       "   'variance': 0.013311825763484822}),\n",
       " (49,\n",
       "  {'time_sample_batch': 0.0005323012002042028,\n",
       "   'time_algorithm_update': 0.041902289337136835,\n",
       "   'loss': -80.88673056006766,\n",
       "   'time_step': 0.04260573734422358,\n",
       "   'observation_error': 0.021307029513213883,\n",
       "   'reward_error': 4.394884322647032e-06,\n",
       "   'variance': 0.013475305284165823}),\n",
       " (50,\n",
       "  {'time_sample_batch': 0.0004538591502427387,\n",
       "   'time_algorithm_update': 0.03878985800329043,\n",
       "   'loss': -81.63311327338553,\n",
       "   'time_step': 0.039375832768715396,\n",
       "   'observation_error': 0.018807358095784606,\n",
       "   'reward_error': 2.9673021301292876e-06,\n",
       "   'variance': 0.012403515718383513}),\n",
       " (51,\n",
       "  {'time_sample_batch': 0.0004834985198760901,\n",
       "   'time_algorithm_update': 0.03882662054537391,\n",
       "   'loss': -81.57586403186916,\n",
       "   'time_step': 0.03944986040184812,\n",
       "   'observation_error': 0.019734688144467268,\n",
       "   'reward_error': 3.4522006654801007e-06,\n",
       "   'variance': 0.012681928836373589}),\n",
       " (52,\n",
       "  {'time_sample_batch': 0.00041687221420245345,\n",
       "   'time_algorithm_update': 0.035589202111508664,\n",
       "   'loss': -81.70678867478999,\n",
       "   'time_step': 0.036134745226520784,\n",
       "   'observation_error': 0.019651802406707115,\n",
       "   'reward_error': 4.201648716383661e-06,\n",
       "   'variance': 0.01232545005660732}),\n",
       " (53,\n",
       "  {'time_sample_batch': 0.00040061099856507544,\n",
       "   'time_algorithm_update': 0.03398974870099407,\n",
       "   'loss': -82.3489609218779,\n",
       "   'time_step': 0.034501134514474736,\n",
       "   'observation_error': 0.02044353635734806,\n",
       "   'reward_error': 4.157707748217008e-06,\n",
       "   'variance': 0.01159401209670947}),\n",
       " (54,\n",
       "  {'time_sample_batch': 0.0005090867771821864,\n",
       "   'time_algorithm_update': 0.040470067526446,\n",
       "   'loss': -82.84689677796779,\n",
       "   'time_step': 0.041134428243343235,\n",
       "   'observation_error': 0.018748553674222606,\n",
       "   'reward_error': 4.45255434746054e-06,\n",
       "   'variance': 0.011015604780435399}),\n",
       " (55,\n",
       "  {'time_sample_batch': 0.00047514652337680676,\n",
       "   'time_algorithm_update': 0.039072419748920686,\n",
       "   'loss': -80.60870648231827,\n",
       "   'time_step': 0.03968911945652895,\n",
       "   'observation_error': 0.02280262520621532,\n",
       "   'reward_error': 6.828771326472039e-06,\n",
       "   'variance': 0.01282564367465327}),\n",
       " (56,\n",
       "  {'time_sample_batch': 0.0005311214623331022,\n",
       "   'time_algorithm_update': 0.041672227429408654,\n",
       "   'loss': -82.7783345348027,\n",
       "   'time_step': 0.042366036180020716,\n",
       "   'observation_error': 0.01917708586001866,\n",
       "   'reward_error': 3.580543799019659e-06,\n",
       "   'variance': 0.01043618020588826}),\n",
       " (57,\n",
       "  {'time_sample_batch': 0.00046360759841961686,\n",
       "   'time_algorithm_update': 0.0388637524025113,\n",
       "   'loss': -82.91348008548512,\n",
       "   'time_step': 0.03947734265100388,\n",
       "   'observation_error': 0.020159360660450446,\n",
       "   'reward_error': 3.5016823324708196e-06,\n",
       "   'variance': 0.010095075476883708}),\n",
       " (58,\n",
       "  {'time_sample_batch': 0.00048469762508274796,\n",
       "   'time_algorithm_update': 0.0399107038139963,\n",
       "   'loss': -81.52942722651805,\n",
       "   'time_step': 0.04054202151899578,\n",
       "   'observation_error': 0.019371351789565266,\n",
       "   'reward_error': 3.5396250811011863e-06,\n",
       "   'variance': 0.00985641742054154}),\n",
       " (59,\n",
       "  {'time_sample_batch': 0.00048619992926675066,\n",
       "   'time_algorithm_update': 0.04102560285092736,\n",
       "   'loss': -81.14000523324107,\n",
       "   'time_step': 0.04165593015045679,\n",
       "   'observation_error': 0.018900732641539384,\n",
       "   'reward_error': 1.2771485146743034e-05,\n",
       "   'variance': 0.011473967552451123}),\n",
       " (60,\n",
       "  {'time_sample_batch': 0.00031686630569586235,\n",
       "   'time_algorithm_update': 0.030413695744105747,\n",
       "   'loss': -83.30349615508435,\n",
       "   'time_step': 0.030814421277086276,\n",
       "   'observation_error': 0.01893814998241631,\n",
       "   'reward_error': 2.659328149956781e-06,\n",
       "   'variance': 0.00960920060754477}),\n",
       " (61,\n",
       "  {'time_sample_batch': 0.00029282476387771907,\n",
       "   'time_algorithm_update': 0.02896586419487534,\n",
       "   'loss': -83.61640770962926,\n",
       "   'time_step': 0.02933753204612839,\n",
       "   'observation_error': 0.017601060831410116,\n",
       "   'reward_error': 3.5589070221663443e-06,\n",
       "   'variance': 0.010041168371136314}),\n",
       " (62,\n",
       "  {'time_sample_batch': 0.000273803035084273,\n",
       "   'time_algorithm_update': 0.027988218125842866,\n",
       "   'loss': -82.11825900518593,\n",
       "   'time_step': 0.028338132118310582,\n",
       "   'observation_error': 0.01876697190605906,\n",
       "   'reward_error': 3.826909808330311e-06,\n",
       "   'variance': 0.009397098749053038}),\n",
       " (63,\n",
       "  {'time_sample_batch': 0.0002734507499288778,\n",
       "   'time_algorithm_update': 0.028508590383022104,\n",
       "   'loss': -83.53061570506804,\n",
       "   'time_step': 0.028859060685507722,\n",
       "   'observation_error': 0.020677537879502928,\n",
       "   'reward_error': 3.5803644488745474e-06,\n",
       "   'variance': 0.008613673756421993}),\n",
       " (64,\n",
       "  {'time_sample_batch': 0.00029668587596476577,\n",
       "   'time_algorithm_update': 0.030167175274269254,\n",
       "   'loss': -82.55528586251395,\n",
       "   'time_step': 0.03054780252173501,\n",
       "   'observation_error': 0.019444775910352118,\n",
       "   'reward_error': 1.5123900278872297e-05,\n",
       "   'variance': 0.009637590576139107}),\n",
       " (65,\n",
       "  {'time_sample_batch': 0.00029435010851264334,\n",
       "   'time_algorithm_update': 0.029161221172963204,\n",
       "   'loss': -83.39281118483771,\n",
       "   'time_step': 0.02953894398793453,\n",
       "   'observation_error': 0.019808265908819116,\n",
       "   'reward_error': 6.907334142790937e-06,\n",
       "   'variance': 0.009124331380083502}),\n",
       " (66,\n",
       "  {'time_sample_batch': 0.00027301364920052495,\n",
       "   'time_algorithm_update': 0.02814870788937523,\n",
       "   'loss': -83.47771471755512,\n",
       "   'time_step': 0.02849504359963895,\n",
       "   'observation_error': 0.018219062578555503,\n",
       "   'reward_error': 5.823189005841414e-06,\n",
       "   'variance': 0.0095371551560211}),\n",
       " (67,\n",
       "  {'time_sample_batch': 0.00044384723951836595,\n",
       "   'time_algorithm_update': 0.03923159086403726,\n",
       "   'loss': -82.18948255667165,\n",
       "   'time_step': 0.03981178648331586,\n",
       "   'observation_error': 0.018351264684812445,\n",
       "   'reward_error': 2.747431738522859e-06,\n",
       "   'variance': 0.009317538942303024}),\n",
       " (68,\n",
       "  {'time_sample_batch': 0.00048524825846781586,\n",
       "   'time_algorithm_update': 0.040795605055758265,\n",
       "   'loss': -84.39263427157361,\n",
       "   'time_step': 0.041427050651956336,\n",
       "   'observation_error': 0.01798807329293541,\n",
       "   'reward_error': 5.572373785866355e-06,\n",
       "   'variance': 0.009082506607400493}),\n",
       " (69,\n",
       "  {'time_sample_batch': 0.0005335917993753898,\n",
       "   'time_algorithm_update': 0.04183447294208516,\n",
       "   'loss': -83.9429427315207,\n",
       "   'time_step': 0.04253928267321333,\n",
       "   'observation_error': 0.018997037600291183,\n",
       "   'reward_error': 2.2931732848222106e-06,\n",
       "   'variance': 0.008427047030137972}),\n",
       " (70,\n",
       "  {'time_sample_batch': 0.0004924592517671131,\n",
       "   'time_algorithm_update': 0.041611824049001316,\n",
       "   'loss': -83.47884010934696,\n",
       "   'time_step': 0.04225606076857623,\n",
       "   'observation_error': 0.018696850271322823,\n",
       "   'reward_error': 8.404580434488172e-06,\n",
       "   'variance': 0.009828245469365003}),\n",
       " (71,\n",
       "  {'time_sample_batch': 0.000516717173472172,\n",
       "   'time_algorithm_update': 0.04201172713805981,\n",
       "   'loss': -83.28063187746106,\n",
       "   'time_step': 0.04267964075927307,\n",
       "   'observation_error': 0.018410752602647764,\n",
       "   'reward_error': 5.609950330287334e-06,\n",
       "   'variance': 0.010892596144294355}),\n",
       " (72,\n",
       "  {'time_sample_batch': 0.0005229564607978201,\n",
       "   'time_algorithm_update': 0.041944632677137016,\n",
       "   'loss': -83.68249530151111,\n",
       "   'time_step': 0.042618763213064154,\n",
       "   'observation_error': 0.01887437765087096,\n",
       "   'reward_error': 2.6989600910609873e-06,\n",
       "   'variance': 0.007675929806760356}),\n",
       " (73,\n",
       "  {'time_sample_batch': 0.0005013588763752571,\n",
       "   'time_algorithm_update': 0.04101110205930822,\n",
       "   'loss': -84.10099656641984,\n",
       "   'time_step': 0.04167364324842181,\n",
       "   'observation_error': 0.016420762972113815,\n",
       "   'reward_error': 3.987016289871897e-06,\n",
       "   'variance': 0.008195910949900291}),\n",
       " (74,\n",
       "  {'time_sample_batch': 0.0005145790864105652,\n",
       "   'time_algorithm_update': 0.040900808088585774,\n",
       "   'loss': -84.17150985493379,\n",
       "   'time_step': 0.04157400565321038,\n",
       "   'observation_error': 0.016604824234205107,\n",
       "   'reward_error': 5.629404230315243e-06,\n",
       "   'variance': 0.010142816833024877}),\n",
       " (75,\n",
       "  {'time_sample_batch': 0.000503691972470751,\n",
       "   'time_algorithm_update': 0.040288687754078074,\n",
       "   'loss': -84.43958365817029,\n",
       "   'time_step': 0.04094687630148495,\n",
       "   'observation_error': 0.017680384257064974,\n",
       "   'reward_error': 8.094908783291446e-06,\n",
       "   'variance': 0.008842178810337576}),\n",
       " (76,\n",
       "  {'time_sample_batch': 0.0005276627233382367,\n",
       "   'time_algorithm_update': 0.0416178289247828,\n",
       "   'loss': -83.55297973643498,\n",
       "   'time_step': 0.04229995316150142,\n",
       "   'observation_error': 0.0192883158911782,\n",
       "   'reward_error': 4.703222534231512e-06,\n",
       "   'variance': 0.008786378555535237}),\n",
       " (77,\n",
       "  {'time_sample_batch': 0.0005011618638238987,\n",
       "   'time_algorithm_update': 0.04059468163829558,\n",
       "   'loss': -84.70983488953748,\n",
       "   'time_step': 0.04125015107857413,\n",
       "   'observation_error': 0.016787260428445774,\n",
       "   'reward_error': 4.77717984826179e-06,\n",
       "   'variance': 0.008122651821448347}),\n",
       " (78,\n",
       "  {'time_sample_batch': 0.0005089565485465427,\n",
       "   'time_algorithm_update': 0.04123480046162752,\n",
       "   'loss': -84.15607547492874,\n",
       "   'time_step': 0.041904026386784574,\n",
       "   'observation_error': 0.015802451542780503,\n",
       "   'reward_error': 3.2201079465719142e-06,\n",
       "   'variance': 0.007285563016078921}),\n",
       " (79,\n",
       "  {'time_sample_batch': 0.00040828380264154,\n",
       "   'time_algorithm_update': 0.03613395751023493,\n",
       "   'loss': -84.72234459617893,\n",
       "   'time_step': 0.036666977973211376,\n",
       "   'observation_error': 0.016583759390474233,\n",
       "   'reward_error': 5.527671087412465e-06,\n",
       "   'variance': 0.0076918716103711975}),\n",
       " (80,\n",
       "  {'time_sample_batch': 0.0004528286744232605,\n",
       "   'time_algorithm_update': 0.039286317945528434,\n",
       "   'loss': -84.45935203381279,\n",
       "   'time_step': 0.03987863317591136,\n",
       "   'observation_error': 0.01705104717879565,\n",
       "   'reward_error': 4.693105074000412e-06,\n",
       "   'variance': 0.007929689519758192}),\n",
       " (81,\n",
       "  {'time_sample_batch': 0.00042891101676876804,\n",
       "   'time_algorithm_update': 0.037631660616364464,\n",
       "   'loss': -85.32332361045005,\n",
       "   'time_step': 0.03818406277344007,\n",
       "   'observation_error': 0.01782033293614169,\n",
       "   'reward_error': 2.8060035910354842e-06,\n",
       "   'variance': 0.007128678959522979}),\n",
       " (82,\n",
       "  {'time_sample_batch': 0.0004540070766160468,\n",
       "   'time_algorithm_update': 0.03879248394685633,\n",
       "   'loss': -85.51477203048577,\n",
       "   'time_step': 0.039374564208236394,\n",
       "   'observation_error': 0.015890706744902294,\n",
       "   'reward_error': 3.850960545544194e-06,\n",
       "   'variance': 0.007756328706452901}),\n",
       " (83,\n",
       "  {'time_sample_batch': 0.0004217865086403214,\n",
       "   'time_algorithm_update': 0.037147782763847115,\n",
       "   'loss': -85.89397691411465,\n",
       "   'time_step': 0.037701444131653515,\n",
       "   'observation_error': 0.01584994735965218,\n",
       "   'reward_error': 3.1608465737673006e-06,\n",
       "   'variance': 0.0064293394195474775}),\n",
       " (84,\n",
       "  {'time_sample_batch': 0.0004475500737251688,\n",
       "   'time_algorithm_update': 0.03718172902820491,\n",
       "   'loss': -84.3186003073257,\n",
       "   'time_step': 0.03775471265242547,\n",
       "   'observation_error': 0.017288418076104404,\n",
       "   'reward_error': 5.802426097488414e-06,\n",
       "   'variance': 0.00834619214845138}),\n",
       " (85,\n",
       "  {'time_sample_batch': 0.00044357776641845703,\n",
       "   'time_algorithm_update': 0.03743406070046732,\n",
       "   'loss': -85.25742914429566,\n",
       "   'time_step': 0.038002759802575205,\n",
       "   'observation_error': 0.015551940279715551,\n",
       "   'reward_error': 4.5339145670757255e-06,\n",
       "   'variance': 0.006780843355233836}),\n",
       " (86,\n",
       "  {'time_sample_batch': 0.00045134072878113646,\n",
       "   'time_algorithm_update': 0.037531678082228376,\n",
       "   'loss': -85.10525956407649,\n",
       "   'time_step': 0.038107538757537925,\n",
       "   'observation_error': 0.017245176991455287,\n",
       "   'reward_error': 1.1857091674294615e-05,\n",
       "   'variance': 0.007228420543766096}),\n",
       " (87,\n",
       "  {'time_sample_batch': 0.00045861516680036275,\n",
       "   'time_algorithm_update': 0.03803903315247608,\n",
       "   'loss': -85.21683878324279,\n",
       "   'time_step': 0.03863671914536078,\n",
       "   'observation_error': 0.015272362958843834,\n",
       "   'reward_error': 2.6666651683927705e-06,\n",
       "   'variance': 0.0067244435456722575}),\n",
       " (88,\n",
       "  {'time_sample_batch': 0.00048427488289627376,\n",
       "   'time_algorithm_update': 0.039505410929020046,\n",
       "   'loss': -85.17489622420624,\n",
       "   'time_step': 0.04013240571115531,\n",
       "   'observation_error': 0.01640689016214412,\n",
       "   'reward_error': 5.620667252562379e-06,\n",
       "   'variance': 0.00704788159850248}),\n",
       " (89,\n",
       "  {'time_sample_batch': 0.00048676224983706864,\n",
       "   'time_algorithm_update': 0.04017375129945472,\n",
       "   'loss': -86.0148660996381,\n",
       "   'time_step': 0.040805240639117585,\n",
       "   'observation_error': 0.014562621026195592,\n",
       "   'reward_error': 2.5073676613273196e-06,\n",
       "   'variance': 0.006782828124273373}),\n",
       " (90,\n",
       "  {'time_sample_batch': 0.00042818040073084896,\n",
       "   'time_algorithm_update': 0.03801772541024772,\n",
       "   'loss': -85.17031541925853,\n",
       "   'time_step': 0.03856424791138379,\n",
       "   'observation_error': 0.014570377447710316,\n",
       "   'reward_error': 3.8725139648277935e-06,\n",
       "   'variance': 0.006397743556084688}),\n",
       " (91,\n",
       "  {'time_sample_batch': 0.0004207764019151362,\n",
       "   'time_algorithm_update': 0.03746064303635883,\n",
       "   'loss': -86.30247555259896,\n",
       "   'time_step': 0.0380053593664944,\n",
       "   'observation_error': 0.014050345812738133,\n",
       "   'reward_error': 4.441793514932537e-06,\n",
       "   'variance': 0.007038437875391445}),\n",
       " (92,\n",
       "  {'time_sample_batch': 0.0004908941707023385,\n",
       "   'time_algorithm_update': 0.03968228378883597,\n",
       "   'loss': -84.29094134792894,\n",
       "   'time_step': 0.040308200010732445,\n",
       "   'observation_error': 0.014216599042095868,\n",
       "   'reward_error': 3.3387525994743937e-06,\n",
       "   'variance': 0.007291049825388232}),\n",
       " (93,\n",
       "  {'time_sample_batch': 0.00043333845646107566,\n",
       "   'time_algorithm_update': 0.03743885912481142,\n",
       "   'loss': -86.04639410237972,\n",
       "   'time_step': 0.037997501904890985,\n",
       "   'observation_error': 0.015295580028483196,\n",
       "   'reward_error': 4.476113814413308e-06,\n",
       "   'variance': 0.006192965465197072}),\n",
       " (94,\n",
       "  {'time_sample_batch': 0.00047028031335825347,\n",
       "   'time_algorithm_update': 0.03899181089481386,\n",
       "   'loss': -85.82760954571037,\n",
       "   'time_step': 0.03959856948264841,\n",
       "   'observation_error': 0.014363343865746543,\n",
       "   'reward_error': 3.975460381226627e-06,\n",
       "   'variance': 0.006299911156804411}),\n",
       " (95,\n",
       "  {'time_sample_batch': 0.00044498523744214484,\n",
       "   'time_algorithm_update': 0.038294371770543546,\n",
       "   'loss': -86.14321686774075,\n",
       "   'time_step': 0.038875431573691485,\n",
       "   'observation_error': 0.015557257215468141,\n",
       "   'reward_error': 4.108670667968917e-06,\n",
       "   'variance': 0.006150716252376151}),\n",
       " (96,\n",
       "  {'time_sample_batch': 0.00045139181847665824,\n",
       "   'time_algorithm_update': 0.04023081815543295,\n",
       "   'loss': -85.64318241525432,\n",
       "   'time_step': 0.04081304166831222,\n",
       "   'observation_error': 0.015168525471019987,\n",
       "   'reward_error': 7.322407847279608e-06,\n",
       "   'variance': 0.006397175015959136}),\n",
       " (97,\n",
       "  {'time_sample_batch': 0.0005024401079706785,\n",
       "   'time_algorithm_update': 0.04212675909368264,\n",
       "   'loss': -85.41123670155929,\n",
       "   'time_step': 0.042782035862364357,\n",
       "   'observation_error': 0.014939372027605754,\n",
       "   'reward_error': 4.560460196481388e-06,\n",
       "   'variance': 0.007079962730012064}),\n",
       " (98,\n",
       "  {'time_sample_batch': 0.00048981227126776,\n",
       "   'time_algorithm_update': 0.04052655069100089,\n",
       "   'loss': -86.10941684947295,\n",
       "   'time_step': 0.04116782120295933,\n",
       "   'observation_error': 0.014430448917987107,\n",
       "   'reward_error': 2.9670767929387717e-06,\n",
       "   'variance': 0.007091523904537046}),\n",
       " (99,\n",
       "  {'time_sample_batch': 0.0004933885499542835,\n",
       "   'time_algorithm_update': 0.040260149317295275,\n",
       "   'loss': -86.04313476947175,\n",
       "   'time_step': 0.040914698141295704,\n",
       "   'observation_error': 0.01615742872760815,\n",
       "   'reward_error': 8.8927554587419e-06,\n",
       "   'variance': 0.007027707547621536}),\n",
       " (100,\n",
       "  {'time_sample_batch': 0.0005305554686474199,\n",
       "   'time_algorithm_update': 0.04220393391884342,\n",
       "   'loss': -86.33843726203555,\n",
       "   'time_step': 0.04288713838539872,\n",
       "   'observation_error': 0.016058845319678435,\n",
       "   'reward_error': 2.7430494585063786e-06,\n",
       "   'variance': 0.006247049604075671})]"
      ]
     },
     "execution_count": 7,
     "metadata": {},
     "output_type": "execute_result"
    }
   ],
   "source": [
    "# same as algorithms\n",
    "dynamics.fit(train_episodes,\n",
    "             eval_episodes=test_episodes,\n",
    "             n_epochs=100,\n",
    "             scorers={\n",
    "                'observation_error': d3rlpy.metrics.scorer.dynamics_observation_prediction_error_scorer,\n",
    "                'reward_error': d3rlpy.metrics.scorer.dynamics_reward_prediction_error_scorer,\n",
    "                'variance': d3rlpy.metrics.scorer.dynamics_prediction_variance_scorer,\n",
    "             },\n",
    "            tensorboard_dir='tensorboard_logs/dynamics',\n",
    "            experiment_name='SeparateStateAndRewardEncoders')"
   ]
  },
  {
   "cell_type": "code",
   "execution_count": null,
   "id": "7dce29e5-ef7b-4ae1-a5b1-0098a1ccb021",
   "metadata": {},
   "outputs": [],
   "source": [
    "def experiment_dynamics_training(dataset, n_runs, experiment_name, seed=1, use_gpu=True):\n",
    "    for i in range(n_runs):\n",
    "        for encoder_factory in ['default', 'inverted_pendulum']:\n",
    "            # use the same seeds for default and symmetric runs\n",
    "            train_episodes, test_episodes = train_test_split(dataset, random_state=seed+i)\n",
    "            dynamics = d3rlpy.dynamics.ProbabilisticEnsembleDynamics(learning_rate=1e-4, use_gpu=use_gpu, encoder_factory=encoder_factory)\n",
    "            dynamics.fit(train_episodes,\n",
    "                 eval_episodes=test_episodes,\n",
    "                 n_epochs=100,\n",
    "                 scorers={\n",
    "                    'observation_error': d3rlpy.metrics.scorer.dynamics_observation_prediction_error_scorer,\n",
    "                    'reward_error': d3rlpy.metrics.scorer.dynamics_reward_prediction_error_scorer,\n",
    "                    'variance': d3rlpy.metrics.scorer.dynamics_prediction_variance_scorer,\n",
    "                 },\n",
    "                tensorboard_dir='tensorboard_logs/dynamics',\n",
    "                experiment_name=experiment_name)"
   ]
  },
  {
   "cell_type": "code",
   "execution_count": null,
   "id": "4f779639-e088-4def-bdc8-ccfec3ef74e7",
   "metadata": {},
   "outputs": [],
   "source": [
    "experiment_dynamics_training(dataset=dataset, n_runs=3, experiment_name=\"exp_0\", use_gpu=False)"
   ]
  },
  {
   "cell_type": "code",
   "execution_count": null,
   "id": "416f7388-ad87-4f1e-a30c-36efd6c3f4f9",
   "metadata": {},
   "outputs": [],
   "source": []
  },
  {
   "cell_type": "code",
   "execution_count": null,
   "id": "db18eba3-da50-4b8b-8494-2f852e293e01",
   "metadata": {},
   "outputs": [],
   "source": []
  },
  {
   "cell_type": "code",
   "execution_count": null,
   "id": "e9a33835-2104-4353-8521-73e85f0a2796",
   "metadata": {},
   "outputs": [],
   "source": []
  },
  {
   "cell_type": "code",
   "execution_count": null,
   "id": "fce1205b-1902-453b-aae9-5ab74e14c1e8",
   "metadata": {},
   "outputs": [],
   "source": []
  },
  {
   "cell_type": "code",
   "execution_count": null,
   "id": "0207a444-0367-48e6-9c24-dc6db7b96bde",
   "metadata": {},
   "outputs": [],
   "source": []
  },
  {
   "cell_type": "code",
   "execution_count": null,
   "id": "cee703dd-88ec-4ea6-bd03-3b0cd0a46822",
   "metadata": {},
   "outputs": [],
   "source": []
  },
  {
   "cell_type": "markdown",
   "id": "0b6a0377-82fa-4d78-b498-0bcdd282fc51",
   "metadata": {},
   "source": [
    "## Load Dynamics"
   ]
  },
  {
   "cell_type": "code",
   "execution_count": null,
   "id": "92a2da5d-f176-42d6-b72e-e94800db8db6",
   "metadata": {},
   "outputs": [],
   "source": [
    "# load trained dynamics model\n",
    "dynamics_model_path = \"d3rlpy_logs/ProbabilisticEnsembleDynamics_20231002230632\"\n",
    "dynamics = d3rlpy.dynamics.ProbabilisticEnsembleDynamics.from_json(dynamics_model_path + '/params.json')\n",
    "dynamics.load_model(dynamics_model_path + '/model_31542.pt')"
   ]
  },
  {
   "cell_type": "markdown",
   "id": "b0cd5232-3ff4-44cc-afb8-a0cf2038071d",
   "metadata": {},
   "source": [
    "## Train Offline RL Algorithm"
   ]
  },
  {
   "cell_type": "code",
   "execution_count": null,
   "id": "7de5e387-db4f-4499-8d94-d74fbdfa75b4",
   "metadata": {},
   "outputs": [],
   "source": [
    "encoders = d3rlpy.models.encoders.DefaultEncoderFactory(dropout_rate=0.2)\n",
    "# give COMBO as the generator argument.\n",
    "combo = COMBO(dynamics=dynamics, critic_encoder_factory=encoders, actor_encoder_factory=encoders,\n",
    "              use_gpu=use_gpu)"
   ]
  },
  {
   "cell_type": "code",
   "execution_count": null,
   "id": "67116a4e-3e12-4f9b-a639-cd52b508761c",
   "metadata": {},
   "outputs": [],
   "source": [
    "combo.fit(dataset = train_episodes, eval_episodes=test_episodes, n_steps=100000, n_steps_per_epoch=1000, tensorboard_dir=\"tensorboard_logs\",\n",
    "         scorers={\n",
    "            'environment': d3rlpy.metrics.scorer.evaluate_on_environment(eval_env)\n",
    "        })"
   ]
  },
  {
   "cell_type": "markdown",
   "id": "975eb780-5bf9-4dce-a157-2a3391301db6",
   "metadata": {},
   "source": [
    "## Load the Policy"
   ]
  },
  {
   "cell_type": "code",
   "execution_count": null,
   "id": "307e723b-9836-489a-b6de-d66d7cf6dd22",
   "metadata": {},
   "outputs": [],
   "source": [
    "trained_policy = COMBO()\n",
    "# initialize with dataset\n",
    "trained_policy.build_with_dataset(dataset)\n",
    "# Load entire model parameters.\n",
    "trained_policy.load_model('d3rlpy_logs/COMBO_20230929153035/model_53000.pt')"
   ]
  },
  {
   "cell_type": "markdown",
   "id": "1c0b5477-7e6c-4701-a2f3-a0df1f357aa1",
   "metadata": {},
   "source": [
    "## See the policy running"
   ]
  },
  {
   "cell_type": "code",
   "execution_count": null,
   "id": "a11e69dd-55a6-4c4b-a2a3-fe66e4626a0d",
   "metadata": {},
   "outputs": [],
   "source": [
    "scorer = d3rlpy.metrics.scorer.evaluate_on_environment(eval_env, render=True)\n",
    "mean_episode_return = scorer(trained_policy)"
   ]
  }
 ],
 "metadata": {
  "kernelspec": {
   "display_name": "Python 3 (ipykernel)",
   "language": "python",
   "name": "python3"
  },
  "language_info": {
   "codemirror_mode": {
    "name": "ipython",
    "version": 3
   },
   "file_extension": ".py",
   "mimetype": "text/x-python",
   "name": "python",
   "nbconvert_exporter": "python",
   "pygments_lexer": "ipython3",
   "version": "3.8.16"
  }
 },
 "nbformat": 4,
 "nbformat_minor": 5
}
