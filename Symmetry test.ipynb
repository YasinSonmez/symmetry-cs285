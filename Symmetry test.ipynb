{
 "cells": [
  {
   "cell_type": "code",
   "execution_count": 1,
   "id": "3cef1889",
   "metadata": {},
   "outputs": [],
   "source": [
    "import d3rlpy\n",
    "from d3rlpy.algos import COMBO\n",
    "from sklearn.model_selection import train_test_split\n",
    "#import gymnasium as gym\n",
    "import gym\n",
    "from gym.wrappers import TransformObservation\n",
    "import numpy as np\n",
    "import encoders\n",
    "import os\n",
    "import json"
   ]
  },
  {
   "cell_type": "code",
   "execution_count": 2,
   "id": "75d409c5-cac8-4777-9379-9e8425842246",
   "metadata": {},
   "outputs": [
    {
     "name": "stdout",
     "output_type": "stream",
     "text": [
      "0.23.1\n"
     ]
    }
   ],
   "source": [
    "print(gym.version.VERSION)"
   ]
  },
  {
   "cell_type": "markdown",
   "id": "47a5f2b7-f1c9-4c90-b9ff-a0991612c559",
   "metadata": {},
   "source": [
    "## Params"
   ]
  },
  {
   "cell_type": "code",
   "execution_count": 3,
   "id": "6547464d-8f48-46fd-b606-f121a3cd53f2",
   "metadata": {},
   "outputs": [
    {
     "data": {
      "text/plain": [
       "array([ 9.99997205e-01,  9.95944393e-01,  2.36432274e-03,  8.99709127e-02,\n",
       "       -7.52674192e-02, -3.06694204e-02,  3.27702594e-03, -9.08008636e-04,\n",
       "        2.84797318e-01,  4.10616462e-02,  0.00000000e+00])"
      ]
     },
     "execution_count": 3,
     "metadata": {},
     "output_type": "execute_result"
    }
   ],
   "source": [
    "seed = 1\n",
    "d3rlpy.seed(seed)\n",
    "use_gpu = True\n",
    "# prepare environment\n",
    "#env = gym.make(\"InvertedPendulum-v2\")\n",
    "#eval_env = gym.make(\"InvertedPendulum-v2\")\n",
    "env = gym.make(\"Reacher-v2\")\n",
    "eval_env = gym.make(\"Reacher-v2\")\n",
    "env.reset(seed=seed)\n",
    "eval_env.reset(seed=seed)"
   ]
  },
  {
   "cell_type": "code",
   "execution_count": 4,
   "id": "440451b1-8676-4661-bc2e-857e94586cee",
   "metadata": {},
   "outputs": [],
   "source": [
    "def observation_edit1(obs):\n",
    "    new_obs = np.zeros(8)\n",
    "    new_obs[0] = np.arctan2(obs[2], obs[0])\n",
    "    new_obs[1] = np.arctan2(obs[3], obs[1])\n",
    "    new_obs[2:] = obs[4:-1]\n",
    "    return new_obs"
   ]
  },
  {
   "cell_type": "code",
   "execution_count": 5,
   "id": "566f188e-e0c2-4c2b-aca2-26c81a776e08",
   "metadata": {},
   "outputs": [
    {
     "name": "stdout",
     "output_type": "stream",
     "text": [
      "[ 0.00236432  0.09009274 -0.07526742 -0.03066942  0.00327703 -0.00090801\n",
      "  0.28479732  0.04106165]\n",
      "[ 0.00236432  0.09009274 -0.07526742 -0.03066942  0.00327703 -0.00090801\n",
      "  0.28479732  0.04106165]\n"
     ]
    }
   ],
   "source": [
    "env1 = TransformObservation(env, observation_edit1)\n",
    "env1.observation_space = gym.spaces.Box(-np.inf, np.inf, shape=(8,), dtype= np.float64 )\n",
    "print(env1.reset(seed=seed))\n",
    "\n",
    "eval_env1 = TransformObservation(eval_env, observation_edit1)\n",
    "eval_env1.observation_space = gym.spaces.Box(-np.inf, np.inf, shape=(8,), dtype= np.float64 )\n",
    "print(env1.reset(seed=seed))"
   ]
  },
  {
   "cell_type": "markdown",
   "id": "c35492fa-eb11-45b6-b1bc-50b9d9893ab5",
   "metadata": {},
   "source": [
    "## Create dataset"
   ]
  },
  {
   "cell_type": "code",
   "execution_count": 6,
   "id": "133dc7a7-22c1-4bc8-a90c-9ebcce88928a",
   "metadata": {
    "scrolled": true
   },
   "outputs": [
    {
     "name": "stdout",
     "output_type": "stream",
     "text": [
      "\u001b[2m2023-10-24 13:17:31\u001b[0m [\u001b[32m\u001b[1minfo     \u001b[0m] \u001b[1mDirectory is created at d3rlpy_logs/exp_6_SAC_reacher_20231024131731\u001b[0m\n",
      "\u001b[2m2023-10-24 13:17:31\u001b[0m [\u001b[32m\u001b[1mdebug    \u001b[0m] \u001b[1mBuilding model...\u001b[0m\n",
      "\u001b[2m2023-10-24 13:17:31\u001b[0m [\u001b[32m\u001b[1mdebug    \u001b[0m] \u001b[1mModel has been built.\u001b[0m\n",
      "\u001b[2m2023-10-24 13:17:31\u001b[0m [\u001b[32m\u001b[1minfo     \u001b[0m] \u001b[1mParameters are saved to d3rlpy_logs/exp_6_SAC_reacher_20231024131731/params.json\u001b[0m \u001b[36mparams\u001b[0m=\u001b[35m{'action_scaler': None, 'actor_encoder_factory': {'type': 'default', 'params': {'activation': 'relu', 'use_batch_norm': False, 'dropout_rate': 0.2}}, 'actor_learning_rate': 0.0003, 'actor_optim_factory': {'optim_cls': 'Adam', 'betas': (0.9, 0.999), 'eps': 1e-08, 'weight_decay': 0, 'amsgrad': False}, 'batch_size': 256, 'critic_encoder_factory': {'type': 'default', 'params': {'activation': 'relu', 'use_batch_norm': False, 'dropout_rate': None}}, 'critic_learning_rate': 0.0003, 'critic_optim_factory': {'optim_cls': 'Adam', 'betas': (0.9, 0.999), 'eps': 1e-08, 'weight_decay': 0, 'amsgrad': False}, 'gamma': 0.99, 'generated_maxlen': 100000, 'initial_temperature': 1.0, 'n_critics': 2, 'n_frames': 1, 'n_steps': 1, 'q_func_factory': {'type': 'mean', 'params': {'share_encoder': False}}, 'real_ratio': 1.0, 'reward_scaler': None, 'scaler': None, 'tau': 0.005, 'temp_learning_rate': 0.0003, 'temp_optim_factory': {'optim_cls': 'Adam', 'betas': (0.9, 0.999), 'eps': 1e-08, 'weight_decay': 0, 'amsgrad': False}, 'use_gpu': 0, 'algorithm': 'SAC', 'observation_shape': (8,), 'action_size': 2}\u001b[0m\n"
     ]
    },
    {
     "data": {
      "application/vnd.jupyter.widget-view+json": {
       "model_id": "9736320057854afb93a12672abd6722e",
       "version_major": 2,
       "version_minor": 0
      },
      "text/plain": [
       "  0%|          | 0/200000 [00:00<?, ?it/s]"
      ]
     },
     "metadata": {},
     "output_type": "display_data"
    },
    {
     "name": "stdout",
     "output_type": "stream",
     "text": [
      "\u001b[2m2023-10-24 13:17:34\u001b[0m [\u001b[32m\u001b[1minfo     \u001b[0m] \u001b[1mexp_6_SAC_reacher_20231024131731: epoch=1 step=1000\u001b[0m \u001b[36mepoch\u001b[0m=\u001b[35m1\u001b[0m \u001b[36mmetrics\u001b[0m=\u001b[35m{'time_inference': 0.0015537376403808594, 'time_environment_step': 0.00015189647674560547, 'time_step': 0.001757314443588257, 'rollout_return': -66.07874194082103, 'evaluation': -30.761665336165645}\u001b[0m \u001b[36mstep\u001b[0m=\u001b[35m1000\u001b[0m\n",
      "\u001b[2m2023-10-24 13:17:48\u001b[0m [\u001b[32m\u001b[1minfo     \u001b[0m] \u001b[1mexp_6_SAC_reacher_20231024131731: epoch=2 step=2000\u001b[0m \u001b[36mepoch\u001b[0m=\u001b[35m2\u001b[0m \u001b[36mmetrics\u001b[0m=\u001b[35m{'time_inference': 0.001282780647277832, 'time_environment_step': 0.00016817498207092284, 'time_sample_batch': 0.00029226827621459963, 'time_algorithm_update': 0.011538589477539062, 'temp_loss': 2.8351960982084274, 'temp': 0.8643339533209801, 'critic_loss': 0.8371473073810339, 'actor_loss': -0.9836339109316469, 'time_step': 0.013360583305358886, 'rollout_return': -41.37339480470685, 'evaluation': -10.284890674989496}\u001b[0m \u001b[36mstep\u001b[0m=\u001b[35m2000\u001b[0m\n",
      "\u001b[2m2023-10-24 13:18:00\u001b[0m [\u001b[32m\u001b[1minfo     \u001b[0m] \u001b[1mexp_6_SAC_reacher_20231024131731: epoch=3 step=3000\u001b[0m \u001b[36mepoch\u001b[0m=\u001b[35m3\u001b[0m \u001b[36mmetrics\u001b[0m=\u001b[35m{'time_inference': 0.0011759123802185059, 'time_environment_step': 0.00015737986564636232, 'time_sample_batch': 0.00027799701690673826, 'time_algorithm_update': 0.010708527803421021, 'temp_loss': 2.1096923872232436, 'temp': 0.6613990226387978, 'critic_loss': 0.14918349543958903, 'actor_loss': -1.5946898089647292, 'time_step': 0.012394069194793701, 'rollout_return': -34.42549404053354, 'evaluation': -11.632418105928732}\u001b[0m \u001b[36mstep\u001b[0m=\u001b[35m3000\u001b[0m\n",
      "\u001b[2m2023-10-24 13:18:13\u001b[0m [\u001b[32m\u001b[1minfo     \u001b[0m] \u001b[1mexp_6_SAC_reacher_20231024131731: epoch=4 step=4000\u001b[0m \u001b[36mepoch\u001b[0m=\u001b[35m4\u001b[0m \u001b[36mmetrics\u001b[0m=\u001b[35m{'time_inference': 0.0011432399749755858, 'time_environment_step': 0.00015140676498413087, 'time_sample_batch': 0.00027861738204956055, 'time_algorithm_update': 0.010510387659072876, 'temp_loss': 1.594959730386734, 'temp': 0.5197459366917611, 'critic_loss': 0.10525603765249253, 'actor_loss': -1.5263683993816375, 'time_step': 0.012155121088027954, 'rollout_return': -30.77299701201348, 'evaluation': -9.110598600621064}\u001b[0m \u001b[36mstep\u001b[0m=\u001b[35m4000\u001b[0m\n",
      "\u001b[2m2023-10-24 13:18:26\u001b[0m [\u001b[32m\u001b[1minfo     \u001b[0m] \u001b[1mexp_6_SAC_reacher_20231024131731: epoch=5 step=5000\u001b[0m \u001b[36mepoch\u001b[0m=\u001b[35m5\u001b[0m \u001b[36mmetrics\u001b[0m=\u001b[35m{'time_inference': 0.001121549129486084, 'time_environment_step': 0.00014719128608703613, 'time_sample_batch': 0.00027215886116027833, 'time_algorithm_update': 0.010354623317718506, 'temp_loss': 1.2165688819885254, 'temp': 0.41379315838217734, 'critic_loss': 0.07501703857630491, 'actor_loss': -0.904729685395956, 'time_step': 0.011964739322662354, 'rollout_return': -26.219441252960763, 'evaluation': -10.237586155363298}\u001b[0m \u001b[36mstep\u001b[0m=\u001b[35m5000\u001b[0m\n",
      "\u001b[2m2023-10-24 13:18:38\u001b[0m [\u001b[32m\u001b[1minfo     \u001b[0m] \u001b[1mexp_6_SAC_reacher_20231024131731: epoch=6 step=6000\u001b[0m \u001b[36mepoch\u001b[0m=\u001b[35m6\u001b[0m \u001b[36mmetrics\u001b[0m=\u001b[35m{'time_inference': 0.001133772850036621, 'time_environment_step': 0.00015145564079284667, 'time_sample_batch': 0.0002874486446380615, 'time_algorithm_update': 0.010485337495803833, 'temp_loss': 0.9288082432746887, 'temp': 0.33231517478823663, 'critic_loss': 0.05768163968995214, 'actor_loss': 0.04147116683702916, 'time_step': 0.0121288161277771, 'rollout_return': -24.32534933401613, 'evaluation': -10.6579823248661}\u001b[0m \u001b[36mstep\u001b[0m=\u001b[35m6000\u001b[0m\n",
      "\u001b[2m2023-10-24 13:18:51\u001b[0m [\u001b[32m\u001b[1minfo     \u001b[0m] \u001b[1mexp_6_SAC_reacher_20231024131731: epoch=7 step=7000\u001b[0m \u001b[36mepoch\u001b[0m=\u001b[35m7\u001b[0m \u001b[36mmetrics\u001b[0m=\u001b[35m{'time_inference': 0.00111954927444458, 'time_environment_step': 0.0001494150161743164, 'time_sample_batch': 0.00028204655647277833, 'time_algorithm_update': 0.01042247223854065, 'temp_loss': 0.7080462484359741, 'temp': 0.268388332426548, 'critic_loss': 0.05090134483575821, 'actor_loss': 1.2081870811581612, 'time_step': 0.012042917490005493, 'rollout_return': -21.705378574482356, 'evaluation': -9.294375218777612}\u001b[0m \u001b[36mstep\u001b[0m=\u001b[35m7000\u001b[0m\n",
      "\u001b[2m2023-10-24 13:19:04\u001b[0m [\u001b[32m\u001b[1minfo     \u001b[0m] \u001b[1mexp_6_SAC_reacher_20231024131731: epoch=8 step=8000\u001b[0m \u001b[36mepoch\u001b[0m=\u001b[35m8\u001b[0m \u001b[36mmetrics\u001b[0m=\u001b[35m{'time_inference': 0.001121204376220703, 'time_environment_step': 0.00014930295944213867, 'time_sample_batch': 0.00028498673439025877, 'time_algorithm_update': 0.010408592700958253, 'temp_loss': 0.536696677237749, 'temp': 0.2176384708881378, 'critic_loss': 0.049621139392256736, 'actor_loss': 2.4379110852479933, 'time_step': 0.012033905267715455, 'rollout_return': -19.689677111968617, 'evaluation': -8.980322796776534}\u001b[0m \u001b[36mstep\u001b[0m=\u001b[35m8000\u001b[0m\n",
      "\u001b[2m2023-10-24 13:19:16\u001b[0m [\u001b[32m\u001b[1minfo     \u001b[0m] \u001b[1mexp_6_SAC_reacher_20231024131731: epoch=9 step=9000\u001b[0m \u001b[36mepoch\u001b[0m=\u001b[35m9\u001b[0m \u001b[36mmetrics\u001b[0m=\u001b[35m{'time_inference': 0.0011227147579193114, 'time_environment_step': 0.0001507439613342285, 'time_sample_batch': 0.0002896096706390381, 'time_algorithm_update': 0.010496538877487183, 'temp_loss': 0.4034876687824726, 'temp': 0.17718556793034076, 'critic_loss': 0.05152869961410761, 'actor_loss': 3.656183148622513, 'time_step': 0.01212944507598877, 'rollout_return': -16.976608915749317, 'evaluation': -9.066705912867874}\u001b[0m \u001b[36mstep\u001b[0m=\u001b[35m9000\u001b[0m\n",
      "\u001b[2m2023-10-24 13:19:29\u001b[0m [\u001b[32m\u001b[1minfo     \u001b[0m] \u001b[1mModel parameters are saved to d3rlpy_logs/exp_6_SAC_reacher_20231024131731/model_10000.pt\u001b[0m\n",
      "\u001b[2m2023-10-24 13:19:29\u001b[0m [\u001b[32m\u001b[1minfo     \u001b[0m] \u001b[1mexp_6_SAC_reacher_20231024131731: epoch=10 step=10000\u001b[0m \u001b[36mepoch\u001b[0m=\u001b[35m10\u001b[0m \u001b[36mmetrics\u001b[0m=\u001b[35m{'time_inference': 0.001126232624053955, 'time_environment_step': 0.0001498441696166992, 'time_sample_batch': 0.00029154324531555174, 'time_algorithm_update': 0.01050180196762085, 'temp_loss': 0.30260323716700077, 'temp': 0.14477050366997718, 'critic_loss': 0.053724050333723426, 'actor_loss': 4.834279475212097, 'time_step': 0.01213958978652954, 'rollout_return': -15.356254533240985, 'evaluation': -7.424645316316938}\u001b[0m \u001b[36mstep\u001b[0m=\u001b[35m10000\u001b[0m\n",
      "\u001b[2m2023-10-24 13:19:42\u001b[0m [\u001b[32m\u001b[1minfo     \u001b[0m] \u001b[1mexp_6_SAC_reacher_20231024131731: epoch=11 step=11000\u001b[0m \u001b[36mepoch\u001b[0m=\u001b[35m11\u001b[0m \u001b[36mmetrics\u001b[0m=\u001b[35m{'time_inference': 0.001127666711807251, 'time_environment_step': 0.00015011978149414063, 'time_sample_batch': 0.000294053316116333, 'time_algorithm_update': 0.010488412857055663, 'temp_loss': 0.2253029796630144, 'temp': 0.11856400460749865, 'critic_loss': 0.053452982369810345, 'actor_loss': 5.981903185844422, 'time_step': 0.012131229877471924, 'rollout_return': -14.28523812650622, 'evaluation': -7.138606720489422}\u001b[0m \u001b[36mstep\u001b[0m=\u001b[35m11000\u001b[0m\n",
      "\u001b[2m2023-10-24 13:19:54\u001b[0m [\u001b[32m\u001b[1minfo     \u001b[0m] \u001b[1mexp_6_SAC_reacher_20231024131731: epoch=12 step=12000\u001b[0m \u001b[36mepoch\u001b[0m=\u001b[35m12\u001b[0m \u001b[36mmetrics\u001b[0m=\u001b[35m{'time_inference': 0.001128615617752075, 'time_environment_step': 0.00015117454528808594, 'time_sample_batch': 0.0002966313362121582, 'time_algorithm_update': 0.010447376728057862, 'temp_loss': 0.16686319525539875, 'temp': 0.09741783627122641, 'critic_loss': 0.051784412387758494, 'actor_loss': 7.0437671661376955, 'time_step': 0.012094462633132935, 'rollout_return': -12.423755724086863, 'evaluation': -6.519722454985159}\u001b[0m \u001b[36mstep\u001b[0m=\u001b[35m12000\u001b[0m\n",
      "\u001b[2m2023-10-24 13:20:07\u001b[0m [\u001b[32m\u001b[1minfo     \u001b[0m] \u001b[1mexp_6_SAC_reacher_20231024131731: epoch=13 step=13000\u001b[0m \u001b[36mepoch\u001b[0m=\u001b[35m13\u001b[0m \u001b[36mmetrics\u001b[0m=\u001b[35m{'time_inference': 0.0011133675575256347, 'time_environment_step': 0.00014823007583618164, 'time_sample_batch': 0.0002957661151885986, 'time_algorithm_update': 0.010459226369857789, 'temp_loss': 0.1205584073662758, 'temp': 0.0803507039770484, 'critic_loss': 0.05029048378765583, 'actor_loss': 8.015881476402283, 'time_step': 0.01208730411529541, 'rollout_return': -9.272640096739003, 'evaluation': -7.020462289019664}\u001b[0m \u001b[36mstep\u001b[0m=\u001b[35m13000\u001b[0m\n",
      "\u001b[2m2023-10-24 13:20:20\u001b[0m [\u001b[32m\u001b[1minfo     \u001b[0m] \u001b[1mexp_6_SAC_reacher_20231024131731: epoch=14 step=14000\u001b[0m \u001b[36mepoch\u001b[0m=\u001b[35m14\u001b[0m \u001b[36mmetrics\u001b[0m=\u001b[35m{'time_inference': 0.00110748028755188, 'time_environment_step': 0.00014958596229553222, 'time_sample_batch': 0.0002917308807373047, 'time_algorithm_update': 0.010398831367492676, 'temp_loss': 0.08711324644088746, 'temp': 0.06661060467362404, 'critic_loss': 0.04725184075534344, 'actor_loss': 8.901968431472778, 'time_step': 0.012018149614334107, 'rollout_return': -10.56210514582415, 'evaluation': -6.581302813566178}\u001b[0m \u001b[36mstep\u001b[0m=\u001b[35m14000\u001b[0m\n",
      "\u001b[2m2023-10-24 13:20:32\u001b[0m [\u001b[32m\u001b[1minfo     \u001b[0m] \u001b[1mexp_6_SAC_reacher_20231024131731: epoch=15 step=15000\u001b[0m \u001b[36mepoch\u001b[0m=\u001b[35m15\u001b[0m \u001b[36mmetrics\u001b[0m=\u001b[35m{'time_inference': 0.0011323721408843994, 'time_environment_step': 0.00015014457702636718, 'time_sample_batch': 0.000299849271774292, 'time_algorithm_update': 0.010453533887863159, 'temp_loss': 0.061035067968070504, 'temp': 0.05551595764234662, 'critic_loss': 0.04563351572491228, 'actor_loss': 9.654368317604066, 'time_step': 0.012107242107391357, 'rollout_return': -8.357209789575819, 'evaluation': -8.222509763224098}\u001b[0m \u001b[36mstep\u001b[0m=\u001b[35m15000\u001b[0m\n",
      "\u001b[2m2023-10-24 13:20:45\u001b[0m [\u001b[32m\u001b[1minfo     \u001b[0m] \u001b[1mexp_6_SAC_reacher_20231024131731: epoch=16 step=16000\u001b[0m \u001b[36mepoch\u001b[0m=\u001b[35m16\u001b[0m \u001b[36mmetrics\u001b[0m=\u001b[35m{'time_inference': 0.0011110644340515136, 'time_environment_step': 0.00014710688591003417, 'time_sample_batch': 0.00029434895515441893, 'time_algorithm_update': 0.010325960159301758, 'temp_loss': 0.04280741604231298, 'temp': 0.04651860397681594, 'critic_loss': 0.04420458261296153, 'actor_loss': 10.323918414115905, 'time_step': 0.011948454141616821, 'rollout_return': -9.367706557820068, 'evaluation': -6.881586266489}\u001b[0m \u001b[36mstep\u001b[0m=\u001b[35m16000\u001b[0m\n",
      "\u001b[2m2023-10-24 13:20:57\u001b[0m [\u001b[32m\u001b[1minfo     \u001b[0m] \u001b[1mexp_6_SAC_reacher_20231024131731: epoch=17 step=17000\u001b[0m \u001b[36mepoch\u001b[0m=\u001b[35m17\u001b[0m \u001b[36mmetrics\u001b[0m=\u001b[35m{'time_inference': 0.0011121666431427003, 'time_environment_step': 0.0001473846435546875, 'time_sample_batch': 0.00029502081871032713, 'time_algorithm_update': 0.010450708389282226, 'temp_loss': 0.028728900987654925, 'temp': 0.03928612781316042, 'critic_loss': 0.043974013881757854, 'actor_loss': 10.886472593307495, 'time_step': 0.012075695753097535, 'rollout_return': -7.295968156975441, 'evaluation': -5.712302429830951}\u001b[0m \u001b[36mstep\u001b[0m=\u001b[35m17000\u001b[0m\n",
      "\u001b[2m2023-10-24 13:21:10\u001b[0m [\u001b[32m\u001b[1minfo     \u001b[0m] \u001b[1mexp_6_SAC_reacher_20231024131731: epoch=18 step=18000\u001b[0m \u001b[36mepoch\u001b[0m=\u001b[35m18\u001b[0m \u001b[36mmetrics\u001b[0m=\u001b[35m{'time_inference': 0.0011316254138946534, 'time_environment_step': 0.00014899349212646484, 'time_sample_batch': 0.0003064267635345459, 'time_algorithm_update': 0.010448252916336059, 'temp_loss': 0.01888268280774355, 'temp': 0.03350819974951446, 'critic_loss': 0.0428136723972857, 'actor_loss': 11.32035652732849, 'time_step': 0.012106502294540406, 'rollout_return': -6.671606107925378, 'evaluation': -6.61496378210048}\u001b[0m \u001b[36mstep\u001b[0m=\u001b[35m18000\u001b[0m\n",
      "\u001b[2m2023-10-24 13:21:23\u001b[0m [\u001b[32m\u001b[1minfo     \u001b[0m] \u001b[1mexp_6_SAC_reacher_20231024131731: epoch=19 step=19000\u001b[0m \u001b[36mepoch\u001b[0m=\u001b[35m19\u001b[0m \u001b[36mmetrics\u001b[0m=\u001b[35m{'time_inference': 0.0011063940525054931, 'time_environment_step': 0.00014746880531311035, 'time_sample_batch': 0.0003019435405731201, 'time_algorithm_update': 0.010444056272506714, 'temp_loss': 0.011378408998716623, 'temp': 0.028959765607491136, 'critic_loss': 0.04111939370259642, 'actor_loss': 11.654439814567565, 'time_step': 0.01207055163383484, 'rollout_return': -6.371066011825727, 'evaluation': -4.327741398077125}\u001b[0m \u001b[36mstep\u001b[0m=\u001b[35m19000\u001b[0m\n",
      "\u001b[2m2023-10-24 13:21:35\u001b[0m [\u001b[32m\u001b[1minfo     \u001b[0m] \u001b[1mModel parameters are saved to d3rlpy_logs/exp_6_SAC_reacher_20231024131731/model_20000.pt\u001b[0m\n",
      "\u001b[2m2023-10-24 13:21:35\u001b[0m [\u001b[32m\u001b[1minfo     \u001b[0m] \u001b[1mexp_6_SAC_reacher_20231024131731: epoch=20 step=20000\u001b[0m \u001b[36mepoch\u001b[0m=\u001b[35m20\u001b[0m \u001b[36mmetrics\u001b[0m=\u001b[35m{'time_inference': 0.0011193490028381348, 'time_environment_step': 0.00014540839195251463, 'time_sample_batch': 0.00029735827445983887, 'time_algorithm_update': 0.010416398763656616, 'temp_loss': 0.006604449823265896, 'temp': 0.02549862042069435, 'critic_loss': 0.042965745693072675, 'actor_loss': 11.939656663894654, 'time_step': 0.012047721147537232, 'rollout_return': -6.305129497913314, 'evaluation': -5.432171270404375}\u001b[0m \u001b[36mstep\u001b[0m=\u001b[35m20000\u001b[0m\n",
      "\u001b[2m2023-10-24 13:21:48\u001b[0m [\u001b[32m\u001b[1minfo     \u001b[0m] \u001b[1mexp_6_SAC_reacher_20231024131731: epoch=21 step=21000\u001b[0m \u001b[36mepoch\u001b[0m=\u001b[35m21\u001b[0m \u001b[36mmetrics\u001b[0m=\u001b[35m{'time_inference': 0.0011332945823669433, 'time_environment_step': 0.00014994096755981446, 'time_sample_batch': 0.00030772686004638673, 'time_algorithm_update': 0.010481441259384156, 'temp_loss': 0.0032228908295728617, 'temp': 0.022994396669790147, 'critic_loss': 0.04293767735175789, 'actor_loss': 12.174530291557312, 'time_step': 0.012143995523452758, 'rollout_return': -6.864698399355307, 'evaluation': -6.055877058082472}\u001b[0m \u001b[36mstep\u001b[0m=\u001b[35m21000\u001b[0m\n",
      "\u001b[2m2023-10-24 13:22:01\u001b[0m [\u001b[32m\u001b[1minfo     \u001b[0m] \u001b[1mexp_6_SAC_reacher_20231024131731: epoch=22 step=22000\u001b[0m \u001b[36mepoch\u001b[0m=\u001b[35m22\u001b[0m \u001b[36mmetrics\u001b[0m=\u001b[35m{'time_inference': 0.0011271328926086425, 'time_environment_step': 0.00014982247352600097, 'time_sample_batch': 0.0003090877532958984, 'time_algorithm_update': 0.0104931800365448, 'temp_loss': 0.001178388649408589, 'temp': 0.021431797718629242, 'critic_loss': 0.04086384010314941, 'actor_loss': 12.340927752494812, 'time_step': 0.012150696516036986, 'rollout_return': -6.18288134720573, 'evaluation': -4.953330018532169}\u001b[0m \u001b[36mstep\u001b[0m=\u001b[35m22000\u001b[0m\n",
      "\u001b[2m2023-10-24 13:22:13\u001b[0m [\u001b[32m\u001b[1minfo     \u001b[0m] \u001b[1mexp_6_SAC_reacher_20231024131731: epoch=23 step=23000\u001b[0m \u001b[36mepoch\u001b[0m=\u001b[35m23\u001b[0m \u001b[36mmetrics\u001b[0m=\u001b[35m{'time_inference': 0.0011199209690093994, 'time_environment_step': 0.0001486830711364746, 'time_sample_batch': 0.00030727267265319826, 'time_algorithm_update': 0.010452794551849364, 'temp_loss': 0.00043484933901345355, 'temp': 0.02058711666241288, 'critic_loss': 0.04246822484210134, 'actor_loss': 12.458367191314696, 'time_step': 0.012099846124649047, 'rollout_return': -5.841703592426741, 'evaluation': -5.256750332019066}\u001b[0m \u001b[36mstep\u001b[0m=\u001b[35m23000\u001b[0m\n",
      "\u001b[2m2023-10-24 13:22:26\u001b[0m [\u001b[32m\u001b[1minfo     \u001b[0m] \u001b[1mexp_6_SAC_reacher_20231024131731: epoch=24 step=24000\u001b[0m \u001b[36mepoch\u001b[0m=\u001b[35m24\u001b[0m \u001b[36mmetrics\u001b[0m=\u001b[35m{'time_inference': 0.0011225881576538085, 'time_environment_step': 0.0001480906009674072, 'time_sample_batch': 0.0003111882209777832, 'time_algorithm_update': 0.010515444993972778, 'temp_loss': -7.708771363832056e-05, 'temp': 0.02047448394820094, 'critic_loss': 0.039428597308695315, 'actor_loss': 12.53887083721161, 'time_step': 0.012168386936187743, 'rollout_return': -6.349354064641128, 'evaluation': -5.249394035322783}\u001b[0m \u001b[36mstep\u001b[0m=\u001b[35m24000\u001b[0m\n",
      "\u001b[2m2023-10-24 13:22:39\u001b[0m [\u001b[32m\u001b[1minfo     \u001b[0m] \u001b[1mexp_6_SAC_reacher_20231024131731: epoch=25 step=25000\u001b[0m \u001b[36mepoch\u001b[0m=\u001b[35m25\u001b[0m \u001b[36mmetrics\u001b[0m=\u001b[35m{'time_inference': 0.0011335976123809815, 'time_environment_step': 0.0001503612995147705, 'time_sample_batch': 0.0003135251998901367, 'time_algorithm_update': 0.01053089427947998, 'temp_loss': -2.3480571158870588e-05, 'temp': 0.020580456513911487, 'critic_loss': 0.0393005069475621, 'actor_loss': 12.608094135284423, 'time_step': 0.012199971675872803, 'rollout_return': -5.556937615949534, 'evaluation': -3.8428394898809577}\u001b[0m \u001b[36mstep\u001b[0m=\u001b[35m25000\u001b[0m\n",
      "\u001b[2m2023-10-24 13:22:52\u001b[0m [\u001b[32m\u001b[1minfo     \u001b[0m] \u001b[1mexp_6_SAC_reacher_20231024131731: epoch=26 step=26000\u001b[0m \u001b[36mepoch\u001b[0m=\u001b[35m26\u001b[0m \u001b[36mmetrics\u001b[0m=\u001b[35m{'time_inference': 0.001117861270904541, 'time_environment_step': 0.00014857029914855957, 'time_sample_batch': 0.00030720877647399903, 'time_algorithm_update': 0.010515470504760743, 'temp_loss': 3.170942792348796e-05, 'temp': 0.020599795527756214, 'critic_loss': 0.03953356889821589, 'actor_loss': 12.68144111251831, 'time_step': 0.012160401344299316, 'rollout_return': -6.0914072141103714, 'evaluation': -4.92420560996444}\u001b[0m \u001b[36mstep\u001b[0m=\u001b[35m26000\u001b[0m\n",
      "\u001b[2m2023-10-24 13:23:04\u001b[0m [\u001b[32m\u001b[1minfo     \u001b[0m] \u001b[1mexp_6_SAC_reacher_20231024131731: epoch=27 step=27000\u001b[0m \u001b[36mepoch\u001b[0m=\u001b[35m27\u001b[0m \u001b[36mmetrics\u001b[0m=\u001b[35m{'time_inference': 0.0011282374858856202, 'time_environment_step': 0.0001493375301361084, 'time_sample_batch': 0.000310502290725708, 'time_algorithm_update': 0.010500795364379882, 'temp_loss': -5.102228478062898e-05, 'temp': 0.020607243267819285, 'critic_loss': 0.03629526747018099, 'actor_loss': 12.745016417503358, 'time_step': 0.01216051173210144, 'rollout_return': -5.776140057245732, 'evaluation': -6.417367882956962}\u001b[0m \u001b[36mstep\u001b[0m=\u001b[35m27000\u001b[0m\n",
      "\u001b[2m2023-10-24 13:23:17\u001b[0m [\u001b[32m\u001b[1minfo     \u001b[0m] \u001b[1mexp_6_SAC_reacher_20231024131731: epoch=28 step=28000\u001b[0m \u001b[36mepoch\u001b[0m=\u001b[35m28\u001b[0m \u001b[36mmetrics\u001b[0m=\u001b[35m{'time_inference': 0.0011101226806640625, 'time_environment_step': 0.0001472635269165039, 'time_sample_batch': 0.00030518436431884767, 'time_algorithm_update': 0.010474982261657715, 'temp_loss': 2.5039066844328773e-05, 'temp': 0.02060475510917604, 'critic_loss': 0.036484092600643635, 'actor_loss': 12.808779712677001, 'time_step': 0.012107894659042358, 'rollout_return': -6.181786984355531, 'evaluation': -5.130724348255737}\u001b[0m \u001b[36mstep\u001b[0m=\u001b[35m28000\u001b[0m\n",
      "\u001b[2m2023-10-24 13:23:30\u001b[0m [\u001b[32m\u001b[1minfo     \u001b[0m] \u001b[1mexp_6_SAC_reacher_20231024131731: epoch=29 step=29000\u001b[0m \u001b[36mepoch\u001b[0m=\u001b[35m29\u001b[0m \u001b[36mmetrics\u001b[0m=\u001b[35m{'time_inference': 0.001136312484741211, 'time_environment_step': 0.00015177774429321288, 'time_sample_batch': 0.00031578207015991213, 'time_algorithm_update': 0.010539287567138672, 'temp_loss': -4.1460565786110236e-05, 'temp': 0.020615246558561923, 'critic_loss': 0.034589047748595475, 'actor_loss': 12.873892426490784, 'time_step': 0.01221467089653015, 'rollout_return': -6.214588717435608, 'evaluation': -4.196696450542786}\u001b[0m \u001b[36mstep\u001b[0m=\u001b[35m29000\u001b[0m\n",
      "\u001b[2m2023-10-24 13:23:42\u001b[0m [\u001b[32m\u001b[1minfo     \u001b[0m] \u001b[1mModel parameters are saved to d3rlpy_logs/exp_6_SAC_reacher_20231024131731/model_30000.pt\u001b[0m\n",
      "\u001b[2m2023-10-24 13:23:42\u001b[0m [\u001b[32m\u001b[1minfo     \u001b[0m] \u001b[1mexp_6_SAC_reacher_20231024131731: epoch=30 step=30000\u001b[0m \u001b[36mepoch\u001b[0m=\u001b[35m30\u001b[0m \u001b[36mmetrics\u001b[0m=\u001b[35m{'time_inference': 0.0011265296936035156, 'time_environment_step': 0.00014900565147399903, 'time_sample_batch': 0.0003115382194519043, 'time_algorithm_update': 0.010441189289093017, 'temp_loss': 3.055860100721475e-05, 'temp': 0.020744227277114988, 'critic_loss': 0.03343644971959293, 'actor_loss': 12.902472176551818, 'time_step': 0.012099657535552978, 'rollout_return': -5.222475595343311, 'evaluation': -4.085469527954386}\u001b[0m \u001b[36mstep\u001b[0m=\u001b[35m30000\u001b[0m\n",
      "\u001b[2m2023-10-24 13:23:55\u001b[0m [\u001b[32m\u001b[1minfo     \u001b[0m] \u001b[1mexp_6_SAC_reacher_20231024131731: epoch=31 step=31000\u001b[0m \u001b[36mepoch\u001b[0m=\u001b[35m31\u001b[0m \u001b[36mmetrics\u001b[0m=\u001b[35m{'time_inference': 0.0011138837337493896, 'time_environment_step': 0.0001478235721588135, 'time_sample_batch': 0.0003073420524597168, 'time_algorithm_update': 0.010406211853027343, 'temp_loss': -5.534564745903481e-05, 'temp': 0.02076007787324488, 'critic_loss': 0.03200348448753357, 'actor_loss': 12.939335512161255, 'time_step': 0.012046018600463866, 'rollout_return': -5.331428742565516, 'evaluation': -6.0384178187212365}\u001b[0m \u001b[36mstep\u001b[0m=\u001b[35m31000\u001b[0m\n",
      "\u001b[2m2023-10-24 13:24:08\u001b[0m [\u001b[32m\u001b[1minfo     \u001b[0m] \u001b[1mexp_6_SAC_reacher_20231024131731: epoch=32 step=32000\u001b[0m \u001b[36mepoch\u001b[0m=\u001b[35m32\u001b[0m \u001b[36mmetrics\u001b[0m=\u001b[35m{'time_inference': 0.001117138624191284, 'time_environment_step': 0.0001490781307220459, 'time_sample_batch': 0.0003157656192779541, 'time_algorithm_update': 0.010512017488479615, 'temp_loss': 2.9580884220195002e-06, 'temp': 0.020801832726225256, 'critic_loss': 0.03163191418163478, 'actor_loss': 12.95094400691986, 'time_step': 0.012164312362670899, 'rollout_return': -5.786224055188675, 'evaluation': -4.948765072369595}\u001b[0m \u001b[36mstep\u001b[0m=\u001b[35m32000\u001b[0m\n",
      "\u001b[2m2023-10-24 13:24:20\u001b[0m [\u001b[32m\u001b[1minfo     \u001b[0m] \u001b[1mexp_6_SAC_reacher_20231024131731: epoch=33 step=33000\u001b[0m \u001b[36mepoch\u001b[0m=\u001b[35m33\u001b[0m \u001b[36mmetrics\u001b[0m=\u001b[35m{'time_inference': 0.0011260881423950195, 'time_environment_step': 0.00014842629432678222, 'time_sample_batch': 0.00031555819511413575, 'time_algorithm_update': 0.010531689643859863, 'temp_loss': 3.46748176307301e-05, 'temp': 0.02082124291919172, 'critic_loss': 0.031237541425973177, 'actor_loss': 12.976131365776062, 'time_step': 0.012192738771438599, 'rollout_return': -6.303427945622929, 'evaluation': -4.581991462916063}\u001b[0m \u001b[36mstep\u001b[0m=\u001b[35m33000\u001b[0m\n",
      "\u001b[2m2023-10-24 13:24:33\u001b[0m [\u001b[32m\u001b[1minfo     \u001b[0m] \u001b[1mexp_6_SAC_reacher_20231024131731: epoch=34 step=34000\u001b[0m \u001b[36mepoch\u001b[0m=\u001b[35m34\u001b[0m \u001b[36mmetrics\u001b[0m=\u001b[35m{'time_inference': 0.0011215989589691163, 'time_environment_step': 0.00014802408218383788, 'time_sample_batch': 0.0003169105052947998, 'time_algorithm_update': 0.010496123552322387, 'temp_loss': -8.873979529016652e-05, 'temp': 0.020898519901558756, 'critic_loss': 0.030733467711135744, 'actor_loss': 13.000039356231689, 'time_step': 0.012153299570083619, 'rollout_return': -5.775336141260238, 'evaluation': -4.59984180207864}\u001b[0m \u001b[36mstep\u001b[0m=\u001b[35m34000\u001b[0m\n",
      "\u001b[2m2023-10-24 13:24:46\u001b[0m [\u001b[32m\u001b[1minfo     \u001b[0m] \u001b[1mexp_6_SAC_reacher_20231024131731: epoch=35 step=35000\u001b[0m \u001b[36mepoch\u001b[0m=\u001b[35m35\u001b[0m \u001b[36mmetrics\u001b[0m=\u001b[35m{'time_inference': 0.0011252729892730713, 'time_environment_step': 0.00014951586723327637, 'time_sample_batch': 0.0003248131275177002, 'time_algorithm_update': 0.010531024217605591, 'temp_loss': 2.480627386830747e-05, 'temp': 0.021048250958323477, 'critic_loss': 0.030819967141374947, 'actor_loss': 13.006709261894226, 'time_step': 0.012201664447784423, 'rollout_return': -4.909478532773004, 'evaluation': -4.14229045041102}\u001b[0m \u001b[36mstep\u001b[0m=\u001b[35m35000\u001b[0m\n",
      "\u001b[2m2023-10-24 13:24:59\u001b[0m [\u001b[32m\u001b[1minfo     \u001b[0m] \u001b[1mexp_6_SAC_reacher_20231024131731: epoch=36 step=36000\u001b[0m \u001b[36mepoch\u001b[0m=\u001b[35m36\u001b[0m \u001b[36mmetrics\u001b[0m=\u001b[35m{'time_inference': 0.001126467227935791, 'time_environment_step': 0.00015041494369506835, 'time_sample_batch': 0.000318709135055542, 'time_algorithm_update': 0.010456491708755494, 'temp_loss': -3.918327909195796e-05, 'temp': 0.02114277405664325, 'critic_loss': 0.029910833785310387, 'actor_loss': 12.993842100143432, 'time_step': 0.012123431921005248, 'rollout_return': -5.15730639849849, 'evaluation': -3.7085610587962847}\u001b[0m \u001b[36mstep\u001b[0m=\u001b[35m36000\u001b[0m\n",
      "\u001b[2m2023-10-24 13:25:11\u001b[0m [\u001b[32m\u001b[1minfo     \u001b[0m] \u001b[1mexp_6_SAC_reacher_20231024131731: epoch=37 step=37000\u001b[0m \u001b[36mepoch\u001b[0m=\u001b[35m37\u001b[0m \u001b[36mmetrics\u001b[0m=\u001b[35m{'time_inference': 0.001143019437789917, 'time_environment_step': 0.000152479887008667, 'time_sample_batch': 0.000323042631149292, 'time_algorithm_update': 0.010488274335861206, 'temp_loss': -5.4781286293291485e-05, 'temp': 0.02139504244364798, 'critic_loss': 0.029759730722755194, 'actor_loss': 13.00502590084076, 'time_step': 0.012179072618484497, 'rollout_return': -5.921646997363669, 'evaluation': -4.093185898016159}\u001b[0m \u001b[36mstep\u001b[0m=\u001b[35m37000\u001b[0m\n",
      "\u001b[2m2023-10-24 13:25:24\u001b[0m [\u001b[32m\u001b[1minfo     \u001b[0m] \u001b[1mexp_6_SAC_reacher_20231024131731: epoch=38 step=38000\u001b[0m \u001b[36mepoch\u001b[0m=\u001b[35m38\u001b[0m \u001b[36mmetrics\u001b[0m=\u001b[35m{'time_inference': 0.0011200437545776367, 'time_environment_step': 0.0001503608226776123, 'time_sample_batch': 0.00031871724128723145, 'time_algorithm_update': 0.010520294427871705, 'temp_loss': -1.5349024906754493e-05, 'temp': 0.021403002174571157, 'critic_loss': 0.029495960677042604, 'actor_loss': 12.985657476425171, 'time_step': 0.012180766582489014, 'rollout_return': -5.844477105874145, 'evaluation': -4.762300544965809}\u001b[0m \u001b[36mstep\u001b[0m=\u001b[35m38000\u001b[0m\n",
      "\u001b[2m2023-10-24 13:25:37\u001b[0m [\u001b[32m\u001b[1minfo     \u001b[0m] \u001b[1mexp_6_SAC_reacher_20231024131731: epoch=39 step=39000\u001b[0m \u001b[36mepoch\u001b[0m=\u001b[35m39\u001b[0m \u001b[36mmetrics\u001b[0m=\u001b[35m{'time_inference': 0.0011355855464935303, 'time_environment_step': 0.00015045166015625, 'time_sample_batch': 0.00032436323165893556, 'time_algorithm_update': 0.010440363645553589, 'temp_loss': 0.0001026933788889437, 'temp': 0.021439095227047802, 'critic_loss': 0.028802930740639568, 'actor_loss': 12.979446908950806, 'time_step': 0.01212272047996521, 'rollout_return': -5.506317478059605, 'evaluation': -4.339635906240709}\u001b[0m \u001b[36mstep\u001b[0m=\u001b[35m39000\u001b[0m\n",
      "\u001b[2m2023-10-24 13:25:50\u001b[0m [\u001b[32m\u001b[1minfo     \u001b[0m] \u001b[1mModel parameters are saved to d3rlpy_logs/exp_6_SAC_reacher_20231024131731/model_40000.pt\u001b[0m\n",
      "\u001b[2m2023-10-24 13:25:50\u001b[0m [\u001b[32m\u001b[1minfo     \u001b[0m] \u001b[1mexp_6_SAC_reacher_20231024131731: epoch=40 step=40000\u001b[0m \u001b[36mepoch\u001b[0m=\u001b[35m40\u001b[0m \u001b[36mmetrics\u001b[0m=\u001b[35m{'time_inference': 0.0011291944980621339, 'time_environment_step': 0.00015008878707885743, 'time_sample_batch': 0.00032070136070251463, 'time_algorithm_update': 0.010464048624038696, 'temp_loss': -0.0001289166134374682, 'temp': 0.021435924177989365, 'critic_loss': 0.028088957069441676, 'actor_loss': 12.95921182155609, 'time_step': 0.012135916471481323, 'rollout_return': -6.169739223197583, 'evaluation': -4.287396506887331}\u001b[0m \u001b[36mstep\u001b[0m=\u001b[35m40000\u001b[0m\n",
      "\u001b[2m2023-10-24 13:26:02\u001b[0m [\u001b[32m\u001b[1minfo     \u001b[0m] \u001b[1mexp_6_SAC_reacher_20231024131731: epoch=41 step=41000\u001b[0m \u001b[36mepoch\u001b[0m=\u001b[35m41\u001b[0m \u001b[36mmetrics\u001b[0m=\u001b[35m{'time_inference': 0.0011197242736816406, 'time_environment_step': 0.00014899110794067383, 'time_sample_batch': 0.0003186185359954834, 'time_algorithm_update': 0.010449307203292848, 'temp_loss': 8.495496426621684e-05, 'temp': 0.021368723126128315, 'critic_loss': 0.02762848260719329, 'actor_loss': 12.932737662315368, 'time_step': 0.012107845306396484, 'rollout_return': -5.307874986481453, 'evaluation': -5.27224821909585}\u001b[0m \u001b[36mstep\u001b[0m=\u001b[35m41000\u001b[0m\n",
      "\u001b[2m2023-10-24 13:26:15\u001b[0m [\u001b[32m\u001b[1minfo     \u001b[0m] \u001b[1mexp_6_SAC_reacher_20231024131731: epoch=42 step=42000\u001b[0m \u001b[36mepoch\u001b[0m=\u001b[35m42\u001b[0m \u001b[36mmetrics\u001b[0m=\u001b[35m{'time_inference': 0.0011318924427032471, 'time_environment_step': 0.0001507894992828369, 'time_sample_batch': 0.00032476854324340823, 'time_algorithm_update': 0.01051971435546875, 'temp_loss': -3.72956607316155e-06, 'temp': 0.02135716350004077, 'critic_loss': 0.027509231247007847, 'actor_loss': 12.909219145774841, 'time_step': 0.012199002504348754, 'rollout_return': -5.701317975393556, 'evaluation': -4.835773597168741}\u001b[0m \u001b[36mstep\u001b[0m=\u001b[35m42000\u001b[0m\n",
      "\u001b[2m2023-10-24 13:26:28\u001b[0m [\u001b[32m\u001b[1minfo     \u001b[0m] \u001b[1mexp_6_SAC_reacher_20231024131731: epoch=43 step=43000\u001b[0m \u001b[36mepoch\u001b[0m=\u001b[35m43\u001b[0m \u001b[36mmetrics\u001b[0m=\u001b[35m{'time_inference': 0.0011200132369995118, 'time_environment_step': 0.0001506495475769043, 'time_sample_batch': 0.00031882858276367185, 'time_algorithm_update': 0.010478075504302978, 'temp_loss': -6.881493027321995e-08, 'temp': 0.021371190078556538, 'critic_loss': 0.027180473847314715, 'actor_loss': 12.87091589164734, 'time_step': 0.012138979673385621, 'rollout_return': -5.448403748702633, 'evaluation': -4.7517825403559}\u001b[0m \u001b[36mstep\u001b[0m=\u001b[35m43000\u001b[0m\n",
      "\u001b[2m2023-10-24 13:26:40\u001b[0m [\u001b[32m\u001b[1minfo     \u001b[0m] \u001b[1mexp_6_SAC_reacher_20231024131731: epoch=44 step=44000\u001b[0m \u001b[36mepoch\u001b[0m=\u001b[35m44\u001b[0m \u001b[36mmetrics\u001b[0m=\u001b[35m{'time_inference': 0.0011134035587310792, 'time_environment_step': 0.0001470518112182617, 'time_sample_batch': 0.00031835556030273437, 'time_algorithm_update': 0.010464534759521485, 'temp_loss': -4.6728023458854295e-05, 'temp': 0.021412910975515842, 'critic_loss': 0.026449309828691186, 'actor_loss': 12.835858704566956, 'time_step': 0.01211335802078247, 'rollout_return': -5.682374014073932, 'evaluation': -4.248582927292485}\u001b[0m \u001b[36mstep\u001b[0m=\u001b[35m44000\u001b[0m\n",
      "\u001b[2m2023-10-24 13:26:53\u001b[0m [\u001b[32m\u001b[1minfo     \u001b[0m] \u001b[1mexp_6_SAC_reacher_20231024131731: epoch=45 step=45000\u001b[0m \u001b[36mepoch\u001b[0m=\u001b[35m45\u001b[0m \u001b[36mmetrics\u001b[0m=\u001b[35m{'time_inference': 0.0011266798973083496, 'time_environment_step': 0.00014973807334899903, 'time_sample_batch': 0.00032498764991760253, 'time_algorithm_update': 0.010482494115829468, 'temp_loss': -4.871630755224032e-05, 'temp': 0.021541490364819765, 'critic_loss': 0.02679688281752169, 'actor_loss': 12.813250990867616, 'time_step': 0.012154482841491699, 'rollout_return': -5.301074756082859, 'evaluation': -4.2018154462841295}\u001b[0m \u001b[36mstep\u001b[0m=\u001b[35m45000\u001b[0m\n",
      "\u001b[2m2023-10-24 13:27:06\u001b[0m [\u001b[32m\u001b[1minfo     \u001b[0m] \u001b[1mexp_6_SAC_reacher_20231024131731: epoch=46 step=46000\u001b[0m \u001b[36mepoch\u001b[0m=\u001b[35m46\u001b[0m \u001b[36mmetrics\u001b[0m=\u001b[35m{'time_inference': 0.0011210262775421143, 'time_environment_step': 0.00014785432815551757, 'time_sample_batch': 0.00031740665435791015, 'time_algorithm_update': 0.010440492630004882, 'temp_loss': 2.2780982209951615e-05, 'temp': 0.021472417829558253, 'critic_loss': 0.027526813792996107, 'actor_loss': 12.797116347312928, 'time_step': 0.012097695112228394, 'rollout_return': -6.527398499632723, 'evaluation': -4.472530413509462}\u001b[0m \u001b[36mstep\u001b[0m=\u001b[35m46000\u001b[0m\n",
      "\u001b[2m2023-10-24 13:27:18\u001b[0m [\u001b[32m\u001b[1minfo     \u001b[0m] \u001b[1mexp_6_SAC_reacher_20231024131731: epoch=47 step=47000\u001b[0m \u001b[36mepoch\u001b[0m=\u001b[35m47\u001b[0m \u001b[36mmetrics\u001b[0m=\u001b[35m{'time_inference': 0.0011351628303527832, 'time_environment_step': 0.0001517491340637207, 'time_sample_batch': 0.0003298008441925049, 'time_algorithm_update': 0.010538084983825684, 'temp_loss': 6.139491306385025e-07, 'temp': 0.021580755684524774, 'critic_loss': 0.025963420402258634, 'actor_loss': 12.762976194381714, 'time_step': 0.012226159334182739, 'rollout_return': -5.12699373713544, 'evaluation': -4.403888842193652}\u001b[0m \u001b[36mstep\u001b[0m=\u001b[35m47000\u001b[0m\n",
      "\u001b[2m2023-10-24 13:27:31\u001b[0m [\u001b[32m\u001b[1minfo     \u001b[0m] \u001b[1mexp_6_SAC_reacher_20231024131731: epoch=48 step=48000\u001b[0m \u001b[36mepoch\u001b[0m=\u001b[35m48\u001b[0m \u001b[36mmetrics\u001b[0m=\u001b[35m{'time_inference': 0.0011199455261230468, 'time_environment_step': 0.00015200233459472656, 'time_sample_batch': 0.0003254146575927734, 'time_algorithm_update': 0.010426162958145142, 'temp_loss': -2.1168262930586935e-05, 'temp': 0.02165116037800908, 'critic_loss': 0.025550593573600053, 'actor_loss': 12.737436549186707, 'time_step': 0.012095369100570678, 'rollout_return': -4.9270496180055385, 'evaluation': -4.5326600556395364}\u001b[0m \u001b[36mstep\u001b[0m=\u001b[35m48000\u001b[0m\n",
      "\u001b[2m2023-10-24 13:27:44\u001b[0m [\u001b[32m\u001b[1minfo     \u001b[0m] \u001b[1mexp_6_SAC_reacher_20231024131731: epoch=49 step=49000\u001b[0m \u001b[36mepoch\u001b[0m=\u001b[35m49\u001b[0m \u001b[36mmetrics\u001b[0m=\u001b[35m{'time_inference': 0.0011288657188415526, 'time_environment_step': 0.00014867520332336427, 'time_sample_batch': 0.00032485246658325195, 'time_algorithm_update': 0.010497756242752076, 'temp_loss': 3.5046689154114574e-06, 'temp': 0.02177641272544861, 'critic_loss': 0.024537644925527274, 'actor_loss': 12.706586455345153, 'time_step': 0.012170758247375488, 'rollout_return': -5.460087495332198, 'evaluation': -3.719484429836117}\u001b[0m \u001b[36mstep\u001b[0m=\u001b[35m49000\u001b[0m\n",
      "\u001b[2m2023-10-24 13:27:57\u001b[0m [\u001b[32m\u001b[1minfo     \u001b[0m] \u001b[1mModel parameters are saved to d3rlpy_logs/exp_6_SAC_reacher_20231024131731/model_50000.pt\u001b[0m\n",
      "\u001b[2m2023-10-24 13:27:57\u001b[0m [\u001b[32m\u001b[1minfo     \u001b[0m] \u001b[1mexp_6_SAC_reacher_20231024131731: epoch=50 step=50000\u001b[0m \u001b[36mepoch\u001b[0m=\u001b[35m50\u001b[0m \u001b[36mmetrics\u001b[0m=\u001b[35m{'time_inference': 0.0011848080158233642, 'time_environment_step': 0.00015636014938354492, 'time_sample_batch': 0.00033578872680664065, 'time_algorithm_update': 0.010789047002792358, 'temp_loss': -6.772345138597302e-05, 'temp': 0.0217792725302279, 'critic_loss': 0.02526631881389767, 'actor_loss': 12.684320163726806, 'time_step': 0.012540141582489013, 'rollout_return': -5.028825627385871, 'evaluation': -4.2145025339918645}\u001b[0m \u001b[36mstep\u001b[0m=\u001b[35m50000\u001b[0m\n",
      "\u001b[2m2023-10-24 13:28:10\u001b[0m [\u001b[32m\u001b[1minfo     \u001b[0m] \u001b[1mexp_6_SAC_reacher_20231024131731: epoch=51 step=51000\u001b[0m \u001b[36mepoch\u001b[0m=\u001b[35m51\u001b[0m \u001b[36mmetrics\u001b[0m=\u001b[35m{'time_inference': 0.0011739237308502196, 'time_environment_step': 0.00015421032905578612, 'time_sample_batch': 0.0003301663398742676, 'time_algorithm_update': 0.010655391693115234, 'temp_loss': 1.617909030028386e-05, 'temp': 0.021927568200975658, 'critic_loss': 0.024723721337504685, 'actor_loss': 12.650374556541443, 'time_step': 0.012387170553207398, 'rollout_return': -6.027538302880657, 'evaluation': -4.763194204481736}\u001b[0m \u001b[36mstep\u001b[0m=\u001b[35m51000\u001b[0m\n",
      "\u001b[2m2023-10-24 13:28:22\u001b[0m [\u001b[32m\u001b[1minfo     \u001b[0m] \u001b[1mexp_6_SAC_reacher_20231024131731: epoch=52 step=52000\u001b[0m \u001b[36mepoch\u001b[0m=\u001b[35m52\u001b[0m \u001b[36mmetrics\u001b[0m=\u001b[35m{'time_inference': 0.0011018965244293214, 'time_environment_step': 0.00014471197128295899, 'time_sample_batch': 0.0003192477226257324, 'time_algorithm_update': 0.010316785097122192, 'temp_loss': -4.619966872269288e-05, 'temp': 0.022064612094312906, 'critic_loss': 0.023025377074256538, 'actor_loss': 12.613147592544555, 'time_step': 0.011951000928878784, 'rollout_return': -5.268930916867584, 'evaluation': -4.224472831682837}\u001b[0m \u001b[36mstep\u001b[0m=\u001b[35m52000\u001b[0m\n",
      "\u001b[2m2023-10-24 13:28:35\u001b[0m [\u001b[32m\u001b[1minfo     \u001b[0m] \u001b[1mexp_6_SAC_reacher_20231024131731: epoch=53 step=53000\u001b[0m \u001b[36mepoch\u001b[0m=\u001b[35m53\u001b[0m \u001b[36mmetrics\u001b[0m=\u001b[35m{'time_inference': 0.0010897891521453858, 'time_environment_step': 0.00014203071594238282, 'time_sample_batch': 0.0003132309913635254, 'time_algorithm_update': 0.010247554779052735, 'temp_loss': 6.848719407571479e-05, 'temp': 0.02219625584036112, 'critic_loss': 0.022142531803809106, 'actor_loss': 12.584212555885316, 'time_step': 0.011860944986343384, 'rollout_return': -5.314472452737277, 'evaluation': -4.177202805404934}\u001b[0m \u001b[36mstep\u001b[0m=\u001b[35m53000\u001b[0m\n",
      "\u001b[2m2023-10-24 13:28:48\u001b[0m [\u001b[32m\u001b[1minfo     \u001b[0m] \u001b[1mexp_6_SAC_reacher_20231024131731: epoch=54 step=54000\u001b[0m \u001b[36mepoch\u001b[0m=\u001b[35m54\u001b[0m \u001b[36mmetrics\u001b[0m=\u001b[35m{'time_inference': 0.0011526086330413817, 'time_environment_step': 0.0001488795280456543, 'time_sample_batch': 0.0003226778507232666, 'time_algorithm_update': 0.010618560314178467, 'temp_loss': -9.185844693274702e-05, 'temp': 0.021967560816556216, 'critic_loss': 0.022892423438839616, 'actor_loss': 12.540826431274414, 'time_step': 0.012314801216125488, 'rollout_return': -5.489382917055922, 'evaluation': -4.592726422076077}\u001b[0m \u001b[36mstep\u001b[0m=\u001b[35m54000\u001b[0m\n",
      "\u001b[2m2023-10-24 13:29:00\u001b[0m [\u001b[32m\u001b[1minfo     \u001b[0m] \u001b[1mexp_6_SAC_reacher_20231024131731: epoch=55 step=55000\u001b[0m \u001b[36mepoch\u001b[0m=\u001b[35m55\u001b[0m \u001b[36mmetrics\u001b[0m=\u001b[35m{'time_inference': 0.0010813312530517578, 'time_environment_step': 0.00014174604415893554, 'time_sample_batch': 0.00030854153633117675, 'time_algorithm_update': 0.010243936777114868, 'temp_loss': 6.033514616137836e-05, 'temp': 0.022142100842669606, 'critic_loss': 0.022333336422219872, 'actor_loss': 12.516114652633666, 'time_step': 0.011844159603118897, 'rollout_return': -5.194504816333861, 'evaluation': -4.171376949883748}\u001b[0m \u001b[36mstep\u001b[0m=\u001b[35m55000\u001b[0m\n",
      "\u001b[2m2023-10-24 13:29:12\u001b[0m [\u001b[32m\u001b[1minfo     \u001b[0m] \u001b[1mexp_6_SAC_reacher_20231024131731: epoch=56 step=56000\u001b[0m \u001b[36mepoch\u001b[0m=\u001b[35m56\u001b[0m \u001b[36mmetrics\u001b[0m=\u001b[35m{'time_inference': 0.0010738332271575928, 'time_environment_step': 0.00013897109031677245, 'time_sample_batch': 0.0003086833953857422, 'time_algorithm_update': 0.010148897886276246, 'temp_loss': 6.210467632627115e-06, 'temp': 0.022008835775777696, 'critic_loss': 0.023134290289133788, 'actor_loss': 12.459452159881591, 'time_step': 0.011737516403198242, 'rollout_return': -4.516372783034827, 'evaluation': -4.506274189565157}\u001b[0m \u001b[36mstep\u001b[0m=\u001b[35m56000\u001b[0m\n",
      "\u001b[2m2023-10-24 13:29:25\u001b[0m [\u001b[32m\u001b[1minfo     \u001b[0m] \u001b[1mexp_6_SAC_reacher_20231024131731: epoch=57 step=57000\u001b[0m \u001b[36mepoch\u001b[0m=\u001b[35m57\u001b[0m \u001b[36mmetrics\u001b[0m=\u001b[35m{'time_inference': 0.0010796856880187988, 'time_environment_step': 0.00014081239700317383, 'time_sample_batch': 0.00031599235534667967, 'time_algorithm_update': 0.010234671115875244, 'temp_loss': -6.355220166005892e-05, 'temp': 0.022142717560753228, 'critic_loss': 0.02145577364601195, 'actor_loss': 12.422549695014954, 'time_step': 0.01183858060836792, 'rollout_return': -5.4638602034616195, 'evaluation': -4.878594553473045}\u001b[0m \u001b[36mstep\u001b[0m=\u001b[35m57000\u001b[0m\n",
      "\u001b[2m2023-10-24 13:29:37\u001b[0m [\u001b[32m\u001b[1minfo     \u001b[0m] \u001b[1mexp_6_SAC_reacher_20231024131731: epoch=58 step=58000\u001b[0m \u001b[36mepoch\u001b[0m=\u001b[35m58\u001b[0m \u001b[36mmetrics\u001b[0m=\u001b[35m{'time_inference': 0.0010811212062835694, 'time_environment_step': 0.0001426537036895752, 'time_sample_batch': 0.0003184783458709717, 'time_algorithm_update': 0.010299259424209594, 'temp_loss': 8.809693471266655e-05, 'temp': 0.02211719193868339, 'critic_loss': 0.02154239463992417, 'actor_loss': 12.38562986278534, 'time_step': 0.01190939474105835, 'rollout_return': -5.564280526095955, 'evaluation': -5.960517880340847}\u001b[0m \u001b[36mstep\u001b[0m=\u001b[35m58000\u001b[0m\n",
      "\u001b[2m2023-10-24 13:29:50\u001b[0m [\u001b[32m\u001b[1minfo     \u001b[0m] \u001b[1mexp_6_SAC_reacher_20231024131731: epoch=59 step=59000\u001b[0m \u001b[36mepoch\u001b[0m=\u001b[35m59\u001b[0m \u001b[36mmetrics\u001b[0m=\u001b[35m{'time_inference': 0.0010897350311279298, 'time_environment_step': 0.00014131402969360353, 'time_sample_batch': 0.0003159940242767334, 'time_algorithm_update': 0.010267272233963013, 'temp_loss': -2.06302751248586e-05, 'temp': 0.02199465110898018, 'critic_loss': 0.020334654623642565, 'actor_loss': 12.336714659690857, 'time_step': 0.011881965398788451, 'rollout_return': -5.521291870195225, 'evaluation': -3.2492980974929653}\u001b[0m \u001b[36mstep\u001b[0m=\u001b[35m59000\u001b[0m\n",
      "\u001b[2m2023-10-24 13:30:02\u001b[0m [\u001b[32m\u001b[1minfo     \u001b[0m] \u001b[1mModel parameters are saved to d3rlpy_logs/exp_6_SAC_reacher_20231024131731/model_60000.pt\u001b[0m\n",
      "\u001b[2m2023-10-24 13:30:02\u001b[0m [\u001b[32m\u001b[1minfo     \u001b[0m] \u001b[1mexp_6_SAC_reacher_20231024131731: epoch=60 step=60000\u001b[0m \u001b[36mepoch\u001b[0m=\u001b[35m60\u001b[0m \u001b[36mmetrics\u001b[0m=\u001b[35m{'time_inference': 0.0010948586463928223, 'time_environment_step': 0.0001425173282623291, 'time_sample_batch': 0.00031769514083862304, 'time_algorithm_update': 0.010273743152618408, 'temp_loss': -1.4552330554579384e-05, 'temp': 0.02197446526773274, 'critic_loss': 0.0203714018156752, 'actor_loss': 12.295751385688781, 'time_step': 0.01189690852165222, 'rollout_return': -5.320215470376743, 'evaluation': -4.52257160752796}\u001b[0m \u001b[36mstep\u001b[0m=\u001b[35m60000\u001b[0m\n",
      "\u001b[2m2023-10-24 13:30:15\u001b[0m [\u001b[32m\u001b[1minfo     \u001b[0m] \u001b[1mexp_6_SAC_reacher_20231024131731: epoch=61 step=61000\u001b[0m \u001b[36mepoch\u001b[0m=\u001b[35m61\u001b[0m \u001b[36mmetrics\u001b[0m=\u001b[35m{'time_inference': 0.0010866997241973876, 'time_environment_step': 0.0001418142318725586, 'time_sample_batch': 0.0003131535053253174, 'time_algorithm_update': 0.010248785734176636, 'temp_loss': -3.570792630853248e-05, 'temp': 0.022040431002154946, 'critic_loss': 0.019807261406444013, 'actor_loss': 12.254871455192566, 'time_step': 0.011858611583709718, 'rollout_return': -5.193921871651336, 'evaluation': -4.556380436649238}\u001b[0m \u001b[36mstep\u001b[0m=\u001b[35m61000\u001b[0m\n",
      "\u001b[2m2023-10-24 13:30:27\u001b[0m [\u001b[32m\u001b[1minfo     \u001b[0m] \u001b[1mexp_6_SAC_reacher_20231024131731: epoch=62 step=62000\u001b[0m \u001b[36mepoch\u001b[0m=\u001b[35m62\u001b[0m \u001b[36mmetrics\u001b[0m=\u001b[35m{'time_inference': 0.0010948886871337891, 'time_environment_step': 0.0001437845230102539, 'time_sample_batch': 0.0003181488513946533, 'time_algorithm_update': 0.0102633159160614, 'temp_loss': -3.616319329012185e-06, 'temp': 0.02201909433491528, 'critic_loss': 0.01874489411804825, 'actor_loss': 12.220061833381653, 'time_step': 0.011888576745986939, 'rollout_return': -5.356768425543784, 'evaluation': -3.7044616310945306}\u001b[0m \u001b[36mstep\u001b[0m=\u001b[35m62000\u001b[0m\n",
      "\u001b[2m2023-10-24 13:30:40\u001b[0m [\u001b[32m\u001b[1minfo     \u001b[0m] \u001b[1mexp_6_SAC_reacher_20231024131731: epoch=63 step=63000\u001b[0m \u001b[36mepoch\u001b[0m=\u001b[35m63\u001b[0m \u001b[36mmetrics\u001b[0m=\u001b[35m{'time_inference': 0.0010863673686981202, 'time_environment_step': 0.0001421988010406494, 'time_sample_batch': 0.00031017374992370605, 'time_algorithm_update': 0.010240395784378051, 'temp_loss': 9.499863015662413e-05, 'temp': 0.021947802275419235, 'critic_loss': 0.019111362515948714, 'actor_loss': 12.188039861679076, 'time_step': 0.011846105813980103, 'rollout_return': -5.302432559524061, 'evaluation': -4.11306993354424}\u001b[0m \u001b[36mstep\u001b[0m=\u001b[35m63000\u001b[0m\n",
      "\u001b[2m2023-10-24 13:30:52\u001b[0m [\u001b[32m\u001b[1minfo     \u001b[0m] \u001b[1mexp_6_SAC_reacher_20231024131731: epoch=64 step=64000\u001b[0m \u001b[36mepoch\u001b[0m=\u001b[35m64\u001b[0m \u001b[36mmetrics\u001b[0m=\u001b[35m{'time_inference': 0.0010885930061340333, 'time_environment_step': 0.00013984990119934082, 'time_sample_batch': 0.00031197404861450193, 'time_algorithm_update': 0.01022725009918213, 'temp_loss': -1.5708693892520387e-05, 'temp': 0.0219306458029896, 'critic_loss': 0.01884426869545132, 'actor_loss': 12.147851410865783, 'time_step': 0.011834950685501099, 'rollout_return': -5.171325661756912, 'evaluation': -3.705847190698004}\u001b[0m \u001b[36mstep\u001b[0m=\u001b[35m64000\u001b[0m\n",
      "\u001b[2m2023-10-24 13:31:04\u001b[0m [\u001b[32m\u001b[1minfo     \u001b[0m] \u001b[1mexp_6_SAC_reacher_20231024131731: epoch=65 step=65000\u001b[0m \u001b[36mepoch\u001b[0m=\u001b[35m65\u001b[0m \u001b[36mmetrics\u001b[0m=\u001b[35m{'time_inference': 0.001087035894393921, 'time_environment_step': 0.00014030790328979493, 'time_sample_batch': 0.000315662145614624, 'time_algorithm_update': 0.010259492874145508, 'temp_loss': 8.208970320993103e-06, 'temp': 0.021858442617580295, 'critic_loss': 0.019307394444011153, 'actor_loss': 12.096398021697999, 'time_step': 0.011870185613632202, 'rollout_return': -4.322784495879535, 'evaluation': -4.677749161910467}\u001b[0m \u001b[36mstep\u001b[0m=\u001b[35m65000\u001b[0m\n",
      "\u001b[2m2023-10-24 13:31:17\u001b[0m [\u001b[32m\u001b[1minfo     \u001b[0m] \u001b[1mexp_6_SAC_reacher_20231024131731: epoch=66 step=66000\u001b[0m \u001b[36mepoch\u001b[0m=\u001b[35m66\u001b[0m \u001b[36mmetrics\u001b[0m=\u001b[35m{'time_inference': 0.0011023812294006347, 'time_environment_step': 0.00014277815818786622, 'time_sample_batch': 0.0003205420970916748, 'time_algorithm_update': 0.010262678146362305, 'temp_loss': -4.2266748001566155e-05, 'temp': 0.022139062890782952, 'critic_loss': 0.018459006680175662, 'actor_loss': 12.040427311897277, 'time_step': 0.011896996974945069, 'rollout_return': -5.795958532036585, 'evaluation': -4.53354980230972}\u001b[0m \u001b[36mstep\u001b[0m=\u001b[35m66000\u001b[0m\n",
      "\u001b[2m2023-10-24 13:31:29\u001b[0m [\u001b[32m\u001b[1minfo     \u001b[0m] \u001b[1mexp_6_SAC_reacher_20231024131731: epoch=67 step=67000\u001b[0m \u001b[36mepoch\u001b[0m=\u001b[35m67\u001b[0m \u001b[36mmetrics\u001b[0m=\u001b[35m{'time_inference': 0.0010777783393859863, 'time_environment_step': 0.00014034271240234375, 'time_sample_batch': 0.000311887264251709, 'time_algorithm_update': 0.010278814315795899, 'temp_loss': -5.431137152481824e-05, 'temp': 0.022027005687355994, 'critic_loss': 0.018673378637991844, 'actor_loss': 12.002021078109742, 'time_step': 0.011876142978668213, 'rollout_return': -5.611270590180416, 'evaluation': -4.863369832546552}\u001b[0m \u001b[36mstep\u001b[0m=\u001b[35m67000\u001b[0m\n",
      "\u001b[2m2023-10-24 13:31:42\u001b[0m [\u001b[32m\u001b[1minfo     \u001b[0m] \u001b[1mexp_6_SAC_reacher_20231024131731: epoch=68 step=68000\u001b[0m \u001b[36mepoch\u001b[0m=\u001b[35m68\u001b[0m \u001b[36mmetrics\u001b[0m=\u001b[35m{'time_inference': 0.0010768158435821534, 'time_environment_step': 0.0001409611701965332, 'time_sample_batch': 0.0003180687427520752, 'time_algorithm_update': 0.010230463027954101, 'temp_loss': -1.4148247581033502e-05, 'temp': 0.022193223459646107, 'critic_loss': 0.017718586472794413, 'actor_loss': 11.952356107711791, 'time_step': 0.011833851099014282, 'rollout_return': -5.198038677438772, 'evaluation': -3.777186769542972}\u001b[0m \u001b[36mstep\u001b[0m=\u001b[35m68000\u001b[0m\n",
      "\u001b[2m2023-10-24 13:31:54\u001b[0m [\u001b[32m\u001b[1minfo     \u001b[0m] \u001b[1mexp_6_SAC_reacher_20231024131731: epoch=69 step=69000\u001b[0m \u001b[36mepoch\u001b[0m=\u001b[35m69\u001b[0m \u001b[36mmetrics\u001b[0m=\u001b[35m{'time_inference': 0.0010924437046051026, 'time_environment_step': 0.0001414971351623535, 'time_sample_batch': 0.0003205134868621826, 'time_algorithm_update': 0.010277087450027466, 'temp_loss': 2.678568673582049e-05, 'temp': 0.02227403618954122, 'critic_loss': 0.016955522334203124, 'actor_loss': 11.906986035346986, 'time_step': 0.011899890184402465, 'rollout_return': -4.640482573349671, 'evaluation': -3.1038162520444663}\u001b[0m \u001b[36mstep\u001b[0m=\u001b[35m69000\u001b[0m\n",
      "\u001b[2m2023-10-24 13:32:07\u001b[0m [\u001b[32m\u001b[1minfo     \u001b[0m] \u001b[1mModel parameters are saved to d3rlpy_logs/exp_6_SAC_reacher_20231024131731/model_70000.pt\u001b[0m\n",
      "\u001b[2m2023-10-24 13:32:07\u001b[0m [\u001b[32m\u001b[1minfo     \u001b[0m] \u001b[1mexp_6_SAC_reacher_20231024131731: epoch=70 step=70000\u001b[0m \u001b[36mepoch\u001b[0m=\u001b[35m70\u001b[0m \u001b[36mmetrics\u001b[0m=\u001b[35m{'time_inference': 0.001093888282775879, 'time_environment_step': 0.00014273357391357422, 'time_sample_batch': 0.0003291161060333252, 'time_algorithm_update': 0.01029054045677185, 'temp_loss': 4.2061382373503875e-05, 'temp': 0.022161374904215336, 'critic_loss': 0.017260869536548852, 'actor_loss': 11.865116088867188, 'time_step': 0.01192481255531311, 'rollout_return': -4.613198869260185, 'evaluation': -4.028862662883524}\u001b[0m \u001b[36mstep\u001b[0m=\u001b[35m70000\u001b[0m\n",
      "\u001b[2m2023-10-24 13:32:19\u001b[0m [\u001b[32m\u001b[1minfo     \u001b[0m] \u001b[1mexp_6_SAC_reacher_20231024131731: epoch=71 step=71000\u001b[0m \u001b[36mepoch\u001b[0m=\u001b[35m71\u001b[0m \u001b[36mmetrics\u001b[0m=\u001b[35m{'time_inference': 0.001079923391342163, 'time_environment_step': 0.00014213895797729492, 'time_sample_batch': 0.0003176603317260742, 'time_algorithm_update': 0.01024571132659912, 'temp_loss': 4.637881238886621e-05, 'temp': 0.022148806285113096, 'critic_loss': 0.01916222334653139, 'actor_loss': 11.812902996063233, 'time_step': 0.011853600978851318, 'rollout_return': -5.0274054094745635, 'evaluation': -3.616081882972631}\u001b[0m \u001b[36mstep\u001b[0m=\u001b[35m71000\u001b[0m\n",
      "\u001b[2m2023-10-24 13:32:31\u001b[0m [\u001b[32m\u001b[1minfo     \u001b[0m] \u001b[1mexp_6_SAC_reacher_20231024131731: epoch=72 step=72000\u001b[0m \u001b[36mepoch\u001b[0m=\u001b[35m72\u001b[0m \u001b[36mmetrics\u001b[0m=\u001b[35m{'time_inference': 0.0010964066982269286, 'time_environment_step': 0.00014304280281066895, 'time_sample_batch': 0.00032224583625793457, 'time_algorithm_update': 0.010271325588226318, 'temp_loss': -9.416766171489144e-05, 'temp': 0.022135737795382738, 'critic_loss': 0.015809730835724622, 'actor_loss': 11.764819145202637, 'time_step': 0.011901408433914185, 'rollout_return': -5.069160903191683, 'evaluation': -3.6519588905112825}\u001b[0m \u001b[36mstep\u001b[0m=\u001b[35m72000\u001b[0m\n",
      "\u001b[2m2023-10-24 13:32:44\u001b[0m [\u001b[32m\u001b[1minfo     \u001b[0m] \u001b[1mexp_6_SAC_reacher_20231024131731: epoch=73 step=73000\u001b[0m \u001b[36mepoch\u001b[0m=\u001b[35m73\u001b[0m \u001b[36mmetrics\u001b[0m=\u001b[35m{'time_inference': 0.0010965235233306885, 'time_environment_step': 0.00014375925064086915, 'time_sample_batch': 0.00032375407218933106, 'time_algorithm_update': 0.010292284965515137, 'temp_loss': -2.1837196269189006e-05, 'temp': 0.022135705556720495, 'critic_loss': 0.016361263163853435, 'actor_loss': 11.722708123207092, 'time_step': 0.011924917221069337, 'rollout_return': -5.021671205086638, 'evaluation': -4.3167555307022845}\u001b[0m \u001b[36mstep\u001b[0m=\u001b[35m73000\u001b[0m\n",
      "\u001b[2m2023-10-24 13:32:56\u001b[0m [\u001b[32m\u001b[1minfo     \u001b[0m] \u001b[1mexp_6_SAC_reacher_20231024131731: epoch=74 step=74000\u001b[0m \u001b[36mepoch\u001b[0m=\u001b[35m74\u001b[0m \u001b[36mmetrics\u001b[0m=\u001b[35m{'time_inference': 0.0010758962631225587, 'time_environment_step': 0.00014033389091491698, 'time_sample_batch': 0.00031978321075439454, 'time_algorithm_update': 0.01018817949295044, 'temp_loss': 8.623221038578777e-05, 'temp': 0.02232305628992617, 'critic_loss': 0.015920891422778367, 'actor_loss': 11.682512971878051, 'time_step': 0.011791792869567871, 'rollout_return': -5.134503377755636, 'evaluation': -5.171117402860078}\u001b[0m \u001b[36mstep\u001b[0m=\u001b[35m74000\u001b[0m\n",
      "\u001b[2m2023-10-24 13:33:09\u001b[0m [\u001b[32m\u001b[1minfo     \u001b[0m] \u001b[1mexp_6_SAC_reacher_20231024131731: epoch=75 step=75000\u001b[0m \u001b[36mepoch\u001b[0m=\u001b[35m75\u001b[0m \u001b[36mmetrics\u001b[0m=\u001b[35m{'time_inference': 0.0010891544818878174, 'time_environment_step': 0.00014191889762878417, 'time_sample_batch': 0.0003213837146759033, 'time_algorithm_update': 0.010272034645080566, 'temp_loss': -3.632367224781774e-06, 'temp': 0.022141090091317893, 'critic_loss': 0.016489674593321978, 'actor_loss': 11.64828298664093, 'time_step': 0.011892939567565918, 'rollout_return': -4.815591688656351, 'evaluation': -4.785436473705178}\u001b[0m \u001b[36mstep\u001b[0m=\u001b[35m75000\u001b[0m\n",
      "\u001b[2m2023-10-24 13:33:21\u001b[0m [\u001b[32m\u001b[1minfo     \u001b[0m] \u001b[1mexp_6_SAC_reacher_20231024131731: epoch=76 step=76000\u001b[0m \u001b[36mepoch\u001b[0m=\u001b[35m76\u001b[0m \u001b[36mmetrics\u001b[0m=\u001b[35m{'time_inference': 0.0010744442939758301, 'time_environment_step': 0.00014060616493225098, 'time_sample_batch': 0.0003171591758728027, 'time_algorithm_update': 0.010194188356399536, 'temp_loss': 1.4862747804727405e-05, 'temp': 0.02200958039611578, 'critic_loss': 0.014461023126263172, 'actor_loss': 11.594927300453186, 'time_step': 0.011793188333511352, 'rollout_return': -4.570844599399477, 'evaluation': -4.151101242810146}\u001b[0m \u001b[36mstep\u001b[0m=\u001b[35m76000\u001b[0m\n",
      "\u001b[2m2023-10-24 13:33:33\u001b[0m [\u001b[32m\u001b[1minfo     \u001b[0m] \u001b[1mexp_6_SAC_reacher_20231024131731: epoch=77 step=77000\u001b[0m \u001b[36mepoch\u001b[0m=\u001b[35m77\u001b[0m \u001b[36mmetrics\u001b[0m=\u001b[35m{'time_inference': 0.0010806753635406493, 'time_environment_step': 0.00014249372482299806, 'time_sample_batch': 0.00031905531883239744, 'time_algorithm_update': 0.010204138278961182, 'temp_loss': -6.29858159518335e-05, 'temp': 0.02196206938289106, 'critic_loss': 0.014791165076661854, 'actor_loss': 11.553323226928711, 'time_step': 0.011814254760742188, 'rollout_return': -5.945898260604153, 'evaluation': -5.533468589808768}\u001b[0m \u001b[36mstep\u001b[0m=\u001b[35m77000\u001b[0m\n",
      "\u001b[2m2023-10-24 13:33:46\u001b[0m [\u001b[32m\u001b[1minfo     \u001b[0m] \u001b[1mexp_6_SAC_reacher_20231024131731: epoch=78 step=78000\u001b[0m \u001b[36mepoch\u001b[0m=\u001b[35m78\u001b[0m \u001b[36mmetrics\u001b[0m=\u001b[35m{'time_inference': 0.0010831198692321778, 'time_environment_step': 0.00014283275604248046, 'time_sample_batch': 0.0003169403076171875, 'time_algorithm_update': 0.010252420902252197, 'temp_loss': 5.1377675001276654e-05, 'temp': 0.02211235883459449, 'critic_loss': 0.014710410366300494, 'actor_loss': 11.52081988620758, 'time_step': 0.011863495826721191, 'rollout_return': -5.132556451890258, 'evaluation': -3.132071096344846}\u001b[0m \u001b[36mstep\u001b[0m=\u001b[35m78000\u001b[0m\n",
      "\u001b[2m2023-10-24 13:33:58\u001b[0m [\u001b[32m\u001b[1minfo     \u001b[0m] \u001b[1mexp_6_SAC_reacher_20231024131731: epoch=79 step=79000\u001b[0m \u001b[36mepoch\u001b[0m=\u001b[35m79\u001b[0m \u001b[36mmetrics\u001b[0m=\u001b[35m{'time_inference': 0.0010919418334960937, 'time_environment_step': 0.00014392828941345214, 'time_sample_batch': 0.0003226978778839111, 'time_algorithm_update': 0.010224621772766113, 'temp_loss': -1.0605248135107104e-06, 'temp': 0.021971740117296575, 'critic_loss': 0.01457330530975014, 'actor_loss': 11.48081141757965, 'time_step': 0.011852121829986573, 'rollout_return': -4.981476484365812, 'evaluation': -3.954193388686062}\u001b[0m \u001b[36mstep\u001b[0m=\u001b[35m79000\u001b[0m\n",
      "\u001b[2m2023-10-24 13:34:11\u001b[0m [\u001b[32m\u001b[1minfo     \u001b[0m] \u001b[1mModel parameters are saved to d3rlpy_logs/exp_6_SAC_reacher_20231024131731/model_80000.pt\u001b[0m\n",
      "\u001b[2m2023-10-24 13:34:11\u001b[0m [\u001b[32m\u001b[1minfo     \u001b[0m] \u001b[1mexp_6_SAC_reacher_20231024131731: epoch=80 step=80000\u001b[0m \u001b[36mepoch\u001b[0m=\u001b[35m80\u001b[0m \u001b[36mmetrics\u001b[0m=\u001b[35m{'time_inference': 0.0010762517452239991, 'time_environment_step': 0.0001395547389984131, 'time_sample_batch': 0.000317828893661499, 'time_algorithm_update': 0.010196461915969849, 'temp_loss': -3.2271692805807104e-05, 'temp': 0.022093016473576428, 'critic_loss': 0.014768549731466919, 'actor_loss': 11.434462002754211, 'time_step': 0.011797368049621582, 'rollout_return': -4.837920754253141, 'evaluation': -5.227597696019928}\u001b[0m \u001b[36mstep\u001b[0m=\u001b[35m80000\u001b[0m\n",
      "\u001b[2m2023-10-24 13:34:23\u001b[0m [\u001b[32m\u001b[1minfo     \u001b[0m] \u001b[1mexp_6_SAC_reacher_20231024131731: epoch=81 step=81000\u001b[0m \u001b[36mepoch\u001b[0m=\u001b[35m81\u001b[0m \u001b[36mmetrics\u001b[0m=\u001b[35m{'time_inference': 0.0011037406921386719, 'time_environment_step': 0.00014293718338012696, 'time_sample_batch': 0.00032393193244934084, 'time_algorithm_update': 0.010308081150054932, 'temp_loss': 2.0043555363372434e-05, 'temp': 0.022131388591602446, 'critic_loss': 0.014128344774711877, 'actor_loss': 11.39384536075592, 'time_step': 0.011947614908218383, 'rollout_return': -5.081519967183334, 'evaluation': -3.2263795773919997}\u001b[0m \u001b[36mstep\u001b[0m=\u001b[35m81000\u001b[0m\n",
      "\u001b[2m2023-10-24 13:34:35\u001b[0m [\u001b[32m\u001b[1minfo     \u001b[0m] \u001b[1mexp_6_SAC_reacher_20231024131731: epoch=82 step=82000\u001b[0m \u001b[36mepoch\u001b[0m=\u001b[35m82\u001b[0m \u001b[36mmetrics\u001b[0m=\u001b[35m{'time_inference': 0.0010884759426116944, 'time_environment_step': 0.00014202284812927246, 'time_sample_batch': 0.00031916069984436033, 'time_algorithm_update': 0.010265063047409057, 'temp_loss': 6.871283170767128e-06, 'temp': 0.022183689888566734, 'critic_loss': 0.013167691664770246, 'actor_loss': 11.368424822807311, 'time_step': 0.011883135795593261, 'rollout_return': -5.171126939810121, 'evaluation': -4.534057359777455}\u001b[0m \u001b[36mstep\u001b[0m=\u001b[35m82000\u001b[0m\n",
      "\u001b[2m2023-10-24 13:34:48\u001b[0m [\u001b[32m\u001b[1minfo     \u001b[0m] \u001b[1mexp_6_SAC_reacher_20231024131731: epoch=83 step=83000\u001b[0m \u001b[36mepoch\u001b[0m=\u001b[35m83\u001b[0m \u001b[36mmetrics\u001b[0m=\u001b[35m{'time_inference': 0.0010947983264923097, 'time_environment_step': 0.00014416122436523436, 'time_sample_batch': 0.00032841062545776366, 'time_algorithm_update': 0.010274431467056274, 'temp_loss': -2.1719764517911245e-05, 'temp': 0.022085870184004305, 'critic_loss': 0.013184859802480787, 'actor_loss': 11.327312972068787, 'time_step': 0.01191022562980652, 'rollout_return': -4.591541550928206, 'evaluation': -4.516179084487967}\u001b[0m \u001b[36mstep\u001b[0m=\u001b[35m83000\u001b[0m\n",
      "\u001b[2m2023-10-24 13:35:00\u001b[0m [\u001b[32m\u001b[1minfo     \u001b[0m] \u001b[1mexp_6_SAC_reacher_20231024131731: epoch=84 step=84000\u001b[0m \u001b[36mepoch\u001b[0m=\u001b[35m84\u001b[0m \u001b[36mmetrics\u001b[0m=\u001b[35m{'time_inference': 0.001077874183654785, 'time_environment_step': 0.0001416149139404297, 'time_sample_batch': 0.0003208327293395996, 'time_algorithm_update': 0.01020734429359436, 'temp_loss': -7.851867841964122e-06, 'temp': 0.022194574788212774, 'critic_loss': 0.013875738864764571, 'actor_loss': 11.29456474494934, 'time_step': 0.01181580114364624, 'rollout_return': -4.097465826633735, 'evaluation': -3.6816361644716786}\u001b[0m \u001b[36mstep\u001b[0m=\u001b[35m84000\u001b[0m\n",
      "\u001b[2m2023-10-24 13:35:13\u001b[0m [\u001b[32m\u001b[1minfo     \u001b[0m] \u001b[1mexp_6_SAC_reacher_20231024131731: epoch=85 step=85000\u001b[0m \u001b[36mepoch\u001b[0m=\u001b[35m85\u001b[0m \u001b[36mmetrics\u001b[0m=\u001b[35m{'time_inference': 0.0010979177951812745, 'time_environment_step': 0.00014389371871948242, 'time_sample_batch': 0.0003265452384948731, 'time_algorithm_update': 0.010254102945327758, 'temp_loss': 4.077052485081367e-05, 'temp': 0.022035276155918836, 'critic_loss': 0.013873994264751673, 'actor_loss': 11.244591333389282, 'time_step': 0.011891258478164673, 'rollout_return': -5.0034924647954675, 'evaluation': -3.737616708629711}\u001b[0m \u001b[36mstep\u001b[0m=\u001b[35m85000\u001b[0m\n",
      "\u001b[2m2023-10-24 13:35:25\u001b[0m [\u001b[32m\u001b[1minfo     \u001b[0m] \u001b[1mexp_6_SAC_reacher_20231024131731: epoch=86 step=86000\u001b[0m \u001b[36mepoch\u001b[0m=\u001b[35m86\u001b[0m \u001b[36mmetrics\u001b[0m=\u001b[35m{'time_inference': 0.0010915875434875488, 'time_environment_step': 0.00014072704315185546, 'time_sample_batch': 0.00031941676139831543, 'time_algorithm_update': 0.01026581382751465, 'temp_loss': -3.9471504671382716e-05, 'temp': 0.022024450082331896, 'critic_loss': 0.013232963857706637, 'actor_loss': 11.215648196220398, 'time_step': 0.011885118484497071, 'rollout_return': -5.428060164248549, 'evaluation': -3.883764390101316}\u001b[0m \u001b[36mstep\u001b[0m=\u001b[35m86000\u001b[0m\n",
      "\u001b[2m2023-10-24 13:35:37\u001b[0m [\u001b[32m\u001b[1minfo     \u001b[0m] \u001b[1mexp_6_SAC_reacher_20231024131731: epoch=87 step=87000\u001b[0m \u001b[36mepoch\u001b[0m=\u001b[35m87\u001b[0m \u001b[36mmetrics\u001b[0m=\u001b[35m{'time_inference': 0.0010761404037475586, 'time_environment_step': 0.0001401252746582031, 'time_sample_batch': 0.0003211383819580078, 'time_algorithm_update': 0.010115047454833985, 'temp_loss': 4.3073417895357125e-05, 'temp': 0.02198941563628614, 'critic_loss': 0.012392423953860999, 'actor_loss': 11.171364044189453, 'time_step': 0.01172002363204956, 'rollout_return': -4.885994481951011, 'evaluation': -4.6934702284485645}\u001b[0m \u001b[36mstep\u001b[0m=\u001b[35m87000\u001b[0m\n",
      "\u001b[2m2023-10-24 13:35:50\u001b[0m [\u001b[32m\u001b[1minfo     \u001b[0m] \u001b[1mexp_6_SAC_reacher_20231024131731: epoch=88 step=88000\u001b[0m \u001b[36mepoch\u001b[0m=\u001b[35m88\u001b[0m \u001b[36mmetrics\u001b[0m=\u001b[35m{'time_inference': 0.0010738635063171386, 'time_environment_step': 0.00014173579216003417, 'time_sample_batch': 0.0003221769332885742, 'time_algorithm_update': 0.010261581420898438, 'temp_loss': 2.62233677203767e-05, 'temp': 0.022029694529250264, 'critic_loss': 0.013042950671166181, 'actor_loss': 11.146435084342956, 'time_step': 0.011867486238479615, 'rollout_return': -5.20341176759012, 'evaluation': -3.3492179402191353}\u001b[0m \u001b[36mstep\u001b[0m=\u001b[35m88000\u001b[0m\n",
      "\u001b[2m2023-10-24 13:36:02\u001b[0m [\u001b[32m\u001b[1minfo     \u001b[0m] \u001b[1mexp_6_SAC_reacher_20231024131731: epoch=89 step=89000\u001b[0m \u001b[36mepoch\u001b[0m=\u001b[35m89\u001b[0m \u001b[36mmetrics\u001b[0m=\u001b[35m{'time_inference': 0.0010803515911102296, 'time_environment_step': 0.0001432361602783203, 'time_sample_batch': 0.0003220360279083252, 'time_algorithm_update': 0.010238186597824097, 'temp_loss': -0.0001086281345342286, 'temp': 0.021999277176335454, 'critic_loss': 0.012143330838531256, 'actor_loss': 11.106417892456054, 'time_step': 0.011852249622344971, 'rollout_return': -4.845176544107567, 'evaluation': -3.5797056176697817}\u001b[0m \u001b[36mstep\u001b[0m=\u001b[35m89000\u001b[0m\n",
      "\u001b[2m2023-10-24 13:36:15\u001b[0m [\u001b[32m\u001b[1minfo     \u001b[0m] \u001b[1mModel parameters are saved to d3rlpy_logs/exp_6_SAC_reacher_20231024131731/model_90000.pt\u001b[0m\n",
      "\u001b[2m2023-10-24 13:36:15\u001b[0m [\u001b[32m\u001b[1minfo     \u001b[0m] \u001b[1mexp_6_SAC_reacher_20231024131731: epoch=90 step=90000\u001b[0m \u001b[36mepoch\u001b[0m=\u001b[35m90\u001b[0m \u001b[36mmetrics\u001b[0m=\u001b[35m{'time_inference': 0.0010891668796539306, 'time_environment_step': 0.00014000654220581055, 'time_sample_batch': 0.0003223471641540527, 'time_algorithm_update': 0.010212352275848388, 'temp_loss': 0.00012856519960041625, 'temp': 0.021919610282406212, 'critic_loss': 0.012635140151251107, 'actor_loss': 11.067941184043883, 'time_step': 0.01183142066001892, 'rollout_return': -4.813756101341805, 'evaluation': -3.8015022576469795}\u001b[0m \u001b[36mstep\u001b[0m=\u001b[35m90000\u001b[0m\n",
      "\u001b[2m2023-10-24 13:36:27\u001b[0m [\u001b[32m\u001b[1minfo     \u001b[0m] \u001b[1mexp_6_SAC_reacher_20231024131731: epoch=91 step=91000\u001b[0m \u001b[36mepoch\u001b[0m=\u001b[35m91\u001b[0m \u001b[36mmetrics\u001b[0m=\u001b[35m{'time_inference': 0.0010890331268310547, 'time_environment_step': 0.00014253568649291991, 'time_sample_batch': 0.00032353568077087404, 'time_algorithm_update': 0.01025236678123474, 'temp_loss': -4.850174712191802e-05, 'temp': 0.021796545960009097, 'critic_loss': 0.01206941911811009, 'actor_loss': 11.025842239379882, 'time_step': 0.011875695705413818, 'rollout_return': -4.991996365679368, 'evaluation': -5.000484695118319}\u001b[0m \u001b[36mstep\u001b[0m=\u001b[35m91000\u001b[0m\n",
      "\u001b[2m2023-10-24 13:36:40\u001b[0m [\u001b[32m\u001b[1minfo     \u001b[0m] \u001b[1mexp_6_SAC_reacher_20231024131731: epoch=92 step=92000\u001b[0m \u001b[36mepoch\u001b[0m=\u001b[35m92\u001b[0m \u001b[36mmetrics\u001b[0m=\u001b[35m{'time_inference': 0.0010838279724121095, 'time_environment_step': 0.00014069771766662598, 'time_sample_batch': 0.00032096481323242186, 'time_algorithm_update': 0.010253275156021119, 'temp_loss': 2.275023025867995e-05, 'temp': 0.021927593743428588, 'critic_loss': 0.012038133755791932, 'actor_loss': 10.987417831420899, 'time_step': 0.011866665601730346, 'rollout_return': -5.0690581627117055, 'evaluation': -4.844074345656219}\u001b[0m \u001b[36mstep\u001b[0m=\u001b[35m92000\u001b[0m\n",
      "\u001b[2m2023-10-24 13:36:52\u001b[0m [\u001b[32m\u001b[1minfo     \u001b[0m] \u001b[1mexp_6_SAC_reacher_20231024131731: epoch=93 step=93000\u001b[0m \u001b[36mepoch\u001b[0m=\u001b[35m93\u001b[0m \u001b[36mmetrics\u001b[0m=\u001b[35m{'time_inference': 0.0010759844779968262, 'time_environment_step': 0.000139660120010376, 'time_sample_batch': 0.0003195948600769043, 'time_algorithm_update': 0.010225754261016845, 'temp_loss': 8.09714608330978e-05, 'temp': 0.021844649836421013, 'critic_loss': 0.012721953923348338, 'actor_loss': 10.94726073360443, 'time_step': 0.01182781195640564, 'rollout_return': -4.615423808921625, 'evaluation': -3.368520486887443}\u001b[0m \u001b[36mstep\u001b[0m=\u001b[35m93000\u001b[0m\n",
      "\u001b[2m2023-10-24 13:37:04\u001b[0m [\u001b[32m\u001b[1minfo     \u001b[0m] \u001b[1mexp_6_SAC_reacher_20231024131731: epoch=94 step=94000\u001b[0m \u001b[36mepoch\u001b[0m=\u001b[35m94\u001b[0m \u001b[36mmetrics\u001b[0m=\u001b[35m{'time_inference': 0.001077829122543335, 'time_environment_step': 0.00014043879508972168, 'time_sample_batch': 0.00032192206382751466, 'time_algorithm_update': 0.010172430992126464, 'temp_loss': -6.846501146355877e-05, 'temp': 0.021647663231939077, 'critic_loss': 0.012020740747917443, 'actor_loss': 10.91057704257965, 'time_step': 0.011780133485794068, 'rollout_return': -4.6010440582931755, 'evaluation': -4.074426391101235}\u001b[0m \u001b[36mstep\u001b[0m=\u001b[35m94000\u001b[0m\n",
      "\u001b[2m2023-10-24 13:37:17\u001b[0m [\u001b[32m\u001b[1minfo     \u001b[0m] \u001b[1mexp_6_SAC_reacher_20231024131731: epoch=95 step=95000\u001b[0m \u001b[36mepoch\u001b[0m=\u001b[35m95\u001b[0m \u001b[36mmetrics\u001b[0m=\u001b[35m{'time_inference': 0.0011121547222137452, 'time_environment_step': 0.00014467668533325195, 'time_sample_batch': 0.0003338103294372559, 'time_algorithm_update': 0.010361705541610717, 'temp_loss': 3.650133812334389e-05, 'temp': 0.021643690444529056, 'critic_loss': 0.010603173994459212, 'actor_loss': 10.866406811714173, 'time_step': 0.012021844625473023, 'rollout_return': -5.043388817729509, 'evaluation': -3.329492020517138}\u001b[0m \u001b[36mstep\u001b[0m=\u001b[35m95000\u001b[0m\n",
      "\u001b[2m2023-10-24 13:37:29\u001b[0m [\u001b[32m\u001b[1minfo     \u001b[0m] \u001b[1mexp_6_SAC_reacher_20231024131731: epoch=96 step=96000\u001b[0m \u001b[36mepoch\u001b[0m=\u001b[35m96\u001b[0m \u001b[36mmetrics\u001b[0m=\u001b[35m{'time_inference': 0.0010881586074829102, 'time_environment_step': 0.00014315271377563478, 'time_sample_batch': 0.0003269386291503906, 'time_algorithm_update': 0.010239935398101807, 'temp_loss': 3.384421298687812e-05, 'temp': 0.0216068132892251, 'critic_loss': 0.011083560440689325, 'actor_loss': 10.835945796012878, 'time_step': 0.011865909576416016, 'rollout_return': -4.920320582986866, 'evaluation': -3.6929181376085793}\u001b[0m \u001b[36mstep\u001b[0m=\u001b[35m96000\u001b[0m\n",
      "\u001b[2m2023-10-24 13:37:42\u001b[0m [\u001b[32m\u001b[1minfo     \u001b[0m] \u001b[1mexp_6_SAC_reacher_20231024131731: epoch=97 step=97000\u001b[0m \u001b[36mepoch\u001b[0m=\u001b[35m97\u001b[0m \u001b[36mmetrics\u001b[0m=\u001b[35m{'time_inference': 0.0010922582149505615, 'time_environment_step': 0.00014378976821899413, 'time_sample_batch': 0.0003293242454528809, 'time_algorithm_update': 0.010312543869018555, 'temp_loss': -6.092098816588987e-05, 'temp': 0.02160656713321805, 'critic_loss': 0.011198278138414026, 'actor_loss': 10.805395169258118, 'time_step': 0.01194624137878418, 'rollout_return': -4.416054254383878, 'evaluation': -3.6775133447163966}\u001b[0m \u001b[36mstep\u001b[0m=\u001b[35m97000\u001b[0m\n",
      "\u001b[2m2023-10-24 13:37:54\u001b[0m [\u001b[32m\u001b[1minfo     \u001b[0m] \u001b[1mexp_6_SAC_reacher_20231024131731: epoch=98 step=98000\u001b[0m \u001b[36mepoch\u001b[0m=\u001b[35m98\u001b[0m \u001b[36mmetrics\u001b[0m=\u001b[35m{'time_inference': 0.0010879054069519044, 'time_environment_step': 0.00014253568649291991, 'time_sample_batch': 0.0003246669769287109, 'time_algorithm_update': 0.010197943210601806, 'temp_loss': 4.137610550969839e-06, 'temp': 0.021746052959933877, 'critic_loss': 0.010809391535818577, 'actor_loss': 10.76792645072937, 'time_step': 0.011821108102798463, 'rollout_return': -5.148906666494554, 'evaluation': -4.417069016130102}\u001b[0m \u001b[36mstep\u001b[0m=\u001b[35m98000\u001b[0m\n",
      "\u001b[2m2023-10-24 13:38:07\u001b[0m [\u001b[32m\u001b[1minfo     \u001b[0m] \u001b[1mexp_6_SAC_reacher_20231024131731: epoch=99 step=99000\u001b[0m \u001b[36mepoch\u001b[0m=\u001b[35m99\u001b[0m \u001b[36mmetrics\u001b[0m=\u001b[35m{'time_inference': 0.0011019363403320312, 'time_environment_step': 0.00014271974563598633, 'time_sample_batch': 0.0003313894271850586, 'time_algorithm_update': 0.01032996940612793, 'temp_loss': 8.123205181618686e-06, 'temp': 0.021647809877991676, 'critic_loss': 0.010658145345747471, 'actor_loss': 10.721095801353455, 'time_step': 0.011974854946136475, 'rollout_return': -5.1418042441168055, 'evaluation': -3.821041344890637}\u001b[0m \u001b[36mstep\u001b[0m=\u001b[35m99000\u001b[0m\n",
      "\u001b[2m2023-10-24 13:38:19\u001b[0m [\u001b[32m\u001b[1minfo     \u001b[0m] \u001b[1mModel parameters are saved to d3rlpy_logs/exp_6_SAC_reacher_20231024131731/model_100000.pt\u001b[0m\n",
      "\u001b[2m2023-10-24 13:38:19\u001b[0m [\u001b[32m\u001b[1minfo     \u001b[0m] \u001b[1mexp_6_SAC_reacher_20231024131731: epoch=100 step=100000\u001b[0m \u001b[36mepoch\u001b[0m=\u001b[35m100\u001b[0m \u001b[36mmetrics\u001b[0m=\u001b[35m{'time_inference': 0.0011003854274749755, 'time_environment_step': 0.0001440858840942383, 'time_sample_batch': 0.0003359525203704834, 'time_algorithm_update': 0.010379449367523193, 'temp_loss': -9.548619709676132e-07, 'temp': 0.021637524127960207, 'critic_loss': 0.010538662186823785, 'actor_loss': 10.686956720352173, 'time_step': 0.01202914834022522, 'rollout_return': -4.8332832164643404, 'evaluation': -3.627445697896615}\u001b[0m \u001b[36mstep\u001b[0m=\u001b[35m100000\u001b[0m\n",
      "\u001b[2m2023-10-24 13:38:32\u001b[0m [\u001b[32m\u001b[1minfo     \u001b[0m] \u001b[1mexp_6_SAC_reacher_20231024131731: epoch=101 step=101000\u001b[0m \u001b[36mepoch\u001b[0m=\u001b[35m101\u001b[0m \u001b[36mmetrics\u001b[0m=\u001b[35m{'time_inference': 0.0010780708789825439, 'time_environment_step': 0.0001400313377380371, 'time_sample_batch': 0.0003223843574523926, 'time_algorithm_update': 0.01023606538772583, 'temp_loss': 2.4454626538499725e-05, 'temp': 0.02178621500916779, 'critic_loss': 0.010543286743573844, 'actor_loss': 10.657862958908082, 'time_step': 0.011844086170196532, 'rollout_return': -4.843870389079717, 'evaluation': -4.31554924479893}\u001b[0m \u001b[36mstep\u001b[0m=\u001b[35m101000\u001b[0m\n",
      "\u001b[2m2023-10-24 13:38:44\u001b[0m [\u001b[32m\u001b[1minfo     \u001b[0m] \u001b[1mexp_6_SAC_reacher_20231024131731: epoch=102 step=102000\u001b[0m \u001b[36mepoch\u001b[0m=\u001b[35m102\u001b[0m \u001b[36mmetrics\u001b[0m=\u001b[35m{'time_inference': 0.0010911993980407715, 'time_environment_step': 0.0001425178050994873, 'time_sample_batch': 0.0003260085582733154, 'time_algorithm_update': 0.010369986057281495, 'temp_loss': -3.206169452460017e-05, 'temp': 0.021770359486341477, 'critic_loss': 0.010393824859987945, 'actor_loss': 10.623907441139222, 'time_step': 0.011998200416564941, 'rollout_return': -4.820400979867941, 'evaluation': -5.124946184905724}\u001b[0m \u001b[36mstep\u001b[0m=\u001b[35m102000\u001b[0m\n",
      "\u001b[2m2023-10-24 13:38:57\u001b[0m [\u001b[32m\u001b[1minfo     \u001b[0m] \u001b[1mexp_6_SAC_reacher_20231024131731: epoch=103 step=103000\u001b[0m \u001b[36mepoch\u001b[0m=\u001b[35m103\u001b[0m \u001b[36mmetrics\u001b[0m=\u001b[35m{'time_inference': 0.001101510763168335, 'time_environment_step': 0.00014290595054626464, 'time_sample_batch': 0.00033459115028381347, 'time_algorithm_update': 0.010316761493682861, 'temp_loss': 2.887147983710747e-05, 'temp': 0.021723276121541856, 'critic_loss': 0.010673979410901665, 'actor_loss': 10.595387547492981, 'time_step': 0.011964720726013183, 'rollout_return': -5.694584717072172, 'evaluation': -3.403601106078868}\u001b[0m \u001b[36mstep\u001b[0m=\u001b[35m103000\u001b[0m\n",
      "\u001b[2m2023-10-24 13:39:09\u001b[0m [\u001b[32m\u001b[1minfo     \u001b[0m] \u001b[1mexp_6_SAC_reacher_20231024131731: epoch=104 step=104000\u001b[0m \u001b[36mepoch\u001b[0m=\u001b[35m104\u001b[0m \u001b[36mmetrics\u001b[0m=\u001b[35m{'time_inference': 0.0010956037044525147, 'time_environment_step': 0.00014313244819641113, 'time_sample_batch': 0.0003304133415222168, 'time_algorithm_update': 0.010312575578689575, 'temp_loss': 6.022291946283076e-05, 'temp': 0.021526054577901958, 'critic_loss': 0.010827738489490002, 'actor_loss': 10.560951531410216, 'time_step': 0.011950092315673828, 'rollout_return': -4.260759826318098, 'evaluation': -4.3532851637631955}\u001b[0m \u001b[36mstep\u001b[0m=\u001b[35m104000\u001b[0m\n",
      "\u001b[2m2023-10-24 13:39:22\u001b[0m [\u001b[32m\u001b[1minfo     \u001b[0m] \u001b[1mexp_6_SAC_reacher_20231024131731: epoch=105 step=105000\u001b[0m \u001b[36mepoch\u001b[0m=\u001b[35m105\u001b[0m \u001b[36mmetrics\u001b[0m=\u001b[35m{'time_inference': 0.0010810256004333495, 'time_environment_step': 0.00014154624938964843, 'time_sample_batch': 0.00032684063911437986, 'time_algorithm_update': 0.010230968713760375, 'temp_loss': -1.4784621373109985e-05, 'temp': 0.02149346427619457, 'critic_loss': 0.01173589574592188, 'actor_loss': 10.529573203086853, 'time_step': 0.011848630666732788, 'rollout_return': -4.451341666870523, 'evaluation': -4.114267086077591}\u001b[0m \u001b[36mstep\u001b[0m=\u001b[35m105000\u001b[0m\n",
      "\u001b[2m2023-10-24 13:39:34\u001b[0m [\u001b[32m\u001b[1minfo     \u001b[0m] \u001b[1mexp_6_SAC_reacher_20231024131731: epoch=106 step=106000\u001b[0m \u001b[36mepoch\u001b[0m=\u001b[35m106\u001b[0m \u001b[36mmetrics\u001b[0m=\u001b[35m{'time_inference': 0.0010816047191619872, 'time_environment_step': 0.00014207077026367188, 'time_sample_batch': 0.0003272595405578613, 'time_algorithm_update': 0.01023793888092041, 'temp_loss': -9.712218442291487e-05, 'temp': 0.021547487769275904, 'critic_loss': 0.011935366998892277, 'actor_loss': 10.496341185569763, 'time_step': 0.01185679578781128, 'rollout_return': -5.301250729976147, 'evaluation': -3.873615105333145}\u001b[0m \u001b[36mstep\u001b[0m=\u001b[35m106000\u001b[0m\n",
      "\u001b[2m2023-10-24 13:39:46\u001b[0m [\u001b[32m\u001b[1minfo     \u001b[0m] \u001b[1mexp_6_SAC_reacher_20231024131731: epoch=107 step=107000\u001b[0m \u001b[36mepoch\u001b[0m=\u001b[35m107\u001b[0m \u001b[36mmetrics\u001b[0m=\u001b[35m{'time_inference': 0.0010786283016204835, 'time_environment_step': 0.00014126014709472658, 'time_sample_batch': 0.0003238062858581543, 'time_algorithm_update': 0.010216065883636475, 'temp_loss': 1.7109016844187864e-05, 'temp': 0.021860168097540735, 'critic_loss': 0.013787810471374541, 'actor_loss': 10.457673600196838, 'time_step': 0.011827939748764038, 'rollout_return': -5.244892357047155, 'evaluation': -4.506550574377385}\u001b[0m \u001b[36mstep\u001b[0m=\u001b[35m107000\u001b[0m\n",
      "\u001b[2m2023-10-24 13:39:59\u001b[0m [\u001b[32m\u001b[1minfo     \u001b[0m] \u001b[1mexp_6_SAC_reacher_20231024131731: epoch=108 step=108000\u001b[0m \u001b[36mepoch\u001b[0m=\u001b[35m108\u001b[0m \u001b[36mmetrics\u001b[0m=\u001b[35m{'time_inference': 0.0010759737491607667, 'time_environment_step': 0.00014230942726135254, 'time_sample_batch': 0.00032420468330383303, 'time_algorithm_update': 0.01020255446434021, 'temp_loss': -3.8705157683580185e-05, 'temp': 0.021830379778519274, 'critic_loss': 0.016075452391058207, 'actor_loss': 10.439506996154785, 'time_step': 0.011813738584518433, 'rollout_return': -5.190908794812859, 'evaluation': -4.220416958132612}\u001b[0m \u001b[36mstep\u001b[0m=\u001b[35m108000\u001b[0m\n",
      "\u001b[2m2023-10-24 13:40:11\u001b[0m [\u001b[32m\u001b[1minfo     \u001b[0m] \u001b[1mexp_6_SAC_reacher_20231024131731: epoch=109 step=109000\u001b[0m \u001b[36mepoch\u001b[0m=\u001b[35m109\u001b[0m \u001b[36mmetrics\u001b[0m=\u001b[35m{'time_inference': 0.0010923848152160644, 'time_environment_step': 0.00014242315292358398, 'time_sample_batch': 0.000330538272857666, 'time_algorithm_update': 0.010232832670211791, 'temp_loss': 3.1460845275432803e-06, 'temp': 0.021876013999804853, 'critic_loss': 0.015830431170295926, 'actor_loss': 10.410967350959778, 'time_step': 0.011866991519927978, 'rollout_return': -4.861318738620157, 'evaluation': -3.9698158426683534}\u001b[0m \u001b[36mstep\u001b[0m=\u001b[35m109000\u001b[0m\n",
      "\u001b[2m2023-10-24 13:40:24\u001b[0m [\u001b[32m\u001b[1minfo     \u001b[0m] \u001b[1mModel parameters are saved to d3rlpy_logs/exp_6_SAC_reacher_20231024131731/model_110000.pt\u001b[0m\n",
      "\u001b[2m2023-10-24 13:40:24\u001b[0m [\u001b[32m\u001b[1minfo     \u001b[0m] \u001b[1mexp_6_SAC_reacher_20231024131731: epoch=110 step=110000\u001b[0m \u001b[36mepoch\u001b[0m=\u001b[35m110\u001b[0m \u001b[36mmetrics\u001b[0m=\u001b[35m{'time_inference': 0.001093252420425415, 'time_environment_step': 0.00014340996742248535, 'time_sample_batch': 0.0003289051055908203, 'time_algorithm_update': 0.010201468706130982, 'temp_loss': 0.00011820449795050082, 'temp': 0.021612072017043828, 'critic_loss': 0.014509252849034966, 'actor_loss': 10.400338874816894, 'time_step': 0.01183572793006897, 'rollout_return': -4.823565754970426, 'evaluation': -3.8006318795659837}\u001b[0m \u001b[36mstep\u001b[0m=\u001b[35m110000\u001b[0m\n",
      "\u001b[2m2023-10-24 13:40:36\u001b[0m [\u001b[32m\u001b[1minfo     \u001b[0m] \u001b[1mexp_6_SAC_reacher_20231024131731: epoch=111 step=111000\u001b[0m \u001b[36mepoch\u001b[0m=\u001b[35m111\u001b[0m \u001b[36mmetrics\u001b[0m=\u001b[35m{'time_inference': 0.0010921120643615722, 'time_environment_step': 0.000143277645111084, 'time_sample_batch': 0.00033114099502563475, 'time_algorithm_update': 0.010300732135772706, 'temp_loss': -0.00012381107274268287, 'temp': 0.021687290037050843, 'critic_loss': 0.013020560891367496, 'actor_loss': 10.381237957000732, 'time_step': 0.011935804605484008, 'rollout_return': -4.908748100676816, 'evaluation': -3.2669588392397833}\u001b[0m \u001b[36mstep\u001b[0m=\u001b[35m111000\u001b[0m\n",
      "\u001b[2m2023-10-24 13:40:49\u001b[0m [\u001b[32m\u001b[1minfo     \u001b[0m] \u001b[1mexp_6_SAC_reacher_20231024131731: epoch=112 step=112000\u001b[0m \u001b[36mepoch\u001b[0m=\u001b[35m112\u001b[0m \u001b[36mmetrics\u001b[0m=\u001b[35m{'time_inference': 0.0010855727195739746, 'time_environment_step': 0.0001417543888092041, 'time_sample_batch': 0.00032491517066955564, 'time_algorithm_update': 0.010231545686721803, 'temp_loss': 4.019324970431626e-05, 'temp': 0.021944239800795913, 'critic_loss': 0.011816919159144164, 'actor_loss': 10.379101706504821, 'time_step': 0.011851852893829345, 'rollout_return': -4.997917878753118, 'evaluation': -3.307370923081725}\u001b[0m \u001b[36mstep\u001b[0m=\u001b[35m112000\u001b[0m\n",
      "\u001b[2m2023-10-24 13:41:01\u001b[0m [\u001b[32m\u001b[1minfo     \u001b[0m] \u001b[1mexp_6_SAC_reacher_20231024131731: epoch=113 step=113000\u001b[0m \u001b[36mepoch\u001b[0m=\u001b[35m113\u001b[0m \u001b[36mmetrics\u001b[0m=\u001b[35m{'time_inference': 0.0010817298889160157, 'time_environment_step': 0.00014196968078613283, 'time_sample_batch': 0.00032317352294921876, 'time_algorithm_update': 0.010191725015640259, 'temp_loss': 2.7095748373540117e-05, 'temp': 0.021775551307946443, 'critic_loss': 0.011835268549621105, 'actor_loss': 10.370233065605163, 'time_step': 0.011806883811950684, 'rollout_return': -4.539791082189624, 'evaluation': -4.493278669217718}\u001b[0m \u001b[36mstep\u001b[0m=\u001b[35m113000\u001b[0m\n",
      "\u001b[2m2023-10-24 13:41:13\u001b[0m [\u001b[32m\u001b[1minfo     \u001b[0m] \u001b[1mexp_6_SAC_reacher_20231024131731: epoch=114 step=114000\u001b[0m \u001b[36mepoch\u001b[0m=\u001b[35m114\u001b[0m \u001b[36mmetrics\u001b[0m=\u001b[35m{'time_inference': 0.0010850834846496582, 'time_environment_step': 0.00014300990104675293, 'time_sample_batch': 0.0003275144100189209, 'time_algorithm_update': 0.010249740839004517, 'temp_loss': -5.205462032608921e-05, 'temp': 0.021874842256307602, 'critic_loss': 0.011791647364385425, 'actor_loss': 10.34448787021637, 'time_step': 0.01187357234954834, 'rollout_return': -4.940177721201479, 'evaluation': -3.4357371125098295}\u001b[0m \u001b[36mstep\u001b[0m=\u001b[35m114000\u001b[0m\n",
      "\u001b[2m2023-10-24 13:41:26\u001b[0m [\u001b[32m\u001b[1minfo     \u001b[0m] \u001b[1mexp_6_SAC_reacher_20231024131731: epoch=115 step=115000\u001b[0m \u001b[36mepoch\u001b[0m=\u001b[35m115\u001b[0m \u001b[36mmetrics\u001b[0m=\u001b[35m{'time_inference': 0.0010775632858276366, 'time_environment_step': 0.0001407926082611084, 'time_sample_batch': 0.00032509517669677734, 'time_algorithm_update': 0.010267401933670045, 'temp_loss': 7.394162705168128e-06, 'temp': 0.02174949139356613, 'critic_loss': 0.013794629394542426, 'actor_loss': 10.311987526893615, 'time_step': 0.011878993034362793, 'rollout_return': -4.729534407947066, 'evaluation': -4.786766081156016}\u001b[0m \u001b[36mstep\u001b[0m=\u001b[35m115000\u001b[0m\n",
      "\u001b[2m2023-10-24 13:41:38\u001b[0m [\u001b[32m\u001b[1minfo     \u001b[0m] \u001b[1mexp_6_SAC_reacher_20231024131731: epoch=116 step=116000\u001b[0m \u001b[36mepoch\u001b[0m=\u001b[35m116\u001b[0m \u001b[36mmetrics\u001b[0m=\u001b[35m{'time_inference': 0.0010966601371765136, 'time_environment_step': 0.00014365148544311524, 'time_sample_batch': 0.00033241653442382815, 'time_algorithm_update': 0.010305703163146973, 'temp_loss': -7.470361670129932e-06, 'temp': 0.021920293172821403, 'critic_loss': 0.017035749279428275, 'actor_loss': 10.288003902435303, 'time_step': 0.011946892023086547, 'rollout_return': -5.29097297267605, 'evaluation': -4.412929507879962}\u001b[0m \u001b[36mstep\u001b[0m=\u001b[35m116000\u001b[0m\n",
      "\u001b[2m2023-10-24 13:41:51\u001b[0m [\u001b[32m\u001b[1minfo     \u001b[0m] \u001b[1mexp_6_SAC_reacher_20231024131731: epoch=117 step=117000\u001b[0m \u001b[36mepoch\u001b[0m=\u001b[35m117\u001b[0m \u001b[36mmetrics\u001b[0m=\u001b[35m{'time_inference': 0.0010906693935394287, 'time_environment_step': 0.00014165163040161133, 'time_sample_batch': 0.0003286747932434082, 'time_algorithm_update': 0.010304194450378418, 'temp_loss': 4.172718559857458e-05, 'temp': 0.02163435540907085, 'critic_loss': 0.01619973535090685, 'actor_loss': 10.257503045082093, 'time_step': 0.011932718992233277, 'rollout_return': -4.7063904094927524, 'evaluation': -4.675184675324797}\u001b[0m \u001b[36mstep\u001b[0m=\u001b[35m117000\u001b[0m\n",
      "\u001b[2m2023-10-24 13:42:03\u001b[0m [\u001b[32m\u001b[1minfo     \u001b[0m] \u001b[1mexp_6_SAC_reacher_20231024131731: epoch=118 step=118000\u001b[0m \u001b[36mepoch\u001b[0m=\u001b[35m118\u001b[0m \u001b[36mmetrics\u001b[0m=\u001b[35m{'time_inference': 0.0010881850719451905, 'time_environment_step': 0.0001416933536529541, 'time_sample_batch': 0.00032795214653015136, 'time_algorithm_update': 0.010264558792114258, 'temp_loss': -6.474969776900252e-05, 'temp': 0.0218275646828115, 'critic_loss': 0.013982994843274355, 'actor_loss': 10.248710618019103, 'time_step': 0.011889984369277955, 'rollout_return': -5.837825489018011, 'evaluation': -4.858891236893099}\u001b[0m \u001b[36mstep\u001b[0m=\u001b[35m118000\u001b[0m\n",
      "\u001b[2m2023-10-24 13:42:16\u001b[0m [\u001b[32m\u001b[1minfo     \u001b[0m] \u001b[1mexp_6_SAC_reacher_20231024131731: epoch=119 step=119000\u001b[0m \u001b[36mepoch\u001b[0m=\u001b[35m119\u001b[0m \u001b[36mmetrics\u001b[0m=\u001b[35m{'time_inference': 0.0010795319080352784, 'time_environment_step': 0.00014165759086608886, 'time_sample_batch': 0.0003279080390930176, 'time_algorithm_update': 0.01019341778755188, 'temp_loss': 6.743991223629564e-06, 'temp': 0.02222555401176214, 'critic_loss': 0.011897350913845002, 'actor_loss': 10.23977559375763, 'time_step': 0.011810376405715943, 'rollout_return': -4.468423839392022, 'evaluation': -3.173559563391538}\u001b[0m \u001b[36mstep\u001b[0m=\u001b[35m119000\u001b[0m\n",
      "\u001b[2m2023-10-24 13:42:28\u001b[0m [\u001b[32m\u001b[1minfo     \u001b[0m] \u001b[1mModel parameters are saved to d3rlpy_logs/exp_6_SAC_reacher_20231024131731/model_120000.pt\u001b[0m\n",
      "\u001b[2m2023-10-24 13:42:28\u001b[0m [\u001b[32m\u001b[1minfo     \u001b[0m] \u001b[1mexp_6_SAC_reacher_20231024131731: epoch=120 step=120000\u001b[0m \u001b[36mepoch\u001b[0m=\u001b[35m120\u001b[0m \u001b[36mmetrics\u001b[0m=\u001b[35m{'time_inference': 0.001091085910797119, 'time_environment_step': 0.00014328765869140624, 'time_sample_batch': 0.0003288619518280029, 'time_algorithm_update': 0.010319605350494384, 'temp_loss': -4.556293337373063e-05, 'temp': 0.022018295899033546, 'critic_loss': 0.011951971992850304, 'actor_loss': 10.233282717704773, 'time_step': 0.011951956748962402, 'rollout_return': -5.035112583751336, 'evaluation': -3.5625797408100377}\u001b[0m \u001b[36mstep\u001b[0m=\u001b[35m120000\u001b[0m\n",
      "\u001b[2m2023-10-24 13:42:41\u001b[0m [\u001b[32m\u001b[1minfo     \u001b[0m] \u001b[1mexp_6_SAC_reacher_20231024131731: epoch=121 step=121000\u001b[0m \u001b[36mepoch\u001b[0m=\u001b[35m121\u001b[0m \u001b[36mmetrics\u001b[0m=\u001b[35m{'time_inference': 0.0010953960418701172, 'time_environment_step': 0.00014327168464660643, 'time_sample_batch': 0.000333662748336792, 'time_algorithm_update': 0.0102852041721344, 'temp_loss': 4.1784566594287755e-05, 'temp': 0.022008350417017937, 'critic_loss': 0.011766338433139026, 'actor_loss': 10.223745065689087, 'time_step': 0.011926800012588501, 'rollout_return': -5.3081257696118485, 'evaluation': -4.447626703619099}\u001b[0m \u001b[36mstep\u001b[0m=\u001b[35m121000\u001b[0m\n",
      "\u001b[2m2023-10-24 13:42:53\u001b[0m [\u001b[32m\u001b[1minfo     \u001b[0m] \u001b[1mexp_6_SAC_reacher_20231024131731: epoch=122 step=122000\u001b[0m \u001b[36mepoch\u001b[0m=\u001b[35m122\u001b[0m \u001b[36mmetrics\u001b[0m=\u001b[35m{'time_inference': 0.0010853223800659179, 'time_environment_step': 0.0001417241096496582, 'time_sample_batch': 0.00032744169235229495, 'time_algorithm_update': 0.010222094535827637, 'temp_loss': -1.160321367206052e-05, 'temp': 0.021980681682005523, 'critic_loss': 0.011448181215208023, 'actor_loss': 10.197094216346741, 'time_step': 0.011844855546951295, 'rollout_return': -4.62573061852868, 'evaluation': -3.5120704822419015}\u001b[0m \u001b[36mstep\u001b[0m=\u001b[35m122000\u001b[0m\n",
      "\u001b[2m2023-10-24 13:43:05\u001b[0m [\u001b[32m\u001b[1minfo     \u001b[0m] \u001b[1mexp_6_SAC_reacher_20231024131731: epoch=123 step=123000\u001b[0m \u001b[36mepoch\u001b[0m=\u001b[35m123\u001b[0m \u001b[36mmetrics\u001b[0m=\u001b[35m{'time_inference': 0.0010758650302886963, 'time_environment_step': 0.0001413862705230713, 'time_sample_batch': 0.0003259401321411133, 'time_algorithm_update': 0.010166170835494995, 'temp_loss': -9.17721336008981e-06, 'temp': 0.022043420461937784, 'critic_loss': 0.00992911266349256, 'actor_loss': 10.182080013275147, 'time_step': 0.01177740716934204, 'rollout_return': -4.493134760972928, 'evaluation': -4.052853257156614}\u001b[0m \u001b[36mstep\u001b[0m=\u001b[35m123000\u001b[0m\n",
      "\u001b[2m2023-10-24 13:43:18\u001b[0m [\u001b[32m\u001b[1minfo     \u001b[0m] \u001b[1mexp_6_SAC_reacher_20231024131731: epoch=124 step=124000\u001b[0m \u001b[36mepoch\u001b[0m=\u001b[35m124\u001b[0m \u001b[36mmetrics\u001b[0m=\u001b[35m{'time_inference': 0.001088116407394409, 'time_environment_step': 0.00014258265495300292, 'time_sample_batch': 0.00032904052734375, 'time_algorithm_update': 0.010264285564422607, 'temp_loss': 2.6789166615344586e-05, 'temp': 0.021761411843821406, 'critic_loss': 0.010132823507301509, 'actor_loss': 10.155751845359802, 'time_step': 0.011892892122268676, 'rollout_return': -4.326678090676748, 'evaluation': -4.070105352616674}\u001b[0m \u001b[36mstep\u001b[0m=\u001b[35m124000\u001b[0m\n",
      "\u001b[2m2023-10-24 13:43:30\u001b[0m [\u001b[32m\u001b[1minfo     \u001b[0m] \u001b[1mexp_6_SAC_reacher_20231024131731: epoch=125 step=125000\u001b[0m \u001b[36mepoch\u001b[0m=\u001b[35m125\u001b[0m \u001b[36mmetrics\u001b[0m=\u001b[35m{'time_inference': 0.0010884237289428712, 'time_environment_step': 0.00014256691932678224, 'time_sample_batch': 0.00033005285263061526, 'time_algorithm_update': 0.010287397146224975, 'temp_loss': 7.338946888921782e-07, 'temp': 0.022006903860718012, 'critic_loss': 0.009792849416378886, 'actor_loss': 10.132452178955079, 'time_step': 0.011916377067565919, 'rollout_return': -4.682491183031628, 'evaluation': -3.83907863293199}\u001b[0m \u001b[36mstep\u001b[0m=\u001b[35m125000\u001b[0m\n",
      "\u001b[2m2023-10-24 13:43:43\u001b[0m [\u001b[32m\u001b[1minfo     \u001b[0m] \u001b[1mexp_6_SAC_reacher_20231024131731: epoch=126 step=126000\u001b[0m \u001b[36mepoch\u001b[0m=\u001b[35m126\u001b[0m \u001b[36mmetrics\u001b[0m=\u001b[35m{'time_inference': 0.001080014705657959, 'time_environment_step': 0.00014069533348083497, 'time_sample_batch': 0.00032476162910461423, 'time_algorithm_update': 0.010279346466064453, 'temp_loss': 4.245614747196669e-05, 'temp': 0.021912076802924275, 'critic_loss': 0.00926806333474815, 'actor_loss': 10.118389892578126, 'time_step': 0.01189286184310913, 'rollout_return': -4.861874355096807, 'evaluation': -4.3720037723784015}\u001b[0m \u001b[36mstep\u001b[0m=\u001b[35m126000\u001b[0m\n",
      "\u001b[2m2023-10-24 13:43:55\u001b[0m [\u001b[32m\u001b[1minfo     \u001b[0m] \u001b[1mexp_6_SAC_reacher_20231024131731: epoch=127 step=127000\u001b[0m \u001b[36mepoch\u001b[0m=\u001b[35m127\u001b[0m \u001b[36mmetrics\u001b[0m=\u001b[35m{'time_inference': 0.0010744287967681884, 'time_environment_step': 0.00014139986038208007, 'time_sample_batch': 0.0003260657787322998, 'time_algorithm_update': 0.010260863542556762, 'temp_loss': -7.390264111745636e-05, 'temp': 0.02191919102706015, 'critic_loss': 0.009602789564523847, 'actor_loss': 10.095877243041992, 'time_step': 0.011870848417282105, 'rollout_return': -4.72805328926462, 'evaluation': -4.397999802322756}\u001b[0m \u001b[36mstep\u001b[0m=\u001b[35m127000\u001b[0m\n",
      "\u001b[2m2023-10-24 13:44:08\u001b[0m [\u001b[32m\u001b[1minfo     \u001b[0m] \u001b[1mexp_6_SAC_reacher_20231024131731: epoch=128 step=128000\u001b[0m \u001b[36mepoch\u001b[0m=\u001b[35m128\u001b[0m \u001b[36mmetrics\u001b[0m=\u001b[35m{'time_inference': 0.001093224048614502, 'time_environment_step': 0.0001425654888153076, 'time_sample_batch': 0.00033183908462524415, 'time_algorithm_update': 0.0102633159160614, 'temp_loss': 7.682025460235309e-05, 'temp': 0.021958961265161635, 'critic_loss': 0.009303910095710308, 'actor_loss': 10.066425221443176, 'time_step': 0.011899511575698853, 'rollout_return': -4.961882265147195, 'evaluation': -3.510749699219912}\u001b[0m \u001b[36mstep\u001b[0m=\u001b[35m128000\u001b[0m\n",
      "\u001b[2m2023-10-24 13:44:20\u001b[0m [\u001b[32m\u001b[1minfo     \u001b[0m] \u001b[1mexp_6_SAC_reacher_20231024131731: epoch=129 step=129000\u001b[0m \u001b[36mepoch\u001b[0m=\u001b[35m129\u001b[0m \u001b[36mmetrics\u001b[0m=\u001b[35m{'time_inference': 0.0010796875953674315, 'time_environment_step': 0.00014228224754333496, 'time_sample_batch': 0.0003286845684051514, 'time_algorithm_update': 0.010246932268142701, 'temp_loss': 2.539718319894746e-06, 'temp': 0.021652712658047676, 'critic_loss': 0.008983708772342652, 'actor_loss': 10.039007432937622, 'time_step': 0.011866046667099, 'rollout_return': -4.2873865709398915, 'evaluation': -3.2797346259821203}\u001b[0m \u001b[36mstep\u001b[0m=\u001b[35m129000\u001b[0m\n",
      "\u001b[2m2023-10-24 13:44:32\u001b[0m [\u001b[32m\u001b[1minfo     \u001b[0m] \u001b[1mModel parameters are saved to d3rlpy_logs/exp_6_SAC_reacher_20231024131731/model_130000.pt\u001b[0m\n",
      "\u001b[2m2023-10-24 13:44:32\u001b[0m [\u001b[32m\u001b[1minfo     \u001b[0m] \u001b[1mexp_6_SAC_reacher_20231024131731: epoch=130 step=130000\u001b[0m \u001b[36mepoch\u001b[0m=\u001b[35m130\u001b[0m \u001b[36mmetrics\u001b[0m=\u001b[35m{'time_inference': 0.0011048619747161866, 'time_environment_step': 0.00014429950714111328, 'time_sample_batch': 0.00033153796195983885, 'time_algorithm_update': 0.01031371283531189, 'temp_loss': 1.626900542032672e-05, 'temp': 0.02193105973675847, 'critic_loss': 0.0083961684955284, 'actor_loss': 10.005405178070069, 'time_step': 0.011963200092315674, 'rollout_return': -4.991143724480712, 'evaluation': -2.9520010404915524}\u001b[0m \u001b[36mstep\u001b[0m=\u001b[35m130000\u001b[0m\n",
      "\u001b[2m2023-10-24 13:44:45\u001b[0m [\u001b[32m\u001b[1minfo     \u001b[0m] \u001b[1mexp_6_SAC_reacher_20231024131731: epoch=131 step=131000\u001b[0m \u001b[36mepoch\u001b[0m=\u001b[35m131\u001b[0m \u001b[36mmetrics\u001b[0m=\u001b[35m{'time_inference': 0.00107096266746521, 'time_environment_step': 0.0001440155506134033, 'time_sample_batch': 0.0003252444267272949, 'time_algorithm_update': 0.010297873258590698, 'temp_loss': 1.970394525778829e-05, 'temp': 0.02175166878476739, 'critic_loss': 0.008658609134610742, 'actor_loss': 9.979087326049804, 'time_step': 0.011906889915466309, 'rollout_return': -4.8328348532298815, 'evaluation': -4.549252837451796}\u001b[0m \u001b[36mstep\u001b[0m=\u001b[35m131000\u001b[0m\n",
      "\u001b[2m2023-10-24 13:44:57\u001b[0m [\u001b[32m\u001b[1minfo     \u001b[0m] \u001b[1mexp_6_SAC_reacher_20231024131731: epoch=132 step=132000\u001b[0m \u001b[36mepoch\u001b[0m=\u001b[35m132\u001b[0m \u001b[36mmetrics\u001b[0m=\u001b[35m{'time_inference': 0.0010856606960296632, 'time_environment_step': 0.00014345693588256836, 'time_sample_batch': 0.00033251070976257326, 'time_algorithm_update': 0.010239129066467284, 'temp_loss': -3.265507080504904e-05, 'temp': 0.02185114673525095, 'critic_loss': 0.008100582159124315, 'actor_loss': 9.960233813285827, 'time_step': 0.011869333982467652, 'rollout_return': -5.11766597291093, 'evaluation': -4.290184312610952}\u001b[0m \u001b[36mstep\u001b[0m=\u001b[35m132000\u001b[0m\n",
      "\u001b[2m2023-10-24 13:45:10\u001b[0m [\u001b[32m\u001b[1minfo     \u001b[0m] \u001b[1mexp_6_SAC_reacher_20231024131731: epoch=133 step=133000\u001b[0m \u001b[36mepoch\u001b[0m=\u001b[35m133\u001b[0m \u001b[36mmetrics\u001b[0m=\u001b[35m{'time_inference': 0.001088209867477417, 'time_environment_step': 0.00014244389533996581, 'time_sample_batch': 0.00033150172233581545, 'time_algorithm_update': 0.010293990612030028, 'temp_loss': 2.161502510716673e-05, 'temp': 0.021590727625414727, 'critic_loss': 0.008329679012997075, 'actor_loss': 9.93909486103058, 'time_step': 0.011924313306808472, 'rollout_return': -4.486483132211728, 'evaluation': -4.955257077797692}\u001b[0m \u001b[36mstep\u001b[0m=\u001b[35m133000\u001b[0m\n",
      "\u001b[2m2023-10-24 13:45:22\u001b[0m [\u001b[32m\u001b[1minfo     \u001b[0m] \u001b[1mexp_6_SAC_reacher_20231024131731: epoch=134 step=134000\u001b[0m \u001b[36mepoch\u001b[0m=\u001b[35m134\u001b[0m \u001b[36mmetrics\u001b[0m=\u001b[35m{'time_inference': 0.001108116626739502, 'time_environment_step': 0.00014386129379272462, 'time_sample_batch': 0.00033713245391845705, 'time_algorithm_update': 0.01034368872642517, 'temp_loss': 4.115939897019416e-06, 'temp': 0.02161538504809141, 'critic_loss': 0.008522653929889202, 'actor_loss': 9.916055150985718, 'time_step': 0.01200219464302063, 'rollout_return': -5.1198123370889785, 'evaluation': -4.057798757776962}\u001b[0m \u001b[36mstep\u001b[0m=\u001b[35m134000\u001b[0m\n",
      "\u001b[2m2023-10-24 13:45:35\u001b[0m [\u001b[32m\u001b[1minfo     \u001b[0m] \u001b[1mexp_6_SAC_reacher_20231024131731: epoch=135 step=135000\u001b[0m \u001b[36mepoch\u001b[0m=\u001b[35m135\u001b[0m \u001b[36mmetrics\u001b[0m=\u001b[35m{'time_inference': 0.0011043059825897217, 'time_environment_step': 0.00014275765419006348, 'time_sample_batch': 0.00033495187759399416, 'time_algorithm_update': 0.01032592225074768, 'temp_loss': -2.3104409396182747e-05, 'temp': 0.021614802548661827, 'critic_loss': 0.008323019481264056, 'actor_loss': 9.881754043579102, 'time_step': 0.011976266145706177, 'rollout_return': -4.862332030780495, 'evaluation': -3.96384615087238}\u001b[0m \u001b[36mstep\u001b[0m=\u001b[35m135000\u001b[0m\n",
      "\u001b[2m2023-10-24 13:45:47\u001b[0m [\u001b[32m\u001b[1minfo     \u001b[0m] \u001b[1mexp_6_SAC_reacher_20231024131731: epoch=136 step=136000\u001b[0m \u001b[36mepoch\u001b[0m=\u001b[35m136\u001b[0m \u001b[36mmetrics\u001b[0m=\u001b[35m{'time_inference': 0.0010904521942138672, 'time_environment_step': 0.0001412639617919922, 'time_sample_batch': 0.00032972955703735354, 'time_algorithm_update': 0.010268902540206909, 'temp_loss': 1.555719621683238e-05, 'temp': 0.021818993479013442, 'critic_loss': 0.008257903663441538, 'actor_loss': 9.856453072547913, 'time_step': 0.011898258447647095, 'rollout_return': -4.857513102216418, 'evaluation': -3.6796012220236785}\u001b[0m \u001b[36mstep\u001b[0m=\u001b[35m136000\u001b[0m\n",
      "\u001b[2m2023-10-24 13:46:00\u001b[0m [\u001b[32m\u001b[1minfo     \u001b[0m] \u001b[1mexp_6_SAC_reacher_20231024131731: epoch=137 step=137000\u001b[0m \u001b[36mepoch\u001b[0m=\u001b[35m137\u001b[0m \u001b[36mmetrics\u001b[0m=\u001b[35m{'time_inference': 0.0010781593322753906, 'time_environment_step': 0.0001400899887084961, 'time_sample_batch': 0.00032870745658874513, 'time_algorithm_update': 0.010216580152511597, 'temp_loss': 3.597354879457271e-05, 'temp': 0.02161658500880003, 'critic_loss': 0.0076066983086057, 'actor_loss': 9.832526013374329, 'time_step': 0.011831934213638306, 'rollout_return': -5.035498447862482, 'evaluation': -3.4328871085849677}\u001b[0m \u001b[36mstep\u001b[0m=\u001b[35m137000\u001b[0m\n",
      "\u001b[2m2023-10-24 13:46:12\u001b[0m [\u001b[32m\u001b[1minfo     \u001b[0m] \u001b[1mexp_6_SAC_reacher_20231024131731: epoch=138 step=138000\u001b[0m \u001b[36mepoch\u001b[0m=\u001b[35m138\u001b[0m \u001b[36mmetrics\u001b[0m=\u001b[35m{'time_inference': 0.0010874087810516357, 'time_environment_step': 0.00014126157760620118, 'time_sample_batch': 0.000334446907043457, 'time_algorithm_update': 0.010275747299194336, 'temp_loss': -3.508413799863774e-05, 'temp': 0.021613324573263527, 'critic_loss': 0.0075536187354009595, 'actor_loss': 9.80516234779358, 'time_step': 0.011907283782958984, 'rollout_return': -4.497586170279094, 'evaluation': -3.2152293374231866}\u001b[0m \u001b[36mstep\u001b[0m=\u001b[35m138000\u001b[0m\n",
      "\u001b[2m2023-10-24 13:46:25\u001b[0m [\u001b[32m\u001b[1minfo     \u001b[0m] \u001b[1mexp_6_SAC_reacher_20231024131731: epoch=139 step=139000\u001b[0m \u001b[36mepoch\u001b[0m=\u001b[35m139\u001b[0m \u001b[36mmetrics\u001b[0m=\u001b[35m{'time_inference': 0.0010873632431030273, 'time_environment_step': 0.00014260315895080566, 'time_sample_batch': 0.0003350684642791748, 'time_algorithm_update': 0.010277749300003051, 'temp_loss': 8.669981296407059e-06, 'temp': 0.021625502102077008, 'critic_loss': 0.007569275139365345, 'actor_loss': 9.777581206321717, 'time_step': 0.011911636590957642, 'rollout_return': -5.075406090030991, 'evaluation': -3.4976586823400275}\u001b[0m \u001b[36mstep\u001b[0m=\u001b[35m139000\u001b[0m\n",
      "\u001b[2m2023-10-24 13:46:37\u001b[0m [\u001b[32m\u001b[1minfo     \u001b[0m] \u001b[1mModel parameters are saved to d3rlpy_logs/exp_6_SAC_reacher_20231024131731/model_140000.pt\u001b[0m\n",
      "\u001b[2m2023-10-24 13:46:37\u001b[0m [\u001b[32m\u001b[1minfo     \u001b[0m] \u001b[1mexp_6_SAC_reacher_20231024131731: epoch=140 step=140000\u001b[0m \u001b[36mepoch\u001b[0m=\u001b[35m140\u001b[0m \u001b[36mmetrics\u001b[0m=\u001b[35m{'time_inference': 0.0010849838256835938, 'time_environment_step': 0.00014285612106323243, 'time_sample_batch': 0.000333869457244873, 'time_algorithm_update': 0.010308219194412232, 'temp_loss': 4.0021494023676495e-05, 'temp': 0.021506032904610037, 'critic_loss': 0.007454115729080513, 'actor_loss': 9.750368515968322, 'time_step': 0.01193869423866272, 'rollout_return': -5.002519142591217, 'evaluation': -3.194942742263213}\u001b[0m \u001b[36mstep\u001b[0m=\u001b[35m140000\u001b[0m\n",
      "\u001b[2m2023-10-24 13:46:50\u001b[0m [\u001b[32m\u001b[1minfo     \u001b[0m] \u001b[1mexp_6_SAC_reacher_20231024131731: epoch=141 step=141000\u001b[0m \u001b[36mepoch\u001b[0m=\u001b[35m141\u001b[0m \u001b[36mmetrics\u001b[0m=\u001b[35m{'time_inference': 0.0010905685424804688, 'time_environment_step': 0.00014254355430603027, 'time_sample_batch': 0.00033202648162841794, 'time_algorithm_update': 0.010257407903671264, 'temp_loss': -1.1696263798512519e-05, 'temp': 0.021547926548868418, 'critic_loss': 0.007242076081689447, 'actor_loss': 9.72598608493805, 'time_step': 0.011891369581222534, 'rollout_return': -5.432359411974327, 'evaluation': -4.169139705991235}\u001b[0m \u001b[36mstep\u001b[0m=\u001b[35m141000\u001b[0m\n",
      "\u001b[2m2023-10-24 13:47:02\u001b[0m [\u001b[32m\u001b[1minfo     \u001b[0m] \u001b[1mexp_6_SAC_reacher_20231024131731: epoch=142 step=142000\u001b[0m \u001b[36mepoch\u001b[0m=\u001b[35m142\u001b[0m \u001b[36mmetrics\u001b[0m=\u001b[35m{'time_inference': 0.0010820932388305663, 'time_environment_step': 0.0001425507068634033, 'time_sample_batch': 0.0003332171440124512, 'time_algorithm_update': 0.010288797378540038, 'temp_loss': -3.166197266546078e-05, 'temp': 0.021535873979330062, 'critic_loss': 0.007205686291214078, 'actor_loss': 9.7060861120224, 'time_step': 0.01191472887992859, 'rollout_return': -5.239345726834196, 'evaluation': -3.3843561028990856}\u001b[0m \u001b[36mstep\u001b[0m=\u001b[35m142000\u001b[0m\n",
      "\u001b[2m2023-10-24 13:47:14\u001b[0m [\u001b[32m\u001b[1minfo     \u001b[0m] \u001b[1mexp_6_SAC_reacher_20231024131731: epoch=143 step=143000\u001b[0m \u001b[36mepoch\u001b[0m=\u001b[35m143\u001b[0m \u001b[36mmetrics\u001b[0m=\u001b[35m{'time_inference': 0.001065927267074585, 'time_environment_step': 0.00014050984382629395, 'time_sample_batch': 0.00033090662956237793, 'time_algorithm_update': 0.010179948329925538, 'temp_loss': 4.242179173161276e-05, 'temp': 0.02156045757047832, 'critic_loss': 0.007500768387690187, 'actor_loss': 9.68716963481903, 'time_step': 0.011784794569015503, 'rollout_return': -4.612961623489472, 'evaluation': -4.211652359520615}\u001b[0m \u001b[36mstep\u001b[0m=\u001b[35m143000\u001b[0m\n",
      "\u001b[2m2023-10-24 13:47:27\u001b[0m [\u001b[32m\u001b[1minfo     \u001b[0m] \u001b[1mexp_6_SAC_reacher_20231024131731: epoch=144 step=144000\u001b[0m \u001b[36mepoch\u001b[0m=\u001b[35m144\u001b[0m \u001b[36mmetrics\u001b[0m=\u001b[35m{'time_inference': 0.0010763390064239503, 'time_environment_step': 0.0001402750015258789, 'time_sample_batch': 0.00032950806617736817, 'time_algorithm_update': 0.01021595549583435, 'temp_loss': -3.928035032004118e-05, 'temp': 0.02148599853180349, 'critic_loss': 0.007079317097784951, 'actor_loss': 9.664920239448547, 'time_step': 0.011829367160797119, 'rollout_return': -4.894575627968846, 'evaluation': -3.788247652242781}\u001b[0m \u001b[36mstep\u001b[0m=\u001b[35m144000\u001b[0m\n",
      "\u001b[2m2023-10-24 13:47:39\u001b[0m [\u001b[32m\u001b[1minfo     \u001b[0m] \u001b[1mexp_6_SAC_reacher_20231024131731: epoch=145 step=145000\u001b[0m \u001b[36mepoch\u001b[0m=\u001b[35m145\u001b[0m \u001b[36mmetrics\u001b[0m=\u001b[35m{'time_inference': 0.0010887186527252198, 'time_environment_step': 0.00014234018325805665, 'time_sample_batch': 0.00033339858055114746, 'time_algorithm_update': 0.010422565221786499, 'temp_loss': 6.0360823692462875e-05, 'temp': 0.02151875207014382, 'critic_loss': 0.006797091413056478, 'actor_loss': 9.644296055793761, 'time_step': 0.012055437088012695, 'rollout_return': -4.658303522465716, 'evaluation': -4.157393346314455}\u001b[0m \u001b[36mstep\u001b[0m=\u001b[35m145000\u001b[0m\n",
      "\u001b[2m2023-10-24 13:47:52\u001b[0m [\u001b[32m\u001b[1minfo     \u001b[0m] \u001b[1mexp_6_SAC_reacher_20231024131731: epoch=146 step=146000\u001b[0m \u001b[36mepoch\u001b[0m=\u001b[35m146\u001b[0m \u001b[36mmetrics\u001b[0m=\u001b[35m{'time_inference': 0.0010732529163360596, 'time_environment_step': 0.00014144468307495116, 'time_sample_batch': 0.0003318836688995361, 'time_algorithm_update': 0.010243077278137207, 'temp_loss': -5.7661482685944066e-05, 'temp': 0.021483487183228137, 'critic_loss': 0.006811975942226127, 'actor_loss': 9.623468765258789, 'time_step': 0.011857380151748658, 'rollout_return': -5.239455704246028, 'evaluation': -3.393775083368122}\u001b[0m \u001b[36mstep\u001b[0m=\u001b[35m146000\u001b[0m\n",
      "\u001b[2m2023-10-24 13:48:04\u001b[0m [\u001b[32m\u001b[1minfo     \u001b[0m] \u001b[1mexp_6_SAC_reacher_20231024131731: epoch=147 step=147000\u001b[0m \u001b[36mepoch\u001b[0m=\u001b[35m147\u001b[0m \u001b[36mmetrics\u001b[0m=\u001b[35m{'time_inference': 0.001081402063369751, 'time_environment_step': 0.00014235401153564454, 'time_sample_batch': 0.00033008861541748046, 'time_algorithm_update': 0.010252918243408203, 'temp_loss': 4.474091598240193e-06, 'temp': 0.021578855669125915, 'critic_loss': 0.006560083800693974, 'actor_loss': 9.599226716041565, 'time_step': 0.011874948740005492, 'rollout_return': -4.999833965371079, 'evaluation': -3.5511540609610934}\u001b[0m \u001b[36mstep\u001b[0m=\u001b[35m147000\u001b[0m\n",
      "\u001b[2m2023-10-24 13:48:17\u001b[0m [\u001b[32m\u001b[1minfo     \u001b[0m] \u001b[1mexp_6_SAC_reacher_20231024131731: epoch=148 step=148000\u001b[0m \u001b[36mepoch\u001b[0m=\u001b[35m148\u001b[0m \u001b[36mmetrics\u001b[0m=\u001b[35m{'time_inference': 0.0010749318599700929, 'time_environment_step': 0.0001417412757873535, 'time_sample_batch': 0.0003318021297454834, 'time_algorithm_update': 0.01024549651145935, 'temp_loss': -1.6151687159435823e-06, 'temp': 0.021549991359934212, 'critic_loss': 0.006717830045381561, 'actor_loss': 9.581404973983764, 'time_step': 0.011861872673034669, 'rollout_return': -4.626860497767472, 'evaluation': -4.092136806805644}\u001b[0m \u001b[36mstep\u001b[0m=\u001b[35m148000\u001b[0m\n",
      "\u001b[2m2023-10-24 13:48:29\u001b[0m [\u001b[32m\u001b[1minfo     \u001b[0m] \u001b[1mexp_6_SAC_reacher_20231024131731: epoch=149 step=149000\u001b[0m \u001b[36mepoch\u001b[0m=\u001b[35m149\u001b[0m \u001b[36mmetrics\u001b[0m=\u001b[35m{'time_inference': 0.0010933349132537843, 'time_environment_step': 0.00014314913749694823, 'time_sample_batch': 0.0003369877338409424, 'time_algorithm_update': 0.010290650129318237, 'temp_loss': 1.8791896727634593e-06, 'temp': 0.021669096421450377, 'critic_loss': 0.0061978998559061435, 'actor_loss': 9.569528228759765, 'time_step': 0.011932887077331544, 'rollout_return': -4.603259076460086, 'evaluation': -3.6316662347616244}\u001b[0m \u001b[36mstep\u001b[0m=\u001b[35m149000\u001b[0m\n",
      "\u001b[2m2023-10-24 13:48:42\u001b[0m [\u001b[32m\u001b[1minfo     \u001b[0m] \u001b[1mModel parameters are saved to d3rlpy_logs/exp_6_SAC_reacher_20231024131731/model_150000.pt\u001b[0m\n",
      "\u001b[2m2023-10-24 13:48:42\u001b[0m [\u001b[32m\u001b[1minfo     \u001b[0m] \u001b[1mexp_6_SAC_reacher_20231024131731: epoch=150 step=150000\u001b[0m \u001b[36mepoch\u001b[0m=\u001b[35m150\u001b[0m \u001b[36mmetrics\u001b[0m=\u001b[35m{'time_inference': 0.0010875794887542725, 'time_environment_step': 0.0001434154510498047, 'time_sample_batch': 0.0003330843448638916, 'time_algorithm_update': 0.010300564050674439, 'temp_loss': 1.2093589597498066e-05, 'temp': 0.02160244625248015, 'critic_loss': 0.00663447930989787, 'actor_loss': 9.549952503204345, 'time_step': 0.011933227777481079, 'rollout_return': -4.83983070137325, 'evaluation': -3.5680966219999797}\u001b[0m \u001b[36mstep\u001b[0m=\u001b[35m150000\u001b[0m\n",
      "\u001b[2m2023-10-24 13:48:54\u001b[0m [\u001b[32m\u001b[1minfo     \u001b[0m] \u001b[1mexp_6_SAC_reacher_20231024131731: epoch=151 step=151000\u001b[0m \u001b[36mepoch\u001b[0m=\u001b[35m151\u001b[0m \u001b[36mmetrics\u001b[0m=\u001b[35m{'time_inference': 0.001106644630432129, 'time_environment_step': 0.00014458036422729492, 'time_sample_batch': 0.0003380908966064453, 'time_algorithm_update': 0.01028480863571167, 'temp_loss': 1.0391271047410556e-05, 'temp': 0.021383706701919438, 'critic_loss': 0.005953314740443603, 'actor_loss': 9.531806884765626, 'time_step': 0.011943798303604126, 'rollout_return': -5.177713037468197, 'evaluation': -3.194994337354697}\u001b[0m \u001b[36mstep\u001b[0m=\u001b[35m151000\u001b[0m\n",
      "\u001b[2m2023-10-24 13:49:07\u001b[0m [\u001b[32m\u001b[1minfo     \u001b[0m] \u001b[1mexp_6_SAC_reacher_20231024131731: epoch=152 step=152000\u001b[0m \u001b[36mepoch\u001b[0m=\u001b[35m152\u001b[0m \u001b[36mmetrics\u001b[0m=\u001b[35m{'time_inference': 0.0010929591655731202, 'time_environment_step': 0.00014113736152648925, 'time_sample_batch': 0.00033250617980957033, 'time_algorithm_update': 0.010277820110321046, 'temp_loss': 1.929814253162476e-05, 'temp': 0.021491688584908842, 'critic_loss': 0.006626406341092661, 'actor_loss': 9.51946481513977, 'time_step': 0.0119127676486969, 'rollout_return': -5.177537435912857, 'evaluation': -3.283357401983706}\u001b[0m \u001b[36mstep\u001b[0m=\u001b[35m152000\u001b[0m\n",
      "\u001b[2m2023-10-24 13:49:19\u001b[0m [\u001b[32m\u001b[1minfo     \u001b[0m] \u001b[1mexp_6_SAC_reacher_20231024131731: epoch=153 step=153000\u001b[0m \u001b[36mepoch\u001b[0m=\u001b[35m153\u001b[0m \u001b[36mmetrics\u001b[0m=\u001b[35m{'time_inference': 0.0010862116813659668, 'time_environment_step': 0.00014187550544738769, 'time_sample_batch': 0.0003335878849029541, 'time_algorithm_update': 0.010200875282287598, 'temp_loss': 1.2909784709336237e-06, 'temp': 0.021498317275196313, 'critic_loss': 0.006543750690063461, 'actor_loss': 9.498436425209045, 'time_step': 0.011831042766571044, 'rollout_return': -5.10060657207123, 'evaluation': -3.810074122239643}\u001b[0m \u001b[36mstep\u001b[0m=\u001b[35m153000\u001b[0m\n",
      "\u001b[2m2023-10-24 13:49:31\u001b[0m [\u001b[32m\u001b[1minfo     \u001b[0m] \u001b[1mexp_6_SAC_reacher_20231024131731: epoch=154 step=154000\u001b[0m \u001b[36mepoch\u001b[0m=\u001b[35m154\u001b[0m \u001b[36mmetrics\u001b[0m=\u001b[35m{'time_inference': 0.0010795116424560547, 'time_environment_step': 0.00014038729667663574, 'time_sample_batch': 0.0003330419063568115, 'time_algorithm_update': 0.010255894660949706, 'temp_loss': -7.750321227649692e-05, 'temp': 0.02157445120625198, 'critic_loss': 0.006758178435266018, 'actor_loss': 9.483741283416748, 'time_step': 0.011876796245574951, 'rollout_return': -5.170117788145042, 'evaluation': -5.59275679011384}\u001b[0m \u001b[36mstep\u001b[0m=\u001b[35m154000\u001b[0m\n",
      "\u001b[2m2023-10-24 13:49:44\u001b[0m [\u001b[32m\u001b[1minfo     \u001b[0m] \u001b[1mexp_6_SAC_reacher_20231024131731: epoch=155 step=155000\u001b[0m \u001b[36mepoch\u001b[0m=\u001b[35m155\u001b[0m \u001b[36mmetrics\u001b[0m=\u001b[35m{'time_inference': 0.0010729334354400634, 'time_environment_step': 0.0001400582790374756, 'time_sample_batch': 0.0003327229022979736, 'time_algorithm_update': 0.010224506139755249, 'temp_loss': 5.598954127344768e-05, 'temp': 0.021649954449385403, 'critic_loss': 0.0060677468415815386, 'actor_loss': 9.47324792957306, 'time_step': 0.011837732315063477, 'rollout_return': -4.948917115305871, 'evaluation': -3.525886714243634}\u001b[0m \u001b[36mstep\u001b[0m=\u001b[35m155000\u001b[0m\n",
      "\u001b[2m2023-10-24 13:49:56\u001b[0m [\u001b[32m\u001b[1minfo     \u001b[0m] \u001b[1mexp_6_SAC_reacher_20231024131731: epoch=156 step=156000\u001b[0m \u001b[36mepoch\u001b[0m=\u001b[35m156\u001b[0m \u001b[36mmetrics\u001b[0m=\u001b[35m{'time_inference': 0.0010933680534362792, 'time_environment_step': 0.00014319229125976562, 'time_sample_batch': 0.00033928489685058596, 'time_algorithm_update': 0.010310774326324462, 'temp_loss': -1.108661448233761e-05, 'temp': 0.021367767613381147, 'critic_loss': 0.005956116555724293, 'actor_loss': 9.44875669670105, 'time_step': 0.011954563379287719, 'rollout_return': -5.05387694389064, 'evaluation': -4.451716471688343}\u001b[0m \u001b[36mstep\u001b[0m=\u001b[35m156000\u001b[0m\n",
      "\u001b[2m2023-10-24 13:50:09\u001b[0m [\u001b[32m\u001b[1minfo     \u001b[0m] \u001b[1mexp_6_SAC_reacher_20231024131731: epoch=157 step=157000\u001b[0m \u001b[36mepoch\u001b[0m=\u001b[35m157\u001b[0m \u001b[36mmetrics\u001b[0m=\u001b[35m{'time_inference': 0.001081094741821289, 'time_environment_step': 0.00014161396026611328, 'time_sample_batch': 0.00033176112174987794, 'time_algorithm_update': 0.010213899135589599, 'temp_loss': 8.3610779067385e-05, 'temp': 0.021357125213369726, 'critic_loss': 0.005945786128519103, 'actor_loss': 9.431253839492799, 'time_step': 0.011836742877960205, 'rollout_return': -4.7988738120346, 'evaluation': -3.920785989010092}\u001b[0m \u001b[36mstep\u001b[0m=\u001b[35m157000\u001b[0m\n",
      "\u001b[2m2023-10-24 13:50:21\u001b[0m [\u001b[32m\u001b[1minfo     \u001b[0m] \u001b[1mexp_6_SAC_reacher_20231024131731: epoch=158 step=158000\u001b[0m \u001b[36mepoch\u001b[0m=\u001b[35m158\u001b[0m \u001b[36mmetrics\u001b[0m=\u001b[35m{'time_inference': 0.0010880870819091797, 'time_environment_step': 0.0001425483226776123, 'time_sample_batch': 0.00033363652229309083, 'time_algorithm_update': 0.010300909042358398, 'temp_loss': -4.611120131448843e-05, 'temp': 0.021406042756512762, 'critic_loss': 0.00584817618993111, 'actor_loss': 9.414136173248291, 'time_step': 0.01193376588821411, 'rollout_return': -4.803584882285718, 'evaluation': -3.8111925851442927}\u001b[0m \u001b[36mstep\u001b[0m=\u001b[35m158000\u001b[0m\n",
      "\u001b[2m2023-10-24 13:50:34\u001b[0m [\u001b[32m\u001b[1minfo     \u001b[0m] \u001b[1mexp_6_SAC_reacher_20231024131731: epoch=159 step=159000\u001b[0m \u001b[36mepoch\u001b[0m=\u001b[35m159\u001b[0m \u001b[36mmetrics\u001b[0m=\u001b[35m{'time_inference': 0.0010866060256958007, 'time_environment_step': 0.00014157462120056153, 'time_sample_batch': 0.00033350110054016115, 'time_algorithm_update': 0.01027495789527893, 'temp_loss': 2.102037434815429e-05, 'temp': 0.021429344400763512, 'critic_loss': 0.005738920443924144, 'actor_loss': 9.402972153663635, 'time_step': 0.011904714345932007, 'rollout_return': -5.020630169932987, 'evaluation': -3.8457617496009915}\u001b[0m \u001b[36mstep\u001b[0m=\u001b[35m159000\u001b[0m\n",
      "\u001b[2m2023-10-24 13:50:46\u001b[0m [\u001b[32m\u001b[1minfo     \u001b[0m] \u001b[1mModel parameters are saved to d3rlpy_logs/exp_6_SAC_reacher_20231024131731/model_160000.pt\u001b[0m\n",
      "\u001b[2m2023-10-24 13:50:46\u001b[0m [\u001b[32m\u001b[1minfo     \u001b[0m] \u001b[1mexp_6_SAC_reacher_20231024131731: epoch=160 step=160000\u001b[0m \u001b[36mepoch\u001b[0m=\u001b[35m160\u001b[0m \u001b[36mmetrics\u001b[0m=\u001b[35m{'time_inference': 0.00107944917678833, 'time_environment_step': 0.0001404285430908203, 'time_sample_batch': 0.00033145904541015625, 'time_algorithm_update': 0.010261739730834961, 'temp_loss': 2.540743073041085e-05, 'temp': 0.021341263962909578, 'critic_loss': 0.005868295295163989, 'actor_loss': 9.398573179244995, 'time_step': 0.011880377531051636, 'rollout_return': -5.200694108949544, 'evaluation': -3.289676678462307}\u001b[0m \u001b[36mstep\u001b[0m=\u001b[35m160000\u001b[0m\n",
      "\u001b[2m2023-10-24 13:50:59\u001b[0m [\u001b[32m\u001b[1minfo     \u001b[0m] \u001b[1mexp_6_SAC_reacher_20231024131731: epoch=161 step=161000\u001b[0m \u001b[36mepoch\u001b[0m=\u001b[35m161\u001b[0m \u001b[36mmetrics\u001b[0m=\u001b[35m{'time_inference': 0.0011000728607177734, 'time_environment_step': 0.00014325833320617676, 'time_sample_batch': 0.00034014892578125, 'time_algorithm_update': 0.010337491989135743, 'temp_loss': -2.7025939270970412e-05, 'temp': 0.021338157346472143, 'critic_loss': 0.005764089405536652, 'actor_loss': 9.376832824707032, 'time_step': 0.011990202188491821, 'rollout_return': -4.692441191048199, 'evaluation': -3.5077504203242915}\u001b[0m \u001b[36mstep\u001b[0m=\u001b[35m161000\u001b[0m\n",
      "\u001b[2m2023-10-24 13:51:11\u001b[0m [\u001b[32m\u001b[1minfo     \u001b[0m] \u001b[1mexp_6_SAC_reacher_20231024131731: epoch=162 step=162000\u001b[0m \u001b[36mepoch\u001b[0m=\u001b[35m162\u001b[0m \u001b[36mmetrics\u001b[0m=\u001b[35m{'time_inference': 0.0010836846828460693, 'time_environment_step': 0.00014224958419799805, 'time_sample_batch': 0.0003323674201965332, 'time_algorithm_update': 0.010214463949203492, 'temp_loss': -1.2087014627468307e-05, 'temp': 0.021202274383977055, 'critic_loss': 0.005951623033965007, 'actor_loss': 9.356599537849426, 'time_step': 0.011840882778167725, 'rollout_return': -4.392202736977966, 'evaluation': -4.1956100714778}\u001b[0m \u001b[36mstep\u001b[0m=\u001b[35m162000\u001b[0m\n",
      "\u001b[2m2023-10-24 13:51:24\u001b[0m [\u001b[32m\u001b[1minfo     \u001b[0m] \u001b[1mexp_6_SAC_reacher_20231024131731: epoch=163 step=163000\u001b[0m \u001b[36mepoch\u001b[0m=\u001b[35m163\u001b[0m \u001b[36mmetrics\u001b[0m=\u001b[35m{'time_inference': 0.0010962226390838622, 'time_environment_step': 0.00014324021339416504, 'time_sample_batch': 0.00033921003341674805, 'time_algorithm_update': 0.010310813903808594, 'temp_loss': -2.8349388274364174e-05, 'temp': 0.021216932686045766, 'critic_loss': 0.005812382350908593, 'actor_loss': 9.342528900146485, 'time_step': 0.01195831561088562, 'rollout_return': -4.462308151171037, 'evaluation': -4.140153565420436}\u001b[0m \u001b[36mstep\u001b[0m=\u001b[35m163000\u001b[0m\n",
      "\u001b[2m2023-10-24 13:51:36\u001b[0m [\u001b[32m\u001b[1minfo     \u001b[0m] \u001b[1mexp_6_SAC_reacher_20231024131731: epoch=164 step=164000\u001b[0m \u001b[36mepoch\u001b[0m=\u001b[35m164\u001b[0m \u001b[36mmetrics\u001b[0m=\u001b[35m{'time_inference': 0.0010868408679962159, 'time_environment_step': 0.00013986444473266602, 'time_sample_batch': 0.000333756685256958, 'time_algorithm_update': 0.010249291658401488, 'temp_loss': -6.17373970526387e-05, 'temp': 0.021381021808832883, 'critic_loss': 0.006126249478198588, 'actor_loss': 9.33120055961609, 'time_step': 0.011877538681030274, 'rollout_return': -5.108300277049582, 'evaluation': -3.6537420549816355}\u001b[0m \u001b[36mstep\u001b[0m=\u001b[35m164000\u001b[0m\n",
      "\u001b[2m2023-10-24 13:51:48\u001b[0m [\u001b[32m\u001b[1minfo     \u001b[0m] \u001b[1mexp_6_SAC_reacher_20231024131731: epoch=165 step=165000\u001b[0m \u001b[36mepoch\u001b[0m=\u001b[35m165\u001b[0m \u001b[36mmetrics\u001b[0m=\u001b[35m{'time_inference': 0.001074566125869751, 'time_environment_step': 0.00013923144340515138, 'time_sample_batch': 0.000330054759979248, 'time_algorithm_update': 0.010262699365615845, 'temp_loss': 8.54161567549454e-05, 'temp': 0.021445385241881013, 'critic_loss': 0.0059208739884197715, 'actor_loss': 9.314179217338562, 'time_step': 0.011873451471328735, 'rollout_return': -4.6636161583036095, 'evaluation': -3.607498524817045}\u001b[0m \u001b[36mstep\u001b[0m=\u001b[35m165000\u001b[0m\n",
      "\u001b[2m2023-10-24 13:52:01\u001b[0m [\u001b[32m\u001b[1minfo     \u001b[0m] \u001b[1mexp_6_SAC_reacher_20231024131731: epoch=166 step=166000\u001b[0m \u001b[36mepoch\u001b[0m=\u001b[35m166\u001b[0m \u001b[36mmetrics\u001b[0m=\u001b[35m{'time_inference': 0.001093472957611084, 'time_environment_step': 0.00014252614974975586, 'time_sample_batch': 0.0003364083766937256, 'time_algorithm_update': 0.010251554489135742, 'temp_loss': -1.136980075534666e-05, 'temp': 0.021371204940602184, 'critic_loss': 0.005248933907598257, 'actor_loss': 9.292183938980102, 'time_step': 0.011892498970031739, 'rollout_return': -4.152098049027774, 'evaluation': -3.1576272136658443}\u001b[0m \u001b[36mstep\u001b[0m=\u001b[35m166000\u001b[0m\n",
      "\u001b[2m2023-10-24 13:52:13\u001b[0m [\u001b[32m\u001b[1minfo     \u001b[0m] \u001b[1mexp_6_SAC_reacher_20231024131731: epoch=167 step=167000\u001b[0m \u001b[36mepoch\u001b[0m=\u001b[35m167\u001b[0m \u001b[36mmetrics\u001b[0m=\u001b[35m{'time_inference': 0.0010840284824371338, 'time_environment_step': 0.0001430494785308838, 'time_sample_batch': 0.0003340461254119873, 'time_algorithm_update': 0.010286371469497681, 'temp_loss': 4.411274169979151e-05, 'temp': 0.021311613012105227, 'critic_loss': 0.005477523028850555, 'actor_loss': 9.285345747947693, 'time_step': 0.011915977239608765, 'rollout_return': -4.948243566418478, 'evaluation': -2.7989798809329427}\u001b[0m \u001b[36mstep\u001b[0m=\u001b[35m167000\u001b[0m\n",
      "\u001b[2m2023-10-24 13:52:26\u001b[0m [\u001b[32m\u001b[1minfo     \u001b[0m] \u001b[1mexp_6_SAC_reacher_20231024131731: epoch=168 step=168000\u001b[0m \u001b[36mepoch\u001b[0m=\u001b[35m168\u001b[0m \u001b[36mmetrics\u001b[0m=\u001b[35m{'time_inference': 0.0010846900939941407, 'time_environment_step': 0.00014076018333435058, 'time_sample_batch': 0.0003320653438568115, 'time_algorithm_update': 0.010267616748809815, 'temp_loss': -5.730515631148592e-05, 'temp': 0.021313563691452146, 'critic_loss': 0.005824130686698481, 'actor_loss': 9.27172224521637, 'time_step': 0.011892252206802368, 'rollout_return': -5.363876152073755, 'evaluation': -2.7217761217486993}\u001b[0m \u001b[36mstep\u001b[0m=\u001b[35m168000\u001b[0m\n",
      "\u001b[2m2023-10-24 13:52:38\u001b[0m [\u001b[32m\u001b[1minfo     \u001b[0m] \u001b[1mexp_6_SAC_reacher_20231024131731: epoch=169 step=169000\u001b[0m \u001b[36mepoch\u001b[0m=\u001b[35m169\u001b[0m \u001b[36mmetrics\u001b[0m=\u001b[35m{'time_inference': 0.0010967922210693359, 'time_environment_step': 0.00014493560791015625, 'time_sample_batch': 0.0003394641876220703, 'time_algorithm_update': 0.010295484066009521, 'temp_loss': -4.662259988253936e-05, 'temp': 0.021428019927814602, 'critic_loss': 0.005576301825931296, 'actor_loss': 9.258763284683228, 'time_step': 0.01194531559944153, 'rollout_return': -4.846703807975139, 'evaluation': -3.227500316164947}\u001b[0m \u001b[36mstep\u001b[0m=\u001b[35m169000\u001b[0m\n",
      "\u001b[2m2023-10-24 13:52:51\u001b[0m [\u001b[32m\u001b[1minfo     \u001b[0m] \u001b[1mModel parameters are saved to d3rlpy_logs/exp_6_SAC_reacher_20231024131731/model_170000.pt\u001b[0m\n",
      "\u001b[2m2023-10-24 13:52:51\u001b[0m [\u001b[32m\u001b[1minfo     \u001b[0m] \u001b[1mexp_6_SAC_reacher_20231024131731: epoch=170 step=170000\u001b[0m \u001b[36mepoch\u001b[0m=\u001b[35m170\u001b[0m \u001b[36mmetrics\u001b[0m=\u001b[35m{'time_inference': 0.001094268321990967, 'time_environment_step': 0.00014167356491088867, 'time_sample_batch': 0.0003384964466094971, 'time_algorithm_update': 0.01026263952255249, 'temp_loss': 4.623909335350618e-06, 'temp': 0.021419962909072637, 'critic_loss': 0.005421827965183184, 'actor_loss': 9.24443667602539, 'time_step': 0.011904988527297974, 'rollout_return': -5.242307793275812, 'evaluation': -4.149995068577434}\u001b[0m \u001b[36mstep\u001b[0m=\u001b[35m170000\u001b[0m\n",
      "\u001b[2m2023-10-24 13:53:03\u001b[0m [\u001b[32m\u001b[1minfo     \u001b[0m] \u001b[1mexp_6_SAC_reacher_20231024131731: epoch=171 step=171000\u001b[0m \u001b[36mepoch\u001b[0m=\u001b[35m171\u001b[0m \u001b[36mmetrics\u001b[0m=\u001b[35m{'time_inference': 0.0010815110206604003, 'time_environment_step': 0.0001423506736755371, 'time_sample_batch': 0.00033544325828552247, 'time_algorithm_update': 0.010193642854690552, 'temp_loss': 0.00010869456215004902, 'temp': 0.02142528865672648, 'critic_loss': 0.00617887701257132, 'actor_loss': 9.237162254333496, 'time_step': 0.011820565223693848, 'rollout_return': -4.853548610423214, 'evaluation': -4.948467197200883}\u001b[0m \u001b[36mstep\u001b[0m=\u001b[35m171000\u001b[0m\n",
      "\u001b[2m2023-10-24 13:53:16\u001b[0m [\u001b[32m\u001b[1minfo     \u001b[0m] \u001b[1mexp_6_SAC_reacher_20231024131731: epoch=172 step=172000\u001b[0m \u001b[36mepoch\u001b[0m=\u001b[35m172\u001b[0m \u001b[36mmetrics\u001b[0m=\u001b[35m{'time_inference': 0.001081254005432129, 'time_environment_step': 0.00014418077468872072, 'time_sample_batch': 0.0003335249423980713, 'time_algorithm_update': 0.010246191024780273, 'temp_loss': -6.899811924813549e-05, 'temp': 0.021322635002434254, 'critic_loss': 0.005352142293704673, 'actor_loss': 9.22751130580902, 'time_step': 0.011873284578323364, 'rollout_return': -4.980867117624536, 'evaluation': -3.3869151552166583}\u001b[0m \u001b[36mstep\u001b[0m=\u001b[35m172000\u001b[0m\n",
      "\u001b[2m2023-10-24 13:53:28\u001b[0m [\u001b[32m\u001b[1minfo     \u001b[0m] \u001b[1mexp_6_SAC_reacher_20231024131731: epoch=173 step=173000\u001b[0m \u001b[36mepoch\u001b[0m=\u001b[35m173\u001b[0m \u001b[36mmetrics\u001b[0m=\u001b[35m{'time_inference': 0.0010814719200134277, 'time_environment_step': 0.00014100837707519532, 'time_sample_batch': 0.00033029675483703613, 'time_algorithm_update': 0.010245786905288696, 'temp_loss': 2.453983414307004e-05, 'temp': 0.021448130492120982, 'critic_loss': 0.0052555358989629895, 'actor_loss': 9.211029357910157, 'time_step': 0.011866501808166504, 'rollout_return': -4.62518189463861, 'evaluation': -2.70864685935222}\u001b[0m \u001b[36mstep\u001b[0m=\u001b[35m173000\u001b[0m\n",
      "\u001b[2m2023-10-24 13:53:40\u001b[0m [\u001b[32m\u001b[1minfo     \u001b[0m] \u001b[1mexp_6_SAC_reacher_20231024131731: epoch=174 step=174000\u001b[0m \u001b[36mepoch\u001b[0m=\u001b[35m174\u001b[0m \u001b[36mmetrics\u001b[0m=\u001b[35m{'time_inference': 0.0010971450805664063, 'time_environment_step': 0.00014449620246887208, 'time_sample_batch': 0.00034237241744995115, 'time_algorithm_update': 0.01020116925239563, 'temp_loss': -2.7801019583421294e-05, 'temp': 0.02129998751543462, 'critic_loss': 0.005193693123757839, 'actor_loss': 9.193130659103394, 'time_step': 0.011853548288345337, 'rollout_return': -5.202515585412531, 'evaluation': -4.385190404035071}\u001b[0m \u001b[36mstep\u001b[0m=\u001b[35m174000\u001b[0m\n",
      "\u001b[2m2023-10-24 13:53:53\u001b[0m [\u001b[32m\u001b[1minfo     \u001b[0m] \u001b[1mexp_6_SAC_reacher_20231024131731: epoch=175 step=175000\u001b[0m \u001b[36mepoch\u001b[0m=\u001b[35m175\u001b[0m \u001b[36mmetrics\u001b[0m=\u001b[35m{'time_inference': 0.0011045627593994141, 'time_environment_step': 0.00014233565330505372, 'time_sample_batch': 0.0003367588520050049, 'time_algorithm_update': 0.010287828922271728, 'temp_loss': -3.056311863474548e-06, 'temp': 0.021382814778015017, 'critic_loss': 0.005289772916352377, 'actor_loss': 9.192786058425904, 'time_step': 0.011939527750015258, 'rollout_return': -4.359183973704932, 'evaluation': -3.6601363046212905}\u001b[0m \u001b[36mstep\u001b[0m=\u001b[35m175000\u001b[0m\n",
      "\u001b[2m2023-10-24 13:54:06\u001b[0m [\u001b[32m\u001b[1minfo     \u001b[0m] \u001b[1mexp_6_SAC_reacher_20231024131731: epoch=176 step=176000\u001b[0m \u001b[36mepoch\u001b[0m=\u001b[35m176\u001b[0m \u001b[36mmetrics\u001b[0m=\u001b[35m{'time_inference': 0.0011100771427154542, 'time_environment_step': 0.0001436769962310791, 'time_sample_batch': 0.0003444533348083496, 'time_algorithm_update': 0.010332518339157104, 'temp_loss': 4.918210342293605e-05, 'temp': 0.021293407991528512, 'critic_loss': 0.005524749459465966, 'actor_loss': 9.1780258102417, 'time_step': 0.012000198125839233, 'rollout_return': -5.0385395001985245, 'evaluation': -4.607441256122553}\u001b[0m \u001b[36mstep\u001b[0m=\u001b[35m176000\u001b[0m\n",
      "\u001b[2m2023-10-24 13:54:18\u001b[0m [\u001b[32m\u001b[1minfo     \u001b[0m] \u001b[1mexp_6_SAC_reacher_20231024131731: epoch=177 step=177000\u001b[0m \u001b[36mepoch\u001b[0m=\u001b[35m177\u001b[0m \u001b[36mmetrics\u001b[0m=\u001b[35m{'time_inference': 0.001085209369659424, 'time_environment_step': 0.00014375948905944824, 'time_sample_batch': 0.00033922886848449706, 'time_algorithm_update': 0.010183521270751953, 'temp_loss': 2.4710012221476065e-05, 'temp': 0.021072168312966825, 'critic_loss': 0.005559879397973418, 'actor_loss': 9.164318610191346, 'time_step': 0.011820194244384765, 'rollout_return': -5.292450134790032, 'evaluation': -3.6075880738672352}\u001b[0m \u001b[36mstep\u001b[0m=\u001b[35m177000\u001b[0m\n",
      "\u001b[2m2023-10-24 13:54:30\u001b[0m [\u001b[32m\u001b[1minfo     \u001b[0m] \u001b[1mexp_6_SAC_reacher_20231024131731: epoch=178 step=178000\u001b[0m \u001b[36mepoch\u001b[0m=\u001b[35m178\u001b[0m \u001b[36mmetrics\u001b[0m=\u001b[35m{'time_inference': 0.001084770679473877, 'time_environment_step': 0.00014240550994873048, 'time_sample_batch': 0.0003370051383972168, 'time_algorithm_update': 0.010261971473693848, 'temp_loss': 1.2675186269916593e-05, 'temp': 0.021251058779656887, 'critic_loss': 0.005160301846917719, 'actor_loss': 9.148383445739746, 'time_step': 0.011894089460372926, 'rollout_return': -4.810498887554276, 'evaluation': -3.7201422402608735}\u001b[0m \u001b[36mstep\u001b[0m=\u001b[35m178000\u001b[0m\n",
      "\u001b[2m2023-10-24 13:54:43\u001b[0m [\u001b[32m\u001b[1minfo     \u001b[0m] \u001b[1mexp_6_SAC_reacher_20231024131731: epoch=179 step=179000\u001b[0m \u001b[36mepoch\u001b[0m=\u001b[35m179\u001b[0m \u001b[36mmetrics\u001b[0m=\u001b[35m{'time_inference': 0.0010965700149536133, 'time_environment_step': 0.00014417171478271485, 'time_sample_batch': 0.000339991569519043, 'time_algorithm_update': 0.010239420890808105, 'temp_loss': -3.345146813080646e-05, 'temp': 0.021260394191369415, 'critic_loss': 0.0050427272685337815, 'actor_loss': 9.137189310073852, 'time_step': 0.011888795852661133, 'rollout_return': -4.809438692982896, 'evaluation': -3.258622449120204}\u001b[0m \u001b[36mstep\u001b[0m=\u001b[35m179000\u001b[0m\n",
      "\u001b[2m2023-10-24 13:54:55\u001b[0m [\u001b[32m\u001b[1minfo     \u001b[0m] \u001b[1mModel parameters are saved to d3rlpy_logs/exp_6_SAC_reacher_20231024131731/model_180000.pt\u001b[0m\n",
      "\u001b[2m2023-10-24 13:54:55\u001b[0m [\u001b[32m\u001b[1minfo     \u001b[0m] \u001b[1mexp_6_SAC_reacher_20231024131731: epoch=180 step=180000\u001b[0m \u001b[36mepoch\u001b[0m=\u001b[35m180\u001b[0m \u001b[36mmetrics\u001b[0m=\u001b[35m{'time_inference': 0.0010844507217407226, 'time_environment_step': 0.00014210891723632813, 'time_sample_batch': 0.0003347647190093994, 'time_algorithm_update': 0.0102092604637146, 'temp_loss': -5.537096745683812e-05, 'temp': 0.021356238534674048, 'critic_loss': 0.005357377823675052, 'actor_loss': 9.122102940559387, 'time_step': 0.011838284492492676, 'rollout_return': -4.852000519423658, 'evaluation': -3.8375934166850185}\u001b[0m \u001b[36mstep\u001b[0m=\u001b[35m180000\u001b[0m\n",
      "\u001b[2m2023-10-24 13:55:08\u001b[0m [\u001b[32m\u001b[1minfo     \u001b[0m] \u001b[1mexp_6_SAC_reacher_20231024131731: epoch=181 step=181000\u001b[0m \u001b[36mepoch\u001b[0m=\u001b[35m181\u001b[0m \u001b[36mmetrics\u001b[0m=\u001b[35m{'time_inference': 0.0010789620876312256, 'time_environment_step': 0.0001419961452484131, 'time_sample_batch': 0.0003362269401550293, 'time_algorithm_update': 0.010233374118804931, 'temp_loss': 4.222535237204284e-06, 'temp': 0.02137443323433399, 'critic_loss': 0.004908917593769729, 'actor_loss': 9.112621415138245, 'time_step': 0.011858134746551514, 'rollout_return': -5.318021637670411, 'evaluation': -3.3901560375979316}\u001b[0m \u001b[36mstep\u001b[0m=\u001b[35m181000\u001b[0m\n",
      "\u001b[2m2023-10-24 13:55:20\u001b[0m [\u001b[32m\u001b[1minfo     \u001b[0m] \u001b[1mexp_6_SAC_reacher_20231024131731: epoch=182 step=182000\u001b[0m \u001b[36mepoch\u001b[0m=\u001b[35m182\u001b[0m \u001b[36mmetrics\u001b[0m=\u001b[35m{'time_inference': 0.0010928361415863037, 'time_environment_step': 0.0001421043872833252, 'time_sample_batch': 0.0003372519016265869, 'time_algorithm_update': 0.010282220125198364, 'temp_loss': 4.2669832124374805e-05, 'temp': 0.021265975659713148, 'critic_loss': 0.005363212452735752, 'actor_loss': 9.104583317756653, 'time_step': 0.011922275066375733, 'rollout_return': -5.399273929161285, 'evaluation': -4.3277962017302825}\u001b[0m \u001b[36mstep\u001b[0m=\u001b[35m182000\u001b[0m\n",
      "\u001b[2m2023-10-24 13:55:33\u001b[0m [\u001b[32m\u001b[1minfo     \u001b[0m] \u001b[1mexp_6_SAC_reacher_20231024131731: epoch=183 step=183000\u001b[0m \u001b[36mepoch\u001b[0m=\u001b[35m183\u001b[0m \u001b[36mmetrics\u001b[0m=\u001b[35m{'time_inference': 0.0010810484886169434, 'time_environment_step': 0.00014150643348693847, 'time_sample_batch': 0.0003336811065673828, 'time_algorithm_update': 0.010263621807098389, 'temp_loss': 4.3851696405909025e-05, 'temp': 0.02128491535037756, 'critic_loss': 0.005412021150812507, 'actor_loss': 9.099837049484252, 'time_step': 0.011887655258178711, 'rollout_return': -4.695304014722025, 'evaluation': -3.3363324913066186}\u001b[0m \u001b[36mstep\u001b[0m=\u001b[35m183000\u001b[0m\n",
      "\u001b[2m2023-10-24 13:55:45\u001b[0m [\u001b[32m\u001b[1minfo     \u001b[0m] \u001b[1mexp_6_SAC_reacher_20231024131731: epoch=184 step=184000\u001b[0m \u001b[36mepoch\u001b[0m=\u001b[35m184\u001b[0m \u001b[36mmetrics\u001b[0m=\u001b[35m{'time_inference': 0.0010931406021118164, 'time_environment_step': 0.000144395112991333, 'time_sample_batch': 0.00034018588066101076, 'time_algorithm_update': 0.010236496448516846, 'temp_loss': -8.554404925962445e-05, 'temp': 0.021174129493534564, 'critic_loss': 0.004810487598879263, 'actor_loss': 9.084563041687012, 'time_step': 0.01188233757019043, 'rollout_return': -4.3619656254971515, 'evaluation': -4.43704749175925}\u001b[0m \u001b[36mstep\u001b[0m=\u001b[35m184000\u001b[0m\n",
      "\u001b[2m2023-10-24 13:55:57\u001b[0m [\u001b[32m\u001b[1minfo     \u001b[0m] \u001b[1mexp_6_SAC_reacher_20231024131731: epoch=185 step=185000\u001b[0m \u001b[36mepoch\u001b[0m=\u001b[35m185\u001b[0m \u001b[36mmetrics\u001b[0m=\u001b[35m{'time_inference': 0.0010927176475524901, 'time_environment_step': 0.0001439669132232666, 'time_sample_batch': 0.00034263014793395997, 'time_algorithm_update': 0.010253783464431763, 'temp_loss': 7.388791716948617e-05, 'temp': 0.021294146811589598, 'critic_loss': 0.00477536778151989, 'actor_loss': 9.076480217933655, 'time_step': 0.011902175903320312, 'rollout_return': -4.31312830160179, 'evaluation': -3.534239690225251}\u001b[0m \u001b[36mstep\u001b[0m=\u001b[35m185000\u001b[0m\n",
      "\u001b[2m2023-10-24 13:56:10\u001b[0m [\u001b[32m\u001b[1minfo     \u001b[0m] \u001b[1mexp_6_SAC_reacher_20231024131731: epoch=186 step=186000\u001b[0m \u001b[36mepoch\u001b[0m=\u001b[35m186\u001b[0m \u001b[36mmetrics\u001b[0m=\u001b[35m{'time_inference': 0.0010919780731201171, 'time_environment_step': 0.00014307665824890136, 'time_sample_batch': 0.0003422403335571289, 'time_algorithm_update': 0.010208932638168335, 'temp_loss': -5.746831655415008e-05, 'temp': 0.021261920604854823, 'critic_loss': 0.005178261414868757, 'actor_loss': 9.069131937026977, 'time_step': 0.01185494065284729, 'rollout_return': -4.814689545041871, 'evaluation': -3.425207181341655}\u001b[0m \u001b[36mstep\u001b[0m=\u001b[35m186000\u001b[0m\n",
      "\u001b[2m2023-10-24 13:56:22\u001b[0m [\u001b[32m\u001b[1minfo     \u001b[0m] \u001b[1mexp_6_SAC_reacher_20231024131731: epoch=187 step=187000\u001b[0m \u001b[36mepoch\u001b[0m=\u001b[35m187\u001b[0m \u001b[36mmetrics\u001b[0m=\u001b[35m{'time_inference': 0.001093416452407837, 'time_environment_step': 0.00014246606826782228, 'time_sample_batch': 0.00033501529693603514, 'time_algorithm_update': 0.010233078479766846, 'temp_loss': 2.887952841410879e-05, 'temp': 0.021174507182091476, 'critic_loss': 0.0053930268122348935, 'actor_loss': 9.052260363578796, 'time_step': 0.011871670484542846, 'rollout_return': -4.70436187942192, 'evaluation': -3.4842291742858817}\u001b[0m \u001b[36mstep\u001b[0m=\u001b[35m187000\u001b[0m\n",
      "\u001b[2m2023-10-24 13:56:35\u001b[0m [\u001b[32m\u001b[1minfo     \u001b[0m] \u001b[1mexp_6_SAC_reacher_20231024131731: epoch=188 step=188000\u001b[0m \u001b[36mepoch\u001b[0m=\u001b[35m188\u001b[0m \u001b[36mmetrics\u001b[0m=\u001b[35m{'time_inference': 0.0011072113513946533, 'time_environment_step': 0.00014461398124694823, 'time_sample_batch': 0.00034215641021728514, 'time_algorithm_update': 0.010297965526580811, 'temp_loss': -4.954764400463318e-05, 'temp': 0.021374391546472908, 'critic_loss': 0.00519844010937959, 'actor_loss': 9.048996914863586, 'time_step': 0.011960709810256959, 'rollout_return': -4.623469405694495, 'evaluation': -3.4687043819476466}\u001b[0m \u001b[36mstep\u001b[0m=\u001b[35m188000\u001b[0m\n",
      "\u001b[2m2023-10-24 13:56:47\u001b[0m [\u001b[32m\u001b[1minfo     \u001b[0m] \u001b[1mexp_6_SAC_reacher_20231024131731: epoch=189 step=189000\u001b[0m \u001b[36mepoch\u001b[0m=\u001b[35m189\u001b[0m \u001b[36mmetrics\u001b[0m=\u001b[35m{'time_inference': 0.0010974164009094239, 'time_environment_step': 0.00014311552047729492, 'time_sample_batch': 0.00033779287338256837, 'time_algorithm_update': 0.010286664009094238, 'temp_loss': -1.7450854618800804e-05, 'temp': 0.02153847581706941, 'critic_loss': 0.004846585868159309, 'actor_loss': 9.040988578796387, 'time_step': 0.01193370246887207, 'rollout_return': -5.044122642631151, 'evaluation': -3.905756295780706}\u001b[0m \u001b[36mstep\u001b[0m=\u001b[35m189000\u001b[0m\n",
      "\u001b[2m2023-10-24 13:57:00\u001b[0m [\u001b[32m\u001b[1minfo     \u001b[0m] \u001b[1mModel parameters are saved to d3rlpy_logs/exp_6_SAC_reacher_20231024131731/model_190000.pt\u001b[0m\n",
      "\u001b[2m2023-10-24 13:57:00\u001b[0m [\u001b[32m\u001b[1minfo     \u001b[0m] \u001b[1mexp_6_SAC_reacher_20231024131731: epoch=190 step=190000\u001b[0m \u001b[36mepoch\u001b[0m=\u001b[35m190\u001b[0m \u001b[36mmetrics\u001b[0m=\u001b[35m{'time_inference': 0.0010885837078094482, 'time_environment_step': 0.00014311766624450684, 'time_sample_batch': 0.00033713841438293455, 'time_algorithm_update': 0.010260175704956055, 'temp_loss': 5.1666869650944136e-05, 'temp': 0.0214894382301718, 'critic_loss': 0.004882166748517193, 'actor_loss': 9.037262231826782, 'time_step': 0.0118962242603302, 'rollout_return': -5.010289781655604, 'evaluation': -3.81932936572341}\u001b[0m \u001b[36mstep\u001b[0m=\u001b[35m190000\u001b[0m\n",
      "\u001b[2m2023-10-24 13:57:12\u001b[0m [\u001b[32m\u001b[1minfo     \u001b[0m] \u001b[1mexp_6_SAC_reacher_20231024131731: epoch=191 step=191000\u001b[0m \u001b[36mepoch\u001b[0m=\u001b[35m191\u001b[0m \u001b[36mmetrics\u001b[0m=\u001b[35m{'time_inference': 0.0010936880111694336, 'time_environment_step': 0.00014330339431762695, 'time_sample_batch': 0.00034366321563720706, 'time_algorithm_update': 0.010275479793548583, 'temp_loss': -5.8073240084922874e-05, 'temp': 0.02134957276470959, 'critic_loss': 0.004714938083896413, 'actor_loss': 9.023713956832886, 'time_step': 0.011924636840820313, 'rollout_return': -4.552132677962334, 'evaluation': -3.84699500574162}\u001b[0m \u001b[36mstep\u001b[0m=\u001b[35m191000\u001b[0m\n",
      "\u001b[2m2023-10-24 13:57:25\u001b[0m [\u001b[32m\u001b[1minfo     \u001b[0m] \u001b[1mexp_6_SAC_reacher_20231024131731: epoch=192 step=192000\u001b[0m \u001b[36mepoch\u001b[0m=\u001b[35m192\u001b[0m \u001b[36mmetrics\u001b[0m=\u001b[35m{'time_inference': 0.0010824589729309083, 'time_environment_step': 0.00014160776138305665, 'time_sample_batch': 0.00033751749992370607, 'time_algorithm_update': 0.010414639472961425, 'temp_loss': 1.7510889338154813e-05, 'temp': 0.02139095828309655, 'critic_loss': 0.005113767446950078, 'actor_loss': 9.02077237701416, 'time_step': 0.012044251918792725, 'rollout_return': -4.722038281585886, 'evaluation': -3.6395008537296194}\u001b[0m \u001b[36mstep\u001b[0m=\u001b[35m192000\u001b[0m\n",
      "\u001b[2m2023-10-24 13:57:37\u001b[0m [\u001b[32m\u001b[1minfo     \u001b[0m] \u001b[1mexp_6_SAC_reacher_20231024131731: epoch=193 step=193000\u001b[0m \u001b[36mepoch\u001b[0m=\u001b[35m193\u001b[0m \u001b[36mmetrics\u001b[0m=\u001b[35m{'time_inference': 0.0010986387729644775, 'time_environment_step': 0.000143496036529541, 'time_sample_batch': 0.0003378887176513672, 'time_algorithm_update': 0.01034637451171875, 'temp_loss': 4.2919539650029036e-05, 'temp': 0.021541828028857707, 'critic_loss': 0.004770216772914864, 'actor_loss': 9.012880496025085, 'time_step': 0.011995375633239746, 'rollout_return': -4.665599068144702, 'evaluation': -3.5717132888214325}\u001b[0m \u001b[36mstep\u001b[0m=\u001b[35m193000\u001b[0m\n",
      "\u001b[2m2023-10-24 13:57:50\u001b[0m [\u001b[32m\u001b[1minfo     \u001b[0m] \u001b[1mexp_6_SAC_reacher_20231024131731: epoch=194 step=194000\u001b[0m \u001b[36mepoch\u001b[0m=\u001b[35m194\u001b[0m \u001b[36mmetrics\u001b[0m=\u001b[35m{'time_inference': 0.001075542688369751, 'time_environment_step': 0.0001424849033355713, 'time_sample_batch': 0.0003342442512512207, 'time_algorithm_update': 0.010280324220657349, 'temp_loss': 3.791944905242417e-05, 'temp': 0.021235592195764184, 'critic_loss': 0.005052320139831863, 'actor_loss': 9.000201518058777, 'time_step': 0.011900183200836181, 'rollout_return': -4.459422627677445, 'evaluation': -3.0357758775302637}\u001b[0m \u001b[36mstep\u001b[0m=\u001b[35m194000\u001b[0m\n",
      "\u001b[2m2023-10-24 13:58:02\u001b[0m [\u001b[32m\u001b[1minfo     \u001b[0m] \u001b[1mexp_6_SAC_reacher_20231024131731: epoch=195 step=195000\u001b[0m \u001b[36mepoch\u001b[0m=\u001b[35m195\u001b[0m \u001b[36mmetrics\u001b[0m=\u001b[35m{'time_inference': 0.001083897113800049, 'time_environment_step': 0.00014165592193603516, 'time_sample_batch': 0.0003382778167724609, 'time_algorithm_update': 0.010286911725997924, 'temp_loss': -3.1775639552506616e-05, 'temp': 0.021237087903544307, 'critic_loss': 0.004575315414112993, 'actor_loss': 8.997304017066956, 'time_step': 0.011918693780899048, 'rollout_return': -5.090356255465937, 'evaluation': -3.3963109626526675}\u001b[0m \u001b[36mstep\u001b[0m=\u001b[35m195000\u001b[0m\n",
      "\u001b[2m2023-10-24 13:58:15\u001b[0m [\u001b[32m\u001b[1minfo     \u001b[0m] \u001b[1mexp_6_SAC_reacher_20231024131731: epoch=196 step=196000\u001b[0m \u001b[36mepoch\u001b[0m=\u001b[35m196\u001b[0m \u001b[36mmetrics\u001b[0m=\u001b[35m{'time_inference': 0.0010838348865509033, 'time_environment_step': 0.00014260554313659667, 'time_sample_batch': 0.00034032082557678225, 'time_algorithm_update': 0.010299196243286133, 'temp_loss': 1.5597830242768395e-05, 'temp': 0.021320715676993132, 'critic_loss': 0.004686338946572505, 'actor_loss': 8.988015840530396, 'time_step': 0.01193486189842224, 'rollout_return': -4.339228534531598, 'evaluation': -4.366137946571728}\u001b[0m \u001b[36mstep\u001b[0m=\u001b[35m196000\u001b[0m\n",
      "\u001b[2m2023-10-24 13:58:27\u001b[0m [\u001b[32m\u001b[1minfo     \u001b[0m] \u001b[1mexp_6_SAC_reacher_20231024131731: epoch=197 step=197000\u001b[0m \u001b[36mepoch\u001b[0m=\u001b[35m197\u001b[0m \u001b[36mmetrics\u001b[0m=\u001b[35m{'time_inference': 0.001088477611541748, 'time_environment_step': 0.0001424257755279541, 'time_sample_batch': 0.00033445382118225096, 'time_algorithm_update': 0.010243829727172851, 'temp_loss': 4.870592151564779e-05, 'temp': 0.0211418417096138, 'critic_loss': 0.004706674817367457, 'actor_loss': 8.972838171005248, 'time_step': 0.011878468751907349, 'rollout_return': -4.707605443354344, 'evaluation': -3.8858747209420708}\u001b[0m \u001b[36mstep\u001b[0m=\u001b[35m197000\u001b[0m\n",
      "\u001b[2m2023-10-24 13:58:40\u001b[0m [\u001b[32m\u001b[1minfo     \u001b[0m] \u001b[1mexp_6_SAC_reacher_20231024131731: epoch=198 step=198000\u001b[0m \u001b[36mepoch\u001b[0m=\u001b[35m198\u001b[0m \u001b[36mmetrics\u001b[0m=\u001b[35m{'time_inference': 0.0010872259140014648, 'time_environment_step': 0.00014298582077026367, 'time_sample_batch': 0.00033587026596069335, 'time_algorithm_update': 0.010255632400512695, 'temp_loss': -9.867056894290726e-05, 'temp': 0.021351054860278964, 'critic_loss': 0.004471655818284489, 'actor_loss': 8.96310804748535, 'time_step': 0.011890223979949951, 'rollout_return': -5.013503004512357, 'evaluation': -4.004506178060938}\u001b[0m \u001b[36mstep\u001b[0m=\u001b[35m198000\u001b[0m\n",
      "\u001b[2m2023-10-24 13:58:52\u001b[0m [\u001b[32m\u001b[1minfo     \u001b[0m] \u001b[1mexp_6_SAC_reacher_20231024131731: epoch=199 step=199000\u001b[0m \u001b[36mepoch\u001b[0m=\u001b[35m199\u001b[0m \u001b[36mmetrics\u001b[0m=\u001b[35m{'time_inference': 0.001088627815246582, 'time_environment_step': 0.00014514660835266113, 'time_sample_batch': 0.0003406796455383301, 'time_algorithm_update': 0.01031675100326538, 'temp_loss': 3.9393818769895e-05, 'temp': 0.021397894436493516, 'critic_loss': 0.004856502937269397, 'actor_loss': 8.962778313636779, 'time_step': 0.011960397481918334, 'rollout_return': -5.372479044786082, 'evaluation': -3.427108063395964}\u001b[0m \u001b[36mstep\u001b[0m=\u001b[35m199000\u001b[0m\n",
      "\u001b[2m2023-10-24 13:59:05\u001b[0m [\u001b[32m\u001b[1minfo     \u001b[0m] \u001b[1mModel parameters are saved to d3rlpy_logs/exp_6_SAC_reacher_20231024131731/model_200000.pt\u001b[0m\n",
      "\u001b[2m2023-10-24 13:59:05\u001b[0m [\u001b[32m\u001b[1minfo     \u001b[0m] \u001b[1mexp_6_SAC_reacher_20231024131731: epoch=200 step=200000\u001b[0m \u001b[36mepoch\u001b[0m=\u001b[35m200\u001b[0m \u001b[36mmetrics\u001b[0m=\u001b[35m{'time_inference': 0.0010924661159515381, 'time_environment_step': 0.00014342451095581055, 'time_sample_batch': 0.0003393754959106445, 'time_algorithm_update': 0.010294237613677978, 'temp_loss': -1.6126013128086923e-05, 'temp': 0.021314481860026716, 'critic_loss': 0.0047025320270331575, 'actor_loss': 8.9538257894516, 'time_step': 0.01193784213066101, 'rollout_return': -5.1031843555000895, 'evaluation': -3.822304866677166}\u001b[0m \u001b[36mstep\u001b[0m=\u001b[35m200000\u001b[0m\n"
     ]
    }
   ],
   "source": [
    "actor_encoder = d3rlpy.models.encoders.DefaultEncoderFactory(dropout_rate=0.2)\n",
    "# setup algorithm\n",
    "sac = d3rlpy.algos.SAC(\n",
    "    batch_size=256,\n",
    "    actor_encoder_factory=actor_encoder,\n",
    "    actor_learning_rate=3e-4,\n",
    "    critic_learning_rate=3e-4,\n",
    "    temp_learning_rate=3e-4,\n",
    "    use_gpu=use_gpu\n",
    ")\n",
    "\n",
    "# prepare utilities\n",
    "buffer = d3rlpy.online.buffers.ReplayBuffer(maxlen=1000000, env=env1)\n",
    "\n",
    "# start training\n",
    "sac.fit_online(\n",
    "    env1,\n",
    "    buffer,\n",
    "    eval_env=eval_env1,\n",
    "    n_steps=200000,\n",
    "    n_steps_per_epoch=1000,\n",
    "    update_interval=1,\n",
    "    update_start_step=1000,\n",
    "    tensorboard_dir='tensorboard_logs',\n",
    "    experiment_name='exp_6_SAC_reacher',\n",
    "    save_interval=10\n",
    ")"
   ]
  },
  {
   "cell_type": "code",
   "execution_count": 7,
   "id": "ce7e7bd2-1bdf-4dec-9ecc-d1b42275b07e",
   "metadata": {},
   "outputs": [],
   "source": [
    "# export replay buffer as MDPDataset\n",
    "dataset = buffer.to_mdp_dataset()\n",
    "\n",
    "# save MDPDataset\n",
    "dataset.dump('d3rlpy_data/reacherv2_atan2.h5')"
   ]
  },
  {
   "cell_type": "markdown",
   "id": "74f4fca6-103e-4428-8afe-04f98213ed31",
   "metadata": {},
   "source": [
    "## Load the dataset"
   ]
  },
  {
   "cell_type": "code",
   "execution_count": 6,
   "id": "987e3d33-fceb-4576-a2da-5f617d746d01",
   "metadata": {},
   "outputs": [],
   "source": [
    "dataset = d3rlpy.dataset.MDPDataset.load('d3rlpy_data/reacherv2.h5')"
   ]
  },
  {
   "cell_type": "code",
   "execution_count": 7,
   "id": "5d4e58c8-a0ea-42a0-825a-702e5fa767be",
   "metadata": {},
   "outputs": [],
   "source": [
    "train_episodes, test_episodes = train_test_split(dataset, random_state=seed)"
   ]
  },
  {
   "cell_type": "markdown",
   "id": "425935b5-2a2f-497d-a63e-c2eb7f7cf8eb",
   "metadata": {},
   "source": [
    "## Dynamics learning"
   ]
  },
  {
   "cell_type": "code",
   "execution_count": 8,
   "id": "0610f1a8-8f9a-497b-b172-fcffd5245056",
   "metadata": {},
   "outputs": [],
   "source": [
    "def inverted_pendulum_project(x):\n",
    "    return x[:, 1:]\n",
    "projection_size = 3\n",
    "\n",
    "def reacher_project(x):\n",
    "    return x[:, [1,4,5]]\n",
    "projection_size = 3"
   ]
  },
  {
   "cell_type": "code",
   "execution_count": 7,
   "id": "d6db25ae-3d57-4680-bec9-9ccde0b9f983",
   "metadata": {},
   "outputs": [
    {
     "name": "stdout",
     "output_type": "stream",
     "text": [
      "Using SymmetryEncoderFactory\n"
     ]
    }
   ],
   "source": [
    "encoder_factory = encoders.SymmetryEncoderFactory(project=inverted_pendulum_project, projection_size=projection_size)\n",
    "dynamics = d3rlpy.dynamics.ProbabilisticEnsembleDynamics(learning_rate=1e-4, use_gpu=True, state_encoder_factory=encoder_factory)\n",
    "#dynamics = d3rlpy.dynamics.ProbabilisticEnsembleDynamics(learning_rate=1e-4, use_gpu=True) # Baseline"
   ]
  },
  {
   "cell_type": "code",
   "execution_count": 22,
   "id": "a6a23e36",
   "metadata": {
    "scrolled": true
   },
   "outputs": [
    {
     "ename": "NameError",
     "evalue": "name 'dynamics' is not defined",
     "output_type": "error",
     "traceback": [
      "\u001b[0;31m---------------------------------------------------------------------------\u001b[0m",
      "\u001b[0;31mNameError\u001b[0m                                 Traceback (most recent call last)",
      "Cell \u001b[0;32mIn[22], line 2\u001b[0m\n\u001b[1;32m      1\u001b[0m \u001b[38;5;66;03m# same as algorithms\u001b[39;00m\n\u001b[0;32m----> 2\u001b[0m \u001b[43mdynamics\u001b[49m\u001b[38;5;241m.\u001b[39mfit(train_episodes,\n\u001b[1;32m      3\u001b[0m              eval_episodes\u001b[38;5;241m=\u001b[39mtest_episodes,\n\u001b[1;32m      4\u001b[0m              n_epochs\u001b[38;5;241m=\u001b[39m\u001b[38;5;241m100\u001b[39m,\n\u001b[1;32m      5\u001b[0m              scorers\u001b[38;5;241m=\u001b[39m{\n\u001b[1;32m      6\u001b[0m                 \u001b[38;5;124m'\u001b[39m\u001b[38;5;124mobservation_error\u001b[39m\u001b[38;5;124m'\u001b[39m: d3rlpy\u001b[38;5;241m.\u001b[39mmetrics\u001b[38;5;241m.\u001b[39mscorer\u001b[38;5;241m.\u001b[39mdynamics_observation_prediction_error_scorer,\n\u001b[1;32m      7\u001b[0m                 \u001b[38;5;124m'\u001b[39m\u001b[38;5;124mreward_error\u001b[39m\u001b[38;5;124m'\u001b[39m: d3rlpy\u001b[38;5;241m.\u001b[39mmetrics\u001b[38;5;241m.\u001b[39mscorer\u001b[38;5;241m.\u001b[39mdynamics_reward_prediction_error_scorer,\n\u001b[1;32m      8\u001b[0m                 \u001b[38;5;124m'\u001b[39m\u001b[38;5;124mvariance\u001b[39m\u001b[38;5;124m'\u001b[39m: d3rlpy\u001b[38;5;241m.\u001b[39mmetrics\u001b[38;5;241m.\u001b[39mscorer\u001b[38;5;241m.\u001b[39mdynamics_prediction_variance_scorer,\n\u001b[1;32m      9\u001b[0m              },\n\u001b[1;32m     10\u001b[0m             tensorboard_dir\u001b[38;5;241m=\u001b[39m\u001b[38;5;124m'\u001b[39m\u001b[38;5;124mtensorboard_logs/dynamics\u001b[39m\u001b[38;5;124m'\u001b[39m,\n\u001b[1;32m     11\u001b[0m             experiment_name\u001b[38;5;241m=\u001b[39m\u001b[38;5;124m'\u001b[39m\u001b[38;5;124mSeparateStateAndRewardEncoders\u001b[39m\u001b[38;5;124m'\u001b[39m)\n",
      "\u001b[0;31mNameError\u001b[0m: name 'dynamics' is not defined"
     ]
    }
   ],
   "source": [
    "# same as algorithms\n",
    "dynamics.fit(train_episodes,\n",
    "             eval_episodes=test_episodes,\n",
    "             n_epochs=100,\n",
    "             scorers={\n",
    "                'observation_error': d3rlpy.metrics.scorer.dynamics_observation_prediction_error_scorer,\n",
    "                'reward_error': d3rlpy.metrics.scorer.dynamics_reward_prediction_error_scorer,\n",
    "                'variance': d3rlpy.metrics.scorer.dynamics_prediction_variance_scorer,\n",
    "             },\n",
    "            tensorboard_dir='tensorboard_logs/dynamics',\n",
    "            experiment_name='SeparateStateAndRewardEncoders')"
   ]
  },
  {
   "cell_type": "code",
   "execution_count": 12,
   "id": "7dce29e5-ef7b-4ae1-a5b1-0098a1ccb021",
   "metadata": {},
   "outputs": [],
   "source": [
    "def experiment_dynamics_training(dataset, symmetry_project, projection_size, n_runs, experiment_name, seed=1, use_gpu=True):\n",
    "    for i in range(n_runs):\n",
    "        for exp_type in ['default', 'symmetry']:\n",
    "            # use the same seeds for default and symmetric runs\n",
    "            train_episodes, test_episodes = train_test_split(dataset, random_state=seed+i)\n",
    "            if exp_type == 'symmetry':\n",
    "                state_encoder_factory = encoders.SymmetryEncoderFactory(project=symmetry_project, projection_size=projection_size)\n",
    "                train_episodes, test_episodes = train_test_split(dataset, random_state=seed+i+1) # remove this later\n",
    "                dynamics = d3rlpy.dynamics.ProbabilisticEnsembleDynamics(learning_rate=1e-4, use_gpu=use_gpu, state_encoder_factory=state_encoder_factory)\n",
    "            else:\n",
    "                dynamics = d3rlpy.dynamics.ProbabilisticEnsembleDynamics(learning_rate=1e-4, use_gpu=use_gpu)\n",
    "            dynamics.fit(train_episodes,\n",
    "                 eval_episodes=test_episodes,\n",
    "                 n_epochs=100,\n",
    "                 scorers={\n",
    "                    'observation_error': d3rlpy.metrics.scorer.dynamics_observation_prediction_error_scorer,\n",
    "                    'reward_error': d3rlpy.metrics.scorer.dynamics_reward_prediction_error_scorer,\n",
    "                    'variance': d3rlpy.metrics.scorer.dynamics_prediction_variance_scorer,\n",
    "                 },\n",
    "                tensorboard_dir='tensorboard_logs/dynamics',\n",
    "                experiment_name=experiment_name + '_' + exp_type)"
   ]
  },
  {
   "cell_type": "code",
   "execution_count": 13,
   "id": "4f779639-e088-4def-bdc8-ccfec3ef74e7",
   "metadata": {},
   "outputs": [
    {
     "name": "stdout",
     "output_type": "stream",
     "text": [
      "\u001b[2m2023-10-22 00:05:48\u001b[0m [\u001b[32m\u001b[1mdebug    \u001b[0m] \u001b[1mRoundIterator is selected.\u001b[0m\n",
      "\u001b[2m2023-10-22 00:05:48\u001b[0m [\u001b[32m\u001b[1minfo     \u001b[0m] \u001b[1mDirectory is created at d3rlpy_logs/exp_5_dynamics_reacher_default_20231022000548\u001b[0m\n",
      "\u001b[2m2023-10-22 00:05:48\u001b[0m [\u001b[32m\u001b[1mdebug    \u001b[0m] \u001b[1mBuilding models...\u001b[0m\n",
      "\u001b[2m2023-10-22 00:05:49\u001b[0m [\u001b[32m\u001b[1mdebug    \u001b[0m] \u001b[1mModels have been built.\u001b[0m\n",
      "\u001b[2m2023-10-22 00:05:49\u001b[0m [\u001b[32m\u001b[1minfo     \u001b[0m] \u001b[1mParameters are saved to d3rlpy_logs/exp_5_dynamics_reacher_default_20231022000548/params.json\u001b[0m \u001b[36mparams\u001b[0m=\u001b[35m{'action_scaler': None, 'batch_size': 100, 'discrete_action': False, 'gamma': 1.0, 'generated_maxlen': 100000, 'learning_rate': 0.0001, 'n_ensembles': 5, 'n_frames': 1, 'n_steps': 1, 'optim_factory': {'optim_cls': 'Adam', 'betas': (0.9, 0.999), 'eps': 1e-08, 'weight_decay': 0.0001, 'amsgrad': False}, 'real_ratio': 1.0, 'reward_encoder_factory': {'type': 'default', 'params': {'activation': 'relu', 'use_batch_norm': False, 'dropout_rate': None}}, 'reward_scaler': None, 'scaler': None, 'state_encoder_factory': {'type': 'default', 'params': {'activation': 'relu', 'use_batch_norm': False, 'dropout_rate': None}}, 'use_gpu': 0, 'variance_type': 'max', 'algorithm': 'ProbabilisticEnsembleDynamics', 'observation_shape': (8,), 'action_size': 2}\u001b[0m\n"
     ]
    },
    {
     "data": {
      "application/vnd.jupyter.widget-view+json": {
       "model_id": "3e16ffa6f8b94f5398dbd712e58e7bed",
       "version_major": 2,
       "version_minor": 0
      },
      "text/plain": [
       "Epoch 1/100:   0%|          | 0/4811 [00:00<?, ?it/s]"
      ]
     },
     "metadata": {},
     "output_type": "display_data"
    },
    {
     "name": "stdout",
     "output_type": "stream",
     "text": [
      "\u001b[2m2023-10-22 00:08:11\u001b[0m [\u001b[32m\u001b[1minfo     \u001b[0m] \u001b[1mexp_5_dynamics_reacher_default_20231022000548: epoch=1 step=4811\u001b[0m \u001b[36mepoch\u001b[0m=\u001b[35m1\u001b[0m \u001b[36mmetrics\u001b[0m=\u001b[35m{'time_sample_batch': 0.000245681202503332, 'time_algorithm_update': 0.018561039167192865, 'loss': 158.64583251195856, 'time_step': 0.0188931956456719, 'observation_error': 1.9341882627994524, 'reward_error': 0.04554997230132077, 'variance': 1.8632635014254653}\u001b[0m \u001b[36mstep\u001b[0m=\u001b[35m4811\u001b[0m\n",
      "\u001b[2m2023-10-22 00:08:11\u001b[0m [\u001b[32m\u001b[1minfo     \u001b[0m] \u001b[1mModel parameters are saved to d3rlpy_logs/exp_5_dynamics_reacher_default_20231022000548/model_4811.pt\u001b[0m\n"
     ]
    },
    {
     "data": {
      "application/vnd.jupyter.widget-view+json": {
       "model_id": "ff6a042703e0419fb4738edbf1dc1863",
       "version_major": 2,
       "version_minor": 0
      },
      "text/plain": [
       "Epoch 2/100:   0%|          | 0/4811 [00:00<?, ?it/s]"
      ]
     },
     "metadata": {},
     "output_type": "display_data"
    },
    {
     "name": "stdout",
     "output_type": "stream",
     "text": [
      "\u001b[2m2023-10-22 00:10:32\u001b[0m [\u001b[32m\u001b[1minfo     \u001b[0m] \u001b[1mexp_5_dynamics_reacher_default_20231022000548: epoch=2 step=9622\u001b[0m \u001b[36mepoch\u001b[0m=\u001b[35m2\u001b[0m \u001b[36mmetrics\u001b[0m=\u001b[35m{'time_sample_batch': 0.0002459282439950845, 'time_algorithm_update': 0.018409750858529694, 'loss': -25.502702346984922, 'time_step': 0.01873591287645028, 'observation_error': 1.4926990214166531, 'reward_error': 0.01139987107781643, 'variance': 1.1014125654333635}\u001b[0m \u001b[36mstep\u001b[0m=\u001b[35m9622\u001b[0m\n",
      "\u001b[2m2023-10-22 00:10:32\u001b[0m [\u001b[32m\u001b[1minfo     \u001b[0m] \u001b[1mModel parameters are saved to d3rlpy_logs/exp_5_dynamics_reacher_default_20231022000548/model_9622.pt\u001b[0m\n"
     ]
    },
    {
     "data": {
      "application/vnd.jupyter.widget-view+json": {
       "model_id": "449cb01feaa0476a92c78da05abc5483",
       "version_major": 2,
       "version_minor": 0
      },
      "text/plain": [
       "Epoch 3/100:   0%|          | 0/4811 [00:00<?, ?it/s]"
      ]
     },
     "metadata": {},
     "output_type": "display_data"
    },
    {
     "name": "stdout",
     "output_type": "stream",
     "text": [
      "\u001b[2m2023-10-22 00:12:56\u001b[0m [\u001b[32m\u001b[1minfo     \u001b[0m] \u001b[1mexp_5_dynamics_reacher_default_20231022000548: epoch=3 step=14433\u001b[0m \u001b[36mepoch\u001b[0m=\u001b[35m3\u001b[0m \u001b[36mmetrics\u001b[0m=\u001b[35m{'time_sample_batch': 0.0002709355827082569, 'time_algorithm_update': 0.018925876137720177, 'loss': -49.40428891178972, 'time_step': 0.019278724385358468, 'observation_error': 1.2164142722557887, 'reward_error': 0.005565371273750783, 'variance': 0.8147383720817261}\u001b[0m \u001b[36mstep\u001b[0m=\u001b[35m14433\u001b[0m\n",
      "\u001b[2m2023-10-22 00:12:56\u001b[0m [\u001b[32m\u001b[1minfo     \u001b[0m] \u001b[1mModel parameters are saved to d3rlpy_logs/exp_5_dynamics_reacher_default_20231022000548/model_14433.pt\u001b[0m\n"
     ]
    },
    {
     "data": {
      "application/vnd.jupyter.widget-view+json": {
       "model_id": "e5541cf935894567a009cbb43c8b10a1",
       "version_major": 2,
       "version_minor": 0
      },
      "text/plain": [
       "Epoch 4/100:   0%|          | 0/4811 [00:00<?, ?it/s]"
      ]
     },
     "metadata": {},
     "output_type": "display_data"
    },
    {
     "name": "stdout",
     "output_type": "stream",
     "text": [
      "\u001b[2m2023-10-22 00:15:19\u001b[0m [\u001b[32m\u001b[1minfo     \u001b[0m] \u001b[1mexp_5_dynamics_reacher_default_20231022000548: epoch=4 step=19244\u001b[0m \u001b[36mepoch\u001b[0m=\u001b[35m4\u001b[0m \u001b[36mmetrics\u001b[0m=\u001b[35m{'time_sample_batch': 0.00026170723256388863, 'time_algorithm_update': 0.01889953893773696, 'loss': -70.79778117544808, 'time_step': 0.01924041035615885, 'observation_error': 0.9160243358645376, 'reward_error': 0.003647304515320888, 'variance': 0.5120994633104732}\u001b[0m \u001b[36mstep\u001b[0m=\u001b[35m19244\u001b[0m\n",
      "\u001b[2m2023-10-22 00:15:19\u001b[0m [\u001b[32m\u001b[1minfo     \u001b[0m] \u001b[1mModel parameters are saved to d3rlpy_logs/exp_5_dynamics_reacher_default_20231022000548/model_19244.pt\u001b[0m\n"
     ]
    },
    {
     "data": {
      "application/vnd.jupyter.widget-view+json": {
       "model_id": "61b9f9f0f5ec478e9c8a82ae1b60ab04",
       "version_major": 2,
       "version_minor": 0
      },
      "text/plain": [
       "Epoch 5/100:   0%|          | 0/4811 [00:00<?, ?it/s]"
      ]
     },
     "metadata": {},
     "output_type": "display_data"
    },
    {
     "name": "stdout",
     "output_type": "stream",
     "text": [
      "\u001b[2m2023-10-22 00:17:43\u001b[0m [\u001b[32m\u001b[1minfo     \u001b[0m] \u001b[1mexp_5_dynamics_reacher_default_20231022000548: epoch=5 step=24055\u001b[0m \u001b[36mepoch\u001b[0m=\u001b[35m5\u001b[0m \u001b[36mmetrics\u001b[0m=\u001b[35m{'time_sample_batch': 0.000266700890128168, 'time_algorithm_update': 0.018961704984025433, 'loss': -88.55281478019148, 'time_step': 0.019308509214136016, 'observation_error': 0.8513213811732471, 'reward_error': 0.001367815785238064, 'variance': 0.462642113868026}\u001b[0m \u001b[36mstep\u001b[0m=\u001b[35m24055\u001b[0m\n",
      "\u001b[2m2023-10-22 00:17:43\u001b[0m [\u001b[32m\u001b[1minfo     \u001b[0m] \u001b[1mModel parameters are saved to d3rlpy_logs/exp_5_dynamics_reacher_default_20231022000548/model_24055.pt\u001b[0m\n"
     ]
    },
    {
     "data": {
      "application/vnd.jupyter.widget-view+json": {
       "model_id": "18928a2f656a4367a2f4b2b35084ac0f",
       "version_major": 2,
       "version_minor": 0
      },
      "text/plain": [
       "Epoch 6/100:   0%|          | 0/4811 [00:00<?, ?it/s]"
      ]
     },
     "metadata": {},
     "output_type": "display_data"
    },
    {
     "name": "stdout",
     "output_type": "stream",
     "text": [
      "\u001b[2m2023-10-22 00:20:01\u001b[0m [\u001b[32m\u001b[1minfo     \u001b[0m] \u001b[1mexp_5_dynamics_reacher_default_20231022000548: epoch=6 step=28866\u001b[0m \u001b[36mepoch\u001b[0m=\u001b[35m6\u001b[0m \u001b[36mmetrics\u001b[0m=\u001b[35m{'time_sample_batch': 0.00024771928242104784, 'time_algorithm_update': 0.017803706440898837, 'loss': -95.88213217082526, 'time_step': 0.018123873354020374, 'observation_error': 0.7961667937769205, 'reward_error': 0.0010894167344271057, 'variance': 0.43205060251242927}\u001b[0m \u001b[36mstep\u001b[0m=\u001b[35m28866\u001b[0m\n",
      "\u001b[2m2023-10-22 00:20:01\u001b[0m [\u001b[32m\u001b[1minfo     \u001b[0m] \u001b[1mModel parameters are saved to d3rlpy_logs/exp_5_dynamics_reacher_default_20231022000548/model_28866.pt\u001b[0m\n"
     ]
    },
    {
     "data": {
      "application/vnd.jupyter.widget-view+json": {
       "model_id": "3769e9f2cf0941aeade1a43c53b0a259",
       "version_major": 2,
       "version_minor": 0
      },
      "text/plain": [
       "Epoch 7/100:   0%|          | 0/4811 [00:00<?, ?it/s]"
      ]
     },
     "metadata": {},
     "output_type": "display_data"
    },
    {
     "name": "stdout",
     "output_type": "stream",
     "text": [
      "\u001b[2m2023-10-22 00:22:19\u001b[0m [\u001b[32m\u001b[1minfo     \u001b[0m] \u001b[1mexp_5_dynamics_reacher_default_20231022000548: epoch=7 step=33677\u001b[0m \u001b[36mepoch\u001b[0m=\u001b[35m7\u001b[0m \u001b[36mmetrics\u001b[0m=\u001b[35m{'time_sample_batch': 0.0002470878770757281, 'time_algorithm_update': 0.01770529928387785, 'loss': -99.7008161019496, 'time_step': 0.018027688381057894, 'observation_error': 0.7804561566097565, 'reward_error': 0.0008647681738803186, 'variance': 0.4444213260394151}\u001b[0m \u001b[36mstep\u001b[0m=\u001b[35m33677\u001b[0m\n",
      "\u001b[2m2023-10-22 00:22:19\u001b[0m [\u001b[32m\u001b[1minfo     \u001b[0m] \u001b[1mModel parameters are saved to d3rlpy_logs/exp_5_dynamics_reacher_default_20231022000548/model_33677.pt\u001b[0m\n"
     ]
    },
    {
     "data": {
      "application/vnd.jupyter.widget-view+json": {
       "model_id": "7aeb2ebdbaef473994add30d8f549eeb",
       "version_major": 2,
       "version_minor": 0
      },
      "text/plain": [
       "Epoch 8/100:   0%|          | 0/4811 [00:00<?, ?it/s]"
      ]
     },
     "metadata": {},
     "output_type": "display_data"
    },
    {
     "name": "stdout",
     "output_type": "stream",
     "text": [
      "\u001b[2m2023-10-22 00:24:37\u001b[0m [\u001b[32m\u001b[1minfo     \u001b[0m] \u001b[1mexp_5_dynamics_reacher_default_20231022000548: epoch=8 step=38488\u001b[0m \u001b[36mepoch\u001b[0m=\u001b[35m8\u001b[0m \u001b[36mmetrics\u001b[0m=\u001b[35m{'time_sample_batch': 0.0002450289336739546, 'time_algorithm_update': 0.01767838836286153, 'loss': -102.77468332256157, 'time_step': 0.017995587953334787, 'observation_error': 0.7373419811617201, 'reward_error': 0.0006475892375562558, 'variance': 0.42292179155891546}\u001b[0m \u001b[36mstep\u001b[0m=\u001b[35m38488\u001b[0m\n",
      "\u001b[2m2023-10-22 00:24:37\u001b[0m [\u001b[32m\u001b[1minfo     \u001b[0m] \u001b[1mModel parameters are saved to d3rlpy_logs/exp_5_dynamics_reacher_default_20231022000548/model_38488.pt\u001b[0m\n"
     ]
    },
    {
     "data": {
      "application/vnd.jupyter.widget-view+json": {
       "model_id": "95f190f51f654bf0a867ece9468adf98",
       "version_major": 2,
       "version_minor": 0
      },
      "text/plain": [
       "Epoch 9/100:   0%|          | 0/4811 [00:00<?, ?it/s]"
      ]
     },
     "metadata": {},
     "output_type": "display_data"
    },
    {
     "name": "stdout",
     "output_type": "stream",
     "text": [
      "\u001b[2m2023-10-22 00:26:55\u001b[0m [\u001b[32m\u001b[1minfo     \u001b[0m] \u001b[1mexp_5_dynamics_reacher_default_20231022000548: epoch=9 step=43299\u001b[0m \u001b[36mepoch\u001b[0m=\u001b[35m9\u001b[0m \u001b[36mmetrics\u001b[0m=\u001b[35m{'time_sample_batch': 0.0002470275166871716, 'time_algorithm_update': 0.01783849979433144, 'loss': -105.1470117023843, 'time_step': 0.018158803980257824, 'observation_error': 0.7137153507255417, 'reward_error': 0.0005791089186257839, 'variance': 0.4200437504742625}\u001b[0m \u001b[36mstep\u001b[0m=\u001b[35m43299\u001b[0m\n",
      "\u001b[2m2023-10-22 00:26:55\u001b[0m [\u001b[32m\u001b[1minfo     \u001b[0m] \u001b[1mModel parameters are saved to d3rlpy_logs/exp_5_dynamics_reacher_default_20231022000548/model_43299.pt\u001b[0m\n"
     ]
    },
    {
     "data": {
      "application/vnd.jupyter.widget-view+json": {
       "model_id": "d6dd457915e74b4ba16313436347c306",
       "version_major": 2,
       "version_minor": 0
      },
      "text/plain": [
       "Epoch 10/100:   0%|          | 0/4811 [00:00<?, ?it/s]"
      ]
     },
     "metadata": {},
     "output_type": "display_data"
    },
    {
     "name": "stdout",
     "output_type": "stream",
     "text": [
      "\u001b[2m2023-10-22 00:29:14\u001b[0m [\u001b[32m\u001b[1minfo     \u001b[0m] \u001b[1mexp_5_dynamics_reacher_default_20231022000548: epoch=10 step=48110\u001b[0m \u001b[36mepoch\u001b[0m=\u001b[35m10\u001b[0m \u001b[36mmetrics\u001b[0m=\u001b[35m{'time_sample_batch': 0.00025228600669516716, 'time_algorithm_update': 0.017684604590857408, 'loss': -107.49467083541055, 'time_step': 0.018008110256111813, 'observation_error': 0.6743806468274459, 'reward_error': 0.0004715057268499132, 'variance': 0.39511682178807306}\u001b[0m \u001b[36mstep\u001b[0m=\u001b[35m48110\u001b[0m\n",
      "\u001b[2m2023-10-22 00:29:14\u001b[0m [\u001b[32m\u001b[1minfo     \u001b[0m] \u001b[1mModel parameters are saved to d3rlpy_logs/exp_5_dynamics_reacher_default_20231022000548/model_48110.pt\u001b[0m\n"
     ]
    },
    {
     "data": {
      "application/vnd.jupyter.widget-view+json": {
       "model_id": "58c45438703e4944ae123fb6ee5b26b2",
       "version_major": 2,
       "version_minor": 0
      },
      "text/plain": [
       "Epoch 11/100:   0%|          | 0/4811 [00:00<?, ?it/s]"
      ]
     },
     "metadata": {},
     "output_type": "display_data"
    },
    {
     "name": "stdout",
     "output_type": "stream",
     "text": [
      "\u001b[2m2023-10-22 00:31:32\u001b[0m [\u001b[32m\u001b[1minfo     \u001b[0m] \u001b[1mexp_5_dynamics_reacher_default_20231022000548: epoch=11 step=52921\u001b[0m \u001b[36mepoch\u001b[0m=\u001b[35m11\u001b[0m \u001b[36mmetrics\u001b[0m=\u001b[35m{'time_sample_batch': 0.000245318742830177, 'time_algorithm_update': 0.017697789866769172, 'loss': -109.51474149676623, 'time_step': 0.018015388589072836, 'observation_error': 0.6568043773444605, 'reward_error': 0.0003960329202583707, 'variance': 0.39026188636991}\u001b[0m \u001b[36mstep\u001b[0m=\u001b[35m52921\u001b[0m\n",
      "\u001b[2m2023-10-22 00:31:32\u001b[0m [\u001b[32m\u001b[1minfo     \u001b[0m] \u001b[1mModel parameters are saved to d3rlpy_logs/exp_5_dynamics_reacher_default_20231022000548/model_52921.pt\u001b[0m\n"
     ]
    },
    {
     "data": {
      "application/vnd.jupyter.widget-view+json": {
       "model_id": "f811e97243fb4ebaa6ba456418e95998",
       "version_major": 2,
       "version_minor": 0
      },
      "text/plain": [
       "Epoch 12/100:   0%|          | 0/4811 [00:00<?, ?it/s]"
      ]
     },
     "metadata": {},
     "output_type": "display_data"
    },
    {
     "name": "stdout",
     "output_type": "stream",
     "text": [
      "\u001b[2m2023-10-22 00:33:50\u001b[0m [\u001b[32m\u001b[1minfo     \u001b[0m] \u001b[1mexp_5_dynamics_reacher_default_20231022000548: epoch=12 step=57732\u001b[0m \u001b[36mepoch\u001b[0m=\u001b[35m12\u001b[0m \u001b[36mmetrics\u001b[0m=\u001b[35m{'time_sample_batch': 0.00024866289667269467, 'time_algorithm_update': 0.017673613598430463, 'loss': -111.23705514873345, 'time_step': 0.017994302941121917, 'observation_error': 0.6305858407444942, 'reward_error': 0.0003745510550301389, 'variance': 0.37714617929433253}\u001b[0m \u001b[36mstep\u001b[0m=\u001b[35m57732\u001b[0m\n",
      "\u001b[2m2023-10-22 00:33:50\u001b[0m [\u001b[32m\u001b[1minfo     \u001b[0m] \u001b[1mModel parameters are saved to d3rlpy_logs/exp_5_dynamics_reacher_default_20231022000548/model_57732.pt\u001b[0m\n"
     ]
    },
    {
     "data": {
      "application/vnd.jupyter.widget-view+json": {
       "model_id": "77508750c3c74b3aa0ab783e8b84bb28",
       "version_major": 2,
       "version_minor": 0
      },
      "text/plain": [
       "Epoch 13/100:   0%|          | 0/4811 [00:00<?, ?it/s]"
      ]
     },
     "metadata": {},
     "output_type": "display_data"
    },
    {
     "name": "stdout",
     "output_type": "stream",
     "text": [
      "\u001b[2m2023-10-22 00:36:07\u001b[0m [\u001b[32m\u001b[1minfo     \u001b[0m] \u001b[1mexp_5_dynamics_reacher_default_20231022000548: epoch=13 step=62543\u001b[0m \u001b[36mepoch\u001b[0m=\u001b[35m13\u001b[0m \u001b[36mmetrics\u001b[0m=\u001b[35m{'time_sample_batch': 0.00024589018424269415, 'time_algorithm_update': 0.017690933957414105, 'loss': -112.70188544619681, 'time_step': 0.018009835135983816, 'observation_error': 0.5849571927322517, 'reward_error': 0.00032662184529190546, 'variance': 0.3362105491722726}\u001b[0m \u001b[36mstep\u001b[0m=\u001b[35m62543\u001b[0m\n",
      "\u001b[2m2023-10-22 00:36:07\u001b[0m [\u001b[32m\u001b[1minfo     \u001b[0m] \u001b[1mModel parameters are saved to d3rlpy_logs/exp_5_dynamics_reacher_default_20231022000548/model_62543.pt\u001b[0m\n"
     ]
    },
    {
     "data": {
      "application/vnd.jupyter.widget-view+json": {
       "model_id": "5a4d6e9c645249aea61fc24183b7eba0",
       "version_major": 2,
       "version_minor": 0
      },
      "text/plain": [
       "Epoch 14/100:   0%|          | 0/4811 [00:00<?, ?it/s]"
      ]
     },
     "metadata": {},
     "output_type": "display_data"
    },
    {
     "name": "stdout",
     "output_type": "stream",
     "text": [
      "\u001b[2m2023-10-22 00:38:25\u001b[0m [\u001b[32m\u001b[1minfo     \u001b[0m] \u001b[1mexp_5_dynamics_reacher_default_20231022000548: epoch=14 step=67354\u001b[0m \u001b[36mepoch\u001b[0m=\u001b[35m14\u001b[0m \u001b[36mmetrics\u001b[0m=\u001b[35m{'time_sample_batch': 0.00024486148067483086, 'time_algorithm_update': 0.017670358696689578, 'loss': -114.38148931464839, 'time_step': 0.01798845863818032, 'observation_error': 0.5782179653097957, 'reward_error': 0.00026612267802301673, 'variance': 0.3371935502943038}\u001b[0m \u001b[36mstep\u001b[0m=\u001b[35m67354\u001b[0m\n",
      "\u001b[2m2023-10-22 00:38:25\u001b[0m [\u001b[32m\u001b[1minfo     \u001b[0m] \u001b[1mModel parameters are saved to d3rlpy_logs/exp_5_dynamics_reacher_default_20231022000548/model_67354.pt\u001b[0m\n"
     ]
    },
    {
     "data": {
      "application/vnd.jupyter.widget-view+json": {
       "model_id": "ad81b41262594a28aad1692f23a73a00",
       "version_major": 2,
       "version_minor": 0
      },
      "text/plain": [
       "Epoch 15/100:   0%|          | 0/4811 [00:00<?, ?it/s]"
      ]
     },
     "metadata": {},
     "output_type": "display_data"
    },
    {
     "name": "stdout",
     "output_type": "stream",
     "text": [
      "\u001b[2m2023-10-22 00:40:43\u001b[0m [\u001b[32m\u001b[1minfo     \u001b[0m] \u001b[1mexp_5_dynamics_reacher_default_20231022000548: epoch=15 step=72165\u001b[0m \u001b[36mepoch\u001b[0m=\u001b[35m15\u001b[0m \u001b[36mmetrics\u001b[0m=\u001b[35m{'time_sample_batch': 0.00025006952168812153, 'time_algorithm_update': 0.01775548835227901, 'loss': -115.88341384884524, 'time_step': 0.018079988625906433, 'observation_error': 0.5580396547052996, 'reward_error': 0.00026712873904843133, 'variance': 0.3449653436649671}\u001b[0m \u001b[36mstep\u001b[0m=\u001b[35m72165\u001b[0m\n",
      "\u001b[2m2023-10-22 00:40:43\u001b[0m [\u001b[32m\u001b[1minfo     \u001b[0m] \u001b[1mModel parameters are saved to d3rlpy_logs/exp_5_dynamics_reacher_default_20231022000548/model_72165.pt\u001b[0m\n"
     ]
    },
    {
     "data": {
      "application/vnd.jupyter.widget-view+json": {
       "model_id": "32a8e0d408d1496492311234a3fdcf54",
       "version_major": 2,
       "version_minor": 0
      },
      "text/plain": [
       "Epoch 16/100:   0%|          | 0/4811 [00:00<?, ?it/s]"
      ]
     },
     "metadata": {},
     "output_type": "display_data"
    },
    {
     "name": "stdout",
     "output_type": "stream",
     "text": [
      "\u001b[2m2023-10-22 00:43:01\u001b[0m [\u001b[32m\u001b[1minfo     \u001b[0m] \u001b[1mexp_5_dynamics_reacher_default_20231022000548: epoch=16 step=76976\u001b[0m \u001b[36mepoch\u001b[0m=\u001b[35m16\u001b[0m \u001b[36mmetrics\u001b[0m=\u001b[35m{'time_sample_batch': 0.0002461631440293687, 'time_algorithm_update': 0.01769076318409804, 'loss': -117.12665229913128, 'time_step': 0.018009679527100347, 'observation_error': 0.5304326516937375, 'reward_error': 0.0002136231003895371, 'variance': 0.3163739566553463}\u001b[0m \u001b[36mstep\u001b[0m=\u001b[35m76976\u001b[0m\n",
      "\u001b[2m2023-10-22 00:43:01\u001b[0m [\u001b[32m\u001b[1minfo     \u001b[0m] \u001b[1mModel parameters are saved to d3rlpy_logs/exp_5_dynamics_reacher_default_20231022000548/model_76976.pt\u001b[0m\n"
     ]
    },
    {
     "data": {
      "application/vnd.jupyter.widget-view+json": {
       "model_id": "3bf871270c134e019306b1a95233e233",
       "version_major": 2,
       "version_minor": 0
      },
      "text/plain": [
       "Epoch 17/100:   0%|          | 0/4811 [00:00<?, ?it/s]"
      ]
     },
     "metadata": {},
     "output_type": "display_data"
    },
    {
     "name": "stdout",
     "output_type": "stream",
     "text": [
      "\u001b[2m2023-10-22 00:45:19\u001b[0m [\u001b[32m\u001b[1minfo     \u001b[0m] \u001b[1mexp_5_dynamics_reacher_default_20231022000548: epoch=17 step=81787\u001b[0m \u001b[36mepoch\u001b[0m=\u001b[35m17\u001b[0m \u001b[36mmetrics\u001b[0m=\u001b[35m{'time_sample_batch': 0.00025000395781779285, 'time_algorithm_update': 0.01772412389510636, 'loss': -118.5566385237845, 'time_step': 0.0180480618458036, 'observation_error': 0.49699861381200694, 'reward_error': 0.00020940889495317164, 'variance': 0.29806017938786}\u001b[0m \u001b[36mstep\u001b[0m=\u001b[35m81787\u001b[0m\n",
      "\u001b[2m2023-10-22 00:45:19\u001b[0m [\u001b[32m\u001b[1minfo     \u001b[0m] \u001b[1mModel parameters are saved to d3rlpy_logs/exp_5_dynamics_reacher_default_20231022000548/model_81787.pt\u001b[0m\n"
     ]
    },
    {
     "data": {
      "application/vnd.jupyter.widget-view+json": {
       "model_id": "c34eeb6e165c491bb5c6cde5ba09771a",
       "version_major": 2,
       "version_minor": 0
      },
      "text/plain": [
       "Epoch 18/100:   0%|          | 0/4811 [00:00<?, ?it/s]"
      ]
     },
     "metadata": {},
     "output_type": "display_data"
    },
    {
     "name": "stdout",
     "output_type": "stream",
     "text": [
      "\u001b[2m2023-10-22 00:47:37\u001b[0m [\u001b[32m\u001b[1minfo     \u001b[0m] \u001b[1mexp_5_dynamics_reacher_default_20231022000548: epoch=18 step=86598\u001b[0m \u001b[36mepoch\u001b[0m=\u001b[35m18\u001b[0m \u001b[36mmetrics\u001b[0m=\u001b[35m{'time_sample_batch': 0.0002505422951748455, 'time_algorithm_update': 0.017696242797302867, 'loss': -120.44403450584689, 'time_step': 0.01801979415408293, 'observation_error': 0.5074880529042529, 'reward_error': 0.00018320799468462813, 'variance': 0.34398894862779217}\u001b[0m \u001b[36mstep\u001b[0m=\u001b[35m86598\u001b[0m\n",
      "\u001b[2m2023-10-22 00:47:37\u001b[0m [\u001b[32m\u001b[1minfo     \u001b[0m] \u001b[1mModel parameters are saved to d3rlpy_logs/exp_5_dynamics_reacher_default_20231022000548/model_86598.pt\u001b[0m\n"
     ]
    },
    {
     "data": {
      "application/vnd.jupyter.widget-view+json": {
       "model_id": "ce04c4cee366414fb14376f8126b126a",
       "version_major": 2,
       "version_minor": 0
      },
      "text/plain": [
       "Epoch 19/100:   0%|          | 0/4811 [00:00<?, ?it/s]"
      ]
     },
     "metadata": {},
     "output_type": "display_data"
    },
    {
     "name": "stdout",
     "output_type": "stream",
     "text": [
      "\u001b[2m2023-10-22 00:49:56\u001b[0m [\u001b[32m\u001b[1minfo     \u001b[0m] \u001b[1mexp_5_dynamics_reacher_default_20231022000548: epoch=19 step=91409\u001b[0m \u001b[36mepoch\u001b[0m=\u001b[35m19\u001b[0m \u001b[36mmetrics\u001b[0m=\u001b[35m{'time_sample_batch': 0.0002468941093259283, 'time_algorithm_update': 0.017722261990214355, 'loss': -122.34372990127909, 'time_step': 0.018043238664213573, 'observation_error': 0.47835627490971894, 'reward_error': 0.00017225009338343424, 'variance': 0.31668500967631064}\u001b[0m \u001b[36mstep\u001b[0m=\u001b[35m91409\u001b[0m\n",
      "\u001b[2m2023-10-22 00:49:56\u001b[0m [\u001b[32m\u001b[1minfo     \u001b[0m] \u001b[1mModel parameters are saved to d3rlpy_logs/exp_5_dynamics_reacher_default_20231022000548/model_91409.pt\u001b[0m\n"
     ]
    },
    {
     "data": {
      "application/vnd.jupyter.widget-view+json": {
       "model_id": "7dbcf352d69344b38d4377755fd25415",
       "version_major": 2,
       "version_minor": 0
      },
      "text/plain": [
       "Epoch 20/100:   0%|          | 0/4811 [00:00<?, ?it/s]"
      ]
     },
     "metadata": {},
     "output_type": "display_data"
    },
    {
     "name": "stdout",
     "output_type": "stream",
     "text": [
      "\u001b[2m2023-10-22 00:52:15\u001b[0m [\u001b[32m\u001b[1minfo     \u001b[0m] \u001b[1mexp_5_dynamics_reacher_default_20231022000548: epoch=20 step=96220\u001b[0m \u001b[36mepoch\u001b[0m=\u001b[35m20\u001b[0m \u001b[36mmetrics\u001b[0m=\u001b[35m{'time_sample_batch': 0.00025055790562016186, 'time_algorithm_update': 0.01776609785515661, 'loss': -124.4201246890772, 'time_step': 0.01809030539576662, 'observation_error': 0.4783866694595278, 'reward_error': 0.0001569812449478675, 'variance': 0.3218486684234432}\u001b[0m \u001b[36mstep\u001b[0m=\u001b[35m96220\u001b[0m\n",
      "\u001b[2m2023-10-22 00:52:15\u001b[0m [\u001b[32m\u001b[1minfo     \u001b[0m] \u001b[1mModel parameters are saved to d3rlpy_logs/exp_5_dynamics_reacher_default_20231022000548/model_96220.pt\u001b[0m\n"
     ]
    },
    {
     "data": {
      "application/vnd.jupyter.widget-view+json": {
       "model_id": "62f6b2353bad4a60acaa44abca7b7136",
       "version_major": 2,
       "version_minor": 0
      },
      "text/plain": [
       "Epoch 21/100:   0%|          | 0/4811 [00:00<?, ?it/s]"
      ]
     },
     "metadata": {},
     "output_type": "display_data"
    },
    {
     "name": "stdout",
     "output_type": "stream",
     "text": [
      "\u001b[2m2023-10-22 00:54:32\u001b[0m [\u001b[32m\u001b[1minfo     \u001b[0m] \u001b[1mexp_5_dynamics_reacher_default_20231022000548: epoch=21 step=101031\u001b[0m \u001b[36mepoch\u001b[0m=\u001b[35m21\u001b[0m \u001b[36mmetrics\u001b[0m=\u001b[35m{'time_sample_batch': 0.000257968208790321, 'time_algorithm_update': 0.017565200245075626, 'loss': -126.32550214863795, 'time_step': 0.017896873443990456, 'observation_error': 0.4852703571561365, 'reward_error': 0.00015528977457436667, 'variance': 0.33406655595253476}\u001b[0m \u001b[36mstep\u001b[0m=\u001b[35m101031\u001b[0m\n",
      "\u001b[2m2023-10-22 00:54:32\u001b[0m [\u001b[32m\u001b[1minfo     \u001b[0m] \u001b[1mModel parameters are saved to d3rlpy_logs/exp_5_dynamics_reacher_default_20231022000548/model_101031.pt\u001b[0m\n"
     ]
    },
    {
     "data": {
      "application/vnd.jupyter.widget-view+json": {
       "model_id": "94fe0a02dfbb48f9b51433e515d87f4b",
       "version_major": 2,
       "version_minor": 0
      },
      "text/plain": [
       "Epoch 22/100:   0%|          | 0/4811 [00:00<?, ?it/s]"
      ]
     },
     "metadata": {},
     "output_type": "display_data"
    },
    {
     "name": "stdout",
     "output_type": "stream",
     "text": [
      "\u001b[2m2023-10-22 00:56:50\u001b[0m [\u001b[32m\u001b[1minfo     \u001b[0m] \u001b[1mexp_5_dynamics_reacher_default_20231022000548: epoch=22 step=105842\u001b[0m \u001b[36mepoch\u001b[0m=\u001b[35m22\u001b[0m \u001b[36mmetrics\u001b[0m=\u001b[35m{'time_sample_batch': 0.0002477509493244039, 'time_algorithm_update': 0.017775549657675364, 'loss': -127.73407548084946, 'time_step': 0.018097218791206026, 'observation_error': 0.5017089253693343, 'reward_error': 0.00014240534719899025, 'variance': 0.35873118154191813}\u001b[0m \u001b[36mstep\u001b[0m=\u001b[35m105842\u001b[0m\n",
      "\u001b[2m2023-10-22 00:56:50\u001b[0m [\u001b[32m\u001b[1minfo     \u001b[0m] \u001b[1mModel parameters are saved to d3rlpy_logs/exp_5_dynamics_reacher_default_20231022000548/model_105842.pt\u001b[0m\n"
     ]
    },
    {
     "data": {
      "application/vnd.jupyter.widget-view+json": {
       "model_id": "7382dd698c984fac8527e257f7aaab7a",
       "version_major": 2,
       "version_minor": 0
      },
      "text/plain": [
       "Epoch 23/100:   0%|          | 0/4811 [00:00<?, ?it/s]"
      ]
     },
     "metadata": {},
     "output_type": "display_data"
    },
    {
     "name": "stdout",
     "output_type": "stream",
     "text": [
      "\u001b[2m2023-10-22 00:59:08\u001b[0m [\u001b[32m\u001b[1minfo     \u001b[0m] \u001b[1mexp_5_dynamics_reacher_default_20231022000548: epoch=23 step=110653\u001b[0m \u001b[36mepoch\u001b[0m=\u001b[35m23\u001b[0m \u001b[36mmetrics\u001b[0m=\u001b[35m{'time_sample_batch': 0.0002464174703956022, 'time_algorithm_update': 0.017681201365107535, 'loss': -129.22929708686596, 'time_step': 0.01800195359559298, 'observation_error': 0.5009970137701966, 'reward_error': 0.00013859392139251465, 'variance': 0.34485112843652693}\u001b[0m \u001b[36mstep\u001b[0m=\u001b[35m110653\u001b[0m\n",
      "\u001b[2m2023-10-22 00:59:08\u001b[0m [\u001b[32m\u001b[1minfo     \u001b[0m] \u001b[1mModel parameters are saved to d3rlpy_logs/exp_5_dynamics_reacher_default_20231022000548/model_110653.pt\u001b[0m\n"
     ]
    },
    {
     "data": {
      "application/vnd.jupyter.widget-view+json": {
       "model_id": "31aff4bdccea4e0bacbc97a6e9f86c52",
       "version_major": 2,
       "version_minor": 0
      },
      "text/plain": [
       "Epoch 24/100:   0%|          | 0/4811 [00:00<?, ?it/s]"
      ]
     },
     "metadata": {},
     "output_type": "display_data"
    },
    {
     "name": "stdout",
     "output_type": "stream",
     "text": [
      "\u001b[2m2023-10-22 01:01:25\u001b[0m [\u001b[32m\u001b[1minfo     \u001b[0m] \u001b[1mexp_5_dynamics_reacher_default_20231022000548: epoch=24 step=115464\u001b[0m \u001b[36mepoch\u001b[0m=\u001b[35m24\u001b[0m \u001b[36mmetrics\u001b[0m=\u001b[35m{'time_sample_batch': 0.0002480370417079319, 'time_algorithm_update': 0.01771573548603395, 'loss': -130.74440280911926, 'time_step': 0.018037578663640644, 'observation_error': 0.5227029956840573, 'reward_error': 0.0001244976792777442, 'variance': 0.366110267356999}\u001b[0m \u001b[36mstep\u001b[0m=\u001b[35m115464\u001b[0m\n",
      "\u001b[2m2023-10-22 01:01:25\u001b[0m [\u001b[32m\u001b[1minfo     \u001b[0m] \u001b[1mModel parameters are saved to d3rlpy_logs/exp_5_dynamics_reacher_default_20231022000548/model_115464.pt\u001b[0m\n"
     ]
    },
    {
     "data": {
      "application/vnd.jupyter.widget-view+json": {
       "model_id": "02fefc38b44f4327bbab0f83f00ecd86",
       "version_major": 2,
       "version_minor": 0
      },
      "text/plain": [
       "Epoch 25/100:   0%|          | 0/4811 [00:00<?, ?it/s]"
      ]
     },
     "metadata": {},
     "output_type": "display_data"
    },
    {
     "name": "stdout",
     "output_type": "stream",
     "text": [
      "\u001b[2m2023-10-22 01:03:43\u001b[0m [\u001b[32m\u001b[1minfo     \u001b[0m] \u001b[1mexp_5_dynamics_reacher_default_20231022000548: epoch=25 step=120275\u001b[0m \u001b[36mepoch\u001b[0m=\u001b[35m25\u001b[0m \u001b[36mmetrics\u001b[0m=\u001b[35m{'time_sample_batch': 0.00024633679164964975, 'time_algorithm_update': 0.017599855037222185, 'loss': -132.15851211230688, 'time_step': 0.017920260616707668, 'observation_error': 0.523558350849462, 'reward_error': 0.00011445687313798809, 'variance': 0.3701581733376338}\u001b[0m \u001b[36mstep\u001b[0m=\u001b[35m120275\u001b[0m\n",
      "\u001b[2m2023-10-22 01:03:43\u001b[0m [\u001b[32m\u001b[1minfo     \u001b[0m] \u001b[1mModel parameters are saved to d3rlpy_logs/exp_5_dynamics_reacher_default_20231022000548/model_120275.pt\u001b[0m\n"
     ]
    },
    {
     "data": {
      "application/vnd.jupyter.widget-view+json": {
       "model_id": "ee80f31c8c544b4c986504d55b25287d",
       "version_major": 2,
       "version_minor": 0
      },
      "text/plain": [
       "Epoch 26/100:   0%|          | 0/4811 [00:00<?, ?it/s]"
      ]
     },
     "metadata": {},
     "output_type": "display_data"
    },
    {
     "name": "stdout",
     "output_type": "stream",
     "text": [
      "\u001b[2m2023-10-22 01:05:58\u001b[0m [\u001b[32m\u001b[1minfo     \u001b[0m] \u001b[1mexp_5_dynamics_reacher_default_20231022000548: epoch=26 step=125086\u001b[0m \u001b[36mepoch\u001b[0m=\u001b[35m26\u001b[0m \u001b[36mmetrics\u001b[0m=\u001b[35m{'time_sample_batch': 0.00024066925841739634, 'time_algorithm_update': 0.017082557933936617, 'loss': -133.08752792983213, 'time_step': 0.017394242775313845, 'observation_error': 0.5085206033243104, 'reward_error': 0.00010535665867343169, 'variance': 0.3612686768497896}\u001b[0m \u001b[36mstep\u001b[0m=\u001b[35m125086\u001b[0m\n",
      "\u001b[2m2023-10-22 01:05:58\u001b[0m [\u001b[32m\u001b[1minfo     \u001b[0m] \u001b[1mModel parameters are saved to d3rlpy_logs/exp_5_dynamics_reacher_default_20231022000548/model_125086.pt\u001b[0m\n"
     ]
    },
    {
     "data": {
      "application/vnd.jupyter.widget-view+json": {
       "model_id": "8f059c6a0ee14bc3a52b8d275f1507b1",
       "version_major": 2,
       "version_minor": 0
      },
      "text/plain": [
       "Epoch 27/100:   0%|          | 0/4811 [00:00<?, ?it/s]"
      ]
     },
     "metadata": {},
     "output_type": "display_data"
    },
    {
     "name": "stdout",
     "output_type": "stream",
     "text": [
      "\u001b[2m2023-10-22 01:08:13\u001b[0m [\u001b[32m\u001b[1minfo     \u001b[0m] \u001b[1mexp_5_dynamics_reacher_default_20231022000548: epoch=27 step=129897\u001b[0m \u001b[36mepoch\u001b[0m=\u001b[35m27\u001b[0m \u001b[36mmetrics\u001b[0m=\u001b[35m{'time_sample_batch': 0.00024482148820063947, 'time_algorithm_update': 0.017040099455397927, 'loss': -134.2590624298432, 'time_step': 0.017357526809701897, 'observation_error': 0.5206013539565228, 'reward_error': 0.00010575871468816863, 'variance': 0.35790901283974874}\u001b[0m \u001b[36mstep\u001b[0m=\u001b[35m129897\u001b[0m\n",
      "\u001b[2m2023-10-22 01:08:13\u001b[0m [\u001b[32m\u001b[1minfo     \u001b[0m] \u001b[1mModel parameters are saved to d3rlpy_logs/exp_5_dynamics_reacher_default_20231022000548/model_129897.pt\u001b[0m\n"
     ]
    },
    {
     "data": {
      "application/vnd.jupyter.widget-view+json": {
       "model_id": "ec84a450a1334765a06323aeebd0c37a",
       "version_major": 2,
       "version_minor": 0
      },
      "text/plain": [
       "Epoch 28/100:   0%|          | 0/4811 [00:00<?, ?it/s]"
      ]
     },
     "metadata": {},
     "output_type": "display_data"
    },
    {
     "name": "stdout",
     "output_type": "stream",
     "text": [
      "\u001b[2m2023-10-22 01:10:27\u001b[0m [\u001b[32m\u001b[1minfo     \u001b[0m] \u001b[1mexp_5_dynamics_reacher_default_20231022000548: epoch=28 step=134708\u001b[0m \u001b[36mepoch\u001b[0m=\u001b[35m28\u001b[0m \u001b[36mmetrics\u001b[0m=\u001b[35m{'time_sample_batch': 0.0002442024720976343, 'time_algorithm_update': 0.01703037256214282, 'loss': -135.55993599853008, 'time_step': 0.017346324258573187, 'observation_error': 0.5350602935582005, 'reward_error': 9.955892552625768e-05, 'variance': 0.3715421197658753}\u001b[0m \u001b[36mstep\u001b[0m=\u001b[35m134708\u001b[0m\n",
      "\u001b[2m2023-10-22 01:10:27\u001b[0m [\u001b[32m\u001b[1minfo     \u001b[0m] \u001b[1mModel parameters are saved to d3rlpy_logs/exp_5_dynamics_reacher_default_20231022000548/model_134708.pt\u001b[0m\n"
     ]
    },
    {
     "data": {
      "application/vnd.jupyter.widget-view+json": {
       "model_id": "da6e438505524eb898d1318d1f9c38cd",
       "version_major": 2,
       "version_minor": 0
      },
      "text/plain": [
       "Epoch 29/100:   0%|          | 0/4811 [00:00<?, ?it/s]"
      ]
     },
     "metadata": {},
     "output_type": "display_data"
    },
    {
     "name": "stdout",
     "output_type": "stream",
     "text": [
      "\u001b[2m2023-10-22 01:12:43\u001b[0m [\u001b[32m\u001b[1minfo     \u001b[0m] \u001b[1mexp_5_dynamics_reacher_default_20231022000548: epoch=29 step=139519\u001b[0m \u001b[36mepoch\u001b[0m=\u001b[35m29\u001b[0m \u001b[36mmetrics\u001b[0m=\u001b[35m{'time_sample_batch': 0.00023987674336501798, 'time_algorithm_update': 0.017068792098129993, 'loss': -136.8686244871829, 'time_step': 0.017381114242131884, 'observation_error': 0.5320338702761895, 'reward_error': 8.833727803296491e-05, 'variance': 0.37685556055536895}\u001b[0m \u001b[36mstep\u001b[0m=\u001b[35m139519\u001b[0m\n",
      "\u001b[2m2023-10-22 01:12:43\u001b[0m [\u001b[32m\u001b[1minfo     \u001b[0m] \u001b[1mModel parameters are saved to d3rlpy_logs/exp_5_dynamics_reacher_default_20231022000548/model_139519.pt\u001b[0m\n"
     ]
    },
    {
     "data": {
      "application/vnd.jupyter.widget-view+json": {
       "model_id": "6504963cae944361a78b03cb0842a86a",
       "version_major": 2,
       "version_minor": 0
      },
      "text/plain": [
       "Epoch 30/100:   0%|          | 0/4811 [00:00<?, ?it/s]"
      ]
     },
     "metadata": {},
     "output_type": "display_data"
    },
    {
     "name": "stdout",
     "output_type": "stream",
     "text": [
      "\u001b[2m2023-10-22 01:14:58\u001b[0m [\u001b[32m\u001b[1minfo     \u001b[0m] \u001b[1mexp_5_dynamics_reacher_default_20231022000548: epoch=30 step=144330\u001b[0m \u001b[36mepoch\u001b[0m=\u001b[35m30\u001b[0m \u001b[36mmetrics\u001b[0m=\u001b[35m{'time_sample_batch': 0.0002423198523924817, 'time_algorithm_update': 0.017083097857116685, 'loss': -137.77093219459738, 'time_step': 0.017397546688897324, 'observation_error': 0.5461106197928602, 'reward_error': 8.680136333402402e-05, 'variance': 0.38455931026867163}\u001b[0m \u001b[36mstep\u001b[0m=\u001b[35m144330\u001b[0m\n",
      "\u001b[2m2023-10-22 01:14:58\u001b[0m [\u001b[32m\u001b[1minfo     \u001b[0m] \u001b[1mModel parameters are saved to d3rlpy_logs/exp_5_dynamics_reacher_default_20231022000548/model_144330.pt\u001b[0m\n"
     ]
    },
    {
     "data": {
      "application/vnd.jupyter.widget-view+json": {
       "model_id": "56cd87e921774acb9f92ae6d6cc62743",
       "version_major": 2,
       "version_minor": 0
      },
      "text/plain": [
       "Epoch 31/100:   0%|          | 0/4811 [00:00<?, ?it/s]"
      ]
     },
     "metadata": {},
     "output_type": "display_data"
    },
    {
     "name": "stdout",
     "output_type": "stream",
     "text": [
      "\u001b[2m2023-10-22 01:17:13\u001b[0m [\u001b[32m\u001b[1minfo     \u001b[0m] \u001b[1mexp_5_dynamics_reacher_default_20231022000548: epoch=31 step=149141\u001b[0m \u001b[36mepoch\u001b[0m=\u001b[35m31\u001b[0m \u001b[36mmetrics\u001b[0m=\u001b[35m{'time_sample_batch': 0.0002426182349043858, 'time_algorithm_update': 0.01710210726628356, 'loss': -138.8485918221467, 'time_step': 0.017418477173977497, 'observation_error': 0.5190098596985738, 'reward_error': 8.146323291348088e-05, 'variance': 0.3738513885432089}\u001b[0m \u001b[36mstep\u001b[0m=\u001b[35m149141\u001b[0m\n",
      "\u001b[2m2023-10-22 01:17:13\u001b[0m [\u001b[32m\u001b[1minfo     \u001b[0m] \u001b[1mModel parameters are saved to d3rlpy_logs/exp_5_dynamics_reacher_default_20231022000548/model_149141.pt\u001b[0m\n"
     ]
    },
    {
     "data": {
      "application/vnd.jupyter.widget-view+json": {
       "model_id": "8b03826c21134b3f9a68b0fbfbe02b6f",
       "version_major": 2,
       "version_minor": 0
      },
      "text/plain": [
       "Epoch 32/100:   0%|          | 0/4811 [00:00<?, ?it/s]"
      ]
     },
     "metadata": {},
     "output_type": "display_data"
    },
    {
     "name": "stdout",
     "output_type": "stream",
     "text": [
      "\u001b[2m2023-10-22 01:19:28\u001b[0m [\u001b[32m\u001b[1minfo     \u001b[0m] \u001b[1mexp_5_dynamics_reacher_default_20231022000548: epoch=32 step=153952\u001b[0m \u001b[36mepoch\u001b[0m=\u001b[35m32\u001b[0m \u001b[36mmetrics\u001b[0m=\u001b[35m{'time_sample_batch': 0.0002419553608835871, 'time_algorithm_update': 0.017018457976479807, 'loss': -139.90298185029363, 'time_step': 0.0173316578735212, 'observation_error': 0.5379967637095034, 'reward_error': 8.56339146701257e-05, 'variance': 0.3884062068317655}\u001b[0m \u001b[36mstep\u001b[0m=\u001b[35m153952\u001b[0m\n",
      "\u001b[2m2023-10-22 01:19:28\u001b[0m [\u001b[32m\u001b[1minfo     \u001b[0m] \u001b[1mModel parameters are saved to d3rlpy_logs/exp_5_dynamics_reacher_default_20231022000548/model_153952.pt\u001b[0m\n"
     ]
    },
    {
     "data": {
      "application/vnd.jupyter.widget-view+json": {
       "model_id": "f42d544c9b9e46758902fa59f8a74322",
       "version_major": 2,
       "version_minor": 0
      },
      "text/plain": [
       "Epoch 33/100:   0%|          | 0/4811 [00:00<?, ?it/s]"
      ]
     },
     "metadata": {},
     "output_type": "display_data"
    },
    {
     "name": "stdout",
     "output_type": "stream",
     "text": [
      "\u001b[2m2023-10-22 01:21:42\u001b[0m [\u001b[32m\u001b[1minfo     \u001b[0m] \u001b[1mexp_5_dynamics_reacher_default_20231022000548: epoch=33 step=158763\u001b[0m \u001b[36mepoch\u001b[0m=\u001b[35m33\u001b[0m \u001b[36mmetrics\u001b[0m=\u001b[35m{'time_sample_batch': 0.0002412680057199748, 'time_algorithm_update': 0.017117517451887145, 'loss': -140.56378307513006, 'time_step': 0.017431626025516858, 'observation_error': 0.5302687577973901, 'reward_error': 6.863718181609235e-05, 'variance': 0.3813403636385621}\u001b[0m \u001b[36mstep\u001b[0m=\u001b[35m158763\u001b[0m\n",
      "\u001b[2m2023-10-22 01:21:42\u001b[0m [\u001b[32m\u001b[1minfo     \u001b[0m] \u001b[1mModel parameters are saved to d3rlpy_logs/exp_5_dynamics_reacher_default_20231022000548/model_158763.pt\u001b[0m\n"
     ]
    },
    {
     "data": {
      "application/vnd.jupyter.widget-view+json": {
       "model_id": "4cf3ce89a70e4d0b8929d0d6ad986ed2",
       "version_major": 2,
       "version_minor": 0
      },
      "text/plain": [
       "Epoch 34/100:   0%|          | 0/4811 [00:00<?, ?it/s]"
      ]
     },
     "metadata": {},
     "output_type": "display_data"
    },
    {
     "name": "stdout",
     "output_type": "stream",
     "text": [
      "\u001b[2m2023-10-22 01:23:58\u001b[0m [\u001b[32m\u001b[1minfo     \u001b[0m] \u001b[1mexp_5_dynamics_reacher_default_20231022000548: epoch=34 step=163574\u001b[0m \u001b[36mepoch\u001b[0m=\u001b[35m34\u001b[0m \u001b[36mmetrics\u001b[0m=\u001b[35m{'time_sample_batch': 0.00024002273819645286, 'time_algorithm_update': 0.017108852564483242, 'loss': -141.42335811084533, 'time_step': 0.01742054885352037, 'observation_error': 0.5232811930456763, 'reward_error': 6.730257405589361e-05, 'variance': 0.3811893578093561}\u001b[0m \u001b[36mstep\u001b[0m=\u001b[35m163574\u001b[0m\n",
      "\u001b[2m2023-10-22 01:23:58\u001b[0m [\u001b[32m\u001b[1minfo     \u001b[0m] \u001b[1mModel parameters are saved to d3rlpy_logs/exp_5_dynamics_reacher_default_20231022000548/model_163574.pt\u001b[0m\n"
     ]
    },
    {
     "data": {
      "application/vnd.jupyter.widget-view+json": {
       "model_id": "95b1f00285cf4e1ea27307d1d9e7a0f4",
       "version_major": 2,
       "version_minor": 0
      },
      "text/plain": [
       "Epoch 35/100:   0%|          | 0/4811 [00:00<?, ?it/s]"
      ]
     },
     "metadata": {},
     "output_type": "display_data"
    },
    {
     "name": "stdout",
     "output_type": "stream",
     "text": [
      "\u001b[2m2023-10-22 01:26:12\u001b[0m [\u001b[32m\u001b[1minfo     \u001b[0m] \u001b[1mexp_5_dynamics_reacher_default_20231022000548: epoch=35 step=168385\u001b[0m \u001b[36mepoch\u001b[0m=\u001b[35m35\u001b[0m \u001b[36mmetrics\u001b[0m=\u001b[35m{'time_sample_batch': 0.00024427824470363025, 'time_algorithm_update': 0.01705243240099542, 'loss': -141.768947954164, 'time_step': 0.017369223196029265, 'observation_error': 0.5183266038998932, 'reward_error': 7.070903299962292e-05, 'variance': 0.37481122996925426}\u001b[0m \u001b[36mstep\u001b[0m=\u001b[35m168385\u001b[0m\n",
      "\u001b[2m2023-10-22 01:26:12\u001b[0m [\u001b[32m\u001b[1minfo     \u001b[0m] \u001b[1mModel parameters are saved to d3rlpy_logs/exp_5_dynamics_reacher_default_20231022000548/model_168385.pt\u001b[0m\n"
     ]
    },
    {
     "data": {
      "application/vnd.jupyter.widget-view+json": {
       "model_id": "dfe28039a4de4fc29f8e028393beab1d",
       "version_major": 2,
       "version_minor": 0
      },
      "text/plain": [
       "Epoch 36/100:   0%|          | 0/4811 [00:00<?, ?it/s]"
      ]
     },
     "metadata": {},
     "output_type": "display_data"
    },
    {
     "name": "stdout",
     "output_type": "stream",
     "text": [
      "\u001b[2m2023-10-22 01:28:27\u001b[0m [\u001b[32m\u001b[1minfo     \u001b[0m] \u001b[1mexp_5_dynamics_reacher_default_20231022000548: epoch=36 step=173196\u001b[0m \u001b[36mepoch\u001b[0m=\u001b[35m36\u001b[0m \u001b[36mmetrics\u001b[0m=\u001b[35m{'time_sample_batch': 0.00024300463059369256, 'time_algorithm_update': 0.01704966712211081, 'loss': -142.49755388464854, 'time_step': 0.017364883740016164, 'observation_error': 0.5295219092664988, 'reward_error': 6.171565756356866e-05, 'variance': 0.3989368064522984}\u001b[0m \u001b[36mstep\u001b[0m=\u001b[35m173196\u001b[0m\n",
      "\u001b[2m2023-10-22 01:28:27\u001b[0m [\u001b[32m\u001b[1minfo     \u001b[0m] \u001b[1mModel parameters are saved to d3rlpy_logs/exp_5_dynamics_reacher_default_20231022000548/model_173196.pt\u001b[0m\n"
     ]
    },
    {
     "data": {
      "application/vnd.jupyter.widget-view+json": {
       "model_id": "fcc400fe5b2541b3acce77da835fad44",
       "version_major": 2,
       "version_minor": 0
      },
      "text/plain": [
       "Epoch 37/100:   0%|          | 0/4811 [00:00<?, ?it/s]"
      ]
     },
     "metadata": {},
     "output_type": "display_data"
    },
    {
     "name": "stdout",
     "output_type": "stream",
     "text": [
      "\u001b[2m2023-10-22 01:30:42\u001b[0m [\u001b[32m\u001b[1minfo     \u001b[0m] \u001b[1mexp_5_dynamics_reacher_default_20231022000548: epoch=37 step=178007\u001b[0m \u001b[36mepoch\u001b[0m=\u001b[35m37\u001b[0m \u001b[36mmetrics\u001b[0m=\u001b[35m{'time_sample_batch': 0.0002442796818557387, 'time_algorithm_update': 0.017063975854515658, 'loss': -143.27941126834327, 'time_step': 0.01738136554552299, 'observation_error': 0.5181670340093827, 'reward_error': 5.184445365465741e-05, 'variance': 0.38103681647928633}\u001b[0m \u001b[36mstep\u001b[0m=\u001b[35m178007\u001b[0m\n",
      "\u001b[2m2023-10-22 01:30:42\u001b[0m [\u001b[32m\u001b[1minfo     \u001b[0m] \u001b[1mModel parameters are saved to d3rlpy_logs/exp_5_dynamics_reacher_default_20231022000548/model_178007.pt\u001b[0m\n"
     ]
    },
    {
     "data": {
      "application/vnd.jupyter.widget-view+json": {
       "model_id": "3fd1a73f1c1843f78b32272c4d3b2452",
       "version_major": 2,
       "version_minor": 0
      },
      "text/plain": [
       "Epoch 38/100:   0%|          | 0/4811 [00:00<?, ?it/s]"
      ]
     },
     "metadata": {},
     "output_type": "display_data"
    },
    {
     "name": "stdout",
     "output_type": "stream",
     "text": [
      "\u001b[2m2023-10-22 01:32:56\u001b[0m [\u001b[32m\u001b[1minfo     \u001b[0m] \u001b[1mexp_5_dynamics_reacher_default_20231022000548: epoch=38 step=182818\u001b[0m \u001b[36mepoch\u001b[0m=\u001b[35m38\u001b[0m \u001b[36mmetrics\u001b[0m=\u001b[35m{'time_sample_batch': 0.000243158604097178, 'time_algorithm_update': 0.017052861713020104, 'loss': -143.3165306284779, 'time_step': 0.01736886152926762, 'observation_error': 0.5149403249000267, 'reward_error': 6.259348323527897e-05, 'variance': 0.3820519818358291}\u001b[0m \u001b[36mstep\u001b[0m=\u001b[35m182818\u001b[0m\n",
      "\u001b[2m2023-10-22 01:32:56\u001b[0m [\u001b[32m\u001b[1minfo     \u001b[0m] \u001b[1mModel parameters are saved to d3rlpy_logs/exp_5_dynamics_reacher_default_20231022000548/model_182818.pt\u001b[0m\n"
     ]
    },
    {
     "data": {
      "application/vnd.jupyter.widget-view+json": {
       "model_id": "b1c185d934cb406a8cbf0ef04f98b4b3",
       "version_major": 2,
       "version_minor": 0
      },
      "text/plain": [
       "Epoch 39/100:   0%|          | 0/4811 [00:00<?, ?it/s]"
      ]
     },
     "metadata": {},
     "output_type": "display_data"
    },
    {
     "name": "stdout",
     "output_type": "stream",
     "text": [
      "\u001b[2m2023-10-22 01:35:11\u001b[0m [\u001b[32m\u001b[1minfo     \u001b[0m] \u001b[1mexp_5_dynamics_reacher_default_20231022000548: epoch=39 step=187629\u001b[0m \u001b[36mepoch\u001b[0m=\u001b[35m39\u001b[0m \u001b[36mmetrics\u001b[0m=\u001b[35m{'time_sample_batch': 0.00024296047533408342, 'time_algorithm_update': 0.017030555625587262, 'loss': -144.4123500513946, 'time_step': 0.017346238971029094, 'observation_error': 0.4989106882529386, 'reward_error': 4.874169795321045e-05, 'variance': 0.37604445584439583}\u001b[0m \u001b[36mstep\u001b[0m=\u001b[35m187629\u001b[0m\n",
      "\u001b[2m2023-10-22 01:35:11\u001b[0m [\u001b[32m\u001b[1minfo     \u001b[0m] \u001b[1mModel parameters are saved to d3rlpy_logs/exp_5_dynamics_reacher_default_20231022000548/model_187629.pt\u001b[0m\n"
     ]
    },
    {
     "data": {
      "application/vnd.jupyter.widget-view+json": {
       "model_id": "15fc19a59ad141ab804f68a270570168",
       "version_major": 2,
       "version_minor": 0
      },
      "text/plain": [
       "Epoch 40/100:   0%|          | 0/4811 [00:00<?, ?it/s]"
      ]
     },
     "metadata": {},
     "output_type": "display_data"
    },
    {
     "name": "stdout",
     "output_type": "stream",
     "text": [
      "\u001b[2m2023-10-22 01:37:26\u001b[0m [\u001b[32m\u001b[1minfo     \u001b[0m] \u001b[1mexp_5_dynamics_reacher_default_20231022000548: epoch=40 step=192440\u001b[0m \u001b[36mepoch\u001b[0m=\u001b[35m40\u001b[0m \u001b[36mmetrics\u001b[0m=\u001b[35m{'time_sample_batch': 0.00024397490649480033, 'time_algorithm_update': 0.017081301268310166, 'loss': -144.98573535228564, 'time_step': 0.017397330917853174, 'observation_error': 0.49867020710108856, 'reward_error': 5.274614195372204e-05, 'variance': 0.3731591394914245}\u001b[0m \u001b[36mstep\u001b[0m=\u001b[35m192440\u001b[0m\n",
      "\u001b[2m2023-10-22 01:37:26\u001b[0m [\u001b[32m\u001b[1minfo     \u001b[0m] \u001b[1mModel parameters are saved to d3rlpy_logs/exp_5_dynamics_reacher_default_20231022000548/model_192440.pt\u001b[0m\n"
     ]
    },
    {
     "data": {
      "application/vnd.jupyter.widget-view+json": {
       "model_id": "968cb12c739c45f0a1d3a0b240d685f9",
       "version_major": 2,
       "version_minor": 0
      },
      "text/plain": [
       "Epoch 41/100:   0%|          | 0/4811 [00:00<?, ?it/s]"
      ]
     },
     "metadata": {},
     "output_type": "display_data"
    },
    {
     "name": "stdout",
     "output_type": "stream",
     "text": [
      "\u001b[2m2023-10-22 01:39:40\u001b[0m [\u001b[32m\u001b[1minfo     \u001b[0m] \u001b[1mexp_5_dynamics_reacher_default_20231022000548: epoch=41 step=197251\u001b[0m \u001b[36mepoch\u001b[0m=\u001b[35m41\u001b[0m \u001b[36mmetrics\u001b[0m=\u001b[35m{'time_sample_batch': 0.0002427385592257449, 'time_algorithm_update': 0.01700084201017454, 'loss': -145.17846828477346, 'time_step': 0.017315789385065915, 'observation_error': 0.5057090800084332, 'reward_error': 4.664372263007678e-05, 'variance': 0.3729844969599668}\u001b[0m \u001b[36mstep\u001b[0m=\u001b[35m197251\u001b[0m\n",
      "\u001b[2m2023-10-22 01:39:40\u001b[0m [\u001b[32m\u001b[1minfo     \u001b[0m] \u001b[1mModel parameters are saved to d3rlpy_logs/exp_5_dynamics_reacher_default_20231022000548/model_197251.pt\u001b[0m\n"
     ]
    },
    {
     "data": {
      "application/vnd.jupyter.widget-view+json": {
       "model_id": "81ba7b1fd3344845bde34b77e49bc324",
       "version_major": 2,
       "version_minor": 0
      },
      "text/plain": [
       "Epoch 42/100:   0%|          | 0/4811 [00:00<?, ?it/s]"
      ]
     },
     "metadata": {},
     "output_type": "display_data"
    },
    {
     "name": "stdout",
     "output_type": "stream",
     "text": [
      "\u001b[2m2023-10-22 01:41:55\u001b[0m [\u001b[32m\u001b[1minfo     \u001b[0m] \u001b[1mexp_5_dynamics_reacher_default_20231022000548: epoch=42 step=202062\u001b[0m \u001b[36mepoch\u001b[0m=\u001b[35m42\u001b[0m \u001b[36mmetrics\u001b[0m=\u001b[35m{'time_sample_batch': 0.00024297098141156618, 'time_algorithm_update': 0.017072305736807375, 'loss': -145.54635529804565, 'time_step': 0.01738850041105801, 'observation_error': 0.5031104553472976, 'reward_error': 4.842643899405946e-05, 'variance': 0.3721262201769105}\u001b[0m \u001b[36mstep\u001b[0m=\u001b[35m202062\u001b[0m\n",
      "\u001b[2m2023-10-22 01:41:55\u001b[0m [\u001b[32m\u001b[1minfo     \u001b[0m] \u001b[1mModel parameters are saved to d3rlpy_logs/exp_5_dynamics_reacher_default_20231022000548/model_202062.pt\u001b[0m\n"
     ]
    },
    {
     "data": {
      "application/vnd.jupyter.widget-view+json": {
       "model_id": "5a4a5392159b4526b42329e85f354547",
       "version_major": 2,
       "version_minor": 0
      },
      "text/plain": [
       "Epoch 43/100:   0%|          | 0/4811 [00:00<?, ?it/s]"
      ]
     },
     "metadata": {},
     "output_type": "display_data"
    },
    {
     "name": "stdout",
     "output_type": "stream",
     "text": [
      "\u001b[2m2023-10-22 01:44:09\u001b[0m [\u001b[32m\u001b[1minfo     \u001b[0m] \u001b[1mexp_5_dynamics_reacher_default_20231022000548: epoch=43 step=206873\u001b[0m \u001b[36mepoch\u001b[0m=\u001b[35m43\u001b[0m \u001b[36mmetrics\u001b[0m=\u001b[35m{'time_sample_batch': 0.00024379258640489914, 'time_algorithm_update': 0.01703245673004195, 'loss': -146.54052048506546, 'time_step': 0.017349990384044976, 'observation_error': 0.5059800234044786, 'reward_error': 4.67695596546109e-05, 'variance': 0.38195209156341164}\u001b[0m \u001b[36mstep\u001b[0m=\u001b[35m206873\u001b[0m\n",
      "\u001b[2m2023-10-22 01:44:09\u001b[0m [\u001b[32m\u001b[1minfo     \u001b[0m] \u001b[1mModel parameters are saved to d3rlpy_logs/exp_5_dynamics_reacher_default_20231022000548/model_206873.pt\u001b[0m\n"
     ]
    },
    {
     "data": {
      "application/vnd.jupyter.widget-view+json": {
       "model_id": "653ce1a36359487e828995c0572df2b6",
       "version_major": 2,
       "version_minor": 0
      },
      "text/plain": [
       "Epoch 44/100:   0%|          | 0/4811 [00:00<?, ?it/s]"
      ]
     },
     "metadata": {},
     "output_type": "display_data"
    },
    {
     "name": "stdout",
     "output_type": "stream",
     "text": [
      "\u001b[2m2023-10-22 01:46:24\u001b[0m [\u001b[32m\u001b[1minfo     \u001b[0m] \u001b[1mexp_5_dynamics_reacher_default_20231022000548: epoch=44 step=211684\u001b[0m \u001b[36mepoch\u001b[0m=\u001b[35m44\u001b[0m \u001b[36mmetrics\u001b[0m=\u001b[35m{'time_sample_batch': 0.00024355738902879937, 'time_algorithm_update': 0.017038517299597388, 'loss': -146.7151680825233, 'time_step': 0.017354379843040058, 'observation_error': 0.5020625479185581, 'reward_error': 4.2113104517276766e-05, 'variance': 0.3740119892329965}\u001b[0m \u001b[36mstep\u001b[0m=\u001b[35m211684\u001b[0m\n",
      "\u001b[2m2023-10-22 01:46:24\u001b[0m [\u001b[32m\u001b[1minfo     \u001b[0m] \u001b[1mModel parameters are saved to d3rlpy_logs/exp_5_dynamics_reacher_default_20231022000548/model_211684.pt\u001b[0m\n"
     ]
    },
    {
     "data": {
      "application/vnd.jupyter.widget-view+json": {
       "model_id": "7b91b57a2873432085d6fa4e7819517b",
       "version_major": 2,
       "version_minor": 0
      },
      "text/plain": [
       "Epoch 45/100:   0%|          | 0/4811 [00:00<?, ?it/s]"
      ]
     },
     "metadata": {},
     "output_type": "display_data"
    },
    {
     "name": "stdout",
     "output_type": "stream",
     "text": [
      "\u001b[2m2023-10-22 01:48:39\u001b[0m [\u001b[32m\u001b[1minfo     \u001b[0m] \u001b[1mexp_5_dynamics_reacher_default_20231022000548: epoch=45 step=216495\u001b[0m \u001b[36mepoch\u001b[0m=\u001b[35m45\u001b[0m \u001b[36mmetrics\u001b[0m=\u001b[35m{'time_sample_batch': 0.00024323720145042165, 'time_algorithm_update': 0.0170350194695932, 'loss': -147.48906186582937, 'time_step': 0.01735218823563158, 'observation_error': 0.49156238206836694, 'reward_error': 4.173624017628478e-05, 'variance': 0.37590064943482726}\u001b[0m \u001b[36mstep\u001b[0m=\u001b[35m216495\u001b[0m\n",
      "\u001b[2m2023-10-22 01:48:39\u001b[0m [\u001b[32m\u001b[1minfo     \u001b[0m] \u001b[1mModel parameters are saved to d3rlpy_logs/exp_5_dynamics_reacher_default_20231022000548/model_216495.pt\u001b[0m\n"
     ]
    },
    {
     "data": {
      "application/vnd.jupyter.widget-view+json": {
       "model_id": "cb6d093b7514475fb534bd4dc9b88cbf",
       "version_major": 2,
       "version_minor": 0
      },
      "text/plain": [
       "Epoch 46/100:   0%|          | 0/4811 [00:00<?, ?it/s]"
      ]
     },
     "metadata": {},
     "output_type": "display_data"
    },
    {
     "name": "stdout",
     "output_type": "stream",
     "text": [
      "\u001b[2m2023-10-22 01:50:54\u001b[0m [\u001b[32m\u001b[1minfo     \u001b[0m] \u001b[1mexp_5_dynamics_reacher_default_20231022000548: epoch=46 step=221306\u001b[0m \u001b[36mepoch\u001b[0m=\u001b[35m46\u001b[0m \u001b[36mmetrics\u001b[0m=\u001b[35m{'time_sample_batch': 0.0002441820546262999, 'time_algorithm_update': 0.017086123855216566, 'loss': -147.8509297708889, 'time_step': 0.017403376967216624, 'observation_error': 0.48654434386721235, 'reward_error': 4.0174872642704454e-05, 'variance': 0.38595579358428245}\u001b[0m \u001b[36mstep\u001b[0m=\u001b[35m221306\u001b[0m\n",
      "\u001b[2m2023-10-22 01:50:54\u001b[0m [\u001b[32m\u001b[1minfo     \u001b[0m] \u001b[1mModel parameters are saved to d3rlpy_logs/exp_5_dynamics_reacher_default_20231022000548/model_221306.pt\u001b[0m\n"
     ]
    },
    {
     "data": {
      "application/vnd.jupyter.widget-view+json": {
       "model_id": "f27dbe9ff46646c3bc12842fe14b87ed",
       "version_major": 2,
       "version_minor": 0
      },
      "text/plain": [
       "Epoch 47/100:   0%|          | 0/4811 [00:00<?, ?it/s]"
      ]
     },
     "metadata": {},
     "output_type": "display_data"
    },
    {
     "name": "stdout",
     "output_type": "stream",
     "text": [
      "\u001b[2m2023-10-22 01:53:09\u001b[0m [\u001b[32m\u001b[1minfo     \u001b[0m] \u001b[1mexp_5_dynamics_reacher_default_20231022000548: epoch=47 step=226117\u001b[0m \u001b[36mepoch\u001b[0m=\u001b[35m47\u001b[0m \u001b[36mmetrics\u001b[0m=\u001b[35m{'time_sample_batch': 0.00024449391663384227, 'time_algorithm_update': 0.017081404941489856, 'loss': -148.35198040599263, 'time_step': 0.01739916066027213, 'observation_error': 0.4899134865005394, 'reward_error': 3.410842458934471e-05, 'variance': 0.37887329365510986}\u001b[0m \u001b[36mstep\u001b[0m=\u001b[35m226117\u001b[0m\n",
      "\u001b[2m2023-10-22 01:53:09\u001b[0m [\u001b[32m\u001b[1minfo     \u001b[0m] \u001b[1mModel parameters are saved to d3rlpy_logs/exp_5_dynamics_reacher_default_20231022000548/model_226117.pt\u001b[0m\n"
     ]
    },
    {
     "data": {
      "application/vnd.jupyter.widget-view+json": {
       "model_id": "c574034fde71478d86d03ef12a85d29c",
       "version_major": 2,
       "version_minor": 0
      },
      "text/plain": [
       "Epoch 48/100:   0%|          | 0/4811 [00:00<?, ?it/s]"
      ]
     },
     "metadata": {},
     "output_type": "display_data"
    },
    {
     "name": "stdout",
     "output_type": "stream",
     "text": [
      "\u001b[2m2023-10-22 01:55:24\u001b[0m [\u001b[32m\u001b[1minfo     \u001b[0m] \u001b[1mexp_5_dynamics_reacher_default_20231022000548: epoch=48 step=230928\u001b[0m \u001b[36mepoch\u001b[0m=\u001b[35m48\u001b[0m \u001b[36mmetrics\u001b[0m=\u001b[35m{'time_sample_batch': 0.00024243844221991676, 'time_algorithm_update': 0.01709343484622033, 'loss': -149.03587745059133, 'time_step': 0.017408041665618965, 'observation_error': 0.4920249773884958, 'reward_error': 3.310054886594641e-05, 'variance': 0.39033651098313765}\u001b[0m \u001b[36mstep\u001b[0m=\u001b[35m230928\u001b[0m\n",
      "\u001b[2m2023-10-22 01:55:24\u001b[0m [\u001b[32m\u001b[1minfo     \u001b[0m] \u001b[1mModel parameters are saved to d3rlpy_logs/exp_5_dynamics_reacher_default_20231022000548/model_230928.pt\u001b[0m\n"
     ]
    },
    {
     "data": {
      "application/vnd.jupyter.widget-view+json": {
       "model_id": "68c25bad4d7642ae88eded74d98ff10f",
       "version_major": 2,
       "version_minor": 0
      },
      "text/plain": [
       "Epoch 49/100:   0%|          | 0/4811 [00:00<?, ?it/s]"
      ]
     },
     "metadata": {},
     "output_type": "display_data"
    },
    {
     "name": "stdout",
     "output_type": "stream",
     "text": [
      "\u001b[2m2023-10-22 01:57:39\u001b[0m [\u001b[32m\u001b[1minfo     \u001b[0m] \u001b[1mexp_5_dynamics_reacher_default_20231022000548: epoch=49 step=235739\u001b[0m \u001b[36mepoch\u001b[0m=\u001b[35m49\u001b[0m \u001b[36mmetrics\u001b[0m=\u001b[35m{'time_sample_batch': 0.00024351318421222097, 'time_algorithm_update': 0.017156475622573185, 'loss': -149.2377369543094, 'time_step': 0.017472834330392067, 'observation_error': 0.48665733516908566, 'reward_error': 3.035030209356729e-05, 'variance': 0.3988035594223897}\u001b[0m \u001b[36mstep\u001b[0m=\u001b[35m235739\u001b[0m\n",
      "\u001b[2m2023-10-22 01:57:39\u001b[0m [\u001b[32m\u001b[1minfo     \u001b[0m] \u001b[1mModel parameters are saved to d3rlpy_logs/exp_5_dynamics_reacher_default_20231022000548/model_235739.pt\u001b[0m\n"
     ]
    },
    {
     "data": {
      "application/vnd.jupyter.widget-view+json": {
       "model_id": "795c59c3b18f4d4bb74aafcf64c41dd3",
       "version_major": 2,
       "version_minor": 0
      },
      "text/plain": [
       "Epoch 50/100:   0%|          | 0/4811 [00:00<?, ?it/s]"
      ]
     },
     "metadata": {},
     "output_type": "display_data"
    },
    {
     "name": "stdout",
     "output_type": "stream",
     "text": [
      "\u001b[2m2023-10-22 01:59:54\u001b[0m [\u001b[32m\u001b[1minfo     \u001b[0m] \u001b[1mexp_5_dynamics_reacher_default_20231022000548: epoch=50 step=240550\u001b[0m \u001b[36mepoch\u001b[0m=\u001b[35m50\u001b[0m \u001b[36mmetrics\u001b[0m=\u001b[35m{'time_sample_batch': 0.00024293113760828254, 'time_algorithm_update': 0.017023662052935557, 'loss': -149.68219121640794, 'time_step': 0.017339260755073898, 'observation_error': 0.4837068994543159, 'reward_error': 3.472757021022284e-05, 'variance': 0.39426622909877196}\u001b[0m \u001b[36mstep\u001b[0m=\u001b[35m240550\u001b[0m\n",
      "\u001b[2m2023-10-22 01:59:54\u001b[0m [\u001b[32m\u001b[1minfo     \u001b[0m] \u001b[1mModel parameters are saved to d3rlpy_logs/exp_5_dynamics_reacher_default_20231022000548/model_240550.pt\u001b[0m\n"
     ]
    },
    {
     "data": {
      "application/vnd.jupyter.widget-view+json": {
       "model_id": "b52ceee145474c138e85905df78030f6",
       "version_major": 2,
       "version_minor": 0
      },
      "text/plain": [
       "Epoch 51/100:   0%|          | 0/4811 [00:00<?, ?it/s]"
      ]
     },
     "metadata": {},
     "output_type": "display_data"
    },
    {
     "name": "stdout",
     "output_type": "stream",
     "text": [
      "\u001b[2m2023-10-22 02:02:09\u001b[0m [\u001b[32m\u001b[1minfo     \u001b[0m] \u001b[1mexp_5_dynamics_reacher_default_20231022000548: epoch=51 step=245361\u001b[0m \u001b[36mepoch\u001b[0m=\u001b[35m51\u001b[0m \u001b[36mmetrics\u001b[0m=\u001b[35m{'time_sample_batch': 0.0002438864473046743, 'time_algorithm_update': 0.01712410694297548, 'loss': -150.04426170837556, 'time_step': 0.017441085112910093, 'observation_error': 0.4869844263868977, 'reward_error': 2.799116073409747e-05, 'variance': 0.411828731953083}\u001b[0m \u001b[36mstep\u001b[0m=\u001b[35m245361\u001b[0m\n",
      "\u001b[2m2023-10-22 02:02:09\u001b[0m [\u001b[32m\u001b[1minfo     \u001b[0m] \u001b[1mModel parameters are saved to d3rlpy_logs/exp_5_dynamics_reacher_default_20231022000548/model_245361.pt\u001b[0m\n"
     ]
    },
    {
     "data": {
      "application/vnd.jupyter.widget-view+json": {
       "model_id": "ab1fbcfb26db4186bb961242229fce30",
       "version_major": 2,
       "version_minor": 0
      },
      "text/plain": [
       "Epoch 52/100:   0%|          | 0/4811 [00:00<?, ?it/s]"
      ]
     },
     "metadata": {},
     "output_type": "display_data"
    },
    {
     "name": "stdout",
     "output_type": "stream",
     "text": [
      "\u001b[2m2023-10-22 02:04:24\u001b[0m [\u001b[32m\u001b[1minfo     \u001b[0m] \u001b[1mexp_5_dynamics_reacher_default_20231022000548: epoch=52 step=250172\u001b[0m \u001b[36mepoch\u001b[0m=\u001b[35m52\u001b[0m \u001b[36mmetrics\u001b[0m=\u001b[35m{'time_sample_batch': 0.00024328299209001628, 'time_algorithm_update': 0.017045000292758787, 'loss': -150.58787362973473, 'time_step': 0.017361717396579348, 'observation_error': 0.4846072079718778, 'reward_error': 2.9629807816557713e-05, 'variance': 0.40949060252540476}\u001b[0m \u001b[36mstep\u001b[0m=\u001b[35m250172\u001b[0m\n",
      "\u001b[2m2023-10-22 02:04:24\u001b[0m [\u001b[32m\u001b[1minfo     \u001b[0m] \u001b[1mModel parameters are saved to d3rlpy_logs/exp_5_dynamics_reacher_default_20231022000548/model_250172.pt\u001b[0m\n"
     ]
    },
    {
     "data": {
      "application/vnd.jupyter.widget-view+json": {
       "model_id": "20ad993ab8fd49bc85f9c50100255b5a",
       "version_major": 2,
       "version_minor": 0
      },
      "text/plain": [
       "Epoch 53/100:   0%|          | 0/4811 [00:00<?, ?it/s]"
      ]
     },
     "metadata": {},
     "output_type": "display_data"
    },
    {
     "name": "stdout",
     "output_type": "stream",
     "text": [
      "\u001b[2m2023-10-22 02:06:39\u001b[0m [\u001b[32m\u001b[1minfo     \u001b[0m] \u001b[1mexp_5_dynamics_reacher_default_20231022000548: epoch=53 step=254983\u001b[0m \u001b[36mepoch\u001b[0m=\u001b[35m53\u001b[0m \u001b[36mmetrics\u001b[0m=\u001b[35m{'time_sample_batch': 0.00024823482357224166, 'time_algorithm_update': 0.017098760931934395, 'loss': -150.83866716764297, 'time_step': 0.017421712798057338, 'observation_error': 0.48075169911126076, 'reward_error': 2.469415706075149e-05, 'variance': 0.4294018338971028}\u001b[0m \u001b[36mstep\u001b[0m=\u001b[35m254983\u001b[0m\n",
      "\u001b[2m2023-10-22 02:06:39\u001b[0m [\u001b[32m\u001b[1minfo     \u001b[0m] \u001b[1mModel parameters are saved to d3rlpy_logs/exp_5_dynamics_reacher_default_20231022000548/model_254983.pt\u001b[0m\n"
     ]
    },
    {
     "data": {
      "application/vnd.jupyter.widget-view+json": {
       "model_id": "f971c71318b04c0e984eb252da893c0e",
       "version_major": 2,
       "version_minor": 0
      },
      "text/plain": [
       "Epoch 54/100:   0%|          | 0/4811 [00:00<?, ?it/s]"
      ]
     },
     "metadata": {},
     "output_type": "display_data"
    },
    {
     "name": "stdout",
     "output_type": "stream",
     "text": [
      "\u001b[2m2023-10-22 02:08:54\u001b[0m [\u001b[32m\u001b[1minfo     \u001b[0m] \u001b[1mexp_5_dynamics_reacher_default_20231022000548: epoch=54 step=259794\u001b[0m \u001b[36mepoch\u001b[0m=\u001b[35m54\u001b[0m \u001b[36mmetrics\u001b[0m=\u001b[35m{'time_sample_batch': 0.00024159245519770874, 'time_algorithm_update': 0.017074930719912014, 'loss': -151.19070048779218, 'time_step': 0.017388770000970777, 'observation_error': 0.4850258770417026, 'reward_error': 2.6632359147593764e-05, 'variance': 0.4306371512631173}\u001b[0m \u001b[36mstep\u001b[0m=\u001b[35m259794\u001b[0m\n",
      "\u001b[2m2023-10-22 02:08:54\u001b[0m [\u001b[32m\u001b[1minfo     \u001b[0m] \u001b[1mModel parameters are saved to d3rlpy_logs/exp_5_dynamics_reacher_default_20231022000548/model_259794.pt\u001b[0m\n"
     ]
    },
    {
     "data": {
      "application/vnd.jupyter.widget-view+json": {
       "model_id": "da765be8673b4935aece9fe998ed6164",
       "version_major": 2,
       "version_minor": 0
      },
      "text/plain": [
       "Epoch 55/100:   0%|          | 0/4811 [00:00<?, ?it/s]"
      ]
     },
     "metadata": {},
     "output_type": "display_data"
    },
    {
     "name": "stdout",
     "output_type": "stream",
     "text": [
      "\u001b[2m2023-10-22 02:11:08\u001b[0m [\u001b[32m\u001b[1minfo     \u001b[0m] \u001b[1mexp_5_dynamics_reacher_default_20231022000548: epoch=55 step=264605\u001b[0m \u001b[36mepoch\u001b[0m=\u001b[35m55\u001b[0m \u001b[36mmetrics\u001b[0m=\u001b[35m{'time_sample_batch': 0.0002438295559039658, 'time_algorithm_update': 0.017053547680588577, 'loss': -151.57216938140115, 'time_step': 0.01737001407570166, 'observation_error': 0.47857222720828907, 'reward_error': 2.6897698787249687e-05, 'variance': 0.4365831034178772}\u001b[0m \u001b[36mstep\u001b[0m=\u001b[35m264605\u001b[0m\n",
      "\u001b[2m2023-10-22 02:11:08\u001b[0m [\u001b[32m\u001b[1minfo     \u001b[0m] \u001b[1mModel parameters are saved to d3rlpy_logs/exp_5_dynamics_reacher_default_20231022000548/model_264605.pt\u001b[0m\n"
     ]
    },
    {
     "data": {
      "application/vnd.jupyter.widget-view+json": {
       "model_id": "29ab6161dc5b469d847b72d80072f135",
       "version_major": 2,
       "version_minor": 0
      },
      "text/plain": [
       "Epoch 56/100:   0%|          | 0/4811 [00:00<?, ?it/s]"
      ]
     },
     "metadata": {},
     "output_type": "display_data"
    },
    {
     "name": "stdout",
     "output_type": "stream",
     "text": [
      "\u001b[2m2023-10-22 02:13:23\u001b[0m [\u001b[32m\u001b[1minfo     \u001b[0m] \u001b[1mexp_5_dynamics_reacher_default_20231022000548: epoch=56 step=269416\u001b[0m \u001b[36mepoch\u001b[0m=\u001b[35m56\u001b[0m \u001b[36mmetrics\u001b[0m=\u001b[35m{'time_sample_batch': 0.000244576379430688, 'time_algorithm_update': 0.017055085284673754, 'loss': -151.7012525497814, 'time_step': 0.017372293844958447, 'observation_error': 0.4837785307453688, 'reward_error': 2.066532068206256e-05, 'variance': 0.4555715535806948}\u001b[0m \u001b[36mstep\u001b[0m=\u001b[35m269416\u001b[0m\n",
      "\u001b[2m2023-10-22 02:13:23\u001b[0m [\u001b[32m\u001b[1minfo     \u001b[0m] \u001b[1mModel parameters are saved to d3rlpy_logs/exp_5_dynamics_reacher_default_20231022000548/model_269416.pt\u001b[0m\n"
     ]
    },
    {
     "data": {
      "application/vnd.jupyter.widget-view+json": {
       "model_id": "0440d6c8230a4b8083db72c606f7c0fe",
       "version_major": 2,
       "version_minor": 0
      },
      "text/plain": [
       "Epoch 57/100:   0%|          | 0/4811 [00:00<?, ?it/s]"
      ]
     },
     "metadata": {},
     "output_type": "display_data"
    },
    {
     "name": "stdout",
     "output_type": "stream",
     "text": [
      "\u001b[2m2023-10-22 02:15:38\u001b[0m [\u001b[32m\u001b[1minfo     \u001b[0m] \u001b[1mexp_5_dynamics_reacher_default_20231022000548: epoch=57 step=274227\u001b[0m \u001b[36mepoch\u001b[0m=\u001b[35m57\u001b[0m \u001b[36mmetrics\u001b[0m=\u001b[35m{'time_sample_batch': 0.0002416667410946269, 'time_algorithm_update': 0.017075070966135017, 'loss': -152.50457359366297, 'time_step': 0.017390500183438493, 'observation_error': 0.47780266233740015, 'reward_error': 2.168960522266895e-05, 'variance': 0.44870741406857667}\u001b[0m \u001b[36mstep\u001b[0m=\u001b[35m274227\u001b[0m\n",
      "\u001b[2m2023-10-22 02:15:38\u001b[0m [\u001b[32m\u001b[1minfo     \u001b[0m] \u001b[1mModel parameters are saved to d3rlpy_logs/exp_5_dynamics_reacher_default_20231022000548/model_274227.pt\u001b[0m\n"
     ]
    },
    {
     "data": {
      "application/vnd.jupyter.widget-view+json": {
       "model_id": "4c3e14d7b56a4ffcbacf27f0c2165564",
       "version_major": 2,
       "version_minor": 0
      },
      "text/plain": [
       "Epoch 58/100:   0%|          | 0/4811 [00:00<?, ?it/s]"
      ]
     },
     "metadata": {},
     "output_type": "display_data"
    },
    {
     "name": "stdout",
     "output_type": "stream",
     "text": [
      "\u001b[2m2023-10-22 02:17:53\u001b[0m [\u001b[32m\u001b[1minfo     \u001b[0m] \u001b[1mexp_5_dynamics_reacher_default_20231022000548: epoch=58 step=279038\u001b[0m \u001b[36mepoch\u001b[0m=\u001b[35m58\u001b[0m \u001b[36mmetrics\u001b[0m=\u001b[35m{'time_sample_batch': 0.00024809740209648845, 'time_algorithm_update': 0.01703926610540288, 'loss': -152.58280214869885, 'time_step': 0.01736072308554815, 'observation_error': 0.4777437909438294, 'reward_error': 2.174117825815817e-05, 'variance': 0.4689622828501423}\u001b[0m \u001b[36mstep\u001b[0m=\u001b[35m279038\u001b[0m\n",
      "\u001b[2m2023-10-22 02:17:53\u001b[0m [\u001b[32m\u001b[1minfo     \u001b[0m] \u001b[1mModel parameters are saved to d3rlpy_logs/exp_5_dynamics_reacher_default_20231022000548/model_279038.pt\u001b[0m\n"
     ]
    },
    {
     "data": {
      "application/vnd.jupyter.widget-view+json": {
       "model_id": "5765de4fdf2a4b029657573e4f6b2390",
       "version_major": 2,
       "version_minor": 0
      },
      "text/plain": [
       "Epoch 59/100:   0%|          | 0/4811 [00:00<?, ?it/s]"
      ]
     },
     "metadata": {},
     "output_type": "display_data"
    },
    {
     "name": "stdout",
     "output_type": "stream",
     "text": [
      "\u001b[2m2023-10-22 02:20:08\u001b[0m [\u001b[32m\u001b[1minfo     \u001b[0m] \u001b[1mexp_5_dynamics_reacher_default_20231022000548: epoch=59 step=283849\u001b[0m \u001b[36mepoch\u001b[0m=\u001b[35m59\u001b[0m \u001b[36mmetrics\u001b[0m=\u001b[35m{'time_sample_batch': 0.0002473529573042907, 'time_algorithm_update': 0.017079481982411725, 'loss': -152.85290318094403, 'time_step': 0.01740162919202482, 'observation_error': 0.4640339000681519, 'reward_error': 1.9401542699238494e-05, 'variance': 0.4675238106009912}\u001b[0m \u001b[36mstep\u001b[0m=\u001b[35m283849\u001b[0m\n",
      "\u001b[2m2023-10-22 02:20:08\u001b[0m [\u001b[32m\u001b[1minfo     \u001b[0m] \u001b[1mModel parameters are saved to d3rlpy_logs/exp_5_dynamics_reacher_default_20231022000548/model_283849.pt\u001b[0m\n"
     ]
    },
    {
     "data": {
      "application/vnd.jupyter.widget-view+json": {
       "model_id": "47d3da7b6afb4b87a36fe32a12b1f7bb",
       "version_major": 2,
       "version_minor": 0
      },
      "text/plain": [
       "Epoch 60/100:   0%|          | 0/4811 [00:00<?, ?it/s]"
      ]
     },
     "metadata": {},
     "output_type": "display_data"
    },
    {
     "name": "stdout",
     "output_type": "stream",
     "text": [
      "\u001b[2m2023-10-22 02:22:23\u001b[0m [\u001b[32m\u001b[1minfo     \u001b[0m] \u001b[1mexp_5_dynamics_reacher_default_20231022000548: epoch=60 step=288660\u001b[0m \u001b[36mepoch\u001b[0m=\u001b[35m60\u001b[0m \u001b[36mmetrics\u001b[0m=\u001b[35m{'time_sample_batch': 0.00024103414638204502, 'time_algorithm_update': 0.017070780918420264, 'loss': -153.14901866131825, 'time_step': 0.01738452708193379, 'observation_error': 0.45999011264361483, 'reward_error': 2.1298613419009386e-05, 'variance': 0.47136030438860127}\u001b[0m \u001b[36mstep\u001b[0m=\u001b[35m288660\u001b[0m\n",
      "\u001b[2m2023-10-22 02:22:23\u001b[0m [\u001b[32m\u001b[1minfo     \u001b[0m] \u001b[1mModel parameters are saved to d3rlpy_logs/exp_5_dynamics_reacher_default_20231022000548/model_288660.pt\u001b[0m\n"
     ]
    },
    {
     "data": {
      "application/vnd.jupyter.widget-view+json": {
       "model_id": "afdaa386c16745cfa00f6449cae8592a",
       "version_major": 2,
       "version_minor": 0
      },
      "text/plain": [
       "Epoch 61/100:   0%|          | 0/4811 [00:00<?, ?it/s]"
      ]
     },
     "metadata": {},
     "output_type": "display_data"
    },
    {
     "name": "stdout",
     "output_type": "stream",
     "text": [
      "\u001b[2m2023-10-22 02:24:37\u001b[0m [\u001b[32m\u001b[1minfo     \u001b[0m] \u001b[1mexp_5_dynamics_reacher_default_20231022000548: epoch=61 step=293471\u001b[0m \u001b[36mepoch\u001b[0m=\u001b[35m61\u001b[0m \u001b[36mmetrics\u001b[0m=\u001b[35m{'time_sample_batch': 0.0002442152082387337, 'time_algorithm_update': 0.01704674856352028, 'loss': -153.6849754010781, 'time_step': 0.017364831804312385, 'observation_error': 0.4760716493172437, 'reward_error': 2.047879197548206e-05, 'variance': 0.48934054854261855}\u001b[0m \u001b[36mstep\u001b[0m=\u001b[35m293471\u001b[0m\n",
      "\u001b[2m2023-10-22 02:24:37\u001b[0m [\u001b[32m\u001b[1minfo     \u001b[0m] \u001b[1mModel parameters are saved to d3rlpy_logs/exp_5_dynamics_reacher_default_20231022000548/model_293471.pt\u001b[0m\n"
     ]
    },
    {
     "data": {
      "application/vnd.jupyter.widget-view+json": {
       "model_id": "0b0b7ef94cad4d8ea021ca7ff722e3df",
       "version_major": 2,
       "version_minor": 0
      },
      "text/plain": [
       "Epoch 62/100:   0%|          | 0/4811 [00:00<?, ?it/s]"
      ]
     },
     "metadata": {},
     "output_type": "display_data"
    },
    {
     "name": "stdout",
     "output_type": "stream",
     "text": [
      "\u001b[2m2023-10-22 02:26:52\u001b[0m [\u001b[32m\u001b[1minfo     \u001b[0m] \u001b[1mexp_5_dynamics_reacher_default_20231022000548: epoch=62 step=298282\u001b[0m \u001b[36mepoch\u001b[0m=\u001b[35m62\u001b[0m \u001b[36mmetrics\u001b[0m=\u001b[35m{'time_sample_batch': 0.00024332937741324204, 'time_algorithm_update': 0.017083076547619907, 'loss': -154.11252268900424, 'time_step': 0.017399144108244398, 'observation_error': 0.44425851369930847, 'reward_error': 1.6923711703066235e-05, 'variance': 0.48143919332128676}\u001b[0m \u001b[36mstep\u001b[0m=\u001b[35m298282\u001b[0m\n",
      "\u001b[2m2023-10-22 02:26:52\u001b[0m [\u001b[32m\u001b[1minfo     \u001b[0m] \u001b[1mModel parameters are saved to d3rlpy_logs/exp_5_dynamics_reacher_default_20231022000548/model_298282.pt\u001b[0m\n"
     ]
    },
    {
     "data": {
      "application/vnd.jupyter.widget-view+json": {
       "model_id": "2ce2464439554ab6a508b36bea66c489",
       "version_major": 2,
       "version_minor": 0
      },
      "text/plain": [
       "Epoch 63/100:   0%|          | 0/4811 [00:00<?, ?it/s]"
      ]
     },
     "metadata": {},
     "output_type": "display_data"
    },
    {
     "name": "stdout",
     "output_type": "stream",
     "text": [
      "\u001b[2m2023-10-22 02:29:06\u001b[0m [\u001b[32m\u001b[1minfo     \u001b[0m] \u001b[1mexp_5_dynamics_reacher_default_20231022000548: epoch=63 step=303093\u001b[0m \u001b[36mepoch\u001b[0m=\u001b[35m63\u001b[0m \u001b[36mmetrics\u001b[0m=\u001b[35m{'time_sample_batch': 0.00024282815822616383, 'time_algorithm_update': 0.01706174346172148, 'loss': -154.18815349863513, 'time_step': 0.017378011331615713, 'observation_error': 0.44505354889484366, 'reward_error': 1.6120381677498466e-05, 'variance': 0.4919742371748283}\u001b[0m \u001b[36mstep\u001b[0m=\u001b[35m303093\u001b[0m\n",
      "\u001b[2m2023-10-22 02:29:06\u001b[0m [\u001b[32m\u001b[1minfo     \u001b[0m] \u001b[1mModel parameters are saved to d3rlpy_logs/exp_5_dynamics_reacher_default_20231022000548/model_303093.pt\u001b[0m\n"
     ]
    },
    {
     "data": {
      "application/vnd.jupyter.widget-view+json": {
       "model_id": "0ee38071c3214136a9c489e758fc1d18",
       "version_major": 2,
       "version_minor": 0
      },
      "text/plain": [
       "Epoch 64/100:   0%|          | 0/4811 [00:00<?, ?it/s]"
      ]
     },
     "metadata": {},
     "output_type": "display_data"
    },
    {
     "name": "stdout",
     "output_type": "stream",
     "text": [
      "\u001b[2m2023-10-22 02:31:21\u001b[0m [\u001b[32m\u001b[1minfo     \u001b[0m] \u001b[1mexp_5_dynamics_reacher_default_20231022000548: epoch=64 step=307904\u001b[0m \u001b[36mepoch\u001b[0m=\u001b[35m64\u001b[0m \u001b[36mmetrics\u001b[0m=\u001b[35m{'time_sample_batch': 0.000245865405758065, 'time_algorithm_update': 0.01708012572744239, 'loss': -153.96628656666832, 'time_step': 0.017398447931940255, 'observation_error': 0.4316943134500156, 'reward_error': 1.555796291589905e-05, 'variance': 0.4908817552453947}\u001b[0m \u001b[36mstep\u001b[0m=\u001b[35m307904\u001b[0m\n",
      "\u001b[2m2023-10-22 02:31:22\u001b[0m [\u001b[32m\u001b[1minfo     \u001b[0m] \u001b[1mModel parameters are saved to d3rlpy_logs/exp_5_dynamics_reacher_default_20231022000548/model_307904.pt\u001b[0m\n"
     ]
    },
    {
     "data": {
      "application/vnd.jupyter.widget-view+json": {
       "model_id": "20dfadb77bcf458bb92945267eb3cb02",
       "version_major": 2,
       "version_minor": 0
      },
      "text/plain": [
       "Epoch 65/100:   0%|          | 0/4811 [00:00<?, ?it/s]"
      ]
     },
     "metadata": {},
     "output_type": "display_data"
    },
    {
     "name": "stdout",
     "output_type": "stream",
     "text": [
      "\u001b[2m2023-10-22 02:33:37\u001b[0m [\u001b[32m\u001b[1minfo     \u001b[0m] \u001b[1mexp_5_dynamics_reacher_default_20231022000548: epoch=65 step=312715\u001b[0m \u001b[36mepoch\u001b[0m=\u001b[35m65\u001b[0m \u001b[36mmetrics\u001b[0m=\u001b[35m{'time_sample_batch': 0.00024290388127519048, 'time_algorithm_update': 0.01706701632325056, 'loss': -155.6661950672176, 'time_step': 0.0173832670959904, 'observation_error': 0.42810189017652606, 'reward_error': 1.5711537410139023e-05, 'variance': 0.4880599751891563}\u001b[0m \u001b[36mstep\u001b[0m=\u001b[35m312715\u001b[0m\n",
      "\u001b[2m2023-10-22 02:33:37\u001b[0m [\u001b[32m\u001b[1minfo     \u001b[0m] \u001b[1mModel parameters are saved to d3rlpy_logs/exp_5_dynamics_reacher_default_20231022000548/model_312715.pt\u001b[0m\n"
     ]
    },
    {
     "data": {
      "application/vnd.jupyter.widget-view+json": {
       "model_id": "45003b96ea134072b2c191dc35cfc2cb",
       "version_major": 2,
       "version_minor": 0
      },
      "text/plain": [
       "Epoch 66/100:   0%|          | 0/4811 [00:00<?, ?it/s]"
      ]
     },
     "metadata": {},
     "output_type": "display_data"
    },
    {
     "name": "stdout",
     "output_type": "stream",
     "text": [
      "\u001b[2m2023-10-22 02:35:52\u001b[0m [\u001b[32m\u001b[1minfo     \u001b[0m] \u001b[1mexp_5_dynamics_reacher_default_20231022000548: epoch=66 step=317526\u001b[0m \u001b[36mepoch\u001b[0m=\u001b[35m66\u001b[0m \u001b[36mmetrics\u001b[0m=\u001b[35m{'time_sample_batch': 0.00024209679647385022, 'time_algorithm_update': 0.017069221459711646, 'loss': -155.8988092422882, 'time_step': 0.0173848146610264, 'observation_error': 0.4413227946187963, 'reward_error': 1.4451514028095638e-05, 'variance': 0.5076045598399096}\u001b[0m \u001b[36mstep\u001b[0m=\u001b[35m317526\u001b[0m\n",
      "\u001b[2m2023-10-22 02:35:52\u001b[0m [\u001b[32m\u001b[1minfo     \u001b[0m] \u001b[1mModel parameters are saved to d3rlpy_logs/exp_5_dynamics_reacher_default_20231022000548/model_317526.pt\u001b[0m\n"
     ]
    },
    {
     "data": {
      "application/vnd.jupyter.widget-view+json": {
       "model_id": "69cd1adf2cf94045a05ae24da067d0e6",
       "version_major": 2,
       "version_minor": 0
      },
      "text/plain": [
       "Epoch 67/100:   0%|          | 0/4811 [00:00<?, ?it/s]"
      ]
     },
     "metadata": {},
     "output_type": "display_data"
    },
    {
     "name": "stdout",
     "output_type": "stream",
     "text": [
      "\u001b[2m2023-10-22 02:38:07\u001b[0m [\u001b[32m\u001b[1minfo     \u001b[0m] \u001b[1mexp_5_dynamics_reacher_default_20231022000548: epoch=67 step=322337\u001b[0m \u001b[36mepoch\u001b[0m=\u001b[35m67\u001b[0m \u001b[36mmetrics\u001b[0m=\u001b[35m{'time_sample_batch': 0.0002459853831806393, 'time_algorithm_update': 0.017091644154693154, 'loss': -156.13982278446824, 'time_step': 0.017410756891964627, 'observation_error': 0.4250480607602687, 'reward_error': 1.5219436669013615e-05, 'variance': 0.4774736609339079}\u001b[0m \u001b[36mstep\u001b[0m=\u001b[35m322337\u001b[0m\n",
      "\u001b[2m2023-10-22 02:38:07\u001b[0m [\u001b[32m\u001b[1minfo     \u001b[0m] \u001b[1mModel parameters are saved to d3rlpy_logs/exp_5_dynamics_reacher_default_20231022000548/model_322337.pt\u001b[0m\n"
     ]
    },
    {
     "data": {
      "application/vnd.jupyter.widget-view+json": {
       "model_id": "15f2adbb25d04d58977fc31d50750ddd",
       "version_major": 2,
       "version_minor": 0
      },
      "text/plain": [
       "Epoch 68/100:   0%|          | 0/4811 [00:00<?, ?it/s]"
      ]
     },
     "metadata": {},
     "output_type": "display_data"
    },
    {
     "name": "stdout",
     "output_type": "stream",
     "text": [
      "\u001b[2m2023-10-22 02:40:23\u001b[0m [\u001b[32m\u001b[1minfo     \u001b[0m] \u001b[1mexp_5_dynamics_reacher_default_20231022000548: epoch=68 step=327148\u001b[0m \u001b[36mepoch\u001b[0m=\u001b[35m68\u001b[0m \u001b[36mmetrics\u001b[0m=\u001b[35m{'time_sample_batch': 0.0002447625154072221, 'time_algorithm_update': 0.01719820472163833, 'loss': -156.6234533912153, 'time_step': 0.01751667559704397, 'observation_error': 0.4211159797162647, 'reward_error': 1.321422034867825e-05, 'variance': 0.4861853002902097}\u001b[0m \u001b[36mstep\u001b[0m=\u001b[35m327148\u001b[0m\n",
      "\u001b[2m2023-10-22 02:40:23\u001b[0m [\u001b[32m\u001b[1minfo     \u001b[0m] \u001b[1mModel parameters are saved to d3rlpy_logs/exp_5_dynamics_reacher_default_20231022000548/model_327148.pt\u001b[0m\n"
     ]
    },
    {
     "data": {
      "application/vnd.jupyter.widget-view+json": {
       "model_id": "23b4050281d64cb7ae059994ef6d6033",
       "version_major": 2,
       "version_minor": 0
      },
      "text/plain": [
       "Epoch 69/100:   0%|          | 0/4811 [00:00<?, ?it/s]"
      ]
     },
     "metadata": {},
     "output_type": "display_data"
    },
    {
     "name": "stdout",
     "output_type": "stream",
     "text": [
      "\u001b[2m2023-10-22 02:42:37\u001b[0m [\u001b[32m\u001b[1minfo     \u001b[0m] \u001b[1mexp_5_dynamics_reacher_default_20231022000548: epoch=69 step=331959\u001b[0m \u001b[36mepoch\u001b[0m=\u001b[35m69\u001b[0m \u001b[36mmetrics\u001b[0m=\u001b[35m{'time_sample_batch': 0.0002509500994748718, 'time_algorithm_update': 0.017114633830959944, 'loss': -157.1065652522593, 'time_step': 0.01744054791536333, 'observation_error': 0.42362619501088017, 'reward_error': 1.2286070642148653e-05, 'variance': 0.4655883448922428}\u001b[0m \u001b[36mstep\u001b[0m=\u001b[35m331959\u001b[0m\n",
      "\u001b[2m2023-10-22 02:42:37\u001b[0m [\u001b[32m\u001b[1minfo     \u001b[0m] \u001b[1mModel parameters are saved to d3rlpy_logs/exp_5_dynamics_reacher_default_20231022000548/model_331959.pt\u001b[0m\n"
     ]
    },
    {
     "data": {
      "application/vnd.jupyter.widget-view+json": {
       "model_id": "f4da9e0a4e024b7fbf49beb0cb40b978",
       "version_major": 2,
       "version_minor": 0
      },
      "text/plain": [
       "Epoch 70/100:   0%|          | 0/4811 [00:00<?, ?it/s]"
      ]
     },
     "metadata": {},
     "output_type": "display_data"
    },
    {
     "name": "stdout",
     "output_type": "stream",
     "text": [
      "\u001b[2m2023-10-22 02:44:51\u001b[0m [\u001b[32m\u001b[1minfo     \u001b[0m] \u001b[1mexp_5_dynamics_reacher_default_20231022000548: epoch=70 step=336770\u001b[0m \u001b[36mepoch\u001b[0m=\u001b[35m70\u001b[0m \u001b[36mmetrics\u001b[0m=\u001b[35m{'time_sample_batch': 0.0002434035146392524, 'time_algorithm_update': 0.016958041241649183, 'loss': -156.94702529272897, 'time_step': 0.017273193435494504, 'observation_error': 0.41824234410277433, 'reward_error': 1.3491313587392918e-05, 'variance': 0.46605838031959756}\u001b[0m \u001b[36mstep\u001b[0m=\u001b[35m336770\u001b[0m\n",
      "\u001b[2m2023-10-22 02:44:51\u001b[0m [\u001b[32m\u001b[1minfo     \u001b[0m] \u001b[1mModel parameters are saved to d3rlpy_logs/exp_5_dynamics_reacher_default_20231022000548/model_336770.pt\u001b[0m\n"
     ]
    },
    {
     "data": {
      "application/vnd.jupyter.widget-view+json": {
       "model_id": "ddc462f406984ebbaeec1e426fc82cc9",
       "version_major": 2,
       "version_minor": 0
      },
      "text/plain": [
       "Epoch 71/100:   0%|          | 0/4811 [00:00<?, ?it/s]"
      ]
     },
     "metadata": {},
     "output_type": "display_data"
    },
    {
     "name": "stdout",
     "output_type": "stream",
     "text": [
      "\u001b[2m2023-10-22 02:47:05\u001b[0m [\u001b[32m\u001b[1minfo     \u001b[0m] \u001b[1mexp_5_dynamics_reacher_default_20231022000548: epoch=71 step=341581\u001b[0m \u001b[36mepoch\u001b[0m=\u001b[35m71\u001b[0m \u001b[36mmetrics\u001b[0m=\u001b[35m{'time_sample_batch': 0.00024477341794045893, 'time_algorithm_update': 0.01702622043147352, 'loss': -158.02099572583907, 'time_step': 0.017343929715375597, 'observation_error': 0.41770657374078035, 'reward_error': 1.3462311007443763e-05, 'variance': 0.456538361824431}\u001b[0m \u001b[36mstep\u001b[0m=\u001b[35m341581\u001b[0m\n",
      "\u001b[2m2023-10-22 02:47:05\u001b[0m [\u001b[32m\u001b[1minfo     \u001b[0m] \u001b[1mModel parameters are saved to d3rlpy_logs/exp_5_dynamics_reacher_default_20231022000548/model_341581.pt\u001b[0m\n"
     ]
    },
    {
     "data": {
      "application/vnd.jupyter.widget-view+json": {
       "model_id": "02326570bb444cf086d2de585edf6ce1",
       "version_major": 2,
       "version_minor": 0
      },
      "text/plain": [
       "Epoch 72/100:   0%|          | 0/4811 [00:00<?, ?it/s]"
      ]
     },
     "metadata": {},
     "output_type": "display_data"
    },
    {
     "name": "stdout",
     "output_type": "stream",
     "text": [
      "\u001b[2m2023-10-22 02:49:19\u001b[0m [\u001b[32m\u001b[1minfo     \u001b[0m] \u001b[1mexp_5_dynamics_reacher_default_20231022000548: epoch=72 step=346392\u001b[0m \u001b[36mepoch\u001b[0m=\u001b[35m72\u001b[0m \u001b[36mmetrics\u001b[0m=\u001b[35m{'time_sample_batch': 0.00024874521079863265, 'time_algorithm_update': 0.016980431427258857, 'loss': -158.30024800035963, 'time_step': 0.017302950462812296, 'observation_error': 0.41688041229837963, 'reward_error': 1.2095581078973445e-05, 'variance': 0.447704696070215}\u001b[0m \u001b[36mstep\u001b[0m=\u001b[35m346392\u001b[0m\n",
      "\u001b[2m2023-10-22 02:49:19\u001b[0m [\u001b[32m\u001b[1minfo     \u001b[0m] \u001b[1mModel parameters are saved to d3rlpy_logs/exp_5_dynamics_reacher_default_20231022000548/model_346392.pt\u001b[0m\n"
     ]
    },
    {
     "data": {
      "application/vnd.jupyter.widget-view+json": {
       "model_id": "92604eba86a24851bb943f453fa73b94",
       "version_major": 2,
       "version_minor": 0
      },
      "text/plain": [
       "Epoch 73/100:   0%|          | 0/4811 [00:00<?, ?it/s]"
      ]
     },
     "metadata": {},
     "output_type": "display_data"
    },
    {
     "name": "stdout",
     "output_type": "stream",
     "text": [
      "\u001b[2m2023-10-22 02:51:34\u001b[0m [\u001b[32m\u001b[1minfo     \u001b[0m] \u001b[1mexp_5_dynamics_reacher_default_20231022000548: epoch=73 step=351203\u001b[0m \u001b[36mepoch\u001b[0m=\u001b[35m73\u001b[0m \u001b[36mmetrics\u001b[0m=\u001b[35m{'time_sample_batch': 0.00024518315496228633, 'time_algorithm_update': 0.0170477955536098, 'loss': -158.44698994473393, 'time_step': 0.017366701786990374, 'observation_error': 0.4153180754179307, 'reward_error': 1.238400492219246e-05, 'variance': 0.43775859415755397}\u001b[0m \u001b[36mstep\u001b[0m=\u001b[35m351203\u001b[0m\n",
      "\u001b[2m2023-10-22 02:51:34\u001b[0m [\u001b[32m\u001b[1minfo     \u001b[0m] \u001b[1mModel parameters are saved to d3rlpy_logs/exp_5_dynamics_reacher_default_20231022000548/model_351203.pt\u001b[0m\n"
     ]
    },
    {
     "data": {
      "application/vnd.jupyter.widget-view+json": {
       "model_id": "41cea91eb100407da4e84e9966db51b3",
       "version_major": 2,
       "version_minor": 0
      },
      "text/plain": [
       "Epoch 74/100:   0%|          | 0/4811 [00:00<?, ?it/s]"
      ]
     },
     "metadata": {},
     "output_type": "display_data"
    },
    {
     "name": "stdout",
     "output_type": "stream",
     "text": [
      "\u001b[2m2023-10-22 02:53:48\u001b[0m [\u001b[32m\u001b[1minfo     \u001b[0m] \u001b[1mexp_5_dynamics_reacher_default_20231022000548: epoch=74 step=356014\u001b[0m \u001b[36mepoch\u001b[0m=\u001b[35m74\u001b[0m \u001b[36mmetrics\u001b[0m=\u001b[35m{'time_sample_batch': 0.0002431200487750951, 'time_algorithm_update': 0.016969440236604034, 'loss': -158.96930610372877, 'time_step': 0.017285261152192526, 'observation_error': 0.413875073205725, 'reward_error': 1.0796195881517385e-05, 'variance': 0.43779753198089744}\u001b[0m \u001b[36mstep\u001b[0m=\u001b[35m356014\u001b[0m\n",
      "\u001b[2m2023-10-22 02:53:48\u001b[0m [\u001b[32m\u001b[1minfo     \u001b[0m] \u001b[1mModel parameters are saved to d3rlpy_logs/exp_5_dynamics_reacher_default_20231022000548/model_356014.pt\u001b[0m\n"
     ]
    },
    {
     "data": {
      "application/vnd.jupyter.widget-view+json": {
       "model_id": "46f4881b66d449efaf8dc8768b882172",
       "version_major": 2,
       "version_minor": 0
      },
      "text/plain": [
       "Epoch 75/100:   0%|          | 0/4811 [00:00<?, ?it/s]"
      ]
     },
     "metadata": {},
     "output_type": "display_data"
    },
    {
     "name": "stdout",
     "output_type": "stream",
     "text": [
      "\u001b[2m2023-10-22 02:56:02\u001b[0m [\u001b[32m\u001b[1minfo     \u001b[0m] \u001b[1mexp_5_dynamics_reacher_default_20231022000548: epoch=75 step=360825\u001b[0m \u001b[36mepoch\u001b[0m=\u001b[35m75\u001b[0m \u001b[36mmetrics\u001b[0m=\u001b[35m{'time_sample_batch': 0.00024483348098719996, 'time_algorithm_update': 0.01698155423951134, 'loss': -158.84034449106144, 'time_step': 0.017299677522334606, 'observation_error': 0.41620281929249336, 'reward_error': 1.0688750581209427e-05, 'variance': 0.4351700967590625}\u001b[0m \u001b[36mstep\u001b[0m=\u001b[35m360825\u001b[0m\n",
      "\u001b[2m2023-10-22 02:56:02\u001b[0m [\u001b[32m\u001b[1minfo     \u001b[0m] \u001b[1mModel parameters are saved to d3rlpy_logs/exp_5_dynamics_reacher_default_20231022000548/model_360825.pt\u001b[0m\n"
     ]
    },
    {
     "data": {
      "application/vnd.jupyter.widget-view+json": {
       "model_id": "5bc7d61845964202ae2764fbe9325001",
       "version_major": 2,
       "version_minor": 0
      },
      "text/plain": [
       "Epoch 76/100:   0%|          | 0/4811 [00:00<?, ?it/s]"
      ]
     },
     "metadata": {},
     "output_type": "display_data"
    },
    {
     "name": "stdout",
     "output_type": "stream",
     "text": [
      "\u001b[2m2023-10-22 02:58:17\u001b[0m [\u001b[32m\u001b[1minfo     \u001b[0m] \u001b[1mexp_5_dynamics_reacher_default_20231022000548: epoch=76 step=365636\u001b[0m \u001b[36mepoch\u001b[0m=\u001b[35m76\u001b[0m \u001b[36mmetrics\u001b[0m=\u001b[35m{'time_sample_batch': 0.00024498051651498926, 'time_algorithm_update': 0.016961918232025166, 'loss': -158.66602331941328, 'time_step': 0.01727975205259099, 'observation_error': 0.41060754469347305, 'reward_error': 1.0207132142015562e-05, 'variance': 0.44245043697205155}\u001b[0m \u001b[36mstep\u001b[0m=\u001b[35m365636\u001b[0m\n",
      "\u001b[2m2023-10-22 02:58:17\u001b[0m [\u001b[32m\u001b[1minfo     \u001b[0m] \u001b[1mModel parameters are saved to d3rlpy_logs/exp_5_dynamics_reacher_default_20231022000548/model_365636.pt\u001b[0m\n"
     ]
    },
    {
     "data": {
      "application/vnd.jupyter.widget-view+json": {
       "model_id": "2cf39a09055144c3870a79cf1417aefa",
       "version_major": 2,
       "version_minor": 0
      },
      "text/plain": [
       "Epoch 77/100:   0%|          | 0/4811 [00:00<?, ?it/s]"
      ]
     },
     "metadata": {},
     "output_type": "display_data"
    },
    {
     "name": "stdout",
     "output_type": "stream",
     "text": [
      "\u001b[2m2023-10-22 03:00:31\u001b[0m [\u001b[32m\u001b[1minfo     \u001b[0m] \u001b[1mexp_5_dynamics_reacher_default_20231022000548: epoch=77 step=370447\u001b[0m \u001b[36mepoch\u001b[0m=\u001b[35m77\u001b[0m \u001b[36mmetrics\u001b[0m=\u001b[35m{'time_sample_batch': 0.00024236668372843077, 'time_algorithm_update': 0.01699178002277597, 'loss': -159.71333313860484, 'time_step': 0.01730793192936214, 'observation_error': 0.4186782476031779, 'reward_error': 1.0657300904945207e-05, 'variance': 0.4449453395560112}\u001b[0m \u001b[36mstep\u001b[0m=\u001b[35m370447\u001b[0m\n",
      "\u001b[2m2023-10-22 03:00:31\u001b[0m [\u001b[32m\u001b[1minfo     \u001b[0m] \u001b[1mModel parameters are saved to d3rlpy_logs/exp_5_dynamics_reacher_default_20231022000548/model_370447.pt\u001b[0m\n"
     ]
    },
    {
     "data": {
      "application/vnd.jupyter.widget-view+json": {
       "model_id": "11d569d877a149dcb0589acd216cd3bd",
       "version_major": 2,
       "version_minor": 0
      },
      "text/plain": [
       "Epoch 78/100:   0%|          | 0/4811 [00:00<?, ?it/s]"
      ]
     },
     "metadata": {},
     "output_type": "display_data"
    },
    {
     "name": "stdout",
     "output_type": "stream",
     "text": [
      "\u001b[2m2023-10-22 03:02:45\u001b[0m [\u001b[32m\u001b[1minfo     \u001b[0m] \u001b[1mexp_5_dynamics_reacher_default_20231022000548: epoch=78 step=375258\u001b[0m \u001b[36mepoch\u001b[0m=\u001b[35m78\u001b[0m \u001b[36mmetrics\u001b[0m=\u001b[35m{'time_sample_batch': 0.00024442741118109766, 'time_algorithm_update': 0.01707462837284257, 'loss': -159.80157668534545, 'time_step': 0.01739243652289832, 'observation_error': 0.40926472919461465, 'reward_error': 1.0486645931074062e-05, 'variance': 0.43374914002749737}\u001b[0m \u001b[36mstep\u001b[0m=\u001b[35m375258\u001b[0m\n",
      "\u001b[2m2023-10-22 03:02:45\u001b[0m [\u001b[32m\u001b[1minfo     \u001b[0m] \u001b[1mModel parameters are saved to d3rlpy_logs/exp_5_dynamics_reacher_default_20231022000548/model_375258.pt\u001b[0m\n"
     ]
    },
    {
     "data": {
      "application/vnd.jupyter.widget-view+json": {
       "model_id": "a9aa7a522eba4891be66f63578c401cd",
       "version_major": 2,
       "version_minor": 0
      },
      "text/plain": [
       "Epoch 79/100:   0%|          | 0/4811 [00:00<?, ?it/s]"
      ]
     },
     "metadata": {},
     "output_type": "display_data"
    },
    {
     "name": "stdout",
     "output_type": "stream",
     "text": [
      "\u001b[2m2023-10-22 03:05:00\u001b[0m [\u001b[32m\u001b[1minfo     \u001b[0m] \u001b[1mexp_5_dynamics_reacher_default_20231022000548: epoch=79 step=380069\u001b[0m \u001b[36mepoch\u001b[0m=\u001b[35m79\u001b[0m \u001b[36mmetrics\u001b[0m=\u001b[35m{'time_sample_batch': 0.00024433984401641827, 'time_algorithm_update': 0.017037361829302163, 'loss': -159.52122276653446, 'time_step': 0.017355445070094264, 'observation_error': 0.4152655399506308, 'reward_error': 9.503138495633434e-06, 'variance': 0.4328619275084083}\u001b[0m \u001b[36mstep\u001b[0m=\u001b[35m380069\u001b[0m\n",
      "\u001b[2m2023-10-22 03:05:00\u001b[0m [\u001b[32m\u001b[1minfo     \u001b[0m] \u001b[1mModel parameters are saved to d3rlpy_logs/exp_5_dynamics_reacher_default_20231022000548/model_380069.pt\u001b[0m\n"
     ]
    },
    {
     "data": {
      "application/vnd.jupyter.widget-view+json": {
       "model_id": "9e5e70cb8a314ca4bcb830bdf018195d",
       "version_major": 2,
       "version_minor": 0
      },
      "text/plain": [
       "Epoch 80/100:   0%|          | 0/4811 [00:00<?, ?it/s]"
      ]
     },
     "metadata": {},
     "output_type": "display_data"
    },
    {
     "name": "stdout",
     "output_type": "stream",
     "text": [
      "\u001b[2m2023-10-22 03:07:15\u001b[0m [\u001b[32m\u001b[1minfo     \u001b[0m] \u001b[1mexp_5_dynamics_reacher_default_20231022000548: epoch=80 step=384880\u001b[0m \u001b[36mepoch\u001b[0m=\u001b[35m80\u001b[0m \u001b[36mmetrics\u001b[0m=\u001b[35m{'time_sample_batch': 0.00024533479928821666, 'time_algorithm_update': 0.016991736263972115, 'loss': -160.64718937601276, 'time_step': 0.017309755328489027, 'observation_error': 0.4071721156354962, 'reward_error': 9.709536490985686e-06, 'variance': 0.4295773281393282}\u001b[0m \u001b[36mstep\u001b[0m=\u001b[35m384880\u001b[0m\n",
      "\u001b[2m2023-10-22 03:07:15\u001b[0m [\u001b[32m\u001b[1minfo     \u001b[0m] \u001b[1mModel parameters are saved to d3rlpy_logs/exp_5_dynamics_reacher_default_20231022000548/model_384880.pt\u001b[0m\n"
     ]
    },
    {
     "data": {
      "application/vnd.jupyter.widget-view+json": {
       "model_id": "c4d6fdd5a6bb459ea91328f07fa194fc",
       "version_major": 2,
       "version_minor": 0
      },
      "text/plain": [
       "Epoch 81/100:   0%|          | 0/4811 [00:00<?, ?it/s]"
      ]
     },
     "metadata": {},
     "output_type": "display_data"
    },
    {
     "name": "stdout",
     "output_type": "stream",
     "text": [
      "\u001b[2m2023-10-22 03:09:29\u001b[0m [\u001b[32m\u001b[1minfo     \u001b[0m] \u001b[1mexp_5_dynamics_reacher_default_20231022000548: epoch=81 step=389691\u001b[0m \u001b[36mepoch\u001b[0m=\u001b[35m81\u001b[0m \u001b[36mmetrics\u001b[0m=\u001b[35m{'time_sample_batch': 0.00024513810767723057, 'time_algorithm_update': 0.016975410364690576, 'loss': -160.59497552918089, 'time_step': 0.01729335524242451, 'observation_error': 0.4083795517679427, 'reward_error': 9.55141126616351e-06, 'variance': 0.4257222061655551}\u001b[0m \u001b[36mstep\u001b[0m=\u001b[35m389691\u001b[0m\n",
      "\u001b[2m2023-10-22 03:09:29\u001b[0m [\u001b[32m\u001b[1minfo     \u001b[0m] \u001b[1mModel parameters are saved to d3rlpy_logs/exp_5_dynamics_reacher_default_20231022000548/model_389691.pt\u001b[0m\n"
     ]
    },
    {
     "data": {
      "application/vnd.jupyter.widget-view+json": {
       "model_id": "0d7373b6713846a6b640949f6cbbc1cb",
       "version_major": 2,
       "version_minor": 0
      },
      "text/plain": [
       "Epoch 82/100:   0%|          | 0/4811 [00:00<?, ?it/s]"
      ]
     },
     "metadata": {},
     "output_type": "display_data"
    },
    {
     "name": "stdout",
     "output_type": "stream",
     "text": [
      "\u001b[2m2023-10-22 03:11:43\u001b[0m [\u001b[32m\u001b[1minfo     \u001b[0m] \u001b[1mexp_5_dynamics_reacher_default_20231022000548: epoch=82 step=394502\u001b[0m \u001b[36mepoch\u001b[0m=\u001b[35m82\u001b[0m \u001b[36mmetrics\u001b[0m=\u001b[35m{'time_sample_batch': 0.0002441008307536856, 'time_algorithm_update': 0.017060375689369953, 'loss': -160.63796061751898, 'time_step': 0.017378560819290848, 'observation_error': 0.4053698225026513, 'reward_error': 8.899494350187807e-06, 'variance': 0.4263516701089733}\u001b[0m \u001b[36mstep\u001b[0m=\u001b[35m394502\u001b[0m\n",
      "\u001b[2m2023-10-22 03:11:43\u001b[0m [\u001b[32m\u001b[1minfo     \u001b[0m] \u001b[1mModel parameters are saved to d3rlpy_logs/exp_5_dynamics_reacher_default_20231022000548/model_394502.pt\u001b[0m\n"
     ]
    },
    {
     "data": {
      "application/vnd.jupyter.widget-view+json": {
       "model_id": "f8ccdb16132c456cb0fdd93252c7eeae",
       "version_major": 2,
       "version_minor": 0
      },
      "text/plain": [
       "Epoch 83/100:   0%|          | 0/4811 [00:00<?, ?it/s]"
      ]
     },
     "metadata": {},
     "output_type": "display_data"
    },
    {
     "name": "stdout",
     "output_type": "stream",
     "text": [
      "\u001b[2m2023-10-22 03:13:58\u001b[0m [\u001b[32m\u001b[1minfo     \u001b[0m] \u001b[1mexp_5_dynamics_reacher_default_20231022000548: epoch=83 step=399313\u001b[0m \u001b[36mepoch\u001b[0m=\u001b[35m83\u001b[0m \u001b[36mmetrics\u001b[0m=\u001b[35m{'time_sample_batch': 0.00024669612923374146, 'time_algorithm_update': 0.017078286668313215, 'loss': -160.8405978001222, 'time_step': 0.017399232567434524, 'observation_error': 0.4057778895776972, 'reward_error': 8.892290884403562e-06, 'variance': 0.41830163291362027}\u001b[0m \u001b[36mstep\u001b[0m=\u001b[35m399313\u001b[0m\n",
      "\u001b[2m2023-10-22 03:13:58\u001b[0m [\u001b[32m\u001b[1minfo     \u001b[0m] \u001b[1mModel parameters are saved to d3rlpy_logs/exp_5_dynamics_reacher_default_20231022000548/model_399313.pt\u001b[0m\n"
     ]
    },
    {
     "data": {
      "application/vnd.jupyter.widget-view+json": {
       "model_id": "911c7b460bb94514bd3fb8c5b800b454",
       "version_major": 2,
       "version_minor": 0
      },
      "text/plain": [
       "Epoch 84/100:   0%|          | 0/4811 [00:00<?, ?it/s]"
      ]
     },
     "metadata": {},
     "output_type": "display_data"
    },
    {
     "name": "stdout",
     "output_type": "stream",
     "text": [
      "\u001b[2m2023-10-22 03:16:13\u001b[0m [\u001b[32m\u001b[1minfo     \u001b[0m] \u001b[1mexp_5_dynamics_reacher_default_20231022000548: epoch=84 step=404124\u001b[0m \u001b[36mepoch\u001b[0m=\u001b[35m84\u001b[0m \u001b[36mmetrics\u001b[0m=\u001b[35m{'time_sample_batch': 0.00024217940794160376, 'time_algorithm_update': 0.017027212859339884, 'loss': -160.8371695782335, 'time_step': 0.017342254888042544, 'observation_error': 0.39733186586713654, 'reward_error': 8.302014950476557e-06, 'variance': 0.4089523231685932}\u001b[0m \u001b[36mstep\u001b[0m=\u001b[35m404124\u001b[0m\n",
      "\u001b[2m2023-10-22 03:16:13\u001b[0m [\u001b[32m\u001b[1minfo     \u001b[0m] \u001b[1mModel parameters are saved to d3rlpy_logs/exp_5_dynamics_reacher_default_20231022000548/model_404124.pt\u001b[0m\n"
     ]
    },
    {
     "data": {
      "application/vnd.jupyter.widget-view+json": {
       "model_id": "d8101e5bdfe84c0f9b867b61e19a5cf4",
       "version_major": 2,
       "version_minor": 0
      },
      "text/plain": [
       "Epoch 85/100:   0%|          | 0/4811 [00:00<?, ?it/s]"
      ]
     },
     "metadata": {},
     "output_type": "display_data"
    },
    {
     "name": "stdout",
     "output_type": "stream",
     "text": [
      "\u001b[2m2023-10-22 03:18:28\u001b[0m [\u001b[32m\u001b[1minfo     \u001b[0m] \u001b[1mexp_5_dynamics_reacher_default_20231022000548: epoch=85 step=408935\u001b[0m \u001b[36mepoch\u001b[0m=\u001b[35m85\u001b[0m \u001b[36mmetrics\u001b[0m=\u001b[35m{'time_sample_batch': 0.00024213852344196567, 'time_algorithm_update': 0.01701422645554575, 'loss': -161.1037644017786, 'time_step': 0.017329809596795743, 'observation_error': 0.3899044134034857, 'reward_error': 8.061343043700682e-06, 'variance': 0.4101971321220467}\u001b[0m \u001b[36mstep\u001b[0m=\u001b[35m408935\u001b[0m\n",
      "\u001b[2m2023-10-22 03:18:28\u001b[0m [\u001b[32m\u001b[1minfo     \u001b[0m] \u001b[1mModel parameters are saved to d3rlpy_logs/exp_5_dynamics_reacher_default_20231022000548/model_408935.pt\u001b[0m\n"
     ]
    },
    {
     "data": {
      "application/vnd.jupyter.widget-view+json": {
       "model_id": "8ba30f599f98404b9ab212665923f2fb",
       "version_major": 2,
       "version_minor": 0
      },
      "text/plain": [
       "Epoch 86/100:   0%|          | 0/4811 [00:00<?, ?it/s]"
      ]
     },
     "metadata": {},
     "output_type": "display_data"
    },
    {
     "name": "stdout",
     "output_type": "stream",
     "text": [
      "\u001b[2m2023-10-22 03:20:42\u001b[0m [\u001b[32m\u001b[1minfo     \u001b[0m] \u001b[1mexp_5_dynamics_reacher_default_20231022000548: epoch=86 step=413746\u001b[0m \u001b[36mepoch\u001b[0m=\u001b[35m86\u001b[0m \u001b[36mmetrics\u001b[0m=\u001b[35m{'time_sample_batch': 0.0002473203488185187, 'time_algorithm_update': 0.01694107278670424, 'loss': -161.03182661278137, 'time_step': 0.017261487930684792, 'observation_error': 0.3874547908983238, 'reward_error': 8.655300076944093e-06, 'variance': 0.40586539238343267}\u001b[0m \u001b[36mstep\u001b[0m=\u001b[35m413746\u001b[0m\n",
      "\u001b[2m2023-10-22 03:20:42\u001b[0m [\u001b[32m\u001b[1minfo     \u001b[0m] \u001b[1mModel parameters are saved to d3rlpy_logs/exp_5_dynamics_reacher_default_20231022000548/model_413746.pt\u001b[0m\n"
     ]
    },
    {
     "data": {
      "application/vnd.jupyter.widget-view+json": {
       "model_id": "f3cd01d6694b4ae290fb94b91d05aec9",
       "version_major": 2,
       "version_minor": 0
      },
      "text/plain": [
       "Epoch 87/100:   0%|          | 0/4811 [00:00<?, ?it/s]"
      ]
     },
     "metadata": {},
     "output_type": "display_data"
    },
    {
     "name": "stdout",
     "output_type": "stream",
     "text": [
      "\u001b[2m2023-10-22 03:22:57\u001b[0m [\u001b[32m\u001b[1minfo     \u001b[0m] \u001b[1mexp_5_dynamics_reacher_default_20231022000548: epoch=87 step=418557\u001b[0m \u001b[36mepoch\u001b[0m=\u001b[35m87\u001b[0m \u001b[36mmetrics\u001b[0m=\u001b[35m{'time_sample_batch': 0.00024589657709172847, 'time_algorithm_update': 0.016985641599221824, 'loss': -161.06563648595753, 'time_step': 0.01730509697337875, 'observation_error': 0.39259825843872453, 'reward_error': 7.334939652071019e-06, 'variance': 0.4137329658427163}\u001b[0m \u001b[36mstep\u001b[0m=\u001b[35m418557\u001b[0m\n",
      "\u001b[2m2023-10-22 03:22:57\u001b[0m [\u001b[32m\u001b[1minfo     \u001b[0m] \u001b[1mModel parameters are saved to d3rlpy_logs/exp_5_dynamics_reacher_default_20231022000548/model_418557.pt\u001b[0m\n"
     ]
    },
    {
     "data": {
      "application/vnd.jupyter.widget-view+json": {
       "model_id": "1a6ea940aa6d42eb804b4f7ed1eed701",
       "version_major": 2,
       "version_minor": 0
      },
      "text/plain": [
       "Epoch 88/100:   0%|          | 0/4811 [00:00<?, ?it/s]"
      ]
     },
     "metadata": {},
     "output_type": "display_data"
    },
    {
     "name": "stdout",
     "output_type": "stream",
     "text": [
      "\u001b[2m2023-10-22 03:25:11\u001b[0m [\u001b[32m\u001b[1minfo     \u001b[0m] \u001b[1mexp_5_dynamics_reacher_default_20231022000548: epoch=88 step=423368\u001b[0m \u001b[36mepoch\u001b[0m=\u001b[35m88\u001b[0m \u001b[36mmetrics\u001b[0m=\u001b[35m{'time_sample_batch': 0.00024734051850500686, 'time_algorithm_update': 0.017036337536304562, 'loss': -162.23351066698777, 'time_step': 0.01735785076360994, 'observation_error': 0.38263242186659707, 'reward_error': 7.854048079334225e-06, 'variance': 0.4039668560396806}\u001b[0m \u001b[36mstep\u001b[0m=\u001b[35m423368\u001b[0m\n",
      "\u001b[2m2023-10-22 03:25:11\u001b[0m [\u001b[32m\u001b[1minfo     \u001b[0m] \u001b[1mModel parameters are saved to d3rlpy_logs/exp_5_dynamics_reacher_default_20231022000548/model_423368.pt\u001b[0m\n"
     ]
    },
    {
     "data": {
      "application/vnd.jupyter.widget-view+json": {
       "model_id": "ca3f1353442b4b558e3c88b4d7ae451a",
       "version_major": 2,
       "version_minor": 0
      },
      "text/plain": [
       "Epoch 89/100:   0%|          | 0/4811 [00:00<?, ?it/s]"
      ]
     },
     "metadata": {},
     "output_type": "display_data"
    },
    {
     "name": "stdout",
     "output_type": "stream",
     "text": [
      "\u001b[2m2023-10-22 03:27:25\u001b[0m [\u001b[32m\u001b[1minfo     \u001b[0m] \u001b[1mexp_5_dynamics_reacher_default_20231022000548: epoch=89 step=428179\u001b[0m \u001b[36mepoch\u001b[0m=\u001b[35m89\u001b[0m \u001b[36mmetrics\u001b[0m=\u001b[35m{'time_sample_batch': 0.0002486390597704814, 'time_algorithm_update': 0.017006766397178456, 'loss': -161.7269225813351, 'time_step': 0.0173307145070544, 'observation_error': 0.3790529974339781, 'reward_error': 7.11505527458218e-06, 'variance': 0.40035598017143315}\u001b[0m \u001b[36mstep\u001b[0m=\u001b[35m428179\u001b[0m\n",
      "\u001b[2m2023-10-22 03:27:25\u001b[0m [\u001b[32m\u001b[1minfo     \u001b[0m] \u001b[1mModel parameters are saved to d3rlpy_logs/exp_5_dynamics_reacher_default_20231022000548/model_428179.pt\u001b[0m\n"
     ]
    },
    {
     "data": {
      "application/vnd.jupyter.widget-view+json": {
       "model_id": "3649b76e33a84cf5b2eb879072c97f4a",
       "version_major": 2,
       "version_minor": 0
      },
      "text/plain": [
       "Epoch 90/100:   0%|          | 0/4811 [00:00<?, ?it/s]"
      ]
     },
     "metadata": {},
     "output_type": "display_data"
    },
    {
     "name": "stdout",
     "output_type": "stream",
     "text": [
      "\u001b[2m2023-10-22 03:29:40\u001b[0m [\u001b[32m\u001b[1minfo     \u001b[0m] \u001b[1mexp_5_dynamics_reacher_default_20231022000548: epoch=90 step=432990\u001b[0m \u001b[36mepoch\u001b[0m=\u001b[35m90\u001b[0m \u001b[36mmetrics\u001b[0m=\u001b[35m{'time_sample_batch': 0.000244613596714601, 'time_algorithm_update': 0.017036453995182322, 'loss': -161.73531256711203, 'time_step': 0.017354964962176093, 'observation_error': 0.3762347685002244, 'reward_error': 7.189714054897791e-06, 'variance': 0.39925201196020904}\u001b[0m \u001b[36mstep\u001b[0m=\u001b[35m432990\u001b[0m\n",
      "\u001b[2m2023-10-22 03:29:40\u001b[0m [\u001b[32m\u001b[1minfo     \u001b[0m] \u001b[1mModel parameters are saved to d3rlpy_logs/exp_5_dynamics_reacher_default_20231022000548/model_432990.pt\u001b[0m\n"
     ]
    },
    {
     "data": {
      "application/vnd.jupyter.widget-view+json": {
       "model_id": "bdbb12e88b8340afa2f83ff9ccd931e6",
       "version_major": 2,
       "version_minor": 0
      },
      "text/plain": [
       "Epoch 91/100:   0%|          | 0/4811 [00:00<?, ?it/s]"
      ]
     },
     "metadata": {},
     "output_type": "display_data"
    },
    {
     "name": "stdout",
     "output_type": "stream",
     "text": [
      "\u001b[2m2023-10-22 03:31:54\u001b[0m [\u001b[32m\u001b[1minfo     \u001b[0m] \u001b[1mexp_5_dynamics_reacher_default_20231022000548: epoch=91 step=437801\u001b[0m \u001b[36mepoch\u001b[0m=\u001b[35m91\u001b[0m \u001b[36mmetrics\u001b[0m=\u001b[35m{'time_sample_batch': 0.0002429593355237905, 'time_algorithm_update': 0.01709790404237895, 'loss': -161.5597259273303, 'time_step': 0.017413691556570163, 'observation_error': 0.37770424818423964, 'reward_error': 7.63692252480906e-06, 'variance': 0.4105830675935722}\u001b[0m \u001b[36mstep\u001b[0m=\u001b[35m437801\u001b[0m\n",
      "\u001b[2m2023-10-22 03:31:54\u001b[0m [\u001b[32m\u001b[1minfo     \u001b[0m] \u001b[1mModel parameters are saved to d3rlpy_logs/exp_5_dynamics_reacher_default_20231022000548/model_437801.pt\u001b[0m\n"
     ]
    },
    {
     "data": {
      "application/vnd.jupyter.widget-view+json": {
       "model_id": "6dd00c12c25e4367b672fd8d8d61ce81",
       "version_major": 2,
       "version_minor": 0
      },
      "text/plain": [
       "Epoch 92/100:   0%|          | 0/4811 [00:00<?, ?it/s]"
      ]
     },
     "metadata": {},
     "output_type": "display_data"
    },
    {
     "name": "stdout",
     "output_type": "stream",
     "text": [
      "\u001b[2m2023-10-22 03:34:08\u001b[0m [\u001b[32m\u001b[1minfo     \u001b[0m] \u001b[1mexp_5_dynamics_reacher_default_20231022000548: epoch=92 step=442612\u001b[0m \u001b[36mepoch\u001b[0m=\u001b[35m92\u001b[0m \u001b[36mmetrics\u001b[0m=\u001b[35m{'time_sample_batch': 0.0002470488757409219, 'time_algorithm_update': 0.016945262035543522, 'loss': -162.74188004935564, 'time_step': 0.017265588076093345, 'observation_error': 0.36360991819053834, 'reward_error': 6.98719924318885e-06, 'variance': 0.3908862918612961}\u001b[0m \u001b[36mstep\u001b[0m=\u001b[35m442612\u001b[0m\n",
      "\u001b[2m2023-10-22 03:34:08\u001b[0m [\u001b[32m\u001b[1minfo     \u001b[0m] \u001b[1mModel parameters are saved to d3rlpy_logs/exp_5_dynamics_reacher_default_20231022000548/model_442612.pt\u001b[0m\n"
     ]
    },
    {
     "data": {
      "application/vnd.jupyter.widget-view+json": {
       "model_id": "d71f170e7ef34a72af19d5b444b5c3fb",
       "version_major": 2,
       "version_minor": 0
      },
      "text/plain": [
       "Epoch 93/100:   0%|          | 0/4811 [00:00<?, ?it/s]"
      ]
     },
     "metadata": {},
     "output_type": "display_data"
    },
    {
     "name": "stdout",
     "output_type": "stream",
     "text": [
      "\u001b[2m2023-10-22 03:36:23\u001b[0m [\u001b[32m\u001b[1minfo     \u001b[0m] \u001b[1mexp_5_dynamics_reacher_default_20231022000548: epoch=93 step=447423\u001b[0m \u001b[36mepoch\u001b[0m=\u001b[35m93\u001b[0m \u001b[36mmetrics\u001b[0m=\u001b[35m{'time_sample_batch': 0.00024669915220886624, 'time_algorithm_update': 0.017015639473410213, 'loss': -163.23307211635466, 'time_step': 0.01733648055954154, 'observation_error': 0.3690257785923379, 'reward_error': 6.26903657669059e-06, 'variance': 0.3948991572457993}\u001b[0m \u001b[36mstep\u001b[0m=\u001b[35m447423\u001b[0m\n",
      "\u001b[2m2023-10-22 03:36:23\u001b[0m [\u001b[32m\u001b[1minfo     \u001b[0m] \u001b[1mModel parameters are saved to d3rlpy_logs/exp_5_dynamics_reacher_default_20231022000548/model_447423.pt\u001b[0m\n"
     ]
    },
    {
     "data": {
      "application/vnd.jupyter.widget-view+json": {
       "model_id": "edc6fe0e56a44b60870663af8b73484c",
       "version_major": 2,
       "version_minor": 0
      },
      "text/plain": [
       "Epoch 94/100:   0%|          | 0/4811 [00:00<?, ?it/s]"
      ]
     },
     "metadata": {},
     "output_type": "display_data"
    },
    {
     "name": "stdout",
     "output_type": "stream",
     "text": [
      "\u001b[2m2023-10-22 03:38:37\u001b[0m [\u001b[32m\u001b[1minfo     \u001b[0m] \u001b[1mexp_5_dynamics_reacher_default_20231022000548: epoch=94 step=452234\u001b[0m \u001b[36mepoch\u001b[0m=\u001b[35m94\u001b[0m \u001b[36mmetrics\u001b[0m=\u001b[35m{'time_sample_batch': 0.0002426225959176805, 'time_algorithm_update': 0.0169441455665831, 'loss': -163.19709411665497, 'time_step': 0.017260011380785742, 'observation_error': 0.36032939868554753, 'reward_error': 6.509043436489201e-06, 'variance': 0.3901282668048261}\u001b[0m \u001b[36mstep\u001b[0m=\u001b[35m452234\u001b[0m\n",
      "\u001b[2m2023-10-22 03:38:37\u001b[0m [\u001b[32m\u001b[1minfo     \u001b[0m] \u001b[1mModel parameters are saved to d3rlpy_logs/exp_5_dynamics_reacher_default_20231022000548/model_452234.pt\u001b[0m\n"
     ]
    },
    {
     "data": {
      "application/vnd.jupyter.widget-view+json": {
       "model_id": "3e7a9b0cbbaf4f0381154ee618fd0e38",
       "version_major": 2,
       "version_minor": 0
      },
      "text/plain": [
       "Epoch 95/100:   0%|          | 0/4811 [00:00<?, ?it/s]"
      ]
     },
     "metadata": {},
     "output_type": "display_data"
    },
    {
     "name": "stdout",
     "output_type": "stream",
     "text": [
      "\u001b[2m2023-10-22 03:40:52\u001b[0m [\u001b[32m\u001b[1minfo     \u001b[0m] \u001b[1mexp_5_dynamics_reacher_default_20231022000548: epoch=95 step=457045\u001b[0m \u001b[36mepoch\u001b[0m=\u001b[35m95\u001b[0m \u001b[36mmetrics\u001b[0m=\u001b[35m{'time_sample_batch': 0.0002469454999030491, 'time_algorithm_update': 0.01709474969172869, 'loss': -163.35771677226936, 'time_step': 0.017416421600449632, 'observation_error': 0.35643320007776286, 'reward_error': 6.393834995567898e-06, 'variance': 0.38964653544770117}\u001b[0m \u001b[36mstep\u001b[0m=\u001b[35m457045\u001b[0m\n",
      "\u001b[2m2023-10-22 03:40:52\u001b[0m [\u001b[32m\u001b[1minfo     \u001b[0m] \u001b[1mModel parameters are saved to d3rlpy_logs/exp_5_dynamics_reacher_default_20231022000548/model_457045.pt\u001b[0m\n"
     ]
    },
    {
     "data": {
      "application/vnd.jupyter.widget-view+json": {
       "model_id": "5b1744d749574ee8b320106b87fc244d",
       "version_major": 2,
       "version_minor": 0
      },
      "text/plain": [
       "Epoch 96/100:   0%|          | 0/4811 [00:00<?, ?it/s]"
      ]
     },
     "metadata": {},
     "output_type": "display_data"
    },
    {
     "name": "stdout",
     "output_type": "stream",
     "text": [
      "\u001b[2m2023-10-22 03:43:07\u001b[0m [\u001b[32m\u001b[1minfo     \u001b[0m] \u001b[1mexp_5_dynamics_reacher_default_20231022000548: epoch=96 step=461856\u001b[0m \u001b[36mepoch\u001b[0m=\u001b[35m96\u001b[0m \u001b[36mmetrics\u001b[0m=\u001b[35m{'time_sample_batch': 0.0002443649693998322, 'time_algorithm_update': 0.017102232595858816, 'loss': -163.70854146811106, 'time_step': 0.017420627302202705, 'observation_error': 0.3533546518481034, 'reward_error': 6.227139450159783e-06, 'variance': 0.38264177518607007}\u001b[0m \u001b[36mstep\u001b[0m=\u001b[35m461856\u001b[0m\n",
      "\u001b[2m2023-10-22 03:43:07\u001b[0m [\u001b[32m\u001b[1minfo     \u001b[0m] \u001b[1mModel parameters are saved to d3rlpy_logs/exp_5_dynamics_reacher_default_20231022000548/model_461856.pt\u001b[0m\n"
     ]
    },
    {
     "data": {
      "application/vnd.jupyter.widget-view+json": {
       "model_id": "08f04f07bf234f9c92fac452ed47c6da",
       "version_major": 2,
       "version_minor": 0
      },
      "text/plain": [
       "Epoch 97/100:   0%|          | 0/4811 [00:00<?, ?it/s]"
      ]
     },
     "metadata": {},
     "output_type": "display_data"
    },
    {
     "name": "stdout",
     "output_type": "stream",
     "text": [
      "\u001b[2m2023-10-22 03:45:22\u001b[0m [\u001b[32m\u001b[1minfo     \u001b[0m] \u001b[1mexp_5_dynamics_reacher_default_20231022000548: epoch=97 step=466667\u001b[0m \u001b[36mepoch\u001b[0m=\u001b[35m97\u001b[0m \u001b[36mmetrics\u001b[0m=\u001b[35m{'time_sample_batch': 0.0002446203860193894, 'time_algorithm_update': 0.017039420277134242, 'loss': -163.67455094630245, 'time_step': 0.01735805518610813, 'observation_error': 0.3522604296078048, 'reward_error': 6.435410702015515e-06, 'variance': 0.38164313881685685}\u001b[0m \u001b[36mstep\u001b[0m=\u001b[35m466667\u001b[0m\n",
      "\u001b[2m2023-10-22 03:45:22\u001b[0m [\u001b[32m\u001b[1minfo     \u001b[0m] \u001b[1mModel parameters are saved to d3rlpy_logs/exp_5_dynamics_reacher_default_20231022000548/model_466667.pt\u001b[0m\n"
     ]
    },
    {
     "data": {
      "application/vnd.jupyter.widget-view+json": {
       "model_id": "7b6b2b1b350347fc84efa419c8137bc8",
       "version_major": 2,
       "version_minor": 0
      },
      "text/plain": [
       "Epoch 98/100:   0%|          | 0/4811 [00:00<?, ?it/s]"
      ]
     },
     "metadata": {},
     "output_type": "display_data"
    },
    {
     "name": "stdout",
     "output_type": "stream",
     "text": [
      "\u001b[2m2023-10-22 03:47:36\u001b[0m [\u001b[32m\u001b[1minfo     \u001b[0m] \u001b[1mexp_5_dynamics_reacher_default_20231022000548: epoch=98 step=471478\u001b[0m \u001b[36mepoch\u001b[0m=\u001b[35m98\u001b[0m \u001b[36mmetrics\u001b[0m=\u001b[35m{'time_sample_batch': 0.00024815359969962734, 'time_algorithm_update': 0.01710598569381165, 'loss': -164.22542073438728, 'time_step': 0.0174283193367431, 'observation_error': 0.33688656106180975, 'reward_error': 6.004890536020797e-06, 'variance': 0.37874813434688925}\u001b[0m \u001b[36mstep\u001b[0m=\u001b[35m471478\u001b[0m\n",
      "\u001b[2m2023-10-22 03:47:36\u001b[0m [\u001b[32m\u001b[1minfo     \u001b[0m] \u001b[1mModel parameters are saved to d3rlpy_logs/exp_5_dynamics_reacher_default_20231022000548/model_471478.pt\u001b[0m\n"
     ]
    },
    {
     "data": {
      "application/vnd.jupyter.widget-view+json": {
       "model_id": "115e26f9b7fc4ec4908173b34e8a9cf0",
       "version_major": 2,
       "version_minor": 0
      },
      "text/plain": [
       "Epoch 99/100:   0%|          | 0/4811 [00:00<?, ?it/s]"
      ]
     },
     "metadata": {},
     "output_type": "display_data"
    },
    {
     "name": "stdout",
     "output_type": "stream",
     "text": [
      "\u001b[2m2023-10-22 03:49:50\u001b[0m [\u001b[32m\u001b[1minfo     \u001b[0m] \u001b[1mexp_5_dynamics_reacher_default_20231022000548: epoch=99 step=476289\u001b[0m \u001b[36mepoch\u001b[0m=\u001b[35m99\u001b[0m \u001b[36mmetrics\u001b[0m=\u001b[35m{'time_sample_batch': 0.0002461765739680377, 'time_algorithm_update': 0.017029225318304492, 'loss': -164.13289446484842, 'time_step': 0.017349673665454448, 'observation_error': 0.3276467464665215, 'reward_error': 6.001483473113089e-06, 'variance': 0.37538832580656745}\u001b[0m \u001b[36mstep\u001b[0m=\u001b[35m476289\u001b[0m\n",
      "\u001b[2m2023-10-22 03:49:50\u001b[0m [\u001b[32m\u001b[1minfo     \u001b[0m] \u001b[1mModel parameters are saved to d3rlpy_logs/exp_5_dynamics_reacher_default_20231022000548/model_476289.pt\u001b[0m\n"
     ]
    },
    {
     "data": {
      "application/vnd.jupyter.widget-view+json": {
       "model_id": "b2f8094f4a1f49a4bfbf2682769d87cf",
       "version_major": 2,
       "version_minor": 0
      },
      "text/plain": [
       "Epoch 100/100:   0%|          | 0/4811 [00:00<?, ?it/s]"
      ]
     },
     "metadata": {},
     "output_type": "display_data"
    },
    {
     "name": "stdout",
     "output_type": "stream",
     "text": [
      "\u001b[2m2023-10-22 03:52:04\u001b[0m [\u001b[32m\u001b[1minfo     \u001b[0m] \u001b[1mexp_5_dynamics_reacher_default_20231022000548: epoch=100 step=481100\u001b[0m \u001b[36mepoch\u001b[0m=\u001b[35m100\u001b[0m \u001b[36mmetrics\u001b[0m=\u001b[35m{'time_sample_batch': 0.0002444425260567214, 'time_algorithm_update': 0.01694683145520296, 'loss': -163.1308151658224, 'time_step': 0.017264595995125764, 'observation_error': 0.33325230646852677, 'reward_error': 5.887090065088848e-06, 'variance': 0.38128434382669163}\u001b[0m \u001b[36mstep\u001b[0m=\u001b[35m481100\u001b[0m\n",
      "\u001b[2m2023-10-22 03:52:04\u001b[0m [\u001b[32m\u001b[1minfo     \u001b[0m] \u001b[1mModel parameters are saved to d3rlpy_logs/exp_5_dynamics_reacher_default_20231022000548/model_481100.pt\u001b[0m\n",
      "Using SymmetryEncoderFactory\n",
      "\u001b[2m2023-10-22 03:52:04\u001b[0m [\u001b[32m\u001b[1mdebug    \u001b[0m] \u001b[1mRoundIterator is selected.\u001b[0m\n",
      "\u001b[2m2023-10-22 03:52:04\u001b[0m [\u001b[32m\u001b[1minfo     \u001b[0m] \u001b[1mDirectory is created at d3rlpy_logs/exp_5_dynamics_reacher_symmetry_20231022035204\u001b[0m\n",
      "\u001b[2m2023-10-22 03:52:04\u001b[0m [\u001b[32m\u001b[1mdebug    \u001b[0m] \u001b[1mBuilding models...\u001b[0m\n",
      "\u001b[2m2023-10-22 03:52:04\u001b[0m [\u001b[32m\u001b[1mdebug    \u001b[0m] \u001b[1mModels have been built.\u001b[0m\n",
      "\u001b[2m2023-10-22 03:52:04\u001b[0m [\u001b[32m\u001b[1minfo     \u001b[0m] \u001b[1mParameters are saved to d3rlpy_logs/exp_5_dynamics_reacher_symmetry_20231022035204/params.json\u001b[0m \u001b[36mparams\u001b[0m=\u001b[35m{'action_scaler': None, 'batch_size': 100, 'discrete_action': False, 'gamma': 1.0, 'generated_maxlen': 100000, 'learning_rate': 0.0001, 'n_ensembles': 5, 'n_frames': 1, 'n_steps': 1, 'optim_factory': {'optim_cls': 'Adam', 'betas': (0.9, 0.999), 'eps': 1e-08, 'weight_decay': 0.0001, 'amsgrad': False}, 'real_ratio': 1.0, 'reward_encoder_factory': {'type': 'default', 'params': {'activation': 'relu', 'use_batch_norm': False, 'dropout_rate': None}}, 'reward_scaler': None, 'scaler': None, 'state_encoder_factory': {'type': 'symmetry', 'params': {'hidden_units': [256, 256], 'activation': 'relu', 'use_batch_norm': False, 'dropout_rate': None, 'use_dense': False, 'project': <function reacher_project at 0x7f3074269af0>, 'projection_size': 3}}, 'use_gpu': 0, 'variance_type': 'max', 'algorithm': 'ProbabilisticEnsembleDynamics', 'observation_shape': (8,), 'action_size': 2}\u001b[0m\n"
     ]
    },
    {
     "name": "stderr",
     "output_type": "stream",
     "text": [
      "/home/yasin/Projects/symmetry-cs285/d3rlpy/d3rlpy/logger.py:28: DeprecationWarning: Using or importing the ABCs from 'collections' instead of from 'collections.abc' is deprecated since Python 3.3, and in 3.10 it will stop working\n",
      "  elif isinstance(obj, collections.Callable):\n"
     ]
    },
    {
     "data": {
      "application/vnd.jupyter.widget-view+json": {
       "model_id": "a4f45d6e5205460c94af70db8b5d6026",
       "version_major": 2,
       "version_minor": 0
      },
      "text/plain": [
       "Epoch 1/100:   0%|          | 0/4812 [00:00<?, ?it/s]"
      ]
     },
     "metadata": {},
     "output_type": "display_data"
    },
    {
     "name": "stdout",
     "output_type": "stream",
     "text": [
      "\u001b[2m2023-10-22 03:54:24\u001b[0m [\u001b[32m\u001b[1minfo     \u001b[0m] \u001b[1mexp_5_dynamics_reacher_symmetry_20231022035204: epoch=1 step=4812\u001b[0m \u001b[36mepoch\u001b[0m=\u001b[35m1\u001b[0m \u001b[36mmetrics\u001b[0m=\u001b[35m{'time_sample_batch': 0.0002434570791319025, 'time_algorithm_update': 0.017319512486160545, 'loss': 143.67144511975133, 'time_step': 0.017649599590206386, 'observation_error': 2.212758618995561, 'reward_error': 0.03588702326201808, 'variance': 1.8064413930988767}\u001b[0m \u001b[36mstep\u001b[0m=\u001b[35m4812\u001b[0m\n",
      "\u001b[2m2023-10-22 03:54:24\u001b[0m [\u001b[32m\u001b[1minfo     \u001b[0m] \u001b[1mModel parameters are saved to d3rlpy_logs/exp_5_dynamics_reacher_symmetry_20231022035204/model_4812.pt\u001b[0m\n"
     ]
    },
    {
     "data": {
      "application/vnd.jupyter.widget-view+json": {
       "model_id": "554c51c9bdf64707accd7137a0c117cf",
       "version_major": 2,
       "version_minor": 0
      },
      "text/plain": [
       "Epoch 2/100:   0%|          | 0/4812 [00:00<?, ?it/s]"
      ]
     },
     "metadata": {},
     "output_type": "display_data"
    },
    {
     "name": "stdout",
     "output_type": "stream",
     "text": [
      "\u001b[2m2023-10-22 03:56:45\u001b[0m [\u001b[32m\u001b[1minfo     \u001b[0m] \u001b[1mexp_5_dynamics_reacher_symmetry_20231022035204: epoch=2 step=9624\u001b[0m \u001b[36mepoch\u001b[0m=\u001b[35m2\u001b[0m \u001b[36mmetrics\u001b[0m=\u001b[35m{'time_sample_batch': 0.0002450858763823981, 'time_algorithm_update': 0.0175834159898639, 'loss': -33.39877769338619, 'time_step': 0.017907656735414678, 'observation_error': 1.6329147209289885, 'reward_error': 0.028284202584684077, 'variance': 1.4145964574348628}\u001b[0m \u001b[36mstep\u001b[0m=\u001b[35m9624\u001b[0m\n",
      "\u001b[2m2023-10-22 03:56:45\u001b[0m [\u001b[32m\u001b[1minfo     \u001b[0m] \u001b[1mModel parameters are saved to d3rlpy_logs/exp_5_dynamics_reacher_symmetry_20231022035204/model_9624.pt\u001b[0m\n"
     ]
    },
    {
     "data": {
      "application/vnd.jupyter.widget-view+json": {
       "model_id": "c658a224f4834c41ae0ffc5882ef5d58",
       "version_major": 2,
       "version_minor": 0
      },
      "text/plain": [
       "Epoch 3/100:   0%|          | 0/4812 [00:00<?, ?it/s]"
      ]
     },
     "metadata": {},
     "output_type": "display_data"
    },
    {
     "name": "stdout",
     "output_type": "stream",
     "text": [
      "\u001b[2m2023-10-22 03:59:05\u001b[0m [\u001b[32m\u001b[1minfo     \u001b[0m] \u001b[1mexp_5_dynamics_reacher_symmetry_20231022035204: epoch=3 step=14436\u001b[0m \u001b[36mepoch\u001b[0m=\u001b[35m3\u001b[0m \u001b[36mmetrics\u001b[0m=\u001b[35m{'time_sample_batch': 0.00024841194438220853, 'time_algorithm_update': 0.017608971815751377, 'loss': -61.8944583749236, 'time_step': 0.017936928066133166, 'observation_error': 1.0337712378768573, 'reward_error': 0.01406851573209735, 'variance': 0.7197120413860436}\u001b[0m \u001b[36mstep\u001b[0m=\u001b[35m14436\u001b[0m\n",
      "\u001b[2m2023-10-22 03:59:05\u001b[0m [\u001b[32m\u001b[1minfo     \u001b[0m] \u001b[1mModel parameters are saved to d3rlpy_logs/exp_5_dynamics_reacher_symmetry_20231022035204/model_14436.pt\u001b[0m\n"
     ]
    },
    {
     "data": {
      "application/vnd.jupyter.widget-view+json": {
       "model_id": "74e8eb80712542ccbef309c4bf13420f",
       "version_major": 2,
       "version_minor": 0
      },
      "text/plain": [
       "Epoch 4/100:   0%|          | 0/4812 [00:00<?, ?it/s]"
      ]
     },
     "metadata": {},
     "output_type": "display_data"
    },
    {
     "name": "stdout",
     "output_type": "stream",
     "text": [
      "\u001b[2m2023-10-22 04:01:26\u001b[0m [\u001b[32m\u001b[1minfo     \u001b[0m] \u001b[1mexp_5_dynamics_reacher_symmetry_20231022035204: epoch=4 step=19248\u001b[0m \u001b[36mepoch\u001b[0m=\u001b[35m4\u001b[0m \u001b[36mmetrics\u001b[0m=\u001b[35m{'time_sample_batch': 0.00025346917305404905, 'time_algorithm_update': 0.0175256843083319, 'loss': -80.27327877684424, 'time_step': 0.017855208165825948, 'observation_error': 0.8717294653886177, 'reward_error': 0.006816975930335551, 'variance': 0.522279524542036}\u001b[0m \u001b[36mstep\u001b[0m=\u001b[35m19248\u001b[0m\n",
      "\u001b[2m2023-10-22 04:01:26\u001b[0m [\u001b[32m\u001b[1minfo     \u001b[0m] \u001b[1mModel parameters are saved to d3rlpy_logs/exp_5_dynamics_reacher_symmetry_20231022035204/model_19248.pt\u001b[0m\n"
     ]
    },
    {
     "data": {
      "application/vnd.jupyter.widget-view+json": {
       "model_id": "ac3dce78d6f84d558256556d6b831663",
       "version_major": 2,
       "version_minor": 0
      },
      "text/plain": [
       "Epoch 5/100:   0%|          | 0/4812 [00:00<?, ?it/s]"
      ]
     },
     "metadata": {},
     "output_type": "display_data"
    },
    {
     "name": "stdout",
     "output_type": "stream",
     "text": [
      "\u001b[2m2023-10-22 04:03:46\u001b[0m [\u001b[32m\u001b[1minfo     \u001b[0m] \u001b[1mexp_5_dynamics_reacher_symmetry_20231022035204: epoch=5 step=24060\u001b[0m \u001b[36mepoch\u001b[0m=\u001b[35m5\u001b[0m \u001b[36mmetrics\u001b[0m=\u001b[35m{'time_sample_batch': 0.00024698500026788497, 'time_algorithm_update': 0.01759776113831987, 'loss': -87.50909470600182, 'time_step': 0.017919699796912873, 'observation_error': 0.8016397362493975, 'reward_error': 0.003333574516059085, 'variance': 0.49664683011350885}\u001b[0m \u001b[36mstep\u001b[0m=\u001b[35m24060\u001b[0m\n",
      "\u001b[2m2023-10-22 04:03:46\u001b[0m [\u001b[32m\u001b[1minfo     \u001b[0m] \u001b[1mModel parameters are saved to d3rlpy_logs/exp_5_dynamics_reacher_symmetry_20231022035204/model_24060.pt\u001b[0m\n"
     ]
    },
    {
     "data": {
      "application/vnd.jupyter.widget-view+json": {
       "model_id": "9403f4872dd345f1bcbceaf00280e4c5",
       "version_major": 2,
       "version_minor": 0
      },
      "text/plain": [
       "Epoch 6/100:   0%|          | 0/4812 [00:00<?, ?it/s]"
      ]
     },
     "metadata": {},
     "output_type": "display_data"
    },
    {
     "name": "stdout",
     "output_type": "stream",
     "text": [
      "\u001b[2m2023-10-22 04:06:07\u001b[0m [\u001b[32m\u001b[1minfo     \u001b[0m] \u001b[1mexp_5_dynamics_reacher_symmetry_20231022035204: epoch=6 step=28872\u001b[0m \u001b[36mepoch\u001b[0m=\u001b[35m6\u001b[0m \u001b[36mmetrics\u001b[0m=\u001b[35m{'time_sample_batch': 0.00024498390933422873, 'time_algorithm_update': 0.017520116600312496, 'loss': -91.8488061457798, 'time_step': 0.017837944421189484, 'observation_error': 0.702248164639803, 'reward_error': 0.0018765833168874284, 'variance': 0.43564272144270927}\u001b[0m \u001b[36mstep\u001b[0m=\u001b[35m28872\u001b[0m\n",
      "\u001b[2m2023-10-22 04:06:07\u001b[0m [\u001b[32m\u001b[1minfo     \u001b[0m] \u001b[1mModel parameters are saved to d3rlpy_logs/exp_5_dynamics_reacher_symmetry_20231022035204/model_28872.pt\u001b[0m\n"
     ]
    },
    {
     "data": {
      "application/vnd.jupyter.widget-view+json": {
       "model_id": "83f23a4620124dbdafc123f003b6d51f",
       "version_major": 2,
       "version_minor": 0
      },
      "text/plain": [
       "Epoch 7/100:   0%|          | 0/4812 [00:00<?, ?it/s]"
      ]
     },
     "metadata": {},
     "output_type": "display_data"
    },
    {
     "name": "stdout",
     "output_type": "stream",
     "text": [
      "\u001b[2m2023-10-22 04:08:26\u001b[0m [\u001b[32m\u001b[1minfo     \u001b[0m] \u001b[1mexp_5_dynamics_reacher_symmetry_20231022035204: epoch=7 step=33684\u001b[0m \u001b[36mepoch\u001b[0m=\u001b[35m7\u001b[0m \u001b[36mmetrics\u001b[0m=\u001b[35m{'time_sample_batch': 0.00024361810581147026, 'time_algorithm_update': 0.01756472906666008, 'loss': -94.78122004368656, 'time_step': 0.01788361599716859, 'observation_error': 0.6111001891552109, 'reward_error': 0.001587889007254458, 'variance': 0.38363105208578085}\u001b[0m \u001b[36mstep\u001b[0m=\u001b[35m33684\u001b[0m\n",
      "\u001b[2m2023-10-22 04:08:26\u001b[0m [\u001b[32m\u001b[1minfo     \u001b[0m] \u001b[1mModel parameters are saved to d3rlpy_logs/exp_5_dynamics_reacher_symmetry_20231022035204/model_33684.pt\u001b[0m\n"
     ]
    },
    {
     "data": {
      "application/vnd.jupyter.widget-view+json": {
       "model_id": "f872fa69766c4f7aa0617f9861d124db",
       "version_major": 2,
       "version_minor": 0
      },
      "text/plain": [
       "Epoch 8/100:   0%|          | 0/4812 [00:00<?, ?it/s]"
      ]
     },
     "metadata": {},
     "output_type": "display_data"
    },
    {
     "name": "stdout",
     "output_type": "stream",
     "text": [
      "\u001b[2m2023-10-22 04:10:46\u001b[0m [\u001b[32m\u001b[1minfo     \u001b[0m] \u001b[1mexp_5_dynamics_reacher_symmetry_20231022035204: epoch=8 step=38496\u001b[0m \u001b[36mepoch\u001b[0m=\u001b[35m8\u001b[0m \u001b[36mmetrics\u001b[0m=\u001b[35m{'time_sample_batch': 0.0002452594383696368, 'time_algorithm_update': 0.01748708869057304, 'loss': -97.5810258822548, 'time_step': 0.017806611503052492, 'observation_error': 0.5724477253107606, 'reward_error': 0.0009033816885008312, 'variance': 0.38336386772549724}\u001b[0m \u001b[36mstep\u001b[0m=\u001b[35m38496\u001b[0m\n",
      "\u001b[2m2023-10-22 04:10:46\u001b[0m [\u001b[32m\u001b[1minfo     \u001b[0m] \u001b[1mModel parameters are saved to d3rlpy_logs/exp_5_dynamics_reacher_symmetry_20231022035204/model_38496.pt\u001b[0m\n"
     ]
    },
    {
     "data": {
      "application/vnd.jupyter.widget-view+json": {
       "model_id": "b09830bac68a44b2adcc00acc5123741",
       "version_major": 2,
       "version_minor": 0
      },
      "text/plain": [
       "Epoch 9/100:   0%|          | 0/4812 [00:00<?, ?it/s]"
      ]
     },
     "metadata": {},
     "output_type": "display_data"
    },
    {
     "name": "stdout",
     "output_type": "stream",
     "text": [
      "\u001b[2m2023-10-22 04:13:05\u001b[0m [\u001b[32m\u001b[1minfo     \u001b[0m] \u001b[1mexp_5_dynamics_reacher_symmetry_20231022035204: epoch=9 step=43308\u001b[0m \u001b[36mepoch\u001b[0m=\u001b[35m9\u001b[0m \u001b[36mmetrics\u001b[0m=\u001b[35m{'time_sample_batch': 0.00024532771368177355, 'time_algorithm_update': 0.017510945759311083, 'loss': -100.26912606763324, 'time_step': 0.01783012159645607, 'observation_error': 0.5149479387599917, 'reward_error': 0.0007796242728923445, 'variance': 0.3309732076161729}\u001b[0m \u001b[36mstep\u001b[0m=\u001b[35m43308\u001b[0m\n",
      "\u001b[2m2023-10-22 04:13:05\u001b[0m [\u001b[32m\u001b[1minfo     \u001b[0m] \u001b[1mModel parameters are saved to d3rlpy_logs/exp_5_dynamics_reacher_symmetry_20231022035204/model_43308.pt\u001b[0m\n"
     ]
    },
    {
     "data": {
      "application/vnd.jupyter.widget-view+json": {
       "model_id": "249de0f5c2dd4f86a22507a6fdeb0852",
       "version_major": 2,
       "version_minor": 0
      },
      "text/plain": [
       "Epoch 10/100:   0%|          | 0/4812 [00:00<?, ?it/s]"
      ]
     },
     "metadata": {},
     "output_type": "display_data"
    },
    {
     "name": "stdout",
     "output_type": "stream",
     "text": [
      "\u001b[2m2023-10-22 04:15:25\u001b[0m [\u001b[32m\u001b[1minfo     \u001b[0m] \u001b[1mexp_5_dynamics_reacher_symmetry_20231022035204: epoch=10 step=48120\u001b[0m \u001b[36mepoch\u001b[0m=\u001b[35m10\u001b[0m \u001b[36mmetrics\u001b[0m=\u001b[35m{'time_sample_batch': 0.0002466510061611261, 'time_algorithm_update': 0.01746305469067416, 'loss': -104.45227757594235, 'time_step': 0.01778184322149478, 'observation_error': 0.49913309313688314, 'reward_error': 0.0005743724258987891, 'variance': 0.3309473104145594}\u001b[0m \u001b[36mstep\u001b[0m=\u001b[35m48120\u001b[0m\n",
      "\u001b[2m2023-10-22 04:15:25\u001b[0m [\u001b[32m\u001b[1minfo     \u001b[0m] \u001b[1mModel parameters are saved to d3rlpy_logs/exp_5_dynamics_reacher_symmetry_20231022035204/model_48120.pt\u001b[0m\n"
     ]
    },
    {
     "data": {
      "application/vnd.jupyter.widget-view+json": {
       "model_id": "a2b62069f96644d8b7e36a17e3585e08",
       "version_major": 2,
       "version_minor": 0
      },
      "text/plain": [
       "Epoch 11/100:   0%|          | 0/4812 [00:00<?, ?it/s]"
      ]
     },
     "metadata": {},
     "output_type": "display_data"
    },
    {
     "name": "stdout",
     "output_type": "stream",
     "text": [
      "\u001b[2m2023-10-22 04:17:44\u001b[0m [\u001b[32m\u001b[1minfo     \u001b[0m] \u001b[1mexp_5_dynamics_reacher_symmetry_20231022035204: epoch=11 step=52932\u001b[0m \u001b[36mepoch\u001b[0m=\u001b[35m11\u001b[0m \u001b[36mmetrics\u001b[0m=\u001b[35m{'time_sample_batch': 0.00024371229403234975, 'time_algorithm_update': 0.017472715548248165, 'loss': -106.87936232829233, 'time_step': 0.017788901144726914, 'observation_error': 0.4452421907742558, 'reward_error': 0.0005280031057245261, 'variance': 0.2886266917087819}\u001b[0m \u001b[36mstep\u001b[0m=\u001b[35m52932\u001b[0m\n",
      "\u001b[2m2023-10-22 04:17:44\u001b[0m [\u001b[32m\u001b[1minfo     \u001b[0m] \u001b[1mModel parameters are saved to d3rlpy_logs/exp_5_dynamics_reacher_symmetry_20231022035204/model_52932.pt\u001b[0m\n"
     ]
    },
    {
     "data": {
      "application/vnd.jupyter.widget-view+json": {
       "model_id": "126adc7d1c65458b8a6e81922efb18ea",
       "version_major": 2,
       "version_minor": 0
      },
      "text/plain": [
       "Epoch 12/100:   0%|          | 0/4812 [00:00<?, ?it/s]"
      ]
     },
     "metadata": {},
     "output_type": "display_data"
    },
    {
     "name": "stdout",
     "output_type": "stream",
     "text": [
      "\u001b[2m2023-10-22 04:20:03\u001b[0m [\u001b[32m\u001b[1minfo     \u001b[0m] \u001b[1mexp_5_dynamics_reacher_symmetry_20231022035204: epoch=12 step=57744\u001b[0m \u001b[36mepoch\u001b[0m=\u001b[35m12\u001b[0m \u001b[36mmetrics\u001b[0m=\u001b[35m{'time_sample_batch': 0.00024956246762105255, 'time_algorithm_update': 0.017409125121553442, 'loss': -108.595598831042, 'time_step': 0.01772970431859753, 'observation_error': 0.41975800145869996, 'reward_error': 0.00039688703419652914, 'variance': 0.2848794917051917}\u001b[0m \u001b[36mstep\u001b[0m=\u001b[35m57744\u001b[0m\n",
      "\u001b[2m2023-10-22 04:20:03\u001b[0m [\u001b[32m\u001b[1minfo     \u001b[0m] \u001b[1mModel parameters are saved to d3rlpy_logs/exp_5_dynamics_reacher_symmetry_20231022035204/model_57744.pt\u001b[0m\n"
     ]
    },
    {
     "data": {
      "application/vnd.jupyter.widget-view+json": {
       "model_id": "3e65a5decd644d169fdedb7565852246",
       "version_major": 2,
       "version_minor": 0
      },
      "text/plain": [
       "Epoch 13/100:   0%|          | 0/4812 [00:00<?, ?it/s]"
      ]
     },
     "metadata": {},
     "output_type": "display_data"
    },
    {
     "name": "stdout",
     "output_type": "stream",
     "text": [
      "\u001b[2m2023-10-22 04:22:22\u001b[0m [\u001b[32m\u001b[1minfo     \u001b[0m] \u001b[1mexp_5_dynamics_reacher_symmetry_20231022035204: epoch=13 step=62556\u001b[0m \u001b[36mepoch\u001b[0m=\u001b[35m13\u001b[0m \u001b[36mmetrics\u001b[0m=\u001b[35m{'time_sample_batch': 0.00024434262677618395, 'time_algorithm_update': 0.017496981377018956, 'loss': -110.62757319246643, 'time_step': 0.01781339350087585, 'observation_error': 0.37644631506286913, 'reward_error': 0.0003854260875751255, 'variance': 0.2663277535612278}\u001b[0m \u001b[36mstep\u001b[0m=\u001b[35m62556\u001b[0m\n",
      "\u001b[2m2023-10-22 04:22:22\u001b[0m [\u001b[32m\u001b[1minfo     \u001b[0m] \u001b[1mModel parameters are saved to d3rlpy_logs/exp_5_dynamics_reacher_symmetry_20231022035204/model_62556.pt\u001b[0m\n"
     ]
    },
    {
     "data": {
      "application/vnd.jupyter.widget-view+json": {
       "model_id": "de0861aeddef406ba978286186802e9d",
       "version_major": 2,
       "version_minor": 0
      },
      "text/plain": [
       "Epoch 14/100:   0%|          | 0/4812 [00:00<?, ?it/s]"
      ]
     },
     "metadata": {},
     "output_type": "display_data"
    },
    {
     "name": "stdout",
     "output_type": "stream",
     "text": [
      "\u001b[2m2023-10-22 04:24:42\u001b[0m [\u001b[32m\u001b[1minfo     \u001b[0m] \u001b[1mexp_5_dynamics_reacher_symmetry_20231022035204: epoch=14 step=67368\u001b[0m \u001b[36mepoch\u001b[0m=\u001b[35m14\u001b[0m \u001b[36mmetrics\u001b[0m=\u001b[35m{'time_sample_batch': 0.00024530333671982053, 'time_algorithm_update': 0.01744342107923449, 'loss': -112.12465776806559, 'time_step': 0.017759936557446336, 'observation_error': 0.32422297764922037, 'reward_error': 0.00035080836130350077, 'variance': 0.25065944903718235}\u001b[0m \u001b[36mstep\u001b[0m=\u001b[35m67368\u001b[0m\n",
      "\u001b[2m2023-10-22 04:24:42\u001b[0m [\u001b[32m\u001b[1minfo     \u001b[0m] \u001b[1mModel parameters are saved to d3rlpy_logs/exp_5_dynamics_reacher_symmetry_20231022035204/model_67368.pt\u001b[0m\n"
     ]
    },
    {
     "data": {
      "application/vnd.jupyter.widget-view+json": {
       "model_id": "4bfaf7c45276493b9dc8404bc60d2396",
       "version_major": 2,
       "version_minor": 0
      },
      "text/plain": [
       "Epoch 15/100:   0%|          | 0/4812 [00:00<?, ?it/s]"
      ]
     },
     "metadata": {},
     "output_type": "display_data"
    },
    {
     "name": "stdout",
     "output_type": "stream",
     "text": [
      "\u001b[2m2023-10-22 04:27:02\u001b[0m [\u001b[32m\u001b[1minfo     \u001b[0m] \u001b[1mexp_5_dynamics_reacher_symmetry_20231022035204: epoch=15 step=72180\u001b[0m \u001b[36mepoch\u001b[0m=\u001b[35m15\u001b[0m \u001b[36mmetrics\u001b[0m=\u001b[35m{'time_sample_batch': 0.00024568687749721563, 'time_algorithm_update': 0.017462931369010944, 'loss': -113.58215226358111, 'time_step': 0.017780497979840337, 'observation_error': 0.27213635643751277, 'reward_error': 0.00030991690960114395, 'variance': 0.23502617850890406}\u001b[0m \u001b[36mstep\u001b[0m=\u001b[35m72180\u001b[0m\n",
      "\u001b[2m2023-10-22 04:27:02\u001b[0m [\u001b[32m\u001b[1minfo     \u001b[0m] \u001b[1mModel parameters are saved to d3rlpy_logs/exp_5_dynamics_reacher_symmetry_20231022035204/model_72180.pt\u001b[0m\n"
     ]
    },
    {
     "data": {
      "application/vnd.jupyter.widget-view+json": {
       "model_id": "fab55ea16f2948688f153821049341fb",
       "version_major": 2,
       "version_minor": 0
      },
      "text/plain": [
       "Epoch 16/100:   0%|          | 0/4812 [00:00<?, ?it/s]"
      ]
     },
     "metadata": {},
     "output_type": "display_data"
    },
    {
     "name": "stdout",
     "output_type": "stream",
     "text": [
      "\u001b[2m2023-10-22 04:29:20\u001b[0m [\u001b[32m\u001b[1minfo     \u001b[0m] \u001b[1mexp_5_dynamics_reacher_symmetry_20231022035204: epoch=16 step=76992\u001b[0m \u001b[36mepoch\u001b[0m=\u001b[35m16\u001b[0m \u001b[36mmetrics\u001b[0m=\u001b[35m{'time_sample_batch': 0.00024848814716164707, 'time_algorithm_update': 0.01745491328084855, 'loss': -115.85464232263224, 'time_step': 0.017775965698143888, 'observation_error': 0.21809513953354834, 'reward_error': 0.00025852949215814255, 'variance': 0.20188120003278978}\u001b[0m \u001b[36mstep\u001b[0m=\u001b[35m76992\u001b[0m\n",
      "\u001b[2m2023-10-22 04:29:20\u001b[0m [\u001b[32m\u001b[1minfo     \u001b[0m] \u001b[1mModel parameters are saved to d3rlpy_logs/exp_5_dynamics_reacher_symmetry_20231022035204/model_76992.pt\u001b[0m\n"
     ]
    },
    {
     "data": {
      "application/vnd.jupyter.widget-view+json": {
       "model_id": "e0861a2c81124028ab01db333964e141",
       "version_major": 2,
       "version_minor": 0
      },
      "text/plain": [
       "Epoch 17/100:   0%|          | 0/4812 [00:00<?, ?it/s]"
      ]
     },
     "metadata": {},
     "output_type": "display_data"
    },
    {
     "name": "stdout",
     "output_type": "stream",
     "text": [
      "\u001b[2m2023-10-22 04:31:39\u001b[0m [\u001b[32m\u001b[1minfo     \u001b[0m] \u001b[1mexp_5_dynamics_reacher_symmetry_20231022035204: epoch=17 step=81804\u001b[0m \u001b[36mepoch\u001b[0m=\u001b[35m17\u001b[0m \u001b[36mmetrics\u001b[0m=\u001b[35m{'time_sample_batch': 0.00024225443279554917, 'time_algorithm_update': 0.0174483972000065, 'loss': -117.57112793117787, 'time_step': 0.01776323423520387, 'observation_error': 0.18645672487800738, 'reward_error': 0.0002505184927780541, 'variance': 0.20024286630901864}\u001b[0m \u001b[36mstep\u001b[0m=\u001b[35m81804\u001b[0m\n",
      "\u001b[2m2023-10-22 04:31:39\u001b[0m [\u001b[32m\u001b[1minfo     \u001b[0m] \u001b[1mModel parameters are saved to d3rlpy_logs/exp_5_dynamics_reacher_symmetry_20231022035204/model_81804.pt\u001b[0m\n"
     ]
    },
    {
     "data": {
      "application/vnd.jupyter.widget-view+json": {
       "model_id": "7a399263335142e8b383c5d2124b7df6",
       "version_major": 2,
       "version_minor": 0
      },
      "text/plain": [
       "Epoch 18/100:   0%|          | 0/4812 [00:00<?, ?it/s]"
      ]
     },
     "metadata": {},
     "output_type": "display_data"
    },
    {
     "name": "stdout",
     "output_type": "stream",
     "text": [
      "\u001b[2m2023-10-22 04:33:59\u001b[0m [\u001b[32m\u001b[1minfo     \u001b[0m] \u001b[1mexp_5_dynamics_reacher_symmetry_20231022035204: epoch=18 step=86616\u001b[0m \u001b[36mepoch\u001b[0m=\u001b[35m18\u001b[0m \u001b[36mmetrics\u001b[0m=\u001b[35m{'time_sample_batch': 0.0002452438311683864, 'time_algorithm_update': 0.017494798251617382, 'loss': -119.88982184371251, 'time_step': 0.017811397067329236, 'observation_error': 0.15376524313859466, 'reward_error': 0.00023401445779102872, 'variance': 0.16164169181090668}\u001b[0m \u001b[36mstep\u001b[0m=\u001b[35m86616\u001b[0m\n",
      "\u001b[2m2023-10-22 04:33:59\u001b[0m [\u001b[32m\u001b[1minfo     \u001b[0m] \u001b[1mModel parameters are saved to d3rlpy_logs/exp_5_dynamics_reacher_symmetry_20231022035204/model_86616.pt\u001b[0m\n"
     ]
    },
    {
     "data": {
      "application/vnd.jupyter.widget-view+json": {
       "model_id": "1e1933e085c645c395b1ca3be09cced6",
       "version_major": 2,
       "version_minor": 0
      },
      "text/plain": [
       "Epoch 19/100:   0%|          | 0/4812 [00:00<?, ?it/s]"
      ]
     },
     "metadata": {},
     "output_type": "display_data"
    },
    {
     "name": "stdout",
     "output_type": "stream",
     "text": [
      "\u001b[2m2023-10-22 04:36:18\u001b[0m [\u001b[32m\u001b[1minfo     \u001b[0m] \u001b[1mexp_5_dynamics_reacher_symmetry_20231022035204: epoch=19 step=91428\u001b[0m \u001b[36mepoch\u001b[0m=\u001b[35m19\u001b[0m \u001b[36mmetrics\u001b[0m=\u001b[35m{'time_sample_batch': 0.00024731166146738966, 'time_algorithm_update': 0.017397041629972007, 'loss': -121.29637067831266, 'time_step': 0.017717066647505025, 'observation_error': 0.15905592118514922, 'reward_error': 0.0002243833402881405, 'variance': 0.1453981601734154}\u001b[0m \u001b[36mstep\u001b[0m=\u001b[35m91428\u001b[0m\n",
      "\u001b[2m2023-10-22 04:36:18\u001b[0m [\u001b[32m\u001b[1minfo     \u001b[0m] \u001b[1mModel parameters are saved to d3rlpy_logs/exp_5_dynamics_reacher_symmetry_20231022035204/model_91428.pt\u001b[0m\n"
     ]
    },
    {
     "data": {
      "application/vnd.jupyter.widget-view+json": {
       "model_id": "a8036b4d4831459380a2de4e0b7c8b94",
       "version_major": 2,
       "version_minor": 0
      },
      "text/plain": [
       "Epoch 20/100:   0%|          | 0/4812 [00:00<?, ?it/s]"
      ]
     },
     "metadata": {},
     "output_type": "display_data"
    },
    {
     "name": "stdout",
     "output_type": "stream",
     "text": [
      "\u001b[2m2023-10-22 04:38:37\u001b[0m [\u001b[32m\u001b[1minfo     \u001b[0m] \u001b[1mexp_5_dynamics_reacher_symmetry_20231022035204: epoch=20 step=96240\u001b[0m \u001b[36mepoch\u001b[0m=\u001b[35m20\u001b[0m \u001b[36mmetrics\u001b[0m=\u001b[35m{'time_sample_batch': 0.0002493992608879768, 'time_algorithm_update': 0.017376674034153532, 'loss': -122.52389275779946, 'time_step': 0.017698230390635908, 'observation_error': 0.14960070885218155, 'reward_error': 0.000202542741730942, 'variance': 0.1218345845143769}\u001b[0m \u001b[36mstep\u001b[0m=\u001b[35m96240\u001b[0m\n",
      "\u001b[2m2023-10-22 04:38:37\u001b[0m [\u001b[32m\u001b[1minfo     \u001b[0m] \u001b[1mModel parameters are saved to d3rlpy_logs/exp_5_dynamics_reacher_symmetry_20231022035204/model_96240.pt\u001b[0m\n"
     ]
    },
    {
     "data": {
      "application/vnd.jupyter.widget-view+json": {
       "model_id": "728893047813448ea17a475aa2216da1",
       "version_major": 2,
       "version_minor": 0
      },
      "text/plain": [
       "Epoch 21/100:   0%|          | 0/4812 [00:00<?, ?it/s]"
      ]
     },
     "metadata": {},
     "output_type": "display_data"
    },
    {
     "name": "stdout",
     "output_type": "stream",
     "text": [
      "\u001b[2m2023-10-22 04:40:57\u001b[0m [\u001b[32m\u001b[1minfo     \u001b[0m] \u001b[1mexp_5_dynamics_reacher_symmetry_20231022035204: epoch=21 step=101052\u001b[0m \u001b[36mepoch\u001b[0m=\u001b[35m21\u001b[0m \u001b[36mmetrics\u001b[0m=\u001b[35m{'time_sample_batch': 0.0002448742625521107, 'time_algorithm_update': 0.017499958487817473, 'loss': -123.80154408322507, 'time_step': 0.017818014074739374, 'observation_error': 0.12992461906513966, 'reward_error': 0.00018407584081819595, 'variance': 0.09148070080809995}\u001b[0m \u001b[36mstep\u001b[0m=\u001b[35m101052\u001b[0m\n",
      "\u001b[2m2023-10-22 04:40:57\u001b[0m [\u001b[32m\u001b[1minfo     \u001b[0m] \u001b[1mModel parameters are saved to d3rlpy_logs/exp_5_dynamics_reacher_symmetry_20231022035204/model_101052.pt\u001b[0m\n"
     ]
    },
    {
     "data": {
      "application/vnd.jupyter.widget-view+json": {
       "model_id": "cde77737f4324b1da727eeaaa269ae1a",
       "version_major": 2,
       "version_minor": 0
      },
      "text/plain": [
       "Epoch 22/100:   0%|          | 0/4812 [00:00<?, ?it/s]"
      ]
     },
     "metadata": {},
     "output_type": "display_data"
    },
    {
     "name": "stdout",
     "output_type": "stream",
     "text": [
      "\u001b[2m2023-10-22 04:43:16\u001b[0m [\u001b[32m\u001b[1minfo     \u001b[0m] \u001b[1mexp_5_dynamics_reacher_symmetry_20231022035204: epoch=22 step=105864\u001b[0m \u001b[36mepoch\u001b[0m=\u001b[35m22\u001b[0m \u001b[36mmetrics\u001b[0m=\u001b[35m{'time_sample_batch': 0.00024747011172008437, 'time_algorithm_update': 0.017526628915607582, 'loss': -125.0707085546809, 'time_step': 0.017846556673026145, 'observation_error': 0.13330259530759697, 'reward_error': 0.00018021938670120406, 'variance': 0.09027834285696419}\u001b[0m \u001b[36mstep\u001b[0m=\u001b[35m105864\u001b[0m\n",
      "\u001b[2m2023-10-22 04:43:16\u001b[0m [\u001b[32m\u001b[1minfo     \u001b[0m] \u001b[1mModel parameters are saved to d3rlpy_logs/exp_5_dynamics_reacher_symmetry_20231022035204/model_105864.pt\u001b[0m\n"
     ]
    },
    {
     "data": {
      "application/vnd.jupyter.widget-view+json": {
       "model_id": "8492570a1d884876a29dca15e7b775e2",
       "version_major": 2,
       "version_minor": 0
      },
      "text/plain": [
       "Epoch 23/100:   0%|          | 0/4812 [00:00<?, ?it/s]"
      ]
     },
     "metadata": {},
     "output_type": "display_data"
    },
    {
     "name": "stdout",
     "output_type": "stream",
     "text": [
      "\u001b[2m2023-10-22 04:45:35\u001b[0m [\u001b[32m\u001b[1minfo     \u001b[0m] \u001b[1mexp_5_dynamics_reacher_symmetry_20231022035204: epoch=23 step=110676\u001b[0m \u001b[36mepoch\u001b[0m=\u001b[35m23\u001b[0m \u001b[36mmetrics\u001b[0m=\u001b[35m{'time_sample_batch': 0.0002453596712843339, 'time_algorithm_update': 0.01742551778617345, 'loss': -126.06088999124339, 'time_step': 0.01774265874155541, 'observation_error': 0.1291626684129292, 'reward_error': 0.00016795413533866787, 'variance': 0.08224206914590215}\u001b[0m \u001b[36mstep\u001b[0m=\u001b[35m110676\u001b[0m\n",
      "\u001b[2m2023-10-22 04:45:35\u001b[0m [\u001b[32m\u001b[1minfo     \u001b[0m] \u001b[1mModel parameters are saved to d3rlpy_logs/exp_5_dynamics_reacher_symmetry_20231022035204/model_110676.pt\u001b[0m\n"
     ]
    },
    {
     "data": {
      "application/vnd.jupyter.widget-view+json": {
       "model_id": "ea272d37367a48c48a90908b3269563c",
       "version_major": 2,
       "version_minor": 0
      },
      "text/plain": [
       "Epoch 24/100:   0%|          | 0/4812 [00:00<?, ?it/s]"
      ]
     },
     "metadata": {},
     "output_type": "display_data"
    },
    {
     "name": "stdout",
     "output_type": "stream",
     "text": [
      "\u001b[2m2023-10-22 04:47:55\u001b[0m [\u001b[32m\u001b[1minfo     \u001b[0m] \u001b[1mexp_5_dynamics_reacher_symmetry_20231022035204: epoch=24 step=115488\u001b[0m \u001b[36mepoch\u001b[0m=\u001b[35m24\u001b[0m \u001b[36mmetrics\u001b[0m=\u001b[35m{'time_sample_batch': 0.00024972924171441413, 'time_algorithm_update': 0.01753839580396365, 'loss': -126.9238806099864, 'time_step': 0.017860765072671154, 'observation_error': 0.12533723832354912, 'reward_error': 0.00013944493626410665, 'variance': 0.08324487728965682}\u001b[0m \u001b[36mstep\u001b[0m=\u001b[35m115488\u001b[0m\n",
      "\u001b[2m2023-10-22 04:47:55\u001b[0m [\u001b[32m\u001b[1minfo     \u001b[0m] \u001b[1mModel parameters are saved to d3rlpy_logs/exp_5_dynamics_reacher_symmetry_20231022035204/model_115488.pt\u001b[0m\n"
     ]
    },
    {
     "data": {
      "application/vnd.jupyter.widget-view+json": {
       "model_id": "ce29256fa0f14ec0853ffe571876878e",
       "version_major": 2,
       "version_minor": 0
      },
      "text/plain": [
       "Epoch 25/100:   0%|          | 0/4812 [00:00<?, ?it/s]"
      ]
     },
     "metadata": {},
     "output_type": "display_data"
    },
    {
     "name": "stdout",
     "output_type": "stream",
     "text": [
      "\u001b[2m2023-10-22 04:50:14\u001b[0m [\u001b[32m\u001b[1minfo     \u001b[0m] \u001b[1mexp_5_dynamics_reacher_symmetry_20231022035204: epoch=25 step=120300\u001b[0m \u001b[36mepoch\u001b[0m=\u001b[35m25\u001b[0m \u001b[36mmetrics\u001b[0m=\u001b[35m{'time_sample_batch': 0.00024504044208542466, 'time_algorithm_update': 0.0174520015221086, 'loss': -127.51020294769744, 'time_step': 0.017769231017390984, 'observation_error': 0.13887779600295672, 'reward_error': 0.0001437210273807189, 'variance': 0.10607501713329302}\u001b[0m \u001b[36mstep\u001b[0m=\u001b[35m120300\u001b[0m\n",
      "\u001b[2m2023-10-22 04:50:14\u001b[0m [\u001b[32m\u001b[1minfo     \u001b[0m] \u001b[1mModel parameters are saved to d3rlpy_logs/exp_5_dynamics_reacher_symmetry_20231022035204/model_120300.pt\u001b[0m\n"
     ]
    },
    {
     "data": {
      "application/vnd.jupyter.widget-view+json": {
       "model_id": "cae3cf1b2137450daaa7e79d27d3635d",
       "version_major": 2,
       "version_minor": 0
      },
      "text/plain": [
       "Epoch 26/100:   0%|          | 0/4812 [00:00<?, ?it/s]"
      ]
     },
     "metadata": {},
     "output_type": "display_data"
    },
    {
     "name": "stdout",
     "output_type": "stream",
     "text": [
      "\u001b[2m2023-10-22 04:52:33\u001b[0m [\u001b[32m\u001b[1minfo     \u001b[0m] \u001b[1mexp_5_dynamics_reacher_symmetry_20231022035204: epoch=26 step=125112\u001b[0m \u001b[36mepoch\u001b[0m=\u001b[35m26\u001b[0m \u001b[36mmetrics\u001b[0m=\u001b[35m{'time_sample_batch': 0.0002469961978154488, 'time_algorithm_update': 0.017490350050621002, 'loss': -128.39777268039515, 'time_step': 0.017809773621119167, 'observation_error': 0.13321081828491904, 'reward_error': 0.0001283528472895463, 'variance': 0.08068538964951975}\u001b[0m \u001b[36mstep\u001b[0m=\u001b[35m125112\u001b[0m\n",
      "\u001b[2m2023-10-22 04:52:33\u001b[0m [\u001b[32m\u001b[1minfo     \u001b[0m] \u001b[1mModel parameters are saved to d3rlpy_logs/exp_5_dynamics_reacher_symmetry_20231022035204/model_125112.pt\u001b[0m\n"
     ]
    },
    {
     "data": {
      "application/vnd.jupyter.widget-view+json": {
       "model_id": "eef391762f774277a659051bc9f8062a",
       "version_major": 2,
       "version_minor": 0
      },
      "text/plain": [
       "Epoch 27/100:   0%|          | 0/4812 [00:00<?, ?it/s]"
      ]
     },
     "metadata": {},
     "output_type": "display_data"
    },
    {
     "name": "stdout",
     "output_type": "stream",
     "text": [
      "\u001b[2m2023-10-22 04:54:52\u001b[0m [\u001b[32m\u001b[1minfo     \u001b[0m] \u001b[1mexp_5_dynamics_reacher_symmetry_20231022035204: epoch=27 step=129924\u001b[0m \u001b[36mepoch\u001b[0m=\u001b[35m27\u001b[0m \u001b[36mmetrics\u001b[0m=\u001b[35m{'time_sample_batch': 0.00024984344679023065, 'time_algorithm_update': 0.01741478890056721, 'loss': -128.81406731736334, 'time_step': 0.01773671794710611, 'observation_error': 0.13802719064967517, 'reward_error': 0.00012481300560427154, 'variance': 0.08588667623309708}\u001b[0m \u001b[36mstep\u001b[0m=\u001b[35m129924\u001b[0m\n",
      "\u001b[2m2023-10-22 04:54:52\u001b[0m [\u001b[32m\u001b[1minfo     \u001b[0m] \u001b[1mModel parameters are saved to d3rlpy_logs/exp_5_dynamics_reacher_symmetry_20231022035204/model_129924.pt\u001b[0m\n"
     ]
    },
    {
     "data": {
      "application/vnd.jupyter.widget-view+json": {
       "model_id": "096fabd75c304a8f968f8a9a3224137c",
       "version_major": 2,
       "version_minor": 0
      },
      "text/plain": [
       "Epoch 28/100:   0%|          | 0/4812 [00:00<?, ?it/s]"
      ]
     },
     "metadata": {},
     "output_type": "display_data"
    },
    {
     "name": "stdout",
     "output_type": "stream",
     "text": [
      "\u001b[2m2023-10-22 04:57:11\u001b[0m [\u001b[32m\u001b[1minfo     \u001b[0m] \u001b[1mexp_5_dynamics_reacher_symmetry_20231022035204: epoch=28 step=134736\u001b[0m \u001b[36mepoch\u001b[0m=\u001b[35m28\u001b[0m \u001b[36mmetrics\u001b[0m=\u001b[35m{'time_sample_batch': 0.00024431998394770316, 'time_algorithm_update': 0.017466498233830046, 'loss': -129.74316063743774, 'time_step': 0.01778285932461619, 'observation_error': 0.12435525820501317, 'reward_error': 0.00011803150614834178, 'variance': 0.08159994095513604}\u001b[0m \u001b[36mstep\u001b[0m=\u001b[35m134736\u001b[0m\n",
      "\u001b[2m2023-10-22 04:57:11\u001b[0m [\u001b[32m\u001b[1minfo     \u001b[0m] \u001b[1mModel parameters are saved to d3rlpy_logs/exp_5_dynamics_reacher_symmetry_20231022035204/model_134736.pt\u001b[0m\n"
     ]
    },
    {
     "data": {
      "application/vnd.jupyter.widget-view+json": {
       "model_id": "e62d16ecab0640eebdc70e95309e4d17",
       "version_major": 2,
       "version_minor": 0
      },
      "text/plain": [
       "Epoch 29/100:   0%|          | 0/4812 [00:00<?, ?it/s]"
      ]
     },
     "metadata": {},
     "output_type": "display_data"
    },
    {
     "name": "stdout",
     "output_type": "stream",
     "text": [
      "\u001b[2m2023-10-22 04:59:30\u001b[0m [\u001b[32m\u001b[1minfo     \u001b[0m] \u001b[1mexp_5_dynamics_reacher_symmetry_20231022035204: epoch=29 step=139548\u001b[0m \u001b[36mepoch\u001b[0m=\u001b[35m29\u001b[0m \u001b[36mmetrics\u001b[0m=\u001b[35m{'time_sample_batch': 0.000245103316810462, 'time_algorithm_update': 0.017419447625367124, 'loss': -130.18535091910675, 'time_step': 0.017736090488069175, 'observation_error': 0.12945728895567016, 'reward_error': 0.00010206127048454344, 'variance': 0.07569142857180342}\u001b[0m \u001b[36mstep\u001b[0m=\u001b[35m139548\u001b[0m\n",
      "\u001b[2m2023-10-22 04:59:30\u001b[0m [\u001b[32m\u001b[1minfo     \u001b[0m] \u001b[1mModel parameters are saved to d3rlpy_logs/exp_5_dynamics_reacher_symmetry_20231022035204/model_139548.pt\u001b[0m\n"
     ]
    },
    {
     "data": {
      "application/vnd.jupyter.widget-view+json": {
       "model_id": "d3eb708410d0478bb85c16aec896dd13",
       "version_major": 2,
       "version_minor": 0
      },
      "text/plain": [
       "Epoch 30/100:   0%|          | 0/4812 [00:00<?, ?it/s]"
      ]
     },
     "metadata": {},
     "output_type": "display_data"
    },
    {
     "name": "stdout",
     "output_type": "stream",
     "text": [
      "\u001b[2m2023-10-22 05:01:50\u001b[0m [\u001b[32m\u001b[1minfo     \u001b[0m] \u001b[1mexp_5_dynamics_reacher_symmetry_20231022035204: epoch=30 step=144360\u001b[0m \u001b[36mepoch\u001b[0m=\u001b[35m30\u001b[0m \u001b[36mmetrics\u001b[0m=\u001b[35m{'time_sample_batch': 0.0002493838023267383, 'time_algorithm_update': 0.0175312901672877, 'loss': -130.63577809773776, 'time_step': 0.017853306168233565, 'observation_error': 0.12658430337681675, 'reward_error': 0.00010086551414065565, 'variance': 0.07492753408353772}\u001b[0m \u001b[36mstep\u001b[0m=\u001b[35m144360\u001b[0m\n",
      "\u001b[2m2023-10-22 05:01:50\u001b[0m [\u001b[32m\u001b[1minfo     \u001b[0m] \u001b[1mModel parameters are saved to d3rlpy_logs/exp_5_dynamics_reacher_symmetry_20231022035204/model_144360.pt\u001b[0m\n"
     ]
    },
    {
     "data": {
      "application/vnd.jupyter.widget-view+json": {
       "model_id": "9e38d9e64a11420ca6e40e1479fff899",
       "version_major": 2,
       "version_minor": 0
      },
      "text/plain": [
       "Epoch 31/100:   0%|          | 0/4812 [00:00<?, ?it/s]"
      ]
     },
     "metadata": {},
     "output_type": "display_data"
    },
    {
     "name": "stdout",
     "output_type": "stream",
     "text": [
      "\u001b[2m2023-10-22 05:04:09\u001b[0m [\u001b[32m\u001b[1minfo     \u001b[0m] \u001b[1mexp_5_dynamics_reacher_symmetry_20231022035204: epoch=31 step=149172\u001b[0m \u001b[36mepoch\u001b[0m=\u001b[35m31\u001b[0m \u001b[36mmetrics\u001b[0m=\u001b[35m{'time_sample_batch': 0.0002515167369509576, 'time_algorithm_update': 0.017462809236467827, 'loss': -130.97438822006643, 'time_step': 0.01778731391713308, 'observation_error': 0.1203289578899609, 'reward_error': 9.128135028992457e-05, 'variance': 0.06916946393632888}\u001b[0m \u001b[36mstep\u001b[0m=\u001b[35m149172\u001b[0m\n",
      "\u001b[2m2023-10-22 05:04:09\u001b[0m [\u001b[32m\u001b[1minfo     \u001b[0m] \u001b[1mModel parameters are saved to d3rlpy_logs/exp_5_dynamics_reacher_symmetry_20231022035204/model_149172.pt\u001b[0m\n"
     ]
    },
    {
     "data": {
      "application/vnd.jupyter.widget-view+json": {
       "model_id": "afd0e5ee0133427fbcd6e569fdb8f0fd",
       "version_major": 2,
       "version_minor": 0
      },
      "text/plain": [
       "Epoch 32/100:   0%|          | 0/4812 [00:00<?, ?it/s]"
      ]
     },
     "metadata": {},
     "output_type": "display_data"
    },
    {
     "name": "stdout",
     "output_type": "stream",
     "text": [
      "\u001b[2m2023-10-22 05:06:29\u001b[0m [\u001b[32m\u001b[1minfo     \u001b[0m] \u001b[1mexp_5_dynamics_reacher_symmetry_20231022035204: epoch=32 step=153984\u001b[0m \u001b[36mepoch\u001b[0m=\u001b[35m32\u001b[0m \u001b[36mmetrics\u001b[0m=\u001b[35m{'time_sample_batch': 0.00024966403829585686, 'time_algorithm_update': 0.017496265675361614, 'loss': -131.23914503298099, 'time_step': 0.01781910682656026, 'observation_error': 0.14286855093630424, 'reward_error': 8.332415476282959e-05, 'variance': 0.11269108032629221}\u001b[0m \u001b[36mstep\u001b[0m=\u001b[35m153984\u001b[0m\n",
      "\u001b[2m2023-10-22 05:06:29\u001b[0m [\u001b[32m\u001b[1minfo     \u001b[0m] \u001b[1mModel parameters are saved to d3rlpy_logs/exp_5_dynamics_reacher_symmetry_20231022035204/model_153984.pt\u001b[0m\n"
     ]
    },
    {
     "data": {
      "application/vnd.jupyter.widget-view+json": {
       "model_id": "b6bdd0dc557149bc9481a557de6458a5",
       "version_major": 2,
       "version_minor": 0
      },
      "text/plain": [
       "Epoch 33/100:   0%|          | 0/4812 [00:00<?, ?it/s]"
      ]
     },
     "metadata": {},
     "output_type": "display_data"
    },
    {
     "name": "stdout",
     "output_type": "stream",
     "text": [
      "\u001b[2m2023-10-22 05:08:48\u001b[0m [\u001b[32m\u001b[1minfo     \u001b[0m] \u001b[1mexp_5_dynamics_reacher_symmetry_20231022035204: epoch=33 step=158796\u001b[0m \u001b[36mepoch\u001b[0m=\u001b[35m33\u001b[0m \u001b[36mmetrics\u001b[0m=\u001b[35m{'time_sample_batch': 0.00024894288650474645, 'time_algorithm_update': 0.01748763296074998, 'loss': -132.03264053167152, 'time_step': 0.017809704602606974, 'observation_error': 0.12112341072281667, 'reward_error': 7.644263151738136e-05, 'variance': 0.06915230551165759}\u001b[0m \u001b[36mstep\u001b[0m=\u001b[35m158796\u001b[0m\n",
      "\u001b[2m2023-10-22 05:08:48\u001b[0m [\u001b[32m\u001b[1minfo     \u001b[0m] \u001b[1mModel parameters are saved to d3rlpy_logs/exp_5_dynamics_reacher_symmetry_20231022035204/model_158796.pt\u001b[0m\n"
     ]
    },
    {
     "data": {
      "application/vnd.jupyter.widget-view+json": {
       "model_id": "ed3bf4441ca342f3b5edb34c4c499dc8",
       "version_major": 2,
       "version_minor": 0
      },
      "text/plain": [
       "Epoch 34/100:   0%|          | 0/4812 [00:00<?, ?it/s]"
      ]
     },
     "metadata": {},
     "output_type": "display_data"
    },
    {
     "name": "stdout",
     "output_type": "stream",
     "text": [
      "\u001b[2m2023-10-22 05:11:08\u001b[0m [\u001b[32m\u001b[1minfo     \u001b[0m] \u001b[1mexp_5_dynamics_reacher_symmetry_20231022035204: epoch=34 step=163608\u001b[0m \u001b[36mepoch\u001b[0m=\u001b[35m34\u001b[0m \u001b[36mmetrics\u001b[0m=\u001b[35m{'time_sample_batch': 0.0002470111113633103, 'time_algorithm_update': 0.017415849546145522, 'loss': -132.27475131994868, 'time_step': 0.017734934811976584, 'observation_error': 0.12471320745953435, 'reward_error': 8.402471575457346e-05, 'variance': 0.06827110261005209}\u001b[0m \u001b[36mstep\u001b[0m=\u001b[35m163608\u001b[0m\n",
      "\u001b[2m2023-10-22 05:11:08\u001b[0m [\u001b[32m\u001b[1minfo     \u001b[0m] \u001b[1mModel parameters are saved to d3rlpy_logs/exp_5_dynamics_reacher_symmetry_20231022035204/model_163608.pt\u001b[0m\n"
     ]
    },
    {
     "data": {
      "application/vnd.jupyter.widget-view+json": {
       "model_id": "15c9869363b4405ab0a63deb5ad547d0",
       "version_major": 2,
       "version_minor": 0
      },
      "text/plain": [
       "Epoch 35/100:   0%|          | 0/4812 [00:00<?, ?it/s]"
      ]
     },
     "metadata": {},
     "output_type": "display_data"
    },
    {
     "name": "stdout",
     "output_type": "stream",
     "text": [
      "\u001b[2m2023-10-22 05:13:27\u001b[0m [\u001b[32m\u001b[1minfo     \u001b[0m] \u001b[1mexp_5_dynamics_reacher_symmetry_20231022035204: epoch=35 step=168420\u001b[0m \u001b[36mepoch\u001b[0m=\u001b[35m35\u001b[0m \u001b[36mmetrics\u001b[0m=\u001b[35m{'time_sample_batch': 0.0002541763031373694, 'time_algorithm_update': 0.017426021279440457, 'loss': -133.00655383461233, 'time_step': 0.017753004036837584, 'observation_error': 0.12506225663096848, 'reward_error': 7.980867607231374e-05, 'variance': 0.07674615648431522}\u001b[0m \u001b[36mstep\u001b[0m=\u001b[35m168420\u001b[0m\n",
      "\u001b[2m2023-10-22 05:13:27\u001b[0m [\u001b[32m\u001b[1minfo     \u001b[0m] \u001b[1mModel parameters are saved to d3rlpy_logs/exp_5_dynamics_reacher_symmetry_20231022035204/model_168420.pt\u001b[0m\n"
     ]
    },
    {
     "data": {
      "application/vnd.jupyter.widget-view+json": {
       "model_id": "94fa6a6ecb554416a44ea67216a3ebeb",
       "version_major": 2,
       "version_minor": 0
      },
      "text/plain": [
       "Epoch 36/100:   0%|          | 0/4812 [00:00<?, ?it/s]"
      ]
     },
     "metadata": {},
     "output_type": "display_data"
    },
    {
     "name": "stdout",
     "output_type": "stream",
     "text": [
      "\u001b[2m2023-10-22 05:15:47\u001b[0m [\u001b[32m\u001b[1minfo     \u001b[0m] \u001b[1mexp_5_dynamics_reacher_symmetry_20231022035204: epoch=36 step=173232\u001b[0m \u001b[36mepoch\u001b[0m=\u001b[35m36\u001b[0m \u001b[36mmetrics\u001b[0m=\u001b[35m{'time_sample_batch': 0.0002455938783964314, 'time_algorithm_update': 0.017462323282722226, 'loss': -133.25192944565518, 'time_step': 0.01778019688472288, 'observation_error': 0.12054714237732697, 'reward_error': 7.382196122278371e-05, 'variance': 0.0662062431972275}\u001b[0m \u001b[36mstep\u001b[0m=\u001b[35m173232\u001b[0m\n",
      "\u001b[2m2023-10-22 05:15:47\u001b[0m [\u001b[32m\u001b[1minfo     \u001b[0m] \u001b[1mModel parameters are saved to d3rlpy_logs/exp_5_dynamics_reacher_symmetry_20231022035204/model_173232.pt\u001b[0m\n"
     ]
    },
    {
     "data": {
      "application/vnd.jupyter.widget-view+json": {
       "model_id": "e621160513c9485a8818760c2aeafaa4",
       "version_major": 2,
       "version_minor": 0
      },
      "text/plain": [
       "Epoch 37/100:   0%|          | 0/4812 [00:00<?, ?it/s]"
      ]
     },
     "metadata": {},
     "output_type": "display_data"
    },
    {
     "name": "stdout",
     "output_type": "stream",
     "text": [
      "\u001b[2m2023-10-22 05:18:06\u001b[0m [\u001b[32m\u001b[1minfo     \u001b[0m] \u001b[1mexp_5_dynamics_reacher_symmetry_20231022035204: epoch=37 step=178044\u001b[0m \u001b[36mepoch\u001b[0m=\u001b[35m37\u001b[0m \u001b[36mmetrics\u001b[0m=\u001b[35m{'time_sample_batch': 0.00024500788992281664, 'time_algorithm_update': 0.01750870818211848, 'loss': -133.68773075945657, 'time_step': 0.017826315421217796, 'observation_error': 0.11337816310229258, 'reward_error': 6.684818247168767e-05, 'variance': 0.06248419960450976}\u001b[0m \u001b[36mstep\u001b[0m=\u001b[35m178044\u001b[0m\n",
      "\u001b[2m2023-10-22 05:18:06\u001b[0m [\u001b[32m\u001b[1minfo     \u001b[0m] \u001b[1mModel parameters are saved to d3rlpy_logs/exp_5_dynamics_reacher_symmetry_20231022035204/model_178044.pt\u001b[0m\n"
     ]
    },
    {
     "data": {
      "application/vnd.jupyter.widget-view+json": {
       "model_id": "6fddb1a844c5452d9dc1918d7e3fd90c",
       "version_major": 2,
       "version_minor": 0
      },
      "text/plain": [
       "Epoch 38/100:   0%|          | 0/4812 [00:00<?, ?it/s]"
      ]
     },
     "metadata": {},
     "output_type": "display_data"
    },
    {
     "name": "stdout",
     "output_type": "stream",
     "text": [
      "\u001b[2m2023-10-22 05:20:26\u001b[0m [\u001b[32m\u001b[1minfo     \u001b[0m] \u001b[1mexp_5_dynamics_reacher_symmetry_20231022035204: epoch=38 step=182856\u001b[0m \u001b[36mepoch\u001b[0m=\u001b[35m38\u001b[0m \u001b[36mmetrics\u001b[0m=\u001b[35m{'time_sample_batch': 0.0002483708701922511, 'time_algorithm_update': 0.01745410002179673, 'loss': -133.78494668779825, 'time_step': 0.01777532733883941, 'observation_error': 0.11349012317482271, 'reward_error': 6.134152625211661e-05, 'variance': 0.07161301578592245}\u001b[0m \u001b[36mstep\u001b[0m=\u001b[35m182856\u001b[0m\n",
      "\u001b[2m2023-10-22 05:20:26\u001b[0m [\u001b[32m\u001b[1minfo     \u001b[0m] \u001b[1mModel parameters are saved to d3rlpy_logs/exp_5_dynamics_reacher_symmetry_20231022035204/model_182856.pt\u001b[0m\n"
     ]
    },
    {
     "data": {
      "application/vnd.jupyter.widget-view+json": {
       "model_id": "e62f7bfd63b34dadbec1efe907c033be",
       "version_major": 2,
       "version_minor": 0
      },
      "text/plain": [
       "Epoch 39/100:   0%|          | 0/4812 [00:00<?, ?it/s]"
      ]
     },
     "metadata": {},
     "output_type": "display_data"
    },
    {
     "name": "stdout",
     "output_type": "stream",
     "text": [
      "\u001b[2m2023-10-22 05:22:45\u001b[0m [\u001b[32m\u001b[1minfo     \u001b[0m] \u001b[1mexp_5_dynamics_reacher_symmetry_20231022035204: epoch=39 step=187668\u001b[0m \u001b[36mepoch\u001b[0m=\u001b[35m39\u001b[0m \u001b[36mmetrics\u001b[0m=\u001b[35m{'time_sample_batch': 0.00024609524115659946, 'time_algorithm_update': 0.017463404985635558, 'loss': -134.38955252703684, 'time_step': 0.01778115249135944, 'observation_error': 0.13346239097507193, 'reward_error': 5.832493947141404e-05, 'variance': 0.09158163216231288}\u001b[0m \u001b[36mstep\u001b[0m=\u001b[35m187668\u001b[0m\n",
      "\u001b[2m2023-10-22 05:22:45\u001b[0m [\u001b[32m\u001b[1minfo     \u001b[0m] \u001b[1mModel parameters are saved to d3rlpy_logs/exp_5_dynamics_reacher_symmetry_20231022035204/model_187668.pt\u001b[0m\n"
     ]
    },
    {
     "data": {
      "application/vnd.jupyter.widget-view+json": {
       "model_id": "05feb4b5da244c8e85647a50bb48dce3",
       "version_major": 2,
       "version_minor": 0
      },
      "text/plain": [
       "Epoch 40/100:   0%|          | 0/4812 [00:00<?, ?it/s]"
      ]
     },
     "metadata": {},
     "output_type": "display_data"
    },
    {
     "name": "stdout",
     "output_type": "stream",
     "text": [
      "\u001b[2m2023-10-22 05:25:05\u001b[0m [\u001b[32m\u001b[1minfo     \u001b[0m] \u001b[1mexp_5_dynamics_reacher_symmetry_20231022035204: epoch=40 step=192480\u001b[0m \u001b[36mepoch\u001b[0m=\u001b[35m40\u001b[0m \u001b[36mmetrics\u001b[0m=\u001b[35m{'time_sample_batch': 0.0002487977643064529, 'time_algorithm_update': 0.01749273136270512, 'loss': -134.73384886826463, 'time_step': 0.017813496756137456, 'observation_error': 0.11868678735309761, 'reward_error': 6.380431223733229e-05, 'variance': 0.0706588584727847}\u001b[0m \u001b[36mstep\u001b[0m=\u001b[35m192480\u001b[0m\n",
      "\u001b[2m2023-10-22 05:25:05\u001b[0m [\u001b[32m\u001b[1minfo     \u001b[0m] \u001b[1mModel parameters are saved to d3rlpy_logs/exp_5_dynamics_reacher_symmetry_20231022035204/model_192480.pt\u001b[0m\n"
     ]
    },
    {
     "data": {
      "application/vnd.jupyter.widget-view+json": {
       "model_id": "8459667090a24ab3b53a52f4b1d29c6f",
       "version_major": 2,
       "version_minor": 0
      },
      "text/plain": [
       "Epoch 41/100:   0%|          | 0/4812 [00:00<?, ?it/s]"
      ]
     },
     "metadata": {},
     "output_type": "display_data"
    },
    {
     "name": "stdout",
     "output_type": "stream",
     "text": [
      "\u001b[2m2023-10-22 05:27:24\u001b[0m [\u001b[32m\u001b[1minfo     \u001b[0m] \u001b[1mexp_5_dynamics_reacher_symmetry_20231022035204: epoch=41 step=197292\u001b[0m \u001b[36mepoch\u001b[0m=\u001b[35m41\u001b[0m \u001b[36mmetrics\u001b[0m=\u001b[35m{'time_sample_batch': 0.00024491340442191336, 'time_algorithm_update': 0.01757112474909249, 'loss': -134.48222679984838, 'time_step': 0.017889559368044757, 'observation_error': 0.11445532292178714, 'reward_error': 5.601815783324104e-05, 'variance': 0.0619106523603463}\u001b[0m \u001b[36mstep\u001b[0m=\u001b[35m197292\u001b[0m\n",
      "\u001b[2m2023-10-22 05:27:24\u001b[0m [\u001b[32m\u001b[1minfo     \u001b[0m] \u001b[1mModel parameters are saved to d3rlpy_logs/exp_5_dynamics_reacher_symmetry_20231022035204/model_197292.pt\u001b[0m\n"
     ]
    },
    {
     "data": {
      "application/vnd.jupyter.widget-view+json": {
       "model_id": "8e8e717b18b54234bee257228d47585d",
       "version_major": 2,
       "version_minor": 0
      },
      "text/plain": [
       "Epoch 42/100:   0%|          | 0/4812 [00:00<?, ?it/s]"
      ]
     },
     "metadata": {},
     "output_type": "display_data"
    },
    {
     "name": "stdout",
     "output_type": "stream",
     "text": [
      "\u001b[2m2023-10-22 05:29:43\u001b[0m [\u001b[32m\u001b[1minfo     \u001b[0m] \u001b[1mexp_5_dynamics_reacher_symmetry_20231022035204: epoch=42 step=202104\u001b[0m \u001b[36mepoch\u001b[0m=\u001b[35m42\u001b[0m \u001b[36mmetrics\u001b[0m=\u001b[35m{'time_sample_batch': 0.00024362984837241107, 'time_algorithm_update': 0.017453415980461927, 'loss': -135.25501961640686, 'time_step': 0.017769096993646916, 'observation_error': 0.12343355501321437, 'reward_error': 5.391372607375869e-05, 'variance': 0.07387847613157869}\u001b[0m \u001b[36mstep\u001b[0m=\u001b[35m202104\u001b[0m\n",
      "\u001b[2m2023-10-22 05:29:43\u001b[0m [\u001b[32m\u001b[1minfo     \u001b[0m] \u001b[1mModel parameters are saved to d3rlpy_logs/exp_5_dynamics_reacher_symmetry_20231022035204/model_202104.pt\u001b[0m\n"
     ]
    },
    {
     "data": {
      "application/vnd.jupyter.widget-view+json": {
       "model_id": "80975629bec44305b135911a1fed11e1",
       "version_major": 2,
       "version_minor": 0
      },
      "text/plain": [
       "Epoch 43/100:   0%|          | 0/4812 [00:00<?, ?it/s]"
      ]
     },
     "metadata": {},
     "output_type": "display_data"
    },
    {
     "name": "stdout",
     "output_type": "stream",
     "text": [
      "\u001b[2m2023-10-22 05:32:03\u001b[0m [\u001b[32m\u001b[1minfo     \u001b[0m] \u001b[1mexp_5_dynamics_reacher_symmetry_20231022035204: epoch=43 step=206916\u001b[0m \u001b[36mepoch\u001b[0m=\u001b[35m43\u001b[0m \u001b[36mmetrics\u001b[0m=\u001b[35m{'time_sample_batch': 0.0002490548124337137, 'time_algorithm_update': 0.017427953748235282, 'loss': -135.47873546278487, 'time_step': 0.017750625400273678, 'observation_error': 0.10897298407191408, 'reward_error': 4.8453438288408135e-05, 'variance': 0.05716121884199121}\u001b[0m \u001b[36mstep\u001b[0m=\u001b[35m206916\u001b[0m\n",
      "\u001b[2m2023-10-22 05:32:03\u001b[0m [\u001b[32m\u001b[1minfo     \u001b[0m] \u001b[1mModel parameters are saved to d3rlpy_logs/exp_5_dynamics_reacher_symmetry_20231022035204/model_206916.pt\u001b[0m\n"
     ]
    },
    {
     "data": {
      "application/vnd.jupyter.widget-view+json": {
       "model_id": "d5350f4b03924ccf9ac06a3c2bbcd64b",
       "version_major": 2,
       "version_minor": 0
      },
      "text/plain": [
       "Epoch 44/100:   0%|          | 0/4812 [00:00<?, ?it/s]"
      ]
     },
     "metadata": {},
     "output_type": "display_data"
    },
    {
     "name": "stdout",
     "output_type": "stream",
     "text": [
      "\u001b[2m2023-10-22 05:34:22\u001b[0m [\u001b[32m\u001b[1minfo     \u001b[0m] \u001b[1mexp_5_dynamics_reacher_symmetry_20231022035204: epoch=44 step=211728\u001b[0m \u001b[36mepoch\u001b[0m=\u001b[35m44\u001b[0m \u001b[36mmetrics\u001b[0m=\u001b[35m{'time_sample_batch': 0.00024396513069260646, 'time_algorithm_update': 0.01746689718362201, 'loss': -135.97632688695157, 'time_step': 0.017782215812457966, 'observation_error': 0.11777640290731212, 'reward_error': 4.6683181797309784e-05, 'variance': 0.0697759239627071}\u001b[0m \u001b[36mstep\u001b[0m=\u001b[35m211728\u001b[0m\n",
      "\u001b[2m2023-10-22 05:34:22\u001b[0m [\u001b[32m\u001b[1minfo     \u001b[0m] \u001b[1mModel parameters are saved to d3rlpy_logs/exp_5_dynamics_reacher_symmetry_20231022035204/model_211728.pt\u001b[0m\n"
     ]
    },
    {
     "data": {
      "application/vnd.jupyter.widget-view+json": {
       "model_id": "9c16194ef93b4d8e9dd6c9ce88e6ae74",
       "version_major": 2,
       "version_minor": 0
      },
      "text/plain": [
       "Epoch 45/100:   0%|          | 0/4812 [00:00<?, ?it/s]"
      ]
     },
     "metadata": {},
     "output_type": "display_data"
    },
    {
     "name": "stdout",
     "output_type": "stream",
     "text": [
      "\u001b[2m2023-10-22 05:36:41\u001b[0m [\u001b[32m\u001b[1minfo     \u001b[0m] \u001b[1mexp_5_dynamics_reacher_symmetry_20231022035204: epoch=45 step=216540\u001b[0m \u001b[36mepoch\u001b[0m=\u001b[35m45\u001b[0m \u001b[36mmetrics\u001b[0m=\u001b[35m{'time_sample_batch': 0.0002434298780097232, 'time_algorithm_update': 0.017456181378336818, 'loss': -135.85142245019165, 'time_step': 0.017771498966692688, 'observation_error': 0.1132912375054556, 'reward_error': 4.4655794707156316e-05, 'variance': 0.06287441394102086}\u001b[0m \u001b[36mstep\u001b[0m=\u001b[35m216540\u001b[0m\n",
      "\u001b[2m2023-10-22 05:36:41\u001b[0m [\u001b[32m\u001b[1minfo     \u001b[0m] \u001b[1mModel parameters are saved to d3rlpy_logs/exp_5_dynamics_reacher_symmetry_20231022035204/model_216540.pt\u001b[0m\n"
     ]
    },
    {
     "data": {
      "application/vnd.jupyter.widget-view+json": {
       "model_id": "1fa8fc8ddee54e3b807471b983e38637",
       "version_major": 2,
       "version_minor": 0
      },
      "text/plain": [
       "Epoch 46/100:   0%|          | 0/4812 [00:00<?, ?it/s]"
      ]
     },
     "metadata": {},
     "output_type": "display_data"
    },
    {
     "name": "stdout",
     "output_type": "stream",
     "text": [
      "\u001b[2m2023-10-22 05:39:00\u001b[0m [\u001b[32m\u001b[1minfo     \u001b[0m] \u001b[1mexp_5_dynamics_reacher_symmetry_20231022035204: epoch=46 step=221352\u001b[0m \u001b[36mepoch\u001b[0m=\u001b[35m46\u001b[0m \u001b[36mmetrics\u001b[0m=\u001b[35m{'time_sample_batch': 0.00024510039355689453, 'time_algorithm_update': 0.01740504202997298, 'loss': -136.22366702784524, 'time_step': 0.017721171440527227, 'observation_error': 0.11762734746354463, 'reward_error': 3.730376312443088e-05, 'variance': 0.05859746265973619}\u001b[0m \u001b[36mstep\u001b[0m=\u001b[35m221352\u001b[0m\n",
      "\u001b[2m2023-10-22 05:39:00\u001b[0m [\u001b[32m\u001b[1minfo     \u001b[0m] \u001b[1mModel parameters are saved to d3rlpy_logs/exp_5_dynamics_reacher_symmetry_20231022035204/model_221352.pt\u001b[0m\n"
     ]
    },
    {
     "data": {
      "application/vnd.jupyter.widget-view+json": {
       "model_id": "48fbffbb6a814d80932bf082562cfa0a",
       "version_major": 2,
       "version_minor": 0
      },
      "text/plain": [
       "Epoch 47/100:   0%|          | 0/4812 [00:00<?, ?it/s]"
      ]
     },
     "metadata": {},
     "output_type": "display_data"
    },
    {
     "name": "stdout",
     "output_type": "stream",
     "text": [
      "\u001b[2m2023-10-22 05:41:19\u001b[0m [\u001b[32m\u001b[1minfo     \u001b[0m] \u001b[1mexp_5_dynamics_reacher_symmetry_20231022035204: epoch=47 step=226164\u001b[0m \u001b[36mepoch\u001b[0m=\u001b[35m47\u001b[0m \u001b[36mmetrics\u001b[0m=\u001b[35m{'time_sample_batch': 0.00024853130231177123, 'time_algorithm_update': 0.01747162725562764, 'loss': -136.5453218525881, 'time_step': 0.017793094824476233, 'observation_error': 0.10729477068420884, 'reward_error': 3.582298110036879e-05, 'variance': 0.061401337140562624}\u001b[0m \u001b[36mstep\u001b[0m=\u001b[35m226164\u001b[0m\n",
      "\u001b[2m2023-10-22 05:41:19\u001b[0m [\u001b[32m\u001b[1minfo     \u001b[0m] \u001b[1mModel parameters are saved to d3rlpy_logs/exp_5_dynamics_reacher_symmetry_20231022035204/model_226164.pt\u001b[0m\n"
     ]
    },
    {
     "data": {
      "application/vnd.jupyter.widget-view+json": {
       "model_id": "045b4fc4d15749eeafee81f8dbdfd91e",
       "version_major": 2,
       "version_minor": 0
      },
      "text/plain": [
       "Epoch 48/100:   0%|          | 0/4812 [00:00<?, ?it/s]"
      ]
     },
     "metadata": {},
     "output_type": "display_data"
    },
    {
     "name": "stdout",
     "output_type": "stream",
     "text": [
      "\u001b[2m2023-10-22 05:43:39\u001b[0m [\u001b[32m\u001b[1minfo     \u001b[0m] \u001b[1mexp_5_dynamics_reacher_symmetry_20231022035204: epoch=48 step=230976\u001b[0m \u001b[36mepoch\u001b[0m=\u001b[35m48\u001b[0m \u001b[36mmetrics\u001b[0m=\u001b[35m{'time_sample_batch': 0.0002524216573434578, 'time_algorithm_update': 0.017507622168644803, 'loss': -136.735289800395, 'time_step': 0.017832065015065107, 'observation_error': 0.12144061526902636, 'reward_error': 3.9003833462052276e-05, 'variance': 0.06478982891842955}\u001b[0m \u001b[36mstep\u001b[0m=\u001b[35m230976\u001b[0m\n",
      "\u001b[2m2023-10-22 05:43:39\u001b[0m [\u001b[32m\u001b[1minfo     \u001b[0m] \u001b[1mModel parameters are saved to d3rlpy_logs/exp_5_dynamics_reacher_symmetry_20231022035204/model_230976.pt\u001b[0m\n"
     ]
    },
    {
     "data": {
      "application/vnd.jupyter.widget-view+json": {
       "model_id": "016b92e7a7024fc2b4fe244e6b2b199b",
       "version_major": 2,
       "version_minor": 0
      },
      "text/plain": [
       "Epoch 49/100:   0%|          | 0/4812 [00:00<?, ?it/s]"
      ]
     },
     "metadata": {},
     "output_type": "display_data"
    },
    {
     "name": "stdout",
     "output_type": "stream",
     "text": [
      "\u001b[2m2023-10-22 05:45:57\u001b[0m [\u001b[32m\u001b[1minfo     \u001b[0m] \u001b[1mexp_5_dynamics_reacher_symmetry_20231022035204: epoch=49 step=235788\u001b[0m \u001b[36mepoch\u001b[0m=\u001b[35m49\u001b[0m \u001b[36mmetrics\u001b[0m=\u001b[35m{'time_sample_batch': 0.0002468352702292223, 'time_algorithm_update': 0.01741751149011867, 'loss': -136.96642580531778, 'time_step': 0.01773679568583234, 'observation_error': 0.12662006327693817, 'reward_error': 3.603746209934272e-05, 'variance': 0.09976382369650813}\u001b[0m \u001b[36mstep\u001b[0m=\u001b[35m235788\u001b[0m\n",
      "\u001b[2m2023-10-22 05:45:57\u001b[0m [\u001b[32m\u001b[1minfo     \u001b[0m] \u001b[1mModel parameters are saved to d3rlpy_logs/exp_5_dynamics_reacher_symmetry_20231022035204/model_235788.pt\u001b[0m\n"
     ]
    },
    {
     "data": {
      "application/vnd.jupyter.widget-view+json": {
       "model_id": "448b0791888747b8b218232aec7a63bf",
       "version_major": 2,
       "version_minor": 0
      },
      "text/plain": [
       "Epoch 50/100:   0%|          | 0/4812 [00:00<?, ?it/s]"
      ]
     },
     "metadata": {},
     "output_type": "display_data"
    },
    {
     "name": "stdout",
     "output_type": "stream",
     "text": [
      "\u001b[2m2023-10-22 05:48:18\u001b[0m [\u001b[32m\u001b[1minfo     \u001b[0m] \u001b[1mexp_5_dynamics_reacher_symmetry_20231022035204: epoch=50 step=240600\u001b[0m \u001b[36mepoch\u001b[0m=\u001b[35m50\u001b[0m \u001b[36mmetrics\u001b[0m=\u001b[35m{'time_sample_batch': 0.0002480982148637399, 'time_algorithm_update': 0.01752812215316722, 'loss': -136.5171618861946, 'time_step': 0.017849141572379906, 'observation_error': 0.10242001408567916, 'reward_error': 3.6628557341136955e-05, 'variance': 0.050687835074659134}\u001b[0m \u001b[36mstep\u001b[0m=\u001b[35m240600\u001b[0m\n",
      "\u001b[2m2023-10-22 05:48:18\u001b[0m [\u001b[32m\u001b[1minfo     \u001b[0m] \u001b[1mModel parameters are saved to d3rlpy_logs/exp_5_dynamics_reacher_symmetry_20231022035204/model_240600.pt\u001b[0m\n"
     ]
    },
    {
     "data": {
      "application/vnd.jupyter.widget-view+json": {
       "model_id": "fa6f0608676047eaaa08885ee5e0934a",
       "version_major": 2,
       "version_minor": 0
      },
      "text/plain": [
       "Epoch 51/100:   0%|          | 0/4812 [00:00<?, ?it/s]"
      ]
     },
     "metadata": {},
     "output_type": "display_data"
    },
    {
     "name": "stdout",
     "output_type": "stream",
     "text": [
      "\u001b[2m2023-10-22 05:50:37\u001b[0m [\u001b[32m\u001b[1minfo     \u001b[0m] \u001b[1mexp_5_dynamics_reacher_symmetry_20231022035204: epoch=51 step=245412\u001b[0m \u001b[36mepoch\u001b[0m=\u001b[35m51\u001b[0m \u001b[36mmetrics\u001b[0m=\u001b[35m{'time_sample_batch': 0.00025096280517324446, 'time_algorithm_update': 0.017447686799842918, 'loss': -137.27650714098962, 'time_step': 0.017771914712805998, 'observation_error': 0.11464141273564683, 'reward_error': 3.589567781567889e-05, 'variance': 0.06229530349897012}\u001b[0m \u001b[36mstep\u001b[0m=\u001b[35m245412\u001b[0m\n",
      "\u001b[2m2023-10-22 05:50:37\u001b[0m [\u001b[32m\u001b[1minfo     \u001b[0m] \u001b[1mModel parameters are saved to d3rlpy_logs/exp_5_dynamics_reacher_symmetry_20231022035204/model_245412.pt\u001b[0m\n"
     ]
    },
    {
     "data": {
      "application/vnd.jupyter.widget-view+json": {
       "model_id": "bc2a515ce39845ecaea42f1696204006",
       "version_major": 2,
       "version_minor": 0
      },
      "text/plain": [
       "Epoch 52/100:   0%|          | 0/4812 [00:00<?, ?it/s]"
      ]
     },
     "metadata": {},
     "output_type": "display_data"
    },
    {
     "name": "stdout",
     "output_type": "stream",
     "text": [
      "\u001b[2m2023-10-22 05:52:56\u001b[0m [\u001b[32m\u001b[1minfo     \u001b[0m] \u001b[1mexp_5_dynamics_reacher_symmetry_20231022035204: epoch=52 step=250224\u001b[0m \u001b[36mepoch\u001b[0m=\u001b[35m52\u001b[0m \u001b[36mmetrics\u001b[0m=\u001b[35m{'time_sample_batch': 0.0002443886060865344, 'time_algorithm_update': 0.017416222880308765, 'loss': -137.96999051505492, 'time_step': 0.01773198321771344, 'observation_error': 0.11436840593660384, 'reward_error': 3.1203897386751286e-05, 'variance': 0.05655254531503818}\u001b[0m \u001b[36mstep\u001b[0m=\u001b[35m250224\u001b[0m\n",
      "\u001b[2m2023-10-22 05:52:56\u001b[0m [\u001b[32m\u001b[1minfo     \u001b[0m] \u001b[1mModel parameters are saved to d3rlpy_logs/exp_5_dynamics_reacher_symmetry_20231022035204/model_250224.pt\u001b[0m\n"
     ]
    },
    {
     "data": {
      "application/vnd.jupyter.widget-view+json": {
       "model_id": "4da4c23651984f6cb492480b5b301fe9",
       "version_major": 2,
       "version_minor": 0
      },
      "text/plain": [
       "Epoch 53/100:   0%|          | 0/4812 [00:00<?, ?it/s]"
      ]
     },
     "metadata": {},
     "output_type": "display_data"
    },
    {
     "name": "stdout",
     "output_type": "stream",
     "text": [
      "\u001b[2m2023-10-22 05:55:14\u001b[0m [\u001b[32m\u001b[1minfo     \u001b[0m] \u001b[1mexp_5_dynamics_reacher_symmetry_20231022035204: epoch=53 step=255036\u001b[0m \u001b[36mepoch\u001b[0m=\u001b[35m53\u001b[0m \u001b[36mmetrics\u001b[0m=\u001b[35m{'time_sample_batch': 0.0002467803229714867, 'time_algorithm_update': 0.017439998841146973, 'loss': -137.74477076867373, 'time_step': 0.01775972900644304, 'observation_error': 0.1153471825503235, 'reward_error': 2.878512053820361e-05, 'variance': 0.06396833903646698}\u001b[0m \u001b[36mstep\u001b[0m=\u001b[35m255036\u001b[0m\n",
      "\u001b[2m2023-10-22 05:55:15\u001b[0m [\u001b[32m\u001b[1minfo     \u001b[0m] \u001b[1mModel parameters are saved to d3rlpy_logs/exp_5_dynamics_reacher_symmetry_20231022035204/model_255036.pt\u001b[0m\n"
     ]
    },
    {
     "data": {
      "application/vnd.jupyter.widget-view+json": {
       "model_id": "2a85ee6df51d40bca772f9737471df20",
       "version_major": 2,
       "version_minor": 0
      },
      "text/plain": [
       "Epoch 54/100:   0%|          | 0/4812 [00:00<?, ?it/s]"
      ]
     },
     "metadata": {},
     "output_type": "display_data"
    },
    {
     "name": "stdout",
     "output_type": "stream",
     "text": [
      "\u001b[2m2023-10-22 05:57:34\u001b[0m [\u001b[32m\u001b[1minfo     \u001b[0m] \u001b[1mexp_5_dynamics_reacher_symmetry_20231022035204: epoch=54 step=259848\u001b[0m \u001b[36mepoch\u001b[0m=\u001b[35m54\u001b[0m \u001b[36mmetrics\u001b[0m=\u001b[35m{'time_sample_batch': 0.00024745341449207994, 'time_algorithm_update': 0.01754130439171668, 'loss': -138.0586935199506, 'time_step': 0.017861652899462288, 'observation_error': 0.10989976321043245, 'reward_error': 3.207654131916355e-05, 'variance': 0.05708753532773744}\u001b[0m \u001b[36mstep\u001b[0m=\u001b[35m259848\u001b[0m\n",
      "\u001b[2m2023-10-22 05:57:35\u001b[0m [\u001b[32m\u001b[1minfo     \u001b[0m] \u001b[1mModel parameters are saved to d3rlpy_logs/exp_5_dynamics_reacher_symmetry_20231022035204/model_259848.pt\u001b[0m\n"
     ]
    },
    {
     "data": {
      "application/vnd.jupyter.widget-view+json": {
       "model_id": "a46798b90c304b84bbeeb8e611719958",
       "version_major": 2,
       "version_minor": 0
      },
      "text/plain": [
       "Epoch 55/100:   0%|          | 0/4812 [00:00<?, ?it/s]"
      ]
     },
     "metadata": {},
     "output_type": "display_data"
    },
    {
     "name": "stdout",
     "output_type": "stream",
     "text": [
      "\u001b[2m2023-10-22 05:59:54\u001b[0m [\u001b[32m\u001b[1minfo     \u001b[0m] \u001b[1mexp_5_dynamics_reacher_symmetry_20231022035204: epoch=55 step=264660\u001b[0m \u001b[36mepoch\u001b[0m=\u001b[35m55\u001b[0m \u001b[36mmetrics\u001b[0m=\u001b[35m{'time_sample_batch': 0.00024765214618800187, 'time_algorithm_update': 0.017496731414065596, 'loss': -138.3584905895509, 'time_step': 0.017817339942738698, 'observation_error': 0.1169677679157647, 'reward_error': 2.750144922946344e-05, 'variance': 0.058016775568032086}\u001b[0m \u001b[36mstep\u001b[0m=\u001b[35m264660\u001b[0m\n",
      "\u001b[2m2023-10-22 05:59:54\u001b[0m [\u001b[32m\u001b[1minfo     \u001b[0m] \u001b[1mModel parameters are saved to d3rlpy_logs/exp_5_dynamics_reacher_symmetry_20231022035204/model_264660.pt\u001b[0m\n"
     ]
    },
    {
     "data": {
      "application/vnd.jupyter.widget-view+json": {
       "model_id": "cadc851b06034a82b13d7a51dfc02237",
       "version_major": 2,
       "version_minor": 0
      },
      "text/plain": [
       "Epoch 56/100:   0%|          | 0/4812 [00:00<?, ?it/s]"
      ]
     },
     "metadata": {},
     "output_type": "display_data"
    },
    {
     "name": "stdout",
     "output_type": "stream",
     "text": [
      "\u001b[2m2023-10-22 06:02:13\u001b[0m [\u001b[32m\u001b[1minfo     \u001b[0m] \u001b[1mexp_5_dynamics_reacher_symmetry_20231022035204: epoch=56 step=269472\u001b[0m \u001b[36mepoch\u001b[0m=\u001b[35m56\u001b[0m \u001b[36mmetrics\u001b[0m=\u001b[35m{'time_sample_batch': 0.00024693272853036375, 'time_algorithm_update': 0.01747455145058192, 'loss': -138.31941498822206, 'time_step': 0.017793387546206352, 'observation_error': 0.10058394308458701, 'reward_error': 2.88394695468522e-05, 'variance': 0.05251637143724549}\u001b[0m \u001b[36mstep\u001b[0m=\u001b[35m269472\u001b[0m\n",
      "\u001b[2m2023-10-22 06:02:13\u001b[0m [\u001b[32m\u001b[1minfo     \u001b[0m] \u001b[1mModel parameters are saved to d3rlpy_logs/exp_5_dynamics_reacher_symmetry_20231022035204/model_269472.pt\u001b[0m\n"
     ]
    },
    {
     "data": {
      "application/vnd.jupyter.widget-view+json": {
       "model_id": "8fe02cba642b4f6c97618fa7dbc271f2",
       "version_major": 2,
       "version_minor": 0
      },
      "text/plain": [
       "Epoch 57/100:   0%|          | 0/4812 [00:00<?, ?it/s]"
      ]
     },
     "metadata": {},
     "output_type": "display_data"
    },
    {
     "name": "stdout",
     "output_type": "stream",
     "text": [
      "\u001b[2m2023-10-22 06:04:33\u001b[0m [\u001b[32m\u001b[1minfo     \u001b[0m] \u001b[1mexp_5_dynamics_reacher_symmetry_20231022035204: epoch=57 step=274284\u001b[0m \u001b[36mepoch\u001b[0m=\u001b[35m57\u001b[0m \u001b[36mmetrics\u001b[0m=\u001b[35m{'time_sample_batch': 0.0002486760776833703, 'time_algorithm_update': 0.017382994207459892, 'loss': -138.43927475500385, 'time_step': 0.017704073082677345, 'observation_error': 0.11269981225028643, 'reward_error': 2.4859562387994695e-05, 'variance': 0.05687659903074234}\u001b[0m \u001b[36mstep\u001b[0m=\u001b[35m274284\u001b[0m\n",
      "\u001b[2m2023-10-22 06:04:33\u001b[0m [\u001b[32m\u001b[1minfo     \u001b[0m] \u001b[1mModel parameters are saved to d3rlpy_logs/exp_5_dynamics_reacher_symmetry_20231022035204/model_274284.pt\u001b[0m\n"
     ]
    },
    {
     "data": {
      "application/vnd.jupyter.widget-view+json": {
       "model_id": "71626f922efb46eab10358e64c56e88a",
       "version_major": 2,
       "version_minor": 0
      },
      "text/plain": [
       "Epoch 58/100:   0%|          | 0/4812 [00:00<?, ?it/s]"
      ]
     },
     "metadata": {},
     "output_type": "display_data"
    },
    {
     "name": "stdout",
     "output_type": "stream",
     "text": [
      "\u001b[2m2023-10-22 06:06:52\u001b[0m [\u001b[32m\u001b[1minfo     \u001b[0m] \u001b[1mexp_5_dynamics_reacher_symmetry_20231022035204: epoch=58 step=279096\u001b[0m \u001b[36mepoch\u001b[0m=\u001b[35m58\u001b[0m \u001b[36mmetrics\u001b[0m=\u001b[35m{'time_sample_batch': 0.00024980232305360256, 'time_algorithm_update': 0.01747865000072362, 'loss': -139.0590669754041, 'time_step': 0.01780130262684049, 'observation_error': 0.11044768762827638, 'reward_error': 2.3697084564619867e-05, 'variance': 0.0597422405440867}\u001b[0m \u001b[36mstep\u001b[0m=\u001b[35m279096\u001b[0m\n",
      "\u001b[2m2023-10-22 06:06:52\u001b[0m [\u001b[32m\u001b[1minfo     \u001b[0m] \u001b[1mModel parameters are saved to d3rlpy_logs/exp_5_dynamics_reacher_symmetry_20231022035204/model_279096.pt\u001b[0m\n"
     ]
    },
    {
     "data": {
      "application/vnd.jupyter.widget-view+json": {
       "model_id": "f805829b7c5545d3b251d4382247e0b8",
       "version_major": 2,
       "version_minor": 0
      },
      "text/plain": [
       "Epoch 59/100:   0%|          | 0/4812 [00:00<?, ?it/s]"
      ]
     },
     "metadata": {},
     "output_type": "display_data"
    },
    {
     "name": "stdout",
     "output_type": "stream",
     "text": [
      "\u001b[2m2023-10-22 06:09:12\u001b[0m [\u001b[32m\u001b[1minfo     \u001b[0m] \u001b[1mexp_5_dynamics_reacher_symmetry_20231022035204: epoch=59 step=283908\u001b[0m \u001b[36mepoch\u001b[0m=\u001b[35m59\u001b[0m \u001b[36mmetrics\u001b[0m=\u001b[35m{'time_sample_batch': 0.00024819715956500045, 'time_algorithm_update': 0.017453098435849818, 'loss': -139.4525372238825, 'time_step': 0.01777381666085171, 'observation_error': 0.11137145689882272, 'reward_error': 2.434340881303697e-05, 'variance': 0.05978264345612477}\u001b[0m \u001b[36mstep\u001b[0m=\u001b[35m283908\u001b[0m\n",
      "\u001b[2m2023-10-22 06:09:12\u001b[0m [\u001b[32m\u001b[1minfo     \u001b[0m] \u001b[1mModel parameters are saved to d3rlpy_logs/exp_5_dynamics_reacher_symmetry_20231022035204/model_283908.pt\u001b[0m\n"
     ]
    },
    {
     "data": {
      "application/vnd.jupyter.widget-view+json": {
       "model_id": "11f449019b2143b7be016930822be424",
       "version_major": 2,
       "version_minor": 0
      },
      "text/plain": [
       "Epoch 60/100:   0%|          | 0/4812 [00:00<?, ?it/s]"
      ]
     },
     "metadata": {},
     "output_type": "display_data"
    },
    {
     "name": "stdout",
     "output_type": "stream",
     "text": [
      "\u001b[2m2023-10-22 06:11:32\u001b[0m [\u001b[32m\u001b[1minfo     \u001b[0m] \u001b[1mexp_5_dynamics_reacher_symmetry_20231022035204: epoch=60 step=288720\u001b[0m \u001b[36mepoch\u001b[0m=\u001b[35m60\u001b[0m \u001b[36mmetrics\u001b[0m=\u001b[35m{'time_sample_batch': 0.00025011783625221413, 'time_algorithm_update': 0.017519942691498563, 'loss': -138.5995248245975, 'time_step': 0.0178434810634464, 'observation_error': 0.12329134480085788, 'reward_error': 2.2250258172583686e-05, 'variance': 0.07092645158575041}\u001b[0m \u001b[36mstep\u001b[0m=\u001b[35m288720\u001b[0m\n",
      "\u001b[2m2023-10-22 06:11:32\u001b[0m [\u001b[32m\u001b[1minfo     \u001b[0m] \u001b[1mModel parameters are saved to d3rlpy_logs/exp_5_dynamics_reacher_symmetry_20231022035204/model_288720.pt\u001b[0m\n"
     ]
    },
    {
     "data": {
      "application/vnd.jupyter.widget-view+json": {
       "model_id": "184bcce7618f4e439221cb5203acf066",
       "version_major": 2,
       "version_minor": 0
      },
      "text/plain": [
       "Epoch 61/100:   0%|          | 0/4812 [00:00<?, ?it/s]"
      ]
     },
     "metadata": {},
     "output_type": "display_data"
    },
    {
     "name": "stdout",
     "output_type": "stream",
     "text": [
      "\u001b[2m2023-10-22 06:13:52\u001b[0m [\u001b[32m\u001b[1minfo     \u001b[0m] \u001b[1mexp_5_dynamics_reacher_symmetry_20231022035204: epoch=61 step=293532\u001b[0m \u001b[36mepoch\u001b[0m=\u001b[35m61\u001b[0m \u001b[36mmetrics\u001b[0m=\u001b[35m{'time_sample_batch': 0.00025045633910600085, 'time_algorithm_update': 0.017485879305889483, 'loss': -139.84938340016632, 'time_step': 0.017809827131523456, 'observation_error': 0.11260358106332523, 'reward_error': 2.5727033970822753e-05, 'variance': 0.05898699757249464}\u001b[0m \u001b[36mstep\u001b[0m=\u001b[35m293532\u001b[0m\n",
      "\u001b[2m2023-10-22 06:13:52\u001b[0m [\u001b[32m\u001b[1minfo     \u001b[0m] \u001b[1mModel parameters are saved to d3rlpy_logs/exp_5_dynamics_reacher_symmetry_20231022035204/model_293532.pt\u001b[0m\n"
     ]
    },
    {
     "data": {
      "application/vnd.jupyter.widget-view+json": {
       "model_id": "fef7c17ad9ee4b078111359239d6ecbc",
       "version_major": 2,
       "version_minor": 0
      },
      "text/plain": [
       "Epoch 62/100:   0%|          | 0/4812 [00:00<?, ?it/s]"
      ]
     },
     "metadata": {},
     "output_type": "display_data"
    },
    {
     "name": "stdout",
     "output_type": "stream",
     "text": [
      "\u001b[2m2023-10-22 06:16:11\u001b[0m [\u001b[32m\u001b[1minfo     \u001b[0m] \u001b[1mexp_5_dynamics_reacher_symmetry_20231022035204: epoch=62 step=298344\u001b[0m \u001b[36mepoch\u001b[0m=\u001b[35m62\u001b[0m \u001b[36mmetrics\u001b[0m=\u001b[35m{'time_sample_batch': 0.00024844905483851506, 'time_algorithm_update': 0.01745854420951279, 'loss': -139.61372733968352, 'time_step': 0.017779611143982618, 'observation_error': 0.10664817380672305, 'reward_error': 2.55826021688332e-05, 'variance': 0.05295409275251968}\u001b[0m \u001b[36mstep\u001b[0m=\u001b[35m298344\u001b[0m\n",
      "\u001b[2m2023-10-22 06:16:12\u001b[0m [\u001b[32m\u001b[1minfo     \u001b[0m] \u001b[1mModel parameters are saved to d3rlpy_logs/exp_5_dynamics_reacher_symmetry_20231022035204/model_298344.pt\u001b[0m\n"
     ]
    },
    {
     "data": {
      "application/vnd.jupyter.widget-view+json": {
       "model_id": "e815f05f50db405699f0267c5f919294",
       "version_major": 2,
       "version_minor": 0
      },
      "text/plain": [
       "Epoch 63/100:   0%|          | 0/4812 [00:00<?, ?it/s]"
      ]
     },
     "metadata": {},
     "output_type": "display_data"
    },
    {
     "name": "stdout",
     "output_type": "stream",
     "text": [
      "\u001b[2m2023-10-22 06:18:30\u001b[0m [\u001b[32m\u001b[1minfo     \u001b[0m] \u001b[1mexp_5_dynamics_reacher_symmetry_20231022035204: epoch=63 step=303156\u001b[0m \u001b[36mepoch\u001b[0m=\u001b[35m63\u001b[0m \u001b[36mmetrics\u001b[0m=\u001b[35m{'time_sample_batch': 0.00024957049418169563, 'time_algorithm_update': 0.017454883552846173, 'loss': -139.40632991441962, 'time_step': 0.017777605346115253, 'observation_error': 0.11067829213360106, 'reward_error': 2.3370507879639913e-05, 'variance': 0.05708565128084652}\u001b[0m \u001b[36mstep\u001b[0m=\u001b[35m303156\u001b[0m\n",
      "\u001b[2m2023-10-22 06:18:30\u001b[0m [\u001b[32m\u001b[1minfo     \u001b[0m] \u001b[1mModel parameters are saved to d3rlpy_logs/exp_5_dynamics_reacher_symmetry_20231022035204/model_303156.pt\u001b[0m\n"
     ]
    },
    {
     "data": {
      "application/vnd.jupyter.widget-view+json": {
       "model_id": "fce929781a774052b9097ca31b2d11d9",
       "version_major": 2,
       "version_minor": 0
      },
      "text/plain": [
       "Epoch 64/100:   0%|          | 0/4812 [00:00<?, ?it/s]"
      ]
     },
     "metadata": {},
     "output_type": "display_data"
    },
    {
     "name": "stdout",
     "output_type": "stream",
     "text": [
      "\u001b[2m2023-10-22 06:20:50\u001b[0m [\u001b[32m\u001b[1minfo     \u001b[0m] \u001b[1mexp_5_dynamics_reacher_symmetry_20231022035204: epoch=64 step=307968\u001b[0m \u001b[36mepoch\u001b[0m=\u001b[35m64\u001b[0m \u001b[36mmetrics\u001b[0m=\u001b[35m{'time_sample_batch': 0.00024573800966131223, 'time_algorithm_update': 0.017443827114200353, 'loss': -140.1188121674364, 'time_step': 0.017761567187923644, 'observation_error': 0.11411401515595992, 'reward_error': 2.2821873951464475e-05, 'variance': 0.06039597357966541}\u001b[0m \u001b[36mstep\u001b[0m=\u001b[35m307968\u001b[0m\n",
      "\u001b[2m2023-10-22 06:20:50\u001b[0m [\u001b[32m\u001b[1minfo     \u001b[0m] \u001b[1mModel parameters are saved to d3rlpy_logs/exp_5_dynamics_reacher_symmetry_20231022035204/model_307968.pt\u001b[0m\n"
     ]
    },
    {
     "data": {
      "application/vnd.jupyter.widget-view+json": {
       "model_id": "f27c594ba61e46e4ae0de5cea25e70ba",
       "version_major": 2,
       "version_minor": 0
      },
      "text/plain": [
       "Epoch 65/100:   0%|          | 0/4812 [00:00<?, ?it/s]"
      ]
     },
     "metadata": {},
     "output_type": "display_data"
    },
    {
     "name": "stdout",
     "output_type": "stream",
     "text": [
      "\u001b[2m2023-10-22 06:23:10\u001b[0m [\u001b[32m\u001b[1minfo     \u001b[0m] \u001b[1mexp_5_dynamics_reacher_symmetry_20231022035204: epoch=65 step=312780\u001b[0m \u001b[36mepoch\u001b[0m=\u001b[35m65\u001b[0m \u001b[36mmetrics\u001b[0m=\u001b[35m{'time_sample_batch': 0.0002495942270369304, 'time_algorithm_update': 0.017447171861294995, 'loss': -140.04619325525246, 'time_step': 0.017770232603337897, 'observation_error': 0.11167925441857852, 'reward_error': 2.0424231370224886e-05, 'variance': 0.05473327428725563}\u001b[0m \u001b[36mstep\u001b[0m=\u001b[35m312780\u001b[0m\n",
      "\u001b[2m2023-10-22 06:23:10\u001b[0m [\u001b[32m\u001b[1minfo     \u001b[0m] \u001b[1mModel parameters are saved to d3rlpy_logs/exp_5_dynamics_reacher_symmetry_20231022035204/model_312780.pt\u001b[0m\n"
     ]
    },
    {
     "data": {
      "application/vnd.jupyter.widget-view+json": {
       "model_id": "1adfd3f74e6f4f4fb0876aa29220a82c",
       "version_major": 2,
       "version_minor": 0
      },
      "text/plain": [
       "Epoch 66/100:   0%|          | 0/4812 [00:00<?, ?it/s]"
      ]
     },
     "metadata": {},
     "output_type": "display_data"
    },
    {
     "name": "stdout",
     "output_type": "stream",
     "text": [
      "\u001b[2m2023-10-22 06:25:29\u001b[0m [\u001b[32m\u001b[1minfo     \u001b[0m] \u001b[1mexp_5_dynamics_reacher_symmetry_20231022035204: epoch=66 step=317592\u001b[0m \u001b[36mepoch\u001b[0m=\u001b[35m66\u001b[0m \u001b[36mmetrics\u001b[0m=\u001b[35m{'time_sample_batch': 0.0002521125356653583, 'time_algorithm_update': 0.01747989064935635, 'loss': -140.5091671547291, 'time_step': 0.017805683493911477, 'observation_error': 0.10490691150620986, 'reward_error': 1.8786306870893862e-05, 'variance': 0.04935367819218436}\u001b[0m \u001b[36mstep\u001b[0m=\u001b[35m317592\u001b[0m\n",
      "\u001b[2m2023-10-22 06:25:29\u001b[0m [\u001b[32m\u001b[1minfo     \u001b[0m] \u001b[1mModel parameters are saved to d3rlpy_logs/exp_5_dynamics_reacher_symmetry_20231022035204/model_317592.pt\u001b[0m\n"
     ]
    },
    {
     "data": {
      "application/vnd.jupyter.widget-view+json": {
       "model_id": "6c902ad999c249bfabd1d1689420232f",
       "version_major": 2,
       "version_minor": 0
      },
      "text/plain": [
       "Epoch 67/100:   0%|          | 0/4812 [00:00<?, ?it/s]"
      ]
     },
     "metadata": {},
     "output_type": "display_data"
    },
    {
     "name": "stdout",
     "output_type": "stream",
     "text": [
      "\u001b[2m2023-10-22 06:27:48\u001b[0m [\u001b[32m\u001b[1minfo     \u001b[0m] \u001b[1mexp_5_dynamics_reacher_symmetry_20231022035204: epoch=67 step=322404\u001b[0m \u001b[36mepoch\u001b[0m=\u001b[35m67\u001b[0m \u001b[36mmetrics\u001b[0m=\u001b[35m{'time_sample_batch': 0.0002484020350480813, 'time_algorithm_update': 0.017525440637805714, 'loss': -141.00658552704112, 'time_step': 0.017846611521190537, 'observation_error': 0.10369351818525334, 'reward_error': 2.1569139328768425e-05, 'variance': 0.045528542367818926}\u001b[0m \u001b[36mstep\u001b[0m=\u001b[35m322404\u001b[0m\n",
      "\u001b[2m2023-10-22 06:27:48\u001b[0m [\u001b[32m\u001b[1minfo     \u001b[0m] \u001b[1mModel parameters are saved to d3rlpy_logs/exp_5_dynamics_reacher_symmetry_20231022035204/model_322404.pt\u001b[0m\n"
     ]
    },
    {
     "data": {
      "application/vnd.jupyter.widget-view+json": {
       "model_id": "b4888511f2544ec1a2fb20f903434001",
       "version_major": 2,
       "version_minor": 0
      },
      "text/plain": [
       "Epoch 68/100:   0%|          | 0/4812 [00:00<?, ?it/s]"
      ]
     },
     "metadata": {},
     "output_type": "display_data"
    },
    {
     "name": "stdout",
     "output_type": "stream",
     "text": [
      "\u001b[2m2023-10-22 06:30:08\u001b[0m [\u001b[32m\u001b[1minfo     \u001b[0m] \u001b[1mexp_5_dynamics_reacher_symmetry_20231022035204: epoch=68 step=327216\u001b[0m \u001b[36mepoch\u001b[0m=\u001b[35m68\u001b[0m \u001b[36mmetrics\u001b[0m=\u001b[35m{'time_sample_batch': 0.00025126949906448276, 'time_algorithm_update': 0.017460754090116506, 'loss': -140.27481140182698, 'time_step': 0.017785835890401332, 'observation_error': 0.12130095808705652, 'reward_error': 2.1030425933815203e-05, 'variance': 0.07191346968845336}\u001b[0m \u001b[36mstep\u001b[0m=\u001b[35m327216\u001b[0m\n",
      "\u001b[2m2023-10-22 06:30:08\u001b[0m [\u001b[32m\u001b[1minfo     \u001b[0m] \u001b[1mModel parameters are saved to d3rlpy_logs/exp_5_dynamics_reacher_symmetry_20231022035204/model_327216.pt\u001b[0m\n"
     ]
    },
    {
     "data": {
      "application/vnd.jupyter.widget-view+json": {
       "model_id": "f99df4558db34874a0d48b9e53a78143",
       "version_major": 2,
       "version_minor": 0
      },
      "text/plain": [
       "Epoch 69/100:   0%|          | 0/4812 [00:00<?, ?it/s]"
      ]
     },
     "metadata": {},
     "output_type": "display_data"
    },
    {
     "name": "stdout",
     "output_type": "stream",
     "text": [
      "\u001b[2m2023-10-22 06:32:28\u001b[0m [\u001b[32m\u001b[1minfo     \u001b[0m] \u001b[1mexp_5_dynamics_reacher_symmetry_20231022035204: epoch=69 step=332028\u001b[0m \u001b[36mepoch\u001b[0m=\u001b[35m69\u001b[0m \u001b[36mmetrics\u001b[0m=\u001b[35m{'time_sample_batch': 0.0002510941533971011, 'time_algorithm_update': 0.017509676324062712, 'loss': -140.45633816263225, 'time_step': 0.017834423634774072, 'observation_error': 0.11253948794725131, 'reward_error': 1.991697892364511e-05, 'variance': 0.05894778556620232}\u001b[0m \u001b[36mstep\u001b[0m=\u001b[35m332028\u001b[0m\n",
      "\u001b[2m2023-10-22 06:32:28\u001b[0m [\u001b[32m\u001b[1minfo     \u001b[0m] \u001b[1mModel parameters are saved to d3rlpy_logs/exp_5_dynamics_reacher_symmetry_20231022035204/model_332028.pt\u001b[0m\n"
     ]
    },
    {
     "data": {
      "application/vnd.jupyter.widget-view+json": {
       "model_id": "1703d35082ad44f0ad07a46306162b5e",
       "version_major": 2,
       "version_minor": 0
      },
      "text/plain": [
       "Epoch 70/100:   0%|          | 0/4812 [00:00<?, ?it/s]"
      ]
     },
     "metadata": {},
     "output_type": "display_data"
    },
    {
     "name": "stdout",
     "output_type": "stream",
     "text": [
      "\u001b[2m2023-10-22 06:34:48\u001b[0m [\u001b[32m\u001b[1minfo     \u001b[0m] \u001b[1mexp_5_dynamics_reacher_symmetry_20231022035204: epoch=70 step=336840\u001b[0m \u001b[36mepoch\u001b[0m=\u001b[35m70\u001b[0m \u001b[36mmetrics\u001b[0m=\u001b[35m{'time_sample_batch': 0.0002481791741235595, 'time_algorithm_update': 0.017506922668748762, 'loss': -140.89535747165, 'time_step': 0.01782758703651967, 'observation_error': 0.10685367059405443, 'reward_error': 1.7277670855550355e-05, 'variance': 0.05354760750903245}\u001b[0m \u001b[36mstep\u001b[0m=\u001b[35m336840\u001b[0m\n",
      "\u001b[2m2023-10-22 06:34:48\u001b[0m [\u001b[32m\u001b[1minfo     \u001b[0m] \u001b[1mModel parameters are saved to d3rlpy_logs/exp_5_dynamics_reacher_symmetry_20231022035204/model_336840.pt\u001b[0m\n"
     ]
    },
    {
     "data": {
      "application/vnd.jupyter.widget-view+json": {
       "model_id": "87ed8bfe6f3f4cd7a74d280fabc799f3",
       "version_major": 2,
       "version_minor": 0
      },
      "text/plain": [
       "Epoch 71/100:   0%|          | 0/4812 [00:00<?, ?it/s]"
      ]
     },
     "metadata": {},
     "output_type": "display_data"
    },
    {
     "name": "stdout",
     "output_type": "stream",
     "text": [
      "\u001b[2m2023-10-22 06:37:06\u001b[0m [\u001b[32m\u001b[1minfo     \u001b[0m] \u001b[1mexp_5_dynamics_reacher_symmetry_20231022035204: epoch=71 step=341652\u001b[0m \u001b[36mepoch\u001b[0m=\u001b[35m71\u001b[0m \u001b[36mmetrics\u001b[0m=\u001b[35m{'time_sample_batch': 0.0002506278201330729, 'time_algorithm_update': 0.0173979880704745, 'loss': -141.43705452509155, 'time_step': 0.017721884367571012, 'observation_error': 0.10559155371873852, 'reward_error': 1.7465181884280582e-05, 'variance': 0.05510331065296231}\u001b[0m \u001b[36mstep\u001b[0m=\u001b[35m341652\u001b[0m\n",
      "\u001b[2m2023-10-22 06:37:06\u001b[0m [\u001b[32m\u001b[1minfo     \u001b[0m] \u001b[1mModel parameters are saved to d3rlpy_logs/exp_5_dynamics_reacher_symmetry_20231022035204/model_341652.pt\u001b[0m\n"
     ]
    },
    {
     "data": {
      "application/vnd.jupyter.widget-view+json": {
       "model_id": "ae9ffb9562704e3384b986a7aa24a7ce",
       "version_major": 2,
       "version_minor": 0
      },
      "text/plain": [
       "Epoch 72/100:   0%|          | 0/4812 [00:00<?, ?it/s]"
      ]
     },
     "metadata": {},
     "output_type": "display_data"
    },
    {
     "name": "stdout",
     "output_type": "stream",
     "text": [
      "\u001b[2m2023-10-22 06:39:26\u001b[0m [\u001b[32m\u001b[1minfo     \u001b[0m] \u001b[1mexp_5_dynamics_reacher_symmetry_20231022035204: epoch=72 step=346464\u001b[0m \u001b[36mepoch\u001b[0m=\u001b[35m72\u001b[0m \u001b[36mmetrics\u001b[0m=\u001b[35m{'time_sample_batch': 0.0002519141507961308, 'time_algorithm_update': 0.017477212949088487, 'loss': -140.77602226419046, 'time_step': 0.017802683839377817, 'observation_error': 0.10448967036160363, 'reward_error': 1.92731234936706e-05, 'variance': 0.04982628953642261}\u001b[0m \u001b[36mstep\u001b[0m=\u001b[35m346464\u001b[0m\n",
      "\u001b[2m2023-10-22 06:39:26\u001b[0m [\u001b[32m\u001b[1minfo     \u001b[0m] \u001b[1mModel parameters are saved to d3rlpy_logs/exp_5_dynamics_reacher_symmetry_20231022035204/model_346464.pt\u001b[0m\n"
     ]
    },
    {
     "data": {
      "application/vnd.jupyter.widget-view+json": {
       "model_id": "6b62b0c008754172b8222400dd553895",
       "version_major": 2,
       "version_minor": 0
      },
      "text/plain": [
       "Epoch 73/100:   0%|          | 0/4812 [00:00<?, ?it/s]"
      ]
     },
     "metadata": {},
     "output_type": "display_data"
    },
    {
     "name": "stdout",
     "output_type": "stream",
     "text": [
      "\u001b[2m2023-10-22 06:41:45\u001b[0m [\u001b[32m\u001b[1minfo     \u001b[0m] \u001b[1mexp_5_dynamics_reacher_symmetry_20231022035204: epoch=73 step=351276\u001b[0m \u001b[36mepoch\u001b[0m=\u001b[35m73\u001b[0m \u001b[36mmetrics\u001b[0m=\u001b[35m{'time_sample_batch': 0.0002464406805442753, 'time_algorithm_update': 0.017553285618969926, 'loss': -141.64246815319171, 'time_step': 0.017873292651061506, 'observation_error': 0.11154273439220402, 'reward_error': 1.8701888974705524e-05, 'variance': 0.057851528542707475}\u001b[0m \u001b[36mstep\u001b[0m=\u001b[35m351276\u001b[0m\n",
      "\u001b[2m2023-10-22 06:41:45\u001b[0m [\u001b[32m\u001b[1minfo     \u001b[0m] \u001b[1mModel parameters are saved to d3rlpy_logs/exp_5_dynamics_reacher_symmetry_20231022035204/model_351276.pt\u001b[0m\n"
     ]
    },
    {
     "data": {
      "application/vnd.jupyter.widget-view+json": {
       "model_id": "5f4d02ee53314e66a88ded524fa3b844",
       "version_major": 2,
       "version_minor": 0
      },
      "text/plain": [
       "Epoch 74/100:   0%|          | 0/4812 [00:00<?, ?it/s]"
      ]
     },
     "metadata": {},
     "output_type": "display_data"
    },
    {
     "name": "stdout",
     "output_type": "stream",
     "text": [
      "\u001b[2m2023-10-22 06:44:05\u001b[0m [\u001b[32m\u001b[1minfo     \u001b[0m] \u001b[1mexp_5_dynamics_reacher_symmetry_20231022035204: epoch=74 step=356088\u001b[0m \u001b[36mepoch\u001b[0m=\u001b[35m74\u001b[0m \u001b[36mmetrics\u001b[0m=\u001b[35m{'time_sample_batch': 0.0002488892274604474, 'time_algorithm_update': 0.017486398158624385, 'loss': -142.13070550285968, 'time_step': 0.017808643461561958, 'observation_error': 0.11225374582920425, 'reward_error': 1.9595391558501353e-05, 'variance': 0.051126109893989795}\u001b[0m \u001b[36mstep\u001b[0m=\u001b[35m356088\u001b[0m\n",
      "\u001b[2m2023-10-22 06:44:05\u001b[0m [\u001b[32m\u001b[1minfo     \u001b[0m] \u001b[1mModel parameters are saved to d3rlpy_logs/exp_5_dynamics_reacher_symmetry_20231022035204/model_356088.pt\u001b[0m\n"
     ]
    },
    {
     "data": {
      "application/vnd.jupyter.widget-view+json": {
       "model_id": "6b4a329dd5374430b01ab6e3b6d8bce8",
       "version_major": 2,
       "version_minor": 0
      },
      "text/plain": [
       "Epoch 75/100:   0%|          | 0/4812 [00:00<?, ?it/s]"
      ]
     },
     "metadata": {},
     "output_type": "display_data"
    },
    {
     "name": "stdout",
     "output_type": "stream",
     "text": [
      "\u001b[2m2023-10-22 06:46:24\u001b[0m [\u001b[32m\u001b[1minfo     \u001b[0m] \u001b[1mexp_5_dynamics_reacher_symmetry_20231022035204: epoch=75 step=360900\u001b[0m \u001b[36mepoch\u001b[0m=\u001b[35m75\u001b[0m \u001b[36mmetrics\u001b[0m=\u001b[35m{'time_sample_batch': 0.0002516074569048925, 'time_algorithm_update': 0.017448798131665288, 'loss': -142.4617048106586, 'time_step': 0.017772816759491602, 'observation_error': 0.11127234915666598, 'reward_error': 1.6177022398293125e-05, 'variance': 0.053061994109962964}\u001b[0m \u001b[36mstep\u001b[0m=\u001b[35m360900\u001b[0m\n",
      "\u001b[2m2023-10-22 06:46:24\u001b[0m [\u001b[32m\u001b[1minfo     \u001b[0m] \u001b[1mModel parameters are saved to d3rlpy_logs/exp_5_dynamics_reacher_symmetry_20231022035204/model_360900.pt\u001b[0m\n"
     ]
    },
    {
     "data": {
      "application/vnd.jupyter.widget-view+json": {
       "model_id": "c038dd3342f24c36aa6245fdcc9b1a10",
       "version_major": 2,
       "version_minor": 0
      },
      "text/plain": [
       "Epoch 76/100:   0%|          | 0/4812 [00:00<?, ?it/s]"
      ]
     },
     "metadata": {},
     "output_type": "display_data"
    },
    {
     "name": "stdout",
     "output_type": "stream",
     "text": [
      "\u001b[2m2023-10-22 06:48:44\u001b[0m [\u001b[32m\u001b[1minfo     \u001b[0m] \u001b[1mexp_5_dynamics_reacher_symmetry_20231022035204: epoch=76 step=365712\u001b[0m \u001b[36mepoch\u001b[0m=\u001b[35m76\u001b[0m \u001b[36mmetrics\u001b[0m=\u001b[35m{'time_sample_batch': 0.0002453184484543646, 'time_algorithm_update': 0.017410970487301287, 'loss': -141.91604983162503, 'time_step': 0.017729307400219062, 'observation_error': 0.1112084535706155, 'reward_error': 1.7156645447685408e-05, 'variance': 0.050455094077909546}\u001b[0m \u001b[36mstep\u001b[0m=\u001b[35m365712\u001b[0m\n",
      "\u001b[2m2023-10-22 06:48:44\u001b[0m [\u001b[32m\u001b[1minfo     \u001b[0m] \u001b[1mModel parameters are saved to d3rlpy_logs/exp_5_dynamics_reacher_symmetry_20231022035204/model_365712.pt\u001b[0m\n"
     ]
    },
    {
     "data": {
      "application/vnd.jupyter.widget-view+json": {
       "model_id": "781fe015cb1b4a08a54cf719e0a7db74",
       "version_major": 2,
       "version_minor": 0
      },
      "text/plain": [
       "Epoch 77/100:   0%|          | 0/4812 [00:00<?, ?it/s]"
      ]
     },
     "metadata": {},
     "output_type": "display_data"
    },
    {
     "name": "stdout",
     "output_type": "stream",
     "text": [
      "\u001b[2m2023-10-22 06:51:04\u001b[0m [\u001b[32m\u001b[1minfo     \u001b[0m] \u001b[1mexp_5_dynamics_reacher_symmetry_20231022035204: epoch=77 step=370524\u001b[0m \u001b[36mepoch\u001b[0m=\u001b[35m77\u001b[0m \u001b[36mmetrics\u001b[0m=\u001b[35m{'time_sample_batch': 0.000248001499762658, 'time_algorithm_update': 0.01751957094282878, 'loss': -142.08931697059054, 'time_step': 0.017840496619740628, 'observation_error': 0.10906315062350005, 'reward_error': 1.4585352769356893e-05, 'variance': 0.055355401875821254}\u001b[0m \u001b[36mstep\u001b[0m=\u001b[35m370524\u001b[0m\n",
      "\u001b[2m2023-10-22 06:51:04\u001b[0m [\u001b[32m\u001b[1minfo     \u001b[0m] \u001b[1mModel parameters are saved to d3rlpy_logs/exp_5_dynamics_reacher_symmetry_20231022035204/model_370524.pt\u001b[0m\n"
     ]
    },
    {
     "data": {
      "application/vnd.jupyter.widget-view+json": {
       "model_id": "33302c1661aa4bff9a8bfffd3fb6d9c5",
       "version_major": 2,
       "version_minor": 0
      },
      "text/plain": [
       "Epoch 78/100:   0%|          | 0/4812 [00:00<?, ?it/s]"
      ]
     },
     "metadata": {},
     "output_type": "display_data"
    },
    {
     "name": "stdout",
     "output_type": "stream",
     "text": [
      "\u001b[2m2023-10-22 06:53:24\u001b[0m [\u001b[32m\u001b[1minfo     \u001b[0m] \u001b[1mexp_5_dynamics_reacher_symmetry_20231022035204: epoch=78 step=375336\u001b[0m \u001b[36mepoch\u001b[0m=\u001b[35m78\u001b[0m \u001b[36mmetrics\u001b[0m=\u001b[35m{'time_sample_batch': 0.0002480290477115317, 'time_algorithm_update': 0.01748984630962064, 'loss': -142.2959038354116, 'time_step': 0.01781139756279594, 'observation_error': 0.10602839487181741, 'reward_error': 1.3225786793784082e-05, 'variance': 0.050262936157878677}\u001b[0m \u001b[36mstep\u001b[0m=\u001b[35m375336\u001b[0m\n",
      "\u001b[2m2023-10-22 06:53:24\u001b[0m [\u001b[32m\u001b[1minfo     \u001b[0m] \u001b[1mModel parameters are saved to d3rlpy_logs/exp_5_dynamics_reacher_symmetry_20231022035204/model_375336.pt\u001b[0m\n"
     ]
    },
    {
     "data": {
      "application/vnd.jupyter.widget-view+json": {
       "model_id": "c7e4e77108d94a4391553e0ea642f984",
       "version_major": 2,
       "version_minor": 0
      },
      "text/plain": [
       "Epoch 79/100:   0%|          | 0/4812 [00:00<?, ?it/s]"
      ]
     },
     "metadata": {},
     "output_type": "display_data"
    },
    {
     "name": "stdout",
     "output_type": "stream",
     "text": [
      "\u001b[2m2023-10-22 06:55:43\u001b[0m [\u001b[32m\u001b[1minfo     \u001b[0m] \u001b[1mexp_5_dynamics_reacher_symmetry_20231022035204: epoch=79 step=380148\u001b[0m \u001b[36mepoch\u001b[0m=\u001b[35m79\u001b[0m \u001b[36mmetrics\u001b[0m=\u001b[35m{'time_sample_batch': 0.00024996543069333706, 'time_algorithm_update': 0.0174885294086618, 'loss': -141.97494674620782, 'time_step': 0.017812046227807913, 'observation_error': 0.12132276257052851, 'reward_error': 1.5422197813403203e-05, 'variance': 0.08707124170580854}\u001b[0m \u001b[36mstep\u001b[0m=\u001b[35m380148\u001b[0m\n",
      "\u001b[2m2023-10-22 06:55:43\u001b[0m [\u001b[32m\u001b[1minfo     \u001b[0m] \u001b[1mModel parameters are saved to d3rlpy_logs/exp_5_dynamics_reacher_symmetry_20231022035204/model_380148.pt\u001b[0m\n"
     ]
    },
    {
     "data": {
      "application/vnd.jupyter.widget-view+json": {
       "model_id": "9cb7e8b1440c4266a687f720b87dfa03",
       "version_major": 2,
       "version_minor": 0
      },
      "text/plain": [
       "Epoch 80/100:   0%|          | 0/4812 [00:00<?, ?it/s]"
      ]
     },
     "metadata": {},
     "output_type": "display_data"
    },
    {
     "name": "stdout",
     "output_type": "stream",
     "text": [
      "\u001b[2m2023-10-22 06:58:02\u001b[0m [\u001b[32m\u001b[1minfo     \u001b[0m] \u001b[1mexp_5_dynamics_reacher_symmetry_20231022035204: epoch=80 step=384960\u001b[0m \u001b[36mepoch\u001b[0m=\u001b[35m80\u001b[0m \u001b[36mmetrics\u001b[0m=\u001b[35m{'time_sample_batch': 0.000246563853567477, 'time_algorithm_update': 0.017462196096418702, 'loss': -142.3100947382444, 'time_step': 0.01778133784545429, 'observation_error': 0.11715145827115664, 'reward_error': 1.3780407358394372e-05, 'variance': 0.06645711657080353}\u001b[0m \u001b[36mstep\u001b[0m=\u001b[35m384960\u001b[0m\n",
      "\u001b[2m2023-10-22 06:58:02\u001b[0m [\u001b[32m\u001b[1minfo     \u001b[0m] \u001b[1mModel parameters are saved to d3rlpy_logs/exp_5_dynamics_reacher_symmetry_20231022035204/model_384960.pt\u001b[0m\n"
     ]
    },
    {
     "data": {
      "application/vnd.jupyter.widget-view+json": {
       "model_id": "5f849d5a0e3949d4ba3091b505cd3836",
       "version_major": 2,
       "version_minor": 0
      },
      "text/plain": [
       "Epoch 81/100:   0%|          | 0/4812 [00:00<?, ?it/s]"
      ]
     },
     "metadata": {},
     "output_type": "display_data"
    },
    {
     "name": "stdout",
     "output_type": "stream",
     "text": [
      "\u001b[2m2023-10-22 07:00:22\u001b[0m [\u001b[32m\u001b[1minfo     \u001b[0m] \u001b[1mexp_5_dynamics_reacher_symmetry_20231022035204: epoch=81 step=389772\u001b[0m \u001b[36mepoch\u001b[0m=\u001b[35m81\u001b[0m \u001b[36mmetrics\u001b[0m=\u001b[35m{'time_sample_batch': 0.0002503480796306607, 'time_algorithm_update': 0.017475266062212506, 'loss': -142.80715787400825, 'time_step': 0.017799613977211866, 'observation_error': 0.10118897714612676, 'reward_error': 1.6704276236085822e-05, 'variance': 0.04604566398599408}\u001b[0m \u001b[36mstep\u001b[0m=\u001b[35m389772\u001b[0m\n",
      "\u001b[2m2023-10-22 07:00:22\u001b[0m [\u001b[32m\u001b[1minfo     \u001b[0m] \u001b[1mModel parameters are saved to d3rlpy_logs/exp_5_dynamics_reacher_symmetry_20231022035204/model_389772.pt\u001b[0m\n"
     ]
    },
    {
     "data": {
      "application/vnd.jupyter.widget-view+json": {
       "model_id": "d2716fa3d96446b69758c5d332da59d0",
       "version_major": 2,
       "version_minor": 0
      },
      "text/plain": [
       "Epoch 82/100:   0%|          | 0/4812 [00:00<?, ?it/s]"
      ]
     },
     "metadata": {},
     "output_type": "display_data"
    },
    {
     "name": "stdout",
     "output_type": "stream",
     "text": [
      "\u001b[2m2023-10-22 07:02:41\u001b[0m [\u001b[32m\u001b[1minfo     \u001b[0m] \u001b[1mexp_5_dynamics_reacher_symmetry_20231022035204: epoch=82 step=394584\u001b[0m \u001b[36mepoch\u001b[0m=\u001b[35m82\u001b[0m \u001b[36mmetrics\u001b[0m=\u001b[35m{'time_sample_batch': 0.000247117388971825, 'time_algorithm_update': 0.01739511203488408, 'loss': -142.72952687730415, 'time_step': 0.01771600466416661, 'observation_error': 0.11114008228641487, 'reward_error': 1.6714378737820114e-05, 'variance': 0.05091655721273473}\u001b[0m \u001b[36mstep\u001b[0m=\u001b[35m394584\u001b[0m\n",
      "\u001b[2m2023-10-22 07:02:41\u001b[0m [\u001b[32m\u001b[1minfo     \u001b[0m] \u001b[1mModel parameters are saved to d3rlpy_logs/exp_5_dynamics_reacher_symmetry_20231022035204/model_394584.pt\u001b[0m\n"
     ]
    },
    {
     "data": {
      "application/vnd.jupyter.widget-view+json": {
       "model_id": "76627027dffe4f99b6969fac36d836df",
       "version_major": 2,
       "version_minor": 0
      },
      "text/plain": [
       "Epoch 83/100:   0%|          | 0/4812 [00:00<?, ?it/s]"
      ]
     },
     "metadata": {},
     "output_type": "display_data"
    },
    {
     "name": "stdout",
     "output_type": "stream",
     "text": [
      "\u001b[2m2023-10-22 07:05:00\u001b[0m [\u001b[32m\u001b[1minfo     \u001b[0m] \u001b[1mexp_5_dynamics_reacher_symmetry_20231022035204: epoch=83 step=399396\u001b[0m \u001b[36mepoch\u001b[0m=\u001b[35m83\u001b[0m \u001b[36mmetrics\u001b[0m=\u001b[35m{'time_sample_batch': 0.000244512324123113, 'time_algorithm_update': 0.01741256058860202, 'loss': -143.07575892252618, 'time_step': 0.017729524265996437, 'observation_error': 0.11086351178131948, 'reward_error': 1.2071899389417878e-05, 'variance': 0.053287060890748354}\u001b[0m \u001b[36mstep\u001b[0m=\u001b[35m399396\u001b[0m\n",
      "\u001b[2m2023-10-22 07:05:00\u001b[0m [\u001b[32m\u001b[1minfo     \u001b[0m] \u001b[1mModel parameters are saved to d3rlpy_logs/exp_5_dynamics_reacher_symmetry_20231022035204/model_399396.pt\u001b[0m\n"
     ]
    },
    {
     "data": {
      "application/vnd.jupyter.widget-view+json": {
       "model_id": "ff050109d0ad46a49615798a3b88be75",
       "version_major": 2,
       "version_minor": 0
      },
      "text/plain": [
       "Epoch 84/100:   0%|          | 0/4812 [00:00<?, ?it/s]"
      ]
     },
     "metadata": {},
     "output_type": "display_data"
    },
    {
     "name": "stdout",
     "output_type": "stream",
     "text": [
      "\u001b[2m2023-10-22 07:07:19\u001b[0m [\u001b[32m\u001b[1minfo     \u001b[0m] \u001b[1mexp_5_dynamics_reacher_symmetry_20231022035204: epoch=84 step=404208\u001b[0m \u001b[36mepoch\u001b[0m=\u001b[35m84\u001b[0m \u001b[36mmetrics\u001b[0m=\u001b[35m{'time_sample_batch': 0.00024727128093082117, 'time_algorithm_update': 0.017488919093226356, 'loss': -143.18389860987168, 'time_step': 0.017809399444662522, 'observation_error': 0.10704235718769316, 'reward_error': 1.386229494474334e-05, 'variance': 0.05116343496127059}\u001b[0m \u001b[36mstep\u001b[0m=\u001b[35m404208\u001b[0m\n",
      "\u001b[2m2023-10-22 07:07:19\u001b[0m [\u001b[32m\u001b[1minfo     \u001b[0m] \u001b[1mModel parameters are saved to d3rlpy_logs/exp_5_dynamics_reacher_symmetry_20231022035204/model_404208.pt\u001b[0m\n"
     ]
    },
    {
     "data": {
      "application/vnd.jupyter.widget-view+json": {
       "model_id": "74ea5305b00a4cab951ef0c2a2f92188",
       "version_major": 2,
       "version_minor": 0
      },
      "text/plain": [
       "Epoch 85/100:   0%|          | 0/4812 [00:00<?, ?it/s]"
      ]
     },
     "metadata": {},
     "output_type": "display_data"
    },
    {
     "name": "stdout",
     "output_type": "stream",
     "text": [
      "\u001b[2m2023-10-22 07:09:43\u001b[0m [\u001b[32m\u001b[1minfo     \u001b[0m] \u001b[1mexp_5_dynamics_reacher_symmetry_20231022035204: epoch=85 step=409020\u001b[0m \u001b[36mepoch\u001b[0m=\u001b[35m85\u001b[0m \u001b[36mmetrics\u001b[0m=\u001b[35m{'time_sample_batch': 0.00025328307575913934, 'time_algorithm_update': 0.017470715745527946, 'loss': -142.66337686524426, 'time_step': 0.017798460134346092, 'observation_error': 0.1031737437266018, 'reward_error': 1.3078081109472926e-05, 'variance': 0.0450235387887358}\u001b[0m \u001b[36mstep\u001b[0m=\u001b[35m409020\u001b[0m\n",
      "\u001b[2m2023-10-22 07:09:43\u001b[0m [\u001b[32m\u001b[1minfo     \u001b[0m] \u001b[1mModel parameters are saved to d3rlpy_logs/exp_5_dynamics_reacher_symmetry_20231022035204/model_409020.pt\u001b[0m\n"
     ]
    },
    {
     "data": {
      "application/vnd.jupyter.widget-view+json": {
       "model_id": "da46679300a04b48a3550531a3fe5a10",
       "version_major": 2,
       "version_minor": 0
      },
      "text/plain": [
       "Epoch 86/100:   0%|          | 0/4812 [00:00<?, ?it/s]"
      ]
     },
     "metadata": {},
     "output_type": "display_data"
    },
    {
     "name": "stdout",
     "output_type": "stream",
     "text": [
      "\u001b[2m2023-10-22 07:12:02\u001b[0m [\u001b[32m\u001b[1minfo     \u001b[0m] \u001b[1mexp_5_dynamics_reacher_symmetry_20231022035204: epoch=86 step=413832\u001b[0m \u001b[36mepoch\u001b[0m=\u001b[35m86\u001b[0m \u001b[36mmetrics\u001b[0m=\u001b[35m{'time_sample_batch': 0.00025133118466942486, 'time_algorithm_update': 0.01744479570206462, 'loss': -143.22606627106765, 'time_step': 0.017770208969576005, 'observation_error': 0.10372719322468497, 'reward_error': 1.2583474826404403e-05, 'variance': 0.05474164868669267}\u001b[0m \u001b[36mstep\u001b[0m=\u001b[35m413832\u001b[0m\n",
      "\u001b[2m2023-10-22 07:12:02\u001b[0m [\u001b[32m\u001b[1minfo     \u001b[0m] \u001b[1mModel parameters are saved to d3rlpy_logs/exp_5_dynamics_reacher_symmetry_20231022035204/model_413832.pt\u001b[0m\n"
     ]
    },
    {
     "data": {
      "application/vnd.jupyter.widget-view+json": {
       "model_id": "af821331896140908cb8cc84b7aead1b",
       "version_major": 2,
       "version_minor": 0
      },
      "text/plain": [
       "Epoch 87/100:   0%|          | 0/4812 [00:00<?, ?it/s]"
      ]
     },
     "metadata": {},
     "output_type": "display_data"
    },
    {
     "name": "stdout",
     "output_type": "stream",
     "text": [
      "\u001b[2m2023-10-22 07:14:19\u001b[0m [\u001b[32m\u001b[1minfo     \u001b[0m] \u001b[1mexp_5_dynamics_reacher_symmetry_20231022035204: epoch=87 step=418644\u001b[0m \u001b[36mepoch\u001b[0m=\u001b[35m87\u001b[0m \u001b[36mmetrics\u001b[0m=\u001b[35m{'time_sample_batch': 0.00024839633718095813, 'time_algorithm_update': 0.017219980805492956, 'loss': -143.3165144625051, 'time_step': 0.017541455162235427, 'observation_error': 0.1122402673256669, 'reward_error': 1.2972087543502802e-05, 'variance': 0.05616673368265919}\u001b[0m \u001b[36mstep\u001b[0m=\u001b[35m418644\u001b[0m\n",
      "\u001b[2m2023-10-22 07:14:19\u001b[0m [\u001b[32m\u001b[1minfo     \u001b[0m] \u001b[1mModel parameters are saved to d3rlpy_logs/exp_5_dynamics_reacher_symmetry_20231022035204/model_418644.pt\u001b[0m\n"
     ]
    },
    {
     "data": {
      "application/vnd.jupyter.widget-view+json": {
       "model_id": "efb95c4854fe4723acd373510a88c0dd",
       "version_major": 2,
       "version_minor": 0
      },
      "text/plain": [
       "Epoch 88/100:   0%|          | 0/4812 [00:00<?, ?it/s]"
      ]
     },
     "metadata": {},
     "output_type": "display_data"
    },
    {
     "name": "stdout",
     "output_type": "stream",
     "text": [
      "\u001b[2m2023-10-22 07:16:37\u001b[0m [\u001b[32m\u001b[1minfo     \u001b[0m] \u001b[1mexp_5_dynamics_reacher_symmetry_20231022035204: epoch=88 step=423456\u001b[0m \u001b[36mepoch\u001b[0m=\u001b[35m88\u001b[0m \u001b[36mmetrics\u001b[0m=\u001b[35m{'time_sample_batch': 0.0002501904221246962, 'time_algorithm_update': 0.017168082550774986, 'loss': -143.69036142447544, 'time_step': 0.017491554084264133, 'observation_error': 0.10688189728873515, 'reward_error': 1.1212286180868068e-05, 'variance': 0.05180413105643056}\u001b[0m \u001b[36mstep\u001b[0m=\u001b[35m423456\u001b[0m\n",
      "\u001b[2m2023-10-22 07:16:37\u001b[0m [\u001b[32m\u001b[1minfo     \u001b[0m] \u001b[1mModel parameters are saved to d3rlpy_logs/exp_5_dynamics_reacher_symmetry_20231022035204/model_423456.pt\u001b[0m\n"
     ]
    },
    {
     "data": {
      "application/vnd.jupyter.widget-view+json": {
       "model_id": "3aa53704a8a24da9a22e372fbd561206",
       "version_major": 2,
       "version_minor": 0
      },
      "text/plain": [
       "Epoch 89/100:   0%|          | 0/4812 [00:00<?, ?it/s]"
      ]
     },
     "metadata": {},
     "output_type": "display_data"
    },
    {
     "name": "stdout",
     "output_type": "stream",
     "text": [
      "\u001b[2m2023-10-22 07:18:55\u001b[0m [\u001b[32m\u001b[1minfo     \u001b[0m] \u001b[1mexp_5_dynamics_reacher_symmetry_20231022035204: epoch=89 step=428268\u001b[0m \u001b[36mepoch\u001b[0m=\u001b[35m89\u001b[0m \u001b[36mmetrics\u001b[0m=\u001b[35m{'time_sample_batch': 0.0002496160275720103, 'time_algorithm_update': 0.017197944428260784, 'loss': -144.07899454763702, 'time_step': 0.017521065518148523, 'observation_error': 0.1228909912596739, 'reward_error': 1.3745462122087765e-05, 'variance': 0.0780776499561207}\u001b[0m \u001b[36mstep\u001b[0m=\u001b[35m428268\u001b[0m\n",
      "\u001b[2m2023-10-22 07:18:55\u001b[0m [\u001b[32m\u001b[1minfo     \u001b[0m] \u001b[1mModel parameters are saved to d3rlpy_logs/exp_5_dynamics_reacher_symmetry_20231022035204/model_428268.pt\u001b[0m\n"
     ]
    },
    {
     "data": {
      "application/vnd.jupyter.widget-view+json": {
       "model_id": "0034fb9ba03048fca59b8462773b2c13",
       "version_major": 2,
       "version_minor": 0
      },
      "text/plain": [
       "Epoch 90/100:   0%|          | 0/4812 [00:00<?, ?it/s]"
      ]
     },
     "metadata": {},
     "output_type": "display_data"
    },
    {
     "name": "stdout",
     "output_type": "stream",
     "text": [
      "\u001b[2m2023-10-22 07:21:13\u001b[0m [\u001b[32m\u001b[1minfo     \u001b[0m] \u001b[1mexp_5_dynamics_reacher_symmetry_20231022035204: epoch=90 step=433080\u001b[0m \u001b[36mepoch\u001b[0m=\u001b[35m90\u001b[0m \u001b[36mmetrics\u001b[0m=\u001b[35m{'time_sample_batch': 0.0002487985570531831, 'time_algorithm_update': 0.01730387332730757, 'loss': -143.9106572687081, 'time_step': 0.017626100248430338, 'observation_error': 0.10750514734250925, 'reward_error': 1.1971100602062789e-05, 'variance': 0.0472967962851165}\u001b[0m \u001b[36mstep\u001b[0m=\u001b[35m433080\u001b[0m\n",
      "\u001b[2m2023-10-22 07:21:13\u001b[0m [\u001b[32m\u001b[1minfo     \u001b[0m] \u001b[1mModel parameters are saved to d3rlpy_logs/exp_5_dynamics_reacher_symmetry_20231022035204/model_433080.pt\u001b[0m\n"
     ]
    },
    {
     "data": {
      "application/vnd.jupyter.widget-view+json": {
       "model_id": "a082843661c04a279efb8c1b0b389ab4",
       "version_major": 2,
       "version_minor": 0
      },
      "text/plain": [
       "Epoch 91/100:   0%|          | 0/4812 [00:00<?, ?it/s]"
      ]
     },
     "metadata": {},
     "output_type": "display_data"
    },
    {
     "name": "stdout",
     "output_type": "stream",
     "text": [
      "\u001b[2m2023-10-22 07:23:31\u001b[0m [\u001b[32m\u001b[1minfo     \u001b[0m] \u001b[1mexp_5_dynamics_reacher_symmetry_20231022035204: epoch=91 step=437892\u001b[0m \u001b[36mepoch\u001b[0m=\u001b[35m91\u001b[0m \u001b[36mmetrics\u001b[0m=\u001b[35m{'time_sample_batch': 0.0002492648903172113, 'time_algorithm_update': 0.017274312198112533, 'loss': -144.70620179830345, 'time_step': 0.017596026509380896, 'observation_error': 0.1070841690579979, 'reward_error': 1.2681643430450956e-05, 'variance': 0.046915448026853955}\u001b[0m \u001b[36mstep\u001b[0m=\u001b[35m437892\u001b[0m\n",
      "\u001b[2m2023-10-22 07:23:31\u001b[0m [\u001b[32m\u001b[1minfo     \u001b[0m] \u001b[1mModel parameters are saved to d3rlpy_logs/exp_5_dynamics_reacher_symmetry_20231022035204/model_437892.pt\u001b[0m\n"
     ]
    },
    {
     "data": {
      "application/vnd.jupyter.widget-view+json": {
       "model_id": "386bd4bca2594062a7eed0030c7b637e",
       "version_major": 2,
       "version_minor": 0
      },
      "text/plain": [
       "Epoch 92/100:   0%|          | 0/4812 [00:00<?, ?it/s]"
      ]
     },
     "metadata": {},
     "output_type": "display_data"
    },
    {
     "name": "stdout",
     "output_type": "stream",
     "text": [
      "\u001b[2m2023-10-22 07:25:50\u001b[0m [\u001b[32m\u001b[1minfo     \u001b[0m] \u001b[1mexp_5_dynamics_reacher_symmetry_20231022035204: epoch=92 step=442704\u001b[0m \u001b[36mepoch\u001b[0m=\u001b[35m92\u001b[0m \u001b[36mmetrics\u001b[0m=\u001b[35m{'time_sample_batch': 0.0002513302928293534, 'time_algorithm_update': 0.01727763093320509, 'loss': -144.37813333739663, 'time_step': 0.017602839969340107, 'observation_error': 0.1098068544128226, 'reward_error': 1.0384303617321242e-05, 'variance': 0.06284035516097672}\u001b[0m \u001b[36mstep\u001b[0m=\u001b[35m442704\u001b[0m\n",
      "\u001b[2m2023-10-22 07:25:50\u001b[0m [\u001b[32m\u001b[1minfo     \u001b[0m] \u001b[1mModel parameters are saved to d3rlpy_logs/exp_5_dynamics_reacher_symmetry_20231022035204/model_442704.pt\u001b[0m\n"
     ]
    },
    {
     "data": {
      "application/vnd.jupyter.widget-view+json": {
       "model_id": "70fa9bfbc8d44f5b86d6ca2572814fab",
       "version_major": 2,
       "version_minor": 0
      },
      "text/plain": [
       "Epoch 93/100:   0%|          | 0/4812 [00:00<?, ?it/s]"
      ]
     },
     "metadata": {},
     "output_type": "display_data"
    },
    {
     "name": "stdout",
     "output_type": "stream",
     "text": [
      "\u001b[2m2023-10-22 07:28:08\u001b[0m [\u001b[32m\u001b[1minfo     \u001b[0m] \u001b[1mexp_5_dynamics_reacher_symmetry_20231022035204: epoch=93 step=447516\u001b[0m \u001b[36mepoch\u001b[0m=\u001b[35m93\u001b[0m \u001b[36mmetrics\u001b[0m=\u001b[35m{'time_sample_batch': 0.00024782015894812934, 'time_algorithm_update': 0.01730665557105048, 'loss': -143.87727495163358, 'time_step': 0.017627663297248897, 'observation_error': 0.10554438844110432, 'reward_error': 1.1565318177815589e-05, 'variance': 0.05162250339876627}\u001b[0m \u001b[36mstep\u001b[0m=\u001b[35m447516\u001b[0m\n",
      "\u001b[2m2023-10-22 07:28:08\u001b[0m [\u001b[32m\u001b[1minfo     \u001b[0m] \u001b[1mModel parameters are saved to d3rlpy_logs/exp_5_dynamics_reacher_symmetry_20231022035204/model_447516.pt\u001b[0m\n"
     ]
    },
    {
     "data": {
      "application/vnd.jupyter.widget-view+json": {
       "model_id": "4d078c6eee264b9dabe596805066f933",
       "version_major": 2,
       "version_minor": 0
      },
      "text/plain": [
       "Epoch 94/100:   0%|          | 0/4812 [00:00<?, ?it/s]"
      ]
     },
     "metadata": {},
     "output_type": "display_data"
    },
    {
     "name": "stdout",
     "output_type": "stream",
     "text": [
      "\u001b[2m2023-10-22 07:30:25\u001b[0m [\u001b[32m\u001b[1minfo     \u001b[0m] \u001b[1mexp_5_dynamics_reacher_symmetry_20231022035204: epoch=94 step=452328\u001b[0m \u001b[36mepoch\u001b[0m=\u001b[35m94\u001b[0m \u001b[36mmetrics\u001b[0m=\u001b[35m{'time_sample_batch': 0.000250679695497229, 'time_algorithm_update': 0.017178010762183744, 'loss': -144.088160403847, 'time_step': 0.017501795182897958, 'observation_error': 0.11172847478807955, 'reward_error': 1.3682002081584226e-05, 'variance': 0.05975097935957992}\u001b[0m \u001b[36mstep\u001b[0m=\u001b[35m452328\u001b[0m\n",
      "\u001b[2m2023-10-22 07:30:25\u001b[0m [\u001b[32m\u001b[1minfo     \u001b[0m] \u001b[1mModel parameters are saved to d3rlpy_logs/exp_5_dynamics_reacher_symmetry_20231022035204/model_452328.pt\u001b[0m\n"
     ]
    },
    {
     "data": {
      "application/vnd.jupyter.widget-view+json": {
       "model_id": "739bf01a1e5c42f2bf83a8998a74f271",
       "version_major": 2,
       "version_minor": 0
      },
      "text/plain": [
       "Epoch 95/100:   0%|          | 0/4812 [00:00<?, ?it/s]"
      ]
     },
     "metadata": {},
     "output_type": "display_data"
    },
    {
     "name": "stdout",
     "output_type": "stream",
     "text": [
      "\u001b[2m2023-10-22 07:32:44\u001b[0m [\u001b[32m\u001b[1minfo     \u001b[0m] \u001b[1mexp_5_dynamics_reacher_symmetry_20231022035204: epoch=95 step=457140\u001b[0m \u001b[36mepoch\u001b[0m=\u001b[35m95\u001b[0m \u001b[36mmetrics\u001b[0m=\u001b[35m{'time_sample_batch': 0.0002466193953852602, 'time_algorithm_update': 0.017224863431697473, 'loss': -144.29069175585448, 'time_step': 0.017544237851898372, 'observation_error': 0.11433844456361571, 'reward_error': 1.0066461821553304e-05, 'variance': 0.05741431296176043}\u001b[0m \u001b[36mstep\u001b[0m=\u001b[35m457140\u001b[0m\n",
      "\u001b[2m2023-10-22 07:32:44\u001b[0m [\u001b[32m\u001b[1minfo     \u001b[0m] \u001b[1mModel parameters are saved to d3rlpy_logs/exp_5_dynamics_reacher_symmetry_20231022035204/model_457140.pt\u001b[0m\n"
     ]
    },
    {
     "data": {
      "application/vnd.jupyter.widget-view+json": {
       "model_id": "97513a401e414cc1888d159d7923df09",
       "version_major": 2,
       "version_minor": 0
      },
      "text/plain": [
       "Epoch 96/100:   0%|          | 0/4812 [00:00<?, ?it/s]"
      ]
     },
     "metadata": {},
     "output_type": "display_data"
    },
    {
     "name": "stdout",
     "output_type": "stream",
     "text": [
      "\u001b[2m2023-10-22 07:35:01\u001b[0m [\u001b[32m\u001b[1minfo     \u001b[0m] \u001b[1mexp_5_dynamics_reacher_symmetry_20231022035204: epoch=96 step=461952\u001b[0m \u001b[36mepoch\u001b[0m=\u001b[35m96\u001b[0m \u001b[36mmetrics\u001b[0m=\u001b[35m{'time_sample_batch': 0.0002494710540137287, 'time_algorithm_update': 0.01726582757849943, 'loss': -144.62441059399524, 'time_step': 0.01758838651186213, 'observation_error': 0.10776990364610449, 'reward_error': 1.079704290490591e-05, 'variance': 0.05127790669230767}\u001b[0m \u001b[36mstep\u001b[0m=\u001b[35m461952\u001b[0m\n",
      "\u001b[2m2023-10-22 07:35:01\u001b[0m [\u001b[32m\u001b[1minfo     \u001b[0m] \u001b[1mModel parameters are saved to d3rlpy_logs/exp_5_dynamics_reacher_symmetry_20231022035204/model_461952.pt\u001b[0m\n"
     ]
    },
    {
     "data": {
      "application/vnd.jupyter.widget-view+json": {
       "model_id": "951d8f3908ae45558c89535df528c83a",
       "version_major": 2,
       "version_minor": 0
      },
      "text/plain": [
       "Epoch 97/100:   0%|          | 0/4812 [00:00<?, ?it/s]"
      ]
     },
     "metadata": {},
     "output_type": "display_data"
    },
    {
     "name": "stdout",
     "output_type": "stream",
     "text": [
      "\u001b[2m2023-10-22 07:37:19\u001b[0m [\u001b[32m\u001b[1minfo     \u001b[0m] \u001b[1mexp_5_dynamics_reacher_symmetry_20231022035204: epoch=97 step=466764\u001b[0m \u001b[36mepoch\u001b[0m=\u001b[35m97\u001b[0m \u001b[36mmetrics\u001b[0m=\u001b[35m{'time_sample_batch': 0.00025307240331559405, 'time_algorithm_update': 0.017219657563013725, 'loss': -145.11906330761866, 'time_step': 0.017546049426816843, 'observation_error': 0.10968400174606738, 'reward_error': 9.59775482172352e-06, 'variance': 0.05546432445434633}\u001b[0m \u001b[36mstep\u001b[0m=\u001b[35m466764\u001b[0m\n",
      "\u001b[2m2023-10-22 07:37:19\u001b[0m [\u001b[32m\u001b[1minfo     \u001b[0m] \u001b[1mModel parameters are saved to d3rlpy_logs/exp_5_dynamics_reacher_symmetry_20231022035204/model_466764.pt\u001b[0m\n"
     ]
    },
    {
     "data": {
      "application/vnd.jupyter.widget-view+json": {
       "model_id": "007751c50c8d45fbaf2e866cfccc864b",
       "version_major": 2,
       "version_minor": 0
      },
      "text/plain": [
       "Epoch 98/100:   0%|          | 0/4812 [00:00<?, ?it/s]"
      ]
     },
     "metadata": {},
     "output_type": "display_data"
    },
    {
     "name": "stdout",
     "output_type": "stream",
     "text": [
      "\u001b[2m2023-10-22 07:39:36\u001b[0m [\u001b[32m\u001b[1minfo     \u001b[0m] \u001b[1mexp_5_dynamics_reacher_symmetry_20231022035204: epoch=98 step=471576\u001b[0m \u001b[36mepoch\u001b[0m=\u001b[35m98\u001b[0m \u001b[36mmetrics\u001b[0m=\u001b[35m{'time_sample_batch': 0.00025303405419252164, 'time_algorithm_update': 0.01711757967894214, 'loss': -145.36802277759224, 'time_step': 0.017444336255787812, 'observation_error': 0.10252341247620522, 'reward_error': 9.495355487608349e-06, 'variance': 0.0482074690423822}\u001b[0m \u001b[36mstep\u001b[0m=\u001b[35m471576\u001b[0m\n",
      "\u001b[2m2023-10-22 07:39:37\u001b[0m [\u001b[32m\u001b[1minfo     \u001b[0m] \u001b[1mModel parameters are saved to d3rlpy_logs/exp_5_dynamics_reacher_symmetry_20231022035204/model_471576.pt\u001b[0m\n"
     ]
    },
    {
     "data": {
      "application/vnd.jupyter.widget-view+json": {
       "model_id": "8317d89b68aa474a9e04fcb7e8226626",
       "version_major": 2,
       "version_minor": 0
      },
      "text/plain": [
       "Epoch 99/100:   0%|          | 0/4812 [00:00<?, ?it/s]"
      ]
     },
     "metadata": {},
     "output_type": "display_data"
    },
    {
     "name": "stdout",
     "output_type": "stream",
     "text": [
      "\u001b[2m2023-10-22 07:41:54\u001b[0m [\u001b[32m\u001b[1minfo     \u001b[0m] \u001b[1mexp_5_dynamics_reacher_symmetry_20231022035204: epoch=99 step=476388\u001b[0m \u001b[36mepoch\u001b[0m=\u001b[35m99\u001b[0m \u001b[36mmetrics\u001b[0m=\u001b[35m{'time_sample_batch': 0.0002472426429551934, 'time_algorithm_update': 0.01725166590136483, 'loss': -144.83246143401314, 'time_step': 0.017571693792604745, 'observation_error': 0.10510752879228889, 'reward_error': 1.0839389921691593e-05, 'variance': 0.05086065984891257}\u001b[0m \u001b[36mstep\u001b[0m=\u001b[35m476388\u001b[0m\n",
      "\u001b[2m2023-10-22 07:41:54\u001b[0m [\u001b[32m\u001b[1minfo     \u001b[0m] \u001b[1mModel parameters are saved to d3rlpy_logs/exp_5_dynamics_reacher_symmetry_20231022035204/model_476388.pt\u001b[0m\n"
     ]
    },
    {
     "data": {
      "application/vnd.jupyter.widget-view+json": {
       "model_id": "c0cd496ea3154249b18797235a945d80",
       "version_major": 2,
       "version_minor": 0
      },
      "text/plain": [
       "Epoch 100/100:   0%|          | 0/4812 [00:00<?, ?it/s]"
      ]
     },
     "metadata": {},
     "output_type": "display_data"
    },
    {
     "name": "stdout",
     "output_type": "stream",
     "text": [
      "\u001b[2m2023-10-22 07:44:11\u001b[0m [\u001b[32m\u001b[1minfo     \u001b[0m] \u001b[1mexp_5_dynamics_reacher_symmetry_20231022035204: epoch=100 step=481200\u001b[0m \u001b[36mepoch\u001b[0m=\u001b[35m100\u001b[0m \u001b[36mmetrics\u001b[0m=\u001b[35m{'time_sample_batch': 0.00024871853918010555, 'time_algorithm_update': 0.017212223877831487, 'loss': -145.5137870194807, 'time_step': 0.017534719986015822, 'observation_error': 0.10675487597471463, 'reward_error': 1.0083300210606608e-05, 'variance': 0.04844209633289091}\u001b[0m \u001b[36mstep\u001b[0m=\u001b[35m481200\u001b[0m\n",
      "\u001b[2m2023-10-22 07:44:12\u001b[0m [\u001b[32m\u001b[1minfo     \u001b[0m] \u001b[1mModel parameters are saved to d3rlpy_logs/exp_5_dynamics_reacher_symmetry_20231022035204/model_481200.pt\u001b[0m\n",
      "\u001b[2m2023-10-22 07:44:12\u001b[0m [\u001b[32m\u001b[1mdebug    \u001b[0m] \u001b[1mRoundIterator is selected.\u001b[0m\n",
      "\u001b[2m2023-10-22 07:44:12\u001b[0m [\u001b[32m\u001b[1minfo     \u001b[0m] \u001b[1mDirectory is created at d3rlpy_logs/exp_5_dynamics_reacher_default_20231022074412\u001b[0m\n",
      "\u001b[2m2023-10-22 07:44:12\u001b[0m [\u001b[32m\u001b[1mdebug    \u001b[0m] \u001b[1mBuilding models...\u001b[0m\n",
      "\u001b[2m2023-10-22 07:44:12\u001b[0m [\u001b[32m\u001b[1mdebug    \u001b[0m] \u001b[1mModels have been built.\u001b[0m\n",
      "\u001b[2m2023-10-22 07:44:12\u001b[0m [\u001b[32m\u001b[1minfo     \u001b[0m] \u001b[1mParameters are saved to d3rlpy_logs/exp_5_dynamics_reacher_default_20231022074412/params.json\u001b[0m \u001b[36mparams\u001b[0m=\u001b[35m{'action_scaler': None, 'batch_size': 100, 'discrete_action': False, 'gamma': 1.0, 'generated_maxlen': 100000, 'learning_rate': 0.0001, 'n_ensembles': 5, 'n_frames': 1, 'n_steps': 1, 'optim_factory': {'optim_cls': 'Adam', 'betas': (0.9, 0.999), 'eps': 1e-08, 'weight_decay': 0.0001, 'amsgrad': False}, 'real_ratio': 1.0, 'reward_encoder_factory': {'type': 'default', 'params': {'activation': 'relu', 'use_batch_norm': False, 'dropout_rate': None}}, 'reward_scaler': None, 'scaler': None, 'state_encoder_factory': {'type': 'default', 'params': {'activation': 'relu', 'use_batch_norm': False, 'dropout_rate': None}}, 'use_gpu': 0, 'variance_type': 'max', 'algorithm': 'ProbabilisticEnsembleDynamics', 'observation_shape': (8,), 'action_size': 2}\u001b[0m\n"
     ]
    },
    {
     "data": {
      "application/vnd.jupyter.widget-view+json": {
       "model_id": "4840c0c93d3d46ef9f43b069358498c3",
       "version_major": 2,
       "version_minor": 0
      },
      "text/plain": [
       "Epoch 1/100:   0%|          | 0/4812 [00:00<?, ?it/s]"
      ]
     },
     "metadata": {},
     "output_type": "display_data"
    },
    {
     "name": "stdout",
     "output_type": "stream",
     "text": [
      "\u001b[2m2023-10-22 07:46:24\u001b[0m [\u001b[32m\u001b[1minfo     \u001b[0m] \u001b[1mexp_5_dynamics_reacher_default_20231022074412: epoch=1 step=4812\u001b[0m \u001b[36mepoch\u001b[0m=\u001b[35m1\u001b[0m \u001b[36mmetrics\u001b[0m=\u001b[35m{'time_sample_batch': 0.00025663233160080754, 'time_algorithm_update': 0.016473395816504907, 'loss': 8.30896885546601, 'time_step': 0.01681904325065074, 'observation_error': 1.7282812089203425, 'reward_error': 0.03628989785605075, 'variance': 1.262460495924966}\u001b[0m \u001b[36mstep\u001b[0m=\u001b[35m4812\u001b[0m\n",
      "\u001b[2m2023-10-22 07:46:24\u001b[0m [\u001b[32m\u001b[1minfo     \u001b[0m] \u001b[1mModel parameters are saved to d3rlpy_logs/exp_5_dynamics_reacher_default_20231022074412/model_4812.pt\u001b[0m\n"
     ]
    },
    {
     "data": {
      "application/vnd.jupyter.widget-view+json": {
       "model_id": "a4935fac13fe471aa316b1879f164f1c",
       "version_major": 2,
       "version_minor": 0
      },
      "text/plain": [
       "Epoch 2/100:   0%|          | 0/4812 [00:00<?, ?it/s]"
      ]
     },
     "metadata": {},
     "output_type": "display_data"
    },
    {
     "name": "stdout",
     "output_type": "stream",
     "text": [
      "\u001b[2m2023-10-22 07:48:38\u001b[0m [\u001b[32m\u001b[1minfo     \u001b[0m] \u001b[1mexp_5_dynamics_reacher_default_20231022074412: epoch=2 step=9624\u001b[0m \u001b[36mepoch\u001b[0m=\u001b[35m2\u001b[0m \u001b[36mmetrics\u001b[0m=\u001b[35m{'time_sample_batch': 0.00025142155779666535, 'time_algorithm_update': 0.016948211520092744, 'loss': -33.70267205607961, 'time_step': 0.01728041258238795, 'observation_error': 1.2568154662449058, 'reward_error': 0.013665085121010005, 'variance': 0.7799274178904478}\u001b[0m \u001b[36mstep\u001b[0m=\u001b[35m9624\u001b[0m\n",
      "\u001b[2m2023-10-22 07:48:38\u001b[0m [\u001b[32m\u001b[1minfo     \u001b[0m] \u001b[1mModel parameters are saved to d3rlpy_logs/exp_5_dynamics_reacher_default_20231022074412/model_9624.pt\u001b[0m\n"
     ]
    },
    {
     "data": {
      "application/vnd.jupyter.widget-view+json": {
       "model_id": "7ca4784ee08f4a8a8320477a83b4f600",
       "version_major": 2,
       "version_minor": 0
      },
      "text/plain": [
       "Epoch 3/100:   0%|          | 0/4812 [00:00<?, ?it/s]"
      ]
     },
     "metadata": {},
     "output_type": "display_data"
    },
    {
     "name": "stdout",
     "output_type": "stream",
     "text": [
      "\u001b[2m2023-10-22 07:50:52\u001b[0m [\u001b[32m\u001b[1minfo     \u001b[0m] \u001b[1mexp_5_dynamics_reacher_default_20231022074412: epoch=3 step=14436\u001b[0m \u001b[36mepoch\u001b[0m=\u001b[35m3\u001b[0m \u001b[36mmetrics\u001b[0m=\u001b[35m{'time_sample_batch': 0.00024889794767447935, 'time_algorithm_update': 0.016904370247673613, 'loss': -61.81366618583327, 'time_step': 0.017232847233563785, 'observation_error': 1.1426997479010004, 'reward_error': 0.004954715970867182, 'variance': 0.6503738651279127}\u001b[0m \u001b[36mstep\u001b[0m=\u001b[35m14436\u001b[0m\n",
      "\u001b[2m2023-10-22 07:50:52\u001b[0m [\u001b[32m\u001b[1minfo     \u001b[0m] \u001b[1mModel parameters are saved to d3rlpy_logs/exp_5_dynamics_reacher_default_20231022074412/model_14436.pt\u001b[0m\n"
     ]
    },
    {
     "data": {
      "application/vnd.jupyter.widget-view+json": {
       "model_id": "72745d60b4ea4a5eb929754662eb0f36",
       "version_major": 2,
       "version_minor": 0
      },
      "text/plain": [
       "Epoch 4/100:   0%|          | 0/4812 [00:00<?, ?it/s]"
      ]
     },
     "metadata": {},
     "output_type": "display_data"
    },
    {
     "name": "stdout",
     "output_type": "stream",
     "text": [
      "\u001b[2m2023-10-22 07:53:05\u001b[0m [\u001b[32m\u001b[1minfo     \u001b[0m] \u001b[1mexp_5_dynamics_reacher_default_20231022074412: epoch=4 step=19248\u001b[0m \u001b[36mepoch\u001b[0m=\u001b[35m4\u001b[0m \u001b[36mmetrics\u001b[0m=\u001b[35m{'time_sample_batch': 0.0002495815926359181, 'time_algorithm_update': 0.016801584391225307, 'loss': -84.10795435663668, 'time_step': 0.017124232013128442, 'observation_error': 1.0669236525288956, 'reward_error': 0.003005293925529324, 'variance': 0.5906684076977031}\u001b[0m \u001b[36mstep\u001b[0m=\u001b[35m19248\u001b[0m\n",
      "\u001b[2m2023-10-22 07:53:05\u001b[0m [\u001b[32m\u001b[1minfo     \u001b[0m] \u001b[1mModel parameters are saved to d3rlpy_logs/exp_5_dynamics_reacher_default_20231022074412/model_19248.pt\u001b[0m\n"
     ]
    },
    {
     "data": {
      "application/vnd.jupyter.widget-view+json": {
       "model_id": "be8e0467d7cd4576864917ca845d8035",
       "version_major": 2,
       "version_minor": 0
      },
      "text/plain": [
       "Epoch 5/100:   0%|          | 0/4812 [00:00<?, ?it/s]"
      ]
     },
     "metadata": {},
     "output_type": "display_data"
    },
    {
     "name": "stdout",
     "output_type": "stream",
     "text": [
      "\u001b[2m2023-10-22 07:55:18\u001b[0m [\u001b[32m\u001b[1minfo     \u001b[0m] \u001b[1mexp_5_dynamics_reacher_default_20231022074412: epoch=5 step=24060\u001b[0m \u001b[36mepoch\u001b[0m=\u001b[35m5\u001b[0m \u001b[36mmetrics\u001b[0m=\u001b[35m{'time_sample_batch': 0.00024450593260260094, 'time_algorithm_update': 0.01682943819169689, 'loss': -93.35295606154952, 'time_step': 0.017147266854867275, 'observation_error': 1.04354243958213, 'reward_error': 0.001972698804024689, 'variance': 0.60232378797743}\u001b[0m \u001b[36mstep\u001b[0m=\u001b[35m24060\u001b[0m\n",
      "\u001b[2m2023-10-22 07:55:18\u001b[0m [\u001b[32m\u001b[1minfo     \u001b[0m] \u001b[1mModel parameters are saved to d3rlpy_logs/exp_5_dynamics_reacher_default_20231022074412/model_24060.pt\u001b[0m\n"
     ]
    },
    {
     "data": {
      "application/vnd.jupyter.widget-view+json": {
       "model_id": "e1438a0fff8d4aa5a419524f8d1b2d1f",
       "version_major": 2,
       "version_minor": 0
      },
      "text/plain": [
       "Epoch 6/100:   0%|          | 0/4812 [00:00<?, ?it/s]"
      ]
     },
     "metadata": {},
     "output_type": "display_data"
    },
    {
     "name": "stdout",
     "output_type": "stream",
     "text": [
      "\u001b[2m2023-10-22 07:57:31\u001b[0m [\u001b[32m\u001b[1minfo     \u001b[0m] \u001b[1mexp_5_dynamics_reacher_default_20231022074412: epoch=6 step=28872\u001b[0m \u001b[36mepoch\u001b[0m=\u001b[35m6\u001b[0m \u001b[36mmetrics\u001b[0m=\u001b[35m{'time_sample_batch': 0.0002478630168182297, 'time_algorithm_update': 0.016924269875187924, 'loss': -97.68625746621555, 'time_step': 0.01724415026598936, 'observation_error': 1.019286733419714, 'reward_error': 0.0014572387667025762, 'variance': 0.5836459575934486}\u001b[0m \u001b[36mstep\u001b[0m=\u001b[35m28872\u001b[0m\n",
      "\u001b[2m2023-10-22 07:57:31\u001b[0m [\u001b[32m\u001b[1minfo     \u001b[0m] \u001b[1mModel parameters are saved to d3rlpy_logs/exp_5_dynamics_reacher_default_20231022074412/model_28872.pt\u001b[0m\n"
     ]
    },
    {
     "data": {
      "application/vnd.jupyter.widget-view+json": {
       "model_id": "91e67e1850064b3dbc8ab775b8c23927",
       "version_major": 2,
       "version_minor": 0
      },
      "text/plain": [
       "Epoch 7/100:   0%|          | 0/4812 [00:00<?, ?it/s]"
      ]
     },
     "metadata": {},
     "output_type": "display_data"
    },
    {
     "name": "stdout",
     "output_type": "stream",
     "text": [
      "\u001b[2m2023-10-22 07:59:44\u001b[0m [\u001b[32m\u001b[1minfo     \u001b[0m] \u001b[1mexp_5_dynamics_reacher_default_20231022074412: epoch=7 step=33684\u001b[0m \u001b[36mepoch\u001b[0m=\u001b[35m7\u001b[0m \u001b[36mmetrics\u001b[0m=\u001b[35m{'time_sample_batch': 0.00024901923792419685, 'time_algorithm_update': 0.016843829319463207, 'loss': -100.81295606560838, 'time_step': 0.017164706044264465, 'observation_error': 0.9980447450306479, 'reward_error': 0.0010856939542870454, 'variance': 0.5483988695603254}\u001b[0m \u001b[36mstep\u001b[0m=\u001b[35m33684\u001b[0m\n",
      "\u001b[2m2023-10-22 07:59:44\u001b[0m [\u001b[32m\u001b[1minfo     \u001b[0m] \u001b[1mModel parameters are saved to d3rlpy_logs/exp_5_dynamics_reacher_default_20231022074412/model_33684.pt\u001b[0m\n"
     ]
    },
    {
     "data": {
      "application/vnd.jupyter.widget-view+json": {
       "model_id": "68961b06f5b2492b8affcf069117fd94",
       "version_major": 2,
       "version_minor": 0
      },
      "text/plain": [
       "Epoch 8/100:   0%|          | 0/4812 [00:00<?, ?it/s]"
      ]
     },
     "metadata": {},
     "output_type": "display_data"
    },
    {
     "name": "stdout",
     "output_type": "stream",
     "text": [
      "\u001b[2m2023-10-22 08:01:57\u001b[0m [\u001b[32m\u001b[1minfo     \u001b[0m] \u001b[1mexp_5_dynamics_reacher_default_20231022074412: epoch=8 step=38496\u001b[0m \u001b[36mepoch\u001b[0m=\u001b[35m8\u001b[0m \u001b[36mmetrics\u001b[0m=\u001b[35m{'time_sample_batch': 0.000247359424457883, 'time_algorithm_update': 0.016825420105348304, 'loss': -103.44854932612215, 'time_step': 0.017143164241898583, 'observation_error': 1.005965581848591, 'reward_error': 0.000829038704856126, 'variance': 0.5605371428963052}\u001b[0m \u001b[36mstep\u001b[0m=\u001b[35m38496\u001b[0m\n",
      "\u001b[2m2023-10-22 08:01:57\u001b[0m [\u001b[32m\u001b[1minfo     \u001b[0m] \u001b[1mModel parameters are saved to d3rlpy_logs/exp_5_dynamics_reacher_default_20231022074412/model_38496.pt\u001b[0m\n"
     ]
    },
    {
     "data": {
      "application/vnd.jupyter.widget-view+json": {
       "model_id": "980fbe8e7f6640399bcae23afebfaa5d",
       "version_major": 2,
       "version_minor": 0
      },
      "text/plain": [
       "Epoch 9/100:   0%|          | 0/4812 [00:00<?, ?it/s]"
      ]
     },
     "metadata": {},
     "output_type": "display_data"
    },
    {
     "name": "stdout",
     "output_type": "stream",
     "text": [
      "\u001b[2m2023-10-22 08:04:10\u001b[0m [\u001b[32m\u001b[1minfo     \u001b[0m] \u001b[1mexp_5_dynamics_reacher_default_20231022074412: epoch=9 step=43308\u001b[0m \u001b[36mepoch\u001b[0m=\u001b[35m9\u001b[0m \u001b[36mmetrics\u001b[0m=\u001b[35m{'time_sample_batch': 0.00024931334696109357, 'time_algorithm_update': 0.01687977324895629, 'loss': -105.69405490719866, 'time_step': 0.017200706209228717, 'observation_error': 0.99807523645757, 'reward_error': 0.0006223694224763354, 'variance': 0.5680732683213072}\u001b[0m \u001b[36mstep\u001b[0m=\u001b[35m43308\u001b[0m\n",
      "\u001b[2m2023-10-22 08:04:10\u001b[0m [\u001b[32m\u001b[1minfo     \u001b[0m] \u001b[1mModel parameters are saved to d3rlpy_logs/exp_5_dynamics_reacher_default_20231022074412/model_43308.pt\u001b[0m\n"
     ]
    },
    {
     "data": {
      "application/vnd.jupyter.widget-view+json": {
       "model_id": "f4788cc0e13749c885b424fef084ce97",
       "version_major": 2,
       "version_minor": 0
      },
      "text/plain": [
       "Epoch 10/100:   0%|          | 0/4812 [00:00<?, ?it/s]"
      ]
     },
     "metadata": {},
     "output_type": "display_data"
    },
    {
     "name": "stdout",
     "output_type": "stream",
     "text": [
      "\u001b[2m2023-10-22 08:06:24\u001b[0m [\u001b[32m\u001b[1minfo     \u001b[0m] \u001b[1mexp_5_dynamics_reacher_default_20231022074412: epoch=10 step=48120\u001b[0m \u001b[36mepoch\u001b[0m=\u001b[35m10\u001b[0m \u001b[36mmetrics\u001b[0m=\u001b[35m{'time_sample_batch': 0.000248659231815354, 'time_algorithm_update': 0.01695465476732896, 'loss': -107.63972355183817, 'time_step': 0.01727397800581909, 'observation_error': 0.9864465213016652, 'reward_error': 0.0005403173696890193, 'variance': 0.563088072021531}\u001b[0m \u001b[36mstep\u001b[0m=\u001b[35m48120\u001b[0m\n",
      "\u001b[2m2023-10-22 08:06:24\u001b[0m [\u001b[32m\u001b[1minfo     \u001b[0m] \u001b[1mModel parameters are saved to d3rlpy_logs/exp_5_dynamics_reacher_default_20231022074412/model_48120.pt\u001b[0m\n"
     ]
    },
    {
     "data": {
      "application/vnd.jupyter.widget-view+json": {
       "model_id": "98b2db19660d4a4db2a7f2d2f7c774ad",
       "version_major": 2,
       "version_minor": 0
      },
      "text/plain": [
       "Epoch 11/100:   0%|          | 0/4812 [00:00<?, ?it/s]"
      ]
     },
     "metadata": {},
     "output_type": "display_data"
    },
    {
     "name": "stdout",
     "output_type": "stream",
     "text": [
      "\u001b[2m2023-10-22 08:08:37\u001b[0m [\u001b[32m\u001b[1minfo     \u001b[0m] \u001b[1mexp_5_dynamics_reacher_default_20231022074412: epoch=11 step=52932\u001b[0m \u001b[36mepoch\u001b[0m=\u001b[35m11\u001b[0m \u001b[36mmetrics\u001b[0m=\u001b[35m{'time_sample_batch': 0.00024616401193544254, 'time_algorithm_update': 0.016871659932092935, 'loss': -109.58649196926, 'time_step': 0.017188476604515578, 'observation_error': 0.9738140219351088, 'reward_error': 0.00046934669974420457, 'variance': 0.5535899227164227}\u001b[0m \u001b[36mstep\u001b[0m=\u001b[35m52932\u001b[0m\n",
      "\u001b[2m2023-10-22 08:08:37\u001b[0m [\u001b[32m\u001b[1minfo     \u001b[0m] \u001b[1mModel parameters are saved to d3rlpy_logs/exp_5_dynamics_reacher_default_20231022074412/model_52932.pt\u001b[0m\n"
     ]
    },
    {
     "data": {
      "application/vnd.jupyter.widget-view+json": {
       "model_id": "5c9df0211a914ba7b8186c35c06a609d",
       "version_major": 2,
       "version_minor": 0
      },
      "text/plain": [
       "Epoch 12/100:   0%|          | 0/4812 [00:00<?, ?it/s]"
      ]
     },
     "metadata": {},
     "output_type": "display_data"
    },
    {
     "name": "stdout",
     "output_type": "stream",
     "text": [
      "\u001b[2m2023-10-22 08:10:50\u001b[0m [\u001b[32m\u001b[1minfo     \u001b[0m] \u001b[1mexp_5_dynamics_reacher_default_20231022074412: epoch=12 step=57744\u001b[0m \u001b[36mepoch\u001b[0m=\u001b[35m12\u001b[0m \u001b[36mmetrics\u001b[0m=\u001b[35m{'time_sample_batch': 0.00025053437511225296, 'time_algorithm_update': 0.01679441325385077, 'loss': -111.08800513330144, 'time_step': 0.0171163110364405, 'observation_error': 0.9588901130924531, 'reward_error': 0.0003965710663196082, 'variance': 0.5493611417253277}\u001b[0m \u001b[36mstep\u001b[0m=\u001b[35m57744\u001b[0m\n",
      "\u001b[2m2023-10-22 08:10:50\u001b[0m [\u001b[32m\u001b[1minfo     \u001b[0m] \u001b[1mModel parameters are saved to d3rlpy_logs/exp_5_dynamics_reacher_default_20231022074412/model_57744.pt\u001b[0m\n"
     ]
    },
    {
     "data": {
      "application/vnd.jupyter.widget-view+json": {
       "model_id": "6ac5c552cd9a4405a9aa155304c591ed",
       "version_major": 2,
       "version_minor": 0
      },
      "text/plain": [
       "Epoch 13/100:   0%|          | 0/4812 [00:00<?, ?it/s]"
      ]
     },
     "metadata": {},
     "output_type": "display_data"
    },
    {
     "name": "stdout",
     "output_type": "stream",
     "text": [
      "\u001b[2m2023-10-22 08:13:04\u001b[0m [\u001b[32m\u001b[1minfo     \u001b[0m] \u001b[1mexp_5_dynamics_reacher_default_20231022074412: epoch=13 step=62556\u001b[0m \u001b[36mepoch\u001b[0m=\u001b[35m13\u001b[0m \u001b[36mmetrics\u001b[0m=\u001b[35m{'time_sample_batch': 0.00024693238170366927, 'time_algorithm_update': 0.01686215881298506, 'loss': -112.8640409709014, 'time_step': 0.01717964491047467, 'observation_error': 0.9342597114748585, 'reward_error': 0.0003385086325187577, 'variance': 0.5356431958544924}\u001b[0m \u001b[36mstep\u001b[0m=\u001b[35m62556\u001b[0m\n",
      "\u001b[2m2023-10-22 08:13:04\u001b[0m [\u001b[32m\u001b[1minfo     \u001b[0m] \u001b[1mModel parameters are saved to d3rlpy_logs/exp_5_dynamics_reacher_default_20231022074412/model_62556.pt\u001b[0m\n"
     ]
    },
    {
     "data": {
      "application/vnd.jupyter.widget-view+json": {
       "model_id": "cd97244294fa4fff98e3effdf9c6a732",
       "version_major": 2,
       "version_minor": 0
      },
      "text/plain": [
       "Epoch 14/100:   0%|          | 0/4812 [00:00<?, ?it/s]"
      ]
     },
     "metadata": {},
     "output_type": "display_data"
    },
    {
     "name": "stdout",
     "output_type": "stream",
     "text": [
      "\u001b[2m2023-10-22 08:15:17\u001b[0m [\u001b[32m\u001b[1minfo     \u001b[0m] \u001b[1mexp_5_dynamics_reacher_default_20231022074412: epoch=14 step=67368\u001b[0m \u001b[36mepoch\u001b[0m=\u001b[35m14\u001b[0m \u001b[36mmetrics\u001b[0m=\u001b[35m{'time_sample_batch': 0.00024296884623945303, 'time_algorithm_update': 0.016915384125729353, 'loss': -114.17438243888164, 'time_step': 0.017228535880471702, 'observation_error': 0.9144418257292953, 'reward_error': 0.00031983295579499457, 'variance': 0.5120079656871178}\u001b[0m \u001b[36mstep\u001b[0m=\u001b[35m67368\u001b[0m\n",
      "\u001b[2m2023-10-22 08:15:18\u001b[0m [\u001b[32m\u001b[1minfo     \u001b[0m] \u001b[1mModel parameters are saved to d3rlpy_logs/exp_5_dynamics_reacher_default_20231022074412/model_67368.pt\u001b[0m\n"
     ]
    },
    {
     "data": {
      "application/vnd.jupyter.widget-view+json": {
       "model_id": "7aa6950e711d4f1c9d827e2a7758dcc5",
       "version_major": 2,
       "version_minor": 0
      },
      "text/plain": [
       "Epoch 15/100:   0%|          | 0/4812 [00:00<?, ?it/s]"
      ]
     },
     "metadata": {},
     "output_type": "display_data"
    },
    {
     "name": "stdout",
     "output_type": "stream",
     "text": [
      "\u001b[2m2023-10-22 08:17:31\u001b[0m [\u001b[32m\u001b[1minfo     \u001b[0m] \u001b[1mexp_5_dynamics_reacher_default_20231022074412: epoch=15 step=72180\u001b[0m \u001b[36mepoch\u001b[0m=\u001b[35m15\u001b[0m \u001b[36mmetrics\u001b[0m=\u001b[35m{'time_sample_batch': 0.000248807970920604, 'time_algorithm_update': 0.016825709755184843, 'loss': -115.31566102050883, 'time_step': 0.01714538403183643, 'observation_error': 0.8812208854293052, 'reward_error': 0.00028248470056108565, 'variance': 0.49414025842437465}\u001b[0m \u001b[36mstep\u001b[0m=\u001b[35m72180\u001b[0m\n",
      "\u001b[2m2023-10-22 08:17:31\u001b[0m [\u001b[32m\u001b[1minfo     \u001b[0m] \u001b[1mModel parameters are saved to d3rlpy_logs/exp_5_dynamics_reacher_default_20231022074412/model_72180.pt\u001b[0m\n"
     ]
    },
    {
     "data": {
      "application/vnd.jupyter.widget-view+json": {
       "model_id": "18177d9f616a4d9289c5f6ab88018da8",
       "version_major": 2,
       "version_minor": 0
      },
      "text/plain": [
       "Epoch 16/100:   0%|          | 0/4812 [00:00<?, ?it/s]"
      ]
     },
     "metadata": {},
     "output_type": "display_data"
    },
    {
     "name": "stdout",
     "output_type": "stream",
     "text": [
      "\u001b[2m2023-10-22 08:19:44\u001b[0m [\u001b[32m\u001b[1minfo     \u001b[0m] \u001b[1mexp_5_dynamics_reacher_default_20231022074412: epoch=16 step=76992\u001b[0m \u001b[36mepoch\u001b[0m=\u001b[35m16\u001b[0m \u001b[36mmetrics\u001b[0m=\u001b[35m{'time_sample_batch': 0.0002479710285602167, 'time_algorithm_update': 0.016932871127663705, 'loss': -116.5779418834328, 'time_step': 0.017251091754545495, 'observation_error': 0.8681150590847385, 'reward_error': 0.00026849939210922145, 'variance': 0.48811016925741524}\u001b[0m \u001b[36mstep\u001b[0m=\u001b[35m76992\u001b[0m\n",
      "\u001b[2m2023-10-22 08:19:44\u001b[0m [\u001b[32m\u001b[1minfo     \u001b[0m] \u001b[1mModel parameters are saved to d3rlpy_logs/exp_5_dynamics_reacher_default_20231022074412/model_76992.pt\u001b[0m\n"
     ]
    },
    {
     "data": {
      "application/vnd.jupyter.widget-view+json": {
       "model_id": "f4a4665732e942ef8ce60aea1cf62298",
       "version_major": 2,
       "version_minor": 0
      },
      "text/plain": [
       "Epoch 17/100:   0%|          | 0/4812 [00:00<?, ?it/s]"
      ]
     },
     "metadata": {},
     "output_type": "display_data"
    },
    {
     "name": "stdout",
     "output_type": "stream",
     "text": [
      "\u001b[2m2023-10-22 08:21:57\u001b[0m [\u001b[32m\u001b[1minfo     \u001b[0m] \u001b[1mexp_5_dynamics_reacher_default_20231022074412: epoch=17 step=81804\u001b[0m \u001b[36mepoch\u001b[0m=\u001b[35m17\u001b[0m \u001b[36mmetrics\u001b[0m=\u001b[35m{'time_sample_batch': 0.00024626905087719137, 'time_algorithm_update': 0.016814935385734957, 'loss': -117.79782648554269, 'time_step': 0.017132507298058108, 'observation_error': 0.8416138343639956, 'reward_error': 0.0002590514041610747, 'variance': 0.46950515702772777}\u001b[0m \u001b[36mstep\u001b[0m=\u001b[35m81804\u001b[0m\n",
      "\u001b[2m2023-10-22 08:21:57\u001b[0m [\u001b[32m\u001b[1minfo     \u001b[0m] \u001b[1mModel parameters are saved to d3rlpy_logs/exp_5_dynamics_reacher_default_20231022074412/model_81804.pt\u001b[0m\n"
     ]
    },
    {
     "data": {
      "application/vnd.jupyter.widget-view+json": {
       "model_id": "7e4de8ada6a94ef5bf60c62efaa0796d",
       "version_major": 2,
       "version_minor": 0
      },
      "text/plain": [
       "Epoch 18/100:   0%|          | 0/4812 [00:00<?, ?it/s]"
      ]
     },
     "metadata": {},
     "output_type": "display_data"
    },
    {
     "name": "stdout",
     "output_type": "stream",
     "text": [
      "\u001b[2m2023-10-22 08:24:10\u001b[0m [\u001b[32m\u001b[1minfo     \u001b[0m] \u001b[1mexp_5_dynamics_reacher_default_20231022074412: epoch=18 step=86616\u001b[0m \u001b[36mepoch\u001b[0m=\u001b[35m18\u001b[0m \u001b[36mmetrics\u001b[0m=\u001b[35m{'time_sample_batch': 0.00024232295584103908, 'time_algorithm_update': 0.016907531226166863, 'loss': -118.90615900099921, 'time_step': 0.017220324659387172, 'observation_error': 0.8547235349244251, 'reward_error': 0.00021893587761733036, 'variance': 0.49072328288595574}\u001b[0m \u001b[36mstep\u001b[0m=\u001b[35m86616\u001b[0m\n",
      "\u001b[2m2023-10-22 08:24:10\u001b[0m [\u001b[32m\u001b[1minfo     \u001b[0m] \u001b[1mModel parameters are saved to d3rlpy_logs/exp_5_dynamics_reacher_default_20231022074412/model_86616.pt\u001b[0m\n"
     ]
    },
    {
     "data": {
      "application/vnd.jupyter.widget-view+json": {
       "model_id": "391720064af44a21a8a73b6f01f46ae2",
       "version_major": 2,
       "version_minor": 0
      },
      "text/plain": [
       "Epoch 19/100:   0%|          | 0/4812 [00:00<?, ?it/s]"
      ]
     },
     "metadata": {},
     "output_type": "display_data"
    },
    {
     "name": "stdout",
     "output_type": "stream",
     "text": [
      "\u001b[2m2023-10-22 08:26:23\u001b[0m [\u001b[32m\u001b[1minfo     \u001b[0m] \u001b[1mexp_5_dynamics_reacher_default_20231022074412: epoch=19 step=91428\u001b[0m \u001b[36mepoch\u001b[0m=\u001b[35m19\u001b[0m \u001b[36mmetrics\u001b[0m=\u001b[35m{'time_sample_batch': 0.00024437314752529584, 'time_algorithm_update': 0.016894861052458424, 'loss': -119.99973401286061, 'time_step': 0.017210443963235553, 'observation_error': 0.836641498144563, 'reward_error': 0.00021091275391978197, 'variance': 0.48984463331177824}\u001b[0m \u001b[36mstep\u001b[0m=\u001b[35m91428\u001b[0m\n",
      "\u001b[2m2023-10-22 08:26:23\u001b[0m [\u001b[32m\u001b[1minfo     \u001b[0m] \u001b[1mModel parameters are saved to d3rlpy_logs/exp_5_dynamics_reacher_default_20231022074412/model_91428.pt\u001b[0m\n"
     ]
    },
    {
     "data": {
      "application/vnd.jupyter.widget-view+json": {
       "model_id": "c8fd109b9e3646609cfa6f7a118f3414",
       "version_major": 2,
       "version_minor": 0
      },
      "text/plain": [
       "Epoch 20/100:   0%|          | 0/4812 [00:00<?, ?it/s]"
      ]
     },
     "metadata": {},
     "output_type": "display_data"
    },
    {
     "name": "stdout",
     "output_type": "stream",
     "text": [
      "\u001b[2m2023-10-22 08:28:37\u001b[0m [\u001b[32m\u001b[1minfo     \u001b[0m] \u001b[1mexp_5_dynamics_reacher_default_20231022074412: epoch=20 step=96240\u001b[0m \u001b[36mepoch\u001b[0m=\u001b[35m20\u001b[0m \u001b[36mmetrics\u001b[0m=\u001b[35m{'time_sample_batch': 0.0002455914010628996, 'time_algorithm_update': 0.016953364671118937, 'loss': -120.83753698147642, 'time_step': 0.017269552645837873, 'observation_error': 0.8184735498399247, 'reward_error': 0.00020543877270563337, 'variance': 0.48613993001451633}\u001b[0m \u001b[36mstep\u001b[0m=\u001b[35m96240\u001b[0m\n",
      "\u001b[2m2023-10-22 08:28:37\u001b[0m [\u001b[32m\u001b[1minfo     \u001b[0m] \u001b[1mModel parameters are saved to d3rlpy_logs/exp_5_dynamics_reacher_default_20231022074412/model_96240.pt\u001b[0m\n"
     ]
    },
    {
     "data": {
      "application/vnd.jupyter.widget-view+json": {
       "model_id": "765455db99ff4ecbbd5e1e6136299c5c",
       "version_major": 2,
       "version_minor": 0
      },
      "text/plain": [
       "Epoch 21/100:   0%|          | 0/4812 [00:00<?, ?it/s]"
      ]
     },
     "metadata": {},
     "output_type": "display_data"
    },
    {
     "name": "stdout",
     "output_type": "stream",
     "text": [
      "\u001b[2m2023-10-22 08:30:51\u001b[0m [\u001b[32m\u001b[1minfo     \u001b[0m] \u001b[1mexp_5_dynamics_reacher_default_20231022074412: epoch=21 step=101052\u001b[0m \u001b[36mepoch\u001b[0m=\u001b[35m21\u001b[0m \u001b[36mmetrics\u001b[0m=\u001b[35m{'time_sample_batch': 0.00024593143986347606, 'time_algorithm_update': 0.01696260254876572, 'loss': -122.17532650669317, 'time_step': 0.01727950781063546, 'observation_error': 0.8025590097012074, 'reward_error': 0.00018716089704574787, 'variance': 0.4820131982692303}\u001b[0m \u001b[36mstep\u001b[0m=\u001b[35m101052\u001b[0m\n",
      "\u001b[2m2023-10-22 08:30:51\u001b[0m [\u001b[32m\u001b[1minfo     \u001b[0m] \u001b[1mModel parameters are saved to d3rlpy_logs/exp_5_dynamics_reacher_default_20231022074412/model_101052.pt\u001b[0m\n"
     ]
    },
    {
     "data": {
      "application/vnd.jupyter.widget-view+json": {
       "model_id": "3f9c5527ad164d1a90f3433892092969",
       "version_major": 2,
       "version_minor": 0
      },
      "text/plain": [
       "Epoch 22/100:   0%|          | 0/4812 [00:00<?, ?it/s]"
      ]
     },
     "metadata": {},
     "output_type": "display_data"
    },
    {
     "name": "stdout",
     "output_type": "stream",
     "text": [
      "\u001b[2m2023-10-22 08:33:05\u001b[0m [\u001b[32m\u001b[1minfo     \u001b[0m] \u001b[1mexp_5_dynamics_reacher_default_20231022074412: epoch=22 step=105864\u001b[0m \u001b[36mepoch\u001b[0m=\u001b[35m22\u001b[0m \u001b[36mmetrics\u001b[0m=\u001b[35m{'time_sample_batch': 0.00025053809111255063, 'time_algorithm_update': 0.01686061315504789, 'loss': -122.65006148844883, 'time_step': 0.017181491960809318, 'observation_error': 0.7971400866635266, 'reward_error': 0.00016873775805093276, 'variance': 0.4767710254592132}\u001b[0m \u001b[36mstep\u001b[0m=\u001b[35m105864\u001b[0m\n",
      "\u001b[2m2023-10-22 08:33:05\u001b[0m [\u001b[32m\u001b[1minfo     \u001b[0m] \u001b[1mModel parameters are saved to d3rlpy_logs/exp_5_dynamics_reacher_default_20231022074412/model_105864.pt\u001b[0m\n"
     ]
    },
    {
     "data": {
      "application/vnd.jupyter.widget-view+json": {
       "model_id": "8572c851d17f4ed9a86f0f6f15ac7a80",
       "version_major": 2,
       "version_minor": 0
      },
      "text/plain": [
       "Epoch 23/100:   0%|          | 0/4812 [00:00<?, ?it/s]"
      ]
     },
     "metadata": {},
     "output_type": "display_data"
    },
    {
     "name": "stdout",
     "output_type": "stream",
     "text": [
      "\u001b[2m2023-10-22 08:35:18\u001b[0m [\u001b[32m\u001b[1minfo     \u001b[0m] \u001b[1mexp_5_dynamics_reacher_default_20231022074412: epoch=23 step=110676\u001b[0m \u001b[36mepoch\u001b[0m=\u001b[35m23\u001b[0m \u001b[36mmetrics\u001b[0m=\u001b[35m{'time_sample_batch': 0.0002422436811680211, 'time_algorithm_update': 0.016868511439360686, 'loss': -123.84070122053697, 'time_step': 0.017181086916776864, 'observation_error': 0.7614485498804512, 'reward_error': 0.0001621674722209316, 'variance': 0.4576178368013084}\u001b[0m \u001b[36mstep\u001b[0m=\u001b[35m110676\u001b[0m\n",
      "\u001b[2m2023-10-22 08:35:18\u001b[0m [\u001b[32m\u001b[1minfo     \u001b[0m] \u001b[1mModel parameters are saved to d3rlpy_logs/exp_5_dynamics_reacher_default_20231022074412/model_110676.pt\u001b[0m\n"
     ]
    },
    {
     "data": {
      "application/vnd.jupyter.widget-view+json": {
       "model_id": "ebcec0db5f024443899ad0ab0c8e4c89",
       "version_major": 2,
       "version_minor": 0
      },
      "text/plain": [
       "Epoch 24/100:   0%|          | 0/4812 [00:00<?, ?it/s]"
      ]
     },
     "metadata": {},
     "output_type": "display_data"
    },
    {
     "name": "stdout",
     "output_type": "stream",
     "text": [
      "\u001b[2m2023-10-22 08:37:30\u001b[0m [\u001b[32m\u001b[1minfo     \u001b[0m] \u001b[1mexp_5_dynamics_reacher_default_20231022074412: epoch=24 step=115488\u001b[0m \u001b[36mepoch\u001b[0m=\u001b[35m24\u001b[0m \u001b[36mmetrics\u001b[0m=\u001b[35m{'time_sample_batch': 0.00025322976354153474, 'time_algorithm_update': 0.016639138992290546, 'loss': -124.7926202498172, 'time_step': 0.016962067097896154, 'observation_error': 0.7603261931341474, 'reward_error': 0.00015401966943848002, 'variance': 0.46926030902794996}\u001b[0m \u001b[36mstep\u001b[0m=\u001b[35m115488\u001b[0m\n",
      "\u001b[2m2023-10-22 08:37:30\u001b[0m [\u001b[32m\u001b[1minfo     \u001b[0m] \u001b[1mModel parameters are saved to d3rlpy_logs/exp_5_dynamics_reacher_default_20231022074412/model_115488.pt\u001b[0m\n"
     ]
    },
    {
     "data": {
      "application/vnd.jupyter.widget-view+json": {
       "model_id": "2907233bc57943d3aa11b178bcacaf72",
       "version_major": 2,
       "version_minor": 0
      },
      "text/plain": [
       "Epoch 25/100:   0%|          | 0/4812 [00:00<?, ?it/s]"
      ]
     },
     "metadata": {},
     "output_type": "display_data"
    },
    {
     "name": "stdout",
     "output_type": "stream",
     "text": [
      "\u001b[2m2023-10-22 08:39:42\u001b[0m [\u001b[32m\u001b[1minfo     \u001b[0m] \u001b[1mexp_5_dynamics_reacher_default_20231022074412: epoch=25 step=120300\u001b[0m \u001b[36mepoch\u001b[0m=\u001b[35m25\u001b[0m \u001b[36mmetrics\u001b[0m=\u001b[35m{'time_sample_batch': 0.00024381906710757085, 'time_algorithm_update': 0.016830160631701438, 'loss': -126.0029590698648, 'time_step': 0.017144923396439523, 'observation_error': 0.7487565645154232, 'reward_error': 0.00014914784017478687, 'variance': 0.4711684228423568}\u001b[0m \u001b[36mstep\u001b[0m=\u001b[35m120300\u001b[0m\n",
      "\u001b[2m2023-10-22 08:39:42\u001b[0m [\u001b[32m\u001b[1minfo     \u001b[0m] \u001b[1mModel parameters are saved to d3rlpy_logs/exp_5_dynamics_reacher_default_20231022074412/model_120300.pt\u001b[0m\n"
     ]
    },
    {
     "data": {
      "application/vnd.jupyter.widget-view+json": {
       "model_id": "bc181d3ba58b49e4b36d02dc895b8ba5",
       "version_major": 2,
       "version_minor": 0
      },
      "text/plain": [
       "Epoch 26/100:   0%|          | 0/4812 [00:00<?, ?it/s]"
      ]
     },
     "metadata": {},
     "output_type": "display_data"
    },
    {
     "name": "stdout",
     "output_type": "stream",
     "text": [
      "\u001b[2m2023-10-22 08:41:56\u001b[0m [\u001b[32m\u001b[1minfo     \u001b[0m] \u001b[1mexp_5_dynamics_reacher_default_20231022074412: epoch=26 step=125112\u001b[0m \u001b[36mepoch\u001b[0m=\u001b[35m26\u001b[0m \u001b[36mmetrics\u001b[0m=\u001b[35m{'time_sample_batch': 0.0002472592410898565, 'time_algorithm_update': 0.01690245898485382, 'loss': -127.10876762203048, 'time_step': 0.01722105790056592, 'observation_error': 0.7366789386653767, 'reward_error': 0.000129494922713517, 'variance': 0.48217170674949056}\u001b[0m \u001b[36mstep\u001b[0m=\u001b[35m125112\u001b[0m\n",
      "\u001b[2m2023-10-22 08:41:56\u001b[0m [\u001b[32m\u001b[1minfo     \u001b[0m] \u001b[1mModel parameters are saved to d3rlpy_logs/exp_5_dynamics_reacher_default_20231022074412/model_125112.pt\u001b[0m\n"
     ]
    },
    {
     "data": {
      "application/vnd.jupyter.widget-view+json": {
       "model_id": "07901b2cf1b845d28ec2e6037156c8b0",
       "version_major": 2,
       "version_minor": 0
      },
      "text/plain": [
       "Epoch 27/100:   0%|          | 0/4812 [00:00<?, ?it/s]"
      ]
     },
     "metadata": {},
     "output_type": "display_data"
    },
    {
     "name": "stdout",
     "output_type": "stream",
     "text": [
      "\u001b[2m2023-10-22 08:44:09\u001b[0m [\u001b[32m\u001b[1minfo     \u001b[0m] \u001b[1mexp_5_dynamics_reacher_default_20231022074412: epoch=27 step=129924\u001b[0m \u001b[36mepoch\u001b[0m=\u001b[35m27\u001b[0m \u001b[36mmetrics\u001b[0m=\u001b[35m{'time_sample_batch': 0.0002470325155250251, 'time_algorithm_update': 0.016824905612720417, 'loss': -127.89878027417316, 'time_step': 0.01714413248293616, 'observation_error': 0.7081624490561232, 'reward_error': 0.00012380929732243258, 'variance': 0.4695714348731017}\u001b[0m \u001b[36mstep\u001b[0m=\u001b[35m129924\u001b[0m\n",
      "\u001b[2m2023-10-22 08:44:09\u001b[0m [\u001b[32m\u001b[1minfo     \u001b[0m] \u001b[1mModel parameters are saved to d3rlpy_logs/exp_5_dynamics_reacher_default_20231022074412/model_129924.pt\u001b[0m\n"
     ]
    },
    {
     "data": {
      "application/vnd.jupyter.widget-view+json": {
       "model_id": "9e9a5e629d9f4e3ca26ccb788393509f",
       "version_major": 2,
       "version_minor": 0
      },
      "text/plain": [
       "Epoch 28/100:   0%|          | 0/4812 [00:00<?, ?it/s]"
      ]
     },
     "metadata": {},
     "output_type": "display_data"
    },
    {
     "name": "stdout",
     "output_type": "stream",
     "text": [
      "\u001b[2m2023-10-22 08:46:22\u001b[0m [\u001b[32m\u001b[1minfo     \u001b[0m] \u001b[1mexp_5_dynamics_reacher_default_20231022074412: epoch=28 step=134736\u001b[0m \u001b[36mepoch\u001b[0m=\u001b[35m28\u001b[0m \u001b[36mmetrics\u001b[0m=\u001b[35m{'time_sample_batch': 0.0002525398261529252, 'time_algorithm_update': 0.01673599237813022, 'loss': -129.43566351420466, 'time_step': 0.017059689398517434, 'observation_error': 0.6889511198695394, 'reward_error': 0.00011142618508633214, 'variance': 0.48512209304674303}\u001b[0m \u001b[36mstep\u001b[0m=\u001b[35m134736\u001b[0m\n",
      "\u001b[2m2023-10-22 08:46:22\u001b[0m [\u001b[32m\u001b[1minfo     \u001b[0m] \u001b[1mModel parameters are saved to d3rlpy_logs/exp_5_dynamics_reacher_default_20231022074412/model_134736.pt\u001b[0m\n"
     ]
    },
    {
     "data": {
      "application/vnd.jupyter.widget-view+json": {
       "model_id": "65bc310dd709405cab344af32200710a",
       "version_major": 2,
       "version_minor": 0
      },
      "text/plain": [
       "Epoch 29/100:   0%|          | 0/4812 [00:00<?, ?it/s]"
      ]
     },
     "metadata": {},
     "output_type": "display_data"
    },
    {
     "name": "stdout",
     "output_type": "stream",
     "text": [
      "\u001b[2m2023-10-22 08:48:36\u001b[0m [\u001b[32m\u001b[1minfo     \u001b[0m] \u001b[1mexp_5_dynamics_reacher_default_20231022074412: epoch=29 step=139548\u001b[0m \u001b[36mepoch\u001b[0m=\u001b[35m29\u001b[0m \u001b[36mmetrics\u001b[0m=\u001b[35m{'time_sample_batch': 0.0002457165064062561, 'time_algorithm_update': 0.016885496087601457, 'loss': -130.7909097342519, 'time_step': 0.017202298688769636, 'observation_error': 0.6929191283571684, 'reward_error': 0.00011458267049649591, 'variance': 0.4952626898680406}\u001b[0m \u001b[36mstep\u001b[0m=\u001b[35m139548\u001b[0m\n",
      "\u001b[2m2023-10-22 08:48:36\u001b[0m [\u001b[32m\u001b[1minfo     \u001b[0m] \u001b[1mModel parameters are saved to d3rlpy_logs/exp_5_dynamics_reacher_default_20231022074412/model_139548.pt\u001b[0m\n"
     ]
    },
    {
     "data": {
      "application/vnd.jupyter.widget-view+json": {
       "model_id": "451991b80eea4127b2bcdd8c3beaa426",
       "version_major": 2,
       "version_minor": 0
      },
      "text/plain": [
       "Epoch 30/100:   0%|          | 0/4812 [00:00<?, ?it/s]"
      ]
     },
     "metadata": {},
     "output_type": "display_data"
    },
    {
     "name": "stdout",
     "output_type": "stream",
     "text": [
      "\u001b[2m2023-10-22 08:50:49\u001b[0m [\u001b[32m\u001b[1minfo     \u001b[0m] \u001b[1mexp_5_dynamics_reacher_default_20231022074412: epoch=30 step=144360\u001b[0m \u001b[36mepoch\u001b[0m=\u001b[35m30\u001b[0m \u001b[36mmetrics\u001b[0m=\u001b[35m{'time_sample_batch': 0.00024719884369835094, 'time_algorithm_update': 0.01682415656615374, 'loss': -131.41904557434995, 'time_step': 0.01714137278292839, 'observation_error': 0.6511356001649615, 'reward_error': 0.00011013579518956348, 'variance': 0.485836001027339}\u001b[0m \u001b[36mstep\u001b[0m=\u001b[35m144360\u001b[0m\n",
      "\u001b[2m2023-10-22 08:50:49\u001b[0m [\u001b[32m\u001b[1minfo     \u001b[0m] \u001b[1mModel parameters are saved to d3rlpy_logs/exp_5_dynamics_reacher_default_20231022074412/model_144360.pt\u001b[0m\n"
     ]
    },
    {
     "data": {
      "application/vnd.jupyter.widget-view+json": {
       "model_id": "fe8aff80a94c4fe2ab4d661b1cb41d40",
       "version_major": 2,
       "version_minor": 0
      },
      "text/plain": [
       "Epoch 31/100:   0%|          | 0/4812 [00:00<?, ?it/s]"
      ]
     },
     "metadata": {},
     "output_type": "display_data"
    },
    {
     "name": "stdout",
     "output_type": "stream",
     "text": [
      "\u001b[2m2023-10-22 08:53:03\u001b[0m [\u001b[32m\u001b[1minfo     \u001b[0m] \u001b[1mexp_5_dynamics_reacher_default_20231022074412: epoch=31 step=149172\u001b[0m \u001b[36mepoch\u001b[0m=\u001b[35m31\u001b[0m \u001b[36mmetrics\u001b[0m=\u001b[35m{'time_sample_batch': 0.00024882159625502895, 'time_algorithm_update': 0.016981230808711507, 'loss': -132.4105226678444, 'time_step': 0.01730180554655524, 'observation_error': 0.6412319926060635, 'reward_error': 9.299249671439216e-05, 'variance': 0.4933451272014961}\u001b[0m \u001b[36mstep\u001b[0m=\u001b[35m149172\u001b[0m\n",
      "\u001b[2m2023-10-22 08:53:03\u001b[0m [\u001b[32m\u001b[1minfo     \u001b[0m] \u001b[1mModel parameters are saved to d3rlpy_logs/exp_5_dynamics_reacher_default_20231022074412/model_149172.pt\u001b[0m\n"
     ]
    },
    {
     "data": {
      "application/vnd.jupyter.widget-view+json": {
       "model_id": "acf08f769b2c4f2abc8ad8fca59832eb",
       "version_major": 2,
       "version_minor": 0
      },
      "text/plain": [
       "Epoch 32/100:   0%|          | 0/4812 [00:00<?, ?it/s]"
      ]
     },
     "metadata": {},
     "output_type": "display_data"
    },
    {
     "name": "stdout",
     "output_type": "stream",
     "text": [
      "\u001b[2m2023-10-22 08:55:16\u001b[0m [\u001b[32m\u001b[1minfo     \u001b[0m] \u001b[1mexp_5_dynamics_reacher_default_20231022074412: epoch=32 step=153984\u001b[0m \u001b[36mepoch\u001b[0m=\u001b[35m32\u001b[0m \u001b[36mmetrics\u001b[0m=\u001b[35m{'time_sample_batch': 0.00024729134733242884, 'time_algorithm_update': 0.01684975906500495, 'loss': -133.63261968496928, 'time_step': 0.017167916123508317, 'observation_error': 0.6269607308101802, 'reward_error': 8.806995344098668e-05, 'variance': 0.5103105888056303}\u001b[0m \u001b[36mstep\u001b[0m=\u001b[35m153984\u001b[0m\n",
      "\u001b[2m2023-10-22 08:55:16\u001b[0m [\u001b[32m\u001b[1minfo     \u001b[0m] \u001b[1mModel parameters are saved to d3rlpy_logs/exp_5_dynamics_reacher_default_20231022074412/model_153984.pt\u001b[0m\n"
     ]
    },
    {
     "data": {
      "application/vnd.jupyter.widget-view+json": {
       "model_id": "51e0216a857c4bb8a10f01b5943effc1",
       "version_major": 2,
       "version_minor": 0
      },
      "text/plain": [
       "Epoch 33/100:   0%|          | 0/4812 [00:00<?, ?it/s]"
      ]
     },
     "metadata": {},
     "output_type": "display_data"
    },
    {
     "name": "stdout",
     "output_type": "stream",
     "text": [
      "\u001b[2m2023-10-22 08:57:30\u001b[0m [\u001b[32m\u001b[1minfo     \u001b[0m] \u001b[1mexp_5_dynamics_reacher_default_20231022074412: epoch=33 step=158796\u001b[0m \u001b[36mepoch\u001b[0m=\u001b[35m33\u001b[0m \u001b[36mmetrics\u001b[0m=\u001b[35m{'time_sample_batch': 0.00024769282400459425, 'time_algorithm_update': 0.016851830016744205, 'loss': -134.5300992797636, 'time_step': 0.017171045590319043, 'observation_error': 0.5999613624612657, 'reward_error': 8.65338767207446e-05, 'variance': 0.49563152029804736}\u001b[0m \u001b[36mstep\u001b[0m=\u001b[35m158796\u001b[0m\n",
      "\u001b[2m2023-10-22 08:57:30\u001b[0m [\u001b[32m\u001b[1minfo     \u001b[0m] \u001b[1mModel parameters are saved to d3rlpy_logs/exp_5_dynamics_reacher_default_20231022074412/model_158796.pt\u001b[0m\n"
     ]
    },
    {
     "data": {
      "application/vnd.jupyter.widget-view+json": {
       "model_id": "e4222a33de7341e2b65154ddb3a00ddb",
       "version_major": 2,
       "version_minor": 0
      },
      "text/plain": [
       "Epoch 34/100:   0%|          | 0/4812 [00:00<?, ?it/s]"
      ]
     },
     "metadata": {},
     "output_type": "display_data"
    },
    {
     "name": "stdout",
     "output_type": "stream",
     "text": [
      "\u001b[2m2023-10-22 08:59:44\u001b[0m [\u001b[32m\u001b[1minfo     \u001b[0m] \u001b[1mexp_5_dynamics_reacher_default_20231022074412: epoch=34 step=163608\u001b[0m \u001b[36mepoch\u001b[0m=\u001b[35m34\u001b[0m \u001b[36mmetrics\u001b[0m=\u001b[35m{'time_sample_batch': 0.0002469022077812518, 'time_algorithm_update': 0.01687897688531915, 'loss': -135.77916736436308, 'time_step': 0.017197040548348367, 'observation_error': 0.5791180913630227, 'reward_error': 7.658324618785878e-05, 'variance': 0.49693227987138455}\u001b[0m \u001b[36mstep\u001b[0m=\u001b[35m163608\u001b[0m\n",
      "\u001b[2m2023-10-22 08:59:44\u001b[0m [\u001b[32m\u001b[1minfo     \u001b[0m] \u001b[1mModel parameters are saved to d3rlpy_logs/exp_5_dynamics_reacher_default_20231022074412/model_163608.pt\u001b[0m\n"
     ]
    },
    {
     "data": {
      "application/vnd.jupyter.widget-view+json": {
       "model_id": "2449614c10a44ed8bc59cedf632fcd89",
       "version_major": 2,
       "version_minor": 0
      },
      "text/plain": [
       "Epoch 35/100:   0%|          | 0/4812 [00:00<?, ?it/s]"
      ]
     },
     "metadata": {},
     "output_type": "display_data"
    },
    {
     "name": "stdout",
     "output_type": "stream",
     "text": [
      "\u001b[2m2023-10-22 09:01:57\u001b[0m [\u001b[32m\u001b[1minfo     \u001b[0m] \u001b[1mexp_5_dynamics_reacher_default_20231022074412: epoch=35 step=168420\u001b[0m \u001b[36mepoch\u001b[0m=\u001b[35m35\u001b[0m \u001b[36mmetrics\u001b[0m=\u001b[35m{'time_sample_batch': 0.00024438216501935166, 'time_algorithm_update': 0.01692298681460513, 'loss': -136.9271265951079, 'time_step': 0.017238639338454504, 'observation_error': 0.5525570078690855, 'reward_error': 8.46871531600145e-05, 'variance': 0.4934790639149753}\u001b[0m \u001b[36mstep\u001b[0m=\u001b[35m168420\u001b[0m\n",
      "\u001b[2m2023-10-22 09:01:57\u001b[0m [\u001b[32m\u001b[1minfo     \u001b[0m] \u001b[1mModel parameters are saved to d3rlpy_logs/exp_5_dynamics_reacher_default_20231022074412/model_168420.pt\u001b[0m\n"
     ]
    },
    {
     "data": {
      "application/vnd.jupyter.widget-view+json": {
       "model_id": "452b370c487c4fc093b28458f0afaedf",
       "version_major": 2,
       "version_minor": 0
      },
      "text/plain": [
       "Epoch 36/100:   0%|          | 0/4812 [00:00<?, ?it/s]"
      ]
     },
     "metadata": {},
     "output_type": "display_data"
    },
    {
     "name": "stdout",
     "output_type": "stream",
     "text": [
      "\u001b[2m2023-10-22 09:04:11\u001b[0m [\u001b[32m\u001b[1minfo     \u001b[0m] \u001b[1mexp_5_dynamics_reacher_default_20231022074412: epoch=36 step=173232\u001b[0m \u001b[36mepoch\u001b[0m=\u001b[35m36\u001b[0m \u001b[36mmetrics\u001b[0m=\u001b[35m{'time_sample_batch': 0.000248557760233891, 'time_algorithm_update': 0.016874942250382573, 'loss': -138.3408361123387, 'time_step': 0.017194363640827232, 'observation_error': 0.5352207957050629, 'reward_error': 7.504796768485644e-05, 'variance': 0.4990252405759436}\u001b[0m \u001b[36mstep\u001b[0m=\u001b[35m173232\u001b[0m\n",
      "\u001b[2m2023-10-22 09:04:11\u001b[0m [\u001b[32m\u001b[1minfo     \u001b[0m] \u001b[1mModel parameters are saved to d3rlpy_logs/exp_5_dynamics_reacher_default_20231022074412/model_173232.pt\u001b[0m\n"
     ]
    },
    {
     "data": {
      "application/vnd.jupyter.widget-view+json": {
       "model_id": "6a70383924af438884ef81d1b2528bd4",
       "version_major": 2,
       "version_minor": 0
      },
      "text/plain": [
       "Epoch 37/100:   0%|          | 0/4812 [00:00<?, ?it/s]"
      ]
     },
     "metadata": {},
     "output_type": "display_data"
    },
    {
     "name": "stdout",
     "output_type": "stream",
     "text": [
      "\u001b[2m2023-10-22 09:06:25\u001b[0m [\u001b[32m\u001b[1minfo     \u001b[0m] \u001b[1mexp_5_dynamics_reacher_default_20231022074412: epoch=37 step=178044\u001b[0m \u001b[36mepoch\u001b[0m=\u001b[35m37\u001b[0m \u001b[36mmetrics\u001b[0m=\u001b[35m{'time_sample_batch': 0.00024245514635829656, 'time_algorithm_update': 0.016964403966616713, 'loss': -139.12770746711485, 'time_step': 0.017277040336891106, 'observation_error': 0.520348100564314, 'reward_error': 7.0676552381741e-05, 'variance': 0.5027779887292713}\u001b[0m \u001b[36mstep\u001b[0m=\u001b[35m178044\u001b[0m\n",
      "\u001b[2m2023-10-22 09:06:25\u001b[0m [\u001b[32m\u001b[1minfo     \u001b[0m] \u001b[1mModel parameters are saved to d3rlpy_logs/exp_5_dynamics_reacher_default_20231022074412/model_178044.pt\u001b[0m\n"
     ]
    },
    {
     "data": {
      "application/vnd.jupyter.widget-view+json": {
       "model_id": "1cb62cc10b8248f49a2de3f3bdfac981",
       "version_major": 2,
       "version_minor": 0
      },
      "text/plain": [
       "Epoch 38/100:   0%|          | 0/4812 [00:00<?, ?it/s]"
      ]
     },
     "metadata": {},
     "output_type": "display_data"
    },
    {
     "name": "stdout",
     "output_type": "stream",
     "text": [
      "\u001b[2m2023-10-22 09:08:38\u001b[0m [\u001b[32m\u001b[1minfo     \u001b[0m] \u001b[1mexp_5_dynamics_reacher_default_20231022074412: epoch=38 step=182856\u001b[0m \u001b[36mepoch\u001b[0m=\u001b[35m38\u001b[0m \u001b[36mmetrics\u001b[0m=\u001b[35m{'time_sample_batch': 0.0002487912241459289, 'time_algorithm_update': 0.016863320434678124, 'loss': -140.5679227574508, 'time_step': 0.017181923165483864, 'observation_error': 0.4976973369057922, 'reward_error': 6.520600844394761e-05, 'variance': 0.49655180456184494}\u001b[0m \u001b[36mstep\u001b[0m=\u001b[35m182856\u001b[0m\n",
      "\u001b[2m2023-10-22 09:08:38\u001b[0m [\u001b[32m\u001b[1minfo     \u001b[0m] \u001b[1mModel parameters are saved to d3rlpy_logs/exp_5_dynamics_reacher_default_20231022074412/model_182856.pt\u001b[0m\n"
     ]
    },
    {
     "data": {
      "application/vnd.jupyter.widget-view+json": {
       "model_id": "c2be6c1b21994835bde0324f1be4da8a",
       "version_major": 2,
       "version_minor": 0
      },
      "text/plain": [
       "Epoch 39/100:   0%|          | 0/4812 [00:00<?, ?it/s]"
      ]
     },
     "metadata": {},
     "output_type": "display_data"
    },
    {
     "name": "stdout",
     "output_type": "stream",
     "text": [
      "\u001b[2m2023-10-22 09:10:51\u001b[0m [\u001b[32m\u001b[1minfo     \u001b[0m] \u001b[1mexp_5_dynamics_reacher_default_20231022074412: epoch=39 step=187668\u001b[0m \u001b[36mepoch\u001b[0m=\u001b[35m39\u001b[0m \u001b[36mmetrics\u001b[0m=\u001b[35m{'time_sample_batch': 0.00024760676143769907, 'time_algorithm_update': 0.016806114046948213, 'loss': -141.14001376016478, 'time_step': 0.01712481250192162, 'observation_error': 0.4816964357702497, 'reward_error': 6.084800982490037e-05, 'variance': 0.4877205844497816}\u001b[0m \u001b[36mstep\u001b[0m=\u001b[35m187668\u001b[0m\n",
      "\u001b[2m2023-10-22 09:10:51\u001b[0m [\u001b[32m\u001b[1minfo     \u001b[0m] \u001b[1mModel parameters are saved to d3rlpy_logs/exp_5_dynamics_reacher_default_20231022074412/model_187668.pt\u001b[0m\n"
     ]
    },
    {
     "data": {
      "application/vnd.jupyter.widget-view+json": {
       "model_id": "61543fce87ce4c7b97e0728cff734f52",
       "version_major": 2,
       "version_minor": 0
      },
      "text/plain": [
       "Epoch 40/100:   0%|          | 0/4812 [00:00<?, ?it/s]"
      ]
     },
     "metadata": {},
     "output_type": "display_data"
    },
    {
     "name": "stdout",
     "output_type": "stream",
     "text": [
      "\u001b[2m2023-10-22 09:13:03\u001b[0m [\u001b[32m\u001b[1minfo     \u001b[0m] \u001b[1mexp_5_dynamics_reacher_default_20231022074412: epoch=40 step=192480\u001b[0m \u001b[36mepoch\u001b[0m=\u001b[35m40\u001b[0m \u001b[36mmetrics\u001b[0m=\u001b[35m{'time_sample_batch': 0.0002491570767619069, 'time_algorithm_update': 0.016746856972067334, 'loss': -142.04291997546468, 'time_step': 0.017066366406945716, 'observation_error': 0.4623624609405195, 'reward_error': 5.864704096773269e-05, 'variance': 0.46813554699822346}\u001b[0m \u001b[36mstep\u001b[0m=\u001b[35m192480\u001b[0m\n",
      "\u001b[2m2023-10-22 09:13:03\u001b[0m [\u001b[32m\u001b[1minfo     \u001b[0m] \u001b[1mModel parameters are saved to d3rlpy_logs/exp_5_dynamics_reacher_default_20231022074412/model_192480.pt\u001b[0m\n"
     ]
    },
    {
     "data": {
      "application/vnd.jupyter.widget-view+json": {
       "model_id": "32e27fc46ee44c9895d971efd59a8cbd",
       "version_major": 2,
       "version_minor": 0
      },
      "text/plain": [
       "Epoch 41/100:   0%|          | 0/4812 [00:00<?, ?it/s]"
      ]
     },
     "metadata": {},
     "output_type": "display_data"
    },
    {
     "name": "stdout",
     "output_type": "stream",
     "text": [
      "\u001b[2m2023-10-22 09:15:16\u001b[0m [\u001b[32m\u001b[1minfo     \u001b[0m] \u001b[1mexp_5_dynamics_reacher_default_20231022074412: epoch=41 step=197292\u001b[0m \u001b[36mepoch\u001b[0m=\u001b[35m41\u001b[0m \u001b[36mmetrics\u001b[0m=\u001b[35m{'time_sample_batch': 0.0002465847622624855, 'time_algorithm_update': 0.016858680884439748, 'loss': -142.79288722789, 'time_step': 0.01717604034063921, 'observation_error': 0.4280764759970507, 'reward_error': 5.205495068558091e-05, 'variance': 0.4491211305009491}\u001b[0m \u001b[36mstep\u001b[0m=\u001b[35m197292\u001b[0m\n",
      "\u001b[2m2023-10-22 09:15:16\u001b[0m [\u001b[32m\u001b[1minfo     \u001b[0m] \u001b[1mModel parameters are saved to d3rlpy_logs/exp_5_dynamics_reacher_default_20231022074412/model_197292.pt\u001b[0m\n"
     ]
    },
    {
     "data": {
      "application/vnd.jupyter.widget-view+json": {
       "model_id": "a49906de56574e2da88ba3e47457dd3c",
       "version_major": 2,
       "version_minor": 0
      },
      "text/plain": [
       "Epoch 42/100:   0%|          | 0/4812 [00:00<?, ?it/s]"
      ]
     },
     "metadata": {},
     "output_type": "display_data"
    },
    {
     "name": "stdout",
     "output_type": "stream",
     "text": [
      "\u001b[2m2023-10-22 09:17:29\u001b[0m [\u001b[32m\u001b[1minfo     \u001b[0m] \u001b[1mexp_5_dynamics_reacher_default_20231022074412: epoch=42 step=202104\u001b[0m \u001b[36mepoch\u001b[0m=\u001b[35m42\u001b[0m \u001b[36mmetrics\u001b[0m=\u001b[35m{'time_sample_batch': 0.000248867080098673, 'time_algorithm_update': 0.016773794803238866, 'loss': -144.42533097897385, 'time_step': 0.017093027024495038, 'observation_error': 0.41522404003966334, 'reward_error': 4.9941790664467514e-05, 'variance': 0.4381030606456019}\u001b[0m \u001b[36mstep\u001b[0m=\u001b[35m202104\u001b[0m\n",
      "\u001b[2m2023-10-22 09:17:29\u001b[0m [\u001b[32m\u001b[1minfo     \u001b[0m] \u001b[1mModel parameters are saved to d3rlpy_logs/exp_5_dynamics_reacher_default_20231022074412/model_202104.pt\u001b[0m\n"
     ]
    },
    {
     "data": {
      "application/vnd.jupyter.widget-view+json": {
       "model_id": "314fd5b4f2ce4a96a7f6b32a53d45cc3",
       "version_major": 2,
       "version_minor": 0
      },
      "text/plain": [
       "Epoch 43/100:   0%|          | 0/4812 [00:00<?, ?it/s]"
      ]
     },
     "metadata": {},
     "output_type": "display_data"
    },
    {
     "name": "stdout",
     "output_type": "stream",
     "text": [
      "\u001b[2m2023-10-22 09:19:42\u001b[0m [\u001b[32m\u001b[1minfo     \u001b[0m] \u001b[1mexp_5_dynamics_reacher_default_20231022074412: epoch=43 step=206916\u001b[0m \u001b[36mepoch\u001b[0m=\u001b[35m43\u001b[0m \u001b[36mmetrics\u001b[0m=\u001b[35m{'time_sample_batch': 0.00024978230619866553, 'time_algorithm_update': 0.01676602469616301, 'loss': -145.14897765938878, 'time_step': 0.01708694299062093, 'observation_error': 0.4160881767703723, 'reward_error': 4.8302558975684e-05, 'variance': 0.44340405958671497}\u001b[0m \u001b[36mstep\u001b[0m=\u001b[35m206916\u001b[0m\n",
      "\u001b[2m2023-10-22 09:19:42\u001b[0m [\u001b[32m\u001b[1minfo     \u001b[0m] \u001b[1mModel parameters are saved to d3rlpy_logs/exp_5_dynamics_reacher_default_20231022074412/model_206916.pt\u001b[0m\n"
     ]
    },
    {
     "data": {
      "application/vnd.jupyter.widget-view+json": {
       "model_id": "d4b4386528f746f3b44c3038933ac434",
       "version_major": 2,
       "version_minor": 0
      },
      "text/plain": [
       "Epoch 44/100:   0%|          | 0/4812 [00:00<?, ?it/s]"
      ]
     },
     "metadata": {},
     "output_type": "display_data"
    },
    {
     "name": "stdout",
     "output_type": "stream",
     "text": [
      "\u001b[2m2023-10-22 09:21:56\u001b[0m [\u001b[32m\u001b[1minfo     \u001b[0m] \u001b[1mexp_5_dynamics_reacher_default_20231022074412: epoch=44 step=211728\u001b[0m \u001b[36mepoch\u001b[0m=\u001b[35m44\u001b[0m \u001b[36mmetrics\u001b[0m=\u001b[35m{'time_sample_batch': 0.00024996691709345615, 'time_algorithm_update': 0.016882282094170625, 'loss': -145.7051375314581, 'time_step': 0.017204264898847167, 'observation_error': 0.4255599195592787, 'reward_error': 5.018819500190406e-05, 'variance': 0.44205784063316456}\u001b[0m \u001b[36mstep\u001b[0m=\u001b[35m211728\u001b[0m\n",
      "\u001b[2m2023-10-22 09:21:56\u001b[0m [\u001b[32m\u001b[1minfo     \u001b[0m] \u001b[1mModel parameters are saved to d3rlpy_logs/exp_5_dynamics_reacher_default_20231022074412/model_211728.pt\u001b[0m\n"
     ]
    },
    {
     "data": {
      "application/vnd.jupyter.widget-view+json": {
       "model_id": "07765b452bb94a27bec377aad53b3f83",
       "version_major": 2,
       "version_minor": 0
      },
      "text/plain": [
       "Epoch 45/100:   0%|          | 0/4812 [00:00<?, ?it/s]"
      ]
     },
     "metadata": {},
     "output_type": "display_data"
    },
    {
     "name": "stdout",
     "output_type": "stream",
     "text": [
      "\u001b[2m2023-10-22 09:24:08\u001b[0m [\u001b[32m\u001b[1minfo     \u001b[0m] \u001b[1mexp_5_dynamics_reacher_default_20231022074412: epoch=45 step=216540\u001b[0m \u001b[36mepoch\u001b[0m=\u001b[35m45\u001b[0m \u001b[36mmetrics\u001b[0m=\u001b[35m{'time_sample_batch': 0.00024904752907313016, 'time_algorithm_update': 0.016734274694152604, 'loss': -147.10027029389454, 'time_step': 0.017053630732538693, 'observation_error': 0.42274598978981254, 'reward_error': 4.490399940250123e-05, 'variance': 0.44957644680447467}\u001b[0m \u001b[36mstep\u001b[0m=\u001b[35m216540\u001b[0m\n",
      "\u001b[2m2023-10-22 09:24:08\u001b[0m [\u001b[32m\u001b[1minfo     \u001b[0m] \u001b[1mModel parameters are saved to d3rlpy_logs/exp_5_dynamics_reacher_default_20231022074412/model_216540.pt\u001b[0m\n"
     ]
    },
    {
     "data": {
      "application/vnd.jupyter.widget-view+json": {
       "model_id": "8a441f88846a436c954c9dc457f80c0a",
       "version_major": 2,
       "version_minor": 0
      },
      "text/plain": [
       "Epoch 46/100:   0%|          | 0/4812 [00:00<?, ?it/s]"
      ]
     },
     "metadata": {},
     "output_type": "display_data"
    },
    {
     "name": "stdout",
     "output_type": "stream",
     "text": [
      "\u001b[2m2023-10-22 09:26:21\u001b[0m [\u001b[32m\u001b[1minfo     \u001b[0m] \u001b[1mexp_5_dynamics_reacher_default_20231022074412: epoch=46 step=221352\u001b[0m \u001b[36mepoch\u001b[0m=\u001b[35m46\u001b[0m \u001b[36mmetrics\u001b[0m=\u001b[35m{'time_sample_batch': 0.00024784299996329263, 'time_algorithm_update': 0.016827981717766866, 'loss': -147.83393356469108, 'time_step': 0.01714630465852352, 'observation_error': 0.4189538092868311, 'reward_error': 4.3940943750501985e-05, 'variance': 0.44932708819073697}\u001b[0m \u001b[36mstep\u001b[0m=\u001b[35m221352\u001b[0m\n",
      "\u001b[2m2023-10-22 09:26:21\u001b[0m [\u001b[32m\u001b[1minfo     \u001b[0m] \u001b[1mModel parameters are saved to d3rlpy_logs/exp_5_dynamics_reacher_default_20231022074412/model_221352.pt\u001b[0m\n"
     ]
    },
    {
     "data": {
      "application/vnd.jupyter.widget-view+json": {
       "model_id": "e22b76a92c9749f8b0377e5f60794db7",
       "version_major": 2,
       "version_minor": 0
      },
      "text/plain": [
       "Epoch 47/100:   0%|          | 0/4812 [00:00<?, ?it/s]"
      ]
     },
     "metadata": {},
     "output_type": "display_data"
    },
    {
     "name": "stdout",
     "output_type": "stream",
     "text": [
      "\u001b[2m2023-10-22 09:28:34\u001b[0m [\u001b[32m\u001b[1minfo     \u001b[0m] \u001b[1mexp_5_dynamics_reacher_default_20231022074412: epoch=47 step=226164\u001b[0m \u001b[36mepoch\u001b[0m=\u001b[35m47\u001b[0m \u001b[36mmetrics\u001b[0m=\u001b[35m{'time_sample_batch': 0.00024700694944297685, 'time_algorithm_update': 0.016822171330154685, 'loss': -148.2774840055261, 'time_step': 0.017140682449166417, 'observation_error': 0.4194474503652224, 'reward_error': 4.523864616980289e-05, 'variance': 0.4571198822438464}\u001b[0m \u001b[36mstep\u001b[0m=\u001b[35m226164\u001b[0m\n",
      "\u001b[2m2023-10-22 09:28:34\u001b[0m [\u001b[32m\u001b[1minfo     \u001b[0m] \u001b[1mModel parameters are saved to d3rlpy_logs/exp_5_dynamics_reacher_default_20231022074412/model_226164.pt\u001b[0m\n"
     ]
    },
    {
     "data": {
      "application/vnd.jupyter.widget-view+json": {
       "model_id": "7219eccf7da646fbb8ba49e7f70419b3",
       "version_major": 2,
       "version_minor": 0
      },
      "text/plain": [
       "Epoch 48/100:   0%|          | 0/4812 [00:00<?, ?it/s]"
      ]
     },
     "metadata": {},
     "output_type": "display_data"
    },
    {
     "name": "stdout",
     "output_type": "stream",
     "text": [
      "\u001b[2m2023-10-22 09:30:48\u001b[0m [\u001b[32m\u001b[1minfo     \u001b[0m] \u001b[1mexp_5_dynamics_reacher_default_20231022074412: epoch=48 step=230976\u001b[0m \u001b[36mepoch\u001b[0m=\u001b[35m48\u001b[0m \u001b[36mmetrics\u001b[0m=\u001b[35m{'time_sample_batch': 0.0002467559955562043, 'time_algorithm_update': 0.016911264171425938, 'loss': -149.2732472800257, 'time_step': 0.017229104329423914, 'observation_error': 0.42494992464427167, 'reward_error': 3.463290259730848e-05, 'variance': 0.4792468928627878}\u001b[0m \u001b[36mstep\u001b[0m=\u001b[35m230976\u001b[0m\n",
      "\u001b[2m2023-10-22 09:30:48\u001b[0m [\u001b[32m\u001b[1minfo     \u001b[0m] \u001b[1mModel parameters are saved to d3rlpy_logs/exp_5_dynamics_reacher_default_20231022074412/model_230976.pt\u001b[0m\n"
     ]
    },
    {
     "data": {
      "application/vnd.jupyter.widget-view+json": {
       "model_id": "2a00b9ba2fff47718d207cb58cf197ae",
       "version_major": 2,
       "version_minor": 0
      },
      "text/plain": [
       "Epoch 49/100:   0%|          | 0/4812 [00:00<?, ?it/s]"
      ]
     },
     "metadata": {},
     "output_type": "display_data"
    },
    {
     "name": "stdout",
     "output_type": "stream",
     "text": [
      "\u001b[2m2023-10-22 09:33:01\u001b[0m [\u001b[32m\u001b[1minfo     \u001b[0m] \u001b[1mexp_5_dynamics_reacher_default_20231022074412: epoch=49 step=235788\u001b[0m \u001b[36mepoch\u001b[0m=\u001b[35m49\u001b[0m \u001b[36mmetrics\u001b[0m=\u001b[35m{'time_sample_batch': 0.00024788427233993264, 'time_algorithm_update': 0.016835064265694304, 'loss': -149.80695074712446, 'time_step': 0.017154881286303995, 'observation_error': 0.4163494322422842, 'reward_error': 3.6728083184466034e-05, 'variance': 0.4553277367383537}\u001b[0m \u001b[36mstep\u001b[0m=\u001b[35m235788\u001b[0m\n",
      "\u001b[2m2023-10-22 09:33:01\u001b[0m [\u001b[32m\u001b[1minfo     \u001b[0m] \u001b[1mModel parameters are saved to d3rlpy_logs/exp_5_dynamics_reacher_default_20231022074412/model_235788.pt\u001b[0m\n"
     ]
    },
    {
     "data": {
      "application/vnd.jupyter.widget-view+json": {
       "model_id": "fca6d52c04b240c5b2a781b12a98914b",
       "version_major": 2,
       "version_minor": 0
      },
      "text/plain": [
       "Epoch 50/100:   0%|          | 0/4812 [00:00<?, ?it/s]"
      ]
     },
     "metadata": {},
     "output_type": "display_data"
    },
    {
     "name": "stdout",
     "output_type": "stream",
     "text": [
      "\u001b[2m2023-10-22 09:35:14\u001b[0m [\u001b[32m\u001b[1minfo     \u001b[0m] \u001b[1mexp_5_dynamics_reacher_default_20231022074412: epoch=50 step=240600\u001b[0m \u001b[36mepoch\u001b[0m=\u001b[35m50\u001b[0m \u001b[36mmetrics\u001b[0m=\u001b[35m{'time_sample_batch': 0.0002466738471762894, 'time_algorithm_update': 0.016871966725077514, 'loss': -151.00918255502347, 'time_step': 0.017189698425413465, 'observation_error': 0.4136503741343002, 'reward_error': 3.5822789771075907e-05, 'variance': 0.46432220132309787}\u001b[0m \u001b[36mstep\u001b[0m=\u001b[35m240600\u001b[0m\n",
      "\u001b[2m2023-10-22 09:35:14\u001b[0m [\u001b[32m\u001b[1minfo     \u001b[0m] \u001b[1mModel parameters are saved to d3rlpy_logs/exp_5_dynamics_reacher_default_20231022074412/model_240600.pt\u001b[0m\n"
     ]
    },
    {
     "data": {
      "application/vnd.jupyter.widget-view+json": {
       "model_id": "ee8106bf6a6c4b01a99cf8023ff766c1",
       "version_major": 2,
       "version_minor": 0
      },
      "text/plain": [
       "Epoch 51/100:   0%|          | 0/4812 [00:00<?, ?it/s]"
      ]
     },
     "metadata": {},
     "output_type": "display_data"
    },
    {
     "name": "stdout",
     "output_type": "stream",
     "text": [
      "\u001b[2m2023-10-22 09:37:28\u001b[0m [\u001b[32m\u001b[1minfo     \u001b[0m] \u001b[1mexp_5_dynamics_reacher_default_20231022074412: epoch=51 step=245412\u001b[0m \u001b[36mepoch\u001b[0m=\u001b[35m51\u001b[0m \u001b[36mmetrics\u001b[0m=\u001b[35m{'time_sample_batch': 0.0002488325460692395, 'time_algorithm_update': 0.016929084721547014, 'loss': -150.9968788324548, 'time_step': 0.01725100638563199, 'observation_error': 0.4093913569381997, 'reward_error': 3.555699706693886e-05, 'variance': 0.46052308451161594}\u001b[0m \u001b[36mstep\u001b[0m=\u001b[35m245412\u001b[0m\n",
      "\u001b[2m2023-10-22 09:37:28\u001b[0m [\u001b[32m\u001b[1minfo     \u001b[0m] \u001b[1mModel parameters are saved to d3rlpy_logs/exp_5_dynamics_reacher_default_20231022074412/model_245412.pt\u001b[0m\n"
     ]
    },
    {
     "data": {
      "application/vnd.jupyter.widget-view+json": {
       "model_id": "b085df74fda8421e8a99e259008abece",
       "version_major": 2,
       "version_minor": 0
      },
      "text/plain": [
       "Epoch 52/100:   0%|          | 0/4812 [00:00<?, ?it/s]"
      ]
     },
     "metadata": {},
     "output_type": "display_data"
    },
    {
     "name": "stdout",
     "output_type": "stream",
     "text": [
      "\u001b[2m2023-10-22 09:39:41\u001b[0m [\u001b[32m\u001b[1minfo     \u001b[0m] \u001b[1mexp_5_dynamics_reacher_default_20231022074412: epoch=52 step=250224\u001b[0m \u001b[36mepoch\u001b[0m=\u001b[35m52\u001b[0m \u001b[36mmetrics\u001b[0m=\u001b[35m{'time_sample_batch': 0.00025096235925320875, 'time_algorithm_update': 0.016747387864643203, 'loss': -152.2539009179855, 'time_step': 0.017069292385580137, 'observation_error': 0.41604776834715096, 'reward_error': 3.0006530610639953e-05, 'variance': 0.45885321736395207}\u001b[0m \u001b[36mstep\u001b[0m=\u001b[35m250224\u001b[0m\n",
      "\u001b[2m2023-10-22 09:39:41\u001b[0m [\u001b[32m\u001b[1minfo     \u001b[0m] \u001b[1mModel parameters are saved to d3rlpy_logs/exp_5_dynamics_reacher_default_20231022074412/model_250224.pt\u001b[0m\n"
     ]
    },
    {
     "data": {
      "application/vnd.jupyter.widget-view+json": {
       "model_id": "665c30577a8a46babe6e48eb0ef4c33b",
       "version_major": 2,
       "version_minor": 0
      },
      "text/plain": [
       "Epoch 53/100:   0%|          | 0/4812 [00:00<?, ?it/s]"
      ]
     },
     "metadata": {},
     "output_type": "display_data"
    },
    {
     "name": "stdout",
     "output_type": "stream",
     "text": [
      "\u001b[2m2023-10-22 09:41:55\u001b[0m [\u001b[32m\u001b[1minfo     \u001b[0m] \u001b[1mexp_5_dynamics_reacher_default_20231022074412: epoch=53 step=255036\u001b[0m \u001b[36mepoch\u001b[0m=\u001b[35m53\u001b[0m \u001b[36mmetrics\u001b[0m=\u001b[35m{'time_sample_batch': 0.00024726637581042813, 'time_algorithm_update': 0.016904467854614764, 'loss': -152.5931156008618, 'time_step': 0.017223612279170568, 'observation_error': 0.4088063342204885, 'reward_error': 2.993248323720522e-05, 'variance': 0.45472482972738376}\u001b[0m \u001b[36mstep\u001b[0m=\u001b[35m255036\u001b[0m\n",
      "\u001b[2m2023-10-22 09:41:55\u001b[0m [\u001b[32m\u001b[1minfo     \u001b[0m] \u001b[1mModel parameters are saved to d3rlpy_logs/exp_5_dynamics_reacher_default_20231022074412/model_255036.pt\u001b[0m\n"
     ]
    },
    {
     "data": {
      "application/vnd.jupyter.widget-view+json": {
       "model_id": "fc58926e474040079c28bde99814c395",
       "version_major": 2,
       "version_minor": 0
      },
      "text/plain": [
       "Epoch 54/100:   0%|          | 0/4812 [00:00<?, ?it/s]"
      ]
     },
     "metadata": {},
     "output_type": "display_data"
    },
    {
     "name": "stdout",
     "output_type": "stream",
     "text": [
      "\u001b[2m2023-10-22 09:44:09\u001b[0m [\u001b[32m\u001b[1minfo     \u001b[0m] \u001b[1mexp_5_dynamics_reacher_default_20231022074412: epoch=54 step=259848\u001b[0m \u001b[36mepoch\u001b[0m=\u001b[35m54\u001b[0m \u001b[36mmetrics\u001b[0m=\u001b[35m{'time_sample_batch': 0.0002481032686241448, 'time_algorithm_update': 0.016870692236068737, 'loss': -153.14394695602252, 'time_step': 0.017190213611694743, 'observation_error': 0.40410388041541356, 'reward_error': 2.920722233679369e-05, 'variance': 0.45725925877661516}\u001b[0m \u001b[36mstep\u001b[0m=\u001b[35m259848\u001b[0m\n",
      "\u001b[2m2023-10-22 09:44:09\u001b[0m [\u001b[32m\u001b[1minfo     \u001b[0m] \u001b[1mModel parameters are saved to d3rlpy_logs/exp_5_dynamics_reacher_default_20231022074412/model_259848.pt\u001b[0m\n"
     ]
    },
    {
     "data": {
      "application/vnd.jupyter.widget-view+json": {
       "model_id": "8eecef9571cb464496d5e65788b8773d",
       "version_major": 2,
       "version_minor": 0
      },
      "text/plain": [
       "Epoch 55/100:   0%|          | 0/4812 [00:00<?, ?it/s]"
      ]
     },
     "metadata": {},
     "output_type": "display_data"
    },
    {
     "name": "stdout",
     "output_type": "stream",
     "text": [
      "\u001b[2m2023-10-22 09:46:22\u001b[0m [\u001b[32m\u001b[1minfo     \u001b[0m] \u001b[1mexp_5_dynamics_reacher_default_20231022074412: epoch=55 step=264660\u001b[0m \u001b[36mepoch\u001b[0m=\u001b[35m55\u001b[0m \u001b[36mmetrics\u001b[0m=\u001b[35m{'time_sample_batch': 0.000244913453968584, 'time_algorithm_update': 0.01684174221550933, 'loss': -152.98669948165653, 'time_step': 0.01715787043694348, 'observation_error': 0.3884947357283675, 'reward_error': 3.2372047710459804e-05, 'variance': 0.4409527833732195}\u001b[0m \u001b[36mstep\u001b[0m=\u001b[35m264660\u001b[0m\n",
      "\u001b[2m2023-10-22 09:46:22\u001b[0m [\u001b[32m\u001b[1minfo     \u001b[0m] \u001b[1mModel parameters are saved to d3rlpy_logs/exp_5_dynamics_reacher_default_20231022074412/model_264660.pt\u001b[0m\n"
     ]
    },
    {
     "data": {
      "application/vnd.jupyter.widget-view+json": {
       "model_id": "fcebcb7a110a45ba8394f1ca6bc7b87b",
       "version_major": 2,
       "version_minor": 0
      },
      "text/plain": [
       "Epoch 56/100:   0%|          | 0/4812 [00:00<?, ?it/s]"
      ]
     },
     "metadata": {},
     "output_type": "display_data"
    },
    {
     "name": "stdout",
     "output_type": "stream",
     "text": [
      "\u001b[2m2023-10-22 09:48:35\u001b[0m [\u001b[32m\u001b[1minfo     \u001b[0m] \u001b[1mexp_5_dynamics_reacher_default_20231022074412: epoch=56 step=269472\u001b[0m \u001b[36mepoch\u001b[0m=\u001b[35m56\u001b[0m \u001b[36mmetrics\u001b[0m=\u001b[35m{'time_sample_batch': 0.00024657480338168757, 'time_algorithm_update': 0.01691007594317074, 'loss': -153.97540177133612, 'time_step': 0.017228238699541227, 'observation_error': 0.38107191596116585, 'reward_error': 2.6059779855088356e-05, 'variance': 0.44327858306841894}\u001b[0m \u001b[36mstep\u001b[0m=\u001b[35m269472\u001b[0m\n",
      "\u001b[2m2023-10-22 09:48:35\u001b[0m [\u001b[32m\u001b[1minfo     \u001b[0m] \u001b[1mModel parameters are saved to d3rlpy_logs/exp_5_dynamics_reacher_default_20231022074412/model_269472.pt\u001b[0m\n"
     ]
    },
    {
     "data": {
      "application/vnd.jupyter.widget-view+json": {
       "model_id": "817dac4129814750ad027de949e58517",
       "version_major": 2,
       "version_minor": 0
      },
      "text/plain": [
       "Epoch 57/100:   0%|          | 0/4812 [00:00<?, ?it/s]"
      ]
     },
     "metadata": {},
     "output_type": "display_data"
    },
    {
     "name": "stdout",
     "output_type": "stream",
     "text": [
      "\u001b[2m2023-10-22 09:50:48\u001b[0m [\u001b[32m\u001b[1minfo     \u001b[0m] \u001b[1mexp_5_dynamics_reacher_default_20231022074412: epoch=57 step=274284\u001b[0m \u001b[36mepoch\u001b[0m=\u001b[35m57\u001b[0m \u001b[36mmetrics\u001b[0m=\u001b[35m{'time_sample_batch': 0.00025039331574095157, 'time_algorithm_update': 0.01685061002907313, 'loss': -154.07266352043882, 'time_step': 0.017172980387807388, 'observation_error': 0.3770459351294618, 'reward_error': 2.5918508649086173e-05, 'variance': 0.4360223721380731}\u001b[0m \u001b[36mstep\u001b[0m=\u001b[35m274284\u001b[0m\n",
      "\u001b[2m2023-10-22 09:50:48\u001b[0m [\u001b[32m\u001b[1minfo     \u001b[0m] \u001b[1mModel parameters are saved to d3rlpy_logs/exp_5_dynamics_reacher_default_20231022074412/model_274284.pt\u001b[0m\n"
     ]
    },
    {
     "data": {
      "application/vnd.jupyter.widget-view+json": {
       "model_id": "2f7cde87837447efbb3d92c947c6a82d",
       "version_major": 2,
       "version_minor": 0
      },
      "text/plain": [
       "Epoch 58/100:   0%|          | 0/4812 [00:00<?, ?it/s]"
      ]
     },
     "metadata": {},
     "output_type": "display_data"
    },
    {
     "name": "stdout",
     "output_type": "stream",
     "text": [
      "\u001b[2m2023-10-22 09:53:01\u001b[0m [\u001b[32m\u001b[1minfo     \u001b[0m] \u001b[1mexp_5_dynamics_reacher_default_20231022074412: epoch=58 step=279096\u001b[0m \u001b[36mepoch\u001b[0m=\u001b[35m58\u001b[0m \u001b[36mmetrics\u001b[0m=\u001b[35m{'time_sample_batch': 0.00025139569443459323, 'time_algorithm_update': 0.01680803343542199, 'loss': -154.07489477389075, 'time_step': 0.01713142569423812, 'observation_error': 0.37888896081954815, 'reward_error': 2.497516104634554e-05, 'variance': 0.4400137434683642}\u001b[0m \u001b[36mstep\u001b[0m=\u001b[35m279096\u001b[0m\n",
      "\u001b[2m2023-10-22 09:53:01\u001b[0m [\u001b[32m\u001b[1minfo     \u001b[0m] \u001b[1mModel parameters are saved to d3rlpy_logs/exp_5_dynamics_reacher_default_20231022074412/model_279096.pt\u001b[0m\n"
     ]
    },
    {
     "data": {
      "application/vnd.jupyter.widget-view+json": {
       "model_id": "5995e29c4bd04216a8c08e307759d1c0",
       "version_major": 2,
       "version_minor": 0
      },
      "text/plain": [
       "Epoch 59/100:   0%|          | 0/4812 [00:00<?, ?it/s]"
      ]
     },
     "metadata": {},
     "output_type": "display_data"
    },
    {
     "name": "stdout",
     "output_type": "stream",
     "text": [
      "\u001b[2m2023-10-22 09:55:14\u001b[0m [\u001b[32m\u001b[1minfo     \u001b[0m] \u001b[1mexp_5_dynamics_reacher_default_20231022074412: epoch=59 step=283908\u001b[0m \u001b[36mepoch\u001b[0m=\u001b[35m59\u001b[0m \u001b[36mmetrics\u001b[0m=\u001b[35m{'time_sample_batch': 0.00024787461073915855, 'time_algorithm_update': 0.01686836780356251, 'loss': -154.25114446903206, 'time_step': 0.0171887823074734, 'observation_error': 0.3674113767885988, 'reward_error': 2.775257207591646e-05, 'variance': 0.43425224757035763}\u001b[0m \u001b[36mstep\u001b[0m=\u001b[35m283908\u001b[0m\n",
      "\u001b[2m2023-10-22 09:55:14\u001b[0m [\u001b[32m\u001b[1minfo     \u001b[0m] \u001b[1mModel parameters are saved to d3rlpy_logs/exp_5_dynamics_reacher_default_20231022074412/model_283908.pt\u001b[0m\n"
     ]
    },
    {
     "data": {
      "application/vnd.jupyter.widget-view+json": {
       "model_id": "c2b3e6e53ac04145858d9687dcb78fc2",
       "version_major": 2,
       "version_minor": 0
      },
      "text/plain": [
       "Epoch 60/100:   0%|          | 0/4812 [00:00<?, ?it/s]"
      ]
     },
     "metadata": {},
     "output_type": "display_data"
    },
    {
     "name": "stdout",
     "output_type": "stream",
     "text": [
      "\u001b[2m2023-10-22 09:57:27\u001b[0m [\u001b[32m\u001b[1minfo     \u001b[0m] \u001b[1mexp_5_dynamics_reacher_default_20231022074412: epoch=60 step=288720\u001b[0m \u001b[36mepoch\u001b[0m=\u001b[35m60\u001b[0m \u001b[36mmetrics\u001b[0m=\u001b[35m{'time_sample_batch': 0.000246138346760053, 'time_algorithm_update': 0.016863204792748863, 'loss': -154.56918411817733, 'time_step': 0.01718113165742045, 'observation_error': 0.36777019125165356, 'reward_error': 2.504775504454175e-05, 'variance': 0.43443562765572946}\u001b[0m \u001b[36mstep\u001b[0m=\u001b[35m288720\u001b[0m\n",
      "\u001b[2m2023-10-22 09:57:27\u001b[0m [\u001b[32m\u001b[1minfo     \u001b[0m] \u001b[1mModel parameters are saved to d3rlpy_logs/exp_5_dynamics_reacher_default_20231022074412/model_288720.pt\u001b[0m\n"
     ]
    },
    {
     "data": {
      "application/vnd.jupyter.widget-view+json": {
       "model_id": "3e74af4131bb47559ad6307ae22391a3",
       "version_major": 2,
       "version_minor": 0
      },
      "text/plain": [
       "Epoch 61/100:   0%|          | 0/4812 [00:00<?, ?it/s]"
      ]
     },
     "metadata": {},
     "output_type": "display_data"
    },
    {
     "name": "stdout",
     "output_type": "stream",
     "text": [
      "\u001b[2m2023-10-22 09:59:40\u001b[0m [\u001b[32m\u001b[1minfo     \u001b[0m] \u001b[1mexp_5_dynamics_reacher_default_20231022074412: epoch=61 step=293532\u001b[0m \u001b[36mepoch\u001b[0m=\u001b[35m61\u001b[0m \u001b[36mmetrics\u001b[0m=\u001b[35m{'time_sample_batch': 0.00025429769248042815, 'time_algorithm_update': 0.016715590793295692, 'loss': -155.34283918553555, 'time_step': 0.01704137922819713, 'observation_error': 0.3600691472997211, 'reward_error': 2.5305201014540295e-05, 'variance': 0.42217175071364305}\u001b[0m \u001b[36mstep\u001b[0m=\u001b[35m293532\u001b[0m\n",
      "\u001b[2m2023-10-22 09:59:40\u001b[0m [\u001b[32m\u001b[1minfo     \u001b[0m] \u001b[1mModel parameters are saved to d3rlpy_logs/exp_5_dynamics_reacher_default_20231022074412/model_293532.pt\u001b[0m\n"
     ]
    },
    {
     "data": {
      "application/vnd.jupyter.widget-view+json": {
       "model_id": "a0d3c9eb530d4a90bbdc73a1949d9d31",
       "version_major": 2,
       "version_minor": 0
      },
      "text/plain": [
       "Epoch 62/100:   0%|          | 0/4812 [00:00<?, ?it/s]"
      ]
     },
     "metadata": {},
     "output_type": "display_data"
    },
    {
     "name": "stdout",
     "output_type": "stream",
     "text": [
      "\u001b[2m2023-10-22 10:01:53\u001b[0m [\u001b[32m\u001b[1minfo     \u001b[0m] \u001b[1mexp_5_dynamics_reacher_default_20231022074412: epoch=62 step=298344\u001b[0m \u001b[36mepoch\u001b[0m=\u001b[35m62\u001b[0m \u001b[36mmetrics\u001b[0m=\u001b[35m{'time_sample_batch': 0.0002497819098253004, 'time_algorithm_update': 0.016830916069788628, 'loss': -155.0252802667277, 'time_step': 0.017152748302133106, 'observation_error': 0.3558402405758255, 'reward_error': 2.1742536508299758e-05, 'variance': 0.43326020828476625}\u001b[0m \u001b[36mstep\u001b[0m=\u001b[35m298344\u001b[0m\n",
      "\u001b[2m2023-10-22 10:01:53\u001b[0m [\u001b[32m\u001b[1minfo     \u001b[0m] \u001b[1mModel parameters are saved to d3rlpy_logs/exp_5_dynamics_reacher_default_20231022074412/model_298344.pt\u001b[0m\n"
     ]
    },
    {
     "data": {
      "application/vnd.jupyter.widget-view+json": {
       "model_id": "60b1942a1e7f447c85b2b4180ec4ad25",
       "version_major": 2,
       "version_minor": 0
      },
      "text/plain": [
       "Epoch 63/100:   0%|          | 0/4812 [00:00<?, ?it/s]"
      ]
     },
     "metadata": {},
     "output_type": "display_data"
    },
    {
     "name": "stdout",
     "output_type": "stream",
     "text": [
      "\u001b[2m2023-10-22 10:04:07\u001b[0m [\u001b[32m\u001b[1minfo     \u001b[0m] \u001b[1mexp_5_dynamics_reacher_default_20231022074412: epoch=63 step=303156\u001b[0m \u001b[36mepoch\u001b[0m=\u001b[35m63\u001b[0m \u001b[36mmetrics\u001b[0m=\u001b[35m{'time_sample_batch': 0.0002473237013083543, 'time_algorithm_update': 0.01691861025809449, 'loss': -156.051852457343, 'time_step': 0.01723888831047445, 'observation_error': 0.3450320009423022, 'reward_error': 2.1499110897488023e-05, 'variance': 0.41805872771319763}\u001b[0m \u001b[36mstep\u001b[0m=\u001b[35m303156\u001b[0m\n",
      "\u001b[2m2023-10-22 10:04:07\u001b[0m [\u001b[32m\u001b[1minfo     \u001b[0m] \u001b[1mModel parameters are saved to d3rlpy_logs/exp_5_dynamics_reacher_default_20231022074412/model_303156.pt\u001b[0m\n"
     ]
    },
    {
     "data": {
      "application/vnd.jupyter.widget-view+json": {
       "model_id": "944b31f5723f49c8b97a7824c8c7ce26",
       "version_major": 2,
       "version_minor": 0
      },
      "text/plain": [
       "Epoch 64/100:   0%|          | 0/4812 [00:00<?, ?it/s]"
      ]
     },
     "metadata": {},
     "output_type": "display_data"
    },
    {
     "name": "stdout",
     "output_type": "stream",
     "text": [
      "\u001b[2m2023-10-22 10:06:20\u001b[0m [\u001b[32m\u001b[1minfo     \u001b[0m] \u001b[1mexp_5_dynamics_reacher_default_20231022074412: epoch=64 step=307968\u001b[0m \u001b[36mepoch\u001b[0m=\u001b[35m64\u001b[0m \u001b[36mmetrics\u001b[0m=\u001b[35m{'time_sample_batch': 0.0002483224135483689, 'time_algorithm_update': 0.016808743340118865, 'loss': -157.09788865004592, 'time_step': 0.017129102203118633, 'observation_error': 0.3381803488223716, 'reward_error': 2.2483886715166463e-05, 'variance': 0.4181520622215371}\u001b[0m \u001b[36mstep\u001b[0m=\u001b[35m307968\u001b[0m\n",
      "\u001b[2m2023-10-22 10:06:20\u001b[0m [\u001b[32m\u001b[1minfo     \u001b[0m] \u001b[1mModel parameters are saved to d3rlpy_logs/exp_5_dynamics_reacher_default_20231022074412/model_307968.pt\u001b[0m\n"
     ]
    },
    {
     "data": {
      "application/vnd.jupyter.widget-view+json": {
       "model_id": "d82804d2a00b4eb8b860352f70aa9818",
       "version_major": 2,
       "version_minor": 0
      },
      "text/plain": [
       "Epoch 65/100:   0%|          | 0/4812 [00:00<?, ?it/s]"
      ]
     },
     "metadata": {},
     "output_type": "display_data"
    },
    {
     "name": "stdout",
     "output_type": "stream",
     "text": [
      "\u001b[2m2023-10-22 10:08:34\u001b[0m [\u001b[32m\u001b[1minfo     \u001b[0m] \u001b[1mexp_5_dynamics_reacher_default_20231022074412: epoch=65 step=312780\u001b[0m \u001b[36mepoch\u001b[0m=\u001b[35m65\u001b[0m \u001b[36mmetrics\u001b[0m=\u001b[35m{'time_sample_batch': 0.00025210976105180267, 'time_algorithm_update': 0.016787279375572554, 'loss': -157.42065039497558, 'time_step': 0.017112335163855297, 'observation_error': 0.33768346917547903, 'reward_error': 2.429705248147334e-05, 'variance': 0.4275669029796854}\u001b[0m \u001b[36mstep\u001b[0m=\u001b[35m312780\u001b[0m\n",
      "\u001b[2m2023-10-22 10:08:34\u001b[0m [\u001b[32m\u001b[1minfo     \u001b[0m] \u001b[1mModel parameters are saved to d3rlpy_logs/exp_5_dynamics_reacher_default_20231022074412/model_312780.pt\u001b[0m\n"
     ]
    },
    {
     "data": {
      "application/vnd.jupyter.widget-view+json": {
       "model_id": "7af524ed3c0b4833b724a3419559d6bf",
       "version_major": 2,
       "version_minor": 0
      },
      "text/plain": [
       "Epoch 66/100:   0%|          | 0/4812 [00:00<?, ?it/s]"
      ]
     },
     "metadata": {},
     "output_type": "display_data"
    },
    {
     "name": "stdout",
     "output_type": "stream",
     "text": [
      "\u001b[2m2023-10-22 10:10:47\u001b[0m [\u001b[32m\u001b[1minfo     \u001b[0m] \u001b[1mexp_5_dynamics_reacher_default_20231022074412: epoch=66 step=317592\u001b[0m \u001b[36mepoch\u001b[0m=\u001b[35m66\u001b[0m \u001b[36mmetrics\u001b[0m=\u001b[35m{'time_sample_batch': 0.0002510746320088704, 'time_algorithm_update': 0.01686664229121093, 'loss': -156.73382380399124, 'time_step': 0.017190754760431432, 'observation_error': 0.3238462913918291, 'reward_error': 2.0289332515582273e-05, 'variance': 0.4020944266235698}\u001b[0m \u001b[36mstep\u001b[0m=\u001b[35m317592\u001b[0m\n",
      "\u001b[2m2023-10-22 10:10:47\u001b[0m [\u001b[32m\u001b[1minfo     \u001b[0m] \u001b[1mModel parameters are saved to d3rlpy_logs/exp_5_dynamics_reacher_default_20231022074412/model_317592.pt\u001b[0m\n"
     ]
    },
    {
     "data": {
      "application/vnd.jupyter.widget-view+json": {
       "model_id": "4ac796e6045347de99da55cf46c16fbd",
       "version_major": 2,
       "version_minor": 0
      },
      "text/plain": [
       "Epoch 67/100:   0%|          | 0/4812 [00:00<?, ?it/s]"
      ]
     },
     "metadata": {},
     "output_type": "display_data"
    },
    {
     "name": "stdout",
     "output_type": "stream",
     "text": [
      "\u001b[2m2023-10-22 10:12:59\u001b[0m [\u001b[32m\u001b[1minfo     \u001b[0m] \u001b[1mexp_5_dynamics_reacher_default_20231022074412: epoch=67 step=322404\u001b[0m \u001b[36mepoch\u001b[0m=\u001b[35m67\u001b[0m \u001b[36mmetrics\u001b[0m=\u001b[35m{'time_sample_batch': 0.0002512333299949183, 'time_algorithm_update': 0.016755302548903974, 'loss': -158.05685488224427, 'time_step': 0.017078217376001854, 'observation_error': 0.31844132525980845, 'reward_error': 2.076037192435817e-05, 'variance': 0.41156914960043167}\u001b[0m \u001b[36mstep\u001b[0m=\u001b[35m322404\u001b[0m\n",
      "\u001b[2m2023-10-22 10:12:59\u001b[0m [\u001b[32m\u001b[1minfo     \u001b[0m] \u001b[1mModel parameters are saved to d3rlpy_logs/exp_5_dynamics_reacher_default_20231022074412/model_322404.pt\u001b[0m\n"
     ]
    },
    {
     "data": {
      "application/vnd.jupyter.widget-view+json": {
       "model_id": "e0c97821ba0949c3a08ba0612a6b5f12",
       "version_major": 2,
       "version_minor": 0
      },
      "text/plain": [
       "Epoch 68/100:   0%|          | 0/4812 [00:00<?, ?it/s]"
      ]
     },
     "metadata": {},
     "output_type": "display_data"
    },
    {
     "name": "stdout",
     "output_type": "stream",
     "text": [
      "\u001b[2m2023-10-22 10:15:12\u001b[0m [\u001b[32m\u001b[1minfo     \u001b[0m] \u001b[1mexp_5_dynamics_reacher_default_20231022074412: epoch=68 step=327216\u001b[0m \u001b[36mepoch\u001b[0m=\u001b[35m68\u001b[0m \u001b[36mmetrics\u001b[0m=\u001b[35m{'time_sample_batch': 0.00025146005555974973, 'time_algorithm_update': 0.016805641371710343, 'loss': -158.45574860481648, 'time_step': 0.01712925837422448, 'observation_error': 0.31503143824948576, 'reward_error': 2.0301556056348784e-05, 'variance': 0.4033727298468989}\u001b[0m \u001b[36mstep\u001b[0m=\u001b[35m327216\u001b[0m\n",
      "\u001b[2m2023-10-22 10:15:12\u001b[0m [\u001b[32m\u001b[1minfo     \u001b[0m] \u001b[1mModel parameters are saved to d3rlpy_logs/exp_5_dynamics_reacher_default_20231022074412/model_327216.pt\u001b[0m\n"
     ]
    },
    {
     "data": {
      "application/vnd.jupyter.widget-view+json": {
       "model_id": "ae3b007f20e94abebb1ab56ffd8a2717",
       "version_major": 2,
       "version_minor": 0
      },
      "text/plain": [
       "Epoch 69/100:   0%|          | 0/4812 [00:00<?, ?it/s]"
      ]
     },
     "metadata": {},
     "output_type": "display_data"
    },
    {
     "name": "stdout",
     "output_type": "stream",
     "text": [
      "\u001b[2m2023-10-22 10:17:25\u001b[0m [\u001b[32m\u001b[1minfo     \u001b[0m] \u001b[1mexp_5_dynamics_reacher_default_20231022074412: epoch=69 step=332028\u001b[0m \u001b[36mepoch\u001b[0m=\u001b[35m69\u001b[0m \u001b[36mmetrics\u001b[0m=\u001b[35m{'time_sample_batch': 0.0002486612632288501, 'time_algorithm_update': 0.01693672090397214, 'loss': -159.02307239851154, 'time_step': 0.017258404942224744, 'observation_error': 0.30579897507424375, 'reward_error': 1.7331796654768708e-05, 'variance': 0.40049631883950576}\u001b[0m \u001b[36mstep\u001b[0m=\u001b[35m332028\u001b[0m\n",
      "\u001b[2m2023-10-22 10:17:25\u001b[0m [\u001b[32m\u001b[1minfo     \u001b[0m] \u001b[1mModel parameters are saved to d3rlpy_logs/exp_5_dynamics_reacher_default_20231022074412/model_332028.pt\u001b[0m\n"
     ]
    },
    {
     "data": {
      "application/vnd.jupyter.widget-view+json": {
       "model_id": "1de20a8c17834da9b483c45f51c6cf14",
       "version_major": 2,
       "version_minor": 0
      },
      "text/plain": [
       "Epoch 70/100:   0%|          | 0/4812 [00:00<?, ?it/s]"
      ]
     },
     "metadata": {},
     "output_type": "display_data"
    },
    {
     "name": "stdout",
     "output_type": "stream",
     "text": [
      "\u001b[2m2023-10-22 10:19:38\u001b[0m [\u001b[32m\u001b[1minfo     \u001b[0m] \u001b[1mexp_5_dynamics_reacher_default_20231022074412: epoch=70 step=336840\u001b[0m \u001b[36mepoch\u001b[0m=\u001b[35m70\u001b[0m \u001b[36mmetrics\u001b[0m=\u001b[35m{'time_sample_batch': 0.0002500999994507851, 'time_algorithm_update': 0.016768320292506928, 'loss': -159.65609780531176, 'time_step': 0.017090122697755682, 'observation_error': 0.2951414367596547, 'reward_error': 1.878028027550768e-05, 'variance': 0.39437319582574254}\u001b[0m \u001b[36mstep\u001b[0m=\u001b[35m336840\u001b[0m\n",
      "\u001b[2m2023-10-22 10:19:38\u001b[0m [\u001b[32m\u001b[1minfo     \u001b[0m] \u001b[1mModel parameters are saved to d3rlpy_logs/exp_5_dynamics_reacher_default_20231022074412/model_336840.pt\u001b[0m\n"
     ]
    },
    {
     "data": {
      "application/vnd.jupyter.widget-view+json": {
       "model_id": "008e4d28b5e84729ad4ba4d7f82bbe69",
       "version_major": 2,
       "version_minor": 0
      },
      "text/plain": [
       "Epoch 71/100:   0%|          | 0/4812 [00:00<?, ?it/s]"
      ]
     },
     "metadata": {},
     "output_type": "display_data"
    },
    {
     "name": "stdout",
     "output_type": "stream",
     "text": [
      "\u001b[2m2023-10-22 10:21:51\u001b[0m [\u001b[32m\u001b[1minfo     \u001b[0m] \u001b[1mexp_5_dynamics_reacher_default_20231022074412: epoch=71 step=341652\u001b[0m \u001b[36mepoch\u001b[0m=\u001b[35m71\u001b[0m \u001b[36mmetrics\u001b[0m=\u001b[35m{'time_sample_batch': 0.00025165482352202073, 'time_algorithm_update': 0.016778199997725132, 'loss': -159.35376698516947, 'time_step': 0.017102180177335034, 'observation_error': 0.29774581684193197, 'reward_error': 1.714206611363994e-05, 'variance': 0.39970481450375167}\u001b[0m \u001b[36mstep\u001b[0m=\u001b[35m341652\u001b[0m\n",
      "\u001b[2m2023-10-22 10:21:51\u001b[0m [\u001b[32m\u001b[1minfo     \u001b[0m] \u001b[1mModel parameters are saved to d3rlpy_logs/exp_5_dynamics_reacher_default_20231022074412/model_341652.pt\u001b[0m\n"
     ]
    },
    {
     "data": {
      "application/vnd.jupyter.widget-view+json": {
       "model_id": "cb3978e279fe49ada50bebfde1696c3b",
       "version_major": 2,
       "version_minor": 0
      },
      "text/plain": [
       "Epoch 72/100:   0%|          | 0/4812 [00:00<?, ?it/s]"
      ]
     },
     "metadata": {},
     "output_type": "display_data"
    },
    {
     "name": "stdout",
     "output_type": "stream",
     "text": [
      "\u001b[2m2023-10-22 10:24:05\u001b[0m [\u001b[32m\u001b[1minfo     \u001b[0m] \u001b[1mexp_5_dynamics_reacher_default_20231022074412: epoch=72 step=346464\u001b[0m \u001b[36mepoch\u001b[0m=\u001b[35m72\u001b[0m \u001b[36mmetrics\u001b[0m=\u001b[35m{'time_sample_batch': 0.0002463431726964632, 'time_algorithm_update': 0.0169710278114674, 'loss': -160.66650912648723, 'time_step': 0.017290231147014588, 'observation_error': 0.2985725272473763, 'reward_error': 1.6818095837744642e-05, 'variance': 0.39305785557347}\u001b[0m \u001b[36mstep\u001b[0m=\u001b[35m346464\u001b[0m\n",
      "\u001b[2m2023-10-22 10:24:05\u001b[0m [\u001b[32m\u001b[1minfo     \u001b[0m] \u001b[1mModel parameters are saved to d3rlpy_logs/exp_5_dynamics_reacher_default_20231022074412/model_346464.pt\u001b[0m\n"
     ]
    },
    {
     "data": {
      "application/vnd.jupyter.widget-view+json": {
       "model_id": "226f2748201345d985643cff37c4b934",
       "version_major": 2,
       "version_minor": 0
      },
      "text/plain": [
       "Epoch 73/100:   0%|          | 0/4812 [00:00<?, ?it/s]"
      ]
     },
     "metadata": {},
     "output_type": "display_data"
    },
    {
     "name": "stdout",
     "output_type": "stream",
     "text": [
      "\u001b[2m2023-10-22 10:26:25\u001b[0m [\u001b[32m\u001b[1minfo     \u001b[0m] \u001b[1mexp_5_dynamics_reacher_default_20231022074412: epoch=73 step=351276\u001b[0m \u001b[36mepoch\u001b[0m=\u001b[35m73\u001b[0m \u001b[36mmetrics\u001b[0m=\u001b[35m{'time_sample_batch': 0.0002526992673390326, 'time_algorithm_update': 0.017153214784037144, 'loss': -159.91486952409878, 'time_step': 0.01747929717933547, 'observation_error': 0.29599031978452833, 'reward_error': 2.1565811258398764e-05, 'variance': 0.39773679315414145}\u001b[0m \u001b[36mstep\u001b[0m=\u001b[35m351276\u001b[0m\n",
      "\u001b[2m2023-10-22 10:26:25\u001b[0m [\u001b[32m\u001b[1minfo     \u001b[0m] \u001b[1mModel parameters are saved to d3rlpy_logs/exp_5_dynamics_reacher_default_20231022074412/model_351276.pt\u001b[0m\n"
     ]
    },
    {
     "data": {
      "application/vnd.jupyter.widget-view+json": {
       "model_id": "402c58077bfd45c4aa3cd73b185c7441",
       "version_major": 2,
       "version_minor": 0
      },
      "text/plain": [
       "Epoch 74/100:   0%|          | 0/4812 [00:00<?, ?it/s]"
      ]
     },
     "metadata": {},
     "output_type": "display_data"
    },
    {
     "name": "stdout",
     "output_type": "stream",
     "text": [
      "\u001b[2m2023-10-22 10:28:43\u001b[0m [\u001b[32m\u001b[1minfo     \u001b[0m] \u001b[1mexp_5_dynamics_reacher_default_20231022074412: epoch=74 step=356088\u001b[0m \u001b[36mepoch\u001b[0m=\u001b[35m74\u001b[0m \u001b[36mmetrics\u001b[0m=\u001b[35m{'time_sample_batch': 0.0002481675802026306, 'time_algorithm_update': 0.01769920413135392, 'loss': -160.68542159564873, 'time_step': 0.01802091021787496, 'observation_error': 0.2892673241744147, 'reward_error': 1.6778787809844993e-05, 'variance': 0.3881871236280169}\u001b[0m \u001b[36mstep\u001b[0m=\u001b[35m356088\u001b[0m\n",
      "\u001b[2m2023-10-22 10:28:43\u001b[0m [\u001b[32m\u001b[1minfo     \u001b[0m] \u001b[1mModel parameters are saved to d3rlpy_logs/exp_5_dynamics_reacher_default_20231022074412/model_356088.pt\u001b[0m\n"
     ]
    },
    {
     "data": {
      "application/vnd.jupyter.widget-view+json": {
       "model_id": "4b80a8c4a89744e5ba3d92da17500401",
       "version_major": 2,
       "version_minor": 0
      },
      "text/plain": [
       "Epoch 75/100:   0%|          | 0/4812 [00:00<?, ?it/s]"
      ]
     },
     "metadata": {},
     "output_type": "display_data"
    },
    {
     "name": "stdout",
     "output_type": "stream",
     "text": [
      "\u001b[2m2023-10-22 10:31:00\u001b[0m [\u001b[32m\u001b[1minfo     \u001b[0m] \u001b[1mexp_5_dynamics_reacher_default_20231022074412: epoch=75 step=360900\u001b[0m \u001b[36mepoch\u001b[0m=\u001b[35m75\u001b[0m \u001b[36mmetrics\u001b[0m=\u001b[35m{'time_sample_batch': 0.00024429243599882945, 'time_algorithm_update': 0.017511944917471132, 'loss': -161.6404068579004, 'time_step': 0.01782902839871515, 'observation_error': 0.28576137250096123, 'reward_error': 1.5979896831748565e-05, 'variance': 0.3899734777548896}\u001b[0m \u001b[36mstep\u001b[0m=\u001b[35m360900\u001b[0m\n",
      "\u001b[2m2023-10-22 10:31:00\u001b[0m [\u001b[32m\u001b[1minfo     \u001b[0m] \u001b[1mModel parameters are saved to d3rlpy_logs/exp_5_dynamics_reacher_default_20231022074412/model_360900.pt\u001b[0m\n"
     ]
    },
    {
     "data": {
      "application/vnd.jupyter.widget-view+json": {
       "model_id": "e0e27614bd5a4c27ad92490691a29400",
       "version_major": 2,
       "version_minor": 0
      },
      "text/plain": [
       "Epoch 76/100:   0%|          | 0/4812 [00:00<?, ?it/s]"
      ]
     },
     "metadata": {},
     "output_type": "display_data"
    },
    {
     "name": "stdout",
     "output_type": "stream",
     "text": [
      "\u001b[2m2023-10-22 10:33:17\u001b[0m [\u001b[32m\u001b[1minfo     \u001b[0m] \u001b[1mexp_5_dynamics_reacher_default_20231022074412: epoch=76 step=365712\u001b[0m \u001b[36mepoch\u001b[0m=\u001b[35m76\u001b[0m \u001b[36mmetrics\u001b[0m=\u001b[35m{'time_sample_batch': 0.0002469710281067656, 'time_algorithm_update': 0.017445553815672026, 'loss': -161.54813944768233, 'time_step': 0.01776569274100084, 'observation_error': 0.28074721298204874, 'reward_error': 1.4372578776481942e-05, 'variance': 0.38418451983493085}\u001b[0m \u001b[36mstep\u001b[0m=\u001b[35m365712\u001b[0m\n",
      "\u001b[2m2023-10-22 10:33:17\u001b[0m [\u001b[32m\u001b[1minfo     \u001b[0m] \u001b[1mModel parameters are saved to d3rlpy_logs/exp_5_dynamics_reacher_default_20231022074412/model_365712.pt\u001b[0m\n"
     ]
    },
    {
     "data": {
      "application/vnd.jupyter.widget-view+json": {
       "model_id": "6806e6216f3246219a5700bc32570d01",
       "version_major": 2,
       "version_minor": 0
      },
      "text/plain": [
       "Epoch 77/100:   0%|          | 0/4812 [00:00<?, ?it/s]"
      ]
     },
     "metadata": {},
     "output_type": "display_data"
    },
    {
     "name": "stdout",
     "output_type": "stream",
     "text": [
      "\u001b[2m2023-10-22 10:35:32\u001b[0m [\u001b[32m\u001b[1minfo     \u001b[0m] \u001b[1mexp_5_dynamics_reacher_default_20231022074412: epoch=77 step=370524\u001b[0m \u001b[36mepoch\u001b[0m=\u001b[35m77\u001b[0m \u001b[36mmetrics\u001b[0m=\u001b[35m{'time_sample_batch': 0.0002497500017694107, 'time_algorithm_update': 0.017021036752540672, 'loss': -161.4213896788663, 'time_step': 0.01734508233375581, 'observation_error': 0.27748475112326854, 'reward_error': 1.5581907537215424e-05, 'variance': 0.3819006038786808}\u001b[0m \u001b[36mstep\u001b[0m=\u001b[35m370524\u001b[0m\n",
      "\u001b[2m2023-10-22 10:35:32\u001b[0m [\u001b[32m\u001b[1minfo     \u001b[0m] \u001b[1mModel parameters are saved to d3rlpy_logs/exp_5_dynamics_reacher_default_20231022074412/model_370524.pt\u001b[0m\n"
     ]
    },
    {
     "data": {
      "application/vnd.jupyter.widget-view+json": {
       "model_id": "4ed0003521ba441486601d224665ff53",
       "version_major": 2,
       "version_minor": 0
      },
      "text/plain": [
       "Epoch 78/100:   0%|          | 0/4812 [00:00<?, ?it/s]"
      ]
     },
     "metadata": {},
     "output_type": "display_data"
    },
    {
     "name": "stdout",
     "output_type": "stream",
     "text": [
      "\u001b[2m2023-10-22 10:37:46\u001b[0m [\u001b[32m\u001b[1minfo     \u001b[0m] \u001b[1mexp_5_dynamics_reacher_default_20231022074412: epoch=78 step=375336\u001b[0m \u001b[36mepoch\u001b[0m=\u001b[35m78\u001b[0m \u001b[36mmetrics\u001b[0m=\u001b[35m{'time_sample_batch': 0.0002480613521407865, 'time_algorithm_update': 0.016956909586762946, 'loss': -162.75049005779542, 'time_step': 0.017278059710092775, 'observation_error': 0.2675259301626273, 'reward_error': 1.5775871652971966e-05, 'variance': 0.37597466741826324}\u001b[0m \u001b[36mstep\u001b[0m=\u001b[35m375336\u001b[0m\n",
      "\u001b[2m2023-10-22 10:37:46\u001b[0m [\u001b[32m\u001b[1minfo     \u001b[0m] \u001b[1mModel parameters are saved to d3rlpy_logs/exp_5_dynamics_reacher_default_20231022074412/model_375336.pt\u001b[0m\n"
     ]
    },
    {
     "data": {
      "application/vnd.jupyter.widget-view+json": {
       "model_id": "4fb4fa9dcd8c4c7390297f675a85b7b3",
       "version_major": 2,
       "version_minor": 0
      },
      "text/plain": [
       "Epoch 79/100:   0%|          | 0/4812 [00:00<?, ?it/s]"
      ]
     },
     "metadata": {},
     "output_type": "display_data"
    },
    {
     "name": "stdout",
     "output_type": "stream",
     "text": [
      "\u001b[2m2023-10-22 10:40:02\u001b[0m [\u001b[32m\u001b[1minfo     \u001b[0m] \u001b[1mexp_5_dynamics_reacher_default_20231022074412: epoch=79 step=380148\u001b[0m \u001b[36mepoch\u001b[0m=\u001b[35m79\u001b[0m \u001b[36mmetrics\u001b[0m=\u001b[35m{'time_sample_batch': 0.0002482148477264176, 'time_algorithm_update': 0.01743762327647665, 'loss': -162.32336574183438, 'time_step': 0.01775853934133439, 'observation_error': 0.2616878452884609, 'reward_error': 1.6292179994858773e-05, 'variance': 0.37306213955836953}\u001b[0m \u001b[36mstep\u001b[0m=\u001b[35m380148\u001b[0m\n",
      "\u001b[2m2023-10-22 10:40:02\u001b[0m [\u001b[32m\u001b[1minfo     \u001b[0m] \u001b[1mModel parameters are saved to d3rlpy_logs/exp_5_dynamics_reacher_default_20231022074412/model_380148.pt\u001b[0m\n"
     ]
    },
    {
     "data": {
      "application/vnd.jupyter.widget-view+json": {
       "model_id": "a305aff43d134972a6448236f7307c76",
       "version_major": 2,
       "version_minor": 0
      },
      "text/plain": [
       "Epoch 80/100:   0%|          | 0/4812 [00:00<?, ?it/s]"
      ]
     },
     "metadata": {},
     "output_type": "display_data"
    },
    {
     "name": "stdout",
     "output_type": "stream",
     "text": [
      "\u001b[2m2023-10-22 10:42:18\u001b[0m [\u001b[32m\u001b[1minfo     \u001b[0m] \u001b[1mexp_5_dynamics_reacher_default_20231022074412: epoch=80 step=384960\u001b[0m \u001b[36mepoch\u001b[0m=\u001b[35m80\u001b[0m \u001b[36mmetrics\u001b[0m=\u001b[35m{'time_sample_batch': 0.0002539865889355032, 'time_algorithm_update': 0.017367615267721098, 'loss': -162.9557030325816, 'time_step': 0.01769397685850846, 'observation_error': 0.2605608592196139, 'reward_error': 1.4334670533729016e-05, 'variance': 0.3616340528070436}\u001b[0m \u001b[36mstep\u001b[0m=\u001b[35m384960\u001b[0m\n",
      "\u001b[2m2023-10-22 10:42:18\u001b[0m [\u001b[32m\u001b[1minfo     \u001b[0m] \u001b[1mModel parameters are saved to d3rlpy_logs/exp_5_dynamics_reacher_default_20231022074412/model_384960.pt\u001b[0m\n"
     ]
    },
    {
     "data": {
      "application/vnd.jupyter.widget-view+json": {
       "model_id": "efb513aaa319415ca1db073fb89f08a7",
       "version_major": 2,
       "version_minor": 0
      },
      "text/plain": [
       "Epoch 81/100:   0%|          | 0/4812 [00:00<?, ?it/s]"
      ]
     },
     "metadata": {},
     "output_type": "display_data"
    },
    {
     "name": "stdout",
     "output_type": "stream",
     "text": [
      "\u001b[2m2023-10-22 10:44:33\u001b[0m [\u001b[32m\u001b[1minfo     \u001b[0m] \u001b[1mexp_5_dynamics_reacher_default_20231022074412: epoch=81 step=389772\u001b[0m \u001b[36mepoch\u001b[0m=\u001b[35m81\u001b[0m \u001b[36mmetrics\u001b[0m=\u001b[35m{'time_sample_batch': 0.00025571135808702124, 'time_algorithm_update': 0.0171758758456927, 'loss': -162.99095073542986, 'time_step': 0.01750489457487961, 'observation_error': 0.25623952390366866, 'reward_error': 1.2794277289874762e-05, 'variance': 0.3662410342081121}\u001b[0m \u001b[36mstep\u001b[0m=\u001b[35m389772\u001b[0m\n",
      "\u001b[2m2023-10-22 10:44:33\u001b[0m [\u001b[32m\u001b[1minfo     \u001b[0m] \u001b[1mModel parameters are saved to d3rlpy_logs/exp_5_dynamics_reacher_default_20231022074412/model_389772.pt\u001b[0m\n"
     ]
    },
    {
     "data": {
      "application/vnd.jupyter.widget-view+json": {
       "model_id": "2f31c6b858e14912aff08a515d9b61aa",
       "version_major": 2,
       "version_minor": 0
      },
      "text/plain": [
       "Epoch 82/100:   0%|          | 0/4812 [00:00<?, ?it/s]"
      ]
     },
     "metadata": {},
     "output_type": "display_data"
    },
    {
     "name": "stdout",
     "output_type": "stream",
     "text": [
      "\u001b[2m2023-10-22 10:46:49\u001b[0m [\u001b[32m\u001b[1minfo     \u001b[0m] \u001b[1mexp_5_dynamics_reacher_default_20231022074412: epoch=82 step=394584\u001b[0m \u001b[36mepoch\u001b[0m=\u001b[35m82\u001b[0m \u001b[36mmetrics\u001b[0m=\u001b[35m{'time_sample_batch': 0.0002549955573363395, 'time_algorithm_update': 0.01728715890660845, 'loss': -164.57901488436528, 'time_step': 0.017615203696890663, 'observation_error': 0.24748803194014565, 'reward_error': 1.4532175613418458e-05, 'variance': 0.360961536241397}\u001b[0m \u001b[36mstep\u001b[0m=\u001b[35m394584\u001b[0m\n",
      "\u001b[2m2023-10-22 10:46:49\u001b[0m [\u001b[32m\u001b[1minfo     \u001b[0m] \u001b[1mModel parameters are saved to d3rlpy_logs/exp_5_dynamics_reacher_default_20231022074412/model_394584.pt\u001b[0m\n"
     ]
    },
    {
     "data": {
      "application/vnd.jupyter.widget-view+json": {
       "model_id": "9f0b5422bf4242d39ed1f7865e3ad3f6",
       "version_major": 2,
       "version_minor": 0
      },
      "text/plain": [
       "Epoch 83/100:   0%|          | 0/4812 [00:00<?, ?it/s]"
      ]
     },
     "metadata": {},
     "output_type": "display_data"
    },
    {
     "name": "stdout",
     "output_type": "stream",
     "text": [
      "\u001b[2m2023-10-22 10:49:03\u001b[0m [\u001b[32m\u001b[1minfo     \u001b[0m] \u001b[1mexp_5_dynamics_reacher_default_20231022074412: epoch=83 step=399396\u001b[0m \u001b[36mepoch\u001b[0m=\u001b[35m83\u001b[0m \u001b[36mmetrics\u001b[0m=\u001b[35m{'time_sample_batch': 0.00025719448812584625, 'time_algorithm_update': 0.017138056525169365, 'loss': -164.7114181169746, 'time_step': 0.01746794360930585, 'observation_error': 0.24857193892284385, 'reward_error': 1.3697769732732419e-05, 'variance': 0.3541587291026511}\u001b[0m \u001b[36mstep\u001b[0m=\u001b[35m399396\u001b[0m\n",
      "\u001b[2m2023-10-22 10:49:03\u001b[0m [\u001b[32m\u001b[1minfo     \u001b[0m] \u001b[1mModel parameters are saved to d3rlpy_logs/exp_5_dynamics_reacher_default_20231022074412/model_399396.pt\u001b[0m\n"
     ]
    },
    {
     "data": {
      "application/vnd.jupyter.widget-view+json": {
       "model_id": "b60ef8655ea14ce4b1bd61ecb2ab70be",
       "version_major": 2,
       "version_minor": 0
      },
      "text/plain": [
       "Epoch 84/100:   0%|          | 0/4812 [00:00<?, ?it/s]"
      ]
     },
     "metadata": {},
     "output_type": "display_data"
    },
    {
     "name": "stdout",
     "output_type": "stream",
     "text": [
      "\u001b[2m2023-10-22 10:51:18\u001b[0m [\u001b[32m\u001b[1minfo     \u001b[0m] \u001b[1mexp_5_dynamics_reacher_default_20231022074412: epoch=84 step=404208\u001b[0m \u001b[36mepoch\u001b[0m=\u001b[35m84\u001b[0m \u001b[36mmetrics\u001b[0m=\u001b[35m{'time_sample_batch': 0.00025702067840525434, 'time_algorithm_update': 0.01720772518877773, 'loss': -164.65383882950667, 'time_step': 0.01753696504475569, 'observation_error': 0.25435835213821145, 'reward_error': 1.2798873546340806e-05, 'variance': 0.3633678834502315}\u001b[0m \u001b[36mstep\u001b[0m=\u001b[35m404208\u001b[0m\n",
      "\u001b[2m2023-10-22 10:51:18\u001b[0m [\u001b[32m\u001b[1minfo     \u001b[0m] \u001b[1mModel parameters are saved to d3rlpy_logs/exp_5_dynamics_reacher_default_20231022074412/model_404208.pt\u001b[0m\n"
     ]
    },
    {
     "data": {
      "application/vnd.jupyter.widget-view+json": {
       "model_id": "a2be52e62a0b4f67b39ca6312e6ea67b",
       "version_major": 2,
       "version_minor": 0
      },
      "text/plain": [
       "Epoch 85/100:   0%|          | 0/4812 [00:00<?, ?it/s]"
      ]
     },
     "metadata": {},
     "output_type": "display_data"
    },
    {
     "name": "stdout",
     "output_type": "stream",
     "text": [
      "\u001b[2m2023-10-22 10:53:33\u001b[0m [\u001b[32m\u001b[1minfo     \u001b[0m] \u001b[1mexp_5_dynamics_reacher_default_20231022074412: epoch=85 step=409020\u001b[0m \u001b[36mepoch\u001b[0m=\u001b[35m85\u001b[0m \u001b[36mmetrics\u001b[0m=\u001b[35m{'time_sample_batch': 0.00025493243487794895, 'time_algorithm_update': 0.017226690762457208, 'loss': -163.69614862741676, 'time_step': 0.01755461857305005, 'observation_error': 0.2547647296214842, 'reward_error': 1.2592734490236814e-05, 'variance': 0.3542426010951211}\u001b[0m \u001b[36mstep\u001b[0m=\u001b[35m409020\u001b[0m\n",
      "\u001b[2m2023-10-22 10:53:33\u001b[0m [\u001b[32m\u001b[1minfo     \u001b[0m] \u001b[1mModel parameters are saved to d3rlpy_logs/exp_5_dynamics_reacher_default_20231022074412/model_409020.pt\u001b[0m\n"
     ]
    },
    {
     "data": {
      "application/vnd.jupyter.widget-view+json": {
       "model_id": "6d9e5e7ad4174539907eb8deb303ca7d",
       "version_major": 2,
       "version_minor": 0
      },
      "text/plain": [
       "Epoch 86/100:   0%|          | 0/4812 [00:00<?, ?it/s]"
      ]
     },
     "metadata": {},
     "output_type": "display_data"
    },
    {
     "name": "stdout",
     "output_type": "stream",
     "text": [
      "\u001b[2m2023-10-22 10:55:48\u001b[0m [\u001b[32m\u001b[1minfo     \u001b[0m] \u001b[1mexp_5_dynamics_reacher_default_20231022074412: epoch=86 step=413832\u001b[0m \u001b[36mepoch\u001b[0m=\u001b[35m86\u001b[0m \u001b[36mmetrics\u001b[0m=\u001b[35m{'time_sample_batch': 0.0002571454369219164, 'time_algorithm_update': 0.01709879004549009, 'loss': -165.46343817913026, 'time_step': 0.01742850490539944, 'observation_error': 0.25386559471060033, 'reward_error': 1.4365468975188369e-05, 'variance': 0.35947175536707177}\u001b[0m \u001b[36mstep\u001b[0m=\u001b[35m413832\u001b[0m\n",
      "\u001b[2m2023-10-22 10:55:48\u001b[0m [\u001b[32m\u001b[1minfo     \u001b[0m] \u001b[1mModel parameters are saved to d3rlpy_logs/exp_5_dynamics_reacher_default_20231022074412/model_413832.pt\u001b[0m\n"
     ]
    },
    {
     "data": {
      "application/vnd.jupyter.widget-view+json": {
       "model_id": "58abc41d49db4fc5a1f0d996910d1ed9",
       "version_major": 2,
       "version_minor": 0
      },
      "text/plain": [
       "Epoch 87/100:   0%|          | 0/4812 [00:00<?, ?it/s]"
      ]
     },
     "metadata": {},
     "output_type": "display_data"
    },
    {
     "name": "stdout",
     "output_type": "stream",
     "text": [
      "\u001b[2m2023-10-22 10:58:02\u001b[0m [\u001b[32m\u001b[1minfo     \u001b[0m] \u001b[1mexp_5_dynamics_reacher_default_20231022074412: epoch=87 step=418644\u001b[0m \u001b[36mepoch\u001b[0m=\u001b[35m87\u001b[0m \u001b[36mmetrics\u001b[0m=\u001b[35m{'time_sample_batch': 0.0002511582172422338, 'time_algorithm_update': 0.01721622516785873, 'loss': -166.17752797783956, 'time_step': 0.01753927406824735, 'observation_error': 0.24393312600321804, 'reward_error': 1.3301922575770428e-05, 'variance': 0.35115945740921306}\u001b[0m \u001b[36mstep\u001b[0m=\u001b[35m418644\u001b[0m\n",
      "\u001b[2m2023-10-22 10:58:02\u001b[0m [\u001b[32m\u001b[1minfo     \u001b[0m] \u001b[1mModel parameters are saved to d3rlpy_logs/exp_5_dynamics_reacher_default_20231022074412/model_418644.pt\u001b[0m\n"
     ]
    },
    {
     "data": {
      "application/vnd.jupyter.widget-view+json": {
       "model_id": "3b54e20202344795a82958c938f2b8a3",
       "version_major": 2,
       "version_minor": 0
      },
      "text/plain": [
       "Epoch 88/100:   0%|          | 0/4812 [00:00<?, ?it/s]"
      ]
     },
     "metadata": {},
     "output_type": "display_data"
    },
    {
     "name": "stdout",
     "output_type": "stream",
     "text": [
      "\u001b[2m2023-10-22 11:00:17\u001b[0m [\u001b[32m\u001b[1minfo     \u001b[0m] \u001b[1mexp_5_dynamics_reacher_default_20231022074412: epoch=88 step=423456\u001b[0m \u001b[36mepoch\u001b[0m=\u001b[35m88\u001b[0m \u001b[36mmetrics\u001b[0m=\u001b[35m{'time_sample_batch': 0.0002553265290961896, 'time_algorithm_update': 0.017267257891787357, 'loss': -164.80934964986216, 'time_step': 0.017595625478628765, 'observation_error': 0.24709685155592312, 'reward_error': 1.1709749407378346e-05, 'variance': 0.34635630698674463}\u001b[0m \u001b[36mstep\u001b[0m=\u001b[35m423456\u001b[0m\n",
      "\u001b[2m2023-10-22 11:00:17\u001b[0m [\u001b[32m\u001b[1minfo     \u001b[0m] \u001b[1mModel parameters are saved to d3rlpy_logs/exp_5_dynamics_reacher_default_20231022074412/model_423456.pt\u001b[0m\n"
     ]
    },
    {
     "data": {
      "application/vnd.jupyter.widget-view+json": {
       "model_id": "ed83e71689014411bd5ab8ce7284530c",
       "version_major": 2,
       "version_minor": 0
      },
      "text/plain": [
       "Epoch 89/100:   0%|          | 0/4812 [00:00<?, ?it/s]"
      ]
     },
     "metadata": {},
     "output_type": "display_data"
    },
    {
     "name": "stdout",
     "output_type": "stream",
     "text": [
      "\u001b[2m2023-10-22 11:02:35\u001b[0m [\u001b[32m\u001b[1minfo     \u001b[0m] \u001b[1mexp_5_dynamics_reacher_default_20231022074412: epoch=89 step=428268\u001b[0m \u001b[36mepoch\u001b[0m=\u001b[35m89\u001b[0m \u001b[36mmetrics\u001b[0m=\u001b[35m{'time_sample_batch': 0.00025447383089454, 'time_algorithm_update': 0.01789828780682406, 'loss': -165.71719212861032, 'time_step': 0.01822780249818404, 'observation_error': 0.24914675284882778, 'reward_error': 1.1314802972931052e-05, 'variance': 0.3517118711838813}\u001b[0m \u001b[36mstep\u001b[0m=\u001b[35m428268\u001b[0m\n",
      "\u001b[2m2023-10-22 11:02:35\u001b[0m [\u001b[32m\u001b[1minfo     \u001b[0m] \u001b[1mModel parameters are saved to d3rlpy_logs/exp_5_dynamics_reacher_default_20231022074412/model_428268.pt\u001b[0m\n"
     ]
    },
    {
     "data": {
      "application/vnd.jupyter.widget-view+json": {
       "model_id": "910160f031e84c8eb217c4c9f84c9e59",
       "version_major": 2,
       "version_minor": 0
      },
      "text/plain": [
       "Epoch 90/100:   0%|          | 0/4812 [00:00<?, ?it/s]"
      ]
     },
     "metadata": {},
     "output_type": "display_data"
    },
    {
     "name": "stdout",
     "output_type": "stream",
     "text": [
      "\u001b[2m2023-10-22 11:04:49\u001b[0m [\u001b[32m\u001b[1minfo     \u001b[0m] \u001b[1mexp_5_dynamics_reacher_default_20231022074412: epoch=90 step=433080\u001b[0m \u001b[36mepoch\u001b[0m=\u001b[35m90\u001b[0m \u001b[36mmetrics\u001b[0m=\u001b[35m{'time_sample_batch': 0.00024788006087292857, 'time_algorithm_update': 0.01691559504590625, 'loss': -164.79172501401513, 'time_step': 0.017236233451221748, 'observation_error': 0.24105693613155554, 'reward_error': 1.112724002511039e-05, 'variance': 0.34839445914375783}\u001b[0m \u001b[36mstep\u001b[0m=\u001b[35m433080\u001b[0m\n",
      "\u001b[2m2023-10-22 11:04:49\u001b[0m [\u001b[32m\u001b[1minfo     \u001b[0m] \u001b[1mModel parameters are saved to d3rlpy_logs/exp_5_dynamics_reacher_default_20231022074412/model_433080.pt\u001b[0m\n"
     ]
    },
    {
     "data": {
      "application/vnd.jupyter.widget-view+json": {
       "model_id": "7b65459c1aff42e385c181a8d8bf582c",
       "version_major": 2,
       "version_minor": 0
      },
      "text/plain": [
       "Epoch 91/100:   0%|          | 0/4812 [00:00<?, ?it/s]"
      ]
     },
     "metadata": {},
     "output_type": "display_data"
    },
    {
     "name": "stdout",
     "output_type": "stream",
     "text": [
      "\u001b[2m2023-10-22 11:07:03\u001b[0m [\u001b[32m\u001b[1minfo     \u001b[0m] \u001b[1mexp_5_dynamics_reacher_default_20231022074412: epoch=91 step=437892\u001b[0m \u001b[36mepoch\u001b[0m=\u001b[35m91\u001b[0m \u001b[36mmetrics\u001b[0m=\u001b[35m{'time_sample_batch': 0.0002505772825290239, 'time_algorithm_update': 0.016946296095352618, 'loss': -165.4264953958919, 'time_step': 0.017269503545087272, 'observation_error': 0.24575503821300965, 'reward_error': 1.2246613098919316e-05, 'variance': 0.3530143974914295}\u001b[0m \u001b[36mstep\u001b[0m=\u001b[35m437892\u001b[0m\n",
      "\u001b[2m2023-10-22 11:07:03\u001b[0m [\u001b[32m\u001b[1minfo     \u001b[0m] \u001b[1mModel parameters are saved to d3rlpy_logs/exp_5_dynamics_reacher_default_20231022074412/model_437892.pt\u001b[0m\n"
     ]
    },
    {
     "data": {
      "application/vnd.jupyter.widget-view+json": {
       "model_id": "3581fad5f4e346058b9b62a813930fa1",
       "version_major": 2,
       "version_minor": 0
      },
      "text/plain": [
       "Epoch 92/100:   0%|          | 0/4812 [00:00<?, ?it/s]"
      ]
     },
     "metadata": {},
     "output_type": "display_data"
    },
    {
     "name": "stdout",
     "output_type": "stream",
     "text": [
      "\u001b[2m2023-10-22 11:09:17\u001b[0m [\u001b[32m\u001b[1minfo     \u001b[0m] \u001b[1mexp_5_dynamics_reacher_default_20231022074412: epoch=92 step=442704\u001b[0m \u001b[36mepoch\u001b[0m=\u001b[35m92\u001b[0m \u001b[36mmetrics\u001b[0m=\u001b[35m{'time_sample_batch': 0.0002466476865341935, 'time_algorithm_update': 0.016922628592176428, 'loss': -166.6710837670197, 'time_step': 0.017242616846079837, 'observation_error': 0.2361263892015613, 'reward_error': 1.1313094568035624e-05, 'variance': 0.34352376276339963}\u001b[0m \u001b[36mstep\u001b[0m=\u001b[35m442704\u001b[0m\n",
      "\u001b[2m2023-10-22 11:09:17\u001b[0m [\u001b[32m\u001b[1minfo     \u001b[0m] \u001b[1mModel parameters are saved to d3rlpy_logs/exp_5_dynamics_reacher_default_20231022074412/model_442704.pt\u001b[0m\n"
     ]
    },
    {
     "data": {
      "application/vnd.jupyter.widget-view+json": {
       "model_id": "c48ac00a9b994e15923a051b6f98661f",
       "version_major": 2,
       "version_minor": 0
      },
      "text/plain": [
       "Epoch 93/100:   0%|          | 0/4812 [00:00<?, ?it/s]"
      ]
     },
     "metadata": {},
     "output_type": "display_data"
    },
    {
     "name": "stdout",
     "output_type": "stream",
     "text": [
      "\u001b[2m2023-10-22 11:11:31\u001b[0m [\u001b[32m\u001b[1minfo     \u001b[0m] \u001b[1mexp_5_dynamics_reacher_default_20231022074412: epoch=93 step=447516\u001b[0m \u001b[36mepoch\u001b[0m=\u001b[35m93\u001b[0m \u001b[36mmetrics\u001b[0m=\u001b[35m{'time_sample_batch': 0.0002471082228377573, 'time_algorithm_update': 0.016951339203223326, 'loss': -166.99040593213076, 'time_step': 0.017270778083642722, 'observation_error': 0.2493571809286821, 'reward_error': 1.0274875631067544e-05, 'variance': 0.34892998116883717}\u001b[0m \u001b[36mstep\u001b[0m=\u001b[35m447516\u001b[0m\n",
      "\u001b[2m2023-10-22 11:11:31\u001b[0m [\u001b[32m\u001b[1minfo     \u001b[0m] \u001b[1mModel parameters are saved to d3rlpy_logs/exp_5_dynamics_reacher_default_20231022074412/model_447516.pt\u001b[0m\n"
     ]
    },
    {
     "data": {
      "application/vnd.jupyter.widget-view+json": {
       "model_id": "f5726c1e92a846bda559370d61e36fd3",
       "version_major": 2,
       "version_minor": 0
      },
      "text/plain": [
       "Epoch 94/100:   0%|          | 0/4812 [00:00<?, ?it/s]"
      ]
     },
     "metadata": {},
     "output_type": "display_data"
    },
    {
     "name": "stdout",
     "output_type": "stream",
     "text": [
      "\u001b[2m2023-10-22 11:13:46\u001b[0m [\u001b[32m\u001b[1minfo     \u001b[0m] \u001b[1mexp_5_dynamics_reacher_default_20231022074412: epoch=94 step=452328\u001b[0m \u001b[36mepoch\u001b[0m=\u001b[35m94\u001b[0m \u001b[36mmetrics\u001b[0m=\u001b[35m{'time_sample_batch': 0.0002461792227633279, 'time_algorithm_update': 0.01701736861432679, 'loss': -167.43124424489656, 'time_step': 0.017336651720013703, 'observation_error': 0.24838780628710322, 'reward_error': 1.1776876177238525e-05, 'variance': 0.34033552030378855}\u001b[0m \u001b[36mstep\u001b[0m=\u001b[35m452328\u001b[0m\n",
      "\u001b[2m2023-10-22 11:13:46\u001b[0m [\u001b[32m\u001b[1minfo     \u001b[0m] \u001b[1mModel parameters are saved to d3rlpy_logs/exp_5_dynamics_reacher_default_20231022074412/model_452328.pt\u001b[0m\n"
     ]
    },
    {
     "data": {
      "application/vnd.jupyter.widget-view+json": {
       "model_id": "75e61c3f659b4c019337b9376827d7c0",
       "version_major": 2,
       "version_minor": 0
      },
      "text/plain": [
       "Epoch 95/100:   0%|          | 0/4812 [00:00<?, ?it/s]"
      ]
     },
     "metadata": {},
     "output_type": "display_data"
    },
    {
     "name": "stdout",
     "output_type": "stream",
     "text": [
      "\u001b[2m2023-10-22 11:16:01\u001b[0m [\u001b[32m\u001b[1minfo     \u001b[0m] \u001b[1mexp_5_dynamics_reacher_default_20231022074412: epoch=95 step=457140\u001b[0m \u001b[36mepoch\u001b[0m=\u001b[35m95\u001b[0m \u001b[36mmetrics\u001b[0m=\u001b[35m{'time_sample_batch': 0.00024594590749130185, 'time_algorithm_update': 0.01708261781400774, 'loss': -167.09306535062845, 'time_step': 0.017402118132298725, 'observation_error': 0.24480475400335788, 'reward_error': 9.656236377155487e-06, 'variance': 0.3376825931386394}\u001b[0m \u001b[36mstep\u001b[0m=\u001b[35m457140\u001b[0m\n",
      "\u001b[2m2023-10-22 11:16:01\u001b[0m [\u001b[32m\u001b[1minfo     \u001b[0m] \u001b[1mModel parameters are saved to d3rlpy_logs/exp_5_dynamics_reacher_default_20231022074412/model_457140.pt\u001b[0m\n"
     ]
    },
    {
     "data": {
      "application/vnd.jupyter.widget-view+json": {
       "model_id": "e4108b41f2e1451d9650400fd4f20269",
       "version_major": 2,
       "version_minor": 0
      },
      "text/plain": [
       "Epoch 96/100:   0%|          | 0/4812 [00:00<?, ?it/s]"
      ]
     },
     "metadata": {},
     "output_type": "display_data"
    },
    {
     "name": "stdout",
     "output_type": "stream",
     "text": [
      "\u001b[2m2023-10-22 11:18:15\u001b[0m [\u001b[32m\u001b[1minfo     \u001b[0m] \u001b[1mexp_5_dynamics_reacher_default_20231022074412: epoch=96 step=461952\u001b[0m \u001b[36mepoch\u001b[0m=\u001b[35m96\u001b[0m \u001b[36mmetrics\u001b[0m=\u001b[35m{'time_sample_batch': 0.0002481590581752812, 'time_algorithm_update': 0.01696350499182469, 'loss': -167.5770194409593, 'time_step': 0.017285116047831447, 'observation_error': 0.2452558181065145, 'reward_error': 1.1152646628411851e-05, 'variance': 0.3549176326299741}\u001b[0m \u001b[36mstep\u001b[0m=\u001b[35m461952\u001b[0m\n",
      "\u001b[2m2023-10-22 11:18:15\u001b[0m [\u001b[32m\u001b[1minfo     \u001b[0m] \u001b[1mModel parameters are saved to d3rlpy_logs/exp_5_dynamics_reacher_default_20231022074412/model_461952.pt\u001b[0m\n"
     ]
    },
    {
     "data": {
      "application/vnd.jupyter.widget-view+json": {
       "model_id": "107d1d3282d2449d9f62d9a41a1c96ec",
       "version_major": 2,
       "version_minor": 0
      },
      "text/plain": [
       "Epoch 97/100:   0%|          | 0/4812 [00:00<?, ?it/s]"
      ]
     },
     "metadata": {},
     "output_type": "display_data"
    },
    {
     "name": "stdout",
     "output_type": "stream",
     "text": [
      "\u001b[2m2023-10-22 11:20:30\u001b[0m [\u001b[32m\u001b[1minfo     \u001b[0m] \u001b[1mexp_5_dynamics_reacher_default_20231022074412: epoch=97 step=466764\u001b[0m \u001b[36mepoch\u001b[0m=\u001b[35m97\u001b[0m \u001b[36mmetrics\u001b[0m=\u001b[35m{'time_sample_batch': 0.00024724789490228083, 'time_algorithm_update': 0.016947674037809682, 'loss': -167.2605358644614, 'time_step': 0.01726912248164341, 'observation_error': 0.248743357340028, 'reward_error': 1.0028947668296585e-05, 'variance': 0.3487406936576154}\u001b[0m \u001b[36mstep\u001b[0m=\u001b[35m466764\u001b[0m\n",
      "\u001b[2m2023-10-22 11:20:30\u001b[0m [\u001b[32m\u001b[1minfo     \u001b[0m] \u001b[1mModel parameters are saved to d3rlpy_logs/exp_5_dynamics_reacher_default_20231022074412/model_466764.pt\u001b[0m\n"
     ]
    },
    {
     "data": {
      "application/vnd.jupyter.widget-view+json": {
       "model_id": "9eb80d0a80c247d19ef985ddb1e42492",
       "version_major": 2,
       "version_minor": 0
      },
      "text/plain": [
       "Epoch 98/100:   0%|          | 0/4812 [00:00<?, ?it/s]"
      ]
     },
     "metadata": {},
     "output_type": "display_data"
    },
    {
     "name": "stdout",
     "output_type": "stream",
     "text": [
      "\u001b[2m2023-10-22 11:22:44\u001b[0m [\u001b[32m\u001b[1minfo     \u001b[0m] \u001b[1mexp_5_dynamics_reacher_default_20231022074412: epoch=98 step=471576\u001b[0m \u001b[36mepoch\u001b[0m=\u001b[35m98\u001b[0m \u001b[36mmetrics\u001b[0m=\u001b[35m{'time_sample_batch': 0.0002515750533822964, 'time_algorithm_update': 0.017043903581519377, 'loss': -168.11558473179565, 'time_step': 0.01736836624660793, 'observation_error': 0.23578944135122942, 'reward_error': 9.853449081639096e-06, 'variance': 0.3359059152545422}\u001b[0m \u001b[36mstep\u001b[0m=\u001b[35m471576\u001b[0m\n",
      "\u001b[2m2023-10-22 11:22:44\u001b[0m [\u001b[32m\u001b[1minfo     \u001b[0m] \u001b[1mModel parameters are saved to d3rlpy_logs/exp_5_dynamics_reacher_default_20231022074412/model_471576.pt\u001b[0m\n"
     ]
    },
    {
     "data": {
      "application/vnd.jupyter.widget-view+json": {
       "model_id": "784feaffffda4c71b6ae6e1f379a3eac",
       "version_major": 2,
       "version_minor": 0
      },
      "text/plain": [
       "Epoch 99/100:   0%|          | 0/4812 [00:00<?, ?it/s]"
      ]
     },
     "metadata": {},
     "output_type": "display_data"
    },
    {
     "name": "stdout",
     "output_type": "stream",
     "text": [
      "\u001b[2m2023-10-22 11:24:58\u001b[0m [\u001b[32m\u001b[1minfo     \u001b[0m] \u001b[1mexp_5_dynamics_reacher_default_20231022074412: epoch=99 step=476388\u001b[0m \u001b[36mepoch\u001b[0m=\u001b[35m99\u001b[0m \u001b[36mmetrics\u001b[0m=\u001b[35m{'time_sample_batch': 0.0002503584844314943, 'time_algorithm_update': 0.01695719492603914, 'loss': -167.2169373287128, 'time_step': 0.01728015414695391, 'observation_error': 0.23192149514582097, 'reward_error': 9.13440218828678e-06, 'variance': 0.3379140165205819}\u001b[0m \u001b[36mstep\u001b[0m=\u001b[35m476388\u001b[0m\n",
      "\u001b[2m2023-10-22 11:24:59\u001b[0m [\u001b[32m\u001b[1minfo     \u001b[0m] \u001b[1mModel parameters are saved to d3rlpy_logs/exp_5_dynamics_reacher_default_20231022074412/model_476388.pt\u001b[0m\n"
     ]
    },
    {
     "data": {
      "application/vnd.jupyter.widget-view+json": {
       "model_id": "236e4fd075444ff0b256cda328b0cd25",
       "version_major": 2,
       "version_minor": 0
      },
      "text/plain": [
       "Epoch 100/100:   0%|          | 0/4812 [00:00<?, ?it/s]"
      ]
     },
     "metadata": {},
     "output_type": "display_data"
    },
    {
     "name": "stdout",
     "output_type": "stream",
     "text": [
      "\u001b[2m2023-10-22 11:27:13\u001b[0m [\u001b[32m\u001b[1minfo     \u001b[0m] \u001b[1mexp_5_dynamics_reacher_default_20231022074412: epoch=100 step=481200\u001b[0m \u001b[36mepoch\u001b[0m=\u001b[35m100\u001b[0m \u001b[36mmetrics\u001b[0m=\u001b[35m{'time_sample_batch': 0.00024574653168866166, 'time_algorithm_update': 0.016974883087456274, 'loss': -168.84471134969024, 'time_step': 0.017294180710317686, 'observation_error': 0.24173130546956934, 'reward_error': 9.641367714132785e-06, 'variance': 0.33933290979344466}\u001b[0m \u001b[36mstep\u001b[0m=\u001b[35m481200\u001b[0m\n",
      "\u001b[2m2023-10-22 11:27:13\u001b[0m [\u001b[32m\u001b[1minfo     \u001b[0m] \u001b[1mModel parameters are saved to d3rlpy_logs/exp_5_dynamics_reacher_default_20231022074412/model_481200.pt\u001b[0m\n",
      "Using SymmetryEncoderFactory\n",
      "\u001b[2m2023-10-22 11:27:13\u001b[0m [\u001b[32m\u001b[1mdebug    \u001b[0m] \u001b[1mRoundIterator is selected.\u001b[0m\n",
      "\u001b[2m2023-10-22 11:27:13\u001b[0m [\u001b[32m\u001b[1minfo     \u001b[0m] \u001b[1mDirectory is created at d3rlpy_logs/exp_5_dynamics_reacher_symmetry_20231022112713\u001b[0m\n",
      "\u001b[2m2023-10-22 11:27:13\u001b[0m [\u001b[32m\u001b[1mdebug    \u001b[0m] \u001b[1mBuilding models...\u001b[0m\n",
      "\u001b[2m2023-10-22 11:27:13\u001b[0m [\u001b[32m\u001b[1mdebug    \u001b[0m] \u001b[1mModels have been built.\u001b[0m\n",
      "\u001b[2m2023-10-22 11:27:13\u001b[0m [\u001b[32m\u001b[1minfo     \u001b[0m] \u001b[1mParameters are saved to d3rlpy_logs/exp_5_dynamics_reacher_symmetry_20231022112713/params.json\u001b[0m \u001b[36mparams\u001b[0m=\u001b[35m{'action_scaler': None, 'batch_size': 100, 'discrete_action': False, 'gamma': 1.0, 'generated_maxlen': 100000, 'learning_rate': 0.0001, 'n_ensembles': 5, 'n_frames': 1, 'n_steps': 1, 'optim_factory': {'optim_cls': 'Adam', 'betas': (0.9, 0.999), 'eps': 1e-08, 'weight_decay': 0.0001, 'amsgrad': False}, 'real_ratio': 1.0, 'reward_encoder_factory': {'type': 'default', 'params': {'activation': 'relu', 'use_batch_norm': False, 'dropout_rate': None}}, 'reward_scaler': None, 'scaler': None, 'state_encoder_factory': {'type': 'symmetry', 'params': {'hidden_units': [256, 256], 'activation': 'relu', 'use_batch_norm': False, 'dropout_rate': None, 'use_dense': False, 'project': <function reacher_project at 0x7f3074269af0>, 'projection_size': 3}}, 'use_gpu': 0, 'variance_type': 'max', 'algorithm': 'ProbabilisticEnsembleDynamics', 'observation_shape': (8,), 'action_size': 2}\u001b[0m\n"
     ]
    },
    {
     "data": {
      "application/vnd.jupyter.widget-view+json": {
       "model_id": "6b5a8b651fa74ce3800189f50b1c0d33",
       "version_major": 2,
       "version_minor": 0
      },
      "text/plain": [
       "Epoch 1/100:   0%|          | 0/4811 [00:00<?, ?it/s]"
      ]
     },
     "metadata": {},
     "output_type": "display_data"
    },
    {
     "name": "stdout",
     "output_type": "stream",
     "text": [
      "\u001b[2m2023-10-22 11:29:32\u001b[0m [\u001b[32m\u001b[1minfo     \u001b[0m] \u001b[1mexp_5_dynamics_reacher_symmetry_20231022112713: epoch=1 step=4811\u001b[0m \u001b[36mepoch\u001b[0m=\u001b[35m1\u001b[0m \u001b[36mmetrics\u001b[0m=\u001b[35m{'time_sample_batch': 0.0002535658649832314, 'time_algorithm_update': 0.017193804260996072, 'loss': 4849.698843713665, 'time_step': 0.017536953862851732, 'observation_error': 1.894259482232975, 'reward_error': 0.06274056467126152, 'variance': 1.4076315579499694}\u001b[0m \u001b[36mstep\u001b[0m=\u001b[35m4811\u001b[0m\n",
      "\u001b[2m2023-10-22 11:29:32\u001b[0m [\u001b[32m\u001b[1minfo     \u001b[0m] \u001b[1mModel parameters are saved to d3rlpy_logs/exp_5_dynamics_reacher_symmetry_20231022112713/model_4811.pt\u001b[0m\n"
     ]
    },
    {
     "data": {
      "application/vnd.jupyter.widget-view+json": {
       "model_id": "91cb56efeeee42cca77e90961ee2eefe",
       "version_major": 2,
       "version_minor": 0
      },
      "text/plain": [
       "Epoch 2/100:   0%|          | 0/4811 [00:00<?, ?it/s]"
      ]
     },
     "metadata": {},
     "output_type": "display_data"
    },
    {
     "name": "stdout",
     "output_type": "stream",
     "text": [
      "\u001b[2m2023-10-22 11:31:52\u001b[0m [\u001b[32m\u001b[1minfo     \u001b[0m] \u001b[1mexp_5_dynamics_reacher_symmetry_20231022112713: epoch=2 step=9622\u001b[0m \u001b[36mepoch\u001b[0m=\u001b[35m2\u001b[0m \u001b[36mmetrics\u001b[0m=\u001b[35m{'time_sample_batch': 0.0002533651592577354, 'time_algorithm_update': 0.01751811740750757, 'loss': -22.485643534371917, 'time_step': 0.01785745612798424, 'observation_error': 1.412731186361278, 'reward_error': 0.015106594142273914, 'variance': 1.0987107180277806}\u001b[0m \u001b[36mstep\u001b[0m=\u001b[35m9622\u001b[0m\n",
      "\u001b[2m2023-10-22 11:31:52\u001b[0m [\u001b[32m\u001b[1minfo     \u001b[0m] \u001b[1mModel parameters are saved to d3rlpy_logs/exp_5_dynamics_reacher_symmetry_20231022112713/model_9622.pt\u001b[0m\n"
     ]
    },
    {
     "data": {
      "application/vnd.jupyter.widget-view+json": {
       "model_id": "22d7cfd217ba405391dfbb3ae5554fce",
       "version_major": 2,
       "version_minor": 0
      },
      "text/plain": [
       "Epoch 3/100:   0%|          | 0/4811 [00:00<?, ?it/s]"
      ]
     },
     "metadata": {},
     "output_type": "display_data"
    },
    {
     "name": "stdout",
     "output_type": "stream",
     "text": [
      "\u001b[2m2023-10-22 11:34:11\u001b[0m [\u001b[32m\u001b[1minfo     \u001b[0m] \u001b[1mexp_5_dynamics_reacher_symmetry_20231022112713: epoch=3 step=14433\u001b[0m \u001b[36mepoch\u001b[0m=\u001b[35m3\u001b[0m \u001b[36mmetrics\u001b[0m=\u001b[35m{'time_sample_batch': 0.00024877796795531236, 'time_algorithm_update': 0.017369521479427233, 'loss': -51.15408645581119, 'time_step': 0.017695723935834733, 'observation_error': 1.118732395206919, 'reward_error': 0.007548223859862571, 'variance': 0.7332281605465943}\u001b[0m \u001b[36mstep\u001b[0m=\u001b[35m14433\u001b[0m\n",
      "\u001b[2m2023-10-22 11:34:11\u001b[0m [\u001b[32m\u001b[1minfo     \u001b[0m] \u001b[1mModel parameters are saved to d3rlpy_logs/exp_5_dynamics_reacher_symmetry_20231022112713/model_14433.pt\u001b[0m\n"
     ]
    },
    {
     "data": {
      "application/vnd.jupyter.widget-view+json": {
       "model_id": "fababb10df1b4a0a984bd771dd0c6ae3",
       "version_major": 2,
       "version_minor": 0
      },
      "text/plain": [
       "Epoch 4/100:   0%|          | 0/4811 [00:00<?, ?it/s]"
      ]
     },
     "metadata": {},
     "output_type": "display_data"
    },
    {
     "name": "stdout",
     "output_type": "stream",
     "text": [
      "\u001b[2m2023-10-22 11:36:30\u001b[0m [\u001b[32m\u001b[1minfo     \u001b[0m] \u001b[1mexp_5_dynamics_reacher_symmetry_20231022112713: epoch=4 step=19244\u001b[0m \u001b[36mepoch\u001b[0m=\u001b[35m4\u001b[0m \u001b[36mmetrics\u001b[0m=\u001b[35m{'time_sample_batch': 0.00024986524786083894, 'time_algorithm_update': 0.017358648878599843, 'loss': -69.27764670225915, 'time_step': 0.017684005595769985, 'observation_error': 0.9107608512761339, 'reward_error': 0.0055103441926292, 'variance': 0.5098964852728091}\u001b[0m \u001b[36mstep\u001b[0m=\u001b[35m19244\u001b[0m\n",
      "\u001b[2m2023-10-22 11:36:30\u001b[0m [\u001b[32m\u001b[1minfo     \u001b[0m] \u001b[1mModel parameters are saved to d3rlpy_logs/exp_5_dynamics_reacher_symmetry_20231022112713/model_19244.pt\u001b[0m\n"
     ]
    },
    {
     "data": {
      "application/vnd.jupyter.widget-view+json": {
       "model_id": "570f510df65e486594237cba753463ce",
       "version_major": 2,
       "version_minor": 0
      },
      "text/plain": [
       "Epoch 5/100:   0%|          | 0/4811 [00:00<?, ?it/s]"
      ]
     },
     "metadata": {},
     "output_type": "display_data"
    },
    {
     "name": "stdout",
     "output_type": "stream",
     "text": [
      "\u001b[2m2023-10-22 11:38:48\u001b[0m [\u001b[32m\u001b[1minfo     \u001b[0m] \u001b[1mexp_5_dynamics_reacher_symmetry_20231022112713: epoch=5 step=24055\u001b[0m \u001b[36mepoch\u001b[0m=\u001b[35m5\u001b[0m \u001b[36mmetrics\u001b[0m=\u001b[35m{'time_sample_batch': 0.00025370982797892665, 'time_algorithm_update': 0.017377188289470272, 'loss': -83.05154341160693, 'time_step': 0.017706239676926493, 'observation_error': 0.8868362638947933, 'reward_error': 0.0026155589368111335, 'variance': 0.5797443314634357}\u001b[0m \u001b[36mstep\u001b[0m=\u001b[35m24055\u001b[0m\n",
      "\u001b[2m2023-10-22 11:38:48\u001b[0m [\u001b[32m\u001b[1minfo     \u001b[0m] \u001b[1mModel parameters are saved to d3rlpy_logs/exp_5_dynamics_reacher_symmetry_20231022112713/model_24055.pt\u001b[0m\n"
     ]
    },
    {
     "data": {
      "application/vnd.jupyter.widget-view+json": {
       "model_id": "77f086990bc64c2eb24025eb7ce46d06",
       "version_major": 2,
       "version_minor": 0
      },
      "text/plain": [
       "Epoch 6/100:   0%|          | 0/4811 [00:00<?, ?it/s]"
      ]
     },
     "metadata": {},
     "output_type": "display_data"
    },
    {
     "name": "stdout",
     "output_type": "stream",
     "text": [
      "\u001b[2m2023-10-22 11:41:08\u001b[0m [\u001b[32m\u001b[1minfo     \u001b[0m] \u001b[1mexp_5_dynamics_reacher_symmetry_20231022112713: epoch=6 step=28866\u001b[0m \u001b[36mepoch\u001b[0m=\u001b[35m6\u001b[0m \u001b[36mmetrics\u001b[0m=\u001b[35m{'time_sample_batch': 0.00024934608905088923, 'time_algorithm_update': 0.017387262428408972, 'loss': -89.17677315950047, 'time_step': 0.017710111959390398, 'observation_error': 0.7868605875101851, 'reward_error': 0.0014689207277512454, 'variance': 0.5086266281391252}\u001b[0m \u001b[36mstep\u001b[0m=\u001b[35m28866\u001b[0m\n",
      "\u001b[2m2023-10-22 11:41:08\u001b[0m [\u001b[32m\u001b[1minfo     \u001b[0m] \u001b[1mModel parameters are saved to d3rlpy_logs/exp_5_dynamics_reacher_symmetry_20231022112713/model_28866.pt\u001b[0m\n"
     ]
    },
    {
     "data": {
      "application/vnd.jupyter.widget-view+json": {
       "model_id": "fc08dbb441da4f9ca92c5faa962cb4d5",
       "version_major": 2,
       "version_minor": 0
      },
      "text/plain": [
       "Epoch 7/100:   0%|          | 0/4811 [00:00<?, ?it/s]"
      ]
     },
     "metadata": {},
     "output_type": "display_data"
    },
    {
     "name": "stdout",
     "output_type": "stream",
     "text": [
      "\u001b[2m2023-10-22 11:43:28\u001b[0m [\u001b[32m\u001b[1minfo     \u001b[0m] \u001b[1mexp_5_dynamics_reacher_symmetry_20231022112713: epoch=7 step=33677\u001b[0m \u001b[36mepoch\u001b[0m=\u001b[35m7\u001b[0m \u001b[36mmetrics\u001b[0m=\u001b[35m{'time_sample_batch': 0.0002556589035798546, 'time_algorithm_update': 0.01748508560610422, 'loss': -92.85157443252528, 'time_step': 0.017815889327993415, 'observation_error': 0.6839329011341662, 'reward_error': 0.0012055659129966833, 'variance': 0.4273425340221453}\u001b[0m \u001b[36mstep\u001b[0m=\u001b[35m33677\u001b[0m\n",
      "\u001b[2m2023-10-22 11:43:28\u001b[0m [\u001b[32m\u001b[1minfo     \u001b[0m] \u001b[1mModel parameters are saved to d3rlpy_logs/exp_5_dynamics_reacher_symmetry_20231022112713/model_33677.pt\u001b[0m\n"
     ]
    },
    {
     "data": {
      "application/vnd.jupyter.widget-view+json": {
       "model_id": "d4c194b30b7b442399cde929765736c2",
       "version_major": 2,
       "version_minor": 0
      },
      "text/plain": [
       "Epoch 8/100:   0%|          | 0/4811 [00:00<?, ?it/s]"
      ]
     },
     "metadata": {},
     "output_type": "display_data"
    },
    {
     "name": "stdout",
     "output_type": "stream",
     "text": [
      "\u001b[2m2023-10-22 11:45:47\u001b[0m [\u001b[32m\u001b[1minfo     \u001b[0m] \u001b[1mexp_5_dynamics_reacher_symmetry_20231022112713: epoch=8 step=38488\u001b[0m \u001b[36mepoch\u001b[0m=\u001b[35m8\u001b[0m \u001b[36mmetrics\u001b[0m=\u001b[35m{'time_sample_batch': 0.00025067059816825515, 'time_algorithm_update': 0.01743015462954261, 'loss': -95.33483132104868, 'time_step': 0.01775461942038004, 'observation_error': 0.6213896544123607, 'reward_error': 0.0008948818549213623, 'variance': 0.3868427954459685}\u001b[0m \u001b[36mstep\u001b[0m=\u001b[35m38488\u001b[0m\n",
      "\u001b[2m2023-10-22 11:45:47\u001b[0m [\u001b[32m\u001b[1minfo     \u001b[0m] \u001b[1mModel parameters are saved to d3rlpy_logs/exp_5_dynamics_reacher_symmetry_20231022112713/model_38488.pt\u001b[0m\n"
     ]
    },
    {
     "data": {
      "application/vnd.jupyter.widget-view+json": {
       "model_id": "7ac883f8f95c48a6af959a9419675c49",
       "version_major": 2,
       "version_minor": 0
      },
      "text/plain": [
       "Epoch 9/100:   0%|          | 0/4811 [00:00<?, ?it/s]"
      ]
     },
     "metadata": {},
     "output_type": "display_data"
    },
    {
     "name": "stdout",
     "output_type": "stream",
     "text": [
      "\u001b[2m2023-10-22 11:48:08\u001b[0m [\u001b[32m\u001b[1minfo     \u001b[0m] \u001b[1mexp_5_dynamics_reacher_symmetry_20231022112713: epoch=9 step=43299\u001b[0m \u001b[36mepoch\u001b[0m=\u001b[35m9\u001b[0m \u001b[36mmetrics\u001b[0m=\u001b[35m{'time_sample_batch': 0.00025021640854500305, 'time_algorithm_update': 0.017720356425632435, 'loss': -98.02149951326652, 'time_step': 0.018045594106962416, 'observation_error': 0.561151699721557, 'reward_error': 0.0007415543640287043, 'variance': 0.33560044302864445}\u001b[0m \u001b[36mstep\u001b[0m=\u001b[35m43299\u001b[0m\n",
      "\u001b[2m2023-10-22 11:48:08\u001b[0m [\u001b[32m\u001b[1minfo     \u001b[0m] \u001b[1mModel parameters are saved to d3rlpy_logs/exp_5_dynamics_reacher_symmetry_20231022112713/model_43299.pt\u001b[0m\n"
     ]
    },
    {
     "data": {
      "application/vnd.jupyter.widget-view+json": {
       "model_id": "c7a7fdbde688452a99b229aa7f432d2b",
       "version_major": 2,
       "version_minor": 0
      },
      "text/plain": [
       "Epoch 10/100:   0%|          | 0/4811 [00:00<?, ?it/s]"
      ]
     },
     "metadata": {},
     "output_type": "display_data"
    },
    {
     "name": "stdout",
     "output_type": "stream",
     "text": [
      "\u001b[2m2023-10-22 11:50:27\u001b[0m [\u001b[32m\u001b[1minfo     \u001b[0m] \u001b[1mexp_5_dynamics_reacher_symmetry_20231022112713: epoch=10 step=48110\u001b[0m \u001b[36mepoch\u001b[0m=\u001b[35m10\u001b[0m \u001b[36mmetrics\u001b[0m=\u001b[35m{'time_sample_batch': 0.0002463707877305609, 'time_algorithm_update': 0.017327413765116952, 'loss': -100.37166204791484, 'time_step': 0.017647008295243558, 'observation_error': 0.49151510568430146, 'reward_error': 0.0005868838951846328, 'variance': 0.3122213619026682}\u001b[0m \u001b[36mstep\u001b[0m=\u001b[35m48110\u001b[0m\n",
      "\u001b[2m2023-10-22 11:50:27\u001b[0m [\u001b[32m\u001b[1minfo     \u001b[0m] \u001b[1mModel parameters are saved to d3rlpy_logs/exp_5_dynamics_reacher_symmetry_20231022112713/model_48110.pt\u001b[0m\n"
     ]
    },
    {
     "data": {
      "application/vnd.jupyter.widget-view+json": {
       "model_id": "06618b1742d74efc806595178a386f52",
       "version_major": 2,
       "version_minor": 0
      },
      "text/plain": [
       "Epoch 11/100:   0%|          | 0/4811 [00:00<?, ?it/s]"
      ]
     },
     "metadata": {},
     "output_type": "display_data"
    },
    {
     "name": "stdout",
     "output_type": "stream",
     "text": [
      "\u001b[2m2023-10-22 11:52:53\u001b[0m [\u001b[32m\u001b[1minfo     \u001b[0m] \u001b[1mexp_5_dynamics_reacher_symmetry_20231022112713: epoch=11 step=52921\u001b[0m \u001b[36mepoch\u001b[0m=\u001b[35m11\u001b[0m \u001b[36mmetrics\u001b[0m=\u001b[35m{'time_sample_batch': 0.00025288648849166966, 'time_algorithm_update': 0.01751491176539413, 'loss': -102.88262868408253, 'time_step': 0.017841269731571165, 'observation_error': 0.3948771329341738, 'reward_error': 0.0005109160668974115, 'variance': 0.2670205079811474}\u001b[0m \u001b[36mstep\u001b[0m=\u001b[35m52921\u001b[0m\n",
      "\u001b[2m2023-10-22 11:52:53\u001b[0m [\u001b[32m\u001b[1minfo     \u001b[0m] \u001b[1mModel parameters are saved to d3rlpy_logs/exp_5_dynamics_reacher_symmetry_20231022112713/model_52921.pt\u001b[0m\n"
     ]
    },
    {
     "data": {
      "application/vnd.jupyter.widget-view+json": {
       "model_id": "a785f036496f47caa69d258df658ed4d",
       "version_major": 2,
       "version_minor": 0
      },
      "text/plain": [
       "Epoch 12/100:   0%|          | 0/4811 [00:00<?, ?it/s]"
      ]
     },
     "metadata": {},
     "output_type": "display_data"
    },
    {
     "name": "stdout",
     "output_type": "stream",
     "text": [
      "\u001b[2m2023-10-22 11:55:11\u001b[0m [\u001b[32m\u001b[1minfo     \u001b[0m] \u001b[1mexp_5_dynamics_reacher_symmetry_20231022112713: epoch=12 step=57732\u001b[0m \u001b[36mepoch\u001b[0m=\u001b[35m12\u001b[0m \u001b[36mmetrics\u001b[0m=\u001b[35m{'time_sample_batch': 0.00025038886679802186, 'time_algorithm_update': 0.017331814671771934, 'loss': -106.02730508763486, 'time_step': 0.01765338523649074, 'observation_error': 0.3033078294144571, 'reward_error': 0.00045548373796070563, 'variance': 0.24299710639299604}\u001b[0m \u001b[36mstep\u001b[0m=\u001b[35m57732\u001b[0m\n",
      "\u001b[2m2023-10-22 11:55:11\u001b[0m [\u001b[32m\u001b[1minfo     \u001b[0m] \u001b[1mModel parameters are saved to d3rlpy_logs/exp_5_dynamics_reacher_symmetry_20231022112713/model_57732.pt\u001b[0m\n"
     ]
    },
    {
     "data": {
      "application/vnd.jupyter.widget-view+json": {
       "model_id": "3fc0e78718f6423bab3af813d186623a",
       "version_major": 2,
       "version_minor": 0
      },
      "text/plain": [
       "Epoch 13/100:   0%|          | 0/4811 [00:00<?, ?it/s]"
      ]
     },
     "metadata": {},
     "output_type": "display_data"
    },
    {
     "name": "stdout",
     "output_type": "stream",
     "text": [
      "\u001b[2m2023-10-22 11:57:30\u001b[0m [\u001b[32m\u001b[1minfo     \u001b[0m] \u001b[1mexp_5_dynamics_reacher_symmetry_20231022112713: epoch=13 step=62543\u001b[0m \u001b[36mepoch\u001b[0m=\u001b[35m13\u001b[0m \u001b[36mmetrics\u001b[0m=\u001b[35m{'time_sample_batch': 0.00025172977927221226, 'time_algorithm_update': 0.017368135073655262, 'loss': -109.98746641448867, 'time_step': 0.017692427901809367, 'observation_error': 0.24435806733007712, 'reward_error': 0.00037748106142253724, 'variance': 0.25868884119849}\u001b[0m \u001b[36mstep\u001b[0m=\u001b[35m62543\u001b[0m\n",
      "\u001b[2m2023-10-22 11:57:30\u001b[0m [\u001b[32m\u001b[1minfo     \u001b[0m] \u001b[1mModel parameters are saved to d3rlpy_logs/exp_5_dynamics_reacher_symmetry_20231022112713/model_62543.pt\u001b[0m\n"
     ]
    },
    {
     "data": {
      "application/vnd.jupyter.widget-view+json": {
       "model_id": "1dc3e16b4b3642679954a4f083611735",
       "version_major": 2,
       "version_minor": 0
      },
      "text/plain": [
       "Epoch 14/100:   0%|          | 0/4811 [00:00<?, ?it/s]"
      ]
     },
     "metadata": {},
     "output_type": "display_data"
    },
    {
     "name": "stdout",
     "output_type": "stream",
     "text": [
      "\u001b[2m2023-10-22 11:59:48\u001b[0m [\u001b[32m\u001b[1minfo     \u001b[0m] \u001b[1mexp_5_dynamics_reacher_symmetry_20231022112713: epoch=14 step=67354\u001b[0m \u001b[36mepoch\u001b[0m=\u001b[35m14\u001b[0m \u001b[36mmetrics\u001b[0m=\u001b[35m{'time_sample_batch': 0.0002535885125181824, 'time_algorithm_update': 0.0173146079469188, 'loss': -113.67597091601857, 'time_step': 0.01763958381878019, 'observation_error': 0.22629205646174538, 'reward_error': 0.00034268477903709704, 'variance': 0.24720860931722016}\u001b[0m \u001b[36mstep\u001b[0m=\u001b[35m67354\u001b[0m\n",
      "\u001b[2m2023-10-22 11:59:48\u001b[0m [\u001b[32m\u001b[1minfo     \u001b[0m] \u001b[1mModel parameters are saved to d3rlpy_logs/exp_5_dynamics_reacher_symmetry_20231022112713/model_67354.pt\u001b[0m\n"
     ]
    },
    {
     "data": {
      "application/vnd.jupyter.widget-view+json": {
       "model_id": "6dc2c984b3284b0f9dde6fdb5fd27d63",
       "version_major": 2,
       "version_minor": 0
      },
      "text/plain": [
       "Epoch 15/100:   0%|          | 0/4811 [00:00<?, ?it/s]"
      ]
     },
     "metadata": {},
     "output_type": "display_data"
    },
    {
     "name": "stdout",
     "output_type": "stream",
     "text": [
      "\u001b[2m2023-10-22 12:02:05\u001b[0m [\u001b[32m\u001b[1minfo     \u001b[0m] \u001b[1mexp_5_dynamics_reacher_symmetry_20231022112713: epoch=15 step=72165\u001b[0m \u001b[36mepoch\u001b[0m=\u001b[35m15\u001b[0m \u001b[36mmetrics\u001b[0m=\u001b[35m{'time_sample_batch': 0.00025081114173307166, 'time_algorithm_update': 0.01717666151419025, 'loss': -115.88658046147552, 'time_step': 0.017499321687992137, 'observation_error': 0.18082415278060987, 'reward_error': 0.00034023191223605485, 'variance': 0.2277820489316896}\u001b[0m \u001b[36mstep\u001b[0m=\u001b[35m72165\u001b[0m\n",
      "\u001b[2m2023-10-22 12:02:05\u001b[0m [\u001b[32m\u001b[1minfo     \u001b[0m] \u001b[1mModel parameters are saved to d3rlpy_logs/exp_5_dynamics_reacher_symmetry_20231022112713/model_72165.pt\u001b[0m\n"
     ]
    },
    {
     "data": {
      "application/vnd.jupyter.widget-view+json": {
       "model_id": "8a1f2d132b8a45bc968bf93935addd95",
       "version_major": 2,
       "version_minor": 0
      },
      "text/plain": [
       "Epoch 16/100:   0%|          | 0/4811 [00:00<?, ?it/s]"
      ]
     },
     "metadata": {},
     "output_type": "display_data"
    },
    {
     "name": "stdout",
     "output_type": "stream",
     "text": [
      "\u001b[2m2023-10-22 12:04:24\u001b[0m [\u001b[32m\u001b[1minfo     \u001b[0m] \u001b[1mexp_5_dynamics_reacher_symmetry_20231022112713: epoch=16 step=76976\u001b[0m \u001b[36mepoch\u001b[0m=\u001b[35m16\u001b[0m \u001b[36mmetrics\u001b[0m=\u001b[35m{'time_sample_batch': 0.0002508897390863153, 'time_algorithm_update': 0.017293336807231947, 'loss': -118.37643506437249, 'time_step': 0.017615757918214132, 'observation_error': 0.16025237561812927, 'reward_error': 0.00030711339215138463, 'variance': 0.19794018860306892}\u001b[0m \u001b[36mstep\u001b[0m=\u001b[35m76976\u001b[0m\n",
      "\u001b[2m2023-10-22 12:04:24\u001b[0m [\u001b[32m\u001b[1minfo     \u001b[0m] \u001b[1mModel parameters are saved to d3rlpy_logs/exp_5_dynamics_reacher_symmetry_20231022112713/model_76976.pt\u001b[0m\n"
     ]
    },
    {
     "data": {
      "application/vnd.jupyter.widget-view+json": {
       "model_id": "e773244225d74bfbbaa5f3b2bd23a5be",
       "version_major": 2,
       "version_minor": 0
      },
      "text/plain": [
       "Epoch 17/100:   0%|          | 0/4811 [00:00<?, ?it/s]"
      ]
     },
     "metadata": {},
     "output_type": "display_data"
    },
    {
     "name": "stdout",
     "output_type": "stream",
     "text": [
      "\u001b[2m2023-10-22 12:06:42\u001b[0m [\u001b[32m\u001b[1minfo     \u001b[0m] \u001b[1mexp_5_dynamics_reacher_symmetry_20231022112713: epoch=17 step=81787\u001b[0m \u001b[36mepoch\u001b[0m=\u001b[35m17\u001b[0m \u001b[36mmetrics\u001b[0m=\u001b[35m{'time_sample_batch': 0.0002495893642129781, 'time_algorithm_update': 0.01737393938412267, 'loss': -120.1764150828439, 'time_step': 0.017696756950858924, 'observation_error': 0.14773681633116317, 'reward_error': 0.0002641691233841272, 'variance': 0.15217574364674769}\u001b[0m \u001b[36mstep\u001b[0m=\u001b[35m81787\u001b[0m\n",
      "\u001b[2m2023-10-22 12:06:42\u001b[0m [\u001b[32m\u001b[1minfo     \u001b[0m] \u001b[1mModel parameters are saved to d3rlpy_logs/exp_5_dynamics_reacher_symmetry_20231022112713/model_81787.pt\u001b[0m\n"
     ]
    },
    {
     "data": {
      "application/vnd.jupyter.widget-view+json": {
       "model_id": "1c4d7c40a19049789d96bea021b5dec6",
       "version_major": 2,
       "version_minor": 0
      },
      "text/plain": [
       "Epoch 18/100:   0%|          | 0/4811 [00:00<?, ?it/s]"
      ]
     },
     "metadata": {},
     "output_type": "display_data"
    },
    {
     "name": "stdout",
     "output_type": "stream",
     "text": [
      "\u001b[2m2023-10-22 12:09:01\u001b[0m [\u001b[32m\u001b[1minfo     \u001b[0m] \u001b[1mexp_5_dynamics_reacher_symmetry_20231022112713: epoch=18 step=86598\u001b[0m \u001b[36mepoch\u001b[0m=\u001b[35m18\u001b[0m \u001b[36mmetrics\u001b[0m=\u001b[35m{'time_sample_batch': 0.0002578878273861841, 'time_algorithm_update': 0.01735106244996094, 'loss': -121.63052189917555, 'time_step': 0.017682085510996072, 'observation_error': 0.13613597338921402, 'reward_error': 0.00025570799659435666, 'variance': 0.13419586009886783}\u001b[0m \u001b[36mstep\u001b[0m=\u001b[35m86598\u001b[0m\n",
      "\u001b[2m2023-10-22 12:09:01\u001b[0m [\u001b[32m\u001b[1minfo     \u001b[0m] \u001b[1mModel parameters are saved to d3rlpy_logs/exp_5_dynamics_reacher_symmetry_20231022112713/model_86598.pt\u001b[0m\n"
     ]
    },
    {
     "data": {
      "application/vnd.jupyter.widget-view+json": {
       "model_id": "3b03dd9c13564986b57015ddce107bd8",
       "version_major": 2,
       "version_minor": 0
      },
      "text/plain": [
       "Epoch 19/100:   0%|          | 0/4811 [00:00<?, ?it/s]"
      ]
     },
     "metadata": {},
     "output_type": "display_data"
    },
    {
     "name": "stdout",
     "output_type": "stream",
     "text": [
      "\u001b[2m2023-10-22 12:11:20\u001b[0m [\u001b[32m\u001b[1minfo     \u001b[0m] \u001b[1mexp_5_dynamics_reacher_symmetry_20231022112713: epoch=19 step=91409\u001b[0m \u001b[36mepoch\u001b[0m=\u001b[35m19\u001b[0m \u001b[36mmetrics\u001b[0m=\u001b[35m{'time_sample_batch': 0.00024853330519808425, 'time_algorithm_update': 0.017327238482116685, 'loss': -122.89130232404013, 'time_step': 0.017648134279142073, 'observation_error': 0.1284177722475275, 'reward_error': 0.00023381711018562054, 'variance': 0.09965311100717558}\u001b[0m \u001b[36mstep\u001b[0m=\u001b[35m91409\u001b[0m\n",
      "\u001b[2m2023-10-22 12:11:20\u001b[0m [\u001b[32m\u001b[1minfo     \u001b[0m] \u001b[1mModel parameters are saved to d3rlpy_logs/exp_5_dynamics_reacher_symmetry_20231022112713/model_91409.pt\u001b[0m\n"
     ]
    },
    {
     "data": {
      "application/vnd.jupyter.widget-view+json": {
       "model_id": "07daba8c18ea400ab016c920db91f294",
       "version_major": 2,
       "version_minor": 0
      },
      "text/plain": [
       "Epoch 20/100:   0%|          | 0/4811 [00:00<?, ?it/s]"
      ]
     },
     "metadata": {},
     "output_type": "display_data"
    },
    {
     "name": "stdout",
     "output_type": "stream",
     "text": [
      "\u001b[2m2023-10-22 12:13:39\u001b[0m [\u001b[32m\u001b[1minfo     \u001b[0m] \u001b[1mexp_5_dynamics_reacher_symmetry_20231022112713: epoch=20 step=96220\u001b[0m \u001b[36mepoch\u001b[0m=\u001b[35m20\u001b[0m \u001b[36mmetrics\u001b[0m=\u001b[35m{'time_sample_batch': 0.0002533535629269289, 'time_algorithm_update': 0.017324963470328948, 'loss': -124.20445930038512, 'time_step': 0.017650639681279896, 'observation_error': 0.12211332138111175, 'reward_error': 0.00020530947455132647, 'variance': 0.08521417490592481}\u001b[0m \u001b[36mstep\u001b[0m=\u001b[35m96220\u001b[0m\n",
      "\u001b[2m2023-10-22 12:13:39\u001b[0m [\u001b[32m\u001b[1minfo     \u001b[0m] \u001b[1mModel parameters are saved to d3rlpy_logs/exp_5_dynamics_reacher_symmetry_20231022112713/model_96220.pt\u001b[0m\n"
     ]
    },
    {
     "data": {
      "application/vnd.jupyter.widget-view+json": {
       "model_id": "6a000617c5f246858b71266816e26972",
       "version_major": 2,
       "version_minor": 0
      },
      "text/plain": [
       "Epoch 21/100:   0%|          | 0/4811 [00:00<?, ?it/s]"
      ]
     },
     "metadata": {},
     "output_type": "display_data"
    },
    {
     "name": "stdout",
     "output_type": "stream",
     "text": [
      "\u001b[2m2023-10-22 12:15:58\u001b[0m [\u001b[32m\u001b[1minfo     \u001b[0m] \u001b[1mexp_5_dynamics_reacher_symmetry_20231022112713: epoch=21 step=101031\u001b[0m \u001b[36mepoch\u001b[0m=\u001b[35m21\u001b[0m \u001b[36mmetrics\u001b[0m=\u001b[35m{'time_sample_batch': 0.0002470622065656524, 'time_algorithm_update': 0.017354470482736833, 'loss': -124.74319897677243, 'time_step': 0.017673095529873836, 'observation_error': 0.11621088296410087, 'reward_error': 0.0002035677916397003, 'variance': 0.07536343072631956}\u001b[0m \u001b[36mstep\u001b[0m=\u001b[35m101031\u001b[0m\n",
      "\u001b[2m2023-10-22 12:15:58\u001b[0m [\u001b[32m\u001b[1minfo     \u001b[0m] \u001b[1mModel parameters are saved to d3rlpy_logs/exp_5_dynamics_reacher_symmetry_20231022112713/model_101031.pt\u001b[0m\n"
     ]
    },
    {
     "data": {
      "application/vnd.jupyter.widget-view+json": {
       "model_id": "d0800fe52350451e922ba27828cb32c1",
       "version_major": 2,
       "version_minor": 0
      },
      "text/plain": [
       "Epoch 22/100:   0%|          | 0/4811 [00:00<?, ?it/s]"
      ]
     },
     "metadata": {},
     "output_type": "display_data"
    },
    {
     "name": "stdout",
     "output_type": "stream",
     "text": [
      "\u001b[2m2023-10-22 12:18:17\u001b[0m [\u001b[32m\u001b[1minfo     \u001b[0m] \u001b[1mexp_5_dynamics_reacher_symmetry_20231022112713: epoch=22 step=105842\u001b[0m \u001b[36mepoch\u001b[0m=\u001b[35m22\u001b[0m \u001b[36mmetrics\u001b[0m=\u001b[35m{'time_sample_batch': 0.0002500576775724688, 'time_algorithm_update': 0.017357927329127443, 'loss': -126.18814124973815, 'time_step': 0.017681280160688654, 'observation_error': 0.10854510043345919, 'reward_error': 0.00017423981795621488, 'variance': 0.07111752661295523}\u001b[0m \u001b[36mstep\u001b[0m=\u001b[35m105842\u001b[0m\n",
      "\u001b[2m2023-10-22 12:18:17\u001b[0m [\u001b[32m\u001b[1minfo     \u001b[0m] \u001b[1mModel parameters are saved to d3rlpy_logs/exp_5_dynamics_reacher_symmetry_20231022112713/model_105842.pt\u001b[0m\n"
     ]
    },
    {
     "data": {
      "application/vnd.jupyter.widget-view+json": {
       "model_id": "6b805eac6e794cb2b7b5a2a95db71326",
       "version_major": 2,
       "version_minor": 0
      },
      "text/plain": [
       "Epoch 23/100:   0%|          | 0/4811 [00:00<?, ?it/s]"
      ]
     },
     "metadata": {},
     "output_type": "display_data"
    },
    {
     "name": "stdout",
     "output_type": "stream",
     "text": [
      "\u001b[2m2023-10-22 12:20:36\u001b[0m [\u001b[32m\u001b[1minfo     \u001b[0m] \u001b[1mexp_5_dynamics_reacher_symmetry_20231022112713: epoch=23 step=110653\u001b[0m \u001b[36mepoch\u001b[0m=\u001b[35m23\u001b[0m \u001b[36mmetrics\u001b[0m=\u001b[35m{'time_sample_batch': 0.0002495216198360021, 'time_algorithm_update': 0.017363082344183628, 'loss': -127.21178067218635, 'time_step': 0.017685047134592884, 'observation_error': 0.11125606854771833, 'reward_error': 0.00017188977236787733, 'variance': 0.0702557054065071}\u001b[0m \u001b[36mstep\u001b[0m=\u001b[35m110653\u001b[0m\n",
      "\u001b[2m2023-10-22 12:20:36\u001b[0m [\u001b[32m\u001b[1minfo     \u001b[0m] \u001b[1mModel parameters are saved to d3rlpy_logs/exp_5_dynamics_reacher_symmetry_20231022112713/model_110653.pt\u001b[0m\n"
     ]
    },
    {
     "data": {
      "application/vnd.jupyter.widget-view+json": {
       "model_id": "f906b4040db14de08c7b78776b03d483",
       "version_major": 2,
       "version_minor": 0
      },
      "text/plain": [
       "Epoch 24/100:   0%|          | 0/4811 [00:00<?, ?it/s]"
      ]
     },
     "metadata": {},
     "output_type": "display_data"
    },
    {
     "name": "stdout",
     "output_type": "stream",
     "text": [
      "\u001b[2m2023-10-22 12:22:54\u001b[0m [\u001b[32m\u001b[1minfo     \u001b[0m] \u001b[1mexp_5_dynamics_reacher_symmetry_20231022112713: epoch=24 step=115464\u001b[0m \u001b[36mepoch\u001b[0m=\u001b[35m24\u001b[0m \u001b[36mmetrics\u001b[0m=\u001b[35m{'time_sample_batch': 0.0002511699341905015, 'time_algorithm_update': 0.017325974333387877, 'loss': -128.0006336060712, 'time_step': 0.017650187771277227, 'observation_error': 0.11961243872637715, 'reward_error': 0.00015674912993463936, 'variance': 0.07136508575865894}\u001b[0m \u001b[36mstep\u001b[0m=\u001b[35m115464\u001b[0m\n",
      "\u001b[2m2023-10-22 12:22:55\u001b[0m [\u001b[32m\u001b[1minfo     \u001b[0m] \u001b[1mModel parameters are saved to d3rlpy_logs/exp_5_dynamics_reacher_symmetry_20231022112713/model_115464.pt\u001b[0m\n"
     ]
    },
    {
     "data": {
      "application/vnd.jupyter.widget-view+json": {
       "model_id": "44bc37f717c4400daa8dbd11f8f175d5",
       "version_major": 2,
       "version_minor": 0
      },
      "text/plain": [
       "Epoch 25/100:   0%|          | 0/4811 [00:00<?, ?it/s]"
      ]
     },
     "metadata": {},
     "output_type": "display_data"
    },
    {
     "name": "stdout",
     "output_type": "stream",
     "text": [
      "\u001b[2m2023-10-22 12:25:13\u001b[0m [\u001b[32m\u001b[1minfo     \u001b[0m] \u001b[1mexp_5_dynamics_reacher_symmetry_20231022112713: epoch=25 step=120275\u001b[0m \u001b[36mepoch\u001b[0m=\u001b[35m25\u001b[0m \u001b[36mmetrics\u001b[0m=\u001b[35m{'time_sample_batch': 0.00025203856874766057, 'time_algorithm_update': 0.017349809550664154, 'loss': -128.74522456159414, 'time_step': 0.01767538367425843, 'observation_error': 0.1246959546983796, 'reward_error': 0.0001573743973163748, 'variance': 0.08168077111012662}\u001b[0m \u001b[36mstep\u001b[0m=\u001b[35m120275\u001b[0m\n",
      "\u001b[2m2023-10-22 12:25:13\u001b[0m [\u001b[32m\u001b[1minfo     \u001b[0m] \u001b[1mModel parameters are saved to d3rlpy_logs/exp_5_dynamics_reacher_symmetry_20231022112713/model_120275.pt\u001b[0m\n"
     ]
    },
    {
     "data": {
      "application/vnd.jupyter.widget-view+json": {
       "model_id": "c7bdb5873eb9474da5e0863679e477d1",
       "version_major": 2,
       "version_minor": 0
      },
      "text/plain": [
       "Epoch 26/100:   0%|          | 0/4811 [00:00<?, ?it/s]"
      ]
     },
     "metadata": {},
     "output_type": "display_data"
    },
    {
     "name": "stdout",
     "output_type": "stream",
     "text": [
      "\u001b[2m2023-10-22 12:27:32\u001b[0m [\u001b[32m\u001b[1minfo     \u001b[0m] \u001b[1mexp_5_dynamics_reacher_symmetry_20231022112713: epoch=26 step=125086\u001b[0m \u001b[36mepoch\u001b[0m=\u001b[35m26\u001b[0m \u001b[36mmetrics\u001b[0m=\u001b[35m{'time_sample_batch': 0.00025083259990076046, 'time_algorithm_update': 0.017376400482329975, 'loss': -129.47426957911648, 'time_step': 0.017699973099049846, 'observation_error': 0.12071538326600202, 'reward_error': 0.00014916052067351614, 'variance': 0.07820626410155881}\u001b[0m \u001b[36mstep\u001b[0m=\u001b[35m125086\u001b[0m\n",
      "\u001b[2m2023-10-22 12:27:33\u001b[0m [\u001b[32m\u001b[1minfo     \u001b[0m] \u001b[1mModel parameters are saved to d3rlpy_logs/exp_5_dynamics_reacher_symmetry_20231022112713/model_125086.pt\u001b[0m\n"
     ]
    },
    {
     "data": {
      "application/vnd.jupyter.widget-view+json": {
       "model_id": "8e51d244260d47328f58d3c790969fd7",
       "version_major": 2,
       "version_minor": 0
      },
      "text/plain": [
       "Epoch 27/100:   0%|          | 0/4811 [00:00<?, ?it/s]"
      ]
     },
     "metadata": {},
     "output_type": "display_data"
    },
    {
     "name": "stdout",
     "output_type": "stream",
     "text": [
      "\u001b[2m2023-10-22 12:29:51\u001b[0m [\u001b[32m\u001b[1minfo     \u001b[0m] \u001b[1mexp_5_dynamics_reacher_symmetry_20231022112713: epoch=27 step=129897\u001b[0m \u001b[36mepoch\u001b[0m=\u001b[35m27\u001b[0m \u001b[36mmetrics\u001b[0m=\u001b[35m{'time_sample_batch': 0.000250128890937293, 'time_algorithm_update': 0.017352943533400046, 'loss': -129.93884975819498, 'time_step': 0.01767574439943766, 'observation_error': 0.11836239016318878, 'reward_error': 0.0001350855612602188, 'variance': 0.07564998526995764}\u001b[0m \u001b[36mstep\u001b[0m=\u001b[35m129897\u001b[0m\n",
      "\u001b[2m2023-10-22 12:29:51\u001b[0m [\u001b[32m\u001b[1minfo     \u001b[0m] \u001b[1mModel parameters are saved to d3rlpy_logs/exp_5_dynamics_reacher_symmetry_20231022112713/model_129897.pt\u001b[0m\n"
     ]
    },
    {
     "data": {
      "application/vnd.jupyter.widget-view+json": {
       "model_id": "82294b71d93a4255a13b905226aeb815",
       "version_major": 2,
       "version_minor": 0
      },
      "text/plain": [
       "Epoch 28/100:   0%|          | 0/4811 [00:00<?, ?it/s]"
      ]
     },
     "metadata": {},
     "output_type": "display_data"
    },
    {
     "name": "stdout",
     "output_type": "stream",
     "text": [
      "\u001b[2m2023-10-22 12:32:10\u001b[0m [\u001b[32m\u001b[1minfo     \u001b[0m] \u001b[1mexp_5_dynamics_reacher_symmetry_20231022112713: epoch=28 step=134708\u001b[0m \u001b[36mepoch\u001b[0m=\u001b[35m28\u001b[0m \u001b[36mmetrics\u001b[0m=\u001b[35m{'time_sample_batch': 0.00025052891479314577, 'time_algorithm_update': 0.01736055142020664, 'loss': -130.56069854866365, 'time_step': 0.017683129626781376, 'observation_error': 0.11311281817418165, 'reward_error': 0.00013028014519583233, 'variance': 0.07441718390112478}\u001b[0m \u001b[36mstep\u001b[0m=\u001b[35m134708\u001b[0m\n",
      "\u001b[2m2023-10-22 12:32:10\u001b[0m [\u001b[32m\u001b[1minfo     \u001b[0m] \u001b[1mModel parameters are saved to d3rlpy_logs/exp_5_dynamics_reacher_symmetry_20231022112713/model_134708.pt\u001b[0m\n"
     ]
    },
    {
     "data": {
      "application/vnd.jupyter.widget-view+json": {
       "model_id": "4a063105d35442f1a576f64a59f3d698",
       "version_major": 2,
       "version_minor": 0
      },
      "text/plain": [
       "Epoch 29/100:   0%|          | 0/4811 [00:00<?, ?it/s]"
      ]
     },
     "metadata": {},
     "output_type": "display_data"
    },
    {
     "name": "stdout",
     "output_type": "stream",
     "text": [
      "\u001b[2m2023-10-22 12:34:29\u001b[0m [\u001b[32m\u001b[1minfo     \u001b[0m] \u001b[1mexp_5_dynamics_reacher_symmetry_20231022112713: epoch=29 step=139519\u001b[0m \u001b[36mepoch\u001b[0m=\u001b[35m29\u001b[0m \u001b[36mmetrics\u001b[0m=\u001b[35m{'time_sample_batch': 0.00025299080591195835, 'time_algorithm_update': 0.01740335129670655, 'loss': -130.99087951773544, 'time_step': 0.017730682710430722, 'observation_error': 0.10778512240010676, 'reward_error': 0.00012060713532844206, 'variance': 0.06663107513332069}\u001b[0m \u001b[36mstep\u001b[0m=\u001b[35m139519\u001b[0m\n",
      "\u001b[2m2023-10-22 12:34:29\u001b[0m [\u001b[32m\u001b[1minfo     \u001b[0m] \u001b[1mModel parameters are saved to d3rlpy_logs/exp_5_dynamics_reacher_symmetry_20231022112713/model_139519.pt\u001b[0m\n"
     ]
    },
    {
     "data": {
      "application/vnd.jupyter.widget-view+json": {
       "model_id": "1205087fc9bb49d2a6bb549d23173e0e",
       "version_major": 2,
       "version_minor": 0
      },
      "text/plain": [
       "Epoch 30/100:   0%|          | 0/4811 [00:00<?, ?it/s]"
      ]
     },
     "metadata": {},
     "output_type": "display_data"
    },
    {
     "name": "stdout",
     "output_type": "stream",
     "text": [
      "\u001b[2m2023-10-22 12:36:47\u001b[0m [\u001b[32m\u001b[1minfo     \u001b[0m] \u001b[1mexp_5_dynamics_reacher_symmetry_20231022112713: epoch=30 step=144330\u001b[0m \u001b[36mepoch\u001b[0m=\u001b[35m30\u001b[0m \u001b[36mmetrics\u001b[0m=\u001b[35m{'time_sample_batch': 0.00025005098738161894, 'time_algorithm_update': 0.017320207983558922, 'loss': -131.4913180063232, 'time_step': 0.01764266046410265, 'observation_error': 0.10834847202518547, 'reward_error': 0.00010848356180104919, 'variance': 0.060899895249317014}\u001b[0m \u001b[36mstep\u001b[0m=\u001b[35m144330\u001b[0m\n",
      "\u001b[2m2023-10-22 12:36:47\u001b[0m [\u001b[32m\u001b[1minfo     \u001b[0m] \u001b[1mModel parameters are saved to d3rlpy_logs/exp_5_dynamics_reacher_symmetry_20231022112713/model_144330.pt\u001b[0m\n"
     ]
    },
    {
     "data": {
      "application/vnd.jupyter.widget-view+json": {
       "model_id": "558de4746cd6494ca58ee679a0b0edb4",
       "version_major": 2,
       "version_minor": 0
      },
      "text/plain": [
       "Epoch 31/100:   0%|          | 0/4811 [00:00<?, ?it/s]"
      ]
     },
     "metadata": {},
     "output_type": "display_data"
    },
    {
     "name": "stdout",
     "output_type": "stream",
     "text": [
      "\u001b[2m2023-10-22 12:39:05\u001b[0m [\u001b[32m\u001b[1minfo     \u001b[0m] \u001b[1mexp_5_dynamics_reacher_symmetry_20231022112713: epoch=31 step=149141\u001b[0m \u001b[36mepoch\u001b[0m=\u001b[35m31\u001b[0m \u001b[36mmetrics\u001b[0m=\u001b[35m{'time_sample_batch': 0.00024902302716829454, 'time_algorithm_update': 0.01726844206195293, 'loss': -131.88045975632193, 'time_step': 0.017589421511142424, 'observation_error': 0.10694002134761928, 'reward_error': 0.00010584255901463274, 'variance': 0.06227628101426936}\u001b[0m \u001b[36mstep\u001b[0m=\u001b[35m149141\u001b[0m\n",
      "\u001b[2m2023-10-22 12:39:05\u001b[0m [\u001b[32m\u001b[1minfo     \u001b[0m] \u001b[1mModel parameters are saved to d3rlpy_logs/exp_5_dynamics_reacher_symmetry_20231022112713/model_149141.pt\u001b[0m\n"
     ]
    },
    {
     "data": {
      "application/vnd.jupyter.widget-view+json": {
       "model_id": "5778f957600f4c309a8007d2fbb3d076",
       "version_major": 2,
       "version_minor": 0
      },
      "text/plain": [
       "Epoch 32/100:   0%|          | 0/4811 [00:00<?, ?it/s]"
      ]
     },
     "metadata": {},
     "output_type": "display_data"
    },
    {
     "name": "stdout",
     "output_type": "stream",
     "text": [
      "\u001b[2m2023-10-22 12:41:23\u001b[0m [\u001b[32m\u001b[1minfo     \u001b[0m] \u001b[1mexp_5_dynamics_reacher_symmetry_20231022112713: epoch=32 step=153952\u001b[0m \u001b[36mepoch\u001b[0m=\u001b[35m32\u001b[0m \u001b[36mmetrics\u001b[0m=\u001b[35m{'time_sample_batch': 0.0002543637817452589, 'time_algorithm_update': 0.017285849938544283, 'loss': -132.5306681214933, 'time_step': 0.017612563327304837, 'observation_error': 0.12081018208163176, 'reward_error': 8.898164898625298e-05, 'variance': 0.09080859314355244}\u001b[0m \u001b[36mstep\u001b[0m=\u001b[35m153952\u001b[0m\n",
      "\u001b[2m2023-10-22 12:41:24\u001b[0m [\u001b[32m\u001b[1minfo     \u001b[0m] \u001b[1mModel parameters are saved to d3rlpy_logs/exp_5_dynamics_reacher_symmetry_20231022112713/model_153952.pt\u001b[0m\n"
     ]
    },
    {
     "data": {
      "application/vnd.jupyter.widget-view+json": {
       "model_id": "8df9f155a7b5420aa93ec1bc95b99047",
       "version_major": 2,
       "version_minor": 0
      },
      "text/plain": [
       "Epoch 33/100:   0%|          | 0/4811 [00:00<?, ?it/s]"
      ]
     },
     "metadata": {},
     "output_type": "display_data"
    },
    {
     "name": "stdout",
     "output_type": "stream",
     "text": [
      "\u001b[2m2023-10-22 12:43:42\u001b[0m [\u001b[32m\u001b[1minfo     \u001b[0m] \u001b[1mexp_5_dynamics_reacher_symmetry_20231022112713: epoch=33 step=158763\u001b[0m \u001b[36mepoch\u001b[0m=\u001b[35m33\u001b[0m \u001b[36mmetrics\u001b[0m=\u001b[35m{'time_sample_batch': 0.00024992684717362696, 'time_algorithm_update': 0.01733643769276313, 'loss': -133.109807243815, 'time_step': 0.017658636094725472, 'observation_error': 0.11063074064355186, 'reward_error': 9.206744873240441e-05, 'variance': 0.06416779379331473}\u001b[0m \u001b[36mstep\u001b[0m=\u001b[35m158763\u001b[0m\n",
      "\u001b[2m2023-10-22 12:43:42\u001b[0m [\u001b[32m\u001b[1minfo     \u001b[0m] \u001b[1mModel parameters are saved to d3rlpy_logs/exp_5_dynamics_reacher_symmetry_20231022112713/model_158763.pt\u001b[0m\n"
     ]
    },
    {
     "data": {
      "application/vnd.jupyter.widget-view+json": {
       "model_id": "e98eb1e6d97a43b29c29b9974be07e19",
       "version_major": 2,
       "version_minor": 0
      },
      "text/plain": [
       "Epoch 34/100:   0%|          | 0/4811 [00:00<?, ?it/s]"
      ]
     },
     "metadata": {},
     "output_type": "display_data"
    },
    {
     "name": "stdout",
     "output_type": "stream",
     "text": [
      "\u001b[2m2023-10-22 12:46:02\u001b[0m [\u001b[32m\u001b[1minfo     \u001b[0m] \u001b[1mexp_5_dynamics_reacher_symmetry_20231022112713: epoch=34 step=163574\u001b[0m \u001b[36mepoch\u001b[0m=\u001b[35m34\u001b[0m \u001b[36mmetrics\u001b[0m=\u001b[35m{'time_sample_batch': 0.00025236083771874716, 'time_algorithm_update': 0.017448486545382752, 'loss': -133.51494344974154, 'time_step': 0.01777447818644303, 'observation_error': 0.10922468087277712, 'reward_error': 8.87149090278047e-05, 'variance': 0.06315304938875392}\u001b[0m \u001b[36mstep\u001b[0m=\u001b[35m163574\u001b[0m\n",
      "\u001b[2m2023-10-22 12:46:02\u001b[0m [\u001b[32m\u001b[1minfo     \u001b[0m] \u001b[1mModel parameters are saved to d3rlpy_logs/exp_5_dynamics_reacher_symmetry_20231022112713/model_163574.pt\u001b[0m\n"
     ]
    },
    {
     "data": {
      "application/vnd.jupyter.widget-view+json": {
       "model_id": "93dc240fde0a48f0ad16b720cb5895fe",
       "version_major": 2,
       "version_minor": 0
      },
      "text/plain": [
       "Epoch 35/100:   0%|          | 0/4811 [00:00<?, ?it/s]"
      ]
     },
     "metadata": {},
     "output_type": "display_data"
    },
    {
     "name": "stdout",
     "output_type": "stream",
     "text": [
      "\u001b[2m2023-10-22 12:48:20\u001b[0m [\u001b[32m\u001b[1minfo     \u001b[0m] \u001b[1mexp_5_dynamics_reacher_symmetry_20231022112713: epoch=35 step=168385\u001b[0m \u001b[36mepoch\u001b[0m=\u001b[35m35\u001b[0m \u001b[36mmetrics\u001b[0m=\u001b[35m{'time_sample_batch': 0.00025151559405107803, 'time_algorithm_update': 0.017399627883378295, 'loss': -133.4064135816087, 'time_step': 0.017724656632525884, 'observation_error': 0.1172254208921416, 'reward_error': 9.078626489276023e-05, 'variance': 0.0733663386073554}\u001b[0m \u001b[36mstep\u001b[0m=\u001b[35m168385\u001b[0m\n",
      "\u001b[2m2023-10-22 12:48:20\u001b[0m [\u001b[32m\u001b[1minfo     \u001b[0m] \u001b[1mModel parameters are saved to d3rlpy_logs/exp_5_dynamics_reacher_symmetry_20231022112713/model_168385.pt\u001b[0m\n"
     ]
    },
    {
     "data": {
      "application/vnd.jupyter.widget-view+json": {
       "model_id": "bf491833b55f4be99cc7cabf9b43d02e",
       "version_major": 2,
       "version_minor": 0
      },
      "text/plain": [
       "Epoch 36/100:   0%|          | 0/4811 [00:00<?, ?it/s]"
      ]
     },
     "metadata": {},
     "output_type": "display_data"
    },
    {
     "name": "stdout",
     "output_type": "stream",
     "text": [
      "\u001b[2m2023-10-22 12:50:39\u001b[0m [\u001b[32m\u001b[1minfo     \u001b[0m] \u001b[1mexp_5_dynamics_reacher_symmetry_20231022112713: epoch=36 step=173196\u001b[0m \u001b[36mepoch\u001b[0m=\u001b[35m36\u001b[0m \u001b[36mmetrics\u001b[0m=\u001b[35m{'time_sample_batch': 0.0002513949723879034, 'time_algorithm_update': 0.017318701352579534, 'loss': -133.87088883232857, 'time_step': 0.017641686570542787, 'observation_error': 0.10922511602146834, 'reward_error': 8.309303568210272e-05, 'variance': 0.06087464707141627}\u001b[0m \u001b[36mstep\u001b[0m=\u001b[35m173196\u001b[0m\n",
      "\u001b[2m2023-10-22 12:50:39\u001b[0m [\u001b[32m\u001b[1minfo     \u001b[0m] \u001b[1mModel parameters are saved to d3rlpy_logs/exp_5_dynamics_reacher_symmetry_20231022112713/model_173196.pt\u001b[0m\n"
     ]
    },
    {
     "data": {
      "application/vnd.jupyter.widget-view+json": {
       "model_id": "a44a2c9be99747c3aa3504996eb908be",
       "version_major": 2,
       "version_minor": 0
      },
      "text/plain": [
       "Epoch 37/100:   0%|          | 0/4811 [00:00<?, ?it/s]"
      ]
     },
     "metadata": {},
     "output_type": "display_data"
    },
    {
     "name": "stdout",
     "output_type": "stream",
     "text": [
      "\u001b[2m2023-10-22 12:52:57\u001b[0m [\u001b[32m\u001b[1minfo     \u001b[0m] \u001b[1mexp_5_dynamics_reacher_symmetry_20231022112713: epoch=37 step=178007\u001b[0m \u001b[36mepoch\u001b[0m=\u001b[35m37\u001b[0m \u001b[36mmetrics\u001b[0m=\u001b[35m{'time_sample_batch': 0.0002468501522941962, 'time_algorithm_update': 0.017289173030674867, 'loss': -134.17753157043774, 'time_step': 0.017608045515759375, 'observation_error': 0.11184607855529889, 'reward_error': 8.053518575101349e-05, 'variance': 0.05954594646694176}\u001b[0m \u001b[36mstep\u001b[0m=\u001b[35m178007\u001b[0m\n",
      "\u001b[2m2023-10-22 12:52:57\u001b[0m [\u001b[32m\u001b[1minfo     \u001b[0m] \u001b[1mModel parameters are saved to d3rlpy_logs/exp_5_dynamics_reacher_symmetry_20231022112713/model_178007.pt\u001b[0m\n"
     ]
    },
    {
     "data": {
      "application/vnd.jupyter.widget-view+json": {
       "model_id": "9a69cd9bd47f48f29c285f6892945a80",
       "version_major": 2,
       "version_minor": 0
      },
      "text/plain": [
       "Epoch 38/100:   0%|          | 0/4811 [00:00<?, ?it/s]"
      ]
     },
     "metadata": {},
     "output_type": "display_data"
    },
    {
     "name": "stdout",
     "output_type": "stream",
     "text": [
      "\u001b[2m2023-10-22 12:55:15\u001b[0m [\u001b[32m\u001b[1minfo     \u001b[0m] \u001b[1mexp_5_dynamics_reacher_symmetry_20231022112713: epoch=38 step=182818\u001b[0m \u001b[36mepoch\u001b[0m=\u001b[35m38\u001b[0m \u001b[36mmetrics\u001b[0m=\u001b[35m{'time_sample_batch': 0.00024774371400689216, 'time_algorithm_update': 0.017373151180526614, 'loss': -134.5122685730767, 'time_step': 0.017694258833595582, 'observation_error': 0.10742357580680946, 'reward_error': 8.568005138742075e-05, 'variance': 0.06492385194999133}\u001b[0m \u001b[36mstep\u001b[0m=\u001b[35m182818\u001b[0m\n",
      "\u001b[2m2023-10-22 12:55:15\u001b[0m [\u001b[32m\u001b[1minfo     \u001b[0m] \u001b[1mModel parameters are saved to d3rlpy_logs/exp_5_dynamics_reacher_symmetry_20231022112713/model_182818.pt\u001b[0m\n"
     ]
    },
    {
     "data": {
      "application/vnd.jupyter.widget-view+json": {
       "model_id": "39e292433ba248c28d5eca33f88e3c6a",
       "version_major": 2,
       "version_minor": 0
      },
      "text/plain": [
       "Epoch 39/100:   0%|          | 0/4811 [00:00<?, ?it/s]"
      ]
     },
     "metadata": {},
     "output_type": "display_data"
    },
    {
     "name": "stdout",
     "output_type": "stream",
     "text": [
      "\u001b[2m2023-10-22 12:57:34\u001b[0m [\u001b[32m\u001b[1minfo     \u001b[0m] \u001b[1mexp_5_dynamics_reacher_symmetry_20231022112713: epoch=39 step=187629\u001b[0m \u001b[36mepoch\u001b[0m=\u001b[35m39\u001b[0m \u001b[36mmetrics\u001b[0m=\u001b[35m{'time_sample_batch': 0.00024798912011865916, 'time_algorithm_update': 0.01736064334838461, 'loss': -135.08767164107843, 'time_step': 0.017681879304446986, 'observation_error': 0.1047845429996181, 'reward_error': 6.833293464963287e-05, 'variance': 0.06184852252094999}\u001b[0m \u001b[36mstep\u001b[0m=\u001b[35m187629\u001b[0m\n",
      "\u001b[2m2023-10-22 12:57:34\u001b[0m [\u001b[32m\u001b[1minfo     \u001b[0m] \u001b[1mModel parameters are saved to d3rlpy_logs/exp_5_dynamics_reacher_symmetry_20231022112713/model_187629.pt\u001b[0m\n"
     ]
    },
    {
     "data": {
      "application/vnd.jupyter.widget-view+json": {
       "model_id": "402e27d37bfb4caa87179fcb6ae51f89",
       "version_major": 2,
       "version_minor": 0
      },
      "text/plain": [
       "Epoch 40/100:   0%|          | 0/4811 [00:00<?, ?it/s]"
      ]
     },
     "metadata": {},
     "output_type": "display_data"
    },
    {
     "name": "stdout",
     "output_type": "stream",
     "text": [
      "\u001b[2m2023-10-22 12:59:52\u001b[0m [\u001b[32m\u001b[1minfo     \u001b[0m] \u001b[1mexp_5_dynamics_reacher_symmetry_20231022112713: epoch=40 step=192440\u001b[0m \u001b[36mepoch\u001b[0m=\u001b[35m40\u001b[0m \u001b[36mmetrics\u001b[0m=\u001b[35m{'time_sample_batch': 0.0002489993884939583, 'time_algorithm_update': 0.017305942861287022, 'loss': -135.7696397393242, 'time_step': 0.017627015130679935, 'observation_error': 0.10501207298920943, 'reward_error': 6.992813409348942e-05, 'variance': 0.06132374104704724}\u001b[0m \u001b[36mstep\u001b[0m=\u001b[35m192440\u001b[0m\n",
      "\u001b[2m2023-10-22 12:59:52\u001b[0m [\u001b[32m\u001b[1minfo     \u001b[0m] \u001b[1mModel parameters are saved to d3rlpy_logs/exp_5_dynamics_reacher_symmetry_20231022112713/model_192440.pt\u001b[0m\n"
     ]
    },
    {
     "data": {
      "application/vnd.jupyter.widget-view+json": {
       "model_id": "0dc3c2cdbe72464f8ccdcedc463f14d6",
       "version_major": 2,
       "version_minor": 0
      },
      "text/plain": [
       "Epoch 41/100:   0%|          | 0/4811 [00:00<?, ?it/s]"
      ]
     },
     "metadata": {},
     "output_type": "display_data"
    },
    {
     "name": "stdout",
     "output_type": "stream",
     "text": [
      "\u001b[2m2023-10-22 13:02:11\u001b[0m [\u001b[32m\u001b[1minfo     \u001b[0m] \u001b[1mexp_5_dynamics_reacher_symmetry_20231022112713: epoch=41 step=197251\u001b[0m \u001b[36mepoch\u001b[0m=\u001b[35m41\u001b[0m \u001b[36mmetrics\u001b[0m=\u001b[35m{'time_sample_batch': 0.0002511704297601941, 'time_algorithm_update': 0.017391403854772915, 'loss': -135.5987207765169, 'time_step': 0.017716011815694533, 'observation_error': 0.10194268345682589, 'reward_error': 5.826977376801829e-05, 'variance': 0.05804784598249238}\u001b[0m \u001b[36mstep\u001b[0m=\u001b[35m197251\u001b[0m\n",
      "\u001b[2m2023-10-22 13:02:11\u001b[0m [\u001b[32m\u001b[1minfo     \u001b[0m] \u001b[1mModel parameters are saved to d3rlpy_logs/exp_5_dynamics_reacher_symmetry_20231022112713/model_197251.pt\u001b[0m\n"
     ]
    },
    {
     "data": {
      "application/vnd.jupyter.widget-view+json": {
       "model_id": "184ad528f2764cef9658337ea78697c6",
       "version_major": 2,
       "version_minor": 0
      },
      "text/plain": [
       "Epoch 42/100:   0%|          | 0/4811 [00:00<?, ?it/s]"
      ]
     },
     "metadata": {},
     "output_type": "display_data"
    },
    {
     "name": "stdout",
     "output_type": "stream",
     "text": [
      "\u001b[2m2023-10-22 13:04:29\u001b[0m [\u001b[32m\u001b[1minfo     \u001b[0m] \u001b[1mexp_5_dynamics_reacher_symmetry_20231022112713: epoch=42 step=202062\u001b[0m \u001b[36mepoch\u001b[0m=\u001b[35m42\u001b[0m \u001b[36mmetrics\u001b[0m=\u001b[35m{'time_sample_batch': 0.00025120477273989013, 'time_algorithm_update': 0.017296634922650024, 'loss': -135.68291019605417, 'time_step': 0.01762060429246578, 'observation_error': 0.11013912061726443, 'reward_error': 6.574511766813831e-05, 'variance': 0.06362449828654354}\u001b[0m \u001b[36mstep\u001b[0m=\u001b[35m202062\u001b[0m\n",
      "\u001b[2m2023-10-22 13:04:29\u001b[0m [\u001b[32m\u001b[1minfo     \u001b[0m] \u001b[1mModel parameters are saved to d3rlpy_logs/exp_5_dynamics_reacher_symmetry_20231022112713/model_202062.pt\u001b[0m\n"
     ]
    },
    {
     "data": {
      "application/vnd.jupyter.widget-view+json": {
       "model_id": "650f762a984f4f6aa6367a6c3f075d68",
       "version_major": 2,
       "version_minor": 0
      },
      "text/plain": [
       "Epoch 43/100:   0%|          | 0/4811 [00:00<?, ?it/s]"
      ]
     },
     "metadata": {},
     "output_type": "display_data"
    },
    {
     "name": "stdout",
     "output_type": "stream",
     "text": [
      "\u001b[2m2023-10-22 13:06:48\u001b[0m [\u001b[32m\u001b[1minfo     \u001b[0m] \u001b[1mexp_5_dynamics_reacher_symmetry_20231022112713: epoch=43 step=206873\u001b[0m \u001b[36mepoch\u001b[0m=\u001b[35m43\u001b[0m \u001b[36mmetrics\u001b[0m=\u001b[35m{'time_sample_batch': 0.0002536245899918024, 'time_algorithm_update': 0.017347761757580463, 'loss': -136.46635410013081, 'time_step': 0.017674145047368788, 'observation_error': 0.10978433780788868, 'reward_error': 5.4767020824585396e-05, 'variance': 0.05974254128185081}\u001b[0m \u001b[36mstep\u001b[0m=\u001b[35m206873\u001b[0m\n",
      "\u001b[2m2023-10-22 13:06:48\u001b[0m [\u001b[32m\u001b[1minfo     \u001b[0m] \u001b[1mModel parameters are saved to d3rlpy_logs/exp_5_dynamics_reacher_symmetry_20231022112713/model_206873.pt\u001b[0m\n"
     ]
    },
    {
     "data": {
      "application/vnd.jupyter.widget-view+json": {
       "model_id": "85dd58bd3b614385a988f603c0db0aa6",
       "version_major": 2,
       "version_minor": 0
      },
      "text/plain": [
       "Epoch 44/100:   0%|          | 0/4811 [00:00<?, ?it/s]"
      ]
     },
     "metadata": {},
     "output_type": "display_data"
    },
    {
     "name": "stdout",
     "output_type": "stream",
     "text": [
      "\u001b[2m2023-10-22 13:09:07\u001b[0m [\u001b[32m\u001b[1minfo     \u001b[0m] \u001b[1mexp_5_dynamics_reacher_symmetry_20231022112713: epoch=44 step=211684\u001b[0m \u001b[36mepoch\u001b[0m=\u001b[35m44\u001b[0m \u001b[36mmetrics\u001b[0m=\u001b[35m{'time_sample_batch': 0.0002500101028819809, 'time_algorithm_update': 0.017322963450163622, 'loss': -136.456488450137, 'time_step': 0.017646032716746737, 'observation_error': 0.10431487617063126, 'reward_error': 5.7025968710358704e-05, 'variance': 0.05650287516752082}\u001b[0m \u001b[36mstep\u001b[0m=\u001b[35m211684\u001b[0m\n",
      "\u001b[2m2023-10-22 13:09:07\u001b[0m [\u001b[32m\u001b[1minfo     \u001b[0m] \u001b[1mModel parameters are saved to d3rlpy_logs/exp_5_dynamics_reacher_symmetry_20231022112713/model_211684.pt\u001b[0m\n"
     ]
    },
    {
     "data": {
      "application/vnd.jupyter.widget-view+json": {
       "model_id": "459416ba026944358ad03262a67fb2bf",
       "version_major": 2,
       "version_minor": 0
      },
      "text/plain": [
       "Epoch 45/100:   0%|          | 0/4811 [00:00<?, ?it/s]"
      ]
     },
     "metadata": {},
     "output_type": "display_data"
    },
    {
     "name": "stdout",
     "output_type": "stream",
     "text": [
      "\u001b[2m2023-10-22 13:11:25\u001b[0m [\u001b[32m\u001b[1minfo     \u001b[0m] \u001b[1mexp_5_dynamics_reacher_symmetry_20231022112713: epoch=45 step=216495\u001b[0m \u001b[36mepoch\u001b[0m=\u001b[35m45\u001b[0m \u001b[36mmetrics\u001b[0m=\u001b[35m{'time_sample_batch': 0.00025186140258256226, 'time_algorithm_update': 0.017366648315020546, 'loss': -136.49596806202874, 'time_step': 0.017692216293550632, 'observation_error': 0.09881471389109, 'reward_error': 5.469445339696012e-05, 'variance': 0.05539480026556389}\u001b[0m \u001b[36mstep\u001b[0m=\u001b[35m216495\u001b[0m\n",
      "\u001b[2m2023-10-22 13:11:25\u001b[0m [\u001b[32m\u001b[1minfo     \u001b[0m] \u001b[1mModel parameters are saved to d3rlpy_logs/exp_5_dynamics_reacher_symmetry_20231022112713/model_216495.pt\u001b[0m\n"
     ]
    },
    {
     "data": {
      "application/vnd.jupyter.widget-view+json": {
       "model_id": "b1ecc14fd39e42e3bc72babea8f1f571",
       "version_major": 2,
       "version_minor": 0
      },
      "text/plain": [
       "Epoch 46/100:   0%|          | 0/4811 [00:00<?, ?it/s]"
      ]
     },
     "metadata": {},
     "output_type": "display_data"
    },
    {
     "name": "stdout",
     "output_type": "stream",
     "text": [
      "\u001b[2m2023-10-22 13:13:43\u001b[0m [\u001b[32m\u001b[1minfo     \u001b[0m] \u001b[1mexp_5_dynamics_reacher_symmetry_20231022112713: epoch=46 step=221306\u001b[0m \u001b[36mepoch\u001b[0m=\u001b[35m46\u001b[0m \u001b[36mmetrics\u001b[0m=\u001b[35m{'time_sample_batch': 0.0002488280204942632, 'time_algorithm_update': 0.01737601061765282, 'loss': -136.77429762463439, 'time_step': 0.017697957270211326, 'observation_error': 0.09848606347156942, 'reward_error': 5.0786401386211714e-05, 'variance': 0.055949557307262865}\u001b[0m \u001b[36mstep\u001b[0m=\u001b[35m221306\u001b[0m\n",
      "\u001b[2m2023-10-22 13:13:43\u001b[0m [\u001b[32m\u001b[1minfo     \u001b[0m] \u001b[1mModel parameters are saved to d3rlpy_logs/exp_5_dynamics_reacher_symmetry_20231022112713/model_221306.pt\u001b[0m\n"
     ]
    },
    {
     "data": {
      "application/vnd.jupyter.widget-view+json": {
       "model_id": "511d739ca1d240a7a32031a9ae4de459",
       "version_major": 2,
       "version_minor": 0
      },
      "text/plain": [
       "Epoch 47/100:   0%|          | 0/4811 [00:00<?, ?it/s]"
      ]
     },
     "metadata": {},
     "output_type": "display_data"
    },
    {
     "name": "stdout",
     "output_type": "stream",
     "text": [
      "\u001b[2m2023-10-22 13:16:02\u001b[0m [\u001b[32m\u001b[1minfo     \u001b[0m] \u001b[1mexp_5_dynamics_reacher_symmetry_20231022112713: epoch=47 step=226117\u001b[0m \u001b[36mepoch\u001b[0m=\u001b[35m47\u001b[0m \u001b[36mmetrics\u001b[0m=\u001b[35m{'time_sample_batch': 0.00025499261012817715, 'time_algorithm_update': 0.017294995478993023, 'loss': -136.45753794780916, 'time_step': 0.017623393953379266, 'observation_error': 0.10039808617763271, 'reward_error': 4.8265316974582445e-05, 'variance': 0.05897980415474629}\u001b[0m \u001b[36mstep\u001b[0m=\u001b[35m226117\u001b[0m\n",
      "\u001b[2m2023-10-22 13:16:02\u001b[0m [\u001b[32m\u001b[1minfo     \u001b[0m] \u001b[1mModel parameters are saved to d3rlpy_logs/exp_5_dynamics_reacher_symmetry_20231022112713/model_226117.pt\u001b[0m\n"
     ]
    },
    {
     "data": {
      "application/vnd.jupyter.widget-view+json": {
       "model_id": "08e2e3576f844cf4a0829f2cee2a5669",
       "version_major": 2,
       "version_minor": 0
      },
      "text/plain": [
       "Epoch 48/100:   0%|          | 0/4811 [00:00<?, ?it/s]"
      ]
     },
     "metadata": {},
     "output_type": "display_data"
    },
    {
     "name": "stdout",
     "output_type": "stream",
     "text": [
      "\u001b[2m2023-10-22 13:18:21\u001b[0m [\u001b[32m\u001b[1minfo     \u001b[0m] \u001b[1mexp_5_dynamics_reacher_symmetry_20231022112713: epoch=48 step=230928\u001b[0m \u001b[36mepoch\u001b[0m=\u001b[35m48\u001b[0m \u001b[36mmetrics\u001b[0m=\u001b[35m{'time_sample_batch': 0.0002524647091263125, 'time_algorithm_update': 0.017356959233732983, 'loss': -137.508378224917, 'time_step': 0.01768154841256325, 'observation_error': 0.09614064833362758, 'reward_error': 4.35590809881869e-05, 'variance': 0.05341835990512349}\u001b[0m \u001b[36mstep\u001b[0m=\u001b[35m230928\u001b[0m\n",
      "\u001b[2m2023-10-22 13:18:21\u001b[0m [\u001b[32m\u001b[1minfo     \u001b[0m] \u001b[1mModel parameters are saved to d3rlpy_logs/exp_5_dynamics_reacher_symmetry_20231022112713/model_230928.pt\u001b[0m\n"
     ]
    },
    {
     "data": {
      "application/vnd.jupyter.widget-view+json": {
       "model_id": "b1e731015aad42a8ad8fc18b946ba167",
       "version_major": 2,
       "version_minor": 0
      },
      "text/plain": [
       "Epoch 49/100:   0%|          | 0/4811 [00:00<?, ?it/s]"
      ]
     },
     "metadata": {},
     "output_type": "display_data"
    },
    {
     "name": "stdout",
     "output_type": "stream",
     "text": [
      "\u001b[2m2023-10-22 13:20:40\u001b[0m [\u001b[32m\u001b[1minfo     \u001b[0m] \u001b[1mexp_5_dynamics_reacher_symmetry_20231022112713: epoch=49 step=235739\u001b[0m \u001b[36mepoch\u001b[0m=\u001b[35m49\u001b[0m \u001b[36mmetrics\u001b[0m=\u001b[35m{'time_sample_batch': 0.0002532586117738301, 'time_algorithm_update': 0.01744182291706841, 'loss': -137.87605210397228, 'time_step': 0.01776893870841934, 'observation_error': 0.10649531313916842, 'reward_error': 4.67342994506662e-05, 'variance': 0.05709649059564075}\u001b[0m \u001b[36mstep\u001b[0m=\u001b[35m235739\u001b[0m\n",
      "\u001b[2m2023-10-22 13:20:40\u001b[0m [\u001b[32m\u001b[1minfo     \u001b[0m] \u001b[1mModel parameters are saved to d3rlpy_logs/exp_5_dynamics_reacher_symmetry_20231022112713/model_235739.pt\u001b[0m\n"
     ]
    },
    {
     "data": {
      "application/vnd.jupyter.widget-view+json": {
       "model_id": "76d3973565194608af58c8313cf2e410",
       "version_major": 2,
       "version_minor": 0
      },
      "text/plain": [
       "Epoch 50/100:   0%|          | 0/4811 [00:00<?, ?it/s]"
      ]
     },
     "metadata": {},
     "output_type": "display_data"
    },
    {
     "name": "stdout",
     "output_type": "stream",
     "text": [
      "\u001b[2m2023-10-22 13:22:57\u001b[0m [\u001b[32m\u001b[1minfo     \u001b[0m] \u001b[1mexp_5_dynamics_reacher_symmetry_20231022112713: epoch=50 step=240550\u001b[0m \u001b[36mepoch\u001b[0m=\u001b[35m50\u001b[0m \u001b[36mmetrics\u001b[0m=\u001b[35m{'time_sample_batch': 0.00025555047293111756, 'time_algorithm_update': 0.017281878393470958, 'loss': -137.69321229427626, 'time_step': 0.01761088939199723, 'observation_error': 0.10856098575793603, 'reward_error': 4.1478450129858895e-05, 'variance': 0.06363422615862308}\u001b[0m \u001b[36mstep\u001b[0m=\u001b[35m240550\u001b[0m\n",
      "\u001b[2m2023-10-22 13:22:57\u001b[0m [\u001b[32m\u001b[1minfo     \u001b[0m] \u001b[1mModel parameters are saved to d3rlpy_logs/exp_5_dynamics_reacher_symmetry_20231022112713/model_240550.pt\u001b[0m\n"
     ]
    },
    {
     "data": {
      "application/vnd.jupyter.widget-view+json": {
       "model_id": "7754e8e73e1943aba8673a66ee28abe5",
       "version_major": 2,
       "version_minor": 0
      },
      "text/plain": [
       "Epoch 51/100:   0%|          | 0/4811 [00:00<?, ?it/s]"
      ]
     },
     "metadata": {},
     "output_type": "display_data"
    },
    {
     "name": "stdout",
     "output_type": "stream",
     "text": [
      "\u001b[2m2023-10-22 13:25:15\u001b[0m [\u001b[32m\u001b[1minfo     \u001b[0m] \u001b[1mexp_5_dynamics_reacher_symmetry_20231022112713: epoch=51 step=245361\u001b[0m \u001b[36mepoch\u001b[0m=\u001b[35m51\u001b[0m \u001b[36mmetrics\u001b[0m=\u001b[35m{'time_sample_batch': 0.0002500631288390872, 'time_algorithm_update': 0.01729035075204929, 'loss': -138.47636673252737, 'time_step': 0.01761382326369126, 'observation_error': 0.10509367505136025, 'reward_error': 3.9842153986719645e-05, 'variance': 0.05619870414129759}\u001b[0m \u001b[36mstep\u001b[0m=\u001b[35m245361\u001b[0m\n",
      "\u001b[2m2023-10-22 13:25:15\u001b[0m [\u001b[32m\u001b[1minfo     \u001b[0m] \u001b[1mModel parameters are saved to d3rlpy_logs/exp_5_dynamics_reacher_symmetry_20231022112713/model_245361.pt\u001b[0m\n"
     ]
    },
    {
     "data": {
      "application/vnd.jupyter.widget-view+json": {
       "model_id": "55501d3a9ea447549fc461bc0e5f3f35",
       "version_major": 2,
       "version_minor": 0
      },
      "text/plain": [
       "Epoch 52/100:   0%|          | 0/4811 [00:00<?, ?it/s]"
      ]
     },
     "metadata": {},
     "output_type": "display_data"
    },
    {
     "name": "stdout",
     "output_type": "stream",
     "text": [
      "\u001b[2m2023-10-22 13:27:45\u001b[0m [\u001b[32m\u001b[1minfo     \u001b[0m] \u001b[1mexp_5_dynamics_reacher_symmetry_20231022112713: epoch=52 step=250172\u001b[0m \u001b[36mepoch\u001b[0m=\u001b[35m52\u001b[0m \u001b[36mmetrics\u001b[0m=\u001b[35m{'time_sample_batch': 0.00027793847803414377, 'time_algorithm_update': 0.019081562478734115, 'loss': -138.24910822550984, 'time_step': 0.019441313219278573, 'observation_error': 0.10534287052171062, 'reward_error': 3.9323631376534926e-05, 'variance': 0.06506494885911439}\u001b[0m \u001b[36mstep\u001b[0m=\u001b[35m250172\u001b[0m\n",
      "\u001b[2m2023-10-22 13:27:45\u001b[0m [\u001b[32m\u001b[1minfo     \u001b[0m] \u001b[1mModel parameters are saved to d3rlpy_logs/exp_5_dynamics_reacher_symmetry_20231022112713/model_250172.pt\u001b[0m\n"
     ]
    },
    {
     "data": {
      "application/vnd.jupyter.widget-view+json": {
       "model_id": "535531efc2e74fdaa370bb38a252d262",
       "version_major": 2,
       "version_minor": 0
      },
      "text/plain": [
       "Epoch 53/100:   0%|          | 0/4811 [00:00<?, ?it/s]"
      ]
     },
     "metadata": {},
     "output_type": "display_data"
    },
    {
     "name": "stdout",
     "output_type": "stream",
     "text": [
      "\u001b[2m2023-10-22 13:30:05\u001b[0m [\u001b[32m\u001b[1minfo     \u001b[0m] \u001b[1mexp_5_dynamics_reacher_symmetry_20231022112713: epoch=53 step=254983\u001b[0m \u001b[36mepoch\u001b[0m=\u001b[35m53\u001b[0m \u001b[36mmetrics\u001b[0m=\u001b[35m{'time_sample_batch': 0.0002500566864330836, 'time_algorithm_update': 0.01760100659251684, 'loss': -138.42154079176387, 'time_step': 0.01792450180125073, 'observation_error': 0.10476588900063966, 'reward_error': 3.7949147308942685e-05, 'variance': 0.054642638671928784}\u001b[0m \u001b[36mstep\u001b[0m=\u001b[35m254983\u001b[0m\n",
      "\u001b[2m2023-10-22 13:30:05\u001b[0m [\u001b[32m\u001b[1minfo     \u001b[0m] \u001b[1mModel parameters are saved to d3rlpy_logs/exp_5_dynamics_reacher_symmetry_20231022112713/model_254983.pt\u001b[0m\n"
     ]
    },
    {
     "data": {
      "application/vnd.jupyter.widget-view+json": {
       "model_id": "810beb4f3b654d90a72aecada0aa5f44",
       "version_major": 2,
       "version_minor": 0
      },
      "text/plain": [
       "Epoch 54/100:   0%|          | 0/4811 [00:00<?, ?it/s]"
      ]
     },
     "metadata": {},
     "output_type": "display_data"
    },
    {
     "name": "stdout",
     "output_type": "stream",
     "text": [
      "\u001b[2m2023-10-22 13:32:25\u001b[0m [\u001b[32m\u001b[1minfo     \u001b[0m] \u001b[1mexp_5_dynamics_reacher_symmetry_20231022112713: epoch=54 step=259794\u001b[0m \u001b[36mepoch\u001b[0m=\u001b[35m54\u001b[0m \u001b[36mmetrics\u001b[0m=\u001b[35m{'time_sample_batch': 0.0002479611204310282, 'time_algorithm_update': 0.017617951507901384, 'loss': -138.65925872412623, 'time_step': 0.0179397403215128, 'observation_error': 0.09585872983500021, 'reward_error': 3.766781540137634e-05, 'variance': 0.053005588149379806}\u001b[0m \u001b[36mstep\u001b[0m=\u001b[35m259794\u001b[0m\n",
      "\u001b[2m2023-10-22 13:32:25\u001b[0m [\u001b[32m\u001b[1minfo     \u001b[0m] \u001b[1mModel parameters are saved to d3rlpy_logs/exp_5_dynamics_reacher_symmetry_20231022112713/model_259794.pt\u001b[0m\n"
     ]
    },
    {
     "data": {
      "application/vnd.jupyter.widget-view+json": {
       "model_id": "4c368d44cad248c18eaebb9551beec86",
       "version_major": 2,
       "version_minor": 0
      },
      "text/plain": [
       "Epoch 55/100:   0%|          | 0/4811 [00:00<?, ?it/s]"
      ]
     },
     "metadata": {},
     "output_type": "display_data"
    },
    {
     "name": "stdout",
     "output_type": "stream",
     "text": [
      "\u001b[2m2023-10-22 13:34:45\u001b[0m [\u001b[32m\u001b[1minfo     \u001b[0m] \u001b[1mexp_5_dynamics_reacher_symmetry_20231022112713: epoch=55 step=264605\u001b[0m \u001b[36mepoch\u001b[0m=\u001b[35m55\u001b[0m \u001b[36mmetrics\u001b[0m=\u001b[35m{'time_sample_batch': 0.0002493212114523216, 'time_algorithm_update': 0.0175791613848981, 'loss': -138.53128772117918, 'time_step': 0.017901496762323468, 'observation_error': 0.11511428864743375, 'reward_error': 3.5502035409998386e-05, 'variance': 0.06264380548190412}\u001b[0m \u001b[36mstep\u001b[0m=\u001b[35m264605\u001b[0m\n",
      "\u001b[2m2023-10-22 13:34:45\u001b[0m [\u001b[32m\u001b[1minfo     \u001b[0m] \u001b[1mModel parameters are saved to d3rlpy_logs/exp_5_dynamics_reacher_symmetry_20231022112713/model_264605.pt\u001b[0m\n"
     ]
    },
    {
     "data": {
      "application/vnd.jupyter.widget-view+json": {
       "model_id": "cf821b368211454ab0b9e140d8fb2ec5",
       "version_major": 2,
       "version_minor": 0
      },
      "text/plain": [
       "Epoch 56/100:   0%|          | 0/4811 [00:00<?, ?it/s]"
      ]
     },
     "metadata": {},
     "output_type": "display_data"
    },
    {
     "name": "stdout",
     "output_type": "stream",
     "text": [
      "\u001b[2m2023-10-22 13:37:06\u001b[0m [\u001b[32m\u001b[1minfo     \u001b[0m] \u001b[1mexp_5_dynamics_reacher_symmetry_20231022112713: epoch=56 step=269416\u001b[0m \u001b[36mepoch\u001b[0m=\u001b[35m56\u001b[0m \u001b[36mmetrics\u001b[0m=\u001b[35m{'time_sample_batch': 0.0002530236126256073, 'time_algorithm_update': 0.017673877935304484, 'loss': -138.99545662578043, 'time_step': 0.018001099481227814, 'observation_error': 0.10336030558106986, 'reward_error': 3.0154624275425072e-05, 'variance': 0.05837284267625782}\u001b[0m \u001b[36mstep\u001b[0m=\u001b[35m269416\u001b[0m\n",
      "\u001b[2m2023-10-22 13:37:06\u001b[0m [\u001b[32m\u001b[1minfo     \u001b[0m] \u001b[1mModel parameters are saved to d3rlpy_logs/exp_5_dynamics_reacher_symmetry_20231022112713/model_269416.pt\u001b[0m\n"
     ]
    },
    {
     "data": {
      "application/vnd.jupyter.widget-view+json": {
       "model_id": "2a188fa0bf374a6f8feb1417945b6ed3",
       "version_major": 2,
       "version_minor": 0
      },
      "text/plain": [
       "Epoch 57/100:   0%|          | 0/4811 [00:00<?, ?it/s]"
      ]
     },
     "metadata": {},
     "output_type": "display_data"
    },
    {
     "name": "stdout",
     "output_type": "stream",
     "text": [
      "\u001b[2m2023-10-22 13:39:25\u001b[0m [\u001b[32m\u001b[1minfo     \u001b[0m] \u001b[1mexp_5_dynamics_reacher_symmetry_20231022112713: epoch=57 step=274227\u001b[0m \u001b[36mepoch\u001b[0m=\u001b[35m57\u001b[0m \u001b[36mmetrics\u001b[0m=\u001b[35m{'time_sample_batch': 0.000252858340133131, 'time_algorithm_update': 0.01749452496982369, 'loss': -139.43285419350724, 'time_step': 0.01782091336397985, 'observation_error': 0.10193688156273993, 'reward_error': 2.9286464629283822e-05, 'variance': 0.05431588873158426}\u001b[0m \u001b[36mstep\u001b[0m=\u001b[35m274227\u001b[0m\n",
      "\u001b[2m2023-10-22 13:39:25\u001b[0m [\u001b[32m\u001b[1minfo     \u001b[0m] \u001b[1mModel parameters are saved to d3rlpy_logs/exp_5_dynamics_reacher_symmetry_20231022112713/model_274227.pt\u001b[0m\n"
     ]
    },
    {
     "data": {
      "application/vnd.jupyter.widget-view+json": {
       "model_id": "e9a6370dc8ee4f7daecf1a5b7be1ba4b",
       "version_major": 2,
       "version_minor": 0
      },
      "text/plain": [
       "Epoch 58/100:   0%|          | 0/4811 [00:00<?, ?it/s]"
      ]
     },
     "metadata": {},
     "output_type": "display_data"
    },
    {
     "name": "stdout",
     "output_type": "stream",
     "text": [
      "\u001b[2m2023-10-22 13:41:46\u001b[0m [\u001b[32m\u001b[1minfo     \u001b[0m] \u001b[1mexp_5_dynamics_reacher_symmetry_20231022112713: epoch=58 step=279038\u001b[0m \u001b[36mepoch\u001b[0m=\u001b[35m58\u001b[0m \u001b[36mmetrics\u001b[0m=\u001b[35m{'time_sample_batch': 0.00025289164241647255, 'time_algorithm_update': 0.017597905267823687, 'loss': -139.70893323884835, 'time_step': 0.01792513801362207, 'observation_error': 0.09794214188205419, 'reward_error': 2.8845115583284025e-05, 'variance': 0.05386485633329512}\u001b[0m \u001b[36mstep\u001b[0m=\u001b[35m279038\u001b[0m\n",
      "\u001b[2m2023-10-22 13:41:46\u001b[0m [\u001b[32m\u001b[1minfo     \u001b[0m] \u001b[1mModel parameters are saved to d3rlpy_logs/exp_5_dynamics_reacher_symmetry_20231022112713/model_279038.pt\u001b[0m\n"
     ]
    },
    {
     "data": {
      "application/vnd.jupyter.widget-view+json": {
       "model_id": "67f3cbd47e7b4d21b60b9f79aca321fe",
       "version_major": 2,
       "version_minor": 0
      },
      "text/plain": [
       "Epoch 59/100:   0%|          | 0/4811 [00:00<?, ?it/s]"
      ]
     },
     "metadata": {},
     "output_type": "display_data"
    },
    {
     "name": "stdout",
     "output_type": "stream",
     "text": [
      "\u001b[2m2023-10-22 13:44:07\u001b[0m [\u001b[32m\u001b[1minfo     \u001b[0m] \u001b[1mexp_5_dynamics_reacher_symmetry_20231022112713: epoch=59 step=283849\u001b[0m \u001b[36mepoch\u001b[0m=\u001b[35m59\u001b[0m \u001b[36mmetrics\u001b[0m=\u001b[35m{'time_sample_batch': 0.0002509329032065392, 'time_algorithm_update': 0.017541540409913556, 'loss': -139.89627890665153, 'time_step': 0.017866999214440366, 'observation_error': 0.09607702247470234, 'reward_error': 2.939122386889524e-05, 'variance': 0.05041105111019756}\u001b[0m \u001b[36mstep\u001b[0m=\u001b[35m283849\u001b[0m\n",
      "\u001b[2m2023-10-22 13:44:07\u001b[0m [\u001b[32m\u001b[1minfo     \u001b[0m] \u001b[1mModel parameters are saved to d3rlpy_logs/exp_5_dynamics_reacher_symmetry_20231022112713/model_283849.pt\u001b[0m\n"
     ]
    },
    {
     "data": {
      "application/vnd.jupyter.widget-view+json": {
       "model_id": "7db3aa254a6e46e5bb820f4b0ce11684",
       "version_major": 2,
       "version_minor": 0
      },
      "text/plain": [
       "Epoch 60/100:   0%|          | 0/4811 [00:00<?, ?it/s]"
      ]
     },
     "metadata": {},
     "output_type": "display_data"
    },
    {
     "name": "stdout",
     "output_type": "stream",
     "text": [
      "\u001b[2m2023-10-22 13:46:26\u001b[0m [\u001b[32m\u001b[1minfo     \u001b[0m] \u001b[1mexp_5_dynamics_reacher_symmetry_20231022112713: epoch=60 step=288660\u001b[0m \u001b[36mepoch\u001b[0m=\u001b[35m60\u001b[0m \u001b[36mmetrics\u001b[0m=\u001b[35m{'time_sample_batch': 0.0002560182411639464, 'time_algorithm_update': 0.017588683310528354, 'loss': -139.70288968566945, 'time_step': 0.017919395352024418, 'observation_error': 0.10466245621821503, 'reward_error': 2.9325555327239324e-05, 'variance': 0.05833024002918336}\u001b[0m \u001b[36mstep\u001b[0m=\u001b[35m288660\u001b[0m\n",
      "\u001b[2m2023-10-22 13:46:26\u001b[0m [\u001b[32m\u001b[1minfo     \u001b[0m] \u001b[1mModel parameters are saved to d3rlpy_logs/exp_5_dynamics_reacher_symmetry_20231022112713/model_288660.pt\u001b[0m\n"
     ]
    },
    {
     "data": {
      "application/vnd.jupyter.widget-view+json": {
       "model_id": "ba5a9884f4094ccf810801b2a6572d56",
       "version_major": 2,
       "version_minor": 0
      },
      "text/plain": [
       "Epoch 61/100:   0%|          | 0/4811 [00:00<?, ?it/s]"
      ]
     },
     "metadata": {},
     "output_type": "display_data"
    },
    {
     "name": "stdout",
     "output_type": "stream",
     "text": [
      "\u001b[2m2023-10-22 13:48:46\u001b[0m [\u001b[32m\u001b[1minfo     \u001b[0m] \u001b[1mexp_5_dynamics_reacher_symmetry_20231022112713: epoch=61 step=293471\u001b[0m \u001b[36mepoch\u001b[0m=\u001b[35m61\u001b[0m \u001b[36mmetrics\u001b[0m=\u001b[35m{'time_sample_batch': 0.0002501137760616692, 'time_algorithm_update': 0.017568565064174323, 'loss': -140.43035026975295, 'time_step': 0.017892057745502784, 'observation_error': 0.10289858090912604, 'reward_error': 2.8538800194156264e-05, 'variance': 0.06023791356821489}\u001b[0m \u001b[36mstep\u001b[0m=\u001b[35m293471\u001b[0m\n",
      "\u001b[2m2023-10-22 13:48:46\u001b[0m [\u001b[32m\u001b[1minfo     \u001b[0m] \u001b[1mModel parameters are saved to d3rlpy_logs/exp_5_dynamics_reacher_symmetry_20231022112713/model_293471.pt\u001b[0m\n"
     ]
    },
    {
     "data": {
      "application/vnd.jupyter.widget-view+json": {
       "model_id": "cf9a4e6df24f4bc48f15c552a8f04feb",
       "version_major": 2,
       "version_minor": 0
      },
      "text/plain": [
       "Epoch 62/100:   0%|          | 0/4811 [00:00<?, ?it/s]"
      ]
     },
     "metadata": {},
     "output_type": "display_data"
    },
    {
     "name": "stdout",
     "output_type": "stream",
     "text": [
      "\u001b[2m2023-10-22 13:51:06\u001b[0m [\u001b[32m\u001b[1minfo     \u001b[0m] \u001b[1mexp_5_dynamics_reacher_symmetry_20231022112713: epoch=62 step=298282\u001b[0m \u001b[36mepoch\u001b[0m=\u001b[35m62\u001b[0m \u001b[36mmetrics\u001b[0m=\u001b[35m{'time_sample_batch': 0.00025053149175554716, 'time_algorithm_update': 0.017542048864418146, 'loss': -140.9595970490003, 'time_step': 0.017865658351523147, 'observation_error': 0.10036290079319674, 'reward_error': 2.6694155071282318e-05, 'variance': 0.056576963381893906}\u001b[0m \u001b[36mstep\u001b[0m=\u001b[35m298282\u001b[0m\n",
      "\u001b[2m2023-10-22 13:51:06\u001b[0m [\u001b[32m\u001b[1minfo     \u001b[0m] \u001b[1mModel parameters are saved to d3rlpy_logs/exp_5_dynamics_reacher_symmetry_20231022112713/model_298282.pt\u001b[0m\n"
     ]
    },
    {
     "data": {
      "application/vnd.jupyter.widget-view+json": {
       "model_id": "360c444b2cad44d2931447e7f20e0286",
       "version_major": 2,
       "version_minor": 0
      },
      "text/plain": [
       "Epoch 63/100:   0%|          | 0/4811 [00:00<?, ?it/s]"
      ]
     },
     "metadata": {},
     "output_type": "display_data"
    },
    {
     "name": "stdout",
     "output_type": "stream",
     "text": [
      "\u001b[2m2023-10-22 13:53:27\u001b[0m [\u001b[32m\u001b[1minfo     \u001b[0m] \u001b[1mexp_5_dynamics_reacher_symmetry_20231022112713: epoch=63 step=303093\u001b[0m \u001b[36mepoch\u001b[0m=\u001b[35m63\u001b[0m \u001b[36mmetrics\u001b[0m=\u001b[35m{'time_sample_batch': 0.0002516962787609937, 'time_algorithm_update': 0.01756314819009258, 'loss': -140.72408643875963, 'time_step': 0.017889630395591542, 'observation_error': 0.10154219903064116, 'reward_error': 2.967521934610829e-05, 'variance': 0.05384936757606119}\u001b[0m \u001b[36mstep\u001b[0m=\u001b[35m303093\u001b[0m\n",
      "\u001b[2m2023-10-22 13:53:27\u001b[0m [\u001b[32m\u001b[1minfo     \u001b[0m] \u001b[1mModel parameters are saved to d3rlpy_logs/exp_5_dynamics_reacher_symmetry_20231022112713/model_303093.pt\u001b[0m\n"
     ]
    },
    {
     "data": {
      "application/vnd.jupyter.widget-view+json": {
       "model_id": "98c349a3e8fc46198488d6e4d7225214",
       "version_major": 2,
       "version_minor": 0
      },
      "text/plain": [
       "Epoch 64/100:   0%|          | 0/4811 [00:00<?, ?it/s]"
      ]
     },
     "metadata": {},
     "output_type": "display_data"
    },
    {
     "name": "stdout",
     "output_type": "stream",
     "text": [
      "\u001b[2m2023-10-22 13:55:47\u001b[0m [\u001b[32m\u001b[1minfo     \u001b[0m] \u001b[1mexp_5_dynamics_reacher_symmetry_20231022112713: epoch=64 step=307904\u001b[0m \u001b[36mepoch\u001b[0m=\u001b[35m64\u001b[0m \u001b[36mmetrics\u001b[0m=\u001b[35m{'time_sample_batch': 0.0002490989484451982, 'time_algorithm_update': 0.017585842259037743, 'loss': -140.44300259812363, 'time_step': 0.017909295641689582, 'observation_error': 0.09533379827738576, 'reward_error': 2.4364461260024204e-05, 'variance': 0.05477412401198887}\u001b[0m \u001b[36mstep\u001b[0m=\u001b[35m307904\u001b[0m\n",
      "\u001b[2m2023-10-22 13:55:47\u001b[0m [\u001b[32m\u001b[1minfo     \u001b[0m] \u001b[1mModel parameters are saved to d3rlpy_logs/exp_5_dynamics_reacher_symmetry_20231022112713/model_307904.pt\u001b[0m\n"
     ]
    },
    {
     "data": {
      "application/vnd.jupyter.widget-view+json": {
       "model_id": "7baa5e30981540daa2e44ced8c4f7c37",
       "version_major": 2,
       "version_minor": 0
      },
      "text/plain": [
       "Epoch 65/100:   0%|          | 0/4811 [00:00<?, ?it/s]"
      ]
     },
     "metadata": {},
     "output_type": "display_data"
    },
    {
     "name": "stdout",
     "output_type": "stream",
     "text": [
      "\u001b[2m2023-10-22 13:58:08\u001b[0m [\u001b[32m\u001b[1minfo     \u001b[0m] \u001b[1mexp_5_dynamics_reacher_symmetry_20231022112713: epoch=65 step=312715\u001b[0m \u001b[36mepoch\u001b[0m=\u001b[35m65\u001b[0m \u001b[36mmetrics\u001b[0m=\u001b[35m{'time_sample_batch': 0.0002546998771107685, 'time_algorithm_update': 0.017664271019471954, 'loss': -140.8084701350959, 'time_step': 0.01799289448249863, 'observation_error': 0.0978345976383827, 'reward_error': 2.7959966929725383e-05, 'variance': 0.05235098111611997}\u001b[0m \u001b[36mstep\u001b[0m=\u001b[35m312715\u001b[0m\n",
      "\u001b[2m2023-10-22 13:58:08\u001b[0m [\u001b[32m\u001b[1minfo     \u001b[0m] \u001b[1mModel parameters are saved to d3rlpy_logs/exp_5_dynamics_reacher_symmetry_20231022112713/model_312715.pt\u001b[0m\n"
     ]
    },
    {
     "data": {
      "application/vnd.jupyter.widget-view+json": {
       "model_id": "4b9ab155172644e6a78ab1567171be59",
       "version_major": 2,
       "version_minor": 0
      },
      "text/plain": [
       "Epoch 66/100:   0%|          | 0/4811 [00:00<?, ?it/s]"
      ]
     },
     "metadata": {},
     "output_type": "display_data"
    },
    {
     "name": "stdout",
     "output_type": "stream",
     "text": [
      "\u001b[2m2023-10-22 14:00:28\u001b[0m [\u001b[32m\u001b[1minfo     \u001b[0m] \u001b[1mexp_5_dynamics_reacher_symmetry_20231022112713: epoch=66 step=317526\u001b[0m \u001b[36mepoch\u001b[0m=\u001b[35m66\u001b[0m \u001b[36mmetrics\u001b[0m=\u001b[35m{'time_sample_batch': 0.00025497427404955154, 'time_algorithm_update': 0.017574791996475565, 'loss': -140.8597738935605, 'time_step': 0.017904464976997193, 'observation_error': 0.11110222492940207, 'reward_error': 2.7262784197083624e-05, 'variance': 0.06839204620434623}\u001b[0m \u001b[36mstep\u001b[0m=\u001b[35m317526\u001b[0m\n",
      "\u001b[2m2023-10-22 14:00:28\u001b[0m [\u001b[32m\u001b[1minfo     \u001b[0m] \u001b[1mModel parameters are saved to d3rlpy_logs/exp_5_dynamics_reacher_symmetry_20231022112713/model_317526.pt\u001b[0m\n"
     ]
    },
    {
     "data": {
      "application/vnd.jupyter.widget-view+json": {
       "model_id": "70a29979a4d4496998129654f20527aa",
       "version_major": 2,
       "version_minor": 0
      },
      "text/plain": [
       "Epoch 67/100:   0%|          | 0/4811 [00:00<?, ?it/s]"
      ]
     },
     "metadata": {},
     "output_type": "display_data"
    },
    {
     "name": "stdout",
     "output_type": "stream",
     "text": [
      "\u001b[2m2023-10-22 14:02:49\u001b[0m [\u001b[32m\u001b[1minfo     \u001b[0m] \u001b[1mexp_5_dynamics_reacher_symmetry_20231022112713: epoch=67 step=322337\u001b[0m \u001b[36mepoch\u001b[0m=\u001b[35m67\u001b[0m \u001b[36mmetrics\u001b[0m=\u001b[35m{'time_sample_batch': 0.00025576961384917764, 'time_algorithm_update': 0.017677235915541427, 'loss': -141.28152162650596, 'time_step': 0.018007546793371347, 'observation_error': 0.11623603102732083, 'reward_error': 2.3562756592691054e-05, 'variance': 0.08449396655523465}\u001b[0m \u001b[36mstep\u001b[0m=\u001b[35m322337\u001b[0m\n",
      "\u001b[2m2023-10-22 14:02:49\u001b[0m [\u001b[32m\u001b[1minfo     \u001b[0m] \u001b[1mModel parameters are saved to d3rlpy_logs/exp_5_dynamics_reacher_symmetry_20231022112713/model_322337.pt\u001b[0m\n"
     ]
    },
    {
     "data": {
      "application/vnd.jupyter.widget-view+json": {
       "model_id": "9128fca816864c54abc1a33a070b7a86",
       "version_major": 2,
       "version_minor": 0
      },
      "text/plain": [
       "Epoch 68/100:   0%|          | 0/4811 [00:00<?, ?it/s]"
      ]
     },
     "metadata": {},
     "output_type": "display_data"
    },
    {
     "name": "stdout",
     "output_type": "stream",
     "text": [
      "\u001b[2m2023-10-22 14:05:10\u001b[0m [\u001b[32m\u001b[1minfo     \u001b[0m] \u001b[1mexp_5_dynamics_reacher_symmetry_20231022112713: epoch=68 step=327148\u001b[0m \u001b[36mepoch\u001b[0m=\u001b[35m68\u001b[0m \u001b[36mmetrics\u001b[0m=\u001b[35m{'time_sample_batch': 0.0002575624858830035, 'time_algorithm_update': 0.01754258967962366, 'loss': -141.15089860336124, 'time_step': 0.017874507194396934, 'observation_error': 0.0958636919911664, 'reward_error': 2.161953958783743e-05, 'variance': 0.049910790007805086}\u001b[0m \u001b[36mstep\u001b[0m=\u001b[35m327148\u001b[0m\n",
      "\u001b[2m2023-10-22 14:05:10\u001b[0m [\u001b[32m\u001b[1minfo     \u001b[0m] \u001b[1mModel parameters are saved to d3rlpy_logs/exp_5_dynamics_reacher_symmetry_20231022112713/model_327148.pt\u001b[0m\n"
     ]
    },
    {
     "data": {
      "application/vnd.jupyter.widget-view+json": {
       "model_id": "2decd6f2b50a47399590f199e56eb838",
       "version_major": 2,
       "version_minor": 0
      },
      "text/plain": [
       "Epoch 69/100:   0%|          | 0/4811 [00:00<?, ?it/s]"
      ]
     },
     "metadata": {},
     "output_type": "display_data"
    },
    {
     "name": "stdout",
     "output_type": "stream",
     "text": [
      "\u001b[2m2023-10-22 14:07:31\u001b[0m [\u001b[32m\u001b[1minfo     \u001b[0m] \u001b[1mexp_5_dynamics_reacher_symmetry_20231022112713: epoch=69 step=331959\u001b[0m \u001b[36mepoch\u001b[0m=\u001b[35m69\u001b[0m \u001b[36mmetrics\u001b[0m=\u001b[35m{'time_sample_batch': 0.0002535518403609313, 'time_algorithm_update': 0.01768180244158767, 'loss': -141.89049696183903, 'time_step': 0.018009106846763597, 'observation_error': 0.09793932307864814, 'reward_error': 2.1787898856794534e-05, 'variance': 0.056445710017012665}\u001b[0m \u001b[36mstep\u001b[0m=\u001b[35m331959\u001b[0m\n",
      "\u001b[2m2023-10-22 14:07:31\u001b[0m [\u001b[32m\u001b[1minfo     \u001b[0m] \u001b[1mModel parameters are saved to d3rlpy_logs/exp_5_dynamics_reacher_symmetry_20231022112713/model_331959.pt\u001b[0m\n"
     ]
    },
    {
     "data": {
      "application/vnd.jupyter.widget-view+json": {
       "model_id": "d97727b61c04431abcf0feb757a793aa",
       "version_major": 2,
       "version_minor": 0
      },
      "text/plain": [
       "Epoch 70/100:   0%|          | 0/4811 [00:00<?, ?it/s]"
      ]
     },
     "metadata": {},
     "output_type": "display_data"
    },
    {
     "name": "stdout",
     "output_type": "stream",
     "text": [
      "\u001b[2m2023-10-22 14:09:51\u001b[0m [\u001b[32m\u001b[1minfo     \u001b[0m] \u001b[1mexp_5_dynamics_reacher_symmetry_20231022112713: epoch=70 step=336770\u001b[0m \u001b[36mepoch\u001b[0m=\u001b[35m70\u001b[0m \u001b[36mmetrics\u001b[0m=\u001b[35m{'time_sample_batch': 0.0002522365488398474, 'time_algorithm_update': 0.01754585622725232, 'loss': -141.8945133329751, 'time_step': 0.017871974387255112, 'observation_error': 0.0996252473671354, 'reward_error': 2.087943547985062e-05, 'variance': 0.05531928359478561}\u001b[0m \u001b[36mstep\u001b[0m=\u001b[35m336770\u001b[0m\n",
      "\u001b[2m2023-10-22 14:09:51\u001b[0m [\u001b[32m\u001b[1minfo     \u001b[0m] \u001b[1mModel parameters are saved to d3rlpy_logs/exp_5_dynamics_reacher_symmetry_20231022112713/model_336770.pt\u001b[0m\n"
     ]
    },
    {
     "data": {
      "application/vnd.jupyter.widget-view+json": {
       "model_id": "a63aa82edc61461e81db60b5227de8f5",
       "version_major": 2,
       "version_minor": 0
      },
      "text/plain": [
       "Epoch 71/100:   0%|          | 0/4811 [00:00<?, ?it/s]"
      ]
     },
     "metadata": {},
     "output_type": "display_data"
    },
    {
     "name": "stdout",
     "output_type": "stream",
     "text": [
      "\u001b[2m2023-10-22 14:12:11\u001b[0m [\u001b[32m\u001b[1minfo     \u001b[0m] \u001b[1mexp_5_dynamics_reacher_symmetry_20231022112713: epoch=71 step=341581\u001b[0m \u001b[36mepoch\u001b[0m=\u001b[35m71\u001b[0m \u001b[36mmetrics\u001b[0m=\u001b[35m{'time_sample_batch': 0.0002534777031349209, 'time_algorithm_update': 0.01758337982279227, 'loss': -142.63188379843155, 'time_step': 0.017911571743730644, 'observation_error': 0.09604621204158675, 'reward_error': 1.9428261630619605e-05, 'variance': 0.05142738453453699}\u001b[0m \u001b[36mstep\u001b[0m=\u001b[35m341581\u001b[0m\n",
      "\u001b[2m2023-10-22 14:12:11\u001b[0m [\u001b[32m\u001b[1minfo     \u001b[0m] \u001b[1mModel parameters are saved to d3rlpy_logs/exp_5_dynamics_reacher_symmetry_20231022112713/model_341581.pt\u001b[0m\n"
     ]
    },
    {
     "data": {
      "application/vnd.jupyter.widget-view+json": {
       "model_id": "eb01ce449b0b443e81ec63823548d949",
       "version_major": 2,
       "version_minor": 0
      },
      "text/plain": [
       "Epoch 72/100:   0%|          | 0/4811 [00:00<?, ?it/s]"
      ]
     },
     "metadata": {},
     "output_type": "display_data"
    },
    {
     "name": "stdout",
     "output_type": "stream",
     "text": [
      "\u001b[2m2023-10-22 14:14:31\u001b[0m [\u001b[32m\u001b[1minfo     \u001b[0m] \u001b[1mexp_5_dynamics_reacher_symmetry_20231022112713: epoch=72 step=346392\u001b[0m \u001b[36mepoch\u001b[0m=\u001b[35m72\u001b[0m \u001b[36mmetrics\u001b[0m=\u001b[35m{'time_sample_batch': 0.00025481068649403, 'time_algorithm_update': 0.01752535203122171, 'loss': -141.3533415733913, 'time_step': 0.017855403825216346, 'observation_error': 0.10295228582052857, 'reward_error': 1.8110364854626567e-05, 'variance': 0.06122908820243639}\u001b[0m \u001b[36mstep\u001b[0m=\u001b[35m346392\u001b[0m\n",
      "\u001b[2m2023-10-22 14:14:31\u001b[0m [\u001b[32m\u001b[1minfo     \u001b[0m] \u001b[1mModel parameters are saved to d3rlpy_logs/exp_5_dynamics_reacher_symmetry_20231022112713/model_346392.pt\u001b[0m\n"
     ]
    },
    {
     "data": {
      "application/vnd.jupyter.widget-view+json": {
       "model_id": "21b411a73e3647368cf57277346af075",
       "version_major": 2,
       "version_minor": 0
      },
      "text/plain": [
       "Epoch 73/100:   0%|          | 0/4811 [00:00<?, ?it/s]"
      ]
     },
     "metadata": {},
     "output_type": "display_data"
    },
    {
     "name": "stdout",
     "output_type": "stream",
     "text": [
      "\u001b[2m2023-10-22 14:16:54\u001b[0m [\u001b[32m\u001b[1minfo     \u001b[0m] \u001b[1mexp_5_dynamics_reacher_symmetry_20231022112713: epoch=73 step=351203\u001b[0m \u001b[36mepoch\u001b[0m=\u001b[35m73\u001b[0m \u001b[36mmetrics\u001b[0m=\u001b[35m{'time_sample_batch': 0.0002506852670311556, 'time_algorithm_update': 0.017593787480134078, 'loss': -142.40221047703724, 'time_step': 0.017918968864746983, 'observation_error': 0.10515915021049754, 'reward_error': 1.9204673605923523e-05, 'variance': 0.06533897293221588}\u001b[0m \u001b[36mstep\u001b[0m=\u001b[35m351203\u001b[0m\n",
      "\u001b[2m2023-10-22 14:16:54\u001b[0m [\u001b[32m\u001b[1minfo     \u001b[0m] \u001b[1mModel parameters are saved to d3rlpy_logs/exp_5_dynamics_reacher_symmetry_20231022112713/model_351203.pt\u001b[0m\n"
     ]
    },
    {
     "data": {
      "application/vnd.jupyter.widget-view+json": {
       "model_id": "36b646f418e54420904768db326f6fe0",
       "version_major": 2,
       "version_minor": 0
      },
      "text/plain": [
       "Epoch 74/100:   0%|          | 0/4811 [00:00<?, ?it/s]"
      ]
     },
     "metadata": {},
     "output_type": "display_data"
    },
    {
     "name": "stdout",
     "output_type": "stream",
     "text": [
      "\u001b[2m2023-10-22 14:19:12\u001b[0m [\u001b[32m\u001b[1minfo     \u001b[0m] \u001b[1mexp_5_dynamics_reacher_symmetry_20231022112713: epoch=74 step=356014\u001b[0m \u001b[36mepoch\u001b[0m=\u001b[35m74\u001b[0m \u001b[36mmetrics\u001b[0m=\u001b[35m{'time_sample_batch': 0.00024854400950344405, 'time_algorithm_update': 0.01734187904798769, 'loss': -142.23149304537634, 'time_step': 0.01766385622763926, 'observation_error': 0.09938780990944059, 'reward_error': 1.8508343287584495e-05, 'variance': 0.05660618126093838}\u001b[0m \u001b[36mstep\u001b[0m=\u001b[35m356014\u001b[0m\n",
      "\u001b[2m2023-10-22 14:19:12\u001b[0m [\u001b[32m\u001b[1minfo     \u001b[0m] \u001b[1mModel parameters are saved to d3rlpy_logs/exp_5_dynamics_reacher_symmetry_20231022112713/model_356014.pt\u001b[0m\n"
     ]
    },
    {
     "data": {
      "application/vnd.jupyter.widget-view+json": {
       "model_id": "fdf6f826262f40ae973707068ff6370d",
       "version_major": 2,
       "version_minor": 0
      },
      "text/plain": [
       "Epoch 75/100:   0%|          | 0/4811 [00:00<?, ?it/s]"
      ]
     },
     "metadata": {},
     "output_type": "display_data"
    },
    {
     "name": "stdout",
     "output_type": "stream",
     "text": [
      "\u001b[2m2023-10-22 14:21:32\u001b[0m [\u001b[32m\u001b[1minfo     \u001b[0m] \u001b[1mexp_5_dynamics_reacher_symmetry_20231022112713: epoch=75 step=360825\u001b[0m \u001b[36mepoch\u001b[0m=\u001b[35m75\u001b[0m \u001b[36mmetrics\u001b[0m=\u001b[35m{'time_sample_batch': 0.0002533505399518042, 'time_algorithm_update': 0.017372354800030635, 'loss': -142.5066183185756, 'time_step': 0.01770062016439745, 'observation_error': 0.10333274705680226, 'reward_error': 1.93153821597936e-05, 'variance': 0.05591840922850011}\u001b[0m \u001b[36mstep\u001b[0m=\u001b[35m360825\u001b[0m\n",
      "\u001b[2m2023-10-22 14:21:32\u001b[0m [\u001b[32m\u001b[1minfo     \u001b[0m] \u001b[1mModel parameters are saved to d3rlpy_logs/exp_5_dynamics_reacher_symmetry_20231022112713/model_360825.pt\u001b[0m\n"
     ]
    },
    {
     "data": {
      "application/vnd.jupyter.widget-view+json": {
       "model_id": "8be0207cc7ea4bd1b6281635bf91b8a5",
       "version_major": 2,
       "version_minor": 0
      },
      "text/plain": [
       "Epoch 76/100:   0%|          | 0/4811 [00:00<?, ?it/s]"
      ]
     },
     "metadata": {},
     "output_type": "display_data"
    },
    {
     "name": "stdout",
     "output_type": "stream",
     "text": [
      "\u001b[2m2023-10-22 14:23:50\u001b[0m [\u001b[32m\u001b[1minfo     \u001b[0m] \u001b[1mexp_5_dynamics_reacher_symmetry_20231022112713: epoch=76 step=365636\u001b[0m \u001b[36mepoch\u001b[0m=\u001b[35m76\u001b[0m \u001b[36mmetrics\u001b[0m=\u001b[35m{'time_sample_batch': 0.00025046052617556935, 'time_algorithm_update': 0.01734007765215515, 'loss': -142.56141692867052, 'time_step': 0.017663725050341635, 'observation_error': 0.09496979499150386, 'reward_error': 1.7783449924228515e-05, 'variance': 0.05386031107539296}\u001b[0m \u001b[36mstep\u001b[0m=\u001b[35m365636\u001b[0m\n",
      "\u001b[2m2023-10-22 14:23:50\u001b[0m [\u001b[32m\u001b[1minfo     \u001b[0m] \u001b[1mModel parameters are saved to d3rlpy_logs/exp_5_dynamics_reacher_symmetry_20231022112713/model_365636.pt\u001b[0m\n"
     ]
    },
    {
     "data": {
      "application/vnd.jupyter.widget-view+json": {
       "model_id": "37bb478eb7a741d7959cfbb3cd5ada17",
       "version_major": 2,
       "version_minor": 0
      },
      "text/plain": [
       "Epoch 77/100:   0%|          | 0/4811 [00:00<?, ?it/s]"
      ]
     },
     "metadata": {},
     "output_type": "display_data"
    },
    {
     "name": "stdout",
     "output_type": "stream",
     "text": [
      "\u001b[2m2023-10-22 14:26:08\u001b[0m [\u001b[32m\u001b[1minfo     \u001b[0m] \u001b[1mexp_5_dynamics_reacher_symmetry_20231022112713: epoch=77 step=370447\u001b[0m \u001b[36mepoch\u001b[0m=\u001b[35m77\u001b[0m \u001b[36mmetrics\u001b[0m=\u001b[35m{'time_sample_batch': 0.00025075801666202675, 'time_algorithm_update': 0.017332313165325703, 'loss': -143.08071275551288, 'time_step': 0.01765557674478528, 'observation_error': 0.10329014952512548, 'reward_error': 1.70058342943888e-05, 'variance': 0.058529048989559296}\u001b[0m \u001b[36mstep\u001b[0m=\u001b[35m370447\u001b[0m\n",
      "\u001b[2m2023-10-22 14:26:08\u001b[0m [\u001b[32m\u001b[1minfo     \u001b[0m] \u001b[1mModel parameters are saved to d3rlpy_logs/exp_5_dynamics_reacher_symmetry_20231022112713/model_370447.pt\u001b[0m\n"
     ]
    },
    {
     "data": {
      "application/vnd.jupyter.widget-view+json": {
       "model_id": "9043af9fbc0c4d3a9bf329c760460615",
       "version_major": 2,
       "version_minor": 0
      },
      "text/plain": [
       "Epoch 78/100:   0%|          | 0/4811 [00:00<?, ?it/s]"
      ]
     },
     "metadata": {},
     "output_type": "display_data"
    },
    {
     "name": "stdout",
     "output_type": "stream",
     "text": [
      "\u001b[2m2023-10-22 14:28:26\u001b[0m [\u001b[32m\u001b[1minfo     \u001b[0m] \u001b[1mexp_5_dynamics_reacher_symmetry_20231022112713: epoch=78 step=375258\u001b[0m \u001b[36mepoch\u001b[0m=\u001b[35m78\u001b[0m \u001b[36mmetrics\u001b[0m=\u001b[35m{'time_sample_batch': 0.00024906183027522376, 'time_algorithm_update': 0.017270701909308076, 'loss': -142.11656632955643, 'time_step': 0.01759286403556892, 'observation_error': 0.09525003884081971, 'reward_error': 1.5117029641396894e-05, 'variance': 0.056296871699629214}\u001b[0m \u001b[36mstep\u001b[0m=\u001b[35m375258\u001b[0m\n",
      "\u001b[2m2023-10-22 14:28:26\u001b[0m [\u001b[32m\u001b[1minfo     \u001b[0m] \u001b[1mModel parameters are saved to d3rlpy_logs/exp_5_dynamics_reacher_symmetry_20231022112713/model_375258.pt\u001b[0m\n"
     ]
    },
    {
     "data": {
      "application/vnd.jupyter.widget-view+json": {
       "model_id": "f56cef26c5534aea9b8b04652c0585c8",
       "version_major": 2,
       "version_minor": 0
      },
      "text/plain": [
       "Epoch 79/100:   0%|          | 0/4811 [00:00<?, ?it/s]"
      ]
     },
     "metadata": {},
     "output_type": "display_data"
    },
    {
     "name": "stdout",
     "output_type": "stream",
     "text": [
      "\u001b[2m2023-10-22 14:30:45\u001b[0m [\u001b[32m\u001b[1minfo     \u001b[0m] \u001b[1mexp_5_dynamics_reacher_symmetry_20231022112713: epoch=79 step=380069\u001b[0m \u001b[36mepoch\u001b[0m=\u001b[35m79\u001b[0m \u001b[36mmetrics\u001b[0m=\u001b[35m{'time_sample_batch': 0.00025139626086910407, 'time_algorithm_update': 0.017316713473871675, 'loss': -143.83572692331913, 'time_step': 0.01764161010413922, 'observation_error': 0.10486829978033309, 'reward_error': 1.668824113829448e-05, 'variance': 0.06022594928958324}\u001b[0m \u001b[36mstep\u001b[0m=\u001b[35m380069\u001b[0m\n",
      "\u001b[2m2023-10-22 14:30:45\u001b[0m [\u001b[32m\u001b[1minfo     \u001b[0m] \u001b[1mModel parameters are saved to d3rlpy_logs/exp_5_dynamics_reacher_symmetry_20231022112713/model_380069.pt\u001b[0m\n"
     ]
    },
    {
     "data": {
      "application/vnd.jupyter.widget-view+json": {
       "model_id": "f2ee92db932540938c79f7a09605dd3e",
       "version_major": 2,
       "version_minor": 0
      },
      "text/plain": [
       "Epoch 80/100:   0%|          | 0/4811 [00:00<?, ?it/s]"
      ]
     },
     "metadata": {},
     "output_type": "display_data"
    },
    {
     "name": "stdout",
     "output_type": "stream",
     "text": [
      "\u001b[2m2023-10-22 14:33:04\u001b[0m [\u001b[32m\u001b[1minfo     \u001b[0m] \u001b[1mexp_5_dynamics_reacher_symmetry_20231022112713: epoch=80 step=384880\u001b[0m \u001b[36mepoch\u001b[0m=\u001b[35m80\u001b[0m \u001b[36mmetrics\u001b[0m=\u001b[35m{'time_sample_batch': 0.0002548161377606484, 'time_algorithm_update': 0.01742253133051858, 'loss': -142.08370413588923, 'time_step': 0.01775103615416085, 'observation_error': 0.10759767653779977, 'reward_error': 1.4076724300994797e-05, 'variance': 0.0768287067062894}\u001b[0m \u001b[36mstep\u001b[0m=\u001b[35m384880\u001b[0m\n",
      "\u001b[2m2023-10-22 14:33:04\u001b[0m [\u001b[32m\u001b[1minfo     \u001b[0m] \u001b[1mModel parameters are saved to d3rlpy_logs/exp_5_dynamics_reacher_symmetry_20231022112713/model_384880.pt\u001b[0m\n"
     ]
    },
    {
     "data": {
      "application/vnd.jupyter.widget-view+json": {
       "model_id": "75b05ed0841b48378c721528621bb2e1",
       "version_major": 2,
       "version_minor": 0
      },
      "text/plain": [
       "Epoch 81/100:   0%|          | 0/4811 [00:00<?, ?it/s]"
      ]
     },
     "metadata": {},
     "output_type": "display_data"
    },
    {
     "name": "stdout",
     "output_type": "stream",
     "text": [
      "\u001b[2m2023-10-22 14:35:24\u001b[0m [\u001b[32m\u001b[1minfo     \u001b[0m] \u001b[1mexp_5_dynamics_reacher_symmetry_20231022112713: epoch=81 step=389691\u001b[0m \u001b[36mepoch\u001b[0m=\u001b[35m81\u001b[0m \u001b[36mmetrics\u001b[0m=\u001b[35m{'time_sample_batch': 0.0002528627011464257, 'time_algorithm_update': 0.017453143165999108, 'loss': -144.18404506056157, 'time_step': 0.017780387656799203, 'observation_error': 0.0979841149685308, 'reward_error': 1.4770202618317252e-05, 'variance': 0.054355122484060804}\u001b[0m \u001b[36mstep\u001b[0m=\u001b[35m389691\u001b[0m\n",
      "\u001b[2m2023-10-22 14:35:24\u001b[0m [\u001b[32m\u001b[1minfo     \u001b[0m] \u001b[1mModel parameters are saved to d3rlpy_logs/exp_5_dynamics_reacher_symmetry_20231022112713/model_389691.pt\u001b[0m\n"
     ]
    },
    {
     "data": {
      "application/vnd.jupyter.widget-view+json": {
       "model_id": "55315d3d94f84bc5bff3cac636bb8295",
       "version_major": 2,
       "version_minor": 0
      },
      "text/plain": [
       "Epoch 82/100:   0%|          | 0/4811 [00:00<?, ?it/s]"
      ]
     },
     "metadata": {},
     "output_type": "display_data"
    },
    {
     "name": "stdout",
     "output_type": "stream",
     "text": [
      "\u001b[2m2023-10-22 14:37:43\u001b[0m [\u001b[32m\u001b[1minfo     \u001b[0m] \u001b[1mexp_5_dynamics_reacher_symmetry_20231022112713: epoch=82 step=394502\u001b[0m \u001b[36mepoch\u001b[0m=\u001b[35m82\u001b[0m \u001b[36mmetrics\u001b[0m=\u001b[35m{'time_sample_batch': 0.0002536710744289667, 'time_algorithm_update': 0.01745928897354167, 'loss': -143.29651561285894, 'time_step': 0.01778723866001431, 'observation_error': 0.10140063643294053, 'reward_error': 1.490805609465895e-05, 'variance': 0.058687565131872434}\u001b[0m \u001b[36mstep\u001b[0m=\u001b[35m394502\u001b[0m\n",
      "\u001b[2m2023-10-22 14:37:43\u001b[0m [\u001b[32m\u001b[1minfo     \u001b[0m] \u001b[1mModel parameters are saved to d3rlpy_logs/exp_5_dynamics_reacher_symmetry_20231022112713/model_394502.pt\u001b[0m\n"
     ]
    },
    {
     "data": {
      "application/vnd.jupyter.widget-view+json": {
       "model_id": "b01eed154a694b7693bcab21bacfb4a4",
       "version_major": 2,
       "version_minor": 0
      },
      "text/plain": [
       "Epoch 83/100:   0%|          | 0/4811 [00:00<?, ?it/s]"
      ]
     },
     "metadata": {},
     "output_type": "display_data"
    },
    {
     "name": "stdout",
     "output_type": "stream",
     "text": [
      "\u001b[2m2023-10-22 14:40:01\u001b[0m [\u001b[32m\u001b[1minfo     \u001b[0m] \u001b[1mexp_5_dynamics_reacher_symmetry_20231022112713: epoch=83 step=399313\u001b[0m \u001b[36mepoch\u001b[0m=\u001b[35m83\u001b[0m \u001b[36mmetrics\u001b[0m=\u001b[35m{'time_sample_batch': 0.0002555552799571356, 'time_algorithm_update': 0.017353566960073317, 'loss': -144.0219928287117, 'time_step': 0.017682670481461195, 'observation_error': 0.09851279317639382, 'reward_error': 1.4017811282939152e-05, 'variance': 0.05513069926101313}\u001b[0m \u001b[36mstep\u001b[0m=\u001b[35m399313\u001b[0m\n",
      "\u001b[2m2023-10-22 14:40:01\u001b[0m [\u001b[32m\u001b[1minfo     \u001b[0m] \u001b[1mModel parameters are saved to d3rlpy_logs/exp_5_dynamics_reacher_symmetry_20231022112713/model_399313.pt\u001b[0m\n"
     ]
    },
    {
     "data": {
      "application/vnd.jupyter.widget-view+json": {
       "model_id": "27789f33fcea4e3ab0814b7bad6cd21e",
       "version_major": 2,
       "version_minor": 0
      },
      "text/plain": [
       "Epoch 84/100:   0%|          | 0/4811 [00:00<?, ?it/s]"
      ]
     },
     "metadata": {},
     "output_type": "display_data"
    },
    {
     "name": "stdout",
     "output_type": "stream",
     "text": [
      "\u001b[2m2023-10-22 14:42:20\u001b[0m [\u001b[32m\u001b[1minfo     \u001b[0m] \u001b[1mexp_5_dynamics_reacher_symmetry_20231022112713: epoch=84 step=404124\u001b[0m \u001b[36mepoch\u001b[0m=\u001b[35m84\u001b[0m \u001b[36mmetrics\u001b[0m=\u001b[35m{'time_sample_batch': 0.00025190372423430885, 'time_algorithm_update': 0.017465580775915673, 'loss': -145.05042402235344, 'time_step': 0.017791459823541793, 'observation_error': 0.1025683428063106, 'reward_error': 1.4378776373558682e-05, 'variance': 0.05720135080773626}\u001b[0m \u001b[36mstep\u001b[0m=\u001b[35m404124\u001b[0m\n",
      "\u001b[2m2023-10-22 14:42:20\u001b[0m [\u001b[32m\u001b[1minfo     \u001b[0m] \u001b[1mModel parameters are saved to d3rlpy_logs/exp_5_dynamics_reacher_symmetry_20231022112713/model_404124.pt\u001b[0m\n"
     ]
    },
    {
     "data": {
      "application/vnd.jupyter.widget-view+json": {
       "model_id": "82bd9372bba84259afaee732babff040",
       "version_major": 2,
       "version_minor": 0
      },
      "text/plain": [
       "Epoch 85/100:   0%|          | 0/4811 [00:00<?, ?it/s]"
      ]
     },
     "metadata": {},
     "output_type": "display_data"
    },
    {
     "name": "stdout",
     "output_type": "stream",
     "text": [
      "\u001b[2m2023-10-22 14:44:39\u001b[0m [\u001b[32m\u001b[1minfo     \u001b[0m] \u001b[1mexp_5_dynamics_reacher_symmetry_20231022112713: epoch=85 step=408935\u001b[0m \u001b[36mepoch\u001b[0m=\u001b[35m85\u001b[0m \u001b[36mmetrics\u001b[0m=\u001b[35m{'time_sample_batch': 0.00024911673939716195, 'time_algorithm_update': 0.017375682154060573, 'loss': -144.19962344053653, 'time_step': 0.017698353527737517, 'observation_error': 0.09649958230547495, 'reward_error': 1.3106426546324707e-05, 'variance': 0.0582594104181412}\u001b[0m \u001b[36mstep\u001b[0m=\u001b[35m408935\u001b[0m\n",
      "\u001b[2m2023-10-22 14:44:39\u001b[0m [\u001b[32m\u001b[1minfo     \u001b[0m] \u001b[1mModel parameters are saved to d3rlpy_logs/exp_5_dynamics_reacher_symmetry_20231022112713/model_408935.pt\u001b[0m\n"
     ]
    },
    {
     "data": {
      "application/vnd.jupyter.widget-view+json": {
       "model_id": "b8a7205c3cf9441a92edd0de95164863",
       "version_major": 2,
       "version_minor": 0
      },
      "text/plain": [
       "Epoch 86/100:   0%|          | 0/4811 [00:00<?, ?it/s]"
      ]
     },
     "metadata": {},
     "output_type": "display_data"
    },
    {
     "name": "stdout",
     "output_type": "stream",
     "text": [
      "\u001b[2m2023-10-22 14:46:58\u001b[0m [\u001b[32m\u001b[1minfo     \u001b[0m] \u001b[1mexp_5_dynamics_reacher_symmetry_20231022112713: epoch=86 step=413746\u001b[0m \u001b[36mepoch\u001b[0m=\u001b[35m86\u001b[0m \u001b[36mmetrics\u001b[0m=\u001b[35m{'time_sample_batch': 0.0002503561591983114, 'time_algorithm_update': 0.01739363376971863, 'loss': -143.77421460719594, 'time_step': 0.017718202531077563, 'observation_error': 0.110242659866612, 'reward_error': 1.243084576150597e-05, 'variance': 0.06697265544215536}\u001b[0m \u001b[36mstep\u001b[0m=\u001b[35m413746\u001b[0m\n",
      "\u001b[2m2023-10-22 14:46:58\u001b[0m [\u001b[32m\u001b[1minfo     \u001b[0m] \u001b[1mModel parameters are saved to d3rlpy_logs/exp_5_dynamics_reacher_symmetry_20231022112713/model_413746.pt\u001b[0m\n"
     ]
    },
    {
     "data": {
      "application/vnd.jupyter.widget-view+json": {
       "model_id": "be0900be65b74018ad14dc8838540d33",
       "version_major": 2,
       "version_minor": 0
      },
      "text/plain": [
       "Epoch 87/100:   0%|          | 0/4811 [00:00<?, ?it/s]"
      ]
     },
     "metadata": {},
     "output_type": "display_data"
    },
    {
     "name": "stdout",
     "output_type": "stream",
     "text": [
      "\u001b[2m2023-10-22 14:49:16\u001b[0m [\u001b[32m\u001b[1minfo     \u001b[0m] \u001b[1mexp_5_dynamics_reacher_symmetry_20231022112713: epoch=87 step=418557\u001b[0m \u001b[36mepoch\u001b[0m=\u001b[35m87\u001b[0m \u001b[36mmetrics\u001b[0m=\u001b[35m{'time_sample_batch': 0.0002535992663805115, 'time_algorithm_update': 0.017320073238159508, 'loss': -144.0583855794091, 'time_step': 0.017646814725721632, 'observation_error': 0.10045963858366067, 'reward_error': 1.245584729683384e-05, 'variance': 0.06046185180693965}\u001b[0m \u001b[36mstep\u001b[0m=\u001b[35m418557\u001b[0m\n",
      "\u001b[2m2023-10-22 14:49:16\u001b[0m [\u001b[32m\u001b[1minfo     \u001b[0m] \u001b[1mModel parameters are saved to d3rlpy_logs/exp_5_dynamics_reacher_symmetry_20231022112713/model_418557.pt\u001b[0m\n"
     ]
    },
    {
     "data": {
      "application/vnd.jupyter.widget-view+json": {
       "model_id": "4c31403dd1f944debddbc8219f1874a8",
       "version_major": 2,
       "version_minor": 0
      },
      "text/plain": [
       "Epoch 88/100:   0%|          | 0/4811 [00:00<?, ?it/s]"
      ]
     },
     "metadata": {},
     "output_type": "display_data"
    },
    {
     "name": "stdout",
     "output_type": "stream",
     "text": [
      "\u001b[2m2023-10-22 14:51:37\u001b[0m [\u001b[32m\u001b[1minfo     \u001b[0m] \u001b[1mexp_5_dynamics_reacher_symmetry_20231022112713: epoch=88 step=423368\u001b[0m \u001b[36mepoch\u001b[0m=\u001b[35m88\u001b[0m \u001b[36mmetrics\u001b[0m=\u001b[35m{'time_sample_batch': 0.000265876014374864, 'time_algorithm_update': 0.017996965091953504, 'loss': -143.7238840802101, 'time_step': 0.018339869931937997, 'observation_error': 0.10266068552442455, 'reward_error': 1.2334255474069384e-05, 'variance': 0.05661664143218945}\u001b[0m \u001b[36mstep\u001b[0m=\u001b[35m423368\u001b[0m\n",
      "\u001b[2m2023-10-22 14:51:37\u001b[0m [\u001b[32m\u001b[1minfo     \u001b[0m] \u001b[1mModel parameters are saved to d3rlpy_logs/exp_5_dynamics_reacher_symmetry_20231022112713/model_423368.pt\u001b[0m\n"
     ]
    },
    {
     "data": {
      "application/vnd.jupyter.widget-view+json": {
       "model_id": "a1c340d9f92d4d02a6edd583b2b0b465",
       "version_major": 2,
       "version_minor": 0
      },
      "text/plain": [
       "Epoch 89/100:   0%|          | 0/4811 [00:00<?, ?it/s]"
      ]
     },
     "metadata": {},
     "output_type": "display_data"
    },
    {
     "name": "stdout",
     "output_type": "stream",
     "text": [
      "\u001b[2m2023-10-22 14:53:56\u001b[0m [\u001b[32m\u001b[1minfo     \u001b[0m] \u001b[1mexp_5_dynamics_reacher_symmetry_20231022112713: epoch=89 step=428179\u001b[0m \u001b[36mepoch\u001b[0m=\u001b[35m89\u001b[0m \u001b[36mmetrics\u001b[0m=\u001b[35m{'time_sample_batch': 0.00025267582181535275, 'time_algorithm_update': 0.017342534092007346, 'loss': -144.02348921804958, 'time_step': 0.01766849793160787, 'observation_error': 0.09276834144186455, 'reward_error': 1.1472359291972182e-05, 'variance': 0.04956759221020024}\u001b[0m \u001b[36mstep\u001b[0m=\u001b[35m428179\u001b[0m\n",
      "\u001b[2m2023-10-22 14:53:56\u001b[0m [\u001b[32m\u001b[1minfo     \u001b[0m] \u001b[1mModel parameters are saved to d3rlpy_logs/exp_5_dynamics_reacher_symmetry_20231022112713/model_428179.pt\u001b[0m\n"
     ]
    },
    {
     "data": {
      "application/vnd.jupyter.widget-view+json": {
       "model_id": "af34bb0091b3452cac2a817d1af5841e",
       "version_major": 2,
       "version_minor": 0
      },
      "text/plain": [
       "Epoch 90/100:   0%|          | 0/4811 [00:00<?, ?it/s]"
      ]
     },
     "metadata": {},
     "output_type": "display_data"
    },
    {
     "name": "stdout",
     "output_type": "stream",
     "text": [
      "\u001b[2m2023-10-22 14:56:15\u001b[0m [\u001b[32m\u001b[1minfo     \u001b[0m] \u001b[1mexp_5_dynamics_reacher_symmetry_20231022112713: epoch=90 step=432990\u001b[0m \u001b[36mepoch\u001b[0m=\u001b[35m90\u001b[0m \u001b[36mmetrics\u001b[0m=\u001b[35m{'time_sample_batch': 0.00025082695040626503, 'time_algorithm_update': 0.017392639756029248, 'loss': -145.33479801440433, 'time_step': 0.01771753252085319, 'observation_error': 0.09593401510734863, 'reward_error': 1.251213844128275e-05, 'variance': 0.05791488568798271}\u001b[0m \u001b[36mstep\u001b[0m=\u001b[35m432990\u001b[0m\n",
      "\u001b[2m2023-10-22 14:56:15\u001b[0m [\u001b[32m\u001b[1minfo     \u001b[0m] \u001b[1mModel parameters are saved to d3rlpy_logs/exp_5_dynamics_reacher_symmetry_20231022112713/model_432990.pt\u001b[0m\n"
     ]
    },
    {
     "data": {
      "application/vnd.jupyter.widget-view+json": {
       "model_id": "441806cc589c470386915be65b046e7a",
       "version_major": 2,
       "version_minor": 0
      },
      "text/plain": [
       "Epoch 91/100:   0%|          | 0/4811 [00:00<?, ?it/s]"
      ]
     },
     "metadata": {},
     "output_type": "display_data"
    },
    {
     "name": "stdout",
     "output_type": "stream",
     "text": [
      "\u001b[2m2023-10-22 14:58:33\u001b[0m [\u001b[32m\u001b[1minfo     \u001b[0m] \u001b[1mexp_5_dynamics_reacher_symmetry_20231022112713: epoch=91 step=437801\u001b[0m \u001b[36mepoch\u001b[0m=\u001b[35m91\u001b[0m \u001b[36mmetrics\u001b[0m=\u001b[35m{'time_sample_batch': 0.00025297192470667094, 'time_algorithm_update': 0.017296052727375177, 'loss': -145.07807135240026, 'time_step': 0.017621838607899093, 'observation_error': 0.10223609725460656, 'reward_error': 1.2006743206974587e-05, 'variance': 0.05629816235475676}\u001b[0m \u001b[36mstep\u001b[0m=\u001b[35m437801\u001b[0m\n",
      "\u001b[2m2023-10-22 14:58:33\u001b[0m [\u001b[32m\u001b[1minfo     \u001b[0m] \u001b[1mModel parameters are saved to d3rlpy_logs/exp_5_dynamics_reacher_symmetry_20231022112713/model_437801.pt\u001b[0m\n"
     ]
    },
    {
     "data": {
      "application/vnd.jupyter.widget-view+json": {
       "model_id": "d9c394c0547942c28d40cf2840faf20c",
       "version_major": 2,
       "version_minor": 0
      },
      "text/plain": [
       "Epoch 92/100:   0%|          | 0/4811 [00:00<?, ?it/s]"
      ]
     },
     "metadata": {},
     "output_type": "display_data"
    },
    {
     "name": "stdout",
     "output_type": "stream",
     "text": [
      "\u001b[2m2023-10-22 15:00:52\u001b[0m [\u001b[32m\u001b[1minfo     \u001b[0m] \u001b[1mexp_5_dynamics_reacher_symmetry_20231022112713: epoch=92 step=442612\u001b[0m \u001b[36mepoch\u001b[0m=\u001b[35m92\u001b[0m \u001b[36mmetrics\u001b[0m=\u001b[35m{'time_sample_batch': 0.0002527657181575873, 'time_algorithm_update': 0.017459530514209835, 'loss': -144.983045120493, 'time_step': 0.017785212225984372, 'observation_error': 0.09638304310993799, 'reward_error': 1.1748061963564655e-05, 'variance': 0.05832340030737747}\u001b[0m \u001b[36mstep\u001b[0m=\u001b[35m442612\u001b[0m\n",
      "\u001b[2m2023-10-22 15:00:52\u001b[0m [\u001b[32m\u001b[1minfo     \u001b[0m] \u001b[1mModel parameters are saved to d3rlpy_logs/exp_5_dynamics_reacher_symmetry_20231022112713/model_442612.pt\u001b[0m\n"
     ]
    },
    {
     "data": {
      "application/vnd.jupyter.widget-view+json": {
       "model_id": "4544c3f5eea04b7194cf308166cafcfb",
       "version_major": 2,
       "version_minor": 0
      },
      "text/plain": [
       "Epoch 93/100:   0%|          | 0/4811 [00:00<?, ?it/s]"
      ]
     },
     "metadata": {},
     "output_type": "display_data"
    },
    {
     "name": "stdout",
     "output_type": "stream",
     "text": [
      "\u001b[2m2023-10-22 15:03:11\u001b[0m [\u001b[32m\u001b[1minfo     \u001b[0m] \u001b[1mexp_5_dynamics_reacher_symmetry_20231022112713: epoch=93 step=447423\u001b[0m \u001b[36mepoch\u001b[0m=\u001b[35m93\u001b[0m \u001b[36mmetrics\u001b[0m=\u001b[35m{'time_sample_batch': 0.00025269851890727304, 'time_algorithm_update': 0.017422299255231543, 'loss': -144.24996546077472, 'time_step': 0.0177487730856027, 'observation_error': 0.1020516153683795, 'reward_error': 1.1599368960673375e-05, 'variance': 0.055827095011008916}\u001b[0m \u001b[36mstep\u001b[0m=\u001b[35m447423\u001b[0m\n",
      "\u001b[2m2023-10-22 15:03:11\u001b[0m [\u001b[32m\u001b[1minfo     \u001b[0m] \u001b[1mModel parameters are saved to d3rlpy_logs/exp_5_dynamics_reacher_symmetry_20231022112713/model_447423.pt\u001b[0m\n"
     ]
    },
    {
     "data": {
      "application/vnd.jupyter.widget-view+json": {
       "model_id": "b5b7564c021143b4bfdc227730ee756d",
       "version_major": 2,
       "version_minor": 0
      },
      "text/plain": [
       "Epoch 94/100:   0%|          | 0/4811 [00:00<?, ?it/s]"
      ]
     },
     "metadata": {},
     "output_type": "display_data"
    },
    {
     "name": "stdout",
     "output_type": "stream",
     "text": [
      "\u001b[2m2023-10-22 15:05:30\u001b[0m [\u001b[32m\u001b[1minfo     \u001b[0m] \u001b[1mexp_5_dynamics_reacher_symmetry_20231022112713: epoch=94 step=452234\u001b[0m \u001b[36mepoch\u001b[0m=\u001b[35m94\u001b[0m \u001b[36mmetrics\u001b[0m=\u001b[35m{'time_sample_batch': 0.00025205477387660807, 'time_algorithm_update': 0.017369329644399235, 'loss': -144.04723848490772, 'time_step': 0.01769496179920451, 'observation_error': 0.09418061858144117, 'reward_error': 1.1241874714490025e-05, 'variance': 0.0516511051416689}\u001b[0m \u001b[36mstep\u001b[0m=\u001b[35m452234\u001b[0m\n",
      "\u001b[2m2023-10-22 15:05:30\u001b[0m [\u001b[32m\u001b[1minfo     \u001b[0m] \u001b[1mModel parameters are saved to d3rlpy_logs/exp_5_dynamics_reacher_symmetry_20231022112713/model_452234.pt\u001b[0m\n"
     ]
    },
    {
     "data": {
      "application/vnd.jupyter.widget-view+json": {
       "model_id": "7b3bff3f87cf4f2cbc584e43886274c0",
       "version_major": 2,
       "version_minor": 0
      },
      "text/plain": [
       "Epoch 95/100:   0%|          | 0/4811 [00:00<?, ?it/s]"
      ]
     },
     "metadata": {},
     "output_type": "display_data"
    },
    {
     "name": "stdout",
     "output_type": "stream",
     "text": [
      "\u001b[2m2023-10-22 15:07:48\u001b[0m [\u001b[32m\u001b[1minfo     \u001b[0m] \u001b[1mexp_5_dynamics_reacher_symmetry_20231022112713: epoch=95 step=457045\u001b[0m \u001b[36mepoch\u001b[0m=\u001b[35m95\u001b[0m \u001b[36mmetrics\u001b[0m=\u001b[35m{'time_sample_batch': 0.0002507437442548804, 'time_algorithm_update': 0.017367600552184843, 'loss': -146.22899345012596, 'time_step': 0.017690325496945554, 'observation_error': 0.10799057717964591, 'reward_error': 1.048072252689277e-05, 'variance': 0.07216700687553305}\u001b[0m \u001b[36mstep\u001b[0m=\u001b[35m457045\u001b[0m\n",
      "\u001b[2m2023-10-22 15:07:48\u001b[0m [\u001b[32m\u001b[1minfo     \u001b[0m] \u001b[1mModel parameters are saved to d3rlpy_logs/exp_5_dynamics_reacher_symmetry_20231022112713/model_457045.pt\u001b[0m\n"
     ]
    },
    {
     "data": {
      "application/vnd.jupyter.widget-view+json": {
       "model_id": "3c7f301c116f40e08d0bba1e3271695a",
       "version_major": 2,
       "version_minor": 0
      },
      "text/plain": [
       "Epoch 96/100:   0%|          | 0/4811 [00:00<?, ?it/s]"
      ]
     },
     "metadata": {},
     "output_type": "display_data"
    },
    {
     "name": "stdout",
     "output_type": "stream",
     "text": [
      "\u001b[2m2023-10-22 15:10:06\u001b[0m [\u001b[32m\u001b[1minfo     \u001b[0m] \u001b[1mexp_5_dynamics_reacher_symmetry_20231022112713: epoch=96 step=461856\u001b[0m \u001b[36mepoch\u001b[0m=\u001b[35m96\u001b[0m \u001b[36mmetrics\u001b[0m=\u001b[35m{'time_sample_batch': 0.00025368876626699193, 'time_algorithm_update': 0.0172629987244496, 'loss': -145.31322280266903, 'time_step': 0.017588974358608806, 'observation_error': 0.0988662554606847, 'reward_error': 1.0538156557201391e-05, 'variance': 0.06669990331739217}\u001b[0m \u001b[36mstep\u001b[0m=\u001b[35m461856\u001b[0m\n",
      "\u001b[2m2023-10-22 15:10:06\u001b[0m [\u001b[32m\u001b[1minfo     \u001b[0m] \u001b[1mModel parameters are saved to d3rlpy_logs/exp_5_dynamics_reacher_symmetry_20231022112713/model_461856.pt\u001b[0m\n"
     ]
    },
    {
     "data": {
      "application/vnd.jupyter.widget-view+json": {
       "model_id": "e3f2dcac2fa74ced90008f4d9fd47669",
       "version_major": 2,
       "version_minor": 0
      },
      "text/plain": [
       "Epoch 97/100:   0%|          | 0/4811 [00:00<?, ?it/s]"
      ]
     },
     "metadata": {},
     "output_type": "display_data"
    },
    {
     "name": "stdout",
     "output_type": "stream",
     "text": [
      "\u001b[2m2023-10-22 15:12:25\u001b[0m [\u001b[32m\u001b[1minfo     \u001b[0m] \u001b[1mexp_5_dynamics_reacher_symmetry_20231022112713: epoch=97 step=466667\u001b[0m \u001b[36mepoch\u001b[0m=\u001b[35m97\u001b[0m \u001b[36mmetrics\u001b[0m=\u001b[35m{'time_sample_batch': 0.00025161069387508465, 'time_algorithm_update': 0.01748990819301062, 'loss': -145.3610089043772, 'time_step': 0.017814342555868924, 'observation_error': 0.09512446647431297, 'reward_error': 1.051242531483492e-05, 'variance': 0.05869231398882973}\u001b[0m \u001b[36mstep\u001b[0m=\u001b[35m466667\u001b[0m\n",
      "\u001b[2m2023-10-22 15:12:25\u001b[0m [\u001b[32m\u001b[1minfo     \u001b[0m] \u001b[1mModel parameters are saved to d3rlpy_logs/exp_5_dynamics_reacher_symmetry_20231022112713/model_466667.pt\u001b[0m\n"
     ]
    },
    {
     "data": {
      "application/vnd.jupyter.widget-view+json": {
       "model_id": "61eb1368a22846c796072a4cbc5f8764",
       "version_major": 2,
       "version_minor": 0
      },
      "text/plain": [
       "Epoch 98/100:   0%|          | 0/4811 [00:00<?, ?it/s]"
      ]
     },
     "metadata": {},
     "output_type": "display_data"
    },
    {
     "name": "stdout",
     "output_type": "stream",
     "text": [
      "\u001b[2m2023-10-22 15:14:43\u001b[0m [\u001b[32m\u001b[1minfo     \u001b[0m] \u001b[1mexp_5_dynamics_reacher_symmetry_20231022112713: epoch=98 step=471478\u001b[0m \u001b[36mepoch\u001b[0m=\u001b[35m98\u001b[0m \u001b[36mmetrics\u001b[0m=\u001b[35m{'time_sample_batch': 0.00025345441135936954, 'time_algorithm_update': 0.017272023742349103, 'loss': -144.8367831421057, 'time_step': 0.017599146075219976, 'observation_error': 0.1020313265256675, 'reward_error': 1.0105018385693378e-05, 'variance': 0.05468199137157422}\u001b[0m \u001b[36mstep\u001b[0m=\u001b[35m471478\u001b[0m\n",
      "\u001b[2m2023-10-22 15:14:43\u001b[0m [\u001b[32m\u001b[1minfo     \u001b[0m] \u001b[1mModel parameters are saved to d3rlpy_logs/exp_5_dynamics_reacher_symmetry_20231022112713/model_471478.pt\u001b[0m\n"
     ]
    },
    {
     "data": {
      "application/vnd.jupyter.widget-view+json": {
       "model_id": "3e09e5662e674befb578d5ce59500184",
       "version_major": 2,
       "version_minor": 0
      },
      "text/plain": [
       "Epoch 99/100:   0%|          | 0/4811 [00:00<?, ?it/s]"
      ]
     },
     "metadata": {},
     "output_type": "display_data"
    },
    {
     "name": "stdout",
     "output_type": "stream",
     "text": [
      "\u001b[2m2023-10-22 15:17:01\u001b[0m [\u001b[32m\u001b[1minfo     \u001b[0m] \u001b[1mexp_5_dynamics_reacher_symmetry_20231022112713: epoch=99 step=476289\u001b[0m \u001b[36mepoch\u001b[0m=\u001b[35m99\u001b[0m \u001b[36mmetrics\u001b[0m=\u001b[35m{'time_sample_batch': 0.00025216082579082073, 'time_algorithm_update': 0.01731903769572989, 'loss': -146.0275501642919, 'time_step': 0.017644506907220244, 'observation_error': 0.0971075030597745, 'reward_error': 9.910938196056781e-06, 'variance': 0.052425882288666535}\u001b[0m \u001b[36mstep\u001b[0m=\u001b[35m476289\u001b[0m\n",
      "\u001b[2m2023-10-22 15:17:01\u001b[0m [\u001b[32m\u001b[1minfo     \u001b[0m] \u001b[1mModel parameters are saved to d3rlpy_logs/exp_5_dynamics_reacher_symmetry_20231022112713/model_476289.pt\u001b[0m\n"
     ]
    },
    {
     "data": {
      "application/vnd.jupyter.widget-view+json": {
       "model_id": "671d6eacf937430e8a8aab071a55622b",
       "version_major": 2,
       "version_minor": 0
      },
      "text/plain": [
       "Epoch 100/100:   0%|          | 0/4811 [00:00<?, ?it/s]"
      ]
     },
     "metadata": {},
     "output_type": "display_data"
    },
    {
     "name": "stdout",
     "output_type": "stream",
     "text": [
      "\u001b[2m2023-10-22 15:19:20\u001b[0m [\u001b[32m\u001b[1minfo     \u001b[0m] \u001b[1mexp_5_dynamics_reacher_symmetry_20231022112713: epoch=100 step=481100\u001b[0m \u001b[36mepoch\u001b[0m=\u001b[35m100\u001b[0m \u001b[36mmetrics\u001b[0m=\u001b[35m{'time_sample_batch': 0.0002472343674768556, 'time_algorithm_update': 0.017404789786853208, 'loss': -146.65049012746516, 'time_step': 0.017723986721415452, 'observation_error': 0.09895285823097774, 'reward_error': 1.02275729792786e-05, 'variance': 0.0526068868078156}\u001b[0m \u001b[36mstep\u001b[0m=\u001b[35m481100\u001b[0m\n",
      "\u001b[2m2023-10-22 15:19:20\u001b[0m [\u001b[32m\u001b[1minfo     \u001b[0m] \u001b[1mModel parameters are saved to d3rlpy_logs/exp_5_dynamics_reacher_symmetry_20231022112713/model_481100.pt\u001b[0m\n",
      "\u001b[2m2023-10-22 15:19:20\u001b[0m [\u001b[32m\u001b[1mdebug    \u001b[0m] \u001b[1mRoundIterator is selected.\u001b[0m\n",
      "\u001b[2m2023-10-22 15:19:20\u001b[0m [\u001b[32m\u001b[1minfo     \u001b[0m] \u001b[1mDirectory is created at d3rlpy_logs/exp_5_dynamics_reacher_default_20231022151920\u001b[0m\n",
      "\u001b[2m2023-10-22 15:19:20\u001b[0m [\u001b[32m\u001b[1mdebug    \u001b[0m] \u001b[1mBuilding models...\u001b[0m\n",
      "\u001b[2m2023-10-22 15:19:20\u001b[0m [\u001b[32m\u001b[1mdebug    \u001b[0m] \u001b[1mModels have been built.\u001b[0m\n",
      "\u001b[2m2023-10-22 15:19:20\u001b[0m [\u001b[32m\u001b[1minfo     \u001b[0m] \u001b[1mParameters are saved to d3rlpy_logs/exp_5_dynamics_reacher_default_20231022151920/params.json\u001b[0m \u001b[36mparams\u001b[0m=\u001b[35m{'action_scaler': None, 'batch_size': 100, 'discrete_action': False, 'gamma': 1.0, 'generated_maxlen': 100000, 'learning_rate': 0.0001, 'n_ensembles': 5, 'n_frames': 1, 'n_steps': 1, 'optim_factory': {'optim_cls': 'Adam', 'betas': (0.9, 0.999), 'eps': 1e-08, 'weight_decay': 0.0001, 'amsgrad': False}, 'real_ratio': 1.0, 'reward_encoder_factory': {'type': 'default', 'params': {'activation': 'relu', 'use_batch_norm': False, 'dropout_rate': None}}, 'reward_scaler': None, 'scaler': None, 'state_encoder_factory': {'type': 'default', 'params': {'activation': 'relu', 'use_batch_norm': False, 'dropout_rate': None}}, 'use_gpu': 0, 'variance_type': 'max', 'algorithm': 'ProbabilisticEnsembleDynamics', 'observation_shape': (8,), 'action_size': 2}\u001b[0m\n"
     ]
    },
    {
     "data": {
      "application/vnd.jupyter.widget-view+json": {
       "model_id": "50a5f959ed9e42728a5849e894aac8ea",
       "version_major": 2,
       "version_minor": 0
      },
      "text/plain": [
       "Epoch 1/100:   0%|          | 0/4811 [00:00<?, ?it/s]"
      ]
     },
     "metadata": {},
     "output_type": "display_data"
    },
    {
     "name": "stdout",
     "output_type": "stream",
     "text": [
      "\u001b[2m2023-10-22 15:21:34\u001b[0m [\u001b[32m\u001b[1minfo     \u001b[0m] \u001b[1mexp_5_dynamics_reacher_default_20231022151920: epoch=1 step=4811\u001b[0m \u001b[36mepoch\u001b[0m=\u001b[35m1\u001b[0m \u001b[36mmetrics\u001b[0m=\u001b[35m{'time_sample_batch': 0.0002585228008332904, 'time_algorithm_update': 0.016770909467374823, 'loss': 2561.961346314189, 'time_step': 0.01711834287276711, 'observation_error': 2.198056478123162, 'reward_error': 0.0478472702971176, 'variance': 2.1041911670798057}\u001b[0m \u001b[36mstep\u001b[0m=\u001b[35m4811\u001b[0m\n",
      "\u001b[2m2023-10-22 15:21:34\u001b[0m [\u001b[32m\u001b[1minfo     \u001b[0m] \u001b[1mModel parameters are saved to d3rlpy_logs/exp_5_dynamics_reacher_default_20231022151920/model_4811.pt\u001b[0m\n"
     ]
    },
    {
     "data": {
      "application/vnd.jupyter.widget-view+json": {
       "model_id": "73015891010743c2845a5db4d3635398",
       "version_major": 2,
       "version_minor": 0
      },
      "text/plain": [
       "Epoch 2/100:   0%|          | 0/4811 [00:00<?, ?it/s]"
      ]
     },
     "metadata": {},
     "output_type": "display_data"
    },
    {
     "name": "stdout",
     "output_type": "stream",
     "text": [
      "\u001b[2m2023-10-22 15:23:48\u001b[0m [\u001b[32m\u001b[1minfo     \u001b[0m] \u001b[1mexp_5_dynamics_reacher_default_20231022151920: epoch=2 step=9622\u001b[0m \u001b[36mepoch\u001b[0m=\u001b[35m2\u001b[0m \u001b[36mmetrics\u001b[0m=\u001b[35m{'time_sample_batch': 0.0002482104415433666, 'time_algorithm_update': 0.016896692835796503, 'loss': -27.485084711501813, 'time_step': 0.017221997765933767, 'observation_error': 1.4384719863998614, 'reward_error': 0.03619993108530447, 'variance': 1.0688759720130547}\u001b[0m \u001b[36mstep\u001b[0m=\u001b[35m9622\u001b[0m\n",
      "\u001b[2m2023-10-22 15:23:48\u001b[0m [\u001b[32m\u001b[1minfo     \u001b[0m] \u001b[1mModel parameters are saved to d3rlpy_logs/exp_5_dynamics_reacher_default_20231022151920/model_9622.pt\u001b[0m\n"
     ]
    },
    {
     "data": {
      "application/vnd.jupyter.widget-view+json": {
       "model_id": "9636dc3d75834f66abc5f70fdc8ec95e",
       "version_major": 2,
       "version_minor": 0
      },
      "text/plain": [
       "Epoch 3/100:   0%|          | 0/4811 [00:00<?, ?it/s]"
      ]
     },
     "metadata": {},
     "output_type": "display_data"
    },
    {
     "name": "stdout",
     "output_type": "stream",
     "text": [
      "\u001b[2m2023-10-22 15:26:02\u001b[0m [\u001b[32m\u001b[1minfo     \u001b[0m] \u001b[1mexp_5_dynamics_reacher_default_20231022151920: epoch=3 step=14433\u001b[0m \u001b[36mepoch\u001b[0m=\u001b[35m3\u001b[0m \u001b[36mmetrics\u001b[0m=\u001b[35m{'time_sample_batch': 0.00025078522343814955, 'time_algorithm_update': 0.016990694180022553, 'loss': -52.49199563464314, 'time_step': 0.017320911841193297, 'observation_error': 1.1031371731484363, 'reward_error': 0.01030621250170387, 'variance': 0.6920911032102152}\u001b[0m \u001b[36mstep\u001b[0m=\u001b[35m14433\u001b[0m\n",
      "\u001b[2m2023-10-22 15:26:02\u001b[0m [\u001b[32m\u001b[1minfo     \u001b[0m] \u001b[1mModel parameters are saved to d3rlpy_logs/exp_5_dynamics_reacher_default_20231022151920/model_14433.pt\u001b[0m\n"
     ]
    },
    {
     "data": {
      "application/vnd.jupyter.widget-view+json": {
       "model_id": "7d342a3da84143ef9718608186bba52c",
       "version_major": 2,
       "version_minor": 0
      },
      "text/plain": [
       "Epoch 4/100:   0%|          | 0/4811 [00:00<?, ?it/s]"
      ]
     },
     "metadata": {},
     "output_type": "display_data"
    },
    {
     "name": "stdout",
     "output_type": "stream",
     "text": [
      "\u001b[2m2023-10-22 15:28:16\u001b[0m [\u001b[32m\u001b[1minfo     \u001b[0m] \u001b[1mexp_5_dynamics_reacher_default_20231022151920: epoch=4 step=19244\u001b[0m \u001b[36mepoch\u001b[0m=\u001b[35m4\u001b[0m \u001b[36mmetrics\u001b[0m=\u001b[35m{'time_sample_batch': 0.0002539725294729648, 'time_algorithm_update': 0.016943303990131157, 'loss': -71.60184011070824, 'time_step': 0.017276352295828967, 'observation_error': 1.0725191198786124, 'reward_error': 0.004014663901668129, 'variance': 0.6287200740055877}\u001b[0m \u001b[36mstep\u001b[0m=\u001b[35m19244\u001b[0m\n",
      "\u001b[2m2023-10-22 15:28:16\u001b[0m [\u001b[32m\u001b[1minfo     \u001b[0m] \u001b[1mModel parameters are saved to d3rlpy_logs/exp_5_dynamics_reacher_default_20231022151920/model_19244.pt\u001b[0m\n"
     ]
    },
    {
     "data": {
      "application/vnd.jupyter.widget-view+json": {
       "model_id": "317001a34fb2455b8c921f2f84ebaa7a",
       "version_major": 2,
       "version_minor": 0
      },
      "text/plain": [
       "Epoch 5/100:   0%|          | 0/4811 [00:00<?, ?it/s]"
      ]
     },
     "metadata": {},
     "output_type": "display_data"
    },
    {
     "name": "stdout",
     "output_type": "stream",
     "text": [
      "\u001b[2m2023-10-22 15:30:30\u001b[0m [\u001b[32m\u001b[1minfo     \u001b[0m] \u001b[1mexp_5_dynamics_reacher_default_20231022151920: epoch=5 step=24055\u001b[0m \u001b[36mepoch\u001b[0m=\u001b[35m5\u001b[0m \u001b[36mmetrics\u001b[0m=\u001b[35m{'time_sample_batch': 0.0002503138375465648, 'time_algorithm_update': 0.016976651717213527, 'loss': -83.25141938177222, 'time_step': 0.01730351085302067, 'observation_error': 0.9528376354114929, 'reward_error': 0.0021345977141436242, 'variance': 0.5442022247811783}\u001b[0m \u001b[36mstep\u001b[0m=\u001b[35m24055\u001b[0m\n",
      "\u001b[2m2023-10-22 15:30:30\u001b[0m [\u001b[32m\u001b[1minfo     \u001b[0m] \u001b[1mModel parameters are saved to d3rlpy_logs/exp_5_dynamics_reacher_default_20231022151920/model_24055.pt\u001b[0m\n"
     ]
    },
    {
     "data": {
      "application/vnd.jupyter.widget-view+json": {
       "model_id": "d344380f0bc94ac4872fbed9b63e254d",
       "version_major": 2,
       "version_minor": 0
      },
      "text/plain": [
       "Epoch 6/100:   0%|          | 0/4811 [00:00<?, ?it/s]"
      ]
     },
     "metadata": {},
     "output_type": "display_data"
    },
    {
     "name": "stdout",
     "output_type": "stream",
     "text": [
      "\u001b[2m2023-10-22 15:32:43\u001b[0m [\u001b[32m\u001b[1minfo     \u001b[0m] \u001b[1mexp_5_dynamics_reacher_default_20231022151920: epoch=6 step=28866\u001b[0m \u001b[36mepoch\u001b[0m=\u001b[35m6\u001b[0m \u001b[36mmetrics\u001b[0m=\u001b[35m{'time_sample_batch': 0.0002485143248788583, 'time_algorithm_update': 0.01695619202334131, 'loss': -93.48664551796176, 'time_step': 0.017278335962194438, 'observation_error': 0.9228449308969368, 'reward_error': 0.0013878895120904395, 'variance': 0.5204715857336343}\u001b[0m \u001b[36mstep\u001b[0m=\u001b[35m28866\u001b[0m\n",
      "\u001b[2m2023-10-22 15:32:43\u001b[0m [\u001b[32m\u001b[1minfo     \u001b[0m] \u001b[1mModel parameters are saved to d3rlpy_logs/exp_5_dynamics_reacher_default_20231022151920/model_28866.pt\u001b[0m\n"
     ]
    },
    {
     "data": {
      "application/vnd.jupyter.widget-view+json": {
       "model_id": "9790a3c150e648ed86342656472cb29d",
       "version_major": 2,
       "version_minor": 0
      },
      "text/plain": [
       "Epoch 7/100:   0%|          | 0/4811 [00:00<?, ?it/s]"
      ]
     },
     "metadata": {},
     "output_type": "display_data"
    },
    {
     "name": "stdout",
     "output_type": "stream",
     "text": [
      "\u001b[2m2023-10-22 15:34:57\u001b[0m [\u001b[32m\u001b[1minfo     \u001b[0m] \u001b[1mexp_5_dynamics_reacher_default_20231022151920: epoch=7 step=33677\u001b[0m \u001b[36mepoch\u001b[0m=\u001b[35m7\u001b[0m \u001b[36mmetrics\u001b[0m=\u001b[35m{'time_sample_batch': 0.00025484458346100266, 'time_algorithm_update': 0.017031508655663066, 'loss': -98.30233590207905, 'time_step': 0.0173606922115563, 'observation_error': 0.902411721966341, 'reward_error': 0.0010407439077677009, 'variance': 0.4974517765174975}\u001b[0m \u001b[36mstep\u001b[0m=\u001b[35m33677\u001b[0m\n",
      "\u001b[2m2023-10-22 15:34:57\u001b[0m [\u001b[32m\u001b[1minfo     \u001b[0m] \u001b[1mModel parameters are saved to d3rlpy_logs/exp_5_dynamics_reacher_default_20231022151920/model_33677.pt\u001b[0m\n"
     ]
    },
    {
     "data": {
      "application/vnd.jupyter.widget-view+json": {
       "model_id": "3a4cbcc4378b4a208b52ef988156f77a",
       "version_major": 2,
       "version_minor": 0
      },
      "text/plain": [
       "Epoch 8/100:   0%|          | 0/4811 [00:00<?, ?it/s]"
      ]
     },
     "metadata": {},
     "output_type": "display_data"
    },
    {
     "name": "stdout",
     "output_type": "stream",
     "text": [
      "\u001b[2m2023-10-22 15:37:12\u001b[0m [\u001b[32m\u001b[1minfo     \u001b[0m] \u001b[1mexp_5_dynamics_reacher_default_20231022151920: epoch=8 step=38488\u001b[0m \u001b[36mepoch\u001b[0m=\u001b[35m8\u001b[0m \u001b[36mmetrics\u001b[0m=\u001b[35m{'time_sample_batch': 0.00025189123587805577, 'time_algorithm_update': 0.01705945313683024, 'loss': -101.31544710776583, 'time_step': 0.017382684157361016, 'observation_error': 0.9082468690097625, 'reward_error': 0.0008314803072558967, 'variance': 0.5187496822224267}\u001b[0m \u001b[36mstep\u001b[0m=\u001b[35m38488\u001b[0m\n",
      "\u001b[2m2023-10-22 15:37:12\u001b[0m [\u001b[32m\u001b[1minfo     \u001b[0m] \u001b[1mModel parameters are saved to d3rlpy_logs/exp_5_dynamics_reacher_default_20231022151920/model_38488.pt\u001b[0m\n"
     ]
    },
    {
     "data": {
      "application/vnd.jupyter.widget-view+json": {
       "model_id": "325efc80a5f548c1b4d3eb7e3532a291",
       "version_major": 2,
       "version_minor": 0
      },
      "text/plain": [
       "Epoch 9/100:   0%|          | 0/4811 [00:00<?, ?it/s]"
      ]
     },
     "metadata": {},
     "output_type": "display_data"
    },
    {
     "name": "stdout",
     "output_type": "stream",
     "text": [
      "\u001b[2m2023-10-22 15:39:26\u001b[0m [\u001b[32m\u001b[1minfo     \u001b[0m] \u001b[1mexp_5_dynamics_reacher_default_20231022151920: epoch=9 step=43299\u001b[0m \u001b[36mepoch\u001b[0m=\u001b[35m9\u001b[0m \u001b[36mmetrics\u001b[0m=\u001b[35m{'time_sample_batch': 0.0002515489954483581, 'time_algorithm_update': 0.016959359407474485, 'loss': -103.94524294025213, 'time_step': 0.017283239921644357, 'observation_error': 0.8730896195239465, 'reward_error': 0.0006937535487710652, 'variance': 0.48366542230931486}\u001b[0m \u001b[36mstep\u001b[0m=\u001b[35m43299\u001b[0m\n",
      "\u001b[2m2023-10-22 15:39:26\u001b[0m [\u001b[32m\u001b[1minfo     \u001b[0m] \u001b[1mModel parameters are saved to d3rlpy_logs/exp_5_dynamics_reacher_default_20231022151920/model_43299.pt\u001b[0m\n"
     ]
    },
    {
     "data": {
      "application/vnd.jupyter.widget-view+json": {
       "model_id": "baa19484d2a4499090efa2747c260362",
       "version_major": 2,
       "version_minor": 0
      },
      "text/plain": [
       "Epoch 10/100:   0%|          | 0/4811 [00:00<?, ?it/s]"
      ]
     },
     "metadata": {},
     "output_type": "display_data"
    },
    {
     "name": "stdout",
     "output_type": "stream",
     "text": [
      "\u001b[2m2023-10-22 15:41:40\u001b[0m [\u001b[32m\u001b[1minfo     \u001b[0m] \u001b[1mexp_5_dynamics_reacher_default_20231022151920: epoch=10 step=48110\u001b[0m \u001b[36mepoch\u001b[0m=\u001b[35m10\u001b[0m \u001b[36mmetrics\u001b[0m=\u001b[35m{'time_sample_batch': 0.00025041077097843405, 'time_algorithm_update': 0.016996447248583745, 'loss': -106.14027746847181, 'time_step': 0.017318584249461175, 'observation_error': 0.8529230566353929, 'reward_error': 0.0005714170207280481, 'variance': 0.48818549440488884}\u001b[0m \u001b[36mstep\u001b[0m=\u001b[35m48110\u001b[0m\n",
      "\u001b[2m2023-10-22 15:41:40\u001b[0m [\u001b[32m\u001b[1minfo     \u001b[0m] \u001b[1mModel parameters are saved to d3rlpy_logs/exp_5_dynamics_reacher_default_20231022151920/model_48110.pt\u001b[0m\n"
     ]
    },
    {
     "data": {
      "application/vnd.jupyter.widget-view+json": {
       "model_id": "83c234a9d379411489787478dedb3e09",
       "version_major": 2,
       "version_minor": 0
      },
      "text/plain": [
       "Epoch 11/100:   0%|          | 0/4811 [00:00<?, ?it/s]"
      ]
     },
     "metadata": {},
     "output_type": "display_data"
    },
    {
     "name": "stdout",
     "output_type": "stream",
     "text": [
      "\u001b[2m2023-10-22 15:43:53\u001b[0m [\u001b[32m\u001b[1minfo     \u001b[0m] \u001b[1mexp_5_dynamics_reacher_default_20231022151920: epoch=11 step=52921\u001b[0m \u001b[36mepoch\u001b[0m=\u001b[35m11\u001b[0m \u001b[36mmetrics\u001b[0m=\u001b[35m{'time_sample_batch': 0.00025198197468876766, 'time_algorithm_update': 0.017115412569174867, 'loss': -108.03012912046931, 'time_step': 0.017439466334509268, 'observation_error': 0.8058213508176312, 'reward_error': 0.0005236859400140598, 'variance': 0.46924754848423955}\u001b[0m \u001b[36mstep\u001b[0m=\u001b[35m52921\u001b[0m\n",
      "\u001b[2m2023-10-22 15:43:53\u001b[0m [\u001b[32m\u001b[1minfo     \u001b[0m] \u001b[1mModel parameters are saved to d3rlpy_logs/exp_5_dynamics_reacher_default_20231022151920/model_52921.pt\u001b[0m\n"
     ]
    },
    {
     "data": {
      "application/vnd.jupyter.widget-view+json": {
       "model_id": "dc5188fd92aa49eca01825189aa58348",
       "version_major": 2,
       "version_minor": 0
      },
      "text/plain": [
       "Epoch 12/100:   0%|          | 0/4811 [00:00<?, ?it/s]"
      ]
     },
     "metadata": {},
     "output_type": "display_data"
    },
    {
     "name": "stdout",
     "output_type": "stream",
     "text": [
      "\u001b[2m2023-10-22 15:46:08\u001b[0m [\u001b[32m\u001b[1minfo     \u001b[0m] \u001b[1mexp_5_dynamics_reacher_default_20231022151920: epoch=12 step=57732\u001b[0m \u001b[36mepoch\u001b[0m=\u001b[35m12\u001b[0m \u001b[36mmetrics\u001b[0m=\u001b[35m{'time_sample_batch': 0.0002496496254875962, 'time_algorithm_update': 0.01707287113226964, 'loss': -110.0010797742052, 'time_step': 0.01739368461516909, 'observation_error': 0.7938060331222649, 'reward_error': 0.0004690510359656177, 'variance': 0.467745584783451}\u001b[0m \u001b[36mstep\u001b[0m=\u001b[35m57732\u001b[0m\n",
      "\u001b[2m2023-10-22 15:46:08\u001b[0m [\u001b[32m\u001b[1minfo     \u001b[0m] \u001b[1mModel parameters are saved to d3rlpy_logs/exp_5_dynamics_reacher_default_20231022151920/model_57732.pt\u001b[0m\n"
     ]
    },
    {
     "data": {
      "application/vnd.jupyter.widget-view+json": {
       "model_id": "d3caf3f369d24c9dade1ded20904cfd3",
       "version_major": 2,
       "version_minor": 0
      },
      "text/plain": [
       "Epoch 13/100:   0%|          | 0/4811 [00:00<?, ?it/s]"
      ]
     },
     "metadata": {},
     "output_type": "display_data"
    },
    {
     "name": "stdout",
     "output_type": "stream",
     "text": [
      "\u001b[2m2023-10-22 15:48:23\u001b[0m [\u001b[32m\u001b[1minfo     \u001b[0m] \u001b[1mexp_5_dynamics_reacher_default_20231022151920: epoch=13 step=62543\u001b[0m \u001b[36mepoch\u001b[0m=\u001b[35m13\u001b[0m \u001b[36mmetrics\u001b[0m=\u001b[35m{'time_sample_batch': 0.0002493006453100794, 'time_algorithm_update': 0.017100623778408815, 'loss': -111.61248106590752, 'time_step': 0.017422297768522464, 'observation_error': 0.726545676747942, 'reward_error': 0.000397754860835847, 'variance': 0.4259159353248379}\u001b[0m \u001b[36mstep\u001b[0m=\u001b[35m62543\u001b[0m\n",
      "\u001b[2m2023-10-22 15:48:23\u001b[0m [\u001b[32m\u001b[1minfo     \u001b[0m] \u001b[1mModel parameters are saved to d3rlpy_logs/exp_5_dynamics_reacher_default_20231022151920/model_62543.pt\u001b[0m\n"
     ]
    },
    {
     "data": {
      "application/vnd.jupyter.widget-view+json": {
       "model_id": "d5bdd2373ea640c2be9aa99d4ea9f166",
       "version_major": 2,
       "version_minor": 0
      },
      "text/plain": [
       "Epoch 14/100:   0%|          | 0/4811 [00:00<?, ?it/s]"
      ]
     },
     "metadata": {},
     "output_type": "display_data"
    },
    {
     "name": "stdout",
     "output_type": "stream",
     "text": [
      "\u001b[2m2023-10-22 15:50:39\u001b[0m [\u001b[32m\u001b[1minfo     \u001b[0m] \u001b[1mexp_5_dynamics_reacher_default_20231022151920: epoch=14 step=67354\u001b[0m \u001b[36mepoch\u001b[0m=\u001b[35m14\u001b[0m \u001b[36mmetrics\u001b[0m=\u001b[35m{'time_sample_batch': 0.000248783072323146, 'time_algorithm_update': 0.01693755107024087, 'loss': -113.35033276878457, 'time_step': 0.017256759452463015, 'observation_error': 0.7058179457113681, 'reward_error': 0.00035934671034781613, 'variance': 0.4352375961956359}\u001b[0m \u001b[36mstep\u001b[0m=\u001b[35m67354\u001b[0m\n",
      "\u001b[2m2023-10-22 15:50:39\u001b[0m [\u001b[32m\u001b[1minfo     \u001b[0m] \u001b[1mModel parameters are saved to d3rlpy_logs/exp_5_dynamics_reacher_default_20231022151920/model_67354.pt\u001b[0m\n"
     ]
    },
    {
     "data": {
      "application/vnd.jupyter.widget-view+json": {
       "model_id": "5b253ad13e1c4bc18739026641802f83",
       "version_major": 2,
       "version_minor": 0
      },
      "text/plain": [
       "Epoch 15/100:   0%|          | 0/4811 [00:00<?, ?it/s]"
      ]
     },
     "metadata": {},
     "output_type": "display_data"
    },
    {
     "name": "stdout",
     "output_type": "stream",
     "text": [
      "\u001b[2m2023-10-22 15:52:55\u001b[0m [\u001b[32m\u001b[1minfo     \u001b[0m] \u001b[1mexp_5_dynamics_reacher_default_20231022151920: epoch=15 step=72165\u001b[0m \u001b[36mepoch\u001b[0m=\u001b[35m15\u001b[0m \u001b[36mmetrics\u001b[0m=\u001b[35m{'time_sample_batch': 0.00025439554776255345, 'time_algorithm_update': 0.01723865812520083, 'loss': -115.14107662732971, 'time_step': 0.017566006239623642, 'observation_error': 0.6754279546382019, 'reward_error': 0.00033157068552247743, 'variance': 0.4158771004320754}\u001b[0m \u001b[36mstep\u001b[0m=\u001b[35m72165\u001b[0m\n",
      "\u001b[2m2023-10-22 15:52:55\u001b[0m [\u001b[32m\u001b[1minfo     \u001b[0m] \u001b[1mModel parameters are saved to d3rlpy_logs/exp_5_dynamics_reacher_default_20231022151920/model_72165.pt\u001b[0m\n"
     ]
    },
    {
     "data": {
      "application/vnd.jupyter.widget-view+json": {
       "model_id": "c45a2de2add443108807842d50906b59",
       "version_major": 2,
       "version_minor": 0
      },
      "text/plain": [
       "Epoch 16/100:   0%|          | 0/4811 [00:00<?, ?it/s]"
      ]
     },
     "metadata": {},
     "output_type": "display_data"
    },
    {
     "name": "stdout",
     "output_type": "stream",
     "text": [
      "\u001b[2m2023-10-22 15:55:08\u001b[0m [\u001b[32m\u001b[1minfo     \u001b[0m] \u001b[1mexp_5_dynamics_reacher_default_20231022151920: epoch=16 step=76976\u001b[0m \u001b[36mepoch\u001b[0m=\u001b[35m16\u001b[0m \u001b[36mmetrics\u001b[0m=\u001b[35m{'time_sample_batch': 0.000251940594619437, 'time_algorithm_update': 0.01698834929290816, 'loss': -116.90799374561551, 'time_step': 0.017313009635546283, 'observation_error': 0.6606775274683219, 'reward_error': 0.000292850263033316, 'variance': 0.4452519533893217}\u001b[0m \u001b[36mstep\u001b[0m=\u001b[35m76976\u001b[0m\n",
      "\u001b[2m2023-10-22 15:55:08\u001b[0m [\u001b[32m\u001b[1minfo     \u001b[0m] \u001b[1mModel parameters are saved to d3rlpy_logs/exp_5_dynamics_reacher_default_20231022151920/model_76976.pt\u001b[0m\n"
     ]
    },
    {
     "data": {
      "application/vnd.jupyter.widget-view+json": {
       "model_id": "32b0de19d01547ae9870a03fead92df0",
       "version_major": 2,
       "version_minor": 0
      },
      "text/plain": [
       "Epoch 17/100:   0%|          | 0/4811 [00:00<?, ?it/s]"
      ]
     },
     "metadata": {},
     "output_type": "display_data"
    },
    {
     "name": "stdout",
     "output_type": "stream",
     "text": [
      "\u001b[2m2023-10-22 15:57:21\u001b[0m [\u001b[32m\u001b[1minfo     \u001b[0m] \u001b[1mexp_5_dynamics_reacher_default_20231022151920: epoch=17 step=81787\u001b[0m \u001b[36mepoch\u001b[0m=\u001b[35m17\u001b[0m \u001b[36mmetrics\u001b[0m=\u001b[35m{'time_sample_batch': 0.0002567983174170409, 'time_algorithm_update': 0.016947439816557577, 'loss': -118.44003230681466, 'time_step': 0.017277456524217978, 'observation_error': 0.6262707373168415, 'reward_error': 0.00028314741842894864, 'variance': 0.4121690009990564}\u001b[0m \u001b[36mstep\u001b[0m=\u001b[35m81787\u001b[0m\n",
      "\u001b[2m2023-10-22 15:57:22\u001b[0m [\u001b[32m\u001b[1minfo     \u001b[0m] \u001b[1mModel parameters are saved to d3rlpy_logs/exp_5_dynamics_reacher_default_20231022151920/model_81787.pt\u001b[0m\n"
     ]
    },
    {
     "data": {
      "application/vnd.jupyter.widget-view+json": {
       "model_id": "0d730d0aaa5d461399c771b04faf8f89",
       "version_major": 2,
       "version_minor": 0
      },
      "text/plain": [
       "Epoch 18/100:   0%|          | 0/4811 [00:00<?, ?it/s]"
      ]
     },
     "metadata": {},
     "output_type": "display_data"
    },
    {
     "name": "stdout",
     "output_type": "stream",
     "text": [
      "\u001b[2m2023-10-22 15:59:36\u001b[0m [\u001b[32m\u001b[1minfo     \u001b[0m] \u001b[1mexp_5_dynamics_reacher_default_20231022151920: epoch=18 step=86598\u001b[0m \u001b[36mepoch\u001b[0m=\u001b[35m18\u001b[0m \u001b[36mmetrics\u001b[0m=\u001b[35m{'time_sample_batch': 0.00025323784740371086, 'time_algorithm_update': 0.016998068157934247, 'loss': -119.97101275139354, 'time_step': 0.01732405132475278, 'observation_error': 0.5870765621078073, 'reward_error': 0.00025892511528403283, 'variance': 0.4152754502059863}\u001b[0m \u001b[36mstep\u001b[0m=\u001b[35m86598\u001b[0m\n",
      "\u001b[2m2023-10-22 15:59:36\u001b[0m [\u001b[32m\u001b[1minfo     \u001b[0m] \u001b[1mModel parameters are saved to d3rlpy_logs/exp_5_dynamics_reacher_default_20231022151920/model_86598.pt\u001b[0m\n"
     ]
    },
    {
     "data": {
      "application/vnd.jupyter.widget-view+json": {
       "model_id": "ef9bc2a635344903a3bbdc8db6b5ade4",
       "version_major": 2,
       "version_minor": 0
      },
      "text/plain": [
       "Epoch 19/100:   0%|          | 0/4811 [00:00<?, ?it/s]"
      ]
     },
     "metadata": {},
     "output_type": "display_data"
    },
    {
     "name": "stdout",
     "output_type": "stream",
     "text": [
      "\u001b[2m2023-10-22 16:01:51\u001b[0m [\u001b[32m\u001b[1minfo     \u001b[0m] \u001b[1mexp_5_dynamics_reacher_default_20231022151920: epoch=19 step=91409\u001b[0m \u001b[36mepoch\u001b[0m=\u001b[35m19\u001b[0m \u001b[36mmetrics\u001b[0m=\u001b[35m{'time_sample_batch': 0.0002521592399678045, 'time_algorithm_update': 0.017106801153740796, 'loss': -121.69712969816244, 'time_step': 0.017432306492261743, 'observation_error': 0.5595760787709312, 'reward_error': 0.00023689184995221907, 'variance': 0.39160589194592216}\u001b[0m \u001b[36mstep\u001b[0m=\u001b[35m91409\u001b[0m\n",
      "\u001b[2m2023-10-22 16:01:51\u001b[0m [\u001b[32m\u001b[1minfo     \u001b[0m] \u001b[1mModel parameters are saved to d3rlpy_logs/exp_5_dynamics_reacher_default_20231022151920/model_91409.pt\u001b[0m\n"
     ]
    },
    {
     "data": {
      "application/vnd.jupyter.widget-view+json": {
       "model_id": "468caa6840684e45a626c77ba175eb93",
       "version_major": 2,
       "version_minor": 0
      },
      "text/plain": [
       "Epoch 20/100:   0%|          | 0/4811 [00:00<?, ?it/s]"
      ]
     },
     "metadata": {},
     "output_type": "display_data"
    },
    {
     "name": "stdout",
     "output_type": "stream",
     "text": [
      "\u001b[2m2023-10-22 16:04:06\u001b[0m [\u001b[32m\u001b[1minfo     \u001b[0m] \u001b[1mexp_5_dynamics_reacher_default_20231022151920: epoch=20 step=96220\u001b[0m \u001b[36mepoch\u001b[0m=\u001b[35m20\u001b[0m \u001b[36mmetrics\u001b[0m=\u001b[35m{'time_sample_batch': 0.0002530067632560595, 'time_algorithm_update': 0.017047300182145095, 'loss': -123.41263026870033, 'time_step': 0.01737338682391544, 'observation_error': 0.5399458931360495, 'reward_error': 0.00023285985042903503, 'variance': 0.3824982010865216}\u001b[0m \u001b[36mstep\u001b[0m=\u001b[35m96220\u001b[0m\n",
      "\u001b[2m2023-10-22 16:04:06\u001b[0m [\u001b[32m\u001b[1minfo     \u001b[0m] \u001b[1mModel parameters are saved to d3rlpy_logs/exp_5_dynamics_reacher_default_20231022151920/model_96220.pt\u001b[0m\n"
     ]
    },
    {
     "data": {
      "application/vnd.jupyter.widget-view+json": {
       "model_id": "32d7cc3002c440d1928c71d1f3e1a818",
       "version_major": 2,
       "version_minor": 0
      },
      "text/plain": [
       "Epoch 21/100:   0%|          | 0/4811 [00:00<?, ?it/s]"
      ]
     },
     "metadata": {},
     "output_type": "display_data"
    },
    {
     "name": "stdout",
     "output_type": "stream",
     "text": [
      "\u001b[2m2023-10-22 16:06:20\u001b[0m [\u001b[32m\u001b[1minfo     \u001b[0m] \u001b[1mexp_5_dynamics_reacher_default_20231022151920: epoch=21 step=101031\u001b[0m \u001b[36mepoch\u001b[0m=\u001b[35m21\u001b[0m \u001b[36mmetrics\u001b[0m=\u001b[35m{'time_sample_batch': 0.0002497510686036679, 'time_algorithm_update': 0.01700611541683028, 'loss': -125.21593969959996, 'time_step': 0.017327838071887744, 'observation_error': 0.5102047047192588, 'reward_error': 0.00021218904664475351, 'variance': 0.36133963765877264}\u001b[0m \u001b[36mstep\u001b[0m=\u001b[35m101031\u001b[0m\n",
      "\u001b[2m2023-10-22 16:06:20\u001b[0m [\u001b[32m\u001b[1minfo     \u001b[0m] \u001b[1mModel parameters are saved to d3rlpy_logs/exp_5_dynamics_reacher_default_20231022151920/model_101031.pt\u001b[0m\n"
     ]
    },
    {
     "data": {
      "application/vnd.jupyter.widget-view+json": {
       "model_id": "eb90d1fcf92b48cda9234a0f54fc06a1",
       "version_major": 2,
       "version_minor": 0
      },
      "text/plain": [
       "Epoch 22/100:   0%|          | 0/4811 [00:00<?, ?it/s]"
      ]
     },
     "metadata": {},
     "output_type": "display_data"
    },
    {
     "name": "stdout",
     "output_type": "stream",
     "text": [
      "\u001b[2m2023-10-22 16:08:34\u001b[0m [\u001b[32m\u001b[1minfo     \u001b[0m] \u001b[1mexp_5_dynamics_reacher_default_20231022151920: epoch=22 step=105842\u001b[0m \u001b[36mepoch\u001b[0m=\u001b[35m22\u001b[0m \u001b[36mmetrics\u001b[0m=\u001b[35m{'time_sample_batch': 0.0002488187037840427, 'time_algorithm_update': 0.01703318140160341, 'loss': -126.78359365453345, 'time_step': 0.017354525639643615, 'observation_error': 0.47886161896043256, 'reward_error': 0.00020581532948285754, 'variance': 0.3424213734812943}\u001b[0m \u001b[36mstep\u001b[0m=\u001b[35m105842\u001b[0m\n",
      "\u001b[2m2023-10-22 16:08:34\u001b[0m [\u001b[32m\u001b[1minfo     \u001b[0m] \u001b[1mModel parameters are saved to d3rlpy_logs/exp_5_dynamics_reacher_default_20231022151920/model_105842.pt\u001b[0m\n"
     ]
    },
    {
     "data": {
      "application/vnd.jupyter.widget-view+json": {
       "model_id": "10265cf7a1644a8eba3590a1eb425dcb",
       "version_major": 2,
       "version_minor": 0
      },
      "text/plain": [
       "Epoch 23/100:   0%|          | 0/4811 [00:00<?, ?it/s]"
      ]
     },
     "metadata": {},
     "output_type": "display_data"
    },
    {
     "name": "stdout",
     "output_type": "stream",
     "text": [
      "\u001b[2m2023-10-22 16:10:47\u001b[0m [\u001b[32m\u001b[1minfo     \u001b[0m] \u001b[1mexp_5_dynamics_reacher_default_20231022151920: epoch=23 step=110653\u001b[0m \u001b[36mepoch\u001b[0m=\u001b[35m23\u001b[0m \u001b[36mmetrics\u001b[0m=\u001b[35m{'time_sample_batch': 0.0002532145060711902, 'time_algorithm_update': 0.016912984243427437, 'loss': -128.30132129885655, 'time_step': 0.017239329919476094, 'observation_error': 0.4361456210526189, 'reward_error': 0.00018222405103561067, 'variance': 0.309592073871037}\u001b[0m \u001b[36mstep\u001b[0m=\u001b[35m110653\u001b[0m\n",
      "\u001b[2m2023-10-22 16:10:47\u001b[0m [\u001b[32m\u001b[1minfo     \u001b[0m] \u001b[1mModel parameters are saved to d3rlpy_logs/exp_5_dynamics_reacher_default_20231022151920/model_110653.pt\u001b[0m\n"
     ]
    },
    {
     "data": {
      "application/vnd.jupyter.widget-view+json": {
       "model_id": "5f5aefd6ef374064bb49aafa2ee08440",
       "version_major": 2,
       "version_minor": 0
      },
      "text/plain": [
       "Epoch 24/100:   0%|          | 0/4811 [00:00<?, ?it/s]"
      ]
     },
     "metadata": {},
     "output_type": "display_data"
    },
    {
     "name": "stdout",
     "output_type": "stream",
     "text": [
      "\u001b[2m2023-10-22 16:13:02\u001b[0m [\u001b[32m\u001b[1minfo     \u001b[0m] \u001b[1mexp_5_dynamics_reacher_default_20231022151920: epoch=24 step=115464\u001b[0m \u001b[36mepoch\u001b[0m=\u001b[35m24\u001b[0m \u001b[36mmetrics\u001b[0m=\u001b[35m{'time_sample_batch': 0.00025160330988666514, 'time_algorithm_update': 0.017064652703601788, 'loss': -129.987264697801, 'time_step': 0.017389152184317698, 'observation_error': 0.42333786658975703, 'reward_error': 0.00017781892095908506, 'variance': 0.312055033064548}\u001b[0m \u001b[36mstep\u001b[0m=\u001b[35m115464\u001b[0m\n",
      "\u001b[2m2023-10-22 16:13:02\u001b[0m [\u001b[32m\u001b[1minfo     \u001b[0m] \u001b[1mModel parameters are saved to d3rlpy_logs/exp_5_dynamics_reacher_default_20231022151920/model_115464.pt\u001b[0m\n"
     ]
    },
    {
     "data": {
      "application/vnd.jupyter.widget-view+json": {
       "model_id": "0b147c48a7d7450bba3ab0f99016dfee",
       "version_major": 2,
       "version_minor": 0
      },
      "text/plain": [
       "Epoch 25/100:   0%|          | 0/4811 [00:00<?, ?it/s]"
      ]
     },
     "metadata": {},
     "output_type": "display_data"
    },
    {
     "name": "stdout",
     "output_type": "stream",
     "text": [
      "\u001b[2m2023-10-22 16:15:16\u001b[0m [\u001b[32m\u001b[1minfo     \u001b[0m] \u001b[1mexp_5_dynamics_reacher_default_20231022151920: epoch=25 step=120275\u001b[0m \u001b[36mepoch\u001b[0m=\u001b[35m25\u001b[0m \u001b[36mmetrics\u001b[0m=\u001b[35m{'time_sample_batch': 0.0002495616618671627, 'time_algorithm_update': 0.017033443012844127, 'loss': -131.38595478927687, 'time_step': 0.01735632673813434, 'observation_error': 0.3987298453846969, 'reward_error': 0.00017788390820211173, 'variance': 0.30209059376391173}\u001b[0m \u001b[36mstep\u001b[0m=\u001b[35m120275\u001b[0m\n",
      "\u001b[2m2023-10-22 16:15:16\u001b[0m [\u001b[32m\u001b[1minfo     \u001b[0m] \u001b[1mModel parameters are saved to d3rlpy_logs/exp_5_dynamics_reacher_default_20231022151920/model_120275.pt\u001b[0m\n"
     ]
    },
    {
     "data": {
      "application/vnd.jupyter.widget-view+json": {
       "model_id": "b3d7b0fcbea6426ea925712f7694bada",
       "version_major": 2,
       "version_minor": 0
      },
      "text/plain": [
       "Epoch 26/100:   0%|          | 0/4811 [00:00<?, ?it/s]"
      ]
     },
     "metadata": {},
     "output_type": "display_data"
    },
    {
     "name": "stdout",
     "output_type": "stream",
     "text": [
      "\u001b[2m2023-10-22 16:17:30\u001b[0m [\u001b[32m\u001b[1minfo     \u001b[0m] \u001b[1mexp_5_dynamics_reacher_default_20231022151920: epoch=26 step=125086\u001b[0m \u001b[36mepoch\u001b[0m=\u001b[35m26\u001b[0m \u001b[36mmetrics\u001b[0m=\u001b[35m{'time_sample_batch': 0.0002572157853260726, 'time_algorithm_update': 0.017082645104645543, 'loss': -132.9944677565009, 'time_step': 0.01741288070543916, 'observation_error': 0.35900308608610815, 'reward_error': 0.00016801245615189538, 'variance': 0.2904305333179568}\u001b[0m \u001b[36mstep\u001b[0m=\u001b[35m125086\u001b[0m\n",
      "\u001b[2m2023-10-22 16:17:30\u001b[0m [\u001b[32m\u001b[1minfo     \u001b[0m] \u001b[1mModel parameters are saved to d3rlpy_logs/exp_5_dynamics_reacher_default_20231022151920/model_125086.pt\u001b[0m\n"
     ]
    },
    {
     "data": {
      "application/vnd.jupyter.widget-view+json": {
       "model_id": "0904285f71124a409e6b581cadc68dfb",
       "version_major": 2,
       "version_minor": 0
      },
      "text/plain": [
       "Epoch 27/100:   0%|          | 0/4811 [00:00<?, ?it/s]"
      ]
     },
     "metadata": {},
     "output_type": "display_data"
    },
    {
     "name": "stdout",
     "output_type": "stream",
     "text": [
      "\u001b[2m2023-10-22 16:19:45\u001b[0m [\u001b[32m\u001b[1minfo     \u001b[0m] \u001b[1mexp_5_dynamics_reacher_default_20231022151920: epoch=27 step=129897\u001b[0m \u001b[36mepoch\u001b[0m=\u001b[35m27\u001b[0m \u001b[36mmetrics\u001b[0m=\u001b[35m{'time_sample_batch': 0.00025311603637327403, 'time_algorithm_update': 0.016968764675999105, 'loss': -134.44969611603017, 'time_step': 0.01729475968693329, 'observation_error': 0.3130940516434062, 'reward_error': 0.00015422344857107714, 'variance': 0.2752228619059098}\u001b[0m \u001b[36mstep\u001b[0m=\u001b[35m129897\u001b[0m\n",
      "\u001b[2m2023-10-22 16:19:45\u001b[0m [\u001b[32m\u001b[1minfo     \u001b[0m] \u001b[1mModel parameters are saved to d3rlpy_logs/exp_5_dynamics_reacher_default_20231022151920/model_129897.pt\u001b[0m\n"
     ]
    },
    {
     "data": {
      "application/vnd.jupyter.widget-view+json": {
       "model_id": "6012ccf53ccc4bef9f6372ec0fc2d372",
       "version_major": 2,
       "version_minor": 0
      },
      "text/plain": [
       "Epoch 28/100:   0%|          | 0/4811 [00:00<?, ?it/s]"
      ]
     },
     "metadata": {},
     "output_type": "display_data"
    },
    {
     "name": "stdout",
     "output_type": "stream",
     "text": [
      "\u001b[2m2023-10-22 16:21:59\u001b[0m [\u001b[32m\u001b[1minfo     \u001b[0m] \u001b[1mexp_5_dynamics_reacher_default_20231022151920: epoch=28 step=134708\u001b[0m \u001b[36mepoch\u001b[0m=\u001b[35m28\u001b[0m \u001b[36mmetrics\u001b[0m=\u001b[35m{'time_sample_batch': 0.00025254707280921975, 'time_algorithm_update': 0.017001926812231602, 'loss': -136.1191474955782, 'time_step': 0.017327320647571715, 'observation_error': 0.2837423632142897, 'reward_error': 0.00016128577063974855, 'variance': 0.26005930368411495}\u001b[0m \u001b[36mstep\u001b[0m=\u001b[35m134708\u001b[0m\n",
      "\u001b[2m2023-10-22 16:21:59\u001b[0m [\u001b[32m\u001b[1minfo     \u001b[0m] \u001b[1mModel parameters are saved to d3rlpy_logs/exp_5_dynamics_reacher_default_20231022151920/model_134708.pt\u001b[0m\n"
     ]
    },
    {
     "data": {
      "application/vnd.jupyter.widget-view+json": {
       "model_id": "d5a8532e7c3c44ed9d68930b8e97b617",
       "version_major": 2,
       "version_minor": 0
      },
      "text/plain": [
       "Epoch 29/100:   0%|          | 0/4811 [00:00<?, ?it/s]"
      ]
     },
     "metadata": {},
     "output_type": "display_data"
    },
    {
     "name": "stdout",
     "output_type": "stream",
     "text": [
      "\u001b[2m2023-10-22 16:24:12\u001b[0m [\u001b[32m\u001b[1minfo     \u001b[0m] \u001b[1mexp_5_dynamics_reacher_default_20231022151920: epoch=29 step=139519\u001b[0m \u001b[36mepoch\u001b[0m=\u001b[35m29\u001b[0m \u001b[36mmetrics\u001b[0m=\u001b[35m{'time_sample_batch': 0.00025445541258141744, 'time_algorithm_update': 0.016952311910876264, 'loss': -137.56204029686657, 'time_step': 0.017280209265189368, 'observation_error': 0.26904146316486754, 'reward_error': 0.0001528598696234666, 'variance': 0.2543767339974423}\u001b[0m \u001b[36mstep\u001b[0m=\u001b[35m139519\u001b[0m\n",
      "\u001b[2m2023-10-22 16:24:12\u001b[0m [\u001b[32m\u001b[1minfo     \u001b[0m] \u001b[1mModel parameters are saved to d3rlpy_logs/exp_5_dynamics_reacher_default_20231022151920/model_139519.pt\u001b[0m\n"
     ]
    },
    {
     "data": {
      "application/vnd.jupyter.widget-view+json": {
       "model_id": "fb63e07185bd472e9ed3db9fb9f1c388",
       "version_major": 2,
       "version_minor": 0
      },
      "text/plain": [
       "Epoch 30/100:   0%|          | 0/4811 [00:00<?, ?it/s]"
      ]
     },
     "metadata": {},
     "output_type": "display_data"
    },
    {
     "name": "stdout",
     "output_type": "stream",
     "text": [
      "\u001b[2m2023-10-22 16:26:27\u001b[0m [\u001b[32m\u001b[1minfo     \u001b[0m] \u001b[1mexp_5_dynamics_reacher_default_20231022151920: epoch=30 step=144330\u001b[0m \u001b[36mepoch\u001b[0m=\u001b[35m30\u001b[0m \u001b[36mmetrics\u001b[0m=\u001b[35m{'time_sample_batch': 0.000254661222674747, 'time_algorithm_update': 0.017093047954961332, 'loss': -138.78737823226254, 'time_step': 0.01742106266017764, 'observation_error': 0.2372760575460989, 'reward_error': 0.00014011162376503157, 'variance': 0.23533267592586748}\u001b[0m \u001b[36mstep\u001b[0m=\u001b[35m144330\u001b[0m\n",
      "\u001b[2m2023-10-22 16:26:27\u001b[0m [\u001b[32m\u001b[1minfo     \u001b[0m] \u001b[1mModel parameters are saved to d3rlpy_logs/exp_5_dynamics_reacher_default_20231022151920/model_144330.pt\u001b[0m\n"
     ]
    },
    {
     "data": {
      "application/vnd.jupyter.widget-view+json": {
       "model_id": "559a85d317904456b946632dfa58bb21",
       "version_major": 2,
       "version_minor": 0
      },
      "text/plain": [
       "Epoch 31/100:   0%|          | 0/4811 [00:00<?, ?it/s]"
      ]
     },
     "metadata": {},
     "output_type": "display_data"
    },
    {
     "name": "stdout",
     "output_type": "stream",
     "text": [
      "\u001b[2m2023-10-22 16:28:42\u001b[0m [\u001b[32m\u001b[1minfo     \u001b[0m] \u001b[1mexp_5_dynamics_reacher_default_20231022151920: epoch=31 step=149141\u001b[0m \u001b[36mepoch\u001b[0m=\u001b[35m31\u001b[0m \u001b[36mmetrics\u001b[0m=\u001b[35m{'time_sample_batch': 0.0002512219690082227, 'time_algorithm_update': 0.01707409181953641, 'loss': -140.29942313055318, 'time_step': 0.017398445900104517, 'observation_error': 0.21390898396748453, 'reward_error': 0.00013639505400214877, 'variance': 0.213027907034265}\u001b[0m \u001b[36mstep\u001b[0m=\u001b[35m149141\u001b[0m\n",
      "\u001b[2m2023-10-22 16:28:42\u001b[0m [\u001b[32m\u001b[1minfo     \u001b[0m] \u001b[1mModel parameters are saved to d3rlpy_logs/exp_5_dynamics_reacher_default_20231022151920/model_149141.pt\u001b[0m\n"
     ]
    },
    {
     "data": {
      "application/vnd.jupyter.widget-view+json": {
       "model_id": "2151b48dd5c548819100908310a09ee8",
       "version_major": 2,
       "version_minor": 0
      },
      "text/plain": [
       "Epoch 32/100:   0%|          | 0/4811 [00:00<?, ?it/s]"
      ]
     },
     "metadata": {},
     "output_type": "display_data"
    },
    {
     "name": "stdout",
     "output_type": "stream",
     "text": [
      "\u001b[2m2023-10-22 16:30:56\u001b[0m [\u001b[32m\u001b[1minfo     \u001b[0m] \u001b[1mexp_5_dynamics_reacher_default_20231022151920: epoch=32 step=153952\u001b[0m \u001b[36mepoch\u001b[0m=\u001b[35m32\u001b[0m \u001b[36mmetrics\u001b[0m=\u001b[35m{'time_sample_batch': 0.0002506833838663238, 'time_algorithm_update': 0.016950656113419407, 'loss': -141.96356444278544, 'time_step': 0.017274420862509094, 'observation_error': 0.18466638835196597, 'reward_error': 0.00011964906536130937, 'variance': 0.1882755773420838}\u001b[0m \u001b[36mstep\u001b[0m=\u001b[35m153952\u001b[0m\n",
      "\u001b[2m2023-10-22 16:30:56\u001b[0m [\u001b[32m\u001b[1minfo     \u001b[0m] \u001b[1mModel parameters are saved to d3rlpy_logs/exp_5_dynamics_reacher_default_20231022151920/model_153952.pt\u001b[0m\n"
     ]
    },
    {
     "data": {
      "application/vnd.jupyter.widget-view+json": {
       "model_id": "51f995cb190e4869b7ebb2de3206e1e6",
       "version_major": 2,
       "version_minor": 0
      },
      "text/plain": [
       "Epoch 33/100:   0%|          | 0/4811 [00:00<?, ?it/s]"
      ]
     },
     "metadata": {},
     "output_type": "display_data"
    },
    {
     "name": "stdout",
     "output_type": "stream",
     "text": [
      "\u001b[2m2023-10-22 16:33:10\u001b[0m [\u001b[32m\u001b[1minfo     \u001b[0m] \u001b[1mexp_5_dynamics_reacher_default_20231022151920: epoch=33 step=158763\u001b[0m \u001b[36mepoch\u001b[0m=\u001b[35m33\u001b[0m \u001b[36mmetrics\u001b[0m=\u001b[35m{'time_sample_batch': 0.00025107775822768116, 'time_algorithm_update': 0.0169373100251424, 'loss': -143.22051161942673, 'time_step': 0.017260875803000515, 'observation_error': 0.16794246747219485, 'reward_error': 0.00011866041244275096, 'variance': 0.17799305485181752}\u001b[0m \u001b[36mstep\u001b[0m=\u001b[35m158763\u001b[0m\n",
      "\u001b[2m2023-10-22 16:33:10\u001b[0m [\u001b[32m\u001b[1minfo     \u001b[0m] \u001b[1mModel parameters are saved to d3rlpy_logs/exp_5_dynamics_reacher_default_20231022151920/model_158763.pt\u001b[0m\n"
     ]
    },
    {
     "data": {
      "application/vnd.jupyter.widget-view+json": {
       "model_id": "c70ce13ceab847b18861179dc04f0bc6",
       "version_major": 2,
       "version_minor": 0
      },
      "text/plain": [
       "Epoch 34/100:   0%|          | 0/4811 [00:00<?, ?it/s]"
      ]
     },
     "metadata": {},
     "output_type": "display_data"
    },
    {
     "name": "stdout",
     "output_type": "stream",
     "text": [
      "\u001b[2m2023-10-22 16:35:23\u001b[0m [\u001b[32m\u001b[1minfo     \u001b[0m] \u001b[1mexp_5_dynamics_reacher_default_20231022151920: epoch=34 step=163574\u001b[0m \u001b[36mepoch\u001b[0m=\u001b[35m34\u001b[0m \u001b[36mmetrics\u001b[0m=\u001b[35m{'time_sample_batch': 0.0002497543393636389, 'time_algorithm_update': 0.016959663191696037, 'loss': -144.3153557849758, 'time_step': 0.01728162163881323, 'observation_error': 0.15786751610304567, 'reward_error': 0.00010445587454445594, 'variance': 0.15113380705432325}\u001b[0m \u001b[36mstep\u001b[0m=\u001b[35m163574\u001b[0m\n",
      "\u001b[2m2023-10-22 16:35:23\u001b[0m [\u001b[32m\u001b[1minfo     \u001b[0m] \u001b[1mModel parameters are saved to d3rlpy_logs/exp_5_dynamics_reacher_default_20231022151920/model_163574.pt\u001b[0m\n"
     ]
    },
    {
     "data": {
      "application/vnd.jupyter.widget-view+json": {
       "model_id": "5edd241ab3b54054a1747e5f1f45ccd0",
       "version_major": 2,
       "version_minor": 0
      },
      "text/plain": [
       "Epoch 35/100:   0%|          | 0/4811 [00:00<?, ?it/s]"
      ]
     },
     "metadata": {},
     "output_type": "display_data"
    },
    {
     "name": "stdout",
     "output_type": "stream",
     "text": [
      "\u001b[2m2023-10-22 16:37:39\u001b[0m [\u001b[32m\u001b[1minfo     \u001b[0m] \u001b[1mexp_5_dynamics_reacher_default_20231022151920: epoch=35 step=168385\u001b[0m \u001b[36mepoch\u001b[0m=\u001b[35m35\u001b[0m \u001b[36mmetrics\u001b[0m=\u001b[35m{'time_sample_batch': 0.000252741683027497, 'time_algorithm_update': 0.017126331158869728, 'loss': -145.50613952332242, 'time_step': 0.017453777346534704, 'observation_error': 0.15523171172154915, 'reward_error': 9.550661513683977e-05, 'variance': 0.14832350332926236}\u001b[0m \u001b[36mstep\u001b[0m=\u001b[35m168385\u001b[0m\n",
      "\u001b[2m2023-10-22 16:37:39\u001b[0m [\u001b[32m\u001b[1minfo     \u001b[0m] \u001b[1mModel parameters are saved to d3rlpy_logs/exp_5_dynamics_reacher_default_20231022151920/model_168385.pt\u001b[0m\n"
     ]
    },
    {
     "data": {
      "application/vnd.jupyter.widget-view+json": {
       "model_id": "dac57dc2bed04a4db550d6bff91ebdcb",
       "version_major": 2,
       "version_minor": 0
      },
      "text/plain": [
       "Epoch 36/100:   0%|          | 0/4811 [00:00<?, ?it/s]"
      ]
     },
     "metadata": {},
     "output_type": "display_data"
    },
    {
     "name": "stdout",
     "output_type": "stream",
     "text": [
      "\u001b[2m2023-10-22 16:39:53\u001b[0m [\u001b[32m\u001b[1minfo     \u001b[0m] \u001b[1mexp_5_dynamics_reacher_default_20231022151920: epoch=36 step=173196\u001b[0m \u001b[36mepoch\u001b[0m=\u001b[35m36\u001b[0m \u001b[36mmetrics\u001b[0m=\u001b[35m{'time_sample_batch': 0.00025332263937811176, 'time_algorithm_update': 0.017042829747062244, 'loss': -146.6779289063236, 'time_step': 0.0173695597374075, 'observation_error': 0.14921937934198576, 'reward_error': 9.613414745199247e-05, 'variance': 0.13743101368376692}\u001b[0m \u001b[36mstep\u001b[0m=\u001b[35m173196\u001b[0m\n",
      "\u001b[2m2023-10-22 16:39:53\u001b[0m [\u001b[32m\u001b[1minfo     \u001b[0m] \u001b[1mModel parameters are saved to d3rlpy_logs/exp_5_dynamics_reacher_default_20231022151920/model_173196.pt\u001b[0m\n"
     ]
    },
    {
     "data": {
      "application/vnd.jupyter.widget-view+json": {
       "model_id": "44053505c0404fe5bfbc02352677b535",
       "version_major": 2,
       "version_minor": 0
      },
      "text/plain": [
       "Epoch 37/100:   0%|          | 0/4811 [00:00<?, ?it/s]"
      ]
     },
     "metadata": {},
     "output_type": "display_data"
    },
    {
     "name": "stdout",
     "output_type": "stream",
     "text": [
      "\u001b[2m2023-10-22 16:42:08\u001b[0m [\u001b[32m\u001b[1minfo     \u001b[0m] \u001b[1mexp_5_dynamics_reacher_default_20231022151920: epoch=37 step=178007\u001b[0m \u001b[36mepoch\u001b[0m=\u001b[35m37\u001b[0m \u001b[36mmetrics\u001b[0m=\u001b[35m{'time_sample_batch': 0.00025467202609404533, 'time_algorithm_update': 0.017149334661530943, 'loss': -147.82815737140524, 'time_step': 0.01747833832562577, 'observation_error': 0.14352587105031334, 'reward_error': 9.599174817296561e-05, 'variance': 0.11980790078640727}\u001b[0m \u001b[36mstep\u001b[0m=\u001b[35m178007\u001b[0m\n",
      "\u001b[2m2023-10-22 16:42:09\u001b[0m [\u001b[32m\u001b[1minfo     \u001b[0m] \u001b[1mModel parameters are saved to d3rlpy_logs/exp_5_dynamics_reacher_default_20231022151920/model_178007.pt\u001b[0m\n"
     ]
    },
    {
     "data": {
      "application/vnd.jupyter.widget-view+json": {
       "model_id": "0d8176ec2bb841abb354f9ffa4595741",
       "version_major": 2,
       "version_minor": 0
      },
      "text/plain": [
       "Epoch 38/100:   0%|          | 0/4811 [00:00<?, ?it/s]"
      ]
     },
     "metadata": {},
     "output_type": "display_data"
    },
    {
     "name": "stdout",
     "output_type": "stream",
     "text": [
      "\u001b[2m2023-10-22 16:44:26\u001b[0m [\u001b[32m\u001b[1minfo     \u001b[0m] \u001b[1mexp_5_dynamics_reacher_default_20231022151920: epoch=38 step=182818\u001b[0m \u001b[36mepoch\u001b[0m=\u001b[35m38\u001b[0m \u001b[36mmetrics\u001b[0m=\u001b[35m{'time_sample_batch': 0.00025492323037121554, 'time_algorithm_update': 0.017040661084530534, 'loss': -148.85624984871248, 'time_step': 0.017368640604298668, 'observation_error': 0.1309027836001714, 'reward_error': 8.335977479882338e-05, 'variance': 0.10173675226175917}\u001b[0m \u001b[36mstep\u001b[0m=\u001b[35m182818\u001b[0m\n",
      "\u001b[2m2023-10-22 16:44:26\u001b[0m [\u001b[32m\u001b[1minfo     \u001b[0m] \u001b[1mModel parameters are saved to d3rlpy_logs/exp_5_dynamics_reacher_default_20231022151920/model_182818.pt\u001b[0m\n"
     ]
    },
    {
     "data": {
      "application/vnd.jupyter.widget-view+json": {
       "model_id": "7646f5e28e7940029cd13ecab778e7e9",
       "version_major": 2,
       "version_minor": 0
      },
      "text/plain": [
       "Epoch 39/100:   0%|          | 0/4811 [00:00<?, ?it/s]"
      ]
     },
     "metadata": {},
     "output_type": "display_data"
    },
    {
     "name": "stdout",
     "output_type": "stream",
     "text": [
      "\u001b[2m2023-10-22 16:46:39\u001b[0m [\u001b[32m\u001b[1minfo     \u001b[0m] \u001b[1mexp_5_dynamics_reacher_default_20231022151920: epoch=39 step=187629\u001b[0m \u001b[36mepoch\u001b[0m=\u001b[35m39\u001b[0m \u001b[36mmetrics\u001b[0m=\u001b[35m{'time_sample_batch': 0.00025347031914650143, 'time_algorithm_update': 0.017027171082814797, 'loss': -149.43516563164968, 'time_step': 0.01735409107458019, 'observation_error': 0.12298962776868778, 'reward_error': 7.760556113684389e-05, 'variance': 0.08582442906414536}\u001b[0m \u001b[36mstep\u001b[0m=\u001b[35m187629\u001b[0m\n",
      "\u001b[2m2023-10-22 16:46:39\u001b[0m [\u001b[32m\u001b[1minfo     \u001b[0m] \u001b[1mModel parameters are saved to d3rlpy_logs/exp_5_dynamics_reacher_default_20231022151920/model_187629.pt\u001b[0m\n"
     ]
    },
    {
     "data": {
      "application/vnd.jupyter.widget-view+json": {
       "model_id": "8a3c7b80da084725bd1590f338addd29",
       "version_major": 2,
       "version_minor": 0
      },
      "text/plain": [
       "Epoch 40/100:   0%|          | 0/4811 [00:00<?, ?it/s]"
      ]
     },
     "metadata": {},
     "output_type": "display_data"
    },
    {
     "name": "stdout",
     "output_type": "stream",
     "text": [
      "\u001b[2m2023-10-22 16:48:54\u001b[0m [\u001b[32m\u001b[1minfo     \u001b[0m] \u001b[1mexp_5_dynamics_reacher_default_20231022151920: epoch=40 step=192440\u001b[0m \u001b[36mepoch\u001b[0m=\u001b[35m40\u001b[0m \u001b[36mmetrics\u001b[0m=\u001b[35m{'time_sample_batch': 0.0002514080554277876, 'time_algorithm_update': 0.016988498558499564, 'loss': -150.39025170360526, 'time_step': 0.01731280238830084, 'observation_error': 0.12142669949215586, 'reward_error': 8.311738009535317e-05, 'variance': 0.07204176918141333}\u001b[0m \u001b[36mstep\u001b[0m=\u001b[35m192440\u001b[0m\n",
      "\u001b[2m2023-10-22 16:48:54\u001b[0m [\u001b[32m\u001b[1minfo     \u001b[0m] \u001b[1mModel parameters are saved to d3rlpy_logs/exp_5_dynamics_reacher_default_20231022151920/model_192440.pt\u001b[0m\n"
     ]
    },
    {
     "data": {
      "application/vnd.jupyter.widget-view+json": {
       "model_id": "d31101c91a264eb09ae76b4c67bbdc32",
       "version_major": 2,
       "version_minor": 0
      },
      "text/plain": [
       "Epoch 41/100:   0%|          | 0/4811 [00:00<?, ?it/s]"
      ]
     },
     "metadata": {},
     "output_type": "display_data"
    },
    {
     "name": "stdout",
     "output_type": "stream",
     "text": [
      "\u001b[2m2023-10-22 16:51:08\u001b[0m [\u001b[32m\u001b[1minfo     \u001b[0m] \u001b[1mexp_5_dynamics_reacher_default_20231022151920: epoch=41 step=197251\u001b[0m \u001b[36mepoch\u001b[0m=\u001b[35m41\u001b[0m \u001b[36mmetrics\u001b[0m=\u001b[35m{'time_sample_batch': 0.00025360144688715884, 'time_algorithm_update': 0.01693872561996926, 'loss': -151.41909140922056, 'time_step': 0.017265229878319546, 'observation_error': 0.11797704515841301, 'reward_error': 7.360027286551439e-05, 'variance': 0.07127287085048047}\u001b[0m \u001b[36mstep\u001b[0m=\u001b[35m197251\u001b[0m\n",
      "\u001b[2m2023-10-22 16:51:08\u001b[0m [\u001b[32m\u001b[1minfo     \u001b[0m] \u001b[1mModel parameters are saved to d3rlpy_logs/exp_5_dynamics_reacher_default_20231022151920/model_197251.pt\u001b[0m\n"
     ]
    },
    {
     "data": {
      "application/vnd.jupyter.widget-view+json": {
       "model_id": "6ff126b6f9b14279bebe6fe784ba3374",
       "version_major": 2,
       "version_minor": 0
      },
      "text/plain": [
       "Epoch 42/100:   0%|          | 0/4811 [00:00<?, ?it/s]"
      ]
     },
     "metadata": {},
     "output_type": "display_data"
    },
    {
     "name": "stdout",
     "output_type": "stream",
     "text": [
      "\u001b[2m2023-10-22 16:53:21\u001b[0m [\u001b[32m\u001b[1minfo     \u001b[0m] \u001b[1mexp_5_dynamics_reacher_default_20231022151920: epoch=42 step=202062\u001b[0m \u001b[36mepoch\u001b[0m=\u001b[35m42\u001b[0m \u001b[36mmetrics\u001b[0m=\u001b[35m{'time_sample_batch': 0.000254758106549647, 'time_algorithm_update': 0.01696608503155737, 'loss': -152.08452670268423, 'time_step': 0.017294026342902207, 'observation_error': 0.11469650116856353, 'reward_error': 6.187351078241385e-05, 'variance': 0.06861496463367164}\u001b[0m \u001b[36mstep\u001b[0m=\u001b[35m202062\u001b[0m\n",
      "\u001b[2m2023-10-22 16:53:21\u001b[0m [\u001b[32m\u001b[1minfo     \u001b[0m] \u001b[1mModel parameters are saved to d3rlpy_logs/exp_5_dynamics_reacher_default_20231022151920/model_202062.pt\u001b[0m\n"
     ]
    },
    {
     "data": {
      "application/vnd.jupyter.widget-view+json": {
       "model_id": "9ab8e51607d446a98cbd2fd6b6e31eb5",
       "version_major": 2,
       "version_minor": 0
      },
      "text/plain": [
       "Epoch 43/100:   0%|          | 0/4811 [00:00<?, ?it/s]"
      ]
     },
     "metadata": {},
     "output_type": "display_data"
    },
    {
     "name": "stdout",
     "output_type": "stream",
     "text": [
      "\u001b[2m2023-10-22 16:55:36\u001b[0m [\u001b[32m\u001b[1minfo     \u001b[0m] \u001b[1mexp_5_dynamics_reacher_default_20231022151920: epoch=43 step=206873\u001b[0m \u001b[36mepoch\u001b[0m=\u001b[35m43\u001b[0m \u001b[36mmetrics\u001b[0m=\u001b[35m{'time_sample_batch': 0.0002513147892116435, 'time_algorithm_update': 0.016980113023731373, 'loss': -152.52598939053954, 'time_step': 0.01730496282266297, 'observation_error': 0.11429508198782645, 'reward_error': 6.377382988999006e-05, 'variance': 0.06760442422498157}\u001b[0m \u001b[36mstep\u001b[0m=\u001b[35m206873\u001b[0m\n",
      "\u001b[2m2023-10-22 16:55:36\u001b[0m [\u001b[32m\u001b[1minfo     \u001b[0m] \u001b[1mModel parameters are saved to d3rlpy_logs/exp_5_dynamics_reacher_default_20231022151920/model_206873.pt\u001b[0m\n"
     ]
    },
    {
     "data": {
      "application/vnd.jupyter.widget-view+json": {
       "model_id": "31014e0543774bd8b3224b4c91addfbe",
       "version_major": 2,
       "version_minor": 0
      },
      "text/plain": [
       "Epoch 44/100:   0%|          | 0/4811 [00:00<?, ?it/s]"
      ]
     },
     "metadata": {},
     "output_type": "display_data"
    },
    {
     "name": "stdout",
     "output_type": "stream",
     "text": [
      "\u001b[2m2023-10-22 16:57:50\u001b[0m [\u001b[32m\u001b[1minfo     \u001b[0m] \u001b[1mexp_5_dynamics_reacher_default_20231022151920: epoch=44 step=211684\u001b[0m \u001b[36mepoch\u001b[0m=\u001b[35m44\u001b[0m \u001b[36mmetrics\u001b[0m=\u001b[35m{'time_sample_batch': 0.0002479878316374584, 'time_algorithm_update': 0.017074016938955862, 'loss': -153.59987207609757, 'time_step': 0.017395143572344052, 'observation_error': 0.11728911475754879, 'reward_error': 5.464252956716026e-05, 'variance': 0.06759181432711653}\u001b[0m \u001b[36mstep\u001b[0m=\u001b[35m211684\u001b[0m\n",
      "\u001b[2m2023-10-22 16:57:51\u001b[0m [\u001b[32m\u001b[1minfo     \u001b[0m] \u001b[1mModel parameters are saved to d3rlpy_logs/exp_5_dynamics_reacher_default_20231022151920/model_211684.pt\u001b[0m\n"
     ]
    },
    {
     "data": {
      "application/vnd.jupyter.widget-view+json": {
       "model_id": "beefa89ac54645e7bfa2cafce571d6ed",
       "version_major": 2,
       "version_minor": 0
      },
      "text/plain": [
       "Epoch 45/100:   0%|          | 0/4811 [00:00<?, ?it/s]"
      ]
     },
     "metadata": {},
     "output_type": "display_data"
    },
    {
     "name": "stdout",
     "output_type": "stream",
     "text": [
      "\u001b[2m2023-10-22 17:00:04\u001b[0m [\u001b[32m\u001b[1minfo     \u001b[0m] \u001b[1mexp_5_dynamics_reacher_default_20231022151920: epoch=45 step=216495\u001b[0m \u001b[36mepoch\u001b[0m=\u001b[35m45\u001b[0m \u001b[36mmetrics\u001b[0m=\u001b[35m{'time_sample_batch': 0.000254861531944489, 'time_algorithm_update': 0.017018584544979294, 'loss': -154.13897672727336, 'time_step': 0.017346586464497535, 'observation_error': 0.11376320287815406, 'reward_error': 5.203099970520251e-05, 'variance': 0.06730015977386826}\u001b[0m \u001b[36mstep\u001b[0m=\u001b[35m216495\u001b[0m\n",
      "\u001b[2m2023-10-22 17:00:04\u001b[0m [\u001b[32m\u001b[1minfo     \u001b[0m] \u001b[1mModel parameters are saved to d3rlpy_logs/exp_5_dynamics_reacher_default_20231022151920/model_216495.pt\u001b[0m\n"
     ]
    },
    {
     "data": {
      "application/vnd.jupyter.widget-view+json": {
       "model_id": "bb991f2e35fd48388895b8196d9a1fbc",
       "version_major": 2,
       "version_minor": 0
      },
      "text/plain": [
       "Epoch 46/100:   0%|          | 0/4811 [00:00<?, ?it/s]"
      ]
     },
     "metadata": {},
     "output_type": "display_data"
    },
    {
     "name": "stdout",
     "output_type": "stream",
     "text": [
      "\u001b[2m2023-10-22 17:02:21\u001b[0m [\u001b[32m\u001b[1minfo     \u001b[0m] \u001b[1mexp_5_dynamics_reacher_default_20231022151920: epoch=46 step=221306\u001b[0m \u001b[36mepoch\u001b[0m=\u001b[35m46\u001b[0m \u001b[36mmetrics\u001b[0m=\u001b[35m{'time_sample_batch': 0.0002586442649649424, 'time_algorithm_update': 0.01751384004637695, 'loss': -155.09859588819688, 'time_step': 0.017847082466723344, 'observation_error': 0.11449955344667972, 'reward_error': 4.9104759584828246e-05, 'variance': 0.07138650003557026}\u001b[0m \u001b[36mstep\u001b[0m=\u001b[35m221306\u001b[0m\n",
      "\u001b[2m2023-10-22 17:02:21\u001b[0m [\u001b[32m\u001b[1minfo     \u001b[0m] \u001b[1mModel parameters are saved to d3rlpy_logs/exp_5_dynamics_reacher_default_20231022151920/model_221306.pt\u001b[0m\n"
     ]
    },
    {
     "data": {
      "application/vnd.jupyter.widget-view+json": {
       "model_id": "07f5b658180947679cf3092c7dc86611",
       "version_major": 2,
       "version_minor": 0
      },
      "text/plain": [
       "Epoch 47/100:   0%|          | 0/4811 [00:00<?, ?it/s]"
      ]
     },
     "metadata": {},
     "output_type": "display_data"
    },
    {
     "name": "stdout",
     "output_type": "stream",
     "text": [
      "\u001b[2m2023-10-22 17:04:35\u001b[0m [\u001b[32m\u001b[1minfo     \u001b[0m] \u001b[1mexp_5_dynamics_reacher_default_20231022151920: epoch=47 step=226117\u001b[0m \u001b[36mepoch\u001b[0m=\u001b[35m47\u001b[0m \u001b[36mmetrics\u001b[0m=\u001b[35m{'time_sample_batch': 0.00025227807758008584, 'time_algorithm_update': 0.016994587722426267, 'loss': -155.7878382145008, 'time_step': 0.017320566627345445, 'observation_error': 0.10740083638681297, 'reward_error': 5.0059895025697826e-05, 'variance': 0.0676249122140337}\u001b[0m \u001b[36mstep\u001b[0m=\u001b[35m226117\u001b[0m\n",
      "\u001b[2m2023-10-22 17:04:35\u001b[0m [\u001b[32m\u001b[1minfo     \u001b[0m] \u001b[1mModel parameters are saved to d3rlpy_logs/exp_5_dynamics_reacher_default_20231022151920/model_226117.pt\u001b[0m\n"
     ]
    },
    {
     "data": {
      "application/vnd.jupyter.widget-view+json": {
       "model_id": "d887b22c9ac94057b951d08fb8ad0012",
       "version_major": 2,
       "version_minor": 0
      },
      "text/plain": [
       "Epoch 48/100:   0%|          | 0/4811 [00:00<?, ?it/s]"
      ]
     },
     "metadata": {},
     "output_type": "display_data"
    },
    {
     "name": "stdout",
     "output_type": "stream",
     "text": [
      "\u001b[2m2023-10-22 17:06:50\u001b[0m [\u001b[32m\u001b[1minfo     \u001b[0m] \u001b[1mexp_5_dynamics_reacher_default_20231022151920: epoch=48 step=230928\u001b[0m \u001b[36mepoch\u001b[0m=\u001b[35m48\u001b[0m \u001b[36mmetrics\u001b[0m=\u001b[35m{'time_sample_batch': 0.00025008017643651207, 'time_algorithm_update': 0.017048166487524698, 'loss': -156.3141315597379, 'time_step': 0.017370843659367044, 'observation_error': 0.11050870899845792, 'reward_error': 4.9962683906572284e-05, 'variance': 0.0647645943603831}\u001b[0m \u001b[36mstep\u001b[0m=\u001b[35m230928\u001b[0m\n",
      "\u001b[2m2023-10-22 17:06:50\u001b[0m [\u001b[32m\u001b[1minfo     \u001b[0m] \u001b[1mModel parameters are saved to d3rlpy_logs/exp_5_dynamics_reacher_default_20231022151920/model_230928.pt\u001b[0m\n"
     ]
    },
    {
     "data": {
      "application/vnd.jupyter.widget-view+json": {
       "model_id": "ae7ae440ca87427a9e2fa86b15577ba7",
       "version_major": 2,
       "version_minor": 0
      },
      "text/plain": [
       "Epoch 49/100:   0%|          | 0/4811 [00:00<?, ?it/s]"
      ]
     },
     "metadata": {},
     "output_type": "display_data"
    },
    {
     "name": "stdout",
     "output_type": "stream",
     "text": [
      "\u001b[2m2023-10-22 17:09:05\u001b[0m [\u001b[32m\u001b[1minfo     \u001b[0m] \u001b[1mexp_5_dynamics_reacher_default_20231022151920: epoch=49 step=235739\u001b[0m \u001b[36mepoch\u001b[0m=\u001b[35m49\u001b[0m \u001b[36mmetrics\u001b[0m=\u001b[35m{'time_sample_batch': 0.0002538335717311646, 'time_algorithm_update': 0.017066279807573446, 'loss': -156.42496221443642, 'time_step': 0.017394614353469343, 'observation_error': 0.12190756090153507, 'reward_error': 4.920567539306941e-05, 'variance': 0.09588450559081026}\u001b[0m \u001b[36mstep\u001b[0m=\u001b[35m235739\u001b[0m\n",
      "\u001b[2m2023-10-22 17:09:05\u001b[0m [\u001b[32m\u001b[1minfo     \u001b[0m] \u001b[1mModel parameters are saved to d3rlpy_logs/exp_5_dynamics_reacher_default_20231022151920/model_235739.pt\u001b[0m\n"
     ]
    },
    {
     "data": {
      "application/vnd.jupyter.widget-view+json": {
       "model_id": "47000e5d7c1345dbb2d63c05c2e81740",
       "version_major": 2,
       "version_minor": 0
      },
      "text/plain": [
       "Epoch 50/100:   0%|          | 0/4811 [00:00<?, ?it/s]"
      ]
     },
     "metadata": {},
     "output_type": "display_data"
    },
    {
     "name": "stdout",
     "output_type": "stream",
     "text": [
      "\u001b[2m2023-10-22 17:11:19\u001b[0m [\u001b[32m\u001b[1minfo     \u001b[0m] \u001b[1mexp_5_dynamics_reacher_default_20231022151920: epoch=50 step=240550\u001b[0m \u001b[36mepoch\u001b[0m=\u001b[35m50\u001b[0m \u001b[36mmetrics\u001b[0m=\u001b[35m{'time_sample_batch': 0.0002587440231440593, 'time_algorithm_update': 0.016932935334124155, 'loss': -157.4364445630242, 'time_step': 0.017264881294597783, 'observation_error': 0.11275890314260667, 'reward_error': 4.212667960740302e-05, 'variance': 0.06541873518890581}\u001b[0m \u001b[36mstep\u001b[0m=\u001b[35m240550\u001b[0m\n",
      "\u001b[2m2023-10-22 17:11:19\u001b[0m [\u001b[32m\u001b[1minfo     \u001b[0m] \u001b[1mModel parameters are saved to d3rlpy_logs/exp_5_dynamics_reacher_default_20231022151920/model_240550.pt\u001b[0m\n"
     ]
    },
    {
     "data": {
      "application/vnd.jupyter.widget-view+json": {
       "model_id": "3ff7a5e72d7b4e9d96c3e0eeb30c715b",
       "version_major": 2,
       "version_minor": 0
      },
      "text/plain": [
       "Epoch 51/100:   0%|          | 0/4811 [00:00<?, ?it/s]"
      ]
     },
     "metadata": {},
     "output_type": "display_data"
    },
    {
     "name": "stdout",
     "output_type": "stream",
     "text": [
      "\u001b[2m2023-10-22 17:13:32\u001b[0m [\u001b[32m\u001b[1minfo     \u001b[0m] \u001b[1mexp_5_dynamics_reacher_default_20231022151920: epoch=51 step=245361\u001b[0m \u001b[36mepoch\u001b[0m=\u001b[35m51\u001b[0m \u001b[36mmetrics\u001b[0m=\u001b[35m{'time_sample_batch': 0.00025517156034416874, 'time_algorithm_update': 0.016960661566398715, 'loss': -157.51574759403056, 'time_step': 0.017290510771503023, 'observation_error': 0.1081907707615275, 'reward_error': 3.9876083186517254e-05, 'variance': 0.06463544304401672}\u001b[0m \u001b[36mstep\u001b[0m=\u001b[35m245361\u001b[0m\n",
      "\u001b[2m2023-10-22 17:13:32\u001b[0m [\u001b[32m\u001b[1minfo     \u001b[0m] \u001b[1mModel parameters are saved to d3rlpy_logs/exp_5_dynamics_reacher_default_20231022151920/model_245361.pt\u001b[0m\n"
     ]
    },
    {
     "data": {
      "application/vnd.jupyter.widget-view+json": {
       "model_id": "0f2f792871564448852d31cd59dd2773",
       "version_major": 2,
       "version_minor": 0
      },
      "text/plain": [
       "Epoch 52/100:   0%|          | 0/4811 [00:00<?, ?it/s]"
      ]
     },
     "metadata": {},
     "output_type": "display_data"
    },
    {
     "name": "stdout",
     "output_type": "stream",
     "text": [
      "\u001b[2m2023-10-22 17:15:47\u001b[0m [\u001b[32m\u001b[1minfo     \u001b[0m] \u001b[1mexp_5_dynamics_reacher_default_20231022151920: epoch=52 step=250172\u001b[0m \u001b[36mepoch\u001b[0m=\u001b[35m52\u001b[0m \u001b[36mmetrics\u001b[0m=\u001b[35m{'time_sample_batch': 0.00025051860694354005, 'time_algorithm_update': 0.017005140928586786, 'loss': -157.915353993868, 'time_step': 0.017328147010034097, 'observation_error': 0.1060562717320886, 'reward_error': 3.7306156588460655e-05, 'variance': 0.06440992497949452}\u001b[0m \u001b[36mstep\u001b[0m=\u001b[35m250172\u001b[0m\n",
      "\u001b[2m2023-10-22 17:15:47\u001b[0m [\u001b[32m\u001b[1minfo     \u001b[0m] \u001b[1mModel parameters are saved to d3rlpy_logs/exp_5_dynamics_reacher_default_20231022151920/model_250172.pt\u001b[0m\n"
     ]
    },
    {
     "data": {
      "application/vnd.jupyter.widget-view+json": {
       "model_id": "f2048ff2a5854e03b489b1c6b69afc64",
       "version_major": 2,
       "version_minor": 0
      },
      "text/plain": [
       "Epoch 53/100:   0%|          | 0/4811 [00:00<?, ?it/s]"
      ]
     },
     "metadata": {},
     "output_type": "display_data"
    },
    {
     "name": "stdout",
     "output_type": "stream",
     "text": [
      "\u001b[2m2023-10-22 17:18:00\u001b[0m [\u001b[32m\u001b[1minfo     \u001b[0m] \u001b[1mexp_5_dynamics_reacher_default_20231022151920: epoch=53 step=254983\u001b[0m \u001b[36mepoch\u001b[0m=\u001b[35m53\u001b[0m \u001b[36mmetrics\u001b[0m=\u001b[35m{'time_sample_batch': 0.00025299972616642485, 'time_algorithm_update': 0.017044734072719933, 'loss': -158.37762231614678, 'time_step': 0.017371516940351387, 'observation_error': 0.1065666321648727, 'reward_error': 3.669650788209539e-05, 'variance': 0.06521087256823223}\u001b[0m \u001b[36mstep\u001b[0m=\u001b[35m254983\u001b[0m\n",
      "\u001b[2m2023-10-22 17:18:00\u001b[0m [\u001b[32m\u001b[1minfo     \u001b[0m] \u001b[1mModel parameters are saved to d3rlpy_logs/exp_5_dynamics_reacher_default_20231022151920/model_254983.pt\u001b[0m\n"
     ]
    },
    {
     "data": {
      "application/vnd.jupyter.widget-view+json": {
       "model_id": "41a8cfac31594b7fb3d1f2788734735d",
       "version_major": 2,
       "version_minor": 0
      },
      "text/plain": [
       "Epoch 54/100:   0%|          | 0/4811 [00:00<?, ?it/s]"
      ]
     },
     "metadata": {},
     "output_type": "display_data"
    },
    {
     "name": "stdout",
     "output_type": "stream",
     "text": [
      "\u001b[2m2023-10-22 17:20:16\u001b[0m [\u001b[32m\u001b[1minfo     \u001b[0m] \u001b[1mexp_5_dynamics_reacher_default_20231022151920: epoch=54 step=259794\u001b[0m \u001b[36mepoch\u001b[0m=\u001b[35m54\u001b[0m \u001b[36mmetrics\u001b[0m=\u001b[35m{'time_sample_batch': 0.0002535552597918101, 'time_algorithm_update': 0.01708444868098473, 'loss': -159.39884389093527, 'time_step': 0.017411479333462473, 'observation_error': 0.11679792697704713, 'reward_error': 3.386506236942977e-05, 'variance': 0.0827009690284446}\u001b[0m \u001b[36mstep\u001b[0m=\u001b[35m259794\u001b[0m\n",
      "\u001b[2m2023-10-22 17:20:16\u001b[0m [\u001b[32m\u001b[1minfo     \u001b[0m] \u001b[1mModel parameters are saved to d3rlpy_logs/exp_5_dynamics_reacher_default_20231022151920/model_259794.pt\u001b[0m\n"
     ]
    },
    {
     "data": {
      "application/vnd.jupyter.widget-view+json": {
       "model_id": "fc4df73c49be4d35831a223350f8ffa5",
       "version_major": 2,
       "version_minor": 0
      },
      "text/plain": [
       "Epoch 55/100:   0%|          | 0/4811 [00:00<?, ?it/s]"
      ]
     },
     "metadata": {},
     "output_type": "display_data"
    },
    {
     "name": "stdout",
     "output_type": "stream",
     "text": [
      "\u001b[2m2023-10-22 17:22:30\u001b[0m [\u001b[32m\u001b[1minfo     \u001b[0m] \u001b[1mexp_5_dynamics_reacher_default_20231022151920: epoch=55 step=264605\u001b[0m \u001b[36mepoch\u001b[0m=\u001b[35m55\u001b[0m \u001b[36mmetrics\u001b[0m=\u001b[35m{'time_sample_batch': 0.00026096704967104703, 'time_algorithm_update': 0.017089614400346273, 'loss': -159.98577010559703, 'time_step': 0.017425201162680398, 'observation_error': 0.1151205798105093, 'reward_error': 3.103368806088346e-05, 'variance': 0.06561621050697884}\u001b[0m \u001b[36mstep\u001b[0m=\u001b[35m264605\u001b[0m\n",
      "\u001b[2m2023-10-22 17:22:30\u001b[0m [\u001b[32m\u001b[1minfo     \u001b[0m] \u001b[1mModel parameters are saved to d3rlpy_logs/exp_5_dynamics_reacher_default_20231022151920/model_264605.pt\u001b[0m\n"
     ]
    },
    {
     "data": {
      "application/vnd.jupyter.widget-view+json": {
       "model_id": "6113c9b44c20468e8b7b11c2cf524652",
       "version_major": 2,
       "version_minor": 0
      },
      "text/plain": [
       "Epoch 56/100:   0%|          | 0/4811 [00:00<?, ?it/s]"
      ]
     },
     "metadata": {},
     "output_type": "display_data"
    },
    {
     "name": "stdout",
     "output_type": "stream",
     "text": [
      "\u001b[2m2023-10-22 17:24:47\u001b[0m [\u001b[32m\u001b[1minfo     \u001b[0m] \u001b[1mexp_5_dynamics_reacher_default_20231022151920: epoch=56 step=269416\u001b[0m \u001b[36mepoch\u001b[0m=\u001b[35m56\u001b[0m \u001b[36mmetrics\u001b[0m=\u001b[35m{'time_sample_batch': 0.0002523679243653511, 'time_algorithm_update': 0.017068664290706276, 'loss': -159.9583833790004, 'time_step': 0.017394307496715698, 'observation_error': 0.11295550995236892, 'reward_error': 3.041428309899712e-05, 'variance': 0.0640692012239684}\u001b[0m \u001b[36mstep\u001b[0m=\u001b[35m269416\u001b[0m\n",
      "\u001b[2m2023-10-22 17:24:47\u001b[0m [\u001b[32m\u001b[1minfo     \u001b[0m] \u001b[1mModel parameters are saved to d3rlpy_logs/exp_5_dynamics_reacher_default_20231022151920/model_269416.pt\u001b[0m\n"
     ]
    },
    {
     "data": {
      "application/vnd.jupyter.widget-view+json": {
       "model_id": "55231a823cd640bc9bee2666265190a0",
       "version_major": 2,
       "version_minor": 0
      },
      "text/plain": [
       "Epoch 57/100:   0%|          | 0/4811 [00:00<?, ?it/s]"
      ]
     },
     "metadata": {},
     "output_type": "display_data"
    },
    {
     "name": "stdout",
     "output_type": "stream",
     "text": [
      "\u001b[2m2023-10-22 17:27:02\u001b[0m [\u001b[32m\u001b[1minfo     \u001b[0m] \u001b[1mexp_5_dynamics_reacher_default_20231022151920: epoch=57 step=274227\u001b[0m \u001b[36mepoch\u001b[0m=\u001b[35m57\u001b[0m \u001b[36mmetrics\u001b[0m=\u001b[35m{'time_sample_batch': 0.00025516501882422664, 'time_algorithm_update': 0.017162514684403964, 'loss': -160.46412413919623, 'time_step': 0.017491867031334492, 'observation_error': 0.10796937425016787, 'reward_error': 2.9086950831784905e-05, 'variance': 0.060939846631584575}\u001b[0m \u001b[36mstep\u001b[0m=\u001b[35m274227\u001b[0m\n",
      "\u001b[2m2023-10-22 17:27:02\u001b[0m [\u001b[32m\u001b[1minfo     \u001b[0m] \u001b[1mModel parameters are saved to d3rlpy_logs/exp_5_dynamics_reacher_default_20231022151920/model_274227.pt\u001b[0m\n"
     ]
    },
    {
     "data": {
      "application/vnd.jupyter.widget-view+json": {
       "model_id": "ce5eefcff1d340fb813495c69d325753",
       "version_major": 2,
       "version_minor": 0
      },
      "text/plain": [
       "Epoch 58/100:   0%|          | 0/4811 [00:00<?, ?it/s]"
      ]
     },
     "metadata": {},
     "output_type": "display_data"
    },
    {
     "name": "stdout",
     "output_type": "stream",
     "text": [
      "\u001b[2m2023-10-22 17:29:15\u001b[0m [\u001b[32m\u001b[1minfo     \u001b[0m] \u001b[1mexp_5_dynamics_reacher_default_20231022151920: epoch=58 step=279038\u001b[0m \u001b[36mepoch\u001b[0m=\u001b[35m58\u001b[0m \u001b[36mmetrics\u001b[0m=\u001b[35m{'time_sample_batch': 0.0002492822596744846, 'time_algorithm_update': 0.016941645120142207, 'loss': -160.7097322344656, 'time_step': 0.017264243050390708, 'observation_error': 0.11062908073147461, 'reward_error': 2.8309228252330224e-05, 'variance': 0.06481207040764629}\u001b[0m \u001b[36mstep\u001b[0m=\u001b[35m279038\u001b[0m\n",
      "\u001b[2m2023-10-22 17:29:15\u001b[0m [\u001b[32m\u001b[1minfo     \u001b[0m] \u001b[1mModel parameters are saved to d3rlpy_logs/exp_5_dynamics_reacher_default_20231022151920/model_279038.pt\u001b[0m\n"
     ]
    },
    {
     "data": {
      "application/vnd.jupyter.widget-view+json": {
       "model_id": "c923f80bf1fa4d469c57a9da323b206a",
       "version_major": 2,
       "version_minor": 0
      },
      "text/plain": [
       "Epoch 59/100:   0%|          | 0/4811 [00:00<?, ?it/s]"
      ]
     },
     "metadata": {},
     "output_type": "display_data"
    },
    {
     "name": "stdout",
     "output_type": "stream",
     "text": [
      "\u001b[2m2023-10-22 17:31:29\u001b[0m [\u001b[32m\u001b[1minfo     \u001b[0m] \u001b[1mexp_5_dynamics_reacher_default_20231022151920: epoch=59 step=283849\u001b[0m \u001b[36mepoch\u001b[0m=\u001b[35m59\u001b[0m \u001b[36mmetrics\u001b[0m=\u001b[35m{'time_sample_batch': 0.0002528260289891746, 'time_algorithm_update': 0.017000650026475633, 'loss': -160.25941470377512, 'time_step': 0.01732753909469221, 'observation_error': 0.11187407499079494, 'reward_error': 2.7657005859068825e-05, 'variance': 0.06432913312035055}\u001b[0m \u001b[36mstep\u001b[0m=\u001b[35m283849\u001b[0m\n",
      "\u001b[2m2023-10-22 17:31:29\u001b[0m [\u001b[32m\u001b[1minfo     \u001b[0m] \u001b[1mModel parameters are saved to d3rlpy_logs/exp_5_dynamics_reacher_default_20231022151920/model_283849.pt\u001b[0m\n"
     ]
    },
    {
     "data": {
      "application/vnd.jupyter.widget-view+json": {
       "model_id": "f4a528113e274c858e12732ae3ee5e02",
       "version_major": 2,
       "version_minor": 0
      },
      "text/plain": [
       "Epoch 60/100:   0%|          | 0/4811 [00:00<?, ?it/s]"
      ]
     },
     "metadata": {},
     "output_type": "display_data"
    },
    {
     "name": "stdout",
     "output_type": "stream",
     "text": [
      "\u001b[2m2023-10-22 17:33:44\u001b[0m [\u001b[32m\u001b[1minfo     \u001b[0m] \u001b[1mexp_5_dynamics_reacher_default_20231022151920: epoch=60 step=288660\u001b[0m \u001b[36mepoch\u001b[0m=\u001b[35m60\u001b[0m \u001b[36mmetrics\u001b[0m=\u001b[35m{'time_sample_batch': 0.00025196666158526683, 'time_algorithm_update': 0.0170245073461602, 'loss': -161.03791878382498, 'time_step': 0.017350285594910846, 'observation_error': 0.10639245198674588, 'reward_error': 2.873724488923766e-05, 'variance': 0.059103095349715}\u001b[0m \u001b[36mstep\u001b[0m=\u001b[35m288660\u001b[0m\n",
      "\u001b[2m2023-10-22 17:33:44\u001b[0m [\u001b[32m\u001b[1minfo     \u001b[0m] \u001b[1mModel parameters are saved to d3rlpy_logs/exp_5_dynamics_reacher_default_20231022151920/model_288660.pt\u001b[0m\n"
     ]
    },
    {
     "data": {
      "application/vnd.jupyter.widget-view+json": {
       "model_id": "74f1752211374f3ebe3ba0533f62a79f",
       "version_major": 2,
       "version_minor": 0
      },
      "text/plain": [
       "Epoch 61/100:   0%|          | 0/4811 [00:00<?, ?it/s]"
      ]
     },
     "metadata": {},
     "output_type": "display_data"
    },
    {
     "name": "stdout",
     "output_type": "stream",
     "text": [
      "\u001b[2m2023-10-22 17:35:58\u001b[0m [\u001b[32m\u001b[1minfo     \u001b[0m] \u001b[1mexp_5_dynamics_reacher_default_20231022151920: epoch=61 step=293471\u001b[0m \u001b[36mepoch\u001b[0m=\u001b[35m61\u001b[0m \u001b[36mmetrics\u001b[0m=\u001b[35m{'time_sample_batch': 0.0002520691949546622, 'time_algorithm_update': 0.017004067227290837, 'loss': -161.69756381959186, 'time_step': 0.017330640072486574, 'observation_error': 0.10782282644292485, 'reward_error': 2.4987555379633436e-05, 'variance': 0.06140585139002004}\u001b[0m \u001b[36mstep\u001b[0m=\u001b[35m293471\u001b[0m\n",
      "\u001b[2m2023-10-22 17:35:58\u001b[0m [\u001b[32m\u001b[1minfo     \u001b[0m] \u001b[1mModel parameters are saved to d3rlpy_logs/exp_5_dynamics_reacher_default_20231022151920/model_293471.pt\u001b[0m\n"
     ]
    },
    {
     "data": {
      "application/vnd.jupyter.widget-view+json": {
       "model_id": "25e3509bcfcf4e4b8986d0246cb6ffe1",
       "version_major": 2,
       "version_minor": 0
      },
      "text/plain": [
       "Epoch 62/100:   0%|          | 0/4811 [00:00<?, ?it/s]"
      ]
     },
     "metadata": {},
     "output_type": "display_data"
    },
    {
     "name": "stdout",
     "output_type": "stream",
     "text": [
      "\u001b[2m2023-10-22 17:38:12\u001b[0m [\u001b[32m\u001b[1minfo     \u001b[0m] \u001b[1mexp_5_dynamics_reacher_default_20231022151920: epoch=62 step=298282\u001b[0m \u001b[36mepoch\u001b[0m=\u001b[35m62\u001b[0m \u001b[36mmetrics\u001b[0m=\u001b[35m{'time_sample_batch': 0.00025376424153117225, 'time_algorithm_update': 0.017071990306698044, 'loss': -161.79996785203724, 'time_step': 0.017399497548549147, 'observation_error': 0.11046563116928908, 'reward_error': 2.7900265981625685e-05, 'variance': 0.0630427414364749}\u001b[0m \u001b[36mstep\u001b[0m=\u001b[35m298282\u001b[0m\n",
      "\u001b[2m2023-10-22 17:38:12\u001b[0m [\u001b[32m\u001b[1minfo     \u001b[0m] \u001b[1mModel parameters are saved to d3rlpy_logs/exp_5_dynamics_reacher_default_20231022151920/model_298282.pt\u001b[0m\n"
     ]
    },
    {
     "data": {
      "application/vnd.jupyter.widget-view+json": {
       "model_id": "621dbcad9d704aefa5919713419d4b26",
       "version_major": 2,
       "version_minor": 0
      },
      "text/plain": [
       "Epoch 63/100:   0%|          | 0/4811 [00:00<?, ?it/s]"
      ]
     },
     "metadata": {},
     "output_type": "display_data"
    },
    {
     "name": "stdout",
     "output_type": "stream",
     "text": [
      "\u001b[2m2023-10-22 17:40:27\u001b[0m [\u001b[32m\u001b[1minfo     \u001b[0m] \u001b[1mexp_5_dynamics_reacher_default_20231022151920: epoch=63 step=303093\u001b[0m \u001b[36mepoch\u001b[0m=\u001b[35m63\u001b[0m \u001b[36mmetrics\u001b[0m=\u001b[35m{'time_sample_batch': 0.00025437567541788085, 'time_algorithm_update': 0.01712145891588013, 'loss': -162.36175709488336, 'time_step': 0.01745123819610082, 'observation_error': 0.1102379841185044, 'reward_error': 2.3473439638970323e-05, 'variance': 0.05968770536864673}\u001b[0m \u001b[36mstep\u001b[0m=\u001b[35m303093\u001b[0m\n",
      "\u001b[2m2023-10-22 17:40:27\u001b[0m [\u001b[32m\u001b[1minfo     \u001b[0m] \u001b[1mModel parameters are saved to d3rlpy_logs/exp_5_dynamics_reacher_default_20231022151920/model_303093.pt\u001b[0m\n"
     ]
    },
    {
     "data": {
      "application/vnd.jupyter.widget-view+json": {
       "model_id": "c67e3827cd1b47d6b76b4ce13bbf31cc",
       "version_major": 2,
       "version_minor": 0
      },
      "text/plain": [
       "Epoch 64/100:   0%|          | 0/4811 [00:00<?, ?it/s]"
      ]
     },
     "metadata": {},
     "output_type": "display_data"
    },
    {
     "name": "stdout",
     "output_type": "stream",
     "text": [
      "\u001b[2m2023-10-22 17:42:42\u001b[0m [\u001b[32m\u001b[1minfo     \u001b[0m] \u001b[1mexp_5_dynamics_reacher_default_20231022151920: epoch=64 step=307904\u001b[0m \u001b[36mepoch\u001b[0m=\u001b[35m64\u001b[0m \u001b[36mmetrics\u001b[0m=\u001b[35m{'time_sample_batch': 0.0002513857547916213, 'time_algorithm_update': 0.01715479355992262, 'loss': -162.1017220008896, 'time_step': 0.017480005669856462, 'observation_error': 0.11624989913887145, 'reward_error': 2.3489142684159042e-05, 'variance': 0.07468554055325764}\u001b[0m \u001b[36mstep\u001b[0m=\u001b[35m307904\u001b[0m\n",
      "\u001b[2m2023-10-22 17:42:42\u001b[0m [\u001b[32m\u001b[1minfo     \u001b[0m] \u001b[1mModel parameters are saved to d3rlpy_logs/exp_5_dynamics_reacher_default_20231022151920/model_307904.pt\u001b[0m\n"
     ]
    },
    {
     "data": {
      "application/vnd.jupyter.widget-view+json": {
       "model_id": "912bba7109cf4a5cb74412aa2cd8efa2",
       "version_major": 2,
       "version_minor": 0
      },
      "text/plain": [
       "Epoch 65/100:   0%|          | 0/4811 [00:00<?, ?it/s]"
      ]
     },
     "metadata": {},
     "output_type": "display_data"
    },
    {
     "name": "stdout",
     "output_type": "stream",
     "text": [
      "\u001b[2m2023-10-22 17:44:57\u001b[0m [\u001b[32m\u001b[1minfo     \u001b[0m] \u001b[1mexp_5_dynamics_reacher_default_20231022151920: epoch=65 step=312715\u001b[0m \u001b[36mepoch\u001b[0m=\u001b[35m65\u001b[0m \u001b[36mmetrics\u001b[0m=\u001b[35m{'time_sample_batch': 0.0002549982100657033, 'time_algorithm_update': 0.017074177503536257, 'loss': -161.94182477604943, 'time_step': 0.017403767823033163, 'observation_error': 0.1061505731017005, 'reward_error': 2.168229987322636e-05, 'variance': 0.05875874804825384}\u001b[0m \u001b[36mstep\u001b[0m=\u001b[35m312715\u001b[0m\n",
      "\u001b[2m2023-10-22 17:44:57\u001b[0m [\u001b[32m\u001b[1minfo     \u001b[0m] \u001b[1mModel parameters are saved to d3rlpy_logs/exp_5_dynamics_reacher_default_20231022151920/model_312715.pt\u001b[0m\n"
     ]
    },
    {
     "data": {
      "application/vnd.jupyter.widget-view+json": {
       "model_id": "6b7c1c284ee447b78003f091fce53271",
       "version_major": 2,
       "version_minor": 0
      },
      "text/plain": [
       "Epoch 66/100:   0%|          | 0/4811 [00:00<?, ?it/s]"
      ]
     },
     "metadata": {},
     "output_type": "display_data"
    },
    {
     "name": "stdout",
     "output_type": "stream",
     "text": [
      "\u001b[2m2023-10-22 17:47:12\u001b[0m [\u001b[32m\u001b[1minfo     \u001b[0m] \u001b[1mexp_5_dynamics_reacher_default_20231022151920: epoch=66 step=317526\u001b[0m \u001b[36mepoch\u001b[0m=\u001b[35m66\u001b[0m \u001b[36mmetrics\u001b[0m=\u001b[35m{'time_sample_batch': 0.0002559901919193462, 'time_algorithm_update': 0.01707999559084112, 'loss': -163.14092736332412, 'time_step': 0.017410069933256767, 'observation_error': 0.10217707280322103, 'reward_error': 2.252421079158277e-05, 'variance': 0.0573948875994925}\u001b[0m \u001b[36mstep\u001b[0m=\u001b[35m317526\u001b[0m\n",
      "\u001b[2m2023-10-22 17:47:12\u001b[0m [\u001b[32m\u001b[1minfo     \u001b[0m] \u001b[1mModel parameters are saved to d3rlpy_logs/exp_5_dynamics_reacher_default_20231022151920/model_317526.pt\u001b[0m\n"
     ]
    },
    {
     "data": {
      "application/vnd.jupyter.widget-view+json": {
       "model_id": "c114fe8636ae44aea3d747662b7228bf",
       "version_major": 2,
       "version_minor": 0
      },
      "text/plain": [
       "Epoch 67/100:   0%|          | 0/4811 [00:00<?, ?it/s]"
      ]
     },
     "metadata": {},
     "output_type": "display_data"
    },
    {
     "name": "stdout",
     "output_type": "stream",
     "text": [
      "\u001b[2m2023-10-22 17:49:25\u001b[0m [\u001b[32m\u001b[1minfo     \u001b[0m] \u001b[1mexp_5_dynamics_reacher_default_20231022151920: epoch=67 step=322337\u001b[0m \u001b[36mepoch\u001b[0m=\u001b[35m67\u001b[0m \u001b[36mmetrics\u001b[0m=\u001b[35m{'time_sample_batch': 0.0002566168397956171, 'time_algorithm_update': 0.016907434110655355, 'loss': -163.12677235267336, 'time_step': 0.017236773622330843, 'observation_error': 0.10574126410639981, 'reward_error': 2.036860571330126e-05, 'variance': 0.05902979428627918}\u001b[0m \u001b[36mstep\u001b[0m=\u001b[35m322337\u001b[0m\n",
      "\u001b[2m2023-10-22 17:49:25\u001b[0m [\u001b[32m\u001b[1minfo     \u001b[0m] \u001b[1mModel parameters are saved to d3rlpy_logs/exp_5_dynamics_reacher_default_20231022151920/model_322337.pt\u001b[0m\n"
     ]
    },
    {
     "data": {
      "application/vnd.jupyter.widget-view+json": {
       "model_id": "fd90f2e9f9de4e3f996b31777fdd36ef",
       "version_major": 2,
       "version_minor": 0
      },
      "text/plain": [
       "Epoch 68/100:   0%|          | 0/4811 [00:00<?, ?it/s]"
      ]
     },
     "metadata": {},
     "output_type": "display_data"
    },
    {
     "name": "stdout",
     "output_type": "stream",
     "text": [
      "\u001b[2m2023-10-22 17:51:40\u001b[0m [\u001b[32m\u001b[1minfo     \u001b[0m] \u001b[1mexp_5_dynamics_reacher_default_20231022151920: epoch=68 step=327148\u001b[0m \u001b[36mepoch\u001b[0m=\u001b[35m68\u001b[0m \u001b[36mmetrics\u001b[0m=\u001b[35m{'time_sample_batch': 0.0002520859947672408, 'time_algorithm_update': 0.017012642119238565, 'loss': -163.42293562975328, 'time_step': 0.01733928716893851, 'observation_error': 0.11141802225524082, 'reward_error': 2.0335880714179124e-05, 'variance': 0.059671376377804786}\u001b[0m \u001b[36mstep\u001b[0m=\u001b[35m327148\u001b[0m\n",
      "\u001b[2m2023-10-22 17:51:40\u001b[0m [\u001b[32m\u001b[1minfo     \u001b[0m] \u001b[1mModel parameters are saved to d3rlpy_logs/exp_5_dynamics_reacher_default_20231022151920/model_327148.pt\u001b[0m\n"
     ]
    },
    {
     "data": {
      "application/vnd.jupyter.widget-view+json": {
       "model_id": "c0484b3988094711b81b8f4b86344b63",
       "version_major": 2,
       "version_minor": 0
      },
      "text/plain": [
       "Epoch 69/100:   0%|          | 0/4811 [00:00<?, ?it/s]"
      ]
     },
     "metadata": {},
     "output_type": "display_data"
    },
    {
     "name": "stdout",
     "output_type": "stream",
     "text": [
      "\u001b[2m2023-10-22 17:53:53\u001b[0m [\u001b[32m\u001b[1minfo     \u001b[0m] \u001b[1mexp_5_dynamics_reacher_default_20231022151920: epoch=69 step=331959\u001b[0m \u001b[36mepoch\u001b[0m=\u001b[35m69\u001b[0m \u001b[36mmetrics\u001b[0m=\u001b[35m{'time_sample_batch': 0.0002579433807487226, 'time_algorithm_update': 0.017031677248472484, 'loss': -163.6960761851864, 'time_step': 0.017364033441537634, 'observation_error': 0.10668206554065122, 'reward_error': 1.955080386519618e-05, 'variance': 0.05672443829584515}\u001b[0m \u001b[36mstep\u001b[0m=\u001b[35m331959\u001b[0m\n",
      "\u001b[2m2023-10-22 17:53:53\u001b[0m [\u001b[32m\u001b[1minfo     \u001b[0m] \u001b[1mModel parameters are saved to d3rlpy_logs/exp_5_dynamics_reacher_default_20231022151920/model_331959.pt\u001b[0m\n"
     ]
    },
    {
     "data": {
      "application/vnd.jupyter.widget-view+json": {
       "model_id": "db45ab1564ab495795572a67cff707d9",
       "version_major": 2,
       "version_minor": 0
      },
      "text/plain": [
       "Epoch 70/100:   0%|          | 0/4811 [00:00<?, ?it/s]"
      ]
     },
     "metadata": {},
     "output_type": "display_data"
    },
    {
     "name": "stdout",
     "output_type": "stream",
     "text": [
      "\u001b[2m2023-10-22 17:56:08\u001b[0m [\u001b[32m\u001b[1minfo     \u001b[0m] \u001b[1mexp_5_dynamics_reacher_default_20231022151920: epoch=70 step=336770\u001b[0m \u001b[36mepoch\u001b[0m=\u001b[35m70\u001b[0m \u001b[36mmetrics\u001b[0m=\u001b[35m{'time_sample_batch': 0.0002518342453634087, 'time_algorithm_update': 0.0170377883165796, 'loss': -163.8193516672785, 'time_step': 0.01736377242498055, 'observation_error': 0.12330226417147738, 'reward_error': 1.8935453634991083e-05, 'variance': 0.12382892902494078}\u001b[0m \u001b[36mstep\u001b[0m=\u001b[35m336770\u001b[0m\n",
      "\u001b[2m2023-10-22 17:56:08\u001b[0m [\u001b[32m\u001b[1minfo     \u001b[0m] \u001b[1mModel parameters are saved to d3rlpy_logs/exp_5_dynamics_reacher_default_20231022151920/model_336770.pt\u001b[0m\n"
     ]
    },
    {
     "data": {
      "application/vnd.jupyter.widget-view+json": {
       "model_id": "6895709f3116499fa3bad4a432e6bd85",
       "version_major": 2,
       "version_minor": 0
      },
      "text/plain": [
       "Epoch 71/100:   0%|          | 0/4811 [00:00<?, ?it/s]"
      ]
     },
     "metadata": {},
     "output_type": "display_data"
    },
    {
     "name": "stdout",
     "output_type": "stream",
     "text": [
      "\u001b[2m2023-10-22 17:58:23\u001b[0m [\u001b[32m\u001b[1minfo     \u001b[0m] \u001b[1mexp_5_dynamics_reacher_default_20231022151920: epoch=71 step=341581\u001b[0m \u001b[36mepoch\u001b[0m=\u001b[35m71\u001b[0m \u001b[36mmetrics\u001b[0m=\u001b[35m{'time_sample_batch': 0.0002517735876330366, 'time_algorithm_update': 0.017095368162705037, 'loss': -164.52351571715218, 'time_step': 0.01742065703638426, 'observation_error': 0.10915402409581326, 'reward_error': 1.8423519031450326e-05, 'variance': 0.06203082635042762}\u001b[0m \u001b[36mstep\u001b[0m=\u001b[35m341581\u001b[0m\n",
      "\u001b[2m2023-10-22 17:58:23\u001b[0m [\u001b[32m\u001b[1minfo     \u001b[0m] \u001b[1mModel parameters are saved to d3rlpy_logs/exp_5_dynamics_reacher_default_20231022151920/model_341581.pt\u001b[0m\n"
     ]
    },
    {
     "data": {
      "application/vnd.jupyter.widget-view+json": {
       "model_id": "434e6c1485934bcebdabd0eeb475e91e",
       "version_major": 2,
       "version_minor": 0
      },
      "text/plain": [
       "Epoch 72/100:   0%|          | 0/4811 [00:00<?, ?it/s]"
      ]
     },
     "metadata": {},
     "output_type": "display_data"
    },
    {
     "name": "stdout",
     "output_type": "stream",
     "text": [
      "\u001b[2m2023-10-22 18:00:38\u001b[0m [\u001b[32m\u001b[1minfo     \u001b[0m] \u001b[1mexp_5_dynamics_reacher_default_20231022151920: epoch=72 step=346392\u001b[0m \u001b[36mepoch\u001b[0m=\u001b[35m72\u001b[0m \u001b[36mmetrics\u001b[0m=\u001b[35m{'time_sample_batch': 0.00025266610864937815, 'time_algorithm_update': 0.01717573405551058, 'loss': -165.00734866817635, 'time_step': 0.017502192324993393, 'observation_error': 0.1016401296387042, 'reward_error': 1.8456480040130795e-05, 'variance': 0.05672112823289799}\u001b[0m \u001b[36mstep\u001b[0m=\u001b[35m346392\u001b[0m\n",
      "\u001b[2m2023-10-22 18:00:38\u001b[0m [\u001b[32m\u001b[1minfo     \u001b[0m] \u001b[1mModel parameters are saved to d3rlpy_logs/exp_5_dynamics_reacher_default_20231022151920/model_346392.pt\u001b[0m\n"
     ]
    },
    {
     "data": {
      "application/vnd.jupyter.widget-view+json": {
       "model_id": "d152fd41be1e419aad08f07186df3e75",
       "version_major": 2,
       "version_minor": 0
      },
      "text/plain": [
       "Epoch 73/100:   0%|          | 0/4811 [00:00<?, ?it/s]"
      ]
     },
     "metadata": {},
     "output_type": "display_data"
    },
    {
     "name": "stdout",
     "output_type": "stream",
     "text": [
      "\u001b[2m2023-10-22 18:02:53\u001b[0m [\u001b[32m\u001b[1minfo     \u001b[0m] \u001b[1mexp_5_dynamics_reacher_default_20231022151920: epoch=73 step=351203\u001b[0m \u001b[36mepoch\u001b[0m=\u001b[35m73\u001b[0m \u001b[36mmetrics\u001b[0m=\u001b[35m{'time_sample_batch': 0.0002525637735078598, 'time_algorithm_update': 0.017079497939755828, 'loss': -164.66844908112276, 'time_step': 0.017407389694131404, 'observation_error': 0.10620095966262255, 'reward_error': 1.5704858532983693e-05, 'variance': 0.05709329636786556}\u001b[0m \u001b[36mstep\u001b[0m=\u001b[35m351203\u001b[0m\n",
      "\u001b[2m2023-10-22 18:02:53\u001b[0m [\u001b[32m\u001b[1minfo     \u001b[0m] \u001b[1mModel parameters are saved to d3rlpy_logs/exp_5_dynamics_reacher_default_20231022151920/model_351203.pt\u001b[0m\n"
     ]
    },
    {
     "data": {
      "application/vnd.jupyter.widget-view+json": {
       "model_id": "e59cb14b8dc9421e90f8e759dc1516f2",
       "version_major": 2,
       "version_minor": 0
      },
      "text/plain": [
       "Epoch 74/100:   0%|          | 0/4811 [00:00<?, ?it/s]"
      ]
     },
     "metadata": {},
     "output_type": "display_data"
    },
    {
     "name": "stdout",
     "output_type": "stream",
     "text": [
      "\u001b[2m2023-10-22 18:05:08\u001b[0m [\u001b[32m\u001b[1minfo     \u001b[0m] \u001b[1mexp_5_dynamics_reacher_default_20231022151920: epoch=74 step=356014\u001b[0m \u001b[36mepoch\u001b[0m=\u001b[35m74\u001b[0m \u001b[36mmetrics\u001b[0m=\u001b[35m{'time_sample_batch': 0.0002530996825734188, 'time_algorithm_update': 0.01706647793633654, 'loss': -164.77860161173345, 'time_step': 0.01739423127809698, 'observation_error': 0.11272207557527851, 'reward_error': 1.7608936787910297e-05, 'variance': 0.06520770000537401}\u001b[0m \u001b[36mstep\u001b[0m=\u001b[35m356014\u001b[0m\n",
      "\u001b[2m2023-10-22 18:05:08\u001b[0m [\u001b[32m\u001b[1minfo     \u001b[0m] \u001b[1mModel parameters are saved to d3rlpy_logs/exp_5_dynamics_reacher_default_20231022151920/model_356014.pt\u001b[0m\n"
     ]
    },
    {
     "data": {
      "application/vnd.jupyter.widget-view+json": {
       "model_id": "fb7ec89d36e34636b73add1870328f0f",
       "version_major": 2,
       "version_minor": 0
      },
      "text/plain": [
       "Epoch 75/100:   0%|          | 0/4811 [00:00<?, ?it/s]"
      ]
     },
     "metadata": {},
     "output_type": "display_data"
    },
    {
     "name": "stdout",
     "output_type": "stream",
     "text": [
      "\u001b[2m2023-10-22 18:07:23\u001b[0m [\u001b[32m\u001b[1minfo     \u001b[0m] \u001b[1mexp_5_dynamics_reacher_default_20231022151920: epoch=75 step=360825\u001b[0m \u001b[36mepoch\u001b[0m=\u001b[35m75\u001b[0m \u001b[36mmetrics\u001b[0m=\u001b[35m{'time_sample_batch': 0.0002554721233627202, 'time_algorithm_update': 0.017033758690738303, 'loss': -165.00041754997537, 'time_step': 0.017363768460423007, 'observation_error': 0.10654635422183754, 'reward_error': 1.5880532662658468e-05, 'variance': 0.05764426691218712}\u001b[0m \u001b[36mstep\u001b[0m=\u001b[35m360825\u001b[0m\n",
      "\u001b[2m2023-10-22 18:07:23\u001b[0m [\u001b[32m\u001b[1minfo     \u001b[0m] \u001b[1mModel parameters are saved to d3rlpy_logs/exp_5_dynamics_reacher_default_20231022151920/model_360825.pt\u001b[0m\n"
     ]
    },
    {
     "data": {
      "application/vnd.jupyter.widget-view+json": {
       "model_id": "8e91c10178fd4e689eb608cd2f15a611",
       "version_major": 2,
       "version_minor": 0
      },
      "text/plain": [
       "Epoch 76/100:   0%|          | 0/4811 [00:00<?, ?it/s]"
      ]
     },
     "metadata": {},
     "output_type": "display_data"
    },
    {
     "name": "stdout",
     "output_type": "stream",
     "text": [
      "\u001b[2m2023-10-22 18:09:37\u001b[0m [\u001b[32m\u001b[1minfo     \u001b[0m] \u001b[1mexp_5_dynamics_reacher_default_20231022151920: epoch=76 step=365636\u001b[0m \u001b[36mepoch\u001b[0m=\u001b[35m76\u001b[0m \u001b[36mmetrics\u001b[0m=\u001b[35m{'time_sample_batch': 0.0002514032484017695, 'time_algorithm_update': 0.01692287422866837, 'loss': -166.0447171765686, 'time_step': 0.01724787220293805, 'observation_error': 0.10327879766728919, 'reward_error': 1.564427979690774e-05, 'variance': 0.06168254542801552}\u001b[0m \u001b[36mstep\u001b[0m=\u001b[35m365636\u001b[0m\n",
      "\u001b[2m2023-10-22 18:09:37\u001b[0m [\u001b[32m\u001b[1minfo     \u001b[0m] \u001b[1mModel parameters are saved to d3rlpy_logs/exp_5_dynamics_reacher_default_20231022151920/model_365636.pt\u001b[0m\n"
     ]
    },
    {
     "data": {
      "application/vnd.jupyter.widget-view+json": {
       "model_id": "7bb7d00238734d688df1616efa24d0f4",
       "version_major": 2,
       "version_minor": 0
      },
      "text/plain": [
       "Epoch 77/100:   0%|          | 0/4811 [00:00<?, ?it/s]"
      ]
     },
     "metadata": {},
     "output_type": "display_data"
    },
    {
     "name": "stdout",
     "output_type": "stream",
     "text": [
      "\u001b[2m2023-10-22 18:11:52\u001b[0m [\u001b[32m\u001b[1minfo     \u001b[0m] \u001b[1mexp_5_dynamics_reacher_default_20231022151920: epoch=77 step=370447\u001b[0m \u001b[36mepoch\u001b[0m=\u001b[35m77\u001b[0m \u001b[36mmetrics\u001b[0m=\u001b[35m{'time_sample_batch': 0.00025243661032474304, 'time_algorithm_update': 0.017086716011442234, 'loss': -166.1109498721154, 'time_step': 0.01741380400133341, 'observation_error': 0.10459081837688422, 'reward_error': 1.7100310606597512e-05, 'variance': 0.05643460421082343}\u001b[0m \u001b[36mstep\u001b[0m=\u001b[35m370447\u001b[0m\n",
      "\u001b[2m2023-10-22 18:11:52\u001b[0m [\u001b[32m\u001b[1minfo     \u001b[0m] \u001b[1mModel parameters are saved to d3rlpy_logs/exp_5_dynamics_reacher_default_20231022151920/model_370447.pt\u001b[0m\n"
     ]
    },
    {
     "data": {
      "application/vnd.jupyter.widget-view+json": {
       "model_id": "b20efce081904591bd2bed75bb95225a",
       "version_major": 2,
       "version_minor": 0
      },
      "text/plain": [
       "Epoch 78/100:   0%|          | 0/4811 [00:00<?, ?it/s]"
      ]
     },
     "metadata": {},
     "output_type": "display_data"
    },
    {
     "name": "stdout",
     "output_type": "stream",
     "text": [
      "\u001b[2m2023-10-22 18:14:07\u001b[0m [\u001b[32m\u001b[1minfo     \u001b[0m] \u001b[1mexp_5_dynamics_reacher_default_20231022151920: epoch=78 step=375258\u001b[0m \u001b[36mepoch\u001b[0m=\u001b[35m78\u001b[0m \u001b[36mmetrics\u001b[0m=\u001b[35m{'time_sample_batch': 0.0002505417500481836, 'time_algorithm_update': 0.017038144978087352, 'loss': -166.07103474406287, 'time_step': 0.01736193044199019, 'observation_error': 0.10327449642635118, 'reward_error': 1.441949527751648e-05, 'variance': 0.05687397772571731}\u001b[0m \u001b[36mstep\u001b[0m=\u001b[35m375258\u001b[0m\n",
      "\u001b[2m2023-10-22 18:14:07\u001b[0m [\u001b[32m\u001b[1minfo     \u001b[0m] \u001b[1mModel parameters are saved to d3rlpy_logs/exp_5_dynamics_reacher_default_20231022151920/model_375258.pt\u001b[0m\n"
     ]
    },
    {
     "data": {
      "application/vnd.jupyter.widget-view+json": {
       "model_id": "85a70ecf7b664a2db65c87a97ed1a42b",
       "version_major": 2,
       "version_minor": 0
      },
      "text/plain": [
       "Epoch 79/100:   0%|          | 0/4811 [00:00<?, ?it/s]"
      ]
     },
     "metadata": {},
     "output_type": "display_data"
    },
    {
     "name": "stdout",
     "output_type": "stream",
     "text": [
      "\u001b[2m2023-10-22 18:16:22\u001b[0m [\u001b[32m\u001b[1minfo     \u001b[0m] \u001b[1mexp_5_dynamics_reacher_default_20231022151920: epoch=79 step=380069\u001b[0m \u001b[36mepoch\u001b[0m=\u001b[35m79\u001b[0m \u001b[36mmetrics\u001b[0m=\u001b[35m{'time_sample_batch': 0.000253421307303905, 'time_algorithm_update': 0.017080819723239885, 'loss': -166.36145535795933, 'time_step': 0.01740917453793621, 'observation_error': 0.1078145944002046, 'reward_error': 1.4731318212838217e-05, 'variance': 0.05692838516735958}\u001b[0m \u001b[36mstep\u001b[0m=\u001b[35m380069\u001b[0m\n",
      "\u001b[2m2023-10-22 18:16:22\u001b[0m [\u001b[32m\u001b[1minfo     \u001b[0m] \u001b[1mModel parameters are saved to d3rlpy_logs/exp_5_dynamics_reacher_default_20231022151920/model_380069.pt\u001b[0m\n"
     ]
    },
    {
     "data": {
      "application/vnd.jupyter.widget-view+json": {
       "model_id": "a85ee1040dac416d93502d1db884fe23",
       "version_major": 2,
       "version_minor": 0
      },
      "text/plain": [
       "Epoch 80/100:   0%|          | 0/4811 [00:00<?, ?it/s]"
      ]
     },
     "metadata": {},
     "output_type": "display_data"
    },
    {
     "name": "stdout",
     "output_type": "stream",
     "text": [
      "\u001b[2m2023-10-22 18:18:37\u001b[0m [\u001b[32m\u001b[1minfo     \u001b[0m] \u001b[1mexp_5_dynamics_reacher_default_20231022151920: epoch=80 step=384880\u001b[0m \u001b[36mepoch\u001b[0m=\u001b[35m80\u001b[0m \u001b[36mmetrics\u001b[0m=\u001b[35m{'time_sample_batch': 0.0002493007939809872, 'time_algorithm_update': 0.017102356835180747, 'loss': -166.46873535571734, 'time_step': 0.017425456975755708, 'observation_error': 0.10458100821044228, 'reward_error': 1.3459192465840707e-05, 'variance': 0.05832000527734151}\u001b[0m \u001b[36mstep\u001b[0m=\u001b[35m384880\u001b[0m\n",
      "\u001b[2m2023-10-22 18:18:37\u001b[0m [\u001b[32m\u001b[1minfo     \u001b[0m] \u001b[1mModel parameters are saved to d3rlpy_logs/exp_5_dynamics_reacher_default_20231022151920/model_384880.pt\u001b[0m\n"
     ]
    },
    {
     "data": {
      "application/vnd.jupyter.widget-view+json": {
       "model_id": "0dc7c3b1c5074b5fa5eee7ef362d9064",
       "version_major": 2,
       "version_minor": 0
      },
      "text/plain": [
       "Epoch 81/100:   0%|          | 0/4811 [00:00<?, ?it/s]"
      ]
     },
     "metadata": {},
     "output_type": "display_data"
    },
    {
     "name": "stdout",
     "output_type": "stream",
     "text": [
      "\u001b[2m2023-10-22 18:20:51\u001b[0m [\u001b[32m\u001b[1minfo     \u001b[0m] \u001b[1mexp_5_dynamics_reacher_default_20231022151920: epoch=81 step=389691\u001b[0m \u001b[36mepoch\u001b[0m=\u001b[35m81\u001b[0m \u001b[36mmetrics\u001b[0m=\u001b[35m{'time_sample_batch': 0.00025593870222828685, 'time_algorithm_update': 0.017045323156413505, 'loss': -166.70846668941962, 'time_step': 0.017376122616403342, 'observation_error': 0.10174053106460144, 'reward_error': 1.415063572160403e-05, 'variance': 0.05842711718765664}\u001b[0m \u001b[36mstep\u001b[0m=\u001b[35m389691\u001b[0m\n",
      "\u001b[2m2023-10-22 18:20:51\u001b[0m [\u001b[32m\u001b[1minfo     \u001b[0m] \u001b[1mModel parameters are saved to d3rlpy_logs/exp_5_dynamics_reacher_default_20231022151920/model_389691.pt\u001b[0m\n"
     ]
    },
    {
     "data": {
      "application/vnd.jupyter.widget-view+json": {
       "model_id": "18926ed96ee741359079baf643ed694a",
       "version_major": 2,
       "version_minor": 0
      },
      "text/plain": [
       "Epoch 82/100:   0%|          | 0/4811 [00:00<?, ?it/s]"
      ]
     },
     "metadata": {},
     "output_type": "display_data"
    },
    {
     "name": "stdout",
     "output_type": "stream",
     "text": [
      "\u001b[2m2023-10-22 18:23:05\u001b[0m [\u001b[32m\u001b[1minfo     \u001b[0m] \u001b[1mexp_5_dynamics_reacher_default_20231022151920: epoch=82 step=394502\u001b[0m \u001b[36mepoch\u001b[0m=\u001b[35m82\u001b[0m \u001b[36mmetrics\u001b[0m=\u001b[35m{'time_sample_batch': 0.0002531963682204417, 'time_algorithm_update': 0.01709322849100034, 'loss': -165.63978121984874, 'time_step': 0.017422102464506616, 'observation_error': 0.10031818287905733, 'reward_error': 1.4044553626879963e-05, 'variance': 0.0538242016226884}\u001b[0m \u001b[36mstep\u001b[0m=\u001b[35m394502\u001b[0m\n",
      "\u001b[2m2023-10-22 18:23:05\u001b[0m [\u001b[32m\u001b[1minfo     \u001b[0m] \u001b[1mModel parameters are saved to d3rlpy_logs/exp_5_dynamics_reacher_default_20231022151920/model_394502.pt\u001b[0m\n"
     ]
    },
    {
     "data": {
      "application/vnd.jupyter.widget-view+json": {
       "model_id": "bc2f6bf96c9c41ff8145157620295ef0",
       "version_major": 2,
       "version_minor": 0
      },
      "text/plain": [
       "Epoch 83/100:   0%|          | 0/4811 [00:00<?, ?it/s]"
      ]
     },
     "metadata": {},
     "output_type": "display_data"
    },
    {
     "name": "stdout",
     "output_type": "stream",
     "text": [
      "\u001b[2m2023-10-22 18:25:19\u001b[0m [\u001b[32m\u001b[1minfo     \u001b[0m] \u001b[1mexp_5_dynamics_reacher_default_20231022151920: epoch=83 step=399313\u001b[0m \u001b[36mepoch\u001b[0m=\u001b[35m83\u001b[0m \u001b[36mmetrics\u001b[0m=\u001b[35m{'time_sample_batch': 0.0002547518128145512, 'time_algorithm_update': 0.017039194049569578, 'loss': -166.17336581279125, 'time_step': 0.01736848891041577, 'observation_error': 0.09733852661511094, 'reward_error': 1.1888903111373691e-05, 'variance': 0.053064148710961066}\u001b[0m \u001b[36mstep\u001b[0m=\u001b[35m399313\u001b[0m\n",
      "\u001b[2m2023-10-22 18:25:19\u001b[0m [\u001b[32m\u001b[1minfo     \u001b[0m] \u001b[1mModel parameters are saved to d3rlpy_logs/exp_5_dynamics_reacher_default_20231022151920/model_399313.pt\u001b[0m\n"
     ]
    },
    {
     "data": {
      "application/vnd.jupyter.widget-view+json": {
       "model_id": "46a489460d4349f9801c897160405ac6",
       "version_major": 2,
       "version_minor": 0
      },
      "text/plain": [
       "Epoch 84/100:   0%|          | 0/4811 [00:00<?, ?it/s]"
      ]
     },
     "metadata": {},
     "output_type": "display_data"
    },
    {
     "name": "stdout",
     "output_type": "stream",
     "text": [
      "\u001b[2m2023-10-22 18:27:34\u001b[0m [\u001b[32m\u001b[1minfo     \u001b[0m] \u001b[1mexp_5_dynamics_reacher_default_20231022151920: epoch=84 step=404124\u001b[0m \u001b[36mepoch\u001b[0m=\u001b[35m84\u001b[0m \u001b[36mmetrics\u001b[0m=\u001b[35m{'time_sample_batch': 0.0002535096673800925, 'time_algorithm_update': 0.017129289709934447, 'loss': -166.44821366805888, 'time_step': 0.017457892953717667, 'observation_error': 0.09830539127510801, 'reward_error': 1.225464507235051e-05, 'variance': 0.04949175800979402}\u001b[0m \u001b[36mstep\u001b[0m=\u001b[35m404124\u001b[0m\n",
      "\u001b[2m2023-10-22 18:27:34\u001b[0m [\u001b[32m\u001b[1minfo     \u001b[0m] \u001b[1mModel parameters are saved to d3rlpy_logs/exp_5_dynamics_reacher_default_20231022151920/model_404124.pt\u001b[0m\n"
     ]
    },
    {
     "data": {
      "application/vnd.jupyter.widget-view+json": {
       "model_id": "b5ceff2ca7854ae6acaaec9d5a8c3814",
       "version_major": 2,
       "version_minor": 0
      },
      "text/plain": [
       "Epoch 85/100:   0%|          | 0/4811 [00:00<?, ?it/s]"
      ]
     },
     "metadata": {},
     "output_type": "display_data"
    },
    {
     "name": "stdout",
     "output_type": "stream",
     "text": [
      "\u001b[2m2023-10-22 18:29:49\u001b[0m [\u001b[32m\u001b[1minfo     \u001b[0m] \u001b[1mexp_5_dynamics_reacher_default_20231022151920: epoch=85 step=408935\u001b[0m \u001b[36mepoch\u001b[0m=\u001b[35m85\u001b[0m \u001b[36mmetrics\u001b[0m=\u001b[35m{'time_sample_batch': 0.00025460244810920674, 'time_algorithm_update': 0.017071168899932588, 'loss': -165.87008861542938, 'time_step': 0.01740227605914455, 'observation_error': 0.1065494137739928, 'reward_error': 1.1737061884461529e-05, 'variance': 0.07561673628908758}\u001b[0m \u001b[36mstep\u001b[0m=\u001b[35m408935\u001b[0m\n",
      "\u001b[2m2023-10-22 18:29:49\u001b[0m [\u001b[32m\u001b[1minfo     \u001b[0m] \u001b[1mModel parameters are saved to d3rlpy_logs/exp_5_dynamics_reacher_default_20231022151920/model_408935.pt\u001b[0m\n"
     ]
    },
    {
     "data": {
      "application/vnd.jupyter.widget-view+json": {
       "model_id": "6a022fe7562644d49fd9a86d9b1c8490",
       "version_major": 2,
       "version_minor": 0
      },
      "text/plain": [
       "Epoch 86/100:   0%|          | 0/4811 [00:00<?, ?it/s]"
      ]
     },
     "metadata": {},
     "output_type": "display_data"
    },
    {
     "name": "stdout",
     "output_type": "stream",
     "text": [
      "\u001b[2m2023-10-22 18:32:03\u001b[0m [\u001b[32m\u001b[1minfo     \u001b[0m] \u001b[1mexp_5_dynamics_reacher_default_20231022151920: epoch=86 step=413746\u001b[0m \u001b[36mepoch\u001b[0m=\u001b[35m86\u001b[0m \u001b[36mmetrics\u001b[0m=\u001b[35m{'time_sample_batch': 0.0002554573553858812, 'time_algorithm_update': 0.017033924657028347, 'loss': -166.66101554088795, 'time_step': 0.017363392422140276, 'observation_error': 0.09791309257436363, 'reward_error': 1.2221106396520848e-05, 'variance': 0.05062586046155216}\u001b[0m \u001b[36mstep\u001b[0m=\u001b[35m413746\u001b[0m\n",
      "\u001b[2m2023-10-22 18:32:03\u001b[0m [\u001b[32m\u001b[1minfo     \u001b[0m] \u001b[1mModel parameters are saved to d3rlpy_logs/exp_5_dynamics_reacher_default_20231022151920/model_413746.pt\u001b[0m\n"
     ]
    },
    {
     "data": {
      "application/vnd.jupyter.widget-view+json": {
       "model_id": "405d7811fb2246369836018118377569",
       "version_major": 2,
       "version_minor": 0
      },
      "text/plain": [
       "Epoch 87/100:   0%|          | 0/4811 [00:00<?, ?it/s]"
      ]
     },
     "metadata": {},
     "output_type": "display_data"
    },
    {
     "name": "stdout",
     "output_type": "stream",
     "text": [
      "\u001b[2m2023-10-22 18:34:17\u001b[0m [\u001b[32m\u001b[1minfo     \u001b[0m] \u001b[1mexp_5_dynamics_reacher_default_20231022151920: epoch=87 step=418557\u001b[0m \u001b[36mepoch\u001b[0m=\u001b[35m87\u001b[0m \u001b[36mmetrics\u001b[0m=\u001b[35m{'time_sample_batch': 0.00025146846537331337, 'time_algorithm_update': 0.017023193095335468, 'loss': -167.4048768441758, 'time_step': 0.01734912497069082, 'observation_error': 0.10052354484795431, 'reward_error': 1.2192328739806169e-05, 'variance': 0.052951559877806594}\u001b[0m \u001b[36mstep\u001b[0m=\u001b[35m418557\u001b[0m\n",
      "\u001b[2m2023-10-22 18:34:17\u001b[0m [\u001b[32m\u001b[1minfo     \u001b[0m] \u001b[1mModel parameters are saved to d3rlpy_logs/exp_5_dynamics_reacher_default_20231022151920/model_418557.pt\u001b[0m\n"
     ]
    },
    {
     "data": {
      "application/vnd.jupyter.widget-view+json": {
       "model_id": "9355fa7d880948faa77210c9995c9df4",
       "version_major": 2,
       "version_minor": 0
      },
      "text/plain": [
       "Epoch 88/100:   0%|          | 0/4811 [00:00<?, ?it/s]"
      ]
     },
     "metadata": {},
     "output_type": "display_data"
    },
    {
     "name": "stdout",
     "output_type": "stream",
     "text": [
      "\u001b[2m2023-10-22 18:36:32\u001b[0m [\u001b[32m\u001b[1minfo     \u001b[0m] \u001b[1mexp_5_dynamics_reacher_default_20231022151920: epoch=88 step=423368\u001b[0m \u001b[36mepoch\u001b[0m=\u001b[35m88\u001b[0m \u001b[36mmetrics\u001b[0m=\u001b[35m{'time_sample_batch': 0.00025880894277378766, 'time_algorithm_update': 0.017044676933534376, 'loss': -167.3517730314849, 'time_step': 0.017378422307561772, 'observation_error': 0.10214279373219202, 'reward_error': 1.1028274326976193e-05, 'variance': 0.05555029954011412}\u001b[0m \u001b[36mstep\u001b[0m=\u001b[35m423368\u001b[0m\n",
      "\u001b[2m2023-10-22 18:36:32\u001b[0m [\u001b[32m\u001b[1minfo     \u001b[0m] \u001b[1mModel parameters are saved to d3rlpy_logs/exp_5_dynamics_reacher_default_20231022151920/model_423368.pt\u001b[0m\n"
     ]
    },
    {
     "data": {
      "application/vnd.jupyter.widget-view+json": {
       "model_id": "ab95673fb848452c84ad274b4ef3df35",
       "version_major": 2,
       "version_minor": 0
      },
      "text/plain": [
       "Epoch 89/100:   0%|          | 0/4811 [00:00<?, ?it/s]"
      ]
     },
     "metadata": {},
     "output_type": "display_data"
    },
    {
     "name": "stdout",
     "output_type": "stream",
     "text": [
      "\u001b[2m2023-10-22 18:38:47\u001b[0m [\u001b[32m\u001b[1minfo     \u001b[0m] \u001b[1mexp_5_dynamics_reacher_default_20231022151920: epoch=89 step=428179\u001b[0m \u001b[36mepoch\u001b[0m=\u001b[35m89\u001b[0m \u001b[36mmetrics\u001b[0m=\u001b[35m{'time_sample_batch': 0.0002559099096291478, 'time_algorithm_update': 0.017076296311756896, 'loss': -167.80536933610307, 'time_step': 0.017407389941916252, 'observation_error': 0.10234678592066622, 'reward_error': 1.1108125419084385e-05, 'variance': 0.05368784036932829}\u001b[0m \u001b[36mstep\u001b[0m=\u001b[35m428179\u001b[0m\n",
      "\u001b[2m2023-10-22 18:38:47\u001b[0m [\u001b[32m\u001b[1minfo     \u001b[0m] \u001b[1mModel parameters are saved to d3rlpy_logs/exp_5_dynamics_reacher_default_20231022151920/model_428179.pt\u001b[0m\n"
     ]
    },
    {
     "data": {
      "application/vnd.jupyter.widget-view+json": {
       "model_id": "f6cabdfa2420441ab800cb061f2e4439",
       "version_major": 2,
       "version_minor": 0
      },
      "text/plain": [
       "Epoch 90/100:   0%|          | 0/4811 [00:00<?, ?it/s]"
      ]
     },
     "metadata": {},
     "output_type": "display_data"
    },
    {
     "name": "stdout",
     "output_type": "stream",
     "text": [
      "\u001b[2m2023-10-22 18:41:01\u001b[0m [\u001b[32m\u001b[1minfo     \u001b[0m] \u001b[1mexp_5_dynamics_reacher_default_20231022151920: epoch=90 step=432990\u001b[0m \u001b[36mepoch\u001b[0m=\u001b[35m90\u001b[0m \u001b[36mmetrics\u001b[0m=\u001b[35m{'time_sample_batch': 0.00025223198959867563, 'time_algorithm_update': 0.01706562808387073, 'loss': -168.0436578329178, 'time_step': 0.017392106820381843, 'observation_error': 0.10519260617953292, 'reward_error': 1.0143727533062075e-05, 'variance': 0.05110634773362382}\u001b[0m \u001b[36mstep\u001b[0m=\u001b[35m432990\u001b[0m\n",
      "\u001b[2m2023-10-22 18:41:01\u001b[0m [\u001b[32m\u001b[1minfo     \u001b[0m] \u001b[1mModel parameters are saved to d3rlpy_logs/exp_5_dynamics_reacher_default_20231022151920/model_432990.pt\u001b[0m\n"
     ]
    },
    {
     "data": {
      "application/vnd.jupyter.widget-view+json": {
       "model_id": "65139db25bba4d5ba5a2662ccfb509e4",
       "version_major": 2,
       "version_minor": 0
      },
      "text/plain": [
       "Epoch 91/100:   0%|          | 0/4811 [00:00<?, ?it/s]"
      ]
     },
     "metadata": {},
     "output_type": "display_data"
    },
    {
     "name": "stdout",
     "output_type": "stream",
     "text": [
      "\u001b[2m2023-10-22 18:43:16\u001b[0m [\u001b[32m\u001b[1minfo     \u001b[0m] \u001b[1mexp_5_dynamics_reacher_default_20231022151920: epoch=91 step=437801\u001b[0m \u001b[36mepoch\u001b[0m=\u001b[35m91\u001b[0m \u001b[36mmetrics\u001b[0m=\u001b[35m{'time_sample_batch': 0.0002555166750780834, 'time_algorithm_update': 0.017066761550871605, 'loss': -167.596649096974, 'time_step': 0.017397377055391555, 'observation_error': 0.09851593829382749, 'reward_error': 1.057728877897003e-05, 'variance': 0.051837503270565806}\u001b[0m \u001b[36mstep\u001b[0m=\u001b[35m437801\u001b[0m\n",
      "\u001b[2m2023-10-22 18:43:16\u001b[0m [\u001b[32m\u001b[1minfo     \u001b[0m] \u001b[1mModel parameters are saved to d3rlpy_logs/exp_5_dynamics_reacher_default_20231022151920/model_437801.pt\u001b[0m\n"
     ]
    },
    {
     "data": {
      "application/vnd.jupyter.widget-view+json": {
       "model_id": "b1514969418645e68268181414a32d79",
       "version_major": 2,
       "version_minor": 0
      },
      "text/plain": [
       "Epoch 92/100:   0%|          | 0/4811 [00:00<?, ?it/s]"
      ]
     },
     "metadata": {},
     "output_type": "display_data"
    },
    {
     "name": "stdout",
     "output_type": "stream",
     "text": [
      "\u001b[2m2023-10-22 18:45:31\u001b[0m [\u001b[32m\u001b[1minfo     \u001b[0m] \u001b[1mexp_5_dynamics_reacher_default_20231022151920: epoch=92 step=442612\u001b[0m \u001b[36mepoch\u001b[0m=\u001b[35m92\u001b[0m \u001b[36mmetrics\u001b[0m=\u001b[35m{'time_sample_batch': 0.00025112969393146383, 'time_algorithm_update': 0.01709457207955087, 'loss': -169.23213781762385, 'time_step': 0.017420528733390853, 'observation_error': 0.09883765850868759, 'reward_error': 1.0644067704310559e-05, 'variance': 0.049581464066289854}\u001b[0m \u001b[36mstep\u001b[0m=\u001b[35m442612\u001b[0m\n",
      "\u001b[2m2023-10-22 18:45:31\u001b[0m [\u001b[32m\u001b[1minfo     \u001b[0m] \u001b[1mModel parameters are saved to d3rlpy_logs/exp_5_dynamics_reacher_default_20231022151920/model_442612.pt\u001b[0m\n"
     ]
    },
    {
     "data": {
      "application/vnd.jupyter.widget-view+json": {
       "model_id": "65f2d422dce74b48a2d6f327963941c7",
       "version_major": 2,
       "version_minor": 0
      },
      "text/plain": [
       "Epoch 93/100:   0%|          | 0/4811 [00:00<?, ?it/s]"
      ]
     },
     "metadata": {},
     "output_type": "display_data"
    },
    {
     "name": "stdout",
     "output_type": "stream",
     "text": [
      "\u001b[2m2023-10-22 18:47:46\u001b[0m [\u001b[32m\u001b[1minfo     \u001b[0m] \u001b[1mexp_5_dynamics_reacher_default_20231022151920: epoch=93 step=447423\u001b[0m \u001b[36mepoch\u001b[0m=\u001b[35m93\u001b[0m \u001b[36mmetrics\u001b[0m=\u001b[35m{'time_sample_batch': 0.0002529261340670763, 'time_algorithm_update': 0.01712339138989636, 'loss': -168.34942839929155, 'time_step': 0.017451373437069925, 'observation_error': 0.09983198391462421, 'reward_error': 9.514768453622784e-06, 'variance': 0.05026329368241947}\u001b[0m \u001b[36mstep\u001b[0m=\u001b[35m447423\u001b[0m\n",
      "\u001b[2m2023-10-22 18:47:46\u001b[0m [\u001b[32m\u001b[1minfo     \u001b[0m] \u001b[1mModel parameters are saved to d3rlpy_logs/exp_5_dynamics_reacher_default_20231022151920/model_447423.pt\u001b[0m\n"
     ]
    },
    {
     "data": {
      "application/vnd.jupyter.widget-view+json": {
       "model_id": "43244b1b8fb34cdf86e65e68e962f65f",
       "version_major": 2,
       "version_minor": 0
      },
      "text/plain": [
       "Epoch 94/100:   0%|          | 0/4811 [00:00<?, ?it/s]"
      ]
     },
     "metadata": {},
     "output_type": "display_data"
    },
    {
     "name": "stdout",
     "output_type": "stream",
     "text": [
      "\u001b[2m2023-10-22 18:50:01\u001b[0m [\u001b[32m\u001b[1minfo     \u001b[0m] \u001b[1mexp_5_dynamics_reacher_default_20231022151920: epoch=94 step=452234\u001b[0m \u001b[36mepoch\u001b[0m=\u001b[35m94\u001b[0m \u001b[36mmetrics\u001b[0m=\u001b[35m{'time_sample_batch': 0.00025278544183135205, 'time_algorithm_update': 0.017036330945227652, 'loss': -168.52547832973482, 'time_step': 0.017362844916743912, 'observation_error': 0.10341524488434117, 'reward_error': 9.337202424039789e-06, 'variance': 0.05152108345609298}\u001b[0m \u001b[36mstep\u001b[0m=\u001b[35m452234\u001b[0m\n",
      "\u001b[2m2023-10-22 18:50:01\u001b[0m [\u001b[32m\u001b[1minfo     \u001b[0m] \u001b[1mModel parameters are saved to d3rlpy_logs/exp_5_dynamics_reacher_default_20231022151920/model_452234.pt\u001b[0m\n"
     ]
    },
    {
     "data": {
      "application/vnd.jupyter.widget-view+json": {
       "model_id": "4fde240c42b54905a0beb3409748966e",
       "version_major": 2,
       "version_minor": 0
      },
      "text/plain": [
       "Epoch 95/100:   0%|          | 0/4811 [00:00<?, ?it/s]"
      ]
     },
     "metadata": {},
     "output_type": "display_data"
    },
    {
     "name": "stdout",
     "output_type": "stream",
     "text": [
      "\u001b[2m2023-10-22 18:52:15\u001b[0m [\u001b[32m\u001b[1minfo     \u001b[0m] \u001b[1mexp_5_dynamics_reacher_default_20231022151920: epoch=95 step=457045\u001b[0m \u001b[36mepoch\u001b[0m=\u001b[35m95\u001b[0m \u001b[36mmetrics\u001b[0m=\u001b[35m{'time_sample_batch': 0.0002542050507727246, 'time_algorithm_update': 0.017052270101921098, 'loss': -168.57605940644942, 'time_step': 0.017381641974297514, 'observation_error': 0.10084317811401415, 'reward_error': 9.003239708692481e-06, 'variance': 0.059413376062594406}\u001b[0m \u001b[36mstep\u001b[0m=\u001b[35m457045\u001b[0m\n",
      "\u001b[2m2023-10-22 18:52:15\u001b[0m [\u001b[32m\u001b[1minfo     \u001b[0m] \u001b[1mModel parameters are saved to d3rlpy_logs/exp_5_dynamics_reacher_default_20231022151920/model_457045.pt\u001b[0m\n"
     ]
    },
    {
     "data": {
      "application/vnd.jupyter.widget-view+json": {
       "model_id": "c5019beb3234453cbf774775c396a14a",
       "version_major": 2,
       "version_minor": 0
      },
      "text/plain": [
       "Epoch 96/100:   0%|          | 0/4811 [00:00<?, ?it/s]"
      ]
     },
     "metadata": {},
     "output_type": "display_data"
    },
    {
     "name": "stdout",
     "output_type": "stream",
     "text": [
      "\u001b[2m2023-10-22 18:54:29\u001b[0m [\u001b[32m\u001b[1minfo     \u001b[0m] \u001b[1mexp_5_dynamics_reacher_default_20231022151920: epoch=96 step=461856\u001b[0m \u001b[36mepoch\u001b[0m=\u001b[35m96\u001b[0m \u001b[36mmetrics\u001b[0m=\u001b[35m{'time_sample_batch': 0.00025295448065349206, 'time_algorithm_update': 0.017038778960395073, 'loss': -169.4844893108805, 'time_step': 0.01736616959469751, 'observation_error': 0.12297982277496178, 'reward_error': 8.8871511780203e-06, 'variance': 0.12733206500836716}\u001b[0m \u001b[36mstep\u001b[0m=\u001b[35m461856\u001b[0m\n",
      "\u001b[2m2023-10-22 18:54:29\u001b[0m [\u001b[32m\u001b[1minfo     \u001b[0m] \u001b[1mModel parameters are saved to d3rlpy_logs/exp_5_dynamics_reacher_default_20231022151920/model_461856.pt\u001b[0m\n"
     ]
    },
    {
     "data": {
      "application/vnd.jupyter.widget-view+json": {
       "model_id": "e017d0dd99894604bb1bde61ed3dd232",
       "version_major": 2,
       "version_minor": 0
      },
      "text/plain": [
       "Epoch 97/100:   0%|          | 0/4811 [00:00<?, ?it/s]"
      ]
     },
     "metadata": {},
     "output_type": "display_data"
    },
    {
     "name": "stdout",
     "output_type": "stream",
     "text": [
      "\u001b[2m2023-10-22 18:56:43\u001b[0m [\u001b[32m\u001b[1minfo     \u001b[0m] \u001b[1mexp_5_dynamics_reacher_default_20231022151920: epoch=97 step=466667\u001b[0m \u001b[36mepoch\u001b[0m=\u001b[35m97\u001b[0m \u001b[36mmetrics\u001b[0m=\u001b[35m{'time_sample_batch': 0.0002554397131048253, 'time_algorithm_update': 0.017081086934418125, 'loss': -169.95369062025267, 'time_step': 0.01741152358783602, 'observation_error': 0.0972222576841269, 'reward_error': 8.91747667483165e-06, 'variance': 0.048911529109217325}\u001b[0m \u001b[36mstep\u001b[0m=\u001b[35m466667\u001b[0m\n",
      "\u001b[2m2023-10-22 18:56:43\u001b[0m [\u001b[32m\u001b[1minfo     \u001b[0m] \u001b[1mModel parameters are saved to d3rlpy_logs/exp_5_dynamics_reacher_default_20231022151920/model_466667.pt\u001b[0m\n"
     ]
    },
    {
     "data": {
      "application/vnd.jupyter.widget-view+json": {
       "model_id": "8556b8119710443ab3b2653e2fc72f0b",
       "version_major": 2,
       "version_minor": 0
      },
      "text/plain": [
       "Epoch 98/100:   0%|          | 0/4811 [00:00<?, ?it/s]"
      ]
     },
     "metadata": {},
     "output_type": "display_data"
    },
    {
     "name": "stdout",
     "output_type": "stream",
     "text": [
      "\u001b[2m2023-10-22 18:58:57\u001b[0m [\u001b[32m\u001b[1minfo     \u001b[0m] \u001b[1mexp_5_dynamics_reacher_default_20231022151920: epoch=98 step=471478\u001b[0m \u001b[36mepoch\u001b[0m=\u001b[35m98\u001b[0m \u001b[36mmetrics\u001b[0m=\u001b[35m{'time_sample_batch': 0.0002518787475218027, 'time_algorithm_update': 0.01700541805115888, 'loss': -169.793736654665, 'time_step': 0.01733218109600263, 'observation_error': 0.09946431987360776, 'reward_error': 9.797447985920796e-06, 'variance': 0.049045909698080425}\u001b[0m \u001b[36mstep\u001b[0m=\u001b[35m471478\u001b[0m\n",
      "\u001b[2m2023-10-22 18:58:57\u001b[0m [\u001b[32m\u001b[1minfo     \u001b[0m] \u001b[1mModel parameters are saved to d3rlpy_logs/exp_5_dynamics_reacher_default_20231022151920/model_471478.pt\u001b[0m\n"
     ]
    },
    {
     "data": {
      "application/vnd.jupyter.widget-view+json": {
       "model_id": "1e8694cdaba94d258cc4c0e812a2fb2c",
       "version_major": 2,
       "version_minor": 0
      },
      "text/plain": [
       "Epoch 99/100:   0%|          | 0/4811 [00:00<?, ?it/s]"
      ]
     },
     "metadata": {},
     "output_type": "display_data"
    },
    {
     "name": "stdout",
     "output_type": "stream",
     "text": [
      "\u001b[2m2023-10-22 19:01:12\u001b[0m [\u001b[32m\u001b[1minfo     \u001b[0m] \u001b[1mexp_5_dynamics_reacher_default_20231022151920: epoch=99 step=476289\u001b[0m \u001b[36mepoch\u001b[0m=\u001b[35m99\u001b[0m \u001b[36mmetrics\u001b[0m=\u001b[35m{'time_sample_batch': 0.00025319071872594625, 'time_algorithm_update': 0.017060706333468845, 'loss': -169.42349036095223, 'time_step': 0.01738923162413942, 'observation_error': 0.13280601751685417, 'reward_error': 9.202625165181117e-06, 'variance': 0.2010845124122297}\u001b[0m \u001b[36mstep\u001b[0m=\u001b[35m476289\u001b[0m\n",
      "\u001b[2m2023-10-22 19:01:12\u001b[0m [\u001b[32m\u001b[1minfo     \u001b[0m] \u001b[1mModel parameters are saved to d3rlpy_logs/exp_5_dynamics_reacher_default_20231022151920/model_476289.pt\u001b[0m\n"
     ]
    },
    {
     "data": {
      "application/vnd.jupyter.widget-view+json": {
       "model_id": "0b4b641463924fcda188dae1f275ccc2",
       "version_major": 2,
       "version_minor": 0
      },
      "text/plain": [
       "Epoch 100/100:   0%|          | 0/4811 [00:00<?, ?it/s]"
      ]
     },
     "metadata": {},
     "output_type": "display_data"
    },
    {
     "name": "stdout",
     "output_type": "stream",
     "text": [
      "\u001b[2m2023-10-22 19:03:27\u001b[0m [\u001b[32m\u001b[1minfo     \u001b[0m] \u001b[1mexp_5_dynamics_reacher_default_20231022151920: epoch=100 step=481100\u001b[0m \u001b[36mepoch\u001b[0m=\u001b[35m100\u001b[0m \u001b[36mmetrics\u001b[0m=\u001b[35m{'time_sample_batch': 0.0002546628084977633, 'time_algorithm_update': 0.017076166571611377, 'loss': -169.28865254968497, 'time_step': 0.01740551178233833, 'observation_error': 0.09620699387020272, 'reward_error': 8.344311619764974e-06, 'variance': 0.051795174158562454}\u001b[0m \u001b[36mstep\u001b[0m=\u001b[35m481100\u001b[0m\n",
      "\u001b[2m2023-10-22 19:03:27\u001b[0m [\u001b[32m\u001b[1minfo     \u001b[0m] \u001b[1mModel parameters are saved to d3rlpy_logs/exp_5_dynamics_reacher_default_20231022151920/model_481100.pt\u001b[0m\n",
      "Using SymmetryEncoderFactory\n",
      "\u001b[2m2023-10-22 19:03:27\u001b[0m [\u001b[32m\u001b[1mdebug    \u001b[0m] \u001b[1mRoundIterator is selected.\u001b[0m\n",
      "\u001b[2m2023-10-22 19:03:27\u001b[0m [\u001b[32m\u001b[1minfo     \u001b[0m] \u001b[1mDirectory is created at d3rlpy_logs/exp_5_dynamics_reacher_symmetry_20231022190327\u001b[0m\n",
      "\u001b[2m2023-10-22 19:03:27\u001b[0m [\u001b[32m\u001b[1mdebug    \u001b[0m] \u001b[1mBuilding models...\u001b[0m\n",
      "\u001b[2m2023-10-22 19:03:27\u001b[0m [\u001b[32m\u001b[1mdebug    \u001b[0m] \u001b[1mModels have been built.\u001b[0m\n",
      "\u001b[2m2023-10-22 19:03:27\u001b[0m [\u001b[32m\u001b[1minfo     \u001b[0m] \u001b[1mParameters are saved to d3rlpy_logs/exp_5_dynamics_reacher_symmetry_20231022190327/params.json\u001b[0m \u001b[36mparams\u001b[0m=\u001b[35m{'action_scaler': None, 'batch_size': 100, 'discrete_action': False, 'gamma': 1.0, 'generated_maxlen': 100000, 'learning_rate': 0.0001, 'n_ensembles': 5, 'n_frames': 1, 'n_steps': 1, 'optim_factory': {'optim_cls': 'Adam', 'betas': (0.9, 0.999), 'eps': 1e-08, 'weight_decay': 0.0001, 'amsgrad': False}, 'real_ratio': 1.0, 'reward_encoder_factory': {'type': 'default', 'params': {'activation': 'relu', 'use_batch_norm': False, 'dropout_rate': None}}, 'reward_scaler': None, 'scaler': None, 'state_encoder_factory': {'type': 'symmetry', 'params': {'hidden_units': [256, 256], 'activation': 'relu', 'use_batch_norm': False, 'dropout_rate': None, 'use_dense': False, 'project': <function reacher_project at 0x7f3074269af0>, 'projection_size': 3}}, 'use_gpu': 0, 'variance_type': 'max', 'algorithm': 'ProbabilisticEnsembleDynamics', 'observation_shape': (8,), 'action_size': 2}\u001b[0m\n"
     ]
    },
    {
     "data": {
      "application/vnd.jupyter.widget-view+json": {
       "model_id": "20330620f36e4711ba8711feb9f419fc",
       "version_major": 2,
       "version_minor": 0
      },
      "text/plain": [
       "Epoch 1/100:   0%|          | 0/4812 [00:00<?, ?it/s]"
      ]
     },
     "metadata": {},
     "output_type": "display_data"
    },
    {
     "name": "stdout",
     "output_type": "stream",
     "text": [
      "\u001b[2m2023-10-22 19:05:46\u001b[0m [\u001b[32m\u001b[1minfo     \u001b[0m] \u001b[1mexp_5_dynamics_reacher_symmetry_20231022190327: epoch=1 step=4812\u001b[0m \u001b[36mepoch\u001b[0m=\u001b[35m1\u001b[0m \u001b[36mmetrics\u001b[0m=\u001b[35m{'time_sample_batch': 0.0002546806386977756, 'time_algorithm_update': 0.017314200191228268, 'loss': 67.55117154604169, 'time_step': 0.01765825752407337, 'observation_error': 1.7729882563186647, 'reward_error': 0.027141206179212524, 'variance': 1.3857992146105422}\u001b[0m \u001b[36mstep\u001b[0m=\u001b[35m4812\u001b[0m\n",
      "\u001b[2m2023-10-22 19:05:46\u001b[0m [\u001b[32m\u001b[1minfo     \u001b[0m] \u001b[1mModel parameters are saved to d3rlpy_logs/exp_5_dynamics_reacher_symmetry_20231022190327/model_4812.pt\u001b[0m\n"
     ]
    },
    {
     "data": {
      "application/vnd.jupyter.widget-view+json": {
       "model_id": "4a55a30be40143cca7fbb4939f77e20d",
       "version_major": 2,
       "version_minor": 0
      },
      "text/plain": [
       "Epoch 2/100:   0%|          | 0/4812 [00:00<?, ?it/s]"
      ]
     },
     "metadata": {},
     "output_type": "display_data"
    },
    {
     "name": "stdout",
     "output_type": "stream",
     "text": [
      "\u001b[2m2023-10-22 19:08:04\u001b[0m [\u001b[32m\u001b[1minfo     \u001b[0m] \u001b[1mexp_5_dynamics_reacher_symmetry_20231022190327: epoch=2 step=9624\u001b[0m \u001b[36mepoch\u001b[0m=\u001b[35m2\u001b[0m \u001b[36mmetrics\u001b[0m=\u001b[35m{'time_sample_batch': 0.0002527290944347556, 'time_algorithm_update': 0.017405673155463545, 'loss': -34.41131811917869, 'time_step': 0.017741769329270816, 'observation_error': 1.1365656300700744, 'reward_error': 0.010621586451023225, 'variance': 0.6648616752762887}\u001b[0m \u001b[36mstep\u001b[0m=\u001b[35m9624\u001b[0m\n",
      "\u001b[2m2023-10-22 19:08:04\u001b[0m [\u001b[32m\u001b[1minfo     \u001b[0m] \u001b[1mModel parameters are saved to d3rlpy_logs/exp_5_dynamics_reacher_symmetry_20231022190327/model_9624.pt\u001b[0m\n"
     ]
    },
    {
     "data": {
      "application/vnd.jupyter.widget-view+json": {
       "model_id": "29e174830302422aaff808b3add7f9be",
       "version_major": 2,
       "version_minor": 0
      },
      "text/plain": [
       "Epoch 3/100:   0%|          | 0/4812 [00:00<?, ?it/s]"
      ]
     },
     "metadata": {},
     "output_type": "display_data"
    },
    {
     "name": "stdout",
     "output_type": "stream",
     "text": [
      "\u001b[2m2023-10-22 19:10:24\u001b[0m [\u001b[32m\u001b[1minfo     \u001b[0m] \u001b[1mexp_5_dynamics_reacher_symmetry_20231022190327: epoch=3 step=14436\u001b[0m \u001b[36mepoch\u001b[0m=\u001b[35m3\u001b[0m \u001b[36mmetrics\u001b[0m=\u001b[35m{'time_sample_batch': 0.00025582288764262336, 'time_algorithm_update': 0.017451642804213196, 'loss': -60.73875956731544, 'time_step': 0.01778776637732933, 'observation_error': 0.9950461414000269, 'reward_error': 0.006494370335419913, 'variance': 0.5695077713723158}\u001b[0m \u001b[36mstep\u001b[0m=\u001b[35m14436\u001b[0m\n",
      "\u001b[2m2023-10-22 19:10:24\u001b[0m [\u001b[32m\u001b[1minfo     \u001b[0m] \u001b[1mModel parameters are saved to d3rlpy_logs/exp_5_dynamics_reacher_symmetry_20231022190327/model_14436.pt\u001b[0m\n"
     ]
    },
    {
     "data": {
      "application/vnd.jupyter.widget-view+json": {
       "model_id": "5d419123dcdd44bf816879fef772ee18",
       "version_major": 2,
       "version_minor": 0
      },
      "text/plain": [
       "Epoch 4/100:   0%|          | 0/4812 [00:00<?, ?it/s]"
      ]
     },
     "metadata": {},
     "output_type": "display_data"
    },
    {
     "name": "stdout",
     "output_type": "stream",
     "text": [
      "\u001b[2m2023-10-22 19:12:42\u001b[0m [\u001b[32m\u001b[1minfo     \u001b[0m] \u001b[1mexp_5_dynamics_reacher_symmetry_20231022190327: epoch=4 step=19248\u001b[0m \u001b[36mepoch\u001b[0m=\u001b[35m4\u001b[0m \u001b[36mmetrics\u001b[0m=\u001b[35m{'time_sample_batch': 0.0002536933221920074, 'time_algorithm_update': 0.0174128503375319, 'loss': -83.1134996138705, 'time_step': 0.017742859108291462, 'observation_error': 0.8791388435914068, 'reward_error': 0.00363882280111391, 'variance': 0.48822060813064266}\u001b[0m \u001b[36mstep\u001b[0m=\u001b[35m19248\u001b[0m\n",
      "\u001b[2m2023-10-22 19:12:42\u001b[0m [\u001b[32m\u001b[1minfo     \u001b[0m] \u001b[1mModel parameters are saved to d3rlpy_logs/exp_5_dynamics_reacher_symmetry_20231022190327/model_19248.pt\u001b[0m\n"
     ]
    },
    {
     "data": {
      "application/vnd.jupyter.widget-view+json": {
       "model_id": "f579e33d866f441cb656cc0646775b82",
       "version_major": 2,
       "version_minor": 0
      },
      "text/plain": [
       "Epoch 5/100:   0%|          | 0/4812 [00:00<?, ?it/s]"
      ]
     },
     "metadata": {},
     "output_type": "display_data"
    },
    {
     "ename": "KeyboardInterrupt",
     "evalue": "",
     "output_type": "error",
     "traceback": [
      "\u001b[0;31m---------------------------------------------------------------------------\u001b[0m",
      "\u001b[0;31mKeyboardInterrupt\u001b[0m                         Traceback (most recent call last)",
      "Cell \u001b[0;32mIn[13], line 1\u001b[0m\n\u001b[0;32m----> 1\u001b[0m \u001b[43mexperiment_dynamics_training\u001b[49m\u001b[43m(\u001b[49m\u001b[43mdataset\u001b[49m\u001b[38;5;241;43m=\u001b[39;49m\u001b[43mdataset\u001b[49m\u001b[43m,\u001b[49m\u001b[43m \u001b[49m\u001b[43msymmetry_project\u001b[49m\u001b[38;5;241;43m=\u001b[39;49m\u001b[43mreacher_project\u001b[49m\u001b[43m,\u001b[49m\u001b[43m \u001b[49m\u001b[43mprojection_size\u001b[49m\u001b[38;5;241;43m=\u001b[39;49m\u001b[38;5;241;43m3\u001b[39;49m\u001b[43m,\u001b[49m\u001b[43m \u001b[49m\u001b[43mn_runs\u001b[49m\u001b[38;5;241;43m=\u001b[39;49m\u001b[38;5;241;43m5\u001b[39;49m\u001b[43m,\u001b[49m\u001b[43m \u001b[49m\u001b[43mexperiment_name\u001b[49m\u001b[38;5;241;43m=\u001b[39;49m\u001b[38;5;124;43m\"\u001b[39;49m\u001b[38;5;124;43mexp_5_dynamics_reacher\u001b[39;49m\u001b[38;5;124;43m\"\u001b[39;49m\u001b[43m,\u001b[49m\u001b[43m \u001b[49m\u001b[43muse_gpu\u001b[49m\u001b[38;5;241;43m=\u001b[39;49m\u001b[38;5;28;43;01mTrue\u001b[39;49;00m\u001b[43m)\u001b[49m\n",
      "Cell \u001b[0;32mIn[12], line 12\u001b[0m, in \u001b[0;36mexperiment_dynamics_training\u001b[0;34m(dataset, symmetry_project, projection_size, n_runs, experiment_name, seed, use_gpu)\u001b[0m\n\u001b[1;32m     10\u001b[0m \u001b[38;5;28;01melse\u001b[39;00m:\n\u001b[1;32m     11\u001b[0m     dynamics \u001b[38;5;241m=\u001b[39m d3rlpy\u001b[38;5;241m.\u001b[39mdynamics\u001b[38;5;241m.\u001b[39mProbabilisticEnsembleDynamics(learning_rate\u001b[38;5;241m=\u001b[39m\u001b[38;5;241m1e-4\u001b[39m, use_gpu\u001b[38;5;241m=\u001b[39muse_gpu)\n\u001b[0;32m---> 12\u001b[0m \u001b[43mdynamics\u001b[49m\u001b[38;5;241;43m.\u001b[39;49m\u001b[43mfit\u001b[49m\u001b[43m(\u001b[49m\u001b[43mtrain_episodes\u001b[49m\u001b[43m,\u001b[49m\n\u001b[1;32m     13\u001b[0m \u001b[43m     \u001b[49m\u001b[43meval_episodes\u001b[49m\u001b[38;5;241;43m=\u001b[39;49m\u001b[43mtest_episodes\u001b[49m\u001b[43m,\u001b[49m\n\u001b[1;32m     14\u001b[0m \u001b[43m     \u001b[49m\u001b[43mn_epochs\u001b[49m\u001b[38;5;241;43m=\u001b[39;49m\u001b[38;5;241;43m100\u001b[39;49m\u001b[43m,\u001b[49m\n\u001b[1;32m     15\u001b[0m \u001b[43m     \u001b[49m\u001b[43mscorers\u001b[49m\u001b[38;5;241;43m=\u001b[39;49m\u001b[43m{\u001b[49m\n\u001b[1;32m     16\u001b[0m \u001b[43m        \u001b[49m\u001b[38;5;124;43m'\u001b[39;49m\u001b[38;5;124;43mobservation_error\u001b[39;49m\u001b[38;5;124;43m'\u001b[39;49m\u001b[43m:\u001b[49m\u001b[43m \u001b[49m\u001b[43md3rlpy\u001b[49m\u001b[38;5;241;43m.\u001b[39;49m\u001b[43mmetrics\u001b[49m\u001b[38;5;241;43m.\u001b[39;49m\u001b[43mscorer\u001b[49m\u001b[38;5;241;43m.\u001b[39;49m\u001b[43mdynamics_observation_prediction_error_scorer\u001b[49m\u001b[43m,\u001b[49m\n\u001b[1;32m     17\u001b[0m \u001b[43m        \u001b[49m\u001b[38;5;124;43m'\u001b[39;49m\u001b[38;5;124;43mreward_error\u001b[39;49m\u001b[38;5;124;43m'\u001b[39;49m\u001b[43m:\u001b[49m\u001b[43m \u001b[49m\u001b[43md3rlpy\u001b[49m\u001b[38;5;241;43m.\u001b[39;49m\u001b[43mmetrics\u001b[49m\u001b[38;5;241;43m.\u001b[39;49m\u001b[43mscorer\u001b[49m\u001b[38;5;241;43m.\u001b[39;49m\u001b[43mdynamics_reward_prediction_error_scorer\u001b[49m\u001b[43m,\u001b[49m\n\u001b[1;32m     18\u001b[0m \u001b[43m        \u001b[49m\u001b[38;5;124;43m'\u001b[39;49m\u001b[38;5;124;43mvariance\u001b[39;49m\u001b[38;5;124;43m'\u001b[39;49m\u001b[43m:\u001b[49m\u001b[43m \u001b[49m\u001b[43md3rlpy\u001b[49m\u001b[38;5;241;43m.\u001b[39;49m\u001b[43mmetrics\u001b[49m\u001b[38;5;241;43m.\u001b[39;49m\u001b[43mscorer\u001b[49m\u001b[38;5;241;43m.\u001b[39;49m\u001b[43mdynamics_prediction_variance_scorer\u001b[49m\u001b[43m,\u001b[49m\n\u001b[1;32m     19\u001b[0m \u001b[43m     \u001b[49m\u001b[43m}\u001b[49m\u001b[43m,\u001b[49m\n\u001b[1;32m     20\u001b[0m \u001b[43m    \u001b[49m\u001b[43mtensorboard_dir\u001b[49m\u001b[38;5;241;43m=\u001b[39;49m\u001b[38;5;124;43m'\u001b[39;49m\u001b[38;5;124;43mtensorboard_logs/dynamics\u001b[39;49m\u001b[38;5;124;43m'\u001b[39;49m\u001b[43m,\u001b[49m\n\u001b[1;32m     21\u001b[0m \u001b[43m    \u001b[49m\u001b[43mexperiment_name\u001b[49m\u001b[38;5;241;43m=\u001b[39;49m\u001b[43mexperiment_name\u001b[49m\u001b[43m \u001b[49m\u001b[38;5;241;43m+\u001b[39;49m\u001b[43m \u001b[49m\u001b[38;5;124;43m'\u001b[39;49m\u001b[38;5;124;43m_\u001b[39;49m\u001b[38;5;124;43m'\u001b[39;49m\u001b[43m \u001b[49m\u001b[38;5;241;43m+\u001b[39;49m\u001b[43m \u001b[49m\u001b[43mexp_type\u001b[49m\u001b[43m)\u001b[49m\n",
      "File \u001b[0;32m~/Projects/symmetry-cs285/d3rlpy/d3rlpy/base.py:406\u001b[0m, in \u001b[0;36mLearnableBase.fit\u001b[0;34m(self, dataset, n_epochs, n_steps, n_steps_per_epoch, save_metrics, experiment_name, with_timestamp, logdir, verbose, show_progress, tensorboard_dir, eval_episodes, save_interval, scorers, shuffle, callback)\u001b[0m\n\u001b[1;32m    349\u001b[0m \u001b[38;5;28;01mdef\u001b[39;00m \u001b[38;5;21mfit\u001b[39m(\n\u001b[1;32m    350\u001b[0m     \u001b[38;5;28mself\u001b[39m,\n\u001b[1;32m    351\u001b[0m     dataset: Union[List[Episode], List[Transition], MDPDataset],\n\u001b[0;32m   (...)\u001b[0m\n\u001b[1;32m    368\u001b[0m     callback: Optional[Callable[[\u001b[38;5;124m\"\u001b[39m\u001b[38;5;124mLearnableBase\u001b[39m\u001b[38;5;124m\"\u001b[39m, \u001b[38;5;28mint\u001b[39m, \u001b[38;5;28mint\u001b[39m], \u001b[38;5;28;01mNone\u001b[39;00m]] \u001b[38;5;241m=\u001b[39m \u001b[38;5;28;01mNone\u001b[39;00m,\n\u001b[1;32m    369\u001b[0m ) \u001b[38;5;241m-\u001b[39m\u001b[38;5;241m>\u001b[39m List[Tuple[\u001b[38;5;28mint\u001b[39m, Dict[\u001b[38;5;28mstr\u001b[39m, \u001b[38;5;28mfloat\u001b[39m]]]:\n\u001b[1;32m    370\u001b[0m \u001b[38;5;250m    \u001b[39m\u001b[38;5;124;03m\"\"\"Trains with the given dataset.\u001b[39;00m\n\u001b[1;32m    371\u001b[0m \n\u001b[1;32m    372\u001b[0m \u001b[38;5;124;03m    .. code-block:: python\u001b[39;00m\n\u001b[0;32m   (...)\u001b[0m\n\u001b[1;32m    404\u001b[0m \n\u001b[1;32m    405\u001b[0m \u001b[38;5;124;03m    \"\"\"\u001b[39;00m\n\u001b[0;32m--> 406\u001b[0m     results \u001b[38;5;241m=\u001b[39m \u001b[38;5;28;43mlist\u001b[39;49m\u001b[43m(\u001b[49m\n\u001b[1;32m    407\u001b[0m \u001b[43m        \u001b[49m\u001b[38;5;28;43mself\u001b[39;49m\u001b[38;5;241;43m.\u001b[39;49m\u001b[43mfitter\u001b[49m\u001b[43m(\u001b[49m\n\u001b[1;32m    408\u001b[0m \u001b[43m            \u001b[49m\u001b[43mdataset\u001b[49m\u001b[43m,\u001b[49m\n\u001b[1;32m    409\u001b[0m \u001b[43m            \u001b[49m\u001b[43mn_epochs\u001b[49m\u001b[43m,\u001b[49m\n\u001b[1;32m    410\u001b[0m \u001b[43m            \u001b[49m\u001b[43mn_steps\u001b[49m\u001b[43m,\u001b[49m\n\u001b[1;32m    411\u001b[0m \u001b[43m            \u001b[49m\u001b[43mn_steps_per_epoch\u001b[49m\u001b[43m,\u001b[49m\n\u001b[1;32m    412\u001b[0m \u001b[43m            \u001b[49m\u001b[43msave_metrics\u001b[49m\u001b[43m,\u001b[49m\n\u001b[1;32m    413\u001b[0m \u001b[43m            \u001b[49m\u001b[43mexperiment_name\u001b[49m\u001b[43m,\u001b[49m\n\u001b[1;32m    414\u001b[0m \u001b[43m            \u001b[49m\u001b[43mwith_timestamp\u001b[49m\u001b[43m,\u001b[49m\n\u001b[1;32m    415\u001b[0m \u001b[43m            \u001b[49m\u001b[43mlogdir\u001b[49m\u001b[43m,\u001b[49m\n\u001b[1;32m    416\u001b[0m \u001b[43m            \u001b[49m\u001b[43mverbose\u001b[49m\u001b[43m,\u001b[49m\n\u001b[1;32m    417\u001b[0m \u001b[43m            \u001b[49m\u001b[43mshow_progress\u001b[49m\u001b[43m,\u001b[49m\n\u001b[1;32m    418\u001b[0m \u001b[43m            \u001b[49m\u001b[43mtensorboard_dir\u001b[49m\u001b[43m,\u001b[49m\n\u001b[1;32m    419\u001b[0m \u001b[43m            \u001b[49m\u001b[43meval_episodes\u001b[49m\u001b[43m,\u001b[49m\n\u001b[1;32m    420\u001b[0m \u001b[43m            \u001b[49m\u001b[43msave_interval\u001b[49m\u001b[43m,\u001b[49m\n\u001b[1;32m    421\u001b[0m \u001b[43m            \u001b[49m\u001b[43mscorers\u001b[49m\u001b[43m,\u001b[49m\n\u001b[1;32m    422\u001b[0m \u001b[43m            \u001b[49m\u001b[43mshuffle\u001b[49m\u001b[43m,\u001b[49m\n\u001b[1;32m    423\u001b[0m \u001b[43m            \u001b[49m\u001b[43mcallback\u001b[49m\u001b[43m,\u001b[49m\n\u001b[1;32m    424\u001b[0m \u001b[43m        \u001b[49m\u001b[43m)\u001b[49m\n\u001b[1;32m    425\u001b[0m \u001b[43m    \u001b[49m\u001b[43m)\u001b[49m\n\u001b[1;32m    426\u001b[0m     \u001b[38;5;28;01mreturn\u001b[39;00m results\n",
      "File \u001b[0;32m~/Projects/symmetry-cs285/d3rlpy/d3rlpy/base.py:665\u001b[0m, in \u001b[0;36mLearnableBase.fitter\u001b[0;34m(self, dataset, n_epochs, n_steps, n_steps_per_epoch, save_metrics, experiment_name, with_timestamp, logdir, verbose, show_progress, tensorboard_dir, eval_episodes, save_interval, scorers, shuffle, callback)\u001b[0m\n\u001b[1;32m    662\u001b[0m         \u001b[38;5;28mself\u001b[39m\u001b[38;5;241m.\u001b[39m_loss_history[name]\u001b[38;5;241m.\u001b[39mappend(np\u001b[38;5;241m.\u001b[39mmean(vals))\n\u001b[1;32m    664\u001b[0m \u001b[38;5;28;01mif\u001b[39;00m scorers \u001b[38;5;129;01mand\u001b[39;00m eval_episodes:\n\u001b[0;32m--> 665\u001b[0m     \u001b[38;5;28;43mself\u001b[39;49m\u001b[38;5;241;43m.\u001b[39;49m\u001b[43m_evaluate\u001b[49m\u001b[43m(\u001b[49m\u001b[43meval_episodes\u001b[49m\u001b[43m,\u001b[49m\u001b[43m \u001b[49m\u001b[43mscorers\u001b[49m\u001b[43m,\u001b[49m\u001b[43m \u001b[49m\u001b[43mlogger\u001b[49m\u001b[43m)\u001b[49m\n\u001b[1;32m    667\u001b[0m \u001b[38;5;66;03m# save metrics\u001b[39;00m\n\u001b[1;32m    668\u001b[0m metrics \u001b[38;5;241m=\u001b[39m logger\u001b[38;5;241m.\u001b[39mcommit(epoch, total_step)\n",
      "File \u001b[0;32m~/Projects/symmetry-cs285/d3rlpy/d3rlpy/base.py:802\u001b[0m, in \u001b[0;36mLearnableBase._evaluate\u001b[0;34m(self, episodes, scorers, logger)\u001b[0m\n\u001b[1;32m    794\u001b[0m \u001b[38;5;28;01mdef\u001b[39;00m \u001b[38;5;21m_evaluate\u001b[39m(\n\u001b[1;32m    795\u001b[0m     \u001b[38;5;28mself\u001b[39m,\n\u001b[1;32m    796\u001b[0m     episodes: List[Episode],\n\u001b[1;32m    797\u001b[0m     scorers: Dict[\u001b[38;5;28mstr\u001b[39m, Callable[[Any, List[Episode]], \u001b[38;5;28mfloat\u001b[39m]],\n\u001b[1;32m    798\u001b[0m     logger: D3RLPyLogger,\n\u001b[1;32m    799\u001b[0m ) \u001b[38;5;241m-\u001b[39m\u001b[38;5;241m>\u001b[39m \u001b[38;5;28;01mNone\u001b[39;00m:\n\u001b[1;32m    800\u001b[0m     \u001b[38;5;28;01mfor\u001b[39;00m name, scorer \u001b[38;5;129;01min\u001b[39;00m scorers\u001b[38;5;241m.\u001b[39mitems():\n\u001b[1;32m    801\u001b[0m         \u001b[38;5;66;03m# evaluation with test data\u001b[39;00m\n\u001b[0;32m--> 802\u001b[0m         test_score \u001b[38;5;241m=\u001b[39m \u001b[43mscorer\u001b[49m\u001b[43m(\u001b[49m\u001b[38;5;28;43mself\u001b[39;49m\u001b[43m,\u001b[49m\u001b[43m \u001b[49m\u001b[43mepisodes\u001b[49m\u001b[43m)\u001b[49m\n\u001b[1;32m    804\u001b[0m         \u001b[38;5;66;03m# logging metrics\u001b[39;00m\n\u001b[1;32m    805\u001b[0m         logger\u001b[38;5;241m.\u001b[39madd_metric(name, test_score)\n",
      "File \u001b[0;32m~/Projects/symmetry-cs285/d3rlpy/d3rlpy/metrics/scorer.py:575\u001b[0m, in \u001b[0;36mdynamics_prediction_variance_scorer\u001b[0;34m(dynamics, episodes)\u001b[0m\n\u001b[1;32m    573\u001b[0m \u001b[38;5;28;01mfor\u001b[39;00m episode \u001b[38;5;129;01min\u001b[39;00m episodes:\n\u001b[1;32m    574\u001b[0m     \u001b[38;5;28;01mfor\u001b[39;00m batch \u001b[38;5;129;01min\u001b[39;00m _make_batches(episode, WINDOW_SIZE, dynamics\u001b[38;5;241m.\u001b[39mn_frames):\n\u001b[0;32m--> 575\u001b[0m         pred \u001b[38;5;241m=\u001b[39m \u001b[43mdynamics\u001b[49m\u001b[38;5;241;43m.\u001b[39;49m\u001b[43mpredict\u001b[49m\u001b[43m(\u001b[49m\u001b[43mbatch\u001b[49m\u001b[38;5;241;43m.\u001b[39;49m\u001b[43mobservations\u001b[49m\u001b[43m,\u001b[49m\u001b[43m \u001b[49m\u001b[43mbatch\u001b[49m\u001b[38;5;241;43m.\u001b[39;49m\u001b[43mactions\u001b[49m\u001b[43m,\u001b[49m\u001b[43m \u001b[49m\u001b[38;5;28;43;01mTrue\u001b[39;49;00m\u001b[43m)\u001b[49m\n\u001b[1;32m    576\u001b[0m         pred \u001b[38;5;241m=\u001b[39m cast(Tuple[np\u001b[38;5;241m.\u001b[39mndarray, np\u001b[38;5;241m.\u001b[39mndarray, np\u001b[38;5;241m.\u001b[39mndarray], pred)\n\u001b[1;32m    577\u001b[0m         total_variances \u001b[38;5;241m+\u001b[39m\u001b[38;5;241m=\u001b[39m pred[\u001b[38;5;241m2\u001b[39m]\u001b[38;5;241m.\u001b[39mtolist()\n",
      "File \u001b[0;32m~/Projects/symmetry-cs285/d3rlpy/d3rlpy/dynamics/base.py:70\u001b[0m, in \u001b[0;36mDynamicsBase.predict\u001b[0;34m(self, x, action, with_variance, indices)\u001b[0m\n\u001b[1;32m     56\u001b[0m \u001b[38;5;250m\u001b[39m\u001b[38;5;124;03m\"\"\"Returns predicted observation and reward.\u001b[39;00m\n\u001b[1;32m     57\u001b[0m \n\u001b[1;32m     58\u001b[0m \u001b[38;5;124;03mArgs:\u001b[39;00m\n\u001b[0;32m   (...)\u001b[0m\n\u001b[1;32m     67\u001b[0m \n\u001b[1;32m     68\u001b[0m \u001b[38;5;124;03m\"\"\"\u001b[39;00m\n\u001b[1;32m     69\u001b[0m \u001b[38;5;28;01massert\u001b[39;00m \u001b[38;5;28mself\u001b[39m\u001b[38;5;241m.\u001b[39m_impl \u001b[38;5;129;01mis\u001b[39;00m \u001b[38;5;129;01mnot\u001b[39;00m \u001b[38;5;28;01mNone\u001b[39;00m, IMPL_NOT_INITIALIZED_ERROR\n\u001b[0;32m---> 70\u001b[0m observations, rewards, variances \u001b[38;5;241m=\u001b[39m \u001b[38;5;28;43mself\u001b[39;49m\u001b[38;5;241;43m.\u001b[39;49m\u001b[43m_impl\u001b[49m\u001b[38;5;241;43m.\u001b[39;49m\u001b[43mpredict\u001b[49m\u001b[43m(\u001b[49m\n\u001b[1;32m     71\u001b[0m \u001b[43m    \u001b[49m\u001b[43mx\u001b[49m\u001b[43m,\u001b[49m\n\u001b[1;32m     72\u001b[0m \u001b[43m    \u001b[49m\u001b[43maction\u001b[49m\u001b[43m,\u001b[49m\n\u001b[1;32m     73\u001b[0m \u001b[43m    \u001b[49m\u001b[43mindices\u001b[49m\u001b[43m,\u001b[49m\n\u001b[1;32m     74\u001b[0m \u001b[43m\u001b[49m\u001b[43m)\u001b[49m\n\u001b[1;32m     75\u001b[0m \u001b[38;5;28;01mif\u001b[39;00m with_variance:\n\u001b[1;32m     76\u001b[0m     \u001b[38;5;28;01mreturn\u001b[39;00m observations, rewards, variances\n",
      "File \u001b[0;32m~/Projects/symmetry-cs285/d3rlpy/d3rlpy/torch_utility.py:305\u001b[0m, in \u001b[0;36meval_api.<locals>.wrapper\u001b[0;34m(self, *args, **kwargs)\u001b[0m\n\u001b[1;32m    303\u001b[0m \u001b[38;5;28;01mdef\u001b[39;00m \u001b[38;5;21mwrapper\u001b[39m(\u001b[38;5;28mself\u001b[39m: Any, \u001b[38;5;241m*\u001b[39margs: Any, \u001b[38;5;241m*\u001b[39m\u001b[38;5;241m*\u001b[39mkwargs: Any) \u001b[38;5;241m-\u001b[39m\u001b[38;5;241m>\u001b[39m np\u001b[38;5;241m.\u001b[39mndarray:\n\u001b[1;32m    304\u001b[0m     set_eval_mode(\u001b[38;5;28mself\u001b[39m)\n\u001b[0;32m--> 305\u001b[0m     \u001b[38;5;28;01mreturn\u001b[39;00m \u001b[43mf\u001b[49m\u001b[43m(\u001b[49m\u001b[38;5;28;43mself\u001b[39;49m\u001b[43m,\u001b[49m\u001b[43m \u001b[49m\u001b[38;5;241;43m*\u001b[39;49m\u001b[43margs\u001b[49m\u001b[43m,\u001b[49m\u001b[43m \u001b[49m\u001b[38;5;241;43m*\u001b[39;49m\u001b[38;5;241;43m*\u001b[39;49m\u001b[43mkwargs\u001b[49m\u001b[43m)\u001b[49m\n",
      "File \u001b[0;32m~/Projects/symmetry-cs285/d3rlpy/d3rlpy/torch_utility.py:295\u001b[0m, in \u001b[0;36mtorch_api.<locals>._torch_api.<locals>.wrapper\u001b[0;34m(self, *args, **kwargs)\u001b[0m\n\u001b[1;32m    292\u001b[0m             tensor \u001b[38;5;241m=\u001b[39m tensor\u001b[38;5;241m.\u001b[39mfloat()\n\u001b[1;32m    294\u001b[0m     tensors\u001b[38;5;241m.\u001b[39mappend(tensor)\n\u001b[0;32m--> 295\u001b[0m \u001b[38;5;28;01mreturn\u001b[39;00m \u001b[43mf\u001b[49m\u001b[43m(\u001b[49m\u001b[38;5;28;43mself\u001b[39;49m\u001b[43m,\u001b[49m\u001b[43m \u001b[49m\u001b[38;5;241;43m*\u001b[39;49m\u001b[43mtensors\u001b[49m\u001b[43m,\u001b[49m\u001b[43m \u001b[49m\u001b[38;5;241;43m*\u001b[39;49m\u001b[38;5;241;43m*\u001b[39;49m\u001b[43mkwargs\u001b[49m\u001b[43m)\u001b[49m\n",
      "File \u001b[0;32m~/Projects/symmetry-cs285/d3rlpy/d3rlpy/dynamics/torch/base.py:54\u001b[0m, in \u001b[0;36mTorchImplBase.predict\u001b[0;34m(self, x, action, indices)\u001b[0m\n\u001b[1;32m     45\u001b[0m \u001b[38;5;129m@eval_api\u001b[39m\n\u001b[1;32m     46\u001b[0m \u001b[38;5;129m@torch_api\u001b[39m(scaler_targets\u001b[38;5;241m=\u001b[39m[\u001b[38;5;124m\"\u001b[39m\u001b[38;5;124mx\u001b[39m\u001b[38;5;124m\"\u001b[39m], action_scaler_targets\u001b[38;5;241m=\u001b[39m[\u001b[38;5;124m\"\u001b[39m\u001b[38;5;124maction\u001b[39m\u001b[38;5;124m\"\u001b[39m])\n\u001b[1;32m     47\u001b[0m \u001b[38;5;28;01mdef\u001b[39;00m \u001b[38;5;21mpredict\u001b[39m(\n\u001b[0;32m   (...)\u001b[0m\n\u001b[1;32m     51\u001b[0m     indices: torch\u001b[38;5;241m.\u001b[39mTensor,\n\u001b[1;32m     52\u001b[0m ) \u001b[38;5;241m-\u001b[39m\u001b[38;5;241m>\u001b[39m Tuple[np\u001b[38;5;241m.\u001b[39mndarray, np\u001b[38;5;241m.\u001b[39mndarray, np\u001b[38;5;241m.\u001b[39mndarray]:\n\u001b[1;32m     53\u001b[0m     \u001b[38;5;28;01mwith\u001b[39;00m torch\u001b[38;5;241m.\u001b[39mno_grad():\n\u001b[0;32m---> 54\u001b[0m         observation, reward, variance \u001b[38;5;241m=\u001b[39m \u001b[38;5;28;43mself\u001b[39;49m\u001b[38;5;241;43m.\u001b[39;49m\u001b[43m_predict\u001b[49m\u001b[43m(\u001b[49m\u001b[43mx\u001b[49m\u001b[43m,\u001b[49m\u001b[43m \u001b[49m\u001b[43maction\u001b[49m\u001b[43m,\u001b[49m\u001b[43m \u001b[49m\u001b[43mindices\u001b[49m\u001b[43m)\u001b[49m\n\u001b[1;32m     56\u001b[0m         \u001b[38;5;28;01mif\u001b[39;00m \u001b[38;5;28mself\u001b[39m\u001b[38;5;241m.\u001b[39m_scaler:\n\u001b[1;32m     57\u001b[0m             observation \u001b[38;5;241m=\u001b[39m \u001b[38;5;28mself\u001b[39m\u001b[38;5;241m.\u001b[39m_scaler\u001b[38;5;241m.\u001b[39mreverse_transform(observation)\n",
      "File \u001b[0;32m~/Projects/symmetry-cs285/d3rlpy/d3rlpy/dynamics/torch/probabilistic_ensemble_dynamics_impl.py:101\u001b[0m, in \u001b[0;36mProbabilisticEnsembleDynamicsImpl._predict\u001b[0;34m(self, x, action, indices)\u001b[0m\n\u001b[1;32m     99\u001b[0m \u001b[38;5;28;01melse\u001b[39;00m:\n\u001b[1;32m    100\u001b[0m     \u001b[38;5;28;01massert\u001b[39;00m indices\u001b[38;5;241m.\u001b[39mshape \u001b[38;5;241m==\u001b[39m (x\u001b[38;5;241m.\u001b[39mshape[\u001b[38;5;241m0\u001b[39m],)\n\u001b[0;32m--> 101\u001b[0m \u001b[38;5;28;01mreturn\u001b[39;00m \u001b[38;5;28;43mself\u001b[39;49m\u001b[38;5;241;43m.\u001b[39;49m\u001b[43m_dynamics\u001b[49m\u001b[38;5;241;43m.\u001b[39;49m\u001b[43mpredict_with_variance\u001b[49m\u001b[43m(\u001b[49m\n\u001b[1;32m    102\u001b[0m \u001b[43m    \u001b[49m\u001b[43mx\u001b[49m\u001b[43m,\u001b[49m\n\u001b[1;32m    103\u001b[0m \u001b[43m    \u001b[49m\u001b[43maction\u001b[49m\u001b[43m,\u001b[49m\n\u001b[1;32m    104\u001b[0m \u001b[43m    \u001b[49m\u001b[43mvariance_type\u001b[49m\u001b[38;5;241;43m=\u001b[39;49m\u001b[38;5;28;43mself\u001b[39;49m\u001b[38;5;241;43m.\u001b[39;49m\u001b[43m_variance_type\u001b[49m\u001b[43m,\u001b[49m\n\u001b[1;32m    105\u001b[0m \u001b[43m    \u001b[49m\u001b[43mindices\u001b[49m\u001b[38;5;241;43m=\u001b[39;49m\u001b[43mindices\u001b[49m\u001b[38;5;241;43m.\u001b[39;49m\u001b[43mlong\u001b[49m\u001b[43m(\u001b[49m\u001b[43m)\u001b[49m\u001b[43m,\u001b[49m\n\u001b[1;32m    106\u001b[0m \u001b[43m\u001b[49m\u001b[43m)\u001b[49m\n",
      "File \u001b[0;32m~/Projects/symmetry-cs285/d3rlpy/d3rlpy/models/torch/dynamics.py:235\u001b[0m, in \u001b[0;36mProbabilisticEnsembleDynamicsModel.predict_with_variance\u001b[0;34m(self, x, action, variance_type, indices)\u001b[0m\n\u001b[1;32m    233\u001b[0m \u001b[38;5;66;03m# predict next observation and reward\u001b[39;00m\n\u001b[1;32m    234\u001b[0m \u001b[38;5;28;01mfor\u001b[39;00m model \u001b[38;5;129;01min\u001b[39;00m \u001b[38;5;28mself\u001b[39m\u001b[38;5;241m.\u001b[39m_models:\n\u001b[0;32m--> 235\u001b[0m     obs, rew, var \u001b[38;5;241m=\u001b[39m \u001b[43mmodel\u001b[49m\u001b[38;5;241;43m.\u001b[39;49m\u001b[43mpredict_with_variance\u001b[49m\u001b[43m(\u001b[49m\u001b[43mx\u001b[49m\u001b[43m,\u001b[49m\u001b[43m \u001b[49m\u001b[43maction\u001b[49m\u001b[43m)\u001b[49m\n\u001b[1;32m    236\u001b[0m     observations_list\u001b[38;5;241m.\u001b[39mappend(obs\u001b[38;5;241m.\u001b[39mview(\u001b[38;5;241m1\u001b[39m, x\u001b[38;5;241m.\u001b[39mshape[\u001b[38;5;241m0\u001b[39m], \u001b[38;5;241m-\u001b[39m\u001b[38;5;241m1\u001b[39m))\n\u001b[1;32m    237\u001b[0m     rewards_list\u001b[38;5;241m.\u001b[39mappend(rew\u001b[38;5;241m.\u001b[39mview(\u001b[38;5;241m1\u001b[39m, x\u001b[38;5;241m.\u001b[39mshape[\u001b[38;5;241m0\u001b[39m], \u001b[38;5;241m1\u001b[39m))\n",
      "File \u001b[0;32m~/Projects/symmetry-cs285/d3rlpy/d3rlpy/models/torch/dynamics.py:125\u001b[0m, in \u001b[0;36mProbabilisticDynamicsModel.predict_with_variance\u001b[0;34m(self, x, action)\u001b[0m\n\u001b[1;32m    121\u001b[0m \u001b[38;5;28;01mdef\u001b[39;00m \u001b[38;5;21mpredict_with_variance\u001b[39m(\n\u001b[1;32m    122\u001b[0m     \u001b[38;5;28mself\u001b[39m, x: torch\u001b[38;5;241m.\u001b[39mTensor, action: torch\u001b[38;5;241m.\u001b[39mTensor\n\u001b[1;32m    123\u001b[0m ) \u001b[38;5;241m-\u001b[39m\u001b[38;5;241m>\u001b[39m Tuple[torch\u001b[38;5;241m.\u001b[39mTensor, torch\u001b[38;5;241m.\u001b[39mTensor, torch\u001b[38;5;241m.\u001b[39mTensor]:\n\u001b[1;32m    124\u001b[0m     \u001b[38;5;66;03m# mu, logstd = self.compute_stats(x, action)\u001b[39;00m\n\u001b[0;32m--> 125\u001b[0m     state_mu, reward_mu, state_logstd, reward_logstd \u001b[38;5;241m=\u001b[39m \u001b[38;5;28;43mself\u001b[39;49m\u001b[38;5;241;43m.\u001b[39;49m\u001b[43mcompute_stats\u001b[49m\u001b[43m(\u001b[49m\u001b[43mx\u001b[49m\u001b[43m,\u001b[49m\u001b[43m \u001b[49m\u001b[43maction\u001b[49m\u001b[43m)\u001b[49m\n\u001b[1;32m    127\u001b[0m     state_dist \u001b[38;5;241m=\u001b[39m Normal(state_mu, state_logstd\u001b[38;5;241m.\u001b[39mexp())\n\u001b[1;32m    128\u001b[0m     state_pred \u001b[38;5;241m=\u001b[39m state_dist\u001b[38;5;241m.\u001b[39mrsample()\n",
      "File \u001b[0;32m~/Projects/symmetry-cs285/d3rlpy/d3rlpy/models/torch/dynamics.py:101\u001b[0m, in \u001b[0;36mProbabilisticDynamicsModel.compute_stats\u001b[0;34m(self, x, action)\u001b[0m\n\u001b[1;32m     98\u001b[0m state_h \u001b[38;5;241m=\u001b[39m \u001b[38;5;28mself\u001b[39m\u001b[38;5;241m.\u001b[39m_state_encoder(x, action)\n\u001b[1;32m     99\u001b[0m reward_h \u001b[38;5;241m=\u001b[39m \u001b[38;5;28mself\u001b[39m\u001b[38;5;241m.\u001b[39m_reward_encoder(x, action)\n\u001b[0;32m--> 101\u001b[0m state_mu \u001b[38;5;241m=\u001b[39m \u001b[38;5;28;43mself\u001b[39;49m\u001b[38;5;241;43m.\u001b[39;49m\u001b[43m_state_mu\u001b[49m\u001b[43m(\u001b[49m\u001b[43mstate_h\u001b[49m\u001b[43m)\u001b[49m\n\u001b[1;32m    102\u001b[0m reward_mu \u001b[38;5;241m=\u001b[39m \u001b[38;5;28mself\u001b[39m\u001b[38;5;241m.\u001b[39m_reward_mu(reward_h)\n\u001b[1;32m    104\u001b[0m \u001b[38;5;66;03m# log standard deviation with bounds\u001b[39;00m\n",
      "File \u001b[0;32m~/.local/share/virtualenvs/symmetry-cs285-U_vq4NrE/lib/python3.8/site-packages/torch/nn/modules/module.py:1527\u001b[0m, in \u001b[0;36mModule._call_impl\u001b[0;34m(self, *args, **kwargs)\u001b[0m\n\u001b[1;32m   1522\u001b[0m             \u001b[38;5;28;01mraise\u001b[39;00m \u001b[38;5;167;01mRuntimeError\u001b[39;00m(\n\u001b[1;32m   1523\u001b[0m                 \u001b[38;5;124m\"\u001b[39m\u001b[38;5;124mforward pre-hook must return None or a tuple \u001b[39m\u001b[38;5;124m\"\u001b[39m\n\u001b[1;32m   1524\u001b[0m                 \u001b[38;5;124mf\u001b[39m\u001b[38;5;124m\"\u001b[39m\u001b[38;5;124mof (new_args, new_kwargs), but got \u001b[39m\u001b[38;5;132;01m{\u001b[39;00mresult\u001b[38;5;132;01m}\u001b[39;00m\u001b[38;5;124m.\u001b[39m\u001b[38;5;124m\"\u001b[39m\n\u001b[1;32m   1525\u001b[0m             )\n\u001b[1;32m   1526\u001b[0m \u001b[38;5;28;01melse\u001b[39;00m:\n\u001b[0;32m-> 1527\u001b[0m     result \u001b[38;5;241m=\u001b[39m \u001b[43mhook\u001b[49m\u001b[43m(\u001b[49m\u001b[38;5;28;43mself\u001b[39;49m\u001b[43m,\u001b[49m\u001b[43m \u001b[49m\u001b[43margs\u001b[49m\u001b[43m)\u001b[49m\n\u001b[1;32m   1528\u001b[0m     \u001b[38;5;28;01mif\u001b[39;00m result \u001b[38;5;129;01mis\u001b[39;00m \u001b[38;5;129;01mnot\u001b[39;00m \u001b[38;5;28;01mNone\u001b[39;00m:\n\u001b[1;32m   1529\u001b[0m         \u001b[38;5;28;01mif\u001b[39;00m \u001b[38;5;129;01mnot\u001b[39;00m \u001b[38;5;28misinstance\u001b[39m(result, \u001b[38;5;28mtuple\u001b[39m):\n",
      "File \u001b[0;32m~/.local/share/virtualenvs/symmetry-cs285-U_vq4NrE/lib/python3.8/site-packages/torch/nn/utils/spectral_norm.py:107\u001b[0m, in \u001b[0;36mSpectralNorm.__call__\u001b[0;34m(self, module, inputs)\u001b[0m\n\u001b[1;32m    106\u001b[0m \u001b[38;5;28;01mdef\u001b[39;00m \u001b[38;5;21m__call__\u001b[39m(\u001b[38;5;28mself\u001b[39m, module: Module, inputs: Any) \u001b[38;5;241m-\u001b[39m\u001b[38;5;241m>\u001b[39m \u001b[38;5;28;01mNone\u001b[39;00m:\n\u001b[0;32m--> 107\u001b[0m     \u001b[38;5;28msetattr\u001b[39m(module, \u001b[38;5;28mself\u001b[39m\u001b[38;5;241m.\u001b[39mname, \u001b[38;5;28;43mself\u001b[39;49m\u001b[38;5;241;43m.\u001b[39;49m\u001b[43mcompute_weight\u001b[49m\u001b[43m(\u001b[49m\u001b[43mmodule\u001b[49m\u001b[43m,\u001b[49m\u001b[43m \u001b[49m\u001b[43mdo_power_iteration\u001b[49m\u001b[38;5;241;43m=\u001b[39;49m\u001b[43mmodule\u001b[49m\u001b[38;5;241;43m.\u001b[39;49m\u001b[43mtraining\u001b[49m\u001b[43m)\u001b[49m)\n",
      "File \u001b[0;32m~/.local/share/virtualenvs/symmetry-cs285-U_vq4NrE/lib/python3.8/site-packages/torch/nn/utils/spectral_norm.py:93\u001b[0m, in \u001b[0;36mSpectralNorm.compute_weight\u001b[0;34m(self, module, do_power_iteration)\u001b[0m\n\u001b[1;32m     90\u001b[0m             u \u001b[38;5;241m=\u001b[39m u\u001b[38;5;241m.\u001b[39mclone(memory_format\u001b[38;5;241m=\u001b[39mtorch\u001b[38;5;241m.\u001b[39mcontiguous_format)\n\u001b[1;32m     91\u001b[0m             v \u001b[38;5;241m=\u001b[39m v\u001b[38;5;241m.\u001b[39mclone(memory_format\u001b[38;5;241m=\u001b[39mtorch\u001b[38;5;241m.\u001b[39mcontiguous_format)\n\u001b[0;32m---> 93\u001b[0m sigma \u001b[38;5;241m=\u001b[39m \u001b[43mtorch\u001b[49m\u001b[38;5;241;43m.\u001b[39;49m\u001b[43mdot\u001b[49m\u001b[43m(\u001b[49m\u001b[43mu\u001b[49m\u001b[43m,\u001b[49m\u001b[43m \u001b[49m\u001b[43mtorch\u001b[49m\u001b[38;5;241;43m.\u001b[39;49m\u001b[43mmv\u001b[49m\u001b[43m(\u001b[49m\u001b[43mweight_mat\u001b[49m\u001b[43m,\u001b[49m\u001b[43m \u001b[49m\u001b[43mv\u001b[49m\u001b[43m)\u001b[49m\u001b[43m)\u001b[49m\n\u001b[1;32m     94\u001b[0m weight \u001b[38;5;241m=\u001b[39m weight \u001b[38;5;241m/\u001b[39m sigma\n\u001b[1;32m     95\u001b[0m \u001b[38;5;28;01mreturn\u001b[39;00m weight\n",
      "\u001b[0;31mKeyboardInterrupt\u001b[0m: "
     ]
    }
   ],
   "source": [
    "experiment_dynamics_training(dataset=dataset, symmetry_project=reacher_project, projection_size=3, n_runs=5, experiment_name=\"exp_5_dynamics_reacher\", use_gpu=True)"
   ]
  },
  {
   "cell_type": "markdown",
   "id": "0b6a0377-82fa-4d78-b498-0bcdd282fc51",
   "metadata": {},
   "source": [
    "## Load Dynamics"
   ]
  },
  {
   "cell_type": "code",
   "execution_count": null,
   "id": "92a2da5d-f176-42d6-b72e-e94800db8db6",
   "metadata": {},
   "outputs": [],
   "source": [
    "# load trained dynamics model\n",
    "dynamics_model_path = \"d3rlpy_logs/ProbabilisticEnsembleDynamics_20231002230632\"\n",
    "dynamics = d3rlpy.dynamics.ProbabilisticEnsembleDynamics.from_json(dynamics_model_path + '/params.json')\n",
    "dynamics.load_model(dynamics_model_path + '/model_31542.pt')"
   ]
  },
  {
   "cell_type": "markdown",
   "id": "b0cd5232-3ff4-44cc-afb8-a0cf2038071d",
   "metadata": {},
   "source": [
    "## Train Offline RL Algorithm"
   ]
  },
  {
   "cell_type": "code",
   "execution_count": null,
   "id": "7de5e387-db4f-4499-8d94-d74fbdfa75b4",
   "metadata": {},
   "outputs": [],
   "source": [
    "encoder = d3rlpy.models.encoders.DefaultEncoderFactory(dropout_rate=0.2)\n",
    "# give COMBO as the generator argument.\n",
    "combo = COMBO(dynamics=dynamics, critic_encoder_factory=encoder, actor_encoder_factory=encoder,\n",
    "              use_gpu=use_gpu)"
   ]
  },
  {
   "cell_type": "code",
   "execution_count": null,
   "id": "67116a4e-3e12-4f9b-a639-cd52b508761c",
   "metadata": {},
   "outputs": [],
   "source": [
    "combo.fit(dataset = train_episodes, eval_episodes=test_episodes, n_steps=100000, n_steps_per_epoch=1000, tensorboard_dir=\"tensorboard_logs\",\n",
    "         scorers={\n",
    "            'environment': d3rlpy.metrics.scorer.evaluate_on_environment(eval_env)\n",
    "        })"
   ]
  },
  {
   "cell_type": "code",
   "execution_count": 10,
   "id": "4427da29-d0b1-4566-b44d-b0c8e0952012",
   "metadata": {},
   "outputs": [],
   "source": [
    "def experiment_COMBO_training(dataset, eval_env, experiment_name, save_name, models_dir, symmetry_project, projection_size, seed=1, use_gpu=True):\n",
    "    model_paths = [filename for filename in os.listdir(models_dir) if filename.startswith(experiment_name+'_dynamics')]\n",
    "    model_paths = [models_dir + model_paths_i for model_paths_i in model_paths]\n",
    "    model_paths.sort()\n",
    "    print(model_paths)\n",
    "\n",
    "    symmetry_reduced_paths = []\n",
    "    default_paths = []\n",
    "    for model_path_i in model_paths:\n",
    "        f = open(model_path_i +'/params.json')\n",
    "        model_path_i_params = json.load(f)\n",
    "        if(model_path_i_params[\"state_encoder_factory\"]['type']=='symmetry'):\n",
    "            symmetry_reduced_paths.append(model_path_i)\n",
    "        elif(model_path_i_params[\"state_encoder_factory\"]['type']=='default'):\n",
    "            default_paths.append(model_path_i)\n",
    "    print(\"Default_paths:\", default_paths, \"Symmetry reduced paths: \", symmetry_reduced_paths)\n",
    "\n",
    "    # load trained dynamics model\n",
    "    for i in range(len(default_paths)):\n",
    "        for type, dynamics_model_path in zip(['symmetry', 'default'],[symmetry_reduced_paths[i], default_paths[i]]):\n",
    "            # use the same seeds for default and symmetric runs\n",
    "            train_episodes, test_episodes = train_test_split(dataset, random_state=seed+i)\n",
    "            if type == 'symmetry':\n",
    "                state_encoder_factory = encoders.SymmetryEncoderFactory(project=symmetry_project, projection_size=projection_size)\n",
    "                dynamics = d3rlpy.dynamics.ProbabilisticEnsembleDynamics(learning_rate=1e-4, use_gpu=use_gpu, state_encoder_factory=state_encoder_factory)\n",
    "                dynamics.build_with_dataset(dataset)\n",
    "            else:\n",
    "                dynamics = d3rlpy.dynamics.ProbabilisticEnsembleDynamics.from_json(dynamics_model_path + '/params.json')\n",
    "\n",
    "            filenames = os.listdir(dynamics_model_path)\n",
    "            latest_model_path = dynamics_model_path + '/model_' +  str(max([int(filename.strip('model_.pt')) for filename in filenames if filename.endswith(\".pt\")])) + '.pt'\n",
    "            dynamics.load_model(latest_model_path)\n",
    "            print(\"Loaded model: \", latest_model_path)\n",
    "            \n",
    "            encoder = d3rlpy.models.encoders.DefaultEncoderFactory(dropout_rate=0.2)\n",
    "            # give COMBO as the generator argument.\n",
    "            combo = COMBO(dynamics=dynamics, critic_encoder_factory=encoder, actor_encoder_factory=encoder, use_gpu=use_gpu)\n",
    "            combo.fit(dataset = train_episodes, eval_episodes=test_episodes, n_steps=1000000, n_steps_per_epoch=1000,\n",
    "                      tensorboard_dir=\"tensorboard_logs\",\n",
    "                     scorers={\n",
    "                        'environment': d3rlpy.metrics.scorer.evaluate_on_environment(eval_env)\n",
    "                    },\n",
    "                     experiment_name=save_name + \"_\" + type,\n",
    "                     save_interval=50)\n"
   ]
  },
  {
   "cell_type": "code",
   "execution_count": null,
   "id": "62117ddd-609b-43eb-9bfc-bef02c1c0acf",
   "metadata": {},
   "outputs": [
    {
     "name": "stdout",
     "output_type": "stream",
     "text": [
      "['d3rlpy_logs/exp_5_dynamics_reacher_default_20231022000548', 'd3rlpy_logs/exp_5_dynamics_reacher_default_20231022074412', 'd3rlpy_logs/exp_5_dynamics_reacher_default_20231022151920', 'd3rlpy_logs/exp_5_dynamics_reacher_symmetry_20231021133449', 'd3rlpy_logs/exp_5_dynamics_reacher_symmetry_20231022035204', 'd3rlpy_logs/exp_5_dynamics_reacher_symmetry_20231022112713']\n",
      "Default_paths: ['d3rlpy_logs/exp_5_dynamics_reacher_default_20231022000548', 'd3rlpy_logs/exp_5_dynamics_reacher_default_20231022074412', 'd3rlpy_logs/exp_5_dynamics_reacher_default_20231022151920'] Symmetry reduced paths:  ['d3rlpy_logs/exp_5_dynamics_reacher_symmetry_20231021133449', 'd3rlpy_logs/exp_5_dynamics_reacher_symmetry_20231022035204', 'd3rlpy_logs/exp_5_dynamics_reacher_symmetry_20231022112713']\n",
      "Using SymmetryEncoderFactory\n",
      "Loaded model:  d3rlpy_logs/exp_5_dynamics_reacher_symmetry_20231021133449/model_481100.pt\n",
      "\u001b[2m2023-10-22 22:05:37\u001b[0m [\u001b[32m\u001b[1mdebug    \u001b[0m] \u001b[1mRandomIterator is selected.\u001b[0m\n",
      "\u001b[2m2023-10-22 22:05:37\u001b[0m [\u001b[32m\u001b[1minfo     \u001b[0m] \u001b[1mDirectory is created at d3rlpy_logs/exp_5_COMBO_reacher_symmetry_20231022220537\u001b[0m\n",
      "\u001b[2m2023-10-22 22:05:37\u001b[0m [\u001b[32m\u001b[1mdebug    \u001b[0m] \u001b[1mBuilding models...\u001b[0m\n",
      "\u001b[2m2023-10-22 22:05:37\u001b[0m [\u001b[32m\u001b[1mdebug    \u001b[0m] \u001b[1mModels have been built.\u001b[0m\n",
      "\u001b[2m2023-10-22 22:05:37\u001b[0m [\u001b[32m\u001b[1minfo     \u001b[0m] \u001b[1mParameters are saved to d3rlpy_logs/exp_5_COMBO_reacher_symmetry_20231022220537/params.json\u001b[0m \u001b[36mparams\u001b[0m=\u001b[35m{'action_scaler': None, 'actor_encoder_factory': {'type': 'default', 'params': {'activation': 'relu', 'use_batch_norm': False, 'dropout_rate': 0.2}}, 'actor_learning_rate': 0.0001, 'actor_optim_factory': {'optim_cls': 'Adam', 'betas': (0.9, 0.999), 'eps': 1e-08, 'weight_decay': 0, 'amsgrad': False}, 'batch_size': 256, 'conservative_weight': 1.0, 'critic_encoder_factory': {'type': 'default', 'params': {'activation': 'relu', 'use_batch_norm': False, 'dropout_rate': 0.2}}, 'critic_learning_rate': 0.0003, 'critic_optim_factory': {'optim_cls': 'Adam', 'betas': (0.9, 0.999), 'eps': 1e-08, 'weight_decay': 0, 'amsgrad': False}, 'gamma': 0.99, 'generated_maxlen': 1250000, 'initial_temperature': 1.0, 'n_action_samples': 10, 'n_critics': 2, 'n_frames': 1, 'n_steps': 1, 'q_func_factory': {'type': 'mean', 'params': {'share_encoder': False}}, 'real_ratio': 0.5, 'reward_scaler': None, 'rollout_batch_size': 50000, 'rollout_horizon': 5, 'rollout_interval': 1000, 'scaler': None, 'soft_q_backup': False, 'tau': 0.005, 'temp_learning_rate': 0.0001, 'temp_optim_factory': {'optim_cls': 'Adam', 'betas': (0.9, 0.999), 'eps': 1e-08, 'weight_decay': 0, 'amsgrad': False}, 'update_actor_interval': 1, 'use_gpu': 0, 'algorithm': 'COMBO', 'observation_shape': (8,), 'action_size': 2}\u001b[0m\n"
     ]
    },
    {
     "data": {
      "application/vnd.jupyter.widget-view+json": {
       "model_id": "0697130ead1047508af3dbd3fe59c33e",
       "version_major": 2,
       "version_minor": 0
      },
      "text/plain": [
       "Epoch 1/1000:   0%|          | 0/1000 [00:00<?, ?it/s]"
      ]
     },
     "metadata": {},
     "output_type": "display_data"
    },
    {
     "name": "stdout",
     "output_type": "stream",
     "text": [
      "\u001b[2m2023-10-22 22:05:40\u001b[0m [\u001b[32m\u001b[1mdebug    \u001b[0m] \u001b[1m250000 transitions are generated.\u001b[0m \u001b[36mfake_transitions\u001b[0m=\u001b[35m250000\u001b[0m \u001b[36mreal_transitions\u001b[0m=\u001b[35m481194\u001b[0m\n",
      "\u001b[2m2023-10-22 22:06:06\u001b[0m [\u001b[32m\u001b[1minfo     \u001b[0m] \u001b[1mexp_5_COMBO_reacher_symmetry_20231022220537: epoch=1 step=1000\u001b[0m \u001b[36mepoch\u001b[0m=\u001b[35m1\u001b[0m \u001b[36mmetrics\u001b[0m=\u001b[35m{'time_sample_batch': 0.0010448517799377442, 'time_algorithm_update': 0.02410107946395874, 'critic_loss': 6.164930180072784, 'actor_loss': 0.7840588709590957, 'temp_loss': 1.9782691452503205, 'temp': 0.9607453961968422, 'time_step': 0.025244216203689576, 'environment': -11.378090222772746}\u001b[0m \u001b[36mstep\u001b[0m=\u001b[35m1000\u001b[0m\n"
     ]
    },
    {
     "data": {
      "application/vnd.jupyter.widget-view+json": {
       "model_id": "4f4e50e1ef2f400ea8a8278235b91faf",
       "version_major": 2,
       "version_minor": 0
      },
      "text/plain": [
       "Epoch 2/1000:   0%|          | 0/1000 [00:00<?, ?it/s]"
      ]
     },
     "metadata": {},
     "output_type": "display_data"
    },
    {
     "name": "stdout",
     "output_type": "stream",
     "text": [
      "\u001b[2m2023-10-22 22:06:08\u001b[0m [\u001b[32m\u001b[1mdebug    \u001b[0m] \u001b[1m250000 transitions are generated.\u001b[0m \u001b[36mfake_transitions\u001b[0m=\u001b[35m500000\u001b[0m \u001b[36mreal_transitions\u001b[0m=\u001b[35m481194\u001b[0m\n",
      "\u001b[2m2023-10-22 22:06:32\u001b[0m [\u001b[32m\u001b[1minfo     \u001b[0m] \u001b[1mexp_5_COMBO_reacher_symmetry_20231022220537: epoch=2 step=2000\u001b[0m \u001b[36mepoch\u001b[0m=\u001b[35m2\u001b[0m \u001b[36mmetrics\u001b[0m=\u001b[35m{'time_sample_batch': 0.000974318265914917, 'time_algorithm_update': 0.022514952182769776, 'critic_loss': 6.441056068897248, 'actor_loss': -0.3853411850333214, 'temp_loss': 2.197696668386459, 'temp': 0.8796660744547844, 'time_step': 0.023581775665283203, 'environment': -9.45402920163083}\u001b[0m \u001b[36mstep\u001b[0m=\u001b[35m2000\u001b[0m\n"
     ]
    },
    {
     "data": {
      "application/vnd.jupyter.widget-view+json": {
       "model_id": "d5822cf062d84542a17d05fd72ab291a",
       "version_major": 2,
       "version_minor": 0
      },
      "text/plain": [
       "Epoch 3/1000:   0%|          | 0/1000 [00:00<?, ?it/s]"
      ]
     },
     "metadata": {},
     "output_type": "display_data"
    },
    {
     "name": "stdout",
     "output_type": "stream",
     "text": [
      "\u001b[2m2023-10-22 22:06:34\u001b[0m [\u001b[32m\u001b[1mdebug    \u001b[0m] \u001b[1m250000 transitions are generated.\u001b[0m \u001b[36mfake_transitions\u001b[0m=\u001b[35m750000\u001b[0m \u001b[36mreal_transitions\u001b[0m=\u001b[35m481194\u001b[0m\n",
      "\u001b[2m2023-10-22 22:06:56\u001b[0m [\u001b[32m\u001b[1minfo     \u001b[0m] \u001b[1mexp_5_COMBO_reacher_symmetry_20231022220537: epoch=3 step=3000\u001b[0m \u001b[36mepoch\u001b[0m=\u001b[35m3\u001b[0m \u001b[36mmetrics\u001b[0m=\u001b[35m{'time_sample_batch': 0.0008982834815979004, 'time_algorithm_update': 0.020760424137115478, 'critic_loss': 5.72396941280365, 'actor_loss': -1.447117608487606, 'temp_loss': 1.515995758652687, 'temp': 0.8048089358210564, 'time_step': 0.02173899483680725, 'environment': -13.306788215474432}\u001b[0m \u001b[36mstep\u001b[0m=\u001b[35m3000\u001b[0m\n"
     ]
    },
    {
     "data": {
      "application/vnd.jupyter.widget-view+json": {
       "model_id": "5c402571a9c64b5fb99de2639c1cffb5",
       "version_major": 2,
       "version_minor": 0
      },
      "text/plain": [
       "Epoch 4/1000:   0%|          | 0/1000 [00:00<?, ?it/s]"
      ]
     },
     "metadata": {},
     "output_type": "display_data"
    },
    {
     "name": "stdout",
     "output_type": "stream",
     "text": [
      "\u001b[2m2023-10-22 22:06:58\u001b[0m [\u001b[32m\u001b[1mdebug    \u001b[0m] \u001b[1m250000 transitions are generated.\u001b[0m \u001b[36mfake_transitions\u001b[0m=\u001b[35m1000000\u001b[0m \u001b[36mreal_transitions\u001b[0m=\u001b[35m481194\u001b[0m\n",
      "\u001b[2m2023-10-22 22:07:22\u001b[0m [\u001b[32m\u001b[1minfo     \u001b[0m] \u001b[1mexp_5_COMBO_reacher_symmetry_20231022220537: epoch=4 step=4000\u001b[0m \u001b[36mepoch\u001b[0m=\u001b[35m4\u001b[0m \u001b[36mmetrics\u001b[0m=\u001b[35m{'time_sample_batch': 0.0009476220607757568, 'time_algorithm_update': 0.02188751196861267, 'critic_loss': 5.960247170925141, 'actor_loss': -2.824837364792824, 'temp_loss': 1.2216288534998894, 'temp': 0.743604374051094, 'time_step': 0.022915480375289916, 'environment': -11.59308494716095}\u001b[0m \u001b[36mstep\u001b[0m=\u001b[35m4000\u001b[0m\n"
     ]
    },
    {
     "data": {
      "application/vnd.jupyter.widget-view+json": {
       "model_id": "7cd9557b30864bf88f0bc97b92367028",
       "version_major": 2,
       "version_minor": 0
      },
      "text/plain": [
       "Epoch 5/1000:   0%|          | 0/1000 [00:00<?, ?it/s]"
      ]
     },
     "metadata": {},
     "output_type": "display_data"
    },
    {
     "name": "stdout",
     "output_type": "stream",
     "text": [
      "\u001b[2m2023-10-22 22:07:24\u001b[0m [\u001b[32m\u001b[1mdebug    \u001b[0m] \u001b[1m250000 transitions are generated.\u001b[0m \u001b[36mfake_transitions\u001b[0m=\u001b[35m1250000\u001b[0m \u001b[36mreal_transitions\u001b[0m=\u001b[35m481194\u001b[0m\n",
      "\u001b[2m2023-10-22 22:07:46\u001b[0m [\u001b[32m\u001b[1minfo     \u001b[0m] \u001b[1mexp_5_COMBO_reacher_symmetry_20231022220537: epoch=5 step=5000\u001b[0m \u001b[36mepoch\u001b[0m=\u001b[35m5\u001b[0m \u001b[36mmetrics\u001b[0m=\u001b[35m{'time_sample_batch': 0.000904782772064209, 'time_algorithm_update': 0.020933420181274413, 'critic_loss': 6.126681846618652, 'actor_loss': -3.9663084988594055, 'temp_loss': 1.0000704315900804, 'temp': 0.6873183034658432, 'time_step': 0.02191606855392456, 'environment': -12.868504867224436}\u001b[0m \u001b[36mstep\u001b[0m=\u001b[35m5000\u001b[0m\n"
     ]
    },
    {
     "data": {
      "application/vnd.jupyter.widget-view+json": {
       "model_id": "74c94e3f8b2f44ad87eacebea68c8f16",
       "version_major": 2,
       "version_minor": 0
      },
      "text/plain": [
       "Epoch 6/1000:   0%|          | 0/1000 [00:00<?, ?it/s]"
      ]
     },
     "metadata": {},
     "output_type": "display_data"
    },
    {
     "name": "stdout",
     "output_type": "stream",
     "text": [
      "\u001b[2m2023-10-22 22:07:48\u001b[0m [\u001b[32m\u001b[1mdebug    \u001b[0m] \u001b[1m250000 transitions are generated.\u001b[0m \u001b[36mfake_transitions\u001b[0m=\u001b[35m1250000\u001b[0m \u001b[36mreal_transitions\u001b[0m=\u001b[35m481194\u001b[0m\n",
      "\u001b[2m2023-10-22 22:08:11\u001b[0m [\u001b[32m\u001b[1minfo     \u001b[0m] \u001b[1mexp_5_COMBO_reacher_symmetry_20231022220537: epoch=6 step=6000\u001b[0m \u001b[36mepoch\u001b[0m=\u001b[35m6\u001b[0m \u001b[36mmetrics\u001b[0m=\u001b[35m{'time_sample_batch': 0.0009081273078918457, 'time_algorithm_update': 0.020884114742279053, 'critic_loss': 6.2228364725112915, 'actor_loss': -4.870485695362091, 'temp_loss': 0.7845671022534371, 'temp': 0.6365881853699684, 'time_step': 0.021872065782546996, 'environment': -9.595464266434737}\u001b[0m \u001b[36mstep\u001b[0m=\u001b[35m6000\u001b[0m\n"
     ]
    },
    {
     "data": {
      "application/vnd.jupyter.widget-view+json": {
       "model_id": "6160e5957d1544d48448f1327d5a5bf2",
       "version_major": 2,
       "version_minor": 0
      },
      "text/plain": [
       "Epoch 7/1000:   0%|          | 0/1000 [00:00<?, ?it/s]"
      ]
     },
     "metadata": {},
     "output_type": "display_data"
    },
    {
     "name": "stdout",
     "output_type": "stream",
     "text": [
      "\u001b[2m2023-10-22 22:08:13\u001b[0m [\u001b[32m\u001b[1mdebug    \u001b[0m] \u001b[1m250000 transitions are generated.\u001b[0m \u001b[36mfake_transitions\u001b[0m=\u001b[35m1250000\u001b[0m \u001b[36mreal_transitions\u001b[0m=\u001b[35m481194\u001b[0m\n",
      "\u001b[2m2023-10-22 22:08:35\u001b[0m [\u001b[32m\u001b[1minfo     \u001b[0m] \u001b[1mexp_5_COMBO_reacher_symmetry_20231022220537: epoch=7 step=7000\u001b[0m \u001b[36mepoch\u001b[0m=\u001b[35m7\u001b[0m \u001b[36mmetrics\u001b[0m=\u001b[35m{'time_sample_batch': 0.0009114305973052979, 'time_algorithm_update': 0.0209736967086792, 'critic_loss': 6.109674341201782, 'actor_loss': -5.415237628936768, 'temp_loss': 0.6603889551758766, 'temp': 0.5892914682626724, 'time_step': 0.02196425700187683, 'environment': -7.05141766163092}\u001b[0m \u001b[36mstep\u001b[0m=\u001b[35m7000\u001b[0m\n"
     ]
    },
    {
     "data": {
      "application/vnd.jupyter.widget-view+json": {
       "model_id": "e1a6151ad9774a038bbfdec0bf4aa0bf",
       "version_major": 2,
       "version_minor": 0
      },
      "text/plain": [
       "Epoch 8/1000:   0%|          | 0/1000 [00:00<?, ?it/s]"
      ]
     },
     "metadata": {},
     "output_type": "display_data"
    },
    {
     "name": "stdout",
     "output_type": "stream",
     "text": [
      "\u001b[2m2023-10-22 22:08:37\u001b[0m [\u001b[32m\u001b[1mdebug    \u001b[0m] \u001b[1m250000 transitions are generated.\u001b[0m \u001b[36mfake_transitions\u001b[0m=\u001b[35m1250000\u001b[0m \u001b[36mreal_transitions\u001b[0m=\u001b[35m481194\u001b[0m\n",
      "\u001b[2m2023-10-22 22:09:01\u001b[0m [\u001b[32m\u001b[1minfo     \u001b[0m] \u001b[1mexp_5_COMBO_reacher_symmetry_20231022220537: epoch=8 step=8000\u001b[0m \u001b[36mepoch\u001b[0m=\u001b[35m8\u001b[0m \u001b[36mmetrics\u001b[0m=\u001b[35m{'time_sample_batch': 0.0009443862438201905, 'time_algorithm_update': 0.02180388832092285, 'critic_loss': 5.888156137943268, 'actor_loss': -5.798446466445923, 'temp_loss': 0.5079215131103992, 'temp': 0.5462790789008141, 'time_step': 0.022827143907546997, 'environment': -7.15925957776022}\u001b[0m \u001b[36mstep\u001b[0m=\u001b[35m8000\u001b[0m\n"
     ]
    },
    {
     "data": {
      "application/vnd.jupyter.widget-view+json": {
       "model_id": "7c181275feb94bcbab7305ab7c3d707f",
       "version_major": 2,
       "version_minor": 0
      },
      "text/plain": [
       "Epoch 9/1000:   0%|          | 0/1000 [00:00<?, ?it/s]"
      ]
     },
     "metadata": {},
     "output_type": "display_data"
    },
    {
     "name": "stdout",
     "output_type": "stream",
     "text": [
      "\u001b[2m2023-10-22 22:09:02\u001b[0m [\u001b[32m\u001b[1mdebug    \u001b[0m] \u001b[1m250000 transitions are generated.\u001b[0m \u001b[36mfake_transitions\u001b[0m=\u001b[35m1250000\u001b[0m \u001b[36mreal_transitions\u001b[0m=\u001b[35m481194\u001b[0m\n",
      "\u001b[2m2023-10-22 22:09:25\u001b[0m [\u001b[32m\u001b[1minfo     \u001b[0m] \u001b[1mexp_5_COMBO_reacher_symmetry_20231022220537: epoch=9 step=9000\u001b[0m \u001b[36mepoch\u001b[0m=\u001b[35m9\u001b[0m \u001b[36mmetrics\u001b[0m=\u001b[35m{'time_sample_batch': 0.0008962349891662597, 'time_algorithm_update': 0.020811432123184204, 'critic_loss': 5.684026957988739, 'actor_loss': -6.000930200576782, 'temp_loss': 0.3951742529571056, 'temp': 0.5075755498707294, 'time_step': 0.021783833503723146, 'environment': -7.19920723925401}\u001b[0m \u001b[36mstep\u001b[0m=\u001b[35m9000\u001b[0m\n"
     ]
    },
    {
     "data": {
      "application/vnd.jupyter.widget-view+json": {
       "model_id": "996679c2cd384a61a2768727925da596",
       "version_major": 2,
       "version_minor": 0
      },
      "text/plain": [
       "Epoch 10/1000:   0%|          | 0/1000 [00:00<?, ?it/s]"
      ]
     },
     "metadata": {},
     "output_type": "display_data"
    },
    {
     "name": "stdout",
     "output_type": "stream",
     "text": [
      "\u001b[2m2023-10-22 22:09:27\u001b[0m [\u001b[32m\u001b[1mdebug    \u001b[0m] \u001b[1m250000 transitions are generated.\u001b[0m \u001b[36mfake_transitions\u001b[0m=\u001b[35m1250000\u001b[0m \u001b[36mreal_transitions\u001b[0m=\u001b[35m481194\u001b[0m\n",
      "\u001b[2m2023-10-22 22:09:49\u001b[0m [\u001b[32m\u001b[1minfo     \u001b[0m] \u001b[1mexp_5_COMBO_reacher_symmetry_20231022220537: epoch=10 step=10000\u001b[0m \u001b[36mepoch\u001b[0m=\u001b[35m10\u001b[0m \u001b[36mmetrics\u001b[0m=\u001b[35m{'time_sample_batch': 0.0009032092094421386, 'time_algorithm_update': 0.02087155795097351, 'critic_loss': 5.52108828163147, 'actor_loss': -6.123822211265564, 'temp_loss': 0.3050425755679607, 'temp': 0.4723744069635868, 'time_step': 0.021849528312683105, 'environment': -4.295841438791577}\u001b[0m \u001b[36mstep\u001b[0m=\u001b[35m10000\u001b[0m\n"
     ]
    },
    {
     "data": {
      "application/vnd.jupyter.widget-view+json": {
       "model_id": "a101523e3200469ea2aa125c8117962c",
       "version_major": 2,
       "version_minor": 0
      },
      "text/plain": [
       "Epoch 11/1000:   0%|          | 0/1000 [00:00<?, ?it/s]"
      ]
     },
     "metadata": {},
     "output_type": "display_data"
    },
    {
     "name": "stdout",
     "output_type": "stream",
     "text": [
      "\u001b[2m2023-10-22 22:09:51\u001b[0m [\u001b[32m\u001b[1mdebug    \u001b[0m] \u001b[1m250000 transitions are generated.\u001b[0m \u001b[36mfake_transitions\u001b[0m=\u001b[35m1250000\u001b[0m \u001b[36mreal_transitions\u001b[0m=\u001b[35m481194\u001b[0m\n",
      "\u001b[2m2023-10-22 22:10:15\u001b[0m [\u001b[32m\u001b[1minfo     \u001b[0m] \u001b[1mexp_5_COMBO_reacher_symmetry_20231022220537: epoch=11 step=11000\u001b[0m \u001b[36mepoch\u001b[0m=\u001b[35m11\u001b[0m \u001b[36mmetrics\u001b[0m=\u001b[35m{'time_sample_batch': 0.0009494717121124268, 'time_algorithm_update': 0.021759862422943116, 'critic_loss': 5.335129775047302, 'actor_loss': -6.166763888835907, 'temp_loss': 0.2273626386374235, 'temp': 0.4405156519114971, 'time_step': 0.022784265279769896, 'environment': -7.636023747493934}\u001b[0m \u001b[36mstep\u001b[0m=\u001b[35m11000\u001b[0m\n"
     ]
    },
    {
     "data": {
      "application/vnd.jupyter.widget-view+json": {
       "model_id": "f1f3f9bbccaa48cca0be6b4218af3cb3",
       "version_major": 2,
       "version_minor": 0
      },
      "text/plain": [
       "Epoch 12/1000:   0%|          | 0/1000 [00:00<?, ?it/s]"
      ]
     },
     "metadata": {},
     "output_type": "display_data"
    },
    {
     "name": "stdout",
     "output_type": "stream",
     "text": [
      "\u001b[2m2023-10-22 22:10:17\u001b[0m [\u001b[32m\u001b[1mdebug    \u001b[0m] \u001b[1m250000 transitions are generated.\u001b[0m \u001b[36mfake_transitions\u001b[0m=\u001b[35m1250000\u001b[0m \u001b[36mreal_transitions\u001b[0m=\u001b[35m481194\u001b[0m\n",
      "\u001b[2m2023-10-22 22:10:39\u001b[0m [\u001b[32m\u001b[1minfo     \u001b[0m] \u001b[1mexp_5_COMBO_reacher_symmetry_20231022220537: epoch=12 step=12000\u001b[0m \u001b[36mepoch\u001b[0m=\u001b[35m12\u001b[0m \u001b[36mmetrics\u001b[0m=\u001b[35m{'time_sample_batch': 0.0009227967262268066, 'time_algorithm_update': 0.02100396728515625, 'critic_loss': 5.151256232738495, 'actor_loss': -6.1243832621574406, 'temp_loss': 0.16370662254840135, 'temp': 0.4121418144106865, 'time_step': 0.02200215768814087, 'environment': -5.003131125908841}\u001b[0m \u001b[36mstep\u001b[0m=\u001b[35m12000\u001b[0m\n"
     ]
    },
    {
     "data": {
      "application/vnd.jupyter.widget-view+json": {
       "model_id": "70399873e7b94d908039f083cdfa128c",
       "version_major": 2,
       "version_minor": 0
      },
      "text/plain": [
       "Epoch 13/1000:   0%|          | 0/1000 [00:00<?, ?it/s]"
      ]
     },
     "metadata": {},
     "output_type": "display_data"
    },
    {
     "name": "stdout",
     "output_type": "stream",
     "text": [
      "\u001b[2m2023-10-22 22:10:41\u001b[0m [\u001b[32m\u001b[1mdebug    \u001b[0m] \u001b[1m250000 transitions are generated.\u001b[0m \u001b[36mfake_transitions\u001b[0m=\u001b[35m1250000\u001b[0m \u001b[36mreal_transitions\u001b[0m=\u001b[35m481194\u001b[0m\n",
      "\u001b[2m2023-10-22 22:11:04\u001b[0m [\u001b[32m\u001b[1minfo     \u001b[0m] \u001b[1mexp_5_COMBO_reacher_symmetry_20231022220537: epoch=13 step=13000\u001b[0m \u001b[36mepoch\u001b[0m=\u001b[35m13\u001b[0m \u001b[36mmetrics\u001b[0m=\u001b[35m{'time_sample_batch': 0.0008987038135528564, 'time_algorithm_update': 0.020776196718215942, 'critic_loss': 4.955436664104462, 'actor_loss': -6.015678730487823, 'temp_loss': 0.11501106555759907, 'temp': 0.3869228814840317, 'time_step': 0.02175032901763916, 'environment': -6.617932011775144}\u001b[0m \u001b[36mstep\u001b[0m=\u001b[35m13000\u001b[0m\n"
     ]
    },
    {
     "data": {
      "application/vnd.jupyter.widget-view+json": {
       "model_id": "f9819e222e8141c5a8aad49927e0bc8e",
       "version_major": 2,
       "version_minor": 0
      },
      "text/plain": [
       "Epoch 14/1000:   0%|          | 0/1000 [00:00<?, ?it/s]"
      ]
     },
     "metadata": {},
     "output_type": "display_data"
    },
    {
     "name": "stdout",
     "output_type": "stream",
     "text": [
      "\u001b[2m2023-10-22 22:11:06\u001b[0m [\u001b[32m\u001b[1mdebug    \u001b[0m] \u001b[1m250000 transitions are generated.\u001b[0m \u001b[36mfake_transitions\u001b[0m=\u001b[35m1250000\u001b[0m \u001b[36mreal_transitions\u001b[0m=\u001b[35m481194\u001b[0m\n",
      "\u001b[2m2023-10-22 22:11:28\u001b[0m [\u001b[32m\u001b[1minfo     \u001b[0m] \u001b[1mexp_5_COMBO_reacher_symmetry_20231022220537: epoch=14 step=14000\u001b[0m \u001b[36mepoch\u001b[0m=\u001b[35m14\u001b[0m \u001b[36mmetrics\u001b[0m=\u001b[35m{'time_sample_batch': 0.0009189965724945068, 'time_algorithm_update': 0.021000933170318602, 'critic_loss': 4.772475698947907, 'actor_loss': -5.881640050888062, 'temp_loss': 0.07321414167992771, 'temp': 0.3654467552304268, 'time_step': 0.022000169277191162, 'environment': -6.415529603771584}\u001b[0m \u001b[36mstep\u001b[0m=\u001b[35m14000\u001b[0m\n"
     ]
    },
    {
     "data": {
      "application/vnd.jupyter.widget-view+json": {
       "model_id": "2e263fe672d249f783433dfc233e78ee",
       "version_major": 2,
       "version_minor": 0
      },
      "text/plain": [
       "Epoch 15/1000:   0%|          | 0/1000 [00:00<?, ?it/s]"
      ]
     },
     "metadata": {},
     "output_type": "display_data"
    },
    {
     "name": "stdout",
     "output_type": "stream",
     "text": [
      "\u001b[2m2023-10-22 22:11:30\u001b[0m [\u001b[32m\u001b[1mdebug    \u001b[0m] \u001b[1m250000 transitions are generated.\u001b[0m \u001b[36mfake_transitions\u001b[0m=\u001b[35m1250000\u001b[0m \u001b[36mreal_transitions\u001b[0m=\u001b[35m481194\u001b[0m\n",
      "\u001b[2m2023-10-22 22:11:52\u001b[0m [\u001b[32m\u001b[1minfo     \u001b[0m] \u001b[1mexp_5_COMBO_reacher_symmetry_20231022220537: epoch=15 step=15000\u001b[0m \u001b[36mepoch\u001b[0m=\u001b[35m15\u001b[0m \u001b[36mmetrics\u001b[0m=\u001b[35m{'time_sample_batch': 0.000894312858581543, 'time_algorithm_update': 0.02056062388420105, 'critic_loss': 4.575043620586396, 'actor_loss': -5.705599377632141, 'temp_loss': 0.042463930384023116, 'temp': 0.34796223014593125, 'time_step': 0.02153500437736511, 'environment': -6.745404267711916}\u001b[0m \u001b[36mstep\u001b[0m=\u001b[35m15000\u001b[0m\n"
     ]
    },
    {
     "data": {
      "application/vnd.jupyter.widget-view+json": {
       "model_id": "93e53602cc0842f68a5faf8eced8cbc0",
       "version_major": 2,
       "version_minor": 0
      },
      "text/plain": [
       "Epoch 16/1000:   0%|          | 0/1000 [00:00<?, ?it/s]"
      ]
     },
     "metadata": {},
     "output_type": "display_data"
    },
    {
     "name": "stdout",
     "output_type": "stream",
     "text": [
      "\u001b[2m2023-10-22 22:11:55\u001b[0m [\u001b[32m\u001b[1mdebug    \u001b[0m] \u001b[1m250000 transitions are generated.\u001b[0m \u001b[36mfake_transitions\u001b[0m=\u001b[35m1250000\u001b[0m \u001b[36mreal_transitions\u001b[0m=\u001b[35m481194\u001b[0m\n",
      "\u001b[2m2023-10-22 22:12:17\u001b[0m [\u001b[32m\u001b[1minfo     \u001b[0m] \u001b[1mexp_5_COMBO_reacher_symmetry_20231022220537: epoch=16 step=16000\u001b[0m \u001b[36mepoch\u001b[0m=\u001b[35m16\u001b[0m \u001b[36mmetrics\u001b[0m=\u001b[35m{'time_sample_batch': 0.0008992013931274414, 'time_algorithm_update': 0.020741590738296508, 'critic_loss': 4.406714433431626, 'actor_loss': -5.493315636157989, 'temp_loss': 0.022574137995019554, 'temp': 0.33469546020030977, 'time_step': 0.021722209453582764, 'environment': -6.394032494618195}\u001b[0m \u001b[36mstep\u001b[0m=\u001b[35m16000\u001b[0m\n"
     ]
    },
    {
     "data": {
      "application/vnd.jupyter.widget-view+json": {
       "model_id": "8b9417963c244b85ad7fc7924fec81eb",
       "version_major": 2,
       "version_minor": 0
      },
      "text/plain": [
       "Epoch 17/1000:   0%|          | 0/1000 [00:00<?, ?it/s]"
      ]
     },
     "metadata": {},
     "output_type": "display_data"
    },
    {
     "name": "stdout",
     "output_type": "stream",
     "text": [
      "\u001b[2m2023-10-22 22:12:19\u001b[0m [\u001b[32m\u001b[1mdebug    \u001b[0m] \u001b[1m250000 transitions are generated.\u001b[0m \u001b[36mfake_transitions\u001b[0m=\u001b[35m1250000\u001b[0m \u001b[36mreal_transitions\u001b[0m=\u001b[35m481194\u001b[0m\n",
      "\u001b[2m2023-10-22 22:12:41\u001b[0m [\u001b[32m\u001b[1minfo     \u001b[0m] \u001b[1mexp_5_COMBO_reacher_symmetry_20231022220537: epoch=17 step=17000\u001b[0m \u001b[36mepoch\u001b[0m=\u001b[35m17\u001b[0m \u001b[36mmetrics\u001b[0m=\u001b[35m{'time_sample_batch': 0.0009200398921966553, 'time_algorithm_update': 0.020958128929138183, 'critic_loss': 4.293131200313568, 'actor_loss': -5.2977013230323795, 'temp_loss': 0.006463657052023336, 'temp': 0.32683619514107703, 'time_step': 0.02196212100982666, 'environment': -5.794153003939854}\u001b[0m \u001b[36mstep\u001b[0m=\u001b[35m17000\u001b[0m\n"
     ]
    },
    {
     "data": {
      "application/vnd.jupyter.widget-view+json": {
       "model_id": "aeb940a3e07d4307b918222afcdf4b6e",
       "version_major": 2,
       "version_minor": 0
      },
      "text/plain": [
       "Epoch 18/1000:   0%|          | 0/1000 [00:00<?, ?it/s]"
      ]
     },
     "metadata": {},
     "output_type": "display_data"
    },
    {
     "name": "stdout",
     "output_type": "stream",
     "text": [
      "\u001b[2m2023-10-22 22:12:44\u001b[0m [\u001b[32m\u001b[1mdebug    \u001b[0m] \u001b[1m250000 transitions are generated.\u001b[0m \u001b[36mfake_transitions\u001b[0m=\u001b[35m1250000\u001b[0m \u001b[36mreal_transitions\u001b[0m=\u001b[35m481194\u001b[0m\n",
      "\u001b[2m2023-10-22 22:13:06\u001b[0m [\u001b[32m\u001b[1minfo     \u001b[0m] \u001b[1mexp_5_COMBO_reacher_symmetry_20231022220537: epoch=18 step=18000\u001b[0m \u001b[36mepoch\u001b[0m=\u001b[35m18\u001b[0m \u001b[36mmetrics\u001b[0m=\u001b[35m{'time_sample_batch': 0.00090305757522583, 'time_algorithm_update': 0.020721632003784178, 'critic_loss': 4.200144693613052, 'actor_loss': -5.121315078735352, 'temp_loss': 0.00045078251615632324, 'temp': 0.32462031677365305, 'time_step': 0.021708473443984987, 'environment': -5.964828215231699}\u001b[0m \u001b[36mstep\u001b[0m=\u001b[35m18000\u001b[0m\n"
     ]
    },
    {
     "data": {
      "application/vnd.jupyter.widget-view+json": {
       "model_id": "11c8ca5293eb47c9880bb7200c13619b",
       "version_major": 2,
       "version_minor": 0
      },
      "text/plain": [
       "Epoch 19/1000:   0%|          | 0/1000 [00:00<?, ?it/s]"
      ]
     },
     "metadata": {},
     "output_type": "display_data"
    },
    {
     "name": "stdout",
     "output_type": "stream",
     "text": [
      "\u001b[2m2023-10-22 22:13:08\u001b[0m [\u001b[32m\u001b[1mdebug    \u001b[0m] \u001b[1m250000 transitions are generated.\u001b[0m \u001b[36mfake_transitions\u001b[0m=\u001b[35m1250000\u001b[0m \u001b[36mreal_transitions\u001b[0m=\u001b[35m481194\u001b[0m\n",
      "\u001b[2m2023-10-22 22:13:30\u001b[0m [\u001b[32m\u001b[1minfo     \u001b[0m] \u001b[1mexp_5_COMBO_reacher_symmetry_20231022220537: epoch=19 step=19000\u001b[0m \u001b[36mepoch\u001b[0m=\u001b[35m19\u001b[0m \u001b[36mmetrics\u001b[0m=\u001b[35m{'time_sample_batch': 0.000907724380493164, 'time_algorithm_update': 0.02088681125640869, 'critic_loss': 4.1117848708629605, 'actor_loss': -4.9590821671485905, 'temp_loss': -0.004131247925804928, 'temp': 0.32727784922719, 'time_step': 0.02187776303291321, 'environment': -4.850984643042811}\u001b[0m \u001b[36mstep\u001b[0m=\u001b[35m19000\u001b[0m\n"
     ]
    },
    {
     "data": {
      "application/vnd.jupyter.widget-view+json": {
       "model_id": "23c1e5137e37418fb5dcc891703e289a",
       "version_major": 2,
       "version_minor": 0
      },
      "text/plain": [
       "Epoch 20/1000:   0%|          | 0/1000 [00:00<?, ?it/s]"
      ]
     },
     "metadata": {},
     "output_type": "display_data"
    },
    {
     "name": "stdout",
     "output_type": "stream",
     "text": [
      "\u001b[2m2023-10-22 22:13:33\u001b[0m [\u001b[32m\u001b[1mdebug    \u001b[0m] \u001b[1m250000 transitions are generated.\u001b[0m \u001b[36mfake_transitions\u001b[0m=\u001b[35m1250000\u001b[0m \u001b[36mreal_transitions\u001b[0m=\u001b[35m481194\u001b[0m\n",
      "\u001b[2m2023-10-22 22:13:55\u001b[0m [\u001b[32m\u001b[1minfo     \u001b[0m] \u001b[1mexp_5_COMBO_reacher_symmetry_20231022220537: epoch=20 step=20000\u001b[0m \u001b[36mepoch\u001b[0m=\u001b[35m20\u001b[0m \u001b[36mmetrics\u001b[0m=\u001b[35m{'time_sample_batch': 0.0009006829261779785, 'time_algorithm_update': 0.020661261558532713, 'critic_loss': 4.0817008526325225, 'actor_loss': -4.824825167655945, 'temp_loss': -0.003400350028881803, 'temp': 0.3307215103805065, 'time_step': 0.021645982027053833, 'environment': -5.576807274811808}\u001b[0m \u001b[36mstep\u001b[0m=\u001b[35m20000\u001b[0m\n"
     ]
    },
    {
     "data": {
      "application/vnd.jupyter.widget-view+json": {
       "model_id": "d83887e34cb94ba8babd1c2784857eef",
       "version_major": 2,
       "version_minor": 0
      },
      "text/plain": [
       "Epoch 21/1000:   0%|          | 0/1000 [00:00<?, ?it/s]"
      ]
     },
     "metadata": {},
     "output_type": "display_data"
    },
    {
     "name": "stdout",
     "output_type": "stream",
     "text": [
      "\u001b[2m2023-10-22 22:13:56\u001b[0m [\u001b[32m\u001b[1mdebug    \u001b[0m] \u001b[1m250000 transitions are generated.\u001b[0m \u001b[36mfake_transitions\u001b[0m=\u001b[35m1250000\u001b[0m \u001b[36mreal_transitions\u001b[0m=\u001b[35m481194\u001b[0m\n",
      "\u001b[2m2023-10-22 22:14:19\u001b[0m [\u001b[32m\u001b[1minfo     \u001b[0m] \u001b[1mexp_5_COMBO_reacher_symmetry_20231022220537: epoch=21 step=21000\u001b[0m \u001b[36mepoch\u001b[0m=\u001b[35m21\u001b[0m \u001b[36mmetrics\u001b[0m=\u001b[35m{'time_sample_batch': 0.0009039988517761231, 'time_algorithm_update': 0.020827373027801514, 'critic_loss': 4.028676295518875, 'actor_loss': -4.715131332874298, 'temp_loss': -0.005151480537373573, 'temp': 0.3359869908094406, 'time_step': 0.021815558195114135, 'environment': -5.277766827854359}\u001b[0m \u001b[36mstep\u001b[0m=\u001b[35m21000\u001b[0m\n"
     ]
    },
    {
     "data": {
      "application/vnd.jupyter.widget-view+json": {
       "model_id": "ed89e922b53c4839af322f9f11787749",
       "version_major": 2,
       "version_minor": 0
      },
      "text/plain": [
       "Epoch 22/1000:   0%|          | 0/1000 [00:00<?, ?it/s]"
      ]
     },
     "metadata": {},
     "output_type": "display_data"
    },
    {
     "name": "stdout",
     "output_type": "stream",
     "text": [
      "\u001b[2m2023-10-22 22:14:21\u001b[0m [\u001b[32m\u001b[1mdebug    \u001b[0m] \u001b[1m250000 transitions are generated.\u001b[0m \u001b[36mfake_transitions\u001b[0m=\u001b[35m1250000\u001b[0m \u001b[36mreal_transitions\u001b[0m=\u001b[35m481194\u001b[0m\n",
      "\u001b[2m2023-10-22 22:14:44\u001b[0m [\u001b[32m\u001b[1minfo     \u001b[0m] \u001b[1mexp_5_COMBO_reacher_symmetry_20231022220537: epoch=22 step=22000\u001b[0m \u001b[36mepoch\u001b[0m=\u001b[35m22\u001b[0m \u001b[36mmetrics\u001b[0m=\u001b[35m{'time_sample_batch': 0.0009174668788909913, 'time_algorithm_update': 0.021023951530456542, 'critic_loss': 3.992425004482269, 'actor_loss': -4.628542704582214, 'temp_loss': -0.00511302535654977, 'temp': 0.34260856279730795, 'time_step': 0.022026490211486817, 'environment': -5.352823527578539}\u001b[0m \u001b[36mstep\u001b[0m=\u001b[35m22000\u001b[0m\n"
     ]
    },
    {
     "data": {
      "application/vnd.jupyter.widget-view+json": {
       "model_id": "3d0e465a9b374b3e824177e843bf486c",
       "version_major": 2,
       "version_minor": 0
      },
      "text/plain": [
       "Epoch 23/1000:   0%|          | 0/1000 [00:00<?, ?it/s]"
      ]
     },
     "metadata": {},
     "output_type": "display_data"
    },
    {
     "name": "stdout",
     "output_type": "stream",
     "text": [
      "\u001b[2m2023-10-22 22:14:46\u001b[0m [\u001b[32m\u001b[1mdebug    \u001b[0m] \u001b[1m250000 transitions are generated.\u001b[0m \u001b[36mfake_transitions\u001b[0m=\u001b[35m1250000\u001b[0m \u001b[36mreal_transitions\u001b[0m=\u001b[35m481194\u001b[0m\n",
      "\u001b[2m2023-10-22 22:15:08\u001b[0m [\u001b[32m\u001b[1minfo     \u001b[0m] \u001b[1mexp_5_COMBO_reacher_symmetry_20231022220537: epoch=23 step=23000\u001b[0m \u001b[36mepoch\u001b[0m=\u001b[35m23\u001b[0m \u001b[36mmetrics\u001b[0m=\u001b[35m{'time_sample_batch': 0.0009004678726196289, 'time_algorithm_update': 0.02072205972671509, 'critic_loss': 3.98927379155159, 'actor_loss': -4.577315338134766, 'temp_loss': -0.00036579523771069946, 'temp': 0.34611220291256906, 'time_step': 0.02170657515525818, 'environment': -4.316391012278996}\u001b[0m \u001b[36mstep\u001b[0m=\u001b[35m23000\u001b[0m\n"
     ]
    },
    {
     "data": {
      "application/vnd.jupyter.widget-view+json": {
       "model_id": "c538753205ba41409bf29bf81ebfb465",
       "version_major": 2,
       "version_minor": 0
      },
      "text/plain": [
       "Epoch 24/1000:   0%|          | 0/1000 [00:00<?, ?it/s]"
      ]
     },
     "metadata": {},
     "output_type": "display_data"
    },
    {
     "name": "stdout",
     "output_type": "stream",
     "text": [
      "\u001b[2m2023-10-22 22:15:10\u001b[0m [\u001b[32m\u001b[1mdebug    \u001b[0m] \u001b[1m250000 transitions are generated.\u001b[0m \u001b[36mfake_transitions\u001b[0m=\u001b[35m1250000\u001b[0m \u001b[36mreal_transitions\u001b[0m=\u001b[35m481194\u001b[0m\n",
      "\u001b[2m2023-10-22 22:15:33\u001b[0m [\u001b[32m\u001b[1minfo     \u001b[0m] \u001b[1mexp_5_COMBO_reacher_symmetry_20231022220537: epoch=24 step=24000\u001b[0m \u001b[36mepoch\u001b[0m=\u001b[35m24\u001b[0m \u001b[36mmetrics\u001b[0m=\u001b[35m{'time_sample_batch': 0.000902216911315918, 'time_algorithm_update': 0.02078666067123413, 'critic_loss': 3.9590460567474364, 'actor_loss': -4.546675184249878, 'temp_loss': -0.0023066474145743998, 'temp': 0.3470818750858307, 'time_step': 0.02177396059036255, 'environment': -5.2962203092981035}\u001b[0m \u001b[36mstep\u001b[0m=\u001b[35m24000\u001b[0m\n"
     ]
    },
    {
     "data": {
      "application/vnd.jupyter.widget-view+json": {
       "model_id": "52c5c7f7c10148528258bc59ccb9f238",
       "version_major": 2,
       "version_minor": 0
      },
      "text/plain": [
       "Epoch 25/1000:   0%|          | 0/1000 [00:00<?, ?it/s]"
      ]
     },
     "metadata": {},
     "output_type": "display_data"
    },
    {
     "name": "stdout",
     "output_type": "stream",
     "text": [
      "\u001b[2m2023-10-22 22:15:34\u001b[0m [\u001b[32m\u001b[1mdebug    \u001b[0m] \u001b[1m250000 transitions are generated.\u001b[0m \u001b[36mfake_transitions\u001b[0m=\u001b[35m1250000\u001b[0m \u001b[36mreal_transitions\u001b[0m=\u001b[35m481194\u001b[0m\n",
      "\u001b[2m2023-10-22 22:15:57\u001b[0m [\u001b[32m\u001b[1minfo     \u001b[0m] \u001b[1mexp_5_COMBO_reacher_symmetry_20231022220537: epoch=25 step=25000\u001b[0m \u001b[36mepoch\u001b[0m=\u001b[35m25\u001b[0m \u001b[36mmetrics\u001b[0m=\u001b[35m{'time_sample_batch': 0.0009191133975982666, 'time_algorithm_update': 0.020988659381866455, 'critic_loss': 3.957989158630371, 'actor_loss': -4.538364521026612, 'temp_loss': 0.0018957564358133823, 'temp': 0.3475942094922066, 'time_step': 0.021991968631744383, 'environment': -3.871074392305431}\u001b[0m \u001b[36mstep\u001b[0m=\u001b[35m25000\u001b[0m\n"
     ]
    },
    {
     "data": {
      "application/vnd.jupyter.widget-view+json": {
       "model_id": "1bee1bf2421941a492e918c7190b874e",
       "version_major": 2,
       "version_minor": 0
      },
      "text/plain": [
       "Epoch 26/1000:   0%|          | 0/1000 [00:00<?, ?it/s]"
      ]
     },
     "metadata": {},
     "output_type": "display_data"
    },
    {
     "name": "stdout",
     "output_type": "stream",
     "text": [
      "\u001b[2m2023-10-22 22:15:59\u001b[0m [\u001b[32m\u001b[1mdebug    \u001b[0m] \u001b[1m250000 transitions are generated.\u001b[0m \u001b[36mfake_transitions\u001b[0m=\u001b[35m1250000\u001b[0m \u001b[36mreal_transitions\u001b[0m=\u001b[35m481194\u001b[0m\n",
      "\u001b[2m2023-10-22 22:16:20\u001b[0m [\u001b[32m\u001b[1minfo     \u001b[0m] \u001b[1mexp_5_COMBO_reacher_symmetry_20231022220537: epoch=26 step=26000\u001b[0m \u001b[36mepoch\u001b[0m=\u001b[35m26\u001b[0m \u001b[36mmetrics\u001b[0m=\u001b[35m{'time_sample_batch': 0.0008752837181091309, 'time_algorithm_update': 0.02010487723350525, 'critic_loss': 3.952091586828232, 'actor_loss': -4.542866096496582, 'temp_loss': -0.00033727538026869294, 'temp': 0.34674606573581696, 'time_step': 0.021062538385391235, 'environment': -5.344633267782315}\u001b[0m \u001b[36mstep\u001b[0m=\u001b[35m26000\u001b[0m\n"
     ]
    },
    {
     "data": {
      "application/vnd.jupyter.widget-view+json": {
       "model_id": "ef17b98c37cb4a50b5a88c401cb1f39c",
       "version_major": 2,
       "version_minor": 0
      },
      "text/plain": [
       "Epoch 27/1000:   0%|          | 0/1000 [00:00<?, ?it/s]"
      ]
     },
     "metadata": {},
     "output_type": "display_data"
    },
    {
     "name": "stdout",
     "output_type": "stream",
     "text": [
      "\u001b[2m2023-10-22 22:16:23\u001b[0m [\u001b[32m\u001b[1mdebug    \u001b[0m] \u001b[1m250000 transitions are generated.\u001b[0m \u001b[36mfake_transitions\u001b[0m=\u001b[35m1250000\u001b[0m \u001b[36mreal_transitions\u001b[0m=\u001b[35m481194\u001b[0m\n",
      "\u001b[2m2023-10-22 22:16:45\u001b[0m [\u001b[32m\u001b[1minfo     \u001b[0m] \u001b[1mexp_5_COMBO_reacher_symmetry_20231022220537: epoch=27 step=27000\u001b[0m \u001b[36mepoch\u001b[0m=\u001b[35m27\u001b[0m \u001b[36mmetrics\u001b[0m=\u001b[35m{'time_sample_batch': 0.0008905954360961914, 'time_algorithm_update': 0.020504746198654174, 'critic_loss': 3.9501672434806823, 'actor_loss': -4.568326230525971, 'temp_loss': 0.00027795566129498186, 'temp': 0.3455994276702404, 'time_step': 0.021480494737625123, 'environment': -5.421564025668678}\u001b[0m \u001b[36mstep\u001b[0m=\u001b[35m27000\u001b[0m\n"
     ]
    },
    {
     "data": {
      "application/vnd.jupyter.widget-view+json": {
       "model_id": "3feadf498fe048acbb819d05122985e4",
       "version_major": 2,
       "version_minor": 0
      },
      "text/plain": [
       "Epoch 28/1000:   0%|          | 0/1000 [00:00<?, ?it/s]"
      ]
     },
     "metadata": {},
     "output_type": "display_data"
    },
    {
     "name": "stdout",
     "output_type": "stream",
     "text": [
      "\u001b[2m2023-10-22 22:16:47\u001b[0m [\u001b[32m\u001b[1mdebug    \u001b[0m] \u001b[1m250000 transitions are generated.\u001b[0m \u001b[36mfake_transitions\u001b[0m=\u001b[35m1250000\u001b[0m \u001b[36mreal_transitions\u001b[0m=\u001b[35m481194\u001b[0m\n",
      "\u001b[2m2023-10-22 22:17:09\u001b[0m [\u001b[32m\u001b[1minfo     \u001b[0m] \u001b[1mexp_5_COMBO_reacher_symmetry_20231022220537: epoch=28 step=28000\u001b[0m \u001b[36mepoch\u001b[0m=\u001b[35m28\u001b[0m \u001b[36mmetrics\u001b[0m=\u001b[35m{'time_sample_batch': 0.0008940830230712891, 'time_algorithm_update': 0.020386516094207763, 'critic_loss': 3.9399600303173066, 'actor_loss': -4.588236658096314, 'temp_loss': -0.0013271586580667644, 'temp': 0.3482446448206902, 'time_step': 0.02136410117149353, 'environment': -4.9275378963854255}\u001b[0m \u001b[36mstep\u001b[0m=\u001b[35m28000\u001b[0m\n"
     ]
    },
    {
     "data": {
      "application/vnd.jupyter.widget-view+json": {
       "model_id": "0844f893d90545129f65c08dd0d32240",
       "version_major": 2,
       "version_minor": 0
      },
      "text/plain": [
       "Epoch 29/1000:   0%|          | 0/1000 [00:00<?, ?it/s]"
      ]
     },
     "metadata": {},
     "output_type": "display_data"
    },
    {
     "name": "stdout",
     "output_type": "stream",
     "text": [
      "\u001b[2m2023-10-22 22:17:11\u001b[0m [\u001b[32m\u001b[1mdebug    \u001b[0m] \u001b[1m250000 transitions are generated.\u001b[0m \u001b[36mfake_transitions\u001b[0m=\u001b[35m1250000\u001b[0m \u001b[36mreal_transitions\u001b[0m=\u001b[35m481194\u001b[0m\n",
      "\u001b[2m2023-10-22 22:17:33\u001b[0m [\u001b[32m\u001b[1minfo     \u001b[0m] \u001b[1mexp_5_COMBO_reacher_symmetry_20231022220537: epoch=29 step=29000\u001b[0m \u001b[36mepoch\u001b[0m=\u001b[35m29\u001b[0m \u001b[36mmetrics\u001b[0m=\u001b[35m{'time_sample_batch': 0.0008795349597930908, 'time_algorithm_update': 0.020144407749176026, 'critic_loss': 3.940180385828018, 'actor_loss': -4.622540180206299, 'temp_loss': 0.0002407679872121662, 'temp': 0.34859052470326424, 'time_step': 0.021106424570083618, 'environment': -3.955017050619147}\u001b[0m \u001b[36mstep\u001b[0m=\u001b[35m29000\u001b[0m\n"
     ]
    },
    {
     "data": {
      "application/vnd.jupyter.widget-view+json": {
       "model_id": "cbebb8753d0449d687aae9ab99b69a39",
       "version_major": 2,
       "version_minor": 0
      },
      "text/plain": [
       "Epoch 30/1000:   0%|          | 0/1000 [00:00<?, ?it/s]"
      ]
     },
     "metadata": {},
     "output_type": "display_data"
    },
    {
     "name": "stdout",
     "output_type": "stream",
     "text": [
      "\u001b[2m2023-10-22 22:17:35\u001b[0m [\u001b[32m\u001b[1mdebug    \u001b[0m] \u001b[1m250000 transitions are generated.\u001b[0m \u001b[36mfake_transitions\u001b[0m=\u001b[35m1250000\u001b[0m \u001b[36mreal_transitions\u001b[0m=\u001b[35m481194\u001b[0m\n",
      "\u001b[2m2023-10-22 22:17:56\u001b[0m [\u001b[32m\u001b[1minfo     \u001b[0m] \u001b[1mexp_5_COMBO_reacher_symmetry_20231022220537: epoch=30 step=30000\u001b[0m \u001b[36mepoch\u001b[0m=\u001b[35m30\u001b[0m \u001b[36mmetrics\u001b[0m=\u001b[35m{'time_sample_batch': 0.0008793880939483642, 'time_algorithm_update': 0.020224169015884398, 'critic_loss': 3.938380835056305, 'actor_loss': -4.667987545013427, 'temp_loss': 0.000775716835167259, 'temp': 0.34756915146112444, 'time_step': 0.021187817811965944, 'environment': -4.56045903160725}\u001b[0m \u001b[36mstep\u001b[0m=\u001b[35m30000\u001b[0m\n"
     ]
    },
    {
     "data": {
      "application/vnd.jupyter.widget-view+json": {
       "model_id": "cfb53fa1707147409dec85841a249cb4",
       "version_major": 2,
       "version_minor": 0
      },
      "text/plain": [
       "Epoch 31/1000:   0%|          | 0/1000 [00:00<?, ?it/s]"
      ]
     },
     "metadata": {},
     "output_type": "display_data"
    },
    {
     "name": "stdout",
     "output_type": "stream",
     "text": [
      "\u001b[2m2023-10-22 22:17:59\u001b[0m [\u001b[32m\u001b[1mdebug    \u001b[0m] \u001b[1m250000 transitions are generated.\u001b[0m \u001b[36mfake_transitions\u001b[0m=\u001b[35m1250000\u001b[0m \u001b[36mreal_transitions\u001b[0m=\u001b[35m481194\u001b[0m\n",
      "\u001b[2m2023-10-22 22:18:21\u001b[0m [\u001b[32m\u001b[1minfo     \u001b[0m] \u001b[1mexp_5_COMBO_reacher_symmetry_20231022220537: epoch=31 step=31000\u001b[0m \u001b[36mepoch\u001b[0m=\u001b[35m31\u001b[0m \u001b[36mmetrics\u001b[0m=\u001b[35m{'time_sample_batch': 0.0008965153694152832, 'time_algorithm_update': 0.02049800252914429, 'critic_loss': 3.9521711876392365, 'actor_loss': -4.730067782402038, 'temp_loss': 0.0024752538099419327, 'temp': 0.34462788262963295, 'time_step': 0.021478821516036986, 'environment': -5.7522421850546515}\u001b[0m \u001b[36mstep\u001b[0m=\u001b[35m31000\u001b[0m\n"
     ]
    },
    {
     "data": {
      "application/vnd.jupyter.widget-view+json": {
       "model_id": "1940f08d7d584636aeda85c3e60baaf9",
       "version_major": 2,
       "version_minor": 0
      },
      "text/plain": [
       "Epoch 32/1000:   0%|          | 0/1000 [00:00<?, ?it/s]"
      ]
     },
     "metadata": {},
     "output_type": "display_data"
    },
    {
     "name": "stdout",
     "output_type": "stream",
     "text": [
      "\u001b[2m2023-10-22 22:18:23\u001b[0m [\u001b[32m\u001b[1mdebug    \u001b[0m] \u001b[1m250000 transitions are generated.\u001b[0m \u001b[36mfake_transitions\u001b[0m=\u001b[35m1250000\u001b[0m \u001b[36mreal_transitions\u001b[0m=\u001b[35m481194\u001b[0m\n",
      "\u001b[2m2023-10-22 22:18:45\u001b[0m [\u001b[32m\u001b[1minfo     \u001b[0m] \u001b[1mexp_5_COMBO_reacher_symmetry_20231022220537: epoch=32 step=32000\u001b[0m \u001b[36mepoch\u001b[0m=\u001b[35m32\u001b[0m \u001b[36mmetrics\u001b[0m=\u001b[35m{'time_sample_batch': 0.0009014027118682861, 'time_algorithm_update': 0.02066847348213196, 'critic_loss': 3.960065915822983, 'actor_loss': -4.767784334659576, 'temp_loss': 0.0002708406256278977, 'temp': 0.3436160718202591, 'time_step': 0.02165676474571228, 'environment': -5.186687237511277}\u001b[0m \u001b[36mstep\u001b[0m=\u001b[35m32000\u001b[0m\n"
     ]
    },
    {
     "data": {
      "application/vnd.jupyter.widget-view+json": {
       "model_id": "3041debc78b64242998abca273154271",
       "version_major": 2,
       "version_minor": 0
      },
      "text/plain": [
       "Epoch 33/1000:   0%|          | 0/1000 [00:00<?, ?it/s]"
      ]
     },
     "metadata": {},
     "output_type": "display_data"
    },
    {
     "name": "stdout",
     "output_type": "stream",
     "text": [
      "\u001b[2m2023-10-22 22:18:47\u001b[0m [\u001b[32m\u001b[1mdebug    \u001b[0m] \u001b[1m250000 transitions are generated.\u001b[0m \u001b[36mfake_transitions\u001b[0m=\u001b[35m1250000\u001b[0m \u001b[36mreal_transitions\u001b[0m=\u001b[35m481194\u001b[0m\n",
      "\u001b[2m2023-10-22 22:19:09\u001b[0m [\u001b[32m\u001b[1minfo     \u001b[0m] \u001b[1mexp_5_COMBO_reacher_symmetry_20231022220537: epoch=33 step=33000\u001b[0m \u001b[36mepoch\u001b[0m=\u001b[35m33\u001b[0m \u001b[36mmetrics\u001b[0m=\u001b[35m{'time_sample_batch': 0.0008770556449890137, 'time_algorithm_update': 0.02014479899406433, 'critic_loss': 3.9412173352241515, 'actor_loss': -4.808300775051117, 'temp_loss': -0.0009426629218505695, 'temp': 0.3434359992444515, 'time_step': 0.021107102870941162, 'environment': -4.667593394784987}\u001b[0m \u001b[36mstep\u001b[0m=\u001b[35m33000\u001b[0m\n"
     ]
    },
    {
     "data": {
      "application/vnd.jupyter.widget-view+json": {
       "model_id": "6d2fdfeb4eae49b784e2a3dc654ee4dd",
       "version_major": 2,
       "version_minor": 0
      },
      "text/plain": [
       "Epoch 34/1000:   0%|          | 0/1000 [00:00<?, ?it/s]"
      ]
     },
     "metadata": {},
     "output_type": "display_data"
    },
    {
     "name": "stdout",
     "output_type": "stream",
     "text": [
      "\u001b[2m2023-10-22 22:19:11\u001b[0m [\u001b[32m\u001b[1mdebug    \u001b[0m] \u001b[1m250000 transitions are generated.\u001b[0m \u001b[36mfake_transitions\u001b[0m=\u001b[35m1250000\u001b[0m \u001b[36mreal_transitions\u001b[0m=\u001b[35m481194\u001b[0m\n",
      "\u001b[2m2023-10-22 22:19:33\u001b[0m [\u001b[32m\u001b[1minfo     \u001b[0m] \u001b[1mexp_5_COMBO_reacher_symmetry_20231022220537: epoch=34 step=34000\u001b[0m \u001b[36mepoch\u001b[0m=\u001b[35m34\u001b[0m \u001b[36mmetrics\u001b[0m=\u001b[35m{'time_sample_batch': 0.0008791260719299317, 'time_algorithm_update': 0.02037480401992798, 'critic_loss': 3.939914969444275, 'actor_loss': -4.8382097754478455, 'temp_loss': -0.0020914772396208718, 'temp': 0.34614594393968584, 'time_step': 0.0213390691280365, 'environment': -4.521121806925662}\u001b[0m \u001b[36mstep\u001b[0m=\u001b[35m34000\u001b[0m\n"
     ]
    },
    {
     "data": {
      "application/vnd.jupyter.widget-view+json": {
       "model_id": "5a3b18620dbc4d2e89812c8c34ea29ab",
       "version_major": 2,
       "version_minor": 0
      },
      "text/plain": [
       "Epoch 35/1000:   0%|          | 0/1000 [00:00<?, ?it/s]"
      ]
     },
     "metadata": {},
     "output_type": "display_data"
    },
    {
     "name": "stdout",
     "output_type": "stream",
     "text": [
      "\u001b[2m2023-10-22 22:19:35\u001b[0m [\u001b[32m\u001b[1mdebug    \u001b[0m] \u001b[1m250000 transitions are generated.\u001b[0m \u001b[36mfake_transitions\u001b[0m=\u001b[35m1250000\u001b[0m \u001b[36mreal_transitions\u001b[0m=\u001b[35m481194\u001b[0m\n",
      "\u001b[2m2023-10-22 22:19:58\u001b[0m [\u001b[32m\u001b[1minfo     \u001b[0m] \u001b[1mexp_5_COMBO_reacher_symmetry_20231022220537: epoch=35 step=35000\u001b[0m \u001b[36mepoch\u001b[0m=\u001b[35m35\u001b[0m \u001b[36mmetrics\u001b[0m=\u001b[35m{'time_sample_batch': 0.0009136824607849122, 'time_algorithm_update': 0.0207739098072052, 'critic_loss': 3.9593414497375488, 'actor_loss': -4.8853756327629085, 'temp_loss': 0.0001837627865606919, 'temp': 0.34646569752693174, 'time_step': 0.02177485704421997, 'environment': -4.1264860399978724}\u001b[0m \u001b[36mstep\u001b[0m=\u001b[35m35000\u001b[0m\n"
     ]
    },
    {
     "data": {
      "application/vnd.jupyter.widget-view+json": {
       "model_id": "ff1a042348d744f28beabfe278264058",
       "version_major": 2,
       "version_minor": 0
      },
      "text/plain": [
       "Epoch 36/1000:   0%|          | 0/1000 [00:00<?, ?it/s]"
      ]
     },
     "metadata": {},
     "output_type": "display_data"
    },
    {
     "name": "stdout",
     "output_type": "stream",
     "text": [
      "\u001b[2m2023-10-22 22:19:59\u001b[0m [\u001b[32m\u001b[1mdebug    \u001b[0m] \u001b[1m250000 transitions are generated.\u001b[0m \u001b[36mfake_transitions\u001b[0m=\u001b[35m1250000\u001b[0m \u001b[36mreal_transitions\u001b[0m=\u001b[35m481194\u001b[0m\n",
      "\u001b[2m2023-10-22 22:20:22\u001b[0m [\u001b[32m\u001b[1minfo     \u001b[0m] \u001b[1mexp_5_COMBO_reacher_symmetry_20231022220537: epoch=36 step=36000\u001b[0m \u001b[36mepoch\u001b[0m=\u001b[35m36\u001b[0m \u001b[36mmetrics\u001b[0m=\u001b[35m{'time_sample_batch': 0.0008987078666687012, 'time_algorithm_update': 0.020597198724746704, 'critic_loss': 3.972540936231613, 'actor_loss': -4.934910318374634, 'temp_loss': 0.0016715424715075641, 'temp': 0.3454805145561695, 'time_step': 0.021581019401550293, 'environment': -4.122656400614314}\u001b[0m \u001b[36mstep\u001b[0m=\u001b[35m36000\u001b[0m\n"
     ]
    },
    {
     "data": {
      "application/vnd.jupyter.widget-view+json": {
       "model_id": "467f21ad0d0f4cb1afad75f5e18c88e6",
       "version_major": 2,
       "version_minor": 0
      },
      "text/plain": [
       "Epoch 37/1000:   0%|          | 0/1000 [00:00<?, ?it/s]"
      ]
     },
     "metadata": {},
     "output_type": "display_data"
    },
    {
     "name": "stdout",
     "output_type": "stream",
     "text": [
      "\u001b[2m2023-10-22 22:20:23\u001b[0m [\u001b[32m\u001b[1mdebug    \u001b[0m] \u001b[1m250000 transitions are generated.\u001b[0m \u001b[36mfake_transitions\u001b[0m=\u001b[35m1250000\u001b[0m \u001b[36mreal_transitions\u001b[0m=\u001b[35m481194\u001b[0m\n",
      "\u001b[2m2023-10-22 22:20:45\u001b[0m [\u001b[32m\u001b[1minfo     \u001b[0m] \u001b[1mexp_5_COMBO_reacher_symmetry_20231022220537: epoch=37 step=37000\u001b[0m \u001b[36mepoch\u001b[0m=\u001b[35m37\u001b[0m \u001b[36mmetrics\u001b[0m=\u001b[35m{'time_sample_batch': 0.0008827948570251465, 'time_algorithm_update': 0.02025320863723755, 'critic_loss': 3.972068170547485, 'actor_loss': -4.96918962430954, 'temp_loss': -0.002695804743794724, 'temp': 0.34532259783148767, 'time_step': 0.021220927715301513, 'environment': -3.871829834964789}\u001b[0m \u001b[36mstep\u001b[0m=\u001b[35m37000\u001b[0m\n"
     ]
    },
    {
     "data": {
      "application/vnd.jupyter.widget-view+json": {
       "model_id": "ee0858f2a2804797bce91ffc3f7405c7",
       "version_major": 2,
       "version_minor": 0
      },
      "text/plain": [
       "Epoch 38/1000:   0%|          | 0/1000 [00:00<?, ?it/s]"
      ]
     },
     "metadata": {},
     "output_type": "display_data"
    },
    {
     "name": "stdout",
     "output_type": "stream",
     "text": [
      "\u001b[2m2023-10-22 22:20:48\u001b[0m [\u001b[32m\u001b[1mdebug    \u001b[0m] \u001b[1m250000 transitions are generated.\u001b[0m \u001b[36mfake_transitions\u001b[0m=\u001b[35m1250000\u001b[0m \u001b[36mreal_transitions\u001b[0m=\u001b[35m481194\u001b[0m\n",
      "\u001b[2m2023-10-22 22:21:10\u001b[0m [\u001b[32m\u001b[1minfo     \u001b[0m] \u001b[1mexp_5_COMBO_reacher_symmetry_20231022220537: epoch=38 step=38000\u001b[0m \u001b[36mepoch\u001b[0m=\u001b[35m38\u001b[0m \u001b[36mmetrics\u001b[0m=\u001b[35m{'time_sample_batch': 0.0008999438285827637, 'time_algorithm_update': 0.02061329174041748, 'critic_loss': 4.0026477169990535, 'actor_loss': -5.0224898543357845, 'temp_loss': 0.0015198945289012044, 'temp': 0.34723943707346916, 'time_step': 0.0215999071598053, 'environment': -4.4785006318709035}\u001b[0m \u001b[36mstep\u001b[0m=\u001b[35m38000\u001b[0m\n"
     ]
    },
    {
     "data": {
      "application/vnd.jupyter.widget-view+json": {
       "model_id": "13c646d52b2f485689d3432e52dfd854",
       "version_major": 2,
       "version_minor": 0
      },
      "text/plain": [
       "Epoch 39/1000:   0%|          | 0/1000 [00:00<?, ?it/s]"
      ]
     },
     "metadata": {},
     "output_type": "display_data"
    },
    {
     "name": "stdout",
     "output_type": "stream",
     "text": [
      "\u001b[2m2023-10-22 22:21:12\u001b[0m [\u001b[32m\u001b[1mdebug    \u001b[0m] \u001b[1m250000 transitions are generated.\u001b[0m \u001b[36mfake_transitions\u001b[0m=\u001b[35m1250000\u001b[0m \u001b[36mreal_transitions\u001b[0m=\u001b[35m481194\u001b[0m\n",
      "\u001b[2m2023-10-22 22:21:34\u001b[0m [\u001b[32m\u001b[1minfo     \u001b[0m] \u001b[1mexp_5_COMBO_reacher_symmetry_20231022220537: epoch=39 step=39000\u001b[0m \u001b[36mepoch\u001b[0m=\u001b[35m39\u001b[0m \u001b[36mmetrics\u001b[0m=\u001b[35m{'time_sample_batch': 0.0009026134014129639, 'time_algorithm_update': 0.020727076530456544, 'critic_loss': 4.00891507768631, 'actor_loss': -5.076990302562714, 'temp_loss': 0.0018794643480796367, 'temp': 0.34475791320204735, 'time_step': 0.021716638565063475, 'environment': -4.601581251623875}\u001b[0m \u001b[36mstep\u001b[0m=\u001b[35m39000\u001b[0m\n"
     ]
    },
    {
     "data": {
      "application/vnd.jupyter.widget-view+json": {
       "model_id": "bf37b9e96a194d6c926a9dc118272165",
       "version_major": 2,
       "version_minor": 0
      },
      "text/plain": [
       "Epoch 40/1000:   0%|          | 0/1000 [00:00<?, ?it/s]"
      ]
     },
     "metadata": {},
     "output_type": "display_data"
    },
    {
     "name": "stdout",
     "output_type": "stream",
     "text": [
      "\u001b[2m2023-10-22 22:21:37\u001b[0m [\u001b[32m\u001b[1mdebug    \u001b[0m] \u001b[1m250000 transitions are generated.\u001b[0m \u001b[36mfake_transitions\u001b[0m=\u001b[35m1250000\u001b[0m \u001b[36mreal_transitions\u001b[0m=\u001b[35m481194\u001b[0m\n",
      "\u001b[2m2023-10-22 22:21:58\u001b[0m [\u001b[32m\u001b[1minfo     \u001b[0m] \u001b[1mexp_5_COMBO_reacher_symmetry_20231022220537: epoch=40 step=40000\u001b[0m \u001b[36mepoch\u001b[0m=\u001b[35m40\u001b[0m \u001b[36mmetrics\u001b[0m=\u001b[35m{'time_sample_batch': 0.000877913236618042, 'time_algorithm_update': 0.020194199800491332, 'critic_loss': 4.027934609413147, 'actor_loss': -5.130310612678528, 'temp_loss': -0.0005334242938552052, 'temp': 0.3435857740342617, 'time_step': 0.02115630602836609, 'environment': -4.25998176862154}\u001b[0m \u001b[36mstep\u001b[0m=\u001b[35m40000\u001b[0m\n"
     ]
    },
    {
     "data": {
      "application/vnd.jupyter.widget-view+json": {
       "model_id": "0c62d9919d834b28af7b9077e156e232",
       "version_major": 2,
       "version_minor": 0
      },
      "text/plain": [
       "Epoch 41/1000:   0%|          | 0/1000 [00:00<?, ?it/s]"
      ]
     },
     "metadata": {},
     "output_type": "display_data"
    },
    {
     "name": "stdout",
     "output_type": "stream",
     "text": [
      "\u001b[2m2023-10-22 22:22:00\u001b[0m [\u001b[32m\u001b[1mdebug    \u001b[0m] \u001b[1m250000 transitions are generated.\u001b[0m \u001b[36mfake_transitions\u001b[0m=\u001b[35m1250000\u001b[0m \u001b[36mreal_transitions\u001b[0m=\u001b[35m481194\u001b[0m\n",
      "\u001b[2m2023-10-22 22:22:22\u001b[0m [\u001b[32m\u001b[1minfo     \u001b[0m] \u001b[1mexp_5_COMBO_reacher_symmetry_20231022220537: epoch=41 step=41000\u001b[0m \u001b[36mepoch\u001b[0m=\u001b[35m41\u001b[0m \u001b[36mmetrics\u001b[0m=\u001b[35m{'time_sample_batch': 0.0008742976188659668, 'time_algorithm_update': 0.020220851898193358, 'critic_loss': 4.074100132703781, 'actor_loss': -5.170705250740051, 'temp_loss': 0.0020267714289948346, 'temp': 0.3426677470803261, 'time_step': 0.021178522109985352, 'environment': -5.214419676708522}\u001b[0m \u001b[36mstep\u001b[0m=\u001b[35m41000\u001b[0m\n"
     ]
    },
    {
     "data": {
      "application/vnd.jupyter.widget-view+json": {
       "model_id": "ea85f469d51249d19d9bb5ac5cf47e5c",
       "version_major": 2,
       "version_minor": 0
      },
      "text/plain": [
       "Epoch 42/1000:   0%|          | 0/1000 [00:00<?, ?it/s]"
      ]
     },
     "metadata": {},
     "output_type": "display_data"
    },
    {
     "name": "stdout",
     "output_type": "stream",
     "text": [
      "\u001b[2m2023-10-22 22:22:24\u001b[0m [\u001b[32m\u001b[1mdebug    \u001b[0m] \u001b[1m250000 transitions are generated.\u001b[0m \u001b[36mfake_transitions\u001b[0m=\u001b[35m1250000\u001b[0m \u001b[36mreal_transitions\u001b[0m=\u001b[35m481194\u001b[0m\n",
      "\u001b[2m2023-10-22 22:22:47\u001b[0m [\u001b[32m\u001b[1minfo     \u001b[0m] \u001b[1mexp_5_COMBO_reacher_symmetry_20231022220537: epoch=42 step=42000\u001b[0m \u001b[36mepoch\u001b[0m=\u001b[35m42\u001b[0m \u001b[36mmetrics\u001b[0m=\u001b[35m{'time_sample_batch': 0.0009043197631835938, 'time_algorithm_update': 0.02067099380493164, 'critic_loss': 4.121481203556061, 'actor_loss': -5.210391209125519, 'temp_loss': -0.00017557507439050824, 'temp': 0.3419606859982014, 'time_step': 0.02166239356994629, 'environment': -4.589518333425508}\u001b[0m \u001b[36mstep\u001b[0m=\u001b[35m42000\u001b[0m\n"
     ]
    },
    {
     "data": {
      "application/vnd.jupyter.widget-view+json": {
       "model_id": "282ab964796b458b87bac4d7d759a6e9",
       "version_major": 2,
       "version_minor": 0
      },
      "text/plain": [
       "Epoch 43/1000:   0%|          | 0/1000 [00:00<?, ?it/s]"
      ]
     },
     "metadata": {},
     "output_type": "display_data"
    },
    {
     "name": "stdout",
     "output_type": "stream",
     "text": [
      "\u001b[2m2023-10-22 22:22:48\u001b[0m [\u001b[32m\u001b[1mdebug    \u001b[0m] \u001b[1m250000 transitions are generated.\u001b[0m \u001b[36mfake_transitions\u001b[0m=\u001b[35m1250000\u001b[0m \u001b[36mreal_transitions\u001b[0m=\u001b[35m481194\u001b[0m\n",
      "\u001b[2m2023-10-22 22:23:11\u001b[0m [\u001b[32m\u001b[1minfo     \u001b[0m] \u001b[1mexp_5_COMBO_reacher_symmetry_20231022220537: epoch=43 step=43000\u001b[0m \u001b[36mepoch\u001b[0m=\u001b[35m43\u001b[0m \u001b[36mmetrics\u001b[0m=\u001b[35m{'time_sample_batch': 0.0008979179859161377, 'time_algorithm_update': 0.020729831218719484, 'critic_loss': 4.185952093601227, 'actor_loss': -5.22784423828125, 'temp_loss': -0.0016581414365209638, 'temp': 0.34353909397125243, 'time_step': 0.021713563442230223, 'environment': -4.835904168792605}\u001b[0m \u001b[36mstep\u001b[0m=\u001b[35m43000\u001b[0m\n"
     ]
    },
    {
     "data": {
      "application/vnd.jupyter.widget-view+json": {
       "model_id": "71815693a847431b90fe71b28bd3aa71",
       "version_major": 2,
       "version_minor": 0
      },
      "text/plain": [
       "Epoch 44/1000:   0%|          | 0/1000 [00:00<?, ?it/s]"
      ]
     },
     "metadata": {},
     "output_type": "display_data"
    },
    {
     "name": "stdout",
     "output_type": "stream",
     "text": [
      "\u001b[2m2023-10-22 22:23:13\u001b[0m [\u001b[32m\u001b[1mdebug    \u001b[0m] \u001b[1m250000 transitions are generated.\u001b[0m \u001b[36mfake_transitions\u001b[0m=\u001b[35m1250000\u001b[0m \u001b[36mreal_transitions\u001b[0m=\u001b[35m481194\u001b[0m\n",
      "\u001b[2m2023-10-22 22:23:35\u001b[0m [\u001b[32m\u001b[1minfo     \u001b[0m] \u001b[1mexp_5_COMBO_reacher_symmetry_20231022220537: epoch=44 step=44000\u001b[0m \u001b[36mepoch\u001b[0m=\u001b[35m44\u001b[0m \u001b[36mmetrics\u001b[0m=\u001b[35m{'time_sample_batch': 0.0008846669197082519, 'time_algorithm_update': 0.020362029075622557, 'critic_loss': 4.258981281042099, 'actor_loss': -5.229370434761047, 'temp_loss': -3.718491387553513e-05, 'temp': 0.34434250834584235, 'time_step': 0.021332450151443482, 'environment': -4.228445647449081}\u001b[0m \u001b[36mstep\u001b[0m=\u001b[35m44000\u001b[0m\n"
     ]
    },
    {
     "data": {
      "application/vnd.jupyter.widget-view+json": {
       "model_id": "ef872488a29a4906adab53647069a6d0",
       "version_major": 2,
       "version_minor": 0
      },
      "text/plain": [
       "Epoch 45/1000:   0%|          | 0/1000 [00:00<?, ?it/s]"
      ]
     },
     "metadata": {},
     "output_type": "display_data"
    },
    {
     "name": "stdout",
     "output_type": "stream",
     "text": [
      "\u001b[2m2023-10-22 22:23:37\u001b[0m [\u001b[32m\u001b[1mdebug    \u001b[0m] \u001b[1m250000 transitions are generated.\u001b[0m \u001b[36mfake_transitions\u001b[0m=\u001b[35m1250000\u001b[0m \u001b[36mreal_transitions\u001b[0m=\u001b[35m481194\u001b[0m\n",
      "\u001b[2m2023-10-22 22:23:58\u001b[0m [\u001b[32m\u001b[1minfo     \u001b[0m] \u001b[1mexp_5_COMBO_reacher_symmetry_20231022220537: epoch=45 step=45000\u001b[0m \u001b[36mepoch\u001b[0m=\u001b[35m45\u001b[0m \u001b[36mmetrics\u001b[0m=\u001b[35m{'time_sample_batch': 0.0008700387477874756, 'time_algorithm_update': 0.020092132568359376, 'critic_loss': 4.354750743627548, 'actor_loss': -5.206800522804261, 'temp_loss': -0.002139158206759021, 'temp': 0.34708538272976874, 'time_step': 0.021045929193496703, 'environment': -3.8885017410929272}\u001b[0m \u001b[36mstep\u001b[0m=\u001b[35m45000\u001b[0m\n"
     ]
    },
    {
     "data": {
      "application/vnd.jupyter.widget-view+json": {
       "model_id": "cf6e2bafa5194917900a1d5221901ebc",
       "version_major": 2,
       "version_minor": 0
      },
      "text/plain": [
       "Epoch 46/1000:   0%|          | 0/1000 [00:00<?, ?it/s]"
      ]
     },
     "metadata": {},
     "output_type": "display_data"
    },
    {
     "name": "stdout",
     "output_type": "stream",
     "text": [
      "\u001b[2m2023-10-22 22:24:01\u001b[0m [\u001b[32m\u001b[1mdebug    \u001b[0m] \u001b[1m250000 transitions are generated.\u001b[0m \u001b[36mfake_transitions\u001b[0m=\u001b[35m1250000\u001b[0m \u001b[36mreal_transitions\u001b[0m=\u001b[35m481194\u001b[0m\n",
      "\u001b[2m2023-10-22 22:24:23\u001b[0m [\u001b[32m\u001b[1minfo     \u001b[0m] \u001b[1mexp_5_COMBO_reacher_symmetry_20231022220537: epoch=46 step=46000\u001b[0m \u001b[36mepoch\u001b[0m=\u001b[35m46\u001b[0m \u001b[36mmetrics\u001b[0m=\u001b[35m{'time_sample_batch': 0.0009030308723449707, 'time_algorithm_update': 0.020667901039123537, 'critic_loss': 4.5181848247051235, 'actor_loss': -5.197545381069183, 'temp_loss': -0.003903904138947837, 'temp': 0.35045418280363083, 'time_step': 0.021658124446868897, 'environment': -4.2262497855394505}\u001b[0m \u001b[36mstep\u001b[0m=\u001b[35m46000\u001b[0m\n"
     ]
    },
    {
     "data": {
      "application/vnd.jupyter.widget-view+json": {
       "model_id": "4c36502f65a64bf4a390fc3d967c3332",
       "version_major": 2,
       "version_minor": 0
      },
      "text/plain": [
       "Epoch 47/1000:   0%|          | 0/1000 [00:00<?, ?it/s]"
      ]
     },
     "metadata": {},
     "output_type": "display_data"
    },
    {
     "name": "stdout",
     "output_type": "stream",
     "text": [
      "\u001b[2m2023-10-22 22:24:25\u001b[0m [\u001b[32m\u001b[1mdebug    \u001b[0m] \u001b[1m250000 transitions are generated.\u001b[0m \u001b[36mfake_transitions\u001b[0m=\u001b[35m1250000\u001b[0m \u001b[36mreal_transitions\u001b[0m=\u001b[35m481194\u001b[0m\n",
      "\u001b[2m2023-10-22 22:24:48\u001b[0m [\u001b[32m\u001b[1minfo     \u001b[0m] \u001b[1mexp_5_COMBO_reacher_symmetry_20231022220537: epoch=47 step=47000\u001b[0m \u001b[36mepoch\u001b[0m=\u001b[35m47\u001b[0m \u001b[36mmetrics\u001b[0m=\u001b[35m{'time_sample_batch': 0.0009230492115020752, 'time_algorithm_update': 0.020890310525894164, 'critic_loss': 4.607561668872833, 'actor_loss': -5.193749307632446, 'temp_loss': 0.0006303554326295852, 'temp': 0.35234347176551817, 'time_step': 0.021900959014892578, 'environment': -4.445616020652132}\u001b[0m \u001b[36mstep\u001b[0m=\u001b[35m47000\u001b[0m\n"
     ]
    },
    {
     "data": {
      "application/vnd.jupyter.widget-view+json": {
       "model_id": "674815e5d81140b480178487fed1ddb4",
       "version_major": 2,
       "version_minor": 0
      },
      "text/plain": [
       "Epoch 48/1000:   0%|          | 0/1000 [00:00<?, ?it/s]"
      ]
     },
     "metadata": {},
     "output_type": "display_data"
    },
    {
     "name": "stdout",
     "output_type": "stream",
     "text": [
      "\u001b[2m2023-10-22 22:24:50\u001b[0m [\u001b[32m\u001b[1mdebug    \u001b[0m] \u001b[1m250000 transitions are generated.\u001b[0m \u001b[36mfake_transitions\u001b[0m=\u001b[35m1250000\u001b[0m \u001b[36mreal_transitions\u001b[0m=\u001b[35m481194\u001b[0m\n",
      "\u001b[2m2023-10-22 22:25:12\u001b[0m [\u001b[32m\u001b[1minfo     \u001b[0m] \u001b[1mexp_5_COMBO_reacher_symmetry_20231022220537: epoch=48 step=48000\u001b[0m \u001b[36mepoch\u001b[0m=\u001b[35m48\u001b[0m \u001b[36mmetrics\u001b[0m=\u001b[35m{'time_sample_batch': 0.0008827104568481446, 'time_algorithm_update': 0.020321789026260376, 'critic_loss': 4.774220684528351, 'actor_loss': -5.186479447841644, 'temp_loss': 0.0005790726265404373, 'temp': 0.35115070050954816, 'time_step': 0.021291393041610717, 'environment': -4.454332153427629}\u001b[0m \u001b[36mstep\u001b[0m=\u001b[35m48000\u001b[0m\n"
     ]
    },
    {
     "data": {
      "application/vnd.jupyter.widget-view+json": {
       "model_id": "a5425d99343b48d38a2cf07b819feacf",
       "version_major": 2,
       "version_minor": 0
      },
      "text/plain": [
       "Epoch 49/1000:   0%|          | 0/1000 [00:00<?, ?it/s]"
      ]
     },
     "metadata": {},
     "output_type": "display_data"
    },
    {
     "name": "stdout",
     "output_type": "stream",
     "text": [
      "\u001b[2m2023-10-22 22:25:14\u001b[0m [\u001b[32m\u001b[1mdebug    \u001b[0m] \u001b[1m250000 transitions are generated.\u001b[0m \u001b[36mfake_transitions\u001b[0m=\u001b[35m1250000\u001b[0m \u001b[36mreal_transitions\u001b[0m=\u001b[35m481194\u001b[0m\n",
      "\u001b[2m2023-10-22 22:25:36\u001b[0m [\u001b[32m\u001b[1minfo     \u001b[0m] \u001b[1mexp_5_COMBO_reacher_symmetry_20231022220537: epoch=49 step=49000\u001b[0m \u001b[36mepoch\u001b[0m=\u001b[35m49\u001b[0m \u001b[36mmetrics\u001b[0m=\u001b[35m{'time_sample_batch': 0.0008810019493103027, 'time_algorithm_update': 0.020337695837020876, 'critic_loss': 5.103588313102722, 'actor_loss': -5.169224733829498, 'temp_loss': 0.002390818126499653, 'temp': 0.3490563348829746, 'time_step': 0.02130436325073242, 'environment': -4.011326144310542}\u001b[0m \u001b[36mstep\u001b[0m=\u001b[35m49000\u001b[0m\n"
     ]
    },
    {
     "data": {
      "application/vnd.jupyter.widget-view+json": {
       "model_id": "84d916ad51e644bf8f7ed7862ce6c6d1",
       "version_major": 2,
       "version_minor": 0
      },
      "text/plain": [
       "Epoch 50/1000:   0%|          | 0/1000 [00:00<?, ?it/s]"
      ]
     },
     "metadata": {},
     "output_type": "display_data"
    },
    {
     "name": "stdout",
     "output_type": "stream",
     "text": [
      "\u001b[2m2023-10-22 22:25:38\u001b[0m [\u001b[32m\u001b[1mdebug    \u001b[0m] \u001b[1m250000 transitions are generated.\u001b[0m \u001b[36mfake_transitions\u001b[0m=\u001b[35m1250000\u001b[0m \u001b[36mreal_transitions\u001b[0m=\u001b[35m481194\u001b[0m\n",
      "\u001b[2m2023-10-22 22:26:01\u001b[0m [\u001b[32m\u001b[1minfo     \u001b[0m] \u001b[1mexp_5_COMBO_reacher_symmetry_20231022220537: epoch=50 step=50000\u001b[0m \u001b[36mepoch\u001b[0m=\u001b[35m50\u001b[0m \u001b[36mmetrics\u001b[0m=\u001b[35m{'time_sample_batch': 0.0008976120948791504, 'time_algorithm_update': 0.02068601703643799, 'critic_loss': 5.480059623003006, 'actor_loss': -5.1103853154182435, 'temp_loss': -0.0017068760868860409, 'temp': 0.34896364569664, 'time_step': 0.021671799182891846, 'environment': -4.392352669042279}\u001b[0m \u001b[36mstep\u001b[0m=\u001b[35m50000\u001b[0m\n",
      "\u001b[2m2023-10-22 22:26:01\u001b[0m [\u001b[32m\u001b[1minfo     \u001b[0m] \u001b[1mModel parameters are saved to d3rlpy_logs/exp_5_COMBO_reacher_symmetry_20231022220537/model_50000.pt\u001b[0m\n"
     ]
    },
    {
     "data": {
      "application/vnd.jupyter.widget-view+json": {
       "model_id": "dc743d7dab984252ad315bb322f0e8de",
       "version_major": 2,
       "version_minor": 0
      },
      "text/plain": [
       "Epoch 51/1000:   0%|          | 0/1000 [00:00<?, ?it/s]"
      ]
     },
     "metadata": {},
     "output_type": "display_data"
    },
    {
     "name": "stdout",
     "output_type": "stream",
     "text": [
      "\u001b[2m2023-10-22 22:26:02\u001b[0m [\u001b[32m\u001b[1mdebug    \u001b[0m] \u001b[1m250000 transitions are generated.\u001b[0m \u001b[36mfake_transitions\u001b[0m=\u001b[35m1250000\u001b[0m \u001b[36mreal_transitions\u001b[0m=\u001b[35m481194\u001b[0m\n",
      "\u001b[2m2023-10-22 22:26:25\u001b[0m [\u001b[32m\u001b[1minfo     \u001b[0m] \u001b[1mexp_5_COMBO_reacher_symmetry_20231022220537: epoch=51 step=51000\u001b[0m \u001b[36mepoch\u001b[0m=\u001b[35m51\u001b[0m \u001b[36mmetrics\u001b[0m=\u001b[35m{'time_sample_batch': 0.0009107680320739746, 'time_algorithm_update': 0.020787155628204344, 'critic_loss': 6.248575587511063, 'actor_loss': -5.025872481346131, 'temp_loss': -0.0019577318497467785, 'temp': 0.351324115216732, 'time_step': 0.02178528642654419, 'environment': -5.0304482554585706}\u001b[0m \u001b[36mstep\u001b[0m=\u001b[35m51000\u001b[0m\n"
     ]
    },
    {
     "data": {
      "application/vnd.jupyter.widget-view+json": {
       "model_id": "e25b4633260f443b9dc3a3de842b2b11",
       "version_major": 2,
       "version_minor": 0
      },
      "text/plain": [
       "Epoch 52/1000:   0%|          | 0/1000 [00:00<?, ?it/s]"
      ]
     },
     "metadata": {},
     "output_type": "display_data"
    },
    {
     "name": "stdout",
     "output_type": "stream",
     "text": [
      "\u001b[2m2023-10-22 22:26:27\u001b[0m [\u001b[32m\u001b[1mdebug    \u001b[0m] \u001b[1m250000 transitions are generated.\u001b[0m \u001b[36mfake_transitions\u001b[0m=\u001b[35m1250000\u001b[0m \u001b[36mreal_transitions\u001b[0m=\u001b[35m481194\u001b[0m\n",
      "\u001b[2m2023-10-22 22:26:50\u001b[0m [\u001b[32m\u001b[1minfo     \u001b[0m] \u001b[1mexp_5_COMBO_reacher_symmetry_20231022220537: epoch=52 step=52000\u001b[0m \u001b[36mepoch\u001b[0m=\u001b[35m52\u001b[0m \u001b[36mmetrics\u001b[0m=\u001b[35m{'time_sample_batch': 0.0009089343547821045, 'time_algorithm_update': 0.02075000214576721, 'critic_loss': 6.968903758525848, 'actor_loss': -4.947689302206039, 'temp_loss': 0.0015131253431318328, 'temp': 0.3516368364393711, 'time_step': 0.021747808218002318, 'environment': -4.143472802198297}\u001b[0m \u001b[36mstep\u001b[0m=\u001b[35m52000\u001b[0m\n"
     ]
    },
    {
     "data": {
      "application/vnd.jupyter.widget-view+json": {
       "model_id": "974b988fb64948a29f0bba25764fd27f",
       "version_major": 2,
       "version_minor": 0
      },
      "text/plain": [
       "Epoch 53/1000:   0%|          | 0/1000 [00:00<?, ?it/s]"
      ]
     },
     "metadata": {},
     "output_type": "display_data"
    },
    {
     "name": "stdout",
     "output_type": "stream",
     "text": [
      "\u001b[2m2023-10-22 22:26:52\u001b[0m [\u001b[32m\u001b[1mdebug    \u001b[0m] \u001b[1m250000 transitions are generated.\u001b[0m \u001b[36mfake_transitions\u001b[0m=\u001b[35m1250000\u001b[0m \u001b[36mreal_transitions\u001b[0m=\u001b[35m481194\u001b[0m\n",
      "\u001b[2m2023-10-22 22:27:14\u001b[0m [\u001b[32m\u001b[1minfo     \u001b[0m] \u001b[1mexp_5_COMBO_reacher_symmetry_20231022220537: epoch=53 step=53000\u001b[0m \u001b[36mepoch\u001b[0m=\u001b[35m53\u001b[0m \u001b[36mmetrics\u001b[0m=\u001b[35m{'time_sample_batch': 0.0008981180191040039, 'time_algorithm_update': 0.02073054623603821, 'critic_loss': 8.209818056821824, 'actor_loss': -4.80264640545845, 'temp_loss': -0.0002902813039254397, 'temp': 0.3506202033162117, 'time_step': 0.021716034650802612, 'environment': -4.321639178004276}\u001b[0m \u001b[36mstep\u001b[0m=\u001b[35m53000\u001b[0m\n"
     ]
    },
    {
     "data": {
      "application/vnd.jupyter.widget-view+json": {
       "model_id": "b3abcece4378407498b57da5999e03e0",
       "version_major": 2,
       "version_minor": 0
      },
      "text/plain": [
       "Epoch 54/1000:   0%|          | 0/1000 [00:00<?, ?it/s]"
      ]
     },
     "metadata": {},
     "output_type": "display_data"
    },
    {
     "name": "stdout",
     "output_type": "stream",
     "text": [
      "\u001b[2m2023-10-22 22:27:16\u001b[0m [\u001b[32m\u001b[1mdebug    \u001b[0m] \u001b[1m250000 transitions are generated.\u001b[0m \u001b[36mfake_transitions\u001b[0m=\u001b[35m1250000\u001b[0m \u001b[36mreal_transitions\u001b[0m=\u001b[35m481194\u001b[0m\n",
      "\u001b[2m2023-10-22 22:27:37\u001b[0m [\u001b[32m\u001b[1minfo     \u001b[0m] \u001b[1mexp_5_COMBO_reacher_symmetry_20231022220537: epoch=54 step=54000\u001b[0m \u001b[36mepoch\u001b[0m=\u001b[35m54\u001b[0m \u001b[36mmetrics\u001b[0m=\u001b[35m{'time_sample_batch': 0.0008765225410461426, 'time_algorithm_update': 0.02015346360206604, 'critic_loss': 10.220213712453843, 'actor_loss': -4.587304208397866, 'temp_loss': -0.002068852843251079, 'temp': 0.35264120319485665, 'time_step': 0.021115660429000854, 'environment': -4.740769720548724}\u001b[0m \u001b[36mstep\u001b[0m=\u001b[35m54000\u001b[0m\n"
     ]
    },
    {
     "data": {
      "application/vnd.jupyter.widget-view+json": {
       "model_id": "fb74cfe815ce48f781924a3ccc26c8c1",
       "version_major": 2,
       "version_minor": 0
      },
      "text/plain": [
       "Epoch 55/1000:   0%|          | 0/1000 [00:00<?, ?it/s]"
      ]
     },
     "metadata": {},
     "output_type": "display_data"
    },
    {
     "name": "stdout",
     "output_type": "stream",
     "text": [
      "\u001b[2m2023-10-22 22:27:40\u001b[0m [\u001b[32m\u001b[1mdebug    \u001b[0m] \u001b[1m250000 transitions are generated.\u001b[0m \u001b[36mfake_transitions\u001b[0m=\u001b[35m1250000\u001b[0m \u001b[36mreal_transitions\u001b[0m=\u001b[35m481194\u001b[0m\n",
      "\u001b[2m2023-10-22 22:28:02\u001b[0m [\u001b[32m\u001b[1minfo     \u001b[0m] \u001b[1mexp_5_COMBO_reacher_symmetry_20231022220537: epoch=55 step=55000\u001b[0m \u001b[36mepoch\u001b[0m=\u001b[35m55\u001b[0m \u001b[36mmetrics\u001b[0m=\u001b[35m{'time_sample_batch': 0.0009026002883911133, 'time_algorithm_update': 0.020756117582321168, 'critic_loss': 11.609241840124131, 'actor_loss': -4.405093714356423, 'temp_loss': -0.0008328063741791993, 'temp': 0.3545222128629684, 'time_step': 0.02174642300605774, 'environment': -4.454199455043655}\u001b[0m \u001b[36mstep\u001b[0m=\u001b[35m55000\u001b[0m\n"
     ]
    },
    {
     "data": {
      "application/vnd.jupyter.widget-view+json": {
       "model_id": "773086e5a1114f88b5c92f246d7f3e25",
       "version_major": 2,
       "version_minor": 0
      },
      "text/plain": [
       "Epoch 56/1000:   0%|          | 0/1000 [00:00<?, ?it/s]"
      ]
     },
     "metadata": {},
     "output_type": "display_data"
    },
    {
     "name": "stdout",
     "output_type": "stream",
     "text": [
      "\u001b[2m2023-10-22 22:28:04\u001b[0m [\u001b[32m\u001b[1mdebug    \u001b[0m] \u001b[1m250000 transitions are generated.\u001b[0m \u001b[36mfake_transitions\u001b[0m=\u001b[35m1250000\u001b[0m \u001b[36mreal_transitions\u001b[0m=\u001b[35m481194\u001b[0m\n",
      "\u001b[2m2023-10-22 22:28:26\u001b[0m [\u001b[32m\u001b[1minfo     \u001b[0m] \u001b[1mexp_5_COMBO_reacher_symmetry_20231022220537: epoch=56 step=56000\u001b[0m \u001b[36mepoch\u001b[0m=\u001b[35m56\u001b[0m \u001b[36mmetrics\u001b[0m=\u001b[35m{'time_sample_batch': 0.0008942406177520752, 'time_algorithm_update': 0.02065766429901123, 'critic_loss': 13.810775103092194, 'actor_loss': -4.155578772544861, 'temp_loss': -0.002917256031301804, 'temp': 0.35748459461331367, 'time_step': 0.02163908648490906, 'environment': -4.749349731641984}\u001b[0m \u001b[36mstep\u001b[0m=\u001b[35m56000\u001b[0m\n"
     ]
    },
    {
     "data": {
      "application/vnd.jupyter.widget-view+json": {
       "model_id": "33769a602eff40748a7421d59d13fcbc",
       "version_major": 2,
       "version_minor": 0
      },
      "text/plain": [
       "Epoch 57/1000:   0%|          | 0/1000 [00:00<?, ?it/s]"
      ]
     },
     "metadata": {},
     "output_type": "display_data"
    },
    {
     "name": "stdout",
     "output_type": "stream",
     "text": [
      "\u001b[2m2023-10-22 22:28:29\u001b[0m [\u001b[32m\u001b[1mdebug    \u001b[0m] \u001b[1m250000 transitions are generated.\u001b[0m \u001b[36mfake_transitions\u001b[0m=\u001b[35m1250000\u001b[0m \u001b[36mreal_transitions\u001b[0m=\u001b[35m481194\u001b[0m\n",
      "\u001b[2m2023-10-22 22:28:51\u001b[0m [\u001b[32m\u001b[1minfo     \u001b[0m] \u001b[1mexp_5_COMBO_reacher_symmetry_20231022220537: epoch=57 step=57000\u001b[0m \u001b[36mepoch\u001b[0m=\u001b[35m57\u001b[0m \u001b[36mmetrics\u001b[0m=\u001b[35m{'time_sample_batch': 0.0009020857810974121, 'time_algorithm_update': 0.020748263359069825, 'critic_loss': 17.526950740337373, 'actor_loss': -3.845759323000908, 'temp_loss': -0.002424378439434804, 'temp': 0.36120541232824327, 'time_step': 0.021739036083221436, 'environment': -5.349019790747791}\u001b[0m \u001b[36mstep\u001b[0m=\u001b[35m57000\u001b[0m\n"
     ]
    },
    {
     "data": {
      "application/vnd.jupyter.widget-view+json": {
       "model_id": "648f1b8bb6ea4de0abbacfa64e370f3c",
       "version_major": 2,
       "version_minor": 0
      },
      "text/plain": [
       "Epoch 58/1000:   0%|          | 0/1000 [00:00<?, ?it/s]"
      ]
     },
     "metadata": {},
     "output_type": "display_data"
    },
    {
     "name": "stdout",
     "output_type": "stream",
     "text": [
      "\u001b[2m2023-10-22 22:28:53\u001b[0m [\u001b[32m\u001b[1mdebug    \u001b[0m] \u001b[1m250000 transitions are generated.\u001b[0m \u001b[36mfake_transitions\u001b[0m=\u001b[35m1250000\u001b[0m \u001b[36mreal_transitions\u001b[0m=\u001b[35m481194\u001b[0m\n",
      "\u001b[2m2023-10-22 22:29:15\u001b[0m [\u001b[32m\u001b[1minfo     \u001b[0m] \u001b[1mexp_5_COMBO_reacher_symmetry_20231022220537: epoch=58 step=58000\u001b[0m \u001b[36mepoch\u001b[0m=\u001b[35m58\u001b[0m \u001b[36mmetrics\u001b[0m=\u001b[35m{'time_sample_batch': 0.0008753561973571778, 'time_algorithm_update': 0.02037979292869568, 'critic_loss': 20.603243010878565, 'actor_loss': -3.565627954185009, 'temp_loss': 0.0009194931434467435, 'temp': 0.3625544378757477, 'time_step': 0.021342135906219483, 'environment': -4.873500617542076}\u001b[0m \u001b[36mstep\u001b[0m=\u001b[35m58000\u001b[0m\n"
     ]
    },
    {
     "data": {
      "application/vnd.jupyter.widget-view+json": {
       "model_id": "d7892c69c491461fb705d4ebad5adf1a",
       "version_major": 2,
       "version_minor": 0
      },
      "text/plain": [
       "Epoch 59/1000:   0%|          | 0/1000 [00:00<?, ?it/s]"
      ]
     },
     "metadata": {},
     "output_type": "display_data"
    },
    {
     "name": "stdout",
     "output_type": "stream",
     "text": [
      "\u001b[2m2023-10-22 22:29:18\u001b[0m [\u001b[32m\u001b[1mdebug    \u001b[0m] \u001b[1m250000 transitions are generated.\u001b[0m \u001b[36mfake_transitions\u001b[0m=\u001b[35m1250000\u001b[0m \u001b[36mreal_transitions\u001b[0m=\u001b[35m481194\u001b[0m\n",
      "\u001b[2m2023-10-22 22:29:40\u001b[0m [\u001b[32m\u001b[1minfo     \u001b[0m] \u001b[1mexp_5_COMBO_reacher_symmetry_20231022220537: epoch=59 step=59000\u001b[0m \u001b[36mepoch\u001b[0m=\u001b[35m59\u001b[0m \u001b[36mmetrics\u001b[0m=\u001b[35m{'time_sample_batch': 0.000891197681427002, 'time_algorithm_update': 0.020499093055725098, 'critic_loss': 26.48458503961563, 'actor_loss': -3.191422775283456, 'temp_loss': 0.0009481272688135505, 'temp': 0.36064117747545243, 'time_step': 0.021478057861328125, 'environment': -3.4293582652452286}\u001b[0m \u001b[36mstep\u001b[0m=\u001b[35m59000\u001b[0m\n"
     ]
    },
    {
     "data": {
      "application/vnd.jupyter.widget-view+json": {
       "model_id": "e074c914bbb6420ba80f88c045ddd6eb",
       "version_major": 2,
       "version_minor": 0
      },
      "text/plain": [
       "Epoch 60/1000:   0%|          | 0/1000 [00:00<?, ?it/s]"
      ]
     },
     "metadata": {},
     "output_type": "display_data"
    },
    {
     "name": "stdout",
     "output_type": "stream",
     "text": [
      "\u001b[2m2023-10-22 22:29:42\u001b[0m [\u001b[32m\u001b[1mdebug    \u001b[0m] \u001b[1m250000 transitions are generated.\u001b[0m \u001b[36mfake_transitions\u001b[0m=\u001b[35m1250000\u001b[0m \u001b[36mreal_transitions\u001b[0m=\u001b[35m481194\u001b[0m\n",
      "\u001b[2m2023-10-22 22:30:04\u001b[0m [\u001b[32m\u001b[1minfo     \u001b[0m] \u001b[1mexp_5_COMBO_reacher_symmetry_20231022220537: epoch=60 step=60000\u001b[0m \u001b[36mepoch\u001b[0m=\u001b[35m60\u001b[0m \u001b[36mmetrics\u001b[0m=\u001b[35m{'time_sample_batch': 0.0009081287384033203, 'time_algorithm_update': 0.02076735019683838, 'critic_loss': 32.05052517461777, 'actor_loss': -2.8658575016260146, 'temp_loss': -0.00038667202356737105, 'temp': 0.3611105874478817, 'time_step': 0.021763720989227294, 'environment': -4.71631028226492}\u001b[0m \u001b[36mstep\u001b[0m=\u001b[35m60000\u001b[0m\n"
     ]
    },
    {
     "data": {
      "application/vnd.jupyter.widget-view+json": {
       "model_id": "5021840a093c4e8a95dbbf2d60f8c9bd",
       "version_major": 2,
       "version_minor": 0
      },
      "text/plain": [
       "Epoch 61/1000:   0%|          | 0/1000 [00:00<?, ?it/s]"
      ]
     },
     "metadata": {},
     "output_type": "display_data"
    },
    {
     "name": "stdout",
     "output_type": "stream",
     "text": [
      "\u001b[2m2023-10-22 22:30:06\u001b[0m [\u001b[32m\u001b[1mdebug    \u001b[0m] \u001b[1m250000 transitions are generated.\u001b[0m \u001b[36mfake_transitions\u001b[0m=\u001b[35m1250000\u001b[0m \u001b[36mreal_transitions\u001b[0m=\u001b[35m481194\u001b[0m\n",
      "\u001b[2m2023-10-22 22:30:29\u001b[0m [\u001b[32m\u001b[1minfo     \u001b[0m] \u001b[1mexp_5_COMBO_reacher_symmetry_20231022220537: epoch=61 step=61000\u001b[0m \u001b[36mepoch\u001b[0m=\u001b[35m61\u001b[0m \u001b[36mmetrics\u001b[0m=\u001b[35m{'time_sample_batch': 0.0009000382423400879, 'time_algorithm_update': 0.02070082116127014, 'critic_loss': 38.99287717485428, 'actor_loss': -2.2630420074611903, 'temp_loss': -0.0030463278421666473, 'temp': 0.36254339388012885, 'time_step': 0.02169028115272522, 'environment': -4.754811018205678}\u001b[0m \u001b[36mstep\u001b[0m=\u001b[35m61000\u001b[0m\n"
     ]
    },
    {
     "data": {
      "application/vnd.jupyter.widget-view+json": {
       "model_id": "bdaed8949a244d3b820523f6126d4002",
       "version_major": 2,
       "version_minor": 0
      },
      "text/plain": [
       "Epoch 62/1000:   0%|          | 0/1000 [00:00<?, ?it/s]"
      ]
     },
     "metadata": {},
     "output_type": "display_data"
    },
    {
     "name": "stdout",
     "output_type": "stream",
     "text": [
      "\u001b[2m2023-10-22 22:30:30\u001b[0m [\u001b[32m\u001b[1mdebug    \u001b[0m] \u001b[1m250000 transitions are generated.\u001b[0m \u001b[36mfake_transitions\u001b[0m=\u001b[35m1250000\u001b[0m \u001b[36mreal_transitions\u001b[0m=\u001b[35m481194\u001b[0m\n",
      "\u001b[2m2023-10-22 22:30:52\u001b[0m [\u001b[32m\u001b[1minfo     \u001b[0m] \u001b[1mexp_5_COMBO_reacher_symmetry_20231022220537: epoch=62 step=62000\u001b[0m \u001b[36mepoch\u001b[0m=\u001b[35m62\u001b[0m \u001b[36mmetrics\u001b[0m=\u001b[35m{'time_sample_batch': 0.0008814537525177002, 'time_algorithm_update': 0.020351232290267945, 'critic_loss': 51.22450922870636, 'actor_loss': -1.5437151124477386, 'temp_loss': -0.004182047667447478, 'temp': 0.3684564324915409, 'time_step': 0.02131990957260132, 'environment': -3.3032145439052862}\u001b[0m \u001b[36mstep\u001b[0m=\u001b[35m62000\u001b[0m\n"
     ]
    },
    {
     "data": {
      "application/vnd.jupyter.widget-view+json": {
       "model_id": "9e7e0c7e8cea4911997189adae0095ff",
       "version_major": 2,
       "version_minor": 0
      },
      "text/plain": [
       "Epoch 63/1000:   0%|          | 0/1000 [00:00<?, ?it/s]"
      ]
     },
     "metadata": {},
     "output_type": "display_data"
    },
    {
     "name": "stdout",
     "output_type": "stream",
     "text": [
      "\u001b[2m2023-10-22 22:30:55\u001b[0m [\u001b[32m\u001b[1mdebug    \u001b[0m] \u001b[1m250000 transitions are generated.\u001b[0m \u001b[36mfake_transitions\u001b[0m=\u001b[35m1250000\u001b[0m \u001b[36mreal_transitions\u001b[0m=\u001b[35m481194\u001b[0m\n",
      "\u001b[2m2023-10-22 22:31:17\u001b[0m [\u001b[32m\u001b[1minfo     \u001b[0m] \u001b[1mexp_5_COMBO_reacher_symmetry_20231022220537: epoch=63 step=63000\u001b[0m \u001b[36mepoch\u001b[0m=\u001b[35m63\u001b[0m \u001b[36mmetrics\u001b[0m=\u001b[35m{'time_sample_batch': 0.0008985273838043213, 'time_algorithm_update': 0.020631139755249023, 'critic_loss': 67.12923266077041, 'actor_loss': -0.5924435911923647, 'temp_loss': -0.004570194564177655, 'temp': 0.3745730184316635, 'time_step': 0.02161938190460205, 'environment': -4.972895193268575}\u001b[0m \u001b[36mstep\u001b[0m=\u001b[35m63000\u001b[0m\n"
     ]
    },
    {
     "data": {
      "application/vnd.jupyter.widget-view+json": {
       "model_id": "4c7030bca2264d2b91f647474b69fb1b",
       "version_major": 2,
       "version_minor": 0
      },
      "text/plain": [
       "Epoch 64/1000:   0%|          | 0/1000 [00:00<?, ?it/s]"
      ]
     },
     "metadata": {},
     "output_type": "display_data"
    },
    {
     "name": "stdout",
     "output_type": "stream",
     "text": [
      "\u001b[2m2023-10-22 22:31:19\u001b[0m [\u001b[32m\u001b[1mdebug    \u001b[0m] \u001b[1m250000 transitions are generated.\u001b[0m \u001b[36mfake_transitions\u001b[0m=\u001b[35m1250000\u001b[0m \u001b[36mreal_transitions\u001b[0m=\u001b[35m481194\u001b[0m\n",
      "\u001b[2m2023-10-22 22:31:41\u001b[0m [\u001b[32m\u001b[1minfo     \u001b[0m] \u001b[1mexp_5_COMBO_reacher_symmetry_20231022220537: epoch=64 step=64000\u001b[0m \u001b[36mepoch\u001b[0m=\u001b[35m64\u001b[0m \u001b[36mmetrics\u001b[0m=\u001b[35m{'time_sample_batch': 0.0008927228450775147, 'time_algorithm_update': 0.02051926803588867, 'critic_loss': 89.31251761984825, 'actor_loss': 0.49263123323023317, 'temp_loss': -0.007379901873646304, 'temp': 0.38341978380084035, 'time_step': 0.02149962258338928, 'environment': -4.130460451493348}\u001b[0m \u001b[36mstep\u001b[0m=\u001b[35m64000\u001b[0m\n"
     ]
    },
    {
     "data": {
      "application/vnd.jupyter.widget-view+json": {
       "model_id": "ed220810c0734fbd90e3f163d25ba6ae",
       "version_major": 2,
       "version_minor": 0
      },
      "text/plain": [
       "Epoch 65/1000:   0%|          | 0/1000 [00:00<?, ?it/s]"
      ]
     },
     "metadata": {},
     "output_type": "display_data"
    },
    {
     "name": "stdout",
     "output_type": "stream",
     "text": [
      "\u001b[2m2023-10-22 22:31:44\u001b[0m [\u001b[32m\u001b[1mdebug    \u001b[0m] \u001b[1m250000 transitions are generated.\u001b[0m \u001b[36mfake_transitions\u001b[0m=\u001b[35m1250000\u001b[0m \u001b[36mreal_transitions\u001b[0m=\u001b[35m481194\u001b[0m\n",
      "\u001b[2m2023-10-22 22:32:06\u001b[0m [\u001b[32m\u001b[1minfo     \u001b[0m] \u001b[1mexp_5_COMBO_reacher_symmetry_20231022220537: epoch=65 step=65000\u001b[0m \u001b[36mepoch\u001b[0m=\u001b[35m65\u001b[0m \u001b[36mmetrics\u001b[0m=\u001b[35m{'time_sample_batch': 0.0008923842906951904, 'time_algorithm_update': 0.02050818920135498, 'critic_loss': 114.05446219825744, 'actor_loss': 1.7702468284219504, 'temp_loss': -0.002224600455025211, 'temp': 0.3873144348859787, 'time_step': 0.0214893102645874, 'environment': -5.507424128611705}\u001b[0m \u001b[36mstep\u001b[0m=\u001b[35m65000\u001b[0m\n"
     ]
    },
    {
     "data": {
      "application/vnd.jupyter.widget-view+json": {
       "model_id": "414ad2cb0bfb46e5b1a54c281c7f34a8",
       "version_major": 2,
       "version_minor": 0
      },
      "text/plain": [
       "Epoch 66/1000:   0%|          | 0/1000 [00:00<?, ?it/s]"
      ]
     },
     "metadata": {},
     "output_type": "display_data"
    },
    {
     "name": "stdout",
     "output_type": "stream",
     "text": [
      "\u001b[2m2023-10-22 22:32:08\u001b[0m [\u001b[32m\u001b[1mdebug    \u001b[0m] \u001b[1m250000 transitions are generated.\u001b[0m \u001b[36mfake_transitions\u001b[0m=\u001b[35m1250000\u001b[0m \u001b[36mreal_transitions\u001b[0m=\u001b[35m481194\u001b[0m\n",
      "\u001b[2m2023-10-22 22:32:29\u001b[0m [\u001b[32m\u001b[1minfo     \u001b[0m] \u001b[1mexp_5_COMBO_reacher_symmetry_20231022220537: epoch=66 step=66000\u001b[0m \u001b[36mepoch\u001b[0m=\u001b[35m66\u001b[0m \u001b[36mmetrics\u001b[0m=\u001b[35m{'time_sample_batch': 0.000881831169128418, 'time_algorithm_update': 0.020359386920928955, 'critic_loss': 151.38050160121918, 'actor_loss': 3.1383432812988756, 'temp_loss': -0.004569102683104575, 'temp': 0.39120602905750274, 'time_step': 0.021329442501068115, 'environment': -5.012106282619037}\u001b[0m \u001b[36mstep\u001b[0m=\u001b[35m66000\u001b[0m\n"
     ]
    },
    {
     "data": {
      "application/vnd.jupyter.widget-view+json": {
       "model_id": "369e03a197e34dbab6c7fec4d00295d7",
       "version_major": 2,
       "version_minor": 0
      },
      "text/plain": [
       "Epoch 67/1000:   0%|          | 0/1000 [00:00<?, ?it/s]"
      ]
     },
     "metadata": {},
     "output_type": "display_data"
    },
    {
     "name": "stdout",
     "output_type": "stream",
     "text": [
      "\u001b[2m2023-10-22 22:32:32\u001b[0m [\u001b[32m\u001b[1mdebug    \u001b[0m] \u001b[1m250000 transitions are generated.\u001b[0m \u001b[36mfake_transitions\u001b[0m=\u001b[35m1250000\u001b[0m \u001b[36mreal_transitions\u001b[0m=\u001b[35m481194\u001b[0m\n",
      "\u001b[2m2023-10-22 22:32:54\u001b[0m [\u001b[32m\u001b[1minfo     \u001b[0m] \u001b[1mexp_5_COMBO_reacher_symmetry_20231022220537: epoch=67 step=67000\u001b[0m \u001b[36mepoch\u001b[0m=\u001b[35m67\u001b[0m \u001b[36mmetrics\u001b[0m=\u001b[35m{'time_sample_batch': 0.0008978652954101563, 'time_algorithm_update': 0.020606661319732666, 'critic_loss': 182.94032447242736, 'actor_loss': 4.911619972020388, 'temp_loss': -0.0028643232214963063, 'temp': 0.39732360452413557, 'time_step': 0.021594417333602907, 'environment': -5.402857854205543}\u001b[0m \u001b[36mstep\u001b[0m=\u001b[35m67000\u001b[0m\n"
     ]
    },
    {
     "data": {
      "application/vnd.jupyter.widget-view+json": {
       "model_id": "35f16899b6184ee3b53f25d65f25fd8d",
       "version_major": 2,
       "version_minor": 0
      },
      "text/plain": [
       "Epoch 68/1000:   0%|          | 0/1000 [00:00<?, ?it/s]"
      ]
     },
     "metadata": {},
     "output_type": "display_data"
    },
    {
     "name": "stdout",
     "output_type": "stream",
     "text": [
      "\u001b[2m2023-10-22 22:32:56\u001b[0m [\u001b[32m\u001b[1mdebug    \u001b[0m] \u001b[1m250000 transitions are generated.\u001b[0m \u001b[36mfake_transitions\u001b[0m=\u001b[35m1250000\u001b[0m \u001b[36mreal_transitions\u001b[0m=\u001b[35m481194\u001b[0m\n",
      "\u001b[2m2023-10-22 22:33:18\u001b[0m [\u001b[32m\u001b[1minfo     \u001b[0m] \u001b[1mexp_5_COMBO_reacher_symmetry_20231022220537: epoch=68 step=68000\u001b[0m \u001b[36mepoch\u001b[0m=\u001b[35m68\u001b[0m \u001b[36mmetrics\u001b[0m=\u001b[35m{'time_sample_batch': 0.0009006595611572265, 'time_algorithm_update': 0.020622665405273438, 'critic_loss': 251.49546082115174, 'actor_loss': 7.3806735749691725, 'temp_loss': -0.015596760941436515, 'temp': 0.4068146172761917, 'time_step': 0.021613022089004518, 'environment': -4.1980295438532815}\u001b[0m \u001b[36mstep\u001b[0m=\u001b[35m68000\u001b[0m\n"
     ]
    },
    {
     "data": {
      "application/vnd.jupyter.widget-view+json": {
       "model_id": "9eaded08b55b4fe6a9af100005d254f8",
       "version_major": 2,
       "version_minor": 0
      },
      "text/plain": [
       "Epoch 69/1000:   0%|          | 0/1000 [00:00<?, ?it/s]"
      ]
     },
     "metadata": {},
     "output_type": "display_data"
    },
    {
     "name": "stdout",
     "output_type": "stream",
     "text": [
      "\u001b[2m2023-10-22 22:33:20\u001b[0m [\u001b[32m\u001b[1mdebug    \u001b[0m] \u001b[1m250000 transitions are generated.\u001b[0m \u001b[36mfake_transitions\u001b[0m=\u001b[35m1250000\u001b[0m \u001b[36mreal_transitions\u001b[0m=\u001b[35m481194\u001b[0m\n",
      "\u001b[2m2023-10-22 22:33:42\u001b[0m [\u001b[32m\u001b[1minfo     \u001b[0m] \u001b[1mexp_5_COMBO_reacher_symmetry_20231022220537: epoch=69 step=69000\u001b[0m \u001b[36mepoch\u001b[0m=\u001b[35m69\u001b[0m \u001b[36mmetrics\u001b[0m=\u001b[35m{'time_sample_batch': 0.0008686721324920654, 'time_algorithm_update': 0.020217557430267333, 'critic_loss': 317.3174387817383, 'actor_loss': 10.109889789164066, 'temp_loss': -0.010400833827909082, 'temp': 0.4236425482034683, 'time_step': 0.02117222237586975, 'environment': -3.5660366804745145}\u001b[0m \u001b[36mstep\u001b[0m=\u001b[35m69000\u001b[0m\n"
     ]
    },
    {
     "data": {
      "application/vnd.jupyter.widget-view+json": {
       "model_id": "fef7bc47db4043a287a4d9cb28c47e47",
       "version_major": 2,
       "version_minor": 0
      },
      "text/plain": [
       "Epoch 70/1000:   0%|          | 0/1000 [00:00<?, ?it/s]"
      ]
     },
     "metadata": {},
     "output_type": "display_data"
    },
    {
     "name": "stdout",
     "output_type": "stream",
     "text": [
      "\u001b[2m2023-10-22 22:33:45\u001b[0m [\u001b[32m\u001b[1mdebug    \u001b[0m] \u001b[1m250000 transitions are generated.\u001b[0m \u001b[36mfake_transitions\u001b[0m=\u001b[35m1250000\u001b[0m \u001b[36mreal_transitions\u001b[0m=\u001b[35m481194\u001b[0m\n",
      "\u001b[2m2023-10-22 22:34:07\u001b[0m [\u001b[32m\u001b[1minfo     \u001b[0m] \u001b[1mexp_5_COMBO_reacher_symmetry_20231022220537: epoch=70 step=70000\u001b[0m \u001b[36mepoch\u001b[0m=\u001b[35m70\u001b[0m \u001b[36mmetrics\u001b[0m=\u001b[35m{'time_sample_batch': 0.0009142625331878662, 'time_algorithm_update': 0.02085638093948364, 'critic_loss': 426.55644091796876, 'actor_loss': 13.775197802066803, 'temp_loss': -0.014261729398043826, 'temp': 0.43732592862844466, 'time_step': 0.021860518455505372, 'environment': -5.208090030029976}\u001b[0m \u001b[36mstep\u001b[0m=\u001b[35m70000\u001b[0m\n"
     ]
    },
    {
     "data": {
      "application/vnd.jupyter.widget-view+json": {
       "model_id": "83d6fdecc6e1470792898db381568c9e",
       "version_major": 2,
       "version_minor": 0
      },
      "text/plain": [
       "Epoch 71/1000:   0%|          | 0/1000 [00:00<?, ?it/s]"
      ]
     },
     "metadata": {},
     "output_type": "display_data"
    },
    {
     "name": "stdout",
     "output_type": "stream",
     "text": [
      "\u001b[2m2023-10-22 22:34:09\u001b[0m [\u001b[32m\u001b[1mdebug    \u001b[0m] \u001b[1m250000 transitions are generated.\u001b[0m \u001b[36mfake_transitions\u001b[0m=\u001b[35m1250000\u001b[0m \u001b[36mreal_transitions\u001b[0m=\u001b[35m481194\u001b[0m\n",
      "\u001b[2m2023-10-22 22:34:31\u001b[0m [\u001b[32m\u001b[1minfo     \u001b[0m] \u001b[1mexp_5_COMBO_reacher_symmetry_20231022220537: epoch=71 step=71000\u001b[0m \u001b[36mepoch\u001b[0m=\u001b[35m71\u001b[0m \u001b[36mmetrics\u001b[0m=\u001b[35m{'time_sample_batch': 0.0009130616188049316, 'time_algorithm_update': 0.020803969383239748, 'critic_loss': 566.812091331482, 'actor_loss': 16.96492835712433, 'temp_loss': -0.012447107347426937, 'temp': 0.4538199931681156, 'time_step': 0.021806803703308106, 'environment': -4.585976552358167}\u001b[0m \u001b[36mstep\u001b[0m=\u001b[35m71000\u001b[0m\n"
     ]
    },
    {
     "data": {
      "application/vnd.jupyter.widget-view+json": {
       "model_id": "cbec1256d33a4dfe94b1198632fc2ab7",
       "version_major": 2,
       "version_minor": 0
      },
      "text/plain": [
       "Epoch 72/1000:   0%|          | 0/1000 [00:00<?, ?it/s]"
      ]
     },
     "metadata": {},
     "output_type": "display_data"
    },
    {
     "name": "stdout",
     "output_type": "stream",
     "text": [
      "\u001b[2m2023-10-22 22:34:34\u001b[0m [\u001b[32m\u001b[1mdebug    \u001b[0m] \u001b[1m250000 transitions are generated.\u001b[0m \u001b[36mfake_transitions\u001b[0m=\u001b[35m1250000\u001b[0m \u001b[36mreal_transitions\u001b[0m=\u001b[35m481194\u001b[0m\n",
      "\u001b[2m2023-10-22 22:34:56\u001b[0m [\u001b[32m\u001b[1minfo     \u001b[0m] \u001b[1mexp_5_COMBO_reacher_symmetry_20231022220537: epoch=72 step=72000\u001b[0m \u001b[36mepoch\u001b[0m=\u001b[35m72\u001b[0m \u001b[36mmetrics\u001b[0m=\u001b[35m{'time_sample_batch': 0.0009063715934753418, 'time_algorithm_update': 0.02078813934326172, 'critic_loss': 687.1179365539551, 'actor_loss': 21.095598650455475, 'temp_loss': -0.02582155381166376, 'temp': 0.4739368204772472, 'time_step': 0.02178412437438965, 'environment': -4.484012684347118}\u001b[0m \u001b[36mstep\u001b[0m=\u001b[35m72000\u001b[0m\n"
     ]
    },
    {
     "data": {
      "application/vnd.jupyter.widget-view+json": {
       "model_id": "790b2d12f9b44dd28423014292913684",
       "version_major": 2,
       "version_minor": 0
      },
      "text/plain": [
       "Epoch 73/1000:   0%|          | 0/1000 [00:00<?, ?it/s]"
      ]
     },
     "metadata": {},
     "output_type": "display_data"
    },
    {
     "name": "stdout",
     "output_type": "stream",
     "text": [
      "\u001b[2m2023-10-22 22:34:58\u001b[0m [\u001b[32m\u001b[1mdebug    \u001b[0m] \u001b[1m250000 transitions are generated.\u001b[0m \u001b[36mfake_transitions\u001b[0m=\u001b[35m1250000\u001b[0m \u001b[36mreal_transitions\u001b[0m=\u001b[35m481194\u001b[0m\n",
      "\u001b[2m2023-10-22 22:35:20\u001b[0m [\u001b[32m\u001b[1minfo     \u001b[0m] \u001b[1mexp_5_COMBO_reacher_symmetry_20231022220537: epoch=73 step=73000\u001b[0m \u001b[36mepoch\u001b[0m=\u001b[35m73\u001b[0m \u001b[36mmetrics\u001b[0m=\u001b[35m{'time_sample_batch': 0.0009031219482421875, 'time_algorithm_update': 0.020802536725997925, 'critic_loss': 901.6505922393799, 'actor_loss': 26.10922987270355, 'temp_loss': -0.021280208116862924, 'temp': 0.4972797001302242, 'time_step': 0.0217946093082428, 'environment': -5.660802157703865}\u001b[0m \u001b[36mstep\u001b[0m=\u001b[35m73000\u001b[0m\n"
     ]
    },
    {
     "data": {
      "application/vnd.jupyter.widget-view+json": {
       "model_id": "63ce6603cb26426982fecf691e43d1f4",
       "version_major": 2,
       "version_minor": 0
      },
      "text/plain": [
       "Epoch 74/1000:   0%|          | 0/1000 [00:00<?, ?it/s]"
      ]
     },
     "metadata": {},
     "output_type": "display_data"
    },
    {
     "name": "stdout",
     "output_type": "stream",
     "text": [
      "\u001b[2m2023-10-22 22:35:23\u001b[0m [\u001b[32m\u001b[1mdebug    \u001b[0m] \u001b[1m250000 transitions are generated.\u001b[0m \u001b[36mfake_transitions\u001b[0m=\u001b[35m1250000\u001b[0m \u001b[36mreal_transitions\u001b[0m=\u001b[35m481194\u001b[0m\n",
      "\u001b[2m2023-10-22 22:35:45\u001b[0m [\u001b[32m\u001b[1minfo     \u001b[0m] \u001b[1mexp_5_COMBO_reacher_symmetry_20231022220537: epoch=74 step=74000\u001b[0m \u001b[36mepoch\u001b[0m=\u001b[35m74\u001b[0m \u001b[36mmetrics\u001b[0m=\u001b[35m{'time_sample_batch': 0.0008972086906433106, 'time_algorithm_update': 0.020674437522888185, 'critic_loss': 1196.1909838333129, 'actor_loss': 31.652154277801515, 'temp_loss': -0.007429020049981773, 'temp': 0.5117785949707031, 'time_step': 0.021662473440170287, 'environment': -6.228432587270685}\u001b[0m \u001b[36mstep\u001b[0m=\u001b[35m74000\u001b[0m\n"
     ]
    },
    {
     "data": {
      "application/vnd.jupyter.widget-view+json": {
       "model_id": "3807d4ed0a3f46dab04fa47e1cda7891",
       "version_major": 2,
       "version_minor": 0
      },
      "text/plain": [
       "Epoch 75/1000:   0%|          | 0/1000 [00:00<?, ?it/s]"
      ]
     },
     "metadata": {},
     "output_type": "display_data"
    },
    {
     "name": "stdout",
     "output_type": "stream",
     "text": [
      "\u001b[2m2023-10-22 22:35:47\u001b[0m [\u001b[32m\u001b[1mdebug    \u001b[0m] \u001b[1m250000 transitions are generated.\u001b[0m \u001b[36mfake_transitions\u001b[0m=\u001b[35m1250000\u001b[0m \u001b[36mreal_transitions\u001b[0m=\u001b[35m481194\u001b[0m\n",
      "\u001b[2m2023-10-22 22:36:09\u001b[0m [\u001b[32m\u001b[1minfo     \u001b[0m] \u001b[1mexp_5_COMBO_reacher_symmetry_20231022220537: epoch=75 step=75000\u001b[0m \u001b[36mepoch\u001b[0m=\u001b[35m75\u001b[0m \u001b[36mmetrics\u001b[0m=\u001b[35m{'time_sample_batch': 0.0008815133571624756, 'time_algorithm_update': 0.020407407283782958, 'critic_loss': 1494.15720438385, 'actor_loss': 38.337564125061036, 'temp_loss': -0.030269161668606104, 'temp': 0.5283205699324608, 'time_step': 0.02137699770927429, 'environment': -6.257484074374679}\u001b[0m \u001b[36mstep\u001b[0m=\u001b[35m75000\u001b[0m\n"
     ]
    },
    {
     "data": {
      "application/vnd.jupyter.widget-view+json": {
       "model_id": "da488dd779174288bf1b98b7271ddd27",
       "version_major": 2,
       "version_minor": 0
      },
      "text/plain": [
       "Epoch 76/1000:   0%|          | 0/1000 [00:00<?, ?it/s]"
      ]
     },
     "metadata": {},
     "output_type": "display_data"
    },
    {
     "name": "stdout",
     "output_type": "stream",
     "text": [
      "\u001b[2m2023-10-22 22:36:12\u001b[0m [\u001b[32m\u001b[1mdebug    \u001b[0m] \u001b[1m250000 transitions are generated.\u001b[0m \u001b[36mfake_transitions\u001b[0m=\u001b[35m1250000\u001b[0m \u001b[36mreal_transitions\u001b[0m=\u001b[35m481194\u001b[0m\n",
      "\u001b[2m2023-10-22 22:36:34\u001b[0m [\u001b[32m\u001b[1minfo     \u001b[0m] \u001b[1mexp_5_COMBO_reacher_symmetry_20231022220537: epoch=76 step=76000\u001b[0m \u001b[36mepoch\u001b[0m=\u001b[35m76\u001b[0m \u001b[36mmetrics\u001b[0m=\u001b[35m{'time_sample_batch': 0.0009090275764465332, 'time_algorithm_update': 0.020883450031280518, 'critic_loss': 2018.1203741760253, 'actor_loss': 47.99486967086792, 'temp_loss': -0.03351065945718437, 'temp': 0.5599198216795921, 'time_step': 0.02188319993019104, 'environment': -5.96621807531764}\u001b[0m \u001b[36mstep\u001b[0m=\u001b[35m76000\u001b[0m\n"
     ]
    },
    {
     "data": {
      "application/vnd.jupyter.widget-view+json": {
       "model_id": "08304b79a126410ea367c53e67fcb8a1",
       "version_major": 2,
       "version_minor": 0
      },
      "text/plain": [
       "Epoch 77/1000:   0%|          | 0/1000 [00:00<?, ?it/s]"
      ]
     },
     "metadata": {},
     "output_type": "display_data"
    },
    {
     "name": "stdout",
     "output_type": "stream",
     "text": [
      "\u001b[2m2023-10-22 22:36:36\u001b[0m [\u001b[32m\u001b[1mdebug    \u001b[0m] \u001b[1m250000 transitions are generated.\u001b[0m \u001b[36mfake_transitions\u001b[0m=\u001b[35m1250000\u001b[0m \u001b[36mreal_transitions\u001b[0m=\u001b[35m481194\u001b[0m\n",
      "\u001b[2m2023-10-22 22:36:58\u001b[0m [\u001b[32m\u001b[1minfo     \u001b[0m] \u001b[1mexp_5_COMBO_reacher_symmetry_20231022220537: epoch=77 step=77000\u001b[0m \u001b[36mepoch\u001b[0m=\u001b[35m77\u001b[0m \u001b[36mmetrics\u001b[0m=\u001b[35m{'time_sample_batch': 0.000903977632522583, 'time_algorithm_update': 0.020736515522003174, 'critic_loss': 2651.6152488098146, 'actor_loss': 58.940160036087036, 'temp_loss': -0.054663261130917816, 'temp': 0.5968633784651757, 'time_step': 0.02172958207130432, 'environment': -8.261467355440319}\u001b[0m \u001b[36mstep\u001b[0m=\u001b[35m77000\u001b[0m\n"
     ]
    },
    {
     "data": {
      "application/vnd.jupyter.widget-view+json": {
       "model_id": "c12ff66ecadd447185f9a23c7a82e357",
       "version_major": 2,
       "version_minor": 0
      },
      "text/plain": [
       "Epoch 78/1000:   0%|          | 0/1000 [00:00<?, ?it/s]"
      ]
     },
     "metadata": {},
     "output_type": "display_data"
    },
    {
     "name": "stdout",
     "output_type": "stream",
     "text": [
      "\u001b[2m2023-10-22 22:37:01\u001b[0m [\u001b[32m\u001b[1mdebug    \u001b[0m] \u001b[1m250000 transitions are generated.\u001b[0m \u001b[36mfake_transitions\u001b[0m=\u001b[35m1250000\u001b[0m \u001b[36mreal_transitions\u001b[0m=\u001b[35m481194\u001b[0m\n",
      "\u001b[2m2023-10-22 22:37:23\u001b[0m [\u001b[32m\u001b[1minfo     \u001b[0m] \u001b[1mexp_5_COMBO_reacher_symmetry_20231022220537: epoch=78 step=78000\u001b[0m \u001b[36mepoch\u001b[0m=\u001b[35m78\u001b[0m \u001b[36mmetrics\u001b[0m=\u001b[35m{'time_sample_batch': 0.000898735761642456, 'time_algorithm_update': 0.020712093830108642, 'critic_loss': 3099.582154663086, 'actor_loss': 69.27715954971313, 'temp_loss': -0.05310316171590239, 'temp': 0.6393436191082, 'time_step': 0.021700743913650514, 'environment': -4.8451759746045}\u001b[0m \u001b[36mstep\u001b[0m=\u001b[35m78000\u001b[0m\n"
     ]
    },
    {
     "data": {
      "application/vnd.jupyter.widget-view+json": {
       "model_id": "88002612c6344b4ca53a5aab34a73eda",
       "version_major": 2,
       "version_minor": 0
      },
      "text/plain": [
       "Epoch 79/1000:   0%|          | 0/1000 [00:00<?, ?it/s]"
      ]
     },
     "metadata": {},
     "output_type": "display_data"
    },
    {
     "name": "stdout",
     "output_type": "stream",
     "text": [
      "\u001b[2m2023-10-22 22:37:25\u001b[0m [\u001b[32m\u001b[1mdebug    \u001b[0m] \u001b[1m250000 transitions are generated.\u001b[0m \u001b[36mfake_transitions\u001b[0m=\u001b[35m1250000\u001b[0m \u001b[36mreal_transitions\u001b[0m=\u001b[35m481194\u001b[0m\n",
      "\u001b[2m2023-10-22 22:37:47\u001b[0m [\u001b[32m\u001b[1minfo     \u001b[0m] \u001b[1mexp_5_COMBO_reacher_symmetry_20231022220537: epoch=79 step=79000\u001b[0m \u001b[36mepoch\u001b[0m=\u001b[35m79\u001b[0m \u001b[36mmetrics\u001b[0m=\u001b[35m{'time_sample_batch': 0.0008846628665924072, 'time_algorithm_update': 0.020484532117843627, 'critic_loss': 3993.481199462891, 'actor_loss': 82.65861131286621, 'temp_loss': -0.04769535589171574, 'temp': 0.6804163671135902, 'time_step': 0.02145791006088257, 'environment': -6.766082540786556}\u001b[0m \u001b[36mstep\u001b[0m=\u001b[35m79000\u001b[0m\n"
     ]
    },
    {
     "data": {
      "application/vnd.jupyter.widget-view+json": {
       "model_id": "4629de0c33d64607b3eb3f6f21bdddec",
       "version_major": 2,
       "version_minor": 0
      },
      "text/plain": [
       "Epoch 80/1000:   0%|          | 0/1000 [00:00<?, ?it/s]"
      ]
     },
     "metadata": {},
     "output_type": "display_data"
    },
    {
     "name": "stdout",
     "output_type": "stream",
     "text": [
      "\u001b[2m2023-10-22 22:37:50\u001b[0m [\u001b[32m\u001b[1mdebug    \u001b[0m] \u001b[1m250000 transitions are generated.\u001b[0m \u001b[36mfake_transitions\u001b[0m=\u001b[35m1250000\u001b[0m \u001b[36mreal_transitions\u001b[0m=\u001b[35m481194\u001b[0m\n",
      "\u001b[2m2023-10-22 22:38:12\u001b[0m [\u001b[32m\u001b[1minfo     \u001b[0m] \u001b[1mexp_5_COMBO_reacher_symmetry_20231022220537: epoch=80 step=80000\u001b[0m \u001b[36mepoch\u001b[0m=\u001b[35m80\u001b[0m \u001b[36mmetrics\u001b[0m=\u001b[35m{'time_sample_batch': 0.0008908448219299317, 'time_algorithm_update': 0.02044730544090271, 'critic_loss': 5058.313953857421, 'actor_loss': 98.88461190795898, 'temp_loss': -0.05309750034287572, 'temp': 0.7178543443083764, 'time_step': 0.021427679538726808, 'environment': -9.714976119785073}\u001b[0m \u001b[36mstep\u001b[0m=\u001b[35m80000\u001b[0m\n"
     ]
    },
    {
     "data": {
      "application/vnd.jupyter.widget-view+json": {
       "model_id": "2f04bd3261d646249f0dd05bcbd9855d",
       "version_major": 2,
       "version_minor": 0
      },
      "text/plain": [
       "Epoch 81/1000:   0%|          | 0/1000 [00:00<?, ?it/s]"
      ]
     },
     "metadata": {},
     "output_type": "display_data"
    },
    {
     "name": "stdout",
     "output_type": "stream",
     "text": [
      "\u001b[2m2023-10-22 22:38:14\u001b[0m [\u001b[32m\u001b[1mdebug    \u001b[0m] \u001b[1m250000 transitions are generated.\u001b[0m \u001b[36mfake_transitions\u001b[0m=\u001b[35m1250000\u001b[0m \u001b[36mreal_transitions\u001b[0m=\u001b[35m481194\u001b[0m\n",
      "\u001b[2m2023-10-22 22:38:36\u001b[0m [\u001b[32m\u001b[1minfo     \u001b[0m] \u001b[1mexp_5_COMBO_reacher_symmetry_20231022220537: epoch=81 step=81000\u001b[0m \u001b[36mepoch\u001b[0m=\u001b[35m81\u001b[0m \u001b[36mmetrics\u001b[0m=\u001b[35m{'time_sample_batch': 0.000906691312789917, 'time_algorithm_update': 0.020841907024383544, 'critic_loss': 6344.418805419922, 'actor_loss': 119.3879316444397, 'temp_loss': -0.06710530547983945, 'temp': 0.7708420199155808, 'time_step': 0.021838690042495727, 'environment': -5.125367693350352}\u001b[0m \u001b[36mstep\u001b[0m=\u001b[35m81000\u001b[0m\n"
     ]
    },
    {
     "data": {
      "application/vnd.jupyter.widget-view+json": {
       "model_id": "f2dc6a3dd34d4c3c86056d23d5d00804",
       "version_major": 2,
       "version_minor": 0
      },
      "text/plain": [
       "Epoch 82/1000:   0%|          | 0/1000 [00:00<?, ?it/s]"
      ]
     },
     "metadata": {},
     "output_type": "display_data"
    },
    {
     "name": "stdout",
     "output_type": "stream",
     "text": [
      "\u001b[2m2023-10-22 22:38:38\u001b[0m [\u001b[32m\u001b[1mdebug    \u001b[0m] \u001b[1m250000 transitions are generated.\u001b[0m \u001b[36mfake_transitions\u001b[0m=\u001b[35m1250000\u001b[0m \u001b[36mreal_transitions\u001b[0m=\u001b[35m481194\u001b[0m\n",
      "\u001b[2m2023-10-22 22:39:00\u001b[0m [\u001b[32m\u001b[1minfo     \u001b[0m] \u001b[1mexp_5_COMBO_reacher_symmetry_20231022220537: epoch=82 step=82000\u001b[0m \u001b[36mepoch\u001b[0m=\u001b[35m82\u001b[0m \u001b[36mmetrics\u001b[0m=\u001b[35m{'time_sample_batch': 0.0008905212879180909, 'time_algorithm_update': 0.020568399667739868, 'critic_loss': 8232.55125378418, 'actor_loss': 143.44789876556396, 'temp_loss': -0.07037628032173962, 'temp': 0.8183617252707481, 'time_step': 0.021547902345657347, 'environment': -6.333635357097525}\u001b[0m \u001b[36mstep\u001b[0m=\u001b[35m82000\u001b[0m\n"
     ]
    },
    {
     "data": {
      "application/vnd.jupyter.widget-view+json": {
       "model_id": "707ec7a945b64a61b438bd6a004231b6",
       "version_major": 2,
       "version_minor": 0
      },
      "text/plain": [
       "Epoch 83/1000:   0%|          | 0/1000 [00:00<?, ?it/s]"
      ]
     },
     "metadata": {},
     "output_type": "display_data"
    },
    {
     "name": "stdout",
     "output_type": "stream",
     "text": [
      "\u001b[2m2023-10-22 22:39:03\u001b[0m [\u001b[32m\u001b[1mdebug    \u001b[0m] \u001b[1m250000 transitions are generated.\u001b[0m \u001b[36mfake_transitions\u001b[0m=\u001b[35m1250000\u001b[0m \u001b[36mreal_transitions\u001b[0m=\u001b[35m481194\u001b[0m\n",
      "\u001b[2m2023-10-22 22:39:25\u001b[0m [\u001b[32m\u001b[1minfo     \u001b[0m] \u001b[1mexp_5_COMBO_reacher_symmetry_20231022220537: epoch=83 step=83000\u001b[0m \u001b[36mepoch\u001b[0m=\u001b[35m83\u001b[0m \u001b[36mmetrics\u001b[0m=\u001b[35m{'time_sample_batch': 0.000899479866027832, 'time_algorithm_update': 0.02056581926345825, 'critic_loss': 10458.596505615234, 'actor_loss': 166.8606595840454, 'temp_loss': -0.11062699143821374, 'temp': 0.8853723227977752, 'time_step': 0.021548881530761718, 'environment': -9.39598243890359}\u001b[0m \u001b[36mstep\u001b[0m=\u001b[35m83000\u001b[0m\n"
     ]
    },
    {
     "data": {
      "application/vnd.jupyter.widget-view+json": {
       "model_id": "900ca21d6a554f60bb8f0854fb247ef2",
       "version_major": 2,
       "version_minor": 0
      },
      "text/plain": [
       "Epoch 84/1000:   0%|          | 0/1000 [00:00<?, ?it/s]"
      ]
     },
     "metadata": {},
     "output_type": "display_data"
    },
    {
     "name": "stdout",
     "output_type": "stream",
     "text": [
      "\u001b[2m2023-10-22 22:39:27\u001b[0m [\u001b[32m\u001b[1mdebug    \u001b[0m] \u001b[1m250000 transitions are generated.\u001b[0m \u001b[36mfake_transitions\u001b[0m=\u001b[35m1250000\u001b[0m \u001b[36mreal_transitions\u001b[0m=\u001b[35m481194\u001b[0m\n",
      "\u001b[2m2023-10-22 22:39:49\u001b[0m [\u001b[32m\u001b[1minfo     \u001b[0m] \u001b[1mexp_5_COMBO_reacher_symmetry_20231022220537: epoch=84 step=84000\u001b[0m \u001b[36mepoch\u001b[0m=\u001b[35m84\u001b[0m \u001b[36mmetrics\u001b[0m=\u001b[35m{'time_sample_batch': 0.0008837690353393554, 'time_algorithm_update': 0.02031317448616028, 'critic_loss': 12860.982458984376, 'actor_loss': 196.4624436264038, 'temp_loss': -0.10212756040040404, 'temp': 0.9588519257307052, 'time_step': 0.021277916431427003, 'environment': -6.769811168903348}\u001b[0m \u001b[36mstep\u001b[0m=\u001b[35m84000\u001b[0m\n"
     ]
    },
    {
     "data": {
      "application/vnd.jupyter.widget-view+json": {
       "model_id": "14b6758942f44769b82aa64c17508b80",
       "version_major": 2,
       "version_minor": 0
      },
      "text/plain": [
       "Epoch 85/1000:   0%|          | 0/1000 [00:00<?, ?it/s]"
      ]
     },
     "metadata": {},
     "output_type": "display_data"
    },
    {
     "name": "stdout",
     "output_type": "stream",
     "text": [
      "\u001b[2m2023-10-22 22:39:51\u001b[0m [\u001b[32m\u001b[1mdebug    \u001b[0m] \u001b[1m250000 transitions are generated.\u001b[0m \u001b[36mfake_transitions\u001b[0m=\u001b[35m1250000\u001b[0m \u001b[36mreal_transitions\u001b[0m=\u001b[35m481194\u001b[0m\n",
      "\u001b[2m2023-10-22 22:40:14\u001b[0m [\u001b[32m\u001b[1minfo     \u001b[0m] \u001b[1mexp_5_COMBO_reacher_symmetry_20231022220537: epoch=85 step=85000\u001b[0m \u001b[36mepoch\u001b[0m=\u001b[35m85\u001b[0m \u001b[36mmetrics\u001b[0m=\u001b[35m{'time_sample_batch': 0.0008978264331817627, 'time_algorithm_update': 0.020678174257278442, 'critic_loss': 15831.014339355468, 'actor_loss': 235.50408500671386, 'temp_loss': -0.11413158832397312, 'temp': 1.0300606426596641, 'time_step': 0.021656872272491454, 'environment': -7.191996393449218}\u001b[0m \u001b[36mstep\u001b[0m=\u001b[35m85000\u001b[0m\n"
     ]
    },
    {
     "data": {
      "application/vnd.jupyter.widget-view+json": {
       "model_id": "46964e7d8ce545c786b1571861c56263",
       "version_major": 2,
       "version_minor": 0
      },
      "text/plain": [
       "Epoch 86/1000:   0%|          | 0/1000 [00:00<?, ?it/s]"
      ]
     },
     "metadata": {},
     "output_type": "display_data"
    },
    {
     "name": "stdout",
     "output_type": "stream",
     "text": [
      "\u001b[2m2023-10-22 22:40:15\u001b[0m [\u001b[32m\u001b[1mdebug    \u001b[0m] \u001b[1m250000 transitions are generated.\u001b[0m \u001b[36mfake_transitions\u001b[0m=\u001b[35m1250000\u001b[0m \u001b[36mreal_transitions\u001b[0m=\u001b[35m481194\u001b[0m\n",
      "\u001b[2m2023-10-22 22:40:38\u001b[0m [\u001b[32m\u001b[1minfo     \u001b[0m] \u001b[1mexp_5_COMBO_reacher_symmetry_20231022220537: epoch=86 step=86000\u001b[0m \u001b[36mepoch\u001b[0m=\u001b[35m86\u001b[0m \u001b[36mmetrics\u001b[0m=\u001b[35m{'time_sample_batch': 0.0009167888164520264, 'time_algorithm_update': 0.02090105724334717, 'critic_loss': 20280.71672558594, 'actor_loss': 281.23427865600587, 'temp_loss': -0.16439784571528435, 'temp': 1.1208024419546128, 'time_step': 0.021901169061660765, 'environment': -9.58064505272704}\u001b[0m \u001b[36mstep\u001b[0m=\u001b[35m86000\u001b[0m\n"
     ]
    },
    {
     "data": {
      "application/vnd.jupyter.widget-view+json": {
       "model_id": "9977701bed234c9bbb7a9af611e66fb2",
       "version_major": 2,
       "version_minor": 0
      },
      "text/plain": [
       "Epoch 87/1000:   0%|          | 0/1000 [00:00<?, ?it/s]"
      ]
     },
     "metadata": {},
     "output_type": "display_data"
    },
    {
     "name": "stdout",
     "output_type": "stream",
     "text": [
      "\u001b[2m2023-10-22 22:40:40\u001b[0m [\u001b[32m\u001b[1mdebug    \u001b[0m] \u001b[1m250000 transitions are generated.\u001b[0m \u001b[36mfake_transitions\u001b[0m=\u001b[35m1250000\u001b[0m \u001b[36mreal_transitions\u001b[0m=\u001b[35m481194\u001b[0m\n",
      "\u001b[2m2023-10-22 22:41:03\u001b[0m [\u001b[32m\u001b[1minfo     \u001b[0m] \u001b[1mexp_5_COMBO_reacher_symmetry_20231022220537: epoch=87 step=87000\u001b[0m \u001b[36mepoch\u001b[0m=\u001b[35m87\u001b[0m \u001b[36mmetrics\u001b[0m=\u001b[35m{'time_sample_batch': 0.0008990068435668946, 'time_algorithm_update': 0.020553667545318604, 'critic_loss': 25467.847107910155, 'actor_loss': 334.97730297851564, 'temp_loss': -0.18819915134832263, 'temp': 1.2290089383125304, 'time_step': 0.02153640079498291, 'environment': -9.530216877273846}\u001b[0m \u001b[36mstep\u001b[0m=\u001b[35m87000\u001b[0m\n"
     ]
    },
    {
     "data": {
      "application/vnd.jupyter.widget-view+json": {
       "model_id": "59fc27d26c2148b99fa8b6de2704a882",
       "version_major": 2,
       "version_minor": 0
      },
      "text/plain": [
       "Epoch 88/1000:   0%|          | 0/1000 [00:00<?, ?it/s]"
      ]
     },
     "metadata": {},
     "output_type": "display_data"
    },
    {
     "name": "stdout",
     "output_type": "stream",
     "text": [
      "\u001b[2m2023-10-22 22:41:04\u001b[0m [\u001b[32m\u001b[1mdebug    \u001b[0m] \u001b[1m250000 transitions are generated.\u001b[0m \u001b[36mfake_transitions\u001b[0m=\u001b[35m1250000\u001b[0m \u001b[36mreal_transitions\u001b[0m=\u001b[35m481194\u001b[0m\n",
      "\u001b[2m2023-10-22 22:41:26\u001b[0m [\u001b[32m\u001b[1minfo     \u001b[0m] \u001b[1mexp_5_COMBO_reacher_symmetry_20231022220537: epoch=88 step=88000\u001b[0m \u001b[36mepoch\u001b[0m=\u001b[35m88\u001b[0m \u001b[36mmetrics\u001b[0m=\u001b[35m{'time_sample_batch': 0.0008726906776428222, 'time_algorithm_update': 0.020132940769195556, 'critic_loss': 35137.556078125, 'actor_loss': 399.0478441772461, 'temp_loss': -0.22669193504005672, 'temp': 1.3439051817655563, 'time_step': 0.02108669686317444, 'environment': -6.609574132796354}\u001b[0m \u001b[36mstep\u001b[0m=\u001b[35m88000\u001b[0m\n"
     ]
    },
    {
     "data": {
      "application/vnd.jupyter.widget-view+json": {
       "model_id": "2f1cff79bdab425fb5f2794251ebe117",
       "version_major": 2,
       "version_minor": 0
      },
      "text/plain": [
       "Epoch 89/1000:   0%|          | 0/1000 [00:00<?, ?it/s]"
      ]
     },
     "metadata": {},
     "output_type": "display_data"
    },
    {
     "name": "stdout",
     "output_type": "stream",
     "text": [
      "\u001b[2m2023-10-22 22:41:29\u001b[0m [\u001b[32m\u001b[1mdebug    \u001b[0m] \u001b[1m250000 transitions are generated.\u001b[0m \u001b[36mfake_transitions\u001b[0m=\u001b[35m1250000\u001b[0m \u001b[36mreal_transitions\u001b[0m=\u001b[35m481194\u001b[0m\n",
      "\u001b[2m2023-10-22 22:41:51\u001b[0m [\u001b[32m\u001b[1minfo     \u001b[0m] \u001b[1mexp_5_COMBO_reacher_symmetry_20231022220537: epoch=89 step=89000\u001b[0m \u001b[36mepoch\u001b[0m=\u001b[35m89\u001b[0m \u001b[36mmetrics\u001b[0m=\u001b[35m{'time_sample_batch': 0.0009039113521575928, 'time_algorithm_update': 0.020721963167190553, 'critic_loss': 41614.81034765625, 'actor_loss': 466.8784781188965, 'temp_loss': -0.1860424500182271, 'temp': 1.461549055814743, 'time_step': 0.02170966863632202, 'environment': -7.548472401374428}\u001b[0m \u001b[36mstep\u001b[0m=\u001b[35m89000\u001b[0m\n"
     ]
    },
    {
     "data": {
      "application/vnd.jupyter.widget-view+json": {
       "model_id": "833ec47355e24766bba37ad316109d48",
       "version_major": 2,
       "version_minor": 0
      },
      "text/plain": [
       "Epoch 90/1000:   0%|          | 0/1000 [00:00<?, ?it/s]"
      ]
     },
     "metadata": {},
     "output_type": "display_data"
    },
    {
     "name": "stdout",
     "output_type": "stream",
     "text": [
      "\u001b[2m2023-10-22 22:41:53\u001b[0m [\u001b[32m\u001b[1mdebug    \u001b[0m] \u001b[1m250000 transitions are generated.\u001b[0m \u001b[36mfake_transitions\u001b[0m=\u001b[35m1250000\u001b[0m \u001b[36mreal_transitions\u001b[0m=\u001b[35m481194\u001b[0m\n",
      "\u001b[2m2023-10-22 22:42:15\u001b[0m [\u001b[32m\u001b[1minfo     \u001b[0m] \u001b[1mexp_5_COMBO_reacher_symmetry_20231022220537: epoch=90 step=90000\u001b[0m \u001b[36mepoch\u001b[0m=\u001b[35m90\u001b[0m \u001b[36mmetrics\u001b[0m=\u001b[35m{'time_sample_batch': 0.0009060800075531006, 'time_algorithm_update': 0.02056327176094055, 'critic_loss': 57572.22547265625, 'actor_loss': 559.198274017334, 'temp_loss': -0.2630052318163216, 'temp': 1.5906973991394042, 'time_step': 0.021552715301513672, 'environment': -8.17423307022677}\u001b[0m \u001b[36mstep\u001b[0m=\u001b[35m90000\u001b[0m\n"
     ]
    },
    {
     "data": {
      "application/vnd.jupyter.widget-view+json": {
       "model_id": "a6aa1f8bcd7f4b8abad7e0fd3ffb7399",
       "version_major": 2,
       "version_minor": 0
      },
      "text/plain": [
       "Epoch 91/1000:   0%|          | 0/1000 [00:00<?, ?it/s]"
      ]
     },
     "metadata": {},
     "output_type": "display_data"
    },
    {
     "name": "stdout",
     "output_type": "stream",
     "text": [
      "\u001b[2m2023-10-22 22:42:17\u001b[0m [\u001b[32m\u001b[1mdebug    \u001b[0m] \u001b[1m250000 transitions are generated.\u001b[0m \u001b[36mfake_transitions\u001b[0m=\u001b[35m1250000\u001b[0m \u001b[36mreal_transitions\u001b[0m=\u001b[35m481194\u001b[0m\n",
      "\u001b[2m2023-10-22 22:42:39\u001b[0m [\u001b[32m\u001b[1minfo     \u001b[0m] \u001b[1mexp_5_COMBO_reacher_symmetry_20231022220537: epoch=91 step=91000\u001b[0m \u001b[36mepoch\u001b[0m=\u001b[35m91\u001b[0m \u001b[36mmetrics\u001b[0m=\u001b[35m{'time_sample_batch': 0.0009236624240875244, 'time_algorithm_update': 0.020681511878967284, 'critic_loss': 67080.41461914062, 'actor_loss': 650.599731414795, 'temp_loss': -0.28930823516100646, 'temp': 1.7450585907697678, 'time_step': 0.02170849275588989, 'environment': -11.971975399799488}\u001b[0m \u001b[36mstep\u001b[0m=\u001b[35m91000\u001b[0m\n"
     ]
    },
    {
     "data": {
      "application/vnd.jupyter.widget-view+json": {
       "model_id": "dbed74d9a6a34c249331a98b28da3f3b",
       "version_major": 2,
       "version_minor": 0
      },
      "text/plain": [
       "Epoch 92/1000:   0%|          | 0/1000 [00:00<?, ?it/s]"
      ]
     },
     "metadata": {},
     "output_type": "display_data"
    },
    {
     "name": "stdout",
     "output_type": "stream",
     "text": [
      "\u001b[2m2023-10-22 22:42:42\u001b[0m [\u001b[32m\u001b[1mdebug    \u001b[0m] \u001b[1m250000 transitions are generated.\u001b[0m \u001b[36mfake_transitions\u001b[0m=\u001b[35m1250000\u001b[0m \u001b[36mreal_transitions\u001b[0m=\u001b[35m481194\u001b[0m\n",
      "\u001b[2m2023-10-22 22:43:04\u001b[0m [\u001b[32m\u001b[1minfo     \u001b[0m] \u001b[1mexp_5_COMBO_reacher_symmetry_20231022220537: epoch=92 step=92000\u001b[0m \u001b[36mepoch\u001b[0m=\u001b[35m92\u001b[0m \u001b[36mmetrics\u001b[0m=\u001b[35m{'time_sample_batch': 0.0009105665683746338, 'time_algorithm_update': 0.020649622440338133, 'critic_loss': 85420.92030664062, 'actor_loss': 761.7728034667969, 'temp_loss': -0.382599518597126, 'temp': 1.9146271911859511, 'time_step': 0.021644398689270018, 'environment': -11.890937869568598}\u001b[0m \u001b[36mstep\u001b[0m=\u001b[35m92000\u001b[0m\n"
     ]
    },
    {
     "data": {
      "application/vnd.jupyter.widget-view+json": {
       "model_id": "790a0ec700664d70af7a18cd2e1170fe",
       "version_major": 2,
       "version_minor": 0
      },
      "text/plain": [
       "Epoch 93/1000:   0%|          | 0/1000 [00:00<?, ?it/s]"
      ]
     },
     "metadata": {},
     "output_type": "display_data"
    },
    {
     "name": "stdout",
     "output_type": "stream",
     "text": [
      "\u001b[2m2023-10-22 22:43:06\u001b[0m [\u001b[32m\u001b[1mdebug    \u001b[0m] \u001b[1m250000 transitions are generated.\u001b[0m \u001b[36mfake_transitions\u001b[0m=\u001b[35m1250000\u001b[0m \u001b[36mreal_transitions\u001b[0m=\u001b[35m481194\u001b[0m\n",
      "\u001b[2m2023-10-22 22:43:28\u001b[0m [\u001b[32m\u001b[1minfo     \u001b[0m] \u001b[1mexp_5_COMBO_reacher_symmetry_20231022220537: epoch=93 step=93000\u001b[0m \u001b[36mepoch\u001b[0m=\u001b[35m93\u001b[0m \u001b[36mmetrics\u001b[0m=\u001b[35m{'time_sample_batch': 0.0009093513488769531, 'time_algorithm_update': 0.02068190026283264, 'critic_loss': 108499.2085390625, 'actor_loss': 891.251578125, 'temp_loss': -0.3915121020972729, 'temp': 2.1042075974941254, 'time_step': 0.021675215721130372, 'environment': -7.711825955181611}\u001b[0m \u001b[36mstep\u001b[0m=\u001b[35m93000\u001b[0m\n"
     ]
    },
    {
     "data": {
      "application/vnd.jupyter.widget-view+json": {
       "model_id": "01bb4a4b17454000ad6a8fc5e5c9da1a",
       "version_major": 2,
       "version_minor": 0
      },
      "text/plain": [
       "Epoch 94/1000:   0%|          | 0/1000 [00:00<?, ?it/s]"
      ]
     },
     "metadata": {},
     "output_type": "display_data"
    },
    {
     "name": "stdout",
     "output_type": "stream",
     "text": [
      "\u001b[2m2023-10-22 22:43:31\u001b[0m [\u001b[32m\u001b[1mdebug    \u001b[0m] \u001b[1m250000 transitions are generated.\u001b[0m \u001b[36mfake_transitions\u001b[0m=\u001b[35m1250000\u001b[0m \u001b[36mreal_transitions\u001b[0m=\u001b[35m481194\u001b[0m\n",
      "\u001b[2m2023-10-22 22:43:53\u001b[0m [\u001b[32m\u001b[1minfo     \u001b[0m] \u001b[1mexp_5_COMBO_reacher_symmetry_20231022220537: epoch=94 step=94000\u001b[0m \u001b[36mepoch\u001b[0m=\u001b[35m94\u001b[0m \u001b[36mmetrics\u001b[0m=\u001b[35m{'time_sample_batch': 0.0009048917293548584, 'time_algorithm_update': 0.020605491876602173, 'critic_loss': 137500.0516015625, 'actor_loss': 1042.5408963623047, 'temp_loss': -0.4989516198504716, 'temp': 2.3195443341732025, 'time_step': 0.021593619585037232, 'environment': -11.824266185280422}\u001b[0m \u001b[36mstep\u001b[0m=\u001b[35m94000\u001b[0m\n"
     ]
    },
    {
     "data": {
      "application/vnd.jupyter.widget-view+json": {
       "model_id": "c39f02193e4d4e3c841db2fd1f9b5be6",
       "version_major": 2,
       "version_minor": 0
      },
      "text/plain": [
       "Epoch 95/1000:   0%|          | 0/1000 [00:00<?, ?it/s]"
      ]
     },
     "metadata": {},
     "output_type": "display_data"
    },
    {
     "name": "stdout",
     "output_type": "stream",
     "text": [
      "\u001b[2m2023-10-22 22:43:55\u001b[0m [\u001b[32m\u001b[1mdebug    \u001b[0m] \u001b[1m250000 transitions are generated.\u001b[0m \u001b[36mfake_transitions\u001b[0m=\u001b[35m1250000\u001b[0m \u001b[36mreal_transitions\u001b[0m=\u001b[35m481194\u001b[0m\n",
      "\u001b[2m2023-10-22 22:44:17\u001b[0m [\u001b[32m\u001b[1minfo     \u001b[0m] \u001b[1mexp_5_COMBO_reacher_symmetry_20231022220537: epoch=95 step=95000\u001b[0m \u001b[36mepoch\u001b[0m=\u001b[35m95\u001b[0m \u001b[36mmetrics\u001b[0m=\u001b[35m{'time_sample_batch': 0.0009264252185821533, 'time_algorithm_update': 0.02084336996078491, 'critic_loss': 178840.828578125, 'actor_loss': 1224.5034395141602, 'temp_loss': -0.7322644879370928, 'temp': 2.5931632697582243, 'time_step': 0.021857815265655518, 'environment': -8.94280079167909}\u001b[0m \u001b[36mstep\u001b[0m=\u001b[35m95000\u001b[0m\n"
     ]
    },
    {
     "data": {
      "application/vnd.jupyter.widget-view+json": {
       "model_id": "0aa92688a99447d6a6e736257fdb5aa8",
       "version_major": 2,
       "version_minor": 0
      },
      "text/plain": [
       "Epoch 96/1000:   0%|          | 0/1000 [00:00<?, ?it/s]"
      ]
     },
     "metadata": {},
     "output_type": "display_data"
    },
    {
     "name": "stdout",
     "output_type": "stream",
     "text": [
      "\u001b[2m2023-10-22 22:44:20\u001b[0m [\u001b[32m\u001b[1mdebug    \u001b[0m] \u001b[1m250000 transitions are generated.\u001b[0m \u001b[36mfake_transitions\u001b[0m=\u001b[35m1250000\u001b[0m \u001b[36mreal_transitions\u001b[0m=\u001b[35m481194\u001b[0m\n",
      "\u001b[2m2023-10-22 22:44:42\u001b[0m [\u001b[32m\u001b[1minfo     \u001b[0m] \u001b[1mexp_5_COMBO_reacher_symmetry_20231022220537: epoch=96 step=96000\u001b[0m \u001b[36mepoch\u001b[0m=\u001b[35m96\u001b[0m \u001b[36mmetrics\u001b[0m=\u001b[35m{'time_sample_batch': 0.0009189109802246094, 'time_algorithm_update': 0.02077023148536682, 'critic_loss': 229219.4055234375, 'actor_loss': 1425.6629993286133, 'temp_loss': -0.7912385091520846, 'temp': 2.88725052189827, 'time_step': 0.02177622604370117, 'environment': -10.061407372358808}\u001b[0m \u001b[36mstep\u001b[0m=\u001b[35m96000\u001b[0m\n"
     ]
    },
    {
     "data": {
      "application/vnd.jupyter.widget-view+json": {
       "model_id": "807f57009c274be09fce4eab98bccc76",
       "version_major": 2,
       "version_minor": 0
      },
      "text/plain": [
       "Epoch 97/1000:   0%|          | 0/1000 [00:00<?, ?it/s]"
      ]
     },
     "metadata": {},
     "output_type": "display_data"
    },
    {
     "name": "stdout",
     "output_type": "stream",
     "text": [
      "\u001b[2m2023-10-22 22:44:44\u001b[0m [\u001b[32m\u001b[1mdebug    \u001b[0m] \u001b[1m250000 transitions are generated.\u001b[0m \u001b[36mfake_transitions\u001b[0m=\u001b[35m1250000\u001b[0m \u001b[36mreal_transitions\u001b[0m=\u001b[35m481194\u001b[0m\n"
     ]
    }
   ],
   "source": [
    "experiment_COMBO_training(dataset, eval_env1, 'exp_5', save_name='exp_5_COMBO_reacher', models_dir='d3rlpy_logs/', symmetry_project=reacher_project, projection_size=3, seed=1, use_gpu=True)"
   ]
  },
  {
   "cell_type": "markdown",
   "id": "975eb780-5bf9-4dce-a157-2a3391301db6",
   "metadata": {},
   "source": [
    "## Load the Policy"
   ]
  },
  {
   "cell_type": "code",
   "execution_count": 6,
   "id": "307e723b-9836-489a-b6de-d66d7cf6dd22",
   "metadata": {},
   "outputs": [],
   "source": [
    "#actor_encoder = d3rlpy.models.encoders.DefaultEncoderFactory(dropout_rate=0.2)\n",
    "# setup algorithm\n",
    "trained_policy = d3rlpy.algos.SAC()\n",
    "trained_policy.build_with_env(env1)\n",
    "trained_policy.load_model('d3rlpy_logs/exp_6_SAC_reacher_20231024124119/model_100000.pt')\n",
    "\n",
    "# initialize with dataset\n",
    "#trained_policy.build_with_dataset(dataset)\n",
    "# Load entire model parameters.\n",
    "#trained_policy.load_model('d3rlpy_logs/COMBO_20230929153035/model_53000.pt')"
   ]
  },
  {
   "cell_type": "markdown",
   "id": "1c0b5477-7e6c-4701-a2f3-a0df1f357aa1",
   "metadata": {},
   "source": [
    "## See the policy running"
   ]
  },
  {
   "cell_type": "code",
   "execution_count": null,
   "id": "a11e69dd-55a6-4c4b-a2a3-fe66e4626a0d",
   "metadata": {},
   "outputs": [
    {
     "name": "stdout",
     "output_type": "stream",
     "text": [
      "Creating window glfw\n"
     ]
    }
   ],
   "source": [
    "scorer = d3rlpy.metrics.scorer.evaluate_on_environment(env1, render=True)\n",
    "mean_episode_return = scorer(trained_policy)"
   ]
  },
  {
   "cell_type": "code",
   "execution_count": null,
   "id": "323cda57-eebb-494e-a58b-6fd6abfb31c1",
   "metadata": {},
   "outputs": [],
   "source": []
  }
 ],
 "metadata": {
  "kernelspec": {
   "display_name": "Python 3 (ipykernel)",
   "language": "python",
   "name": "python3"
  },
  "language_info": {
   "codemirror_mode": {
    "name": "ipython",
    "version": 3
   },
   "file_extension": ".py",
   "mimetype": "text/x-python",
   "name": "python",
   "nbconvert_exporter": "python",
   "pygments_lexer": "ipython3",
   "version": "3.8.10"
  }
 },
 "nbformat": 4,
 "nbformat_minor": 5
}
