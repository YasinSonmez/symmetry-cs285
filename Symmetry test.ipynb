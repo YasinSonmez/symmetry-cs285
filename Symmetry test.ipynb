{
 "cells": [
  {
   "cell_type": "code",
   "execution_count": 1,
   "id": "3cef1889",
   "metadata": {},
   "outputs": [
    {
     "name": "stderr",
     "output_type": "stream",
     "text": [
      "Warning: Gym version v0.24.1 has a number of critical issues with `gym.make` such that environment observation and action spaces are incorrectly evaluated, raising incorrect errors and warning . It is recommend to downgrading to v0.23.1 or upgrading to v0.25.1\n"
     ]
    }
   ],
   "source": [
    "import d3rlpy\n",
    "from d3rlpy.algos import COMBO\n",
    "from sklearn.model_selection import train_test_split\n",
    "import gym\n",
    "import numpy as np\n",
    "import encoders"
   ]
  },
  {
   "cell_type": "markdown",
   "id": "47a5f2b7-f1c9-4c90-b9ff-a0991612c559",
   "metadata": {},
   "source": [
    "## Params"
   ]
  },
  {
   "cell_type": "code",
   "execution_count": 2,
   "id": "6547464d-8f48-46fd-b606-f121a3cd53f2",
   "metadata": {},
   "outputs": [
    {
     "name": "stderr",
     "output_type": "stream",
     "text": [
      "/home/neelay/.local/share/virtualenvs/symmetry-cs285-MHAjodT-/lib/python3.8/site-packages/gym/utils/passive_env_checker.py:69: UserWarning: \u001b[33mWARN: Agent's minimum action space value is -infinity. This is probably too low.\u001b[0m\n",
      "  logger.warn(\n",
      "/home/neelay/.local/share/virtualenvs/symmetry-cs285-MHAjodT-/lib/python3.8/site-packages/gym/utils/passive_env_checker.py:73: UserWarning: \u001b[33mWARN: Agent's maximum action space value is infinity. This is probably too high\u001b[0m\n",
      "  logger.warn(\n",
      "/home/neelay/.local/share/virtualenvs/symmetry-cs285-MHAjodT-/lib/python3.8/site-packages/gym/utils/passive_env_checker.py:97: UserWarning: \u001b[33mWARN: We recommend you to use a symmetric and normalized Box action space (range=[-1, 1]) https://stable-baselines3.readthedocs.io/en/master/guide/rl_tips.html\u001b[0m\n",
      "  logger.warn(\n"
     ]
    },
    {
     "data": {
      "text/plain": [
       "array([ 0.00023643,  0.00900927, -0.00711681,  0.00897299])"
      ]
     },
     "execution_count": 2,
     "metadata": {},
     "output_type": "execute_result"
    }
   ],
   "source": [
    "d3rlpy.seed(1)\n",
    "use_gpu = True\n",
    "# prepare environment\n",
    "env = gym.make(\"InvertedPendulum-v4\")\n",
    "eval_env = gym.make(\"InvertedPendulum-v4\")\n",
    "env.reset(seed=1)\n",
    "eval_env.reset(seed=1)"
   ]
  },
  {
   "cell_type": "markdown",
   "id": "c35492fa-eb11-45b6-b1bc-50b9d9893ab5",
   "metadata": {},
   "source": [
    "## Create dataset"
   ]
  },
  {
   "cell_type": "code",
   "execution_count": 14,
   "id": "133dc7a7-22c1-4bc8-a90c-9ebcce88928a",
   "metadata": {
    "scrolled": true
   },
   "outputs": [
    {
     "name": "stdout",
     "output_type": "stream",
     "text": [
      "\u001b[2m2023-10-01 15:22:21\u001b[0m [\u001b[32m\u001b[1minfo     \u001b[0m] \u001b[1mDirectory is created at d3rlpy_logs/SAC_online_20231001152221\u001b[0m\n",
      "\u001b[2m2023-10-01 15:22:21\u001b[0m [\u001b[32m\u001b[1mdebug    \u001b[0m] \u001b[1mBuilding model...\u001b[0m\n",
      "\u001b[2m2023-10-01 15:22:21\u001b[0m [\u001b[32m\u001b[1mdebug    \u001b[0m] \u001b[1mModel has been built.\u001b[0m\n",
      "\u001b[2m2023-10-01 15:22:21\u001b[0m [\u001b[32m\u001b[1minfo     \u001b[0m] \u001b[1mParameters are saved to d3rlpy_logs/SAC_online_20231001152221/params.json\u001b[0m \u001b[36mparams\u001b[0m=\u001b[35m{'action_scaler': None, 'actor_encoder_factory': {'type': 'default', 'params': {'activation': 'relu', 'use_batch_norm': False, 'dropout_rate': 0.2}}, 'actor_learning_rate': 0.0003, 'actor_optim_factory': {'optim_cls': 'Adam', 'betas': (0.9, 0.999), 'eps': 1e-08, 'weight_decay': 0, 'amsgrad': False}, 'batch_size': 256, 'critic_encoder_factory': {'type': 'default', 'params': {'activation': 'relu', 'use_batch_norm': False, 'dropout_rate': None}}, 'critic_learning_rate': 0.0003, 'critic_optim_factory': {'optim_cls': 'Adam', 'betas': (0.9, 0.999), 'eps': 1e-08, 'weight_decay': 0, 'amsgrad': False}, 'gamma': 0.99, 'generated_maxlen': 100000, 'initial_temperature': 1.0, 'n_critics': 2, 'n_frames': 1, 'n_steps': 1, 'q_func_factory': {'type': 'mean', 'params': {'share_encoder': False}}, 'real_ratio': 1.0, 'reward_scaler': None, 'scaler': None, 'tau': 0.005, 'temp_learning_rate': 0.0003, 'temp_optim_factory': {'optim_cls': 'Adam', 'betas': (0.9, 0.999), 'eps': 1e-08, 'weight_decay': 0, 'amsgrad': False}, 'use_gpu': 0, 'algorithm': 'SAC', 'observation_shape': (4,), 'action_size': 1}\u001b[0m\n"
     ]
    },
    {
     "data": {
      "application/vnd.jupyter.widget-view+json": {
       "model_id": "3eda34dfd49143f9a5a58ebe39e0607d",
       "version_major": 2,
       "version_minor": 0
      },
      "text/plain": [
       "  0%|          | 0/100000 [00:00<?, ?it/s]"
      ]
     },
     "metadata": {},
     "output_type": "display_data"
    },
    {
     "name": "stdout",
     "output_type": "stream",
     "text": [
      "\u001b[2m2023-10-01 15:22:23\u001b[0m [\u001b[32m\u001b[1minfo     \u001b[0m] \u001b[1mModel parameters are saved to d3rlpy_logs/SAC_online_20231001152221/model_1000.pt\u001b[0m\n",
      "\u001b[2m2023-10-01 15:22:23\u001b[0m [\u001b[32m\u001b[1minfo     \u001b[0m] \u001b[1mSAC_online_20231001152221: epoch=1 step=1000\u001b[0m \u001b[36mepoch\u001b[0m=\u001b[35m1\u001b[0m \u001b[36mmetrics\u001b[0m=\u001b[35m{'time_inference': 0.0011901423931121827, 'time_environment_step': 6.751775741577148e-05, 'time_step': 0.0013019063472747804, 'rollout_return': 10.06060606060606, 'evaluation': 14.7}\u001b[0m \u001b[36mstep\u001b[0m=\u001b[35m1000\u001b[0m\n",
      "\u001b[2m2023-10-01 15:22:37\u001b[0m [\u001b[32m\u001b[1minfo     \u001b[0m] \u001b[1mModel parameters are saved to d3rlpy_logs/SAC_online_20231001152221/model_2000.pt\u001b[0m\n",
      "\u001b[2m2023-10-01 15:22:37\u001b[0m [\u001b[32m\u001b[1minfo     \u001b[0m] \u001b[1mSAC_online_20231001152221: epoch=2 step=2000\u001b[0m \u001b[36mepoch\u001b[0m=\u001b[35m2\u001b[0m \u001b[36mmetrics\u001b[0m=\u001b[35m{'time_inference': 0.0012940735816955567, 'time_environment_step': 0.0001036219596862793, 'time_sample_batch': 0.000309492826461792, 'time_algorithm_update': 0.011871881484985351, 'temp_loss': 1.372351692557335, 'temp': 0.8709251883625985, 'critic_loss': 0.6754881671965122, 'actor_loss': -4.277053299486637, 'time_step': 0.013659589290618897, 'rollout_return': 17.75, 'evaluation': 102.4}\u001b[0m \u001b[36mstep\u001b[0m=\u001b[35m2000\u001b[0m\n",
      "\u001b[2m2023-10-01 15:22:53\u001b[0m [\u001b[32m\u001b[1minfo     \u001b[0m] \u001b[1mModel parameters are saved to d3rlpy_logs/SAC_online_20231001152221/model_3000.pt\u001b[0m\n",
      "\u001b[2m2023-10-01 15:22:53\u001b[0m [\u001b[32m\u001b[1minfo     \u001b[0m] \u001b[1mSAC_online_20231001152221: epoch=3 step=3000\u001b[0m \u001b[36mepoch\u001b[0m=\u001b[35m3\u001b[0m \u001b[36mmetrics\u001b[0m=\u001b[35m{'time_inference': 0.0012899088859558107, 'time_environment_step': 0.00010215139389038086, 'time_sample_batch': 0.000309767484664917, 'time_algorithm_update': 0.012055092096328735, 'temp_loss': 0.8108092472553253, 'temp': 0.6857617096304893, 'critic_loss': 1.1177948338985444, 'actor_loss': -9.170573462963103, 'time_step': 0.01383228874206543, 'rollout_return': 73.46153846153847, 'evaluation': 132.4}\u001b[0m \u001b[36mstep\u001b[0m=\u001b[35m3000\u001b[0m\n",
      "\u001b[2m2023-10-01 15:23:07\u001b[0m [\u001b[32m\u001b[1minfo     \u001b[0m] \u001b[1mModel parameters are saved to d3rlpy_logs/SAC_online_20231001152221/model_4000.pt\u001b[0m\n",
      "\u001b[2m2023-10-01 15:23:07\u001b[0m [\u001b[32m\u001b[1minfo     \u001b[0m] \u001b[1mSAC_online_20231001152221: epoch=4 step=4000\u001b[0m \u001b[36mepoch\u001b[0m=\u001b[35m4\u001b[0m \u001b[36mmetrics\u001b[0m=\u001b[35m{'time_inference': 0.0012657759189605713, 'time_environment_step': 9.972095489501953e-05, 'time_sample_batch': 0.00030119752883911135, 'time_algorithm_update': 0.011776572465896607, 'temp_loss': 0.5837074246704579, 'temp': 0.5557751391232014, 'critic_loss': 1.533628692805767, 'actor_loss': -13.864378927230835, 'time_step': 0.01351675510406494, 'rollout_return': 94.63636363636364, 'evaluation': 93.8}\u001b[0m \u001b[36mstep\u001b[0m=\u001b[35m4000\u001b[0m\n",
      "\u001b[2m2023-10-01 15:23:22\u001b[0m [\u001b[32m\u001b[1minfo     \u001b[0m] \u001b[1mModel parameters are saved to d3rlpy_logs/SAC_online_20231001152221/model_5000.pt\u001b[0m\n",
      "\u001b[2m2023-10-01 15:23:22\u001b[0m [\u001b[32m\u001b[1minfo     \u001b[0m] \u001b[1mSAC_online_20231001152221: epoch=5 step=5000\u001b[0m \u001b[36mepoch\u001b[0m=\u001b[35m5\u001b[0m \u001b[36mmetrics\u001b[0m=\u001b[35m{'time_inference': 0.0012885859012603759, 'time_environment_step': 0.00010159516334533691, 'time_sample_batch': 0.0003136289119720459, 'time_algorithm_update': 0.011855640172958374, 'temp_loss': 0.45773815312981603, 'temp': 0.4498633497953415, 'critic_loss': 1.8150158460140229, 'actor_loss': -17.8761327791214, 'time_step': 0.013634979486465455, 'rollout_return': 86.27272727272727, 'evaluation': 103.1}\u001b[0m \u001b[36mstep\u001b[0m=\u001b[35m5000\u001b[0m\n",
      "\u001b[2m2023-10-01 15:23:37\u001b[0m [\u001b[32m\u001b[1minfo     \u001b[0m] \u001b[1mModel parameters are saved to d3rlpy_logs/SAC_online_20231001152221/model_6000.pt\u001b[0m\n",
      "\u001b[2m2023-10-01 15:23:37\u001b[0m [\u001b[32m\u001b[1minfo     \u001b[0m] \u001b[1mSAC_online_20231001152221: epoch=6 step=6000\u001b[0m \u001b[36mepoch\u001b[0m=\u001b[35m6\u001b[0m \u001b[36mmetrics\u001b[0m=\u001b[35m{'time_inference': 0.0012966537475585938, 'time_environment_step': 0.00010138440132141114, 'time_sample_batch': 0.0003115527629852295, 'time_algorithm_update': 0.011819063425064088, 'temp_loss': 0.358212227717042, 'temp': 0.36285691791772845, 'critic_loss': 1.899342417806387, 'actor_loss': -21.37007289505005, 'time_step': 0.013603478431701661, 'rollout_return': 96.18181818181819, 'evaluation': 116.6}\u001b[0m \u001b[36mstep\u001b[0m=\u001b[35m6000\u001b[0m\n",
      "\u001b[2m2023-10-01 15:23:52\u001b[0m [\u001b[32m\u001b[1minfo     \u001b[0m] \u001b[1mModel parameters are saved to d3rlpy_logs/SAC_online_20231001152221/model_7000.pt\u001b[0m\n",
      "\u001b[2m2023-10-01 15:23:52\u001b[0m [\u001b[32m\u001b[1minfo     \u001b[0m] \u001b[1mSAC_online_20231001152221: epoch=7 step=7000\u001b[0m \u001b[36mepoch\u001b[0m=\u001b[35m7\u001b[0m \u001b[36mmetrics\u001b[0m=\u001b[35m{'time_inference': 0.0012800216674804688, 'time_environment_step': 0.00010001373291015625, 'time_sample_batch': 0.0003087210655212402, 'time_algorithm_update': 0.012036638498306275, 'temp_loss': 0.28317713874578476, 'temp': 0.29250052085518835, 'critic_loss': 2.0899931962490084, 'actor_loss': -24.311071113586426, 'time_step': 0.013799998998641969, 'rollout_return': 82.91666666666667, 'evaluation': 107.6}\u001b[0m \u001b[36mstep\u001b[0m=\u001b[35m7000\u001b[0m\n",
      "\u001b[2m2023-10-01 15:24:08\u001b[0m [\u001b[32m\u001b[1minfo     \u001b[0m] \u001b[1mModel parameters are saved to d3rlpy_logs/SAC_online_20231001152221/model_8000.pt\u001b[0m\n",
      "\u001b[2m2023-10-01 15:24:08\u001b[0m [\u001b[32m\u001b[1minfo     \u001b[0m] \u001b[1mSAC_online_20231001152221: epoch=8 step=8000\u001b[0m \u001b[36mepoch\u001b[0m=\u001b[35m8\u001b[0m \u001b[36mmetrics\u001b[0m=\u001b[35m{'time_inference': 0.0012845830917358398, 'time_environment_step': 0.00010135507583618163, 'time_sample_batch': 0.0003118252754211426, 'time_algorithm_update': 0.011912463188171386, 'temp_loss': 0.22093885791301726, 'temp': 0.2357307313233614, 'critic_loss': 2.1960280207395555, 'actor_loss': -26.6604845161438, 'time_step': 0.013685162782669067, 'rollout_return': 98.1, 'evaluation': 143.2}\u001b[0m \u001b[36mstep\u001b[0m=\u001b[35m8000\u001b[0m\n",
      "\u001b[2m2023-10-01 15:24:22\u001b[0m [\u001b[32m\u001b[1minfo     \u001b[0m] \u001b[1mModel parameters are saved to d3rlpy_logs/SAC_online_20231001152221/model_9000.pt\u001b[0m\n",
      "\u001b[2m2023-10-01 15:24:22\u001b[0m [\u001b[32m\u001b[1minfo     \u001b[0m] \u001b[1mSAC_online_20231001152221: epoch=9 step=9000\u001b[0m \u001b[36mepoch\u001b[0m=\u001b[35m9\u001b[0m \u001b[36mmetrics\u001b[0m=\u001b[35m{'time_inference': 0.0012705013751983642, 'time_environment_step': 0.0001005566120147705, 'time_sample_batch': 0.0003112177848815918, 'time_algorithm_update': 0.011741668701171874, 'temp_loss': 0.17324059280008078, 'temp': 0.1901256782859564, 'critic_loss': 2.30596364364028, 'actor_loss': -28.6963963432312, 'time_step': 0.01349805474281311, 'rollout_return': 86.27272727272727, 'evaluation': 81.3}\u001b[0m \u001b[36mstep\u001b[0m=\u001b[35m9000\u001b[0m\n",
      "\u001b[2m2023-10-01 15:24:37\u001b[0m [\u001b[32m\u001b[1minfo     \u001b[0m] \u001b[1mModel parameters are saved to d3rlpy_logs/SAC_online_20231001152221/model_10000.pt\u001b[0m\n",
      "\u001b[2m2023-10-01 15:24:37\u001b[0m [\u001b[32m\u001b[1minfo     \u001b[0m] \u001b[1mSAC_online_20231001152221: epoch=10 step=10000\u001b[0m \u001b[36mepoch\u001b[0m=\u001b[35m10\u001b[0m \u001b[36mmetrics\u001b[0m=\u001b[35m{'time_inference': 0.0012697782516479493, 'time_environment_step': 9.944438934326172e-05, 'time_sample_batch': 0.000316425085067749, 'time_algorithm_update': 0.011627337932586669, 'temp_loss': 0.13026943080872297, 'temp': 0.15383924965560436, 'critic_loss': 2.309779119372368, 'actor_loss': -30.206718347549437, 'time_step': 0.013386613130569458, 'rollout_return': 93.18181818181819, 'evaluation': 98.0}\u001b[0m \u001b[36mstep\u001b[0m=\u001b[35m10000\u001b[0m\n",
      "\u001b[2m2023-10-01 15:24:52\u001b[0m [\u001b[32m\u001b[1minfo     \u001b[0m] \u001b[1mModel parameters are saved to d3rlpy_logs/SAC_online_20231001152221/model_11000.pt\u001b[0m\n",
      "\u001b[2m2023-10-01 15:24:52\u001b[0m [\u001b[32m\u001b[1minfo     \u001b[0m] \u001b[1mSAC_online_20231001152221: epoch=11 step=11000\u001b[0m \u001b[36mepoch\u001b[0m=\u001b[35m11\u001b[0m \u001b[36mmetrics\u001b[0m=\u001b[35m{'time_inference': 0.001291745662689209, 'time_environment_step': 0.00010128092765808105, 'time_sample_batch': 0.0003180415630340576, 'time_algorithm_update': 0.011857429027557372, 'temp_loss': 0.09629821188002825, 'temp': 0.1253810006827116, 'critic_loss': 2.3098986571133135, 'actor_loss': -31.52900317001343, 'time_step': 0.013644043922424316, 'rollout_return': 91.18181818181819, 'evaluation': 90.9}\u001b[0m \u001b[36mstep\u001b[0m=\u001b[35m11000\u001b[0m\n",
      "\u001b[2m2023-10-01 15:25:07\u001b[0m [\u001b[32m\u001b[1minfo     \u001b[0m] \u001b[1mModel parameters are saved to d3rlpy_logs/SAC_online_20231001152221/model_12000.pt\u001b[0m\n",
      "\u001b[2m2023-10-01 15:25:07\u001b[0m [\u001b[32m\u001b[1minfo     \u001b[0m] \u001b[1mSAC_online_20231001152221: epoch=12 step=12000\u001b[0m \u001b[36mepoch\u001b[0m=\u001b[35m12\u001b[0m \u001b[36mmetrics\u001b[0m=\u001b[35m{'time_inference': 0.0012780156135559083, 'time_environment_step': 0.00010007953643798828, 'time_sample_batch': 0.0003177883625030518, 'time_algorithm_update': 0.011980226039886474, 'temp_loss': 0.06353612816147507, 'temp': 0.1036829760670662, 'critic_loss': 2.121991479098797, 'actor_loss': -32.608306131362916, 'time_step': 0.013750662565231324, 'rollout_return': 88.36363636363636, 'evaluation': 102.4}\u001b[0m \u001b[36mstep\u001b[0m=\u001b[35m12000\u001b[0m\n",
      "\u001b[2m2023-10-01 15:25:22\u001b[0m [\u001b[32m\u001b[1minfo     \u001b[0m] \u001b[1mModel parameters are saved to d3rlpy_logs/SAC_online_20231001152221/model_13000.pt\u001b[0m\n",
      "\u001b[2m2023-10-01 15:25:22\u001b[0m [\u001b[32m\u001b[1minfo     \u001b[0m] \u001b[1mSAC_online_20231001152221: epoch=13 step=13000\u001b[0m \u001b[36mepoch\u001b[0m=\u001b[35m13\u001b[0m \u001b[36mmetrics\u001b[0m=\u001b[35m{'time_inference': 0.0012961866855621337, 'time_environment_step': 0.00010209417343139648, 'time_sample_batch': 0.0003247509002685547, 'time_algorithm_update': 0.01190649676322937, 'temp_loss': 0.04122140409145504, 'temp': 0.08741505517810583, 'critic_loss': 1.8801439891457559, 'actor_loss': -33.51856735038757, 'time_step': 0.013705333948135376, 'rollout_return': 106.4, 'evaluation': 119.2}\u001b[0m \u001b[36mstep\u001b[0m=\u001b[35m13000\u001b[0m\n",
      "\u001b[2m2023-10-01 15:25:47\u001b[0m [\u001b[32m\u001b[1minfo     \u001b[0m] \u001b[1mModel parameters are saved to d3rlpy_logs/SAC_online_20231001152221/model_14000.pt\u001b[0m\n",
      "\u001b[2m2023-10-01 15:25:47\u001b[0m [\u001b[32m\u001b[1minfo     \u001b[0m] \u001b[1mSAC_online_20231001152221: epoch=14 step=14000\u001b[0m \u001b[36mepoch\u001b[0m=\u001b[35m14\u001b[0m \u001b[36mmetrics\u001b[0m=\u001b[35m{'time_inference': 0.0012894554138183595, 'time_environment_step': 0.00010109591484069824, 'time_sample_batch': 0.00032139325141906737, 'time_algorithm_update': 0.011839906454086304, 'temp_loss': 0.024604413490451407, 'temp': 0.07553552773594856, 'critic_loss': 1.8783572105765343, 'actor_loss': -34.68252446937561, 'time_step': 0.013626614332199097, 'rollout_return': 159.6, 'evaluation': 1000.0}\u001b[0m \u001b[36mstep\u001b[0m=\u001b[35m14000\u001b[0m\n",
      "\u001b[2m2023-10-01 15:26:11\u001b[0m [\u001b[32m\u001b[1minfo     \u001b[0m] \u001b[1mModel parameters are saved to d3rlpy_logs/SAC_online_20231001152221/model_15000.pt\u001b[0m\n",
      "\u001b[2m2023-10-01 15:26:11\u001b[0m [\u001b[32m\u001b[1minfo     \u001b[0m] \u001b[1mSAC_online_20231001152221: epoch=15 step=15000\u001b[0m \u001b[36mepoch\u001b[0m=\u001b[35m15\u001b[0m \u001b[36mmetrics\u001b[0m=\u001b[35m{'time_inference': 0.001263345241546631, 'time_environment_step': 0.00010004329681396485, 'time_sample_batch': 0.0003160581588745117, 'time_algorithm_update': 0.011690610885620118, 'temp_loss': 0.016068365574930795, 'temp': 0.06570748335123063, 'critic_loss': 1.8415789956599473, 'actor_loss': -36.40250539398193, 'time_step': 0.013443717956542969, 'rollout_return': 1000.0, 'evaluation': 1000.0}\u001b[0m \u001b[36mstep\u001b[0m=\u001b[35m15000\u001b[0m\n",
      "\u001b[2m2023-10-01 15:26:36\u001b[0m [\u001b[32m\u001b[1minfo     \u001b[0m] \u001b[1mModel parameters are saved to d3rlpy_logs/SAC_online_20231001152221/model_16000.pt\u001b[0m\n",
      "\u001b[2m2023-10-01 15:26:36\u001b[0m [\u001b[32m\u001b[1minfo     \u001b[0m] \u001b[1mSAC_online_20231001152221: epoch=16 step=16000\u001b[0m \u001b[36mepoch\u001b[0m=\u001b[35m16\u001b[0m \u001b[36mmetrics\u001b[0m=\u001b[35m{'time_inference': 0.0012587485313415526, 'time_environment_step': 9.934282302856445e-05, 'time_sample_batch': 0.0003176109790802002, 'time_algorithm_update': 0.011821913719177245, 'temp_loss': 0.009104163417359814, 'temp': 0.058111718989908696, 'critic_loss': 1.6198575420826673, 'actor_loss': -38.49165599441528, 'time_step': 0.013571224927902222, 'rollout_return': 1000.0, 'evaluation': 1000.0}\u001b[0m \u001b[36mstep\u001b[0m=\u001b[35m16000\u001b[0m\n",
      "\u001b[2m2023-10-01 15:27:04\u001b[0m [\u001b[32m\u001b[1minfo     \u001b[0m] \u001b[1mModel parameters are saved to d3rlpy_logs/SAC_online_20231001152221/model_17000.pt\u001b[0m\n",
      "\u001b[2m2023-10-01 15:27:04\u001b[0m [\u001b[32m\u001b[1minfo     \u001b[0m] \u001b[1mSAC_online_20231001152221: epoch=17 step=17000\u001b[0m \u001b[36mepoch\u001b[0m=\u001b[35m17\u001b[0m \u001b[36mmetrics\u001b[0m=\u001b[35m{'time_inference': 0.0012875075340270997, 'time_environment_step': 0.0001017618179321289, 'time_sample_batch': 0.0003286473751068115, 'time_algorithm_update': 0.011789792776107788, 'temp_loss': 0.0030571067291894, 'temp': 0.05340980108827353, 'critic_loss': 1.4756091482192277, 'actor_loss': -40.69719633865356, 'time_step': 0.01358266258239746, 'rollout_return': 1000.0, 'evaluation': 1000.0}\u001b[0m \u001b[36mstep\u001b[0m=\u001b[35m17000\u001b[0m\n",
      "\u001b[2m2023-10-01 15:27:32\u001b[0m [\u001b[32m\u001b[1minfo     \u001b[0m] \u001b[1mModel parameters are saved to d3rlpy_logs/SAC_online_20231001152221/model_18000.pt\u001b[0m\n",
      "\u001b[2m2023-10-01 15:27:32\u001b[0m [\u001b[32m\u001b[1minfo     \u001b[0m] \u001b[1mSAC_online_20231001152221: epoch=18 step=18000\u001b[0m \u001b[36mepoch\u001b[0m=\u001b[35m18\u001b[0m \u001b[36mmetrics\u001b[0m=\u001b[35m{'time_inference': 0.0015199744701385497, 'time_environment_step': 0.00013011598587036132, 'time_sample_batch': 0.0003768770694732666, 'time_algorithm_update': 0.013456995248794556, 'temp_loss': 0.004109807350032497, 'temp': 0.04965751627460122, 'critic_loss': 1.4583844515830278, 'actor_loss': -42.90004894256592, 'time_step': 0.015577360153198242, 'rollout_return': 1000.0, 'evaluation': 1000.0}\u001b[0m \u001b[36mstep\u001b[0m=\u001b[35m18000\u001b[0m\n",
      "\u001b[2m2023-10-01 15:28:02\u001b[0m [\u001b[32m\u001b[1minfo     \u001b[0m] \u001b[1mModel parameters are saved to d3rlpy_logs/SAC_online_20231001152221/model_19000.pt\u001b[0m\n",
      "\u001b[2m2023-10-01 15:28:02\u001b[0m [\u001b[32m\u001b[1minfo     \u001b[0m] \u001b[1mSAC_online_20231001152221: epoch=19 step=19000\u001b[0m \u001b[36mepoch\u001b[0m=\u001b[35m19\u001b[0m \u001b[36mmetrics\u001b[0m=\u001b[35m{'time_inference': 0.001505868911743164, 'time_environment_step': 0.0001278533935546875, 'time_sample_batch': 0.00037678980827331545, 'time_algorithm_update': 0.013249815225601196, 'temp_loss': 0.002764145654597087, 'temp': 0.04388263956084847, 'critic_loss': 1.572751286894083, 'actor_loss': -45.01395460510254, 'time_step': 0.01535205841064453, 'rollout_return': 1000.0, 'evaluation': 1000.0}\u001b[0m \u001b[36mstep\u001b[0m=\u001b[35m19000\u001b[0m\n",
      "\u001b[2m2023-10-01 15:28:25\u001b[0m [\u001b[32m\u001b[1minfo     \u001b[0m] \u001b[1mModel parameters are saved to d3rlpy_logs/SAC_online_20231001152221/model_20000.pt\u001b[0m\n",
      "\u001b[2m2023-10-01 15:28:25\u001b[0m [\u001b[32m\u001b[1minfo     \u001b[0m] \u001b[1mSAC_online_20231001152221: epoch=20 step=20000\u001b[0m \u001b[36mepoch\u001b[0m=\u001b[35m20\u001b[0m \u001b[36mmetrics\u001b[0m=\u001b[35m{'time_inference': 0.001631969928741455, 'time_environment_step': 0.00013533210754394532, 'time_sample_batch': 0.00039889121055603025, 'time_algorithm_update': 0.014493861436843872, 'temp_loss': 0.002729072322574211, 'temp': 0.039601853784173725, 'critic_loss': 1.4361756056249142, 'actor_loss': -46.99559575271606, 'time_step': 0.016758077144622803, 'rollout_return': 1000.0, 'evaluation': 468.2}\u001b[0m \u001b[36mstep\u001b[0m=\u001b[35m20000\u001b[0m\n",
      "\u001b[2m2023-10-01 15:28:53\u001b[0m [\u001b[32m\u001b[1minfo     \u001b[0m] \u001b[1mModel parameters are saved to d3rlpy_logs/SAC_online_20231001152221/model_21000.pt\u001b[0m\n",
      "\u001b[2m2023-10-01 15:28:53\u001b[0m [\u001b[32m\u001b[1minfo     \u001b[0m] \u001b[1mSAC_online_20231001152221: epoch=21 step=21000\u001b[0m \u001b[36mepoch\u001b[0m=\u001b[35m21\u001b[0m \u001b[36mmetrics\u001b[0m=\u001b[35m{'time_inference': 0.0015036942958831787, 'time_environment_step': 0.00012781977653503418, 'time_sample_batch': 0.0003739697933197021, 'time_algorithm_update': 0.013232558250427247, 'temp_loss': 0.0003245609441655688, 'temp': 0.03660019942373037, 'critic_loss': 1.4183675443828105, 'actor_loss': -48.93581419754028, 'time_step': 0.015329643011093139, 'rollout_return': 1000.0, 'evaluation': 1000.0}\u001b[0m \u001b[36mstep\u001b[0m=\u001b[35m21000\u001b[0m\n",
      "\u001b[2m2023-10-01 15:29:21\u001b[0m [\u001b[32m\u001b[1minfo     \u001b[0m] \u001b[1mModel parameters are saved to d3rlpy_logs/SAC_online_20231001152221/model_22000.pt\u001b[0m\n",
      "\u001b[2m2023-10-01 15:29:21\u001b[0m [\u001b[32m\u001b[1minfo     \u001b[0m] \u001b[1mSAC_online_20231001152221: epoch=22 step=22000\u001b[0m \u001b[36mepoch\u001b[0m=\u001b[35m22\u001b[0m \u001b[36mmetrics\u001b[0m=\u001b[35m{'time_inference': 0.001489870548248291, 'time_environment_step': 0.00012756681442260742, 'time_sample_batch': 0.00037317848205566405, 'time_algorithm_update': 0.012993894815444947, 'temp_loss': 0.0008033659936336335, 'temp': 0.03537613182142377, 'critic_loss': 1.3534232431203126, 'actor_loss': -50.78838407516479, 'time_step': 0.01507525086402893, 'rollout_return': 1000.0, 'evaluation': 1000.0}\u001b[0m \u001b[36mstep\u001b[0m=\u001b[35m22000\u001b[0m\n",
      "\u001b[2m2023-10-01 15:29:48\u001b[0m [\u001b[32m\u001b[1minfo     \u001b[0m] \u001b[1mModel parameters are saved to d3rlpy_logs/SAC_online_20231001152221/model_23000.pt\u001b[0m\n",
      "\u001b[2m2023-10-01 15:29:48\u001b[0m [\u001b[32m\u001b[1minfo     \u001b[0m] \u001b[1mSAC_online_20231001152221: epoch=23 step=23000\u001b[0m \u001b[36mepoch\u001b[0m=\u001b[35m23\u001b[0m \u001b[36mmetrics\u001b[0m=\u001b[35m{'time_inference': 0.0015784299373626709, 'time_environment_step': 0.00013348793983459473, 'time_sample_batch': 0.00038909029960632323, 'time_algorithm_update': 0.014010279893875122, 'temp_loss': 0.00039617146326054355, 'temp': 0.034605345126241444, 'critic_loss': 1.4811259300857782, 'actor_loss': -52.62494365310669, 'time_step': 0.0162073118686676, 'rollout_return': 1000.0, 'evaluation': 794.6}\u001b[0m \u001b[36mstep\u001b[0m=\u001b[35m23000\u001b[0m\n",
      "\u001b[2m2023-10-01 15:30:10\u001b[0m [\u001b[32m\u001b[1minfo     \u001b[0m] \u001b[1mModel parameters are saved to d3rlpy_logs/SAC_online_20231001152221/model_24000.pt\u001b[0m\n",
      "\u001b[2m2023-10-01 15:30:10\u001b[0m [\u001b[32m\u001b[1minfo     \u001b[0m] \u001b[1mSAC_online_20231001152221: epoch=24 step=24000\u001b[0m \u001b[36mepoch\u001b[0m=\u001b[35m24\u001b[0m \u001b[36mmetrics\u001b[0m=\u001b[35m{'time_inference': 0.0014922003746032715, 'time_environment_step': 0.0001288902759552002, 'time_sample_batch': 0.00037519574165344237, 'time_algorithm_update': 0.013190770864486695, 'temp_loss': 0.0006706382866541389, 'temp': 0.032973176669329404, 'critic_loss': 1.3771039422154427, 'actor_loss': -54.24206203079223, 'time_step': 0.015278664588928223, 'rollout_return': 1000.0, 'evaluation': 502.7}\u001b[0m \u001b[36mstep\u001b[0m=\u001b[35m24000\u001b[0m\n",
      "\u001b[2m2023-10-01 15:30:37\u001b[0m [\u001b[32m\u001b[1minfo     \u001b[0m] \u001b[1mModel parameters are saved to d3rlpy_logs/SAC_online_20231001152221/model_25000.pt\u001b[0m\n",
      "\u001b[2m2023-10-01 15:30:37\u001b[0m [\u001b[32m\u001b[1minfo     \u001b[0m] \u001b[1mSAC_online_20231001152221: epoch=25 step=25000\u001b[0m \u001b[36mepoch\u001b[0m=\u001b[35m25\u001b[0m \u001b[36mmetrics\u001b[0m=\u001b[35m{'time_inference': 0.0014848248958587646, 'time_environment_step': 0.00012758827209472656, 'time_sample_batch': 0.00038035178184509275, 'time_algorithm_update': 0.013267308473587036, 'temp_loss': 0.0007444279476621887, 'temp': 0.03142334542237222, 'critic_loss': 1.3404470172971488, 'actor_loss': -55.847657020568846, 'time_step': 0.015351261854171752, 'rollout_return': 1000.0, 'evaluation': 1000.0}\u001b[0m \u001b[36mstep\u001b[0m=\u001b[35m25000\u001b[0m\n",
      "\u001b[2m2023-10-01 15:31:04\u001b[0m [\u001b[32m\u001b[1minfo     \u001b[0m] \u001b[1mModel parameters are saved to d3rlpy_logs/SAC_online_20231001152221/model_26000.pt\u001b[0m\n",
      "\u001b[2m2023-10-01 15:31:04\u001b[0m [\u001b[32m\u001b[1minfo     \u001b[0m] \u001b[1mSAC_online_20231001152221: epoch=26 step=26000\u001b[0m \u001b[36mepoch\u001b[0m=\u001b[35m26\u001b[0m \u001b[36mmetrics\u001b[0m=\u001b[35m{'time_inference': 0.00149491810798645, 'time_environment_step': 0.00012801051139831542, 'time_sample_batch': 0.0003806014060974121, 'time_algorithm_update': 0.013111034870147704, 'temp_loss': 0.0001592878053197637, 'temp': 0.030067157598212362, 'critic_loss': 1.4069362076222895, 'actor_loss': -57.40740732192993, 'time_step': 0.01520560073852539, 'rollout_return': 1000.0, 'evaluation': 886.5}\u001b[0m \u001b[36mstep\u001b[0m=\u001b[35m26000\u001b[0m\n",
      "\u001b[2m2023-10-01 15:31:29\u001b[0m [\u001b[32m\u001b[1minfo     \u001b[0m] \u001b[1mModel parameters are saved to d3rlpy_logs/SAC_online_20231001152221/model_27000.pt\u001b[0m\n",
      "\u001b[2m2023-10-01 15:31:29\u001b[0m [\u001b[32m\u001b[1minfo     \u001b[0m] \u001b[1mSAC_online_20231001152221: epoch=27 step=27000\u001b[0m \u001b[36mepoch\u001b[0m=\u001b[35m27\u001b[0m \u001b[36mmetrics\u001b[0m=\u001b[35m{'time_inference': 0.0014908289909362792, 'time_environment_step': 0.00012679529190063476, 'time_sample_batch': 0.00037807488441467284, 'time_algorithm_update': 0.013025967597961426, 'temp_loss': 0.000766743356231018, 'temp': 0.028826277080923318, 'critic_loss': 1.4460408276468515, 'actor_loss': -58.86920558547973, 'time_step': 0.015111981630325318, 'rollout_return': 1000.0, 'evaluation': 748.2}\u001b[0m \u001b[36mstep\u001b[0m=\u001b[35m27000\u001b[0m\n",
      "\u001b[2m2023-10-01 15:31:53\u001b[0m [\u001b[32m\u001b[1minfo     \u001b[0m] \u001b[1mModel parameters are saved to d3rlpy_logs/SAC_online_20231001152221/model_28000.pt\u001b[0m\n",
      "\u001b[2m2023-10-01 15:31:53\u001b[0m [\u001b[32m\u001b[1minfo     \u001b[0m] \u001b[1mSAC_online_20231001152221: epoch=28 step=28000\u001b[0m \u001b[36mepoch\u001b[0m=\u001b[35m28\u001b[0m \u001b[36mmetrics\u001b[0m=\u001b[35m{'time_inference': 0.0015201213359832763, 'time_environment_step': 0.0001297025680541992, 'time_sample_batch': 0.00039102125167846677, 'time_algorithm_update': 0.013355653524398804, 'temp_loss': 0.0012804094292368973, 'temp': 0.02702664033509791, 'critic_loss': 1.3716734761744738, 'actor_loss': -60.39259987640381, 'time_step': 0.015489552736282348, 'rollout_return': 1000.0, 'evaluation': 683.8}\u001b[0m \u001b[36mstep\u001b[0m=\u001b[35m28000\u001b[0m\n",
      "\u001b[2m2023-10-01 15:32:17\u001b[0m [\u001b[32m\u001b[1minfo     \u001b[0m] \u001b[1mModel parameters are saved to d3rlpy_logs/SAC_online_20231001152221/model_29000.pt\u001b[0m\n",
      "\u001b[2m2023-10-01 15:32:17\u001b[0m [\u001b[32m\u001b[1minfo     \u001b[0m] \u001b[1mSAC_online_20231001152221: epoch=29 step=29000\u001b[0m \u001b[36mepoch\u001b[0m=\u001b[35m29\u001b[0m \u001b[36mmetrics\u001b[0m=\u001b[35m{'time_inference': 0.0015058500766754151, 'time_environment_step': 0.00012920188903808595, 'time_sample_batch': 0.0003824913501739502, 'time_algorithm_update': 0.013283085107803344, 'temp_loss': -0.00020225184074661228, 'temp': 0.02562932036072016, 'critic_loss': 1.4125643074810506, 'actor_loss': -61.72909526062012, 'time_step': 0.015393258571624756, 'rollout_return': 1000.0, 'evaluation': 641.6}\u001b[0m \u001b[36mstep\u001b[0m=\u001b[35m29000\u001b[0m\n",
      "\u001b[2m2023-10-01 15:32:46\u001b[0m [\u001b[32m\u001b[1minfo     \u001b[0m] \u001b[1mModel parameters are saved to d3rlpy_logs/SAC_online_20231001152221/model_30000.pt\u001b[0m\n",
      "\u001b[2m2023-10-01 15:32:46\u001b[0m [\u001b[32m\u001b[1minfo     \u001b[0m] \u001b[1mSAC_online_20231001152221: epoch=30 step=30000\u001b[0m \u001b[36mepoch\u001b[0m=\u001b[35m30\u001b[0m \u001b[36mmetrics\u001b[0m=\u001b[35m{'time_inference': 0.0015392446517944337, 'time_environment_step': 0.0001300055980682373, 'time_sample_batch': 0.00039946579933166504, 'time_algorithm_update': 0.013725160598754883, 'temp_loss': 0.00011999941422254778, 'temp': 0.02564549847692251, 'critic_loss': 1.2065453351587057, 'actor_loss': -63.066256729125975, 'time_step': 0.01588858985900879, 'rollout_return': 1000.0, 'evaluation': 915.5}\u001b[0m \u001b[36mstep\u001b[0m=\u001b[35m30000\u001b[0m\n",
      "\u001b[2m2023-10-01 15:33:15\u001b[0m [\u001b[32m\u001b[1minfo     \u001b[0m] \u001b[1mModel parameters are saved to d3rlpy_logs/SAC_online_20231001152221/model_31000.pt\u001b[0m\n",
      "\u001b[2m2023-10-01 15:33:15\u001b[0m [\u001b[32m\u001b[1minfo     \u001b[0m] \u001b[1mSAC_online_20231001152221: epoch=31 step=31000\u001b[0m \u001b[36mepoch\u001b[0m=\u001b[35m31\u001b[0m \u001b[36mmetrics\u001b[0m=\u001b[35m{'time_inference': 0.0016244769096374512, 'time_environment_step': 0.00013490700721740723, 'time_sample_batch': 0.0004083108901977539, 'time_algorithm_update': 0.014500389337539672, 'temp_loss': 0.0008496382686134893, 'temp': 0.024263517757877707, 'critic_loss': 1.374826895698905, 'actor_loss': -64.2961237449646, 'time_step': 0.016766147136688232, 'rollout_return': 1000.0, 'evaluation': 1000.0}\u001b[0m \u001b[36mstep\u001b[0m=\u001b[35m31000\u001b[0m\n",
      "\u001b[2m2023-10-01 15:33:39\u001b[0m [\u001b[32m\u001b[1minfo     \u001b[0m] \u001b[1mModel parameters are saved to d3rlpy_logs/SAC_online_20231001152221/model_32000.pt\u001b[0m\n",
      "\u001b[2m2023-10-01 15:33:39\u001b[0m [\u001b[32m\u001b[1minfo     \u001b[0m] \u001b[1mSAC_online_20231001152221: epoch=32 step=32000\u001b[0m \u001b[36mepoch\u001b[0m=\u001b[35m32\u001b[0m \u001b[36mmetrics\u001b[0m=\u001b[35m{'time_inference': 0.0016636185646057128, 'time_environment_step': 0.00013996315002441406, 'time_sample_batch': 0.0004166920185089111, 'time_algorithm_update': 0.014608081817626952, 'temp_loss': 0.0006153353530098685, 'temp': 0.021820062721148132, 'critic_loss': 1.2050237469673157, 'actor_loss': -65.51108281707764, 'time_step': 0.016929081916809082, 'rollout_return': 1000.0, 'evaluation': 492.9}\u001b[0m \u001b[36mstep\u001b[0m=\u001b[35m32000\u001b[0m\n",
      "\u001b[2m2023-10-01 15:34:02\u001b[0m [\u001b[32m\u001b[1minfo     \u001b[0m] \u001b[1mModel parameters are saved to d3rlpy_logs/SAC_online_20231001152221/model_33000.pt\u001b[0m\n",
      "\u001b[2m2023-10-01 15:34:02\u001b[0m [\u001b[32m\u001b[1minfo     \u001b[0m] \u001b[1mSAC_online_20231001152221: epoch=33 step=33000\u001b[0m \u001b[36mepoch\u001b[0m=\u001b[35m33\u001b[0m \u001b[36mmetrics\u001b[0m=\u001b[35m{'time_inference': 0.0016410727500915528, 'time_environment_step': 0.00013767266273498536, 'time_sample_batch': 0.0004149622917175293, 'time_algorithm_update': 0.014486916542053222, 'temp_loss': 0.0005082795943017117, 'temp': 0.021226515784859658, 'critic_loss': 1.3228138327002525, 'actor_loss': -66.67681860351563, 'time_step': 0.01678115200996399, 'rollout_return': 1000.0, 'evaluation': 499.0}\u001b[0m \u001b[36mstep\u001b[0m=\u001b[35m33000\u001b[0m\n",
      "\u001b[2m2023-10-01 15:34:30\u001b[0m [\u001b[32m\u001b[1minfo     \u001b[0m] \u001b[1mModel parameters are saved to d3rlpy_logs/SAC_online_20231001152221/model_34000.pt\u001b[0m\n",
      "\u001b[2m2023-10-01 15:34:30\u001b[0m [\u001b[32m\u001b[1minfo     \u001b[0m] \u001b[1mSAC_online_20231001152221: epoch=34 step=34000\u001b[0m \u001b[36mepoch\u001b[0m=\u001b[35m34\u001b[0m \u001b[36mmetrics\u001b[0m=\u001b[35m{'time_inference': 0.001580514430999756, 'time_environment_step': 0.00013341331481933594, 'time_sample_batch': 0.0004038724899291992, 'time_algorithm_update': 0.01411916708946228, 'temp_loss': 0.0005996875196724431, 'temp': 0.02020690314285457, 'critic_loss': 1.2442491409480572, 'actor_loss': -67.76591593170166, 'time_step': 0.016333531141281128, 'rollout_return': 1000.0, 'evaluation': 1000.0}\u001b[0m \u001b[36mstep\u001b[0m=\u001b[35m34000\u001b[0m\n",
      "\u001b[2m2023-10-01 15:34:59\u001b[0m [\u001b[32m\u001b[1minfo     \u001b[0m] \u001b[1mModel parameters are saved to d3rlpy_logs/SAC_online_20231001152221/model_35000.pt\u001b[0m\n",
      "\u001b[2m2023-10-01 15:34:59\u001b[0m [\u001b[32m\u001b[1minfo     \u001b[0m] \u001b[1mSAC_online_20231001152221: epoch=35 step=35000\u001b[0m \u001b[36mepoch\u001b[0m=\u001b[35m35\u001b[0m \u001b[36mmetrics\u001b[0m=\u001b[35m{'time_inference': 0.0016143605709075927, 'time_environment_step': 0.00013697481155395508, 'time_sample_batch': 0.000418367862701416, 'time_algorithm_update': 0.014273967027664185, 'temp_loss': -0.0004022302815137664, 'temp': 0.019385344984009862, 'critic_loss': 1.237723298072815, 'actor_loss': -68.6425823059082, 'time_step': 0.016542444229125975, 'rollout_return': 887.0, 'evaluation': 1000.0}\u001b[0m \u001b[36mstep\u001b[0m=\u001b[35m35000\u001b[0m\n",
      "\u001b[2m2023-10-01 15:35:28\u001b[0m [\u001b[32m\u001b[1minfo     \u001b[0m] \u001b[1mModel parameters are saved to d3rlpy_logs/SAC_online_20231001152221/model_36000.pt\u001b[0m\n",
      "\u001b[2m2023-10-01 15:35:28\u001b[0m [\u001b[32m\u001b[1minfo     \u001b[0m] \u001b[1mSAC_online_20231001152221: epoch=36 step=36000\u001b[0m \u001b[36mepoch\u001b[0m=\u001b[35m36\u001b[0m \u001b[36mmetrics\u001b[0m=\u001b[35m{'time_inference': 0.0015809855461120606, 'time_environment_step': 0.00013447117805480958, 'time_sample_batch': 0.000413104772567749, 'time_algorithm_update': 0.014152506351470947, 'temp_loss': 0.0004520561320678098, 'temp': 0.020097508896142244, 'critic_loss': 1.3804375614374875, 'actor_loss': -69.41147447967529, 'time_step': 0.01637778687477112, 'rollout_return': 1000.0, 'evaluation': 1000.0}\u001b[0m \u001b[36mstep\u001b[0m=\u001b[35m36000\u001b[0m\n",
      "\u001b[2m2023-10-01 15:35:58\u001b[0m [\u001b[32m\u001b[1minfo     \u001b[0m] \u001b[1mModel parameters are saved to d3rlpy_logs/SAC_online_20231001152221/model_37000.pt\u001b[0m\n",
      "\u001b[2m2023-10-01 15:35:58\u001b[0m [\u001b[32m\u001b[1minfo     \u001b[0m] \u001b[1mSAC_online_20231001152221: epoch=37 step=37000\u001b[0m \u001b[36mepoch\u001b[0m=\u001b[35m37\u001b[0m \u001b[36mmetrics\u001b[0m=\u001b[35m{'time_inference': 0.0015921900272369385, 'time_environment_step': 0.0001343250274658203, 'time_sample_batch': 0.0004141104221343994, 'time_algorithm_update': 0.014182736158370972, 'temp_loss': -0.0005101556067966158, 'temp': 0.01916636083461344, 'critic_loss': 1.2859442455619574, 'actor_loss': -70.20011572265625, 'time_step': 0.016420723676681518, 'rollout_return': 569.0, 'evaluation': 1000.0}\u001b[0m \u001b[36mstep\u001b[0m=\u001b[35m37000\u001b[0m\n",
      "\u001b[2m2023-10-01 15:36:19\u001b[0m [\u001b[32m\u001b[1minfo     \u001b[0m] \u001b[1mModel parameters are saved to d3rlpy_logs/SAC_online_20231001152221/model_38000.pt\u001b[0m\n",
      "\u001b[2m2023-10-01 15:36:19\u001b[0m [\u001b[32m\u001b[1minfo     \u001b[0m] \u001b[1mSAC_online_20231001152221: epoch=38 step=38000\u001b[0m \u001b[36mepoch\u001b[0m=\u001b[35m38\u001b[0m \u001b[36mmetrics\u001b[0m=\u001b[35m{'time_inference': 0.0015819191932678223, 'time_environment_step': 0.00013286089897155762, 'time_sample_batch': 0.000407090425491333, 'time_algorithm_update': 0.014247875928878785, 'temp_loss': 0.0004913463764969492, 'temp': 0.02012671518884599, 'critic_loss': 1.233139176145196, 'actor_loss': -71.16820149230956, 'time_step': 0.016466155290603638, 'rollout_return': 826.5, 'evaluation': 414.6}\u001b[0m \u001b[36mstep\u001b[0m=\u001b[35m38000\u001b[0m\n",
      "\u001b[2m2023-10-01 15:36:49\u001b[0m [\u001b[32m\u001b[1minfo     \u001b[0m] \u001b[1mModel parameters are saved to d3rlpy_logs/SAC_online_20231001152221/model_39000.pt\u001b[0m\n",
      "\u001b[2m2023-10-01 15:36:49\u001b[0m [\u001b[32m\u001b[1minfo     \u001b[0m] \u001b[1mSAC_online_20231001152221: epoch=39 step=39000\u001b[0m \u001b[36mepoch\u001b[0m=\u001b[35m39\u001b[0m \u001b[36mmetrics\u001b[0m=\u001b[35m{'time_inference': 0.0016320736408233642, 'time_environment_step': 0.0001335575580596924, 'time_sample_batch': 0.0004107863903045654, 'time_algorithm_update': 0.014279779434204101, 'temp_loss': -0.0008806417112064083, 'temp': 0.020387284548953177, 'critic_loss': 1.2366226878613233, 'actor_loss': -71.79280460357666, 'time_step': 0.01655353832244873, 'rollout_return': 1000.0, 'evaluation': 1000.0}\u001b[0m \u001b[36mstep\u001b[0m=\u001b[35m39000\u001b[0m\n",
      "\u001b[2m2023-10-01 15:37:18\u001b[0m [\u001b[32m\u001b[1minfo     \u001b[0m] \u001b[1mModel parameters are saved to d3rlpy_logs/SAC_online_20231001152221/model_40000.pt\u001b[0m\n",
      "\u001b[2m2023-10-01 15:37:18\u001b[0m [\u001b[32m\u001b[1minfo     \u001b[0m] \u001b[1mSAC_online_20231001152221: epoch=40 step=40000\u001b[0m \u001b[36mepoch\u001b[0m=\u001b[35m40\u001b[0m \u001b[36mmetrics\u001b[0m=\u001b[35m{'time_inference': 0.0016168556213378906, 'time_environment_step': 0.00013605809211730957, 'time_sample_batch': 0.0004196784496307373, 'time_algorithm_update': 0.014335543394088745, 'temp_loss': 0.0006457555844826857, 'temp': 0.02069006243534386, 'critic_loss': 1.4104898582547902, 'actor_loss': -72.53471106719971, 'time_step': 0.01660715937614441, 'rollout_return': 1000.0, 'evaluation': 1000.0}\u001b[0m \u001b[36mstep\u001b[0m=\u001b[35m40000\u001b[0m\n",
      "\u001b[2m2023-10-01 15:37:47\u001b[0m [\u001b[32m\u001b[1minfo     \u001b[0m] \u001b[1mModel parameters are saved to d3rlpy_logs/SAC_online_20231001152221/model_41000.pt\u001b[0m\n",
      "\u001b[2m2023-10-01 15:37:47\u001b[0m [\u001b[32m\u001b[1minfo     \u001b[0m] \u001b[1mSAC_online_20231001152221: epoch=41 step=41000\u001b[0m \u001b[36mepoch\u001b[0m=\u001b[35m41\u001b[0m \u001b[36mmetrics\u001b[0m=\u001b[35m{'time_inference': 0.001617990255355835, 'time_environment_step': 0.00013475942611694335, 'time_sample_batch': 0.0004176828861236572, 'time_algorithm_update': 0.014405492067337036, 'temp_loss': 0.0004242261919134762, 'temp': 0.01893763526529074, 'critic_loss': 1.1720617594867944, 'actor_loss': -73.381028175354, 'time_step': 0.016674017667770387, 'rollout_return': 1000.0, 'evaluation': 1000.0}\u001b[0m \u001b[36mstep\u001b[0m=\u001b[35m41000\u001b[0m\n",
      "\u001b[2m2023-10-01 15:38:16\u001b[0m [\u001b[32m\u001b[1minfo     \u001b[0m] \u001b[1mModel parameters are saved to d3rlpy_logs/SAC_online_20231001152221/model_42000.pt\u001b[0m\n",
      "\u001b[2m2023-10-01 15:38:16\u001b[0m [\u001b[32m\u001b[1minfo     \u001b[0m] \u001b[1mSAC_online_20231001152221: epoch=42 step=42000\u001b[0m \u001b[36mepoch\u001b[0m=\u001b[35m42\u001b[0m \u001b[36mmetrics\u001b[0m=\u001b[35m{'time_inference': 0.0016141047477722169, 'time_environment_step': 0.00013610219955444337, 'time_sample_batch': 0.0004174983501434326, 'time_algorithm_update': 0.014314561605453491, 'temp_loss': 1.1239503728575072e-05, 'temp': 0.019000708801671862, 'critic_loss': 1.2803410167396068, 'actor_loss': -74.33593843078613, 'time_step': 0.016580451965332033, 'rollout_return': 1000.0, 'evaluation': 1000.0}\u001b[0m \u001b[36mstep\u001b[0m=\u001b[35m42000\u001b[0m\n",
      "\u001b[2m2023-10-01 15:38:43\u001b[0m [\u001b[32m\u001b[1minfo     \u001b[0m] \u001b[1mModel parameters are saved to d3rlpy_logs/SAC_online_20231001152221/model_43000.pt\u001b[0m\n",
      "\u001b[2m2023-10-01 15:38:43\u001b[0m [\u001b[32m\u001b[1minfo     \u001b[0m] \u001b[1mSAC_online_20231001152221: epoch=43 step=43000\u001b[0m \u001b[36mepoch\u001b[0m=\u001b[35m43\u001b[0m \u001b[36mmetrics\u001b[0m=\u001b[35m{'time_inference': 0.0015916571617126465, 'time_environment_step': 0.00013391971588134767, 'time_sample_batch': 0.0004172661304473877, 'time_algorithm_update': 0.014301299333572388, 'temp_loss': 0.00015924207953503357, 'temp': 0.01818246376141906, 'critic_loss': 1.120398703739047, 'actor_loss': -75.08638722229004, 'time_step': 0.016541319847106932, 'rollout_return': 1000.0, 'evaluation': 804.8}\u001b[0m \u001b[36mstep\u001b[0m=\u001b[35m43000\u001b[0m\n",
      "\u001b[2m2023-10-01 15:39:12\u001b[0m [\u001b[32m\u001b[1minfo     \u001b[0m] \u001b[1mModel parameters are saved to d3rlpy_logs/SAC_online_20231001152221/model_44000.pt\u001b[0m\n",
      "\u001b[2m2023-10-01 15:39:12\u001b[0m [\u001b[32m\u001b[1minfo     \u001b[0m] \u001b[1mSAC_online_20231001152221: epoch=44 step=44000\u001b[0m \u001b[36mepoch\u001b[0m=\u001b[35m44\u001b[0m \u001b[36mmetrics\u001b[0m=\u001b[35m{'time_inference': 0.0016055309772491455, 'time_environment_step': 0.00013534164428710937, 'time_sample_batch': 0.00042295169830322267, 'time_algorithm_update': 0.01430013632774353, 'temp_loss': 0.00010014930464967619, 'temp': 0.018186954211443663, 'critic_loss': 1.1425180340409278, 'actor_loss': -75.90125142669677, 'time_step': 0.01656191086769104, 'rollout_return': 1000.0, 'evaluation': 1000.0}\u001b[0m \u001b[36mstep\u001b[0m=\u001b[35m44000\u001b[0m\n",
      "\u001b[2m2023-10-01 15:39:44\u001b[0m [\u001b[32m\u001b[1minfo     \u001b[0m] \u001b[1mModel parameters are saved to d3rlpy_logs/SAC_online_20231001152221/model_45000.pt\u001b[0m\n",
      "\u001b[2m2023-10-01 15:39:44\u001b[0m [\u001b[32m\u001b[1minfo     \u001b[0m] \u001b[1mSAC_online_20231001152221: epoch=45 step=45000\u001b[0m \u001b[36mepoch\u001b[0m=\u001b[35m45\u001b[0m \u001b[36mmetrics\u001b[0m=\u001b[35m{'time_inference': 0.0016425702571868897, 'time_environment_step': 0.00013622403144836426, 'time_sample_batch': 0.0004252784252166748, 'time_algorithm_update': 0.014670275211334228, 'temp_loss': 0.00010435011472145562, 'temp': 0.017788977913558483, 'critic_loss': 1.2210690074265003, 'actor_loss': -76.63741297149659, 'time_step': 0.016973973274230957, 'rollout_return': 1000.0, 'evaluation': 1000.0}\u001b[0m \u001b[36mstep\u001b[0m=\u001b[35m45000\u001b[0m\n",
      "\u001b[2m2023-10-01 15:40:14\u001b[0m [\u001b[32m\u001b[1minfo     \u001b[0m] \u001b[1mModel parameters are saved to d3rlpy_logs/SAC_online_20231001152221/model_46000.pt\u001b[0m\n",
      "\u001b[2m2023-10-01 15:40:14\u001b[0m [\u001b[32m\u001b[1minfo     \u001b[0m] \u001b[1mSAC_online_20231001152221: epoch=46 step=46000\u001b[0m \u001b[36mepoch\u001b[0m=\u001b[35m46\u001b[0m \u001b[36mmetrics\u001b[0m=\u001b[35m{'time_inference': 0.0018001554012298585, 'time_environment_step': 0.00014454174041748046, 'time_sample_batch': 0.0004452219009399414, 'time_algorithm_update': 0.015475948810577393, 'temp_loss': -4.973954810702708e-05, 'temp': 0.017690467342734335, 'critic_loss': 1.2940533065572382, 'actor_loss': -77.41369770050049, 'time_step': 0.017971899032592772, 'rollout_return': 1000.0, 'evaluation': 1000.0}\u001b[0m \u001b[36mstep\u001b[0m=\u001b[35m46000\u001b[0m\n",
      "\u001b[2m2023-10-01 15:40:44\u001b[0m [\u001b[32m\u001b[1minfo     \u001b[0m] \u001b[1mModel parameters are saved to d3rlpy_logs/SAC_online_20231001152221/model_47000.pt\u001b[0m\n",
      "\u001b[2m2023-10-01 15:40:44\u001b[0m [\u001b[32m\u001b[1minfo     \u001b[0m] \u001b[1mSAC_online_20231001152221: epoch=47 step=47000\u001b[0m \u001b[36mepoch\u001b[0m=\u001b[35m47\u001b[0m \u001b[36mmetrics\u001b[0m=\u001b[35m{'time_inference': 0.001614631175994873, 'time_environment_step': 0.00013534259796142578, 'time_sample_batch': 0.0004221518039703369, 'time_algorithm_update': 0.014416985273361205, 'temp_loss': 0.00032131624734029173, 'temp': 0.017774884901940822, 'critic_loss': 1.0163599457070231, 'actor_loss': -78.05371215820313, 'time_step': 0.01668741178512573, 'rollout_return': 1000.0, 'evaluation': 1000.0}\u001b[0m \u001b[36mstep\u001b[0m=\u001b[35m47000\u001b[0m\n",
      "\u001b[2m2023-10-01 15:41:13\u001b[0m [\u001b[32m\u001b[1minfo     \u001b[0m] \u001b[1mModel parameters are saved to d3rlpy_logs/SAC_online_20231001152221/model_48000.pt\u001b[0m\n",
      "\u001b[2m2023-10-01 15:41:13\u001b[0m [\u001b[32m\u001b[1minfo     \u001b[0m] \u001b[1mSAC_online_20231001152221: epoch=48 step=48000\u001b[0m \u001b[36mepoch\u001b[0m=\u001b[35m48\u001b[0m \u001b[36mmetrics\u001b[0m=\u001b[35m{'time_inference': 0.0016390297412872314, 'time_environment_step': 0.0001370832920074463, 'time_sample_batch': 0.0004223952293395996, 'time_algorithm_update': 0.014305508613586426, 'temp_loss': 0.0006177105965325609, 'temp': 0.01658427131269127, 'critic_loss': 1.1617645758017898, 'actor_loss': -78.57624227905274, 'time_step': 0.01660330820083618, 'rollout_return': 1000.0, 'evaluation': 1000.0}\u001b[0m \u001b[36mstep\u001b[0m=\u001b[35m48000\u001b[0m\n",
      "\u001b[2m2023-10-01 15:41:42\u001b[0m [\u001b[32m\u001b[1minfo     \u001b[0m] \u001b[1mModel parameters are saved to d3rlpy_logs/SAC_online_20231001152221/model_49000.pt\u001b[0m\n",
      "\u001b[2m2023-10-01 15:41:42\u001b[0m [\u001b[32m\u001b[1minfo     \u001b[0m] \u001b[1mSAC_online_20231001152221: epoch=49 step=49000\u001b[0m \u001b[36mepoch\u001b[0m=\u001b[35m49\u001b[0m \u001b[36mmetrics\u001b[0m=\u001b[35m{'time_inference': 0.0016137871742248535, 'time_environment_step': 0.00013384103775024414, 'time_sample_batch': 0.0004187886714935303, 'time_algorithm_update': 0.014215882539749146, 'temp_loss': 0.0003928452883192222, 'temp': 0.014646557221189141, 'critic_loss': 1.257102055490017, 'actor_loss': -79.16517136383057, 'time_step': 0.016479620218276977, 'rollout_return': 1000.0, 'evaluation': 1000.0}\u001b[0m \u001b[36mstep\u001b[0m=\u001b[35m49000\u001b[0m\n",
      "\u001b[2m2023-10-01 15:42:11\u001b[0m [\u001b[32m\u001b[1minfo     \u001b[0m] \u001b[1mModel parameters are saved to d3rlpy_logs/SAC_online_20231001152221/model_50000.pt\u001b[0m\n",
      "\u001b[2m2023-10-01 15:42:11\u001b[0m [\u001b[32m\u001b[1minfo     \u001b[0m] \u001b[1mSAC_online_20231001152221: epoch=50 step=50000\u001b[0m \u001b[36mepoch\u001b[0m=\u001b[35m50\u001b[0m \u001b[36mmetrics\u001b[0m=\u001b[35m{'time_inference': 0.0016110985279083252, 'time_environment_step': 0.00013675999641418458, 'time_sample_batch': 0.00042139387130737304, 'time_algorithm_update': 0.014225303649902344, 'temp_loss': -0.00032700027931423394, 'temp': 0.015306176736950875, 'critic_loss': 1.108587586954236, 'actor_loss': -79.76349369812012, 'time_step': 0.016493477106094362, 'rollout_return': 1000.0, 'evaluation': 1000.0}\u001b[0m \u001b[36mstep\u001b[0m=\u001b[35m50000\u001b[0m\n",
      "\u001b[2m2023-10-01 15:42:40\u001b[0m [\u001b[32m\u001b[1minfo     \u001b[0m] \u001b[1mModel parameters are saved to d3rlpy_logs/SAC_online_20231001152221/model_51000.pt\u001b[0m\n",
      "\u001b[2m2023-10-01 15:42:40\u001b[0m [\u001b[32m\u001b[1minfo     \u001b[0m] \u001b[1mSAC_online_20231001152221: epoch=51 step=51000\u001b[0m \u001b[36mepoch\u001b[0m=\u001b[35m51\u001b[0m \u001b[36mmetrics\u001b[0m=\u001b[35m{'time_inference': 0.0016302676200866699, 'time_environment_step': 0.00013611364364624024, 'time_sample_batch': 0.00042483091354370115, 'time_algorithm_update': 0.01434995436668396, 'temp_loss': 5.843633402400883e-05, 'temp': 0.015072001446969806, 'critic_loss': 1.139452853769064, 'actor_loss': -80.42990113067627, 'time_step': 0.016639670610427856, 'rollout_return': 1000.0, 'evaluation': 1000.0}\u001b[0m \u001b[36mstep\u001b[0m=\u001b[35m51000\u001b[0m\n",
      "\u001b[2m2023-10-01 15:43:09\u001b[0m [\u001b[32m\u001b[1minfo     \u001b[0m] \u001b[1mModel parameters are saved to d3rlpy_logs/SAC_online_20231001152221/model_52000.pt\u001b[0m\n",
      "\u001b[2m2023-10-01 15:43:09\u001b[0m [\u001b[32m\u001b[1minfo     \u001b[0m] \u001b[1mSAC_online_20231001152221: epoch=52 step=52000\u001b[0m \u001b[36mepoch\u001b[0m=\u001b[35m52\u001b[0m \u001b[36mmetrics\u001b[0m=\u001b[35m{'time_inference': 0.00161871337890625, 'time_environment_step': 0.00013441824913024904, 'time_sample_batch': 0.00041747522354125977, 'time_algorithm_update': 0.014210460424423218, 'temp_loss': -0.0001456017802556744, 'temp': 0.015290366696193814, 'critic_loss': 1.17294586045295, 'actor_loss': -81.04975957489013, 'time_step': 0.016478443145751955, 'rollout_return': 1000.0, 'evaluation': 1000.0}\u001b[0m \u001b[36mstep\u001b[0m=\u001b[35m52000\u001b[0m\n",
      "\u001b[2m2023-10-01 15:43:38\u001b[0m [\u001b[32m\u001b[1minfo     \u001b[0m] \u001b[1mModel parameters are saved to d3rlpy_logs/SAC_online_20231001152221/model_53000.pt\u001b[0m\n",
      "\u001b[2m2023-10-01 15:43:38\u001b[0m [\u001b[32m\u001b[1minfo     \u001b[0m] \u001b[1mSAC_online_20231001152221: epoch=53 step=53000\u001b[0m \u001b[36mepoch\u001b[0m=\u001b[35m53\u001b[0m \u001b[36mmetrics\u001b[0m=\u001b[35m{'time_inference': 0.0016237289905548095, 'time_environment_step': 0.00013752365112304688, 'time_sample_batch': 0.0004292902946472168, 'time_algorithm_update': 0.014309878587722778, 'temp_loss': 0.0003254293046120438, 'temp': 0.0154384506912902, 'critic_loss': 1.1575289824903012, 'actor_loss': -81.5864336090088, 'time_step': 0.016600628137588502, 'rollout_return': 1000.0, 'evaluation': 1000.0}\u001b[0m \u001b[36mstep\u001b[0m=\u001b[35m53000\u001b[0m\n",
      "\u001b[2m2023-10-01 15:44:08\u001b[0m [\u001b[32m\u001b[1minfo     \u001b[0m] \u001b[1mModel parameters are saved to d3rlpy_logs/SAC_online_20231001152221/model_54000.pt\u001b[0m\n",
      "\u001b[2m2023-10-01 15:44:08\u001b[0m [\u001b[32m\u001b[1minfo     \u001b[0m] \u001b[1mSAC_online_20231001152221: epoch=54 step=54000\u001b[0m \u001b[36mepoch\u001b[0m=\u001b[35m54\u001b[0m \u001b[36mmetrics\u001b[0m=\u001b[35m{'time_inference': 0.0016203935146331787, 'time_environment_step': 0.00013500094413757325, 'time_sample_batch': 0.00042231607437133786, 'time_algorithm_update': 0.014456092596054078, 'temp_loss': 0.0005906324710158514, 'temp': 0.014329248888418078, 'critic_loss': 1.0913384122699499, 'actor_loss': -82.16529689025879, 'time_step': 0.016732208251953123, 'rollout_return': 1000.0, 'evaluation': 1000.0}\u001b[0m \u001b[36mstep\u001b[0m=\u001b[35m54000\u001b[0m\n",
      "\u001b[2m2023-10-01 15:44:37\u001b[0m [\u001b[32m\u001b[1minfo     \u001b[0m] \u001b[1mModel parameters are saved to d3rlpy_logs/SAC_online_20231001152221/model_55000.pt\u001b[0m\n",
      "\u001b[2m2023-10-01 15:44:37\u001b[0m [\u001b[32m\u001b[1minfo     \u001b[0m] \u001b[1mSAC_online_20231001152221: epoch=55 step=55000\u001b[0m \u001b[36mepoch\u001b[0m=\u001b[35m55\u001b[0m \u001b[36mmetrics\u001b[0m=\u001b[35m{'time_inference': 0.0016652522087097167, 'time_environment_step': 0.0001387801170349121, 'time_sample_batch': 0.00042751502990722655, 'time_algorithm_update': 0.014577849388122559, 'temp_loss': 0.0002594184133122326, 'temp': 0.013169149735942482, 'critic_loss': 0.9869727219343185, 'actor_loss': -82.64238871002198, 'time_step': 0.016909703016281127, 'rollout_return': 1000.0, 'evaluation': 1000.0}\u001b[0m \u001b[36mstep\u001b[0m=\u001b[35m55000\u001b[0m\n",
      "\u001b[2m2023-10-01 15:45:07\u001b[0m [\u001b[32m\u001b[1minfo     \u001b[0m] \u001b[1mModel parameters are saved to d3rlpy_logs/SAC_online_20231001152221/model_56000.pt\u001b[0m\n",
      "\u001b[2m2023-10-01 15:45:07\u001b[0m [\u001b[32m\u001b[1minfo     \u001b[0m] \u001b[1mSAC_online_20231001152221: epoch=56 step=56000\u001b[0m \u001b[36mepoch\u001b[0m=\u001b[35m56\u001b[0m \u001b[36mmetrics\u001b[0m=\u001b[35m{'time_inference': 0.0016287355422973633, 'time_environment_step': 0.00013563084602355956, 'time_sample_batch': 0.00042638087272644045, 'time_algorithm_update': 0.014480462074279785, 'temp_loss': -7.840776641387492e-05, 'temp': 0.012974203135818242, 'critic_loss': 0.9841568007394671, 'actor_loss': -83.11750068664551, 'time_step': 0.01677068829536438, 'rollout_return': 1000.0, 'evaluation': 1000.0}\u001b[0m \u001b[36mstep\u001b[0m=\u001b[35m56000\u001b[0m\n",
      "\u001b[2m2023-10-01 15:45:36\u001b[0m [\u001b[32m\u001b[1minfo     \u001b[0m] \u001b[1mModel parameters are saved to d3rlpy_logs/SAC_online_20231001152221/model_57000.pt\u001b[0m\n",
      "\u001b[2m2023-10-01 15:45:36\u001b[0m [\u001b[32m\u001b[1minfo     \u001b[0m] \u001b[1mSAC_online_20231001152221: epoch=57 step=57000\u001b[0m \u001b[36mepoch\u001b[0m=\u001b[35m57\u001b[0m \u001b[36mmetrics\u001b[0m=\u001b[35m{'time_inference': 0.0016085889339447022, 'time_environment_step': 0.00013635468482971192, 'time_sample_batch': 0.0004240682125091553, 'time_algorithm_update': 0.014269821166992188, 'temp_loss': -0.0004519640765793156, 'temp': 0.01358420612756163, 'critic_loss': 1.282773105226457, 'actor_loss': -83.54016454315186, 'time_step': 0.016536816358566284, 'rollout_return': 1000.0, 'evaluation': 1000.0}\u001b[0m \u001b[36mstep\u001b[0m=\u001b[35m57000\u001b[0m\n",
      "\u001b[2m2023-10-01 15:46:05\u001b[0m [\u001b[32m\u001b[1minfo     \u001b[0m] \u001b[1mModel parameters are saved to d3rlpy_logs/SAC_online_20231001152221/model_58000.pt\u001b[0m\n",
      "\u001b[2m2023-10-01 15:46:05\u001b[0m [\u001b[32m\u001b[1minfo     \u001b[0m] \u001b[1mSAC_online_20231001152221: epoch=58 step=58000\u001b[0m \u001b[36mepoch\u001b[0m=\u001b[35m58\u001b[0m \u001b[36mmetrics\u001b[0m=\u001b[35m{'time_inference': 0.001613875389099121, 'time_environment_step': 0.00013429570198059083, 'time_sample_batch': 0.0004203927516937256, 'time_algorithm_update': 0.014288543462753297, 'temp_loss': -0.0008004552914499072, 'temp': 0.015100318239070475, 'critic_loss': 1.150497635640204, 'actor_loss': -83.65825589752197, 'time_step': 0.016554513454437255, 'rollout_return': 1000.0, 'evaluation': 1000.0}\u001b[0m \u001b[36mstep\u001b[0m=\u001b[35m58000\u001b[0m\n",
      "\u001b[2m2023-10-01 15:46:34\u001b[0m [\u001b[32m\u001b[1minfo     \u001b[0m] \u001b[1mModel parameters are saved to d3rlpy_logs/SAC_online_20231001152221/model_59000.pt\u001b[0m\n",
      "\u001b[2m2023-10-01 15:46:34\u001b[0m [\u001b[32m\u001b[1minfo     \u001b[0m] \u001b[1mSAC_online_20231001152221: epoch=59 step=59000\u001b[0m \u001b[36mepoch\u001b[0m=\u001b[35m59\u001b[0m \u001b[36mmetrics\u001b[0m=\u001b[35m{'time_inference': 0.0016453819274902344, 'time_environment_step': 0.00013711166381835937, 'time_sample_batch': 0.0004328925609588623, 'time_algorithm_update': 0.014376949787139893, 'temp_loss': -0.0004659606789791724, 'temp': 0.016266177043318748, 'critic_loss': 1.1792924775332212, 'actor_loss': -83.62215044403077, 'time_step': 0.016692275524139405, 'rollout_return': 1000.0, 'evaluation': 1000.0}\u001b[0m \u001b[36mstep\u001b[0m=\u001b[35m59000\u001b[0m\n",
      "\u001b[2m2023-10-01 15:47:04\u001b[0m [\u001b[32m\u001b[1minfo     \u001b[0m] \u001b[1mModel parameters are saved to d3rlpy_logs/SAC_online_20231001152221/model_60000.pt\u001b[0m\n",
      "\u001b[2m2023-10-01 15:47:04\u001b[0m [\u001b[32m\u001b[1minfo     \u001b[0m] \u001b[1mSAC_online_20231001152221: epoch=60 step=60000\u001b[0m \u001b[36mepoch\u001b[0m=\u001b[35m60\u001b[0m \u001b[36mmetrics\u001b[0m=\u001b[35m{'time_inference': 0.001595201015472412, 'time_environment_step': 0.00013391447067260742, 'time_sample_batch': 0.0004216594696044922, 'time_algorithm_update': 0.01429173493385315, 'temp_loss': -0.0005257556057840702, 'temp': 0.018207814065739514, 'critic_loss': 1.076560725554824, 'actor_loss': -83.63380863952636, 'time_step': 0.016540045976638794, 'rollout_return': 1000.0, 'evaluation': 1000.0}\u001b[0m \u001b[36mstep\u001b[0m=\u001b[35m60000\u001b[0m\n",
      "\u001b[2m2023-10-01 15:47:33\u001b[0m [\u001b[32m\u001b[1minfo     \u001b[0m] \u001b[1mModel parameters are saved to d3rlpy_logs/SAC_online_20231001152221/model_61000.pt\u001b[0m\n",
      "\u001b[2m2023-10-01 15:47:33\u001b[0m [\u001b[32m\u001b[1minfo     \u001b[0m] \u001b[1mSAC_online_20231001152221: epoch=61 step=61000\u001b[0m \u001b[36mepoch\u001b[0m=\u001b[35m61\u001b[0m \u001b[36mmetrics\u001b[0m=\u001b[35m{'time_inference': 0.0016138861179351806, 'time_environment_step': 0.0001352829933166504, 'time_sample_batch': 0.00042508339881896975, 'time_algorithm_update': 0.014199722290039062, 'temp_loss': -0.00048676156594592613, 'temp': 0.019599450083449484, 'critic_loss': 0.95948777346313, 'actor_loss': -83.67089482879639, 'time_step': 0.016471210479736327, 'rollout_return': 1000.0, 'evaluation': 1000.0}\u001b[0m \u001b[36mstep\u001b[0m=\u001b[35m61000\u001b[0m\n",
      "\u001b[2m2023-10-01 15:48:02\u001b[0m [\u001b[32m\u001b[1minfo     \u001b[0m] \u001b[1mModel parameters are saved to d3rlpy_logs/SAC_online_20231001152221/model_62000.pt\u001b[0m\n",
      "\u001b[2m2023-10-01 15:48:02\u001b[0m [\u001b[32m\u001b[1minfo     \u001b[0m] \u001b[1mSAC_online_20231001152221: epoch=62 step=62000\u001b[0m \u001b[36mepoch\u001b[0m=\u001b[35m62\u001b[0m \u001b[36mmetrics\u001b[0m=\u001b[35m{'time_inference': 0.0016097195148468018, 'time_environment_step': 0.00013550639152526856, 'time_sample_batch': 0.00042743372917175294, 'time_algorithm_update': 0.014367948055267334, 'temp_loss': 0.0006125831751851365, 'temp': 0.0187228291798383, 'critic_loss': 0.8756838058754802, 'actor_loss': -83.64422130584717, 'time_step': 0.016639433622360228, 'rollout_return': 1000.0, 'evaluation': 1000.0}\u001b[0m \u001b[36mstep\u001b[0m=\u001b[35m62000\u001b[0m\n",
      "\u001b[2m2023-10-01 15:48:31\u001b[0m [\u001b[32m\u001b[1minfo     \u001b[0m] \u001b[1mModel parameters are saved to d3rlpy_logs/SAC_online_20231001152221/model_63000.pt\u001b[0m\n",
      "\u001b[2m2023-10-01 15:48:31\u001b[0m [\u001b[32m\u001b[1minfo     \u001b[0m] \u001b[1mSAC_online_20231001152221: epoch=63 step=63000\u001b[0m \u001b[36mepoch\u001b[0m=\u001b[35m63\u001b[0m \u001b[36mmetrics\u001b[0m=\u001b[35m{'time_inference': 0.0015908496379852294, 'time_environment_step': 0.00013516783714294432, 'time_sample_batch': 0.00042857789993286133, 'time_algorithm_update': 0.01416147541999817, 'temp_loss': -0.0005627273317877552, 'temp': 0.020113327883183957, 'critic_loss': 1.0792690365090967, 'actor_loss': -83.74370459747314, 'time_step': 0.01641409134864807, 'rollout_return': 1000.0, 'evaluation': 1000.0}\u001b[0m \u001b[36mstep\u001b[0m=\u001b[35m63000\u001b[0m\n",
      "\u001b[2m2023-10-01 15:49:00\u001b[0m [\u001b[32m\u001b[1minfo     \u001b[0m] \u001b[1mModel parameters are saved to d3rlpy_logs/SAC_online_20231001152221/model_64000.pt\u001b[0m\n",
      "\u001b[2m2023-10-01 15:49:00\u001b[0m [\u001b[32m\u001b[1minfo     \u001b[0m] \u001b[1mSAC_online_20231001152221: epoch=64 step=64000\u001b[0m \u001b[36mepoch\u001b[0m=\u001b[35m64\u001b[0m \u001b[36mmetrics\u001b[0m=\u001b[35m{'time_inference': 0.0015950889587402343, 'time_environment_step': 0.00013535094261169433, 'time_sample_batch': 0.0004251232147216797, 'time_algorithm_update': 0.014240752696990967, 'temp_loss': 0.0011607347274693893, 'temp': 0.018711974453181027, 'critic_loss': 1.0380578904300928, 'actor_loss': -83.81626747131348, 'time_step': 0.016493882179260254, 'rollout_return': 1000.0, 'evaluation': 1000.0}\u001b[0m \u001b[36mstep\u001b[0m=\u001b[35m64000\u001b[0m\n",
      "\u001b[2m2023-10-01 15:49:30\u001b[0m [\u001b[32m\u001b[1minfo     \u001b[0m] \u001b[1mModel parameters are saved to d3rlpy_logs/SAC_online_20231001152221/model_65000.pt\u001b[0m\n",
      "\u001b[2m2023-10-01 15:49:30\u001b[0m [\u001b[32m\u001b[1minfo     \u001b[0m] \u001b[1mSAC_online_20231001152221: epoch=65 step=65000\u001b[0m \u001b[36mepoch\u001b[0m=\u001b[35m65\u001b[0m \u001b[36mmetrics\u001b[0m=\u001b[35m{'time_inference': 0.0016351561546325683, 'time_environment_step': 0.00013632583618164063, 'time_sample_batch': 0.0004262120723724365, 'time_algorithm_update': 0.0143270423412323, 'temp_loss': -4.988421174493851e-05, 'temp': 0.016799036391079426, 'critic_loss': 1.0695225831195712, 'actor_loss': -84.19965367126464, 'time_step': 0.016623951435089112, 'rollout_return': 1000.0, 'evaluation': 1000.0}\u001b[0m \u001b[36mstep\u001b[0m=\u001b[35m65000\u001b[0m\n",
      "\u001b[2m2023-10-01 15:49:59\u001b[0m [\u001b[32m\u001b[1minfo     \u001b[0m] \u001b[1mModel parameters are saved to d3rlpy_logs/SAC_online_20231001152221/model_66000.pt\u001b[0m\n",
      "\u001b[2m2023-10-01 15:49:59\u001b[0m [\u001b[32m\u001b[1minfo     \u001b[0m] \u001b[1mSAC_online_20231001152221: epoch=66 step=66000\u001b[0m \u001b[36mepoch\u001b[0m=\u001b[35m66\u001b[0m \u001b[36mmetrics\u001b[0m=\u001b[35m{'time_inference': 0.0016332471370697022, 'time_environment_step': 0.00013762140274047852, 'time_sample_batch': 0.00043557119369506833, 'time_algorithm_update': 0.014623326778411865, 'temp_loss': -0.0007234072365172324, 'temp': 0.018113371865823864, 'critic_loss': 1.046056842841208, 'actor_loss': -84.51508632659912, 'time_step': 0.016928659677505495, 'rollout_return': 1000.0, 'evaluation': 1000.0}\u001b[0m \u001b[36mstep\u001b[0m=\u001b[35m66000\u001b[0m\n",
      "\u001b[2m2023-10-01 15:50:29\u001b[0m [\u001b[32m\u001b[1minfo     \u001b[0m] \u001b[1mModel parameters are saved to d3rlpy_logs/SAC_online_20231001152221/model_67000.pt\u001b[0m\n",
      "\u001b[2m2023-10-01 15:50:29\u001b[0m [\u001b[32m\u001b[1minfo     \u001b[0m] \u001b[1mSAC_online_20231001152221: epoch=67 step=67000\u001b[0m \u001b[36mepoch\u001b[0m=\u001b[35m67\u001b[0m \u001b[36mmetrics\u001b[0m=\u001b[35m{'time_inference': 0.0016262049674987792, 'time_environment_step': 0.00013559532165527343, 'time_sample_batch': 0.00042866396903991697, 'time_algorithm_update': 0.014445783853530883, 'temp_loss': -0.0007434340706386137, 'temp': 0.02023174832761288, 'critic_loss': 0.8755562562197446, 'actor_loss': -84.73598574829101, 'time_step': 0.016734607458114625, 'rollout_return': 1000.0, 'evaluation': 1000.0}\u001b[0m \u001b[36mstep\u001b[0m=\u001b[35m67000\u001b[0m\n",
      "\u001b[2m2023-10-01 15:50:58\u001b[0m [\u001b[32m\u001b[1minfo     \u001b[0m] \u001b[1mModel parameters are saved to d3rlpy_logs/SAC_online_20231001152221/model_68000.pt\u001b[0m\n",
      "\u001b[2m2023-10-01 15:50:58\u001b[0m [\u001b[32m\u001b[1minfo     \u001b[0m] \u001b[1mSAC_online_20231001152221: epoch=68 step=68000\u001b[0m \u001b[36mepoch\u001b[0m=\u001b[35m68\u001b[0m \u001b[36mmetrics\u001b[0m=\u001b[35m{'time_inference': 0.0015638530254364013, 'time_environment_step': 0.00013393998146057128, 'time_sample_batch': 0.00042729949951171873, 'time_algorithm_update': 0.014184371948242187, 'temp_loss': -0.0009263527855364373, 'temp': 0.02287790027819574, 'critic_loss': 1.154112719848752, 'actor_loss': -84.8884183883667, 'time_step': 0.016405834674835206, 'rollout_return': 1000.0, 'evaluation': 1000.0}\u001b[0m \u001b[36mstep\u001b[0m=\u001b[35m68000\u001b[0m\n",
      "\u001b[2m2023-10-01 15:51:27\u001b[0m [\u001b[32m\u001b[1minfo     \u001b[0m] \u001b[1mModel parameters are saved to d3rlpy_logs/SAC_online_20231001152221/model_69000.pt\u001b[0m\n",
      "\u001b[2m2023-10-01 15:51:27\u001b[0m [\u001b[32m\u001b[1minfo     \u001b[0m] \u001b[1mSAC_online_20231001152221: epoch=69 step=69000\u001b[0m \u001b[36mepoch\u001b[0m=\u001b[35m69\u001b[0m \u001b[36mmetrics\u001b[0m=\u001b[35m{'time_inference': 0.0016028985977172851, 'time_environment_step': 0.00013470172882080079, 'time_sample_batch': 0.0004291393756866455, 'time_algorithm_update': 0.014431396961212158, 'temp_loss': 0.00048548592947190625, 'temp': 0.02376347815990448, 'critic_loss': 1.0601635594666003, 'actor_loss': -85.12224324798584, 'time_step': 0.016694744348526, 'rollout_return': 1000.0, 'evaluation': 1000.0}\u001b[0m \u001b[36mstep\u001b[0m=\u001b[35m69000\u001b[0m\n",
      "\u001b[2m2023-10-01 15:51:56\u001b[0m [\u001b[32m\u001b[1minfo     \u001b[0m] \u001b[1mModel parameters are saved to d3rlpy_logs/SAC_online_20231001152221/model_70000.pt\u001b[0m\n",
      "\u001b[2m2023-10-01 15:51:56\u001b[0m [\u001b[32m\u001b[1minfo     \u001b[0m] \u001b[1mSAC_online_20231001152221: epoch=70 step=70000\u001b[0m \u001b[36mepoch\u001b[0m=\u001b[35m70\u001b[0m \u001b[36mmetrics\u001b[0m=\u001b[35m{'time_inference': 0.001587742567062378, 'time_environment_step': 0.00013407278060913086, 'time_sample_batch': 0.000431659460067749, 'time_algorithm_update': 0.01427977442741394, 'temp_loss': 0.0002648885897215223, 'temp': 0.022600827891379596, 'critic_loss': 0.9363439087569714, 'actor_loss': -85.71073287200927, 'time_step': 0.01653062129020691, 'rollout_return': 1000.0, 'evaluation': 1000.0}\u001b[0m \u001b[36mstep\u001b[0m=\u001b[35m70000\u001b[0m\n",
      "\u001b[2m2023-10-01 15:52:25\u001b[0m [\u001b[32m\u001b[1minfo     \u001b[0m] \u001b[1mModel parameters are saved to d3rlpy_logs/SAC_online_20231001152221/model_71000.pt\u001b[0m\n",
      "\u001b[2m2023-10-01 15:52:25\u001b[0m [\u001b[32m\u001b[1minfo     \u001b[0m] \u001b[1mSAC_online_20231001152221: epoch=71 step=71000\u001b[0m \u001b[36mepoch\u001b[0m=\u001b[35m71\u001b[0m \u001b[36mmetrics\u001b[0m=\u001b[35m{'time_inference': 0.0015972409248352052, 'time_environment_step': 0.00013229131698608399, 'time_sample_batch': 0.00042389774322509763, 'time_algorithm_update': 0.014142276048660278, 'temp_loss': 0.00043679763161344454, 'temp': 0.021561818473041058, 'critic_loss': 0.9031354108005762, 'actor_loss': -86.07739949035644, 'time_step': 0.01639204478263855, 'rollout_return': 1000.0, 'evaluation': 1000.0}\u001b[0m \u001b[36mstep\u001b[0m=\u001b[35m71000\u001b[0m\n",
      "\u001b[2m2023-10-01 15:52:54\u001b[0m [\u001b[32m\u001b[1minfo     \u001b[0m] \u001b[1mModel parameters are saved to d3rlpy_logs/SAC_online_20231001152221/model_72000.pt\u001b[0m\n",
      "\u001b[2m2023-10-01 15:52:54\u001b[0m [\u001b[32m\u001b[1minfo     \u001b[0m] \u001b[1mSAC_online_20231001152221: epoch=72 step=72000\u001b[0m \u001b[36mepoch\u001b[0m=\u001b[35m72\u001b[0m \u001b[36mmetrics\u001b[0m=\u001b[35m{'time_inference': 0.0016011991500854493, 'time_environment_step': 0.00013425946235656738, 'time_sample_batch': 0.00043000268936157224, 'time_algorithm_update': 0.014361151933670043, 'temp_loss': 0.0009205092986812815, 'temp': 0.019336285557597876, 'critic_loss': 0.968350305698812, 'actor_loss': -86.36249021911621, 'time_step': 0.01662451672554016, 'rollout_return': 1000.0, 'evaluation': 1000.0}\u001b[0m \u001b[36mstep\u001b[0m=\u001b[35m72000\u001b[0m\n",
      "\u001b[2m2023-10-01 15:53:23\u001b[0m [\u001b[32m\u001b[1minfo     \u001b[0m] \u001b[1mModel parameters are saved to d3rlpy_logs/SAC_online_20231001152221/model_73000.pt\u001b[0m\n",
      "\u001b[2m2023-10-01 15:53:23\u001b[0m [\u001b[32m\u001b[1minfo     \u001b[0m] \u001b[1mSAC_online_20231001152221: epoch=73 step=73000\u001b[0m \u001b[36mepoch\u001b[0m=\u001b[35m73\u001b[0m \u001b[36mmetrics\u001b[0m=\u001b[35m{'time_inference': 0.0015828979015350341, 'time_environment_step': 0.00013651442527770995, 'time_sample_batch': 0.0004332735538482666, 'time_algorithm_update': 0.01409479022026062, 'temp_loss': -0.00014894816871674265, 'temp': 0.018503858111798763, 'critic_loss': 0.7632559129223228, 'actor_loss': -86.68093730926513, 'time_step': 0.016344545364379882, 'rollout_return': 1000.0, 'evaluation': 1000.0}\u001b[0m \u001b[36mstep\u001b[0m=\u001b[35m73000\u001b[0m\n",
      "\u001b[2m2023-10-01 15:53:52\u001b[0m [\u001b[32m\u001b[1minfo     \u001b[0m] \u001b[1mModel parameters are saved to d3rlpy_logs/SAC_online_20231001152221/model_74000.pt\u001b[0m\n",
      "\u001b[2m2023-10-01 15:53:52\u001b[0m [\u001b[32m\u001b[1minfo     \u001b[0m] \u001b[1mSAC_online_20231001152221: epoch=74 step=74000\u001b[0m \u001b[36mepoch\u001b[0m=\u001b[35m74\u001b[0m \u001b[36mmetrics\u001b[0m=\u001b[35m{'time_inference': 0.0016510417461395263, 'time_environment_step': 0.00013578081130981445, 'time_sample_batch': 0.0004383842945098877, 'time_algorithm_update': 0.014498911380767822, 'temp_loss': 3.042647850816138e-05, 'temp': 0.018323088189586997, 'critic_loss': 0.9736605479717254, 'actor_loss': -87.07264575195312, 'time_step': 0.016823442697525025, 'rollout_return': 1000.0, 'evaluation': 1000.0}\u001b[0m \u001b[36mstep\u001b[0m=\u001b[35m74000\u001b[0m\n",
      "\u001b[2m2023-10-01 15:54:22\u001b[0m [\u001b[32m\u001b[1minfo     \u001b[0m] \u001b[1mModel parameters are saved to d3rlpy_logs/SAC_online_20231001152221/model_75000.pt\u001b[0m\n",
      "\u001b[2m2023-10-01 15:54:22\u001b[0m [\u001b[32m\u001b[1minfo     \u001b[0m] \u001b[1mSAC_online_20231001152221: epoch=75 step=75000\u001b[0m \u001b[36mepoch\u001b[0m=\u001b[35m75\u001b[0m \u001b[36mmetrics\u001b[0m=\u001b[35m{'time_inference': 0.0016597280502319337, 'time_environment_step': 0.00013757801055908203, 'time_sample_batch': 0.00044249868392944334, 'time_algorithm_update': 0.014604729413986207, 'temp_loss': 0.00013670239194470924, 'temp': 0.017511715428903698, 'critic_loss': 0.903928357437253, 'actor_loss': -87.37858100891113, 'time_step': 0.01694390082359314, 'rollout_return': 1000.0, 'evaluation': 1000.0}\u001b[0m \u001b[36mstep\u001b[0m=\u001b[35m75000\u001b[0m\n",
      "\u001b[2m2023-10-01 15:54:53\u001b[0m [\u001b[32m\u001b[1minfo     \u001b[0m] \u001b[1mModel parameters are saved to d3rlpy_logs/SAC_online_20231001152221/model_76000.pt\u001b[0m\n",
      "\u001b[2m2023-10-01 15:54:53\u001b[0m [\u001b[32m\u001b[1minfo     \u001b[0m] \u001b[1mSAC_online_20231001152221: epoch=76 step=76000\u001b[0m \u001b[36mepoch\u001b[0m=\u001b[35m76\u001b[0m \u001b[36mmetrics\u001b[0m=\u001b[35m{'time_inference': 0.0016299500465393067, 'time_environment_step': 0.00013749289512634278, 'time_sample_batch': 0.00043831872940063477, 'time_algorithm_update': 0.014380736827850342, 'temp_loss': -0.0005792484405537834, 'temp': 0.01908502115868032, 'critic_loss': 0.8903557195216417, 'actor_loss': -87.77387247467041, 'time_step': 0.016685648202896117, 'rollout_return': 1000.0, 'evaluation': 1000.0}\u001b[0m \u001b[36mstep\u001b[0m=\u001b[35m76000\u001b[0m\n",
      "\u001b[2m2023-10-01 15:55:22\u001b[0m [\u001b[32m\u001b[1minfo     \u001b[0m] \u001b[1mModel parameters are saved to d3rlpy_logs/SAC_online_20231001152221/model_77000.pt\u001b[0m\n",
      "\u001b[2m2023-10-01 15:55:22\u001b[0m [\u001b[32m\u001b[1minfo     \u001b[0m] \u001b[1mSAC_online_20231001152221: epoch=77 step=77000\u001b[0m \u001b[36mepoch\u001b[0m=\u001b[35m77\u001b[0m \u001b[36mmetrics\u001b[0m=\u001b[35m{'time_inference': 0.0016137666702270507, 'time_environment_step': 0.00013332104682922362, 'time_sample_batch': 0.00043751764297485354, 'time_algorithm_update': 0.014455326318740845, 'temp_loss': 0.00045200714058591984, 'temp': 0.01996203615516424, 'critic_loss': 0.7946982603818178, 'actor_loss': -88.2140754776001, 'time_step': 0.01673787593841553, 'rollout_return': 1000.0, 'evaluation': 1000.0}\u001b[0m \u001b[36mstep\u001b[0m=\u001b[35m77000\u001b[0m\n",
      "\u001b[2m2023-10-01 15:55:51\u001b[0m [\u001b[32m\u001b[1minfo     \u001b[0m] \u001b[1mModel parameters are saved to d3rlpy_logs/SAC_online_20231001152221/model_78000.pt\u001b[0m\n",
      "\u001b[2m2023-10-01 15:55:51\u001b[0m [\u001b[32m\u001b[1minfo     \u001b[0m] \u001b[1mSAC_online_20231001152221: epoch=78 step=78000\u001b[0m \u001b[36mepoch\u001b[0m=\u001b[35m78\u001b[0m \u001b[36mmetrics\u001b[0m=\u001b[35m{'time_inference': 0.0016608128547668456, 'time_environment_step': 0.00014008617401123046, 'time_sample_batch': 0.00044481658935546873, 'time_algorithm_update': 0.014540885925292969, 'temp_loss': 0.0004239837865243317, 'temp': 0.018154354248195885, 'critic_loss': 0.9687318385392427, 'actor_loss': -88.44196301269531, 'time_step': 0.016887378215789794, 'rollout_return': 1000.0, 'evaluation': 1000.0}\u001b[0m \u001b[36mstep\u001b[0m=\u001b[35m78000\u001b[0m\n",
      "\u001b[2m2023-10-01 15:56:11\u001b[0m [\u001b[32m\u001b[1minfo     \u001b[0m] \u001b[1mModel parameters are saved to d3rlpy_logs/SAC_online_20231001152221/model_79000.pt\u001b[0m\n",
      "\u001b[2m2023-10-01 15:56:11\u001b[0m [\u001b[32m\u001b[1minfo     \u001b[0m] \u001b[1mSAC_online_20231001152221: epoch=79 step=79000\u001b[0m \u001b[36mepoch\u001b[0m=\u001b[35m79\u001b[0m \u001b[36mmetrics\u001b[0m=\u001b[35m{'time_inference': 0.0016037690639495849, 'time_environment_step': 0.00013484358787536622, 'time_sample_batch': 0.00043051934242248536, 'time_algorithm_update': 0.01426315188407898, 'temp_loss': 0.00027850236393715024, 'temp': 0.016710061814635992, 'critic_loss': 0.8661477922350168, 'actor_loss': -88.67217401123047, 'time_step': 0.0165291109085083, 'rollout_return': 1000.0, 'evaluation': 255.1}\u001b[0m \u001b[36mstep\u001b[0m=\u001b[35m79000\u001b[0m\n",
      "\u001b[2m2023-10-01 15:56:40\u001b[0m [\u001b[32m\u001b[1minfo     \u001b[0m] \u001b[1mModel parameters are saved to d3rlpy_logs/SAC_online_20231001152221/model_80000.pt\u001b[0m\n",
      "\u001b[2m2023-10-01 15:56:40\u001b[0m [\u001b[32m\u001b[1minfo     \u001b[0m] \u001b[1mSAC_online_20231001152221: epoch=80 step=80000\u001b[0m \u001b[36mepoch\u001b[0m=\u001b[35m80\u001b[0m \u001b[36mmetrics\u001b[0m=\u001b[35m{'time_inference': 0.001599400520324707, 'time_environment_step': 0.00013557982444763184, 'time_sample_batch': 0.00043469882011413575, 'time_algorithm_update': 0.014201429843902588, 'temp_loss': 6.540979410056025e-05, 'temp': 0.016916690779849888, 'critic_loss': 0.7693817586526275, 'actor_loss': -88.98055378723144, 'time_step': 0.016469141960144044, 'rollout_return': 1000.0, 'evaluation': 1000.0}\u001b[0m \u001b[36mstep\u001b[0m=\u001b[35m80000\u001b[0m\n",
      "\u001b[2m2023-10-01 15:57:09\u001b[0m [\u001b[32m\u001b[1minfo     \u001b[0m] \u001b[1mModel parameters are saved to d3rlpy_logs/SAC_online_20231001152221/model_81000.pt\u001b[0m\n",
      "\u001b[2m2023-10-01 15:57:09\u001b[0m [\u001b[32m\u001b[1minfo     \u001b[0m] \u001b[1mSAC_online_20231001152221: epoch=81 step=81000\u001b[0m \u001b[36mepoch\u001b[0m=\u001b[35m81\u001b[0m \u001b[36mmetrics\u001b[0m=\u001b[35m{'time_inference': 0.0016128485202789307, 'time_environment_step': 0.0001377270221710205, 'time_sample_batch': 0.0004381446838378906, 'time_algorithm_update': 0.014183579683303834, 'temp_loss': 0.000199262131107389, 'temp': 0.016189574578776955, 'critic_loss': 0.8312576718255877, 'actor_loss': -89.15173025512695, 'time_step': 0.016470985889434814, 'rollout_return': 1000.0, 'evaluation': 1000.0}\u001b[0m \u001b[36mstep\u001b[0m=\u001b[35m81000\u001b[0m\n",
      "\u001b[2m2023-10-01 15:57:38\u001b[0m [\u001b[32m\u001b[1minfo     \u001b[0m] \u001b[1mModel parameters are saved to d3rlpy_logs/SAC_online_20231001152221/model_82000.pt\u001b[0m\n",
      "\u001b[2m2023-10-01 15:57:38\u001b[0m [\u001b[32m\u001b[1minfo     \u001b[0m] \u001b[1mSAC_online_20231001152221: epoch=82 step=82000\u001b[0m \u001b[36mepoch\u001b[0m=\u001b[35m82\u001b[0m \u001b[36mmetrics\u001b[0m=\u001b[35m{'time_inference': 0.0016080472469329834, 'time_environment_step': 0.00013778352737426757, 'time_sample_batch': 0.000443805456161499, 'time_algorithm_update': 0.014290297269821168, 'temp_loss': 0.00018951239386660746, 'temp': 0.01521518016885966, 'critic_loss': 0.7582950468212366, 'actor_loss': -89.37324290466309, 'time_step': 0.016578811168670653, 'rollout_return': 1000.0, 'evaluation': 1000.0}\u001b[0m \u001b[36mstep\u001b[0m=\u001b[35m82000\u001b[0m\n",
      "\u001b[2m2023-10-01 15:58:08\u001b[0m [\u001b[32m\u001b[1minfo     \u001b[0m] \u001b[1mModel parameters are saved to d3rlpy_logs/SAC_online_20231001152221/model_83000.pt\u001b[0m\n",
      "\u001b[2m2023-10-01 15:58:08\u001b[0m [\u001b[32m\u001b[1minfo     \u001b[0m] \u001b[1mSAC_online_20231001152221: epoch=83 step=83000\u001b[0m \u001b[36mepoch\u001b[0m=\u001b[35m83\u001b[0m \u001b[36mmetrics\u001b[0m=\u001b[35m{'time_inference': 0.0016002559661865234, 'time_environment_step': 0.00013433218002319335, 'time_sample_batch': 0.00043493008613586427, 'time_algorithm_update': 0.014384898662567138, 'temp_loss': 0.00015954430065175985, 'temp': 0.015236042304895819, 'critic_loss': 0.7455637803375721, 'actor_loss': -89.5351630783081, 'time_step': 0.016651556968688964, 'rollout_return': 1000.0, 'evaluation': 1000.0}\u001b[0m \u001b[36mstep\u001b[0m=\u001b[35m83000\u001b[0m\n",
      "\u001b[2m2023-10-01 15:58:37\u001b[0m [\u001b[32m\u001b[1minfo     \u001b[0m] \u001b[1mModel parameters are saved to d3rlpy_logs/SAC_online_20231001152221/model_84000.pt\u001b[0m\n",
      "\u001b[2m2023-10-01 15:58:37\u001b[0m [\u001b[32m\u001b[1minfo     \u001b[0m] \u001b[1mSAC_online_20231001152221: epoch=84 step=84000\u001b[0m \u001b[36mepoch\u001b[0m=\u001b[35m84\u001b[0m \u001b[36mmetrics\u001b[0m=\u001b[35m{'time_inference': 0.001591463565826416, 'time_environment_step': 0.00013504743576049803, 'time_sample_batch': 0.0004355921745300293, 'time_algorithm_update': 0.014219824075698852, 'temp_loss': -0.0002797504016416497, 'temp': 0.014921164023689926, 'critic_loss': 0.9106738167777657, 'actor_loss': -89.7109946975708, 'time_step': 0.016479435443878174, 'rollout_return': 1000.0, 'evaluation': 1000.0}\u001b[0m \u001b[36mstep\u001b[0m=\u001b[35m84000\u001b[0m\n",
      "\u001b[2m2023-10-01 15:59:06\u001b[0m [\u001b[32m\u001b[1minfo     \u001b[0m] \u001b[1mModel parameters are saved to d3rlpy_logs/SAC_online_20231001152221/model_85000.pt\u001b[0m\n",
      "\u001b[2m2023-10-01 15:59:06\u001b[0m [\u001b[32m\u001b[1minfo     \u001b[0m] \u001b[1mSAC_online_20231001152221: epoch=85 step=85000\u001b[0m \u001b[36mepoch\u001b[0m=\u001b[35m85\u001b[0m \u001b[36mmetrics\u001b[0m=\u001b[35m{'time_inference': 0.0016324689388275146, 'time_environment_step': 0.00013643288612365722, 'time_sample_batch': 0.000439068078994751, 'time_algorithm_update': 0.014372310161590577, 'temp_loss': -0.0006623745236574905, 'temp': 0.016445711159147322, 'critic_loss': 0.6013444764092565, 'actor_loss': -89.79639702606201, 'time_step': 0.01667983055114746, 'rollout_return': 1000.0, 'evaluation': 1000.0}\u001b[0m \u001b[36mstep\u001b[0m=\u001b[35m85000\u001b[0m\n",
      "\u001b[2m2023-10-01 15:59:35\u001b[0m [\u001b[32m\u001b[1minfo     \u001b[0m] \u001b[1mModel parameters are saved to d3rlpy_logs/SAC_online_20231001152221/model_86000.pt\u001b[0m\n",
      "\u001b[2m2023-10-01 15:59:35\u001b[0m [\u001b[32m\u001b[1minfo     \u001b[0m] \u001b[1mSAC_online_20231001152221: epoch=86 step=86000\u001b[0m \u001b[36mepoch\u001b[0m=\u001b[35m86\u001b[0m \u001b[36mmetrics\u001b[0m=\u001b[35m{'time_inference': 0.0015738029479980468, 'time_environment_step': 0.00013256525993347168, 'time_sample_batch': 0.000431065559387207, 'time_algorithm_update': 0.01397387409210205, 'temp_loss': 0.0004157739372822107, 'temp': 0.017547690140083432, 'critic_loss': 0.7357506677657366, 'actor_loss': -90.14927250671387, 'time_step': 0.01620696783065796, 'rollout_return': 1000.0, 'evaluation': 1000.0}\u001b[0m \u001b[36mstep\u001b[0m=\u001b[35m86000\u001b[0m\n",
      "\u001b[2m2023-10-01 16:00:04\u001b[0m [\u001b[32m\u001b[1minfo     \u001b[0m] \u001b[1mModel parameters are saved to d3rlpy_logs/SAC_online_20231001152221/model_87000.pt\u001b[0m\n",
      "\u001b[2m2023-10-01 16:00:04\u001b[0m [\u001b[32m\u001b[1minfo     \u001b[0m] \u001b[1mSAC_online_20231001152221: epoch=87 step=87000\u001b[0m \u001b[36mepoch\u001b[0m=\u001b[35m87\u001b[0m \u001b[36mmetrics\u001b[0m=\u001b[35m{'time_inference': 0.0015895252227783204, 'time_environment_step': 0.00013365936279296874, 'time_sample_batch': 0.00043497657775878906, 'time_algorithm_update': 0.014288074731826783, 'temp_loss': 0.00012077772841439583, 'temp': 0.016356906834989787, 'critic_loss': 0.8283473510742188, 'actor_loss': -90.3140329208374, 'time_step': 0.016543407678604127, 'rollout_return': 1000.0, 'evaluation': 1000.0}\u001b[0m \u001b[36mstep\u001b[0m=\u001b[35m87000\u001b[0m\n",
      "\u001b[2m2023-10-01 16:00:33\u001b[0m [\u001b[32m\u001b[1minfo     \u001b[0m] \u001b[1mModel parameters are saved to d3rlpy_logs/SAC_online_20231001152221/model_88000.pt\u001b[0m\n",
      "\u001b[2m2023-10-01 16:00:33\u001b[0m [\u001b[32m\u001b[1minfo     \u001b[0m] \u001b[1mSAC_online_20231001152221: epoch=88 step=88000\u001b[0m \u001b[36mepoch\u001b[0m=\u001b[35m88\u001b[0m \u001b[36mmetrics\u001b[0m=\u001b[35m{'time_inference': 0.0016306278705596924, 'time_environment_step': 0.00013669919967651366, 'time_sample_batch': 0.00044052791595458986, 'time_algorithm_update': 0.014319095373153687, 'temp_loss': -0.00017114545174263184, 'temp': 0.01611837686225772, 'critic_loss': 0.7772630765736103, 'actor_loss': -90.46121167755128, 'time_step': 0.01662636852264404, 'rollout_return': 1000.0, 'evaluation': 1000.0}\u001b[0m \u001b[36mstep\u001b[0m=\u001b[35m88000\u001b[0m\n",
      "\u001b[2m2023-10-01 16:01:02\u001b[0m [\u001b[32m\u001b[1minfo     \u001b[0m] \u001b[1mModel parameters are saved to d3rlpy_logs/SAC_online_20231001152221/model_89000.pt\u001b[0m\n",
      "\u001b[2m2023-10-01 16:01:02\u001b[0m [\u001b[32m\u001b[1minfo     \u001b[0m] \u001b[1mSAC_online_20231001152221: epoch=89 step=89000\u001b[0m \u001b[36mepoch\u001b[0m=\u001b[35m89\u001b[0m \u001b[36mmetrics\u001b[0m=\u001b[35m{'time_inference': 0.0016122965812683107, 'time_environment_step': 0.00013727188110351562, 'time_sample_batch': 0.00044766712188720704, 'time_algorithm_update': 0.01432761836051941, 'temp_loss': 4.1345265053678304e-05, 'temp': 0.016707735085859893, 'critic_loss': 0.6819011984467507, 'actor_loss': -90.70121885681152, 'time_step': 0.016623810052871703, 'rollout_return': 1000.0, 'evaluation': 1000.0}\u001b[0m \u001b[36mstep\u001b[0m=\u001b[35m89000\u001b[0m\n",
      "\u001b[2m2023-10-01 16:01:31\u001b[0m [\u001b[32m\u001b[1minfo     \u001b[0m] \u001b[1mModel parameters are saved to d3rlpy_logs/SAC_online_20231001152221/model_90000.pt\u001b[0m\n",
      "\u001b[2m2023-10-01 16:01:31\u001b[0m [\u001b[32m\u001b[1minfo     \u001b[0m] \u001b[1mSAC_online_20231001152221: epoch=90 step=90000\u001b[0m \u001b[36mepoch\u001b[0m=\u001b[35m90\u001b[0m \u001b[36mmetrics\u001b[0m=\u001b[35m{'time_inference': 0.0016096005439758302, 'time_environment_step': 0.0001359095573425293, 'time_sample_batch': 0.00043755626678466795, 'time_algorithm_update': 0.014275655269622803, 'temp_loss': 0.0003218445806123782, 'temp': 0.016049949649721385, 'critic_loss': 0.7172353842556477, 'actor_loss': -90.80350375366211, 'time_step': 0.016556456327438355, 'rollout_return': 1000.0, 'evaluation': 1000.0}\u001b[0m \u001b[36mstep\u001b[0m=\u001b[35m90000\u001b[0m\n",
      "\u001b[2m2023-10-01 16:02:01\u001b[0m [\u001b[32m\u001b[1minfo     \u001b[0m] \u001b[1mModel parameters are saved to d3rlpy_logs/SAC_online_20231001152221/model_91000.pt\u001b[0m\n",
      "\u001b[2m2023-10-01 16:02:01\u001b[0m [\u001b[32m\u001b[1minfo     \u001b[0m] \u001b[1mSAC_online_20231001152221: epoch=91 step=91000\u001b[0m \u001b[36mepoch\u001b[0m=\u001b[35m91\u001b[0m \u001b[36mmetrics\u001b[0m=\u001b[35m{'time_inference': 0.001634556531906128, 'time_environment_step': 0.00013602447509765625, 'time_sample_batch': 0.00043970918655395505, 'time_algorithm_update': 0.014543107271194459, 'temp_loss': -6.837376116891391e-06, 'temp': 0.015286130047403276, 'critic_loss': 0.685092583976686, 'actor_loss': -91.021927734375, 'time_step': 0.01685201382637024, 'rollout_return': 1000.0, 'evaluation': 1000.0}\u001b[0m \u001b[36mstep\u001b[0m=\u001b[35m91000\u001b[0m\n",
      "\u001b[2m2023-10-01 16:02:30\u001b[0m [\u001b[32m\u001b[1minfo     \u001b[0m] \u001b[1mModel parameters are saved to d3rlpy_logs/SAC_online_20231001152221/model_92000.pt\u001b[0m\n",
      "\u001b[2m2023-10-01 16:02:30\u001b[0m [\u001b[32m\u001b[1minfo     \u001b[0m] \u001b[1mSAC_online_20231001152221: epoch=92 step=92000\u001b[0m \u001b[36mepoch\u001b[0m=\u001b[35m92\u001b[0m \u001b[36mmetrics\u001b[0m=\u001b[35m{'time_inference': 0.0016269278526306152, 'time_environment_step': 0.00013361430168151855, 'time_sample_batch': 0.00043312311172485354, 'time_algorithm_update': 0.014310899734497071, 'temp_loss': 4.169089622882893e-05, 'temp': 0.015600730886682868, 'critic_loss': 0.6487681110203266, 'actor_loss': -91.2344449081421, 'time_step': 0.016602526664733885, 'rollout_return': 1000.0, 'evaluation': 1000.0}\u001b[0m \u001b[36mstep\u001b[0m=\u001b[35m92000\u001b[0m\n",
      "\u001b[2m2023-10-01 16:03:00\u001b[0m [\u001b[32m\u001b[1minfo     \u001b[0m] \u001b[1mModel parameters are saved to d3rlpy_logs/SAC_online_20231001152221/model_93000.pt\u001b[0m\n",
      "\u001b[2m2023-10-01 16:03:00\u001b[0m [\u001b[32m\u001b[1minfo     \u001b[0m] \u001b[1mSAC_online_20231001152221: epoch=93 step=93000\u001b[0m \u001b[36mepoch\u001b[0m=\u001b[35m93\u001b[0m \u001b[36mmetrics\u001b[0m=\u001b[35m{'time_inference': 0.0016116127967834473, 'time_environment_step': 0.0001335616111755371, 'time_sample_batch': 0.0004355905055999756, 'time_algorithm_update': 0.014280278205871582, 'temp_loss': -0.0001726496829651296, 'temp': 0.015697727967984975, 'critic_loss': 0.8831504361853003, 'actor_loss': -91.49012828063965, 'time_step': 0.01655855941772461, 'rollout_return': 1000.0, 'evaluation': 1000.0}\u001b[0m \u001b[36mstep\u001b[0m=\u001b[35m93000\u001b[0m\n",
      "\u001b[2m2023-10-01 16:03:29\u001b[0m [\u001b[32m\u001b[1minfo     \u001b[0m] \u001b[1mModel parameters are saved to d3rlpy_logs/SAC_online_20231001152221/model_94000.pt\u001b[0m\n",
      "\u001b[2m2023-10-01 16:03:29\u001b[0m [\u001b[32m\u001b[1minfo     \u001b[0m] \u001b[1mSAC_online_20231001152221: epoch=94 step=94000\u001b[0m \u001b[36mepoch\u001b[0m=\u001b[35m94\u001b[0m \u001b[36mmetrics\u001b[0m=\u001b[35m{'time_inference': 0.0015988445281982422, 'time_environment_step': 0.0001331613063812256, 'time_sample_batch': 0.0004287674427032471, 'time_algorithm_update': 0.014204876184463502, 'temp_loss': 0.00036095811799168585, 'temp': 0.015093370012938976, 'critic_loss': 0.7253005431815982, 'actor_loss': -91.70523276519775, 'time_step': 0.01646237564086914, 'rollout_return': 1000.0, 'evaluation': 1000.0}\u001b[0m \u001b[36mstep\u001b[0m=\u001b[35m94000\u001b[0m\n",
      "\u001b[2m2023-10-01 16:03:58\u001b[0m [\u001b[32m\u001b[1minfo     \u001b[0m] \u001b[1mModel parameters are saved to d3rlpy_logs/SAC_online_20231001152221/model_95000.pt\u001b[0m\n",
      "\u001b[2m2023-10-01 16:03:58\u001b[0m [\u001b[32m\u001b[1minfo     \u001b[0m] \u001b[1mSAC_online_20231001152221: epoch=95 step=95000\u001b[0m \u001b[36mepoch\u001b[0m=\u001b[35m95\u001b[0m \u001b[36mmetrics\u001b[0m=\u001b[35m{'time_inference': 0.001571479082107544, 'time_environment_step': 0.00013093996047973633, 'time_sample_batch': 0.00042371106147766113, 'time_algorithm_update': 0.01412271785736084, 'temp_loss': -0.00010990077353926609, 'temp': 0.015067901999689638, 'critic_loss': 0.7302600982040167, 'actor_loss': -91.93219662475586, 'time_step': 0.016344464778900145, 'rollout_return': 1000.0, 'evaluation': 1000.0}\u001b[0m \u001b[36mstep\u001b[0m=\u001b[35m95000\u001b[0m\n",
      "\u001b[2m2023-10-01 16:04:27\u001b[0m [\u001b[32m\u001b[1minfo     \u001b[0m] \u001b[1mModel parameters are saved to d3rlpy_logs/SAC_online_20231001152221/model_96000.pt\u001b[0m\n",
      "\u001b[2m2023-10-01 16:04:27\u001b[0m [\u001b[32m\u001b[1minfo     \u001b[0m] \u001b[1mSAC_online_20231001152221: epoch=96 step=96000\u001b[0m \u001b[36mepoch\u001b[0m=\u001b[35m96\u001b[0m \u001b[36mmetrics\u001b[0m=\u001b[35m{'time_inference': 0.0015947318077087402, 'time_environment_step': 0.0001351909637451172, 'time_sample_batch': 0.000437098503112793, 'time_algorithm_update': 0.014374635219573974, 'temp_loss': -0.00010386195297905942, 'temp': 0.015018711962737142, 'critic_loss': 0.7205953106433153, 'actor_loss': -92.07926042938233, 'time_step': 0.016639208793640135, 'rollout_return': 1000.0, 'evaluation': 1000.0}\u001b[0m \u001b[36mstep\u001b[0m=\u001b[35m96000\u001b[0m\n",
      "\u001b[2m2023-10-01 16:04:56\u001b[0m [\u001b[32m\u001b[1minfo     \u001b[0m] \u001b[1mModel parameters are saved to d3rlpy_logs/SAC_online_20231001152221/model_97000.pt\u001b[0m\n",
      "\u001b[2m2023-10-01 16:04:56\u001b[0m [\u001b[32m\u001b[1minfo     \u001b[0m] \u001b[1mSAC_online_20231001152221: epoch=97 step=97000\u001b[0m \u001b[36mepoch\u001b[0m=\u001b[35m97\u001b[0m \u001b[36mmetrics\u001b[0m=\u001b[35m{'time_inference': 0.0016237304210662841, 'time_environment_step': 0.000136397123336792, 'time_sample_batch': 0.000438746452331543, 'time_algorithm_update': 0.014389179706573486, 'temp_loss': -0.0012417272568418412, 'temp': 0.017367240854538977, 'critic_loss': 0.77094761454314, 'actor_loss': -92.27219664764404, 'time_step': 0.01668708300590515, 'rollout_return': 1000.0, 'evaluation': 1000.0}\u001b[0m \u001b[36mstep\u001b[0m=\u001b[35m97000\u001b[0m\n",
      "\u001b[2m2023-10-01 16:05:25\u001b[0m [\u001b[32m\u001b[1minfo     \u001b[0m] \u001b[1mModel parameters are saved to d3rlpy_logs/SAC_online_20231001152221/model_98000.pt\u001b[0m\n",
      "\u001b[2m2023-10-01 16:05:25\u001b[0m [\u001b[32m\u001b[1minfo     \u001b[0m] \u001b[1mSAC_online_20231001152221: epoch=98 step=98000\u001b[0m \u001b[36mepoch\u001b[0m=\u001b[35m98\u001b[0m \u001b[36mmetrics\u001b[0m=\u001b[35m{'time_inference': 0.0015952813625335694, 'time_environment_step': 0.00013473844528198243, 'time_sample_batch': 0.00043260741233825686, 'time_algorithm_update': 0.014375120162963868, 'temp_loss': -0.00038224078765051675, 'temp': 0.020786315131932496, 'critic_loss': 0.6697510425820947, 'actor_loss': -92.43687784576416, 'time_step': 0.016635187149047853, 'rollout_return': 1000.0, 'evaluation': 1000.0}\u001b[0m \u001b[36mstep\u001b[0m=\u001b[35m98000\u001b[0m\n",
      "\u001b[2m2023-10-01 16:05:54\u001b[0m [\u001b[32m\u001b[1minfo     \u001b[0m] \u001b[1mModel parameters are saved to d3rlpy_logs/SAC_online_20231001152221/model_99000.pt\u001b[0m\n",
      "\u001b[2m2023-10-01 16:05:54\u001b[0m [\u001b[32m\u001b[1minfo     \u001b[0m] \u001b[1mSAC_online_20231001152221: epoch=99 step=99000\u001b[0m \u001b[36mepoch\u001b[0m=\u001b[35m99\u001b[0m \u001b[36mmetrics\u001b[0m=\u001b[35m{'time_inference': 0.0016286189556121826, 'time_environment_step': 0.00013714861869812013, 'time_sample_batch': 0.0004466395378112793, 'time_algorithm_update': 0.014443000793457032, 'temp_loss': 0.0008042285126139177, 'temp': 0.01961866401322186, 'critic_loss': 0.6852531371712685, 'actor_loss': -92.62284248352051, 'time_step': 0.016754849433898926, 'rollout_return': 1000.0, 'evaluation': 1000.0}\u001b[0m \u001b[36mstep\u001b[0m=\u001b[35m99000\u001b[0m\n",
      "\u001b[2m2023-10-01 16:06:24\u001b[0m [\u001b[32m\u001b[1minfo     \u001b[0m] \u001b[1mModel parameters are saved to d3rlpy_logs/SAC_online_20231001152221/model_100000.pt\u001b[0m\n",
      "\u001b[2m2023-10-01 16:06:24\u001b[0m [\u001b[32m\u001b[1minfo     \u001b[0m] \u001b[1mSAC_online_20231001152221: epoch=100 step=100000\u001b[0m \u001b[36mepoch\u001b[0m=\u001b[35m100\u001b[0m \u001b[36mmetrics\u001b[0m=\u001b[35m{'time_inference': 0.0016399669647216798, 'time_environment_step': 0.0001375234127044678, 'time_sample_batch': 0.00044420027732849124, 'time_algorithm_update': 0.01452633786201477, 'temp_loss': 8.358236919593764e-05, 'temp': 0.018499220797792076, 'critic_loss': 0.6253533000983298, 'actor_loss': -92.75830204010009, 'time_step': 0.016847562313079833, 'rollout_return': 1000.0, 'evaluation': 1000.0}\u001b[0m \u001b[36mstep\u001b[0m=\u001b[35m100000\u001b[0m\n"
     ]
    }
   ],
   "source": [
    "actor_encoder = d3rlpy.models.encoders.DefaultEncoderFactory(dropout_rate=0.2)\n",
    "# setup algorithm\n",
    "sac = d3rlpy.algos.SAC(\n",
    "    batch_size=256,\n",
    "    actor_encoder_factory=actor_encoder,\n",
    "    actor_learning_rate=3e-4,\n",
    "    critic_learning_rate=3e-4,\n",
    "    temp_learning_rate=3e-4,\n",
    "    use_gpu=use_gpu\n",
    ")\n",
    "\n",
    "# prepare utilities\n",
    "buffer = d3rlpy.online.buffers.ReplayBuffer(maxlen=1000000, env=env)\n",
    "\n",
    "# start training\n",
    "sac.fit_online(\n",
    "    env,\n",
    "    buffer,\n",
    "    eval_env=eval_env,\n",
    "    n_steps=100000,\n",
    "    n_steps_per_epoch=1000,\n",
    "    update_interval=1,\n",
    "    update_start_step=1000,\n",
    "    tensorboard_dir='tensorboard_logs'\n",
    ")"
   ]
  },
  {
   "cell_type": "code",
   "execution_count": 15,
   "id": "ce7e7bd2-1bdf-4dec-9ecc-d1b42275b07e",
   "metadata": {},
   "outputs": [],
   "source": [
    "# export replay buffer as MDPDataset\n",
    "dataset = buffer.to_mdp_dataset()\n",
    "\n",
    "# save MDPDataset\n",
    "dataset.dump('d3rlpy_data/inverted_pendulum2.h5')"
   ]
  },
  {
   "cell_type": "markdown",
   "id": "74f4fca6-103e-4428-8afe-04f98213ed31",
   "metadata": {},
   "source": [
    "## Load the dataset"
   ]
  },
  {
   "cell_type": "code",
   "execution_count": 3,
   "id": "987e3d33-fceb-4576-a2da-5f617d746d01",
   "metadata": {},
   "outputs": [],
   "source": [
    "dataset = d3rlpy.dataset.MDPDataset.load('d3rlpy_data/inverted_pendulum2.h5')"
   ]
  },
  {
   "cell_type": "code",
   "execution_count": 4,
   "id": "5d4e58c8-a0ea-42a0-825a-702e5fa767be",
   "metadata": {},
   "outputs": [],
   "source": [
    "train_episodes, test_episodes = train_test_split(dataset)"
   ]
  },
  {
   "cell_type": "markdown",
   "id": "425935b5-2a2f-497d-a63e-c2eb7f7cf8eb",
   "metadata": {},
   "source": [
    "## Dynamics learning"
   ]
  },
  {
   "cell_type": "code",
   "execution_count": 5,
   "id": "d6db25ae-3d57-4680-bec9-9ccde0b9f983",
   "metadata": {},
   "outputs": [
    {
     "name": "stdout",
     "output_type": "stream",
     "text": [
      "Using InvertedPendulumEncoderFactory\n"
     ]
    }
   ],
   "source": [
    "encoder_factory = encoders.InvertedPendulumEncoderFactory()\n",
    "dynamics = d3rlpy.dynamics.ProbabilisticEnsembleDynamics(learning_rate=1e-4, use_gpu=True, encoder_factory=encoder_factory)"
   ]
  },
  {
   "cell_type": "code",
   "execution_count": 7,
   "id": "a6a23e36",
   "metadata": {
    "scrolled": true
   },
   "outputs": [
    {
     "name": "stdout",
     "output_type": "stream",
     "text": [
      "\u001b[2m2023-10-02 22:22:59\u001b[0m [\u001b[32m\u001b[1mdebug    \u001b[0m] \u001b[1mRoundIterator is selected.\u001b[0m\n",
      "\u001b[2m2023-10-02 22:22:59\u001b[0m [\u001b[32m\u001b[1minfo     \u001b[0m] \u001b[1mDirectory is created at d3rlpy_logs/ProbabilisticEnsembleDynamics_20231002222259\u001b[0m\n",
      "\u001b[2m2023-10-02 22:22:59\u001b[0m [\u001b[33m\u001b[1mwarning  \u001b[0m] \u001b[1mSkip building models since they're already built.\u001b[0m\n",
      "\u001b[2m2023-10-02 22:22:59\u001b[0m [\u001b[32m\u001b[1minfo     \u001b[0m] \u001b[1mParameters are saved to d3rlpy_logs/ProbabilisticEnsembleDynamics_20231002222259/params.json\u001b[0m \u001b[36mparams\u001b[0m=\u001b[35m{'action_scaler': None, 'batch_size': 100, 'discrete_action': False, 'encoder_factory': {'type': 'none', 'params': {'hidden_units': [256, 256], 'activation': 'relu', 'use_batch_norm': False, 'dropout_rate': None, 'use_dense': False}}, 'gamma': 1.0, 'generated_maxlen': 100000, 'learning_rate': 0.0001, 'n_ensembles': 5, 'n_frames': 1, 'n_steps': 1, 'optim_factory': {'optim_cls': 'Adam', 'betas': (0.9, 0.999), 'eps': 1e-08, 'weight_decay': 0.0001, 'amsgrad': False}, 'real_ratio': 1.0, 'reward_scaler': None, 'scaler': None, 'use_gpu': 0, 'variance_type': 'max', 'algorithm': 'ProbabilisticEnsembleDynamics', 'observation_shape': (4,), 'action_size': 1}\u001b[0m\n"
     ]
    },
    {
     "data": {
      "application/vnd.jupyter.widget-view+json": {
       "model_id": "3756e736df1b4411baa6a6baa7db6af5",
       "version_major": 2,
       "version_minor": 0
      },
      "text/plain": [
       "Epoch 1/100:   0%|          | 0/714 [00:00<?, ?it/s]"
      ]
     },
     "metadata": {},
     "output_type": "display_data"
    },
    {
     "name": "stdout",
     "output_type": "stream",
     "text": [
      "\u001b[2m2023-10-02 22:23:11\u001b[0m [\u001b[32m\u001b[1minfo     \u001b[0m] \u001b[1mProbabilisticEnsembleDynamics_20231002222259: epoch=1 step=714\u001b[0m \u001b[36mepoch\u001b[0m=\u001b[35m1\u001b[0m \u001b[36mmetrics\u001b[0m=\u001b[35m{'time_sample_batch': 0.00025343327295212516, 'time_algorithm_update': 0.014632226038379829, 'loss': -32.423491892193546, 'time_step': 0.014955992124327758, 'observation_error': 0.0250744053835917, 'reward_error': 0.0004974876921980015, 'variance': 0.023248634875645952}\u001b[0m \u001b[36mstep\u001b[0m=\u001b[35m714\u001b[0m\n",
      "\u001b[2m2023-10-02 22:23:11\u001b[0m [\u001b[32m\u001b[1minfo     \u001b[0m] \u001b[1mModel parameters are saved to d3rlpy_logs/ProbabilisticEnsembleDynamics_20231002222259/model_714.pt\u001b[0m\n"
     ]
    },
    {
     "data": {
      "application/vnd.jupyter.widget-view+json": {
       "model_id": "4011ce24ffd54a65a96cce1f88960769",
       "version_major": 2,
       "version_minor": 0
      },
      "text/plain": [
       "Epoch 2/100:   0%|          | 0/714 [00:00<?, ?it/s]"
      ]
     },
     "metadata": {},
     "output_type": "display_data"
    },
    {
     "name": "stdout",
     "output_type": "stream",
     "text": [
      "\u001b[2m2023-10-02 22:23:23\u001b[0m [\u001b[32m\u001b[1minfo     \u001b[0m] \u001b[1mProbabilisticEnsembleDynamics_20231002222259: epoch=2 step=1428\u001b[0m \u001b[36mepoch\u001b[0m=\u001b[35m2\u001b[0m \u001b[36mmetrics\u001b[0m=\u001b[35m{'time_sample_batch': 0.00026366657235709224, 'time_algorithm_update': 0.014832751757624437, 'loss': -39.16295184608267, 'time_step': 0.015169731375216102, 'observation_error': 0.014658510301083456, 'reward_error': 6.89559697864491e-05, 'variance': 0.008658544076944894}\u001b[0m \u001b[36mstep\u001b[0m=\u001b[35m1428\u001b[0m\n",
      "\u001b[2m2023-10-02 22:23:23\u001b[0m [\u001b[32m\u001b[1minfo     \u001b[0m] \u001b[1mModel parameters are saved to d3rlpy_logs/ProbabilisticEnsembleDynamics_20231002222259/model_1428.pt\u001b[0m\n"
     ]
    },
    {
     "data": {
      "application/vnd.jupyter.widget-view+json": {
       "model_id": "1fabeb3b2e9f4cd792f8c87e2da5bce3",
       "version_major": 2,
       "version_minor": 0
      },
      "text/plain": [
       "Epoch 3/100:   0%|          | 0/714 [00:00<?, ?it/s]"
      ]
     },
     "metadata": {},
     "output_type": "display_data"
    },
    {
     "name": "stdout",
     "output_type": "stream",
     "text": [
      "\u001b[2m2023-10-02 22:23:34\u001b[0m [\u001b[32m\u001b[1minfo     \u001b[0m] \u001b[1mProbabilisticEnsembleDynamics_20231002222259: epoch=3 step=2142\u001b[0m \u001b[36mepoch\u001b[0m=\u001b[35m3\u001b[0m \u001b[36mmetrics\u001b[0m=\u001b[35m{'time_sample_batch': 0.00023559963001924401, 'time_algorithm_update': 0.013485601636208072, 'loss': -45.77786203058494, 'time_step': 0.013787621543520973, 'observation_error': 0.012042198700714673, 'reward_error': 1.629846289681898e-05, 'variance': 0.0048035796677338635}\u001b[0m \u001b[36mstep\u001b[0m=\u001b[35m2142\u001b[0m\n",
      "\u001b[2m2023-10-02 22:23:34\u001b[0m [\u001b[32m\u001b[1minfo     \u001b[0m] \u001b[1mModel parameters are saved to d3rlpy_logs/ProbabilisticEnsembleDynamics_20231002222259/model_2142.pt\u001b[0m\n"
     ]
    },
    {
     "data": {
      "application/vnd.jupyter.widget-view+json": {
       "model_id": "4338eac6262940c08f1f35573c8a75b3",
       "version_major": 2,
       "version_minor": 0
      },
      "text/plain": [
       "Epoch 4/100:   0%|          | 0/714 [00:00<?, ?it/s]"
      ]
     },
     "metadata": {},
     "output_type": "display_data"
    },
    {
     "name": "stdout",
     "output_type": "stream",
     "text": [
      "\u001b[2m2023-10-02 22:23:45\u001b[0m [\u001b[32m\u001b[1minfo     \u001b[0m] \u001b[1mProbabilisticEnsembleDynamics_20231002222259: epoch=4 step=2856\u001b[0m \u001b[36mepoch\u001b[0m=\u001b[35m4\u001b[0m \u001b[36mmetrics\u001b[0m=\u001b[35m{'time_sample_batch': 0.00023266080380821762, 'time_algorithm_update': 0.013436230290837648, 'loss': -51.59308787220333, 'time_step': 0.01373397535970565, 'observation_error': 0.01087592561907697, 'reward_error': 1.6630053415299085e-05, 'variance': 0.003466686680444368}\u001b[0m \u001b[36mstep\u001b[0m=\u001b[35m2856\u001b[0m\n",
      "\u001b[2m2023-10-02 22:23:45\u001b[0m [\u001b[32m\u001b[1minfo     \u001b[0m] \u001b[1mModel parameters are saved to d3rlpy_logs/ProbabilisticEnsembleDynamics_20231002222259/model_2856.pt\u001b[0m\n"
     ]
    },
    {
     "data": {
      "application/vnd.jupyter.widget-view+json": {
       "model_id": "fa7cbe2bdfb64c8ea351e86fac78b90b",
       "version_major": 2,
       "version_minor": 0
      },
      "text/plain": [
       "Epoch 5/100:   0%|          | 0/714 [00:00<?, ?it/s]"
      ]
     },
     "metadata": {},
     "output_type": "display_data"
    },
    {
     "name": "stdout",
     "output_type": "stream",
     "text": [
      "\u001b[2m2023-10-02 22:23:56\u001b[0m [\u001b[32m\u001b[1minfo     \u001b[0m] \u001b[1mProbabilisticEnsembleDynamics_20231002222259: epoch=5 step=3570\u001b[0m \u001b[36mepoch\u001b[0m=\u001b[35m5\u001b[0m \u001b[36mmetrics\u001b[0m=\u001b[35m{'time_sample_batch': 0.00024590906308812586, 'time_algorithm_update': 0.01407049517003762, 'loss': -56.26093903976996, 'time_step': 0.014385707238141228, 'observation_error': 0.01217544675060206, 'reward_error': 1.2070647215524472e-05, 'variance': 0.0063061931945269985}\u001b[0m \u001b[36mstep\u001b[0m=\u001b[35m3570\u001b[0m\n",
      "\u001b[2m2023-10-02 22:23:56\u001b[0m [\u001b[32m\u001b[1minfo     \u001b[0m] \u001b[1mModel parameters are saved to d3rlpy_logs/ProbabilisticEnsembleDynamics_20231002222259/model_3570.pt\u001b[0m\n"
     ]
    },
    {
     "data": {
      "application/vnd.jupyter.widget-view+json": {
       "model_id": "19f932e8969c49f38da33ef1bc9340a3",
       "version_major": 2,
       "version_minor": 0
      },
      "text/plain": [
       "Epoch 6/100:   0%|          | 0/714 [00:00<?, ?it/s]"
      ]
     },
     "metadata": {},
     "output_type": "display_data"
    },
    {
     "name": "stdout",
     "output_type": "stream",
     "text": [
      "\u001b[2m2023-10-02 22:24:08\u001b[0m [\u001b[32m\u001b[1minfo     \u001b[0m] \u001b[1mProbabilisticEnsembleDynamics_20231002222259: epoch=6 step=4284\u001b[0m \u001b[36mepoch\u001b[0m=\u001b[35m6\u001b[0m \u001b[36mmetrics\u001b[0m=\u001b[35m{'time_sample_batch': 0.00024741136727212857, 'time_algorithm_update': 0.014018612415516744, 'loss': -60.274731405642854, 'time_step': 0.014335067666211381, 'observation_error': 0.01841036046455897, 'reward_error': 1.1749074769500355e-05, 'variance': 0.0160794353829738}\u001b[0m \u001b[36mstep\u001b[0m=\u001b[35m4284\u001b[0m\n",
      "\u001b[2m2023-10-02 22:24:08\u001b[0m [\u001b[32m\u001b[1minfo     \u001b[0m] \u001b[1mModel parameters are saved to d3rlpy_logs/ProbabilisticEnsembleDynamics_20231002222259/model_4284.pt\u001b[0m\n"
     ]
    },
    {
     "data": {
      "application/vnd.jupyter.widget-view+json": {
       "model_id": "74d3e17d0d5d4dbc8fd89e1721d1949e",
       "version_major": 2,
       "version_minor": 0
      },
      "text/plain": [
       "Epoch 7/100:   0%|          | 0/714 [00:00<?, ?it/s]"
      ]
     },
     "metadata": {},
     "output_type": "display_data"
    },
    {
     "name": "stdout",
     "output_type": "stream",
     "text": [
      "\u001b[2m2023-10-02 22:24:20\u001b[0m [\u001b[32m\u001b[1minfo     \u001b[0m] \u001b[1mProbabilisticEnsembleDynamics_20231002222259: epoch=7 step=4998\u001b[0m \u001b[36mepoch\u001b[0m=\u001b[35m7\u001b[0m \u001b[36mmetrics\u001b[0m=\u001b[35m{'time_sample_batch': 0.0002475389245511437, 'time_algorithm_update': 0.014248137046642998, 'loss': -62.22624135084179, 'time_step': 0.014563774862209288, 'observation_error': 0.038086606237592205, 'reward_error': 2.0432097851931405e-05, 'variance': 0.03207377637563295}\u001b[0m \u001b[36mstep\u001b[0m=\u001b[35m4998\u001b[0m\n",
      "\u001b[2m2023-10-02 22:24:20\u001b[0m [\u001b[32m\u001b[1minfo     \u001b[0m] \u001b[1mModel parameters are saved to d3rlpy_logs/ProbabilisticEnsembleDynamics_20231002222259/model_4998.pt\u001b[0m\n"
     ]
    },
    {
     "data": {
      "application/vnd.jupyter.widget-view+json": {
       "model_id": "9be6d18d21c64e109a5711038ea354df",
       "version_major": 2,
       "version_minor": 0
      },
      "text/plain": [
       "Epoch 8/100:   0%|          | 0/714 [00:00<?, ?it/s]"
      ]
     },
     "metadata": {},
     "output_type": "display_data"
    },
    {
     "name": "stdout",
     "output_type": "stream",
     "text": [
      "\u001b[2m2023-10-02 22:24:31\u001b[0m [\u001b[32m\u001b[1minfo     \u001b[0m] \u001b[1mProbabilisticEnsembleDynamics_20231002222259: epoch=8 step=5712\u001b[0m \u001b[36mepoch\u001b[0m=\u001b[35m8\u001b[0m \u001b[36mmetrics\u001b[0m=\u001b[35m{'time_sample_batch': 0.00024806484788739716, 'time_algorithm_update': 0.014097614782531055, 'loss': -64.25096931110244, 'time_step': 0.01441265421421254, 'observation_error': 0.053955551133552875, 'reward_error': 1.3181492096138941e-05, 'variance': 0.048174852636004586}\u001b[0m \u001b[36mstep\u001b[0m=\u001b[35m5712\u001b[0m\n",
      "\u001b[2m2023-10-02 22:24:31\u001b[0m [\u001b[32m\u001b[1minfo     \u001b[0m] \u001b[1mModel parameters are saved to d3rlpy_logs/ProbabilisticEnsembleDynamics_20231002222259/model_5712.pt\u001b[0m\n"
     ]
    },
    {
     "data": {
      "application/vnd.jupyter.widget-view+json": {
       "model_id": "04a399d3730d4a14aa0d4351c85c8395",
       "version_major": 2,
       "version_minor": 0
      },
      "text/plain": [
       "Epoch 9/100:   0%|          | 0/714 [00:00<?, ?it/s]"
      ]
     },
     "metadata": {},
     "output_type": "display_data"
    },
    {
     "name": "stdout",
     "output_type": "stream",
     "text": [
      "\u001b[2m2023-10-02 22:24:43\u001b[0m [\u001b[32m\u001b[1minfo     \u001b[0m] \u001b[1mProbabilisticEnsembleDynamics_20231002222259: epoch=9 step=6426\u001b[0m \u001b[36mepoch\u001b[0m=\u001b[35m9\u001b[0m \u001b[36mmetrics\u001b[0m=\u001b[35m{'time_sample_batch': 0.00024136308194542465, 'time_algorithm_update': 0.013739639303597416, 'loss': -65.40275226721242, 'time_step': 0.014048227075101281, 'observation_error': 0.043884728701389916, 'reward_error': 1.4382381475559262e-05, 'variance': 0.04855431226885746}\u001b[0m \u001b[36mstep\u001b[0m=\u001b[35m6426\u001b[0m\n",
      "\u001b[2m2023-10-02 22:24:43\u001b[0m [\u001b[32m\u001b[1minfo     \u001b[0m] \u001b[1mModel parameters are saved to d3rlpy_logs/ProbabilisticEnsembleDynamics_20231002222259/model_6426.pt\u001b[0m\n"
     ]
    },
    {
     "data": {
      "application/vnd.jupyter.widget-view+json": {
       "model_id": "2fdfa5532d194cd89f3f5dc6cfe97395",
       "version_major": 2,
       "version_minor": 0
      },
      "text/plain": [
       "Epoch 10/100:   0%|          | 0/714 [00:00<?, ?it/s]"
      ]
     },
     "metadata": {},
     "output_type": "display_data"
    },
    {
     "name": "stdout",
     "output_type": "stream",
     "text": [
      "\u001b[2m2023-10-02 22:24:54\u001b[0m [\u001b[32m\u001b[1minfo     \u001b[0m] \u001b[1mProbabilisticEnsembleDynamics_20231002222259: epoch=10 step=7140\u001b[0m \u001b[36mepoch\u001b[0m=\u001b[35m10\u001b[0m \u001b[36mmetrics\u001b[0m=\u001b[35m{'time_sample_batch': 0.0002425421519773681, 'time_algorithm_update': 0.013602468813834739, 'loss': -66.92087991564881, 'time_step': 0.013913128556323652, 'observation_error': 0.04198545444693285, 'reward_error': 1.2573478382446982e-05, 'variance': 0.06314133615472678}\u001b[0m \u001b[36mstep\u001b[0m=\u001b[35m7140\u001b[0m\n",
      "\u001b[2m2023-10-02 22:24:54\u001b[0m [\u001b[32m\u001b[1minfo     \u001b[0m] \u001b[1mModel parameters are saved to d3rlpy_logs/ProbabilisticEnsembleDynamics_20231002222259/model_7140.pt\u001b[0m\n"
     ]
    },
    {
     "data": {
      "application/vnd.jupyter.widget-view+json": {
       "model_id": "c5a342f28e0f48f38294f2459fae52e0",
       "version_major": 2,
       "version_minor": 0
      },
      "text/plain": [
       "Epoch 11/100:   0%|          | 0/714 [00:00<?, ?it/s]"
      ]
     },
     "metadata": {},
     "output_type": "display_data"
    },
    {
     "name": "stdout",
     "output_type": "stream",
     "text": [
      "\u001b[2m2023-10-02 22:25:05\u001b[0m [\u001b[32m\u001b[1minfo     \u001b[0m] \u001b[1mProbabilisticEnsembleDynamics_20231002222259: epoch=11 step=7854\u001b[0m \u001b[36mepoch\u001b[0m=\u001b[35m11\u001b[0m \u001b[36mmetrics\u001b[0m=\u001b[35m{'time_sample_batch': 0.00024933340836639833, 'time_algorithm_update': 0.013816708610171364, 'loss': -68.67256148656209, 'time_step': 0.014133419977182768, 'observation_error': 0.06247311398790629, 'reward_error': 9.936109333903995e-06, 'variance': 0.05953397177770538}\u001b[0m \u001b[36mstep\u001b[0m=\u001b[35m7854\u001b[0m\n",
      "\u001b[2m2023-10-02 22:25:05\u001b[0m [\u001b[32m\u001b[1minfo     \u001b[0m] \u001b[1mModel parameters are saved to d3rlpy_logs/ProbabilisticEnsembleDynamics_20231002222259/model_7854.pt\u001b[0m\n"
     ]
    },
    {
     "data": {
      "application/vnd.jupyter.widget-view+json": {
       "model_id": "ed8fa85c87cb4b5db4cac9c9704a1022",
       "version_major": 2,
       "version_minor": 0
      },
      "text/plain": [
       "Epoch 12/100:   0%|          | 0/714 [00:00<?, ?it/s]"
      ]
     },
     "metadata": {},
     "output_type": "display_data"
    },
    {
     "name": "stdout",
     "output_type": "stream",
     "text": [
      "\u001b[2m2023-10-02 22:25:17\u001b[0m [\u001b[32m\u001b[1minfo     \u001b[0m] \u001b[1mProbabilisticEnsembleDynamics_20231002222259: epoch=12 step=8568\u001b[0m \u001b[36mepoch\u001b[0m=\u001b[35m12\u001b[0m \u001b[36mmetrics\u001b[0m=\u001b[35m{'time_sample_batch': 0.0002572983920741148, 'time_algorithm_update': 0.014310473821410277, 'loss': -68.84791492814777, 'time_step': 0.014639131161345154, 'observation_error': 0.05037504901062528, 'reward_error': 9.319627186855834e-06, 'variance': 0.06007445102778237}\u001b[0m \u001b[36mstep\u001b[0m=\u001b[35m8568\u001b[0m\n",
      "\u001b[2m2023-10-02 22:25:17\u001b[0m [\u001b[32m\u001b[1minfo     \u001b[0m] \u001b[1mModel parameters are saved to d3rlpy_logs/ProbabilisticEnsembleDynamics_20231002222259/model_8568.pt\u001b[0m\n"
     ]
    },
    {
     "data": {
      "application/vnd.jupyter.widget-view+json": {
       "model_id": "ccfc6dc03073420989a026ffe263aa03",
       "version_major": 2,
       "version_minor": 0
      },
      "text/plain": [
       "Epoch 13/100:   0%|          | 0/714 [00:00<?, ?it/s]"
      ]
     },
     "metadata": {},
     "output_type": "display_data"
    },
    {
     "name": "stdout",
     "output_type": "stream",
     "text": [
      "\u001b[2m2023-10-02 22:25:29\u001b[0m [\u001b[32m\u001b[1minfo     \u001b[0m] \u001b[1mProbabilisticEnsembleDynamics_20231002222259: epoch=13 step=9282\u001b[0m \u001b[36mepoch\u001b[0m=\u001b[35m13\u001b[0m \u001b[36mmetrics\u001b[0m=\u001b[35m{'time_sample_batch': 0.00024757365218731534, 'time_algorithm_update': 0.013997837608935786, 'loss': -69.81998344229049, 'time_step': 0.01431397296467415, 'observation_error': 0.043027655456035915, 'reward_error': 1.21535017526862e-05, 'variance': 0.06185222150886935}\u001b[0m \u001b[36mstep\u001b[0m=\u001b[35m9282\u001b[0m\n",
      "\u001b[2m2023-10-02 22:25:29\u001b[0m [\u001b[32m\u001b[1minfo     \u001b[0m] \u001b[1mModel parameters are saved to d3rlpy_logs/ProbabilisticEnsembleDynamics_20231002222259/model_9282.pt\u001b[0m\n"
     ]
    },
    {
     "data": {
      "application/vnd.jupyter.widget-view+json": {
       "model_id": "bbfbcc3265984493882fbcd19292f71c",
       "version_major": 2,
       "version_minor": 0
      },
      "text/plain": [
       "Epoch 14/100:   0%|          | 0/714 [00:00<?, ?it/s]"
      ]
     },
     "metadata": {},
     "output_type": "display_data"
    },
    {
     "name": "stdout",
     "output_type": "stream",
     "text": [
      "\u001b[2m2023-10-02 22:25:40\u001b[0m [\u001b[32m\u001b[1minfo     \u001b[0m] \u001b[1mProbabilisticEnsembleDynamics_20231002222259: epoch=14 step=9996\u001b[0m \u001b[36mepoch\u001b[0m=\u001b[35m14\u001b[0m \u001b[36mmetrics\u001b[0m=\u001b[35m{'time_sample_batch': 0.00024149397842022552, 'time_algorithm_update': 0.013742535054182806, 'loss': -69.99471474829174, 'time_step': 0.014052857203977783, 'observation_error': 0.06344785228490325, 'reward_error': 9.35913412038971e-06, 'variance': 0.06392088539387143}\u001b[0m \u001b[36mstep\u001b[0m=\u001b[35m9996\u001b[0m\n",
      "\u001b[2m2023-10-02 22:25:40\u001b[0m [\u001b[32m\u001b[1minfo     \u001b[0m] \u001b[1mModel parameters are saved to d3rlpy_logs/ProbabilisticEnsembleDynamics_20231002222259/model_9996.pt\u001b[0m\n"
     ]
    },
    {
     "data": {
      "application/vnd.jupyter.widget-view+json": {
       "model_id": "f28bba6750c3404bb04638ffc9c9e91d",
       "version_major": 2,
       "version_minor": 0
      },
      "text/plain": [
       "Epoch 15/100:   0%|          | 0/714 [00:00<?, ?it/s]"
      ]
     },
     "metadata": {},
     "output_type": "display_data"
    },
    {
     "name": "stdout",
     "output_type": "stream",
     "text": [
      "\u001b[2m2023-10-02 22:25:50\u001b[0m [\u001b[32m\u001b[1minfo     \u001b[0m] \u001b[1mProbabilisticEnsembleDynamics_20231002222259: epoch=15 step=10710\u001b[0m \u001b[36mepoch\u001b[0m=\u001b[35m15\u001b[0m \u001b[36mmetrics\u001b[0m=\u001b[35m{'time_sample_batch': 0.00020959397323993073, 'time_algorithm_update': 0.012711158653601212, 'loss': -70.25496375327016, 'time_step': 0.012981552703707827, 'observation_error': 0.05642401838048873, 'reward_error': 6.984673901789045e-06, 'variance': 0.06370719545822343}\u001b[0m \u001b[36mstep\u001b[0m=\u001b[35m10710\u001b[0m\n",
      "\u001b[2m2023-10-02 22:25:50\u001b[0m [\u001b[32m\u001b[1minfo     \u001b[0m] \u001b[1mModel parameters are saved to d3rlpy_logs/ProbabilisticEnsembleDynamics_20231002222259/model_10710.pt\u001b[0m\n"
     ]
    },
    {
     "data": {
      "application/vnd.jupyter.widget-view+json": {
       "model_id": "ee891aab765342ddbce99e803d40632b",
       "version_major": 2,
       "version_minor": 0
      },
      "text/plain": [
       "Epoch 16/100:   0%|          | 0/714 [00:00<?, ?it/s]"
      ]
     },
     "metadata": {},
     "output_type": "display_data"
    },
    {
     "name": "stdout",
     "output_type": "stream",
     "text": [
      "\u001b[2m2023-10-02 22:26:01\u001b[0m [\u001b[32m\u001b[1minfo     \u001b[0m] \u001b[1mProbabilisticEnsembleDynamics_20231002222259: epoch=16 step=11424\u001b[0m \u001b[36mepoch\u001b[0m=\u001b[35m16\u001b[0m \u001b[36mmetrics\u001b[0m=\u001b[35m{'time_sample_batch': 0.00021456536792573475, 'time_algorithm_update': 0.012861284555173387, 'loss': -70.89738780644093, 'time_step': 0.013133511823766372, 'observation_error': 0.06578527273545665, 'reward_error': 6.6846407316780685e-06, 'variance': 0.06442262852827844}\u001b[0m \u001b[36mstep\u001b[0m=\u001b[35m11424\u001b[0m\n",
      "\u001b[2m2023-10-02 22:26:01\u001b[0m [\u001b[32m\u001b[1minfo     \u001b[0m] \u001b[1mModel parameters are saved to d3rlpy_logs/ProbabilisticEnsembleDynamics_20231002222259/model_11424.pt\u001b[0m\n"
     ]
    },
    {
     "data": {
      "application/vnd.jupyter.widget-view+json": {
       "model_id": "6822ca8cbdcb49a4857d8a2a06cdd400",
       "version_major": 2,
       "version_minor": 0
      },
      "text/plain": [
       "Epoch 17/100:   0%|          | 0/714 [00:00<?, ?it/s]"
      ]
     },
     "metadata": {},
     "output_type": "display_data"
    },
    {
     "name": "stdout",
     "output_type": "stream",
     "text": [
      "\u001b[2m2023-10-02 22:26:12\u001b[0m [\u001b[32m\u001b[1minfo     \u001b[0m] \u001b[1mProbabilisticEnsembleDynamics_20231002222259: epoch=17 step=12138\u001b[0m \u001b[36mepoch\u001b[0m=\u001b[35m17\u001b[0m \u001b[36mmetrics\u001b[0m=\u001b[35m{'time_sample_batch': 0.0002104828671580937, 'time_algorithm_update': 0.012809847917209486, 'loss': -71.88973435634324, 'time_step': 0.0130779759890559, 'observation_error': 0.05730784660952471, 'reward_error': 9.178654561845568e-06, 'variance': 0.06266556283118244}\u001b[0m \u001b[36mstep\u001b[0m=\u001b[35m12138\u001b[0m\n",
      "\u001b[2m2023-10-02 22:26:12\u001b[0m [\u001b[32m\u001b[1minfo     \u001b[0m] \u001b[1mModel parameters are saved to d3rlpy_logs/ProbabilisticEnsembleDynamics_20231002222259/model_12138.pt\u001b[0m\n"
     ]
    },
    {
     "data": {
      "application/vnd.jupyter.widget-view+json": {
       "model_id": "b0d79d37cf6e4f8ea211b035a6a026cc",
       "version_major": 2,
       "version_minor": 0
      },
      "text/plain": [
       "Epoch 18/100:   0%|          | 0/714 [00:00<?, ?it/s]"
      ]
     },
     "metadata": {},
     "output_type": "display_data"
    },
    {
     "name": "stdout",
     "output_type": "stream",
     "text": [
      "\u001b[2m2023-10-02 22:26:22\u001b[0m [\u001b[32m\u001b[1minfo     \u001b[0m] \u001b[1mProbabilisticEnsembleDynamics_20231002222259: epoch=18 step=12852\u001b[0m \u001b[36mepoch\u001b[0m=\u001b[35m18\u001b[0m \u001b[36mmetrics\u001b[0m=\u001b[35m{'time_sample_batch': 0.0002096120048971737, 'time_algorithm_update': 0.012653088369289366, 'loss': -71.62678347782594, 'time_step': 0.012920059075876445, 'observation_error': 0.05659273919399349, 'reward_error': 5.4656252942030426e-06, 'variance': 0.057412669811357536}\u001b[0m \u001b[36mstep\u001b[0m=\u001b[35m12852\u001b[0m\n",
      "\u001b[2m2023-10-02 22:26:22\u001b[0m [\u001b[32m\u001b[1minfo     \u001b[0m] \u001b[1mModel parameters are saved to d3rlpy_logs/ProbabilisticEnsembleDynamics_20231002222259/model_12852.pt\u001b[0m\n"
     ]
    },
    {
     "data": {
      "application/vnd.jupyter.widget-view+json": {
       "model_id": "71204b1c20274758a72b818e79de7167",
       "version_major": 2,
       "version_minor": 0
      },
      "text/plain": [
       "Epoch 19/100:   0%|          | 0/714 [00:00<?, ?it/s]"
      ]
     },
     "metadata": {},
     "output_type": "display_data"
    },
    {
     "name": "stdout",
     "output_type": "stream",
     "text": [
      "\u001b[2m2023-10-02 22:26:32\u001b[0m [\u001b[32m\u001b[1minfo     \u001b[0m] \u001b[1mProbabilisticEnsembleDynamics_20231002222259: epoch=19 step=13566\u001b[0m \u001b[36mepoch\u001b[0m=\u001b[35m19\u001b[0m \u001b[36mmetrics\u001b[0m=\u001b[35m{'time_sample_batch': 0.00020940363908014377, 'time_algorithm_update': 0.01268240149949445, 'loss': -72.62280757086617, 'time_step': 0.012949388902060458, 'observation_error': 0.05172964054321117, 'reward_error': 4.940022687630355e-06, 'variance': 0.05583630238326449}\u001b[0m \u001b[36mstep\u001b[0m=\u001b[35m13566\u001b[0m\n",
      "\u001b[2m2023-10-02 22:26:32\u001b[0m [\u001b[32m\u001b[1minfo     \u001b[0m] \u001b[1mModel parameters are saved to d3rlpy_logs/ProbabilisticEnsembleDynamics_20231002222259/model_13566.pt\u001b[0m\n"
     ]
    },
    {
     "data": {
      "application/vnd.jupyter.widget-view+json": {
       "model_id": "60759ded4c0c4eb3b0f83110446099a3",
       "version_major": 2,
       "version_minor": 0
      },
      "text/plain": [
       "Epoch 20/100:   0%|          | 0/714 [00:00<?, ?it/s]"
      ]
     },
     "metadata": {},
     "output_type": "display_data"
    },
    {
     "name": "stdout",
     "output_type": "stream",
     "text": [
      "\u001b[2m2023-10-02 22:26:43\u001b[0m [\u001b[32m\u001b[1minfo     \u001b[0m] \u001b[1mProbabilisticEnsembleDynamics_20231002222259: epoch=20 step=14280\u001b[0m \u001b[36mepoch\u001b[0m=\u001b[35m20\u001b[0m \u001b[36mmetrics\u001b[0m=\u001b[35m{'time_sample_batch': 0.00020826497331720775, 'time_algorithm_update': 0.012693509000356124, 'loss': -71.83611405897541, 'time_step': 0.01296033278232863, 'observation_error': 0.05436027532071496, 'reward_error': 4.566444963338718e-06, 'variance': 0.05624595285255628}\u001b[0m \u001b[36mstep\u001b[0m=\u001b[35m14280\u001b[0m\n",
      "\u001b[2m2023-10-02 22:26:43\u001b[0m [\u001b[32m\u001b[1minfo     \u001b[0m] \u001b[1mModel parameters are saved to d3rlpy_logs/ProbabilisticEnsembleDynamics_20231002222259/model_14280.pt\u001b[0m\n"
     ]
    },
    {
     "data": {
      "application/vnd.jupyter.widget-view+json": {
       "model_id": "811c32567e0f4e50b10d8d41ed79e327",
       "version_major": 2,
       "version_minor": 0
      },
      "text/plain": [
       "Epoch 21/100:   0%|          | 0/714 [00:00<?, ?it/s]"
      ]
     },
     "metadata": {},
     "output_type": "display_data"
    },
    {
     "name": "stdout",
     "output_type": "stream",
     "text": [
      "\u001b[2m2023-10-02 22:26:53\u001b[0m [\u001b[32m\u001b[1minfo     \u001b[0m] \u001b[1mProbabilisticEnsembleDynamics_20231002222259: epoch=21 step=14994\u001b[0m \u001b[36mepoch\u001b[0m=\u001b[35m21\u001b[0m \u001b[36mmetrics\u001b[0m=\u001b[35m{'time_sample_batch': 0.00021688176804229994, 'time_algorithm_update': 0.01265534900483631, 'loss': -72.54794442687049, 'time_step': 0.012932838178148456, 'observation_error': 0.07216766820731897, 'reward_error': 3.347218619784227e-06, 'variance': 0.053684707389414214}\u001b[0m \u001b[36mstep\u001b[0m=\u001b[35m14994\u001b[0m\n",
      "\u001b[2m2023-10-02 22:26:53\u001b[0m [\u001b[32m\u001b[1minfo     \u001b[0m] \u001b[1mModel parameters are saved to d3rlpy_logs/ProbabilisticEnsembleDynamics_20231002222259/model_14994.pt\u001b[0m\n"
     ]
    },
    {
     "data": {
      "application/vnd.jupyter.widget-view+json": {
       "model_id": "27664e8a87fe4e8bbe37e2fba9792feb",
       "version_major": 2,
       "version_minor": 0
      },
      "text/plain": [
       "Epoch 22/100:   0%|          | 0/714 [00:00<?, ?it/s]"
      ]
     },
     "metadata": {},
     "output_type": "display_data"
    },
    {
     "name": "stdout",
     "output_type": "stream",
     "text": [
      "\u001b[2m2023-10-02 22:27:04\u001b[0m [\u001b[32m\u001b[1minfo     \u001b[0m] \u001b[1mProbabilisticEnsembleDynamics_20231002222259: epoch=22 step=15708\u001b[0m \u001b[36mepoch\u001b[0m=\u001b[35m22\u001b[0m \u001b[36mmetrics\u001b[0m=\u001b[35m{'time_sample_batch': 0.00020771333817340412, 'time_algorithm_update': 0.012709518440631257, 'loss': -73.01669137350986, 'time_step': 0.012975593240989023, 'observation_error': 0.04207075670645406, 'reward_error': 4.677860273266169e-06, 'variance': 0.05027390429119988}\u001b[0m \u001b[36mstep\u001b[0m=\u001b[35m15708\u001b[0m\n",
      "\u001b[2m2023-10-02 22:27:04\u001b[0m [\u001b[32m\u001b[1minfo     \u001b[0m] \u001b[1mModel parameters are saved to d3rlpy_logs/ProbabilisticEnsembleDynamics_20231002222259/model_15708.pt\u001b[0m\n"
     ]
    },
    {
     "data": {
      "application/vnd.jupyter.widget-view+json": {
       "model_id": "3522117cad024fd0b6247c2dad40824a",
       "version_major": 2,
       "version_minor": 0
      },
      "text/plain": [
       "Epoch 23/100:   0%|          | 0/714 [00:00<?, ?it/s]"
      ]
     },
     "metadata": {},
     "output_type": "display_data"
    },
    {
     "name": "stdout",
     "output_type": "stream",
     "text": [
      "\u001b[2m2023-10-02 22:27:14\u001b[0m [\u001b[32m\u001b[1minfo     \u001b[0m] \u001b[1mProbabilisticEnsembleDynamics_20231002222259: epoch=23 step=16422\u001b[0m \u001b[36mepoch\u001b[0m=\u001b[35m23\u001b[0m \u001b[36mmetrics\u001b[0m=\u001b[35m{'time_sample_batch': 0.00020497152451373615, 'time_algorithm_update': 0.01250641753359669, 'loss': -72.86099732823733, 'time_step': 0.012768355404295507, 'observation_error': 0.05577840073817622, 'reward_error': 1.380805915917473e-05, 'variance': 0.04833179138663863}\u001b[0m \u001b[36mstep\u001b[0m=\u001b[35m16422\u001b[0m\n",
      "\u001b[2m2023-10-02 22:27:14\u001b[0m [\u001b[32m\u001b[1minfo     \u001b[0m] \u001b[1mModel parameters are saved to d3rlpy_logs/ProbabilisticEnsembleDynamics_20231002222259/model_16422.pt\u001b[0m\n"
     ]
    },
    {
     "data": {
      "application/vnd.jupyter.widget-view+json": {
       "model_id": "3c80061ee72449a19b71412d8f9a850e",
       "version_major": 2,
       "version_minor": 0
      },
      "text/plain": [
       "Epoch 24/100:   0%|          | 0/714 [00:00<?, ?it/s]"
      ]
     },
     "metadata": {},
     "output_type": "display_data"
    },
    {
     "name": "stdout",
     "output_type": "stream",
     "text": [
      "\u001b[2m2023-10-02 22:27:25\u001b[0m [\u001b[32m\u001b[1minfo     \u001b[0m] \u001b[1mProbabilisticEnsembleDynamics_20231002222259: epoch=24 step=17136\u001b[0m \u001b[36mepoch\u001b[0m=\u001b[35m24\u001b[0m \u001b[36mmetrics\u001b[0m=\u001b[35m{'time_sample_batch': 0.0002100410915556408, 'time_algorithm_update': 0.012655253169917259, 'loss': -73.42476616186254, 'time_step': 0.012923092735247785, 'observation_error': 0.04432817791405846, 'reward_error': 4.183886123276214e-06, 'variance': 0.044301171110430616}\u001b[0m \u001b[36mstep\u001b[0m=\u001b[35m17136\u001b[0m\n",
      "\u001b[2m2023-10-02 22:27:25\u001b[0m [\u001b[32m\u001b[1minfo     \u001b[0m] \u001b[1mModel parameters are saved to d3rlpy_logs/ProbabilisticEnsembleDynamics_20231002222259/model_17136.pt\u001b[0m\n"
     ]
    },
    {
     "data": {
      "application/vnd.jupyter.widget-view+json": {
       "model_id": "6a0a0fdd53394fd1963b34cbf7812d48",
       "version_major": 2,
       "version_minor": 0
      },
      "text/plain": [
       "Epoch 25/100:   0%|          | 0/714 [00:00<?, ?it/s]"
      ]
     },
     "metadata": {},
     "output_type": "display_data"
    },
    {
     "name": "stdout",
     "output_type": "stream",
     "text": [
      "\u001b[2m2023-10-02 22:27:35\u001b[0m [\u001b[32m\u001b[1minfo     \u001b[0m] \u001b[1mProbabilisticEnsembleDynamics_20231002222259: epoch=25 step=17850\u001b[0m \u001b[36mepoch\u001b[0m=\u001b[35m25\u001b[0m \u001b[36mmetrics\u001b[0m=\u001b[35m{'time_sample_batch': 0.00020911012377057756, 'time_algorithm_update': 0.012727901715190471, 'loss': -73.08438565550732, 'time_step': 0.012994172526340858, 'observation_error': 0.04570917458754428, 'reward_error': 3.139773274985377e-06, 'variance': 0.046132570310336206}\u001b[0m \u001b[36mstep\u001b[0m=\u001b[35m17850\u001b[0m\n",
      "\u001b[2m2023-10-02 22:27:35\u001b[0m [\u001b[32m\u001b[1minfo     \u001b[0m] \u001b[1mModel parameters are saved to d3rlpy_logs/ProbabilisticEnsembleDynamics_20231002222259/model_17850.pt\u001b[0m\n"
     ]
    },
    {
     "data": {
      "application/vnd.jupyter.widget-view+json": {
       "model_id": "298a3d05bda64e7d9792d607119cf076",
       "version_major": 2,
       "version_minor": 0
      },
      "text/plain": [
       "Epoch 26/100:   0%|          | 0/714 [00:00<?, ?it/s]"
      ]
     },
     "metadata": {},
     "output_type": "display_data"
    },
    {
     "name": "stdout",
     "output_type": "stream",
     "text": [
      "\u001b[2m2023-10-02 22:27:45\u001b[0m [\u001b[32m\u001b[1minfo     \u001b[0m] \u001b[1mProbabilisticEnsembleDynamics_20231002222259: epoch=26 step=18564\u001b[0m \u001b[36mepoch\u001b[0m=\u001b[35m26\u001b[0m \u001b[36mmetrics\u001b[0m=\u001b[35m{'time_sample_batch': 0.00021201555802374662, 'time_algorithm_update': 0.012664166485228124, 'loss': -73.8645676417845, 'time_step': 0.012935952979977391, 'observation_error': 0.04473080849556927, 'reward_error': 7.369742562091132e-06, 'variance': 0.039771116888567104}\u001b[0m \u001b[36mstep\u001b[0m=\u001b[35m18564\u001b[0m\n",
      "\u001b[2m2023-10-02 22:27:45\u001b[0m [\u001b[32m\u001b[1minfo     \u001b[0m] \u001b[1mModel parameters are saved to d3rlpy_logs/ProbabilisticEnsembleDynamics_20231002222259/model_18564.pt\u001b[0m\n"
     ]
    },
    {
     "data": {
      "application/vnd.jupyter.widget-view+json": {
       "model_id": "3d1ebf19469046ec9150c0874987b70b",
       "version_major": 2,
       "version_minor": 0
      },
      "text/plain": [
       "Epoch 27/100:   0%|          | 0/714 [00:00<?, ?it/s]"
      ]
     },
     "metadata": {},
     "output_type": "display_data"
    },
    {
     "name": "stdout",
     "output_type": "stream",
     "text": [
      "\u001b[2m2023-10-02 22:27:56\u001b[0m [\u001b[32m\u001b[1minfo     \u001b[0m] \u001b[1mProbabilisticEnsembleDynamics_20231002222259: epoch=27 step=19278\u001b[0m \u001b[36mepoch\u001b[0m=\u001b[35m27\u001b[0m \u001b[36mmetrics\u001b[0m=\u001b[35m{'time_sample_batch': 0.00021078573221585997, 'time_algorithm_update': 0.012823690553339255, 'loss': -74.20202216781487, 'time_step': 0.013094811546368426, 'observation_error': 0.043525581698058265, 'reward_error': 5.974793136824328e-06, 'variance': 0.038673362916976435}\u001b[0m \u001b[36mstep\u001b[0m=\u001b[35m19278\u001b[0m\n",
      "\u001b[2m2023-10-02 22:27:56\u001b[0m [\u001b[32m\u001b[1minfo     \u001b[0m] \u001b[1mModel parameters are saved to d3rlpy_logs/ProbabilisticEnsembleDynamics_20231002222259/model_19278.pt\u001b[0m\n"
     ]
    },
    {
     "data": {
      "application/vnd.jupyter.widget-view+json": {
       "model_id": "5c025c1907ab4cf5abfd7dfd06a11924",
       "version_major": 2,
       "version_minor": 0
      },
      "text/plain": [
       "Epoch 28/100:   0%|          | 0/714 [00:00<?, ?it/s]"
      ]
     },
     "metadata": {},
     "output_type": "display_data"
    },
    {
     "name": "stdout",
     "output_type": "stream",
     "text": [
      "\u001b[2m2023-10-02 22:28:07\u001b[0m [\u001b[32m\u001b[1minfo     \u001b[0m] \u001b[1mProbabilisticEnsembleDynamics_20231002222259: epoch=28 step=19992\u001b[0m \u001b[36mepoch\u001b[0m=\u001b[35m28\u001b[0m \u001b[36mmetrics\u001b[0m=\u001b[35m{'time_sample_batch': 0.0002201181165978354, 'time_algorithm_update': 0.013259668310149377, 'loss': -73.38331200896191, 'time_step': 0.013542997736890777, 'observation_error': 0.042932621106234393, 'reward_error': 4.252893206210523e-06, 'variance': 0.03743072448138106}\u001b[0m \u001b[36mstep\u001b[0m=\u001b[35m19992\u001b[0m\n",
      "\u001b[2m2023-10-02 22:28:07\u001b[0m [\u001b[32m\u001b[1minfo     \u001b[0m] \u001b[1mModel parameters are saved to d3rlpy_logs/ProbabilisticEnsembleDynamics_20231002222259/model_19992.pt\u001b[0m\n"
     ]
    },
    {
     "data": {
      "application/vnd.jupyter.widget-view+json": {
       "model_id": "8e93b260debd49e9890cd1e175d1c302",
       "version_major": 2,
       "version_minor": 0
      },
      "text/plain": [
       "Epoch 29/100:   0%|          | 0/714 [00:00<?, ?it/s]"
      ]
     },
     "metadata": {},
     "output_type": "display_data"
    },
    {
     "name": "stdout",
     "output_type": "stream",
     "text": [
      "\u001b[2m2023-10-02 22:28:18\u001b[0m [\u001b[32m\u001b[1minfo     \u001b[0m] \u001b[1mProbabilisticEnsembleDynamics_20231002222259: epoch=29 step=20706\u001b[0m \u001b[36mepoch\u001b[0m=\u001b[35m29\u001b[0m \u001b[36mmetrics\u001b[0m=\u001b[35m{'time_sample_batch': 0.0002252581406708191, 'time_algorithm_update': 0.01312824257281648, 'loss': -74.03008449378135, 'time_step': 0.013417172832649295, 'observation_error': 0.03908303210839605, 'reward_error': 3.047159328326928e-06, 'variance': 0.034422375926389075}\u001b[0m \u001b[36mstep\u001b[0m=\u001b[35m20706\u001b[0m\n",
      "\u001b[2m2023-10-02 22:28:18\u001b[0m [\u001b[32m\u001b[1minfo     \u001b[0m] \u001b[1mModel parameters are saved to d3rlpy_logs/ProbabilisticEnsembleDynamics_20231002222259/model_20706.pt\u001b[0m\n"
     ]
    },
    {
     "data": {
      "application/vnd.jupyter.widget-view+json": {
       "model_id": "afd3e4ca2c6a486b856b68dff00fb8c9",
       "version_major": 2,
       "version_minor": 0
      },
      "text/plain": [
       "Epoch 30/100:   0%|          | 0/714 [00:00<?, ?it/s]"
      ]
     },
     "metadata": {},
     "output_type": "display_data"
    },
    {
     "name": "stdout",
     "output_type": "stream",
     "text": [
      "\u001b[2m2023-10-02 22:28:29\u001b[0m [\u001b[32m\u001b[1minfo     \u001b[0m] \u001b[1mProbabilisticEnsembleDynamics_20231002222259: epoch=30 step=21420\u001b[0m \u001b[36mepoch\u001b[0m=\u001b[35m30\u001b[0m \u001b[36mmetrics\u001b[0m=\u001b[35m{'time_sample_batch': 0.0002247165231143727, 'time_algorithm_update': 0.013235582690946861, 'loss': -74.17644306524795, 'time_step': 0.013521122999217998, 'observation_error': 0.03220287160832033, 'reward_error': 3.6923077420847166e-06, 'variance': 0.03318161652954844}\u001b[0m \u001b[36mstep\u001b[0m=\u001b[35m21420\u001b[0m\n",
      "\u001b[2m2023-10-02 22:28:29\u001b[0m [\u001b[32m\u001b[1minfo     \u001b[0m] \u001b[1mModel parameters are saved to d3rlpy_logs/ProbabilisticEnsembleDynamics_20231002222259/model_21420.pt\u001b[0m\n"
     ]
    },
    {
     "data": {
      "application/vnd.jupyter.widget-view+json": {
       "model_id": "7eb3de8098b74332a39ac3f5463c8a12",
       "version_major": 2,
       "version_minor": 0
      },
      "text/plain": [
       "Epoch 31/100:   0%|          | 0/714 [00:00<?, ?it/s]"
      ]
     },
     "metadata": {},
     "output_type": "display_data"
    },
    {
     "name": "stdout",
     "output_type": "stream",
     "text": [
      "\u001b[2m2023-10-02 22:28:39\u001b[0m [\u001b[32m\u001b[1minfo     \u001b[0m] \u001b[1mProbabilisticEnsembleDynamics_20231002222259: epoch=31 step=22134\u001b[0m \u001b[36mepoch\u001b[0m=\u001b[35m31\u001b[0m \u001b[36mmetrics\u001b[0m=\u001b[35m{'time_sample_batch': 0.0002102501252118279, 'time_algorithm_update': 0.012683356175569593, 'loss': -74.38382821924546, 'time_step': 0.012953463388758213, 'observation_error': 0.0375818353783818, 'reward_error': 3.865772627367388e-06, 'variance': 0.031165474669921988}\u001b[0m \u001b[36mstep\u001b[0m=\u001b[35m22134\u001b[0m\n",
      "\u001b[2m2023-10-02 22:28:39\u001b[0m [\u001b[32m\u001b[1minfo     \u001b[0m] \u001b[1mModel parameters are saved to d3rlpy_logs/ProbabilisticEnsembleDynamics_20231002222259/model_22134.pt\u001b[0m\n"
     ]
    },
    {
     "data": {
      "application/vnd.jupyter.widget-view+json": {
       "model_id": "05dd053319654c5380e7787fa07c9fcc",
       "version_major": 2,
       "version_minor": 0
      },
      "text/plain": [
       "Epoch 32/100:   0%|          | 0/714 [00:00<?, ?it/s]"
      ]
     },
     "metadata": {},
     "output_type": "display_data"
    },
    {
     "name": "stdout",
     "output_type": "stream",
     "text": [
      "\u001b[2m2023-10-02 22:28:50\u001b[0m [\u001b[32m\u001b[1minfo     \u001b[0m] \u001b[1mProbabilisticEnsembleDynamics_20231002222259: epoch=32 step=22848\u001b[0m \u001b[36mepoch\u001b[0m=\u001b[35m32\u001b[0m \u001b[36mmetrics\u001b[0m=\u001b[35m{'time_sample_batch': 0.0002117801447208522, 'time_algorithm_update': 0.01257630890490962, 'loss': -74.83037492207119, 'time_step': 0.012847145732377423, 'observation_error': 0.02899070582331189, 'reward_error': 3.4797896653455443e-06, 'variance': 0.028024381981408827}\u001b[0m \u001b[36mstep\u001b[0m=\u001b[35m22848\u001b[0m\n",
      "\u001b[2m2023-10-02 22:28:50\u001b[0m [\u001b[32m\u001b[1minfo     \u001b[0m] \u001b[1mModel parameters are saved to d3rlpy_logs/ProbabilisticEnsembleDynamics_20231002222259/model_22848.pt\u001b[0m\n"
     ]
    },
    {
     "data": {
      "application/vnd.jupyter.widget-view+json": {
       "model_id": "9f72408bc199471f85877bbe56ece541",
       "version_major": 2,
       "version_minor": 0
      },
      "text/plain": [
       "Epoch 33/100:   0%|          | 0/714 [00:00<?, ?it/s]"
      ]
     },
     "metadata": {},
     "output_type": "display_data"
    },
    {
     "name": "stdout",
     "output_type": "stream",
     "text": [
      "\u001b[2m2023-10-02 22:29:00\u001b[0m [\u001b[32m\u001b[1minfo     \u001b[0m] \u001b[1mProbabilisticEnsembleDynamics_20231002222259: epoch=33 step=23562\u001b[0m \u001b[36mepoch\u001b[0m=\u001b[35m33\u001b[0m \u001b[36mmetrics\u001b[0m=\u001b[35m{'time_sample_batch': 0.00021254916151030724, 'time_algorithm_update': 0.012674392438402363, 'loss': -74.61396298555432, 'time_step': 0.012945574538714411, 'observation_error': 0.033828068150421484, 'reward_error': 4.68089784524787e-06, 'variance': 0.028284736416125892}\u001b[0m \u001b[36mstep\u001b[0m=\u001b[35m23562\u001b[0m\n",
      "\u001b[2m2023-10-02 22:29:00\u001b[0m [\u001b[32m\u001b[1minfo     \u001b[0m] \u001b[1mModel parameters are saved to d3rlpy_logs/ProbabilisticEnsembleDynamics_20231002222259/model_23562.pt\u001b[0m\n"
     ]
    },
    {
     "data": {
      "application/vnd.jupyter.widget-view+json": {
       "model_id": "9c20535662834f15a543308c02fdc720",
       "version_major": 2,
       "version_minor": 0
      },
      "text/plain": [
       "Epoch 34/100:   0%|          | 0/714 [00:00<?, ?it/s]"
      ]
     },
     "metadata": {},
     "output_type": "display_data"
    },
    {
     "name": "stdout",
     "output_type": "stream",
     "text": [
      "\u001b[2m2023-10-02 22:29:10\u001b[0m [\u001b[32m\u001b[1minfo     \u001b[0m] \u001b[1mProbabilisticEnsembleDynamics_20231002222259: epoch=34 step=24276\u001b[0m \u001b[36mepoch\u001b[0m=\u001b[35m34\u001b[0m \u001b[36mmetrics\u001b[0m=\u001b[35m{'time_sample_batch': 0.0002052850749980168, 'time_algorithm_update': 0.012537131122514313, 'loss': -74.35198788415818, 'time_step': 0.012799604934136741, 'observation_error': 0.03544646295643527, 'reward_error': 4.0215122159925095e-06, 'variance': 0.02767280293369434}\u001b[0m \u001b[36mstep\u001b[0m=\u001b[35m24276\u001b[0m\n",
      "\u001b[2m2023-10-02 22:29:10\u001b[0m [\u001b[32m\u001b[1minfo     \u001b[0m] \u001b[1mModel parameters are saved to d3rlpy_logs/ProbabilisticEnsembleDynamics_20231002222259/model_24276.pt\u001b[0m\n"
     ]
    },
    {
     "data": {
      "application/vnd.jupyter.widget-view+json": {
       "model_id": "213f61640d984092a151cd16096d31d0",
       "version_major": 2,
       "version_minor": 0
      },
      "text/plain": [
       "Epoch 35/100:   0%|          | 0/714 [00:00<?, ?it/s]"
      ]
     },
     "metadata": {},
     "output_type": "display_data"
    },
    {
     "name": "stdout",
     "output_type": "stream",
     "text": [
      "\u001b[2m2023-10-02 22:29:21\u001b[0m [\u001b[32m\u001b[1minfo     \u001b[0m] \u001b[1mProbabilisticEnsembleDynamics_20231002222259: epoch=35 step=24990\u001b[0m \u001b[36mepoch\u001b[0m=\u001b[35m35\u001b[0m \u001b[36mmetrics\u001b[0m=\u001b[35m{'time_sample_batch': 0.00020601235184015013, 'time_algorithm_update': 0.012541307788603111, 'loss': -74.14135150081303, 'time_step': 0.012805121953413934, 'observation_error': 0.03037058852464748, 'reward_error': 3.803332967177089e-06, 'variance': 0.025788127765532846}\u001b[0m \u001b[36mstep\u001b[0m=\u001b[35m24990\u001b[0m\n",
      "\u001b[2m2023-10-02 22:29:21\u001b[0m [\u001b[32m\u001b[1minfo     \u001b[0m] \u001b[1mModel parameters are saved to d3rlpy_logs/ProbabilisticEnsembleDynamics_20231002222259/model_24990.pt\u001b[0m\n"
     ]
    },
    {
     "data": {
      "application/vnd.jupyter.widget-view+json": {
       "model_id": "cbe2a2f265304b5fb7baa32044f4c2a0",
       "version_major": 2,
       "version_minor": 0
      },
      "text/plain": [
       "Epoch 36/100:   0%|          | 0/714 [00:00<?, ?it/s]"
      ]
     },
     "metadata": {},
     "output_type": "display_data"
    },
    {
     "name": "stdout",
     "output_type": "stream",
     "text": [
      "\u001b[2m2023-10-02 22:29:31\u001b[0m [\u001b[32m\u001b[1minfo     \u001b[0m] \u001b[1mProbabilisticEnsembleDynamics_20231002222259: epoch=36 step=25704\u001b[0m \u001b[36mepoch\u001b[0m=\u001b[35m36\u001b[0m \u001b[36mmetrics\u001b[0m=\u001b[35m{'time_sample_batch': 0.0002093765915942793, 'time_algorithm_update': 0.012708027823632504, 'loss': -74.23843237532287, 'time_step': 0.012975674049527037, 'observation_error': 0.02960927464163719, 'reward_error': 3.206950143474435e-06, 'variance': 0.02544837929628626}\u001b[0m \u001b[36mstep\u001b[0m=\u001b[35m25704\u001b[0m\n",
      "\u001b[2m2023-10-02 22:29:31\u001b[0m [\u001b[32m\u001b[1minfo     \u001b[0m] \u001b[1mModel parameters are saved to d3rlpy_logs/ProbabilisticEnsembleDynamics_20231002222259/model_25704.pt\u001b[0m\n"
     ]
    },
    {
     "data": {
      "application/vnd.jupyter.widget-view+json": {
       "model_id": "5f5eb9315f9549d1bbaa855bd965e28f",
       "version_major": 2,
       "version_minor": 0
      },
      "text/plain": [
       "Epoch 37/100:   0%|          | 0/714 [00:00<?, ?it/s]"
      ]
     },
     "metadata": {},
     "output_type": "display_data"
    },
    {
     "name": "stdout",
     "output_type": "stream",
     "text": [
      "\u001b[2m2023-10-02 22:29:42\u001b[0m [\u001b[32m\u001b[1minfo     \u001b[0m] \u001b[1mProbabilisticEnsembleDynamics_20231002222259: epoch=37 step=26418\u001b[0m \u001b[36mepoch\u001b[0m=\u001b[35m37\u001b[0m \u001b[36mmetrics\u001b[0m=\u001b[35m{'time_sample_batch': 0.00021032191792122123, 'time_algorithm_update': 0.012627181218785732, 'loss': -75.21406593376182, 'time_step': 0.012893692452032693, 'observation_error': 0.028335302808498917, 'reward_error': 7.992184561583544e-06, 'variance': 0.022328075526294275}\u001b[0m \u001b[36mstep\u001b[0m=\u001b[35m26418\u001b[0m\n",
      "\u001b[2m2023-10-02 22:29:42\u001b[0m [\u001b[32m\u001b[1minfo     \u001b[0m] \u001b[1mModel parameters are saved to d3rlpy_logs/ProbabilisticEnsembleDynamics_20231002222259/model_26418.pt\u001b[0m\n"
     ]
    },
    {
     "data": {
      "application/vnd.jupyter.widget-view+json": {
       "model_id": "a0e601e6c0fa4f63aeed948721793286",
       "version_major": 2,
       "version_minor": 0
      },
      "text/plain": [
       "Epoch 38/100:   0%|          | 0/714 [00:00<?, ?it/s]"
      ]
     },
     "metadata": {},
     "output_type": "display_data"
    },
    {
     "name": "stdout",
     "output_type": "stream",
     "text": [
      "\u001b[2m2023-10-02 22:29:52\u001b[0m [\u001b[32m\u001b[1minfo     \u001b[0m] \u001b[1mProbabilisticEnsembleDynamics_20231002222259: epoch=38 step=27132\u001b[0m \u001b[36mepoch\u001b[0m=\u001b[35m38\u001b[0m \u001b[36mmetrics\u001b[0m=\u001b[35m{'time_sample_batch': 0.00020493746471672165, 'time_algorithm_update': 0.012534934933446035, 'loss': -76.04307691055854, 'time_step': 0.012795337775842148, 'observation_error': 0.025575839772150537, 'reward_error': 5.671173577952069e-06, 'variance': 0.021192147740924667}\u001b[0m \u001b[36mstep\u001b[0m=\u001b[35m27132\u001b[0m\n",
      "\u001b[2m2023-10-02 22:29:52\u001b[0m [\u001b[32m\u001b[1minfo     \u001b[0m] \u001b[1mModel parameters are saved to d3rlpy_logs/ProbabilisticEnsembleDynamics_20231002222259/model_27132.pt\u001b[0m\n"
     ]
    },
    {
     "data": {
      "application/vnd.jupyter.widget-view+json": {
       "model_id": "e44bb3fd68644b469ab243b5905432d1",
       "version_major": 2,
       "version_minor": 0
      },
      "text/plain": [
       "Epoch 39/100:   0%|          | 0/714 [00:00<?, ?it/s]"
      ]
     },
     "metadata": {},
     "output_type": "display_data"
    },
    {
     "name": "stdout",
     "output_type": "stream",
     "text": [
      "\u001b[2m2023-10-02 22:30:02\u001b[0m [\u001b[32m\u001b[1minfo     \u001b[0m] \u001b[1mProbabilisticEnsembleDynamics_20231002222259: epoch=39 step=27846\u001b[0m \u001b[36mepoch\u001b[0m=\u001b[35m39\u001b[0m \u001b[36mmetrics\u001b[0m=\u001b[35m{'time_sample_batch': 0.00020744453291265236, 'time_algorithm_update': 0.012602785388294723, 'loss': -75.08931980881036, 'time_step': 0.012868549643444414, 'observation_error': 0.027015750719736775, 'reward_error': 4.165066283304686e-06, 'variance': 0.019992082948958687}\u001b[0m \u001b[36mstep\u001b[0m=\u001b[35m27846\u001b[0m\n",
      "\u001b[2m2023-10-02 22:30:02\u001b[0m [\u001b[32m\u001b[1minfo     \u001b[0m] \u001b[1mModel parameters are saved to d3rlpy_logs/ProbabilisticEnsembleDynamics_20231002222259/model_27846.pt\u001b[0m\n"
     ]
    },
    {
     "data": {
      "application/vnd.jupyter.widget-view+json": {
       "model_id": "87cd4e66e655463a9c0b37e1543a5a01",
       "version_major": 2,
       "version_minor": 0
      },
      "text/plain": [
       "Epoch 40/100:   0%|          | 0/714 [00:00<?, ?it/s]"
      ]
     },
     "metadata": {},
     "output_type": "display_data"
    },
    {
     "name": "stdout",
     "output_type": "stream",
     "text": [
      "\u001b[2m2023-10-02 22:30:13\u001b[0m [\u001b[32m\u001b[1minfo     \u001b[0m] \u001b[1mProbabilisticEnsembleDynamics_20231002222259: epoch=40 step=28560\u001b[0m \u001b[36mepoch\u001b[0m=\u001b[35m40\u001b[0m \u001b[36mmetrics\u001b[0m=\u001b[35m{'time_sample_batch': 0.0002060086787247858, 'time_algorithm_update': 0.012561421100498916, 'loss': -74.51844748061578, 'time_step': 0.012825422594193317, 'observation_error': 0.03197357665077833, 'reward_error': 4.21599624178466e-06, 'variance': 0.021750754965349124}\u001b[0m \u001b[36mstep\u001b[0m=\u001b[35m28560\u001b[0m\n",
      "\u001b[2m2023-10-02 22:30:13\u001b[0m [\u001b[32m\u001b[1minfo     \u001b[0m] \u001b[1mModel parameters are saved to d3rlpy_logs/ProbabilisticEnsembleDynamics_20231002222259/model_28560.pt\u001b[0m\n"
     ]
    },
    {
     "data": {
      "application/vnd.jupyter.widget-view+json": {
       "model_id": "fff91c5050984255a73afe43667d5b8f",
       "version_major": 2,
       "version_minor": 0
      },
      "text/plain": [
       "Epoch 41/100:   0%|          | 0/714 [00:00<?, ?it/s]"
      ]
     },
     "metadata": {},
     "output_type": "display_data"
    },
    {
     "name": "stdout",
     "output_type": "stream",
     "text": [
      "\u001b[2m2023-10-02 22:30:23\u001b[0m [\u001b[32m\u001b[1minfo     \u001b[0m] \u001b[1mProbabilisticEnsembleDynamics_20231002222259: epoch=41 step=29274\u001b[0m \u001b[36mepoch\u001b[0m=\u001b[35m41\u001b[0m \u001b[36mmetrics\u001b[0m=\u001b[35m{'time_sample_batch': 0.0002051014192298013, 'time_algorithm_update': 0.012619658344600047, 'loss': -75.55874830668046, 'time_step': 0.012882692807194899, 'observation_error': 0.02691282426322183, 'reward_error': 3.2627310137935715e-06, 'variance': 0.019620717338635584}\u001b[0m \u001b[36mstep\u001b[0m=\u001b[35m29274\u001b[0m\n",
      "\u001b[2m2023-10-02 22:30:23\u001b[0m [\u001b[32m\u001b[1minfo     \u001b[0m] \u001b[1mModel parameters are saved to d3rlpy_logs/ProbabilisticEnsembleDynamics_20231002222259/model_29274.pt\u001b[0m\n"
     ]
    },
    {
     "data": {
      "application/vnd.jupyter.widget-view+json": {
       "model_id": "3809095b561e4f468f59b5284d6327d7",
       "version_major": 2,
       "version_minor": 0
      },
      "text/plain": [
       "Epoch 42/100:   0%|          | 0/714 [00:00<?, ?it/s]"
      ]
     },
     "metadata": {},
     "output_type": "display_data"
    },
    {
     "name": "stdout",
     "output_type": "stream",
     "text": [
      "\u001b[2m2023-10-02 22:30:34\u001b[0m [\u001b[32m\u001b[1minfo     \u001b[0m] \u001b[1mProbabilisticEnsembleDynamics_20231002222259: epoch=42 step=29988\u001b[0m \u001b[36mepoch\u001b[0m=\u001b[35m42\u001b[0m \u001b[36mmetrics\u001b[0m=\u001b[35m{'time_sample_batch': 0.00020344217284386899, 'time_algorithm_update': 0.012666395064495524, 'loss': -76.39945732779195, 'time_step': 0.012926473670980843, 'observation_error': 0.024651245353676948, 'reward_error': 3.176688113332456e-06, 'variance': 0.018344677159082404}\u001b[0m \u001b[36mstep\u001b[0m=\u001b[35m29988\u001b[0m\n",
      "\u001b[2m2023-10-02 22:30:34\u001b[0m [\u001b[32m\u001b[1minfo     \u001b[0m] \u001b[1mModel parameters are saved to d3rlpy_logs/ProbabilisticEnsembleDynamics_20231002222259/model_29988.pt\u001b[0m\n"
     ]
    },
    {
     "data": {
      "application/vnd.jupyter.widget-view+json": {
       "model_id": "c132ef13942549fc8fe68e45d909f811",
       "version_major": 2,
       "version_minor": 0
      },
      "text/plain": [
       "Epoch 43/100:   0%|          | 0/714 [00:00<?, ?it/s]"
      ]
     },
     "metadata": {},
     "output_type": "display_data"
    },
    {
     "name": "stdout",
     "output_type": "stream",
     "text": [
      "\u001b[2m2023-10-02 22:30:44\u001b[0m [\u001b[32m\u001b[1minfo     \u001b[0m] \u001b[1mProbabilisticEnsembleDynamics_20231002222259: epoch=43 step=30702\u001b[0m \u001b[36mepoch\u001b[0m=\u001b[35m43\u001b[0m \u001b[36mmetrics\u001b[0m=\u001b[35m{'time_sample_batch': 0.000217723579299884, 'time_algorithm_update': 0.012691296449228496, 'loss': -75.70180119586593, 'time_step': 0.012967859997468837, 'observation_error': 0.025742280005340692, 'reward_error': 4.96143259941723e-06, 'variance': 0.01678306050676985}\u001b[0m \u001b[36mstep\u001b[0m=\u001b[35m30702\u001b[0m\n",
      "\u001b[2m2023-10-02 22:30:44\u001b[0m [\u001b[32m\u001b[1minfo     \u001b[0m] \u001b[1mModel parameters are saved to d3rlpy_logs/ProbabilisticEnsembleDynamics_20231002222259/model_30702.pt\u001b[0m\n"
     ]
    },
    {
     "data": {
      "application/vnd.jupyter.widget-view+json": {
       "model_id": "a93136edc9c144cc8bab9278a50e66a0",
       "version_major": 2,
       "version_minor": 0
      },
      "text/plain": [
       "Epoch 44/100:   0%|          | 0/714 [00:00<?, ?it/s]"
      ]
     },
     "metadata": {},
     "output_type": "display_data"
    },
    {
     "name": "stdout",
     "output_type": "stream",
     "text": [
      "\u001b[2m2023-10-02 22:30:55\u001b[0m [\u001b[32m\u001b[1minfo     \u001b[0m] \u001b[1mProbabilisticEnsembleDynamics_20231002222259: epoch=44 step=31416\u001b[0m \u001b[36mepoch\u001b[0m=\u001b[35m44\u001b[0m \u001b[36mmetrics\u001b[0m=\u001b[35m{'time_sample_batch': 0.00020886335720201167, 'time_algorithm_update': 0.012663588804357192, 'loss': -76.32146003199558, 'time_step': 0.012931125504629952, 'observation_error': 0.025549902457323834, 'reward_error': 3.3272262034794765e-06, 'variance': 0.017194981215062008}\u001b[0m \u001b[36mstep\u001b[0m=\u001b[35m31416\u001b[0m\n",
      "\u001b[2m2023-10-02 22:30:55\u001b[0m [\u001b[32m\u001b[1minfo     \u001b[0m] \u001b[1mModel parameters are saved to d3rlpy_logs/ProbabilisticEnsembleDynamics_20231002222259/model_31416.pt\u001b[0m\n"
     ]
    },
    {
     "data": {
      "application/vnd.jupyter.widget-view+json": {
       "model_id": "f80f84f12edf4b5baa7ebcd56496736f",
       "version_major": 2,
       "version_minor": 0
      },
      "text/plain": [
       "Epoch 45/100:   0%|          | 0/714 [00:00<?, ?it/s]"
      ]
     },
     "metadata": {},
     "output_type": "display_data"
    },
    {
     "name": "stdout",
     "output_type": "stream",
     "text": [
      "\u001b[2m2023-10-02 22:31:05\u001b[0m [\u001b[32m\u001b[1minfo     \u001b[0m] \u001b[1mProbabilisticEnsembleDynamics_20231002222259: epoch=45 step=32130\u001b[0m \u001b[36mepoch\u001b[0m=\u001b[35m45\u001b[0m \u001b[36mmetrics\u001b[0m=\u001b[35m{'time_sample_batch': 0.00020826564115636488, 'time_algorithm_update': 0.012645765179011668, 'loss': -73.57659317665741, 'time_step': 0.012913952020703912, 'observation_error': 0.02527511243371038, 'reward_error': 3.259623126246171e-06, 'variance': 0.017180339435559983}\u001b[0m \u001b[36mstep\u001b[0m=\u001b[35m32130\u001b[0m\n",
      "\u001b[2m2023-10-02 22:31:05\u001b[0m [\u001b[32m\u001b[1minfo     \u001b[0m] \u001b[1mModel parameters are saved to d3rlpy_logs/ProbabilisticEnsembleDynamics_20231002222259/model_32130.pt\u001b[0m\n"
     ]
    },
    {
     "data": {
      "application/vnd.jupyter.widget-view+json": {
       "model_id": "a031225771534c1f950455f843df59b9",
       "version_major": 2,
       "version_minor": 0
      },
      "text/plain": [
       "Epoch 46/100:   0%|          | 0/714 [00:00<?, ?it/s]"
      ]
     },
     "metadata": {},
     "output_type": "display_data"
    },
    {
     "name": "stdout",
     "output_type": "stream",
     "text": [
      "\u001b[2m2023-10-02 22:31:15\u001b[0m [\u001b[32m\u001b[1minfo     \u001b[0m] \u001b[1mProbabilisticEnsembleDynamics_20231002222259: epoch=46 step=32844\u001b[0m \u001b[36mepoch\u001b[0m=\u001b[35m46\u001b[0m \u001b[36mmetrics\u001b[0m=\u001b[35m{'time_sample_batch': 0.00020628316061837331, 'time_algorithm_update': 0.01268807846624978, 'loss': -76.06167580901074, 'time_step': 0.01295336588424127, 'observation_error': 0.02030031358784333, 'reward_error': 2.917573288735778e-06, 'variance': 0.015057967539543356}\u001b[0m \u001b[36mstep\u001b[0m=\u001b[35m32844\u001b[0m\n",
      "\u001b[2m2023-10-02 22:31:15\u001b[0m [\u001b[32m\u001b[1minfo     \u001b[0m] \u001b[1mModel parameters are saved to d3rlpy_logs/ProbabilisticEnsembleDynamics_20231002222259/model_32844.pt\u001b[0m\n"
     ]
    },
    {
     "data": {
      "application/vnd.jupyter.widget-view+json": {
       "model_id": "8fbae2bd301a4ce4a348b5d1b5302077",
       "version_major": 2,
       "version_minor": 0
      },
      "text/plain": [
       "Epoch 47/100:   0%|          | 0/714 [00:00<?, ?it/s]"
      ]
     },
     "metadata": {},
     "output_type": "display_data"
    },
    {
     "name": "stdout",
     "output_type": "stream",
     "text": [
      "\u001b[2m2023-10-02 22:31:26\u001b[0m [\u001b[32m\u001b[1minfo     \u001b[0m] \u001b[1mProbabilisticEnsembleDynamics_20231002222259: epoch=47 step=33558\u001b[0m \u001b[36mepoch\u001b[0m=\u001b[35m47\u001b[0m \u001b[36mmetrics\u001b[0m=\u001b[35m{'time_sample_batch': 0.00021043177746257193, 'time_algorithm_update': 0.012867269061860583, 'loss': -77.41248112098843, 'time_step': 0.01313702866476791, 'observation_error': 0.019927523886961514, 'reward_error': 3.146825548566436e-06, 'variance': 0.013982860239237857}\u001b[0m \u001b[36mstep\u001b[0m=\u001b[35m33558\u001b[0m\n",
      "\u001b[2m2023-10-02 22:31:26\u001b[0m [\u001b[32m\u001b[1minfo     \u001b[0m] \u001b[1mModel parameters are saved to d3rlpy_logs/ProbabilisticEnsembleDynamics_20231002222259/model_33558.pt\u001b[0m\n"
     ]
    },
    {
     "data": {
      "application/vnd.jupyter.widget-view+json": {
       "model_id": "28727a4474f245ca90691149e88ccde9",
       "version_major": 2,
       "version_minor": 0
      },
      "text/plain": [
       "Epoch 48/100:   0%|          | 0/714 [00:00<?, ?it/s]"
      ]
     },
     "metadata": {},
     "output_type": "display_data"
    },
    {
     "name": "stdout",
     "output_type": "stream",
     "text": [
      "\u001b[2m2023-10-02 22:31:37\u001b[0m [\u001b[32m\u001b[1minfo     \u001b[0m] \u001b[1mProbabilisticEnsembleDynamics_20231002222259: epoch=48 step=34272\u001b[0m \u001b[36mepoch\u001b[0m=\u001b[35m48\u001b[0m \u001b[36mmetrics\u001b[0m=\u001b[35m{'time_sample_batch': 0.00020772502535865422, 'time_algorithm_update': 0.012866521082004579, 'loss': -76.23687281995929, 'time_step': 0.013131378077659286, 'observation_error': 0.020698192388010787, 'reward_error': 2.6894814715244363e-06, 'variance': 0.014920254476982238}\u001b[0m \u001b[36mstep\u001b[0m=\u001b[35m34272\u001b[0m\n",
      "\u001b[2m2023-10-02 22:31:37\u001b[0m [\u001b[32m\u001b[1minfo     \u001b[0m] \u001b[1mModel parameters are saved to d3rlpy_logs/ProbabilisticEnsembleDynamics_20231002222259/model_34272.pt\u001b[0m\n"
     ]
    },
    {
     "data": {
      "application/vnd.jupyter.widget-view+json": {
       "model_id": "43028b65cda6468d9b9ec9a4220a72ec",
       "version_major": 2,
       "version_minor": 0
      },
      "text/plain": [
       "Epoch 49/100:   0%|          | 0/714 [00:00<?, ?it/s]"
      ]
     },
     "metadata": {},
     "output_type": "display_data"
    },
    {
     "name": "stdout",
     "output_type": "stream",
     "text": [
      "\u001b[2m2023-10-02 22:31:47\u001b[0m [\u001b[32m\u001b[1minfo     \u001b[0m] \u001b[1mProbabilisticEnsembleDynamics_20231002222259: epoch=49 step=34986\u001b[0m \u001b[36mepoch\u001b[0m=\u001b[35m49\u001b[0m \u001b[36mmetrics\u001b[0m=\u001b[35m{'time_sample_batch': 0.0002111560490284981, 'time_algorithm_update': 0.012835217457191617, 'loss': -77.10645179588253, 'time_step': 0.013104929309599205, 'observation_error': 0.023923953902909727, 'reward_error': 6.415628117766835e-06, 'variance': 0.013322900753440468}\u001b[0m \u001b[36mstep\u001b[0m=\u001b[35m34986\u001b[0m\n",
      "\u001b[2m2023-10-02 22:31:47\u001b[0m [\u001b[32m\u001b[1minfo     \u001b[0m] \u001b[1mModel parameters are saved to d3rlpy_logs/ProbabilisticEnsembleDynamics_20231002222259/model_34986.pt\u001b[0m\n"
     ]
    },
    {
     "data": {
      "application/vnd.jupyter.widget-view+json": {
       "model_id": "9847e487699c4502b9ed399f4f8012e2",
       "version_major": 2,
       "version_minor": 0
      },
      "text/plain": [
       "Epoch 50/100:   0%|          | 0/714 [00:00<?, ?it/s]"
      ]
     },
     "metadata": {},
     "output_type": "display_data"
    },
    {
     "name": "stdout",
     "output_type": "stream",
     "text": [
      "\u001b[2m2023-10-02 22:31:58\u001b[0m [\u001b[32m\u001b[1minfo     \u001b[0m] \u001b[1mProbabilisticEnsembleDynamics_20231002222259: epoch=50 step=35700\u001b[0m \u001b[36mepoch\u001b[0m=\u001b[35m50\u001b[0m \u001b[36mmetrics\u001b[0m=\u001b[35m{'time_sample_batch': 0.00021020537998829903, 'time_algorithm_update': 0.012734048506792854, 'loss': -76.21595737980861, 'time_step': 0.013001182833973434, 'observation_error': 0.02221913009081278, 'reward_error': 2.547195902601312e-06, 'variance': 0.013147210504452294}\u001b[0m \u001b[36mstep\u001b[0m=\u001b[35m35700\u001b[0m\n",
      "\u001b[2m2023-10-02 22:31:58\u001b[0m [\u001b[32m\u001b[1minfo     \u001b[0m] \u001b[1mModel parameters are saved to d3rlpy_logs/ProbabilisticEnsembleDynamics_20231002222259/model_35700.pt\u001b[0m\n"
     ]
    },
    {
     "data": {
      "application/vnd.jupyter.widget-view+json": {
       "model_id": "ecdbf928577446fa8c9e6add92032580",
       "version_major": 2,
       "version_minor": 0
      },
      "text/plain": [
       "Epoch 51/100:   0%|          | 0/714 [00:00<?, ?it/s]"
      ]
     },
     "metadata": {},
     "output_type": "display_data"
    },
    {
     "name": "stdout",
     "output_type": "stream",
     "text": [
      "\u001b[2m2023-10-02 22:32:08\u001b[0m [\u001b[32m\u001b[1minfo     \u001b[0m] \u001b[1mProbabilisticEnsembleDynamics_20231002222259: epoch=51 step=36414\u001b[0m \u001b[36mepoch\u001b[0m=\u001b[35m51\u001b[0m \u001b[36mmetrics\u001b[0m=\u001b[35m{'time_sample_batch': 0.000207216131920908, 'time_algorithm_update': 0.012503801273698566, 'loss': -76.53046154374836, 'time_step': 0.012769181521332898, 'observation_error': 0.02003725968697537, 'reward_error': 4.686749533151736e-06, 'variance': 0.0121743602273814}\u001b[0m \u001b[36mstep\u001b[0m=\u001b[35m36414\u001b[0m\n",
      "\u001b[2m2023-10-02 22:32:08\u001b[0m [\u001b[32m\u001b[1minfo     \u001b[0m] \u001b[1mModel parameters are saved to d3rlpy_logs/ProbabilisticEnsembleDynamics_20231002222259/model_36414.pt\u001b[0m\n"
     ]
    },
    {
     "data": {
      "application/vnd.jupyter.widget-view+json": {
       "model_id": "ee894dbc510c445aa2e6dde26c7d7b31",
       "version_major": 2,
       "version_minor": 0
      },
      "text/plain": [
       "Epoch 52/100:   0%|          | 0/714 [00:00<?, ?it/s]"
      ]
     },
     "metadata": {},
     "output_type": "display_data"
    },
    {
     "name": "stdout",
     "output_type": "stream",
     "text": [
      "\u001b[2m2023-10-02 22:32:18\u001b[0m [\u001b[32m\u001b[1minfo     \u001b[0m] \u001b[1mProbabilisticEnsembleDynamics_20231002222259: epoch=52 step=37128\u001b[0m \u001b[36mepoch\u001b[0m=\u001b[35m52\u001b[0m \u001b[36mmetrics\u001b[0m=\u001b[35m{'time_sample_batch': 0.00020902263684099127, 'time_algorithm_update': 0.012514424591171308, 'loss': -75.51450818726997, 'time_step': 0.012783109306955203, 'observation_error': 0.020793535476100536, 'reward_error': 6.020644606987566e-06, 'variance': 0.012448160217020703}\u001b[0m \u001b[36mstep\u001b[0m=\u001b[35m37128\u001b[0m\n",
      "\u001b[2m2023-10-02 22:32:18\u001b[0m [\u001b[32m\u001b[1minfo     \u001b[0m] \u001b[1mModel parameters are saved to d3rlpy_logs/ProbabilisticEnsembleDynamics_20231002222259/model_37128.pt\u001b[0m\n"
     ]
    },
    {
     "data": {
      "application/vnd.jupyter.widget-view+json": {
       "model_id": "36a115ce433e4fa89931b6c6b76a5eee",
       "version_major": 2,
       "version_minor": 0
      },
      "text/plain": [
       "Epoch 53/100:   0%|          | 0/714 [00:00<?, ?it/s]"
      ]
     },
     "metadata": {},
     "output_type": "display_data"
    },
    {
     "name": "stdout",
     "output_type": "stream",
     "text": [
      "\u001b[2m2023-10-02 22:32:29\u001b[0m [\u001b[32m\u001b[1minfo     \u001b[0m] \u001b[1mProbabilisticEnsembleDynamics_20231002222259: epoch=53 step=37842\u001b[0m \u001b[36mepoch\u001b[0m=\u001b[35m53\u001b[0m \u001b[36mmetrics\u001b[0m=\u001b[35m{'time_sample_batch': 0.00020925437702852136, 'time_algorithm_update': 0.012640432483341848, 'loss': -77.08699557360481, 'time_step': 0.01290763659971435, 'observation_error': 0.018308736897382417, 'reward_error': 2.23869624658854e-06, 'variance': 0.01218442991280306}\u001b[0m \u001b[36mstep\u001b[0m=\u001b[35m37842\u001b[0m\n",
      "\u001b[2m2023-10-02 22:32:29\u001b[0m [\u001b[32m\u001b[1minfo     \u001b[0m] \u001b[1mModel parameters are saved to d3rlpy_logs/ProbabilisticEnsembleDynamics_20231002222259/model_37842.pt\u001b[0m\n"
     ]
    },
    {
     "data": {
      "application/vnd.jupyter.widget-view+json": {
       "model_id": "d7b151b71adf49e4afba5678d76935a3",
       "version_major": 2,
       "version_minor": 0
      },
      "text/plain": [
       "Epoch 54/100:   0%|          | 0/714 [00:00<?, ?it/s]"
      ]
     },
     "metadata": {},
     "output_type": "display_data"
    },
    {
     "name": "stdout",
     "output_type": "stream",
     "text": [
      "\u001b[2m2023-10-02 22:32:39\u001b[0m [\u001b[32m\u001b[1minfo     \u001b[0m] \u001b[1mProbabilisticEnsembleDynamics_20231002222259: epoch=54 step=38556\u001b[0m \u001b[36mepoch\u001b[0m=\u001b[35m54\u001b[0m \u001b[36mmetrics\u001b[0m=\u001b[35m{'time_sample_batch': 0.0002059265345084567, 'time_algorithm_update': 0.012575455406466787, 'loss': -76.85530864891885, 'time_step': 0.01284007198002492, 'observation_error': 0.018203938112881894, 'reward_error': 2.0134335395005476e-06, 'variance': 0.011531972384720252}\u001b[0m \u001b[36mstep\u001b[0m=\u001b[35m38556\u001b[0m\n",
      "\u001b[2m2023-10-02 22:32:39\u001b[0m [\u001b[32m\u001b[1minfo     \u001b[0m] \u001b[1mModel parameters are saved to d3rlpy_logs/ProbabilisticEnsembleDynamics_20231002222259/model_38556.pt\u001b[0m\n"
     ]
    },
    {
     "data": {
      "application/vnd.jupyter.widget-view+json": {
       "model_id": "b6b651beacc94c33b865ab96acb6dfdc",
       "version_major": 2,
       "version_minor": 0
      },
      "text/plain": [
       "Epoch 55/100:   0%|          | 0/714 [00:00<?, ?it/s]"
      ]
     },
     "metadata": {},
     "output_type": "display_data"
    },
    {
     "name": "stdout",
     "output_type": "stream",
     "text": [
      "\u001b[2m2023-10-02 22:32:50\u001b[0m [\u001b[32m\u001b[1minfo     \u001b[0m] \u001b[1mProbabilisticEnsembleDynamics_20231002222259: epoch=55 step=39270\u001b[0m \u001b[36mepoch\u001b[0m=\u001b[35m55\u001b[0m \u001b[36mmetrics\u001b[0m=\u001b[35m{'time_sample_batch': 0.00020538191167580313, 'time_algorithm_update': 0.012503552837532107, 'loss': -77.02395337102126, 'time_step': 0.012766131833821786, 'observation_error': 0.01670427922753408, 'reward_error': 2.555516990382603e-06, 'variance': 0.011786157897302203}\u001b[0m \u001b[36mstep\u001b[0m=\u001b[35m39270\u001b[0m\n",
      "\u001b[2m2023-10-02 22:32:50\u001b[0m [\u001b[32m\u001b[1minfo     \u001b[0m] \u001b[1mModel parameters are saved to d3rlpy_logs/ProbabilisticEnsembleDynamics_20231002222259/model_39270.pt\u001b[0m\n"
     ]
    },
    {
     "data": {
      "application/vnd.jupyter.widget-view+json": {
       "model_id": "a5c58fec92724ca3b5b8ef41f77d21fb",
       "version_major": 2,
       "version_minor": 0
      },
      "text/plain": [
       "Epoch 56/100:   0%|          | 0/714 [00:00<?, ?it/s]"
      ]
     },
     "metadata": {},
     "output_type": "display_data"
    },
    {
     "name": "stdout",
     "output_type": "stream",
     "text": [
      "\u001b[2m2023-10-02 22:33:00\u001b[0m [\u001b[32m\u001b[1minfo     \u001b[0m] \u001b[1mProbabilisticEnsembleDynamics_20231002222259: epoch=56 step=39984\u001b[0m \u001b[36mepoch\u001b[0m=\u001b[35m56\u001b[0m \u001b[36mmetrics\u001b[0m=\u001b[35m{'time_sample_batch': 0.0002112575605803845, 'time_algorithm_update': 0.012653107068785766, 'loss': -78.0272841653904, 'time_step': 0.012924005337456027, 'observation_error': 0.019205471961294858, 'reward_error': 2.40881129390515e-06, 'variance': 0.011330244484101831}\u001b[0m \u001b[36mstep\u001b[0m=\u001b[35m39984\u001b[0m\n",
      "\u001b[2m2023-10-02 22:33:00\u001b[0m [\u001b[32m\u001b[1minfo     \u001b[0m] \u001b[1mModel parameters are saved to d3rlpy_logs/ProbabilisticEnsembleDynamics_20231002222259/model_39984.pt\u001b[0m\n"
     ]
    },
    {
     "data": {
      "application/vnd.jupyter.widget-view+json": {
       "model_id": "e467913e4b084a1296e4ef44c747558a",
       "version_major": 2,
       "version_minor": 0
      },
      "text/plain": [
       "Epoch 57/100:   0%|          | 0/714 [00:00<?, ?it/s]"
      ]
     },
     "metadata": {},
     "output_type": "display_data"
    },
    {
     "name": "stdout",
     "output_type": "stream",
     "text": [
      "\u001b[2m2023-10-02 22:33:10\u001b[0m [\u001b[32m\u001b[1minfo     \u001b[0m] \u001b[1mProbabilisticEnsembleDynamics_20231002222259: epoch=57 step=40698\u001b[0m \u001b[36mepoch\u001b[0m=\u001b[35m57\u001b[0m \u001b[36mmetrics\u001b[0m=\u001b[35m{'time_sample_batch': 0.00020709658871177866, 'time_algorithm_update': 0.012674128975854869, 'loss': -75.95429801005943, 'time_step': 0.012941494709303399, 'observation_error': 0.019619313190662027, 'reward_error': 3.268644366073145e-06, 'variance': 0.010734882031690558}\u001b[0m \u001b[36mstep\u001b[0m=\u001b[35m40698\u001b[0m\n",
      "\u001b[2m2023-10-02 22:33:10\u001b[0m [\u001b[32m\u001b[1minfo     \u001b[0m] \u001b[1mModel parameters are saved to d3rlpy_logs/ProbabilisticEnsembleDynamics_20231002222259/model_40698.pt\u001b[0m\n"
     ]
    },
    {
     "data": {
      "application/vnd.jupyter.widget-view+json": {
       "model_id": "7e241c3c782843218cacbe6ff9e50137",
       "version_major": 2,
       "version_minor": 0
      },
      "text/plain": [
       "Epoch 58/100:   0%|          | 0/714 [00:00<?, ?it/s]"
      ]
     },
     "metadata": {},
     "output_type": "display_data"
    },
    {
     "name": "stdout",
     "output_type": "stream",
     "text": [
      "\u001b[2m2023-10-02 22:33:21\u001b[0m [\u001b[32m\u001b[1minfo     \u001b[0m] \u001b[1mProbabilisticEnsembleDynamics_20231002222259: epoch=58 step=41412\u001b[0m \u001b[36mepoch\u001b[0m=\u001b[35m58\u001b[0m \u001b[36mmetrics\u001b[0m=\u001b[35m{'time_sample_batch': 0.00020738442738850912, 'time_algorithm_update': 0.012654313854142731, 'loss': -77.76389559577493, 'time_step': 0.012921393418512424, 'observation_error': 0.018679731204726723, 'reward_error': 2.6737976982722936e-06, 'variance': 0.010701323088637752}\u001b[0m \u001b[36mstep\u001b[0m=\u001b[35m41412\u001b[0m\n",
      "\u001b[2m2023-10-02 22:33:21\u001b[0m [\u001b[32m\u001b[1minfo     \u001b[0m] \u001b[1mModel parameters are saved to d3rlpy_logs/ProbabilisticEnsembleDynamics_20231002222259/model_41412.pt\u001b[0m\n"
     ]
    },
    {
     "data": {
      "application/vnd.jupyter.widget-view+json": {
       "model_id": "9cbf4649976544a892323eaf20896ba5",
       "version_major": 2,
       "version_minor": 0
      },
      "text/plain": [
       "Epoch 59/100:   0%|          | 0/714 [00:00<?, ?it/s]"
      ]
     },
     "metadata": {},
     "output_type": "display_data"
    },
    {
     "name": "stdout",
     "output_type": "stream",
     "text": [
      "\u001b[2m2023-10-02 22:33:31\u001b[0m [\u001b[32m\u001b[1minfo     \u001b[0m] \u001b[1mProbabilisticEnsembleDynamics_20231002222259: epoch=59 step=42126\u001b[0m \u001b[36mepoch\u001b[0m=\u001b[35m59\u001b[0m \u001b[36mmetrics\u001b[0m=\u001b[35m{'time_sample_batch': 0.00020781852284065483, 'time_algorithm_update': 0.01267499917027663, 'loss': -77.43012169829937, 'time_step': 0.012942790985107422, 'observation_error': 0.017594326419973078, 'reward_error': 2.34124537727355e-06, 'variance': 0.010127298952590246}\u001b[0m \u001b[36mstep\u001b[0m=\u001b[35m42126\u001b[0m\n",
      "\u001b[2m2023-10-02 22:33:31\u001b[0m [\u001b[32m\u001b[1minfo     \u001b[0m] \u001b[1mModel parameters are saved to d3rlpy_logs/ProbabilisticEnsembleDynamics_20231002222259/model_42126.pt\u001b[0m\n"
     ]
    },
    {
     "data": {
      "application/vnd.jupyter.widget-view+json": {
       "model_id": "cadb80660a1c43ada6ae2ae7e249cc32",
       "version_major": 2,
       "version_minor": 0
      },
      "text/plain": [
       "Epoch 60/100:   0%|          | 0/714 [00:00<?, ?it/s]"
      ]
     },
     "metadata": {},
     "output_type": "display_data"
    },
    {
     "name": "stdout",
     "output_type": "stream",
     "text": [
      "\u001b[2m2023-10-02 22:33:42\u001b[0m [\u001b[32m\u001b[1minfo     \u001b[0m] \u001b[1mProbabilisticEnsembleDynamics_20231002222259: epoch=60 step=42840\u001b[0m \u001b[36mepoch\u001b[0m=\u001b[35m60\u001b[0m \u001b[36mmetrics\u001b[0m=\u001b[35m{'time_sample_batch': 0.00020658068296288242, 'time_algorithm_update': 0.012569538017614883, 'loss': -77.59400069746985, 'time_step': 0.012832769158841515, 'observation_error': 0.02126147463976899, 'reward_error': 1.8404136765971117e-06, 'variance': 0.010400084710561119}\u001b[0m \u001b[36mstep\u001b[0m=\u001b[35m42840\u001b[0m\n",
      "\u001b[2m2023-10-02 22:33:42\u001b[0m [\u001b[32m\u001b[1minfo     \u001b[0m] \u001b[1mModel parameters are saved to d3rlpy_logs/ProbabilisticEnsembleDynamics_20231002222259/model_42840.pt\u001b[0m\n"
     ]
    },
    {
     "data": {
      "application/vnd.jupyter.widget-view+json": {
       "model_id": "31c661a281e549babf34ae07751b0d9e",
       "version_major": 2,
       "version_minor": 0
      },
      "text/plain": [
       "Epoch 61/100:   0%|          | 0/714 [00:00<?, ?it/s]"
      ]
     },
     "metadata": {},
     "output_type": "display_data"
    },
    {
     "name": "stdout",
     "output_type": "stream",
     "text": [
      "\u001b[2m2023-10-02 22:33:52\u001b[0m [\u001b[32m\u001b[1minfo     \u001b[0m] \u001b[1mProbabilisticEnsembleDynamics_20231002222259: epoch=61 step=43554\u001b[0m \u001b[36mepoch\u001b[0m=\u001b[35m61\u001b[0m \u001b[36mmetrics\u001b[0m=\u001b[35m{'time_sample_batch': 0.0002067630030527836, 'time_algorithm_update': 0.012672313121186584, 'loss': -77.7635330579528, 'time_step': 0.012938338167527142, 'observation_error': 0.018552804965818685, 'reward_error': 2.4456885927496164e-06, 'variance': 0.009847038306688559}\u001b[0m \u001b[36mstep\u001b[0m=\u001b[35m43554\u001b[0m\n",
      "\u001b[2m2023-10-02 22:33:52\u001b[0m [\u001b[32m\u001b[1minfo     \u001b[0m] \u001b[1mModel parameters are saved to d3rlpy_logs/ProbabilisticEnsembleDynamics_20231002222259/model_43554.pt\u001b[0m\n"
     ]
    },
    {
     "data": {
      "application/vnd.jupyter.widget-view+json": {
       "model_id": "d62bbb40f964413d9c7cfb2a5b635d45",
       "version_major": 2,
       "version_minor": 0
      },
      "text/plain": [
       "Epoch 62/100:   0%|          | 0/714 [00:00<?, ?it/s]"
      ]
     },
     "metadata": {},
     "output_type": "display_data"
    },
    {
     "name": "stdout",
     "output_type": "stream",
     "text": [
      "\u001b[2m2023-10-02 22:34:03\u001b[0m [\u001b[32m\u001b[1minfo     \u001b[0m] \u001b[1mProbabilisticEnsembleDynamics_20231002222259: epoch=62 step=44268\u001b[0m \u001b[36mepoch\u001b[0m=\u001b[35m62\u001b[0m \u001b[36mmetrics\u001b[0m=\u001b[35m{'time_sample_batch': 0.00021259357281425755, 'time_algorithm_update': 0.012890600356735102, 'loss': -77.05196002618271, 'time_step': 0.01316321964691333, 'observation_error': 0.021607283894520497, 'reward_error': 2.202596046591908e-06, 'variance': 0.009949784599364084}\u001b[0m \u001b[36mstep\u001b[0m=\u001b[35m44268\u001b[0m\n",
      "\u001b[2m2023-10-02 22:34:03\u001b[0m [\u001b[32m\u001b[1minfo     \u001b[0m] \u001b[1mModel parameters are saved to d3rlpy_logs/ProbabilisticEnsembleDynamics_20231002222259/model_44268.pt\u001b[0m\n"
     ]
    },
    {
     "data": {
      "application/vnd.jupyter.widget-view+json": {
       "model_id": "7e5ac4b661254aed8ed706303b8df11a",
       "version_major": 2,
       "version_minor": 0
      },
      "text/plain": [
       "Epoch 63/100:   0%|          | 0/714 [00:00<?, ?it/s]"
      ]
     },
     "metadata": {},
     "output_type": "display_data"
    },
    {
     "name": "stdout",
     "output_type": "stream",
     "text": [
      "\u001b[2m2023-10-02 22:34:13\u001b[0m [\u001b[32m\u001b[1minfo     \u001b[0m] \u001b[1mProbabilisticEnsembleDynamics_20231002222259: epoch=63 step=44982\u001b[0m \u001b[36mepoch\u001b[0m=\u001b[35m63\u001b[0m \u001b[36mmetrics\u001b[0m=\u001b[35m{'time_sample_batch': 0.00020710527062082156, 'time_algorithm_update': 0.01271684296658727, 'loss': -77.63016593356092, 'time_step': 0.012982278310952066, 'observation_error': 0.017627611232959195, 'reward_error': 2.124045983413852e-06, 'variance': 0.0096265034450849}\u001b[0m \u001b[36mstep\u001b[0m=\u001b[35m44982\u001b[0m\n",
      "\u001b[2m2023-10-02 22:34:13\u001b[0m [\u001b[32m\u001b[1minfo     \u001b[0m] \u001b[1mModel parameters are saved to d3rlpy_logs/ProbabilisticEnsembleDynamics_20231002222259/model_44982.pt\u001b[0m\n"
     ]
    },
    {
     "data": {
      "application/vnd.jupyter.widget-view+json": {
       "model_id": "1862e12b5abd4aef83586c5d5f80610c",
       "version_major": 2,
       "version_minor": 0
      },
      "text/plain": [
       "Epoch 64/100:   0%|          | 0/714 [00:00<?, ?it/s]"
      ]
     },
     "metadata": {},
     "output_type": "display_data"
    },
    {
     "name": "stdout",
     "output_type": "stream",
     "text": [
      "\u001b[2m2023-10-02 22:34:24\u001b[0m [\u001b[32m\u001b[1minfo     \u001b[0m] \u001b[1mProbabilisticEnsembleDynamics_20231002222259: epoch=64 step=45696\u001b[0m \u001b[36mepoch\u001b[0m=\u001b[35m64\u001b[0m \u001b[36mmetrics\u001b[0m=\u001b[35m{'time_sample_batch': 0.00020875316374108238, 'time_algorithm_update': 0.012801633495576576, 'loss': -76.94492320586987, 'time_step': 0.013068461618503602, 'observation_error': 0.019469712284074948, 'reward_error': 2.4515653808790925e-06, 'variance': 0.009560784772345147}\u001b[0m \u001b[36mstep\u001b[0m=\u001b[35m45696\u001b[0m\n",
      "\u001b[2m2023-10-02 22:34:24\u001b[0m [\u001b[32m\u001b[1minfo     \u001b[0m] \u001b[1mModel parameters are saved to d3rlpy_logs/ProbabilisticEnsembleDynamics_20231002222259/model_45696.pt\u001b[0m\n"
     ]
    },
    {
     "data": {
      "application/vnd.jupyter.widget-view+json": {
       "model_id": "b77dcb2dba984ec7af5fae7aeda18ac0",
       "version_major": 2,
       "version_minor": 0
      },
      "text/plain": [
       "Epoch 65/100:   0%|          | 0/714 [00:00<?, ?it/s]"
      ]
     },
     "metadata": {},
     "output_type": "display_data"
    },
    {
     "name": "stdout",
     "output_type": "stream",
     "text": [
      "\u001b[2m2023-10-02 22:34:34\u001b[0m [\u001b[32m\u001b[1minfo     \u001b[0m] \u001b[1mProbabilisticEnsembleDynamics_20231002222259: epoch=65 step=46410\u001b[0m \u001b[36mepoch\u001b[0m=\u001b[35m65\u001b[0m \u001b[36mmetrics\u001b[0m=\u001b[35m{'time_sample_batch': 0.0002118422537624669, 'time_algorithm_update': 0.01275724890519257, 'loss': -78.00432796638553, 'time_step': 0.013026262197841783, 'observation_error': 0.018035636527188828, 'reward_error': 2.6326706924822584e-06, 'variance': 0.010032838762124997}\u001b[0m \u001b[36mstep\u001b[0m=\u001b[35m46410\u001b[0m\n",
      "\u001b[2m2023-10-02 22:34:34\u001b[0m [\u001b[32m\u001b[1minfo     \u001b[0m] \u001b[1mModel parameters are saved to d3rlpy_logs/ProbabilisticEnsembleDynamics_20231002222259/model_46410.pt\u001b[0m\n"
     ]
    },
    {
     "data": {
      "application/vnd.jupyter.widget-view+json": {
       "model_id": "33091ecac5bc412eb2968836b78a3b94",
       "version_major": 2,
       "version_minor": 0
      },
      "text/plain": [
       "Epoch 66/100:   0%|          | 0/714 [00:00<?, ?it/s]"
      ]
     },
     "metadata": {},
     "output_type": "display_data"
    },
    {
     "name": "stdout",
     "output_type": "stream",
     "text": [
      "\u001b[2m2023-10-02 22:34:45\u001b[0m [\u001b[32m\u001b[1minfo     \u001b[0m] \u001b[1mProbabilisticEnsembleDynamics_20231002222259: epoch=66 step=47124\u001b[0m \u001b[36mepoch\u001b[0m=\u001b[35m66\u001b[0m \u001b[36mmetrics\u001b[0m=\u001b[35m{'time_sample_batch': 0.00020739143969965916, 'time_algorithm_update': 0.012837359551288167, 'loss': -78.63204725049123, 'time_step': 0.013100491184480385, 'observation_error': 0.0180045218718956, 'reward_error': 3.0051820019999333e-06, 'variance': 0.010073876582147258}\u001b[0m \u001b[36mstep\u001b[0m=\u001b[35m47124\u001b[0m\n",
      "\u001b[2m2023-10-02 22:34:45\u001b[0m [\u001b[32m\u001b[1minfo     \u001b[0m] \u001b[1mModel parameters are saved to d3rlpy_logs/ProbabilisticEnsembleDynamics_20231002222259/model_47124.pt\u001b[0m\n"
     ]
    },
    {
     "data": {
      "application/vnd.jupyter.widget-view+json": {
       "model_id": "342dcd2ce38f4350aea1146d5bab2893",
       "version_major": 2,
       "version_minor": 0
      },
      "text/plain": [
       "Epoch 67/100:   0%|          | 0/714 [00:00<?, ?it/s]"
      ]
     },
     "metadata": {},
     "output_type": "display_data"
    },
    {
     "name": "stdout",
     "output_type": "stream",
     "text": [
      "\u001b[2m2023-10-02 22:34:55\u001b[0m [\u001b[32m\u001b[1minfo     \u001b[0m] \u001b[1mProbabilisticEnsembleDynamics_20231002222259: epoch=67 step=47838\u001b[0m \u001b[36mepoch\u001b[0m=\u001b[35m67\u001b[0m \u001b[36mmetrics\u001b[0m=\u001b[35m{'time_sample_batch': 0.0002096146762538023, 'time_algorithm_update': 0.012840600574717802, 'loss': -77.80282940316935, 'time_step': 0.0131086057641593, 'observation_error': 0.01707108118187315, 'reward_error': 2.3416857925650147e-06, 'variance': 0.008968348175832782}\u001b[0m \u001b[36mstep\u001b[0m=\u001b[35m47838\u001b[0m\n",
      "\u001b[2m2023-10-02 22:34:55\u001b[0m [\u001b[32m\u001b[1minfo     \u001b[0m] \u001b[1mModel parameters are saved to d3rlpy_logs/ProbabilisticEnsembleDynamics_20231002222259/model_47838.pt\u001b[0m\n"
     ]
    },
    {
     "data": {
      "application/vnd.jupyter.widget-view+json": {
       "model_id": "764294d0a7af456f99005b4b465ff4d9",
       "version_major": 2,
       "version_minor": 0
      },
      "text/plain": [
       "Epoch 68/100:   0%|          | 0/714 [00:00<?, ?it/s]"
      ]
     },
     "metadata": {},
     "output_type": "display_data"
    },
    {
     "name": "stdout",
     "output_type": "stream",
     "text": [
      "\u001b[2m2023-10-02 22:35:06\u001b[0m [\u001b[32m\u001b[1minfo     \u001b[0m] \u001b[1mProbabilisticEnsembleDynamics_20231002222259: epoch=68 step=48552\u001b[0m \u001b[36mepoch\u001b[0m=\u001b[35m68\u001b[0m \u001b[36mmetrics\u001b[0m=\u001b[35m{'time_sample_batch': 0.0002095321981178946, 'time_algorithm_update': 0.012585578178491244, 'loss': -77.66946767491787, 'time_step': 0.01285407122443704, 'observation_error': 0.020388849973693526, 'reward_error': 2.7979547313428094e-06, 'variance': 0.00901378056202886}\u001b[0m \u001b[36mstep\u001b[0m=\u001b[35m48552\u001b[0m\n",
      "\u001b[2m2023-10-02 22:35:06\u001b[0m [\u001b[32m\u001b[1minfo     \u001b[0m] \u001b[1mModel parameters are saved to d3rlpy_logs/ProbabilisticEnsembleDynamics_20231002222259/model_48552.pt\u001b[0m\n"
     ]
    },
    {
     "data": {
      "application/vnd.jupyter.widget-view+json": {
       "model_id": "90afd55cfc3c426b8a716fe4c1609d0c",
       "version_major": 2,
       "version_minor": 0
      },
      "text/plain": [
       "Epoch 69/100:   0%|          | 0/714 [00:00<?, ?it/s]"
      ]
     },
     "metadata": {},
     "output_type": "display_data"
    },
    {
     "name": "stdout",
     "output_type": "stream",
     "text": [
      "\u001b[2m2023-10-02 22:35:16\u001b[0m [\u001b[32m\u001b[1minfo     \u001b[0m] \u001b[1mProbabilisticEnsembleDynamics_20231002222259: epoch=69 step=49266\u001b[0m \u001b[36mepoch\u001b[0m=\u001b[35m69\u001b[0m \u001b[36mmetrics\u001b[0m=\u001b[35m{'time_sample_batch': 0.0002124954004581569, 'time_algorithm_update': 0.012594119841311159, 'loss': -77.81787878458573, 'time_step': 0.01286606895489519, 'observation_error': 0.015823622984289624, 'reward_error': 2.7379671695685045e-06, 'variance': 0.0100772087444905}\u001b[0m \u001b[36mstep\u001b[0m=\u001b[35m49266\u001b[0m\n",
      "\u001b[2m2023-10-02 22:35:16\u001b[0m [\u001b[32m\u001b[1minfo     \u001b[0m] \u001b[1mModel parameters are saved to d3rlpy_logs/ProbabilisticEnsembleDynamics_20231002222259/model_49266.pt\u001b[0m\n"
     ]
    },
    {
     "data": {
      "application/vnd.jupyter.widget-view+json": {
       "model_id": "e4b913a3c2db46e08406f95d3f65bcb2",
       "version_major": 2,
       "version_minor": 0
      },
      "text/plain": [
       "Epoch 70/100:   0%|          | 0/714 [00:00<?, ?it/s]"
      ]
     },
     "metadata": {},
     "output_type": "display_data"
    },
    {
     "name": "stdout",
     "output_type": "stream",
     "text": [
      "\u001b[2m2023-10-02 22:35:27\u001b[0m [\u001b[32m\u001b[1minfo     \u001b[0m] \u001b[1mProbabilisticEnsembleDynamics_20231002222259: epoch=70 step=49980\u001b[0m \u001b[36mepoch\u001b[0m=\u001b[35m70\u001b[0m \u001b[36mmetrics\u001b[0m=\u001b[35m{'time_sample_batch': 0.0002141786890537465, 'time_algorithm_update': 0.012616873789234321, 'loss': -78.27599601318188, 'time_step': 0.012889398580171815, 'observation_error': 0.017049366424555658, 'reward_error': 2.6255686393758884e-06, 'variance': 0.008747500849292348}\u001b[0m \u001b[36mstep\u001b[0m=\u001b[35m49980\u001b[0m\n",
      "\u001b[2m2023-10-02 22:35:27\u001b[0m [\u001b[32m\u001b[1minfo     \u001b[0m] \u001b[1mModel parameters are saved to d3rlpy_logs/ProbabilisticEnsembleDynamics_20231002222259/model_49980.pt\u001b[0m\n"
     ]
    },
    {
     "data": {
      "application/vnd.jupyter.widget-view+json": {
       "model_id": "016bb833e14f4b08b5ccb8865dbbae57",
       "version_major": 2,
       "version_minor": 0
      },
      "text/plain": [
       "Epoch 71/100:   0%|          | 0/714 [00:00<?, ?it/s]"
      ]
     },
     "metadata": {},
     "output_type": "display_data"
    },
    {
     "name": "stdout",
     "output_type": "stream",
     "text": [
      "\u001b[2m2023-10-02 22:35:37\u001b[0m [\u001b[32m\u001b[1minfo     \u001b[0m] \u001b[1mProbabilisticEnsembleDynamics_20231002222259: epoch=71 step=50694\u001b[0m \u001b[36mepoch\u001b[0m=\u001b[35m71\u001b[0m \u001b[36mmetrics\u001b[0m=\u001b[35m{'time_sample_batch': 0.00021315255418878978, 'time_algorithm_update': 0.012614940060954802, 'loss': -78.36297733509907, 'time_step': 0.012888583148560938, 'observation_error': 0.01584168824289929, 'reward_error': 2.427534253374288e-06, 'variance': 0.008456528235192051}\u001b[0m \u001b[36mstep\u001b[0m=\u001b[35m50694\u001b[0m\n",
      "\u001b[2m2023-10-02 22:35:37\u001b[0m [\u001b[32m\u001b[1minfo     \u001b[0m] \u001b[1mModel parameters are saved to d3rlpy_logs/ProbabilisticEnsembleDynamics_20231002222259/model_50694.pt\u001b[0m\n"
     ]
    },
    {
     "data": {
      "application/vnd.jupyter.widget-view+json": {
       "model_id": "abd87a274e8847b0801b8cb99b8ec562",
       "version_major": 2,
       "version_minor": 0
      },
      "text/plain": [
       "Epoch 72/100:   0%|          | 0/714 [00:00<?, ?it/s]"
      ]
     },
     "metadata": {},
     "output_type": "display_data"
    },
    {
     "name": "stdout",
     "output_type": "stream",
     "text": [
      "\u001b[2m2023-10-02 22:35:47\u001b[0m [\u001b[32m\u001b[1minfo     \u001b[0m] \u001b[1mProbabilisticEnsembleDynamics_20231002222259: epoch=72 step=51408\u001b[0m \u001b[36mepoch\u001b[0m=\u001b[35m72\u001b[0m \u001b[36mmetrics\u001b[0m=\u001b[35m{'time_sample_batch': 0.00020959397323993073, 'time_algorithm_update': 0.012686265282938126, 'loss': -77.74171309911904, 'time_step': 0.012952550786549971, 'observation_error': 0.019136065509694825, 'reward_error': 3.355443783257249e-06, 'variance': 0.008672919969607507}\u001b[0m \u001b[36mstep\u001b[0m=\u001b[35m51408\u001b[0m\n",
      "\u001b[2m2023-10-02 22:35:47\u001b[0m [\u001b[32m\u001b[1minfo     \u001b[0m] \u001b[1mModel parameters are saved to d3rlpy_logs/ProbabilisticEnsembleDynamics_20231002222259/model_51408.pt\u001b[0m\n"
     ]
    },
    {
     "data": {
      "application/vnd.jupyter.widget-view+json": {
       "model_id": "fc4df8ac32084edc808ab04641621e00",
       "version_major": 2,
       "version_minor": 0
      },
      "text/plain": [
       "Epoch 73/100:   0%|          | 0/714 [00:00<?, ?it/s]"
      ]
     },
     "metadata": {},
     "output_type": "display_data"
    },
    {
     "name": "stdout",
     "output_type": "stream",
     "text": [
      "\u001b[2m2023-10-02 22:35:58\u001b[0m [\u001b[32m\u001b[1minfo     \u001b[0m] \u001b[1mProbabilisticEnsembleDynamics_20231002222259: epoch=73 step=52122\u001b[0m \u001b[36mepoch\u001b[0m=\u001b[35m73\u001b[0m \u001b[36mmetrics\u001b[0m=\u001b[35m{'time_sample_batch': 0.00021054597795844412, 'time_algorithm_update': 0.012788340491073137, 'loss': -79.24971461362865, 'time_step': 0.013058108108050349, 'observation_error': 0.016268740163477537, 'reward_error': 8.486207550705619e-06, 'variance': 0.008492768982137933}\u001b[0m \u001b[36mstep\u001b[0m=\u001b[35m52122\u001b[0m\n",
      "\u001b[2m2023-10-02 22:35:58\u001b[0m [\u001b[32m\u001b[1minfo     \u001b[0m] \u001b[1mModel parameters are saved to d3rlpy_logs/ProbabilisticEnsembleDynamics_20231002222259/model_52122.pt\u001b[0m\n"
     ]
    },
    {
     "data": {
      "application/vnd.jupyter.widget-view+json": {
       "model_id": "ba888854d76d4d9bab3f653fbf9618a2",
       "version_major": 2,
       "version_minor": 0
      },
      "text/plain": [
       "Epoch 74/100:   0%|          | 0/714 [00:00<?, ?it/s]"
      ]
     },
     "metadata": {},
     "output_type": "display_data"
    },
    {
     "name": "stdout",
     "output_type": "stream",
     "text": [
      "\u001b[2m2023-10-02 22:36:08\u001b[0m [\u001b[32m\u001b[1minfo     \u001b[0m] \u001b[1mProbabilisticEnsembleDynamics_20231002222259: epoch=74 step=52836\u001b[0m \u001b[36mepoch\u001b[0m=\u001b[35m74\u001b[0m \u001b[36mmetrics\u001b[0m=\u001b[35m{'time_sample_batch': 0.0002060988370110007, 'time_algorithm_update': 0.01262326768132485, 'loss': -78.15777607658664, 'time_step': 0.012888346399579729, 'observation_error': 0.01619982692952417, 'reward_error': 3.2041456813374736e-06, 'variance': 0.008387846948667151}\u001b[0m \u001b[36mstep\u001b[0m=\u001b[35m52836\u001b[0m\n",
      "\u001b[2m2023-10-02 22:36:09\u001b[0m [\u001b[32m\u001b[1minfo     \u001b[0m] \u001b[1mModel parameters are saved to d3rlpy_logs/ProbabilisticEnsembleDynamics_20231002222259/model_52836.pt\u001b[0m\n"
     ]
    },
    {
     "data": {
      "application/vnd.jupyter.widget-view+json": {
       "model_id": "d0b8b5a88ffe415a872ca564d2686d09",
       "version_major": 2,
       "version_minor": 0
      },
      "text/plain": [
       "Epoch 75/100:   0%|          | 0/714 [00:00<?, ?it/s]"
      ]
     },
     "metadata": {},
     "output_type": "display_data"
    },
    {
     "name": "stdout",
     "output_type": "stream",
     "text": [
      "\u001b[2m2023-10-02 22:36:19\u001b[0m [\u001b[32m\u001b[1minfo     \u001b[0m] \u001b[1mProbabilisticEnsembleDynamics_20231002222259: epoch=75 step=53550\u001b[0m \u001b[36mepoch\u001b[0m=\u001b[35m75\u001b[0m \u001b[36mmetrics\u001b[0m=\u001b[35m{'time_sample_batch': 0.0002096918116764528, 'time_algorithm_update': 0.012651160317642683, 'loss': -78.69659335673356, 'time_step': 0.012918846947806222, 'observation_error': 0.01857022667099146, 'reward_error': 2.3546328739525788e-06, 'variance': 0.008548590062126087}\u001b[0m \u001b[36mstep\u001b[0m=\u001b[35m53550\u001b[0m\n",
      "\u001b[2m2023-10-02 22:36:19\u001b[0m [\u001b[32m\u001b[1minfo     \u001b[0m] \u001b[1mModel parameters are saved to d3rlpy_logs/ProbabilisticEnsembleDynamics_20231002222259/model_53550.pt\u001b[0m\n"
     ]
    },
    {
     "data": {
      "application/vnd.jupyter.widget-view+json": {
       "model_id": "d8d7414a110e459087b3c155a24927d6",
       "version_major": 2,
       "version_minor": 0
      },
      "text/plain": [
       "Epoch 76/100:   0%|          | 0/714 [00:00<?, ?it/s]"
      ]
     },
     "metadata": {},
     "output_type": "display_data"
    },
    {
     "name": "stdout",
     "output_type": "stream",
     "text": [
      "\u001b[2m2023-10-02 22:36:30\u001b[0m [\u001b[32m\u001b[1minfo     \u001b[0m] \u001b[1mProbabilisticEnsembleDynamics_20231002222259: epoch=76 step=54264\u001b[0m \u001b[36mepoch\u001b[0m=\u001b[35m76\u001b[0m \u001b[36mmetrics\u001b[0m=\u001b[35m{'time_sample_batch': 0.00021576781232817834, 'time_algorithm_update': 0.012867449378433014, 'loss': -79.20719082081685, 'time_step': 0.013140505769339596, 'observation_error': 0.01812869077870492, 'reward_error': 2.276729176105733e-06, 'variance': 0.008849683447685228}\u001b[0m \u001b[36mstep\u001b[0m=\u001b[35m54264\u001b[0m\n",
      "\u001b[2m2023-10-02 22:36:30\u001b[0m [\u001b[32m\u001b[1minfo     \u001b[0m] \u001b[1mModel parameters are saved to d3rlpy_logs/ProbabilisticEnsembleDynamics_20231002222259/model_54264.pt\u001b[0m\n"
     ]
    },
    {
     "data": {
      "application/vnd.jupyter.widget-view+json": {
       "model_id": "3fe4ab81e9ea4a5888e9c213b2c74d0c",
       "version_major": 2,
       "version_minor": 0
      },
      "text/plain": [
       "Epoch 77/100:   0%|          | 0/714 [00:00<?, ?it/s]"
      ]
     },
     "metadata": {},
     "output_type": "display_data"
    },
    {
     "name": "stdout",
     "output_type": "stream",
     "text": [
      "\u001b[2m2023-10-02 22:36:40\u001b[0m [\u001b[32m\u001b[1minfo     \u001b[0m] \u001b[1mProbabilisticEnsembleDynamics_20231002222259: epoch=77 step=54978\u001b[0m \u001b[36mepoch\u001b[0m=\u001b[35m77\u001b[0m \u001b[36mmetrics\u001b[0m=\u001b[35m{'time_sample_batch': 0.00021410455890730315, 'time_algorithm_update': 0.012720336099298728, 'loss': -76.42088863495685, 'time_step': 0.01299633732696875, 'observation_error': 0.016916735334267345, 'reward_error': 2.9392367461819044e-06, 'variance': 0.008030134917602766}\u001b[0m \u001b[36mstep\u001b[0m=\u001b[35m54978\u001b[0m\n",
      "\u001b[2m2023-10-02 22:36:40\u001b[0m [\u001b[32m\u001b[1minfo     \u001b[0m] \u001b[1mModel parameters are saved to d3rlpy_logs/ProbabilisticEnsembleDynamics_20231002222259/model_54978.pt\u001b[0m\n"
     ]
    },
    {
     "data": {
      "application/vnd.jupyter.widget-view+json": {
       "model_id": "f25dc4a7fc38454abcb0792a9778fa82",
       "version_major": 2,
       "version_minor": 0
      },
      "text/plain": [
       "Epoch 78/100:   0%|          | 0/714 [00:00<?, ?it/s]"
      ]
     },
     "metadata": {},
     "output_type": "display_data"
    },
    {
     "name": "stdout",
     "output_type": "stream",
     "text": [
      "\u001b[2m2023-10-02 22:36:51\u001b[0m [\u001b[32m\u001b[1minfo     \u001b[0m] \u001b[1mProbabilisticEnsembleDynamics_20231002222259: epoch=78 step=55692\u001b[0m \u001b[36mepoch\u001b[0m=\u001b[35m78\u001b[0m \u001b[36mmetrics\u001b[0m=\u001b[35m{'time_sample_batch': 0.00021636018566056794, 'time_algorithm_update': 0.012754883084978377, 'loss': -79.12753471005864, 'time_step': 0.013028182903257739, 'observation_error': 0.0162498556078119, 'reward_error': 7.932379544159205e-06, 'variance': 0.008509179502415806}\u001b[0m \u001b[36mstep\u001b[0m=\u001b[35m55692\u001b[0m\n",
      "\u001b[2m2023-10-02 22:36:51\u001b[0m [\u001b[32m\u001b[1minfo     \u001b[0m] \u001b[1mModel parameters are saved to d3rlpy_logs/ProbabilisticEnsembleDynamics_20231002222259/model_55692.pt\u001b[0m\n"
     ]
    },
    {
     "data": {
      "application/vnd.jupyter.widget-view+json": {
       "model_id": "f994d7728af94623821eb647c5dfc43e",
       "version_major": 2,
       "version_minor": 0
      },
      "text/plain": [
       "Epoch 79/100:   0%|          | 0/714 [00:00<?, ?it/s]"
      ]
     },
     "metadata": {},
     "output_type": "display_data"
    },
    {
     "name": "stdout",
     "output_type": "stream",
     "text": [
      "\u001b[2m2023-10-02 22:37:01\u001b[0m [\u001b[32m\u001b[1minfo     \u001b[0m] \u001b[1mProbabilisticEnsembleDynamics_20231002222259: epoch=79 step=56406\u001b[0m \u001b[36mepoch\u001b[0m=\u001b[35m79\u001b[0m \u001b[36mmetrics\u001b[0m=\u001b[35m{'time_sample_batch': 0.00021142652388714275, 'time_algorithm_update': 0.012938489767015815, 'loss': -78.54467449669076, 'time_step': 0.01321019011051381, 'observation_error': 0.017559989724296485, 'reward_error': 2.1483497830640036e-06, 'variance': 0.007802521085226148}\u001b[0m \u001b[36mstep\u001b[0m=\u001b[35m56406\u001b[0m\n",
      "\u001b[2m2023-10-02 22:37:01\u001b[0m [\u001b[32m\u001b[1minfo     \u001b[0m] \u001b[1mModel parameters are saved to d3rlpy_logs/ProbabilisticEnsembleDynamics_20231002222259/model_56406.pt\u001b[0m\n"
     ]
    },
    {
     "data": {
      "application/vnd.jupyter.widget-view+json": {
       "model_id": "61dd47043f714b9f8b0a6af4a08aa9a0",
       "version_major": 2,
       "version_minor": 0
      },
      "text/plain": [
       "Epoch 80/100:   0%|          | 0/714 [00:00<?, ?it/s]"
      ]
     },
     "metadata": {},
     "output_type": "display_data"
    },
    {
     "name": "stdout",
     "output_type": "stream",
     "text": [
      "\u001b[2m2023-10-02 22:37:12\u001b[0m [\u001b[32m\u001b[1minfo     \u001b[0m] \u001b[1mProbabilisticEnsembleDynamics_20231002222259: epoch=80 step=57120\u001b[0m \u001b[36mepoch\u001b[0m=\u001b[35m80\u001b[0m \u001b[36mmetrics\u001b[0m=\u001b[35m{'time_sample_batch': 0.00020926372677672144, 'time_algorithm_update': 0.01271256111583122, 'loss': -79.73599692085544, 'time_step': 0.012979087709378796, 'observation_error': 0.015179676292958532, 'reward_error': 1.9486635680701454e-06, 'variance': 0.007741671800239861}\u001b[0m \u001b[36mstep\u001b[0m=\u001b[35m57120\u001b[0m\n",
      "\u001b[2m2023-10-02 22:37:12\u001b[0m [\u001b[32m\u001b[1minfo     \u001b[0m] \u001b[1mModel parameters are saved to d3rlpy_logs/ProbabilisticEnsembleDynamics_20231002222259/model_57120.pt\u001b[0m\n"
     ]
    },
    {
     "data": {
      "application/vnd.jupyter.widget-view+json": {
       "model_id": "3be04277e4b547b18cb6d65b2023ad85",
       "version_major": 2,
       "version_minor": 0
      },
      "text/plain": [
       "Epoch 81/100:   0%|          | 0/714 [00:00<?, ?it/s]"
      ]
     },
     "metadata": {},
     "output_type": "display_data"
    },
    {
     "name": "stdout",
     "output_type": "stream",
     "text": [
      "\u001b[2m2023-10-02 22:37:22\u001b[0m [\u001b[32m\u001b[1minfo     \u001b[0m] \u001b[1mProbabilisticEnsembleDynamics_20231002222259: epoch=81 step=57834\u001b[0m \u001b[36mepoch\u001b[0m=\u001b[35m81\u001b[0m \u001b[36mmetrics\u001b[0m=\u001b[35m{'time_sample_batch': 0.0002092146405986711, 'time_algorithm_update': 0.012592645252452177, 'loss': -79.5644655788646, 'time_step': 0.012861185047138972, 'observation_error': 0.016639534539227115, 'reward_error': 1.9484529469268186e-06, 'variance': 0.007241305905945459}\u001b[0m \u001b[36mstep\u001b[0m=\u001b[35m57834\u001b[0m\n",
      "\u001b[2m2023-10-02 22:37:22\u001b[0m [\u001b[32m\u001b[1minfo     \u001b[0m] \u001b[1mModel parameters are saved to d3rlpy_logs/ProbabilisticEnsembleDynamics_20231002222259/model_57834.pt\u001b[0m\n"
     ]
    },
    {
     "data": {
      "application/vnd.jupyter.widget-view+json": {
       "model_id": "89e8f1c5a11d446da4c7d2783de0b45f",
       "version_major": 2,
       "version_minor": 0
      },
      "text/plain": [
       "Epoch 82/100:   0%|          | 0/714 [00:00<?, ?it/s]"
      ]
     },
     "metadata": {},
     "output_type": "display_data"
    },
    {
     "name": "stdout",
     "output_type": "stream",
     "text": [
      "\u001b[2m2023-10-02 22:37:33\u001b[0m [\u001b[32m\u001b[1minfo     \u001b[0m] \u001b[1mProbabilisticEnsembleDynamics_20231002222259: epoch=82 step=58548\u001b[0m \u001b[36mepoch\u001b[0m=\u001b[35m82\u001b[0m \u001b[36mmetrics\u001b[0m=\u001b[35m{'time_sample_batch': 0.00020850806677040934, 'time_algorithm_update': 0.01262618413492411, 'loss': -79.11710915178143, 'time_step': 0.012891865578018316, 'observation_error': 0.017404526943045888, 'reward_error': 1.9587140820531556e-06, 'variance': 0.00770078233141308}\u001b[0m \u001b[36mstep\u001b[0m=\u001b[35m58548\u001b[0m\n",
      "\u001b[2m2023-10-02 22:37:33\u001b[0m [\u001b[32m\u001b[1minfo     \u001b[0m] \u001b[1mModel parameters are saved to d3rlpy_logs/ProbabilisticEnsembleDynamics_20231002222259/model_58548.pt\u001b[0m\n"
     ]
    },
    {
     "data": {
      "application/vnd.jupyter.widget-view+json": {
       "model_id": "83ffea58f99f4f3d995be921066ded1d",
       "version_major": 2,
       "version_minor": 0
      },
      "text/plain": [
       "Epoch 83/100:   0%|          | 0/714 [00:00<?, ?it/s]"
      ]
     },
     "metadata": {},
     "output_type": "display_data"
    },
    {
     "name": "stdout",
     "output_type": "stream",
     "text": [
      "\u001b[2m2023-10-02 22:37:43\u001b[0m [\u001b[32m\u001b[1minfo     \u001b[0m] \u001b[1mProbabilisticEnsembleDynamics_20231002222259: epoch=83 step=59262\u001b[0m \u001b[36mepoch\u001b[0m=\u001b[35m83\u001b[0m \u001b[36mmetrics\u001b[0m=\u001b[35m{'time_sample_batch': 0.0002092894385842716, 'time_algorithm_update': 0.01268414122049882, 'loss': -78.20483256321327, 'time_step': 0.012953268379724327, 'observation_error': 0.015028788893967747, 'reward_error': 2.3719462419916795e-06, 'variance': 0.007963542017750052}\u001b[0m \u001b[36mstep\u001b[0m=\u001b[35m59262\u001b[0m\n",
      "\u001b[2m2023-10-02 22:37:43\u001b[0m [\u001b[32m\u001b[1minfo     \u001b[0m] \u001b[1mModel parameters are saved to d3rlpy_logs/ProbabilisticEnsembleDynamics_20231002222259/model_59262.pt\u001b[0m\n"
     ]
    },
    {
     "data": {
      "application/vnd.jupyter.widget-view+json": {
       "model_id": "9f001757daa3450f93cd50494ce96ec9",
       "version_major": 2,
       "version_minor": 0
      },
      "text/plain": [
       "Epoch 84/100:   0%|          | 0/714 [00:00<?, ?it/s]"
      ]
     },
     "metadata": {},
     "output_type": "display_data"
    },
    {
     "name": "stdout",
     "output_type": "stream",
     "text": [
      "\u001b[2m2023-10-02 22:37:53\u001b[0m [\u001b[32m\u001b[1minfo     \u001b[0m] \u001b[1mProbabilisticEnsembleDynamics_20231002222259: epoch=84 step=59976\u001b[0m \u001b[36mepoch\u001b[0m=\u001b[35m84\u001b[0m \u001b[36mmetrics\u001b[0m=\u001b[35m{'time_sample_batch': 0.00021309244866464652, 'time_algorithm_update': 0.01267481217531263, 'loss': -76.99398184223335, 'time_step': 0.012946730902215013, 'observation_error': 0.017707936703445237, 'reward_error': 3.804027559331201e-06, 'variance': 0.00884763274046575}\u001b[0m \u001b[36mstep\u001b[0m=\u001b[35m59976\u001b[0m\n",
      "\u001b[2m2023-10-02 22:37:53\u001b[0m [\u001b[32m\u001b[1minfo     \u001b[0m] \u001b[1mModel parameters are saved to d3rlpy_logs/ProbabilisticEnsembleDynamics_20231002222259/model_59976.pt\u001b[0m\n"
     ]
    },
    {
     "data": {
      "application/vnd.jupyter.widget-view+json": {
       "model_id": "31ff7ac9453946488aefad81cf26e02d",
       "version_major": 2,
       "version_minor": 0
      },
      "text/plain": [
       "Epoch 85/100:   0%|          | 0/714 [00:00<?, ?it/s]"
      ]
     },
     "metadata": {},
     "output_type": "display_data"
    },
    {
     "name": "stdout",
     "output_type": "stream",
     "text": [
      "\u001b[2m2023-10-02 22:38:04\u001b[0m [\u001b[32m\u001b[1minfo     \u001b[0m] \u001b[1mProbabilisticEnsembleDynamics_20231002222259: epoch=85 step=60690\u001b[0m \u001b[36mepoch\u001b[0m=\u001b[35m85\u001b[0m \u001b[36mmetrics\u001b[0m=\u001b[35m{'time_sample_batch': 0.00020988081015792546, 'time_algorithm_update': 0.01255025583155015, 'loss': -79.22385826765323, 'time_step': 0.012818908491054503, 'observation_error': 0.01723134224024763, 'reward_error': 1.7151926077401769e-06, 'variance': 0.007487487004758054}\u001b[0m \u001b[36mstep\u001b[0m=\u001b[35m60690\u001b[0m\n",
      "\u001b[2m2023-10-02 22:38:04\u001b[0m [\u001b[32m\u001b[1minfo     \u001b[0m] \u001b[1mModel parameters are saved to d3rlpy_logs/ProbabilisticEnsembleDynamics_20231002222259/model_60690.pt\u001b[0m\n"
     ]
    },
    {
     "data": {
      "application/vnd.jupyter.widget-view+json": {
       "model_id": "ecc3ec6b7d4846748b4b6126bf679399",
       "version_major": 2,
       "version_minor": 0
      },
      "text/plain": [
       "Epoch 86/100:   0%|          | 0/714 [00:00<?, ?it/s]"
      ]
     },
     "metadata": {},
     "output_type": "display_data"
    },
    {
     "name": "stdout",
     "output_type": "stream",
     "text": [
      "\u001b[2m2023-10-02 22:38:14\u001b[0m [\u001b[32m\u001b[1minfo     \u001b[0m] \u001b[1mProbabilisticEnsembleDynamics_20231002222259: epoch=86 step=61404\u001b[0m \u001b[36mepoch\u001b[0m=\u001b[35m86\u001b[0m \u001b[36mmetrics\u001b[0m=\u001b[35m{'time_sample_batch': 0.00020949646872298725, 'time_algorithm_update': 0.012569184396781173, 'loss': -79.64823516877759, 'time_step': 0.01283760698569589, 'observation_error': 0.01679296547105202, 'reward_error': 1.7688295922552465e-06, 'variance': 0.00760390972283416}\u001b[0m \u001b[36mstep\u001b[0m=\u001b[35m61404\u001b[0m\n",
      "\u001b[2m2023-10-02 22:38:14\u001b[0m [\u001b[32m\u001b[1minfo     \u001b[0m] \u001b[1mModel parameters are saved to d3rlpy_logs/ProbabilisticEnsembleDynamics_20231002222259/model_61404.pt\u001b[0m\n"
     ]
    },
    {
     "data": {
      "application/vnd.jupyter.widget-view+json": {
       "model_id": "552460b8133044d99757601bed3d21c7",
       "version_major": 2,
       "version_minor": 0
      },
      "text/plain": [
       "Epoch 87/100:   0%|          | 0/714 [00:00<?, ?it/s]"
      ]
     },
     "metadata": {},
     "output_type": "display_data"
    },
    {
     "name": "stdout",
     "output_type": "stream",
     "text": [
      "\u001b[2m2023-10-02 22:38:25\u001b[0m [\u001b[32m\u001b[1minfo     \u001b[0m] \u001b[1mProbabilisticEnsembleDynamics_20231002222259: epoch=87 step=62118\u001b[0m \u001b[36mepoch\u001b[0m=\u001b[35m87\u001b[0m \u001b[36mmetrics\u001b[0m=\u001b[35m{'time_sample_batch': 0.00021024979129224933, 'time_algorithm_update': 0.012688172297651361, 'loss': -79.79309313771438, 'time_step': 0.01295623358558206, 'observation_error': 0.015631740388272735, 'reward_error': 1.7017908570612324e-06, 'variance': 0.0068460034499975946}\u001b[0m \u001b[36mstep\u001b[0m=\u001b[35m62118\u001b[0m\n",
      "\u001b[2m2023-10-02 22:38:25\u001b[0m [\u001b[32m\u001b[1minfo     \u001b[0m] \u001b[1mModel parameters are saved to d3rlpy_logs/ProbabilisticEnsembleDynamics_20231002222259/model_62118.pt\u001b[0m\n"
     ]
    },
    {
     "data": {
      "application/vnd.jupyter.widget-view+json": {
       "model_id": "77f9211f9a75491f8088c1682b7467e1",
       "version_major": 2,
       "version_minor": 0
      },
      "text/plain": [
       "Epoch 88/100:   0%|          | 0/714 [00:00<?, ?it/s]"
      ]
     },
     "metadata": {},
     "output_type": "display_data"
    },
    {
     "name": "stdout",
     "output_type": "stream",
     "text": [
      "\u001b[2m2023-10-02 22:38:35\u001b[0m [\u001b[32m\u001b[1minfo     \u001b[0m] \u001b[1mProbabilisticEnsembleDynamics_20231002222259: epoch=88 step=62832\u001b[0m \u001b[36mepoch\u001b[0m=\u001b[35m88\u001b[0m \u001b[36mmetrics\u001b[0m=\u001b[35m{'time_sample_batch': 0.0002104551518330721, 'time_algorithm_update': 0.012643645123607303, 'loss': -79.79635737656879, 'time_step': 0.012912774286350282, 'observation_error': 0.016700291676188313, 'reward_error': 1.8446057887378556e-06, 'variance': 0.007426773063072917}\u001b[0m \u001b[36mstep\u001b[0m=\u001b[35m62832\u001b[0m\n",
      "\u001b[2m2023-10-02 22:38:35\u001b[0m [\u001b[32m\u001b[1minfo     \u001b[0m] \u001b[1mModel parameters are saved to d3rlpy_logs/ProbabilisticEnsembleDynamics_20231002222259/model_62832.pt\u001b[0m\n"
     ]
    },
    {
     "data": {
      "application/vnd.jupyter.widget-view+json": {
       "model_id": "869c31fd958d41eba30f86a25c2f807e",
       "version_major": 2,
       "version_minor": 0
      },
      "text/plain": [
       "Epoch 89/100:   0%|          | 0/714 [00:00<?, ?it/s]"
      ]
     },
     "metadata": {},
     "output_type": "display_data"
    },
    {
     "name": "stdout",
     "output_type": "stream",
     "text": [
      "\u001b[2m2023-10-02 22:38:46\u001b[0m [\u001b[32m\u001b[1minfo     \u001b[0m] \u001b[1mProbabilisticEnsembleDynamics_20231002222259: epoch=89 step=63546\u001b[0m \u001b[36mepoch\u001b[0m=\u001b[35m89\u001b[0m \u001b[36mmetrics\u001b[0m=\u001b[35m{'time_sample_batch': 0.00021006479984571954, 'time_algorithm_update': 0.012591296885193897, 'loss': -80.23721443037358, 'time_step': 0.01285776303929775, 'observation_error': 0.016494492462158266, 'reward_error': 2.0691076163461336e-06, 'variance': 0.0065298744706558205}\u001b[0m \u001b[36mstep\u001b[0m=\u001b[35m63546\u001b[0m\n",
      "\u001b[2m2023-10-02 22:38:46\u001b[0m [\u001b[32m\u001b[1minfo     \u001b[0m] \u001b[1mModel parameters are saved to d3rlpy_logs/ProbabilisticEnsembleDynamics_20231002222259/model_63546.pt\u001b[0m\n"
     ]
    },
    {
     "data": {
      "application/vnd.jupyter.widget-view+json": {
       "model_id": "44687ba55f2d44d9a5e8553e76c3e4e0",
       "version_major": 2,
       "version_minor": 0
      },
      "text/plain": [
       "Epoch 90/100:   0%|          | 0/714 [00:00<?, ?it/s]"
      ]
     },
     "metadata": {},
     "output_type": "display_data"
    },
    {
     "name": "stdout",
     "output_type": "stream",
     "text": [
      "\u001b[2m2023-10-02 22:38:56\u001b[0m [\u001b[32m\u001b[1minfo     \u001b[0m] \u001b[1mProbabilisticEnsembleDynamics_20231002222259: epoch=90 step=64260\u001b[0m \u001b[36mepoch\u001b[0m=\u001b[35m90\u001b[0m \u001b[36mmetrics\u001b[0m=\u001b[35m{'time_sample_batch': 0.0002080883298601423, 'time_algorithm_update': 0.012717796974823255, 'loss': -79.2045233055991, 'time_step': 0.012984108858081806, 'observation_error': 0.013901231820995865, 'reward_error': 2.5001187418227325e-06, 'variance': 0.006646338646819755}\u001b[0m \u001b[36mstep\u001b[0m=\u001b[35m64260\u001b[0m\n",
      "\u001b[2m2023-10-02 22:38:56\u001b[0m [\u001b[32m\u001b[1minfo     \u001b[0m] \u001b[1mModel parameters are saved to d3rlpy_logs/ProbabilisticEnsembleDynamics_20231002222259/model_64260.pt\u001b[0m\n"
     ]
    },
    {
     "data": {
      "application/vnd.jupyter.widget-view+json": {
       "model_id": "0b7f85fba3b54960bb947b86c0614df5",
       "version_major": 2,
       "version_minor": 0
      },
      "text/plain": [
       "Epoch 91/100:   0%|          | 0/714 [00:00<?, ?it/s]"
      ]
     },
     "metadata": {},
     "output_type": "display_data"
    },
    {
     "name": "stdout",
     "output_type": "stream",
     "text": [
      "\u001b[2m2023-10-02 22:39:07\u001b[0m [\u001b[32m\u001b[1minfo     \u001b[0m] \u001b[1mProbabilisticEnsembleDynamics_20231002222259: epoch=91 step=64974\u001b[0m \u001b[36mepoch\u001b[0m=\u001b[35m91\u001b[0m \u001b[36mmetrics\u001b[0m=\u001b[35m{'time_sample_batch': 0.0002099652918113046, 'time_algorithm_update': 0.012648479611265893, 'loss': -79.40038241057837, 'time_step': 0.012917797438570765, 'observation_error': 0.015163704248409595, 'reward_error': 1.610705133805459e-06, 'variance': 0.006332512259923118}\u001b[0m \u001b[36mstep\u001b[0m=\u001b[35m64974\u001b[0m\n",
      "\u001b[2m2023-10-02 22:39:07\u001b[0m [\u001b[32m\u001b[1minfo     \u001b[0m] \u001b[1mModel parameters are saved to d3rlpy_logs/ProbabilisticEnsembleDynamics_20231002222259/model_64974.pt\u001b[0m\n"
     ]
    },
    {
     "data": {
      "application/vnd.jupyter.widget-view+json": {
       "model_id": "08606d1c7127405bb476b55f1dcd0540",
       "version_major": 2,
       "version_minor": 0
      },
      "text/plain": [
       "Epoch 92/100:   0%|          | 0/714 [00:00<?, ?it/s]"
      ]
     },
     "metadata": {},
     "output_type": "display_data"
    },
    {
     "name": "stdout",
     "output_type": "stream",
     "text": [
      "\u001b[2m2023-10-02 22:39:17\u001b[0m [\u001b[32m\u001b[1minfo     \u001b[0m] \u001b[1mProbabilisticEnsembleDynamics_20231002222259: epoch=92 step=65688\u001b[0m \u001b[36mepoch\u001b[0m=\u001b[35m92\u001b[0m \u001b[36mmetrics\u001b[0m=\u001b[35m{'time_sample_batch': 0.00020742850477288084, 'time_algorithm_update': 0.012699517549252977, 'loss': -79.3455577297371, 'time_step': 0.012966301260876055, 'observation_error': 0.015253187846687749, 'reward_error': 1.7998975157474038e-06, 'variance': 0.006869181529625028}\u001b[0m \u001b[36mstep\u001b[0m=\u001b[35m65688\u001b[0m\n",
      "\u001b[2m2023-10-02 22:39:17\u001b[0m [\u001b[32m\u001b[1minfo     \u001b[0m] \u001b[1mModel parameters are saved to d3rlpy_logs/ProbabilisticEnsembleDynamics_20231002222259/model_65688.pt\u001b[0m\n"
     ]
    },
    {
     "data": {
      "application/vnd.jupyter.widget-view+json": {
       "model_id": "b236b84613b14ba4ba83491da16493ca",
       "version_major": 2,
       "version_minor": 0
      },
      "text/plain": [
       "Epoch 93/100:   0%|          | 0/714 [00:00<?, ?it/s]"
      ]
     },
     "metadata": {},
     "output_type": "display_data"
    },
    {
     "name": "stdout",
     "output_type": "stream",
     "text": [
      "\u001b[2m2023-10-02 22:39:27\u001b[0m [\u001b[32m\u001b[1minfo     \u001b[0m] \u001b[1mProbabilisticEnsembleDynamics_20231002222259: epoch=93 step=66402\u001b[0m \u001b[36mepoch\u001b[0m=\u001b[35m93\u001b[0m \u001b[36mmetrics\u001b[0m=\u001b[35m{'time_sample_batch': 0.0002106688603633592, 'time_algorithm_update': 0.012609661126337131, 'loss': -80.51317649328408, 'time_step': 0.012878516808945258, 'observation_error': 0.014347794856714662, 'reward_error': 2.169010653460444e-06, 'variance': 0.00686078925451392}\u001b[0m \u001b[36mstep\u001b[0m=\u001b[35m66402\u001b[0m\n",
      "\u001b[2m2023-10-02 22:39:27\u001b[0m [\u001b[32m\u001b[1minfo     \u001b[0m] \u001b[1mModel parameters are saved to d3rlpy_logs/ProbabilisticEnsembleDynamics_20231002222259/model_66402.pt\u001b[0m\n"
     ]
    },
    {
     "data": {
      "application/vnd.jupyter.widget-view+json": {
       "model_id": "21eb48d1c5bb46f7ad85d8bcfa770950",
       "version_major": 2,
       "version_minor": 0
      },
      "text/plain": [
       "Epoch 94/100:   0%|          | 0/714 [00:00<?, ?it/s]"
      ]
     },
     "metadata": {},
     "output_type": "display_data"
    },
    {
     "name": "stdout",
     "output_type": "stream",
     "text": [
      "\u001b[2m2023-10-02 22:39:38\u001b[0m [\u001b[32m\u001b[1minfo     \u001b[0m] \u001b[1mProbabilisticEnsembleDynamics_20231002222259: epoch=94 step=67116\u001b[0m \u001b[36mepoch\u001b[0m=\u001b[35m94\u001b[0m \u001b[36mmetrics\u001b[0m=\u001b[35m{'time_sample_batch': 0.0002052356549003879, 'time_algorithm_update': 0.012524250842609993, 'loss': -80.11704089327687, 'time_step': 0.012788459700362688, 'observation_error': 0.013627490528356066, 'reward_error': 1.6956499418302559e-06, 'variance': 0.0066519836836874055}\u001b[0m \u001b[36mstep\u001b[0m=\u001b[35m67116\u001b[0m\n",
      "\u001b[2m2023-10-02 22:39:38\u001b[0m [\u001b[32m\u001b[1minfo     \u001b[0m] \u001b[1mModel parameters are saved to d3rlpy_logs/ProbabilisticEnsembleDynamics_20231002222259/model_67116.pt\u001b[0m\n"
     ]
    },
    {
     "data": {
      "application/vnd.jupyter.widget-view+json": {
       "model_id": "c0e6af25e34441e9bec15f8234be66fc",
       "version_major": 2,
       "version_minor": 0
      },
      "text/plain": [
       "Epoch 95/100:   0%|          | 0/714 [00:00<?, ?it/s]"
      ]
     },
     "metadata": {},
     "output_type": "display_data"
    },
    {
     "name": "stdout",
     "output_type": "stream",
     "text": [
      "\u001b[2m2023-10-02 22:39:48\u001b[0m [\u001b[32m\u001b[1minfo     \u001b[0m] \u001b[1mProbabilisticEnsembleDynamics_20231002222259: epoch=95 step=67830\u001b[0m \u001b[36mepoch\u001b[0m=\u001b[35m95\u001b[0m \u001b[36mmetrics\u001b[0m=\u001b[35m{'time_sample_batch': 0.00020619066489510843, 'time_algorithm_update': 0.012527069791692312, 'loss': -79.85935853375774, 'time_step': 0.012792995329998454, 'observation_error': 0.015198788986708603, 'reward_error': 2.4848368896390247e-06, 'variance': 0.006428026154531553}\u001b[0m \u001b[36mstep\u001b[0m=\u001b[35m67830\u001b[0m\n",
      "\u001b[2m2023-10-02 22:39:48\u001b[0m [\u001b[32m\u001b[1minfo     \u001b[0m] \u001b[1mModel parameters are saved to d3rlpy_logs/ProbabilisticEnsembleDynamics_20231002222259/model_67830.pt\u001b[0m\n"
     ]
    },
    {
     "data": {
      "application/vnd.jupyter.widget-view+json": {
       "model_id": "209d19e4e22b41299864fe6f79aa46ac",
       "version_major": 2,
       "version_minor": 0
      },
      "text/plain": [
       "Epoch 96/100:   0%|          | 0/714 [00:00<?, ?it/s]"
      ]
     },
     "metadata": {},
     "output_type": "display_data"
    },
    {
     "name": "stdout",
     "output_type": "stream",
     "text": [
      "\u001b[2m2023-10-02 22:39:59\u001b[0m [\u001b[32m\u001b[1minfo     \u001b[0m] \u001b[1mProbabilisticEnsembleDynamics_20231002222259: epoch=96 step=68544\u001b[0m \u001b[36mepoch\u001b[0m=\u001b[35m96\u001b[0m \u001b[36mmetrics\u001b[0m=\u001b[35m{'time_sample_batch': 0.0002092109674833068, 'time_algorithm_update': 0.012772092966138482, 'loss': -78.83064852241708, 'time_step': 0.01303999530834978, 'observation_error': 0.014578261523697194, 'reward_error': 1.737079627894086e-06, 'variance': 0.006566553442444209}\u001b[0m \u001b[36mstep\u001b[0m=\u001b[35m68544\u001b[0m\n",
      "\u001b[2m2023-10-02 22:39:59\u001b[0m [\u001b[32m\u001b[1minfo     \u001b[0m] \u001b[1mModel parameters are saved to d3rlpy_logs/ProbabilisticEnsembleDynamics_20231002222259/model_68544.pt\u001b[0m\n"
     ]
    },
    {
     "data": {
      "application/vnd.jupyter.widget-view+json": {
       "model_id": "cb9770c543ad46c99686da059b46f01c",
       "version_major": 2,
       "version_minor": 0
      },
      "text/plain": [
       "Epoch 97/100:   0%|          | 0/714 [00:00<?, ?it/s]"
      ]
     },
     "metadata": {},
     "output_type": "display_data"
    },
    {
     "name": "stdout",
     "output_type": "stream",
     "text": [
      "\u001b[2m2023-10-02 22:40:09\u001b[0m [\u001b[32m\u001b[1minfo     \u001b[0m] \u001b[1mProbabilisticEnsembleDynamics_20231002222259: epoch=97 step=69258\u001b[0m \u001b[36mepoch\u001b[0m=\u001b[35m97\u001b[0m \u001b[36mmetrics\u001b[0m=\u001b[35m{'time_sample_batch': 0.000211833571853424, 'time_algorithm_update': 0.012745943390020803, 'loss': -81.12752402596782, 'time_step': 0.013015675277603106, 'observation_error': 0.016691786641825787, 'reward_error': 1.8763361421873507e-06, 'variance': 0.006869450657790211}\u001b[0m \u001b[36mstep\u001b[0m=\u001b[35m69258\u001b[0m\n",
      "\u001b[2m2023-10-02 22:40:09\u001b[0m [\u001b[32m\u001b[1minfo     \u001b[0m] \u001b[1mModel parameters are saved to d3rlpy_logs/ProbabilisticEnsembleDynamics_20231002222259/model_69258.pt\u001b[0m\n"
     ]
    },
    {
     "data": {
      "application/vnd.jupyter.widget-view+json": {
       "model_id": "b15d7e587ffa4929b9a377c7e5dc1da9",
       "version_major": 2,
       "version_minor": 0
      },
      "text/plain": [
       "Epoch 98/100:   0%|          | 0/714 [00:00<?, ?it/s]"
      ]
     },
     "metadata": {},
     "output_type": "display_data"
    },
    {
     "name": "stdout",
     "output_type": "stream",
     "text": [
      "\u001b[2m2023-10-02 22:40:20\u001b[0m [\u001b[32m\u001b[1minfo     \u001b[0m] \u001b[1mProbabilisticEnsembleDynamics_20231002222259: epoch=98 step=69972\u001b[0m \u001b[36mepoch\u001b[0m=\u001b[35m98\u001b[0m \u001b[36mmetrics\u001b[0m=\u001b[35m{'time_sample_batch': 0.00020890509714933337, 'time_algorithm_update': 0.01273606738456491, 'loss': -79.86528785021699, 'time_step': 0.013004485632525105, 'observation_error': 0.014436605453166171, 'reward_error': 1.6704304216171572e-06, 'variance': 0.006621047148157613}\u001b[0m \u001b[36mstep\u001b[0m=\u001b[35m69972\u001b[0m\n",
      "\u001b[2m2023-10-02 22:40:20\u001b[0m [\u001b[32m\u001b[1minfo     \u001b[0m] \u001b[1mModel parameters are saved to d3rlpy_logs/ProbabilisticEnsembleDynamics_20231002222259/model_69972.pt\u001b[0m\n"
     ]
    },
    {
     "data": {
      "application/vnd.jupyter.widget-view+json": {
       "model_id": "6e5c0e5fa6bc4e6096e7ab99cfc16d3f",
       "version_major": 2,
       "version_minor": 0
      },
      "text/plain": [
       "Epoch 99/100:   0%|          | 0/714 [00:00<?, ?it/s]"
      ]
     },
     "metadata": {},
     "output_type": "display_data"
    },
    {
     "name": "stdout",
     "output_type": "stream",
     "text": [
      "\u001b[2m2023-10-02 22:40:30\u001b[0m [\u001b[32m\u001b[1minfo     \u001b[0m] \u001b[1mProbabilisticEnsembleDynamics_20231002222259: epoch=99 step=70686\u001b[0m \u001b[36mepoch\u001b[0m=\u001b[35m99\u001b[0m \u001b[36mmetrics\u001b[0m=\u001b[35m{'time_sample_batch': 0.00020859889289578137, 'time_algorithm_update': 0.012814775234510918, 'loss': -79.79947139836159, 'time_step': 0.013081943621488512, 'observation_error': 0.015158814820186783, 'reward_error': 2.2440786606136927e-06, 'variance': 0.0069588452347616875}\u001b[0m \u001b[36mstep\u001b[0m=\u001b[35m70686\u001b[0m\n",
      "\u001b[2m2023-10-02 22:40:30\u001b[0m [\u001b[32m\u001b[1minfo     \u001b[0m] \u001b[1mModel parameters are saved to d3rlpy_logs/ProbabilisticEnsembleDynamics_20231002222259/model_70686.pt\u001b[0m\n"
     ]
    },
    {
     "data": {
      "application/vnd.jupyter.widget-view+json": {
       "model_id": "7d22ee2cff824ec99746771c67e56aeb",
       "version_major": 2,
       "version_minor": 0
      },
      "text/plain": [
       "Epoch 100/100:   0%|          | 0/714 [00:00<?, ?it/s]"
      ]
     },
     "metadata": {},
     "output_type": "display_data"
    },
    {
     "name": "stdout",
     "output_type": "stream",
     "text": [
      "\u001b[2m2023-10-02 22:40:41\u001b[0m [\u001b[32m\u001b[1minfo     \u001b[0m] \u001b[1mProbabilisticEnsembleDynamics_20231002222259: epoch=100 step=71400\u001b[0m \u001b[36mepoch\u001b[0m=\u001b[35m100\u001b[0m \u001b[36mmetrics\u001b[0m=\u001b[35m{'time_sample_batch': 0.00020658435607824672, 'time_algorithm_update': 0.012640309267017353, 'loss': -80.09595226373325, 'time_step': 0.01290584779253193, 'observation_error': 0.01638476880753239, 'reward_error': 2.342732445057707e-06, 'variance': 0.006173238159619211}\u001b[0m \u001b[36mstep\u001b[0m=\u001b[35m71400\u001b[0m\n",
      "\u001b[2m2023-10-02 22:40:41\u001b[0m [\u001b[32m\u001b[1minfo     \u001b[0m] \u001b[1mModel parameters are saved to d3rlpy_logs/ProbabilisticEnsembleDynamics_20231002222259/model_71400.pt\u001b[0m\n"
     ]
    },
    {
     "data": {
      "text/plain": [
       "[(1,\n",
       "  {'time_sample_batch': 0.00025343327295212516,\n",
       "   'time_algorithm_update': 0.014632226038379829,\n",
       "   'loss': -32.423491892193546,\n",
       "   'time_step': 0.014955992124327758,\n",
       "   'observation_error': 0.0250744053835917,\n",
       "   'reward_error': 0.0004974876921980015,\n",
       "   'variance': 0.023248634875645952}),\n",
       " (2,\n",
       "  {'time_sample_batch': 0.00026366657235709224,\n",
       "   'time_algorithm_update': 0.014832751757624437,\n",
       "   'loss': -39.16295184608267,\n",
       "   'time_step': 0.015169731375216102,\n",
       "   'observation_error': 0.014658510301083456,\n",
       "   'reward_error': 6.89559697864491e-05,\n",
       "   'variance': 0.008658544076944894}),\n",
       " (3,\n",
       "  {'time_sample_batch': 0.00023559963001924401,\n",
       "   'time_algorithm_update': 0.013485601636208072,\n",
       "   'loss': -45.77786203058494,\n",
       "   'time_step': 0.013787621543520973,\n",
       "   'observation_error': 0.012042198700714673,\n",
       "   'reward_error': 1.629846289681898e-05,\n",
       "   'variance': 0.0048035796677338635}),\n",
       " (4,\n",
       "  {'time_sample_batch': 0.00023266080380821762,\n",
       "   'time_algorithm_update': 0.013436230290837648,\n",
       "   'loss': -51.59308787220333,\n",
       "   'time_step': 0.01373397535970565,\n",
       "   'observation_error': 0.01087592561907697,\n",
       "   'reward_error': 1.6630053415299085e-05,\n",
       "   'variance': 0.003466686680444368}),\n",
       " (5,\n",
       "  {'time_sample_batch': 0.00024590906308812586,\n",
       "   'time_algorithm_update': 0.01407049517003762,\n",
       "   'loss': -56.26093903976996,\n",
       "   'time_step': 0.014385707238141228,\n",
       "   'observation_error': 0.01217544675060206,\n",
       "   'reward_error': 1.2070647215524472e-05,\n",
       "   'variance': 0.0063061931945269985}),\n",
       " (6,\n",
       "  {'time_sample_batch': 0.00024741136727212857,\n",
       "   'time_algorithm_update': 0.014018612415516744,\n",
       "   'loss': -60.274731405642854,\n",
       "   'time_step': 0.014335067666211381,\n",
       "   'observation_error': 0.01841036046455897,\n",
       "   'reward_error': 1.1749074769500355e-05,\n",
       "   'variance': 0.0160794353829738}),\n",
       " (7,\n",
       "  {'time_sample_batch': 0.0002475389245511437,\n",
       "   'time_algorithm_update': 0.014248137046642998,\n",
       "   'loss': -62.22624135084179,\n",
       "   'time_step': 0.014563774862209288,\n",
       "   'observation_error': 0.038086606237592205,\n",
       "   'reward_error': 2.0432097851931405e-05,\n",
       "   'variance': 0.03207377637563295}),\n",
       " (8,\n",
       "  {'time_sample_batch': 0.00024806484788739716,\n",
       "   'time_algorithm_update': 0.014097614782531055,\n",
       "   'loss': -64.25096931110244,\n",
       "   'time_step': 0.01441265421421254,\n",
       "   'observation_error': 0.053955551133552875,\n",
       "   'reward_error': 1.3181492096138941e-05,\n",
       "   'variance': 0.048174852636004586}),\n",
       " (9,\n",
       "  {'time_sample_batch': 0.00024136308194542465,\n",
       "   'time_algorithm_update': 0.013739639303597416,\n",
       "   'loss': -65.40275226721242,\n",
       "   'time_step': 0.014048227075101281,\n",
       "   'observation_error': 0.043884728701389916,\n",
       "   'reward_error': 1.4382381475559262e-05,\n",
       "   'variance': 0.04855431226885746}),\n",
       " (10,\n",
       "  {'time_sample_batch': 0.0002425421519773681,\n",
       "   'time_algorithm_update': 0.013602468813834739,\n",
       "   'loss': -66.92087991564881,\n",
       "   'time_step': 0.013913128556323652,\n",
       "   'observation_error': 0.04198545444693285,\n",
       "   'reward_error': 1.2573478382446982e-05,\n",
       "   'variance': 0.06314133615472678}),\n",
       " (11,\n",
       "  {'time_sample_batch': 0.00024933340836639833,\n",
       "   'time_algorithm_update': 0.013816708610171364,\n",
       "   'loss': -68.67256148656209,\n",
       "   'time_step': 0.014133419977182768,\n",
       "   'observation_error': 0.06247311398790629,\n",
       "   'reward_error': 9.936109333903995e-06,\n",
       "   'variance': 0.05953397177770538}),\n",
       " (12,\n",
       "  {'time_sample_batch': 0.0002572983920741148,\n",
       "   'time_algorithm_update': 0.014310473821410277,\n",
       "   'loss': -68.84791492814777,\n",
       "   'time_step': 0.014639131161345154,\n",
       "   'observation_error': 0.05037504901062528,\n",
       "   'reward_error': 9.319627186855834e-06,\n",
       "   'variance': 0.06007445102778237}),\n",
       " (13,\n",
       "  {'time_sample_batch': 0.00024757365218731534,\n",
       "   'time_algorithm_update': 0.013997837608935786,\n",
       "   'loss': -69.81998344229049,\n",
       "   'time_step': 0.01431397296467415,\n",
       "   'observation_error': 0.043027655456035915,\n",
       "   'reward_error': 1.21535017526862e-05,\n",
       "   'variance': 0.06185222150886935}),\n",
       " (14,\n",
       "  {'time_sample_batch': 0.00024149397842022552,\n",
       "   'time_algorithm_update': 0.013742535054182806,\n",
       "   'loss': -69.99471474829174,\n",
       "   'time_step': 0.014052857203977783,\n",
       "   'observation_error': 0.06344785228490325,\n",
       "   'reward_error': 9.35913412038971e-06,\n",
       "   'variance': 0.06392088539387143}),\n",
       " (15,\n",
       "  {'time_sample_batch': 0.00020959397323993073,\n",
       "   'time_algorithm_update': 0.012711158653601212,\n",
       "   'loss': -70.25496375327016,\n",
       "   'time_step': 0.012981552703707827,\n",
       "   'observation_error': 0.05642401838048873,\n",
       "   'reward_error': 6.984673901789045e-06,\n",
       "   'variance': 0.06370719545822343}),\n",
       " (16,\n",
       "  {'time_sample_batch': 0.00021456536792573475,\n",
       "   'time_algorithm_update': 0.012861284555173387,\n",
       "   'loss': -70.89738780644093,\n",
       "   'time_step': 0.013133511823766372,\n",
       "   'observation_error': 0.06578527273545665,\n",
       "   'reward_error': 6.6846407316780685e-06,\n",
       "   'variance': 0.06442262852827844}),\n",
       " (17,\n",
       "  {'time_sample_batch': 0.0002104828671580937,\n",
       "   'time_algorithm_update': 0.012809847917209486,\n",
       "   'loss': -71.88973435634324,\n",
       "   'time_step': 0.0130779759890559,\n",
       "   'observation_error': 0.05730784660952471,\n",
       "   'reward_error': 9.178654561845568e-06,\n",
       "   'variance': 0.06266556283118244}),\n",
       " (18,\n",
       "  {'time_sample_batch': 0.0002096120048971737,\n",
       "   'time_algorithm_update': 0.012653088369289366,\n",
       "   'loss': -71.62678347782594,\n",
       "   'time_step': 0.012920059075876445,\n",
       "   'observation_error': 0.05659273919399349,\n",
       "   'reward_error': 5.4656252942030426e-06,\n",
       "   'variance': 0.057412669811357536}),\n",
       " (19,\n",
       "  {'time_sample_batch': 0.00020940363908014377,\n",
       "   'time_algorithm_update': 0.01268240149949445,\n",
       "   'loss': -72.62280757086617,\n",
       "   'time_step': 0.012949388902060458,\n",
       "   'observation_error': 0.05172964054321117,\n",
       "   'reward_error': 4.940022687630355e-06,\n",
       "   'variance': 0.05583630238326449}),\n",
       " (20,\n",
       "  {'time_sample_batch': 0.00020826497331720775,\n",
       "   'time_algorithm_update': 0.012693509000356124,\n",
       "   'loss': -71.83611405897541,\n",
       "   'time_step': 0.01296033278232863,\n",
       "   'observation_error': 0.05436027532071496,\n",
       "   'reward_error': 4.566444963338718e-06,\n",
       "   'variance': 0.05624595285255628}),\n",
       " (21,\n",
       "  {'time_sample_batch': 0.00021688176804229994,\n",
       "   'time_algorithm_update': 0.01265534900483631,\n",
       "   'loss': -72.54794442687049,\n",
       "   'time_step': 0.012932838178148456,\n",
       "   'observation_error': 0.07216766820731897,\n",
       "   'reward_error': 3.347218619784227e-06,\n",
       "   'variance': 0.053684707389414214}),\n",
       " (22,\n",
       "  {'time_sample_batch': 0.00020771333817340412,\n",
       "   'time_algorithm_update': 0.012709518440631257,\n",
       "   'loss': -73.01669137350986,\n",
       "   'time_step': 0.012975593240989023,\n",
       "   'observation_error': 0.04207075670645406,\n",
       "   'reward_error': 4.677860273266169e-06,\n",
       "   'variance': 0.05027390429119988}),\n",
       " (23,\n",
       "  {'time_sample_batch': 0.00020497152451373615,\n",
       "   'time_algorithm_update': 0.01250641753359669,\n",
       "   'loss': -72.86099732823733,\n",
       "   'time_step': 0.012768355404295507,\n",
       "   'observation_error': 0.05577840073817622,\n",
       "   'reward_error': 1.380805915917473e-05,\n",
       "   'variance': 0.04833179138663863}),\n",
       " (24,\n",
       "  {'time_sample_batch': 0.0002100410915556408,\n",
       "   'time_algorithm_update': 0.012655253169917259,\n",
       "   'loss': -73.42476616186254,\n",
       "   'time_step': 0.012923092735247785,\n",
       "   'observation_error': 0.04432817791405846,\n",
       "   'reward_error': 4.183886123276214e-06,\n",
       "   'variance': 0.044301171110430616}),\n",
       " (25,\n",
       "  {'time_sample_batch': 0.00020911012377057756,\n",
       "   'time_algorithm_update': 0.012727901715190471,\n",
       "   'loss': -73.08438565550732,\n",
       "   'time_step': 0.012994172526340858,\n",
       "   'observation_error': 0.04570917458754428,\n",
       "   'reward_error': 3.139773274985377e-06,\n",
       "   'variance': 0.046132570310336206}),\n",
       " (26,\n",
       "  {'time_sample_batch': 0.00021201555802374662,\n",
       "   'time_algorithm_update': 0.012664166485228124,\n",
       "   'loss': -73.8645676417845,\n",
       "   'time_step': 0.012935952979977391,\n",
       "   'observation_error': 0.04473080849556927,\n",
       "   'reward_error': 7.369742562091132e-06,\n",
       "   'variance': 0.039771116888567104}),\n",
       " (27,\n",
       "  {'time_sample_batch': 0.00021078573221585997,\n",
       "   'time_algorithm_update': 0.012823690553339255,\n",
       "   'loss': -74.20202216781487,\n",
       "   'time_step': 0.013094811546368426,\n",
       "   'observation_error': 0.043525581698058265,\n",
       "   'reward_error': 5.974793136824328e-06,\n",
       "   'variance': 0.038673362916976435}),\n",
       " (28,\n",
       "  {'time_sample_batch': 0.0002201181165978354,\n",
       "   'time_algorithm_update': 0.013259668310149377,\n",
       "   'loss': -73.38331200896191,\n",
       "   'time_step': 0.013542997736890777,\n",
       "   'observation_error': 0.042932621106234393,\n",
       "   'reward_error': 4.252893206210523e-06,\n",
       "   'variance': 0.03743072448138106}),\n",
       " (29,\n",
       "  {'time_sample_batch': 0.0002252581406708191,\n",
       "   'time_algorithm_update': 0.01312824257281648,\n",
       "   'loss': -74.03008449378135,\n",
       "   'time_step': 0.013417172832649295,\n",
       "   'observation_error': 0.03908303210839605,\n",
       "   'reward_error': 3.047159328326928e-06,\n",
       "   'variance': 0.034422375926389075}),\n",
       " (30,\n",
       "  {'time_sample_batch': 0.0002247165231143727,\n",
       "   'time_algorithm_update': 0.013235582690946861,\n",
       "   'loss': -74.17644306524795,\n",
       "   'time_step': 0.013521122999217998,\n",
       "   'observation_error': 0.03220287160832033,\n",
       "   'reward_error': 3.6923077420847166e-06,\n",
       "   'variance': 0.03318161652954844}),\n",
       " (31,\n",
       "  {'time_sample_batch': 0.0002102501252118279,\n",
       "   'time_algorithm_update': 0.012683356175569593,\n",
       "   'loss': -74.38382821924546,\n",
       "   'time_step': 0.012953463388758213,\n",
       "   'observation_error': 0.0375818353783818,\n",
       "   'reward_error': 3.865772627367388e-06,\n",
       "   'variance': 0.031165474669921988}),\n",
       " (32,\n",
       "  {'time_sample_batch': 0.0002117801447208522,\n",
       "   'time_algorithm_update': 0.01257630890490962,\n",
       "   'loss': -74.83037492207119,\n",
       "   'time_step': 0.012847145732377423,\n",
       "   'observation_error': 0.02899070582331189,\n",
       "   'reward_error': 3.4797896653455443e-06,\n",
       "   'variance': 0.028024381981408827}),\n",
       " (33,\n",
       "  {'time_sample_batch': 0.00021254916151030724,\n",
       "   'time_algorithm_update': 0.012674392438402363,\n",
       "   'loss': -74.61396298555432,\n",
       "   'time_step': 0.012945574538714411,\n",
       "   'observation_error': 0.033828068150421484,\n",
       "   'reward_error': 4.68089784524787e-06,\n",
       "   'variance': 0.028284736416125892}),\n",
       " (34,\n",
       "  {'time_sample_batch': 0.0002052850749980168,\n",
       "   'time_algorithm_update': 0.012537131122514313,\n",
       "   'loss': -74.35198788415818,\n",
       "   'time_step': 0.012799604934136741,\n",
       "   'observation_error': 0.03544646295643527,\n",
       "   'reward_error': 4.0215122159925095e-06,\n",
       "   'variance': 0.02767280293369434}),\n",
       " (35,\n",
       "  {'time_sample_batch': 0.00020601235184015013,\n",
       "   'time_algorithm_update': 0.012541307788603111,\n",
       "   'loss': -74.14135150081303,\n",
       "   'time_step': 0.012805121953413934,\n",
       "   'observation_error': 0.03037058852464748,\n",
       "   'reward_error': 3.803332967177089e-06,\n",
       "   'variance': 0.025788127765532846}),\n",
       " (36,\n",
       "  {'time_sample_batch': 0.0002093765915942793,\n",
       "   'time_algorithm_update': 0.012708027823632504,\n",
       "   'loss': -74.23843237532287,\n",
       "   'time_step': 0.012975674049527037,\n",
       "   'observation_error': 0.02960927464163719,\n",
       "   'reward_error': 3.206950143474435e-06,\n",
       "   'variance': 0.02544837929628626}),\n",
       " (37,\n",
       "  {'time_sample_batch': 0.00021032191792122123,\n",
       "   'time_algorithm_update': 0.012627181218785732,\n",
       "   'loss': -75.21406593376182,\n",
       "   'time_step': 0.012893692452032693,\n",
       "   'observation_error': 0.028335302808498917,\n",
       "   'reward_error': 7.992184561583544e-06,\n",
       "   'variance': 0.022328075526294275}),\n",
       " (38,\n",
       "  {'time_sample_batch': 0.00020493746471672165,\n",
       "   'time_algorithm_update': 0.012534934933446035,\n",
       "   'loss': -76.04307691055854,\n",
       "   'time_step': 0.012795337775842148,\n",
       "   'observation_error': 0.025575839772150537,\n",
       "   'reward_error': 5.671173577952069e-06,\n",
       "   'variance': 0.021192147740924667}),\n",
       " (39,\n",
       "  {'time_sample_batch': 0.00020744453291265236,\n",
       "   'time_algorithm_update': 0.012602785388294723,\n",
       "   'loss': -75.08931980881036,\n",
       "   'time_step': 0.012868549643444414,\n",
       "   'observation_error': 0.027015750719736775,\n",
       "   'reward_error': 4.165066283304686e-06,\n",
       "   'variance': 0.019992082948958687}),\n",
       " (40,\n",
       "  {'time_sample_batch': 0.0002060086787247858,\n",
       "   'time_algorithm_update': 0.012561421100498916,\n",
       "   'loss': -74.51844748061578,\n",
       "   'time_step': 0.012825422594193317,\n",
       "   'observation_error': 0.03197357665077833,\n",
       "   'reward_error': 4.21599624178466e-06,\n",
       "   'variance': 0.021750754965349124}),\n",
       " (41,\n",
       "  {'time_sample_batch': 0.0002051014192298013,\n",
       "   'time_algorithm_update': 0.012619658344600047,\n",
       "   'loss': -75.55874830668046,\n",
       "   'time_step': 0.012882692807194899,\n",
       "   'observation_error': 0.02691282426322183,\n",
       "   'reward_error': 3.2627310137935715e-06,\n",
       "   'variance': 0.019620717338635584}),\n",
       " (42,\n",
       "  {'time_sample_batch': 0.00020344217284386899,\n",
       "   'time_algorithm_update': 0.012666395064495524,\n",
       "   'loss': -76.39945732779195,\n",
       "   'time_step': 0.012926473670980843,\n",
       "   'observation_error': 0.024651245353676948,\n",
       "   'reward_error': 3.176688113332456e-06,\n",
       "   'variance': 0.018344677159082404}),\n",
       " (43,\n",
       "  {'time_sample_batch': 0.000217723579299884,\n",
       "   'time_algorithm_update': 0.012691296449228496,\n",
       "   'loss': -75.70180119586593,\n",
       "   'time_step': 0.012967859997468837,\n",
       "   'observation_error': 0.025742280005340692,\n",
       "   'reward_error': 4.96143259941723e-06,\n",
       "   'variance': 0.01678306050676985}),\n",
       " (44,\n",
       "  {'time_sample_batch': 0.00020886335720201167,\n",
       "   'time_algorithm_update': 0.012663588804357192,\n",
       "   'loss': -76.32146003199558,\n",
       "   'time_step': 0.012931125504629952,\n",
       "   'observation_error': 0.025549902457323834,\n",
       "   'reward_error': 3.3272262034794765e-06,\n",
       "   'variance': 0.017194981215062008}),\n",
       " (45,\n",
       "  {'time_sample_batch': 0.00020826564115636488,\n",
       "   'time_algorithm_update': 0.012645765179011668,\n",
       "   'loss': -73.57659317665741,\n",
       "   'time_step': 0.012913952020703912,\n",
       "   'observation_error': 0.02527511243371038,\n",
       "   'reward_error': 3.259623126246171e-06,\n",
       "   'variance': 0.017180339435559983}),\n",
       " (46,\n",
       "  {'time_sample_batch': 0.00020628316061837331,\n",
       "   'time_algorithm_update': 0.01268807846624978,\n",
       "   'loss': -76.06167580901074,\n",
       "   'time_step': 0.01295336588424127,\n",
       "   'observation_error': 0.02030031358784333,\n",
       "   'reward_error': 2.917573288735778e-06,\n",
       "   'variance': 0.015057967539543356}),\n",
       " (47,\n",
       "  {'time_sample_batch': 0.00021043177746257193,\n",
       "   'time_algorithm_update': 0.012867269061860583,\n",
       "   'loss': -77.41248112098843,\n",
       "   'time_step': 0.01313702866476791,\n",
       "   'observation_error': 0.019927523886961514,\n",
       "   'reward_error': 3.146825548566436e-06,\n",
       "   'variance': 0.013982860239237857}),\n",
       " (48,\n",
       "  {'time_sample_batch': 0.00020772502535865422,\n",
       "   'time_algorithm_update': 0.012866521082004579,\n",
       "   'loss': -76.23687281995929,\n",
       "   'time_step': 0.013131378077659286,\n",
       "   'observation_error': 0.020698192388010787,\n",
       "   'reward_error': 2.6894814715244363e-06,\n",
       "   'variance': 0.014920254476982238}),\n",
       " (49,\n",
       "  {'time_sample_batch': 0.0002111560490284981,\n",
       "   'time_algorithm_update': 0.012835217457191617,\n",
       "   'loss': -77.10645179588253,\n",
       "   'time_step': 0.013104929309599205,\n",
       "   'observation_error': 0.023923953902909727,\n",
       "   'reward_error': 6.415628117766835e-06,\n",
       "   'variance': 0.013322900753440468}),\n",
       " (50,\n",
       "  {'time_sample_batch': 0.00021020537998829903,\n",
       "   'time_algorithm_update': 0.012734048506792854,\n",
       "   'loss': -76.21595737980861,\n",
       "   'time_step': 0.013001182833973434,\n",
       "   'observation_error': 0.02221913009081278,\n",
       "   'reward_error': 2.547195902601312e-06,\n",
       "   'variance': 0.013147210504452294}),\n",
       " (51,\n",
       "  {'time_sample_batch': 0.000207216131920908,\n",
       "   'time_algorithm_update': 0.012503801273698566,\n",
       "   'loss': -76.53046154374836,\n",
       "   'time_step': 0.012769181521332898,\n",
       "   'observation_error': 0.02003725968697537,\n",
       "   'reward_error': 4.686749533151736e-06,\n",
       "   'variance': 0.0121743602273814}),\n",
       " (52,\n",
       "  {'time_sample_batch': 0.00020902263684099127,\n",
       "   'time_algorithm_update': 0.012514424591171308,\n",
       "   'loss': -75.51450818726997,\n",
       "   'time_step': 0.012783109306955203,\n",
       "   'observation_error': 0.020793535476100536,\n",
       "   'reward_error': 6.020644606987566e-06,\n",
       "   'variance': 0.012448160217020703}),\n",
       " (53,\n",
       "  {'time_sample_batch': 0.00020925437702852136,\n",
       "   'time_algorithm_update': 0.012640432483341848,\n",
       "   'loss': -77.08699557360481,\n",
       "   'time_step': 0.01290763659971435,\n",
       "   'observation_error': 0.018308736897382417,\n",
       "   'reward_error': 2.23869624658854e-06,\n",
       "   'variance': 0.01218442991280306}),\n",
       " (54,\n",
       "  {'time_sample_batch': 0.0002059265345084567,\n",
       "   'time_algorithm_update': 0.012575455406466787,\n",
       "   'loss': -76.85530864891885,\n",
       "   'time_step': 0.01284007198002492,\n",
       "   'observation_error': 0.018203938112881894,\n",
       "   'reward_error': 2.0134335395005476e-06,\n",
       "   'variance': 0.011531972384720252}),\n",
       " (55,\n",
       "  {'time_sample_batch': 0.00020538191167580313,\n",
       "   'time_algorithm_update': 0.012503552837532107,\n",
       "   'loss': -77.02395337102126,\n",
       "   'time_step': 0.012766131833821786,\n",
       "   'observation_error': 0.01670427922753408,\n",
       "   'reward_error': 2.555516990382603e-06,\n",
       "   'variance': 0.011786157897302203}),\n",
       " (56,\n",
       "  {'time_sample_batch': 0.0002112575605803845,\n",
       "   'time_algorithm_update': 0.012653107068785766,\n",
       "   'loss': -78.0272841653904,\n",
       "   'time_step': 0.012924005337456027,\n",
       "   'observation_error': 0.019205471961294858,\n",
       "   'reward_error': 2.40881129390515e-06,\n",
       "   'variance': 0.011330244484101831}),\n",
       " (57,\n",
       "  {'time_sample_batch': 0.00020709658871177866,\n",
       "   'time_algorithm_update': 0.012674128975854869,\n",
       "   'loss': -75.95429801005943,\n",
       "   'time_step': 0.012941494709303399,\n",
       "   'observation_error': 0.019619313190662027,\n",
       "   'reward_error': 3.268644366073145e-06,\n",
       "   'variance': 0.010734882031690558}),\n",
       " (58,\n",
       "  {'time_sample_batch': 0.00020738442738850912,\n",
       "   'time_algorithm_update': 0.012654313854142731,\n",
       "   'loss': -77.76389559577493,\n",
       "   'time_step': 0.012921393418512424,\n",
       "   'observation_error': 0.018679731204726723,\n",
       "   'reward_error': 2.6737976982722936e-06,\n",
       "   'variance': 0.010701323088637752}),\n",
       " (59,\n",
       "  {'time_sample_batch': 0.00020781852284065483,\n",
       "   'time_algorithm_update': 0.01267499917027663,\n",
       "   'loss': -77.43012169829937,\n",
       "   'time_step': 0.012942790985107422,\n",
       "   'observation_error': 0.017594326419973078,\n",
       "   'reward_error': 2.34124537727355e-06,\n",
       "   'variance': 0.010127298952590246}),\n",
       " (60,\n",
       "  {'time_sample_batch': 0.00020658068296288242,\n",
       "   'time_algorithm_update': 0.012569538017614883,\n",
       "   'loss': -77.59400069746985,\n",
       "   'time_step': 0.012832769158841515,\n",
       "   'observation_error': 0.02126147463976899,\n",
       "   'reward_error': 1.8404136765971117e-06,\n",
       "   'variance': 0.010400084710561119}),\n",
       " (61,\n",
       "  {'time_sample_batch': 0.0002067630030527836,\n",
       "   'time_algorithm_update': 0.012672313121186584,\n",
       "   'loss': -77.7635330579528,\n",
       "   'time_step': 0.012938338167527142,\n",
       "   'observation_error': 0.018552804965818685,\n",
       "   'reward_error': 2.4456885927496164e-06,\n",
       "   'variance': 0.009847038306688559}),\n",
       " (62,\n",
       "  {'time_sample_batch': 0.00021259357281425755,\n",
       "   'time_algorithm_update': 0.012890600356735102,\n",
       "   'loss': -77.05196002618271,\n",
       "   'time_step': 0.01316321964691333,\n",
       "   'observation_error': 0.021607283894520497,\n",
       "   'reward_error': 2.202596046591908e-06,\n",
       "   'variance': 0.009949784599364084}),\n",
       " (63,\n",
       "  {'time_sample_batch': 0.00020710527062082156,\n",
       "   'time_algorithm_update': 0.01271684296658727,\n",
       "   'loss': -77.63016593356092,\n",
       "   'time_step': 0.012982278310952066,\n",
       "   'observation_error': 0.017627611232959195,\n",
       "   'reward_error': 2.124045983413852e-06,\n",
       "   'variance': 0.0096265034450849}),\n",
       " (64,\n",
       "  {'time_sample_batch': 0.00020875316374108238,\n",
       "   'time_algorithm_update': 0.012801633495576576,\n",
       "   'loss': -76.94492320586987,\n",
       "   'time_step': 0.013068461618503602,\n",
       "   'observation_error': 0.019469712284074948,\n",
       "   'reward_error': 2.4515653808790925e-06,\n",
       "   'variance': 0.009560784772345147}),\n",
       " (65,\n",
       "  {'time_sample_batch': 0.0002118422537624669,\n",
       "   'time_algorithm_update': 0.01275724890519257,\n",
       "   'loss': -78.00432796638553,\n",
       "   'time_step': 0.013026262197841783,\n",
       "   'observation_error': 0.018035636527188828,\n",
       "   'reward_error': 2.6326706924822584e-06,\n",
       "   'variance': 0.010032838762124997}),\n",
       " (66,\n",
       "  {'time_sample_batch': 0.00020739143969965916,\n",
       "   'time_algorithm_update': 0.012837359551288167,\n",
       "   'loss': -78.63204725049123,\n",
       "   'time_step': 0.013100491184480385,\n",
       "   'observation_error': 0.0180045218718956,\n",
       "   'reward_error': 3.0051820019999333e-06,\n",
       "   'variance': 0.010073876582147258}),\n",
       " (67,\n",
       "  {'time_sample_batch': 0.0002096146762538023,\n",
       "   'time_algorithm_update': 0.012840600574717802,\n",
       "   'loss': -77.80282940316935,\n",
       "   'time_step': 0.0131086057641593,\n",
       "   'observation_error': 0.01707108118187315,\n",
       "   'reward_error': 2.3416857925650147e-06,\n",
       "   'variance': 0.008968348175832782}),\n",
       " (68,\n",
       "  {'time_sample_batch': 0.0002095321981178946,\n",
       "   'time_algorithm_update': 0.012585578178491244,\n",
       "   'loss': -77.66946767491787,\n",
       "   'time_step': 0.01285407122443704,\n",
       "   'observation_error': 0.020388849973693526,\n",
       "   'reward_error': 2.7979547313428094e-06,\n",
       "   'variance': 0.00901378056202886}),\n",
       " (69,\n",
       "  {'time_sample_batch': 0.0002124954004581569,\n",
       "   'time_algorithm_update': 0.012594119841311159,\n",
       "   'loss': -77.81787878458573,\n",
       "   'time_step': 0.01286606895489519,\n",
       "   'observation_error': 0.015823622984289624,\n",
       "   'reward_error': 2.7379671695685045e-06,\n",
       "   'variance': 0.0100772087444905}),\n",
       " (70,\n",
       "  {'time_sample_batch': 0.0002141786890537465,\n",
       "   'time_algorithm_update': 0.012616873789234321,\n",
       "   'loss': -78.27599601318188,\n",
       "   'time_step': 0.012889398580171815,\n",
       "   'observation_error': 0.017049366424555658,\n",
       "   'reward_error': 2.6255686393758884e-06,\n",
       "   'variance': 0.008747500849292348}),\n",
       " (71,\n",
       "  {'time_sample_batch': 0.00021315255418878978,\n",
       "   'time_algorithm_update': 0.012614940060954802,\n",
       "   'loss': -78.36297733509907,\n",
       "   'time_step': 0.012888583148560938,\n",
       "   'observation_error': 0.01584168824289929,\n",
       "   'reward_error': 2.427534253374288e-06,\n",
       "   'variance': 0.008456528235192051}),\n",
       " (72,\n",
       "  {'time_sample_batch': 0.00020959397323993073,\n",
       "   'time_algorithm_update': 0.012686265282938126,\n",
       "   'loss': -77.74171309911904,\n",
       "   'time_step': 0.012952550786549971,\n",
       "   'observation_error': 0.019136065509694825,\n",
       "   'reward_error': 3.355443783257249e-06,\n",
       "   'variance': 0.008672919969607507}),\n",
       " (73,\n",
       "  {'time_sample_batch': 0.00021054597795844412,\n",
       "   'time_algorithm_update': 0.012788340491073137,\n",
       "   'loss': -79.24971461362865,\n",
       "   'time_step': 0.013058108108050349,\n",
       "   'observation_error': 0.016268740163477537,\n",
       "   'reward_error': 8.486207550705619e-06,\n",
       "   'variance': 0.008492768982137933}),\n",
       " (74,\n",
       "  {'time_sample_batch': 0.0002060988370110007,\n",
       "   'time_algorithm_update': 0.01262326768132485,\n",
       "   'loss': -78.15777607658664,\n",
       "   'time_step': 0.012888346399579729,\n",
       "   'observation_error': 0.01619982692952417,\n",
       "   'reward_error': 3.2041456813374736e-06,\n",
       "   'variance': 0.008387846948667151}),\n",
       " (75,\n",
       "  {'time_sample_batch': 0.0002096918116764528,\n",
       "   'time_algorithm_update': 0.012651160317642683,\n",
       "   'loss': -78.69659335673356,\n",
       "   'time_step': 0.012918846947806222,\n",
       "   'observation_error': 0.01857022667099146,\n",
       "   'reward_error': 2.3546328739525788e-06,\n",
       "   'variance': 0.008548590062126087}),\n",
       " (76,\n",
       "  {'time_sample_batch': 0.00021576781232817834,\n",
       "   'time_algorithm_update': 0.012867449378433014,\n",
       "   'loss': -79.20719082081685,\n",
       "   'time_step': 0.013140505769339596,\n",
       "   'observation_error': 0.01812869077870492,\n",
       "   'reward_error': 2.276729176105733e-06,\n",
       "   'variance': 0.008849683447685228}),\n",
       " (77,\n",
       "  {'time_sample_batch': 0.00021410455890730315,\n",
       "   'time_algorithm_update': 0.012720336099298728,\n",
       "   'loss': -76.42088863495685,\n",
       "   'time_step': 0.01299633732696875,\n",
       "   'observation_error': 0.016916735334267345,\n",
       "   'reward_error': 2.9392367461819044e-06,\n",
       "   'variance': 0.008030134917602766}),\n",
       " (78,\n",
       "  {'time_sample_batch': 0.00021636018566056794,\n",
       "   'time_algorithm_update': 0.012754883084978377,\n",
       "   'loss': -79.12753471005864,\n",
       "   'time_step': 0.013028182903257739,\n",
       "   'observation_error': 0.0162498556078119,\n",
       "   'reward_error': 7.932379544159205e-06,\n",
       "   'variance': 0.008509179502415806}),\n",
       " (79,\n",
       "  {'time_sample_batch': 0.00021142652388714275,\n",
       "   'time_algorithm_update': 0.012938489767015815,\n",
       "   'loss': -78.54467449669076,\n",
       "   'time_step': 0.01321019011051381,\n",
       "   'observation_error': 0.017559989724296485,\n",
       "   'reward_error': 2.1483497830640036e-06,\n",
       "   'variance': 0.007802521085226148}),\n",
       " (80,\n",
       "  {'time_sample_batch': 0.00020926372677672144,\n",
       "   'time_algorithm_update': 0.01271256111583122,\n",
       "   'loss': -79.73599692085544,\n",
       "   'time_step': 0.012979087709378796,\n",
       "   'observation_error': 0.015179676292958532,\n",
       "   'reward_error': 1.9486635680701454e-06,\n",
       "   'variance': 0.007741671800239861}),\n",
       " (81,\n",
       "  {'time_sample_batch': 0.0002092146405986711,\n",
       "   'time_algorithm_update': 0.012592645252452177,\n",
       "   'loss': -79.5644655788646,\n",
       "   'time_step': 0.012861185047138972,\n",
       "   'observation_error': 0.016639534539227115,\n",
       "   'reward_error': 1.9484529469268186e-06,\n",
       "   'variance': 0.007241305905945459}),\n",
       " (82,\n",
       "  {'time_sample_batch': 0.00020850806677040934,\n",
       "   'time_algorithm_update': 0.01262618413492411,\n",
       "   'loss': -79.11710915178143,\n",
       "   'time_step': 0.012891865578018316,\n",
       "   'observation_error': 0.017404526943045888,\n",
       "   'reward_error': 1.9587140820531556e-06,\n",
       "   'variance': 0.00770078233141308}),\n",
       " (83,\n",
       "  {'time_sample_batch': 0.0002092894385842716,\n",
       "   'time_algorithm_update': 0.01268414122049882,\n",
       "   'loss': -78.20483256321327,\n",
       "   'time_step': 0.012953268379724327,\n",
       "   'observation_error': 0.015028788893967747,\n",
       "   'reward_error': 2.3719462419916795e-06,\n",
       "   'variance': 0.007963542017750052}),\n",
       " (84,\n",
       "  {'time_sample_batch': 0.00021309244866464652,\n",
       "   'time_algorithm_update': 0.01267481217531263,\n",
       "   'loss': -76.99398184223335,\n",
       "   'time_step': 0.012946730902215013,\n",
       "   'observation_error': 0.017707936703445237,\n",
       "   'reward_error': 3.804027559331201e-06,\n",
       "   'variance': 0.00884763274046575}),\n",
       " (85,\n",
       "  {'time_sample_batch': 0.00020988081015792546,\n",
       "   'time_algorithm_update': 0.01255025583155015,\n",
       "   'loss': -79.22385826765323,\n",
       "   'time_step': 0.012818908491054503,\n",
       "   'observation_error': 0.01723134224024763,\n",
       "   'reward_error': 1.7151926077401769e-06,\n",
       "   'variance': 0.007487487004758054}),\n",
       " (86,\n",
       "  {'time_sample_batch': 0.00020949646872298725,\n",
       "   'time_algorithm_update': 0.012569184396781173,\n",
       "   'loss': -79.64823516877759,\n",
       "   'time_step': 0.01283760698569589,\n",
       "   'observation_error': 0.01679296547105202,\n",
       "   'reward_error': 1.7688295922552465e-06,\n",
       "   'variance': 0.00760390972283416}),\n",
       " (87,\n",
       "  {'time_sample_batch': 0.00021024979129224933,\n",
       "   'time_algorithm_update': 0.012688172297651361,\n",
       "   'loss': -79.79309313771438,\n",
       "   'time_step': 0.01295623358558206,\n",
       "   'observation_error': 0.015631740388272735,\n",
       "   'reward_error': 1.7017908570612324e-06,\n",
       "   'variance': 0.0068460034499975946}),\n",
       " (88,\n",
       "  {'time_sample_batch': 0.0002104551518330721,\n",
       "   'time_algorithm_update': 0.012643645123607303,\n",
       "   'loss': -79.79635737656879,\n",
       "   'time_step': 0.012912774286350282,\n",
       "   'observation_error': 0.016700291676188313,\n",
       "   'reward_error': 1.8446057887378556e-06,\n",
       "   'variance': 0.007426773063072917}),\n",
       " (89,\n",
       "  {'time_sample_batch': 0.00021006479984571954,\n",
       "   'time_algorithm_update': 0.012591296885193897,\n",
       "   'loss': -80.23721443037358,\n",
       "   'time_step': 0.01285776303929775,\n",
       "   'observation_error': 0.016494492462158266,\n",
       "   'reward_error': 2.0691076163461336e-06,\n",
       "   'variance': 0.0065298744706558205}),\n",
       " (90,\n",
       "  {'time_sample_batch': 0.0002080883298601423,\n",
       "   'time_algorithm_update': 0.012717796974823255,\n",
       "   'loss': -79.2045233055991,\n",
       "   'time_step': 0.012984108858081806,\n",
       "   'observation_error': 0.013901231820995865,\n",
       "   'reward_error': 2.5001187418227325e-06,\n",
       "   'variance': 0.006646338646819755}),\n",
       " (91,\n",
       "  {'time_sample_batch': 0.0002099652918113046,\n",
       "   'time_algorithm_update': 0.012648479611265893,\n",
       "   'loss': -79.40038241057837,\n",
       "   'time_step': 0.012917797438570765,\n",
       "   'observation_error': 0.015163704248409595,\n",
       "   'reward_error': 1.610705133805459e-06,\n",
       "   'variance': 0.006332512259923118}),\n",
       " (92,\n",
       "  {'time_sample_batch': 0.00020742850477288084,\n",
       "   'time_algorithm_update': 0.012699517549252977,\n",
       "   'loss': -79.3455577297371,\n",
       "   'time_step': 0.012966301260876055,\n",
       "   'observation_error': 0.015253187846687749,\n",
       "   'reward_error': 1.7998975157474038e-06,\n",
       "   'variance': 0.006869181529625028}),\n",
       " (93,\n",
       "  {'time_sample_batch': 0.0002106688603633592,\n",
       "   'time_algorithm_update': 0.012609661126337131,\n",
       "   'loss': -80.51317649328408,\n",
       "   'time_step': 0.012878516808945258,\n",
       "   'observation_error': 0.014347794856714662,\n",
       "   'reward_error': 2.169010653460444e-06,\n",
       "   'variance': 0.00686078925451392}),\n",
       " (94,\n",
       "  {'time_sample_batch': 0.0002052356549003879,\n",
       "   'time_algorithm_update': 0.012524250842609993,\n",
       "   'loss': -80.11704089327687,\n",
       "   'time_step': 0.012788459700362688,\n",
       "   'observation_error': 0.013627490528356066,\n",
       "   'reward_error': 1.6956499418302559e-06,\n",
       "   'variance': 0.0066519836836874055}),\n",
       " (95,\n",
       "  {'time_sample_batch': 0.00020619066489510843,\n",
       "   'time_algorithm_update': 0.012527069791692312,\n",
       "   'loss': -79.85935853375774,\n",
       "   'time_step': 0.012792995329998454,\n",
       "   'observation_error': 0.015198788986708603,\n",
       "   'reward_error': 2.4848368896390247e-06,\n",
       "   'variance': 0.006428026154531553}),\n",
       " (96,\n",
       "  {'time_sample_batch': 0.0002092109674833068,\n",
       "   'time_algorithm_update': 0.012772092966138482,\n",
       "   'loss': -78.83064852241708,\n",
       "   'time_step': 0.01303999530834978,\n",
       "   'observation_error': 0.014578261523697194,\n",
       "   'reward_error': 1.737079627894086e-06,\n",
       "   'variance': 0.006566553442444209}),\n",
       " (97,\n",
       "  {'time_sample_batch': 0.000211833571853424,\n",
       "   'time_algorithm_update': 0.012745943390020803,\n",
       "   'loss': -81.12752402596782,\n",
       "   'time_step': 0.013015675277603106,\n",
       "   'observation_error': 0.016691786641825787,\n",
       "   'reward_error': 1.8763361421873507e-06,\n",
       "   'variance': 0.006869450657790211}),\n",
       " (98,\n",
       "  {'time_sample_batch': 0.00020890509714933337,\n",
       "   'time_algorithm_update': 0.01273606738456491,\n",
       "   'loss': -79.86528785021699,\n",
       "   'time_step': 0.013004485632525105,\n",
       "   'observation_error': 0.014436605453166171,\n",
       "   'reward_error': 1.6704304216171572e-06,\n",
       "   'variance': 0.006621047148157613}),\n",
       " (99,\n",
       "  {'time_sample_batch': 0.00020859889289578137,\n",
       "   'time_algorithm_update': 0.012814775234510918,\n",
       "   'loss': -79.79947139836159,\n",
       "   'time_step': 0.013081943621488512,\n",
       "   'observation_error': 0.015158814820186783,\n",
       "   'reward_error': 2.2440786606136927e-06,\n",
       "   'variance': 0.0069588452347616875}),\n",
       " (100,\n",
       "  {'time_sample_batch': 0.00020658435607824672,\n",
       "   'time_algorithm_update': 0.012640309267017353,\n",
       "   'loss': -80.09595226373325,\n",
       "   'time_step': 0.01290584779253193,\n",
       "   'observation_error': 0.01638476880753239,\n",
       "   'reward_error': 2.342732445057707e-06,\n",
       "   'variance': 0.006173238159619211})]"
      ]
     },
     "execution_count": 7,
     "metadata": {},
     "output_type": "execute_result"
    }
   ],
   "source": [
    "# same as algorithms\n",
    "dynamics.fit(train_episodes,\n",
    "             eval_episodes=test_episodes,\n",
    "             n_epochs=100,\n",
    "             scorers={\n",
    "                'observation_error': d3rlpy.metrics.scorer.dynamics_observation_prediction_error_scorer,\n",
    "                'reward_error': d3rlpy.metrics.scorer.dynamics_reward_prediction_error_scorer,\n",
    "                'variance': d3rlpy.metrics.scorer.dynamics_prediction_variance_scorer,\n",
    "             },\n",
    "            tensorboard_dir='tensorboard_logs/dynamics')"
   ]
  },
  {
   "cell_type": "markdown",
   "id": "0b6a0377-82fa-4d78-b498-0bcdd282fc51",
   "metadata": {},
   "source": [
    "## Load Dynamics"
   ]
  },
  {
   "cell_type": "code",
   "execution_count": 7,
   "id": "92a2da5d-f176-42d6-b72e-e94800db8db6",
   "metadata": {},
   "outputs": [
    {
     "name": "stdout",
     "output_type": "stream",
     "text": [
      "\u001b[2m2023-10-01 11:45:52\u001b[0m [\u001b[33m\u001b[1mwarning  \u001b[0m] \u001b[1mUnused arguments are passed.  \u001b[0m \u001b[36malgorithm\u001b[0m=\u001b[35mProbabilisticEnsembleDynamics\u001b[0m \u001b[36mgamma\u001b[0m=\u001b[35m1.0\u001b[0m \u001b[36mgenerated_maxlen\u001b[0m=\u001b[35m100000\u001b[0m \u001b[36mn_steps\u001b[0m=\u001b[35m1\u001b[0m \u001b[36mreal_ratio\u001b[0m=\u001b[35m1.0\u001b[0m\n"
     ]
    }
   ],
   "source": [
    "# load trained dynamics model\n",
    "dynamics_model_path = \"d3rlpy_logs/ProbabilisticEnsembleDynamics_20231001112902\"\n",
    "dynamics = d3rlpy.dynamics.ProbabilisticEnsembleDynamics.from_json(dynamics_model_path + '/params.json')\n",
    "dynamics.load_model(dynamics_model_path + '/model_53200.pt')"
   ]
  },
  {
   "cell_type": "markdown",
   "id": "b0cd5232-3ff4-44cc-afb8-a0cf2038071d",
   "metadata": {},
   "source": [
    "## Train Offline RL Algorithm"
   ]
  },
  {
   "cell_type": "code",
   "execution_count": 20,
   "id": "7de5e387-db4f-4499-8d94-d74fbdfa75b4",
   "metadata": {},
   "outputs": [],
   "source": [
    "encoders = d3rlpy.models.encoders.DefaultEncoderFactory(dropout_rate=0.2)\n",
    "# give COMBO as the generator argument.\n",
    "combo = COMBO(dynamics=dynamics, critic_encoder_factory=encoders, actor_encoder_factory=encoders,\n",
    "              use_gpu=use_gpu)"
   ]
  },
  {
   "cell_type": "code",
   "execution_count": 21,
   "id": "67116a4e-3e12-4f9b-a639-cd52b508761c",
   "metadata": {},
   "outputs": [
    {
     "name": "stdout",
     "output_type": "stream",
     "text": [
      "\u001b[2m2023-10-01 16:30:40\u001b[0m [\u001b[32m\u001b[1mdebug    \u001b[0m] \u001b[1mRandomIterator is selected.\u001b[0m\n",
      "\u001b[2m2023-10-01 16:30:40\u001b[0m [\u001b[32m\u001b[1minfo     \u001b[0m] \u001b[1mDirectory is created at d3rlpy_logs/COMBO_20231001163040\u001b[0m\n",
      "\u001b[2m2023-10-01 16:30:40\u001b[0m [\u001b[32m\u001b[1mdebug    \u001b[0m] \u001b[1mBuilding models...\u001b[0m\n",
      "\u001b[2m2023-10-01 16:30:40\u001b[0m [\u001b[32m\u001b[1mdebug    \u001b[0m] \u001b[1mModels have been built.\u001b[0m\n",
      "\u001b[2m2023-10-01 16:30:40\u001b[0m [\u001b[32m\u001b[1minfo     \u001b[0m] \u001b[1mParameters are saved to d3rlpy_logs/COMBO_20231001163040/params.json\u001b[0m \u001b[36mparams\u001b[0m=\u001b[35m{'action_scaler': None, 'actor_encoder_factory': {'type': 'default', 'params': {'activation': 'relu', 'use_batch_norm': False, 'dropout_rate': 0.2}}, 'actor_learning_rate': 0.0001, 'actor_optim_factory': {'optim_cls': 'Adam', 'betas': (0.9, 0.999), 'eps': 1e-08, 'weight_decay': 0, 'amsgrad': False}, 'batch_size': 256, 'conservative_weight': 1.0, 'critic_encoder_factory': {'type': 'default', 'params': {'activation': 'relu', 'use_batch_norm': False, 'dropout_rate': 0.2}}, 'critic_learning_rate': 0.0003, 'critic_optim_factory': {'optim_cls': 'Adam', 'betas': (0.9, 0.999), 'eps': 1e-08, 'weight_decay': 0, 'amsgrad': False}, 'gamma': 0.99, 'generated_maxlen': 1250000, 'initial_temperature': 1.0, 'n_action_samples': 10, 'n_critics': 2, 'n_frames': 1, 'n_steps': 1, 'q_func_factory': {'type': 'mean', 'params': {'share_encoder': False}}, 'real_ratio': 0.5, 'reward_scaler': None, 'rollout_batch_size': 50000, 'rollout_horizon': 5, 'rollout_interval': 1000, 'scaler': None, 'soft_q_backup': False, 'tau': 0.005, 'temp_learning_rate': 0.0001, 'temp_optim_factory': {'optim_cls': 'Adam', 'betas': (0.9, 0.999), 'eps': 1e-08, 'weight_decay': 0, 'amsgrad': False}, 'update_actor_interval': 1, 'use_gpu': 0, 'algorithm': 'COMBO', 'observation_shape': (4,), 'action_size': 1}\u001b[0m\n"
     ]
    },
    {
     "data": {
      "application/vnd.jupyter.widget-view+json": {
       "model_id": "2843718906e44a1d8631db9041c11310",
       "version_major": 2,
       "version_minor": 0
      },
      "text/plain": [
       "Epoch 1/100:   0%|          | 0/1000 [00:00<?, ?it/s]"
      ]
     },
     "metadata": {},
     "output_type": "display_data"
    },
    {
     "name": "stdout",
     "output_type": "stream",
     "text": [
      "\u001b[2m2023-10-01 16:30:42\u001b[0m [\u001b[32m\u001b[1mdebug    \u001b[0m] \u001b[1m250000 transitions are generated.\u001b[0m \u001b[36mfake_transitions\u001b[0m=\u001b[35m250000\u001b[0m \u001b[36mreal_transitions\u001b[0m=\u001b[35m78012\u001b[0m\n",
      "\u001b[2m2023-10-01 16:31:17\u001b[0m [\u001b[32m\u001b[1minfo     \u001b[0m] \u001b[1mCOMBO_20231001163040: epoch=1 step=1000\u001b[0m \u001b[36mepoch\u001b[0m=\u001b[35m1\u001b[0m \u001b[36mmetrics\u001b[0m=\u001b[35m{'time_sample_batch': 0.001380002737045288, 'time_algorithm_update': 0.03201468873023987, 'critic_loss': 7.931922992706299, 'actor_loss': -3.1501990002393723, 'temp_loss': 1.4433157570362092, 'temp': 0.9536788986921311, 'time_step': 0.033513587713241574, 'environment': 77.3}\u001b[0m \u001b[36mstep\u001b[0m=\u001b[35m1000\u001b[0m\n",
      "\u001b[2m2023-10-01 16:31:17\u001b[0m [\u001b[32m\u001b[1minfo     \u001b[0m] \u001b[1mModel parameters are saved to d3rlpy_logs/COMBO_20231001163040/model_1000.pt\u001b[0m\n"
     ]
    },
    {
     "data": {
      "application/vnd.jupyter.widget-view+json": {
       "model_id": "5f043df20127489b8fa6cc54bcd1b4c7",
       "version_major": 2,
       "version_minor": 0
      },
      "text/plain": [
       "Epoch 2/100:   0%|          | 0/1000 [00:00<?, ?it/s]"
      ]
     },
     "metadata": {},
     "output_type": "display_data"
    },
    {
     "name": "stdout",
     "output_type": "stream",
     "text": [
      "\u001b[2m2023-10-01 16:31:19\u001b[0m [\u001b[32m\u001b[1mdebug    \u001b[0m] \u001b[1m250000 transitions are generated.\u001b[0m \u001b[36mfake_transitions\u001b[0m=\u001b[35m500000\u001b[0m \u001b[36mreal_transitions\u001b[0m=\u001b[35m78012\u001b[0m\n",
      "\u001b[2m2023-10-01 16:31:53\u001b[0m [\u001b[32m\u001b[1minfo     \u001b[0m] \u001b[1mCOMBO_20231001163040: epoch=2 step=2000\u001b[0m \u001b[36mepoch\u001b[0m=\u001b[35m2\u001b[0m \u001b[36mmetrics\u001b[0m=\u001b[35m{'time_sample_batch': 0.001382411241531372, 'time_algorithm_update': 0.03167251563072205, 'critic_loss': 7.901574543476105, 'actor_loss': -7.110955627441406, 'temp_loss': 1.2367205929756164, 'temp': 0.868801161646843, 'time_step': 0.033171422481536865, 'environment': 65.6}\u001b[0m \u001b[36mstep\u001b[0m=\u001b[35m2000\u001b[0m\n",
      "\u001b[2m2023-10-01 16:31:53\u001b[0m [\u001b[32m\u001b[1minfo     \u001b[0m] \u001b[1mModel parameters are saved to d3rlpy_logs/COMBO_20231001163040/model_2000.pt\u001b[0m\n"
     ]
    },
    {
     "data": {
      "application/vnd.jupyter.widget-view+json": {
       "model_id": "e216c9c6e2dd466a94f20ba2ae41b0f8",
       "version_major": 2,
       "version_minor": 0
      },
      "text/plain": [
       "Epoch 3/100:   0%|          | 0/1000 [00:00<?, ?it/s]"
      ]
     },
     "metadata": {},
     "output_type": "display_data"
    },
    {
     "name": "stdout",
     "output_type": "stream",
     "text": [
      "\u001b[2m2023-10-01 16:31:55\u001b[0m [\u001b[32m\u001b[1mdebug    \u001b[0m] \u001b[1m250000 transitions are generated.\u001b[0m \u001b[36mfake_transitions\u001b[0m=\u001b[35m750000\u001b[0m \u001b[36mreal_transitions\u001b[0m=\u001b[35m78012\u001b[0m\n",
      "\u001b[2m2023-10-01 16:32:30\u001b[0m [\u001b[32m\u001b[1minfo     \u001b[0m] \u001b[1mCOMBO_20231001163040: epoch=3 step=3000\u001b[0m \u001b[36mepoch\u001b[0m=\u001b[35m3\u001b[0m \u001b[36mmetrics\u001b[0m=\u001b[35m{'time_sample_batch': 0.001391845703125, 'time_algorithm_update': 0.031803046703338625, 'critic_loss': 9.072717978477478, 'actor_loss': -10.79972409248352, 'temp_loss': 1.0334303538799285, 'temp': 0.7956417958140374, 'time_step': 0.03331618118286133, 'environment': 102.6}\u001b[0m \u001b[36mstep\u001b[0m=\u001b[35m3000\u001b[0m\n",
      "\u001b[2m2023-10-01 16:32:30\u001b[0m [\u001b[32m\u001b[1minfo     \u001b[0m] \u001b[1mModel parameters are saved to d3rlpy_logs/COMBO_20231001163040/model_3000.pt\u001b[0m\n"
     ]
    },
    {
     "data": {
      "application/vnd.jupyter.widget-view+json": {
       "model_id": "024f699d17564153b0f7ff108011e252",
       "version_major": 2,
       "version_minor": 0
      },
      "text/plain": [
       "Epoch 4/100:   0%|          | 0/1000 [00:00<?, ?it/s]"
      ]
     },
     "metadata": {},
     "output_type": "display_data"
    },
    {
     "name": "stdout",
     "output_type": "stream",
     "text": [
      "\u001b[2m2023-10-01 16:32:32\u001b[0m [\u001b[32m\u001b[1mdebug    \u001b[0m] \u001b[1m250000 transitions are generated.\u001b[0m \u001b[36mfake_transitions\u001b[0m=\u001b[35m1000000\u001b[0m \u001b[36mreal_transitions\u001b[0m=\u001b[35m78012\u001b[0m\n",
      "\u001b[2m2023-10-01 16:33:08\u001b[0m [\u001b[32m\u001b[1minfo     \u001b[0m] \u001b[1mCOMBO_20231001163040: epoch=4 step=4000\u001b[0m \u001b[36mepoch\u001b[0m=\u001b[35m4\u001b[0m \u001b[36mmetrics\u001b[0m=\u001b[35m{'time_sample_batch': 0.0013628950119018554, 'time_algorithm_update': 0.03192154765129089, 'critic_loss': 10.350592137336731, 'actor_loss': -13.68163473701477, 'temp_loss': 0.9136756767034531, 'temp': 0.7291630645990371, 'time_step': 0.03339839601516724, 'environment': 166.2}\u001b[0m \u001b[36mstep\u001b[0m=\u001b[35m4000\u001b[0m\n",
      "\u001b[2m2023-10-01 16:33:08\u001b[0m [\u001b[32m\u001b[1minfo     \u001b[0m] \u001b[1mModel parameters are saved to d3rlpy_logs/COMBO_20231001163040/model_4000.pt\u001b[0m\n"
     ]
    },
    {
     "data": {
      "application/vnd.jupyter.widget-view+json": {
       "model_id": "39f6ed35feb74fb18f29b60bedb5c5ad",
       "version_major": 2,
       "version_minor": 0
      },
      "text/plain": [
       "Epoch 5/100:   0%|          | 0/1000 [00:00<?, ?it/s]"
      ]
     },
     "metadata": {},
     "output_type": "display_data"
    },
    {
     "name": "stdout",
     "output_type": "stream",
     "text": [
      "\u001b[2m2023-10-01 16:33:10\u001b[0m [\u001b[32m\u001b[1mdebug    \u001b[0m] \u001b[1m250000 transitions are generated.\u001b[0m \u001b[36mfake_transitions\u001b[0m=\u001b[35m1250000\u001b[0m \u001b[36mreal_transitions\u001b[0m=\u001b[35m78012\u001b[0m\n",
      "\u001b[2m2023-10-01 16:33:45\u001b[0m [\u001b[32m\u001b[1minfo     \u001b[0m] \u001b[1mCOMBO_20231001163040: epoch=5 step=5000\u001b[0m \u001b[36mepoch\u001b[0m=\u001b[35m5\u001b[0m \u001b[36mmetrics\u001b[0m=\u001b[35m{'time_sample_batch': 0.0013593595027923584, 'time_algorithm_update': 0.03118943166732788, 'critic_loss': 11.227051558494567, 'actor_loss': -15.904354840278625, 'temp_loss': 0.802168956875801, 'temp': 0.6683483487963676, 'time_step': 0.03266210198402405, 'environment': 143.9}\u001b[0m \u001b[36mstep\u001b[0m=\u001b[35m5000\u001b[0m\n",
      "\u001b[2m2023-10-01 16:33:45\u001b[0m [\u001b[32m\u001b[1minfo     \u001b[0m] \u001b[1mModel parameters are saved to d3rlpy_logs/COMBO_20231001163040/model_5000.pt\u001b[0m\n"
     ]
    },
    {
     "data": {
      "application/vnd.jupyter.widget-view+json": {
       "model_id": "e9b05ffa0c054d6ba97c833d4b1c14ca",
       "version_major": 2,
       "version_minor": 0
      },
      "text/plain": [
       "Epoch 6/100:   0%|          | 0/1000 [00:00<?, ?it/s]"
      ]
     },
     "metadata": {},
     "output_type": "display_data"
    },
    {
     "name": "stdout",
     "output_type": "stream",
     "text": [
      "\u001b[2m2023-10-01 16:33:47\u001b[0m [\u001b[32m\u001b[1mdebug    \u001b[0m] \u001b[1m250000 transitions are generated.\u001b[0m \u001b[36mfake_transitions\u001b[0m=\u001b[35m1250000\u001b[0m \u001b[36mreal_transitions\u001b[0m=\u001b[35m78012\u001b[0m\n",
      "\u001b[2m2023-10-01 16:34:25\u001b[0m [\u001b[32m\u001b[1minfo     \u001b[0m] \u001b[1mCOMBO_20231001163040: epoch=6 step=6000\u001b[0m \u001b[36mepoch\u001b[0m=\u001b[35m6\u001b[0m \u001b[36mmetrics\u001b[0m=\u001b[35m{'time_sample_batch': 0.0013734350204467774, 'time_algorithm_update': 0.03154549098014831, 'critic_loss': 12.31046004486084, 'actor_loss': -17.662834882736206, 'temp_loss': 0.7042996256351471, 'temp': 0.6129559260606766, 'time_step': 0.03303446292877197, 'environment': 361.4}\u001b[0m \u001b[36mstep\u001b[0m=\u001b[35m6000\u001b[0m\n",
      "\u001b[2m2023-10-01 16:34:25\u001b[0m [\u001b[32m\u001b[1minfo     \u001b[0m] \u001b[1mModel parameters are saved to d3rlpy_logs/COMBO_20231001163040/model_6000.pt\u001b[0m\n"
     ]
    },
    {
     "data": {
      "application/vnd.jupyter.widget-view+json": {
       "model_id": "c39ce8b635f847de992ad63bb1ef4cff",
       "version_major": 2,
       "version_minor": 0
      },
      "text/plain": [
       "Epoch 7/100:   0%|          | 0/1000 [00:00<?, ?it/s]"
      ]
     },
     "metadata": {},
     "output_type": "display_data"
    },
    {
     "name": "stdout",
     "output_type": "stream",
     "text": [
      "\u001b[2m2023-10-01 16:34:26\u001b[0m [\u001b[32m\u001b[1mdebug    \u001b[0m] \u001b[1m250000 transitions are generated.\u001b[0m \u001b[36mfake_transitions\u001b[0m=\u001b[35m1250000\u001b[0m \u001b[36mreal_transitions\u001b[0m=\u001b[35m78012\u001b[0m\n",
      "\u001b[2m2023-10-01 16:35:04\u001b[0m [\u001b[32m\u001b[1minfo     \u001b[0m] \u001b[1mCOMBO_20231001163040: epoch=7 step=7000\u001b[0m \u001b[36mepoch\u001b[0m=\u001b[35m7\u001b[0m \u001b[36mmetrics\u001b[0m=\u001b[35m{'time_sample_batch': 0.001337480068206787, 'time_algorithm_update': 0.03126067614555359, 'critic_loss': 12.806709111213683, 'actor_loss': -18.867072538375854, 'temp_loss': 0.6107989991307259, 'temp': 0.5624356880187988, 'time_step': 0.032705567598342894, 'environment': 349.6}\u001b[0m \u001b[36mstep\u001b[0m=\u001b[35m7000\u001b[0m\n",
      "\u001b[2m2023-10-01 16:35:04\u001b[0m [\u001b[32m\u001b[1minfo     \u001b[0m] \u001b[1mModel parameters are saved to d3rlpy_logs/COMBO_20231001163040/model_7000.pt\u001b[0m\n"
     ]
    },
    {
     "data": {
      "application/vnd.jupyter.widget-view+json": {
       "model_id": "2ea1416674b04cddbbbd3d5bdce5c29b",
       "version_major": 2,
       "version_minor": 0
      },
      "text/plain": [
       "Epoch 8/100:   0%|          | 0/1000 [00:00<?, ?it/s]"
      ]
     },
     "metadata": {},
     "output_type": "display_data"
    },
    {
     "name": "stdout",
     "output_type": "stream",
     "text": [
      "\u001b[2m2023-10-01 16:35:06\u001b[0m [\u001b[32m\u001b[1mdebug    \u001b[0m] \u001b[1m250000 transitions are generated.\u001b[0m \u001b[36mfake_transitions\u001b[0m=\u001b[35m1250000\u001b[0m \u001b[36mreal_transitions\u001b[0m=\u001b[35m78012\u001b[0m\n",
      "\u001b[2m2023-10-01 16:35:43\u001b[0m [\u001b[32m\u001b[1minfo     \u001b[0m] \u001b[1mCOMBO_20231001163040: epoch=8 step=8000\u001b[0m \u001b[36mepoch\u001b[0m=\u001b[35m8\u001b[0m \u001b[36mmetrics\u001b[0m=\u001b[35m{'time_sample_batch': 0.0013694891929626465, 'time_algorithm_update': 0.03144505739212036, 'critic_loss': 13.256313179969787, 'actor_loss': -19.887599124908448, 'temp_loss': 0.5309581046104431, 'temp': 0.5164689801037311, 'time_step': 0.03292461705207825, 'environment': 322.2}\u001b[0m \u001b[36mstep\u001b[0m=\u001b[35m8000\u001b[0m\n",
      "\u001b[2m2023-10-01 16:35:43\u001b[0m [\u001b[32m\u001b[1minfo     \u001b[0m] \u001b[1mModel parameters are saved to d3rlpy_logs/COMBO_20231001163040/model_8000.pt\u001b[0m\n"
     ]
    },
    {
     "data": {
      "application/vnd.jupyter.widget-view+json": {
       "model_id": "77d8f982d5564342a21e88f953d0079f",
       "version_major": 2,
       "version_minor": 0
      },
      "text/plain": [
       "Epoch 9/100:   0%|          | 0/1000 [00:00<?, ?it/s]"
      ]
     },
     "metadata": {},
     "output_type": "display_data"
    },
    {
     "name": "stdout",
     "output_type": "stream",
     "text": [
      "\u001b[2m2023-10-01 16:35:46\u001b[0m [\u001b[32m\u001b[1mdebug    \u001b[0m] \u001b[1m250000 transitions are generated.\u001b[0m \u001b[36mfake_transitions\u001b[0m=\u001b[35m1250000\u001b[0m \u001b[36mreal_transitions\u001b[0m=\u001b[35m78012\u001b[0m\n",
      "\u001b[2m2023-10-01 16:36:27\u001b[0m [\u001b[32m\u001b[1minfo     \u001b[0m] \u001b[1mCOMBO_20231001163040: epoch=9 step=9000\u001b[0m \u001b[36mepoch\u001b[0m=\u001b[35m9\u001b[0m \u001b[36mmetrics\u001b[0m=\u001b[35m{'time_sample_batch': 0.0013827602863311767, 'time_algorithm_update': 0.03174023938179016, 'critic_loss': 13.636215905189514, 'actor_loss': -20.70425115585327, 'temp_loss': 0.46425370356440543, 'temp': 0.47419414889812467, 'time_step': 0.03323161768913269, 'environment': 583.3}\u001b[0m \u001b[36mstep\u001b[0m=\u001b[35m9000\u001b[0m\n",
      "\u001b[2m2023-10-01 16:36:27\u001b[0m [\u001b[32m\u001b[1minfo     \u001b[0m] \u001b[1mModel parameters are saved to d3rlpy_logs/COMBO_20231001163040/model_9000.pt\u001b[0m\n"
     ]
    },
    {
     "data": {
      "application/vnd.jupyter.widget-view+json": {
       "model_id": "abf3ebaa16fc48029dd5464d26605ea2",
       "version_major": 2,
       "version_minor": 0
      },
      "text/plain": [
       "Epoch 10/100:   0%|          | 0/1000 [00:00<?, ?it/s]"
      ]
     },
     "metadata": {},
     "output_type": "display_data"
    },
    {
     "name": "stdout",
     "output_type": "stream",
     "text": [
      "\u001b[2m2023-10-01 16:36:29\u001b[0m [\u001b[32m\u001b[1mdebug    \u001b[0m] \u001b[1m250000 transitions are generated.\u001b[0m \u001b[36mfake_transitions\u001b[0m=\u001b[35m1250000\u001b[0m \u001b[36mreal_transitions\u001b[0m=\u001b[35m78012\u001b[0m\n",
      "\u001b[2m2023-10-01 16:37:09\u001b[0m [\u001b[32m\u001b[1minfo     \u001b[0m] \u001b[1mCOMBO_20231001163040: epoch=10 step=10000\u001b[0m \u001b[36mepoch\u001b[0m=\u001b[35m10\u001b[0m \u001b[36mmetrics\u001b[0m=\u001b[35m{'time_sample_batch': 0.0013481373786926269, 'time_algorithm_update': 0.030713160276412965, 'critic_loss': 14.061087383270264, 'actor_loss': -21.387815366744995, 'temp_loss': 0.40115700879693034, 'temp': 0.43556110551953314, 'time_step': 0.032172417640686034, 'environment': 562.7}\u001b[0m \u001b[36mstep\u001b[0m=\u001b[35m10000\u001b[0m\n",
      "\u001b[2m2023-10-01 16:37:09\u001b[0m [\u001b[32m\u001b[1minfo     \u001b[0m] \u001b[1mModel parameters are saved to d3rlpy_logs/COMBO_20231001163040/model_10000.pt\u001b[0m\n"
     ]
    },
    {
     "data": {
      "application/vnd.jupyter.widget-view+json": {
       "model_id": "0a18efed36bc4f8e99d413a9fa85e050",
       "version_major": 2,
       "version_minor": 0
      },
      "text/plain": [
       "Epoch 11/100:   0%|          | 0/1000 [00:00<?, ?it/s]"
      ]
     },
     "metadata": {},
     "output_type": "display_data"
    },
    {
     "name": "stdout",
     "output_type": "stream",
     "text": [
      "\u001b[2m2023-10-01 16:37:11\u001b[0m [\u001b[32m\u001b[1mdebug    \u001b[0m] \u001b[1m250000 transitions are generated.\u001b[0m \u001b[36mfake_transitions\u001b[0m=\u001b[35m1250000\u001b[0m \u001b[36mreal_transitions\u001b[0m=\u001b[35m78012\u001b[0m\n",
      "\u001b[2m2023-10-01 16:37:49\u001b[0m [\u001b[32m\u001b[1minfo     \u001b[0m] \u001b[1mCOMBO_20231001163040: epoch=11 step=11000\u001b[0m \u001b[36mepoch\u001b[0m=\u001b[35m11\u001b[0m \u001b[36mmetrics\u001b[0m=\u001b[35m{'time_sample_batch': 0.0013493883609771728, 'time_algorithm_update': 0.03119195890426636, 'critic_loss': 14.311602047920227, 'actor_loss': -21.933858158111573, 'temp_loss': 0.355460428327322, 'temp': 0.39988422870635987, 'time_step': 0.03264443469047546, 'environment': 412.9}\u001b[0m \u001b[36mstep\u001b[0m=\u001b[35m11000\u001b[0m\n",
      "\u001b[2m2023-10-01 16:37:49\u001b[0m [\u001b[32m\u001b[1minfo     \u001b[0m] \u001b[1mModel parameters are saved to d3rlpy_logs/COMBO_20231001163040/model_11000.pt\u001b[0m\n"
     ]
    },
    {
     "data": {
      "application/vnd.jupyter.widget-view+json": {
       "model_id": "c9dedea8c1304df1903dcb507dfc7315",
       "version_major": 2,
       "version_minor": 0
      },
      "text/plain": [
       "Epoch 12/100:   0%|          | 0/1000 [00:00<?, ?it/s]"
      ]
     },
     "metadata": {},
     "output_type": "display_data"
    },
    {
     "name": "stdout",
     "output_type": "stream",
     "text": [
      "\u001b[2m2023-10-01 16:37:51\u001b[0m [\u001b[32m\u001b[1mdebug    \u001b[0m] \u001b[1m250000 transitions are generated.\u001b[0m \u001b[36mfake_transitions\u001b[0m=\u001b[35m1250000\u001b[0m \u001b[36mreal_transitions\u001b[0m=\u001b[35m78012\u001b[0m\n",
      "\u001b[2m2023-10-01 16:38:34\u001b[0m [\u001b[32m\u001b[1minfo     \u001b[0m] \u001b[1mCOMBO_20231001163040: epoch=12 step=12000\u001b[0m \u001b[36mepoch\u001b[0m=\u001b[35m12\u001b[0m \u001b[36mmetrics\u001b[0m=\u001b[35m{'time_sample_batch': 0.0013613247871398927, 'time_algorithm_update': 0.03144350838661194, 'critic_loss': 14.469348188400268, 'actor_loss': -22.334198741912843, 'temp_loss': 0.3148375958353281, 'temp': 0.3668413710594177, 'time_step': 0.032914981842041016, 'environment': 728.7}\u001b[0m \u001b[36mstep\u001b[0m=\u001b[35m12000\u001b[0m\n",
      "\u001b[2m2023-10-01 16:38:34\u001b[0m [\u001b[32m\u001b[1minfo     \u001b[0m] \u001b[1mModel parameters are saved to d3rlpy_logs/COMBO_20231001163040/model_12000.pt\u001b[0m\n"
     ]
    },
    {
     "data": {
      "application/vnd.jupyter.widget-view+json": {
       "model_id": "59bfb1132bd440b48a4325a0e065e395",
       "version_major": 2,
       "version_minor": 0
      },
      "text/plain": [
       "Epoch 13/100:   0%|          | 0/1000 [00:00<?, ?it/s]"
      ]
     },
     "metadata": {},
     "output_type": "display_data"
    },
    {
     "name": "stdout",
     "output_type": "stream",
     "text": [
      "\u001b[2m2023-10-01 16:38:37\u001b[0m [\u001b[32m\u001b[1mdebug    \u001b[0m] \u001b[1m250000 transitions are generated.\u001b[0m \u001b[36mfake_transitions\u001b[0m=\u001b[35m1250000\u001b[0m \u001b[36mreal_transitions\u001b[0m=\u001b[35m78012\u001b[0m\n",
      "\u001b[2m2023-10-01 16:39:17\u001b[0m [\u001b[32m\u001b[1minfo     \u001b[0m] \u001b[1mCOMBO_20231001163040: epoch=13 step=13000\u001b[0m \u001b[36mepoch\u001b[0m=\u001b[35m13\u001b[0m \u001b[36mmetrics\u001b[0m=\u001b[35m{'time_sample_batch': 0.001334120273590088, 'time_algorithm_update': 0.030538798332214356, 'critic_loss': 14.580191908836365, 'actor_loss': -22.658076143264772, 'temp_loss': 0.27705198152363303, 'temp': 0.3364940879940987, 'time_step': 0.03197581624984741, 'environment': 663.5}\u001b[0m \u001b[36mstep\u001b[0m=\u001b[35m13000\u001b[0m\n",
      "\u001b[2m2023-10-01 16:39:17\u001b[0m [\u001b[32m\u001b[1minfo     \u001b[0m] \u001b[1mModel parameters are saved to d3rlpy_logs/COMBO_20231001163040/model_13000.pt\u001b[0m\n"
     ]
    },
    {
     "data": {
      "application/vnd.jupyter.widget-view+json": {
       "model_id": "364bc1fdb2144757bc2e7391ae30b558",
       "version_major": 2,
       "version_minor": 0
      },
      "text/plain": [
       "Epoch 14/100:   0%|          | 0/1000 [00:00<?, ?it/s]"
      ]
     },
     "metadata": {},
     "output_type": "display_data"
    },
    {
     "name": "stdout",
     "output_type": "stream",
     "text": [
      "\u001b[2m2023-10-01 16:39:19\u001b[0m [\u001b[32m\u001b[1mdebug    \u001b[0m] \u001b[1m250000 transitions are generated.\u001b[0m \u001b[36mfake_transitions\u001b[0m=\u001b[35m1250000\u001b[0m \u001b[36mreal_transitions\u001b[0m=\u001b[35m78012\u001b[0m\n",
      "\u001b[2m2023-10-01 16:40:05\u001b[0m [\u001b[32m\u001b[1minfo     \u001b[0m] \u001b[1mCOMBO_20231001163040: epoch=14 step=14000\u001b[0m \u001b[36mepoch\u001b[0m=\u001b[35m14\u001b[0m \u001b[36mmetrics\u001b[0m=\u001b[35m{'time_sample_batch': 0.0013678381443023681, 'time_algorithm_update': 0.03139810371398926, 'critic_loss': 14.6707922372818, 'actor_loss': -22.88336417198181, 'temp_loss': 0.24468710692226886, 'temp': 0.3085898343324661, 'time_step': 0.032872651815414426, 'environment': 1000.0}\u001b[0m \u001b[36mstep\u001b[0m=\u001b[35m14000\u001b[0m\n",
      "\u001b[2m2023-10-01 16:40:05\u001b[0m [\u001b[32m\u001b[1minfo     \u001b[0m] \u001b[1mModel parameters are saved to d3rlpy_logs/COMBO_20231001163040/model_14000.pt\u001b[0m\n"
     ]
    },
    {
     "data": {
      "application/vnd.jupyter.widget-view+json": {
       "model_id": "311faf1cbee246e2b38cd02283969729",
       "version_major": 2,
       "version_minor": 0
      },
      "text/plain": [
       "Epoch 15/100:   0%|          | 0/1000 [00:00<?, ?it/s]"
      ]
     },
     "metadata": {},
     "output_type": "display_data"
    },
    {
     "name": "stdout",
     "output_type": "stream",
     "text": [
      "\u001b[2m2023-10-01 16:40:08\u001b[0m [\u001b[32m\u001b[1mdebug    \u001b[0m] \u001b[1m250000 transitions are generated.\u001b[0m \u001b[36mfake_transitions\u001b[0m=\u001b[35m1250000\u001b[0m \u001b[36mreal_transitions\u001b[0m=\u001b[35m78012\u001b[0m\n",
      "\u001b[2m2023-10-01 16:40:53\u001b[0m [\u001b[32m\u001b[1minfo     \u001b[0m] \u001b[1mCOMBO_20231001163040: epoch=15 step=15000\u001b[0m \u001b[36mepoch\u001b[0m=\u001b[35m15\u001b[0m \u001b[36mmetrics\u001b[0m=\u001b[35m{'time_sample_batch': 0.001356919765472412, 'time_algorithm_update': 0.031285968542099, 'critic_loss': 14.582186332702637, 'actor_loss': -23.071215900421144, 'temp_loss': 0.21329392045736312, 'temp': 0.28318463706970215, 'time_step': 0.0327508339881897, 'environment': 1000.0}\u001b[0m \u001b[36mstep\u001b[0m=\u001b[35m15000\u001b[0m\n",
      "\u001b[2m2023-10-01 16:40:53\u001b[0m [\u001b[32m\u001b[1minfo     \u001b[0m] \u001b[1mModel parameters are saved to d3rlpy_logs/COMBO_20231001163040/model_15000.pt\u001b[0m\n"
     ]
    },
    {
     "data": {
      "application/vnd.jupyter.widget-view+json": {
       "model_id": "558cd1316e004aaa900c848bc5608e8c",
       "version_major": 2,
       "version_minor": 0
      },
      "text/plain": [
       "Epoch 16/100:   0%|          | 0/1000 [00:00<?, ?it/s]"
      ]
     },
     "metadata": {},
     "output_type": "display_data"
    },
    {
     "name": "stdout",
     "output_type": "stream",
     "text": [
      "\u001b[2m2023-10-01 16:40:56\u001b[0m [\u001b[32m\u001b[1mdebug    \u001b[0m] \u001b[1m250000 transitions are generated.\u001b[0m \u001b[36mfake_transitions\u001b[0m=\u001b[35m1250000\u001b[0m \u001b[36mreal_transitions\u001b[0m=\u001b[35m78012\u001b[0m\n",
      "\u001b[2m2023-10-01 16:41:42\u001b[0m [\u001b[32m\u001b[1minfo     \u001b[0m] \u001b[1mCOMBO_20231001163040: epoch=16 step=16000\u001b[0m \u001b[36mepoch\u001b[0m=\u001b[35m16\u001b[0m \u001b[36mmetrics\u001b[0m=\u001b[35m{'time_sample_batch': 0.0013377068042755126, 'time_algorithm_update': 0.031173085212707518, 'critic_loss': 14.607374311447144, 'actor_loss': -23.219730936050414, 'temp_loss': 0.1876502611041069, 'temp': 0.25986609256267545, 'time_step': 0.03261336612701416, 'environment': 1000.0}\u001b[0m \u001b[36mstep\u001b[0m=\u001b[35m16000\u001b[0m\n",
      "\u001b[2m2023-10-01 16:41:42\u001b[0m [\u001b[32m\u001b[1minfo     \u001b[0m] \u001b[1mModel parameters are saved to d3rlpy_logs/COMBO_20231001163040/model_16000.pt\u001b[0m\n"
     ]
    },
    {
     "data": {
      "application/vnd.jupyter.widget-view+json": {
       "model_id": "6503eff87d5649e69c579a91781d9522",
       "version_major": 2,
       "version_minor": 0
      },
      "text/plain": [
       "Epoch 17/100:   0%|          | 0/1000 [00:00<?, ?it/s]"
      ]
     },
     "metadata": {},
     "output_type": "display_data"
    },
    {
     "name": "stdout",
     "output_type": "stream",
     "text": [
      "\u001b[2m2023-10-01 16:41:44\u001b[0m [\u001b[32m\u001b[1mdebug    \u001b[0m] \u001b[1m250000 transitions are generated.\u001b[0m \u001b[36mfake_transitions\u001b[0m=\u001b[35m1250000\u001b[0m \u001b[36mreal_transitions\u001b[0m=\u001b[35m78012\u001b[0m\n",
      "\u001b[2m2023-10-01 16:42:30\u001b[0m [\u001b[32m\u001b[1minfo     \u001b[0m] \u001b[1mCOMBO_20231001163040: epoch=17 step=17000\u001b[0m \u001b[36mepoch\u001b[0m=\u001b[35m17\u001b[0m \u001b[36mmetrics\u001b[0m=\u001b[35m{'time_sample_batch': 0.0013743932247161864, 'time_algorithm_update': 0.031291664361953735, 'critic_loss': 14.560353407859802, 'actor_loss': -23.352035915374756, 'temp_loss': 0.16629688477516175, 'temp': 0.23838636931777, 'time_step': 0.03277109837532043, 'environment': 1000.0}\u001b[0m \u001b[36mstep\u001b[0m=\u001b[35m17000\u001b[0m\n",
      "\u001b[2m2023-10-01 16:42:30\u001b[0m [\u001b[32m\u001b[1minfo     \u001b[0m] \u001b[1mModel parameters are saved to d3rlpy_logs/COMBO_20231001163040/model_17000.pt\u001b[0m\n"
     ]
    },
    {
     "data": {
      "application/vnd.jupyter.widget-view+json": {
       "model_id": "01a20f384f374160b66ccb2696f13017",
       "version_major": 2,
       "version_minor": 0
      },
      "text/plain": [
       "Epoch 18/100:   0%|          | 0/1000 [00:00<?, ?it/s]"
      ]
     },
     "metadata": {},
     "output_type": "display_data"
    },
    {
     "name": "stdout",
     "output_type": "stream",
     "text": [
      "\u001b[2m2023-10-01 16:42:32\u001b[0m [\u001b[32m\u001b[1mdebug    \u001b[0m] \u001b[1m250000 transitions are generated.\u001b[0m \u001b[36mfake_transitions\u001b[0m=\u001b[35m1250000\u001b[0m \u001b[36mreal_transitions\u001b[0m=\u001b[35m78012\u001b[0m\n",
      "\u001b[2m2023-10-01 16:43:18\u001b[0m [\u001b[32m\u001b[1minfo     \u001b[0m] \u001b[1mCOMBO_20231001163040: epoch=18 step=18000\u001b[0m \u001b[36mepoch\u001b[0m=\u001b[35m18\u001b[0m \u001b[36mmetrics\u001b[0m=\u001b[35m{'time_sample_batch': 0.001386126756668091, 'time_algorithm_update': 0.03144347190856934, 'critic_loss': 14.388180559158325, 'actor_loss': -23.42641238975525, 'temp_loss': 0.14497171415388585, 'temp': 0.2186412315964699, 'time_step': 0.03293349885940552, 'environment': 1000.0}\u001b[0m \u001b[36mstep\u001b[0m=\u001b[35m18000\u001b[0m\n",
      "\u001b[2m2023-10-01 16:43:18\u001b[0m [\u001b[32m\u001b[1minfo     \u001b[0m] \u001b[1mModel parameters are saved to d3rlpy_logs/COMBO_20231001163040/model_18000.pt\u001b[0m\n"
     ]
    },
    {
     "data": {
      "application/vnd.jupyter.widget-view+json": {
       "model_id": "cd6c94caae354e41af2852c7407b2d53",
       "version_major": 2,
       "version_minor": 0
      },
      "text/plain": [
       "Epoch 19/100:   0%|          | 0/1000 [00:00<?, ?it/s]"
      ]
     },
     "metadata": {},
     "output_type": "display_data"
    },
    {
     "name": "stdout",
     "output_type": "stream",
     "text": [
      "\u001b[2m2023-10-01 16:43:20\u001b[0m [\u001b[32m\u001b[1mdebug    \u001b[0m] \u001b[1m250000 transitions are generated.\u001b[0m \u001b[36mfake_transitions\u001b[0m=\u001b[35m1250000\u001b[0m \u001b[36mreal_transitions\u001b[0m=\u001b[35m78012\u001b[0m\n",
      "\u001b[2m2023-10-01 16:44:06\u001b[0m [\u001b[32m\u001b[1minfo     \u001b[0m] \u001b[1mCOMBO_20231001163040: epoch=19 step=19000\u001b[0m \u001b[36mepoch\u001b[0m=\u001b[35m19\u001b[0m \u001b[36mmetrics\u001b[0m=\u001b[35m{'time_sample_batch': 0.001386329174041748, 'time_algorithm_update': 0.031472383260726926, 'critic_loss': 14.232135194778442, 'actor_loss': -23.518466384887695, 'temp_loss': 0.12603960429131986, 'temp': 0.200817831158638, 'time_step': 0.0329683825969696, 'environment': 1000.0}\u001b[0m \u001b[36mstep\u001b[0m=\u001b[35m19000\u001b[0m\n",
      "\u001b[2m2023-10-01 16:44:06\u001b[0m [\u001b[32m\u001b[1minfo     \u001b[0m] \u001b[1mModel parameters are saved to d3rlpy_logs/COMBO_20231001163040/model_19000.pt\u001b[0m\n"
     ]
    },
    {
     "data": {
      "application/vnd.jupyter.widget-view+json": {
       "model_id": "6e8168d4c7c54fb69b8dfa43d14f7eb5",
       "version_major": 2,
       "version_minor": 0
      },
      "text/plain": [
       "Epoch 20/100:   0%|          | 0/1000 [00:00<?, ?it/s]"
      ]
     },
     "metadata": {},
     "output_type": "display_data"
    },
    {
     "name": "stdout",
     "output_type": "stream",
     "text": [
      "\u001b[2m2023-10-01 16:44:08\u001b[0m [\u001b[32m\u001b[1mdebug    \u001b[0m] \u001b[1m250000 transitions are generated.\u001b[0m \u001b[36mfake_transitions\u001b[0m=\u001b[35m1250000\u001b[0m \u001b[36mreal_transitions\u001b[0m=\u001b[35m78012\u001b[0m\n",
      "\u001b[2m2023-10-01 16:44:54\u001b[0m [\u001b[32m\u001b[1minfo     \u001b[0m] \u001b[1mCOMBO_20231001163040: epoch=20 step=20000\u001b[0m \u001b[36mepoch\u001b[0m=\u001b[35m20\u001b[0m \u001b[36mmetrics\u001b[0m=\u001b[35m{'time_sample_batch': 0.0013662469387054443, 'time_algorithm_update': 0.031290969610214235, 'critic_loss': 14.148667017936706, 'actor_loss': -23.631649517059326, 'temp_loss': 0.11177374904602766, 'temp': 0.18430924808979035, 'time_step': 0.03275895595550537, 'environment': 1000.0}\u001b[0m \u001b[36mstep\u001b[0m=\u001b[35m20000\u001b[0m\n",
      "\u001b[2m2023-10-01 16:44:54\u001b[0m [\u001b[32m\u001b[1minfo     \u001b[0m] \u001b[1mModel parameters are saved to d3rlpy_logs/COMBO_20231001163040/model_20000.pt\u001b[0m\n"
     ]
    },
    {
     "data": {
      "application/vnd.jupyter.widget-view+json": {
       "model_id": "8c3b8c324dc748c2bb345e16c060e572",
       "version_major": 2,
       "version_minor": 0
      },
      "text/plain": [
       "Epoch 21/100:   0%|          | 0/1000 [00:00<?, ?it/s]"
      ]
     },
     "metadata": {},
     "output_type": "display_data"
    },
    {
     "name": "stdout",
     "output_type": "stream",
     "text": [
      "\u001b[2m2023-10-01 16:44:57\u001b[0m [\u001b[32m\u001b[1mdebug    \u001b[0m] \u001b[1m250000 transitions are generated.\u001b[0m \u001b[36mfake_transitions\u001b[0m=\u001b[35m1250000\u001b[0m \u001b[36mreal_transitions\u001b[0m=\u001b[35m78012\u001b[0m\n",
      "\u001b[2m2023-10-01 16:45:42\u001b[0m [\u001b[32m\u001b[1minfo     \u001b[0m] \u001b[1mCOMBO_20231001163040: epoch=21 step=21000\u001b[0m \u001b[36mepoch\u001b[0m=\u001b[35m21\u001b[0m \u001b[36mmetrics\u001b[0m=\u001b[35m{'time_sample_batch': 0.001353031873703003, 'time_algorithm_update': 0.030895053148269652, 'critic_loss': 14.1223890914917, 'actor_loss': -23.72082293319702, 'temp_loss': 0.09690539540350437, 'temp': 0.16921622298657893, 'time_step': 0.03235913777351379, 'environment': 1000.0}\u001b[0m \u001b[36mstep\u001b[0m=\u001b[35m21000\u001b[0m\n",
      "\u001b[2m2023-10-01 16:45:42\u001b[0m [\u001b[32m\u001b[1minfo     \u001b[0m] \u001b[1mModel parameters are saved to d3rlpy_logs/COMBO_20231001163040/model_21000.pt\u001b[0m\n"
     ]
    },
    {
     "data": {
      "application/vnd.jupyter.widget-view+json": {
       "model_id": "477f60dd974f4dfe92b96c7a61156175",
       "version_major": 2,
       "version_minor": 0
      },
      "text/plain": [
       "Epoch 22/100:   0%|          | 0/1000 [00:00<?, ?it/s]"
      ]
     },
     "metadata": {},
     "output_type": "display_data"
    },
    {
     "name": "stdout",
     "output_type": "stream",
     "text": [
      "\u001b[2m2023-10-01 16:45:45\u001b[0m [\u001b[32m\u001b[1mdebug    \u001b[0m] \u001b[1m250000 transitions are generated.\u001b[0m \u001b[36mfake_transitions\u001b[0m=\u001b[35m1250000\u001b[0m \u001b[36mreal_transitions\u001b[0m=\u001b[35m78012\u001b[0m\n",
      "\u001b[2m2023-10-01 16:46:31\u001b[0m [\u001b[32m\u001b[1minfo     \u001b[0m] \u001b[1mCOMBO_20231001163040: epoch=22 step=22000\u001b[0m \u001b[36mepoch\u001b[0m=\u001b[35m22\u001b[0m \u001b[36mmetrics\u001b[0m=\u001b[35m{'time_sample_batch': 0.001358729362487793, 'time_algorithm_update': 0.0314324369430542, 'critic_loss': 13.96583891582489, 'actor_loss': -23.81950139427185, 'temp_loss': 0.0846349931359291, 'temp': 0.15535796029865742, 'time_step': 0.03290597581863403, 'environment': 1000.0}\u001b[0m \u001b[36mstep\u001b[0m=\u001b[35m22000\u001b[0m\n",
      "\u001b[2m2023-10-01 16:46:31\u001b[0m [\u001b[32m\u001b[1minfo     \u001b[0m] \u001b[1mModel parameters are saved to d3rlpy_logs/COMBO_20231001163040/model_22000.pt\u001b[0m\n"
     ]
    },
    {
     "data": {
      "application/vnd.jupyter.widget-view+json": {
       "model_id": "f655a71501cb442a9a08ca2051cc0336",
       "version_major": 2,
       "version_minor": 0
      },
      "text/plain": [
       "Epoch 23/100:   0%|          | 0/1000 [00:00<?, ?it/s]"
      ]
     },
     "metadata": {},
     "output_type": "display_data"
    },
    {
     "name": "stdout",
     "output_type": "stream",
     "text": [
      "\u001b[2m2023-10-01 16:46:33\u001b[0m [\u001b[32m\u001b[1mdebug    \u001b[0m] \u001b[1m250000 transitions are generated.\u001b[0m \u001b[36mfake_transitions\u001b[0m=\u001b[35m1250000\u001b[0m \u001b[36mreal_transitions\u001b[0m=\u001b[35m78012\u001b[0m\n",
      "\u001b[2m2023-10-01 16:47:19\u001b[0m [\u001b[32m\u001b[1minfo     \u001b[0m] \u001b[1mCOMBO_20231001163040: epoch=23 step=23000\u001b[0m \u001b[36mepoch\u001b[0m=\u001b[35m23\u001b[0m \u001b[36mmetrics\u001b[0m=\u001b[35m{'time_sample_batch': 0.0013460588455200195, 'time_algorithm_update': 0.03142039632797241, 'critic_loss': 13.859933466911317, 'actor_loss': -23.889043367385863, 'temp_loss': 0.07468997510150074, 'temp': 0.14273197163641452, 'time_step': 0.032876106977462766, 'environment': 1000.0}\u001b[0m \u001b[36mstep\u001b[0m=\u001b[35m23000\u001b[0m\n",
      "\u001b[2m2023-10-01 16:47:19\u001b[0m [\u001b[32m\u001b[1minfo     \u001b[0m] \u001b[1mModel parameters are saved to d3rlpy_logs/COMBO_20231001163040/model_23000.pt\u001b[0m\n"
     ]
    },
    {
     "data": {
      "application/vnd.jupyter.widget-view+json": {
       "model_id": "49bea56fea844775924928105d79736c",
       "version_major": 2,
       "version_minor": 0
      },
      "text/plain": [
       "Epoch 24/100:   0%|          | 0/1000 [00:00<?, ?it/s]"
      ]
     },
     "metadata": {},
     "output_type": "display_data"
    },
    {
     "name": "stdout",
     "output_type": "stream",
     "text": [
      "\u001b[2m2023-10-01 16:47:21\u001b[0m [\u001b[32m\u001b[1mdebug    \u001b[0m] \u001b[1m250000 transitions are generated.\u001b[0m \u001b[36mfake_transitions\u001b[0m=\u001b[35m1250000\u001b[0m \u001b[36mreal_transitions\u001b[0m=\u001b[35m78012\u001b[0m\n",
      "\u001b[2m2023-10-01 16:48:07\u001b[0m [\u001b[32m\u001b[1minfo     \u001b[0m] \u001b[1mCOMBO_20231001163040: epoch=24 step=24000\u001b[0m \u001b[36mepoch\u001b[0m=\u001b[35m24\u001b[0m \u001b[36mmetrics\u001b[0m=\u001b[35m{'time_sample_batch': 0.0013674392700195313, 'time_algorithm_update': 0.031211763381958007, 'critic_loss': 13.724098044395447, 'actor_loss': -23.957733407974242, 'temp_loss': 0.06484184379503131, 'temp': 0.13099330453574656, 'time_step': 0.0326949200630188, 'environment': 1000.0}\u001b[0m \u001b[36mstep\u001b[0m=\u001b[35m24000\u001b[0m\n",
      "\u001b[2m2023-10-01 16:48:07\u001b[0m [\u001b[32m\u001b[1minfo     \u001b[0m] \u001b[1mModel parameters are saved to d3rlpy_logs/COMBO_20231001163040/model_24000.pt\u001b[0m\n"
     ]
    },
    {
     "data": {
      "application/vnd.jupyter.widget-view+json": {
       "model_id": "a962b8707e9b463198b74bb75a4d8f7d",
       "version_major": 2,
       "version_minor": 0
      },
      "text/plain": [
       "Epoch 25/100:   0%|          | 0/1000 [00:00<?, ?it/s]"
      ]
     },
     "metadata": {},
     "output_type": "display_data"
    },
    {
     "name": "stdout",
     "output_type": "stream",
     "text": [
      "\u001b[2m2023-10-01 16:48:09\u001b[0m [\u001b[32m\u001b[1mdebug    \u001b[0m] \u001b[1m250000 transitions are generated.\u001b[0m \u001b[36mfake_transitions\u001b[0m=\u001b[35m1250000\u001b[0m \u001b[36mreal_transitions\u001b[0m=\u001b[35m78012\u001b[0m\n",
      "\u001b[2m2023-10-01 16:48:49\u001b[0m [\u001b[32m\u001b[1minfo     \u001b[0m] \u001b[1mCOMBO_20231001163040: epoch=25 step=25000\u001b[0m \u001b[36mepoch\u001b[0m=\u001b[35m25\u001b[0m \u001b[36mmetrics\u001b[0m=\u001b[35m{'time_sample_batch': 0.0013706510066986083, 'time_algorithm_update': 0.0315098135471344, 'critic_loss': 13.709165947914123, 'actor_loss': -24.026342288970948, 'temp_loss': 0.05649452975764871, 'temp': 0.12031538039445877, 'time_step': 0.03299461460113525, 'environment': 439.8}\u001b[0m \u001b[36mstep\u001b[0m=\u001b[35m25000\u001b[0m\n",
      "\u001b[2m2023-10-01 16:48:49\u001b[0m [\u001b[32m\u001b[1minfo     \u001b[0m] \u001b[1mModel parameters are saved to d3rlpy_logs/COMBO_20231001163040/model_25000.pt\u001b[0m\n"
     ]
    },
    {
     "data": {
      "application/vnd.jupyter.widget-view+json": {
       "model_id": "7892038fbd71444ea1962ed682ae84a2",
       "version_major": 2,
       "version_minor": 0
      },
      "text/plain": [
       "Epoch 26/100:   0%|          | 0/1000 [00:00<?, ?it/s]"
      ]
     },
     "metadata": {},
     "output_type": "display_data"
    },
    {
     "name": "stdout",
     "output_type": "stream",
     "text": [
      "\u001b[2m2023-10-01 16:48:50\u001b[0m [\u001b[32m\u001b[1mdebug    \u001b[0m] \u001b[1m250000 transitions are generated.\u001b[0m \u001b[36mfake_transitions\u001b[0m=\u001b[35m1250000\u001b[0m \u001b[36mreal_transitions\u001b[0m=\u001b[35m78012\u001b[0m\n",
      "\u001b[2m2023-10-01 16:49:33\u001b[0m [\u001b[32m\u001b[1minfo     \u001b[0m] \u001b[1mCOMBO_20231001163040: epoch=26 step=26000\u001b[0m \u001b[36mepoch\u001b[0m=\u001b[35m26\u001b[0m \u001b[36mmetrics\u001b[0m=\u001b[35m{'time_sample_batch': 0.0013233940601348876, 'time_algorithm_update': 0.028446160316467285, 'critic_loss': 13.55548444366455, 'actor_loss': -24.08116732788086, 'temp_loss': 0.048948233928531405, 'temp': 0.11060859480500221, 'time_step': 0.02987438154220581, 'environment': 1000.0}\u001b[0m \u001b[36mstep\u001b[0m=\u001b[35m26000\u001b[0m\n",
      "\u001b[2m2023-10-01 16:49:33\u001b[0m [\u001b[32m\u001b[1minfo     \u001b[0m] \u001b[1mModel parameters are saved to d3rlpy_logs/COMBO_20231001163040/model_26000.pt\u001b[0m\n"
     ]
    },
    {
     "data": {
      "application/vnd.jupyter.widget-view+json": {
       "model_id": "fed5e60049ce4f5d94959549e2aa29a0",
       "version_major": 2,
       "version_minor": 0
      },
      "text/plain": [
       "Epoch 27/100:   0%|          | 0/1000 [00:00<?, ?it/s]"
      ]
     },
     "metadata": {},
     "output_type": "display_data"
    },
    {
     "name": "stdout",
     "output_type": "stream",
     "text": [
      "\u001b[2m2023-10-01 16:49:36\u001b[0m [\u001b[32m\u001b[1mdebug    \u001b[0m] \u001b[1m250000 transitions are generated.\u001b[0m \u001b[36mfake_transitions\u001b[0m=\u001b[35m1250000\u001b[0m \u001b[36mreal_transitions\u001b[0m=\u001b[35m78012\u001b[0m\n",
      "\u001b[2m2023-10-01 16:50:19\u001b[0m [\u001b[32m\u001b[1minfo     \u001b[0m] \u001b[1mCOMBO_20231001163040: epoch=27 step=27000\u001b[0m \u001b[36mepoch\u001b[0m=\u001b[35m27\u001b[0m \u001b[36mmetrics\u001b[0m=\u001b[35m{'time_sample_batch': 0.0012921898365020753, 'time_algorithm_update': 0.02840549969673157, 'critic_loss': 13.435721493721008, 'actor_loss': -24.147282501220705, 'temp_loss': 0.04253468297049403, 'temp': 0.10164411588013172, 'time_step': 0.029804151773452758, 'environment': 997.3}\u001b[0m \u001b[36mstep\u001b[0m=\u001b[35m27000\u001b[0m\n",
      "\u001b[2m2023-10-01 16:50:19\u001b[0m [\u001b[32m\u001b[1minfo     \u001b[0m] \u001b[1mModel parameters are saved to d3rlpy_logs/COMBO_20231001163040/model_27000.pt\u001b[0m\n"
     ]
    },
    {
     "data": {
      "application/vnd.jupyter.widget-view+json": {
       "model_id": "39b04aa5049d4577830849f227541a80",
       "version_major": 2,
       "version_minor": 0
      },
      "text/plain": [
       "Epoch 28/100:   0%|          | 0/1000 [00:00<?, ?it/s]"
      ]
     },
     "metadata": {},
     "output_type": "display_data"
    },
    {
     "name": "stdout",
     "output_type": "stream",
     "text": [
      "\u001b[2m2023-10-01 16:50:21\u001b[0m [\u001b[32m\u001b[1mdebug    \u001b[0m] \u001b[1m250000 transitions are generated.\u001b[0m \u001b[36mfake_transitions\u001b[0m=\u001b[35m1250000\u001b[0m \u001b[36mreal_transitions\u001b[0m=\u001b[35m78012\u001b[0m\n",
      "\u001b[2m2023-10-01 16:51:05\u001b[0m [\u001b[32m\u001b[1minfo     \u001b[0m] \u001b[1mCOMBO_20231001163040: epoch=28 step=28000\u001b[0m \u001b[36mepoch\u001b[0m=\u001b[35m28\u001b[0m \u001b[36mmetrics\u001b[0m=\u001b[35m{'time_sample_batch': 0.0012966649532318115, 'time_algorithm_update': 0.028598286628723144, 'critic_loss': 13.339744483947754, 'actor_loss': -24.226382070541383, 'temp_loss': 0.03584659663401544, 'temp': 0.09355729385465383, 'time_step': 0.03000657844543457, 'environment': 1000.0}\u001b[0m \u001b[36mstep\u001b[0m=\u001b[35m28000\u001b[0m\n",
      "\u001b[2m2023-10-01 16:51:05\u001b[0m [\u001b[32m\u001b[1minfo     \u001b[0m] \u001b[1mModel parameters are saved to d3rlpy_logs/COMBO_20231001163040/model_28000.pt\u001b[0m\n"
     ]
    },
    {
     "data": {
      "application/vnd.jupyter.widget-view+json": {
       "model_id": "0259d194cc244577ae6722db513ed3d5",
       "version_major": 2,
       "version_minor": 0
      },
      "text/plain": [
       "Epoch 29/100:   0%|          | 0/1000 [00:00<?, ?it/s]"
      ]
     },
     "metadata": {},
     "output_type": "display_data"
    },
    {
     "name": "stdout",
     "output_type": "stream",
     "text": [
      "\u001b[2m2023-10-01 16:51:07\u001b[0m [\u001b[32m\u001b[1mdebug    \u001b[0m] \u001b[1m250000 transitions are generated.\u001b[0m \u001b[36mfake_transitions\u001b[0m=\u001b[35m1250000\u001b[0m \u001b[36mreal_transitions\u001b[0m=\u001b[35m78012\u001b[0m\n",
      "\u001b[2m2023-10-01 16:51:51\u001b[0m [\u001b[32m\u001b[1minfo     \u001b[0m] \u001b[1mCOMBO_20231001163040: epoch=29 step=29000\u001b[0m \u001b[36mepoch\u001b[0m=\u001b[35m29\u001b[0m \u001b[36mmetrics\u001b[0m=\u001b[35m{'time_sample_batch': 0.0013120541572570802, 'time_algorithm_update': 0.029181240797042846, 'critic_loss': 13.273387143135071, 'actor_loss': -24.337498191833497, 'temp_loss': 0.030580987153574823, 'temp': 0.08619714296609163, 'time_step': 0.03059787893295288, 'environment': 1000.0}\u001b[0m \u001b[36mstep\u001b[0m=\u001b[35m29000\u001b[0m\n",
      "\u001b[2m2023-10-01 16:51:51\u001b[0m [\u001b[32m\u001b[1minfo     \u001b[0m] \u001b[1mModel parameters are saved to d3rlpy_logs/COMBO_20231001163040/model_29000.pt\u001b[0m\n"
     ]
    },
    {
     "data": {
      "application/vnd.jupyter.widget-view+json": {
       "model_id": "176a81329e0448919ed559af7fb94cca",
       "version_major": 2,
       "version_minor": 0
      },
      "text/plain": [
       "Epoch 30/100:   0%|          | 0/1000 [00:00<?, ?it/s]"
      ]
     },
     "metadata": {},
     "output_type": "display_data"
    },
    {
     "name": "stdout",
     "output_type": "stream",
     "text": [
      "\u001b[2m2023-10-01 16:51:53\u001b[0m [\u001b[32m\u001b[1mdebug    \u001b[0m] \u001b[1m250000 transitions are generated.\u001b[0m \u001b[36mfake_transitions\u001b[0m=\u001b[35m1250000\u001b[0m \u001b[36mreal_transitions\u001b[0m=\u001b[35m78012\u001b[0m\n",
      "\u001b[2m2023-10-01 16:52:35\u001b[0m [\u001b[32m\u001b[1minfo     \u001b[0m] \u001b[1mCOMBO_20231001163040: epoch=30 step=30000\u001b[0m \u001b[36mepoch\u001b[0m=\u001b[35m30\u001b[0m \u001b[36mmetrics\u001b[0m=\u001b[35m{'time_sample_batch': 0.001276379108428955, 'time_algorithm_update': 0.028170211553573608, 'critic_loss': 13.115773598670959, 'actor_loss': -24.41645220375061, 'temp_loss': 0.02651057044789195, 'temp': 0.07935980883985758, 'time_step': 0.029554693937301636, 'environment': 1000.0}\u001b[0m \u001b[36mstep\u001b[0m=\u001b[35m30000\u001b[0m\n",
      "\u001b[2m2023-10-01 16:52:35\u001b[0m [\u001b[32m\u001b[1minfo     \u001b[0m] \u001b[1mModel parameters are saved to d3rlpy_logs/COMBO_20231001163040/model_30000.pt\u001b[0m\n"
     ]
    },
    {
     "data": {
      "application/vnd.jupyter.widget-view+json": {
       "model_id": "ed00f98125f34ed49e239ff1812c03aa",
       "version_major": 2,
       "version_minor": 0
      },
      "text/plain": [
       "Epoch 31/100:   0%|          | 0/1000 [00:00<?, ?it/s]"
      ]
     },
     "metadata": {},
     "output_type": "display_data"
    },
    {
     "name": "stdout",
     "output_type": "stream",
     "text": [
      "\u001b[2m2023-10-01 16:52:38\u001b[0m [\u001b[32m\u001b[1mdebug    \u001b[0m] \u001b[1m250000 transitions are generated.\u001b[0m \u001b[36mfake_transitions\u001b[0m=\u001b[35m1250000\u001b[0m \u001b[36mreal_transitions\u001b[0m=\u001b[35m78012\u001b[0m\n",
      "\u001b[2m2023-10-01 16:53:21\u001b[0m [\u001b[32m\u001b[1minfo     \u001b[0m] \u001b[1mCOMBO_20231001163040: epoch=31 step=31000\u001b[0m \u001b[36mepoch\u001b[0m=\u001b[35m31\u001b[0m \u001b[36mmetrics\u001b[0m=\u001b[35m{'time_sample_batch': 0.0012976031303405763, 'time_algorithm_update': 0.02828203248977661, 'critic_loss': 13.056402437210084, 'actor_loss': -24.477013872146607, 'temp_loss': 0.023264717074111103, 'temp': 0.07302015504986048, 'time_step': 0.029689085721969606, 'environment': 1000.0}\u001b[0m \u001b[36mstep\u001b[0m=\u001b[35m31000\u001b[0m\n",
      "\u001b[2m2023-10-01 16:53:21\u001b[0m [\u001b[32m\u001b[1minfo     \u001b[0m] \u001b[1mModel parameters are saved to d3rlpy_logs/COMBO_20231001163040/model_31000.pt\u001b[0m\n"
     ]
    },
    {
     "data": {
      "application/vnd.jupyter.widget-view+json": {
       "model_id": "63b20f9d7cc445edac69987acc2ba1e9",
       "version_major": 2,
       "version_minor": 0
      },
      "text/plain": [
       "Epoch 32/100:   0%|          | 0/1000 [00:00<?, ?it/s]"
      ]
     },
     "metadata": {},
     "output_type": "display_data"
    },
    {
     "name": "stdout",
     "output_type": "stream",
     "text": [
      "\u001b[2m2023-10-01 16:53:23\u001b[0m [\u001b[32m\u001b[1mdebug    \u001b[0m] \u001b[1m250000 transitions are generated.\u001b[0m \u001b[36mfake_transitions\u001b[0m=\u001b[35m1250000\u001b[0m \u001b[36mreal_transitions\u001b[0m=\u001b[35m78012\u001b[0m\n",
      "\u001b[2m2023-10-01 16:54:03\u001b[0m [\u001b[32m\u001b[1minfo     \u001b[0m] \u001b[1mCOMBO_20231001163040: epoch=32 step=32000\u001b[0m \u001b[36mepoch\u001b[0m=\u001b[35m32\u001b[0m \u001b[36mmetrics\u001b[0m=\u001b[35m{'time_sample_batch': 0.0012948660850524902, 'time_algorithm_update': 0.028430151224136353, 'critic_loss': 12.865486915588379, 'actor_loss': -24.520576694488526, 'temp_loss': 0.019312632534187288, 'temp': 0.06723030576109887, 'time_step': 0.02983418107032776, 'environment': 762.5}\u001b[0m \u001b[36mstep\u001b[0m=\u001b[35m32000\u001b[0m\n",
      "\u001b[2m2023-10-01 16:54:03\u001b[0m [\u001b[32m\u001b[1minfo     \u001b[0m] \u001b[1mModel parameters are saved to d3rlpy_logs/COMBO_20231001163040/model_32000.pt\u001b[0m\n"
     ]
    },
    {
     "data": {
      "application/vnd.jupyter.widget-view+json": {
       "model_id": "d7a4c1e1cee249138d0f97b37e794519",
       "version_major": 2,
       "version_minor": 0
      },
      "text/plain": [
       "Epoch 33/100:   0%|          | 0/1000 [00:00<?, ?it/s]"
      ]
     },
     "metadata": {},
     "output_type": "display_data"
    },
    {
     "name": "stdout",
     "output_type": "stream",
     "text": [
      "\u001b[2m2023-10-01 16:54:05\u001b[0m [\u001b[32m\u001b[1mdebug    \u001b[0m] \u001b[1m250000 transitions are generated.\u001b[0m \u001b[36mfake_transitions\u001b[0m=\u001b[35m1250000\u001b[0m \u001b[36mreal_transitions\u001b[0m=\u001b[35m78012\u001b[0m\n",
      "\u001b[2m2023-10-01 16:54:47\u001b[0m [\u001b[32m\u001b[1minfo     \u001b[0m] \u001b[1mCOMBO_20231001163040: epoch=33 step=33000\u001b[0m \u001b[36mepoch\u001b[0m=\u001b[35m33\u001b[0m \u001b[36mmetrics\u001b[0m=\u001b[35m{'time_sample_batch': 0.0012653179168701171, 'time_algorithm_update': 0.027969007968902587, 'critic_loss': 12.792810062408448, 'actor_loss': -24.593501987457277, 'temp_loss': 0.01589382352819666, 'temp': 0.062128262478858234, 'time_step': 0.02933855676651001, 'environment': 1000.0}\u001b[0m \u001b[36mstep\u001b[0m=\u001b[35m33000\u001b[0m\n",
      "\u001b[2m2023-10-01 16:54:47\u001b[0m [\u001b[32m\u001b[1minfo     \u001b[0m] \u001b[1mModel parameters are saved to d3rlpy_logs/COMBO_20231001163040/model_33000.pt\u001b[0m\n"
     ]
    },
    {
     "data": {
      "application/vnd.jupyter.widget-view+json": {
       "model_id": "49d458293f464988874bc3f739e46442",
       "version_major": 2,
       "version_minor": 0
      },
      "text/plain": [
       "Epoch 34/100:   0%|          | 0/1000 [00:00<?, ?it/s]"
      ]
     },
     "metadata": {},
     "output_type": "display_data"
    },
    {
     "name": "stdout",
     "output_type": "stream",
     "text": [
      "\u001b[2m2023-10-01 16:54:50\u001b[0m [\u001b[32m\u001b[1mdebug    \u001b[0m] \u001b[1m250000 transitions are generated.\u001b[0m \u001b[36mfake_transitions\u001b[0m=\u001b[35m1250000\u001b[0m \u001b[36mreal_transitions\u001b[0m=\u001b[35m78012\u001b[0m\n",
      "\u001b[2m2023-10-01 16:55:33\u001b[0m [\u001b[32m\u001b[1minfo     \u001b[0m] \u001b[1mCOMBO_20231001163040: epoch=34 step=34000\u001b[0m \u001b[36mepoch\u001b[0m=\u001b[35m34\u001b[0m \u001b[36mmetrics\u001b[0m=\u001b[35m{'time_sample_batch': 0.0012902884483337403, 'time_algorithm_update': 0.028393104076385497, 'critic_loss': 12.69907410812378, 'actor_loss': -24.678309902191163, 'temp_loss': 0.013557717218296602, 'temp': 0.05739581412449479, 'time_step': 0.029790728807449342, 'environment': 1000.0}\u001b[0m \u001b[36mstep\u001b[0m=\u001b[35m34000\u001b[0m\n",
      "\u001b[2m2023-10-01 16:55:33\u001b[0m [\u001b[32m\u001b[1minfo     \u001b[0m] \u001b[1mModel parameters are saved to d3rlpy_logs/COMBO_20231001163040/model_34000.pt\u001b[0m\n"
     ]
    },
    {
     "data": {
      "application/vnd.jupyter.widget-view+json": {
       "model_id": "907e151964c74d08b1019843f6edac32",
       "version_major": 2,
       "version_minor": 0
      },
      "text/plain": [
       "Epoch 35/100:   0%|          | 0/1000 [00:00<?, ?it/s]"
      ]
     },
     "metadata": {},
     "output_type": "display_data"
    },
    {
     "name": "stdout",
     "output_type": "stream",
     "text": [
      "\u001b[2m2023-10-01 16:55:35\u001b[0m [\u001b[32m\u001b[1mdebug    \u001b[0m] \u001b[1m250000 transitions are generated.\u001b[0m \u001b[36mfake_transitions\u001b[0m=\u001b[35m1250000\u001b[0m \u001b[36mreal_transitions\u001b[0m=\u001b[35m78012\u001b[0m\n",
      "\u001b[2m2023-10-01 16:56:18\u001b[0m [\u001b[32m\u001b[1minfo     \u001b[0m] \u001b[1mCOMBO_20231001163040: epoch=35 step=35000\u001b[0m \u001b[36mepoch\u001b[0m=\u001b[35m35\u001b[0m \u001b[36mmetrics\u001b[0m=\u001b[35m{'time_sample_batch': 0.0013161170482635497, 'time_algorithm_update': 0.02874711537361145, 'critic_loss': 12.589873147010803, 'actor_loss': -24.765250478744505, 'temp_loss': 0.01188533593673492, 'temp': 0.052943718690425155, 'time_step': 0.03017256712913513, 'environment': 1000.0}\u001b[0m \u001b[36mstep\u001b[0m=\u001b[35m35000\u001b[0m\n",
      "\u001b[2m2023-10-01 16:56:18\u001b[0m [\u001b[32m\u001b[1minfo     \u001b[0m] \u001b[1mModel parameters are saved to d3rlpy_logs/COMBO_20231001163040/model_35000.pt\u001b[0m\n"
     ]
    },
    {
     "data": {
      "application/vnd.jupyter.widget-view+json": {
       "model_id": "a3021ec57aef4cbfa8f01b8417d5595d",
       "version_major": 2,
       "version_minor": 0
      },
      "text/plain": [
       "Epoch 36/100:   0%|          | 0/1000 [00:00<?, ?it/s]"
      ]
     },
     "metadata": {},
     "output_type": "display_data"
    },
    {
     "name": "stdout",
     "output_type": "stream",
     "text": [
      "\u001b[2m2023-10-01 16:56:20\u001b[0m [\u001b[32m\u001b[1mdebug    \u001b[0m] \u001b[1m250000 transitions are generated.\u001b[0m \u001b[36mfake_transitions\u001b[0m=\u001b[35m1250000\u001b[0m \u001b[36mreal_transitions\u001b[0m=\u001b[35m78012\u001b[0m\n",
      "\u001b[2m2023-10-01 16:57:06\u001b[0m [\u001b[32m\u001b[1minfo     \u001b[0m] \u001b[1mCOMBO_20231001163040: epoch=36 step=36000\u001b[0m \u001b[36mepoch\u001b[0m=\u001b[35m36\u001b[0m \u001b[36mmetrics\u001b[0m=\u001b[35m{'time_sample_batch': 0.0013304200172424316, 'time_algorithm_update': 0.029277152538299562, 'critic_loss': 12.533324766159058, 'actor_loss': -24.865775827407838, 'temp_loss': 0.00958004605874885, 'temp': 0.048948938015848396, 'time_step': 0.030721152067184447, 'environment': 1000.0}\u001b[0m \u001b[36mstep\u001b[0m=\u001b[35m36000\u001b[0m\n",
      "\u001b[2m2023-10-01 16:57:06\u001b[0m [\u001b[32m\u001b[1minfo     \u001b[0m] \u001b[1mModel parameters are saved to d3rlpy_logs/COMBO_20231001163040/model_36000.pt\u001b[0m\n"
     ]
    },
    {
     "data": {
      "application/vnd.jupyter.widget-view+json": {
       "model_id": "ca8d43cf124e418d98284942f2ccc704",
       "version_major": 2,
       "version_minor": 0
      },
      "text/plain": [
       "Epoch 37/100:   0%|          | 0/1000 [00:00<?, ?it/s]"
      ]
     },
     "metadata": {},
     "output_type": "display_data"
    },
    {
     "name": "stdout",
     "output_type": "stream",
     "text": [
      "\u001b[2m2023-10-01 16:57:09\u001b[0m [\u001b[32m\u001b[1mdebug    \u001b[0m] \u001b[1m250000 transitions are generated.\u001b[0m \u001b[36mfake_transitions\u001b[0m=\u001b[35m1250000\u001b[0m \u001b[36mreal_transitions\u001b[0m=\u001b[35m78012\u001b[0m\n",
      "\u001b[2m2023-10-01 16:57:53\u001b[0m [\u001b[32m\u001b[1minfo     \u001b[0m] \u001b[1mCOMBO_20231001163040: epoch=37 step=37000\u001b[0m \u001b[36mepoch\u001b[0m=\u001b[35m37\u001b[0m \u001b[36mmetrics\u001b[0m=\u001b[35m{'time_sample_batch': 0.0013193459510803223, 'time_algorithm_update': 0.028784780740737915, 'critic_loss': 12.427424631118775, 'actor_loss': -24.950175563812255, 'temp_loss': 0.008105437988589984, 'temp': 0.045332930631935595, 'time_step': 0.03021902561187744, 'environment': 1000.0}\u001b[0m \u001b[36mstep\u001b[0m=\u001b[35m37000\u001b[0m\n",
      "\u001b[2m2023-10-01 16:57:53\u001b[0m [\u001b[32m\u001b[1minfo     \u001b[0m] \u001b[1mModel parameters are saved to d3rlpy_logs/COMBO_20231001163040/model_37000.pt\u001b[0m\n"
     ]
    },
    {
     "data": {
      "application/vnd.jupyter.widget-view+json": {
       "model_id": "b40db270d1cc47b0b0cd76abc519cb4a",
       "version_major": 2,
       "version_minor": 0
      },
      "text/plain": [
       "Epoch 38/100:   0%|          | 0/1000 [00:00<?, ?it/s]"
      ]
     },
     "metadata": {},
     "output_type": "display_data"
    },
    {
     "name": "stdout",
     "output_type": "stream",
     "text": [
      "\u001b[2m2023-10-01 16:57:54\u001b[0m [\u001b[32m\u001b[1mdebug    \u001b[0m] \u001b[1m250000 transitions are generated.\u001b[0m \u001b[36mfake_transitions\u001b[0m=\u001b[35m1250000\u001b[0m \u001b[36mreal_transitions\u001b[0m=\u001b[35m78012\u001b[0m\n",
      "\u001b[2m2023-10-01 16:58:38\u001b[0m [\u001b[32m\u001b[1minfo     \u001b[0m] \u001b[1mCOMBO_20231001163040: epoch=38 step=38000\u001b[0m \u001b[36mepoch\u001b[0m=\u001b[35m38\u001b[0m \u001b[36mmetrics\u001b[0m=\u001b[35m{'time_sample_batch': 0.0013210725784301757, 'time_algorithm_update': 0.029310091733932495, 'critic_loss': 12.361415506362915, 'actor_loss': -25.034608791351317, 'temp_loss': 0.006676581274659838, 'temp': 0.04204555350169539, 'time_step': 0.03074733304977417, 'environment': 1000.0}\u001b[0m \u001b[36mstep\u001b[0m=\u001b[35m38000\u001b[0m\n",
      "\u001b[2m2023-10-01 16:58:38\u001b[0m [\u001b[32m\u001b[1minfo     \u001b[0m] \u001b[1mModel parameters are saved to d3rlpy_logs/COMBO_20231001163040/model_38000.pt\u001b[0m\n"
     ]
    },
    {
     "data": {
      "application/vnd.jupyter.widget-view+json": {
       "model_id": "246cb8a6f376478c9fea68cffa654b7f",
       "version_major": 2,
       "version_minor": 0
      },
      "text/plain": [
       "Epoch 39/100:   0%|          | 0/1000 [00:00<?, ?it/s]"
      ]
     },
     "metadata": {},
     "output_type": "display_data"
    },
    {
     "name": "stdout",
     "output_type": "stream",
     "text": [
      "\u001b[2m2023-10-01 16:58:41\u001b[0m [\u001b[32m\u001b[1mdebug    \u001b[0m] \u001b[1m250000 transitions are generated.\u001b[0m \u001b[36mfake_transitions\u001b[0m=\u001b[35m1250000\u001b[0m \u001b[36mreal_transitions\u001b[0m=\u001b[35m78012\u001b[0m\n",
      "\u001b[2m2023-10-01 16:59:25\u001b[0m [\u001b[32m\u001b[1minfo     \u001b[0m] \u001b[1mCOMBO_20231001163040: epoch=39 step=39000\u001b[0m \u001b[36mepoch\u001b[0m=\u001b[35m39\u001b[0m \u001b[36mmetrics\u001b[0m=\u001b[35m{'time_sample_batch': 0.0013007383346557617, 'time_algorithm_update': 0.028818418502807617, 'critic_loss': 12.243071772575378, 'actor_loss': -25.140207231521607, 'temp_loss': 0.005471758718922502, 'temp': 0.03902663967013359, 'time_step': 0.03023298931121826, 'environment': 1000.0}\u001b[0m \u001b[36mstep\u001b[0m=\u001b[35m39000\u001b[0m\n",
      "\u001b[2m2023-10-01 16:59:25\u001b[0m [\u001b[32m\u001b[1minfo     \u001b[0m] \u001b[1mModel parameters are saved to d3rlpy_logs/COMBO_20231001163040/model_39000.pt\u001b[0m\n"
     ]
    },
    {
     "data": {
      "application/vnd.jupyter.widget-view+json": {
       "model_id": "d509798928774083a74915433754f393",
       "version_major": 2,
       "version_minor": 0
      },
      "text/plain": [
       "Epoch 40/100:   0%|          | 0/1000 [00:00<?, ?it/s]"
      ]
     },
     "metadata": {},
     "output_type": "display_data"
    },
    {
     "name": "stdout",
     "output_type": "stream",
     "text": [
      "\u001b[2m2023-10-01 16:59:27\u001b[0m [\u001b[32m\u001b[1mdebug    \u001b[0m] \u001b[1m250000 transitions are generated.\u001b[0m \u001b[36mfake_transitions\u001b[0m=\u001b[35m1250000\u001b[0m \u001b[36mreal_transitions\u001b[0m=\u001b[35m78012\u001b[0m\n",
      "\u001b[2m2023-10-01 17:00:11\u001b[0m [\u001b[32m\u001b[1minfo     \u001b[0m] \u001b[1mCOMBO_20231001163040: epoch=40 step=40000\u001b[0m \u001b[36mepoch\u001b[0m=\u001b[35m40\u001b[0m \u001b[36mmetrics\u001b[0m=\u001b[35m{'time_sample_batch': 0.001308570146560669, 'time_algorithm_update': 0.02862643051147461, 'critic_loss': 12.17765970134735, 'actor_loss': -25.2588672542572, 'temp_loss': 0.004848877882119268, 'temp': 0.03620635744929314, 'time_step': 0.030048141956329346, 'environment': 1000.0}\u001b[0m \u001b[36mstep\u001b[0m=\u001b[35m40000\u001b[0m\n",
      "\u001b[2m2023-10-01 17:00:11\u001b[0m [\u001b[32m\u001b[1minfo     \u001b[0m] \u001b[1mModel parameters are saved to d3rlpy_logs/COMBO_20231001163040/model_40000.pt\u001b[0m\n"
     ]
    },
    {
     "data": {
      "application/vnd.jupyter.widget-view+json": {
       "model_id": "d695e5cd9a0e4c50b18506917e3c7b06",
       "version_major": 2,
       "version_minor": 0
      },
      "text/plain": [
       "Epoch 41/100:   0%|          | 0/1000 [00:00<?, ?it/s]"
      ]
     },
     "metadata": {},
     "output_type": "display_data"
    },
    {
     "name": "stdout",
     "output_type": "stream",
     "text": [
      "\u001b[2m2023-10-01 17:00:13\u001b[0m [\u001b[32m\u001b[1mdebug    \u001b[0m] \u001b[1m250000 transitions are generated.\u001b[0m \u001b[36mfake_transitions\u001b[0m=\u001b[35m1250000\u001b[0m \u001b[36mreal_transitions\u001b[0m=\u001b[35m78012\u001b[0m\n",
      "\u001b[2m2023-10-01 17:00:57\u001b[0m [\u001b[32m\u001b[1minfo     \u001b[0m] \u001b[1mCOMBO_20231001163040: epoch=41 step=41000\u001b[0m \u001b[36mepoch\u001b[0m=\u001b[35m41\u001b[0m \u001b[36mmetrics\u001b[0m=\u001b[35m{'time_sample_batch': 0.0013209176063537597, 'time_algorithm_update': 0.02916275763511658, 'critic_loss': 12.05293866443634, 'actor_loss': -25.357856466293335, 'temp_loss': 0.003387755232892232, 'temp': 0.03376421581581235, 'time_step': 0.030597567796707154, 'environment': 1000.0}\u001b[0m \u001b[36mstep\u001b[0m=\u001b[35m41000\u001b[0m\n",
      "\u001b[2m2023-10-01 17:00:57\u001b[0m [\u001b[32m\u001b[1minfo     \u001b[0m] \u001b[1mModel parameters are saved to d3rlpy_logs/COMBO_20231001163040/model_41000.pt\u001b[0m\n"
     ]
    },
    {
     "data": {
      "application/vnd.jupyter.widget-view+json": {
       "model_id": "bd9ca2fac65a46859535e498fda4b46d",
       "version_major": 2,
       "version_minor": 0
      },
      "text/plain": [
       "Epoch 42/100:   0%|          | 0/1000 [00:00<?, ?it/s]"
      ]
     },
     "metadata": {},
     "output_type": "display_data"
    },
    {
     "name": "stdout",
     "output_type": "stream",
     "text": [
      "\u001b[2m2023-10-01 17:00:58\u001b[0m [\u001b[32m\u001b[1mdebug    \u001b[0m] \u001b[1m250000 transitions are generated.\u001b[0m \u001b[36mfake_transitions\u001b[0m=\u001b[35m1250000\u001b[0m \u001b[36mreal_transitions\u001b[0m=\u001b[35m78012\u001b[0m\n",
      "\u001b[2m2023-10-01 17:01:42\u001b[0m [\u001b[32m\u001b[1minfo     \u001b[0m] \u001b[1mCOMBO_20231001163040: epoch=42 step=42000\u001b[0m \u001b[36mepoch\u001b[0m=\u001b[35m42\u001b[0m \u001b[36mmetrics\u001b[0m=\u001b[35m{'time_sample_batch': 0.001310072660446167, 'time_algorithm_update': 0.028562316417694092, 'critic_loss': 12.015880054473877, 'actor_loss': -25.46330202102661, 'temp_loss': 0.0026364128266577608, 'temp': 0.03170392594859004, 'time_step': 0.0299930636882782, 'environment': 1000.0}\u001b[0m \u001b[36mstep\u001b[0m=\u001b[35m42000\u001b[0m\n",
      "\u001b[2m2023-10-01 17:01:42\u001b[0m [\u001b[32m\u001b[1minfo     \u001b[0m] \u001b[1mModel parameters are saved to d3rlpy_logs/COMBO_20231001163040/model_42000.pt\u001b[0m\n"
     ]
    },
    {
     "data": {
      "application/vnd.jupyter.widget-view+json": {
       "model_id": "f9699d200db9449d9d830bb9e23deecd",
       "version_major": 2,
       "version_minor": 0
      },
      "text/plain": [
       "Epoch 43/100:   0%|          | 0/1000 [00:00<?, ?it/s]"
      ]
     },
     "metadata": {},
     "output_type": "display_data"
    },
    {
     "name": "stdout",
     "output_type": "stream",
     "text": [
      "\u001b[2m2023-10-01 17:01:45\u001b[0m [\u001b[32m\u001b[1mdebug    \u001b[0m] \u001b[1m250000 transitions are generated.\u001b[0m \u001b[36mfake_transitions\u001b[0m=\u001b[35m1250000\u001b[0m \u001b[36mreal_transitions\u001b[0m=\u001b[35m78012\u001b[0m\n",
      "\u001b[2m2023-10-01 17:02:28\u001b[0m [\u001b[32m\u001b[1minfo     \u001b[0m] \u001b[1mCOMBO_20231001163040: epoch=43 step=43000\u001b[0m \u001b[36mepoch\u001b[0m=\u001b[35m43\u001b[0m \u001b[36mmetrics\u001b[0m=\u001b[35m{'time_sample_batch': 0.0013185222148895265, 'time_algorithm_update': 0.029039616107940674, 'critic_loss': 11.946434356689453, 'actor_loss': -25.573005672454833, 'temp_loss': 0.002094591738336021, 'temp': 0.029923284478485586, 'time_step': 0.03047444486618042, 'environment': 1000.0}\u001b[0m \u001b[36mstep\u001b[0m=\u001b[35m43000\u001b[0m\n",
      "\u001b[2m2023-10-01 17:02:28\u001b[0m [\u001b[32m\u001b[1minfo     \u001b[0m] \u001b[1mModel parameters are saved to d3rlpy_logs/COMBO_20231001163040/model_43000.pt\u001b[0m\n"
     ]
    },
    {
     "data": {
      "application/vnd.jupyter.widget-view+json": {
       "model_id": "ad6392c7c67342fd8b172f67ad326b36",
       "version_major": 2,
       "version_minor": 0
      },
      "text/plain": [
       "Epoch 44/100:   0%|          | 0/1000 [00:00<?, ?it/s]"
      ]
     },
     "metadata": {},
     "output_type": "display_data"
    },
    {
     "name": "stdout",
     "output_type": "stream",
     "text": [
      "\u001b[2m2023-10-01 17:02:31\u001b[0m [\u001b[32m\u001b[1mdebug    \u001b[0m] \u001b[1m250000 transitions are generated.\u001b[0m \u001b[36mfake_transitions\u001b[0m=\u001b[35m1250000\u001b[0m \u001b[36mreal_transitions\u001b[0m=\u001b[35m78012\u001b[0m\n",
      "\u001b[2m2023-10-01 17:03:14\u001b[0m [\u001b[32m\u001b[1minfo     \u001b[0m] \u001b[1mCOMBO_20231001163040: epoch=44 step=44000\u001b[0m \u001b[36mepoch\u001b[0m=\u001b[35m44\u001b[0m \u001b[36mmetrics\u001b[0m=\u001b[35m{'time_sample_batch': 0.0013105151653289794, 'time_algorithm_update': 0.028744776487350465, 'critic_loss': 11.89898168182373, 'actor_loss': -25.695467233657837, 'temp_loss': 0.0016131318286352325, 'temp': 0.02825239334627986, 'time_step': 0.030175013065338135, 'environment': 1000.0}\u001b[0m \u001b[36mstep\u001b[0m=\u001b[35m44000\u001b[0m\n",
      "\u001b[2m2023-10-01 17:03:14\u001b[0m [\u001b[32m\u001b[1minfo     \u001b[0m] \u001b[1mModel parameters are saved to d3rlpy_logs/COMBO_20231001163040/model_44000.pt\u001b[0m\n"
     ]
    },
    {
     "data": {
      "application/vnd.jupyter.widget-view+json": {
       "model_id": "bd2ba8da413048d6a238c7cb15dd517f",
       "version_major": 2,
       "version_minor": 0
      },
      "text/plain": [
       "Epoch 45/100:   0%|          | 0/1000 [00:00<?, ?it/s]"
      ]
     },
     "metadata": {},
     "output_type": "display_data"
    },
    {
     "name": "stdout",
     "output_type": "stream",
     "text": [
      "\u001b[2m2023-10-01 17:03:16\u001b[0m [\u001b[32m\u001b[1mdebug    \u001b[0m] \u001b[1m250000 transitions are generated.\u001b[0m \u001b[36mfake_transitions\u001b[0m=\u001b[35m1250000\u001b[0m \u001b[36mreal_transitions\u001b[0m=\u001b[35m78012\u001b[0m\n",
      "\u001b[2m2023-10-01 17:04:00\u001b[0m [\u001b[32m\u001b[1minfo     \u001b[0m] \u001b[1mCOMBO_20231001163040: epoch=45 step=45000\u001b[0m \u001b[36mepoch\u001b[0m=\u001b[35m45\u001b[0m \u001b[36mmetrics\u001b[0m=\u001b[35m{'time_sample_batch': 0.0013136768341064453, 'time_algorithm_update': 0.02933867883682251, 'critic_loss': 11.791767107963562, 'actor_loss': -25.83540657234192, 'temp_loss': 0.0008265465656440938, 'temp': 0.027179366504773497, 'time_step': 0.030769470691680907, 'environment': 1000.0}\u001b[0m \u001b[36mstep\u001b[0m=\u001b[35m45000\u001b[0m\n",
      "\u001b[2m2023-10-01 17:04:00\u001b[0m [\u001b[32m\u001b[1minfo     \u001b[0m] \u001b[1mModel parameters are saved to d3rlpy_logs/COMBO_20231001163040/model_45000.pt\u001b[0m\n"
     ]
    },
    {
     "data": {
      "application/vnd.jupyter.widget-view+json": {
       "model_id": "4d4ee6ea11254fe0bd7d900f7b63781a",
       "version_major": 2,
       "version_minor": 0
      },
      "text/plain": [
       "Epoch 46/100:   0%|          | 0/1000 [00:00<?, ?it/s]"
      ]
     },
     "metadata": {},
     "output_type": "display_data"
    },
    {
     "name": "stdout",
     "output_type": "stream",
     "text": [
      "\u001b[2m2023-10-01 17:04:03\u001b[0m [\u001b[32m\u001b[1mdebug    \u001b[0m] \u001b[1m250000 transitions are generated.\u001b[0m \u001b[36mfake_transitions\u001b[0m=\u001b[35m1250000\u001b[0m \u001b[36mreal_transitions\u001b[0m=\u001b[35m78012\u001b[0m\n",
      "\u001b[2m2023-10-01 17:04:38\u001b[0m [\u001b[32m\u001b[1minfo     \u001b[0m] \u001b[1mCOMBO_20231001163040: epoch=46 step=46000\u001b[0m \u001b[36mepoch\u001b[0m=\u001b[35m46\u001b[0m \u001b[36mmetrics\u001b[0m=\u001b[35m{'time_sample_batch': 0.0013353006839752198, 'time_algorithm_update': 0.029385516166687012, 'critic_loss': 11.779949054718017, 'actor_loss': -25.96733320045471, 'temp_loss': 0.0007414660985814407, 'temp': 0.02617683419957757, 'time_step': 0.03084559106826782, 'environment': 356.0}\u001b[0m \u001b[36mstep\u001b[0m=\u001b[35m46000\u001b[0m\n",
      "\u001b[2m2023-10-01 17:04:38\u001b[0m [\u001b[32m\u001b[1minfo     \u001b[0m] \u001b[1mModel parameters are saved to d3rlpy_logs/COMBO_20231001163040/model_46000.pt\u001b[0m\n"
     ]
    },
    {
     "data": {
      "application/vnd.jupyter.widget-view+json": {
       "model_id": "1e904dddbf194885ad263c0a7a81af75",
       "version_major": 2,
       "version_minor": 0
      },
      "text/plain": [
       "Epoch 47/100:   0%|          | 0/1000 [00:00<?, ?it/s]"
      ]
     },
     "metadata": {},
     "output_type": "display_data"
    },
    {
     "name": "stdout",
     "output_type": "stream",
     "text": [
      "\u001b[2m2023-10-01 17:04:40\u001b[0m [\u001b[32m\u001b[1mdebug    \u001b[0m] \u001b[1m250000 transitions are generated.\u001b[0m \u001b[36mfake_transitions\u001b[0m=\u001b[35m1250000\u001b[0m \u001b[36mreal_transitions\u001b[0m=\u001b[35m78012\u001b[0m\n",
      "\u001b[2m2023-10-01 17:05:24\u001b[0m [\u001b[32m\u001b[1minfo     \u001b[0m] \u001b[1mCOMBO_20231001163040: epoch=47 step=47000\u001b[0m \u001b[36mepoch\u001b[0m=\u001b[35m47\u001b[0m \u001b[36mmetrics\u001b[0m=\u001b[35m{'time_sample_batch': 0.0013229787349700929, 'time_algorithm_update': 0.029057050943374633, 'critic_loss': 11.717562392234802, 'actor_loss': -26.109220287322998, 'temp_loss': 0.00019543406524462624, 'temp': 0.02563768432661891, 'time_step': 0.03050404453277588, 'environment': 1000.0}\u001b[0m \u001b[36mstep\u001b[0m=\u001b[35m47000\u001b[0m\n",
      "\u001b[2m2023-10-01 17:05:24\u001b[0m [\u001b[32m\u001b[1minfo     \u001b[0m] \u001b[1mModel parameters are saved to d3rlpy_logs/COMBO_20231001163040/model_47000.pt\u001b[0m\n"
     ]
    },
    {
     "data": {
      "application/vnd.jupyter.widget-view+json": {
       "model_id": "855bb1ec721148f8a983b6ad6f2df856",
       "version_major": 2,
       "version_minor": 0
      },
      "text/plain": [
       "Epoch 48/100:   0%|          | 0/1000 [00:00<?, ?it/s]"
      ]
     },
     "metadata": {},
     "output_type": "display_data"
    },
    {
     "name": "stdout",
     "output_type": "stream",
     "text": [
      "\u001b[2m2023-10-01 17:05:26\u001b[0m [\u001b[32m\u001b[1mdebug    \u001b[0m] \u001b[1m250000 transitions are generated.\u001b[0m \u001b[36mfake_transitions\u001b[0m=\u001b[35m1250000\u001b[0m \u001b[36mreal_transitions\u001b[0m=\u001b[35m78012\u001b[0m\n",
      "\u001b[2m2023-10-01 17:06:10\u001b[0m [\u001b[32m\u001b[1minfo     \u001b[0m] \u001b[1mCOMBO_20231001163040: epoch=48 step=48000\u001b[0m \u001b[36mepoch\u001b[0m=\u001b[35m48\u001b[0m \u001b[36mmetrics\u001b[0m=\u001b[35m{'time_sample_batch': 0.0013309440612792969, 'time_algorithm_update': 0.0287776198387146, 'critic_loss': 11.74120871925354, 'actor_loss': -26.22362060165405, 'temp_loss': -0.00016947763971984387, 'temp': 0.02561443402990699, 'time_step': 0.030228352546691893, 'environment': 1000.0}\u001b[0m \u001b[36mstep\u001b[0m=\u001b[35m48000\u001b[0m\n",
      "\u001b[2m2023-10-01 17:06:10\u001b[0m [\u001b[32m\u001b[1minfo     \u001b[0m] \u001b[1mModel parameters are saved to d3rlpy_logs/COMBO_20231001163040/model_48000.pt\u001b[0m\n"
     ]
    },
    {
     "data": {
      "application/vnd.jupyter.widget-view+json": {
       "model_id": "9354af1744c94aabbcd8e8174a4541f1",
       "version_major": 2,
       "version_minor": 0
      },
      "text/plain": [
       "Epoch 49/100:   0%|          | 0/1000 [00:00<?, ?it/s]"
      ]
     },
     "metadata": {},
     "output_type": "display_data"
    },
    {
     "name": "stdout",
     "output_type": "stream",
     "text": [
      "\u001b[2m2023-10-01 17:06:13\u001b[0m [\u001b[32m\u001b[1mdebug    \u001b[0m] \u001b[1m250000 transitions are generated.\u001b[0m \u001b[36mfake_transitions\u001b[0m=\u001b[35m1250000\u001b[0m \u001b[36mreal_transitions\u001b[0m=\u001b[35m78012\u001b[0m\n",
      "\u001b[2m2023-10-01 17:06:56\u001b[0m [\u001b[32m\u001b[1minfo     \u001b[0m] \u001b[1mCOMBO_20231001163040: epoch=49 step=49000\u001b[0m \u001b[36mepoch\u001b[0m=\u001b[35m49\u001b[0m \u001b[36mmetrics\u001b[0m=\u001b[35m{'time_sample_batch': 0.001319389581680298, 'time_algorithm_update': 0.02869408845901489, 'critic_loss': 11.742623487472533, 'actor_loss': -26.348191333770753, 'temp_loss': 0.0005318739138456295, 'temp': 0.02545650647394359, 'time_step': 0.030132448434829713, 'environment': 1000.0}\u001b[0m \u001b[36mstep\u001b[0m=\u001b[35m49000\u001b[0m\n",
      "\u001b[2m2023-10-01 17:06:56\u001b[0m [\u001b[32m\u001b[1minfo     \u001b[0m] \u001b[1mModel parameters are saved to d3rlpy_logs/COMBO_20231001163040/model_49000.pt\u001b[0m\n"
     ]
    },
    {
     "data": {
      "application/vnd.jupyter.widget-view+json": {
       "model_id": "33c2f7f4f2884258af845dfa8cb02af3",
       "version_major": 2,
       "version_minor": 0
      },
      "text/plain": [
       "Epoch 50/100:   0%|          | 0/1000 [00:00<?, ?it/s]"
      ]
     },
     "metadata": {},
     "output_type": "display_data"
    },
    {
     "name": "stdout",
     "output_type": "stream",
     "text": [
      "\u001b[2m2023-10-01 17:06:58\u001b[0m [\u001b[32m\u001b[1mdebug    \u001b[0m] \u001b[1m250000 transitions are generated.\u001b[0m \u001b[36mfake_transitions\u001b[0m=\u001b[35m1250000\u001b[0m \u001b[36mreal_transitions\u001b[0m=\u001b[35m78012\u001b[0m\n",
      "\u001b[2m2023-10-01 17:07:42\u001b[0m [\u001b[32m\u001b[1minfo     \u001b[0m] \u001b[1mCOMBO_20231001163040: epoch=50 step=50000\u001b[0m \u001b[36mepoch\u001b[0m=\u001b[35m50\u001b[0m \u001b[36mmetrics\u001b[0m=\u001b[35m{'time_sample_batch': 0.0013142812252044677, 'time_algorithm_update': 0.02925296688079834, 'critic_loss': 11.67505438041687, 'actor_loss': -26.496211887359618, 'temp_loss': 0.00024154159416502806, 'temp': 0.024974377397447824, 'time_step': 0.03068563199043274, 'environment': 1000.0}\u001b[0m \u001b[36mstep\u001b[0m=\u001b[35m50000\u001b[0m\n",
      "\u001b[2m2023-10-01 17:07:42\u001b[0m [\u001b[32m\u001b[1minfo     \u001b[0m] \u001b[1mModel parameters are saved to d3rlpy_logs/COMBO_20231001163040/model_50000.pt\u001b[0m\n"
     ]
    },
    {
     "data": {
      "application/vnd.jupyter.widget-view+json": {
       "model_id": "27007d0b398e4b85abb37c2c2af6dd95",
       "version_major": 2,
       "version_minor": 0
      },
      "text/plain": [
       "Epoch 51/100:   0%|          | 0/1000 [00:00<?, ?it/s]"
      ]
     },
     "metadata": {},
     "output_type": "display_data"
    },
    {
     "name": "stdout",
     "output_type": "stream",
     "text": [
      "\u001b[2m2023-10-01 17:07:45\u001b[0m [\u001b[32m\u001b[1mdebug    \u001b[0m] \u001b[1m250000 transitions are generated.\u001b[0m \u001b[36mfake_transitions\u001b[0m=\u001b[35m1250000\u001b[0m \u001b[36mreal_transitions\u001b[0m=\u001b[35m78012\u001b[0m\n",
      "\u001b[2m2023-10-01 17:08:29\u001b[0m [\u001b[32m\u001b[1minfo     \u001b[0m] \u001b[1mCOMBO_20231001163040: epoch=51 step=51000\u001b[0m \u001b[36mepoch\u001b[0m=\u001b[35m51\u001b[0m \u001b[36mmetrics\u001b[0m=\u001b[35m{'time_sample_batch': 0.0013200626373291015, 'time_algorithm_update': 0.028889631271362303, 'critic_loss': 11.666295937538147, 'actor_loss': -26.62697399711609, 'temp_loss': 0.0002692246590013383, 'temp': 0.024512081012129785, 'time_step': 0.030328232526779176, 'environment': 1000.0}\u001b[0m \u001b[36mstep\u001b[0m=\u001b[35m51000\u001b[0m\n",
      "\u001b[2m2023-10-01 17:08:29\u001b[0m [\u001b[32m\u001b[1minfo     \u001b[0m] \u001b[1mModel parameters are saved to d3rlpy_logs/COMBO_20231001163040/model_51000.pt\u001b[0m\n"
     ]
    },
    {
     "data": {
      "application/vnd.jupyter.widget-view+json": {
       "model_id": "10ac9f521132428087dd9a182e2ae708",
       "version_major": 2,
       "version_minor": 0
      },
      "text/plain": [
       "Epoch 52/100:   0%|          | 0/1000 [00:00<?, ?it/s]"
      ]
     },
     "metadata": {},
     "output_type": "display_data"
    },
    {
     "name": "stdout",
     "output_type": "stream",
     "text": [
      "\u001b[2m2023-10-01 17:08:32\u001b[0m [\u001b[32m\u001b[1mdebug    \u001b[0m] \u001b[1m250000 transitions are generated.\u001b[0m \u001b[36mfake_transitions\u001b[0m=\u001b[35m1250000\u001b[0m \u001b[36mreal_transitions\u001b[0m=\u001b[35m78012\u001b[0m\n",
      "\u001b[2m2023-10-01 17:09:15\u001b[0m [\u001b[32m\u001b[1minfo     \u001b[0m] \u001b[1mCOMBO_20231001163040: epoch=52 step=52000\u001b[0m \u001b[36mepoch\u001b[0m=\u001b[35m52\u001b[0m \u001b[36mmetrics\u001b[0m=\u001b[35m{'time_sample_batch': 0.0013101391792297364, 'time_algorithm_update': 0.028833941459655763, 'critic_loss': 11.64750642490387, 'actor_loss': -26.793424140930174, 'temp_loss': 0.0004229569147137227, 'temp': 0.024185774402692914, 'time_step': 0.030267398834228517, 'environment': 1000.0}\u001b[0m \u001b[36mstep\u001b[0m=\u001b[35m52000\u001b[0m\n",
      "\u001b[2m2023-10-01 17:09:15\u001b[0m [\u001b[32m\u001b[1minfo     \u001b[0m] \u001b[1mModel parameters are saved to d3rlpy_logs/COMBO_20231001163040/model_52000.pt\u001b[0m\n"
     ]
    },
    {
     "data": {
      "application/vnd.jupyter.widget-view+json": {
       "model_id": "4dc28e7d3ec0436aa0833223633ec227",
       "version_major": 2,
       "version_minor": 0
      },
      "text/plain": [
       "Epoch 53/100:   0%|          | 0/1000 [00:00<?, ?it/s]"
      ]
     },
     "metadata": {},
     "output_type": "display_data"
    },
    {
     "name": "stdout",
     "output_type": "stream",
     "text": [
      "\u001b[2m2023-10-01 17:09:17\u001b[0m [\u001b[32m\u001b[1mdebug    \u001b[0m] \u001b[1m250000 transitions are generated.\u001b[0m \u001b[36mfake_transitions\u001b[0m=\u001b[35m1250000\u001b[0m \u001b[36mreal_transitions\u001b[0m=\u001b[35m78012\u001b[0m\n",
      "\u001b[2m2023-10-01 17:10:01\u001b[0m [\u001b[32m\u001b[1minfo     \u001b[0m] \u001b[1mCOMBO_20231001163040: epoch=53 step=53000\u001b[0m \u001b[36mepoch\u001b[0m=\u001b[35m53\u001b[0m \u001b[36mmetrics\u001b[0m=\u001b[35m{'time_sample_batch': 0.0013071703910827637, 'time_algorithm_update': 0.029057175636291503, 'critic_loss': 11.660362360954284, 'actor_loss': -26.919028911590576, 'temp_loss': -5.0493353744968775e-05, 'temp': 0.02387983942963183, 'time_step': 0.030483592271804808, 'environment': 1000.0}\u001b[0m \u001b[36mstep\u001b[0m=\u001b[35m53000\u001b[0m\n",
      "\u001b[2m2023-10-01 17:10:01\u001b[0m [\u001b[32m\u001b[1minfo     \u001b[0m] \u001b[1mModel parameters are saved to d3rlpy_logs/COMBO_20231001163040/model_53000.pt\u001b[0m\n"
     ]
    },
    {
     "data": {
      "application/vnd.jupyter.widget-view+json": {
       "model_id": "4263038fd168449b9040bfb06779c466",
       "version_major": 2,
       "version_minor": 0
      },
      "text/plain": [
       "Epoch 54/100:   0%|          | 0/1000 [00:00<?, ?it/s]"
      ]
     },
     "metadata": {},
     "output_type": "display_data"
    },
    {
     "name": "stdout",
     "output_type": "stream",
     "text": [
      "\u001b[2m2023-10-01 17:10:03\u001b[0m [\u001b[32m\u001b[1mdebug    \u001b[0m] \u001b[1m250000 transitions are generated.\u001b[0m \u001b[36mfake_transitions\u001b[0m=\u001b[35m1250000\u001b[0m \u001b[36mreal_transitions\u001b[0m=\u001b[35m78012\u001b[0m\n",
      "\u001b[2m2023-10-01 17:10:47\u001b[0m [\u001b[32m\u001b[1minfo     \u001b[0m] \u001b[1mCOMBO_20231001163040: epoch=54 step=54000\u001b[0m \u001b[36mepoch\u001b[0m=\u001b[35m54\u001b[0m \u001b[36mmetrics\u001b[0m=\u001b[35m{'time_sample_batch': 0.0013064022064208985, 'time_algorithm_update': 0.029089783191680908, 'critic_loss': 11.610158497810364, 'actor_loss': -27.0433601398468, 'temp_loss': 0.00022558591949928085, 'temp': 0.023818599035963416, 'time_step': 0.03051866054534912, 'environment': 1000.0}\u001b[0m \u001b[36mstep\u001b[0m=\u001b[35m54000\u001b[0m\n",
      "\u001b[2m2023-10-01 17:10:47\u001b[0m [\u001b[32m\u001b[1minfo     \u001b[0m] \u001b[1mModel parameters are saved to d3rlpy_logs/COMBO_20231001163040/model_54000.pt\u001b[0m\n"
     ]
    },
    {
     "data": {
      "application/vnd.jupyter.widget-view+json": {
       "model_id": "e69b00a1854846368b605a1ca25e5d60",
       "version_major": 2,
       "version_minor": 0
      },
      "text/plain": [
       "Epoch 55/100:   0%|          | 0/1000 [00:00<?, ?it/s]"
      ]
     },
     "metadata": {},
     "output_type": "display_data"
    },
    {
     "name": "stdout",
     "output_type": "stream",
     "text": [
      "\u001b[2m2023-10-01 17:10:50\u001b[0m [\u001b[32m\u001b[1mdebug    \u001b[0m] \u001b[1m250000 transitions are generated.\u001b[0m \u001b[36mfake_transitions\u001b[0m=\u001b[35m1250000\u001b[0m \u001b[36mreal_transitions\u001b[0m=\u001b[35m78012\u001b[0m\n",
      "\u001b[2m2023-10-01 17:11:34\u001b[0m [\u001b[32m\u001b[1minfo     \u001b[0m] \u001b[1mCOMBO_20231001163040: epoch=55 step=55000\u001b[0m \u001b[36mepoch\u001b[0m=\u001b[35m55\u001b[0m \u001b[36mmetrics\u001b[0m=\u001b[35m{'time_sample_batch': 0.0013242981433868408, 'time_algorithm_update': 0.0288453893661499, 'critic_loss': 11.576998382091523, 'actor_loss': -27.201552904129027, 'temp_loss': -2.833361501689069e-05, 'temp': 0.023713928140699864, 'time_step': 0.030289189815521242, 'environment': 1000.0}\u001b[0m \u001b[36mstep\u001b[0m=\u001b[35m55000\u001b[0m\n",
      "\u001b[2m2023-10-01 17:11:34\u001b[0m [\u001b[32m\u001b[1minfo     \u001b[0m] \u001b[1mModel parameters are saved to d3rlpy_logs/COMBO_20231001163040/model_55000.pt\u001b[0m\n"
     ]
    },
    {
     "data": {
      "application/vnd.jupyter.widget-view+json": {
       "model_id": "763fba84f9584994932d8583ac0b1de4",
       "version_major": 2,
       "version_minor": 0
      },
      "text/plain": [
       "Epoch 56/100:   0%|          | 0/1000 [00:00<?, ?it/s]"
      ]
     },
     "metadata": {},
     "output_type": "display_data"
    },
    {
     "name": "stdout",
     "output_type": "stream",
     "text": [
      "\u001b[2m2023-10-01 17:11:36\u001b[0m [\u001b[32m\u001b[1mdebug    \u001b[0m] \u001b[1m250000 transitions are generated.\u001b[0m \u001b[36mfake_transitions\u001b[0m=\u001b[35m1250000\u001b[0m \u001b[36mreal_transitions\u001b[0m=\u001b[35m78012\u001b[0m\n",
      "\u001b[2m2023-10-01 17:12:20\u001b[0m [\u001b[32m\u001b[1minfo     \u001b[0m] \u001b[1mCOMBO_20231001163040: epoch=56 step=56000\u001b[0m \u001b[36mepoch\u001b[0m=\u001b[35m56\u001b[0m \u001b[36mmetrics\u001b[0m=\u001b[35m{'time_sample_batch': 0.00130910325050354, 'time_algorithm_update': 0.02895627760887146, 'critic_loss': 11.618152209281922, 'actor_loss': -27.33230153846741, 'temp_loss': 0.00024339049532136415, 'temp': 0.023413974180817605, 'time_step': 0.03038721489906311, 'environment': 1000.0}\u001b[0m \u001b[36mstep\u001b[0m=\u001b[35m56000\u001b[0m\n",
      "\u001b[2m2023-10-01 17:12:20\u001b[0m [\u001b[32m\u001b[1minfo     \u001b[0m] \u001b[1mModel parameters are saved to d3rlpy_logs/COMBO_20231001163040/model_56000.pt\u001b[0m\n"
     ]
    },
    {
     "data": {
      "application/vnd.jupyter.widget-view+json": {
       "model_id": "bfc7e6091688466abac870dc5eac610d",
       "version_major": 2,
       "version_minor": 0
      },
      "text/plain": [
       "Epoch 57/100:   0%|          | 0/1000 [00:00<?, ?it/s]"
      ]
     },
     "metadata": {},
     "output_type": "display_data"
    },
    {
     "name": "stdout",
     "output_type": "stream",
     "text": [
      "\u001b[2m2023-10-01 17:12:22\u001b[0m [\u001b[32m\u001b[1mdebug    \u001b[0m] \u001b[1m250000 transitions are generated.\u001b[0m \u001b[36mfake_transitions\u001b[0m=\u001b[35m1250000\u001b[0m \u001b[36mreal_transitions\u001b[0m=\u001b[35m78012\u001b[0m\n",
      "\u001b[2m2023-10-01 17:13:05\u001b[0m [\u001b[32m\u001b[1minfo     \u001b[0m] \u001b[1mCOMBO_20231001163040: epoch=57 step=57000\u001b[0m \u001b[36mepoch\u001b[0m=\u001b[35m57\u001b[0m \u001b[36mmetrics\u001b[0m=\u001b[35m{'time_sample_batch': 0.0013254494667053222, 'time_algorithm_update': 0.02904078149795532, 'critic_loss': 11.516037114143371, 'actor_loss': -27.461596815109253, 'temp_loss': 0.000146485868099262, 'temp': 0.023316279239952564, 'time_step': 0.030488136768341063, 'environment': 1000.0}\u001b[0m \u001b[36mstep\u001b[0m=\u001b[35m57000\u001b[0m\n",
      "\u001b[2m2023-10-01 17:13:05\u001b[0m [\u001b[32m\u001b[1minfo     \u001b[0m] \u001b[1mModel parameters are saved to d3rlpy_logs/COMBO_20231001163040/model_57000.pt\u001b[0m\n"
     ]
    },
    {
     "data": {
      "application/vnd.jupyter.widget-view+json": {
       "model_id": "970fe81e2b2c4203aba63ec694e0fb15",
       "version_major": 2,
       "version_minor": 0
      },
      "text/plain": [
       "Epoch 58/100:   0%|          | 0/1000 [00:00<?, ?it/s]"
      ]
     },
     "metadata": {},
     "output_type": "display_data"
    },
    {
     "name": "stdout",
     "output_type": "stream",
     "text": [
      "\u001b[2m2023-10-01 17:13:08\u001b[0m [\u001b[32m\u001b[1mdebug    \u001b[0m] \u001b[1m250000 transitions are generated.\u001b[0m \u001b[36mfake_transitions\u001b[0m=\u001b[35m1250000\u001b[0m \u001b[36mreal_transitions\u001b[0m=\u001b[35m78012\u001b[0m\n",
      "\u001b[2m2023-10-01 17:13:52\u001b[0m [\u001b[32m\u001b[1minfo     \u001b[0m] \u001b[1mCOMBO_20231001163040: epoch=58 step=58000\u001b[0m \u001b[36mepoch\u001b[0m=\u001b[35m58\u001b[0m \u001b[36mmetrics\u001b[0m=\u001b[35m{'time_sample_batch': 0.0013283283710479735, 'time_algorithm_update': 0.02917875552177429, 'critic_loss': 11.598431992530823, 'actor_loss': -27.600929386138915, 'temp_loss': -6.835509639495286e-05, 'temp': 0.02324874628148973, 'time_step': 0.0306326858997345, 'environment': 1000.0}\u001b[0m \u001b[36mstep\u001b[0m=\u001b[35m58000\u001b[0m\n",
      "\u001b[2m2023-10-01 17:13:52\u001b[0m [\u001b[32m\u001b[1minfo     \u001b[0m] \u001b[1mModel parameters are saved to d3rlpy_logs/COMBO_20231001163040/model_58000.pt\u001b[0m\n"
     ]
    },
    {
     "data": {
      "application/vnd.jupyter.widget-view+json": {
       "model_id": "b8041c72e99b48829a7a1d3d7ea99bf0",
       "version_major": 2,
       "version_minor": 0
      },
      "text/plain": [
       "Epoch 59/100:   0%|          | 0/1000 [00:00<?, ?it/s]"
      ]
     },
     "metadata": {},
     "output_type": "display_data"
    },
    {
     "name": "stdout",
     "output_type": "stream",
     "text": [
      "\u001b[2m2023-10-01 17:13:54\u001b[0m [\u001b[32m\u001b[1mdebug    \u001b[0m] \u001b[1m250000 transitions are generated.\u001b[0m \u001b[36mfake_transitions\u001b[0m=\u001b[35m1250000\u001b[0m \u001b[36mreal_transitions\u001b[0m=\u001b[35m78012\u001b[0m\n",
      "\u001b[2m2023-10-01 17:14:38\u001b[0m [\u001b[32m\u001b[1minfo     \u001b[0m] \u001b[1mCOMBO_20231001163040: epoch=59 step=59000\u001b[0m \u001b[36mepoch\u001b[0m=\u001b[35m59\u001b[0m \u001b[36mmetrics\u001b[0m=\u001b[35m{'time_sample_batch': 0.0013019702434539796, 'time_algorithm_update': 0.028907155752182008, 'critic_loss': 11.548102305412293, 'actor_loss': -27.728793025970457, 'temp_loss': 0.0003107413365505636, 'temp': 0.023086006850004195, 'time_step': 0.030330187559127808, 'environment': 1000.0}\u001b[0m \u001b[36mstep\u001b[0m=\u001b[35m59000\u001b[0m\n",
      "\u001b[2m2023-10-01 17:14:38\u001b[0m [\u001b[32m\u001b[1minfo     \u001b[0m] \u001b[1mModel parameters are saved to d3rlpy_logs/COMBO_20231001163040/model_59000.pt\u001b[0m\n"
     ]
    },
    {
     "data": {
      "application/vnd.jupyter.widget-view+json": {
       "model_id": "6e9d2bc1fbe644a99b047d3e94707415",
       "version_major": 2,
       "version_minor": 0
      },
      "text/plain": [
       "Epoch 60/100:   0%|          | 0/1000 [00:00<?, ?it/s]"
      ]
     },
     "metadata": {},
     "output_type": "display_data"
    },
    {
     "name": "stdout",
     "output_type": "stream",
     "text": [
      "\u001b[2m2023-10-01 17:14:39\u001b[0m [\u001b[32m\u001b[1mdebug    \u001b[0m] \u001b[1m250000 transitions are generated.\u001b[0m \u001b[36mfake_transitions\u001b[0m=\u001b[35m1250000\u001b[0m \u001b[36mreal_transitions\u001b[0m=\u001b[35m78012\u001b[0m\n",
      "\u001b[2m2023-10-01 17:15:23\u001b[0m [\u001b[32m\u001b[1minfo     \u001b[0m] \u001b[1mCOMBO_20231001163040: epoch=60 step=60000\u001b[0m \u001b[36mepoch\u001b[0m=\u001b[35m60\u001b[0m \u001b[36mmetrics\u001b[0m=\u001b[35m{'time_sample_batch': 0.0013486273288726806, 'time_algorithm_update': 0.029197453498840332, 'critic_loss': 11.523018184661865, 'actor_loss': -27.827040252685546, 'temp_loss': 6.154815302579664e-05, 'temp': 0.022726330295205117, 'time_step': 0.030669642210006714, 'environment': 1000.0}\u001b[0m \u001b[36mstep\u001b[0m=\u001b[35m60000\u001b[0m\n",
      "\u001b[2m2023-10-01 17:15:23\u001b[0m [\u001b[32m\u001b[1minfo     \u001b[0m] \u001b[1mModel parameters are saved to d3rlpy_logs/COMBO_20231001163040/model_60000.pt\u001b[0m\n"
     ]
    },
    {
     "data": {
      "application/vnd.jupyter.widget-view+json": {
       "model_id": "43e45711018544a1ade16326d803b83d",
       "version_major": 2,
       "version_minor": 0
      },
      "text/plain": [
       "Epoch 61/100:   0%|          | 0/1000 [00:00<?, ?it/s]"
      ]
     },
     "metadata": {},
     "output_type": "display_data"
    },
    {
     "name": "stdout",
     "output_type": "stream",
     "text": [
      "\u001b[2m2023-10-01 17:15:26\u001b[0m [\u001b[32m\u001b[1mdebug    \u001b[0m] \u001b[1m250000 transitions are generated.\u001b[0m \u001b[36mfake_transitions\u001b[0m=\u001b[35m1250000\u001b[0m \u001b[36mreal_transitions\u001b[0m=\u001b[35m78012\u001b[0m\n",
      "\u001b[2m2023-10-01 17:16:10\u001b[0m [\u001b[32m\u001b[1minfo     \u001b[0m] \u001b[1mCOMBO_20231001163040: epoch=61 step=61000\u001b[0m \u001b[36mepoch\u001b[0m=\u001b[35m61\u001b[0m \u001b[36mmetrics\u001b[0m=\u001b[35m{'time_sample_batch': 0.0013078622817993164, 'time_algorithm_update': 0.028600977182388305, 'critic_loss': 11.52091501045227, 'actor_loss': -27.950827058792115, 'temp_loss': -0.00011299245533155045, 'temp': 0.02279011020064354, 'time_step': 0.030030423164367676, 'environment': 1000.0}\u001b[0m \u001b[36mstep\u001b[0m=\u001b[35m61000\u001b[0m\n",
      "\u001b[2m2023-10-01 17:16:10\u001b[0m [\u001b[32m\u001b[1minfo     \u001b[0m] \u001b[1mModel parameters are saved to d3rlpy_logs/COMBO_20231001163040/model_61000.pt\u001b[0m\n"
     ]
    },
    {
     "data": {
      "application/vnd.jupyter.widget-view+json": {
       "model_id": "815c4fc1371d47988069cc83b953a536",
       "version_major": 2,
       "version_minor": 0
      },
      "text/plain": [
       "Epoch 62/100:   0%|          | 0/1000 [00:00<?, ?it/s]"
      ]
     },
     "metadata": {},
     "output_type": "display_data"
    },
    {
     "name": "stdout",
     "output_type": "stream",
     "text": [
      "\u001b[2m2023-10-01 17:16:12\u001b[0m [\u001b[32m\u001b[1mdebug    \u001b[0m] \u001b[1m250000 transitions are generated.\u001b[0m \u001b[36mfake_transitions\u001b[0m=\u001b[35m1250000\u001b[0m \u001b[36mreal_transitions\u001b[0m=\u001b[35m78012\u001b[0m\n",
      "\u001b[2m2023-10-01 17:16:55\u001b[0m [\u001b[32m\u001b[1minfo     \u001b[0m] \u001b[1mCOMBO_20231001163040: epoch=62 step=62000\u001b[0m \u001b[36mepoch\u001b[0m=\u001b[35m62\u001b[0m \u001b[36mmetrics\u001b[0m=\u001b[35m{'time_sample_batch': 0.0013118512630462646, 'time_algorithm_update': 0.0289910626411438, 'critic_loss': 11.468515693664552, 'actor_loss': -28.09020807647705, 'temp_loss': -0.00034094297078991076, 'temp': 0.022976778347045184, 'time_step': 0.0304220814704895, 'environment': 1000.0}\u001b[0m \u001b[36mstep\u001b[0m=\u001b[35m62000\u001b[0m\n",
      "\u001b[2m2023-10-01 17:16:55\u001b[0m [\u001b[32m\u001b[1minfo     \u001b[0m] \u001b[1mModel parameters are saved to d3rlpy_logs/COMBO_20231001163040/model_62000.pt\u001b[0m\n"
     ]
    },
    {
     "data": {
      "application/vnd.jupyter.widget-view+json": {
       "model_id": "3c6562db89e2468e9878c83f42c5d6d1",
       "version_major": 2,
       "version_minor": 0
      },
      "text/plain": [
       "Epoch 63/100:   0%|          | 0/1000 [00:00<?, ?it/s]"
      ]
     },
     "metadata": {},
     "output_type": "display_data"
    },
    {
     "name": "stdout",
     "output_type": "stream",
     "text": [
      "\u001b[2m2023-10-01 17:16:58\u001b[0m [\u001b[32m\u001b[1mdebug    \u001b[0m] \u001b[1m250000 transitions are generated.\u001b[0m \u001b[36mfake_transitions\u001b[0m=\u001b[35m1250000\u001b[0m \u001b[36mreal_transitions\u001b[0m=\u001b[35m78012\u001b[0m\n",
      "\u001b[2m2023-10-01 17:17:42\u001b[0m [\u001b[32m\u001b[1minfo     \u001b[0m] \u001b[1mCOMBO_20231001163040: epoch=63 step=63000\u001b[0m \u001b[36mepoch\u001b[0m=\u001b[35m63\u001b[0m \u001b[36mmetrics\u001b[0m=\u001b[35m{'time_sample_batch': 0.0013235018253326416, 'time_algorithm_update': 0.02902979803085327, 'critic_loss': 11.479088950157166, 'actor_loss': -28.22002530670166, 'temp_loss': -0.0004670552133611636, 'temp': 0.023831548685207964, 'time_step': 0.030471760511398317, 'environment': 1000.0}\u001b[0m \u001b[36mstep\u001b[0m=\u001b[35m63000\u001b[0m\n",
      "\u001b[2m2023-10-01 17:17:42\u001b[0m [\u001b[32m\u001b[1minfo     \u001b[0m] \u001b[1mModel parameters are saved to d3rlpy_logs/COMBO_20231001163040/model_63000.pt\u001b[0m\n"
     ]
    },
    {
     "data": {
      "application/vnd.jupyter.widget-view+json": {
       "model_id": "031154b8b06c42bfacaeec03b293ca91",
       "version_major": 2,
       "version_minor": 0
      },
      "text/plain": [
       "Epoch 64/100:   0%|          | 0/1000 [00:00<?, ?it/s]"
      ]
     },
     "metadata": {},
     "output_type": "display_data"
    },
    {
     "name": "stdout",
     "output_type": "stream",
     "text": [
      "\u001b[2m2023-10-01 17:17:45\u001b[0m [\u001b[32m\u001b[1mdebug    \u001b[0m] \u001b[1m250000 transitions are generated.\u001b[0m \u001b[36mfake_transitions\u001b[0m=\u001b[35m1250000\u001b[0m \u001b[36mreal_transitions\u001b[0m=\u001b[35m78012\u001b[0m\n",
      "\u001b[2m2023-10-01 17:18:29\u001b[0m [\u001b[32m\u001b[1minfo     \u001b[0m] \u001b[1mCOMBO_20231001163040: epoch=64 step=64000\u001b[0m \u001b[36mepoch\u001b[0m=\u001b[35m64\u001b[0m \u001b[36mmetrics\u001b[0m=\u001b[35m{'time_sample_batch': 0.0013070311546325684, 'time_algorithm_update': 0.028693520069122316, 'critic_loss': 11.471344524383545, 'actor_loss': -28.32613203239441, 'temp_loss': 0.0001404855341243092, 'temp': 0.023866493627429007, 'time_step': 0.0301176176071167, 'environment': 1000.0}\u001b[0m \u001b[36mstep\u001b[0m=\u001b[35m64000\u001b[0m\n",
      "\u001b[2m2023-10-01 17:18:29\u001b[0m [\u001b[32m\u001b[1minfo     \u001b[0m] \u001b[1mModel parameters are saved to d3rlpy_logs/COMBO_20231001163040/model_64000.pt\u001b[0m\n"
     ]
    },
    {
     "data": {
      "application/vnd.jupyter.widget-view+json": {
       "model_id": "abbd18c6cbf142bd9baf79c912da90e5",
       "version_major": 2,
       "version_minor": 0
      },
      "text/plain": [
       "Epoch 65/100:   0%|          | 0/1000 [00:00<?, ?it/s]"
      ]
     },
     "metadata": {},
     "output_type": "display_data"
    },
    {
     "name": "stdout",
     "output_type": "stream",
     "text": [
      "\u001b[2m2023-10-01 17:18:30\u001b[0m [\u001b[32m\u001b[1mdebug    \u001b[0m] \u001b[1m250000 transitions are generated.\u001b[0m \u001b[36mfake_transitions\u001b[0m=\u001b[35m1250000\u001b[0m \u001b[36mreal_transitions\u001b[0m=\u001b[35m78012\u001b[0m\n",
      "\u001b[2m2023-10-01 17:19:14\u001b[0m [\u001b[32m\u001b[1minfo     \u001b[0m] \u001b[1mCOMBO_20231001163040: epoch=65 step=65000\u001b[0m \u001b[36mepoch\u001b[0m=\u001b[35m65\u001b[0m \u001b[36mmetrics\u001b[0m=\u001b[35m{'time_sample_batch': 0.0013149304389953613, 'time_algorithm_update': 0.028625224590301514, 'critic_loss': 11.431171337604523, 'actor_loss': -28.47514186668396, 'temp_loss': -0.00027646382176317277, 'temp': 0.02397102390602231, 'time_step': 0.030055301666259766, 'environment': 1000.0}\u001b[0m \u001b[36mstep\u001b[0m=\u001b[35m65000\u001b[0m\n",
      "\u001b[2m2023-10-01 17:19:14\u001b[0m [\u001b[32m\u001b[1minfo     \u001b[0m] \u001b[1mModel parameters are saved to d3rlpy_logs/COMBO_20231001163040/model_65000.pt\u001b[0m\n"
     ]
    },
    {
     "data": {
      "application/vnd.jupyter.widget-view+json": {
       "model_id": "ce6910a0f94b41daa4e1b8dacfb12c34",
       "version_major": 2,
       "version_minor": 0
      },
      "text/plain": [
       "Epoch 66/100:   0%|          | 0/1000 [00:00<?, ?it/s]"
      ]
     },
     "metadata": {},
     "output_type": "display_data"
    },
    {
     "name": "stdout",
     "output_type": "stream",
     "text": [
      "\u001b[2m2023-10-01 17:19:15\u001b[0m [\u001b[32m\u001b[1mdebug    \u001b[0m] \u001b[1m250000 transitions are generated.\u001b[0m \u001b[36mfake_transitions\u001b[0m=\u001b[35m1250000\u001b[0m \u001b[36mreal_transitions\u001b[0m=\u001b[35m78012\u001b[0m\n",
      "\u001b[2m2023-10-01 17:19:59\u001b[0m [\u001b[32m\u001b[1minfo     \u001b[0m] \u001b[1mCOMBO_20231001163040: epoch=66 step=66000\u001b[0m \u001b[36mepoch\u001b[0m=\u001b[35m66\u001b[0m \u001b[36mmetrics\u001b[0m=\u001b[35m{'time_sample_batch': 0.0013517346382141114, 'time_algorithm_update': 0.029496185779571533, 'critic_loss': 11.414050713539124, 'actor_loss': -28.599813793182374, 'temp_loss': 6.233840121421963e-05, 'temp': 0.024198558922857046, 'time_step': 0.030971457481384277, 'environment': 1000.0}\u001b[0m \u001b[36mstep\u001b[0m=\u001b[35m66000\u001b[0m\n",
      "\u001b[2m2023-10-01 17:19:59\u001b[0m [\u001b[32m\u001b[1minfo     \u001b[0m] \u001b[1mModel parameters are saved to d3rlpy_logs/COMBO_20231001163040/model_66000.pt\u001b[0m\n"
     ]
    },
    {
     "data": {
      "application/vnd.jupyter.widget-view+json": {
       "model_id": "0d513b6595d3414e95516d38f94ae132",
       "version_major": 2,
       "version_minor": 0
      },
      "text/plain": [
       "Epoch 67/100:   0%|          | 0/1000 [00:00<?, ?it/s]"
      ]
     },
     "metadata": {},
     "output_type": "display_data"
    },
    {
     "name": "stdout",
     "output_type": "stream",
     "text": [
      "\u001b[2m2023-10-01 17:20:02\u001b[0m [\u001b[32m\u001b[1mdebug    \u001b[0m] \u001b[1m250000 transitions are generated.\u001b[0m \u001b[36mfake_transitions\u001b[0m=\u001b[35m1250000\u001b[0m \u001b[36mreal_transitions\u001b[0m=\u001b[35m78012\u001b[0m\n",
      "\u001b[2m2023-10-01 17:20:46\u001b[0m [\u001b[32m\u001b[1minfo     \u001b[0m] \u001b[1mCOMBO_20231001163040: epoch=67 step=67000\u001b[0m \u001b[36mepoch\u001b[0m=\u001b[35m67\u001b[0m \u001b[36mmetrics\u001b[0m=\u001b[35m{'time_sample_batch': 0.0013109264373779297, 'time_algorithm_update': 0.029053021430969238, 'critic_loss': 11.42018852519989, 'actor_loss': -28.757533262252807, 'temp_loss': 0.00018252897873026087, 'temp': 0.02393289177119732, 'time_step': 0.03048545241355896, 'environment': 1000.0}\u001b[0m \u001b[36mstep\u001b[0m=\u001b[35m67000\u001b[0m\n",
      "\u001b[2m2023-10-01 17:20:46\u001b[0m [\u001b[32m\u001b[1minfo     \u001b[0m] \u001b[1mModel parameters are saved to d3rlpy_logs/COMBO_20231001163040/model_67000.pt\u001b[0m\n"
     ]
    },
    {
     "data": {
      "application/vnd.jupyter.widget-view+json": {
       "model_id": "bf699d270a3045b083752856ca678a6f",
       "version_major": 2,
       "version_minor": 0
      },
      "text/plain": [
       "Epoch 68/100:   0%|          | 0/1000 [00:00<?, ?it/s]"
      ]
     },
     "metadata": {},
     "output_type": "display_data"
    },
    {
     "name": "stdout",
     "output_type": "stream",
     "text": [
      "\u001b[2m2023-10-01 17:20:48\u001b[0m [\u001b[32m\u001b[1mdebug    \u001b[0m] \u001b[1m250000 transitions are generated.\u001b[0m \u001b[36mfake_transitions\u001b[0m=\u001b[35m1250000\u001b[0m \u001b[36mreal_transitions\u001b[0m=\u001b[35m78012\u001b[0m\n",
      "\u001b[2m2023-10-01 17:21:33\u001b[0m [\u001b[32m\u001b[1minfo     \u001b[0m] \u001b[1mCOMBO_20231001163040: epoch=68 step=68000\u001b[0m \u001b[36mepoch\u001b[0m=\u001b[35m68\u001b[0m \u001b[36mmetrics\u001b[0m=\u001b[35m{'time_sample_batch': 0.0013310978412628175, 'time_algorithm_update': 0.028887168407440187, 'critic_loss': 11.409528813362122, 'actor_loss': -28.861771821975708, 'temp_loss': 2.361289196414873e-05, 'temp': 0.023840552089735866, 'time_step': 0.03034254837036133, 'environment': 1000.0}\u001b[0m \u001b[36mstep\u001b[0m=\u001b[35m68000\u001b[0m\n",
      "\u001b[2m2023-10-01 17:21:33\u001b[0m [\u001b[32m\u001b[1minfo     \u001b[0m] \u001b[1mModel parameters are saved to d3rlpy_logs/COMBO_20231001163040/model_68000.pt\u001b[0m\n"
     ]
    },
    {
     "data": {
      "application/vnd.jupyter.widget-view+json": {
       "model_id": "434e31f5479f404386d460e3b1c7feed",
       "version_major": 2,
       "version_minor": 0
      },
      "text/plain": [
       "Epoch 69/100:   0%|          | 0/1000 [00:00<?, ?it/s]"
      ]
     },
     "metadata": {},
     "output_type": "display_data"
    },
    {
     "name": "stdout",
     "output_type": "stream",
     "text": [
      "\u001b[2m2023-10-01 17:21:34\u001b[0m [\u001b[32m\u001b[1mdebug    \u001b[0m] \u001b[1m250000 transitions are generated.\u001b[0m \u001b[36mfake_transitions\u001b[0m=\u001b[35m1250000\u001b[0m \u001b[36mreal_transitions\u001b[0m=\u001b[35m78012\u001b[0m\n",
      "\u001b[2m2023-10-01 17:22:18\u001b[0m [\u001b[32m\u001b[1minfo     \u001b[0m] \u001b[1mCOMBO_20231001163040: epoch=69 step=69000\u001b[0m \u001b[36mepoch\u001b[0m=\u001b[35m69\u001b[0m \u001b[36mmetrics\u001b[0m=\u001b[35m{'time_sample_batch': 0.0013220787048339843, 'time_algorithm_update': 0.029086366176605226, 'critic_loss': 11.32676621723175, 'actor_loss': -29.032263807296754, 'temp_loss': -0.0001900471172411926, 'temp': 0.024072986828163265, 'time_step': 0.030527695894241334, 'environment': 1000.0}\u001b[0m \u001b[36mstep\u001b[0m=\u001b[35m69000\u001b[0m\n",
      "\u001b[2m2023-10-01 17:22:18\u001b[0m [\u001b[32m\u001b[1minfo     \u001b[0m] \u001b[1mModel parameters are saved to d3rlpy_logs/COMBO_20231001163040/model_69000.pt\u001b[0m\n"
     ]
    },
    {
     "data": {
      "application/vnd.jupyter.widget-view+json": {
       "model_id": "e03b1ce291324fc0afb10ed604ac19f7",
       "version_major": 2,
       "version_minor": 0
      },
      "text/plain": [
       "Epoch 70/100:   0%|          | 0/1000 [00:00<?, ?it/s]"
      ]
     },
     "metadata": {},
     "output_type": "display_data"
    },
    {
     "name": "stdout",
     "output_type": "stream",
     "text": [
      "\u001b[2m2023-10-01 17:22:21\u001b[0m [\u001b[32m\u001b[1mdebug    \u001b[0m] \u001b[1m250000 transitions are generated.\u001b[0m \u001b[36mfake_transitions\u001b[0m=\u001b[35m1250000\u001b[0m \u001b[36mreal_transitions\u001b[0m=\u001b[35m78012\u001b[0m\n",
      "\u001b[2m2023-10-01 17:23:03\u001b[0m [\u001b[32m\u001b[1minfo     \u001b[0m] \u001b[1mCOMBO_20231001163040: epoch=70 step=70000\u001b[0m \u001b[36mepoch\u001b[0m=\u001b[35m70\u001b[0m \u001b[36mmetrics\u001b[0m=\u001b[35m{'time_sample_batch': 0.0013459441661834717, 'time_algorithm_update': 0.0289703688621521, 'critic_loss': 11.415818501472474, 'actor_loss': -29.16289535331726, 'temp_loss': -1.545909349806607e-05, 'temp': 0.024136701317504047, 'time_step': 0.030444900512695314, 'environment': 843.2}\u001b[0m \u001b[36mstep\u001b[0m=\u001b[35m70000\u001b[0m\n",
      "\u001b[2m2023-10-01 17:23:03\u001b[0m [\u001b[32m\u001b[1minfo     \u001b[0m] \u001b[1mModel parameters are saved to d3rlpy_logs/COMBO_20231001163040/model_70000.pt\u001b[0m\n"
     ]
    },
    {
     "data": {
      "application/vnd.jupyter.widget-view+json": {
       "model_id": "6bc509c356e6459b845fd419664a59e8",
       "version_major": 2,
       "version_minor": 0
      },
      "text/plain": [
       "Epoch 71/100:   0%|          | 0/1000 [00:00<?, ?it/s]"
      ]
     },
     "metadata": {},
     "output_type": "display_data"
    },
    {
     "name": "stdout",
     "output_type": "stream",
     "text": [
      "\u001b[2m2023-10-01 17:23:04\u001b[0m [\u001b[32m\u001b[1mdebug    \u001b[0m] \u001b[1m250000 transitions are generated.\u001b[0m \u001b[36mfake_transitions\u001b[0m=\u001b[35m1250000\u001b[0m \u001b[36mreal_transitions\u001b[0m=\u001b[35m78012\u001b[0m\n",
      "\u001b[2m2023-10-01 17:23:48\u001b[0m [\u001b[32m\u001b[1minfo     \u001b[0m] \u001b[1mCOMBO_20231001163040: epoch=71 step=71000\u001b[0m \u001b[36mepoch\u001b[0m=\u001b[35m71\u001b[0m \u001b[36mmetrics\u001b[0m=\u001b[35m{'time_sample_batch': 0.001342599391937256, 'time_algorithm_update': 0.029022494792938232, 'critic_loss': 11.455458961486816, 'actor_loss': -29.304133234024047, 'temp_loss': -4.561013224156341e-05, 'temp': 0.02421496366709471, 'time_step': 0.03048480463027954, 'environment': 1000.0}\u001b[0m \u001b[36mstep\u001b[0m=\u001b[35m71000\u001b[0m\n",
      "\u001b[2m2023-10-01 17:23:48\u001b[0m [\u001b[32m\u001b[1minfo     \u001b[0m] \u001b[1mModel parameters are saved to d3rlpy_logs/COMBO_20231001163040/model_71000.pt\u001b[0m\n"
     ]
    },
    {
     "data": {
      "application/vnd.jupyter.widget-view+json": {
       "model_id": "bd785e53d854488a89554951dfb1fab5",
       "version_major": 2,
       "version_minor": 0
      },
      "text/plain": [
       "Epoch 72/100:   0%|          | 0/1000 [00:00<?, ?it/s]"
      ]
     },
     "metadata": {},
     "output_type": "display_data"
    },
    {
     "name": "stdout",
     "output_type": "stream",
     "text": [
      "\u001b[2m2023-10-01 17:23:50\u001b[0m [\u001b[32m\u001b[1mdebug    \u001b[0m] \u001b[1m250000 transitions are generated.\u001b[0m \u001b[36mfake_transitions\u001b[0m=\u001b[35m1250000\u001b[0m \u001b[36mreal_transitions\u001b[0m=\u001b[35m78012\u001b[0m\n",
      "\u001b[2m2023-10-01 17:24:34\u001b[0m [\u001b[32m\u001b[1minfo     \u001b[0m] \u001b[1mCOMBO_20231001163040: epoch=72 step=72000\u001b[0m \u001b[36mepoch\u001b[0m=\u001b[35m72\u001b[0m \u001b[36mmetrics\u001b[0m=\u001b[35m{'time_sample_batch': 0.0013253574371337891, 'time_algorithm_update': 0.02899630832672119, 'critic_loss': 11.384080378055572, 'actor_loss': -29.42828153038025, 'temp_loss': 7.087979635980446e-05, 'temp': 0.024130912305787205, 'time_step': 0.030439755916595458, 'environment': 1000.0}\u001b[0m \u001b[36mstep\u001b[0m=\u001b[35m72000\u001b[0m\n",
      "\u001b[2m2023-10-01 17:24:34\u001b[0m [\u001b[32m\u001b[1minfo     \u001b[0m] \u001b[1mModel parameters are saved to d3rlpy_logs/COMBO_20231001163040/model_72000.pt\u001b[0m\n"
     ]
    },
    {
     "data": {
      "application/vnd.jupyter.widget-view+json": {
       "model_id": "323f99027de54b8f886afc7bf2628b29",
       "version_major": 2,
       "version_minor": 0
      },
      "text/plain": [
       "Epoch 73/100:   0%|          | 0/1000 [00:00<?, ?it/s]"
      ]
     },
     "metadata": {},
     "output_type": "display_data"
    },
    {
     "name": "stdout",
     "output_type": "stream",
     "text": [
      "\u001b[2m2023-10-01 17:24:37\u001b[0m [\u001b[32m\u001b[1mdebug    \u001b[0m] \u001b[1m250000 transitions are generated.\u001b[0m \u001b[36mfake_transitions\u001b[0m=\u001b[35m1250000\u001b[0m \u001b[36mreal_transitions\u001b[0m=\u001b[35m78012\u001b[0m\n",
      "\u001b[2m2023-10-01 17:25:20\u001b[0m [\u001b[32m\u001b[1minfo     \u001b[0m] \u001b[1mCOMBO_20231001163040: epoch=73 step=73000\u001b[0m \u001b[36mepoch\u001b[0m=\u001b[35m73\u001b[0m \u001b[36mmetrics\u001b[0m=\u001b[35m{'time_sample_batch': 0.0013134560585021972, 'time_algorithm_update': 0.028971977949142455, 'critic_loss': 11.449109577655792, 'actor_loss': -29.558220611572267, 'temp_loss': -0.00019006387177796568, 'temp': 0.02394737599045038, 'time_step': 0.030407978773117066, 'environment': 1000.0}\u001b[0m \u001b[36mstep\u001b[0m=\u001b[35m73000\u001b[0m\n",
      "\u001b[2m2023-10-01 17:25:20\u001b[0m [\u001b[32m\u001b[1minfo     \u001b[0m] \u001b[1mModel parameters are saved to d3rlpy_logs/COMBO_20231001163040/model_73000.pt\u001b[0m\n"
     ]
    },
    {
     "data": {
      "application/vnd.jupyter.widget-view+json": {
       "model_id": "a4d676a5418d4a61a73a1bd57ee84f77",
       "version_major": 2,
       "version_minor": 0
      },
      "text/plain": [
       "Epoch 74/100:   0%|          | 0/1000 [00:00<?, ?it/s]"
      ]
     },
     "metadata": {},
     "output_type": "display_data"
    },
    {
     "name": "stdout",
     "output_type": "stream",
     "text": [
      "\u001b[2m2023-10-01 17:25:22\u001b[0m [\u001b[32m\u001b[1mdebug    \u001b[0m] \u001b[1m250000 transitions are generated.\u001b[0m \u001b[36mfake_transitions\u001b[0m=\u001b[35m1250000\u001b[0m \u001b[36mreal_transitions\u001b[0m=\u001b[35m78012\u001b[0m\n",
      "\u001b[2m2023-10-01 17:26:06\u001b[0m [\u001b[32m\u001b[1minfo     \u001b[0m] \u001b[1mCOMBO_20231001163040: epoch=74 step=74000\u001b[0m \u001b[36mepoch\u001b[0m=\u001b[35m74\u001b[0m \u001b[36mmetrics\u001b[0m=\u001b[35m{'time_sample_batch': 0.0013373539447784424, 'time_algorithm_update': 0.029038960695266725, 'critic_loss': 11.595099974155426, 'actor_loss': -29.65836895942688, 'temp_loss': -1.3037825272476766e-05, 'temp': 0.024318929059430956, 'time_step': 0.030497502565383913, 'environment': 1000.0}\u001b[0m \u001b[36mstep\u001b[0m=\u001b[35m74000\u001b[0m\n",
      "\u001b[2m2023-10-01 17:26:06\u001b[0m [\u001b[32m\u001b[1minfo     \u001b[0m] \u001b[1mModel parameters are saved to d3rlpy_logs/COMBO_20231001163040/model_74000.pt\u001b[0m\n"
     ]
    },
    {
     "data": {
      "application/vnd.jupyter.widget-view+json": {
       "model_id": "3a28f69430e14ab7afc110aff417e21a",
       "version_major": 2,
       "version_minor": 0
      },
      "text/plain": [
       "Epoch 75/100:   0%|          | 0/1000 [00:00<?, ?it/s]"
      ]
     },
     "metadata": {},
     "output_type": "display_data"
    },
    {
     "name": "stdout",
     "output_type": "stream",
     "text": [
      "\u001b[2m2023-10-01 17:26:09\u001b[0m [\u001b[32m\u001b[1mdebug    \u001b[0m] \u001b[1m250000 transitions are generated.\u001b[0m \u001b[36mfake_transitions\u001b[0m=\u001b[35m1250000\u001b[0m \u001b[36mreal_transitions\u001b[0m=\u001b[35m78012\u001b[0m\n",
      "\u001b[2m2023-10-01 17:26:52\u001b[0m [\u001b[32m\u001b[1minfo     \u001b[0m] \u001b[1mCOMBO_20231001163040: epoch=75 step=75000\u001b[0m \u001b[36mepoch\u001b[0m=\u001b[35m75\u001b[0m \u001b[36mmetrics\u001b[0m=\u001b[35m{'time_sample_batch': 0.0013351869583129884, 'time_algorithm_update': 0.028891746044158936, 'critic_loss': 11.590305266857147, 'actor_loss': -29.791629682540893, 'temp_loss': 5.536111006949796e-05, 'temp': 0.02434766431339085, 'time_step': 0.030349915266036986, 'environment': 1000.0}\u001b[0m \u001b[36mstep\u001b[0m=\u001b[35m75000\u001b[0m\n",
      "\u001b[2m2023-10-01 17:26:52\u001b[0m [\u001b[32m\u001b[1minfo     \u001b[0m] \u001b[1mModel parameters are saved to d3rlpy_logs/COMBO_20231001163040/model_75000.pt\u001b[0m\n"
     ]
    },
    {
     "data": {
      "application/vnd.jupyter.widget-view+json": {
       "model_id": "3b937a24c60a4a83805ce066e2a78ebf",
       "version_major": 2,
       "version_minor": 0
      },
      "text/plain": [
       "Epoch 76/100:   0%|          | 0/1000 [00:00<?, ?it/s]"
      ]
     },
     "metadata": {},
     "output_type": "display_data"
    },
    {
     "name": "stdout",
     "output_type": "stream",
     "text": [
      "\u001b[2m2023-10-01 17:26:55\u001b[0m [\u001b[32m\u001b[1mdebug    \u001b[0m] \u001b[1m250000 transitions are generated.\u001b[0m \u001b[36mfake_transitions\u001b[0m=\u001b[35m1250000\u001b[0m \u001b[36mreal_transitions\u001b[0m=\u001b[35m78012\u001b[0m\n",
      "\u001b[2m2023-10-01 17:27:38\u001b[0m [\u001b[32m\u001b[1minfo     \u001b[0m] \u001b[1mCOMBO_20231001163040: epoch=76 step=76000\u001b[0m \u001b[36mepoch\u001b[0m=\u001b[35m76\u001b[0m \u001b[36mmetrics\u001b[0m=\u001b[35m{'time_sample_batch': 0.0012919421195983886, 'time_algorithm_update': 0.02853786897659302, 'critic_loss': 11.574824549198151, 'actor_loss': -29.890268991470336, 'temp_loss': 3.3502001737360844e-05, 'temp': 0.024165087031200527, 'time_step': 0.029950140953063965, 'environment': 1000.0}\u001b[0m \u001b[36mstep\u001b[0m=\u001b[35m76000\u001b[0m\n",
      "\u001b[2m2023-10-01 17:27:38\u001b[0m [\u001b[32m\u001b[1minfo     \u001b[0m] \u001b[1mModel parameters are saved to d3rlpy_logs/COMBO_20231001163040/model_76000.pt\u001b[0m\n"
     ]
    },
    {
     "data": {
      "application/vnd.jupyter.widget-view+json": {
       "model_id": "23e153c59ae94a38985b7cf32366c3af",
       "version_major": 2,
       "version_minor": 0
      },
      "text/plain": [
       "Epoch 77/100:   0%|          | 0/1000 [00:00<?, ?it/s]"
      ]
     },
     "metadata": {},
     "output_type": "display_data"
    },
    {
     "name": "stdout",
     "output_type": "stream",
     "text": [
      "\u001b[2m2023-10-01 17:27:40\u001b[0m [\u001b[32m\u001b[1mdebug    \u001b[0m] \u001b[1m250000 transitions are generated.\u001b[0m \u001b[36mfake_transitions\u001b[0m=\u001b[35m1250000\u001b[0m \u001b[36mreal_transitions\u001b[0m=\u001b[35m78012\u001b[0m\n",
      "\u001b[2m2023-10-01 17:28:24\u001b[0m [\u001b[32m\u001b[1minfo     \u001b[0m] \u001b[1mCOMBO_20231001163040: epoch=77 step=77000\u001b[0m \u001b[36mepoch\u001b[0m=\u001b[35m77\u001b[0m \u001b[36mmetrics\u001b[0m=\u001b[35m{'time_sample_batch': 0.001321277379989624, 'time_algorithm_update': 0.02910688638687134, 'critic_loss': 11.707081589698792, 'actor_loss': -30.00660200881958, 'temp_loss': -0.0003295275292766746, 'temp': 0.024461009811609983, 'time_step': 0.03055733346939087, 'environment': 1000.0}\u001b[0m \u001b[36mstep\u001b[0m=\u001b[35m77000\u001b[0m\n",
      "\u001b[2m2023-10-01 17:28:24\u001b[0m [\u001b[32m\u001b[1minfo     \u001b[0m] \u001b[1mModel parameters are saved to d3rlpy_logs/COMBO_20231001163040/model_77000.pt\u001b[0m\n"
     ]
    },
    {
     "data": {
      "application/vnd.jupyter.widget-view+json": {
       "model_id": "3646cdb0957641fc92b99f9106f3a1de",
       "version_major": 2,
       "version_minor": 0
      },
      "text/plain": [
       "Epoch 78/100:   0%|          | 0/1000 [00:00<?, ?it/s]"
      ]
     },
     "metadata": {},
     "output_type": "display_data"
    },
    {
     "name": "stdout",
     "output_type": "stream",
     "text": [
      "\u001b[2m2023-10-01 17:28:25\u001b[0m [\u001b[32m\u001b[1mdebug    \u001b[0m] \u001b[1m250000 transitions are generated.\u001b[0m \u001b[36mfake_transitions\u001b[0m=\u001b[35m1250000\u001b[0m \u001b[36mreal_transitions\u001b[0m=\u001b[35m78012\u001b[0m\n",
      "\u001b[2m2023-10-01 17:29:10\u001b[0m [\u001b[32m\u001b[1minfo     \u001b[0m] \u001b[1mCOMBO_20231001163040: epoch=78 step=78000\u001b[0m \u001b[36mepoch\u001b[0m=\u001b[35m78\u001b[0m \u001b[36mmetrics\u001b[0m=\u001b[35m{'time_sample_batch': 0.0013227455615997315, 'time_algorithm_update': 0.029203693628311156, 'critic_loss': 11.66774048948288, 'actor_loss': -30.148250595092772, 'temp_loss': -6.177803445461905e-05, 'temp': 0.02465869801864028, 'time_step': 0.03064865255355835, 'environment': 1000.0}\u001b[0m \u001b[36mstep\u001b[0m=\u001b[35m78000\u001b[0m\n",
      "\u001b[2m2023-10-01 17:29:10\u001b[0m [\u001b[32m\u001b[1minfo     \u001b[0m] \u001b[1mModel parameters are saved to d3rlpy_logs/COMBO_20231001163040/model_78000.pt\u001b[0m\n"
     ]
    },
    {
     "data": {
      "application/vnd.jupyter.widget-view+json": {
       "model_id": "b739fd167cdf43bda8ff3dba9a937e68",
       "version_major": 2,
       "version_minor": 0
      },
      "text/plain": [
       "Epoch 79/100:   0%|          | 0/1000 [00:00<?, ?it/s]"
      ]
     },
     "metadata": {},
     "output_type": "display_data"
    },
    {
     "name": "stdout",
     "output_type": "stream",
     "text": [
      "\u001b[2m2023-10-01 17:29:13\u001b[0m [\u001b[32m\u001b[1mdebug    \u001b[0m] \u001b[1m250000 transitions are generated.\u001b[0m \u001b[36mfake_transitions\u001b[0m=\u001b[35m1250000\u001b[0m \u001b[36mreal_transitions\u001b[0m=\u001b[35m78012\u001b[0m\n",
      "\u001b[2m2023-10-01 17:29:57\u001b[0m [\u001b[32m\u001b[1minfo     \u001b[0m] \u001b[1mCOMBO_20231001163040: epoch=79 step=79000\u001b[0m \u001b[36mepoch\u001b[0m=\u001b[35m79\u001b[0m \u001b[36mmetrics\u001b[0m=\u001b[35m{'time_sample_batch': 0.0013156158924102783, 'time_algorithm_update': 0.02934232831001282, 'critic_loss': 11.618344749927521, 'actor_loss': -30.283020124435424, 'temp_loss': -0.0002437065061312751, 'temp': 0.024919252522289752, 'time_step': 0.030776994943618775, 'environment': 1000.0}\u001b[0m \u001b[36mstep\u001b[0m=\u001b[35m79000\u001b[0m\n",
      "\u001b[2m2023-10-01 17:29:57\u001b[0m [\u001b[32m\u001b[1minfo     \u001b[0m] \u001b[1mModel parameters are saved to d3rlpy_logs/COMBO_20231001163040/model_79000.pt\u001b[0m\n"
     ]
    },
    {
     "data": {
      "application/vnd.jupyter.widget-view+json": {
       "model_id": "2cbd6c6b26984cb288607d348af01ba0",
       "version_major": 2,
       "version_minor": 0
      },
      "text/plain": [
       "Epoch 80/100:   0%|          | 0/1000 [00:00<?, ?it/s]"
      ]
     },
     "metadata": {},
     "output_type": "display_data"
    },
    {
     "name": "stdout",
     "output_type": "stream",
     "text": [
      "\u001b[2m2023-10-01 17:29:59\u001b[0m [\u001b[32m\u001b[1mdebug    \u001b[0m] \u001b[1m250000 transitions are generated.\u001b[0m \u001b[36mfake_transitions\u001b[0m=\u001b[35m1250000\u001b[0m \u001b[36mreal_transitions\u001b[0m=\u001b[35m78012\u001b[0m\n",
      "\u001b[2m2023-10-01 17:30:43\u001b[0m [\u001b[32m\u001b[1minfo     \u001b[0m] \u001b[1mCOMBO_20231001163040: epoch=80 step=80000\u001b[0m \u001b[36mepoch\u001b[0m=\u001b[35m80\u001b[0m \u001b[36mmetrics\u001b[0m=\u001b[35m{'time_sample_batch': 0.0013136796951293945, 'time_algorithm_update': 0.029021081447601318, 'critic_loss': 11.965358726024627, 'actor_loss': -30.437624547958375, 'temp_loss': 1.8264526916027534e-05, 'temp': 0.02507776993699372, 'time_step': 0.0304559690952301, 'environment': 1000.0}\u001b[0m \u001b[36mstep\u001b[0m=\u001b[35m80000\u001b[0m\n",
      "\u001b[2m2023-10-01 17:30:43\u001b[0m [\u001b[32m\u001b[1minfo     \u001b[0m] \u001b[1mModel parameters are saved to d3rlpy_logs/COMBO_20231001163040/model_80000.pt\u001b[0m\n"
     ]
    },
    {
     "data": {
      "application/vnd.jupyter.widget-view+json": {
       "model_id": "6cbb808b438348a790ec4b764978c4c2",
       "version_major": 2,
       "version_minor": 0
      },
      "text/plain": [
       "Epoch 81/100:   0%|          | 0/1000 [00:00<?, ?it/s]"
      ]
     },
     "metadata": {},
     "output_type": "display_data"
    },
    {
     "name": "stdout",
     "output_type": "stream",
     "text": [
      "\u001b[2m2023-10-01 17:30:45\u001b[0m [\u001b[32m\u001b[1mdebug    \u001b[0m] \u001b[1m250000 transitions are generated.\u001b[0m \u001b[36mfake_transitions\u001b[0m=\u001b[35m1250000\u001b[0m \u001b[36mreal_transitions\u001b[0m=\u001b[35m78012\u001b[0m\n",
      "\u001b[2m2023-10-01 17:31:28\u001b[0m [\u001b[32m\u001b[1minfo     \u001b[0m] \u001b[1mCOMBO_20231001163040: epoch=81 step=81000\u001b[0m \u001b[36mepoch\u001b[0m=\u001b[35m81\u001b[0m \u001b[36mmetrics\u001b[0m=\u001b[35m{'time_sample_batch': 0.0013356885910034179, 'time_algorithm_update': 0.028770918130874634, 'critic_loss': 11.828634513378143, 'actor_loss': -30.566759504318238, 'temp_loss': -0.00046074747567763553, 'temp': 0.02525609335117042, 'time_step': 0.030226783514022828, 'environment': 1000.0}\u001b[0m \u001b[36mstep\u001b[0m=\u001b[35m81000\u001b[0m\n",
      "\u001b[2m2023-10-01 17:31:28\u001b[0m [\u001b[32m\u001b[1minfo     \u001b[0m] \u001b[1mModel parameters are saved to d3rlpy_logs/COMBO_20231001163040/model_81000.pt\u001b[0m\n"
     ]
    },
    {
     "data": {
      "application/vnd.jupyter.widget-view+json": {
       "model_id": "31ad08bfbc30413b8801a79c7e8657fb",
       "version_major": 2,
       "version_minor": 0
      },
      "text/plain": [
       "Epoch 82/100:   0%|          | 0/1000 [00:00<?, ?it/s]"
      ]
     },
     "metadata": {},
     "output_type": "display_data"
    },
    {
     "name": "stdout",
     "output_type": "stream",
     "text": [
      "\u001b[2m2023-10-01 17:31:30\u001b[0m [\u001b[32m\u001b[1mdebug    \u001b[0m] \u001b[1m250000 transitions are generated.\u001b[0m \u001b[36mfake_transitions\u001b[0m=\u001b[35m1250000\u001b[0m \u001b[36mreal_transitions\u001b[0m=\u001b[35m78012\u001b[0m\n",
      "\u001b[2m2023-10-01 17:32:14\u001b[0m [\u001b[32m\u001b[1minfo     \u001b[0m] \u001b[1mCOMBO_20231001163040: epoch=82 step=82000\u001b[0m \u001b[36mepoch\u001b[0m=\u001b[35m82\u001b[0m \u001b[36mmetrics\u001b[0m=\u001b[35m{'time_sample_batch': 0.0013295481204986573, 'time_algorithm_update': 0.029069761514663697, 'critic_loss': 11.8398662276268, 'actor_loss': -30.702923191070557, 'temp_loss': -0.00024091936890908983, 'temp': 0.025787072740495205, 'time_step': 0.030516877889633177, 'environment': 1000.0}\u001b[0m \u001b[36mstep\u001b[0m=\u001b[35m82000\u001b[0m\n",
      "\u001b[2m2023-10-01 17:32:14\u001b[0m [\u001b[32m\u001b[1minfo     \u001b[0m] \u001b[1mModel parameters are saved to d3rlpy_logs/COMBO_20231001163040/model_82000.pt\u001b[0m\n"
     ]
    },
    {
     "data": {
      "application/vnd.jupyter.widget-view+json": {
       "model_id": "555d2abc200946fb99c0cb782c42d977",
       "version_major": 2,
       "version_minor": 0
      },
      "text/plain": [
       "Epoch 83/100:   0%|          | 0/1000 [00:00<?, ?it/s]"
      ]
     },
     "metadata": {},
     "output_type": "display_data"
    },
    {
     "name": "stdout",
     "output_type": "stream",
     "text": [
      "\u001b[2m2023-10-01 17:32:17\u001b[0m [\u001b[32m\u001b[1mdebug    \u001b[0m] \u001b[1m250000 transitions are generated.\u001b[0m \u001b[36mfake_transitions\u001b[0m=\u001b[35m1250000\u001b[0m \u001b[36mreal_transitions\u001b[0m=\u001b[35m78012\u001b[0m\n",
      "\u001b[2m2023-10-01 17:33:01\u001b[0m [\u001b[32m\u001b[1minfo     \u001b[0m] \u001b[1mCOMBO_20231001163040: epoch=83 step=83000\u001b[0m \u001b[36mepoch\u001b[0m=\u001b[35m83\u001b[0m \u001b[36mmetrics\u001b[0m=\u001b[35m{'time_sample_batch': 0.0012900965213775634, 'time_algorithm_update': 0.028759459018707276, 'critic_loss': 12.00284884405136, 'actor_loss': -30.798004289627077, 'temp_loss': 0.00024828542109025874, 'temp': 0.025809416031464933, 'time_step': 0.030168914556503296, 'environment': 1000.0}\u001b[0m \u001b[36mstep\u001b[0m=\u001b[35m83000\u001b[0m\n",
      "\u001b[2m2023-10-01 17:33:01\u001b[0m [\u001b[32m\u001b[1minfo     \u001b[0m] \u001b[1mModel parameters are saved to d3rlpy_logs/COMBO_20231001163040/model_83000.pt\u001b[0m\n"
     ]
    },
    {
     "data": {
      "application/vnd.jupyter.widget-view+json": {
       "model_id": "25f9551e9a3e412ca12caaf3ba0af746",
       "version_major": 2,
       "version_minor": 0
      },
      "text/plain": [
       "Epoch 84/100:   0%|          | 0/1000 [00:00<?, ?it/s]"
      ]
     },
     "metadata": {},
     "output_type": "display_data"
    },
    {
     "name": "stdout",
     "output_type": "stream",
     "text": [
      "\u001b[2m2023-10-01 17:33:03\u001b[0m [\u001b[32m\u001b[1mdebug    \u001b[0m] \u001b[1m250000 transitions are generated.\u001b[0m \u001b[36mfake_transitions\u001b[0m=\u001b[35m1250000\u001b[0m \u001b[36mreal_transitions\u001b[0m=\u001b[35m78012\u001b[0m\n",
      "\u001b[2m2023-10-01 17:33:47\u001b[0m [\u001b[32m\u001b[1minfo     \u001b[0m] \u001b[1mCOMBO_20231001163040: epoch=84 step=84000\u001b[0m \u001b[36mepoch\u001b[0m=\u001b[35m84\u001b[0m \u001b[36mmetrics\u001b[0m=\u001b[35m{'time_sample_batch': 0.0013294861316680909, 'time_algorithm_update': 0.029231295347213745, 'critic_loss': 11.996945919036865, 'actor_loss': -30.925901903152464, 'temp_loss': 1.7376948235323653e-05, 'temp': 0.025666920786723495, 'time_step': 0.030681381225585936, 'environment': 1000.0}\u001b[0m \u001b[36mstep\u001b[0m=\u001b[35m84000\u001b[0m\n",
      "\u001b[2m2023-10-01 17:33:47\u001b[0m [\u001b[32m\u001b[1minfo     \u001b[0m] \u001b[1mModel parameters are saved to d3rlpy_logs/COMBO_20231001163040/model_84000.pt\u001b[0m\n"
     ]
    },
    {
     "data": {
      "application/vnd.jupyter.widget-view+json": {
       "model_id": "38574ec40c3c4278a2c23ef0fdb6c428",
       "version_major": 2,
       "version_minor": 0
      },
      "text/plain": [
       "Epoch 85/100:   0%|          | 0/1000 [00:00<?, ?it/s]"
      ]
     },
     "metadata": {},
     "output_type": "display_data"
    },
    {
     "name": "stdout",
     "output_type": "stream",
     "text": [
      "\u001b[2m2023-10-01 17:33:49\u001b[0m [\u001b[32m\u001b[1mdebug    \u001b[0m] \u001b[1m250000 transitions are generated.\u001b[0m \u001b[36mfake_transitions\u001b[0m=\u001b[35m1250000\u001b[0m \u001b[36mreal_transitions\u001b[0m=\u001b[35m78012\u001b[0m\n",
      "\u001b[2m2023-10-01 17:34:33\u001b[0m [\u001b[32m\u001b[1minfo     \u001b[0m] \u001b[1mCOMBO_20231001163040: epoch=85 step=85000\u001b[0m \u001b[36mepoch\u001b[0m=\u001b[35m85\u001b[0m \u001b[36mmetrics\u001b[0m=\u001b[35m{'time_sample_batch': 0.0013201067447662354, 'time_algorithm_update': 0.028860633850097656, 'critic_loss': 11.939756704807282, 'actor_loss': -31.062000974655152, 'temp_loss': 0.00019113936966459733, 'temp': 0.02547392206825316, 'time_step': 0.030300684690475463, 'environment': 1000.0}\u001b[0m \u001b[36mstep\u001b[0m=\u001b[35m85000\u001b[0m\n",
      "\u001b[2m2023-10-01 17:34:33\u001b[0m [\u001b[32m\u001b[1minfo     \u001b[0m] \u001b[1mModel parameters are saved to d3rlpy_logs/COMBO_20231001163040/model_85000.pt\u001b[0m\n"
     ]
    },
    {
     "data": {
      "application/vnd.jupyter.widget-view+json": {
       "model_id": "a1d76c75544f41b2a69e2a372e0b3413",
       "version_major": 2,
       "version_minor": 0
      },
      "text/plain": [
       "Epoch 86/100:   0%|          | 0/1000 [00:00<?, ?it/s]"
      ]
     },
     "metadata": {},
     "output_type": "display_data"
    },
    {
     "name": "stdout",
     "output_type": "stream",
     "text": [
      "\u001b[2m2023-10-01 17:34:35\u001b[0m [\u001b[32m\u001b[1mdebug    \u001b[0m] \u001b[1m250000 transitions are generated.\u001b[0m \u001b[36mfake_transitions\u001b[0m=\u001b[35m1250000\u001b[0m \u001b[36mreal_transitions\u001b[0m=\u001b[35m78012\u001b[0m\n",
      "\u001b[2m2023-10-01 17:35:18\u001b[0m [\u001b[32m\u001b[1minfo     \u001b[0m] \u001b[1mCOMBO_20231001163040: epoch=86 step=86000\u001b[0m \u001b[36mepoch\u001b[0m=\u001b[35m86\u001b[0m \u001b[36mmetrics\u001b[0m=\u001b[35m{'time_sample_batch': 0.0013043162822723388, 'time_algorithm_update': 0.028774370908737183, 'critic_loss': 12.078014575004577, 'actor_loss': -31.2052380027771, 'temp_loss': 0.000352936744588078, 'temp': 0.025041326520964503, 'time_step': 0.03019897484779358, 'environment': 1000.0}\u001b[0m \u001b[36mstep\u001b[0m=\u001b[35m86000\u001b[0m\n",
      "\u001b[2m2023-10-01 17:35:18\u001b[0m [\u001b[32m\u001b[1minfo     \u001b[0m] \u001b[1mModel parameters are saved to d3rlpy_logs/COMBO_20231001163040/model_86000.pt\u001b[0m\n"
     ]
    },
    {
     "data": {
      "application/vnd.jupyter.widget-view+json": {
       "model_id": "7398cbcf6a574f5a88f8112efc2cc0b1",
       "version_major": 2,
       "version_minor": 0
      },
      "text/plain": [
       "Epoch 87/100:   0%|          | 0/1000 [00:00<?, ?it/s]"
      ]
     },
     "metadata": {},
     "output_type": "display_data"
    },
    {
     "name": "stdout",
     "output_type": "stream",
     "text": [
      "\u001b[2m2023-10-01 17:35:21\u001b[0m [\u001b[32m\u001b[1mdebug    \u001b[0m] \u001b[1m250000 transitions are generated.\u001b[0m \u001b[36mfake_transitions\u001b[0m=\u001b[35m1250000\u001b[0m \u001b[36mreal_transitions\u001b[0m=\u001b[35m78012\u001b[0m\n",
      "\u001b[2m2023-10-01 17:36:05\u001b[0m [\u001b[32m\u001b[1minfo     \u001b[0m] \u001b[1mCOMBO_20231001163040: epoch=87 step=87000\u001b[0m \u001b[36mepoch\u001b[0m=\u001b[35m87\u001b[0m \u001b[36mmetrics\u001b[0m=\u001b[35m{'time_sample_batch': 0.0012965664863586427, 'time_algorithm_update': 0.02854969787597656, 'critic_loss': 12.03407151412964, 'actor_loss': -31.3758056640625, 'temp_loss': 4.1928671285859306e-05, 'temp': 0.0247934747338295, 'time_step': 0.029968239068984985, 'environment': 1000.0}\u001b[0m \u001b[36mstep\u001b[0m=\u001b[35m87000\u001b[0m\n",
      "\u001b[2m2023-10-01 17:36:05\u001b[0m [\u001b[32m\u001b[1minfo     \u001b[0m] \u001b[1mModel parameters are saved to d3rlpy_logs/COMBO_20231001163040/model_87000.pt\u001b[0m\n"
     ]
    },
    {
     "data": {
      "application/vnd.jupyter.widget-view+json": {
       "model_id": "185034b925934497a9da5ab72fa26064",
       "version_major": 2,
       "version_minor": 0
      },
      "text/plain": [
       "Epoch 88/100:   0%|          | 0/1000 [00:00<?, ?it/s]"
      ]
     },
     "metadata": {},
     "output_type": "display_data"
    },
    {
     "name": "stdout",
     "output_type": "stream",
     "text": [
      "\u001b[2m2023-10-01 17:36:07\u001b[0m [\u001b[32m\u001b[1mdebug    \u001b[0m] \u001b[1m250000 transitions are generated.\u001b[0m \u001b[36mfake_transitions\u001b[0m=\u001b[35m1250000\u001b[0m \u001b[36mreal_transitions\u001b[0m=\u001b[35m78012\u001b[0m\n",
      "\u001b[2m2023-10-01 17:36:52\u001b[0m [\u001b[32m\u001b[1minfo     \u001b[0m] \u001b[1mCOMBO_20231001163040: epoch=88 step=88000\u001b[0m \u001b[36mepoch\u001b[0m=\u001b[35m88\u001b[0m \u001b[36mmetrics\u001b[0m=\u001b[35m{'time_sample_batch': 0.0013380560874938965, 'time_algorithm_update': 0.02939081406593323, 'critic_loss': 12.007355035305023, 'actor_loss': -31.5105221157074, 'temp_loss': -9.435445640701801e-05, 'temp': 0.02488178875669837, 'time_step': 0.03085547137260437, 'environment': 1000.0}\u001b[0m \u001b[36mstep\u001b[0m=\u001b[35m88000\u001b[0m\n",
      "\u001b[2m2023-10-01 17:36:52\u001b[0m [\u001b[32m\u001b[1minfo     \u001b[0m] \u001b[1mModel parameters are saved to d3rlpy_logs/COMBO_20231001163040/model_88000.pt\u001b[0m\n"
     ]
    },
    {
     "data": {
      "application/vnd.jupyter.widget-view+json": {
       "model_id": "8c2abb0a8f1a43f49dcca239118d30c8",
       "version_major": 2,
       "version_minor": 0
      },
      "text/plain": [
       "Epoch 89/100:   0%|          | 0/1000 [00:00<?, ?it/s]"
      ]
     },
     "metadata": {},
     "output_type": "display_data"
    },
    {
     "name": "stdout",
     "output_type": "stream",
     "text": [
      "\u001b[2m2023-10-01 17:36:54\u001b[0m [\u001b[32m\u001b[1mdebug    \u001b[0m] \u001b[1m250000 transitions are generated.\u001b[0m \u001b[36mfake_transitions\u001b[0m=\u001b[35m1250000\u001b[0m \u001b[36mreal_transitions\u001b[0m=\u001b[35m78012\u001b[0m\n",
      "\u001b[2m2023-10-01 17:37:40\u001b[0m [\u001b[32m\u001b[1minfo     \u001b[0m] \u001b[1mCOMBO_20231001163040: epoch=89 step=89000\u001b[0m \u001b[36mepoch\u001b[0m=\u001b[35m89\u001b[0m \u001b[36mmetrics\u001b[0m=\u001b[35m{'time_sample_batch': 0.0013343122005462647, 'time_algorithm_update': 0.02938710379600525, 'critic_loss': 11.906162487506867, 'actor_loss': -31.65620103263855, 'temp_loss': -3.388809585158014e-05, 'temp': 0.024994607442989945, 'time_step': 0.030841920375823974, 'environment': 1000.0}\u001b[0m \u001b[36mstep\u001b[0m=\u001b[35m89000\u001b[0m\n",
      "\u001b[2m2023-10-01 17:37:40\u001b[0m [\u001b[32m\u001b[1minfo     \u001b[0m] \u001b[1mModel parameters are saved to d3rlpy_logs/COMBO_20231001163040/model_89000.pt\u001b[0m\n"
     ]
    },
    {
     "data": {
      "application/vnd.jupyter.widget-view+json": {
       "model_id": "78358c39130247f7a2f60e57b701e107",
       "version_major": 2,
       "version_minor": 0
      },
      "text/plain": [
       "Epoch 90/100:   0%|          | 0/1000 [00:00<?, ?it/s]"
      ]
     },
     "metadata": {},
     "output_type": "display_data"
    },
    {
     "name": "stdout",
     "output_type": "stream",
     "text": [
      "\u001b[2m2023-10-01 17:37:42\u001b[0m [\u001b[32m\u001b[1mdebug    \u001b[0m] \u001b[1m250000 transitions are generated.\u001b[0m \u001b[36mfake_transitions\u001b[0m=\u001b[35m1250000\u001b[0m \u001b[36mreal_transitions\u001b[0m=\u001b[35m78012\u001b[0m\n",
      "\u001b[2m2023-10-01 17:38:26\u001b[0m [\u001b[32m\u001b[1minfo     \u001b[0m] \u001b[1mCOMBO_20231001163040: epoch=90 step=90000\u001b[0m \u001b[36mepoch\u001b[0m=\u001b[35m90\u001b[0m \u001b[36mmetrics\u001b[0m=\u001b[35m{'time_sample_batch': 0.001297518014907837, 'time_algorithm_update': 0.029458569526672362, 'critic_loss': 12.128769470214843, 'actor_loss': -31.77360299682617, 'temp_loss': -0.00026050907786702736, 'temp': 0.025206213910132648, 'time_step': 0.030877938747406006, 'environment': 1000.0}\u001b[0m \u001b[36mstep\u001b[0m=\u001b[35m90000\u001b[0m\n",
      "\u001b[2m2023-10-01 17:38:26\u001b[0m [\u001b[32m\u001b[1minfo     \u001b[0m] \u001b[1mModel parameters are saved to d3rlpy_logs/COMBO_20231001163040/model_90000.pt\u001b[0m\n"
     ]
    },
    {
     "data": {
      "application/vnd.jupyter.widget-view+json": {
       "model_id": "43c0ca8055604cf9957415bb7c95960f",
       "version_major": 2,
       "version_minor": 0
      },
      "text/plain": [
       "Epoch 91/100:   0%|          | 0/1000 [00:00<?, ?it/s]"
      ]
     },
     "metadata": {},
     "output_type": "display_data"
    },
    {
     "name": "stdout",
     "output_type": "stream",
     "text": [
      "\u001b[2m2023-10-01 17:38:29\u001b[0m [\u001b[32m\u001b[1mdebug    \u001b[0m] \u001b[1m250000 transitions are generated.\u001b[0m \u001b[36mfake_transitions\u001b[0m=\u001b[35m1250000\u001b[0m \u001b[36mreal_transitions\u001b[0m=\u001b[35m78012\u001b[0m\n",
      "\u001b[2m2023-10-01 17:39:13\u001b[0m [\u001b[32m\u001b[1minfo     \u001b[0m] \u001b[1mCOMBO_20231001163040: epoch=91 step=91000\u001b[0m \u001b[36mepoch\u001b[0m=\u001b[35m91\u001b[0m \u001b[36mmetrics\u001b[0m=\u001b[35m{'time_sample_batch': 0.0012949767112731933, 'time_algorithm_update': 0.028795252323150635, 'critic_loss': 11.952197537899018, 'actor_loss': -31.932605003356933, 'temp_loss': -0.0004893926265940536, 'temp': 0.025747925458475946, 'time_step': 0.03021109366416931, 'environment': 1000.0}\u001b[0m \u001b[36mstep\u001b[0m=\u001b[35m91000\u001b[0m\n",
      "\u001b[2m2023-10-01 17:39:13\u001b[0m [\u001b[32m\u001b[1minfo     \u001b[0m] \u001b[1mModel parameters are saved to d3rlpy_logs/COMBO_20231001163040/model_91000.pt\u001b[0m\n"
     ]
    },
    {
     "data": {
      "application/vnd.jupyter.widget-view+json": {
       "model_id": "ca194822db074c1392649fcd6333a8cd",
       "version_major": 2,
       "version_minor": 0
      },
      "text/plain": [
       "Epoch 92/100:   0%|          | 0/1000 [00:00<?, ?it/s]"
      ]
     },
     "metadata": {},
     "output_type": "display_data"
    },
    {
     "name": "stdout",
     "output_type": "stream",
     "text": [
      "\u001b[2m2023-10-01 17:39:15\u001b[0m [\u001b[32m\u001b[1mdebug    \u001b[0m] \u001b[1m250000 transitions are generated.\u001b[0m \u001b[36mfake_transitions\u001b[0m=\u001b[35m1250000\u001b[0m \u001b[36mreal_transitions\u001b[0m=\u001b[35m78012\u001b[0m\n",
      "\u001b[2m2023-10-01 17:40:00\u001b[0m [\u001b[32m\u001b[1minfo     \u001b[0m] \u001b[1mCOMBO_20231001163040: epoch=92 step=92000\u001b[0m \u001b[36mepoch\u001b[0m=\u001b[35m92\u001b[0m \u001b[36mmetrics\u001b[0m=\u001b[35m{'time_sample_batch': 0.0013198308944702148, 'time_algorithm_update': 0.029933277130126952, 'critic_loss': 12.027028230190277, 'actor_loss': -32.085388359069825, 'temp_loss': -0.00019251930611790158, 'temp': 0.026125066313892602, 'time_step': 0.03137454342842102, 'environment': 1000.0}\u001b[0m \u001b[36mstep\u001b[0m=\u001b[35m92000\u001b[0m\n",
      "\u001b[2m2023-10-01 17:40:00\u001b[0m [\u001b[32m\u001b[1minfo     \u001b[0m] \u001b[1mModel parameters are saved to d3rlpy_logs/COMBO_20231001163040/model_92000.pt\u001b[0m\n"
     ]
    },
    {
     "data": {
      "application/vnd.jupyter.widget-view+json": {
       "model_id": "fd2a91570f57434790018c85c4f74c18",
       "version_major": 2,
       "version_minor": 0
      },
      "text/plain": [
       "Epoch 93/100:   0%|          | 0/1000 [00:00<?, ?it/s]"
      ]
     },
     "metadata": {},
     "output_type": "display_data"
    },
    {
     "name": "stdout",
     "output_type": "stream",
     "text": [
      "\u001b[2m2023-10-01 17:40:02\u001b[0m [\u001b[32m\u001b[1mdebug    \u001b[0m] \u001b[1m250000 transitions are generated.\u001b[0m \u001b[36mfake_transitions\u001b[0m=\u001b[35m1250000\u001b[0m \u001b[36mreal_transitions\u001b[0m=\u001b[35m78012\u001b[0m\n",
      "\u001b[2m2023-10-01 17:40:45\u001b[0m [\u001b[32m\u001b[1minfo     \u001b[0m] \u001b[1mCOMBO_20231001163040: epoch=93 step=93000\u001b[0m \u001b[36mepoch\u001b[0m=\u001b[35m93\u001b[0m \u001b[36mmetrics\u001b[0m=\u001b[35m{'time_sample_batch': 0.0013027858734130859, 'time_algorithm_update': 0.028789234399795534, 'critic_loss': 11.831901426315307, 'actor_loss': -32.23248009490967, 'temp_loss': 0.00020808720440982143, 'temp': 0.026235396932810545, 'time_step': 0.030215893983840943, 'environment': 1000.0}\u001b[0m \u001b[36mstep\u001b[0m=\u001b[35m93000\u001b[0m\n",
      "\u001b[2m2023-10-01 17:40:45\u001b[0m [\u001b[32m\u001b[1minfo     \u001b[0m] \u001b[1mModel parameters are saved to d3rlpy_logs/COMBO_20231001163040/model_93000.pt\u001b[0m\n"
     ]
    },
    {
     "data": {
      "application/vnd.jupyter.widget-view+json": {
       "model_id": "26cd9ff3d1f1444c85d509442c7a654b",
       "version_major": 2,
       "version_minor": 0
      },
      "text/plain": [
       "Epoch 94/100:   0%|          | 0/1000 [00:00<?, ?it/s]"
      ]
     },
     "metadata": {},
     "output_type": "display_data"
    },
    {
     "name": "stdout",
     "output_type": "stream",
     "text": [
      "\u001b[2m2023-10-01 17:40:48\u001b[0m [\u001b[32m\u001b[1mdebug    \u001b[0m] \u001b[1m250000 transitions are generated.\u001b[0m \u001b[36mfake_transitions\u001b[0m=\u001b[35m1250000\u001b[0m \u001b[36mreal_transitions\u001b[0m=\u001b[35m78012\u001b[0m\n",
      "\u001b[2m2023-10-01 17:41:32\u001b[0m [\u001b[32m\u001b[1minfo     \u001b[0m] \u001b[1mCOMBO_20231001163040: epoch=94 step=94000\u001b[0m \u001b[36mepoch\u001b[0m=\u001b[35m94\u001b[0m \u001b[36mmetrics\u001b[0m=\u001b[35m{'time_sample_batch': 0.0012993052005767821, 'time_algorithm_update': 0.0286315393447876, 'critic_loss': 11.79165793466568, 'actor_loss': -32.37101475143432, 'temp_loss': 0.00023827012680703775, 'temp': 0.025889091309159996, 'time_step': 0.03004998207092285, 'environment': 1000.0}\u001b[0m \u001b[36mstep\u001b[0m=\u001b[35m94000\u001b[0m\n",
      "\u001b[2m2023-10-01 17:41:32\u001b[0m [\u001b[32m\u001b[1minfo     \u001b[0m] \u001b[1mModel parameters are saved to d3rlpy_logs/COMBO_20231001163040/model_94000.pt\u001b[0m\n"
     ]
    },
    {
     "data": {
      "application/vnd.jupyter.widget-view+json": {
       "model_id": "ad0f5d2b130e42f7906bb686feb10154",
       "version_major": 2,
       "version_minor": 0
      },
      "text/plain": [
       "Epoch 95/100:   0%|          | 0/1000 [00:00<?, ?it/s]"
      ]
     },
     "metadata": {},
     "output_type": "display_data"
    },
    {
     "name": "stdout",
     "output_type": "stream",
     "text": [
      "\u001b[2m2023-10-01 17:41:33\u001b[0m [\u001b[32m\u001b[1mdebug    \u001b[0m] \u001b[1m250000 transitions are generated.\u001b[0m \u001b[36mfake_transitions\u001b[0m=\u001b[35m1250000\u001b[0m \u001b[36mreal_transitions\u001b[0m=\u001b[35m78012\u001b[0m\n",
      "\u001b[2m2023-10-01 17:42:17\u001b[0m [\u001b[32m\u001b[1minfo     \u001b[0m] \u001b[1mCOMBO_20231001163040: epoch=95 step=95000\u001b[0m \u001b[36mepoch\u001b[0m=\u001b[35m95\u001b[0m \u001b[36mmetrics\u001b[0m=\u001b[35m{'time_sample_batch': 0.0012897751331329345, 'time_algorithm_update': 0.028969187021255494, 'critic_loss': 11.863788697242736, 'actor_loss': -32.50298049736023, 'temp_loss': -0.0003579034282665816, 'temp': 0.026076227819547056, 'time_step': 0.030379172563552857, 'environment': 1000.0}\u001b[0m \u001b[36mstep\u001b[0m=\u001b[35m95000\u001b[0m\n",
      "\u001b[2m2023-10-01 17:42:17\u001b[0m [\u001b[32m\u001b[1minfo     \u001b[0m] \u001b[1mModel parameters are saved to d3rlpy_logs/COMBO_20231001163040/model_95000.pt\u001b[0m\n"
     ]
    },
    {
     "data": {
      "application/vnd.jupyter.widget-view+json": {
       "model_id": "51ab0821ee1b4d2a871fc3393eb24103",
       "version_major": 2,
       "version_minor": 0
      },
      "text/plain": [
       "Epoch 96/100:   0%|          | 0/1000 [00:00<?, ?it/s]"
      ]
     },
     "metadata": {},
     "output_type": "display_data"
    },
    {
     "name": "stdout",
     "output_type": "stream",
     "text": [
      "\u001b[2m2023-10-01 17:42:19\u001b[0m [\u001b[32m\u001b[1mdebug    \u001b[0m] \u001b[1m250000 transitions are generated.\u001b[0m \u001b[36mfake_transitions\u001b[0m=\u001b[35m1250000\u001b[0m \u001b[36mreal_transitions\u001b[0m=\u001b[35m78012\u001b[0m\n",
      "\u001b[2m2023-10-01 17:43:03\u001b[0m [\u001b[32m\u001b[1minfo     \u001b[0m] \u001b[1mCOMBO_20231001163040: epoch=96 step=96000\u001b[0m \u001b[36mepoch\u001b[0m=\u001b[35m96\u001b[0m \u001b[36mmetrics\u001b[0m=\u001b[35m{'time_sample_batch': 0.0013272910118103027, 'time_algorithm_update': 0.029215741395950318, 'critic_loss': 12.126333135128021, 'actor_loss': -32.57068603515625, 'temp_loss': 0.00019532065464591142, 'temp': 0.026222419725731014, 'time_step': 0.03066615605354309, 'environment': 1000.0}\u001b[0m \u001b[36mstep\u001b[0m=\u001b[35m96000\u001b[0m\n",
      "\u001b[2m2023-10-01 17:43:03\u001b[0m [\u001b[32m\u001b[1minfo     \u001b[0m] \u001b[1mModel parameters are saved to d3rlpy_logs/COMBO_20231001163040/model_96000.pt\u001b[0m\n"
     ]
    },
    {
     "data": {
      "application/vnd.jupyter.widget-view+json": {
       "model_id": "01b5df4fcb8441c484d615d5fca49cfc",
       "version_major": 2,
       "version_minor": 0
      },
      "text/plain": [
       "Epoch 97/100:   0%|          | 0/1000 [00:00<?, ?it/s]"
      ]
     },
     "metadata": {},
     "output_type": "display_data"
    },
    {
     "name": "stdout",
     "output_type": "stream",
     "text": [
      "\u001b[2m2023-10-01 17:43:06\u001b[0m [\u001b[32m\u001b[1mdebug    \u001b[0m] \u001b[1m250000 transitions are generated.\u001b[0m \u001b[36mfake_transitions\u001b[0m=\u001b[35m1250000\u001b[0m \u001b[36mreal_transitions\u001b[0m=\u001b[35m78012\u001b[0m\n",
      "\u001b[2m2023-10-01 17:43:50\u001b[0m [\u001b[32m\u001b[1minfo     \u001b[0m] \u001b[1mCOMBO_20231001163040: epoch=97 step=97000\u001b[0m \u001b[36mepoch\u001b[0m=\u001b[35m97\u001b[0m \u001b[36mmetrics\u001b[0m=\u001b[35m{'time_sample_batch': 0.0013316833972930907, 'time_algorithm_update': 0.02941658115386963, 'critic_loss': 11.95138859796524, 'actor_loss': -32.67639723014832, 'temp_loss': -5.9611356671666725e-05, 'temp': 0.025943754870444535, 'time_step': 0.030868598222732545, 'environment': 1000.0}\u001b[0m \u001b[36mstep\u001b[0m=\u001b[35m97000\u001b[0m\n",
      "\u001b[2m2023-10-01 17:43:50\u001b[0m [\u001b[32m\u001b[1minfo     \u001b[0m] \u001b[1mModel parameters are saved to d3rlpy_logs/COMBO_20231001163040/model_97000.pt\u001b[0m\n"
     ]
    },
    {
     "data": {
      "application/vnd.jupyter.widget-view+json": {
       "model_id": "ab148d29ade341d2ba1ced334a274d16",
       "version_major": 2,
       "version_minor": 0
      },
      "text/plain": [
       "Epoch 98/100:   0%|          | 0/1000 [00:00<?, ?it/s]"
      ]
     },
     "metadata": {},
     "output_type": "display_data"
    },
    {
     "name": "stdout",
     "output_type": "stream",
     "text": [
      "\u001b[2m2023-10-01 17:43:53\u001b[0m [\u001b[32m\u001b[1mdebug    \u001b[0m] \u001b[1m250000 transitions are generated.\u001b[0m \u001b[36mfake_transitions\u001b[0m=\u001b[35m1250000\u001b[0m \u001b[36mreal_transitions\u001b[0m=\u001b[35m78012\u001b[0m\n",
      "\u001b[2m2023-10-01 17:44:36\u001b[0m [\u001b[32m\u001b[1minfo     \u001b[0m] \u001b[1mCOMBO_20231001163040: epoch=98 step=98000\u001b[0m \u001b[36mepoch\u001b[0m=\u001b[35m98\u001b[0m \u001b[36mmetrics\u001b[0m=\u001b[35m{'time_sample_batch': 0.0012914433479309082, 'time_algorithm_update': 0.028616055250167846, 'critic_loss': 12.18049320268631, 'actor_loss': -32.748934175491335, 'temp_loss': -0.0005151672189240344, 'temp': 0.026476903000846506, 'time_step': 0.03002556324005127, 'environment': 1000.0}\u001b[0m \u001b[36mstep\u001b[0m=\u001b[35m98000\u001b[0m\n",
      "\u001b[2m2023-10-01 17:44:36\u001b[0m [\u001b[32m\u001b[1minfo     \u001b[0m] \u001b[1mModel parameters are saved to d3rlpy_logs/COMBO_20231001163040/model_98000.pt\u001b[0m\n"
     ]
    },
    {
     "data": {
      "application/vnd.jupyter.widget-view+json": {
       "model_id": "3156f93c32e34fa0821bbefe99964a63",
       "version_major": 2,
       "version_minor": 0
      },
      "text/plain": [
       "Epoch 99/100:   0%|          | 0/1000 [00:00<?, ?it/s]"
      ]
     },
     "metadata": {},
     "output_type": "display_data"
    },
    {
     "name": "stdout",
     "output_type": "stream",
     "text": [
      "\u001b[2m2023-10-01 17:44:38\u001b[0m [\u001b[32m\u001b[1mdebug    \u001b[0m] \u001b[1m250000 transitions are generated.\u001b[0m \u001b[36mfake_transitions\u001b[0m=\u001b[35m1250000\u001b[0m \u001b[36mreal_transitions\u001b[0m=\u001b[35m78012\u001b[0m\n",
      "\u001b[2m2023-10-01 17:45:22\u001b[0m [\u001b[32m\u001b[1minfo     \u001b[0m] \u001b[1mCOMBO_20231001163040: epoch=99 step=99000\u001b[0m \u001b[36mepoch\u001b[0m=\u001b[35m99\u001b[0m \u001b[36mmetrics\u001b[0m=\u001b[35m{'time_sample_batch': 0.0013295726776123046, 'time_algorithm_update': 0.029362735509872437, 'critic_loss': 12.186915818214416, 'actor_loss': -32.85153619003296, 'temp_loss': -1.2615893807378598e-05, 'temp': 0.02696601510234177, 'time_step': 0.03081584620475769, 'environment': 1000.0}\u001b[0m \u001b[36mstep\u001b[0m=\u001b[35m99000\u001b[0m\n",
      "\u001b[2m2023-10-01 17:45:22\u001b[0m [\u001b[32m\u001b[1minfo     \u001b[0m] \u001b[1mModel parameters are saved to d3rlpy_logs/COMBO_20231001163040/model_99000.pt\u001b[0m\n"
     ]
    },
    {
     "data": {
      "application/vnd.jupyter.widget-view+json": {
       "model_id": "bbb86f92d0854541972c0d43d8cf4480",
       "version_major": 2,
       "version_minor": 0
      },
      "text/plain": [
       "Epoch 100/100:   0%|          | 0/1000 [00:00<?, ?it/s]"
      ]
     },
     "metadata": {},
     "output_type": "display_data"
    },
    {
     "name": "stdout",
     "output_type": "stream",
     "text": [
      "\u001b[2m2023-10-01 17:45:25\u001b[0m [\u001b[32m\u001b[1mdebug    \u001b[0m] \u001b[1m250000 transitions are generated.\u001b[0m \u001b[36mfake_transitions\u001b[0m=\u001b[35m1250000\u001b[0m \u001b[36mreal_transitions\u001b[0m=\u001b[35m78012\u001b[0m\n",
      "\u001b[2m2023-10-01 17:46:11\u001b[0m [\u001b[32m\u001b[1minfo     \u001b[0m] \u001b[1mCOMBO_20231001163040: epoch=100 step=100000\u001b[0m \u001b[36mepoch\u001b[0m=\u001b[35m100\u001b[0m \u001b[36mmetrics\u001b[0m=\u001b[35m{'time_sample_batch': 0.0013297867774963378, 'time_algorithm_update': 0.029213391304016113, 'critic_loss': 12.268741159915924, 'actor_loss': -32.98735144805908, 'temp_loss': 0.00033988956674875227, 'temp': 0.026612394601106645, 'time_step': 0.030665696382522582, 'environment': 1000.0}\u001b[0m \u001b[36mstep\u001b[0m=\u001b[35m100000\u001b[0m\n",
      "\u001b[2m2023-10-01 17:46:11\u001b[0m [\u001b[32m\u001b[1minfo     \u001b[0m] \u001b[1mModel parameters are saved to d3rlpy_logs/COMBO_20231001163040/model_100000.pt\u001b[0m\n"
     ]
    },
    {
     "data": {
      "text/plain": [
       "[(1,\n",
       "  {'time_sample_batch': 0.001380002737045288,\n",
       "   'time_algorithm_update': 0.03201468873023987,\n",
       "   'critic_loss': 7.931922992706299,\n",
       "   'actor_loss': -3.1501990002393723,\n",
       "   'temp_loss': 1.4433157570362092,\n",
       "   'temp': 0.9536788986921311,\n",
       "   'time_step': 0.033513587713241574,\n",
       "   'environment': 77.3}),\n",
       " (2,\n",
       "  {'time_sample_batch': 0.001382411241531372,\n",
       "   'time_algorithm_update': 0.03167251563072205,\n",
       "   'critic_loss': 7.901574543476105,\n",
       "   'actor_loss': -7.110955627441406,\n",
       "   'temp_loss': 1.2367205929756164,\n",
       "   'temp': 0.868801161646843,\n",
       "   'time_step': 0.033171422481536865,\n",
       "   'environment': 65.6}),\n",
       " (3,\n",
       "  {'time_sample_batch': 0.001391845703125,\n",
       "   'time_algorithm_update': 0.031803046703338625,\n",
       "   'critic_loss': 9.072717978477478,\n",
       "   'actor_loss': -10.79972409248352,\n",
       "   'temp_loss': 1.0334303538799285,\n",
       "   'temp': 0.7956417958140374,\n",
       "   'time_step': 0.03331618118286133,\n",
       "   'environment': 102.6}),\n",
       " (4,\n",
       "  {'time_sample_batch': 0.0013628950119018554,\n",
       "   'time_algorithm_update': 0.03192154765129089,\n",
       "   'critic_loss': 10.350592137336731,\n",
       "   'actor_loss': -13.68163473701477,\n",
       "   'temp_loss': 0.9136756767034531,\n",
       "   'temp': 0.7291630645990371,\n",
       "   'time_step': 0.03339839601516724,\n",
       "   'environment': 166.2}),\n",
       " (5,\n",
       "  {'time_sample_batch': 0.0013593595027923584,\n",
       "   'time_algorithm_update': 0.03118943166732788,\n",
       "   'critic_loss': 11.227051558494567,\n",
       "   'actor_loss': -15.904354840278625,\n",
       "   'temp_loss': 0.802168956875801,\n",
       "   'temp': 0.6683483487963676,\n",
       "   'time_step': 0.03266210198402405,\n",
       "   'environment': 143.9}),\n",
       " (6,\n",
       "  {'time_sample_batch': 0.0013734350204467774,\n",
       "   'time_algorithm_update': 0.03154549098014831,\n",
       "   'critic_loss': 12.31046004486084,\n",
       "   'actor_loss': -17.662834882736206,\n",
       "   'temp_loss': 0.7042996256351471,\n",
       "   'temp': 0.6129559260606766,\n",
       "   'time_step': 0.03303446292877197,\n",
       "   'environment': 361.4}),\n",
       " (7,\n",
       "  {'time_sample_batch': 0.001337480068206787,\n",
       "   'time_algorithm_update': 0.03126067614555359,\n",
       "   'critic_loss': 12.806709111213683,\n",
       "   'actor_loss': -18.867072538375854,\n",
       "   'temp_loss': 0.6107989991307259,\n",
       "   'temp': 0.5624356880187988,\n",
       "   'time_step': 0.032705567598342894,\n",
       "   'environment': 349.6}),\n",
       " (8,\n",
       "  {'time_sample_batch': 0.0013694891929626465,\n",
       "   'time_algorithm_update': 0.03144505739212036,\n",
       "   'critic_loss': 13.256313179969787,\n",
       "   'actor_loss': -19.887599124908448,\n",
       "   'temp_loss': 0.5309581046104431,\n",
       "   'temp': 0.5164689801037311,\n",
       "   'time_step': 0.03292461705207825,\n",
       "   'environment': 322.2}),\n",
       " (9,\n",
       "  {'time_sample_batch': 0.0013827602863311767,\n",
       "   'time_algorithm_update': 0.03174023938179016,\n",
       "   'critic_loss': 13.636215905189514,\n",
       "   'actor_loss': -20.70425115585327,\n",
       "   'temp_loss': 0.46425370356440543,\n",
       "   'temp': 0.47419414889812467,\n",
       "   'time_step': 0.03323161768913269,\n",
       "   'environment': 583.3}),\n",
       " (10,\n",
       "  {'time_sample_batch': 0.0013481373786926269,\n",
       "   'time_algorithm_update': 0.030713160276412965,\n",
       "   'critic_loss': 14.061087383270264,\n",
       "   'actor_loss': -21.387815366744995,\n",
       "   'temp_loss': 0.40115700879693034,\n",
       "   'temp': 0.43556110551953314,\n",
       "   'time_step': 0.032172417640686034,\n",
       "   'environment': 562.7}),\n",
       " (11,\n",
       "  {'time_sample_batch': 0.0013493883609771728,\n",
       "   'time_algorithm_update': 0.03119195890426636,\n",
       "   'critic_loss': 14.311602047920227,\n",
       "   'actor_loss': -21.933858158111573,\n",
       "   'temp_loss': 0.355460428327322,\n",
       "   'temp': 0.39988422870635987,\n",
       "   'time_step': 0.03264443469047546,\n",
       "   'environment': 412.9}),\n",
       " (12,\n",
       "  {'time_sample_batch': 0.0013613247871398927,\n",
       "   'time_algorithm_update': 0.03144350838661194,\n",
       "   'critic_loss': 14.469348188400268,\n",
       "   'actor_loss': -22.334198741912843,\n",
       "   'temp_loss': 0.3148375958353281,\n",
       "   'temp': 0.3668413710594177,\n",
       "   'time_step': 0.032914981842041016,\n",
       "   'environment': 728.7}),\n",
       " (13,\n",
       "  {'time_sample_batch': 0.001334120273590088,\n",
       "   'time_algorithm_update': 0.030538798332214356,\n",
       "   'critic_loss': 14.580191908836365,\n",
       "   'actor_loss': -22.658076143264772,\n",
       "   'temp_loss': 0.27705198152363303,\n",
       "   'temp': 0.3364940879940987,\n",
       "   'time_step': 0.03197581624984741,\n",
       "   'environment': 663.5}),\n",
       " (14,\n",
       "  {'time_sample_batch': 0.0013678381443023681,\n",
       "   'time_algorithm_update': 0.03139810371398926,\n",
       "   'critic_loss': 14.6707922372818,\n",
       "   'actor_loss': -22.88336417198181,\n",
       "   'temp_loss': 0.24468710692226886,\n",
       "   'temp': 0.3085898343324661,\n",
       "   'time_step': 0.032872651815414426,\n",
       "   'environment': 1000.0}),\n",
       " (15,\n",
       "  {'time_sample_batch': 0.001356919765472412,\n",
       "   'time_algorithm_update': 0.031285968542099,\n",
       "   'critic_loss': 14.582186332702637,\n",
       "   'actor_loss': -23.071215900421144,\n",
       "   'temp_loss': 0.21329392045736312,\n",
       "   'temp': 0.28318463706970215,\n",
       "   'time_step': 0.0327508339881897,\n",
       "   'environment': 1000.0}),\n",
       " (16,\n",
       "  {'time_sample_batch': 0.0013377068042755126,\n",
       "   'time_algorithm_update': 0.031173085212707518,\n",
       "   'critic_loss': 14.607374311447144,\n",
       "   'actor_loss': -23.219730936050414,\n",
       "   'temp_loss': 0.1876502611041069,\n",
       "   'temp': 0.25986609256267545,\n",
       "   'time_step': 0.03261336612701416,\n",
       "   'environment': 1000.0}),\n",
       " (17,\n",
       "  {'time_sample_batch': 0.0013743932247161864,\n",
       "   'time_algorithm_update': 0.031291664361953735,\n",
       "   'critic_loss': 14.560353407859802,\n",
       "   'actor_loss': -23.352035915374756,\n",
       "   'temp_loss': 0.16629688477516175,\n",
       "   'temp': 0.23838636931777,\n",
       "   'time_step': 0.03277109837532043,\n",
       "   'environment': 1000.0}),\n",
       " (18,\n",
       "  {'time_sample_batch': 0.001386126756668091,\n",
       "   'time_algorithm_update': 0.03144347190856934,\n",
       "   'critic_loss': 14.388180559158325,\n",
       "   'actor_loss': -23.42641238975525,\n",
       "   'temp_loss': 0.14497171415388585,\n",
       "   'temp': 0.2186412315964699,\n",
       "   'time_step': 0.03293349885940552,\n",
       "   'environment': 1000.0}),\n",
       " (19,\n",
       "  {'time_sample_batch': 0.001386329174041748,\n",
       "   'time_algorithm_update': 0.031472383260726926,\n",
       "   'critic_loss': 14.232135194778442,\n",
       "   'actor_loss': -23.518466384887695,\n",
       "   'temp_loss': 0.12603960429131986,\n",
       "   'temp': 0.200817831158638,\n",
       "   'time_step': 0.0329683825969696,\n",
       "   'environment': 1000.0}),\n",
       " (20,\n",
       "  {'time_sample_batch': 0.0013662469387054443,\n",
       "   'time_algorithm_update': 0.031290969610214235,\n",
       "   'critic_loss': 14.148667017936706,\n",
       "   'actor_loss': -23.631649517059326,\n",
       "   'temp_loss': 0.11177374904602766,\n",
       "   'temp': 0.18430924808979035,\n",
       "   'time_step': 0.03275895595550537,\n",
       "   'environment': 1000.0}),\n",
       " (21,\n",
       "  {'time_sample_batch': 0.001353031873703003,\n",
       "   'time_algorithm_update': 0.030895053148269652,\n",
       "   'critic_loss': 14.1223890914917,\n",
       "   'actor_loss': -23.72082293319702,\n",
       "   'temp_loss': 0.09690539540350437,\n",
       "   'temp': 0.16921622298657893,\n",
       "   'time_step': 0.03235913777351379,\n",
       "   'environment': 1000.0}),\n",
       " (22,\n",
       "  {'time_sample_batch': 0.001358729362487793,\n",
       "   'time_algorithm_update': 0.0314324369430542,\n",
       "   'critic_loss': 13.96583891582489,\n",
       "   'actor_loss': -23.81950139427185,\n",
       "   'temp_loss': 0.0846349931359291,\n",
       "   'temp': 0.15535796029865742,\n",
       "   'time_step': 0.03290597581863403,\n",
       "   'environment': 1000.0}),\n",
       " (23,\n",
       "  {'time_sample_batch': 0.0013460588455200195,\n",
       "   'time_algorithm_update': 0.03142039632797241,\n",
       "   'critic_loss': 13.859933466911317,\n",
       "   'actor_loss': -23.889043367385863,\n",
       "   'temp_loss': 0.07468997510150074,\n",
       "   'temp': 0.14273197163641452,\n",
       "   'time_step': 0.032876106977462766,\n",
       "   'environment': 1000.0}),\n",
       " (24,\n",
       "  {'time_sample_batch': 0.0013674392700195313,\n",
       "   'time_algorithm_update': 0.031211763381958007,\n",
       "   'critic_loss': 13.724098044395447,\n",
       "   'actor_loss': -23.957733407974242,\n",
       "   'temp_loss': 0.06484184379503131,\n",
       "   'temp': 0.13099330453574656,\n",
       "   'time_step': 0.0326949200630188,\n",
       "   'environment': 1000.0}),\n",
       " (25,\n",
       "  {'time_sample_batch': 0.0013706510066986083,\n",
       "   'time_algorithm_update': 0.0315098135471344,\n",
       "   'critic_loss': 13.709165947914123,\n",
       "   'actor_loss': -24.026342288970948,\n",
       "   'temp_loss': 0.05649452975764871,\n",
       "   'temp': 0.12031538039445877,\n",
       "   'time_step': 0.03299461460113525,\n",
       "   'environment': 439.8}),\n",
       " (26,\n",
       "  {'time_sample_batch': 0.0013233940601348876,\n",
       "   'time_algorithm_update': 0.028446160316467285,\n",
       "   'critic_loss': 13.55548444366455,\n",
       "   'actor_loss': -24.08116732788086,\n",
       "   'temp_loss': 0.048948233928531405,\n",
       "   'temp': 0.11060859480500221,\n",
       "   'time_step': 0.02987438154220581,\n",
       "   'environment': 1000.0}),\n",
       " (27,\n",
       "  {'time_sample_batch': 0.0012921898365020753,\n",
       "   'time_algorithm_update': 0.02840549969673157,\n",
       "   'critic_loss': 13.435721493721008,\n",
       "   'actor_loss': -24.147282501220705,\n",
       "   'temp_loss': 0.04253468297049403,\n",
       "   'temp': 0.10164411588013172,\n",
       "   'time_step': 0.029804151773452758,\n",
       "   'environment': 997.3}),\n",
       " (28,\n",
       "  {'time_sample_batch': 0.0012966649532318115,\n",
       "   'time_algorithm_update': 0.028598286628723144,\n",
       "   'critic_loss': 13.339744483947754,\n",
       "   'actor_loss': -24.226382070541383,\n",
       "   'temp_loss': 0.03584659663401544,\n",
       "   'temp': 0.09355729385465383,\n",
       "   'time_step': 0.03000657844543457,\n",
       "   'environment': 1000.0}),\n",
       " (29,\n",
       "  {'time_sample_batch': 0.0013120541572570802,\n",
       "   'time_algorithm_update': 0.029181240797042846,\n",
       "   'critic_loss': 13.273387143135071,\n",
       "   'actor_loss': -24.337498191833497,\n",
       "   'temp_loss': 0.030580987153574823,\n",
       "   'temp': 0.08619714296609163,\n",
       "   'time_step': 0.03059787893295288,\n",
       "   'environment': 1000.0}),\n",
       " (30,\n",
       "  {'time_sample_batch': 0.001276379108428955,\n",
       "   'time_algorithm_update': 0.028170211553573608,\n",
       "   'critic_loss': 13.115773598670959,\n",
       "   'actor_loss': -24.41645220375061,\n",
       "   'temp_loss': 0.02651057044789195,\n",
       "   'temp': 0.07935980883985758,\n",
       "   'time_step': 0.029554693937301636,\n",
       "   'environment': 1000.0}),\n",
       " (31,\n",
       "  {'time_sample_batch': 0.0012976031303405763,\n",
       "   'time_algorithm_update': 0.02828203248977661,\n",
       "   'critic_loss': 13.056402437210084,\n",
       "   'actor_loss': -24.477013872146607,\n",
       "   'temp_loss': 0.023264717074111103,\n",
       "   'temp': 0.07302015504986048,\n",
       "   'time_step': 0.029689085721969606,\n",
       "   'environment': 1000.0}),\n",
       " (32,\n",
       "  {'time_sample_batch': 0.0012948660850524902,\n",
       "   'time_algorithm_update': 0.028430151224136353,\n",
       "   'critic_loss': 12.865486915588379,\n",
       "   'actor_loss': -24.520576694488526,\n",
       "   'temp_loss': 0.019312632534187288,\n",
       "   'temp': 0.06723030576109887,\n",
       "   'time_step': 0.02983418107032776,\n",
       "   'environment': 762.5}),\n",
       " (33,\n",
       "  {'time_sample_batch': 0.0012653179168701171,\n",
       "   'time_algorithm_update': 0.027969007968902587,\n",
       "   'critic_loss': 12.792810062408448,\n",
       "   'actor_loss': -24.593501987457277,\n",
       "   'temp_loss': 0.01589382352819666,\n",
       "   'temp': 0.062128262478858234,\n",
       "   'time_step': 0.02933855676651001,\n",
       "   'environment': 1000.0}),\n",
       " (34,\n",
       "  {'time_sample_batch': 0.0012902884483337403,\n",
       "   'time_algorithm_update': 0.028393104076385497,\n",
       "   'critic_loss': 12.69907410812378,\n",
       "   'actor_loss': -24.678309902191163,\n",
       "   'temp_loss': 0.013557717218296602,\n",
       "   'temp': 0.05739581412449479,\n",
       "   'time_step': 0.029790728807449342,\n",
       "   'environment': 1000.0}),\n",
       " (35,\n",
       "  {'time_sample_batch': 0.0013161170482635497,\n",
       "   'time_algorithm_update': 0.02874711537361145,\n",
       "   'critic_loss': 12.589873147010803,\n",
       "   'actor_loss': -24.765250478744505,\n",
       "   'temp_loss': 0.01188533593673492,\n",
       "   'temp': 0.052943718690425155,\n",
       "   'time_step': 0.03017256712913513,\n",
       "   'environment': 1000.0}),\n",
       " (36,\n",
       "  {'time_sample_batch': 0.0013304200172424316,\n",
       "   'time_algorithm_update': 0.029277152538299562,\n",
       "   'critic_loss': 12.533324766159058,\n",
       "   'actor_loss': -24.865775827407838,\n",
       "   'temp_loss': 0.00958004605874885,\n",
       "   'temp': 0.048948938015848396,\n",
       "   'time_step': 0.030721152067184447,\n",
       "   'environment': 1000.0}),\n",
       " (37,\n",
       "  {'time_sample_batch': 0.0013193459510803223,\n",
       "   'time_algorithm_update': 0.028784780740737915,\n",
       "   'critic_loss': 12.427424631118775,\n",
       "   'actor_loss': -24.950175563812255,\n",
       "   'temp_loss': 0.008105437988589984,\n",
       "   'temp': 0.045332930631935595,\n",
       "   'time_step': 0.03021902561187744,\n",
       "   'environment': 1000.0}),\n",
       " (38,\n",
       "  {'time_sample_batch': 0.0013210725784301757,\n",
       "   'time_algorithm_update': 0.029310091733932495,\n",
       "   'critic_loss': 12.361415506362915,\n",
       "   'actor_loss': -25.034608791351317,\n",
       "   'temp_loss': 0.006676581274659838,\n",
       "   'temp': 0.04204555350169539,\n",
       "   'time_step': 0.03074733304977417,\n",
       "   'environment': 1000.0}),\n",
       " (39,\n",
       "  {'time_sample_batch': 0.0013007383346557617,\n",
       "   'time_algorithm_update': 0.028818418502807617,\n",
       "   'critic_loss': 12.243071772575378,\n",
       "   'actor_loss': -25.140207231521607,\n",
       "   'temp_loss': 0.005471758718922502,\n",
       "   'temp': 0.03902663967013359,\n",
       "   'time_step': 0.03023298931121826,\n",
       "   'environment': 1000.0}),\n",
       " (40,\n",
       "  {'time_sample_batch': 0.001308570146560669,\n",
       "   'time_algorithm_update': 0.02862643051147461,\n",
       "   'critic_loss': 12.17765970134735,\n",
       "   'actor_loss': -25.2588672542572,\n",
       "   'temp_loss': 0.004848877882119268,\n",
       "   'temp': 0.03620635744929314,\n",
       "   'time_step': 0.030048141956329346,\n",
       "   'environment': 1000.0}),\n",
       " (41,\n",
       "  {'time_sample_batch': 0.0013209176063537597,\n",
       "   'time_algorithm_update': 0.02916275763511658,\n",
       "   'critic_loss': 12.05293866443634,\n",
       "   'actor_loss': -25.357856466293335,\n",
       "   'temp_loss': 0.003387755232892232,\n",
       "   'temp': 0.03376421581581235,\n",
       "   'time_step': 0.030597567796707154,\n",
       "   'environment': 1000.0}),\n",
       " (42,\n",
       "  {'time_sample_batch': 0.001310072660446167,\n",
       "   'time_algorithm_update': 0.028562316417694092,\n",
       "   'critic_loss': 12.015880054473877,\n",
       "   'actor_loss': -25.46330202102661,\n",
       "   'temp_loss': 0.0026364128266577608,\n",
       "   'temp': 0.03170392594859004,\n",
       "   'time_step': 0.0299930636882782,\n",
       "   'environment': 1000.0}),\n",
       " (43,\n",
       "  {'time_sample_batch': 0.0013185222148895265,\n",
       "   'time_algorithm_update': 0.029039616107940674,\n",
       "   'critic_loss': 11.946434356689453,\n",
       "   'actor_loss': -25.573005672454833,\n",
       "   'temp_loss': 0.002094591738336021,\n",
       "   'temp': 0.029923284478485586,\n",
       "   'time_step': 0.03047444486618042,\n",
       "   'environment': 1000.0}),\n",
       " (44,\n",
       "  {'time_sample_batch': 0.0013105151653289794,\n",
       "   'time_algorithm_update': 0.028744776487350465,\n",
       "   'critic_loss': 11.89898168182373,\n",
       "   'actor_loss': -25.695467233657837,\n",
       "   'temp_loss': 0.0016131318286352325,\n",
       "   'temp': 0.02825239334627986,\n",
       "   'time_step': 0.030175013065338135,\n",
       "   'environment': 1000.0}),\n",
       " (45,\n",
       "  {'time_sample_batch': 0.0013136768341064453,\n",
       "   'time_algorithm_update': 0.02933867883682251,\n",
       "   'critic_loss': 11.791767107963562,\n",
       "   'actor_loss': -25.83540657234192,\n",
       "   'temp_loss': 0.0008265465656440938,\n",
       "   'temp': 0.027179366504773497,\n",
       "   'time_step': 0.030769470691680907,\n",
       "   'environment': 1000.0}),\n",
       " (46,\n",
       "  {'time_sample_batch': 0.0013353006839752198,\n",
       "   'time_algorithm_update': 0.029385516166687012,\n",
       "   'critic_loss': 11.779949054718017,\n",
       "   'actor_loss': -25.96733320045471,\n",
       "   'temp_loss': 0.0007414660985814407,\n",
       "   'temp': 0.02617683419957757,\n",
       "   'time_step': 0.03084559106826782,\n",
       "   'environment': 356.0}),\n",
       " (47,\n",
       "  {'time_sample_batch': 0.0013229787349700929,\n",
       "   'time_algorithm_update': 0.029057050943374633,\n",
       "   'critic_loss': 11.717562392234802,\n",
       "   'actor_loss': -26.109220287322998,\n",
       "   'temp_loss': 0.00019543406524462624,\n",
       "   'temp': 0.02563768432661891,\n",
       "   'time_step': 0.03050404453277588,\n",
       "   'environment': 1000.0}),\n",
       " (48,\n",
       "  {'time_sample_batch': 0.0013309440612792969,\n",
       "   'time_algorithm_update': 0.0287776198387146,\n",
       "   'critic_loss': 11.74120871925354,\n",
       "   'actor_loss': -26.22362060165405,\n",
       "   'temp_loss': -0.00016947763971984387,\n",
       "   'temp': 0.02561443402990699,\n",
       "   'time_step': 0.030228352546691893,\n",
       "   'environment': 1000.0}),\n",
       " (49,\n",
       "  {'time_sample_batch': 0.001319389581680298,\n",
       "   'time_algorithm_update': 0.02869408845901489,\n",
       "   'critic_loss': 11.742623487472533,\n",
       "   'actor_loss': -26.348191333770753,\n",
       "   'temp_loss': 0.0005318739138456295,\n",
       "   'temp': 0.02545650647394359,\n",
       "   'time_step': 0.030132448434829713,\n",
       "   'environment': 1000.0}),\n",
       " (50,\n",
       "  {'time_sample_batch': 0.0013142812252044677,\n",
       "   'time_algorithm_update': 0.02925296688079834,\n",
       "   'critic_loss': 11.67505438041687,\n",
       "   'actor_loss': -26.496211887359618,\n",
       "   'temp_loss': 0.00024154159416502806,\n",
       "   'temp': 0.024974377397447824,\n",
       "   'time_step': 0.03068563199043274,\n",
       "   'environment': 1000.0}),\n",
       " (51,\n",
       "  {'time_sample_batch': 0.0013200626373291015,\n",
       "   'time_algorithm_update': 0.028889631271362303,\n",
       "   'critic_loss': 11.666295937538147,\n",
       "   'actor_loss': -26.62697399711609,\n",
       "   'temp_loss': 0.0002692246590013383,\n",
       "   'temp': 0.024512081012129785,\n",
       "   'time_step': 0.030328232526779176,\n",
       "   'environment': 1000.0}),\n",
       " (52,\n",
       "  {'time_sample_batch': 0.0013101391792297364,\n",
       "   'time_algorithm_update': 0.028833941459655763,\n",
       "   'critic_loss': 11.64750642490387,\n",
       "   'actor_loss': -26.793424140930174,\n",
       "   'temp_loss': 0.0004229569147137227,\n",
       "   'temp': 0.024185774402692914,\n",
       "   'time_step': 0.030267398834228517,\n",
       "   'environment': 1000.0}),\n",
       " (53,\n",
       "  {'time_sample_batch': 0.0013071703910827637,\n",
       "   'time_algorithm_update': 0.029057175636291503,\n",
       "   'critic_loss': 11.660362360954284,\n",
       "   'actor_loss': -26.919028911590576,\n",
       "   'temp_loss': -5.0493353744968775e-05,\n",
       "   'temp': 0.02387983942963183,\n",
       "   'time_step': 0.030483592271804808,\n",
       "   'environment': 1000.0}),\n",
       " (54,\n",
       "  {'time_sample_batch': 0.0013064022064208985,\n",
       "   'time_algorithm_update': 0.029089783191680908,\n",
       "   'critic_loss': 11.610158497810364,\n",
       "   'actor_loss': -27.0433601398468,\n",
       "   'temp_loss': 0.00022558591949928085,\n",
       "   'temp': 0.023818599035963416,\n",
       "   'time_step': 0.03051866054534912,\n",
       "   'environment': 1000.0}),\n",
       " (55,\n",
       "  {'time_sample_batch': 0.0013242981433868408,\n",
       "   'time_algorithm_update': 0.0288453893661499,\n",
       "   'critic_loss': 11.576998382091523,\n",
       "   'actor_loss': -27.201552904129027,\n",
       "   'temp_loss': -2.833361501689069e-05,\n",
       "   'temp': 0.023713928140699864,\n",
       "   'time_step': 0.030289189815521242,\n",
       "   'environment': 1000.0}),\n",
       " (56,\n",
       "  {'time_sample_batch': 0.00130910325050354,\n",
       "   'time_algorithm_update': 0.02895627760887146,\n",
       "   'critic_loss': 11.618152209281922,\n",
       "   'actor_loss': -27.33230153846741,\n",
       "   'temp_loss': 0.00024339049532136415,\n",
       "   'temp': 0.023413974180817605,\n",
       "   'time_step': 0.03038721489906311,\n",
       "   'environment': 1000.0}),\n",
       " (57,\n",
       "  {'time_sample_batch': 0.0013254494667053222,\n",
       "   'time_algorithm_update': 0.02904078149795532,\n",
       "   'critic_loss': 11.516037114143371,\n",
       "   'actor_loss': -27.461596815109253,\n",
       "   'temp_loss': 0.000146485868099262,\n",
       "   'temp': 0.023316279239952564,\n",
       "   'time_step': 0.030488136768341063,\n",
       "   'environment': 1000.0}),\n",
       " (58,\n",
       "  {'time_sample_batch': 0.0013283283710479735,\n",
       "   'time_algorithm_update': 0.02917875552177429,\n",
       "   'critic_loss': 11.598431992530823,\n",
       "   'actor_loss': -27.600929386138915,\n",
       "   'temp_loss': -6.835509639495286e-05,\n",
       "   'temp': 0.02324874628148973,\n",
       "   'time_step': 0.0306326858997345,\n",
       "   'environment': 1000.0}),\n",
       " (59,\n",
       "  {'time_sample_batch': 0.0013019702434539796,\n",
       "   'time_algorithm_update': 0.028907155752182008,\n",
       "   'critic_loss': 11.548102305412293,\n",
       "   'actor_loss': -27.728793025970457,\n",
       "   'temp_loss': 0.0003107413365505636,\n",
       "   'temp': 0.023086006850004195,\n",
       "   'time_step': 0.030330187559127808,\n",
       "   'environment': 1000.0}),\n",
       " (60,\n",
       "  {'time_sample_batch': 0.0013486273288726806,\n",
       "   'time_algorithm_update': 0.029197453498840332,\n",
       "   'critic_loss': 11.523018184661865,\n",
       "   'actor_loss': -27.827040252685546,\n",
       "   'temp_loss': 6.154815302579664e-05,\n",
       "   'temp': 0.022726330295205117,\n",
       "   'time_step': 0.030669642210006714,\n",
       "   'environment': 1000.0}),\n",
       " (61,\n",
       "  {'time_sample_batch': 0.0013078622817993164,\n",
       "   'time_algorithm_update': 0.028600977182388305,\n",
       "   'critic_loss': 11.52091501045227,\n",
       "   'actor_loss': -27.950827058792115,\n",
       "   'temp_loss': -0.00011299245533155045,\n",
       "   'temp': 0.02279011020064354,\n",
       "   'time_step': 0.030030423164367676,\n",
       "   'environment': 1000.0}),\n",
       " (62,\n",
       "  {'time_sample_batch': 0.0013118512630462646,\n",
       "   'time_algorithm_update': 0.0289910626411438,\n",
       "   'critic_loss': 11.468515693664552,\n",
       "   'actor_loss': -28.09020807647705,\n",
       "   'temp_loss': -0.00034094297078991076,\n",
       "   'temp': 0.022976778347045184,\n",
       "   'time_step': 0.0304220814704895,\n",
       "   'environment': 1000.0}),\n",
       " (63,\n",
       "  {'time_sample_batch': 0.0013235018253326416,\n",
       "   'time_algorithm_update': 0.02902979803085327,\n",
       "   'critic_loss': 11.479088950157166,\n",
       "   'actor_loss': -28.22002530670166,\n",
       "   'temp_loss': -0.0004670552133611636,\n",
       "   'temp': 0.023831548685207964,\n",
       "   'time_step': 0.030471760511398317,\n",
       "   'environment': 1000.0}),\n",
       " (64,\n",
       "  {'time_sample_batch': 0.0013070311546325684,\n",
       "   'time_algorithm_update': 0.028693520069122316,\n",
       "   'critic_loss': 11.471344524383545,\n",
       "   'actor_loss': -28.32613203239441,\n",
       "   'temp_loss': 0.0001404855341243092,\n",
       "   'temp': 0.023866493627429007,\n",
       "   'time_step': 0.0301176176071167,\n",
       "   'environment': 1000.0}),\n",
       " (65,\n",
       "  {'time_sample_batch': 0.0013149304389953613,\n",
       "   'time_algorithm_update': 0.028625224590301514,\n",
       "   'critic_loss': 11.431171337604523,\n",
       "   'actor_loss': -28.47514186668396,\n",
       "   'temp_loss': -0.00027646382176317277,\n",
       "   'temp': 0.02397102390602231,\n",
       "   'time_step': 0.030055301666259766,\n",
       "   'environment': 1000.0}),\n",
       " (66,\n",
       "  {'time_sample_batch': 0.0013517346382141114,\n",
       "   'time_algorithm_update': 0.029496185779571533,\n",
       "   'critic_loss': 11.414050713539124,\n",
       "   'actor_loss': -28.599813793182374,\n",
       "   'temp_loss': 6.233840121421963e-05,\n",
       "   'temp': 0.024198558922857046,\n",
       "   'time_step': 0.030971457481384277,\n",
       "   'environment': 1000.0}),\n",
       " (67,\n",
       "  {'time_sample_batch': 0.0013109264373779297,\n",
       "   'time_algorithm_update': 0.029053021430969238,\n",
       "   'critic_loss': 11.42018852519989,\n",
       "   'actor_loss': -28.757533262252807,\n",
       "   'temp_loss': 0.00018252897873026087,\n",
       "   'temp': 0.02393289177119732,\n",
       "   'time_step': 0.03048545241355896,\n",
       "   'environment': 1000.0}),\n",
       " (68,\n",
       "  {'time_sample_batch': 0.0013310978412628175,\n",
       "   'time_algorithm_update': 0.028887168407440187,\n",
       "   'critic_loss': 11.409528813362122,\n",
       "   'actor_loss': -28.861771821975708,\n",
       "   'temp_loss': 2.361289196414873e-05,\n",
       "   'temp': 0.023840552089735866,\n",
       "   'time_step': 0.03034254837036133,\n",
       "   'environment': 1000.0}),\n",
       " (69,\n",
       "  {'time_sample_batch': 0.0013220787048339843,\n",
       "   'time_algorithm_update': 0.029086366176605226,\n",
       "   'critic_loss': 11.32676621723175,\n",
       "   'actor_loss': -29.032263807296754,\n",
       "   'temp_loss': -0.0001900471172411926,\n",
       "   'temp': 0.024072986828163265,\n",
       "   'time_step': 0.030527695894241334,\n",
       "   'environment': 1000.0}),\n",
       " (70,\n",
       "  {'time_sample_batch': 0.0013459441661834717,\n",
       "   'time_algorithm_update': 0.0289703688621521,\n",
       "   'critic_loss': 11.415818501472474,\n",
       "   'actor_loss': -29.16289535331726,\n",
       "   'temp_loss': -1.545909349806607e-05,\n",
       "   'temp': 0.024136701317504047,\n",
       "   'time_step': 0.030444900512695314,\n",
       "   'environment': 843.2}),\n",
       " (71,\n",
       "  {'time_sample_batch': 0.001342599391937256,\n",
       "   'time_algorithm_update': 0.029022494792938232,\n",
       "   'critic_loss': 11.455458961486816,\n",
       "   'actor_loss': -29.304133234024047,\n",
       "   'temp_loss': -4.561013224156341e-05,\n",
       "   'temp': 0.02421496366709471,\n",
       "   'time_step': 0.03048480463027954,\n",
       "   'environment': 1000.0}),\n",
       " (72,\n",
       "  {'time_sample_batch': 0.0013253574371337891,\n",
       "   'time_algorithm_update': 0.02899630832672119,\n",
       "   'critic_loss': 11.384080378055572,\n",
       "   'actor_loss': -29.42828153038025,\n",
       "   'temp_loss': 7.087979635980446e-05,\n",
       "   'temp': 0.024130912305787205,\n",
       "   'time_step': 0.030439755916595458,\n",
       "   'environment': 1000.0}),\n",
       " (73,\n",
       "  {'time_sample_batch': 0.0013134560585021972,\n",
       "   'time_algorithm_update': 0.028971977949142455,\n",
       "   'critic_loss': 11.449109577655792,\n",
       "   'actor_loss': -29.558220611572267,\n",
       "   'temp_loss': -0.00019006387177796568,\n",
       "   'temp': 0.02394737599045038,\n",
       "   'time_step': 0.030407978773117066,\n",
       "   'environment': 1000.0}),\n",
       " (74,\n",
       "  {'time_sample_batch': 0.0013373539447784424,\n",
       "   'time_algorithm_update': 0.029038960695266725,\n",
       "   'critic_loss': 11.595099974155426,\n",
       "   'actor_loss': -29.65836895942688,\n",
       "   'temp_loss': -1.3037825272476766e-05,\n",
       "   'temp': 0.024318929059430956,\n",
       "   'time_step': 0.030497502565383913,\n",
       "   'environment': 1000.0}),\n",
       " (75,\n",
       "  {'time_sample_batch': 0.0013351869583129884,\n",
       "   'time_algorithm_update': 0.028891746044158936,\n",
       "   'critic_loss': 11.590305266857147,\n",
       "   'actor_loss': -29.791629682540893,\n",
       "   'temp_loss': 5.536111006949796e-05,\n",
       "   'temp': 0.02434766431339085,\n",
       "   'time_step': 0.030349915266036986,\n",
       "   'environment': 1000.0}),\n",
       " (76,\n",
       "  {'time_sample_batch': 0.0012919421195983886,\n",
       "   'time_algorithm_update': 0.02853786897659302,\n",
       "   'critic_loss': 11.574824549198151,\n",
       "   'actor_loss': -29.890268991470336,\n",
       "   'temp_loss': 3.3502001737360844e-05,\n",
       "   'temp': 0.024165087031200527,\n",
       "   'time_step': 0.029950140953063965,\n",
       "   'environment': 1000.0}),\n",
       " (77,\n",
       "  {'time_sample_batch': 0.001321277379989624,\n",
       "   'time_algorithm_update': 0.02910688638687134,\n",
       "   'critic_loss': 11.707081589698792,\n",
       "   'actor_loss': -30.00660200881958,\n",
       "   'temp_loss': -0.0003295275292766746,\n",
       "   'temp': 0.024461009811609983,\n",
       "   'time_step': 0.03055733346939087,\n",
       "   'environment': 1000.0}),\n",
       " (78,\n",
       "  {'time_sample_batch': 0.0013227455615997315,\n",
       "   'time_algorithm_update': 0.029203693628311156,\n",
       "   'critic_loss': 11.66774048948288,\n",
       "   'actor_loss': -30.148250595092772,\n",
       "   'temp_loss': -6.177803445461905e-05,\n",
       "   'temp': 0.02465869801864028,\n",
       "   'time_step': 0.03064865255355835,\n",
       "   'environment': 1000.0}),\n",
       " (79,\n",
       "  {'time_sample_batch': 0.0013156158924102783,\n",
       "   'time_algorithm_update': 0.02934232831001282,\n",
       "   'critic_loss': 11.618344749927521,\n",
       "   'actor_loss': -30.283020124435424,\n",
       "   'temp_loss': -0.0002437065061312751,\n",
       "   'temp': 0.024919252522289752,\n",
       "   'time_step': 0.030776994943618775,\n",
       "   'environment': 1000.0}),\n",
       " (80,\n",
       "  {'time_sample_batch': 0.0013136796951293945,\n",
       "   'time_algorithm_update': 0.029021081447601318,\n",
       "   'critic_loss': 11.965358726024627,\n",
       "   'actor_loss': -30.437624547958375,\n",
       "   'temp_loss': 1.8264526916027534e-05,\n",
       "   'temp': 0.02507776993699372,\n",
       "   'time_step': 0.0304559690952301,\n",
       "   'environment': 1000.0}),\n",
       " (81,\n",
       "  {'time_sample_batch': 0.0013356885910034179,\n",
       "   'time_algorithm_update': 0.028770918130874634,\n",
       "   'critic_loss': 11.828634513378143,\n",
       "   'actor_loss': -30.566759504318238,\n",
       "   'temp_loss': -0.00046074747567763553,\n",
       "   'temp': 0.02525609335117042,\n",
       "   'time_step': 0.030226783514022828,\n",
       "   'environment': 1000.0}),\n",
       " (82,\n",
       "  {'time_sample_batch': 0.0013295481204986573,\n",
       "   'time_algorithm_update': 0.029069761514663697,\n",
       "   'critic_loss': 11.8398662276268,\n",
       "   'actor_loss': -30.702923191070557,\n",
       "   'temp_loss': -0.00024091936890908983,\n",
       "   'temp': 0.025787072740495205,\n",
       "   'time_step': 0.030516877889633177,\n",
       "   'environment': 1000.0}),\n",
       " (83,\n",
       "  {'time_sample_batch': 0.0012900965213775634,\n",
       "   'time_algorithm_update': 0.028759459018707276,\n",
       "   'critic_loss': 12.00284884405136,\n",
       "   'actor_loss': -30.798004289627077,\n",
       "   'temp_loss': 0.00024828542109025874,\n",
       "   'temp': 0.025809416031464933,\n",
       "   'time_step': 0.030168914556503296,\n",
       "   'environment': 1000.0}),\n",
       " (84,\n",
       "  {'time_sample_batch': 0.0013294861316680909,\n",
       "   'time_algorithm_update': 0.029231295347213745,\n",
       "   'critic_loss': 11.996945919036865,\n",
       "   'actor_loss': -30.925901903152464,\n",
       "   'temp_loss': 1.7376948235323653e-05,\n",
       "   'temp': 0.025666920786723495,\n",
       "   'time_step': 0.030681381225585936,\n",
       "   'environment': 1000.0}),\n",
       " (85,\n",
       "  {'time_sample_batch': 0.0013201067447662354,\n",
       "   'time_algorithm_update': 0.028860633850097656,\n",
       "   'critic_loss': 11.939756704807282,\n",
       "   'actor_loss': -31.062000974655152,\n",
       "   'temp_loss': 0.00019113936966459733,\n",
       "   'temp': 0.02547392206825316,\n",
       "   'time_step': 0.030300684690475463,\n",
       "   'environment': 1000.0}),\n",
       " (86,\n",
       "  {'time_sample_batch': 0.0013043162822723388,\n",
       "   'time_algorithm_update': 0.028774370908737183,\n",
       "   'critic_loss': 12.078014575004577,\n",
       "   'actor_loss': -31.2052380027771,\n",
       "   'temp_loss': 0.000352936744588078,\n",
       "   'temp': 0.025041326520964503,\n",
       "   'time_step': 0.03019897484779358,\n",
       "   'environment': 1000.0}),\n",
       " (87,\n",
       "  {'time_sample_batch': 0.0012965664863586427,\n",
       "   'time_algorithm_update': 0.02854969787597656,\n",
       "   'critic_loss': 12.03407151412964,\n",
       "   'actor_loss': -31.3758056640625,\n",
       "   'temp_loss': 4.1928671285859306e-05,\n",
       "   'temp': 0.0247934747338295,\n",
       "   'time_step': 0.029968239068984985,\n",
       "   'environment': 1000.0}),\n",
       " (88,\n",
       "  {'time_sample_batch': 0.0013380560874938965,\n",
       "   'time_algorithm_update': 0.02939081406593323,\n",
       "   'critic_loss': 12.007355035305023,\n",
       "   'actor_loss': -31.5105221157074,\n",
       "   'temp_loss': -9.435445640701801e-05,\n",
       "   'temp': 0.02488178875669837,\n",
       "   'time_step': 0.03085547137260437,\n",
       "   'environment': 1000.0}),\n",
       " (89,\n",
       "  {'time_sample_batch': 0.0013343122005462647,\n",
       "   'time_algorithm_update': 0.02938710379600525,\n",
       "   'critic_loss': 11.906162487506867,\n",
       "   'actor_loss': -31.65620103263855,\n",
       "   'temp_loss': -3.388809585158014e-05,\n",
       "   'temp': 0.024994607442989945,\n",
       "   'time_step': 0.030841920375823974,\n",
       "   'environment': 1000.0}),\n",
       " (90,\n",
       "  {'time_sample_batch': 0.001297518014907837,\n",
       "   'time_algorithm_update': 0.029458569526672362,\n",
       "   'critic_loss': 12.128769470214843,\n",
       "   'actor_loss': -31.77360299682617,\n",
       "   'temp_loss': -0.00026050907786702736,\n",
       "   'temp': 0.025206213910132648,\n",
       "   'time_step': 0.030877938747406006,\n",
       "   'environment': 1000.0}),\n",
       " (91,\n",
       "  {'time_sample_batch': 0.0012949767112731933,\n",
       "   'time_algorithm_update': 0.028795252323150635,\n",
       "   'critic_loss': 11.952197537899018,\n",
       "   'actor_loss': -31.932605003356933,\n",
       "   'temp_loss': -0.0004893926265940536,\n",
       "   'temp': 0.025747925458475946,\n",
       "   'time_step': 0.03021109366416931,\n",
       "   'environment': 1000.0}),\n",
       " (92,\n",
       "  {'time_sample_batch': 0.0013198308944702148,\n",
       "   'time_algorithm_update': 0.029933277130126952,\n",
       "   'critic_loss': 12.027028230190277,\n",
       "   'actor_loss': -32.085388359069825,\n",
       "   'temp_loss': -0.00019251930611790158,\n",
       "   'temp': 0.026125066313892602,\n",
       "   'time_step': 0.03137454342842102,\n",
       "   'environment': 1000.0}),\n",
       " (93,\n",
       "  {'time_sample_batch': 0.0013027858734130859,\n",
       "   'time_algorithm_update': 0.028789234399795534,\n",
       "   'critic_loss': 11.831901426315307,\n",
       "   'actor_loss': -32.23248009490967,\n",
       "   'temp_loss': 0.00020808720440982143,\n",
       "   'temp': 0.026235396932810545,\n",
       "   'time_step': 0.030215893983840943,\n",
       "   'environment': 1000.0}),\n",
       " (94,\n",
       "  {'time_sample_batch': 0.0012993052005767821,\n",
       "   'time_algorithm_update': 0.0286315393447876,\n",
       "   'critic_loss': 11.79165793466568,\n",
       "   'actor_loss': -32.37101475143432,\n",
       "   'temp_loss': 0.00023827012680703775,\n",
       "   'temp': 0.025889091309159996,\n",
       "   'time_step': 0.03004998207092285,\n",
       "   'environment': 1000.0}),\n",
       " (95,\n",
       "  {'time_sample_batch': 0.0012897751331329345,\n",
       "   'time_algorithm_update': 0.028969187021255494,\n",
       "   'critic_loss': 11.863788697242736,\n",
       "   'actor_loss': -32.50298049736023,\n",
       "   'temp_loss': -0.0003579034282665816,\n",
       "   'temp': 0.026076227819547056,\n",
       "   'time_step': 0.030379172563552857,\n",
       "   'environment': 1000.0}),\n",
       " (96,\n",
       "  {'time_sample_batch': 0.0013272910118103027,\n",
       "   'time_algorithm_update': 0.029215741395950318,\n",
       "   'critic_loss': 12.126333135128021,\n",
       "   'actor_loss': -32.57068603515625,\n",
       "   'temp_loss': 0.00019532065464591142,\n",
       "   'temp': 0.026222419725731014,\n",
       "   'time_step': 0.03066615605354309,\n",
       "   'environment': 1000.0}),\n",
       " (97,\n",
       "  {'time_sample_batch': 0.0013316833972930907,\n",
       "   'time_algorithm_update': 0.02941658115386963,\n",
       "   'critic_loss': 11.95138859796524,\n",
       "   'actor_loss': -32.67639723014832,\n",
       "   'temp_loss': -5.9611356671666725e-05,\n",
       "   'temp': 0.025943754870444535,\n",
       "   'time_step': 0.030868598222732545,\n",
       "   'environment': 1000.0}),\n",
       " (98,\n",
       "  {'time_sample_batch': 0.0012914433479309082,\n",
       "   'time_algorithm_update': 0.028616055250167846,\n",
       "   'critic_loss': 12.18049320268631,\n",
       "   'actor_loss': -32.748934175491335,\n",
       "   'temp_loss': -0.0005151672189240344,\n",
       "   'temp': 0.026476903000846506,\n",
       "   'time_step': 0.03002556324005127,\n",
       "   'environment': 1000.0}),\n",
       " (99,\n",
       "  {'time_sample_batch': 0.0013295726776123046,\n",
       "   'time_algorithm_update': 0.029362735509872437,\n",
       "   'critic_loss': 12.186915818214416,\n",
       "   'actor_loss': -32.85153619003296,\n",
       "   'temp_loss': -1.2615893807378598e-05,\n",
       "   'temp': 0.02696601510234177,\n",
       "   'time_step': 0.03081584620475769,\n",
       "   'environment': 1000.0}),\n",
       " (100,\n",
       "  {'time_sample_batch': 0.0013297867774963378,\n",
       "   'time_algorithm_update': 0.029213391304016113,\n",
       "   'critic_loss': 12.268741159915924,\n",
       "   'actor_loss': -32.98735144805908,\n",
       "   'temp_loss': 0.00033988956674875227,\n",
       "   'temp': 0.026612394601106645,\n",
       "   'time_step': 0.030665696382522582,\n",
       "   'environment': 1000.0})]"
      ]
     },
     "execution_count": 21,
     "metadata": {},
     "output_type": "execute_result"
    }
   ],
   "source": [
    "combo.fit(dataset = train_episodes, eval_episodes=test_episodes, n_steps=100000, n_steps_per_epoch=1000, tensorboard_dir=\"tensorboard_logs\",\n",
    "         scorers={\n",
    "            'environment': d3rlpy.metrics.scorer.evaluate_on_environment(eval_env)\n",
    "        })"
   ]
  },
  {
   "cell_type": "markdown",
   "id": "975eb780-5bf9-4dce-a157-2a3391301db6",
   "metadata": {},
   "source": [
    "## Load the Policy"
   ]
  },
  {
   "cell_type": "code",
   "execution_count": 9,
   "id": "307e723b-9836-489a-b6de-d66d7cf6dd22",
   "metadata": {},
   "outputs": [],
   "source": [
    "trained_policy = COMBO()\n",
    "# initialize with dataset\n",
    "trained_policy.build_with_dataset(dataset)\n",
    "# Load entire model parameters.\n",
    "trained_policy.load_model('d3rlpy_logs/COMBO_20230929153035/model_53000.pt')"
   ]
  },
  {
   "cell_type": "markdown",
   "id": "1c0b5477-7e6c-4701-a2f3-a0df1f357aa1",
   "metadata": {},
   "source": [
    "## See the policy running"
   ]
  },
  {
   "cell_type": "code",
   "execution_count": 10,
   "id": "a11e69dd-55a6-4c4b-a2a3-fe66e4626a0d",
   "metadata": {},
   "outputs": [],
   "source": [
    "scorer = d3rlpy.metrics.scorer.evaluate_on_environment(eval_env, render=True)\n",
    "mean_episode_return = scorer(trained_policy)"
   ]
  }
 ],
 "metadata": {
  "kernelspec": {
   "display_name": "Python 3 (ipykernel)",
   "language": "python",
   "name": "python3"
  },
  "language_info": {
   "codemirror_mode": {
    "name": "ipython",
    "version": 3
   },
   "file_extension": ".py",
   "mimetype": "text/x-python",
   "name": "python",
   "nbconvert_exporter": "python",
   "pygments_lexer": "ipython3",
   "version": "3.8.16"
  }
 },
 "nbformat": 4,
 "nbformat_minor": 5
}
