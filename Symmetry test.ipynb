{
 "cells": [
  {
   "cell_type": "code",
   "execution_count": 3,
   "id": "3cef1889",
   "metadata": {},
   "outputs": [],
   "source": [
    "import d3rlpy\n",
    "from d3rlpy.algos import COMBO\n",
    "from sklearn.model_selection import train_test_split\n",
    "import gymnasium as gym\n",
    "import numpy as np\n",
    "import encoders"
   ]
  },
  {
   "cell_type": "markdown",
   "id": "47a5f2b7-f1c9-4c90-b9ff-a0991612c559",
   "metadata": {},
   "source": [
    "## Params"
   ]
  },
  {
   "cell_type": "code",
   "execution_count": 5,
   "id": "6547464d-8f48-46fd-b606-f121a3cd53f2",
   "metadata": {},
   "outputs": [
    {
     "data": {
      "text/plain": [
       "(array([ 0.00023643,  0.00900927, -0.00711681,  0.00897299]), {})"
      ]
     },
     "execution_count": 5,
     "metadata": {},
     "output_type": "execute_result"
    }
   ],
   "source": [
    "seed = 1\n",
    "d3rlpy.seed(seed)\n",
    "use_gpu = True\n",
    "# prepare environment\n",
    "env = gym.make(\"InvertedPendulum-v4\")\n",
    "eval_env = gym.make(\"InvertedPendulum-v4\")\n",
    "env.reset(seed=seed)\n",
    "eval_env.reset(seed=seed)"
   ]
  },
  {
   "cell_type": "markdown",
   "id": "c35492fa-eb11-45b6-b1bc-50b9d9893ab5",
   "metadata": {},
   "source": [
    "## Create dataset"
   ]
  },
  {
   "cell_type": "code",
   "execution_count": 14,
   "id": "133dc7a7-22c1-4bc8-a90c-9ebcce88928a",
   "metadata": {
    "scrolled": true
   },
   "outputs": [
    {
     "name": "stdout",
     "output_type": "stream",
     "text": [
      "\u001b[2m2023-10-01 15:22:21\u001b[0m [\u001b[32m\u001b[1minfo     \u001b[0m] \u001b[1mDirectory is created at d3rlpy_logs/SAC_online_20231001152221\u001b[0m\n",
      "\u001b[2m2023-10-01 15:22:21\u001b[0m [\u001b[32m\u001b[1mdebug    \u001b[0m] \u001b[1mBuilding model...\u001b[0m\n",
      "\u001b[2m2023-10-01 15:22:21\u001b[0m [\u001b[32m\u001b[1mdebug    \u001b[0m] \u001b[1mModel has been built.\u001b[0m\n",
      "\u001b[2m2023-10-01 15:22:21\u001b[0m [\u001b[32m\u001b[1minfo     \u001b[0m] \u001b[1mParameters are saved to d3rlpy_logs/SAC_online_20231001152221/params.json\u001b[0m \u001b[36mparams\u001b[0m=\u001b[35m{'action_scaler': None, 'actor_encoder_factory': {'type': 'default', 'params': {'activation': 'relu', 'use_batch_norm': False, 'dropout_rate': 0.2}}, 'actor_learning_rate': 0.0003, 'actor_optim_factory': {'optim_cls': 'Adam', 'betas': (0.9, 0.999), 'eps': 1e-08, 'weight_decay': 0, 'amsgrad': False}, 'batch_size': 256, 'critic_encoder_factory': {'type': 'default', 'params': {'activation': 'relu', 'use_batch_norm': False, 'dropout_rate': None}}, 'critic_learning_rate': 0.0003, 'critic_optim_factory': {'optim_cls': 'Adam', 'betas': (0.9, 0.999), 'eps': 1e-08, 'weight_decay': 0, 'amsgrad': False}, 'gamma': 0.99, 'generated_maxlen': 100000, 'initial_temperature': 1.0, 'n_critics': 2, 'n_frames': 1, 'n_steps': 1, 'q_func_factory': {'type': 'mean', 'params': {'share_encoder': False}}, 'real_ratio': 1.0, 'reward_scaler': None, 'scaler': None, 'tau': 0.005, 'temp_learning_rate': 0.0003, 'temp_optim_factory': {'optim_cls': 'Adam', 'betas': (0.9, 0.999), 'eps': 1e-08, 'weight_decay': 0, 'amsgrad': False}, 'use_gpu': 0, 'algorithm': 'SAC', 'observation_shape': (4,), 'action_size': 1}\u001b[0m\n"
     ]
    },
    {
     "data": {
      "application/vnd.jupyter.widget-view+json": {
       "model_id": "3eda34dfd49143f9a5a58ebe39e0607d",
       "version_major": 2,
       "version_minor": 0
      },
      "text/plain": [
       "  0%|          | 0/100000 [00:00<?, ?it/s]"
      ]
     },
     "metadata": {},
     "output_type": "display_data"
    },
    {
     "name": "stdout",
     "output_type": "stream",
     "text": [
      "\u001b[2m2023-10-01 15:22:23\u001b[0m [\u001b[32m\u001b[1minfo     \u001b[0m] \u001b[1mModel parameters are saved to d3rlpy_logs/SAC_online_20231001152221/model_1000.pt\u001b[0m\n",
      "\u001b[2m2023-10-01 15:22:23\u001b[0m [\u001b[32m\u001b[1minfo     \u001b[0m] \u001b[1mSAC_online_20231001152221: epoch=1 step=1000\u001b[0m \u001b[36mepoch\u001b[0m=\u001b[35m1\u001b[0m \u001b[36mmetrics\u001b[0m=\u001b[35m{'time_inference': 0.0011901423931121827, 'time_environment_step': 6.751775741577148e-05, 'time_step': 0.0013019063472747804, 'rollout_return': 10.06060606060606, 'evaluation': 14.7}\u001b[0m \u001b[36mstep\u001b[0m=\u001b[35m1000\u001b[0m\n",
      "\u001b[2m2023-10-01 15:22:37\u001b[0m [\u001b[32m\u001b[1minfo     \u001b[0m] \u001b[1mModel parameters are saved to d3rlpy_logs/SAC_online_20231001152221/model_2000.pt\u001b[0m\n",
      "\u001b[2m2023-10-01 15:22:37\u001b[0m [\u001b[32m\u001b[1minfo     \u001b[0m] \u001b[1mSAC_online_20231001152221: epoch=2 step=2000\u001b[0m \u001b[36mepoch\u001b[0m=\u001b[35m2\u001b[0m \u001b[36mmetrics\u001b[0m=\u001b[35m{'time_inference': 0.0012940735816955567, 'time_environment_step': 0.0001036219596862793, 'time_sample_batch': 0.000309492826461792, 'time_algorithm_update': 0.011871881484985351, 'temp_loss': 1.372351692557335, 'temp': 0.8709251883625985, 'critic_loss': 0.6754881671965122, 'actor_loss': -4.277053299486637, 'time_step': 0.013659589290618897, 'rollout_return': 17.75, 'evaluation': 102.4}\u001b[0m \u001b[36mstep\u001b[0m=\u001b[35m2000\u001b[0m\n",
      "\u001b[2m2023-10-01 15:22:53\u001b[0m [\u001b[32m\u001b[1minfo     \u001b[0m] \u001b[1mModel parameters are saved to d3rlpy_logs/SAC_online_20231001152221/model_3000.pt\u001b[0m\n",
      "\u001b[2m2023-10-01 15:22:53\u001b[0m [\u001b[32m\u001b[1minfo     \u001b[0m] \u001b[1mSAC_online_20231001152221: epoch=3 step=3000\u001b[0m \u001b[36mepoch\u001b[0m=\u001b[35m3\u001b[0m \u001b[36mmetrics\u001b[0m=\u001b[35m{'time_inference': 0.0012899088859558107, 'time_environment_step': 0.00010215139389038086, 'time_sample_batch': 0.000309767484664917, 'time_algorithm_update': 0.012055092096328735, 'temp_loss': 0.8108092472553253, 'temp': 0.6857617096304893, 'critic_loss': 1.1177948338985444, 'actor_loss': -9.170573462963103, 'time_step': 0.01383228874206543, 'rollout_return': 73.46153846153847, 'evaluation': 132.4}\u001b[0m \u001b[36mstep\u001b[0m=\u001b[35m3000\u001b[0m\n",
      "\u001b[2m2023-10-01 15:23:07\u001b[0m [\u001b[32m\u001b[1minfo     \u001b[0m] \u001b[1mModel parameters are saved to d3rlpy_logs/SAC_online_20231001152221/model_4000.pt\u001b[0m\n",
      "\u001b[2m2023-10-01 15:23:07\u001b[0m [\u001b[32m\u001b[1minfo     \u001b[0m] \u001b[1mSAC_online_20231001152221: epoch=4 step=4000\u001b[0m \u001b[36mepoch\u001b[0m=\u001b[35m4\u001b[0m \u001b[36mmetrics\u001b[0m=\u001b[35m{'time_inference': 0.0012657759189605713, 'time_environment_step': 9.972095489501953e-05, 'time_sample_batch': 0.00030119752883911135, 'time_algorithm_update': 0.011776572465896607, 'temp_loss': 0.5837074246704579, 'temp': 0.5557751391232014, 'critic_loss': 1.533628692805767, 'actor_loss': -13.864378927230835, 'time_step': 0.01351675510406494, 'rollout_return': 94.63636363636364, 'evaluation': 93.8}\u001b[0m \u001b[36mstep\u001b[0m=\u001b[35m4000\u001b[0m\n",
      "\u001b[2m2023-10-01 15:23:22\u001b[0m [\u001b[32m\u001b[1minfo     \u001b[0m] \u001b[1mModel parameters are saved to d3rlpy_logs/SAC_online_20231001152221/model_5000.pt\u001b[0m\n",
      "\u001b[2m2023-10-01 15:23:22\u001b[0m [\u001b[32m\u001b[1minfo     \u001b[0m] \u001b[1mSAC_online_20231001152221: epoch=5 step=5000\u001b[0m \u001b[36mepoch\u001b[0m=\u001b[35m5\u001b[0m \u001b[36mmetrics\u001b[0m=\u001b[35m{'time_inference': 0.0012885859012603759, 'time_environment_step': 0.00010159516334533691, 'time_sample_batch': 0.0003136289119720459, 'time_algorithm_update': 0.011855640172958374, 'temp_loss': 0.45773815312981603, 'temp': 0.4498633497953415, 'critic_loss': 1.8150158460140229, 'actor_loss': -17.8761327791214, 'time_step': 0.013634979486465455, 'rollout_return': 86.27272727272727, 'evaluation': 103.1}\u001b[0m \u001b[36mstep\u001b[0m=\u001b[35m5000\u001b[0m\n",
      "\u001b[2m2023-10-01 15:23:37\u001b[0m [\u001b[32m\u001b[1minfo     \u001b[0m] \u001b[1mModel parameters are saved to d3rlpy_logs/SAC_online_20231001152221/model_6000.pt\u001b[0m\n",
      "\u001b[2m2023-10-01 15:23:37\u001b[0m [\u001b[32m\u001b[1minfo     \u001b[0m] \u001b[1mSAC_online_20231001152221: epoch=6 step=6000\u001b[0m \u001b[36mepoch\u001b[0m=\u001b[35m6\u001b[0m \u001b[36mmetrics\u001b[0m=\u001b[35m{'time_inference': 0.0012966537475585938, 'time_environment_step': 0.00010138440132141114, 'time_sample_batch': 0.0003115527629852295, 'time_algorithm_update': 0.011819063425064088, 'temp_loss': 0.358212227717042, 'temp': 0.36285691791772845, 'critic_loss': 1.899342417806387, 'actor_loss': -21.37007289505005, 'time_step': 0.013603478431701661, 'rollout_return': 96.18181818181819, 'evaluation': 116.6}\u001b[0m \u001b[36mstep\u001b[0m=\u001b[35m6000\u001b[0m\n",
      "\u001b[2m2023-10-01 15:23:52\u001b[0m [\u001b[32m\u001b[1minfo     \u001b[0m] \u001b[1mModel parameters are saved to d3rlpy_logs/SAC_online_20231001152221/model_7000.pt\u001b[0m\n",
      "\u001b[2m2023-10-01 15:23:52\u001b[0m [\u001b[32m\u001b[1minfo     \u001b[0m] \u001b[1mSAC_online_20231001152221: epoch=7 step=7000\u001b[0m \u001b[36mepoch\u001b[0m=\u001b[35m7\u001b[0m \u001b[36mmetrics\u001b[0m=\u001b[35m{'time_inference': 0.0012800216674804688, 'time_environment_step': 0.00010001373291015625, 'time_sample_batch': 0.0003087210655212402, 'time_algorithm_update': 0.012036638498306275, 'temp_loss': 0.28317713874578476, 'temp': 0.29250052085518835, 'critic_loss': 2.0899931962490084, 'actor_loss': -24.311071113586426, 'time_step': 0.013799998998641969, 'rollout_return': 82.91666666666667, 'evaluation': 107.6}\u001b[0m \u001b[36mstep\u001b[0m=\u001b[35m7000\u001b[0m\n",
      "\u001b[2m2023-10-01 15:24:08\u001b[0m [\u001b[32m\u001b[1minfo     \u001b[0m] \u001b[1mModel parameters are saved to d3rlpy_logs/SAC_online_20231001152221/model_8000.pt\u001b[0m\n",
      "\u001b[2m2023-10-01 15:24:08\u001b[0m [\u001b[32m\u001b[1minfo     \u001b[0m] \u001b[1mSAC_online_20231001152221: epoch=8 step=8000\u001b[0m \u001b[36mepoch\u001b[0m=\u001b[35m8\u001b[0m \u001b[36mmetrics\u001b[0m=\u001b[35m{'time_inference': 0.0012845830917358398, 'time_environment_step': 0.00010135507583618163, 'time_sample_batch': 0.0003118252754211426, 'time_algorithm_update': 0.011912463188171386, 'temp_loss': 0.22093885791301726, 'temp': 0.2357307313233614, 'critic_loss': 2.1960280207395555, 'actor_loss': -26.6604845161438, 'time_step': 0.013685162782669067, 'rollout_return': 98.1, 'evaluation': 143.2}\u001b[0m \u001b[36mstep\u001b[0m=\u001b[35m8000\u001b[0m\n",
      "\u001b[2m2023-10-01 15:24:22\u001b[0m [\u001b[32m\u001b[1minfo     \u001b[0m] \u001b[1mModel parameters are saved to d3rlpy_logs/SAC_online_20231001152221/model_9000.pt\u001b[0m\n",
      "\u001b[2m2023-10-01 15:24:22\u001b[0m [\u001b[32m\u001b[1minfo     \u001b[0m] \u001b[1mSAC_online_20231001152221: epoch=9 step=9000\u001b[0m \u001b[36mepoch\u001b[0m=\u001b[35m9\u001b[0m \u001b[36mmetrics\u001b[0m=\u001b[35m{'time_inference': 0.0012705013751983642, 'time_environment_step': 0.0001005566120147705, 'time_sample_batch': 0.0003112177848815918, 'time_algorithm_update': 0.011741668701171874, 'temp_loss': 0.17324059280008078, 'temp': 0.1901256782859564, 'critic_loss': 2.30596364364028, 'actor_loss': -28.6963963432312, 'time_step': 0.01349805474281311, 'rollout_return': 86.27272727272727, 'evaluation': 81.3}\u001b[0m \u001b[36mstep\u001b[0m=\u001b[35m9000\u001b[0m\n",
      "\u001b[2m2023-10-01 15:24:37\u001b[0m [\u001b[32m\u001b[1minfo     \u001b[0m] \u001b[1mModel parameters are saved to d3rlpy_logs/SAC_online_20231001152221/model_10000.pt\u001b[0m\n",
      "\u001b[2m2023-10-01 15:24:37\u001b[0m [\u001b[32m\u001b[1minfo     \u001b[0m] \u001b[1mSAC_online_20231001152221: epoch=10 step=10000\u001b[0m \u001b[36mepoch\u001b[0m=\u001b[35m10\u001b[0m \u001b[36mmetrics\u001b[0m=\u001b[35m{'time_inference': 0.0012697782516479493, 'time_environment_step': 9.944438934326172e-05, 'time_sample_batch': 0.000316425085067749, 'time_algorithm_update': 0.011627337932586669, 'temp_loss': 0.13026943080872297, 'temp': 0.15383924965560436, 'critic_loss': 2.309779119372368, 'actor_loss': -30.206718347549437, 'time_step': 0.013386613130569458, 'rollout_return': 93.18181818181819, 'evaluation': 98.0}\u001b[0m \u001b[36mstep\u001b[0m=\u001b[35m10000\u001b[0m\n",
      "\u001b[2m2023-10-01 15:24:52\u001b[0m [\u001b[32m\u001b[1minfo     \u001b[0m] \u001b[1mModel parameters are saved to d3rlpy_logs/SAC_online_20231001152221/model_11000.pt\u001b[0m\n",
      "\u001b[2m2023-10-01 15:24:52\u001b[0m [\u001b[32m\u001b[1minfo     \u001b[0m] \u001b[1mSAC_online_20231001152221: epoch=11 step=11000\u001b[0m \u001b[36mepoch\u001b[0m=\u001b[35m11\u001b[0m \u001b[36mmetrics\u001b[0m=\u001b[35m{'time_inference': 0.001291745662689209, 'time_environment_step': 0.00010128092765808105, 'time_sample_batch': 0.0003180415630340576, 'time_algorithm_update': 0.011857429027557372, 'temp_loss': 0.09629821188002825, 'temp': 0.1253810006827116, 'critic_loss': 2.3098986571133135, 'actor_loss': -31.52900317001343, 'time_step': 0.013644043922424316, 'rollout_return': 91.18181818181819, 'evaluation': 90.9}\u001b[0m \u001b[36mstep\u001b[0m=\u001b[35m11000\u001b[0m\n",
      "\u001b[2m2023-10-01 15:25:07\u001b[0m [\u001b[32m\u001b[1minfo     \u001b[0m] \u001b[1mModel parameters are saved to d3rlpy_logs/SAC_online_20231001152221/model_12000.pt\u001b[0m\n",
      "\u001b[2m2023-10-01 15:25:07\u001b[0m [\u001b[32m\u001b[1minfo     \u001b[0m] \u001b[1mSAC_online_20231001152221: epoch=12 step=12000\u001b[0m \u001b[36mepoch\u001b[0m=\u001b[35m12\u001b[0m \u001b[36mmetrics\u001b[0m=\u001b[35m{'time_inference': 0.0012780156135559083, 'time_environment_step': 0.00010007953643798828, 'time_sample_batch': 0.0003177883625030518, 'time_algorithm_update': 0.011980226039886474, 'temp_loss': 0.06353612816147507, 'temp': 0.1036829760670662, 'critic_loss': 2.121991479098797, 'actor_loss': -32.608306131362916, 'time_step': 0.013750662565231324, 'rollout_return': 88.36363636363636, 'evaluation': 102.4}\u001b[0m \u001b[36mstep\u001b[0m=\u001b[35m12000\u001b[0m\n",
      "\u001b[2m2023-10-01 15:25:22\u001b[0m [\u001b[32m\u001b[1minfo     \u001b[0m] \u001b[1mModel parameters are saved to d3rlpy_logs/SAC_online_20231001152221/model_13000.pt\u001b[0m\n",
      "\u001b[2m2023-10-01 15:25:22\u001b[0m [\u001b[32m\u001b[1minfo     \u001b[0m] \u001b[1mSAC_online_20231001152221: epoch=13 step=13000\u001b[0m \u001b[36mepoch\u001b[0m=\u001b[35m13\u001b[0m \u001b[36mmetrics\u001b[0m=\u001b[35m{'time_inference': 0.0012961866855621337, 'time_environment_step': 0.00010209417343139648, 'time_sample_batch': 0.0003247509002685547, 'time_algorithm_update': 0.01190649676322937, 'temp_loss': 0.04122140409145504, 'temp': 0.08741505517810583, 'critic_loss': 1.8801439891457559, 'actor_loss': -33.51856735038757, 'time_step': 0.013705333948135376, 'rollout_return': 106.4, 'evaluation': 119.2}\u001b[0m \u001b[36mstep\u001b[0m=\u001b[35m13000\u001b[0m\n",
      "\u001b[2m2023-10-01 15:25:47\u001b[0m [\u001b[32m\u001b[1minfo     \u001b[0m] \u001b[1mModel parameters are saved to d3rlpy_logs/SAC_online_20231001152221/model_14000.pt\u001b[0m\n",
      "\u001b[2m2023-10-01 15:25:47\u001b[0m [\u001b[32m\u001b[1minfo     \u001b[0m] \u001b[1mSAC_online_20231001152221: epoch=14 step=14000\u001b[0m \u001b[36mepoch\u001b[0m=\u001b[35m14\u001b[0m \u001b[36mmetrics\u001b[0m=\u001b[35m{'time_inference': 0.0012894554138183595, 'time_environment_step': 0.00010109591484069824, 'time_sample_batch': 0.00032139325141906737, 'time_algorithm_update': 0.011839906454086304, 'temp_loss': 0.024604413490451407, 'temp': 0.07553552773594856, 'critic_loss': 1.8783572105765343, 'actor_loss': -34.68252446937561, 'time_step': 0.013626614332199097, 'rollout_return': 159.6, 'evaluation': 1000.0}\u001b[0m \u001b[36mstep\u001b[0m=\u001b[35m14000\u001b[0m\n",
      "\u001b[2m2023-10-01 15:26:11\u001b[0m [\u001b[32m\u001b[1minfo     \u001b[0m] \u001b[1mModel parameters are saved to d3rlpy_logs/SAC_online_20231001152221/model_15000.pt\u001b[0m\n",
      "\u001b[2m2023-10-01 15:26:11\u001b[0m [\u001b[32m\u001b[1minfo     \u001b[0m] \u001b[1mSAC_online_20231001152221: epoch=15 step=15000\u001b[0m \u001b[36mepoch\u001b[0m=\u001b[35m15\u001b[0m \u001b[36mmetrics\u001b[0m=\u001b[35m{'time_inference': 0.001263345241546631, 'time_environment_step': 0.00010004329681396485, 'time_sample_batch': 0.0003160581588745117, 'time_algorithm_update': 0.011690610885620118, 'temp_loss': 0.016068365574930795, 'temp': 0.06570748335123063, 'critic_loss': 1.8415789956599473, 'actor_loss': -36.40250539398193, 'time_step': 0.013443717956542969, 'rollout_return': 1000.0, 'evaluation': 1000.0}\u001b[0m \u001b[36mstep\u001b[0m=\u001b[35m15000\u001b[0m\n",
      "\u001b[2m2023-10-01 15:26:36\u001b[0m [\u001b[32m\u001b[1minfo     \u001b[0m] \u001b[1mModel parameters are saved to d3rlpy_logs/SAC_online_20231001152221/model_16000.pt\u001b[0m\n",
      "\u001b[2m2023-10-01 15:26:36\u001b[0m [\u001b[32m\u001b[1minfo     \u001b[0m] \u001b[1mSAC_online_20231001152221: epoch=16 step=16000\u001b[0m \u001b[36mepoch\u001b[0m=\u001b[35m16\u001b[0m \u001b[36mmetrics\u001b[0m=\u001b[35m{'time_inference': 0.0012587485313415526, 'time_environment_step': 9.934282302856445e-05, 'time_sample_batch': 0.0003176109790802002, 'time_algorithm_update': 0.011821913719177245, 'temp_loss': 0.009104163417359814, 'temp': 0.058111718989908696, 'critic_loss': 1.6198575420826673, 'actor_loss': -38.49165599441528, 'time_step': 0.013571224927902222, 'rollout_return': 1000.0, 'evaluation': 1000.0}\u001b[0m \u001b[36mstep\u001b[0m=\u001b[35m16000\u001b[0m\n",
      "\u001b[2m2023-10-01 15:27:04\u001b[0m [\u001b[32m\u001b[1minfo     \u001b[0m] \u001b[1mModel parameters are saved to d3rlpy_logs/SAC_online_20231001152221/model_17000.pt\u001b[0m\n",
      "\u001b[2m2023-10-01 15:27:04\u001b[0m [\u001b[32m\u001b[1minfo     \u001b[0m] \u001b[1mSAC_online_20231001152221: epoch=17 step=17000\u001b[0m \u001b[36mepoch\u001b[0m=\u001b[35m17\u001b[0m \u001b[36mmetrics\u001b[0m=\u001b[35m{'time_inference': 0.0012875075340270997, 'time_environment_step': 0.0001017618179321289, 'time_sample_batch': 0.0003286473751068115, 'time_algorithm_update': 0.011789792776107788, 'temp_loss': 0.0030571067291894, 'temp': 0.05340980108827353, 'critic_loss': 1.4756091482192277, 'actor_loss': -40.69719633865356, 'time_step': 0.01358266258239746, 'rollout_return': 1000.0, 'evaluation': 1000.0}\u001b[0m \u001b[36mstep\u001b[0m=\u001b[35m17000\u001b[0m\n",
      "\u001b[2m2023-10-01 15:27:32\u001b[0m [\u001b[32m\u001b[1minfo     \u001b[0m] \u001b[1mModel parameters are saved to d3rlpy_logs/SAC_online_20231001152221/model_18000.pt\u001b[0m\n",
      "\u001b[2m2023-10-01 15:27:32\u001b[0m [\u001b[32m\u001b[1minfo     \u001b[0m] \u001b[1mSAC_online_20231001152221: epoch=18 step=18000\u001b[0m \u001b[36mepoch\u001b[0m=\u001b[35m18\u001b[0m \u001b[36mmetrics\u001b[0m=\u001b[35m{'time_inference': 0.0015199744701385497, 'time_environment_step': 0.00013011598587036132, 'time_sample_batch': 0.0003768770694732666, 'time_algorithm_update': 0.013456995248794556, 'temp_loss': 0.004109807350032497, 'temp': 0.04965751627460122, 'critic_loss': 1.4583844515830278, 'actor_loss': -42.90004894256592, 'time_step': 0.015577360153198242, 'rollout_return': 1000.0, 'evaluation': 1000.0}\u001b[0m \u001b[36mstep\u001b[0m=\u001b[35m18000\u001b[0m\n",
      "\u001b[2m2023-10-01 15:28:02\u001b[0m [\u001b[32m\u001b[1minfo     \u001b[0m] \u001b[1mModel parameters are saved to d3rlpy_logs/SAC_online_20231001152221/model_19000.pt\u001b[0m\n",
      "\u001b[2m2023-10-01 15:28:02\u001b[0m [\u001b[32m\u001b[1minfo     \u001b[0m] \u001b[1mSAC_online_20231001152221: epoch=19 step=19000\u001b[0m \u001b[36mepoch\u001b[0m=\u001b[35m19\u001b[0m \u001b[36mmetrics\u001b[0m=\u001b[35m{'time_inference': 0.001505868911743164, 'time_environment_step': 0.0001278533935546875, 'time_sample_batch': 0.00037678980827331545, 'time_algorithm_update': 0.013249815225601196, 'temp_loss': 0.002764145654597087, 'temp': 0.04388263956084847, 'critic_loss': 1.572751286894083, 'actor_loss': -45.01395460510254, 'time_step': 0.01535205841064453, 'rollout_return': 1000.0, 'evaluation': 1000.0}\u001b[0m \u001b[36mstep\u001b[0m=\u001b[35m19000\u001b[0m\n",
      "\u001b[2m2023-10-01 15:28:25\u001b[0m [\u001b[32m\u001b[1minfo     \u001b[0m] \u001b[1mModel parameters are saved to d3rlpy_logs/SAC_online_20231001152221/model_20000.pt\u001b[0m\n",
      "\u001b[2m2023-10-01 15:28:25\u001b[0m [\u001b[32m\u001b[1minfo     \u001b[0m] \u001b[1mSAC_online_20231001152221: epoch=20 step=20000\u001b[0m \u001b[36mepoch\u001b[0m=\u001b[35m20\u001b[0m \u001b[36mmetrics\u001b[0m=\u001b[35m{'time_inference': 0.001631969928741455, 'time_environment_step': 0.00013533210754394532, 'time_sample_batch': 0.00039889121055603025, 'time_algorithm_update': 0.014493861436843872, 'temp_loss': 0.002729072322574211, 'temp': 0.039601853784173725, 'critic_loss': 1.4361756056249142, 'actor_loss': -46.99559575271606, 'time_step': 0.016758077144622803, 'rollout_return': 1000.0, 'evaluation': 468.2}\u001b[0m \u001b[36mstep\u001b[0m=\u001b[35m20000\u001b[0m\n",
      "\u001b[2m2023-10-01 15:28:53\u001b[0m [\u001b[32m\u001b[1minfo     \u001b[0m] \u001b[1mModel parameters are saved to d3rlpy_logs/SAC_online_20231001152221/model_21000.pt\u001b[0m\n",
      "\u001b[2m2023-10-01 15:28:53\u001b[0m [\u001b[32m\u001b[1minfo     \u001b[0m] \u001b[1mSAC_online_20231001152221: epoch=21 step=21000\u001b[0m \u001b[36mepoch\u001b[0m=\u001b[35m21\u001b[0m \u001b[36mmetrics\u001b[0m=\u001b[35m{'time_inference': 0.0015036942958831787, 'time_environment_step': 0.00012781977653503418, 'time_sample_batch': 0.0003739697933197021, 'time_algorithm_update': 0.013232558250427247, 'temp_loss': 0.0003245609441655688, 'temp': 0.03660019942373037, 'critic_loss': 1.4183675443828105, 'actor_loss': -48.93581419754028, 'time_step': 0.015329643011093139, 'rollout_return': 1000.0, 'evaluation': 1000.0}\u001b[0m \u001b[36mstep\u001b[0m=\u001b[35m21000\u001b[0m\n",
      "\u001b[2m2023-10-01 15:29:21\u001b[0m [\u001b[32m\u001b[1minfo     \u001b[0m] \u001b[1mModel parameters are saved to d3rlpy_logs/SAC_online_20231001152221/model_22000.pt\u001b[0m\n",
      "\u001b[2m2023-10-01 15:29:21\u001b[0m [\u001b[32m\u001b[1minfo     \u001b[0m] \u001b[1mSAC_online_20231001152221: epoch=22 step=22000\u001b[0m \u001b[36mepoch\u001b[0m=\u001b[35m22\u001b[0m \u001b[36mmetrics\u001b[0m=\u001b[35m{'time_inference': 0.001489870548248291, 'time_environment_step': 0.00012756681442260742, 'time_sample_batch': 0.00037317848205566405, 'time_algorithm_update': 0.012993894815444947, 'temp_loss': 0.0008033659936336335, 'temp': 0.03537613182142377, 'critic_loss': 1.3534232431203126, 'actor_loss': -50.78838407516479, 'time_step': 0.01507525086402893, 'rollout_return': 1000.0, 'evaluation': 1000.0}\u001b[0m \u001b[36mstep\u001b[0m=\u001b[35m22000\u001b[0m\n",
      "\u001b[2m2023-10-01 15:29:48\u001b[0m [\u001b[32m\u001b[1minfo     \u001b[0m] \u001b[1mModel parameters are saved to d3rlpy_logs/SAC_online_20231001152221/model_23000.pt\u001b[0m\n",
      "\u001b[2m2023-10-01 15:29:48\u001b[0m [\u001b[32m\u001b[1minfo     \u001b[0m] \u001b[1mSAC_online_20231001152221: epoch=23 step=23000\u001b[0m \u001b[36mepoch\u001b[0m=\u001b[35m23\u001b[0m \u001b[36mmetrics\u001b[0m=\u001b[35m{'time_inference': 0.0015784299373626709, 'time_environment_step': 0.00013348793983459473, 'time_sample_batch': 0.00038909029960632323, 'time_algorithm_update': 0.014010279893875122, 'temp_loss': 0.00039617146326054355, 'temp': 0.034605345126241444, 'critic_loss': 1.4811259300857782, 'actor_loss': -52.62494365310669, 'time_step': 0.0162073118686676, 'rollout_return': 1000.0, 'evaluation': 794.6}\u001b[0m \u001b[36mstep\u001b[0m=\u001b[35m23000\u001b[0m\n",
      "\u001b[2m2023-10-01 15:30:10\u001b[0m [\u001b[32m\u001b[1minfo     \u001b[0m] \u001b[1mModel parameters are saved to d3rlpy_logs/SAC_online_20231001152221/model_24000.pt\u001b[0m\n",
      "\u001b[2m2023-10-01 15:30:10\u001b[0m [\u001b[32m\u001b[1minfo     \u001b[0m] \u001b[1mSAC_online_20231001152221: epoch=24 step=24000\u001b[0m \u001b[36mepoch\u001b[0m=\u001b[35m24\u001b[0m \u001b[36mmetrics\u001b[0m=\u001b[35m{'time_inference': 0.0014922003746032715, 'time_environment_step': 0.0001288902759552002, 'time_sample_batch': 0.00037519574165344237, 'time_algorithm_update': 0.013190770864486695, 'temp_loss': 0.0006706382866541389, 'temp': 0.032973176669329404, 'critic_loss': 1.3771039422154427, 'actor_loss': -54.24206203079223, 'time_step': 0.015278664588928223, 'rollout_return': 1000.0, 'evaluation': 502.7}\u001b[0m \u001b[36mstep\u001b[0m=\u001b[35m24000\u001b[0m\n",
      "\u001b[2m2023-10-01 15:30:37\u001b[0m [\u001b[32m\u001b[1minfo     \u001b[0m] \u001b[1mModel parameters are saved to d3rlpy_logs/SAC_online_20231001152221/model_25000.pt\u001b[0m\n",
      "\u001b[2m2023-10-01 15:30:37\u001b[0m [\u001b[32m\u001b[1minfo     \u001b[0m] \u001b[1mSAC_online_20231001152221: epoch=25 step=25000\u001b[0m \u001b[36mepoch\u001b[0m=\u001b[35m25\u001b[0m \u001b[36mmetrics\u001b[0m=\u001b[35m{'time_inference': 0.0014848248958587646, 'time_environment_step': 0.00012758827209472656, 'time_sample_batch': 0.00038035178184509275, 'time_algorithm_update': 0.013267308473587036, 'temp_loss': 0.0007444279476621887, 'temp': 0.03142334542237222, 'critic_loss': 1.3404470172971488, 'actor_loss': -55.847657020568846, 'time_step': 0.015351261854171752, 'rollout_return': 1000.0, 'evaluation': 1000.0}\u001b[0m \u001b[36mstep\u001b[0m=\u001b[35m25000\u001b[0m\n",
      "\u001b[2m2023-10-01 15:31:04\u001b[0m [\u001b[32m\u001b[1minfo     \u001b[0m] \u001b[1mModel parameters are saved to d3rlpy_logs/SAC_online_20231001152221/model_26000.pt\u001b[0m\n",
      "\u001b[2m2023-10-01 15:31:04\u001b[0m [\u001b[32m\u001b[1minfo     \u001b[0m] \u001b[1mSAC_online_20231001152221: epoch=26 step=26000\u001b[0m \u001b[36mepoch\u001b[0m=\u001b[35m26\u001b[0m \u001b[36mmetrics\u001b[0m=\u001b[35m{'time_inference': 0.00149491810798645, 'time_environment_step': 0.00012801051139831542, 'time_sample_batch': 0.0003806014060974121, 'time_algorithm_update': 0.013111034870147704, 'temp_loss': 0.0001592878053197637, 'temp': 0.030067157598212362, 'critic_loss': 1.4069362076222895, 'actor_loss': -57.40740732192993, 'time_step': 0.01520560073852539, 'rollout_return': 1000.0, 'evaluation': 886.5}\u001b[0m \u001b[36mstep\u001b[0m=\u001b[35m26000\u001b[0m\n",
      "\u001b[2m2023-10-01 15:31:29\u001b[0m [\u001b[32m\u001b[1minfo     \u001b[0m] \u001b[1mModel parameters are saved to d3rlpy_logs/SAC_online_20231001152221/model_27000.pt\u001b[0m\n",
      "\u001b[2m2023-10-01 15:31:29\u001b[0m [\u001b[32m\u001b[1minfo     \u001b[0m] \u001b[1mSAC_online_20231001152221: epoch=27 step=27000\u001b[0m \u001b[36mepoch\u001b[0m=\u001b[35m27\u001b[0m \u001b[36mmetrics\u001b[0m=\u001b[35m{'time_inference': 0.0014908289909362792, 'time_environment_step': 0.00012679529190063476, 'time_sample_batch': 0.00037807488441467284, 'time_algorithm_update': 0.013025967597961426, 'temp_loss': 0.000766743356231018, 'temp': 0.028826277080923318, 'critic_loss': 1.4460408276468515, 'actor_loss': -58.86920558547973, 'time_step': 0.015111981630325318, 'rollout_return': 1000.0, 'evaluation': 748.2}\u001b[0m \u001b[36mstep\u001b[0m=\u001b[35m27000\u001b[0m\n",
      "\u001b[2m2023-10-01 15:31:53\u001b[0m [\u001b[32m\u001b[1minfo     \u001b[0m] \u001b[1mModel parameters are saved to d3rlpy_logs/SAC_online_20231001152221/model_28000.pt\u001b[0m\n",
      "\u001b[2m2023-10-01 15:31:53\u001b[0m [\u001b[32m\u001b[1minfo     \u001b[0m] \u001b[1mSAC_online_20231001152221: epoch=28 step=28000\u001b[0m \u001b[36mepoch\u001b[0m=\u001b[35m28\u001b[0m \u001b[36mmetrics\u001b[0m=\u001b[35m{'time_inference': 0.0015201213359832763, 'time_environment_step': 0.0001297025680541992, 'time_sample_batch': 0.00039102125167846677, 'time_algorithm_update': 0.013355653524398804, 'temp_loss': 0.0012804094292368973, 'temp': 0.02702664033509791, 'critic_loss': 1.3716734761744738, 'actor_loss': -60.39259987640381, 'time_step': 0.015489552736282348, 'rollout_return': 1000.0, 'evaluation': 683.8}\u001b[0m \u001b[36mstep\u001b[0m=\u001b[35m28000\u001b[0m\n",
      "\u001b[2m2023-10-01 15:32:17\u001b[0m [\u001b[32m\u001b[1minfo     \u001b[0m] \u001b[1mModel parameters are saved to d3rlpy_logs/SAC_online_20231001152221/model_29000.pt\u001b[0m\n",
      "\u001b[2m2023-10-01 15:32:17\u001b[0m [\u001b[32m\u001b[1minfo     \u001b[0m] \u001b[1mSAC_online_20231001152221: epoch=29 step=29000\u001b[0m \u001b[36mepoch\u001b[0m=\u001b[35m29\u001b[0m \u001b[36mmetrics\u001b[0m=\u001b[35m{'time_inference': 0.0015058500766754151, 'time_environment_step': 0.00012920188903808595, 'time_sample_batch': 0.0003824913501739502, 'time_algorithm_update': 0.013283085107803344, 'temp_loss': -0.00020225184074661228, 'temp': 0.02562932036072016, 'critic_loss': 1.4125643074810506, 'actor_loss': -61.72909526062012, 'time_step': 0.015393258571624756, 'rollout_return': 1000.0, 'evaluation': 641.6}\u001b[0m \u001b[36mstep\u001b[0m=\u001b[35m29000\u001b[0m\n",
      "\u001b[2m2023-10-01 15:32:46\u001b[0m [\u001b[32m\u001b[1minfo     \u001b[0m] \u001b[1mModel parameters are saved to d3rlpy_logs/SAC_online_20231001152221/model_30000.pt\u001b[0m\n",
      "\u001b[2m2023-10-01 15:32:46\u001b[0m [\u001b[32m\u001b[1minfo     \u001b[0m] \u001b[1mSAC_online_20231001152221: epoch=30 step=30000\u001b[0m \u001b[36mepoch\u001b[0m=\u001b[35m30\u001b[0m \u001b[36mmetrics\u001b[0m=\u001b[35m{'time_inference': 0.0015392446517944337, 'time_environment_step': 0.0001300055980682373, 'time_sample_batch': 0.00039946579933166504, 'time_algorithm_update': 0.013725160598754883, 'temp_loss': 0.00011999941422254778, 'temp': 0.02564549847692251, 'critic_loss': 1.2065453351587057, 'actor_loss': -63.066256729125975, 'time_step': 0.01588858985900879, 'rollout_return': 1000.0, 'evaluation': 915.5}\u001b[0m \u001b[36mstep\u001b[0m=\u001b[35m30000\u001b[0m\n",
      "\u001b[2m2023-10-01 15:33:15\u001b[0m [\u001b[32m\u001b[1minfo     \u001b[0m] \u001b[1mModel parameters are saved to d3rlpy_logs/SAC_online_20231001152221/model_31000.pt\u001b[0m\n",
      "\u001b[2m2023-10-01 15:33:15\u001b[0m [\u001b[32m\u001b[1minfo     \u001b[0m] \u001b[1mSAC_online_20231001152221: epoch=31 step=31000\u001b[0m \u001b[36mepoch\u001b[0m=\u001b[35m31\u001b[0m \u001b[36mmetrics\u001b[0m=\u001b[35m{'time_inference': 0.0016244769096374512, 'time_environment_step': 0.00013490700721740723, 'time_sample_batch': 0.0004083108901977539, 'time_algorithm_update': 0.014500389337539672, 'temp_loss': 0.0008496382686134893, 'temp': 0.024263517757877707, 'critic_loss': 1.374826895698905, 'actor_loss': -64.2961237449646, 'time_step': 0.016766147136688232, 'rollout_return': 1000.0, 'evaluation': 1000.0}\u001b[0m \u001b[36mstep\u001b[0m=\u001b[35m31000\u001b[0m\n",
      "\u001b[2m2023-10-01 15:33:39\u001b[0m [\u001b[32m\u001b[1minfo     \u001b[0m] \u001b[1mModel parameters are saved to d3rlpy_logs/SAC_online_20231001152221/model_32000.pt\u001b[0m\n",
      "\u001b[2m2023-10-01 15:33:39\u001b[0m [\u001b[32m\u001b[1minfo     \u001b[0m] \u001b[1mSAC_online_20231001152221: epoch=32 step=32000\u001b[0m \u001b[36mepoch\u001b[0m=\u001b[35m32\u001b[0m \u001b[36mmetrics\u001b[0m=\u001b[35m{'time_inference': 0.0016636185646057128, 'time_environment_step': 0.00013996315002441406, 'time_sample_batch': 0.0004166920185089111, 'time_algorithm_update': 0.014608081817626952, 'temp_loss': 0.0006153353530098685, 'temp': 0.021820062721148132, 'critic_loss': 1.2050237469673157, 'actor_loss': -65.51108281707764, 'time_step': 0.016929081916809082, 'rollout_return': 1000.0, 'evaluation': 492.9}\u001b[0m \u001b[36mstep\u001b[0m=\u001b[35m32000\u001b[0m\n",
      "\u001b[2m2023-10-01 15:34:02\u001b[0m [\u001b[32m\u001b[1minfo     \u001b[0m] \u001b[1mModel parameters are saved to d3rlpy_logs/SAC_online_20231001152221/model_33000.pt\u001b[0m\n",
      "\u001b[2m2023-10-01 15:34:02\u001b[0m [\u001b[32m\u001b[1minfo     \u001b[0m] \u001b[1mSAC_online_20231001152221: epoch=33 step=33000\u001b[0m \u001b[36mepoch\u001b[0m=\u001b[35m33\u001b[0m \u001b[36mmetrics\u001b[0m=\u001b[35m{'time_inference': 0.0016410727500915528, 'time_environment_step': 0.00013767266273498536, 'time_sample_batch': 0.0004149622917175293, 'time_algorithm_update': 0.014486916542053222, 'temp_loss': 0.0005082795943017117, 'temp': 0.021226515784859658, 'critic_loss': 1.3228138327002525, 'actor_loss': -66.67681860351563, 'time_step': 0.01678115200996399, 'rollout_return': 1000.0, 'evaluation': 499.0}\u001b[0m \u001b[36mstep\u001b[0m=\u001b[35m33000\u001b[0m\n",
      "\u001b[2m2023-10-01 15:34:30\u001b[0m [\u001b[32m\u001b[1minfo     \u001b[0m] \u001b[1mModel parameters are saved to d3rlpy_logs/SAC_online_20231001152221/model_34000.pt\u001b[0m\n",
      "\u001b[2m2023-10-01 15:34:30\u001b[0m [\u001b[32m\u001b[1minfo     \u001b[0m] \u001b[1mSAC_online_20231001152221: epoch=34 step=34000\u001b[0m \u001b[36mepoch\u001b[0m=\u001b[35m34\u001b[0m \u001b[36mmetrics\u001b[0m=\u001b[35m{'time_inference': 0.001580514430999756, 'time_environment_step': 0.00013341331481933594, 'time_sample_batch': 0.0004038724899291992, 'time_algorithm_update': 0.01411916708946228, 'temp_loss': 0.0005996875196724431, 'temp': 0.02020690314285457, 'critic_loss': 1.2442491409480572, 'actor_loss': -67.76591593170166, 'time_step': 0.016333531141281128, 'rollout_return': 1000.0, 'evaluation': 1000.0}\u001b[0m \u001b[36mstep\u001b[0m=\u001b[35m34000\u001b[0m\n",
      "\u001b[2m2023-10-01 15:34:59\u001b[0m [\u001b[32m\u001b[1minfo     \u001b[0m] \u001b[1mModel parameters are saved to d3rlpy_logs/SAC_online_20231001152221/model_35000.pt\u001b[0m\n",
      "\u001b[2m2023-10-01 15:34:59\u001b[0m [\u001b[32m\u001b[1minfo     \u001b[0m] \u001b[1mSAC_online_20231001152221: epoch=35 step=35000\u001b[0m \u001b[36mepoch\u001b[0m=\u001b[35m35\u001b[0m \u001b[36mmetrics\u001b[0m=\u001b[35m{'time_inference': 0.0016143605709075927, 'time_environment_step': 0.00013697481155395508, 'time_sample_batch': 0.000418367862701416, 'time_algorithm_update': 0.014273967027664185, 'temp_loss': -0.0004022302815137664, 'temp': 0.019385344984009862, 'critic_loss': 1.237723298072815, 'actor_loss': -68.6425823059082, 'time_step': 0.016542444229125975, 'rollout_return': 887.0, 'evaluation': 1000.0}\u001b[0m \u001b[36mstep\u001b[0m=\u001b[35m35000\u001b[0m\n",
      "\u001b[2m2023-10-01 15:35:28\u001b[0m [\u001b[32m\u001b[1minfo     \u001b[0m] \u001b[1mModel parameters are saved to d3rlpy_logs/SAC_online_20231001152221/model_36000.pt\u001b[0m\n",
      "\u001b[2m2023-10-01 15:35:28\u001b[0m [\u001b[32m\u001b[1minfo     \u001b[0m] \u001b[1mSAC_online_20231001152221: epoch=36 step=36000\u001b[0m \u001b[36mepoch\u001b[0m=\u001b[35m36\u001b[0m \u001b[36mmetrics\u001b[0m=\u001b[35m{'time_inference': 0.0015809855461120606, 'time_environment_step': 0.00013447117805480958, 'time_sample_batch': 0.000413104772567749, 'time_algorithm_update': 0.014152506351470947, 'temp_loss': 0.0004520561320678098, 'temp': 0.020097508896142244, 'critic_loss': 1.3804375614374875, 'actor_loss': -69.41147447967529, 'time_step': 0.01637778687477112, 'rollout_return': 1000.0, 'evaluation': 1000.0}\u001b[0m \u001b[36mstep\u001b[0m=\u001b[35m36000\u001b[0m\n",
      "\u001b[2m2023-10-01 15:35:58\u001b[0m [\u001b[32m\u001b[1minfo     \u001b[0m] \u001b[1mModel parameters are saved to d3rlpy_logs/SAC_online_20231001152221/model_37000.pt\u001b[0m\n",
      "\u001b[2m2023-10-01 15:35:58\u001b[0m [\u001b[32m\u001b[1minfo     \u001b[0m] \u001b[1mSAC_online_20231001152221: epoch=37 step=37000\u001b[0m \u001b[36mepoch\u001b[0m=\u001b[35m37\u001b[0m \u001b[36mmetrics\u001b[0m=\u001b[35m{'time_inference': 0.0015921900272369385, 'time_environment_step': 0.0001343250274658203, 'time_sample_batch': 0.0004141104221343994, 'time_algorithm_update': 0.014182736158370972, 'temp_loss': -0.0005101556067966158, 'temp': 0.01916636083461344, 'critic_loss': 1.2859442455619574, 'actor_loss': -70.20011572265625, 'time_step': 0.016420723676681518, 'rollout_return': 569.0, 'evaluation': 1000.0}\u001b[0m \u001b[36mstep\u001b[0m=\u001b[35m37000\u001b[0m\n",
      "\u001b[2m2023-10-01 15:36:19\u001b[0m [\u001b[32m\u001b[1minfo     \u001b[0m] \u001b[1mModel parameters are saved to d3rlpy_logs/SAC_online_20231001152221/model_38000.pt\u001b[0m\n",
      "\u001b[2m2023-10-01 15:36:19\u001b[0m [\u001b[32m\u001b[1minfo     \u001b[0m] \u001b[1mSAC_online_20231001152221: epoch=38 step=38000\u001b[0m \u001b[36mepoch\u001b[0m=\u001b[35m38\u001b[0m \u001b[36mmetrics\u001b[0m=\u001b[35m{'time_inference': 0.0015819191932678223, 'time_environment_step': 0.00013286089897155762, 'time_sample_batch': 0.000407090425491333, 'time_algorithm_update': 0.014247875928878785, 'temp_loss': 0.0004913463764969492, 'temp': 0.02012671518884599, 'critic_loss': 1.233139176145196, 'actor_loss': -71.16820149230956, 'time_step': 0.016466155290603638, 'rollout_return': 826.5, 'evaluation': 414.6}\u001b[0m \u001b[36mstep\u001b[0m=\u001b[35m38000\u001b[0m\n",
      "\u001b[2m2023-10-01 15:36:49\u001b[0m [\u001b[32m\u001b[1minfo     \u001b[0m] \u001b[1mModel parameters are saved to d3rlpy_logs/SAC_online_20231001152221/model_39000.pt\u001b[0m\n",
      "\u001b[2m2023-10-01 15:36:49\u001b[0m [\u001b[32m\u001b[1minfo     \u001b[0m] \u001b[1mSAC_online_20231001152221: epoch=39 step=39000\u001b[0m \u001b[36mepoch\u001b[0m=\u001b[35m39\u001b[0m \u001b[36mmetrics\u001b[0m=\u001b[35m{'time_inference': 0.0016320736408233642, 'time_environment_step': 0.0001335575580596924, 'time_sample_batch': 0.0004107863903045654, 'time_algorithm_update': 0.014279779434204101, 'temp_loss': -0.0008806417112064083, 'temp': 0.020387284548953177, 'critic_loss': 1.2366226878613233, 'actor_loss': -71.79280460357666, 'time_step': 0.01655353832244873, 'rollout_return': 1000.0, 'evaluation': 1000.0}\u001b[0m \u001b[36mstep\u001b[0m=\u001b[35m39000\u001b[0m\n",
      "\u001b[2m2023-10-01 15:37:18\u001b[0m [\u001b[32m\u001b[1minfo     \u001b[0m] \u001b[1mModel parameters are saved to d3rlpy_logs/SAC_online_20231001152221/model_40000.pt\u001b[0m\n",
      "\u001b[2m2023-10-01 15:37:18\u001b[0m [\u001b[32m\u001b[1minfo     \u001b[0m] \u001b[1mSAC_online_20231001152221: epoch=40 step=40000\u001b[0m \u001b[36mepoch\u001b[0m=\u001b[35m40\u001b[0m \u001b[36mmetrics\u001b[0m=\u001b[35m{'time_inference': 0.0016168556213378906, 'time_environment_step': 0.00013605809211730957, 'time_sample_batch': 0.0004196784496307373, 'time_algorithm_update': 0.014335543394088745, 'temp_loss': 0.0006457555844826857, 'temp': 0.02069006243534386, 'critic_loss': 1.4104898582547902, 'actor_loss': -72.53471106719971, 'time_step': 0.01660715937614441, 'rollout_return': 1000.0, 'evaluation': 1000.0}\u001b[0m \u001b[36mstep\u001b[0m=\u001b[35m40000\u001b[0m\n",
      "\u001b[2m2023-10-01 15:37:47\u001b[0m [\u001b[32m\u001b[1minfo     \u001b[0m] \u001b[1mModel parameters are saved to d3rlpy_logs/SAC_online_20231001152221/model_41000.pt\u001b[0m\n",
      "\u001b[2m2023-10-01 15:37:47\u001b[0m [\u001b[32m\u001b[1minfo     \u001b[0m] \u001b[1mSAC_online_20231001152221: epoch=41 step=41000\u001b[0m \u001b[36mepoch\u001b[0m=\u001b[35m41\u001b[0m \u001b[36mmetrics\u001b[0m=\u001b[35m{'time_inference': 0.001617990255355835, 'time_environment_step': 0.00013475942611694335, 'time_sample_batch': 0.0004176828861236572, 'time_algorithm_update': 0.014405492067337036, 'temp_loss': 0.0004242261919134762, 'temp': 0.01893763526529074, 'critic_loss': 1.1720617594867944, 'actor_loss': -73.381028175354, 'time_step': 0.016674017667770387, 'rollout_return': 1000.0, 'evaluation': 1000.0}\u001b[0m \u001b[36mstep\u001b[0m=\u001b[35m41000\u001b[0m\n",
      "\u001b[2m2023-10-01 15:38:16\u001b[0m [\u001b[32m\u001b[1minfo     \u001b[0m] \u001b[1mModel parameters are saved to d3rlpy_logs/SAC_online_20231001152221/model_42000.pt\u001b[0m\n",
      "\u001b[2m2023-10-01 15:38:16\u001b[0m [\u001b[32m\u001b[1minfo     \u001b[0m] \u001b[1mSAC_online_20231001152221: epoch=42 step=42000\u001b[0m \u001b[36mepoch\u001b[0m=\u001b[35m42\u001b[0m \u001b[36mmetrics\u001b[0m=\u001b[35m{'time_inference': 0.0016141047477722169, 'time_environment_step': 0.00013610219955444337, 'time_sample_batch': 0.0004174983501434326, 'time_algorithm_update': 0.014314561605453491, 'temp_loss': 1.1239503728575072e-05, 'temp': 0.019000708801671862, 'critic_loss': 1.2803410167396068, 'actor_loss': -74.33593843078613, 'time_step': 0.016580451965332033, 'rollout_return': 1000.0, 'evaluation': 1000.0}\u001b[0m \u001b[36mstep\u001b[0m=\u001b[35m42000\u001b[0m\n",
      "\u001b[2m2023-10-01 15:38:43\u001b[0m [\u001b[32m\u001b[1minfo     \u001b[0m] \u001b[1mModel parameters are saved to d3rlpy_logs/SAC_online_20231001152221/model_43000.pt\u001b[0m\n",
      "\u001b[2m2023-10-01 15:38:43\u001b[0m [\u001b[32m\u001b[1minfo     \u001b[0m] \u001b[1mSAC_online_20231001152221: epoch=43 step=43000\u001b[0m \u001b[36mepoch\u001b[0m=\u001b[35m43\u001b[0m \u001b[36mmetrics\u001b[0m=\u001b[35m{'time_inference': 0.0015916571617126465, 'time_environment_step': 0.00013391971588134767, 'time_sample_batch': 0.0004172661304473877, 'time_algorithm_update': 0.014301299333572388, 'temp_loss': 0.00015924207953503357, 'temp': 0.01818246376141906, 'critic_loss': 1.120398703739047, 'actor_loss': -75.08638722229004, 'time_step': 0.016541319847106932, 'rollout_return': 1000.0, 'evaluation': 804.8}\u001b[0m \u001b[36mstep\u001b[0m=\u001b[35m43000\u001b[0m\n",
      "\u001b[2m2023-10-01 15:39:12\u001b[0m [\u001b[32m\u001b[1minfo     \u001b[0m] \u001b[1mModel parameters are saved to d3rlpy_logs/SAC_online_20231001152221/model_44000.pt\u001b[0m\n",
      "\u001b[2m2023-10-01 15:39:12\u001b[0m [\u001b[32m\u001b[1minfo     \u001b[0m] \u001b[1mSAC_online_20231001152221: epoch=44 step=44000\u001b[0m \u001b[36mepoch\u001b[0m=\u001b[35m44\u001b[0m \u001b[36mmetrics\u001b[0m=\u001b[35m{'time_inference': 0.0016055309772491455, 'time_environment_step': 0.00013534164428710937, 'time_sample_batch': 0.00042295169830322267, 'time_algorithm_update': 0.01430013632774353, 'temp_loss': 0.00010014930464967619, 'temp': 0.018186954211443663, 'critic_loss': 1.1425180340409278, 'actor_loss': -75.90125142669677, 'time_step': 0.01656191086769104, 'rollout_return': 1000.0, 'evaluation': 1000.0}\u001b[0m \u001b[36mstep\u001b[0m=\u001b[35m44000\u001b[0m\n",
      "\u001b[2m2023-10-01 15:39:44\u001b[0m [\u001b[32m\u001b[1minfo     \u001b[0m] \u001b[1mModel parameters are saved to d3rlpy_logs/SAC_online_20231001152221/model_45000.pt\u001b[0m\n",
      "\u001b[2m2023-10-01 15:39:44\u001b[0m [\u001b[32m\u001b[1minfo     \u001b[0m] \u001b[1mSAC_online_20231001152221: epoch=45 step=45000\u001b[0m \u001b[36mepoch\u001b[0m=\u001b[35m45\u001b[0m \u001b[36mmetrics\u001b[0m=\u001b[35m{'time_inference': 0.0016425702571868897, 'time_environment_step': 0.00013622403144836426, 'time_sample_batch': 0.0004252784252166748, 'time_algorithm_update': 0.014670275211334228, 'temp_loss': 0.00010435011472145562, 'temp': 0.017788977913558483, 'critic_loss': 1.2210690074265003, 'actor_loss': -76.63741297149659, 'time_step': 0.016973973274230957, 'rollout_return': 1000.0, 'evaluation': 1000.0}\u001b[0m \u001b[36mstep\u001b[0m=\u001b[35m45000\u001b[0m\n",
      "\u001b[2m2023-10-01 15:40:14\u001b[0m [\u001b[32m\u001b[1minfo     \u001b[0m] \u001b[1mModel parameters are saved to d3rlpy_logs/SAC_online_20231001152221/model_46000.pt\u001b[0m\n",
      "\u001b[2m2023-10-01 15:40:14\u001b[0m [\u001b[32m\u001b[1minfo     \u001b[0m] \u001b[1mSAC_online_20231001152221: epoch=46 step=46000\u001b[0m \u001b[36mepoch\u001b[0m=\u001b[35m46\u001b[0m \u001b[36mmetrics\u001b[0m=\u001b[35m{'time_inference': 0.0018001554012298585, 'time_environment_step': 0.00014454174041748046, 'time_sample_batch': 0.0004452219009399414, 'time_algorithm_update': 0.015475948810577393, 'temp_loss': -4.973954810702708e-05, 'temp': 0.017690467342734335, 'critic_loss': 1.2940533065572382, 'actor_loss': -77.41369770050049, 'time_step': 0.017971899032592772, 'rollout_return': 1000.0, 'evaluation': 1000.0}\u001b[0m \u001b[36mstep\u001b[0m=\u001b[35m46000\u001b[0m\n",
      "\u001b[2m2023-10-01 15:40:44\u001b[0m [\u001b[32m\u001b[1minfo     \u001b[0m] \u001b[1mModel parameters are saved to d3rlpy_logs/SAC_online_20231001152221/model_47000.pt\u001b[0m\n",
      "\u001b[2m2023-10-01 15:40:44\u001b[0m [\u001b[32m\u001b[1minfo     \u001b[0m] \u001b[1mSAC_online_20231001152221: epoch=47 step=47000\u001b[0m \u001b[36mepoch\u001b[0m=\u001b[35m47\u001b[0m \u001b[36mmetrics\u001b[0m=\u001b[35m{'time_inference': 0.001614631175994873, 'time_environment_step': 0.00013534259796142578, 'time_sample_batch': 0.0004221518039703369, 'time_algorithm_update': 0.014416985273361205, 'temp_loss': 0.00032131624734029173, 'temp': 0.017774884901940822, 'critic_loss': 1.0163599457070231, 'actor_loss': -78.05371215820313, 'time_step': 0.01668741178512573, 'rollout_return': 1000.0, 'evaluation': 1000.0}\u001b[0m \u001b[36mstep\u001b[0m=\u001b[35m47000\u001b[0m\n",
      "\u001b[2m2023-10-01 15:41:13\u001b[0m [\u001b[32m\u001b[1minfo     \u001b[0m] \u001b[1mModel parameters are saved to d3rlpy_logs/SAC_online_20231001152221/model_48000.pt\u001b[0m\n",
      "\u001b[2m2023-10-01 15:41:13\u001b[0m [\u001b[32m\u001b[1minfo     \u001b[0m] \u001b[1mSAC_online_20231001152221: epoch=48 step=48000\u001b[0m \u001b[36mepoch\u001b[0m=\u001b[35m48\u001b[0m \u001b[36mmetrics\u001b[0m=\u001b[35m{'time_inference': 0.0016390297412872314, 'time_environment_step': 0.0001370832920074463, 'time_sample_batch': 0.0004223952293395996, 'time_algorithm_update': 0.014305508613586426, 'temp_loss': 0.0006177105965325609, 'temp': 0.01658427131269127, 'critic_loss': 1.1617645758017898, 'actor_loss': -78.57624227905274, 'time_step': 0.01660330820083618, 'rollout_return': 1000.0, 'evaluation': 1000.0}\u001b[0m \u001b[36mstep\u001b[0m=\u001b[35m48000\u001b[0m\n",
      "\u001b[2m2023-10-01 15:41:42\u001b[0m [\u001b[32m\u001b[1minfo     \u001b[0m] \u001b[1mModel parameters are saved to d3rlpy_logs/SAC_online_20231001152221/model_49000.pt\u001b[0m\n",
      "\u001b[2m2023-10-01 15:41:42\u001b[0m [\u001b[32m\u001b[1minfo     \u001b[0m] \u001b[1mSAC_online_20231001152221: epoch=49 step=49000\u001b[0m \u001b[36mepoch\u001b[0m=\u001b[35m49\u001b[0m \u001b[36mmetrics\u001b[0m=\u001b[35m{'time_inference': 0.0016137871742248535, 'time_environment_step': 0.00013384103775024414, 'time_sample_batch': 0.0004187886714935303, 'time_algorithm_update': 0.014215882539749146, 'temp_loss': 0.0003928452883192222, 'temp': 0.014646557221189141, 'critic_loss': 1.257102055490017, 'actor_loss': -79.16517136383057, 'time_step': 0.016479620218276977, 'rollout_return': 1000.0, 'evaluation': 1000.0}\u001b[0m \u001b[36mstep\u001b[0m=\u001b[35m49000\u001b[0m\n",
      "\u001b[2m2023-10-01 15:42:11\u001b[0m [\u001b[32m\u001b[1minfo     \u001b[0m] \u001b[1mModel parameters are saved to d3rlpy_logs/SAC_online_20231001152221/model_50000.pt\u001b[0m\n",
      "\u001b[2m2023-10-01 15:42:11\u001b[0m [\u001b[32m\u001b[1minfo     \u001b[0m] \u001b[1mSAC_online_20231001152221: epoch=50 step=50000\u001b[0m \u001b[36mepoch\u001b[0m=\u001b[35m50\u001b[0m \u001b[36mmetrics\u001b[0m=\u001b[35m{'time_inference': 0.0016110985279083252, 'time_environment_step': 0.00013675999641418458, 'time_sample_batch': 0.00042139387130737304, 'time_algorithm_update': 0.014225303649902344, 'temp_loss': -0.00032700027931423394, 'temp': 0.015306176736950875, 'critic_loss': 1.108587586954236, 'actor_loss': -79.76349369812012, 'time_step': 0.016493477106094362, 'rollout_return': 1000.0, 'evaluation': 1000.0}\u001b[0m \u001b[36mstep\u001b[0m=\u001b[35m50000\u001b[0m\n",
      "\u001b[2m2023-10-01 15:42:40\u001b[0m [\u001b[32m\u001b[1minfo     \u001b[0m] \u001b[1mModel parameters are saved to d3rlpy_logs/SAC_online_20231001152221/model_51000.pt\u001b[0m\n",
      "\u001b[2m2023-10-01 15:42:40\u001b[0m [\u001b[32m\u001b[1minfo     \u001b[0m] \u001b[1mSAC_online_20231001152221: epoch=51 step=51000\u001b[0m \u001b[36mepoch\u001b[0m=\u001b[35m51\u001b[0m \u001b[36mmetrics\u001b[0m=\u001b[35m{'time_inference': 0.0016302676200866699, 'time_environment_step': 0.00013611364364624024, 'time_sample_batch': 0.00042483091354370115, 'time_algorithm_update': 0.01434995436668396, 'temp_loss': 5.843633402400883e-05, 'temp': 0.015072001446969806, 'critic_loss': 1.139452853769064, 'actor_loss': -80.42990113067627, 'time_step': 0.016639670610427856, 'rollout_return': 1000.0, 'evaluation': 1000.0}\u001b[0m \u001b[36mstep\u001b[0m=\u001b[35m51000\u001b[0m\n",
      "\u001b[2m2023-10-01 15:43:09\u001b[0m [\u001b[32m\u001b[1minfo     \u001b[0m] \u001b[1mModel parameters are saved to d3rlpy_logs/SAC_online_20231001152221/model_52000.pt\u001b[0m\n",
      "\u001b[2m2023-10-01 15:43:09\u001b[0m [\u001b[32m\u001b[1minfo     \u001b[0m] \u001b[1mSAC_online_20231001152221: epoch=52 step=52000\u001b[0m \u001b[36mepoch\u001b[0m=\u001b[35m52\u001b[0m \u001b[36mmetrics\u001b[0m=\u001b[35m{'time_inference': 0.00161871337890625, 'time_environment_step': 0.00013441824913024904, 'time_sample_batch': 0.00041747522354125977, 'time_algorithm_update': 0.014210460424423218, 'temp_loss': -0.0001456017802556744, 'temp': 0.015290366696193814, 'critic_loss': 1.17294586045295, 'actor_loss': -81.04975957489013, 'time_step': 0.016478443145751955, 'rollout_return': 1000.0, 'evaluation': 1000.0}\u001b[0m \u001b[36mstep\u001b[0m=\u001b[35m52000\u001b[0m\n",
      "\u001b[2m2023-10-01 15:43:38\u001b[0m [\u001b[32m\u001b[1minfo     \u001b[0m] \u001b[1mModel parameters are saved to d3rlpy_logs/SAC_online_20231001152221/model_53000.pt\u001b[0m\n",
      "\u001b[2m2023-10-01 15:43:38\u001b[0m [\u001b[32m\u001b[1minfo     \u001b[0m] \u001b[1mSAC_online_20231001152221: epoch=53 step=53000\u001b[0m \u001b[36mepoch\u001b[0m=\u001b[35m53\u001b[0m \u001b[36mmetrics\u001b[0m=\u001b[35m{'time_inference': 0.0016237289905548095, 'time_environment_step': 0.00013752365112304688, 'time_sample_batch': 0.0004292902946472168, 'time_algorithm_update': 0.014309878587722778, 'temp_loss': 0.0003254293046120438, 'temp': 0.0154384506912902, 'critic_loss': 1.1575289824903012, 'actor_loss': -81.5864336090088, 'time_step': 0.016600628137588502, 'rollout_return': 1000.0, 'evaluation': 1000.0}\u001b[0m \u001b[36mstep\u001b[0m=\u001b[35m53000\u001b[0m\n",
      "\u001b[2m2023-10-01 15:44:08\u001b[0m [\u001b[32m\u001b[1minfo     \u001b[0m] \u001b[1mModel parameters are saved to d3rlpy_logs/SAC_online_20231001152221/model_54000.pt\u001b[0m\n",
      "\u001b[2m2023-10-01 15:44:08\u001b[0m [\u001b[32m\u001b[1minfo     \u001b[0m] \u001b[1mSAC_online_20231001152221: epoch=54 step=54000\u001b[0m \u001b[36mepoch\u001b[0m=\u001b[35m54\u001b[0m \u001b[36mmetrics\u001b[0m=\u001b[35m{'time_inference': 0.0016203935146331787, 'time_environment_step': 0.00013500094413757325, 'time_sample_batch': 0.00042231607437133786, 'time_algorithm_update': 0.014456092596054078, 'temp_loss': 0.0005906324710158514, 'temp': 0.014329248888418078, 'critic_loss': 1.0913384122699499, 'actor_loss': -82.16529689025879, 'time_step': 0.016732208251953123, 'rollout_return': 1000.0, 'evaluation': 1000.0}\u001b[0m \u001b[36mstep\u001b[0m=\u001b[35m54000\u001b[0m\n",
      "\u001b[2m2023-10-01 15:44:37\u001b[0m [\u001b[32m\u001b[1minfo     \u001b[0m] \u001b[1mModel parameters are saved to d3rlpy_logs/SAC_online_20231001152221/model_55000.pt\u001b[0m\n",
      "\u001b[2m2023-10-01 15:44:37\u001b[0m [\u001b[32m\u001b[1minfo     \u001b[0m] \u001b[1mSAC_online_20231001152221: epoch=55 step=55000\u001b[0m \u001b[36mepoch\u001b[0m=\u001b[35m55\u001b[0m \u001b[36mmetrics\u001b[0m=\u001b[35m{'time_inference': 0.0016652522087097167, 'time_environment_step': 0.0001387801170349121, 'time_sample_batch': 0.00042751502990722655, 'time_algorithm_update': 0.014577849388122559, 'temp_loss': 0.0002594184133122326, 'temp': 0.013169149735942482, 'critic_loss': 0.9869727219343185, 'actor_loss': -82.64238871002198, 'time_step': 0.016909703016281127, 'rollout_return': 1000.0, 'evaluation': 1000.0}\u001b[0m \u001b[36mstep\u001b[0m=\u001b[35m55000\u001b[0m\n",
      "\u001b[2m2023-10-01 15:45:07\u001b[0m [\u001b[32m\u001b[1minfo     \u001b[0m] \u001b[1mModel parameters are saved to d3rlpy_logs/SAC_online_20231001152221/model_56000.pt\u001b[0m\n",
      "\u001b[2m2023-10-01 15:45:07\u001b[0m [\u001b[32m\u001b[1minfo     \u001b[0m] \u001b[1mSAC_online_20231001152221: epoch=56 step=56000\u001b[0m \u001b[36mepoch\u001b[0m=\u001b[35m56\u001b[0m \u001b[36mmetrics\u001b[0m=\u001b[35m{'time_inference': 0.0016287355422973633, 'time_environment_step': 0.00013563084602355956, 'time_sample_batch': 0.00042638087272644045, 'time_algorithm_update': 0.014480462074279785, 'temp_loss': -7.840776641387492e-05, 'temp': 0.012974203135818242, 'critic_loss': 0.9841568007394671, 'actor_loss': -83.11750068664551, 'time_step': 0.01677068829536438, 'rollout_return': 1000.0, 'evaluation': 1000.0}\u001b[0m \u001b[36mstep\u001b[0m=\u001b[35m56000\u001b[0m\n",
      "\u001b[2m2023-10-01 15:45:36\u001b[0m [\u001b[32m\u001b[1minfo     \u001b[0m] \u001b[1mModel parameters are saved to d3rlpy_logs/SAC_online_20231001152221/model_57000.pt\u001b[0m\n",
      "\u001b[2m2023-10-01 15:45:36\u001b[0m [\u001b[32m\u001b[1minfo     \u001b[0m] \u001b[1mSAC_online_20231001152221: epoch=57 step=57000\u001b[0m \u001b[36mepoch\u001b[0m=\u001b[35m57\u001b[0m \u001b[36mmetrics\u001b[0m=\u001b[35m{'time_inference': 0.0016085889339447022, 'time_environment_step': 0.00013635468482971192, 'time_sample_batch': 0.0004240682125091553, 'time_algorithm_update': 0.014269821166992188, 'temp_loss': -0.0004519640765793156, 'temp': 0.01358420612756163, 'critic_loss': 1.282773105226457, 'actor_loss': -83.54016454315186, 'time_step': 0.016536816358566284, 'rollout_return': 1000.0, 'evaluation': 1000.0}\u001b[0m \u001b[36mstep\u001b[0m=\u001b[35m57000\u001b[0m\n",
      "\u001b[2m2023-10-01 15:46:05\u001b[0m [\u001b[32m\u001b[1minfo     \u001b[0m] \u001b[1mModel parameters are saved to d3rlpy_logs/SAC_online_20231001152221/model_58000.pt\u001b[0m\n",
      "\u001b[2m2023-10-01 15:46:05\u001b[0m [\u001b[32m\u001b[1minfo     \u001b[0m] \u001b[1mSAC_online_20231001152221: epoch=58 step=58000\u001b[0m \u001b[36mepoch\u001b[0m=\u001b[35m58\u001b[0m \u001b[36mmetrics\u001b[0m=\u001b[35m{'time_inference': 0.001613875389099121, 'time_environment_step': 0.00013429570198059083, 'time_sample_batch': 0.0004203927516937256, 'time_algorithm_update': 0.014288543462753297, 'temp_loss': -0.0008004552914499072, 'temp': 0.015100318239070475, 'critic_loss': 1.150497635640204, 'actor_loss': -83.65825589752197, 'time_step': 0.016554513454437255, 'rollout_return': 1000.0, 'evaluation': 1000.0}\u001b[0m \u001b[36mstep\u001b[0m=\u001b[35m58000\u001b[0m\n",
      "\u001b[2m2023-10-01 15:46:34\u001b[0m [\u001b[32m\u001b[1minfo     \u001b[0m] \u001b[1mModel parameters are saved to d3rlpy_logs/SAC_online_20231001152221/model_59000.pt\u001b[0m\n",
      "\u001b[2m2023-10-01 15:46:34\u001b[0m [\u001b[32m\u001b[1minfo     \u001b[0m] \u001b[1mSAC_online_20231001152221: epoch=59 step=59000\u001b[0m \u001b[36mepoch\u001b[0m=\u001b[35m59\u001b[0m \u001b[36mmetrics\u001b[0m=\u001b[35m{'time_inference': 0.0016453819274902344, 'time_environment_step': 0.00013711166381835937, 'time_sample_batch': 0.0004328925609588623, 'time_algorithm_update': 0.014376949787139893, 'temp_loss': -0.0004659606789791724, 'temp': 0.016266177043318748, 'critic_loss': 1.1792924775332212, 'actor_loss': -83.62215044403077, 'time_step': 0.016692275524139405, 'rollout_return': 1000.0, 'evaluation': 1000.0}\u001b[0m \u001b[36mstep\u001b[0m=\u001b[35m59000\u001b[0m\n",
      "\u001b[2m2023-10-01 15:47:04\u001b[0m [\u001b[32m\u001b[1minfo     \u001b[0m] \u001b[1mModel parameters are saved to d3rlpy_logs/SAC_online_20231001152221/model_60000.pt\u001b[0m\n",
      "\u001b[2m2023-10-01 15:47:04\u001b[0m [\u001b[32m\u001b[1minfo     \u001b[0m] \u001b[1mSAC_online_20231001152221: epoch=60 step=60000\u001b[0m \u001b[36mepoch\u001b[0m=\u001b[35m60\u001b[0m \u001b[36mmetrics\u001b[0m=\u001b[35m{'time_inference': 0.001595201015472412, 'time_environment_step': 0.00013391447067260742, 'time_sample_batch': 0.0004216594696044922, 'time_algorithm_update': 0.01429173493385315, 'temp_loss': -0.0005257556057840702, 'temp': 0.018207814065739514, 'critic_loss': 1.076560725554824, 'actor_loss': -83.63380863952636, 'time_step': 0.016540045976638794, 'rollout_return': 1000.0, 'evaluation': 1000.0}\u001b[0m \u001b[36mstep\u001b[0m=\u001b[35m60000\u001b[0m\n",
      "\u001b[2m2023-10-01 15:47:33\u001b[0m [\u001b[32m\u001b[1minfo     \u001b[0m] \u001b[1mModel parameters are saved to d3rlpy_logs/SAC_online_20231001152221/model_61000.pt\u001b[0m\n",
      "\u001b[2m2023-10-01 15:47:33\u001b[0m [\u001b[32m\u001b[1minfo     \u001b[0m] \u001b[1mSAC_online_20231001152221: epoch=61 step=61000\u001b[0m \u001b[36mepoch\u001b[0m=\u001b[35m61\u001b[0m \u001b[36mmetrics\u001b[0m=\u001b[35m{'time_inference': 0.0016138861179351806, 'time_environment_step': 0.0001352829933166504, 'time_sample_batch': 0.00042508339881896975, 'time_algorithm_update': 0.014199722290039062, 'temp_loss': -0.00048676156594592613, 'temp': 0.019599450083449484, 'critic_loss': 0.95948777346313, 'actor_loss': -83.67089482879639, 'time_step': 0.016471210479736327, 'rollout_return': 1000.0, 'evaluation': 1000.0}\u001b[0m \u001b[36mstep\u001b[0m=\u001b[35m61000\u001b[0m\n",
      "\u001b[2m2023-10-01 15:48:02\u001b[0m [\u001b[32m\u001b[1minfo     \u001b[0m] \u001b[1mModel parameters are saved to d3rlpy_logs/SAC_online_20231001152221/model_62000.pt\u001b[0m\n",
      "\u001b[2m2023-10-01 15:48:02\u001b[0m [\u001b[32m\u001b[1minfo     \u001b[0m] \u001b[1mSAC_online_20231001152221: epoch=62 step=62000\u001b[0m \u001b[36mepoch\u001b[0m=\u001b[35m62\u001b[0m \u001b[36mmetrics\u001b[0m=\u001b[35m{'time_inference': 0.0016097195148468018, 'time_environment_step': 0.00013550639152526856, 'time_sample_batch': 0.00042743372917175294, 'time_algorithm_update': 0.014367948055267334, 'temp_loss': 0.0006125831751851365, 'temp': 0.0187228291798383, 'critic_loss': 0.8756838058754802, 'actor_loss': -83.64422130584717, 'time_step': 0.016639433622360228, 'rollout_return': 1000.0, 'evaluation': 1000.0}\u001b[0m \u001b[36mstep\u001b[0m=\u001b[35m62000\u001b[0m\n",
      "\u001b[2m2023-10-01 15:48:31\u001b[0m [\u001b[32m\u001b[1minfo     \u001b[0m] \u001b[1mModel parameters are saved to d3rlpy_logs/SAC_online_20231001152221/model_63000.pt\u001b[0m\n",
      "\u001b[2m2023-10-01 15:48:31\u001b[0m [\u001b[32m\u001b[1minfo     \u001b[0m] \u001b[1mSAC_online_20231001152221: epoch=63 step=63000\u001b[0m \u001b[36mepoch\u001b[0m=\u001b[35m63\u001b[0m \u001b[36mmetrics\u001b[0m=\u001b[35m{'time_inference': 0.0015908496379852294, 'time_environment_step': 0.00013516783714294432, 'time_sample_batch': 0.00042857789993286133, 'time_algorithm_update': 0.01416147541999817, 'temp_loss': -0.0005627273317877552, 'temp': 0.020113327883183957, 'critic_loss': 1.0792690365090967, 'actor_loss': -83.74370459747314, 'time_step': 0.01641409134864807, 'rollout_return': 1000.0, 'evaluation': 1000.0}\u001b[0m \u001b[36mstep\u001b[0m=\u001b[35m63000\u001b[0m\n",
      "\u001b[2m2023-10-01 15:49:00\u001b[0m [\u001b[32m\u001b[1minfo     \u001b[0m] \u001b[1mModel parameters are saved to d3rlpy_logs/SAC_online_20231001152221/model_64000.pt\u001b[0m\n",
      "\u001b[2m2023-10-01 15:49:00\u001b[0m [\u001b[32m\u001b[1minfo     \u001b[0m] \u001b[1mSAC_online_20231001152221: epoch=64 step=64000\u001b[0m \u001b[36mepoch\u001b[0m=\u001b[35m64\u001b[0m \u001b[36mmetrics\u001b[0m=\u001b[35m{'time_inference': 0.0015950889587402343, 'time_environment_step': 0.00013535094261169433, 'time_sample_batch': 0.0004251232147216797, 'time_algorithm_update': 0.014240752696990967, 'temp_loss': 0.0011607347274693893, 'temp': 0.018711974453181027, 'critic_loss': 1.0380578904300928, 'actor_loss': -83.81626747131348, 'time_step': 0.016493882179260254, 'rollout_return': 1000.0, 'evaluation': 1000.0}\u001b[0m \u001b[36mstep\u001b[0m=\u001b[35m64000\u001b[0m\n",
      "\u001b[2m2023-10-01 15:49:30\u001b[0m [\u001b[32m\u001b[1minfo     \u001b[0m] \u001b[1mModel parameters are saved to d3rlpy_logs/SAC_online_20231001152221/model_65000.pt\u001b[0m\n",
      "\u001b[2m2023-10-01 15:49:30\u001b[0m [\u001b[32m\u001b[1minfo     \u001b[0m] \u001b[1mSAC_online_20231001152221: epoch=65 step=65000\u001b[0m \u001b[36mepoch\u001b[0m=\u001b[35m65\u001b[0m \u001b[36mmetrics\u001b[0m=\u001b[35m{'time_inference': 0.0016351561546325683, 'time_environment_step': 0.00013632583618164063, 'time_sample_batch': 0.0004262120723724365, 'time_algorithm_update': 0.0143270423412323, 'temp_loss': -4.988421174493851e-05, 'temp': 0.016799036391079426, 'critic_loss': 1.0695225831195712, 'actor_loss': -84.19965367126464, 'time_step': 0.016623951435089112, 'rollout_return': 1000.0, 'evaluation': 1000.0}\u001b[0m \u001b[36mstep\u001b[0m=\u001b[35m65000\u001b[0m\n",
      "\u001b[2m2023-10-01 15:49:59\u001b[0m [\u001b[32m\u001b[1minfo     \u001b[0m] \u001b[1mModel parameters are saved to d3rlpy_logs/SAC_online_20231001152221/model_66000.pt\u001b[0m\n",
      "\u001b[2m2023-10-01 15:49:59\u001b[0m [\u001b[32m\u001b[1minfo     \u001b[0m] \u001b[1mSAC_online_20231001152221: epoch=66 step=66000\u001b[0m \u001b[36mepoch\u001b[0m=\u001b[35m66\u001b[0m \u001b[36mmetrics\u001b[0m=\u001b[35m{'time_inference': 0.0016332471370697022, 'time_environment_step': 0.00013762140274047852, 'time_sample_batch': 0.00043557119369506833, 'time_algorithm_update': 0.014623326778411865, 'temp_loss': -0.0007234072365172324, 'temp': 0.018113371865823864, 'critic_loss': 1.046056842841208, 'actor_loss': -84.51508632659912, 'time_step': 0.016928659677505495, 'rollout_return': 1000.0, 'evaluation': 1000.0}\u001b[0m \u001b[36mstep\u001b[0m=\u001b[35m66000\u001b[0m\n",
      "\u001b[2m2023-10-01 15:50:29\u001b[0m [\u001b[32m\u001b[1minfo     \u001b[0m] \u001b[1mModel parameters are saved to d3rlpy_logs/SAC_online_20231001152221/model_67000.pt\u001b[0m\n",
      "\u001b[2m2023-10-01 15:50:29\u001b[0m [\u001b[32m\u001b[1minfo     \u001b[0m] \u001b[1mSAC_online_20231001152221: epoch=67 step=67000\u001b[0m \u001b[36mepoch\u001b[0m=\u001b[35m67\u001b[0m \u001b[36mmetrics\u001b[0m=\u001b[35m{'time_inference': 0.0016262049674987792, 'time_environment_step': 0.00013559532165527343, 'time_sample_batch': 0.00042866396903991697, 'time_algorithm_update': 0.014445783853530883, 'temp_loss': -0.0007434340706386137, 'temp': 0.02023174832761288, 'critic_loss': 0.8755562562197446, 'actor_loss': -84.73598574829101, 'time_step': 0.016734607458114625, 'rollout_return': 1000.0, 'evaluation': 1000.0}\u001b[0m \u001b[36mstep\u001b[0m=\u001b[35m67000\u001b[0m\n",
      "\u001b[2m2023-10-01 15:50:58\u001b[0m [\u001b[32m\u001b[1minfo     \u001b[0m] \u001b[1mModel parameters are saved to d3rlpy_logs/SAC_online_20231001152221/model_68000.pt\u001b[0m\n",
      "\u001b[2m2023-10-01 15:50:58\u001b[0m [\u001b[32m\u001b[1minfo     \u001b[0m] \u001b[1mSAC_online_20231001152221: epoch=68 step=68000\u001b[0m \u001b[36mepoch\u001b[0m=\u001b[35m68\u001b[0m \u001b[36mmetrics\u001b[0m=\u001b[35m{'time_inference': 0.0015638530254364013, 'time_environment_step': 0.00013393998146057128, 'time_sample_batch': 0.00042729949951171873, 'time_algorithm_update': 0.014184371948242187, 'temp_loss': -0.0009263527855364373, 'temp': 0.02287790027819574, 'critic_loss': 1.154112719848752, 'actor_loss': -84.8884183883667, 'time_step': 0.016405834674835206, 'rollout_return': 1000.0, 'evaluation': 1000.0}\u001b[0m \u001b[36mstep\u001b[0m=\u001b[35m68000\u001b[0m\n",
      "\u001b[2m2023-10-01 15:51:27\u001b[0m [\u001b[32m\u001b[1minfo     \u001b[0m] \u001b[1mModel parameters are saved to d3rlpy_logs/SAC_online_20231001152221/model_69000.pt\u001b[0m\n",
      "\u001b[2m2023-10-01 15:51:27\u001b[0m [\u001b[32m\u001b[1minfo     \u001b[0m] \u001b[1mSAC_online_20231001152221: epoch=69 step=69000\u001b[0m \u001b[36mepoch\u001b[0m=\u001b[35m69\u001b[0m \u001b[36mmetrics\u001b[0m=\u001b[35m{'time_inference': 0.0016028985977172851, 'time_environment_step': 0.00013470172882080079, 'time_sample_batch': 0.0004291393756866455, 'time_algorithm_update': 0.014431396961212158, 'temp_loss': 0.00048548592947190625, 'temp': 0.02376347815990448, 'critic_loss': 1.0601635594666003, 'actor_loss': -85.12224324798584, 'time_step': 0.016694744348526, 'rollout_return': 1000.0, 'evaluation': 1000.0}\u001b[0m \u001b[36mstep\u001b[0m=\u001b[35m69000\u001b[0m\n",
      "\u001b[2m2023-10-01 15:51:56\u001b[0m [\u001b[32m\u001b[1minfo     \u001b[0m] \u001b[1mModel parameters are saved to d3rlpy_logs/SAC_online_20231001152221/model_70000.pt\u001b[0m\n",
      "\u001b[2m2023-10-01 15:51:56\u001b[0m [\u001b[32m\u001b[1minfo     \u001b[0m] \u001b[1mSAC_online_20231001152221: epoch=70 step=70000\u001b[0m \u001b[36mepoch\u001b[0m=\u001b[35m70\u001b[0m \u001b[36mmetrics\u001b[0m=\u001b[35m{'time_inference': 0.001587742567062378, 'time_environment_step': 0.00013407278060913086, 'time_sample_batch': 0.000431659460067749, 'time_algorithm_update': 0.01427977442741394, 'temp_loss': 0.0002648885897215223, 'temp': 0.022600827891379596, 'critic_loss': 0.9363439087569714, 'actor_loss': -85.71073287200927, 'time_step': 0.01653062129020691, 'rollout_return': 1000.0, 'evaluation': 1000.0}\u001b[0m \u001b[36mstep\u001b[0m=\u001b[35m70000\u001b[0m\n",
      "\u001b[2m2023-10-01 15:52:25\u001b[0m [\u001b[32m\u001b[1minfo     \u001b[0m] \u001b[1mModel parameters are saved to d3rlpy_logs/SAC_online_20231001152221/model_71000.pt\u001b[0m\n",
      "\u001b[2m2023-10-01 15:52:25\u001b[0m [\u001b[32m\u001b[1minfo     \u001b[0m] \u001b[1mSAC_online_20231001152221: epoch=71 step=71000\u001b[0m \u001b[36mepoch\u001b[0m=\u001b[35m71\u001b[0m \u001b[36mmetrics\u001b[0m=\u001b[35m{'time_inference': 0.0015972409248352052, 'time_environment_step': 0.00013229131698608399, 'time_sample_batch': 0.00042389774322509763, 'time_algorithm_update': 0.014142276048660278, 'temp_loss': 0.00043679763161344454, 'temp': 0.021561818473041058, 'critic_loss': 0.9031354108005762, 'actor_loss': -86.07739949035644, 'time_step': 0.01639204478263855, 'rollout_return': 1000.0, 'evaluation': 1000.0}\u001b[0m \u001b[36mstep\u001b[0m=\u001b[35m71000\u001b[0m\n",
      "\u001b[2m2023-10-01 15:52:54\u001b[0m [\u001b[32m\u001b[1minfo     \u001b[0m] \u001b[1mModel parameters are saved to d3rlpy_logs/SAC_online_20231001152221/model_72000.pt\u001b[0m\n",
      "\u001b[2m2023-10-01 15:52:54\u001b[0m [\u001b[32m\u001b[1minfo     \u001b[0m] \u001b[1mSAC_online_20231001152221: epoch=72 step=72000\u001b[0m \u001b[36mepoch\u001b[0m=\u001b[35m72\u001b[0m \u001b[36mmetrics\u001b[0m=\u001b[35m{'time_inference': 0.0016011991500854493, 'time_environment_step': 0.00013425946235656738, 'time_sample_batch': 0.00043000268936157224, 'time_algorithm_update': 0.014361151933670043, 'temp_loss': 0.0009205092986812815, 'temp': 0.019336285557597876, 'critic_loss': 0.968350305698812, 'actor_loss': -86.36249021911621, 'time_step': 0.01662451672554016, 'rollout_return': 1000.0, 'evaluation': 1000.0}\u001b[0m \u001b[36mstep\u001b[0m=\u001b[35m72000\u001b[0m\n",
      "\u001b[2m2023-10-01 15:53:23\u001b[0m [\u001b[32m\u001b[1minfo     \u001b[0m] \u001b[1mModel parameters are saved to d3rlpy_logs/SAC_online_20231001152221/model_73000.pt\u001b[0m\n",
      "\u001b[2m2023-10-01 15:53:23\u001b[0m [\u001b[32m\u001b[1minfo     \u001b[0m] \u001b[1mSAC_online_20231001152221: epoch=73 step=73000\u001b[0m \u001b[36mepoch\u001b[0m=\u001b[35m73\u001b[0m \u001b[36mmetrics\u001b[0m=\u001b[35m{'time_inference': 0.0015828979015350341, 'time_environment_step': 0.00013651442527770995, 'time_sample_batch': 0.0004332735538482666, 'time_algorithm_update': 0.01409479022026062, 'temp_loss': -0.00014894816871674265, 'temp': 0.018503858111798763, 'critic_loss': 0.7632559129223228, 'actor_loss': -86.68093730926513, 'time_step': 0.016344545364379882, 'rollout_return': 1000.0, 'evaluation': 1000.0}\u001b[0m \u001b[36mstep\u001b[0m=\u001b[35m73000\u001b[0m\n",
      "\u001b[2m2023-10-01 15:53:52\u001b[0m [\u001b[32m\u001b[1minfo     \u001b[0m] \u001b[1mModel parameters are saved to d3rlpy_logs/SAC_online_20231001152221/model_74000.pt\u001b[0m\n",
      "\u001b[2m2023-10-01 15:53:52\u001b[0m [\u001b[32m\u001b[1minfo     \u001b[0m] \u001b[1mSAC_online_20231001152221: epoch=74 step=74000\u001b[0m \u001b[36mepoch\u001b[0m=\u001b[35m74\u001b[0m \u001b[36mmetrics\u001b[0m=\u001b[35m{'time_inference': 0.0016510417461395263, 'time_environment_step': 0.00013578081130981445, 'time_sample_batch': 0.0004383842945098877, 'time_algorithm_update': 0.014498911380767822, 'temp_loss': 3.042647850816138e-05, 'temp': 0.018323088189586997, 'critic_loss': 0.9736605479717254, 'actor_loss': -87.07264575195312, 'time_step': 0.016823442697525025, 'rollout_return': 1000.0, 'evaluation': 1000.0}\u001b[0m \u001b[36mstep\u001b[0m=\u001b[35m74000\u001b[0m\n",
      "\u001b[2m2023-10-01 15:54:22\u001b[0m [\u001b[32m\u001b[1minfo     \u001b[0m] \u001b[1mModel parameters are saved to d3rlpy_logs/SAC_online_20231001152221/model_75000.pt\u001b[0m\n",
      "\u001b[2m2023-10-01 15:54:22\u001b[0m [\u001b[32m\u001b[1minfo     \u001b[0m] \u001b[1mSAC_online_20231001152221: epoch=75 step=75000\u001b[0m \u001b[36mepoch\u001b[0m=\u001b[35m75\u001b[0m \u001b[36mmetrics\u001b[0m=\u001b[35m{'time_inference': 0.0016597280502319337, 'time_environment_step': 0.00013757801055908203, 'time_sample_batch': 0.00044249868392944334, 'time_algorithm_update': 0.014604729413986207, 'temp_loss': 0.00013670239194470924, 'temp': 0.017511715428903698, 'critic_loss': 0.903928357437253, 'actor_loss': -87.37858100891113, 'time_step': 0.01694390082359314, 'rollout_return': 1000.0, 'evaluation': 1000.0}\u001b[0m \u001b[36mstep\u001b[0m=\u001b[35m75000\u001b[0m\n",
      "\u001b[2m2023-10-01 15:54:53\u001b[0m [\u001b[32m\u001b[1minfo     \u001b[0m] \u001b[1mModel parameters are saved to d3rlpy_logs/SAC_online_20231001152221/model_76000.pt\u001b[0m\n",
      "\u001b[2m2023-10-01 15:54:53\u001b[0m [\u001b[32m\u001b[1minfo     \u001b[0m] \u001b[1mSAC_online_20231001152221: epoch=76 step=76000\u001b[0m \u001b[36mepoch\u001b[0m=\u001b[35m76\u001b[0m \u001b[36mmetrics\u001b[0m=\u001b[35m{'time_inference': 0.0016299500465393067, 'time_environment_step': 0.00013749289512634278, 'time_sample_batch': 0.00043831872940063477, 'time_algorithm_update': 0.014380736827850342, 'temp_loss': -0.0005792484405537834, 'temp': 0.01908502115868032, 'critic_loss': 0.8903557195216417, 'actor_loss': -87.77387247467041, 'time_step': 0.016685648202896117, 'rollout_return': 1000.0, 'evaluation': 1000.0}\u001b[0m \u001b[36mstep\u001b[0m=\u001b[35m76000\u001b[0m\n",
      "\u001b[2m2023-10-01 15:55:22\u001b[0m [\u001b[32m\u001b[1minfo     \u001b[0m] \u001b[1mModel parameters are saved to d3rlpy_logs/SAC_online_20231001152221/model_77000.pt\u001b[0m\n",
      "\u001b[2m2023-10-01 15:55:22\u001b[0m [\u001b[32m\u001b[1minfo     \u001b[0m] \u001b[1mSAC_online_20231001152221: epoch=77 step=77000\u001b[0m \u001b[36mepoch\u001b[0m=\u001b[35m77\u001b[0m \u001b[36mmetrics\u001b[0m=\u001b[35m{'time_inference': 0.0016137666702270507, 'time_environment_step': 0.00013332104682922362, 'time_sample_batch': 0.00043751764297485354, 'time_algorithm_update': 0.014455326318740845, 'temp_loss': 0.00045200714058591984, 'temp': 0.01996203615516424, 'critic_loss': 0.7946982603818178, 'actor_loss': -88.2140754776001, 'time_step': 0.01673787593841553, 'rollout_return': 1000.0, 'evaluation': 1000.0}\u001b[0m \u001b[36mstep\u001b[0m=\u001b[35m77000\u001b[0m\n",
      "\u001b[2m2023-10-01 15:55:51\u001b[0m [\u001b[32m\u001b[1minfo     \u001b[0m] \u001b[1mModel parameters are saved to d3rlpy_logs/SAC_online_20231001152221/model_78000.pt\u001b[0m\n",
      "\u001b[2m2023-10-01 15:55:51\u001b[0m [\u001b[32m\u001b[1minfo     \u001b[0m] \u001b[1mSAC_online_20231001152221: epoch=78 step=78000\u001b[0m \u001b[36mepoch\u001b[0m=\u001b[35m78\u001b[0m \u001b[36mmetrics\u001b[0m=\u001b[35m{'time_inference': 0.0016608128547668456, 'time_environment_step': 0.00014008617401123046, 'time_sample_batch': 0.00044481658935546873, 'time_algorithm_update': 0.014540885925292969, 'temp_loss': 0.0004239837865243317, 'temp': 0.018154354248195885, 'critic_loss': 0.9687318385392427, 'actor_loss': -88.44196301269531, 'time_step': 0.016887378215789794, 'rollout_return': 1000.0, 'evaluation': 1000.0}\u001b[0m \u001b[36mstep\u001b[0m=\u001b[35m78000\u001b[0m\n",
      "\u001b[2m2023-10-01 15:56:11\u001b[0m [\u001b[32m\u001b[1minfo     \u001b[0m] \u001b[1mModel parameters are saved to d3rlpy_logs/SAC_online_20231001152221/model_79000.pt\u001b[0m\n",
      "\u001b[2m2023-10-01 15:56:11\u001b[0m [\u001b[32m\u001b[1minfo     \u001b[0m] \u001b[1mSAC_online_20231001152221: epoch=79 step=79000\u001b[0m \u001b[36mepoch\u001b[0m=\u001b[35m79\u001b[0m \u001b[36mmetrics\u001b[0m=\u001b[35m{'time_inference': 0.0016037690639495849, 'time_environment_step': 0.00013484358787536622, 'time_sample_batch': 0.00043051934242248536, 'time_algorithm_update': 0.01426315188407898, 'temp_loss': 0.00027850236393715024, 'temp': 0.016710061814635992, 'critic_loss': 0.8661477922350168, 'actor_loss': -88.67217401123047, 'time_step': 0.0165291109085083, 'rollout_return': 1000.0, 'evaluation': 255.1}\u001b[0m \u001b[36mstep\u001b[0m=\u001b[35m79000\u001b[0m\n",
      "\u001b[2m2023-10-01 15:56:40\u001b[0m [\u001b[32m\u001b[1minfo     \u001b[0m] \u001b[1mModel parameters are saved to d3rlpy_logs/SAC_online_20231001152221/model_80000.pt\u001b[0m\n",
      "\u001b[2m2023-10-01 15:56:40\u001b[0m [\u001b[32m\u001b[1minfo     \u001b[0m] \u001b[1mSAC_online_20231001152221: epoch=80 step=80000\u001b[0m \u001b[36mepoch\u001b[0m=\u001b[35m80\u001b[0m \u001b[36mmetrics\u001b[0m=\u001b[35m{'time_inference': 0.001599400520324707, 'time_environment_step': 0.00013557982444763184, 'time_sample_batch': 0.00043469882011413575, 'time_algorithm_update': 0.014201429843902588, 'temp_loss': 6.540979410056025e-05, 'temp': 0.016916690779849888, 'critic_loss': 0.7693817586526275, 'actor_loss': -88.98055378723144, 'time_step': 0.016469141960144044, 'rollout_return': 1000.0, 'evaluation': 1000.0}\u001b[0m \u001b[36mstep\u001b[0m=\u001b[35m80000\u001b[0m\n",
      "\u001b[2m2023-10-01 15:57:09\u001b[0m [\u001b[32m\u001b[1minfo     \u001b[0m] \u001b[1mModel parameters are saved to d3rlpy_logs/SAC_online_20231001152221/model_81000.pt\u001b[0m\n",
      "\u001b[2m2023-10-01 15:57:09\u001b[0m [\u001b[32m\u001b[1minfo     \u001b[0m] \u001b[1mSAC_online_20231001152221: epoch=81 step=81000\u001b[0m \u001b[36mepoch\u001b[0m=\u001b[35m81\u001b[0m \u001b[36mmetrics\u001b[0m=\u001b[35m{'time_inference': 0.0016128485202789307, 'time_environment_step': 0.0001377270221710205, 'time_sample_batch': 0.0004381446838378906, 'time_algorithm_update': 0.014183579683303834, 'temp_loss': 0.000199262131107389, 'temp': 0.016189574578776955, 'critic_loss': 0.8312576718255877, 'actor_loss': -89.15173025512695, 'time_step': 0.016470985889434814, 'rollout_return': 1000.0, 'evaluation': 1000.0}\u001b[0m \u001b[36mstep\u001b[0m=\u001b[35m81000\u001b[0m\n",
      "\u001b[2m2023-10-01 15:57:38\u001b[0m [\u001b[32m\u001b[1minfo     \u001b[0m] \u001b[1mModel parameters are saved to d3rlpy_logs/SAC_online_20231001152221/model_82000.pt\u001b[0m\n",
      "\u001b[2m2023-10-01 15:57:38\u001b[0m [\u001b[32m\u001b[1minfo     \u001b[0m] \u001b[1mSAC_online_20231001152221: epoch=82 step=82000\u001b[0m \u001b[36mepoch\u001b[0m=\u001b[35m82\u001b[0m \u001b[36mmetrics\u001b[0m=\u001b[35m{'time_inference': 0.0016080472469329834, 'time_environment_step': 0.00013778352737426757, 'time_sample_batch': 0.000443805456161499, 'time_algorithm_update': 0.014290297269821168, 'temp_loss': 0.00018951239386660746, 'temp': 0.01521518016885966, 'critic_loss': 0.7582950468212366, 'actor_loss': -89.37324290466309, 'time_step': 0.016578811168670653, 'rollout_return': 1000.0, 'evaluation': 1000.0}\u001b[0m \u001b[36mstep\u001b[0m=\u001b[35m82000\u001b[0m\n",
      "\u001b[2m2023-10-01 15:58:08\u001b[0m [\u001b[32m\u001b[1minfo     \u001b[0m] \u001b[1mModel parameters are saved to d3rlpy_logs/SAC_online_20231001152221/model_83000.pt\u001b[0m\n",
      "\u001b[2m2023-10-01 15:58:08\u001b[0m [\u001b[32m\u001b[1minfo     \u001b[0m] \u001b[1mSAC_online_20231001152221: epoch=83 step=83000\u001b[0m \u001b[36mepoch\u001b[0m=\u001b[35m83\u001b[0m \u001b[36mmetrics\u001b[0m=\u001b[35m{'time_inference': 0.0016002559661865234, 'time_environment_step': 0.00013433218002319335, 'time_sample_batch': 0.00043493008613586427, 'time_algorithm_update': 0.014384898662567138, 'temp_loss': 0.00015954430065175985, 'temp': 0.015236042304895819, 'critic_loss': 0.7455637803375721, 'actor_loss': -89.5351630783081, 'time_step': 0.016651556968688964, 'rollout_return': 1000.0, 'evaluation': 1000.0}\u001b[0m \u001b[36mstep\u001b[0m=\u001b[35m83000\u001b[0m\n",
      "\u001b[2m2023-10-01 15:58:37\u001b[0m [\u001b[32m\u001b[1minfo     \u001b[0m] \u001b[1mModel parameters are saved to d3rlpy_logs/SAC_online_20231001152221/model_84000.pt\u001b[0m\n",
      "\u001b[2m2023-10-01 15:58:37\u001b[0m [\u001b[32m\u001b[1minfo     \u001b[0m] \u001b[1mSAC_online_20231001152221: epoch=84 step=84000\u001b[0m \u001b[36mepoch\u001b[0m=\u001b[35m84\u001b[0m \u001b[36mmetrics\u001b[0m=\u001b[35m{'time_inference': 0.001591463565826416, 'time_environment_step': 0.00013504743576049803, 'time_sample_batch': 0.0004355921745300293, 'time_algorithm_update': 0.014219824075698852, 'temp_loss': -0.0002797504016416497, 'temp': 0.014921164023689926, 'critic_loss': 0.9106738167777657, 'actor_loss': -89.7109946975708, 'time_step': 0.016479435443878174, 'rollout_return': 1000.0, 'evaluation': 1000.0}\u001b[0m \u001b[36mstep\u001b[0m=\u001b[35m84000\u001b[0m\n",
      "\u001b[2m2023-10-01 15:59:06\u001b[0m [\u001b[32m\u001b[1minfo     \u001b[0m] \u001b[1mModel parameters are saved to d3rlpy_logs/SAC_online_20231001152221/model_85000.pt\u001b[0m\n",
      "\u001b[2m2023-10-01 15:59:06\u001b[0m [\u001b[32m\u001b[1minfo     \u001b[0m] \u001b[1mSAC_online_20231001152221: epoch=85 step=85000\u001b[0m \u001b[36mepoch\u001b[0m=\u001b[35m85\u001b[0m \u001b[36mmetrics\u001b[0m=\u001b[35m{'time_inference': 0.0016324689388275146, 'time_environment_step': 0.00013643288612365722, 'time_sample_batch': 0.000439068078994751, 'time_algorithm_update': 0.014372310161590577, 'temp_loss': -0.0006623745236574905, 'temp': 0.016445711159147322, 'critic_loss': 0.6013444764092565, 'actor_loss': -89.79639702606201, 'time_step': 0.01667983055114746, 'rollout_return': 1000.0, 'evaluation': 1000.0}\u001b[0m \u001b[36mstep\u001b[0m=\u001b[35m85000\u001b[0m\n",
      "\u001b[2m2023-10-01 15:59:35\u001b[0m [\u001b[32m\u001b[1minfo     \u001b[0m] \u001b[1mModel parameters are saved to d3rlpy_logs/SAC_online_20231001152221/model_86000.pt\u001b[0m\n",
      "\u001b[2m2023-10-01 15:59:35\u001b[0m [\u001b[32m\u001b[1minfo     \u001b[0m] \u001b[1mSAC_online_20231001152221: epoch=86 step=86000\u001b[0m \u001b[36mepoch\u001b[0m=\u001b[35m86\u001b[0m \u001b[36mmetrics\u001b[0m=\u001b[35m{'time_inference': 0.0015738029479980468, 'time_environment_step': 0.00013256525993347168, 'time_sample_batch': 0.000431065559387207, 'time_algorithm_update': 0.01397387409210205, 'temp_loss': 0.0004157739372822107, 'temp': 0.017547690140083432, 'critic_loss': 0.7357506677657366, 'actor_loss': -90.14927250671387, 'time_step': 0.01620696783065796, 'rollout_return': 1000.0, 'evaluation': 1000.0}\u001b[0m \u001b[36mstep\u001b[0m=\u001b[35m86000\u001b[0m\n",
      "\u001b[2m2023-10-01 16:00:04\u001b[0m [\u001b[32m\u001b[1minfo     \u001b[0m] \u001b[1mModel parameters are saved to d3rlpy_logs/SAC_online_20231001152221/model_87000.pt\u001b[0m\n",
      "\u001b[2m2023-10-01 16:00:04\u001b[0m [\u001b[32m\u001b[1minfo     \u001b[0m] \u001b[1mSAC_online_20231001152221: epoch=87 step=87000\u001b[0m \u001b[36mepoch\u001b[0m=\u001b[35m87\u001b[0m \u001b[36mmetrics\u001b[0m=\u001b[35m{'time_inference': 0.0015895252227783204, 'time_environment_step': 0.00013365936279296874, 'time_sample_batch': 0.00043497657775878906, 'time_algorithm_update': 0.014288074731826783, 'temp_loss': 0.00012077772841439583, 'temp': 0.016356906834989787, 'critic_loss': 0.8283473510742188, 'actor_loss': -90.3140329208374, 'time_step': 0.016543407678604127, 'rollout_return': 1000.0, 'evaluation': 1000.0}\u001b[0m \u001b[36mstep\u001b[0m=\u001b[35m87000\u001b[0m\n",
      "\u001b[2m2023-10-01 16:00:33\u001b[0m [\u001b[32m\u001b[1minfo     \u001b[0m] \u001b[1mModel parameters are saved to d3rlpy_logs/SAC_online_20231001152221/model_88000.pt\u001b[0m\n",
      "\u001b[2m2023-10-01 16:00:33\u001b[0m [\u001b[32m\u001b[1minfo     \u001b[0m] \u001b[1mSAC_online_20231001152221: epoch=88 step=88000\u001b[0m \u001b[36mepoch\u001b[0m=\u001b[35m88\u001b[0m \u001b[36mmetrics\u001b[0m=\u001b[35m{'time_inference': 0.0016306278705596924, 'time_environment_step': 0.00013669919967651366, 'time_sample_batch': 0.00044052791595458986, 'time_algorithm_update': 0.014319095373153687, 'temp_loss': -0.00017114545174263184, 'temp': 0.01611837686225772, 'critic_loss': 0.7772630765736103, 'actor_loss': -90.46121167755128, 'time_step': 0.01662636852264404, 'rollout_return': 1000.0, 'evaluation': 1000.0}\u001b[0m \u001b[36mstep\u001b[0m=\u001b[35m88000\u001b[0m\n",
      "\u001b[2m2023-10-01 16:01:02\u001b[0m [\u001b[32m\u001b[1minfo     \u001b[0m] \u001b[1mModel parameters are saved to d3rlpy_logs/SAC_online_20231001152221/model_89000.pt\u001b[0m\n",
      "\u001b[2m2023-10-01 16:01:02\u001b[0m [\u001b[32m\u001b[1minfo     \u001b[0m] \u001b[1mSAC_online_20231001152221: epoch=89 step=89000\u001b[0m \u001b[36mepoch\u001b[0m=\u001b[35m89\u001b[0m \u001b[36mmetrics\u001b[0m=\u001b[35m{'time_inference': 0.0016122965812683107, 'time_environment_step': 0.00013727188110351562, 'time_sample_batch': 0.00044766712188720704, 'time_algorithm_update': 0.01432761836051941, 'temp_loss': 4.1345265053678304e-05, 'temp': 0.016707735085859893, 'critic_loss': 0.6819011984467507, 'actor_loss': -90.70121885681152, 'time_step': 0.016623810052871703, 'rollout_return': 1000.0, 'evaluation': 1000.0}\u001b[0m \u001b[36mstep\u001b[0m=\u001b[35m89000\u001b[0m\n",
      "\u001b[2m2023-10-01 16:01:31\u001b[0m [\u001b[32m\u001b[1minfo     \u001b[0m] \u001b[1mModel parameters are saved to d3rlpy_logs/SAC_online_20231001152221/model_90000.pt\u001b[0m\n",
      "\u001b[2m2023-10-01 16:01:31\u001b[0m [\u001b[32m\u001b[1minfo     \u001b[0m] \u001b[1mSAC_online_20231001152221: epoch=90 step=90000\u001b[0m \u001b[36mepoch\u001b[0m=\u001b[35m90\u001b[0m \u001b[36mmetrics\u001b[0m=\u001b[35m{'time_inference': 0.0016096005439758302, 'time_environment_step': 0.0001359095573425293, 'time_sample_batch': 0.00043755626678466795, 'time_algorithm_update': 0.014275655269622803, 'temp_loss': 0.0003218445806123782, 'temp': 0.016049949649721385, 'critic_loss': 0.7172353842556477, 'actor_loss': -90.80350375366211, 'time_step': 0.016556456327438355, 'rollout_return': 1000.0, 'evaluation': 1000.0}\u001b[0m \u001b[36mstep\u001b[0m=\u001b[35m90000\u001b[0m\n",
      "\u001b[2m2023-10-01 16:02:01\u001b[0m [\u001b[32m\u001b[1minfo     \u001b[0m] \u001b[1mModel parameters are saved to d3rlpy_logs/SAC_online_20231001152221/model_91000.pt\u001b[0m\n",
      "\u001b[2m2023-10-01 16:02:01\u001b[0m [\u001b[32m\u001b[1minfo     \u001b[0m] \u001b[1mSAC_online_20231001152221: epoch=91 step=91000\u001b[0m \u001b[36mepoch\u001b[0m=\u001b[35m91\u001b[0m \u001b[36mmetrics\u001b[0m=\u001b[35m{'time_inference': 0.001634556531906128, 'time_environment_step': 0.00013602447509765625, 'time_sample_batch': 0.00043970918655395505, 'time_algorithm_update': 0.014543107271194459, 'temp_loss': -6.837376116891391e-06, 'temp': 0.015286130047403276, 'critic_loss': 0.685092583976686, 'actor_loss': -91.021927734375, 'time_step': 0.01685201382637024, 'rollout_return': 1000.0, 'evaluation': 1000.0}\u001b[0m \u001b[36mstep\u001b[0m=\u001b[35m91000\u001b[0m\n",
      "\u001b[2m2023-10-01 16:02:30\u001b[0m [\u001b[32m\u001b[1minfo     \u001b[0m] \u001b[1mModel parameters are saved to d3rlpy_logs/SAC_online_20231001152221/model_92000.pt\u001b[0m\n",
      "\u001b[2m2023-10-01 16:02:30\u001b[0m [\u001b[32m\u001b[1minfo     \u001b[0m] \u001b[1mSAC_online_20231001152221: epoch=92 step=92000\u001b[0m \u001b[36mepoch\u001b[0m=\u001b[35m92\u001b[0m \u001b[36mmetrics\u001b[0m=\u001b[35m{'time_inference': 0.0016269278526306152, 'time_environment_step': 0.00013361430168151855, 'time_sample_batch': 0.00043312311172485354, 'time_algorithm_update': 0.014310899734497071, 'temp_loss': 4.169089622882893e-05, 'temp': 0.015600730886682868, 'critic_loss': 0.6487681110203266, 'actor_loss': -91.2344449081421, 'time_step': 0.016602526664733885, 'rollout_return': 1000.0, 'evaluation': 1000.0}\u001b[0m \u001b[36mstep\u001b[0m=\u001b[35m92000\u001b[0m\n",
      "\u001b[2m2023-10-01 16:03:00\u001b[0m [\u001b[32m\u001b[1minfo     \u001b[0m] \u001b[1mModel parameters are saved to d3rlpy_logs/SAC_online_20231001152221/model_93000.pt\u001b[0m\n",
      "\u001b[2m2023-10-01 16:03:00\u001b[0m [\u001b[32m\u001b[1minfo     \u001b[0m] \u001b[1mSAC_online_20231001152221: epoch=93 step=93000\u001b[0m \u001b[36mepoch\u001b[0m=\u001b[35m93\u001b[0m \u001b[36mmetrics\u001b[0m=\u001b[35m{'time_inference': 0.0016116127967834473, 'time_environment_step': 0.0001335616111755371, 'time_sample_batch': 0.0004355905055999756, 'time_algorithm_update': 0.014280278205871582, 'temp_loss': -0.0001726496829651296, 'temp': 0.015697727967984975, 'critic_loss': 0.8831504361853003, 'actor_loss': -91.49012828063965, 'time_step': 0.01655855941772461, 'rollout_return': 1000.0, 'evaluation': 1000.0}\u001b[0m \u001b[36mstep\u001b[0m=\u001b[35m93000\u001b[0m\n",
      "\u001b[2m2023-10-01 16:03:29\u001b[0m [\u001b[32m\u001b[1minfo     \u001b[0m] \u001b[1mModel parameters are saved to d3rlpy_logs/SAC_online_20231001152221/model_94000.pt\u001b[0m\n",
      "\u001b[2m2023-10-01 16:03:29\u001b[0m [\u001b[32m\u001b[1minfo     \u001b[0m] \u001b[1mSAC_online_20231001152221: epoch=94 step=94000\u001b[0m \u001b[36mepoch\u001b[0m=\u001b[35m94\u001b[0m \u001b[36mmetrics\u001b[0m=\u001b[35m{'time_inference': 0.0015988445281982422, 'time_environment_step': 0.0001331613063812256, 'time_sample_batch': 0.0004287674427032471, 'time_algorithm_update': 0.014204876184463502, 'temp_loss': 0.00036095811799168585, 'temp': 0.015093370012938976, 'critic_loss': 0.7253005431815982, 'actor_loss': -91.70523276519775, 'time_step': 0.01646237564086914, 'rollout_return': 1000.0, 'evaluation': 1000.0}\u001b[0m \u001b[36mstep\u001b[0m=\u001b[35m94000\u001b[0m\n",
      "\u001b[2m2023-10-01 16:03:58\u001b[0m [\u001b[32m\u001b[1minfo     \u001b[0m] \u001b[1mModel parameters are saved to d3rlpy_logs/SAC_online_20231001152221/model_95000.pt\u001b[0m\n",
      "\u001b[2m2023-10-01 16:03:58\u001b[0m [\u001b[32m\u001b[1minfo     \u001b[0m] \u001b[1mSAC_online_20231001152221: epoch=95 step=95000\u001b[0m \u001b[36mepoch\u001b[0m=\u001b[35m95\u001b[0m \u001b[36mmetrics\u001b[0m=\u001b[35m{'time_inference': 0.001571479082107544, 'time_environment_step': 0.00013093996047973633, 'time_sample_batch': 0.00042371106147766113, 'time_algorithm_update': 0.01412271785736084, 'temp_loss': -0.00010990077353926609, 'temp': 0.015067901999689638, 'critic_loss': 0.7302600982040167, 'actor_loss': -91.93219662475586, 'time_step': 0.016344464778900145, 'rollout_return': 1000.0, 'evaluation': 1000.0}\u001b[0m \u001b[36mstep\u001b[0m=\u001b[35m95000\u001b[0m\n",
      "\u001b[2m2023-10-01 16:04:27\u001b[0m [\u001b[32m\u001b[1minfo     \u001b[0m] \u001b[1mModel parameters are saved to d3rlpy_logs/SAC_online_20231001152221/model_96000.pt\u001b[0m\n",
      "\u001b[2m2023-10-01 16:04:27\u001b[0m [\u001b[32m\u001b[1minfo     \u001b[0m] \u001b[1mSAC_online_20231001152221: epoch=96 step=96000\u001b[0m \u001b[36mepoch\u001b[0m=\u001b[35m96\u001b[0m \u001b[36mmetrics\u001b[0m=\u001b[35m{'time_inference': 0.0015947318077087402, 'time_environment_step': 0.0001351909637451172, 'time_sample_batch': 0.000437098503112793, 'time_algorithm_update': 0.014374635219573974, 'temp_loss': -0.00010386195297905942, 'temp': 0.015018711962737142, 'critic_loss': 0.7205953106433153, 'actor_loss': -92.07926042938233, 'time_step': 0.016639208793640135, 'rollout_return': 1000.0, 'evaluation': 1000.0}\u001b[0m \u001b[36mstep\u001b[0m=\u001b[35m96000\u001b[0m\n",
      "\u001b[2m2023-10-01 16:04:56\u001b[0m [\u001b[32m\u001b[1minfo     \u001b[0m] \u001b[1mModel parameters are saved to d3rlpy_logs/SAC_online_20231001152221/model_97000.pt\u001b[0m\n",
      "\u001b[2m2023-10-01 16:04:56\u001b[0m [\u001b[32m\u001b[1minfo     \u001b[0m] \u001b[1mSAC_online_20231001152221: epoch=97 step=97000\u001b[0m \u001b[36mepoch\u001b[0m=\u001b[35m97\u001b[0m \u001b[36mmetrics\u001b[0m=\u001b[35m{'time_inference': 0.0016237304210662841, 'time_environment_step': 0.000136397123336792, 'time_sample_batch': 0.000438746452331543, 'time_algorithm_update': 0.014389179706573486, 'temp_loss': -0.0012417272568418412, 'temp': 0.017367240854538977, 'critic_loss': 0.77094761454314, 'actor_loss': -92.27219664764404, 'time_step': 0.01668708300590515, 'rollout_return': 1000.0, 'evaluation': 1000.0}\u001b[0m \u001b[36mstep\u001b[0m=\u001b[35m97000\u001b[0m\n",
      "\u001b[2m2023-10-01 16:05:25\u001b[0m [\u001b[32m\u001b[1minfo     \u001b[0m] \u001b[1mModel parameters are saved to d3rlpy_logs/SAC_online_20231001152221/model_98000.pt\u001b[0m\n",
      "\u001b[2m2023-10-01 16:05:25\u001b[0m [\u001b[32m\u001b[1minfo     \u001b[0m] \u001b[1mSAC_online_20231001152221: epoch=98 step=98000\u001b[0m \u001b[36mepoch\u001b[0m=\u001b[35m98\u001b[0m \u001b[36mmetrics\u001b[0m=\u001b[35m{'time_inference': 0.0015952813625335694, 'time_environment_step': 0.00013473844528198243, 'time_sample_batch': 0.00043260741233825686, 'time_algorithm_update': 0.014375120162963868, 'temp_loss': -0.00038224078765051675, 'temp': 0.020786315131932496, 'critic_loss': 0.6697510425820947, 'actor_loss': -92.43687784576416, 'time_step': 0.016635187149047853, 'rollout_return': 1000.0, 'evaluation': 1000.0}\u001b[0m \u001b[36mstep\u001b[0m=\u001b[35m98000\u001b[0m\n",
      "\u001b[2m2023-10-01 16:05:54\u001b[0m [\u001b[32m\u001b[1minfo     \u001b[0m] \u001b[1mModel parameters are saved to d3rlpy_logs/SAC_online_20231001152221/model_99000.pt\u001b[0m\n",
      "\u001b[2m2023-10-01 16:05:54\u001b[0m [\u001b[32m\u001b[1minfo     \u001b[0m] \u001b[1mSAC_online_20231001152221: epoch=99 step=99000\u001b[0m \u001b[36mepoch\u001b[0m=\u001b[35m99\u001b[0m \u001b[36mmetrics\u001b[0m=\u001b[35m{'time_inference': 0.0016286189556121826, 'time_environment_step': 0.00013714861869812013, 'time_sample_batch': 0.0004466395378112793, 'time_algorithm_update': 0.014443000793457032, 'temp_loss': 0.0008042285126139177, 'temp': 0.01961866401322186, 'critic_loss': 0.6852531371712685, 'actor_loss': -92.62284248352051, 'time_step': 0.016754849433898926, 'rollout_return': 1000.0, 'evaluation': 1000.0}\u001b[0m \u001b[36mstep\u001b[0m=\u001b[35m99000\u001b[0m\n",
      "\u001b[2m2023-10-01 16:06:24\u001b[0m [\u001b[32m\u001b[1minfo     \u001b[0m] \u001b[1mModel parameters are saved to d3rlpy_logs/SAC_online_20231001152221/model_100000.pt\u001b[0m\n",
      "\u001b[2m2023-10-01 16:06:24\u001b[0m [\u001b[32m\u001b[1minfo     \u001b[0m] \u001b[1mSAC_online_20231001152221: epoch=100 step=100000\u001b[0m \u001b[36mepoch\u001b[0m=\u001b[35m100\u001b[0m \u001b[36mmetrics\u001b[0m=\u001b[35m{'time_inference': 0.0016399669647216798, 'time_environment_step': 0.0001375234127044678, 'time_sample_batch': 0.00044420027732849124, 'time_algorithm_update': 0.01452633786201477, 'temp_loss': 8.358236919593764e-05, 'temp': 0.018499220797792076, 'critic_loss': 0.6253533000983298, 'actor_loss': -92.75830204010009, 'time_step': 0.016847562313079833, 'rollout_return': 1000.0, 'evaluation': 1000.0}\u001b[0m \u001b[36mstep\u001b[0m=\u001b[35m100000\u001b[0m\n"
     ]
    }
   ],
   "source": [
    "actor_encoder = d3rlpy.models.encoders.DefaultEncoderFactory(dropout_rate=0.2)\n",
    "# setup algorithm\n",
    "sac = d3rlpy.algos.SAC(\n",
    "    batch_size=256,\n",
    "    actor_encoder_factory=actor_encoder,\n",
    "    actor_learning_rate=3e-4,\n",
    "    critic_learning_rate=3e-4,\n",
    "    temp_learning_rate=3e-4,\n",
    "    use_gpu=use_gpu\n",
    ")\n",
    "\n",
    "# prepare utilities\n",
    "buffer = d3rlpy.online.buffers.ReplayBuffer(maxlen=1000000, env=env)\n",
    "\n",
    "# start training\n",
    "sac.fit_online(\n",
    "    env,\n",
    "    buffer,\n",
    "    eval_env=eval_env,\n",
    "    n_steps=100000,\n",
    "    n_steps_per_epoch=1000,\n",
    "    update_interval=1,\n",
    "    update_start_step=1000,\n",
    "    tensorboard_dir='tensorboard_logs'\n",
    ")"
   ]
  },
  {
   "cell_type": "code",
   "execution_count": 15,
   "id": "ce7e7bd2-1bdf-4dec-9ecc-d1b42275b07e",
   "metadata": {},
   "outputs": [],
   "source": [
    "# export replay buffer as MDPDataset\n",
    "dataset = buffer.to_mdp_dataset()\n",
    "\n",
    "# save MDPDataset\n",
    "dataset.dump('d3rlpy_data/inverted_pendulum2.h5')"
   ]
  },
  {
   "cell_type": "markdown",
   "id": "74f4fca6-103e-4428-8afe-04f98213ed31",
   "metadata": {},
   "source": [
    "## Load the dataset"
   ]
  },
  {
   "cell_type": "code",
   "execution_count": 6,
   "id": "987e3d33-fceb-4576-a2da-5f617d746d01",
   "metadata": {},
   "outputs": [],
   "source": [
    "dataset = d3rlpy.dataset.MDPDataset.load('d3rlpy_data/inverted_pendulum2.h5')"
   ]
  },
  {
   "cell_type": "code",
   "execution_count": 7,
   "id": "5d4e58c8-a0ea-42a0-825a-702e5fa767be",
   "metadata": {},
   "outputs": [],
   "source": [
    "train_episodes, test_episodes = train_test_split(dataset, random_state=seed)"
   ]
  },
  {
   "cell_type": "markdown",
   "id": "425935b5-2a2f-497d-a63e-c2eb7f7cf8eb",
   "metadata": {},
   "source": [
    "## Dynamics learning"
   ]
  },
  {
   "cell_type": "code",
   "execution_count": 17,
   "id": "d6db25ae-3d57-4680-bec9-9ccde0b9f983",
   "metadata": {},
   "outputs": [
    {
     "name": "stdout",
     "output_type": "stream",
     "text": [
      "Using InvertedPendulumEncoderFactory\n"
     ]
    }
   ],
   "source": [
    "# encoder_factory = encoders.InvertedPendulumEncoderFactory()\n",
    "dynamics = d3rlpy.dynamics.ProbabilisticEnsembleDynamics(learning_rate=1e-4, use_gpu=True, encoder_factory=\"inverted_pendulum\")"
   ]
  },
  {
   "cell_type": "code",
   "execution_count": 18,
   "id": "a6a23e36",
   "metadata": {
    "scrolled": true
   },
   "outputs": [
    {
     "name": "stdout",
     "output_type": "stream",
     "text": [
      "\u001b[2m2023-10-02 23:06:32\u001b[0m [\u001b[32m\u001b[1mdebug    \u001b[0m] \u001b[1mRoundIterator is selected.\u001b[0m\n",
      "\u001b[2m2023-10-02 23:06:32\u001b[0m [\u001b[32m\u001b[1minfo     \u001b[0m] \u001b[1mDirectory is created at d3rlpy_logs/ProbabilisticEnsembleDynamics_20231002230632\u001b[0m\n",
      "\u001b[2m2023-10-02 23:06:32\u001b[0m [\u001b[32m\u001b[1mdebug    \u001b[0m] \u001b[1mBuilding models...\u001b[0m\n",
      "\u001b[2m2023-10-02 23:06:32\u001b[0m [\u001b[32m\u001b[1mdebug    \u001b[0m] \u001b[1mModels have been built.\u001b[0m\n",
      "\u001b[2m2023-10-02 23:06:32\u001b[0m [\u001b[32m\u001b[1minfo     \u001b[0m] \u001b[1mParameters are saved to d3rlpy_logs/ProbabilisticEnsembleDynamics_20231002230632/params.json\u001b[0m \u001b[36mparams\u001b[0m=\u001b[35m{'action_scaler': None, 'batch_size': 100, 'discrete_action': False, 'encoder_factory': {'type': 'inverted_pendulum', 'params': {'hidden_units': [256, 256], 'activation': 'relu', 'use_batch_norm': False, 'dropout_rate': None, 'use_dense': False}}, 'gamma': 1.0, 'generated_maxlen': 100000, 'learning_rate': 0.0001, 'n_ensembles': 5, 'n_frames': 1, 'n_steps': 1, 'optim_factory': {'optim_cls': 'Adam', 'betas': (0.9, 0.999), 'eps': 1e-08, 'weight_decay': 0.0001, 'amsgrad': False}, 'real_ratio': 1.0, 'reward_scaler': None, 'scaler': None, 'use_gpu': 0, 'variance_type': 'max', 'algorithm': 'ProbabilisticEnsembleDynamics', 'observation_shape': (4,), 'action_size': 1}\u001b[0m\n"
     ]
    },
    {
     "data": {
      "application/vnd.jupyter.widget-view+json": {
       "model_id": "06d6e8297aac4c44b66aa04a4abc567b",
       "version_major": 2,
       "version_minor": 0
      },
      "text/plain": [
       "Epoch 1/100:   0%|          | 0/751 [00:00<?, ?it/s]"
      ]
     },
     "metadata": {},
     "output_type": "display_data"
    },
    {
     "name": "stdout",
     "output_type": "stream",
     "text": [
      "\u001b[2m2023-10-02 23:06:43\u001b[0m [\u001b[32m\u001b[1minfo     \u001b[0m] \u001b[1mProbabilisticEnsembleDynamics_20231002230632: epoch=1 step=751\u001b[0m \u001b[36mepoch\u001b[0m=\u001b[35m1\u001b[0m \u001b[36mmetrics\u001b[0m=\u001b[35m{'time_sample_batch': 0.00022852055718514637, 'time_algorithm_update': 0.013406936719160423, 'loss': -21.364473361799742, 'time_step': 0.013703783406081117, 'observation_error': 0.05243828512231935, 'reward_error': 0.0017379385478908265, 'variance': 0.06518403561763936}\u001b[0m \u001b[36mstep\u001b[0m=\u001b[35m751\u001b[0m\n",
      "\u001b[2m2023-10-02 23:06:43\u001b[0m [\u001b[32m\u001b[1minfo     \u001b[0m] \u001b[1mModel parameters are saved to d3rlpy_logs/ProbabilisticEnsembleDynamics_20231002230632/model_751.pt\u001b[0m\n"
     ]
    },
    {
     "data": {
      "application/vnd.jupyter.widget-view+json": {
       "model_id": "a450e1b4300e4ae38ff2cbd403928a66",
       "version_major": 2,
       "version_minor": 0
      },
      "text/plain": [
       "Epoch 2/100:   0%|          | 0/751 [00:00<?, ?it/s]"
      ]
     },
     "metadata": {},
     "output_type": "display_data"
    },
    {
     "name": "stdout",
     "output_type": "stream",
     "text": [
      "\u001b[2m2023-10-02 23:06:55\u001b[0m [\u001b[32m\u001b[1minfo     \u001b[0m] \u001b[1mProbabilisticEnsembleDynamics_20231002230632: epoch=2 step=1502\u001b[0m \u001b[36mepoch\u001b[0m=\u001b[35m2\u001b[0m \u001b[36mmetrics\u001b[0m=\u001b[35m{'time_sample_batch': 0.00022441315428712238, 'time_algorithm_update': 0.01318661001487356, 'loss': -31.360013313204565, 'time_step': 0.013474410129450609, 'observation_error': 0.030806009419821413, 'reward_error': 0.0008161839346589291, 'variance': 0.02939949919303506}\u001b[0m \u001b[36mstep\u001b[0m=\u001b[35m1502\u001b[0m\n",
      "\u001b[2m2023-10-02 23:06:55\u001b[0m [\u001b[32m\u001b[1minfo     \u001b[0m] \u001b[1mModel parameters are saved to d3rlpy_logs/ProbabilisticEnsembleDynamics_20231002230632/model_1502.pt\u001b[0m\n"
     ]
    },
    {
     "data": {
      "application/vnd.jupyter.widget-view+json": {
       "model_id": "0edd1db7cb614f4da7b03642c8e97370",
       "version_major": 2,
       "version_minor": 0
      },
      "text/plain": [
       "Epoch 3/100:   0%|          | 0/751 [00:00<?, ?it/s]"
      ]
     },
     "metadata": {},
     "output_type": "display_data"
    },
    {
     "name": "stdout",
     "output_type": "stream",
     "text": [
      "\u001b[2m2023-10-02 23:07:07\u001b[0m [\u001b[32m\u001b[1minfo     \u001b[0m] \u001b[1mProbabilisticEnsembleDynamics_20231002230632: epoch=3 step=2253\u001b[0m \u001b[36mepoch\u001b[0m=\u001b[35m3\u001b[0m \u001b[36mmetrics\u001b[0m=\u001b[35m{'time_sample_batch': 0.00024834739542832864, 'time_algorithm_update': 0.013635611883333615, 'loss': -37.95246935303456, 'time_step': 0.013954735310195131, 'observation_error': 0.019543565701348038, 'reward_error': 0.00010574237357376756, 'variance': 0.014075724658158869}\u001b[0m \u001b[36mstep\u001b[0m=\u001b[35m2253\u001b[0m\n",
      "\u001b[2m2023-10-02 23:07:07\u001b[0m [\u001b[32m\u001b[1minfo     \u001b[0m] \u001b[1mModel parameters are saved to d3rlpy_logs/ProbabilisticEnsembleDynamics_20231002230632/model_2253.pt\u001b[0m\n"
     ]
    },
    {
     "data": {
      "application/vnd.jupyter.widget-view+json": {
       "model_id": "394813adfab94974bdbdeab317697553",
       "version_major": 2,
       "version_minor": 0
      },
      "text/plain": [
       "Epoch 4/100:   0%|          | 0/751 [00:00<?, ?it/s]"
      ]
     },
     "metadata": {},
     "output_type": "display_data"
    },
    {
     "name": "stdout",
     "output_type": "stream",
     "text": [
      "\u001b[2m2023-10-02 23:07:18\u001b[0m [\u001b[32m\u001b[1minfo     \u001b[0m] \u001b[1mProbabilisticEnsembleDynamics_20231002230632: epoch=4 step=3004\u001b[0m \u001b[36mepoch\u001b[0m=\u001b[35m4\u001b[0m \u001b[36mmetrics\u001b[0m=\u001b[35m{'time_sample_batch': 0.0002418024720904354, 'time_algorithm_update': 0.013314464914497141, 'loss': -44.787614279199694, 'time_step': 0.01362347475856979, 'observation_error': 0.014953815019147616, 'reward_error': 4.4406497667748545e-05, 'variance': 0.008680161103078956}\u001b[0m \u001b[36mstep\u001b[0m=\u001b[35m3004\u001b[0m\n",
      "\u001b[2m2023-10-02 23:07:18\u001b[0m [\u001b[32m\u001b[1minfo     \u001b[0m] \u001b[1mModel parameters are saved to d3rlpy_logs/ProbabilisticEnsembleDynamics_20231002230632/model_3004.pt\u001b[0m\n"
     ]
    },
    {
     "data": {
      "application/vnd.jupyter.widget-view+json": {
       "model_id": "9b6465fc738c4be3ace382b465047e44",
       "version_major": 2,
       "version_minor": 0
      },
      "text/plain": [
       "Epoch 5/100:   0%|          | 0/751 [00:00<?, ?it/s]"
      ]
     },
     "metadata": {},
     "output_type": "display_data"
    },
    {
     "name": "stdout",
     "output_type": "stream",
     "text": [
      "\u001b[2m2023-10-02 23:07:29\u001b[0m [\u001b[32m\u001b[1minfo     \u001b[0m] \u001b[1mProbabilisticEnsembleDynamics_20231002230632: epoch=5 step=3755\u001b[0m \u001b[36mepoch\u001b[0m=\u001b[35m5\u001b[0m \u001b[36mmetrics\u001b[0m=\u001b[35m{'time_sample_batch': 0.00023311273394507193, 'time_algorithm_update': 0.013149672278392806, 'loss': -51.14260700190274, 'time_step': 0.013446972944765052, 'observation_error': 0.017394232104416485, 'reward_error': 3.087846773370062e-05, 'variance': 0.007074993983950143}\u001b[0m \u001b[36mstep\u001b[0m=\u001b[35m3755\u001b[0m\n",
      "\u001b[2m2023-10-02 23:07:30\u001b[0m [\u001b[32m\u001b[1minfo     \u001b[0m] \u001b[1mModel parameters are saved to d3rlpy_logs/ProbabilisticEnsembleDynamics_20231002230632/model_3755.pt\u001b[0m\n"
     ]
    },
    {
     "data": {
      "application/vnd.jupyter.widget-view+json": {
       "model_id": "204d43130667455cbf1cc07c4087f0b1",
       "version_major": 2,
       "version_minor": 0
      },
      "text/plain": [
       "Epoch 6/100:   0%|          | 0/751 [00:00<?, ?it/s]"
      ]
     },
     "metadata": {},
     "output_type": "display_data"
    },
    {
     "name": "stdout",
     "output_type": "stream",
     "text": [
      "\u001b[2m2023-10-02 23:07:41\u001b[0m [\u001b[32m\u001b[1minfo     \u001b[0m] \u001b[1mProbabilisticEnsembleDynamics_20231002230632: epoch=6 step=4506\u001b[0m \u001b[36mepoch\u001b[0m=\u001b[35m6\u001b[0m \u001b[36mmetrics\u001b[0m=\u001b[35m{'time_sample_batch': 0.00025479739578998837, 'time_algorithm_update': 0.013749021347289715, 'loss': -55.46442060051523, 'time_step': 0.01407709515364605, 'observation_error': 0.019263532296463277, 'reward_error': 1.8265105546206563e-05, 'variance': 0.014443879057905734}\u001b[0m \u001b[36mstep\u001b[0m=\u001b[35m4506\u001b[0m\n",
      "\u001b[2m2023-10-02 23:07:41\u001b[0m [\u001b[32m\u001b[1minfo     \u001b[0m] \u001b[1mModel parameters are saved to d3rlpy_logs/ProbabilisticEnsembleDynamics_20231002230632/model_4506.pt\u001b[0m\n"
     ]
    },
    {
     "data": {
      "application/vnd.jupyter.widget-view+json": {
       "model_id": "c7df6645c06b4c959d80a27c84866ff0",
       "version_major": 2,
       "version_minor": 0
      },
      "text/plain": [
       "Epoch 7/100:   0%|          | 0/751 [00:00<?, ?it/s]"
      ]
     },
     "metadata": {},
     "output_type": "display_data"
    },
    {
     "name": "stdout",
     "output_type": "stream",
     "text": [
      "\u001b[2m2023-10-02 23:07:53\u001b[0m [\u001b[32m\u001b[1minfo     \u001b[0m] \u001b[1mProbabilisticEnsembleDynamics_20231002230632: epoch=7 step=5257\u001b[0m \u001b[36mepoch\u001b[0m=\u001b[35m7\u001b[0m \u001b[36mmetrics\u001b[0m=\u001b[35m{'time_sample_batch': 0.0002697647490926811, 'time_algorithm_update': 0.01416107849496976, 'loss': -59.34817462691296, 'time_step': 0.014503739645255706, 'observation_error': 0.032411348095376775, 'reward_error': 1.1612423782347725e-05, 'variance': 0.0333428284042204}\u001b[0m \u001b[36mstep\u001b[0m=\u001b[35m5257\u001b[0m\n",
      "\u001b[2m2023-10-02 23:07:53\u001b[0m [\u001b[32m\u001b[1minfo     \u001b[0m] \u001b[1mModel parameters are saved to d3rlpy_logs/ProbabilisticEnsembleDynamics_20231002230632/model_5257.pt\u001b[0m\n"
     ]
    },
    {
     "data": {
      "application/vnd.jupyter.widget-view+json": {
       "model_id": "dcc434d7919d491eaeaaf4a581f08144",
       "version_major": 2,
       "version_minor": 0
      },
      "text/plain": [
       "Epoch 8/100:   0%|          | 0/751 [00:00<?, ?it/s]"
      ]
     },
     "metadata": {},
     "output_type": "display_data"
    },
    {
     "name": "stdout",
     "output_type": "stream",
     "text": [
      "\u001b[2m2023-10-02 23:08:06\u001b[0m [\u001b[32m\u001b[1minfo     \u001b[0m] \u001b[1mProbabilisticEnsembleDynamics_20231002230632: epoch=8 step=6008\u001b[0m \u001b[36mepoch\u001b[0m=\u001b[35m8\u001b[0m \u001b[36mmetrics\u001b[0m=\u001b[35m{'time_sample_batch': 0.00026558591586137105, 'time_algorithm_update': 0.013977731750427328, 'loss': -62.0152760767905, 'time_step': 0.014317528385614429, 'observation_error': 0.0673252108828156, 'reward_error': 1.767245480982782e-05, 'variance': 0.04918076488398031}\u001b[0m \u001b[36mstep\u001b[0m=\u001b[35m6008\u001b[0m\n",
      "\u001b[2m2023-10-02 23:08:06\u001b[0m [\u001b[32m\u001b[1minfo     \u001b[0m] \u001b[1mModel parameters are saved to d3rlpy_logs/ProbabilisticEnsembleDynamics_20231002230632/model_6008.pt\u001b[0m\n"
     ]
    },
    {
     "data": {
      "application/vnd.jupyter.widget-view+json": {
       "model_id": "3712b0236aec411db1e99b5ff257cc31",
       "version_major": 2,
       "version_minor": 0
      },
      "text/plain": [
       "Epoch 9/100:   0%|          | 0/751 [00:00<?, ?it/s]"
      ]
     },
     "metadata": {},
     "output_type": "display_data"
    },
    {
     "name": "stdout",
     "output_type": "stream",
     "text": [
      "\u001b[2m2023-10-02 23:08:17\u001b[0m [\u001b[32m\u001b[1minfo     \u001b[0m] \u001b[1mProbabilisticEnsembleDynamics_20231002230632: epoch=9 step=6759\u001b[0m \u001b[36mepoch\u001b[0m=\u001b[35m9\u001b[0m \u001b[36mmetrics\u001b[0m=\u001b[35m{'time_sample_batch': 0.0002598260912533289, 'time_algorithm_update': 0.013923051989030901, 'loss': -63.507225387105926, 'time_step': 0.014254970969595064, 'observation_error': 0.04915927840190379, 'reward_error': 1.2033055282351252e-05, 'variance': 0.06219917623601189}\u001b[0m \u001b[36mstep\u001b[0m=\u001b[35m6759\u001b[0m\n",
      "\u001b[2m2023-10-02 23:08:18\u001b[0m [\u001b[32m\u001b[1minfo     \u001b[0m] \u001b[1mModel parameters are saved to d3rlpy_logs/ProbabilisticEnsembleDynamics_20231002230632/model_6759.pt\u001b[0m\n"
     ]
    },
    {
     "data": {
      "application/vnd.jupyter.widget-view+json": {
       "model_id": "d90e79f685b34044a2a179f4ca6c81e4",
       "version_major": 2,
       "version_minor": 0
      },
      "text/plain": [
       "Epoch 10/100:   0%|          | 0/751 [00:00<?, ?it/s]"
      ]
     },
     "metadata": {},
     "output_type": "display_data"
    },
    {
     "name": "stdout",
     "output_type": "stream",
     "text": [
      "\u001b[2m2023-10-02 23:08:29\u001b[0m [\u001b[32m\u001b[1minfo     \u001b[0m] \u001b[1mProbabilisticEnsembleDynamics_20231002230632: epoch=10 step=7510\u001b[0m \u001b[36mepoch\u001b[0m=\u001b[35m10\u001b[0m \u001b[36mmetrics\u001b[0m=\u001b[35m{'time_sample_batch': 0.0002320111194717265, 'time_algorithm_update': 0.013087690114657508, 'loss': -65.16352085108446, 'time_step': 0.013385960963689852, 'observation_error': 0.04591474336085644, 'reward_error': 1.9795817991960435e-05, 'variance': 0.07341947022650049}\u001b[0m \u001b[36mstep\u001b[0m=\u001b[35m7510\u001b[0m\n",
      "\u001b[2m2023-10-02 23:08:29\u001b[0m [\u001b[32m\u001b[1minfo     \u001b[0m] \u001b[1mModel parameters are saved to d3rlpy_logs/ProbabilisticEnsembleDynamics_20231002230632/model_7510.pt\u001b[0m\n"
     ]
    },
    {
     "data": {
      "application/vnd.jupyter.widget-view+json": {
       "model_id": "9dfa6c21a3f546b8a01590c3984c5a4e",
       "version_major": 2,
       "version_minor": 0
      },
      "text/plain": [
       "Epoch 11/100:   0%|          | 0/751 [00:00<?, ?it/s]"
      ]
     },
     "metadata": {},
     "output_type": "display_data"
    },
    {
     "name": "stdout",
     "output_type": "stream",
     "text": [
      "\u001b[2m2023-10-02 23:08:40\u001b[0m [\u001b[32m\u001b[1minfo     \u001b[0m] \u001b[1mProbabilisticEnsembleDynamics_20231002230632: epoch=11 step=8261\u001b[0m \u001b[36mepoch\u001b[0m=\u001b[35m11\u001b[0m \u001b[36mmetrics\u001b[0m=\u001b[35m{'time_sample_batch': 0.00023698425800917786, 'time_algorithm_update': 0.013145448682152637, 'loss': -66.80545106740512, 'time_step': 0.013448992994590384, 'observation_error': 0.0805442244730728, 'reward_error': 1.6165564559020737e-05, 'variance': 0.08080553263930496}\u001b[0m \u001b[36mstep\u001b[0m=\u001b[35m8261\u001b[0m\n",
      "\u001b[2m2023-10-02 23:08:40\u001b[0m [\u001b[32m\u001b[1minfo     \u001b[0m] \u001b[1mModel parameters are saved to d3rlpy_logs/ProbabilisticEnsembleDynamics_20231002230632/model_8261.pt\u001b[0m\n"
     ]
    },
    {
     "data": {
      "application/vnd.jupyter.widget-view+json": {
       "model_id": "16d573df10474693aacbea2e08fd158a",
       "version_major": 2,
       "version_minor": 0
      },
      "text/plain": [
       "Epoch 12/100:   0%|          | 0/751 [00:00<?, ?it/s]"
      ]
     },
     "metadata": {},
     "output_type": "display_data"
    },
    {
     "name": "stdout",
     "output_type": "stream",
     "text": [
      "\u001b[2m2023-10-02 23:08:52\u001b[0m [\u001b[32m\u001b[1minfo     \u001b[0m] \u001b[1mProbabilisticEnsembleDynamics_20231002230632: epoch=12 step=9012\u001b[0m \u001b[36mepoch\u001b[0m=\u001b[35m12\u001b[0m \u001b[36mmetrics\u001b[0m=\u001b[35m{'time_sample_batch': 0.0002685771007512444, 'time_algorithm_update': 0.013778526519490939, 'loss': -68.19117315567921, 'time_step': 0.014116086274107667, 'observation_error': 0.08669712326070216, 'reward_error': 1.082562268590026e-05, 'variance': 0.10529988083834133}\u001b[0m \u001b[36mstep\u001b[0m=\u001b[35m9012\u001b[0m\n",
      "\u001b[2m2023-10-02 23:08:52\u001b[0m [\u001b[32m\u001b[1minfo     \u001b[0m] \u001b[1mModel parameters are saved to d3rlpy_logs/ProbabilisticEnsembleDynamics_20231002230632/model_9012.pt\u001b[0m\n"
     ]
    },
    {
     "data": {
      "application/vnd.jupyter.widget-view+json": {
       "model_id": "27fcd4ab647a4171bdbc06164f6935e5",
       "version_major": 2,
       "version_minor": 0
      },
      "text/plain": [
       "Epoch 13/100:   0%|          | 0/751 [00:00<?, ?it/s]"
      ]
     },
     "metadata": {},
     "output_type": "display_data"
    },
    {
     "name": "stdout",
     "output_type": "stream",
     "text": [
      "\u001b[2m2023-10-02 23:09:04\u001b[0m [\u001b[32m\u001b[1minfo     \u001b[0m] \u001b[1mProbabilisticEnsembleDynamics_20231002230632: epoch=13 step=9763\u001b[0m \u001b[36mepoch\u001b[0m=\u001b[35m13\u001b[0m \u001b[36mmetrics\u001b[0m=\u001b[35m{'time_sample_batch': 0.0002624769502886126, 'time_algorithm_update': 0.013673598217107008, 'loss': -68.08264416257805, 'time_step': 0.014006759450534053, 'observation_error': 0.08957194758546132, 'reward_error': 1.1794945360027843e-05, 'variance': 0.11430120413516677}\u001b[0m \u001b[36mstep\u001b[0m=\u001b[35m9763\u001b[0m\n",
      "\u001b[2m2023-10-02 23:09:04\u001b[0m [\u001b[32m\u001b[1minfo     \u001b[0m] \u001b[1mModel parameters are saved to d3rlpy_logs/ProbabilisticEnsembleDynamics_20231002230632/model_9763.pt\u001b[0m\n"
     ]
    },
    {
     "data": {
      "application/vnd.jupyter.widget-view+json": {
       "model_id": "61e8e1de98904e72919019b29b2cc910",
       "version_major": 2,
       "version_minor": 0
      },
      "text/plain": [
       "Epoch 14/100:   0%|          | 0/751 [00:00<?, ?it/s]"
      ]
     },
     "metadata": {},
     "output_type": "display_data"
    },
    {
     "name": "stdout",
     "output_type": "stream",
     "text": [
      "\u001b[2m2023-10-02 23:09:16\u001b[0m [\u001b[32m\u001b[1minfo     \u001b[0m] \u001b[1mProbabilisticEnsembleDynamics_20231002230632: epoch=14 step=10514\u001b[0m \u001b[36mepoch\u001b[0m=\u001b[35m14\u001b[0m \u001b[36mmetrics\u001b[0m=\u001b[35m{'time_sample_batch': 0.0002590149601353469, 'time_algorithm_update': 0.013809438393055679, 'loss': -69.51583102285942, 'time_step': 0.014137639504139338, 'observation_error': 0.08291350117052367, 'reward_error': 9.270348433388266e-06, 'variance': 0.1087923990052778}\u001b[0m \u001b[36mstep\u001b[0m=\u001b[35m10514\u001b[0m\n",
      "\u001b[2m2023-10-02 23:09:16\u001b[0m [\u001b[32m\u001b[1minfo     \u001b[0m] \u001b[1mModel parameters are saved to d3rlpy_logs/ProbabilisticEnsembleDynamics_20231002230632/model_10514.pt\u001b[0m\n"
     ]
    },
    {
     "data": {
      "application/vnd.jupyter.widget-view+json": {
       "model_id": "53752830d30440908130ef915d153c17",
       "version_major": 2,
       "version_minor": 0
      },
      "text/plain": [
       "Epoch 15/100:   0%|          | 0/751 [00:00<?, ?it/s]"
      ]
     },
     "metadata": {},
     "output_type": "display_data"
    },
    {
     "name": "stdout",
     "output_type": "stream",
     "text": [
      "\u001b[2m2023-10-02 23:09:28\u001b[0m [\u001b[32m\u001b[1minfo     \u001b[0m] \u001b[1mProbabilisticEnsembleDynamics_20231002230632: epoch=15 step=11265\u001b[0m \u001b[36mepoch\u001b[0m=\u001b[35m15\u001b[0m \u001b[36mmetrics\u001b[0m=\u001b[35m{'time_sample_batch': 0.0002726276768507875, 'time_algorithm_update': 0.013813515636479649, 'loss': -69.93400368455565, 'time_step': 0.014157967624588114, 'observation_error': 0.10814884753161752, 'reward_error': 1.0036446801411084e-05, 'variance': 0.12933254499097158}\u001b[0m \u001b[36mstep\u001b[0m=\u001b[35m11265\u001b[0m\n",
      "\u001b[2m2023-10-02 23:09:28\u001b[0m [\u001b[32m\u001b[1minfo     \u001b[0m] \u001b[1mModel parameters are saved to d3rlpy_logs/ProbabilisticEnsembleDynamics_20231002230632/model_11265.pt\u001b[0m\n"
     ]
    },
    {
     "data": {
      "application/vnd.jupyter.widget-view+json": {
       "model_id": "df46c93548e448be86385cafc243286b",
       "version_major": 2,
       "version_minor": 0
      },
      "text/plain": [
       "Epoch 16/100:   0%|          | 0/751 [00:00<?, ?it/s]"
      ]
     },
     "metadata": {},
     "output_type": "display_data"
    },
    {
     "name": "stdout",
     "output_type": "stream",
     "text": [
      "\u001b[2m2023-10-02 23:09:40\u001b[0m [\u001b[32m\u001b[1minfo     \u001b[0m] \u001b[1mProbabilisticEnsembleDynamics_20231002230632: epoch=16 step=12016\u001b[0m \u001b[36mepoch\u001b[0m=\u001b[35m16\u001b[0m \u001b[36mmetrics\u001b[0m=\u001b[35m{'time_sample_batch': 0.0002828657071536454, 'time_algorithm_update': 0.014573545811496943, 'loss': -70.32310646859689, 'time_step': 0.01493031080172319, 'observation_error': 0.10254627817366879, 'reward_error': 1.7276800205630933e-05, 'variance': 0.11239423467688812}\u001b[0m \u001b[36mstep\u001b[0m=\u001b[35m12016\u001b[0m\n",
      "\u001b[2m2023-10-02 23:09:41\u001b[0m [\u001b[32m\u001b[1minfo     \u001b[0m] \u001b[1mModel parameters are saved to d3rlpy_logs/ProbabilisticEnsembleDynamics_20231002230632/model_12016.pt\u001b[0m\n"
     ]
    },
    {
     "data": {
      "application/vnd.jupyter.widget-view+json": {
       "model_id": "8a92bfe9ddb6425793f7d9ce5f85d08d",
       "version_major": 2,
       "version_minor": 0
      },
      "text/plain": [
       "Epoch 17/100:   0%|          | 0/751 [00:00<?, ?it/s]"
      ]
     },
     "metadata": {},
     "output_type": "display_data"
    },
    {
     "name": "stdout",
     "output_type": "stream",
     "text": [
      "\u001b[2m2023-10-02 23:09:54\u001b[0m [\u001b[32m\u001b[1minfo     \u001b[0m] \u001b[1mProbabilisticEnsembleDynamics_20231002230632: epoch=17 step=12767\u001b[0m \u001b[36mepoch\u001b[0m=\u001b[35m17\u001b[0m \u001b[36mmetrics\u001b[0m=\u001b[35m{'time_sample_batch': 0.0003031338261224617, 'time_algorithm_update': 0.015351193881384066, 'loss': -71.60659224945759, 'time_step': 0.01573525732271522, 'observation_error': 0.09985968799495948, 'reward_error': 6.824707558734197e-06, 'variance': 0.10370214001777088}\u001b[0m \u001b[36mstep\u001b[0m=\u001b[35m12767\u001b[0m\n",
      "\u001b[2m2023-10-02 23:09:54\u001b[0m [\u001b[32m\u001b[1minfo     \u001b[0m] \u001b[1mModel parameters are saved to d3rlpy_logs/ProbabilisticEnsembleDynamics_20231002230632/model_12767.pt\u001b[0m\n"
     ]
    },
    {
     "data": {
      "application/vnd.jupyter.widget-view+json": {
       "model_id": "4a5d4abce2244de59c1dd4e650dbfbac",
       "version_major": 2,
       "version_minor": 0
      },
      "text/plain": [
       "Epoch 18/100:   0%|          | 0/751 [00:00<?, ?it/s]"
      ]
     },
     "metadata": {},
     "output_type": "display_data"
    },
    {
     "name": "stdout",
     "output_type": "stream",
     "text": [
      "\u001b[2m2023-10-02 23:10:07\u001b[0m [\u001b[32m\u001b[1minfo     \u001b[0m] \u001b[1mProbabilisticEnsembleDynamics_20231002230632: epoch=18 step=13518\u001b[0m \u001b[36mepoch\u001b[0m=\u001b[35m18\u001b[0m \u001b[36mmetrics\u001b[0m=\u001b[35m{'time_sample_batch': 0.000322298108340897, 'time_algorithm_update': 0.015944201524025908, 'loss': -71.37373577580153, 'time_step': 0.016352293812006355, 'observation_error': 0.09360046069934361, 'reward_error': 1.0666291658526499e-05, 'variance': 0.10596251167824813}\u001b[0m \u001b[36mstep\u001b[0m=\u001b[35m13518\u001b[0m\n",
      "\u001b[2m2023-10-02 23:10:07\u001b[0m [\u001b[32m\u001b[1minfo     \u001b[0m] \u001b[1mModel parameters are saved to d3rlpy_logs/ProbabilisticEnsembleDynamics_20231002230632/model_13518.pt\u001b[0m\n"
     ]
    },
    {
     "data": {
      "application/vnd.jupyter.widget-view+json": {
       "model_id": "375e6b06987e4850a3b604bbeba42185",
       "version_major": 2,
       "version_minor": 0
      },
      "text/plain": [
       "Epoch 19/100:   0%|          | 0/751 [00:00<?, ?it/s]"
      ]
     },
     "metadata": {},
     "output_type": "display_data"
    },
    {
     "name": "stdout",
     "output_type": "stream",
     "text": [
      "\u001b[2m2023-10-02 23:10:21\u001b[0m [\u001b[32m\u001b[1minfo     \u001b[0m] \u001b[1mProbabilisticEnsembleDynamics_20231002230632: epoch=19 step=14269\u001b[0m \u001b[36mepoch\u001b[0m=\u001b[35m19\u001b[0m \u001b[36mmetrics\u001b[0m=\u001b[35m{'time_sample_batch': 0.0003217419041457094, 'time_algorithm_update': 0.015881514898470332, 'loss': -71.83253711517578, 'time_step': 0.016288465888458944, 'observation_error': 0.08991161217268115, 'reward_error': 1.800241414490849e-05, 'variance': 0.10276285794382962}\u001b[0m \u001b[36mstep\u001b[0m=\u001b[35m14269\u001b[0m\n",
      "\u001b[2m2023-10-02 23:10:21\u001b[0m [\u001b[32m\u001b[1minfo     \u001b[0m] \u001b[1mModel parameters are saved to d3rlpy_logs/ProbabilisticEnsembleDynamics_20231002230632/model_14269.pt\u001b[0m\n"
     ]
    },
    {
     "data": {
      "application/vnd.jupyter.widget-view+json": {
       "model_id": "4e0d267ec36e4bd4b58afe5bddf8cdc4",
       "version_major": 2,
       "version_minor": 0
      },
      "text/plain": [
       "Epoch 20/100:   0%|          | 0/751 [00:00<?, ?it/s]"
      ]
     },
     "metadata": {},
     "output_type": "display_data"
    },
    {
     "name": "stdout",
     "output_type": "stream",
     "text": [
      "\u001b[2m2023-10-02 23:10:34\u001b[0m [\u001b[32m\u001b[1minfo     \u001b[0m] \u001b[1mProbabilisticEnsembleDynamics_20231002230632: epoch=20 step=15020\u001b[0m \u001b[36mepoch\u001b[0m=\u001b[35m20\u001b[0m \u001b[36mmetrics\u001b[0m=\u001b[35m{'time_sample_batch': 0.000302023322540974, 'time_algorithm_update': 0.014947113438389115, 'loss': -72.25845793560246, 'time_step': 0.015328389826849519, 'observation_error': 0.08515148240606984, 'reward_error': 6.608235405363918e-06, 'variance': 0.09758177180535409}\u001b[0m \u001b[36mstep\u001b[0m=\u001b[35m15020\u001b[0m\n",
      "\u001b[2m2023-10-02 23:10:34\u001b[0m [\u001b[32m\u001b[1minfo     \u001b[0m] \u001b[1mModel parameters are saved to d3rlpy_logs/ProbabilisticEnsembleDynamics_20231002230632/model_15020.pt\u001b[0m\n"
     ]
    },
    {
     "data": {
      "application/vnd.jupyter.widget-view+json": {
       "model_id": "081de6f1227449ae9a068c0a02775c89",
       "version_major": 2,
       "version_minor": 0
      },
      "text/plain": [
       "Epoch 21/100:   0%|          | 0/751 [00:00<?, ?it/s]"
      ]
     },
     "metadata": {},
     "output_type": "display_data"
    },
    {
     "name": "stdout",
     "output_type": "stream",
     "text": [
      "\u001b[2m2023-10-02 23:10:46\u001b[0m [\u001b[32m\u001b[1minfo     \u001b[0m] \u001b[1mProbabilisticEnsembleDynamics_20231002230632: epoch=21 step=15771\u001b[0m \u001b[36mepoch\u001b[0m=\u001b[35m21\u001b[0m \u001b[36mmetrics\u001b[0m=\u001b[35m{'time_sample_batch': 0.00026937013618479397, 'time_algorithm_update': 0.01403417949193962, 'loss': -72.20712048267715, 'time_step': 0.01437464471504628, 'observation_error': 0.0923139561885392, 'reward_error': 7.39015883008406e-06, 'variance': 0.08863630885275245}\u001b[0m \u001b[36mstep\u001b[0m=\u001b[35m15771\u001b[0m\n",
      "\u001b[2m2023-10-02 23:10:46\u001b[0m [\u001b[32m\u001b[1minfo     \u001b[0m] \u001b[1mModel parameters are saved to d3rlpy_logs/ProbabilisticEnsembleDynamics_20231002230632/model_15771.pt\u001b[0m\n"
     ]
    },
    {
     "data": {
      "application/vnd.jupyter.widget-view+json": {
       "model_id": "1eeb44be0a8146938b1bda72dfcb1a60",
       "version_major": 2,
       "version_minor": 0
      },
      "text/plain": [
       "Epoch 22/100:   0%|          | 0/751 [00:00<?, ?it/s]"
      ]
     },
     "metadata": {},
     "output_type": "display_data"
    },
    {
     "name": "stdout",
     "output_type": "stream",
     "text": [
      "\u001b[2m2023-10-02 23:10:58\u001b[0m [\u001b[32m\u001b[1minfo     \u001b[0m] \u001b[1mProbabilisticEnsembleDynamics_20231002230632: epoch=22 step=16522\u001b[0m \u001b[36mepoch\u001b[0m=\u001b[35m22\u001b[0m \u001b[36mmetrics\u001b[0m=\u001b[35m{'time_sample_batch': 0.0002712378012991142, 'time_algorithm_update': 0.014203738277348952, 'loss': -72.15048953791592, 'time_step': 0.014552154490220721, 'observation_error': 0.07692866129697623, 'reward_error': 3.7418223277055845e-06, 'variance': 0.08352273033010696}\u001b[0m \u001b[36mstep\u001b[0m=\u001b[35m16522\u001b[0m\n",
      "\u001b[2m2023-10-02 23:10:58\u001b[0m [\u001b[32m\u001b[1minfo     \u001b[0m] \u001b[1mModel parameters are saved to d3rlpy_logs/ProbabilisticEnsembleDynamics_20231002230632/model_16522.pt\u001b[0m\n"
     ]
    },
    {
     "data": {
      "application/vnd.jupyter.widget-view+json": {
       "model_id": "56eee11fb13d4662b135e386be3827cf",
       "version_major": 2,
       "version_minor": 0
      },
      "text/plain": [
       "Epoch 23/100:   0%|          | 0/751 [00:00<?, ?it/s]"
      ]
     },
     "metadata": {},
     "output_type": "display_data"
    },
    {
     "name": "stdout",
     "output_type": "stream",
     "text": [
      "\u001b[2m2023-10-02 23:11:11\u001b[0m [\u001b[32m\u001b[1minfo     \u001b[0m] \u001b[1mProbabilisticEnsembleDynamics_20231002230632: epoch=23 step=17273\u001b[0m \u001b[36mepoch\u001b[0m=\u001b[35m23\u001b[0m \u001b[36mmetrics\u001b[0m=\u001b[35m{'time_sample_batch': 0.0002914935390101609, 'time_algorithm_update': 0.014964285607979237, 'loss': -73.5151220155302, 'time_step': 0.015335636354794357, 'observation_error': 0.08490095318600292, 'reward_error': 5.7925253569306555e-06, 'variance': 0.08597295201042826}\u001b[0m \u001b[36mstep\u001b[0m=\u001b[35m17273\u001b[0m\n",
      "\u001b[2m2023-10-02 23:11:11\u001b[0m [\u001b[32m\u001b[1minfo     \u001b[0m] \u001b[1mModel parameters are saved to d3rlpy_logs/ProbabilisticEnsembleDynamics_20231002230632/model_17273.pt\u001b[0m\n"
     ]
    },
    {
     "data": {
      "application/vnd.jupyter.widget-view+json": {
       "model_id": "75722c3778ab44ed9cc85a46fd5cc678",
       "version_major": 2,
       "version_minor": 0
      },
      "text/plain": [
       "Epoch 24/100:   0%|          | 0/751 [00:00<?, ?it/s]"
      ]
     },
     "metadata": {},
     "output_type": "display_data"
    },
    {
     "name": "stdout",
     "output_type": "stream",
     "text": [
      "\u001b[2m2023-10-02 23:11:23\u001b[0m [\u001b[32m\u001b[1minfo     \u001b[0m] \u001b[1mProbabilisticEnsembleDynamics_20231002230632: epoch=24 step=18024\u001b[0m \u001b[36mepoch\u001b[0m=\u001b[35m24\u001b[0m \u001b[36mmetrics\u001b[0m=\u001b[35m{'time_sample_batch': 0.00026505288684098286, 'time_algorithm_update': 0.014082019719556867, 'loss': -73.30664074182828, 'time_step': 0.014418937236110317, 'observation_error': 0.07048793214635636, 'reward_error': 7.857433239333278e-06, 'variance': 0.08834296548307845}\u001b[0m \u001b[36mstep\u001b[0m=\u001b[35m18024\u001b[0m\n",
      "\u001b[2m2023-10-02 23:11:23\u001b[0m [\u001b[32m\u001b[1minfo     \u001b[0m] \u001b[1mModel parameters are saved to d3rlpy_logs/ProbabilisticEnsembleDynamics_20231002230632/model_18024.pt\u001b[0m\n"
     ]
    },
    {
     "data": {
      "application/vnd.jupyter.widget-view+json": {
       "model_id": "7d1e2f9ce25b48f398aec279fabe7808",
       "version_major": 2,
       "version_minor": 0
      },
      "text/plain": [
       "Epoch 25/100:   0%|          | 0/751 [00:00<?, ?it/s]"
      ]
     },
     "metadata": {},
     "output_type": "display_data"
    },
    {
     "name": "stdout",
     "output_type": "stream",
     "text": [
      "\u001b[2m2023-10-02 23:11:35\u001b[0m [\u001b[32m\u001b[1minfo     \u001b[0m] \u001b[1mProbabilisticEnsembleDynamics_20231002230632: epoch=25 step=18775\u001b[0m \u001b[36mepoch\u001b[0m=\u001b[35m25\u001b[0m \u001b[36mmetrics\u001b[0m=\u001b[35m{'time_sample_batch': 0.00025293417522973926, 'time_algorithm_update': 0.013547784955142817, 'loss': -73.29887431471072, 'time_step': 0.013871751676069277, 'observation_error': 0.07257815352286272, 'reward_error': 7.392556208188534e-06, 'variance': 0.08042947262612472}\u001b[0m \u001b[36mstep\u001b[0m=\u001b[35m18775\u001b[0m\n",
      "\u001b[2m2023-10-02 23:11:35\u001b[0m [\u001b[32m\u001b[1minfo     \u001b[0m] \u001b[1mModel parameters are saved to d3rlpy_logs/ProbabilisticEnsembleDynamics_20231002230632/model_18775.pt\u001b[0m\n"
     ]
    },
    {
     "data": {
      "application/vnd.jupyter.widget-view+json": {
       "model_id": "3c0dd2c4298f4411b3afe8ec4abe8af1",
       "version_major": 2,
       "version_minor": 0
      },
      "text/plain": [
       "Epoch 26/100:   0%|          | 0/751 [00:00<?, ?it/s]"
      ]
     },
     "metadata": {},
     "output_type": "display_data"
    },
    {
     "name": "stdout",
     "output_type": "stream",
     "text": [
      "\u001b[2m2023-10-02 23:11:47\u001b[0m [\u001b[32m\u001b[1minfo     \u001b[0m] \u001b[1mProbabilisticEnsembleDynamics_20231002230632: epoch=26 step=19526\u001b[0m \u001b[36mepoch\u001b[0m=\u001b[35m26\u001b[0m \u001b[36mmetrics\u001b[0m=\u001b[35m{'time_sample_batch': 0.00025631235379194926, 'time_algorithm_update': 0.013820679940174168, 'loss': -73.62813315029626, 'time_step': 0.014146876874839894, 'observation_error': 0.07616823330036541, 'reward_error': 6.414180107053621e-06, 'variance': 0.07744455395938815}\u001b[0m \u001b[36mstep\u001b[0m=\u001b[35m19526\u001b[0m\n",
      "\u001b[2m2023-10-02 23:11:47\u001b[0m [\u001b[32m\u001b[1minfo     \u001b[0m] \u001b[1mModel parameters are saved to d3rlpy_logs/ProbabilisticEnsembleDynamics_20231002230632/model_19526.pt\u001b[0m\n"
     ]
    },
    {
     "data": {
      "application/vnd.jupyter.widget-view+json": {
       "model_id": "30f15d650d16472cb4475405956d9a3c",
       "version_major": 2,
       "version_minor": 0
      },
      "text/plain": [
       "Epoch 27/100:   0%|          | 0/751 [00:00<?, ?it/s]"
      ]
     },
     "metadata": {},
     "output_type": "display_data"
    },
    {
     "name": "stdout",
     "output_type": "stream",
     "text": [
      "\u001b[2m2023-10-02 23:11:59\u001b[0m [\u001b[32m\u001b[1minfo     \u001b[0m] \u001b[1mProbabilisticEnsembleDynamics_20231002230632: epoch=27 step=20277\u001b[0m \u001b[36mepoch\u001b[0m=\u001b[35m27\u001b[0m \u001b[36mmetrics\u001b[0m=\u001b[35m{'time_sample_batch': 0.0002491947179151756, 'time_algorithm_update': 0.013641683461662932, 'loss': -74.23307303264836, 'time_step': 0.01395949161798754, 'observation_error': 0.06399799687599951, 'reward_error': 4.543127282023815e-06, 'variance': 0.07252397987450558}\u001b[0m \u001b[36mstep\u001b[0m=\u001b[35m20277\u001b[0m\n",
      "\u001b[2m2023-10-02 23:11:59\u001b[0m [\u001b[32m\u001b[1minfo     \u001b[0m] \u001b[1mModel parameters are saved to d3rlpy_logs/ProbabilisticEnsembleDynamics_20231002230632/model_20277.pt\u001b[0m\n"
     ]
    },
    {
     "data": {
      "application/vnd.jupyter.widget-view+json": {
       "model_id": "9d11241f33ab45f5965a934b1c926e5f",
       "version_major": 2,
       "version_minor": 0
      },
      "text/plain": [
       "Epoch 28/100:   0%|          | 0/751 [00:00<?, ?it/s]"
      ]
     },
     "metadata": {},
     "output_type": "display_data"
    },
    {
     "name": "stdout",
     "output_type": "stream",
     "text": [
      "\u001b[2m2023-10-02 23:12:10\u001b[0m [\u001b[32m\u001b[1minfo     \u001b[0m] \u001b[1mProbabilisticEnsembleDynamics_20231002230632: epoch=28 step=21028\u001b[0m \u001b[36mepoch\u001b[0m=\u001b[35m28\u001b[0m \u001b[36mmetrics\u001b[0m=\u001b[35m{'time_sample_batch': 0.0002370287035498892, 'time_algorithm_update': 0.013247945813459658, 'loss': -74.08671614523735, 'time_step': 0.013549734527039305, 'observation_error': 0.06149779478598632, 'reward_error': 4.899795897796485e-06, 'variance': 0.07558409604096705}\u001b[0m \u001b[36mstep\u001b[0m=\u001b[35m21028\u001b[0m\n",
      "\u001b[2m2023-10-02 23:12:10\u001b[0m [\u001b[32m\u001b[1minfo     \u001b[0m] \u001b[1mModel parameters are saved to d3rlpy_logs/ProbabilisticEnsembleDynamics_20231002230632/model_21028.pt\u001b[0m\n"
     ]
    },
    {
     "data": {
      "application/vnd.jupyter.widget-view+json": {
       "model_id": "016d754cbfed459aa01450df62bbed96",
       "version_major": 2,
       "version_minor": 0
      },
      "text/plain": [
       "Epoch 29/100:   0%|          | 0/751 [00:00<?, ?it/s]"
      ]
     },
     "metadata": {},
     "output_type": "display_data"
    },
    {
     "name": "stdout",
     "output_type": "stream",
     "text": [
      "\u001b[2m2023-10-02 23:12:22\u001b[0m [\u001b[32m\u001b[1minfo     \u001b[0m] \u001b[1mProbabilisticEnsembleDynamics_20231002230632: epoch=29 step=21779\u001b[0m \u001b[36mepoch\u001b[0m=\u001b[35m29\u001b[0m \u001b[36mmetrics\u001b[0m=\u001b[35m{'time_sample_batch': 0.00025502216323872856, 'time_algorithm_update': 0.013606262905461176, 'loss': -74.7928370794507, 'time_step': 0.013928279419554851, 'observation_error': 0.05100920214037398, 'reward_error': 3.929330562832949e-06, 'variance': 0.06407551833312887}\u001b[0m \u001b[36mstep\u001b[0m=\u001b[35m21779\u001b[0m\n",
      "\u001b[2m2023-10-02 23:12:22\u001b[0m [\u001b[32m\u001b[1minfo     \u001b[0m] \u001b[1mModel parameters are saved to d3rlpy_logs/ProbabilisticEnsembleDynamics_20231002230632/model_21779.pt\u001b[0m\n"
     ]
    },
    {
     "data": {
      "application/vnd.jupyter.widget-view+json": {
       "model_id": "f387ba909ffe41d2932977f510ec388c",
       "version_major": 2,
       "version_minor": 0
      },
      "text/plain": [
       "Epoch 30/100:   0%|          | 0/751 [00:00<?, ?it/s]"
      ]
     },
     "metadata": {},
     "output_type": "display_data"
    },
    {
     "name": "stdout",
     "output_type": "stream",
     "text": [
      "\u001b[2m2023-10-02 23:12:33\u001b[0m [\u001b[32m\u001b[1minfo     \u001b[0m] \u001b[1mProbabilisticEnsembleDynamics_20231002230632: epoch=30 step=22530\u001b[0m \u001b[36mepoch\u001b[0m=\u001b[35m30\u001b[0m \u001b[36mmetrics\u001b[0m=\u001b[35m{'time_sample_batch': 0.00024615242065348413, 'time_algorithm_update': 0.01362888409834251, 'loss': -73.98152317473796, 'time_step': 0.013943553129620305, 'observation_error': 0.0533179769625825, 'reward_error': 4.726412796005333e-06, 'variance': 0.06148351277670768}\u001b[0m \u001b[36mstep\u001b[0m=\u001b[35m22530\u001b[0m\n",
      "\u001b[2m2023-10-02 23:12:33\u001b[0m [\u001b[32m\u001b[1minfo     \u001b[0m] \u001b[1mModel parameters are saved to d3rlpy_logs/ProbabilisticEnsembleDynamics_20231002230632/model_22530.pt\u001b[0m\n"
     ]
    },
    {
     "data": {
      "application/vnd.jupyter.widget-view+json": {
       "model_id": "5cfeb25beeaf4a9089785988e239de11",
       "version_major": 2,
       "version_minor": 0
      },
      "text/plain": [
       "Epoch 31/100:   0%|          | 0/751 [00:00<?, ?it/s]"
      ]
     },
     "metadata": {},
     "output_type": "display_data"
    },
    {
     "name": "stdout",
     "output_type": "stream",
     "text": [
      "\u001b[2m2023-10-02 23:12:45\u001b[0m [\u001b[32m\u001b[1minfo     \u001b[0m] \u001b[1mProbabilisticEnsembleDynamics_20231002230632: epoch=31 step=23281\u001b[0m \u001b[36mepoch\u001b[0m=\u001b[35m31\u001b[0m \u001b[36mmetrics\u001b[0m=\u001b[35m{'time_sample_batch': 0.00022664146321750036, 'time_algorithm_update': 0.012914411872426933, 'loss': -73.88663739307266, 'time_step': 0.013206700986615827, 'observation_error': 0.06358232452572908, 'reward_error': 7.853196294103082e-06, 'variance': 0.06410237869850802}\u001b[0m \u001b[36mstep\u001b[0m=\u001b[35m23281\u001b[0m\n",
      "\u001b[2m2023-10-02 23:12:45\u001b[0m [\u001b[32m\u001b[1minfo     \u001b[0m] \u001b[1mModel parameters are saved to d3rlpy_logs/ProbabilisticEnsembleDynamics_20231002230632/model_23281.pt\u001b[0m\n"
     ]
    },
    {
     "data": {
      "application/vnd.jupyter.widget-view+json": {
       "model_id": "3b39ed2148bc4ccbbd7aa9616c758284",
       "version_major": 2,
       "version_minor": 0
      },
      "text/plain": [
       "Epoch 32/100:   0%|          | 0/751 [00:00<?, ?it/s]"
      ]
     },
     "metadata": {},
     "output_type": "display_data"
    },
    {
     "name": "stdout",
     "output_type": "stream",
     "text": [
      "\u001b[2m2023-10-02 23:12:57\u001b[0m [\u001b[32m\u001b[1minfo     \u001b[0m] \u001b[1mProbabilisticEnsembleDynamics_20231002230632: epoch=32 step=24032\u001b[0m \u001b[36mepoch\u001b[0m=\u001b[35m32\u001b[0m \u001b[36mmetrics\u001b[0m=\u001b[35m{'time_sample_batch': 0.0002831796831519562, 'time_algorithm_update': 0.015043997097904292, 'loss': -74.90890298734175, 'time_step': 0.015402141487233331, 'observation_error': 0.04751395395068934, 'reward_error': 5.799251285860668e-06, 'variance': 0.05192492300743397}\u001b[0m \u001b[36mstep\u001b[0m=\u001b[35m24032\u001b[0m\n",
      "\u001b[2m2023-10-02 23:12:57\u001b[0m [\u001b[32m\u001b[1minfo     \u001b[0m] \u001b[1mModel parameters are saved to d3rlpy_logs/ProbabilisticEnsembleDynamics_20231002230632/model_24032.pt\u001b[0m\n"
     ]
    },
    {
     "data": {
      "application/vnd.jupyter.widget-view+json": {
       "model_id": "f85ffb03cbd64e7799fbcc7f06881ca4",
       "version_major": 2,
       "version_minor": 0
      },
      "text/plain": [
       "Epoch 33/100:   0%|          | 0/751 [00:00<?, ?it/s]"
      ]
     },
     "metadata": {},
     "output_type": "display_data"
    },
    {
     "name": "stdout",
     "output_type": "stream",
     "text": [
      "\u001b[2m2023-10-02 23:13:09\u001b[0m [\u001b[32m\u001b[1minfo     \u001b[0m] \u001b[1mProbabilisticEnsembleDynamics_20231002230632: epoch=33 step=24783\u001b[0m \u001b[36mepoch\u001b[0m=\u001b[35m33\u001b[0m \u001b[36mmetrics\u001b[0m=\u001b[35m{'time_sample_batch': 0.0002430917102392123, 'time_algorithm_update': 0.013386143825343064, 'loss': -75.16071557427215, 'time_step': 0.013696844504771632, 'observation_error': 0.05531357239308855, 'reward_error': 4.254540021720875e-06, 'variance': 0.049879465197805326}\u001b[0m \u001b[36mstep\u001b[0m=\u001b[35m24783\u001b[0m\n",
      "\u001b[2m2023-10-02 23:13:09\u001b[0m [\u001b[32m\u001b[1minfo     \u001b[0m] \u001b[1mModel parameters are saved to d3rlpy_logs/ProbabilisticEnsembleDynamics_20231002230632/model_24783.pt\u001b[0m\n"
     ]
    },
    {
     "data": {
      "application/vnd.jupyter.widget-view+json": {
       "model_id": "7068b8a7650d4c32a914ec0eea366cf6",
       "version_major": 2,
       "version_minor": 0
      },
      "text/plain": [
       "Epoch 34/100:   0%|          | 0/751 [00:00<?, ?it/s]"
      ]
     },
     "metadata": {},
     "output_type": "display_data"
    },
    {
     "name": "stdout",
     "output_type": "stream",
     "text": [
      "\u001b[2m2023-10-02 23:13:20\u001b[0m [\u001b[32m\u001b[1minfo     \u001b[0m] \u001b[1mProbabilisticEnsembleDynamics_20231002230632: epoch=34 step=25534\u001b[0m \u001b[36mepoch\u001b[0m=\u001b[35m34\u001b[0m \u001b[36mmetrics\u001b[0m=\u001b[35m{'time_sample_batch': 0.00023987956751837393, 'time_algorithm_update': 0.013241003420000546, 'loss': -74.69948457115976, 'time_step': 0.013546632228297655, 'observation_error': 0.052255064282763296, 'reward_error': 4.963180528435599e-06, 'variance': 0.04696049721321378}\u001b[0m \u001b[36mstep\u001b[0m=\u001b[35m25534\u001b[0m\n",
      "\u001b[2m2023-10-02 23:13:20\u001b[0m [\u001b[32m\u001b[1minfo     \u001b[0m] \u001b[1mModel parameters are saved to d3rlpy_logs/ProbabilisticEnsembleDynamics_20231002230632/model_25534.pt\u001b[0m\n"
     ]
    },
    {
     "data": {
      "application/vnd.jupyter.widget-view+json": {
       "model_id": "32be21c11c2040a3b32cc7554554bac6",
       "version_major": 2,
       "version_minor": 0
      },
      "text/plain": [
       "Epoch 35/100:   0%|          | 0/751 [00:00<?, ?it/s]"
      ]
     },
     "metadata": {},
     "output_type": "display_data"
    },
    {
     "name": "stdout",
     "output_type": "stream",
     "text": [
      "\u001b[2m2023-10-02 23:13:33\u001b[0m [\u001b[32m\u001b[1minfo     \u001b[0m] \u001b[1mProbabilisticEnsembleDynamics_20231002230632: epoch=35 step=26285\u001b[0m \u001b[36mepoch\u001b[0m=\u001b[35m35\u001b[0m \u001b[36mmetrics\u001b[0m=\u001b[35m{'time_sample_batch': 0.0002629039449475894, 'time_algorithm_update': 0.014172997836584099, 'loss': -75.31516193867364, 'time_step': 0.014506865119172159, 'observation_error': 0.054663445094133775, 'reward_error': 2.5963155488189387e-06, 'variance': 0.04371133901049977}\u001b[0m \u001b[36mstep\u001b[0m=\u001b[35m26285\u001b[0m\n",
      "\u001b[2m2023-10-02 23:13:33\u001b[0m [\u001b[32m\u001b[1minfo     \u001b[0m] \u001b[1mModel parameters are saved to d3rlpy_logs/ProbabilisticEnsembleDynamics_20231002230632/model_26285.pt\u001b[0m\n"
     ]
    },
    {
     "data": {
      "application/vnd.jupyter.widget-view+json": {
       "model_id": "d72f77167c7344fabb518873a4f7dc5e",
       "version_major": 2,
       "version_minor": 0
      },
      "text/plain": [
       "Epoch 36/100:   0%|          | 0/751 [00:00<?, ?it/s]"
      ]
     },
     "metadata": {},
     "output_type": "display_data"
    },
    {
     "name": "stdout",
     "output_type": "stream",
     "text": [
      "\u001b[2m2023-10-02 23:13:45\u001b[0m [\u001b[32m\u001b[1minfo     \u001b[0m] \u001b[1mProbabilisticEnsembleDynamics_20231002230632: epoch=36 step=27036\u001b[0m \u001b[36mepoch\u001b[0m=\u001b[35m36\u001b[0m \u001b[36mmetrics\u001b[0m=\u001b[35m{'time_sample_batch': 0.00027859988764980027, 'time_algorithm_update': 0.014527274193998659, 'loss': -75.47154206886749, 'time_step': 0.014879176207134791, 'observation_error': 0.04686058882004584, 'reward_error': 2.5989444368410788e-06, 'variance': 0.0397429265163855}\u001b[0m \u001b[36mstep\u001b[0m=\u001b[35m27036\u001b[0m\n",
      "\u001b[2m2023-10-02 23:13:45\u001b[0m [\u001b[32m\u001b[1minfo     \u001b[0m] \u001b[1mModel parameters are saved to d3rlpy_logs/ProbabilisticEnsembleDynamics_20231002230632/model_27036.pt\u001b[0m\n"
     ]
    },
    {
     "data": {
      "application/vnd.jupyter.widget-view+json": {
       "model_id": "5e930b27d83c4c549987320474202d8e",
       "version_major": 2,
       "version_minor": 0
      },
      "text/plain": [
       "Epoch 37/100:   0%|          | 0/751 [00:00<?, ?it/s]"
      ]
     },
     "metadata": {},
     "output_type": "display_data"
    },
    {
     "name": "stdout",
     "output_type": "stream",
     "text": [
      "\u001b[2m2023-10-02 23:13:58\u001b[0m [\u001b[32m\u001b[1minfo     \u001b[0m] \u001b[1mProbabilisticEnsembleDynamics_20231002230632: epoch=37 step=27787\u001b[0m \u001b[36mepoch\u001b[0m=\u001b[35m37\u001b[0m \u001b[36mmetrics\u001b[0m=\u001b[35m{'time_sample_batch': 0.00028144344985088244, 'time_algorithm_update': 0.014573962647175186, 'loss': -75.6010141867931, 'time_step': 0.014935152508447395, 'observation_error': 0.042192943397502555, 'reward_error': 3.1682179460812386e-06, 'variance': 0.03719918547095691}\u001b[0m \u001b[36mstep\u001b[0m=\u001b[35m27787\u001b[0m\n",
      "\u001b[2m2023-10-02 23:13:58\u001b[0m [\u001b[32m\u001b[1minfo     \u001b[0m] \u001b[1mModel parameters are saved to d3rlpy_logs/ProbabilisticEnsembleDynamics_20231002230632/model_27787.pt\u001b[0m\n"
     ]
    },
    {
     "data": {
      "application/vnd.jupyter.widget-view+json": {
       "model_id": "c41dc5b428ca4d86989d46f0a4c7a678",
       "version_major": 2,
       "version_minor": 0
      },
      "text/plain": [
       "Epoch 38/100:   0%|          | 0/751 [00:00<?, ?it/s]"
      ]
     },
     "metadata": {},
     "output_type": "display_data"
    },
    {
     "name": "stdout",
     "output_type": "stream",
     "text": [
      "\u001b[2m2023-10-02 23:14:10\u001b[0m [\u001b[32m\u001b[1minfo     \u001b[0m] \u001b[1mProbabilisticEnsembleDynamics_20231002230632: epoch=38 step=28538\u001b[0m \u001b[36mepoch\u001b[0m=\u001b[35m38\u001b[0m \u001b[36mmetrics\u001b[0m=\u001b[35m{'time_sample_batch': 0.0002713758999434673, 'time_algorithm_update': 0.014216705898787782, 'loss': -75.04107126192787, 'time_step': 0.014561913778556488, 'observation_error': 0.03870929347477867, 'reward_error': 6.718273745446784e-06, 'variance': 0.03966919672974678}\u001b[0m \u001b[36mstep\u001b[0m=\u001b[35m28538\u001b[0m\n",
      "\u001b[2m2023-10-02 23:14:10\u001b[0m [\u001b[32m\u001b[1minfo     \u001b[0m] \u001b[1mModel parameters are saved to d3rlpy_logs/ProbabilisticEnsembleDynamics_20231002230632/model_28538.pt\u001b[0m\n"
     ]
    },
    {
     "data": {
      "application/vnd.jupyter.widget-view+json": {
       "model_id": "697f00fe536a4a98bec0ea9ebf41c11f",
       "version_major": 2,
       "version_minor": 0
      },
      "text/plain": [
       "Epoch 39/100:   0%|          | 0/751 [00:00<?, ?it/s]"
      ]
     },
     "metadata": {},
     "output_type": "display_data"
    },
    {
     "name": "stdout",
     "output_type": "stream",
     "text": [
      "\u001b[2m2023-10-02 23:14:22\u001b[0m [\u001b[32m\u001b[1minfo     \u001b[0m] \u001b[1mProbabilisticEnsembleDynamics_20231002230632: epoch=39 step=29289\u001b[0m \u001b[36mepoch\u001b[0m=\u001b[35m39\u001b[0m \u001b[36mmetrics\u001b[0m=\u001b[35m{'time_sample_batch': 0.0002510671450517149, 'time_algorithm_update': 0.013460947892637291, 'loss': -76.0655787413352, 'time_step': 0.013779073834577984, 'observation_error': 0.04096306077003024, 'reward_error': 3.3785957601783466e-06, 'variance': 0.032915818024660363}\u001b[0m \u001b[36mstep\u001b[0m=\u001b[35m29289\u001b[0m\n",
      "\u001b[2m2023-10-02 23:14:22\u001b[0m [\u001b[32m\u001b[1minfo     \u001b[0m] \u001b[1mModel parameters are saved to d3rlpy_logs/ProbabilisticEnsembleDynamics_20231002230632/model_29289.pt\u001b[0m\n"
     ]
    },
    {
     "data": {
      "application/vnd.jupyter.widget-view+json": {
       "model_id": "79cde3057a9240bba87c8d9400f90572",
       "version_major": 2,
       "version_minor": 0
      },
      "text/plain": [
       "Epoch 40/100:   0%|          | 0/751 [00:00<?, ?it/s]"
      ]
     },
     "metadata": {},
     "output_type": "display_data"
    },
    {
     "name": "stdout",
     "output_type": "stream",
     "text": [
      "\u001b[2m2023-10-02 23:14:34\u001b[0m [\u001b[32m\u001b[1minfo     \u001b[0m] \u001b[1mProbabilisticEnsembleDynamics_20231002230632: epoch=40 step=30040\u001b[0m \u001b[36mepoch\u001b[0m=\u001b[35m40\u001b[0m \u001b[36mmetrics\u001b[0m=\u001b[35m{'time_sample_batch': 0.00026059277683059955, 'time_algorithm_update': 0.013908443692203527, 'loss': -76.47718694460852, 'time_step': 0.014238392782909734, 'observation_error': 0.034260976255870504, 'reward_error': 2.6624428200327548e-06, 'variance': 0.03111042078633205}\u001b[0m \u001b[36mstep\u001b[0m=\u001b[35m30040\u001b[0m\n",
      "\u001b[2m2023-10-02 23:14:34\u001b[0m [\u001b[32m\u001b[1minfo     \u001b[0m] \u001b[1mModel parameters are saved to d3rlpy_logs/ProbabilisticEnsembleDynamics_20231002230632/model_30040.pt\u001b[0m\n"
     ]
    },
    {
     "data": {
      "application/vnd.jupyter.widget-view+json": {
       "model_id": "eacb01dc10244a58b405cd674ac18eb2",
       "version_major": 2,
       "version_minor": 0
      },
      "text/plain": [
       "Epoch 41/100:   0%|          | 0/751 [00:00<?, ?it/s]"
      ]
     },
     "metadata": {},
     "output_type": "display_data"
    },
    {
     "name": "stdout",
     "output_type": "stream",
     "text": [
      "\u001b[2m2023-10-02 23:14:45\u001b[0m [\u001b[32m\u001b[1minfo     \u001b[0m] \u001b[1mProbabilisticEnsembleDynamics_20231002230632: epoch=41 step=30791\u001b[0m \u001b[36mepoch\u001b[0m=\u001b[35m41\u001b[0m \u001b[36mmetrics\u001b[0m=\u001b[35m{'time_sample_batch': 0.00025066840505790454, 'time_algorithm_update': 0.013568961033014738, 'loss': -75.9969762631961, 'time_step': 0.013890091176039369, 'observation_error': 0.02967821012231883, 'reward_error': 2.973742936621061e-06, 'variance': 0.027824332189573146}\u001b[0m \u001b[36mstep\u001b[0m=\u001b[35m30791\u001b[0m\n",
      "\u001b[2m2023-10-02 23:14:45\u001b[0m [\u001b[32m\u001b[1minfo     \u001b[0m] \u001b[1mModel parameters are saved to d3rlpy_logs/ProbabilisticEnsembleDynamics_20231002230632/model_30791.pt\u001b[0m\n"
     ]
    },
    {
     "data": {
      "application/vnd.jupyter.widget-view+json": {
       "model_id": "b0660523c5c34696ae8e53c4657e2270",
       "version_major": 2,
       "version_minor": 0
      },
      "text/plain": [
       "Epoch 42/100:   0%|          | 0/751 [00:00<?, ?it/s]"
      ]
     },
     "metadata": {},
     "output_type": "display_data"
    },
    {
     "name": "stdout",
     "output_type": "stream",
     "text": [
      "\u001b[2m2023-10-02 23:14:57\u001b[0m [\u001b[32m\u001b[1minfo     \u001b[0m] \u001b[1mProbabilisticEnsembleDynamics_20231002230632: epoch=42 step=31542\u001b[0m \u001b[36mepoch\u001b[0m=\u001b[35m42\u001b[0m \u001b[36mmetrics\u001b[0m=\u001b[35m{'time_sample_batch': 0.00026208741687109243, 'time_algorithm_update': 0.013898081849322973, 'loss': -76.14587828259017, 'time_step': 0.0142314999144817, 'observation_error': 0.035268183058480035, 'reward_error': 1.1854234170584247e-05, 'variance': 0.027841275058009225}\u001b[0m \u001b[36mstep\u001b[0m=\u001b[35m31542\u001b[0m\n",
      "\u001b[2m2023-10-02 23:14:57\u001b[0m [\u001b[32m\u001b[1minfo     \u001b[0m] \u001b[1mModel parameters are saved to d3rlpy_logs/ProbabilisticEnsembleDynamics_20231002230632/model_31542.pt\u001b[0m\n"
     ]
    },
    {
     "data": {
      "application/vnd.jupyter.widget-view+json": {
       "model_id": "9669b73db4bb4f279db3143899d37239",
       "version_major": 2,
       "version_minor": 0
      },
      "text/plain": [
       "Epoch 43/100:   0%|          | 0/751 [00:00<?, ?it/s]"
      ]
     },
     "metadata": {},
     "output_type": "display_data"
    },
    {
     "ename": "KeyboardInterrupt",
     "evalue": "",
     "output_type": "error",
     "traceback": [
      "\u001b[0;31m---------------------------------------------------------------------------\u001b[0m",
      "\u001b[0;31mKeyboardInterrupt\u001b[0m                         Traceback (most recent call last)",
      "Cell \u001b[0;32mIn[18], line 2\u001b[0m\n\u001b[1;32m      1\u001b[0m \u001b[38;5;66;03m# same as algorithms\u001b[39;00m\n\u001b[0;32m----> 2\u001b[0m \u001b[43mdynamics\u001b[49m\u001b[38;5;241;43m.\u001b[39;49m\u001b[43mfit\u001b[49m\u001b[43m(\u001b[49m\u001b[43mtrain_episodes\u001b[49m\u001b[43m,\u001b[49m\n\u001b[1;32m      3\u001b[0m \u001b[43m             \u001b[49m\u001b[43meval_episodes\u001b[49m\u001b[38;5;241;43m=\u001b[39;49m\u001b[43mtest_episodes\u001b[49m\u001b[43m,\u001b[49m\n\u001b[1;32m      4\u001b[0m \u001b[43m             \u001b[49m\u001b[43mn_epochs\u001b[49m\u001b[38;5;241;43m=\u001b[39;49m\u001b[38;5;241;43m100\u001b[39;49m\u001b[43m,\u001b[49m\n\u001b[1;32m      5\u001b[0m \u001b[43m             \u001b[49m\u001b[43mscorers\u001b[49m\u001b[38;5;241;43m=\u001b[39;49m\u001b[43m{\u001b[49m\n\u001b[1;32m      6\u001b[0m \u001b[43m                \u001b[49m\u001b[38;5;124;43m'\u001b[39;49m\u001b[38;5;124;43mobservation_error\u001b[39;49m\u001b[38;5;124;43m'\u001b[39;49m\u001b[43m:\u001b[49m\u001b[43m \u001b[49m\u001b[43md3rlpy\u001b[49m\u001b[38;5;241;43m.\u001b[39;49m\u001b[43mmetrics\u001b[49m\u001b[38;5;241;43m.\u001b[39;49m\u001b[43mscorer\u001b[49m\u001b[38;5;241;43m.\u001b[39;49m\u001b[43mdynamics_observation_prediction_error_scorer\u001b[49m\u001b[43m,\u001b[49m\n\u001b[1;32m      7\u001b[0m \u001b[43m                \u001b[49m\u001b[38;5;124;43m'\u001b[39;49m\u001b[38;5;124;43mreward_error\u001b[39;49m\u001b[38;5;124;43m'\u001b[39;49m\u001b[43m:\u001b[49m\u001b[43m \u001b[49m\u001b[43md3rlpy\u001b[49m\u001b[38;5;241;43m.\u001b[39;49m\u001b[43mmetrics\u001b[49m\u001b[38;5;241;43m.\u001b[39;49m\u001b[43mscorer\u001b[49m\u001b[38;5;241;43m.\u001b[39;49m\u001b[43mdynamics_reward_prediction_error_scorer\u001b[49m\u001b[43m,\u001b[49m\n\u001b[1;32m      8\u001b[0m \u001b[43m                \u001b[49m\u001b[38;5;124;43m'\u001b[39;49m\u001b[38;5;124;43mvariance\u001b[39;49m\u001b[38;5;124;43m'\u001b[39;49m\u001b[43m:\u001b[49m\u001b[43m \u001b[49m\u001b[43md3rlpy\u001b[49m\u001b[38;5;241;43m.\u001b[39;49m\u001b[43mmetrics\u001b[49m\u001b[38;5;241;43m.\u001b[39;49m\u001b[43mscorer\u001b[49m\u001b[38;5;241;43m.\u001b[39;49m\u001b[43mdynamics_prediction_variance_scorer\u001b[49m\u001b[43m,\u001b[49m\n\u001b[1;32m      9\u001b[0m \u001b[43m             \u001b[49m\u001b[43m}\u001b[49m\u001b[43m,\u001b[49m\n\u001b[1;32m     10\u001b[0m \u001b[43m            \u001b[49m\u001b[43mtensorboard_dir\u001b[49m\u001b[38;5;241;43m=\u001b[39;49m\u001b[38;5;124;43m'\u001b[39;49m\u001b[38;5;124;43mtensorboard_logs/dynamics\u001b[39;49m\u001b[38;5;124;43m'\u001b[39;49m\u001b[43m)\u001b[49m\n",
      "File \u001b[0;32m~/Documents/Berkeley/Fa23/cs285/final_project/symmetry-cs285/d3rlpy/d3rlpy/base.py:406\u001b[0m, in \u001b[0;36mLearnableBase.fit\u001b[0;34m(self, dataset, n_epochs, n_steps, n_steps_per_epoch, save_metrics, experiment_name, with_timestamp, logdir, verbose, show_progress, tensorboard_dir, eval_episodes, save_interval, scorers, shuffle, callback)\u001b[0m\n\u001b[1;32m    349\u001b[0m \u001b[38;5;28;01mdef\u001b[39;00m \u001b[38;5;21mfit\u001b[39m(\n\u001b[1;32m    350\u001b[0m     \u001b[38;5;28mself\u001b[39m,\n\u001b[1;32m    351\u001b[0m     dataset: Union[List[Episode], List[Transition], MDPDataset],\n\u001b[0;32m   (...)\u001b[0m\n\u001b[1;32m    368\u001b[0m     callback: Optional[Callable[[\u001b[38;5;124m\"\u001b[39m\u001b[38;5;124mLearnableBase\u001b[39m\u001b[38;5;124m\"\u001b[39m, \u001b[38;5;28mint\u001b[39m, \u001b[38;5;28mint\u001b[39m], \u001b[38;5;28;01mNone\u001b[39;00m]] \u001b[38;5;241m=\u001b[39m \u001b[38;5;28;01mNone\u001b[39;00m,\n\u001b[1;32m    369\u001b[0m ) \u001b[38;5;241m-\u001b[39m\u001b[38;5;241m>\u001b[39m List[Tuple[\u001b[38;5;28mint\u001b[39m, Dict[\u001b[38;5;28mstr\u001b[39m, \u001b[38;5;28mfloat\u001b[39m]]]:\n\u001b[1;32m    370\u001b[0m \u001b[38;5;250m    \u001b[39m\u001b[38;5;124;03m\"\"\"Trains with the given dataset.\u001b[39;00m\n\u001b[1;32m    371\u001b[0m \n\u001b[1;32m    372\u001b[0m \u001b[38;5;124;03m    .. code-block:: python\u001b[39;00m\n\u001b[0;32m   (...)\u001b[0m\n\u001b[1;32m    404\u001b[0m \n\u001b[1;32m    405\u001b[0m \u001b[38;5;124;03m    \"\"\"\u001b[39;00m\n\u001b[0;32m--> 406\u001b[0m     results \u001b[38;5;241m=\u001b[39m \u001b[38;5;28;43mlist\u001b[39;49m\u001b[43m(\u001b[49m\n\u001b[1;32m    407\u001b[0m \u001b[43m        \u001b[49m\u001b[38;5;28;43mself\u001b[39;49m\u001b[38;5;241;43m.\u001b[39;49m\u001b[43mfitter\u001b[49m\u001b[43m(\u001b[49m\n\u001b[1;32m    408\u001b[0m \u001b[43m            \u001b[49m\u001b[43mdataset\u001b[49m\u001b[43m,\u001b[49m\n\u001b[1;32m    409\u001b[0m \u001b[43m            \u001b[49m\u001b[43mn_epochs\u001b[49m\u001b[43m,\u001b[49m\n\u001b[1;32m    410\u001b[0m \u001b[43m            \u001b[49m\u001b[43mn_steps\u001b[49m\u001b[43m,\u001b[49m\n\u001b[1;32m    411\u001b[0m \u001b[43m            \u001b[49m\u001b[43mn_steps_per_epoch\u001b[49m\u001b[43m,\u001b[49m\n\u001b[1;32m    412\u001b[0m \u001b[43m            \u001b[49m\u001b[43msave_metrics\u001b[49m\u001b[43m,\u001b[49m\n\u001b[1;32m    413\u001b[0m \u001b[43m            \u001b[49m\u001b[43mexperiment_name\u001b[49m\u001b[43m,\u001b[49m\n\u001b[1;32m    414\u001b[0m \u001b[43m            \u001b[49m\u001b[43mwith_timestamp\u001b[49m\u001b[43m,\u001b[49m\n\u001b[1;32m    415\u001b[0m \u001b[43m            \u001b[49m\u001b[43mlogdir\u001b[49m\u001b[43m,\u001b[49m\n\u001b[1;32m    416\u001b[0m \u001b[43m            \u001b[49m\u001b[43mverbose\u001b[49m\u001b[43m,\u001b[49m\n\u001b[1;32m    417\u001b[0m \u001b[43m            \u001b[49m\u001b[43mshow_progress\u001b[49m\u001b[43m,\u001b[49m\n\u001b[1;32m    418\u001b[0m \u001b[43m            \u001b[49m\u001b[43mtensorboard_dir\u001b[49m\u001b[43m,\u001b[49m\n\u001b[1;32m    419\u001b[0m \u001b[43m            \u001b[49m\u001b[43meval_episodes\u001b[49m\u001b[43m,\u001b[49m\n\u001b[1;32m    420\u001b[0m \u001b[43m            \u001b[49m\u001b[43msave_interval\u001b[49m\u001b[43m,\u001b[49m\n\u001b[1;32m    421\u001b[0m \u001b[43m            \u001b[49m\u001b[43mscorers\u001b[49m\u001b[43m,\u001b[49m\n\u001b[1;32m    422\u001b[0m \u001b[43m            \u001b[49m\u001b[43mshuffle\u001b[49m\u001b[43m,\u001b[49m\n\u001b[1;32m    423\u001b[0m \u001b[43m            \u001b[49m\u001b[43mcallback\u001b[49m\u001b[43m,\u001b[49m\n\u001b[1;32m    424\u001b[0m \u001b[43m        \u001b[49m\u001b[43m)\u001b[49m\n\u001b[1;32m    425\u001b[0m \u001b[43m    \u001b[49m\u001b[43m)\u001b[49m\n\u001b[1;32m    426\u001b[0m     \u001b[38;5;28;01mreturn\u001b[39;00m results\n",
      "File \u001b[0;32m~/Documents/Berkeley/Fa23/cs285/final_project/symmetry-cs285/d3rlpy/d3rlpy/base.py:665\u001b[0m, in \u001b[0;36mLearnableBase.fitter\u001b[0;34m(self, dataset, n_epochs, n_steps, n_steps_per_epoch, save_metrics, experiment_name, with_timestamp, logdir, verbose, show_progress, tensorboard_dir, eval_episodes, save_interval, scorers, shuffle, callback)\u001b[0m\n\u001b[1;32m    662\u001b[0m         \u001b[38;5;28mself\u001b[39m\u001b[38;5;241m.\u001b[39m_loss_history[name]\u001b[38;5;241m.\u001b[39mappend(np\u001b[38;5;241m.\u001b[39mmean(vals))\n\u001b[1;32m    664\u001b[0m \u001b[38;5;28;01mif\u001b[39;00m scorers \u001b[38;5;129;01mand\u001b[39;00m eval_episodes:\n\u001b[0;32m--> 665\u001b[0m     \u001b[38;5;28;43mself\u001b[39;49m\u001b[38;5;241;43m.\u001b[39;49m\u001b[43m_evaluate\u001b[49m\u001b[43m(\u001b[49m\u001b[43meval_episodes\u001b[49m\u001b[43m,\u001b[49m\u001b[43m \u001b[49m\u001b[43mscorers\u001b[49m\u001b[43m,\u001b[49m\u001b[43m \u001b[49m\u001b[43mlogger\u001b[49m\u001b[43m)\u001b[49m\n\u001b[1;32m    667\u001b[0m \u001b[38;5;66;03m# save metrics\u001b[39;00m\n\u001b[1;32m    668\u001b[0m metrics \u001b[38;5;241m=\u001b[39m logger\u001b[38;5;241m.\u001b[39mcommit(epoch, total_step)\n",
      "File \u001b[0;32m~/Documents/Berkeley/Fa23/cs285/final_project/symmetry-cs285/d3rlpy/d3rlpy/base.py:802\u001b[0m, in \u001b[0;36mLearnableBase._evaluate\u001b[0;34m(self, episodes, scorers, logger)\u001b[0m\n\u001b[1;32m    794\u001b[0m \u001b[38;5;28;01mdef\u001b[39;00m \u001b[38;5;21m_evaluate\u001b[39m(\n\u001b[1;32m    795\u001b[0m     \u001b[38;5;28mself\u001b[39m,\n\u001b[1;32m    796\u001b[0m     episodes: List[Episode],\n\u001b[1;32m    797\u001b[0m     scorers: Dict[\u001b[38;5;28mstr\u001b[39m, Callable[[Any, List[Episode]], \u001b[38;5;28mfloat\u001b[39m]],\n\u001b[1;32m    798\u001b[0m     logger: D3RLPyLogger,\n\u001b[1;32m    799\u001b[0m ) \u001b[38;5;241m-\u001b[39m\u001b[38;5;241m>\u001b[39m \u001b[38;5;28;01mNone\u001b[39;00m:\n\u001b[1;32m    800\u001b[0m     \u001b[38;5;28;01mfor\u001b[39;00m name, scorer \u001b[38;5;129;01min\u001b[39;00m scorers\u001b[38;5;241m.\u001b[39mitems():\n\u001b[1;32m    801\u001b[0m         \u001b[38;5;66;03m# evaluation with test data\u001b[39;00m\n\u001b[0;32m--> 802\u001b[0m         test_score \u001b[38;5;241m=\u001b[39m \u001b[43mscorer\u001b[49m\u001b[43m(\u001b[49m\u001b[38;5;28;43mself\u001b[39;49m\u001b[43m,\u001b[49m\u001b[43m \u001b[49m\u001b[43mepisodes\u001b[49m\u001b[43m)\u001b[49m\n\u001b[1;32m    804\u001b[0m         \u001b[38;5;66;03m# logging metrics\u001b[39;00m\n\u001b[1;32m    805\u001b[0m         logger\u001b[38;5;241m.\u001b[39madd_metric(name, test_score)\n",
      "File \u001b[0;32m~/Documents/Berkeley/Fa23/cs285/final_project/symmetry-cs285/d3rlpy/d3rlpy/metrics/scorer.py:575\u001b[0m, in \u001b[0;36mdynamics_prediction_variance_scorer\u001b[0;34m(dynamics, episodes)\u001b[0m\n\u001b[1;32m    573\u001b[0m \u001b[38;5;28;01mfor\u001b[39;00m episode \u001b[38;5;129;01min\u001b[39;00m episodes:\n\u001b[1;32m    574\u001b[0m     \u001b[38;5;28;01mfor\u001b[39;00m batch \u001b[38;5;129;01min\u001b[39;00m _make_batches(episode, WINDOW_SIZE, dynamics\u001b[38;5;241m.\u001b[39mn_frames):\n\u001b[0;32m--> 575\u001b[0m         pred \u001b[38;5;241m=\u001b[39m \u001b[43mdynamics\u001b[49m\u001b[38;5;241;43m.\u001b[39;49m\u001b[43mpredict\u001b[49m\u001b[43m(\u001b[49m\u001b[43mbatch\u001b[49m\u001b[38;5;241;43m.\u001b[39;49m\u001b[43mobservations\u001b[49m\u001b[43m,\u001b[49m\u001b[43m \u001b[49m\u001b[43mbatch\u001b[49m\u001b[38;5;241;43m.\u001b[39;49m\u001b[43mactions\u001b[49m\u001b[43m,\u001b[49m\u001b[43m \u001b[49m\u001b[38;5;28;43;01mTrue\u001b[39;49;00m\u001b[43m)\u001b[49m\n\u001b[1;32m    576\u001b[0m         pred \u001b[38;5;241m=\u001b[39m cast(Tuple[np\u001b[38;5;241m.\u001b[39mndarray, np\u001b[38;5;241m.\u001b[39mndarray, np\u001b[38;5;241m.\u001b[39mndarray], pred)\n\u001b[1;32m    577\u001b[0m         total_variances \u001b[38;5;241m+\u001b[39m\u001b[38;5;241m=\u001b[39m pred[\u001b[38;5;241m2\u001b[39m]\u001b[38;5;241m.\u001b[39mtolist()\n",
      "File \u001b[0;32m~/Documents/Berkeley/Fa23/cs285/final_project/symmetry-cs285/d3rlpy/d3rlpy/dynamics/base.py:70\u001b[0m, in \u001b[0;36mDynamicsBase.predict\u001b[0;34m(self, x, action, with_variance, indices)\u001b[0m\n\u001b[1;32m     56\u001b[0m \u001b[38;5;250m\u001b[39m\u001b[38;5;124;03m\"\"\"Returns predicted observation and reward.\u001b[39;00m\n\u001b[1;32m     57\u001b[0m \n\u001b[1;32m     58\u001b[0m \u001b[38;5;124;03mArgs:\u001b[39;00m\n\u001b[0;32m   (...)\u001b[0m\n\u001b[1;32m     67\u001b[0m \n\u001b[1;32m     68\u001b[0m \u001b[38;5;124;03m\"\"\"\u001b[39;00m\n\u001b[1;32m     69\u001b[0m \u001b[38;5;28;01massert\u001b[39;00m \u001b[38;5;28mself\u001b[39m\u001b[38;5;241m.\u001b[39m_impl \u001b[38;5;129;01mis\u001b[39;00m \u001b[38;5;129;01mnot\u001b[39;00m \u001b[38;5;28;01mNone\u001b[39;00m, IMPL_NOT_INITIALIZED_ERROR\n\u001b[0;32m---> 70\u001b[0m observations, rewards, variances \u001b[38;5;241m=\u001b[39m \u001b[38;5;28;43mself\u001b[39;49m\u001b[38;5;241;43m.\u001b[39;49m\u001b[43m_impl\u001b[49m\u001b[38;5;241;43m.\u001b[39;49m\u001b[43mpredict\u001b[49m\u001b[43m(\u001b[49m\n\u001b[1;32m     71\u001b[0m \u001b[43m    \u001b[49m\u001b[43mx\u001b[49m\u001b[43m,\u001b[49m\n\u001b[1;32m     72\u001b[0m \u001b[43m    \u001b[49m\u001b[43maction\u001b[49m\u001b[43m,\u001b[49m\n\u001b[1;32m     73\u001b[0m \u001b[43m    \u001b[49m\u001b[43mindices\u001b[49m\u001b[43m,\u001b[49m\n\u001b[1;32m     74\u001b[0m \u001b[43m\u001b[49m\u001b[43m)\u001b[49m\n\u001b[1;32m     75\u001b[0m \u001b[38;5;28;01mif\u001b[39;00m with_variance:\n\u001b[1;32m     76\u001b[0m     \u001b[38;5;28;01mreturn\u001b[39;00m observations, rewards, variances\n",
      "File \u001b[0;32m~/Documents/Berkeley/Fa23/cs285/final_project/symmetry-cs285/d3rlpy/d3rlpy/torch_utility.py:305\u001b[0m, in \u001b[0;36meval_api.<locals>.wrapper\u001b[0;34m(self, *args, **kwargs)\u001b[0m\n\u001b[1;32m    303\u001b[0m \u001b[38;5;28;01mdef\u001b[39;00m \u001b[38;5;21mwrapper\u001b[39m(\u001b[38;5;28mself\u001b[39m: Any, \u001b[38;5;241m*\u001b[39margs: Any, \u001b[38;5;241m*\u001b[39m\u001b[38;5;241m*\u001b[39mkwargs: Any) \u001b[38;5;241m-\u001b[39m\u001b[38;5;241m>\u001b[39m np\u001b[38;5;241m.\u001b[39mndarray:\n\u001b[1;32m    304\u001b[0m     set_eval_mode(\u001b[38;5;28mself\u001b[39m)\n\u001b[0;32m--> 305\u001b[0m     \u001b[38;5;28;01mreturn\u001b[39;00m \u001b[43mf\u001b[49m\u001b[43m(\u001b[49m\u001b[38;5;28;43mself\u001b[39;49m\u001b[43m,\u001b[49m\u001b[43m \u001b[49m\u001b[38;5;241;43m*\u001b[39;49m\u001b[43margs\u001b[49m\u001b[43m,\u001b[49m\u001b[43m \u001b[49m\u001b[38;5;241;43m*\u001b[39;49m\u001b[38;5;241;43m*\u001b[39;49m\u001b[43mkwargs\u001b[49m\u001b[43m)\u001b[49m\n",
      "File \u001b[0;32m~/Documents/Berkeley/Fa23/cs285/final_project/symmetry-cs285/d3rlpy/d3rlpy/torch_utility.py:295\u001b[0m, in \u001b[0;36mtorch_api.<locals>._torch_api.<locals>.wrapper\u001b[0;34m(self, *args, **kwargs)\u001b[0m\n\u001b[1;32m    292\u001b[0m             tensor \u001b[38;5;241m=\u001b[39m tensor\u001b[38;5;241m.\u001b[39mfloat()\n\u001b[1;32m    294\u001b[0m     tensors\u001b[38;5;241m.\u001b[39mappend(tensor)\n\u001b[0;32m--> 295\u001b[0m \u001b[38;5;28;01mreturn\u001b[39;00m \u001b[43mf\u001b[49m\u001b[43m(\u001b[49m\u001b[38;5;28;43mself\u001b[39;49m\u001b[43m,\u001b[49m\u001b[43m \u001b[49m\u001b[38;5;241;43m*\u001b[39;49m\u001b[43mtensors\u001b[49m\u001b[43m,\u001b[49m\u001b[43m \u001b[49m\u001b[38;5;241;43m*\u001b[39;49m\u001b[38;5;241;43m*\u001b[39;49m\u001b[43mkwargs\u001b[49m\u001b[43m)\u001b[49m\n",
      "File \u001b[0;32m~/Documents/Berkeley/Fa23/cs285/final_project/symmetry-cs285/d3rlpy/d3rlpy/dynamics/torch/base.py:54\u001b[0m, in \u001b[0;36mTorchImplBase.predict\u001b[0;34m(self, x, action, indices)\u001b[0m\n\u001b[1;32m     45\u001b[0m \u001b[38;5;129m@eval_api\u001b[39m\n\u001b[1;32m     46\u001b[0m \u001b[38;5;129m@torch_api\u001b[39m(scaler_targets\u001b[38;5;241m=\u001b[39m[\u001b[38;5;124m\"\u001b[39m\u001b[38;5;124mx\u001b[39m\u001b[38;5;124m\"\u001b[39m], action_scaler_targets\u001b[38;5;241m=\u001b[39m[\u001b[38;5;124m\"\u001b[39m\u001b[38;5;124maction\u001b[39m\u001b[38;5;124m\"\u001b[39m])\n\u001b[1;32m     47\u001b[0m \u001b[38;5;28;01mdef\u001b[39;00m \u001b[38;5;21mpredict\u001b[39m(\n\u001b[0;32m   (...)\u001b[0m\n\u001b[1;32m     51\u001b[0m     indices: torch\u001b[38;5;241m.\u001b[39mTensor,\n\u001b[1;32m     52\u001b[0m ) \u001b[38;5;241m-\u001b[39m\u001b[38;5;241m>\u001b[39m Tuple[np\u001b[38;5;241m.\u001b[39mndarray, np\u001b[38;5;241m.\u001b[39mndarray, np\u001b[38;5;241m.\u001b[39mndarray]:\n\u001b[1;32m     53\u001b[0m     \u001b[38;5;28;01mwith\u001b[39;00m torch\u001b[38;5;241m.\u001b[39mno_grad():\n\u001b[0;32m---> 54\u001b[0m         observation, reward, variance \u001b[38;5;241m=\u001b[39m \u001b[38;5;28;43mself\u001b[39;49m\u001b[38;5;241;43m.\u001b[39;49m\u001b[43m_predict\u001b[49m\u001b[43m(\u001b[49m\u001b[43mx\u001b[49m\u001b[43m,\u001b[49m\u001b[43m \u001b[49m\u001b[43maction\u001b[49m\u001b[43m,\u001b[49m\u001b[43m \u001b[49m\u001b[43mindices\u001b[49m\u001b[43m)\u001b[49m\n\u001b[1;32m     56\u001b[0m         \u001b[38;5;28;01mif\u001b[39;00m \u001b[38;5;28mself\u001b[39m\u001b[38;5;241m.\u001b[39m_scaler:\n\u001b[1;32m     57\u001b[0m             observation \u001b[38;5;241m=\u001b[39m \u001b[38;5;28mself\u001b[39m\u001b[38;5;241m.\u001b[39m_scaler\u001b[38;5;241m.\u001b[39mreverse_transform(observation)\n",
      "File \u001b[0;32m~/Documents/Berkeley/Fa23/cs285/final_project/symmetry-cs285/d3rlpy/d3rlpy/dynamics/torch/probabilistic_ensemble_dynamics_impl.py:98\u001b[0m, in \u001b[0;36mProbabilisticEnsembleDynamicsImpl._predict\u001b[0;34m(self, x, action, indices)\u001b[0m\n\u001b[1;32m     96\u001b[0m \u001b[38;5;28;01melse\u001b[39;00m:\n\u001b[1;32m     97\u001b[0m     \u001b[38;5;28;01massert\u001b[39;00m indices\u001b[38;5;241m.\u001b[39mshape \u001b[38;5;241m==\u001b[39m (x\u001b[38;5;241m.\u001b[39mshape[\u001b[38;5;241m0\u001b[39m],)\n\u001b[0;32m---> 98\u001b[0m \u001b[38;5;28;01mreturn\u001b[39;00m \u001b[38;5;28;43mself\u001b[39;49m\u001b[38;5;241;43m.\u001b[39;49m\u001b[43m_dynamics\u001b[49m\u001b[38;5;241;43m.\u001b[39;49m\u001b[43mpredict_with_variance\u001b[49m\u001b[43m(\u001b[49m\n\u001b[1;32m     99\u001b[0m \u001b[43m    \u001b[49m\u001b[43mx\u001b[49m\u001b[43m,\u001b[49m\n\u001b[1;32m    100\u001b[0m \u001b[43m    \u001b[49m\u001b[43maction\u001b[49m\u001b[43m,\u001b[49m\n\u001b[1;32m    101\u001b[0m \u001b[43m    \u001b[49m\u001b[43mvariance_type\u001b[49m\u001b[38;5;241;43m=\u001b[39;49m\u001b[38;5;28;43mself\u001b[39;49m\u001b[38;5;241;43m.\u001b[39;49m\u001b[43m_variance_type\u001b[49m\u001b[43m,\u001b[49m\n\u001b[1;32m    102\u001b[0m \u001b[43m    \u001b[49m\u001b[43mindices\u001b[49m\u001b[38;5;241;43m=\u001b[39;49m\u001b[43mindices\u001b[49m\u001b[38;5;241;43m.\u001b[39;49m\u001b[43mlong\u001b[49m\u001b[43m(\u001b[49m\u001b[43m)\u001b[49m\u001b[43m,\u001b[49m\n\u001b[1;32m    103\u001b[0m \u001b[43m\u001b[49m\u001b[43m)\u001b[49m\n",
      "File \u001b[0;32m~/Documents/Berkeley/Fa23/cs285/final_project/symmetry-cs285/d3rlpy/d3rlpy/models/torch/dynamics.py:186\u001b[0m, in \u001b[0;36mProbabilisticEnsembleDynamicsModel.predict_with_variance\u001b[0;34m(self, x, action, variance_type, indices)\u001b[0m\n\u001b[1;32m    184\u001b[0m \u001b[38;5;66;03m# predict next observation and reward\u001b[39;00m\n\u001b[1;32m    185\u001b[0m \u001b[38;5;28;01mfor\u001b[39;00m model \u001b[38;5;129;01min\u001b[39;00m \u001b[38;5;28mself\u001b[39m\u001b[38;5;241m.\u001b[39m_models:\n\u001b[0;32m--> 186\u001b[0m     obs, rew, var \u001b[38;5;241m=\u001b[39m \u001b[43mmodel\u001b[49m\u001b[38;5;241;43m.\u001b[39;49m\u001b[43mpredict_with_variance\u001b[49m\u001b[43m(\u001b[49m\u001b[43mx\u001b[49m\u001b[43m,\u001b[49m\u001b[43m \u001b[49m\u001b[43maction\u001b[49m\u001b[43m)\u001b[49m\n\u001b[1;32m    187\u001b[0m     observations_list\u001b[38;5;241m.\u001b[39mappend(obs\u001b[38;5;241m.\u001b[39mview(\u001b[38;5;241m1\u001b[39m, x\u001b[38;5;241m.\u001b[39mshape[\u001b[38;5;241m0\u001b[39m], \u001b[38;5;241m-\u001b[39m\u001b[38;5;241m1\u001b[39m))\n\u001b[1;32m    188\u001b[0m     rewards_list\u001b[38;5;241m.\u001b[39mappend(rew\u001b[38;5;241m.\u001b[39mview(\u001b[38;5;241m1\u001b[39m, x\u001b[38;5;241m.\u001b[39mshape[\u001b[38;5;241m0\u001b[39m], \u001b[38;5;241m1\u001b[39m))\n",
      "File \u001b[0;32m~/Documents/Berkeley/Fa23/cs285/final_project/symmetry-cs285/d3rlpy/d3rlpy/models/torch/dynamics.py:105\u001b[0m, in \u001b[0;36mProbabilisticDynamicsModel.predict_with_variance\u001b[0;34m(self, x, action)\u001b[0m\n\u001b[1;32m    102\u001b[0m \u001b[38;5;28;01mdef\u001b[39;00m \u001b[38;5;21mpredict_with_variance\u001b[39m(\n\u001b[1;32m    103\u001b[0m     \u001b[38;5;28mself\u001b[39m, x: torch\u001b[38;5;241m.\u001b[39mTensor, action: torch\u001b[38;5;241m.\u001b[39mTensor\n\u001b[1;32m    104\u001b[0m ) \u001b[38;5;241m-\u001b[39m\u001b[38;5;241m>\u001b[39m Tuple[torch\u001b[38;5;241m.\u001b[39mTensor, torch\u001b[38;5;241m.\u001b[39mTensor, torch\u001b[38;5;241m.\u001b[39mTensor]:\n\u001b[0;32m--> 105\u001b[0m     mu, logstd \u001b[38;5;241m=\u001b[39m \u001b[38;5;28;43mself\u001b[39;49m\u001b[38;5;241;43m.\u001b[39;49m\u001b[43mcompute_stats\u001b[49m\u001b[43m(\u001b[49m\u001b[43mx\u001b[49m\u001b[43m,\u001b[49m\u001b[43m \u001b[49m\u001b[43maction\u001b[49m\u001b[43m)\u001b[49m\n\u001b[1;32m    106\u001b[0m     dist \u001b[38;5;241m=\u001b[39m Normal(mu, logstd\u001b[38;5;241m.\u001b[39mexp())\n\u001b[1;32m    107\u001b[0m     pred \u001b[38;5;241m=\u001b[39m dist\u001b[38;5;241m.\u001b[39mrsample()\n",
      "File \u001b[0;32m~/Documents/Berkeley/Fa23/cs285/final_project/symmetry-cs285/d3rlpy/d3rlpy/models/torch/dynamics.py:91\u001b[0m, in \u001b[0;36mProbabilisticDynamicsModel.compute_stats\u001b[0;34m(self, x, action)\u001b[0m\n\u001b[1;32m     88\u001b[0m mu \u001b[38;5;241m=\u001b[39m \u001b[38;5;28mself\u001b[39m\u001b[38;5;241m.\u001b[39m_mu(h)\n\u001b[1;32m     90\u001b[0m \u001b[38;5;66;03m# log standard deviation with bounds\u001b[39;00m\n\u001b[0;32m---> 91\u001b[0m logstd \u001b[38;5;241m=\u001b[39m \u001b[38;5;28;43mself\u001b[39;49m\u001b[38;5;241;43m.\u001b[39;49m\u001b[43m_logstd\u001b[49m\u001b[43m(\u001b[49m\u001b[43mh\u001b[49m\u001b[43m)\u001b[49m\n\u001b[1;32m     92\u001b[0m logstd \u001b[38;5;241m=\u001b[39m \u001b[38;5;28mself\u001b[39m\u001b[38;5;241m.\u001b[39m_max_logstd \u001b[38;5;241m-\u001b[39m F\u001b[38;5;241m.\u001b[39msoftplus(\u001b[38;5;28mself\u001b[39m\u001b[38;5;241m.\u001b[39m_max_logstd \u001b[38;5;241m-\u001b[39m logstd)\n\u001b[1;32m     93\u001b[0m logstd \u001b[38;5;241m=\u001b[39m \u001b[38;5;28mself\u001b[39m\u001b[38;5;241m.\u001b[39m_min_logstd \u001b[38;5;241m+\u001b[39m F\u001b[38;5;241m.\u001b[39msoftplus(logstd \u001b[38;5;241m-\u001b[39m \u001b[38;5;28mself\u001b[39m\u001b[38;5;241m.\u001b[39m_min_logstd)\n",
      "File \u001b[0;32m~/.local/share/virtualenvs/symmetry-cs285-MHAjodT-/lib/python3.8/site-packages/torch/nn/modules/module.py:1501\u001b[0m, in \u001b[0;36mModule._call_impl\u001b[0;34m(self, *args, **kwargs)\u001b[0m\n\u001b[1;32m   1496\u001b[0m \u001b[38;5;66;03m# If we don't have any hooks, we want to skip the rest of the logic in\u001b[39;00m\n\u001b[1;32m   1497\u001b[0m \u001b[38;5;66;03m# this function, and just call forward.\u001b[39;00m\n\u001b[1;32m   1498\u001b[0m \u001b[38;5;28;01mif\u001b[39;00m \u001b[38;5;129;01mnot\u001b[39;00m (\u001b[38;5;28mself\u001b[39m\u001b[38;5;241m.\u001b[39m_backward_hooks \u001b[38;5;129;01mor\u001b[39;00m \u001b[38;5;28mself\u001b[39m\u001b[38;5;241m.\u001b[39m_backward_pre_hooks \u001b[38;5;129;01mor\u001b[39;00m \u001b[38;5;28mself\u001b[39m\u001b[38;5;241m.\u001b[39m_forward_hooks \u001b[38;5;129;01mor\u001b[39;00m \u001b[38;5;28mself\u001b[39m\u001b[38;5;241m.\u001b[39m_forward_pre_hooks\n\u001b[1;32m   1499\u001b[0m         \u001b[38;5;129;01mor\u001b[39;00m _global_backward_pre_hooks \u001b[38;5;129;01mor\u001b[39;00m _global_backward_hooks\n\u001b[1;32m   1500\u001b[0m         \u001b[38;5;129;01mor\u001b[39;00m _global_forward_hooks \u001b[38;5;129;01mor\u001b[39;00m _global_forward_pre_hooks):\n\u001b[0;32m-> 1501\u001b[0m     \u001b[38;5;28;01mreturn\u001b[39;00m \u001b[43mforward_call\u001b[49m\u001b[43m(\u001b[49m\u001b[38;5;241;43m*\u001b[39;49m\u001b[43margs\u001b[49m\u001b[43m,\u001b[49m\u001b[43m \u001b[49m\u001b[38;5;241;43m*\u001b[39;49m\u001b[38;5;241;43m*\u001b[39;49m\u001b[43mkwargs\u001b[49m\u001b[43m)\u001b[49m\n\u001b[1;32m   1502\u001b[0m \u001b[38;5;66;03m# Do not call functions when jit is used\u001b[39;00m\n\u001b[1;32m   1503\u001b[0m full_backward_hooks, non_full_backward_hooks \u001b[38;5;241m=\u001b[39m [], []\n",
      "File \u001b[0;32m~/.local/share/virtualenvs/symmetry-cs285-MHAjodT-/lib/python3.8/site-packages/torch/nn/modules/linear.py:114\u001b[0m, in \u001b[0;36mLinear.forward\u001b[0;34m(self, input)\u001b[0m\n\u001b[1;32m    113\u001b[0m \u001b[38;5;28;01mdef\u001b[39;00m \u001b[38;5;21mforward\u001b[39m(\u001b[38;5;28mself\u001b[39m, \u001b[38;5;28minput\u001b[39m: Tensor) \u001b[38;5;241m-\u001b[39m\u001b[38;5;241m>\u001b[39m Tensor:\n\u001b[0;32m--> 114\u001b[0m     \u001b[38;5;28;01mreturn\u001b[39;00m \u001b[43mF\u001b[49m\u001b[38;5;241;43m.\u001b[39;49m\u001b[43mlinear\u001b[49m\u001b[43m(\u001b[49m\u001b[38;5;28;43minput\u001b[39;49m\u001b[43m,\u001b[49m\u001b[43m \u001b[49m\u001b[38;5;28;43mself\u001b[39;49m\u001b[38;5;241;43m.\u001b[39;49m\u001b[43mweight\u001b[49m\u001b[43m,\u001b[49m\u001b[43m \u001b[49m\u001b[38;5;28;43mself\u001b[39;49m\u001b[38;5;241;43m.\u001b[39;49m\u001b[43mbias\u001b[49m\u001b[43m)\u001b[49m\n",
      "\u001b[0;31mKeyboardInterrupt\u001b[0m: "
     ]
    }
   ],
   "source": [
    "# same as algorithms\n",
    "dynamics.fit(train_episodes,\n",
    "             eval_episodes=test_episodes,\n",
    "             n_epochs=100,\n",
    "             scorers={\n",
    "                'observation_error': d3rlpy.metrics.scorer.dynamics_observation_prediction_error_scorer,\n",
    "                'reward_error': d3rlpy.metrics.scorer.dynamics_reward_prediction_error_scorer,\n",
    "                'variance': d3rlpy.metrics.scorer.dynamics_prediction_variance_scorer,\n",
    "             },\n",
    "            tensorboard_dir='tensorboard_logs/dynamics')"
   ]
  },
  {
   "cell_type": "markdown",
   "id": "0b6a0377-82fa-4d78-b498-0bcdd282fc51",
   "metadata": {},
   "source": [
    "## Load Dynamics"
   ]
  },
  {
   "cell_type": "code",
   "execution_count": 19,
   "id": "92a2da5d-f176-42d6-b72e-e94800db8db6",
   "metadata": {},
   "outputs": [
    {
     "name": "stdout",
     "output_type": "stream",
     "text": [
      "Using InvertedPendulumEncoderFactory\n",
      "\u001b[2m2023-10-02 23:15:47\u001b[0m [\u001b[33m\u001b[1mwarning  \u001b[0m] \u001b[1mUnused arguments are passed.  \u001b[0m \u001b[36malgorithm\u001b[0m=\u001b[35mProbabilisticEnsembleDynamics\u001b[0m \u001b[36mgamma\u001b[0m=\u001b[35m1.0\u001b[0m \u001b[36mgenerated_maxlen\u001b[0m=\u001b[35m100000\u001b[0m \u001b[36mn_steps\u001b[0m=\u001b[35m1\u001b[0m \u001b[36mreal_ratio\u001b[0m=\u001b[35m1.0\u001b[0m\n"
     ]
    }
   ],
   "source": [
    "# load trained dynamics model\n",
    "dynamics_model_path = \"d3rlpy_logs/ProbabilisticEnsembleDynamics_20231002230632\"\n",
    "dynamics = d3rlpy.dynamics.ProbabilisticEnsembleDynamics.from_json(dynamics_model_path + '/params.json')\n",
    "dynamics.load_model(dynamics_model_path + '/model_31542.pt')"
   ]
  },
  {
   "cell_type": "markdown",
   "id": "b0cd5232-3ff4-44cc-afb8-a0cf2038071d",
   "metadata": {},
   "source": [
    "## Train Offline RL Algorithm"
   ]
  },
  {
   "cell_type": "code",
   "execution_count": 20,
   "id": "7de5e387-db4f-4499-8d94-d74fbdfa75b4",
   "metadata": {},
   "outputs": [],
   "source": [
    "encoders = d3rlpy.models.encoders.DefaultEncoderFactory(dropout_rate=0.2)\n",
    "# give COMBO as the generator argument.\n",
    "combo = COMBO(dynamics=dynamics, critic_encoder_factory=encoders, actor_encoder_factory=encoders,\n",
    "              use_gpu=use_gpu)"
   ]
  },
  {
   "cell_type": "code",
   "execution_count": 21,
   "id": "67116a4e-3e12-4f9b-a639-cd52b508761c",
   "metadata": {},
   "outputs": [
    {
     "name": "stdout",
     "output_type": "stream",
     "text": [
      "\u001b[2m2023-10-02 23:16:08\u001b[0m [\u001b[32m\u001b[1mdebug    \u001b[0m] \u001b[1mRandomIterator is selected.\u001b[0m\n",
      "\u001b[2m2023-10-02 23:16:08\u001b[0m [\u001b[32m\u001b[1minfo     \u001b[0m] \u001b[1mDirectory is created at d3rlpy_logs/COMBO_20231002231608\u001b[0m\n",
      "\u001b[2m2023-10-02 23:16:08\u001b[0m [\u001b[32m\u001b[1mdebug    \u001b[0m] \u001b[1mBuilding models...\u001b[0m\n",
      "\u001b[2m2023-10-02 23:16:08\u001b[0m [\u001b[32m\u001b[1mdebug    \u001b[0m] \u001b[1mModels have been built.\u001b[0m\n",
      "\u001b[2m2023-10-02 23:16:08\u001b[0m [\u001b[32m\u001b[1minfo     \u001b[0m] \u001b[1mParameters are saved to d3rlpy_logs/COMBO_20231002231608/params.json\u001b[0m \u001b[36mparams\u001b[0m=\u001b[35m{'action_scaler': None, 'actor_encoder_factory': {'type': 'default', 'params': {'activation': 'relu', 'use_batch_norm': False, 'dropout_rate': 0.2}}, 'actor_learning_rate': 0.0001, 'actor_optim_factory': {'optim_cls': 'Adam', 'betas': (0.9, 0.999), 'eps': 1e-08, 'weight_decay': 0, 'amsgrad': False}, 'batch_size': 256, 'conservative_weight': 1.0, 'critic_encoder_factory': {'type': 'default', 'params': {'activation': 'relu', 'use_batch_norm': False, 'dropout_rate': 0.2}}, 'critic_learning_rate': 0.0003, 'critic_optim_factory': {'optim_cls': 'Adam', 'betas': (0.9, 0.999), 'eps': 1e-08, 'weight_decay': 0, 'amsgrad': False}, 'gamma': 0.99, 'generated_maxlen': 1250000, 'initial_temperature': 1.0, 'n_action_samples': 10, 'n_critics': 2, 'n_frames': 1, 'n_steps': 1, 'q_func_factory': {'type': 'mean', 'params': {'share_encoder': False}}, 'real_ratio': 0.5, 'reward_scaler': None, 'rollout_batch_size': 50000, 'rollout_horizon': 5, 'rollout_interval': 1000, 'scaler': None, 'soft_q_backup': False, 'tau': 0.005, 'temp_learning_rate': 0.0001, 'temp_optim_factory': {'optim_cls': 'Adam', 'betas': (0.9, 0.999), 'eps': 1e-08, 'weight_decay': 0, 'amsgrad': False}, 'update_actor_interval': 1, 'use_gpu': 0, 'algorithm': 'COMBO', 'observation_shape': (4,), 'action_size': 1}\u001b[0m\n"
     ]
    },
    {
     "data": {
      "application/vnd.jupyter.widget-view+json": {
       "model_id": "5e733229eadd4553a4cdc14c211c7e40",
       "version_major": 2,
       "version_minor": 0
      },
      "text/plain": [
       "Epoch 1/100:   0%|          | 0/1000 [00:00<?, ?it/s]"
      ]
     },
     "metadata": {},
     "output_type": "display_data"
    },
    {
     "name": "stdout",
     "output_type": "stream",
     "text": [
      "\u001b[2m2023-10-02 23:16:21\u001b[0m [\u001b[32m\u001b[1mdebug    \u001b[0m] \u001b[1m250000 transitions are generated.\u001b[0m \u001b[36mfake_transitions\u001b[0m=\u001b[35m250000\u001b[0m \u001b[36mreal_transitions\u001b[0m=\u001b[35m75144\u001b[0m\n"
     ]
    },
    {
     "ename": "KeyboardInterrupt",
     "evalue": "",
     "output_type": "error",
     "traceback": [
      "\u001b[0;31m---------------------------------------------------------------------------\u001b[0m",
      "\u001b[0;31mKeyboardInterrupt\u001b[0m                         Traceback (most recent call last)",
      "Cell \u001b[0;32mIn[21], line 1\u001b[0m\n\u001b[0;32m----> 1\u001b[0m \u001b[43mcombo\u001b[49m\u001b[38;5;241;43m.\u001b[39;49m\u001b[43mfit\u001b[49m\u001b[43m(\u001b[49m\u001b[43mdataset\u001b[49m\u001b[43m \u001b[49m\u001b[38;5;241;43m=\u001b[39;49m\u001b[43m \u001b[49m\u001b[43mtrain_episodes\u001b[49m\u001b[43m,\u001b[49m\u001b[43m \u001b[49m\u001b[43meval_episodes\u001b[49m\u001b[38;5;241;43m=\u001b[39;49m\u001b[43mtest_episodes\u001b[49m\u001b[43m,\u001b[49m\u001b[43m \u001b[49m\u001b[43mn_steps\u001b[49m\u001b[38;5;241;43m=\u001b[39;49m\u001b[38;5;241;43m100000\u001b[39;49m\u001b[43m,\u001b[49m\u001b[43m \u001b[49m\u001b[43mn_steps_per_epoch\u001b[49m\u001b[38;5;241;43m=\u001b[39;49m\u001b[38;5;241;43m1000\u001b[39;49m\u001b[43m,\u001b[49m\u001b[43m \u001b[49m\u001b[43mtensorboard_dir\u001b[49m\u001b[38;5;241;43m=\u001b[39;49m\u001b[38;5;124;43m\"\u001b[39;49m\u001b[38;5;124;43mtensorboard_logs\u001b[39;49m\u001b[38;5;124;43m\"\u001b[39;49m\u001b[43m,\u001b[49m\n\u001b[1;32m      2\u001b[0m \u001b[43m         \u001b[49m\u001b[43mscorers\u001b[49m\u001b[38;5;241;43m=\u001b[39;49m\u001b[43m{\u001b[49m\n\u001b[1;32m      3\u001b[0m \u001b[43m            \u001b[49m\u001b[38;5;124;43m'\u001b[39;49m\u001b[38;5;124;43menvironment\u001b[39;49m\u001b[38;5;124;43m'\u001b[39;49m\u001b[43m:\u001b[49m\u001b[43m \u001b[49m\u001b[43md3rlpy\u001b[49m\u001b[38;5;241;43m.\u001b[39;49m\u001b[43mmetrics\u001b[49m\u001b[38;5;241;43m.\u001b[39;49m\u001b[43mscorer\u001b[49m\u001b[38;5;241;43m.\u001b[39;49m\u001b[43mevaluate_on_environment\u001b[49m\u001b[43m(\u001b[49m\u001b[43meval_env\u001b[49m\u001b[43m)\u001b[49m\n\u001b[1;32m      4\u001b[0m \u001b[43m        \u001b[49m\u001b[43m}\u001b[49m\u001b[43m)\u001b[49m\n",
      "File \u001b[0;32m~/Documents/Berkeley/Fa23/cs285/final_project/symmetry-cs285/d3rlpy/d3rlpy/base.py:406\u001b[0m, in \u001b[0;36mLearnableBase.fit\u001b[0;34m(self, dataset, n_epochs, n_steps, n_steps_per_epoch, save_metrics, experiment_name, with_timestamp, logdir, verbose, show_progress, tensorboard_dir, eval_episodes, save_interval, scorers, shuffle, callback)\u001b[0m\n\u001b[1;32m    349\u001b[0m \u001b[38;5;28;01mdef\u001b[39;00m \u001b[38;5;21mfit\u001b[39m(\n\u001b[1;32m    350\u001b[0m     \u001b[38;5;28mself\u001b[39m,\n\u001b[1;32m    351\u001b[0m     dataset: Union[List[Episode], List[Transition], MDPDataset],\n\u001b[0;32m   (...)\u001b[0m\n\u001b[1;32m    368\u001b[0m     callback: Optional[Callable[[\u001b[38;5;124m\"\u001b[39m\u001b[38;5;124mLearnableBase\u001b[39m\u001b[38;5;124m\"\u001b[39m, \u001b[38;5;28mint\u001b[39m, \u001b[38;5;28mint\u001b[39m], \u001b[38;5;28;01mNone\u001b[39;00m]] \u001b[38;5;241m=\u001b[39m \u001b[38;5;28;01mNone\u001b[39;00m,\n\u001b[1;32m    369\u001b[0m ) \u001b[38;5;241m-\u001b[39m\u001b[38;5;241m>\u001b[39m List[Tuple[\u001b[38;5;28mint\u001b[39m, Dict[\u001b[38;5;28mstr\u001b[39m, \u001b[38;5;28mfloat\u001b[39m]]]:\n\u001b[1;32m    370\u001b[0m \u001b[38;5;250m    \u001b[39m\u001b[38;5;124;03m\"\"\"Trains with the given dataset.\u001b[39;00m\n\u001b[1;32m    371\u001b[0m \n\u001b[1;32m    372\u001b[0m \u001b[38;5;124;03m    .. code-block:: python\u001b[39;00m\n\u001b[0;32m   (...)\u001b[0m\n\u001b[1;32m    404\u001b[0m \n\u001b[1;32m    405\u001b[0m \u001b[38;5;124;03m    \"\"\"\u001b[39;00m\n\u001b[0;32m--> 406\u001b[0m     results \u001b[38;5;241m=\u001b[39m \u001b[38;5;28;43mlist\u001b[39;49m\u001b[43m(\u001b[49m\n\u001b[1;32m    407\u001b[0m \u001b[43m        \u001b[49m\u001b[38;5;28;43mself\u001b[39;49m\u001b[38;5;241;43m.\u001b[39;49m\u001b[43mfitter\u001b[49m\u001b[43m(\u001b[49m\n\u001b[1;32m    408\u001b[0m \u001b[43m            \u001b[49m\u001b[43mdataset\u001b[49m\u001b[43m,\u001b[49m\n\u001b[1;32m    409\u001b[0m \u001b[43m            \u001b[49m\u001b[43mn_epochs\u001b[49m\u001b[43m,\u001b[49m\n\u001b[1;32m    410\u001b[0m \u001b[43m            \u001b[49m\u001b[43mn_steps\u001b[49m\u001b[43m,\u001b[49m\n\u001b[1;32m    411\u001b[0m \u001b[43m            \u001b[49m\u001b[43mn_steps_per_epoch\u001b[49m\u001b[43m,\u001b[49m\n\u001b[1;32m    412\u001b[0m \u001b[43m            \u001b[49m\u001b[43msave_metrics\u001b[49m\u001b[43m,\u001b[49m\n\u001b[1;32m    413\u001b[0m \u001b[43m            \u001b[49m\u001b[43mexperiment_name\u001b[49m\u001b[43m,\u001b[49m\n\u001b[1;32m    414\u001b[0m \u001b[43m            \u001b[49m\u001b[43mwith_timestamp\u001b[49m\u001b[43m,\u001b[49m\n\u001b[1;32m    415\u001b[0m \u001b[43m            \u001b[49m\u001b[43mlogdir\u001b[49m\u001b[43m,\u001b[49m\n\u001b[1;32m    416\u001b[0m \u001b[43m            \u001b[49m\u001b[43mverbose\u001b[49m\u001b[43m,\u001b[49m\n\u001b[1;32m    417\u001b[0m \u001b[43m            \u001b[49m\u001b[43mshow_progress\u001b[49m\u001b[43m,\u001b[49m\n\u001b[1;32m    418\u001b[0m \u001b[43m            \u001b[49m\u001b[43mtensorboard_dir\u001b[49m\u001b[43m,\u001b[49m\n\u001b[1;32m    419\u001b[0m \u001b[43m            \u001b[49m\u001b[43meval_episodes\u001b[49m\u001b[43m,\u001b[49m\n\u001b[1;32m    420\u001b[0m \u001b[43m            \u001b[49m\u001b[43msave_interval\u001b[49m\u001b[43m,\u001b[49m\n\u001b[1;32m    421\u001b[0m \u001b[43m            \u001b[49m\u001b[43mscorers\u001b[49m\u001b[43m,\u001b[49m\n\u001b[1;32m    422\u001b[0m \u001b[43m            \u001b[49m\u001b[43mshuffle\u001b[49m\u001b[43m,\u001b[49m\n\u001b[1;32m    423\u001b[0m \u001b[43m            \u001b[49m\u001b[43mcallback\u001b[49m\u001b[43m,\u001b[49m\n\u001b[1;32m    424\u001b[0m \u001b[43m        \u001b[49m\u001b[43m)\u001b[49m\n\u001b[1;32m    425\u001b[0m \u001b[43m    \u001b[49m\u001b[43m)\u001b[49m\n\u001b[1;32m    426\u001b[0m     \u001b[38;5;28;01mreturn\u001b[39;00m results\n",
      "File \u001b[0;32m~/Documents/Berkeley/Fa23/cs285/final_project/symmetry-cs285/d3rlpy/d3rlpy/base.py:637\u001b[0m, in \u001b[0;36mLearnableBase.fitter\u001b[0;34m(self, dataset, n_epochs, n_steps, n_steps_per_epoch, save_metrics, experiment_name, with_timestamp, logdir, verbose, show_progress, tensorboard_dir, eval_episodes, save_interval, scorers, shuffle, callback)\u001b[0m\n\u001b[1;32m    635\u001b[0m \u001b[38;5;66;03m# update parameters\u001b[39;00m\n\u001b[1;32m    636\u001b[0m \u001b[38;5;28;01mwith\u001b[39;00m logger\u001b[38;5;241m.\u001b[39mmeasure_time(\u001b[38;5;124m\"\u001b[39m\u001b[38;5;124malgorithm_update\u001b[39m\u001b[38;5;124m\"\u001b[39m):\n\u001b[0;32m--> 637\u001b[0m     loss \u001b[38;5;241m=\u001b[39m \u001b[38;5;28;43mself\u001b[39;49m\u001b[38;5;241;43m.\u001b[39;49m\u001b[43mupdate\u001b[49m\u001b[43m(\u001b[49m\u001b[43mbatch\u001b[49m\u001b[43m)\u001b[49m\n\u001b[1;32m    639\u001b[0m \u001b[38;5;66;03m# record metrics\u001b[39;00m\n\u001b[1;32m    640\u001b[0m \u001b[38;5;28;01mfor\u001b[39;00m name, val \u001b[38;5;129;01min\u001b[39;00m loss\u001b[38;5;241m.\u001b[39mitems():\n",
      "File \u001b[0;32m~/Documents/Berkeley/Fa23/cs285/final_project/symmetry-cs285/d3rlpy/d3rlpy/base.py:748\u001b[0m, in \u001b[0;36mLearnableBase.update\u001b[0;34m(self, batch)\u001b[0m\n\u001b[1;32m    738\u001b[0m \u001b[38;5;28;01mdef\u001b[39;00m \u001b[38;5;21mupdate\u001b[39m(\u001b[38;5;28mself\u001b[39m, batch: TransitionMiniBatch) \u001b[38;5;241m-\u001b[39m\u001b[38;5;241m>\u001b[39m Dict[\u001b[38;5;28mstr\u001b[39m, \u001b[38;5;28mfloat\u001b[39m]:\n\u001b[1;32m    739\u001b[0m \u001b[38;5;250m    \u001b[39m\u001b[38;5;124;03m\"\"\"Update parameters with mini-batch of data.\u001b[39;00m\n\u001b[1;32m    740\u001b[0m \n\u001b[1;32m    741\u001b[0m \u001b[38;5;124;03m    Args:\u001b[39;00m\n\u001b[0;32m   (...)\u001b[0m\n\u001b[1;32m    746\u001b[0m \n\u001b[1;32m    747\u001b[0m \u001b[38;5;124;03m    \"\"\"\u001b[39;00m\n\u001b[0;32m--> 748\u001b[0m     loss \u001b[38;5;241m=\u001b[39m \u001b[38;5;28;43mself\u001b[39;49m\u001b[38;5;241;43m.\u001b[39;49m\u001b[43m_update\u001b[49m\u001b[43m(\u001b[49m\u001b[43mbatch\u001b[49m\u001b[43m)\u001b[49m\n\u001b[1;32m    749\u001b[0m     \u001b[38;5;28mself\u001b[39m\u001b[38;5;241m.\u001b[39m_grad_step \u001b[38;5;241m+\u001b[39m\u001b[38;5;241m=\u001b[39m \u001b[38;5;241m1\u001b[39m\n\u001b[1;32m    750\u001b[0m     \u001b[38;5;28;01mreturn\u001b[39;00m loss\n",
      "File \u001b[0;32m~/Documents/Berkeley/Fa23/cs285/final_project/symmetry-cs285/d3rlpy/d3rlpy/algos/combo.py:226\u001b[0m, in \u001b[0;36mCOMBO._update\u001b[0;34m(self, batch)\u001b[0m\n\u001b[1;32m    223\u001b[0m \u001b[38;5;28;01massert\u001b[39;00m \u001b[38;5;28mself\u001b[39m\u001b[38;5;241m.\u001b[39m_impl \u001b[38;5;129;01mis\u001b[39;00m \u001b[38;5;129;01mnot\u001b[39;00m \u001b[38;5;28;01mNone\u001b[39;00m, IMPL_NOT_INITIALIZED_ERROR\n\u001b[1;32m    224\u001b[0m metrics \u001b[38;5;241m=\u001b[39m {}\n\u001b[0;32m--> 226\u001b[0m critic_loss \u001b[38;5;241m=\u001b[39m \u001b[38;5;28;43mself\u001b[39;49m\u001b[38;5;241;43m.\u001b[39;49m\u001b[43m_impl\u001b[49m\u001b[38;5;241;43m.\u001b[39;49m\u001b[43mupdate_critic\u001b[49m\u001b[43m(\u001b[49m\u001b[43mbatch\u001b[49m\u001b[43m)\u001b[49m\n\u001b[1;32m    227\u001b[0m metrics\u001b[38;5;241m.\u001b[39mupdate({\u001b[38;5;124m\"\u001b[39m\u001b[38;5;124mcritic_loss\u001b[39m\u001b[38;5;124m\"\u001b[39m: critic_loss})\n\u001b[1;32m    229\u001b[0m \u001b[38;5;66;03m# delayed policy update\u001b[39;00m\n",
      "File \u001b[0;32m~/Documents/Berkeley/Fa23/cs285/final_project/symmetry-cs285/d3rlpy/d3rlpy/torch_utility.py:313\u001b[0m, in \u001b[0;36mtrain_api.<locals>.wrapper\u001b[0;34m(self, *args, **kwargs)\u001b[0m\n\u001b[1;32m    311\u001b[0m \u001b[38;5;28;01mdef\u001b[39;00m \u001b[38;5;21mwrapper\u001b[39m(\u001b[38;5;28mself\u001b[39m: Any, \u001b[38;5;241m*\u001b[39margs: Any, \u001b[38;5;241m*\u001b[39m\u001b[38;5;241m*\u001b[39mkwargs: Any) \u001b[38;5;241m-\u001b[39m\u001b[38;5;241m>\u001b[39m np\u001b[38;5;241m.\u001b[39mndarray:\n\u001b[1;32m    312\u001b[0m     set_train_mode(\u001b[38;5;28mself\u001b[39m)\n\u001b[0;32m--> 313\u001b[0m     \u001b[38;5;28;01mreturn\u001b[39;00m \u001b[43mf\u001b[49m\u001b[43m(\u001b[49m\u001b[38;5;28;43mself\u001b[39;49m\u001b[43m,\u001b[49m\u001b[43m \u001b[49m\u001b[38;5;241;43m*\u001b[39;49m\u001b[43margs\u001b[49m\u001b[43m,\u001b[49m\u001b[43m \u001b[49m\u001b[38;5;241;43m*\u001b[39;49m\u001b[38;5;241;43m*\u001b[39;49m\u001b[43mkwargs\u001b[49m\u001b[43m)\u001b[49m\n",
      "File \u001b[0;32m~/Documents/Berkeley/Fa23/cs285/final_project/symmetry-cs285/d3rlpy/d3rlpy/torch_utility.py:295\u001b[0m, in \u001b[0;36mtorch_api.<locals>._torch_api.<locals>.wrapper\u001b[0;34m(self, *args, **kwargs)\u001b[0m\n\u001b[1;32m    292\u001b[0m             tensor \u001b[38;5;241m=\u001b[39m tensor\u001b[38;5;241m.\u001b[39mfloat()\n\u001b[1;32m    294\u001b[0m     tensors\u001b[38;5;241m.\u001b[39mappend(tensor)\n\u001b[0;32m--> 295\u001b[0m \u001b[38;5;28;01mreturn\u001b[39;00m \u001b[43mf\u001b[49m\u001b[43m(\u001b[49m\u001b[38;5;28;43mself\u001b[39;49m\u001b[43m,\u001b[49m\u001b[43m \u001b[49m\u001b[38;5;241;43m*\u001b[39;49m\u001b[43mtensors\u001b[49m\u001b[43m,\u001b[49m\u001b[43m \u001b[49m\u001b[38;5;241;43m*\u001b[39;49m\u001b[38;5;241;43m*\u001b[39;49m\u001b[43mkwargs\u001b[49m\u001b[43m)\u001b[49m\n",
      "File \u001b[0;32m~/Documents/Berkeley/Fa23/cs285/final_project/symmetry-cs285/d3rlpy/d3rlpy/algos/torch/ddpg_impl.py:149\u001b[0m, in \u001b[0;36mDDPGBaseImpl.update_critic\u001b[0;34m(self, batch)\u001b[0m\n\u001b[1;32m    145\u001b[0m q_tpn \u001b[38;5;241m=\u001b[39m \u001b[38;5;28mself\u001b[39m\u001b[38;5;241m.\u001b[39mcompute_target(batch)\n\u001b[1;32m    147\u001b[0m loss \u001b[38;5;241m=\u001b[39m \u001b[38;5;28mself\u001b[39m\u001b[38;5;241m.\u001b[39mcompute_critic_loss(batch, q_tpn)\n\u001b[0;32m--> 149\u001b[0m \u001b[43mloss\u001b[49m\u001b[38;5;241;43m.\u001b[39;49m\u001b[43mbackward\u001b[49m\u001b[43m(\u001b[49m\u001b[43m)\u001b[49m\n\u001b[1;32m    150\u001b[0m \u001b[38;5;28mself\u001b[39m\u001b[38;5;241m.\u001b[39m_critic_optim\u001b[38;5;241m.\u001b[39mstep()\n\u001b[1;32m    152\u001b[0m \u001b[38;5;28;01mreturn\u001b[39;00m loss\u001b[38;5;241m.\u001b[39mcpu()\u001b[38;5;241m.\u001b[39mdetach()\u001b[38;5;241m.\u001b[39mnumpy()\n",
      "File \u001b[0;32m~/.local/share/virtualenvs/symmetry-cs285-MHAjodT-/lib/python3.8/site-packages/torch/_tensor.py:487\u001b[0m, in \u001b[0;36mTensor.backward\u001b[0;34m(self, gradient, retain_graph, create_graph, inputs)\u001b[0m\n\u001b[1;32m    477\u001b[0m \u001b[38;5;28;01mif\u001b[39;00m has_torch_function_unary(\u001b[38;5;28mself\u001b[39m):\n\u001b[1;32m    478\u001b[0m     \u001b[38;5;28;01mreturn\u001b[39;00m handle_torch_function(\n\u001b[1;32m    479\u001b[0m         Tensor\u001b[38;5;241m.\u001b[39mbackward,\n\u001b[1;32m    480\u001b[0m         (\u001b[38;5;28mself\u001b[39m,),\n\u001b[0;32m   (...)\u001b[0m\n\u001b[1;32m    485\u001b[0m         inputs\u001b[38;5;241m=\u001b[39minputs,\n\u001b[1;32m    486\u001b[0m     )\n\u001b[0;32m--> 487\u001b[0m \u001b[43mtorch\u001b[49m\u001b[38;5;241;43m.\u001b[39;49m\u001b[43mautograd\u001b[49m\u001b[38;5;241;43m.\u001b[39;49m\u001b[43mbackward\u001b[49m\u001b[43m(\u001b[49m\n\u001b[1;32m    488\u001b[0m \u001b[43m    \u001b[49m\u001b[38;5;28;43mself\u001b[39;49m\u001b[43m,\u001b[49m\u001b[43m \u001b[49m\u001b[43mgradient\u001b[49m\u001b[43m,\u001b[49m\u001b[43m \u001b[49m\u001b[43mretain_graph\u001b[49m\u001b[43m,\u001b[49m\u001b[43m \u001b[49m\u001b[43mcreate_graph\u001b[49m\u001b[43m,\u001b[49m\u001b[43m \u001b[49m\u001b[43minputs\u001b[49m\u001b[38;5;241;43m=\u001b[39;49m\u001b[43minputs\u001b[49m\n\u001b[1;32m    489\u001b[0m \u001b[43m\u001b[49m\u001b[43m)\u001b[49m\n",
      "File \u001b[0;32m~/.local/share/virtualenvs/symmetry-cs285-MHAjodT-/lib/python3.8/site-packages/torch/autograd/__init__.py:200\u001b[0m, in \u001b[0;36mbackward\u001b[0;34m(tensors, grad_tensors, retain_graph, create_graph, grad_variables, inputs)\u001b[0m\n\u001b[1;32m    195\u001b[0m     retain_graph \u001b[38;5;241m=\u001b[39m create_graph\n\u001b[1;32m    197\u001b[0m \u001b[38;5;66;03m# The reason we repeat same the comment below is that\u001b[39;00m\n\u001b[1;32m    198\u001b[0m \u001b[38;5;66;03m# some Python versions print out the first line of a multi-line function\u001b[39;00m\n\u001b[1;32m    199\u001b[0m \u001b[38;5;66;03m# calls in the traceback and some print out the last line\u001b[39;00m\n\u001b[0;32m--> 200\u001b[0m \u001b[43mVariable\u001b[49m\u001b[38;5;241;43m.\u001b[39;49m\u001b[43m_execution_engine\u001b[49m\u001b[38;5;241;43m.\u001b[39;49m\u001b[43mrun_backward\u001b[49m\u001b[43m(\u001b[49m\u001b[43m  \u001b[49m\u001b[38;5;66;43;03m# Calls into the C++ engine to run the backward pass\u001b[39;49;00m\n\u001b[1;32m    201\u001b[0m \u001b[43m    \u001b[49m\u001b[43mtensors\u001b[49m\u001b[43m,\u001b[49m\u001b[43m \u001b[49m\u001b[43mgrad_tensors_\u001b[49m\u001b[43m,\u001b[49m\u001b[43m \u001b[49m\u001b[43mretain_graph\u001b[49m\u001b[43m,\u001b[49m\u001b[43m \u001b[49m\u001b[43mcreate_graph\u001b[49m\u001b[43m,\u001b[49m\u001b[43m \u001b[49m\u001b[43minputs\u001b[49m\u001b[43m,\u001b[49m\n\u001b[1;32m    202\u001b[0m \u001b[43m    \u001b[49m\u001b[43mallow_unreachable\u001b[49m\u001b[38;5;241;43m=\u001b[39;49m\u001b[38;5;28;43;01mTrue\u001b[39;49;00m\u001b[43m,\u001b[49m\u001b[43m \u001b[49m\u001b[43maccumulate_grad\u001b[49m\u001b[38;5;241;43m=\u001b[39;49m\u001b[38;5;28;43;01mTrue\u001b[39;49;00m\u001b[43m)\u001b[49m\n",
      "\u001b[0;31mKeyboardInterrupt\u001b[0m: "
     ]
    }
   ],
   "source": [
    "combo.fit(dataset = train_episodes, eval_episodes=test_episodes, n_steps=100000, n_steps_per_epoch=1000, tensorboard_dir=\"tensorboard_logs\",\n",
    "         scorers={\n",
    "            'environment': d3rlpy.metrics.scorer.evaluate_on_environment(eval_env)\n",
    "        })"
   ]
  },
  {
   "cell_type": "markdown",
   "id": "975eb780-5bf9-4dce-a157-2a3391301db6",
   "metadata": {},
   "source": [
    "## Load the Policy"
   ]
  },
  {
   "cell_type": "code",
   "execution_count": 9,
   "id": "307e723b-9836-489a-b6de-d66d7cf6dd22",
   "metadata": {},
   "outputs": [],
   "source": [
    "trained_policy = COMBO()\n",
    "# initialize with dataset\n",
    "trained_policy.build_with_dataset(dataset)\n",
    "# Load entire model parameters.\n",
    "trained_policy.load_model('d3rlpy_logs/COMBO_20230929153035/model_53000.pt')"
   ]
  },
  {
   "cell_type": "markdown",
   "id": "1c0b5477-7e6c-4701-a2f3-a0df1f357aa1",
   "metadata": {},
   "source": [
    "## See the policy running"
   ]
  },
  {
   "cell_type": "code",
   "execution_count": 10,
   "id": "a11e69dd-55a6-4c4b-a2a3-fe66e4626a0d",
   "metadata": {},
   "outputs": [],
   "source": [
    "scorer = d3rlpy.metrics.scorer.evaluate_on_environment(eval_env, render=True)\n",
    "mean_episode_return = scorer(trained_policy)"
   ]
  }
 ],
 "metadata": {
  "kernelspec": {
   "display_name": "Python 3 (ipykernel)",
   "language": "python",
   "name": "python3"
  },
  "language_info": {
   "codemirror_mode": {
    "name": "ipython",
    "version": 3
   },
   "file_extension": ".py",
   "mimetype": "text/x-python",
   "name": "python",
   "nbconvert_exporter": "python",
   "pygments_lexer": "ipython3",
   "version": "3.8.10"
  }
 },
 "nbformat": 4,
 "nbformat_minor": 5
}
