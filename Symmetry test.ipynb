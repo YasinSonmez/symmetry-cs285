{
 "cells": [
  {
   "cell_type": "code",
   "execution_count": 2,
   "id": "3cef1889",
   "metadata": {},
   "outputs": [
    {
     "name": "stderr",
     "output_type": "stream",
     "text": [
      "Warning: Gym version v0.24.1 has a number of critical issues with `gym.make` such that environment observation and action spaces are incorrectly evaluated, raising incorrect errors and warning . It is recommend to downgrading to v0.23.1 or upgrading to v0.25.1\n"
     ]
    }
   ],
   "source": [
    "import d3rlpy\n",
    "from d3rlpy.algos import COMBO\n",
    "from sklearn.model_selection import train_test_split\n",
    "import gym\n",
    "import numpy as np"
   ]
  },
  {
   "cell_type": "markdown",
   "id": "47a5f2b7-f1c9-4c90-b9ff-a0991612c559",
   "metadata": {},
   "source": [
    "## Params"
   ]
  },
  {
   "cell_type": "code",
   "execution_count": 3,
   "id": "6547464d-8f48-46fd-b606-f121a3cd53f2",
   "metadata": {},
   "outputs": [
    {
     "name": "stderr",
     "output_type": "stream",
     "text": [
      "/home/yasin/.local/share/virtualenvs/symmetry-cs285-U_vq4NrE/lib/python3.8/site-packages/gym/utils/passive_env_checker.py:69: UserWarning: \u001b[33mWARN: Agent's minimum action space value is -infinity. This is probably too low.\u001b[0m\n",
      "  logger.warn(\n",
      "/home/yasin/.local/share/virtualenvs/symmetry-cs285-U_vq4NrE/lib/python3.8/site-packages/gym/utils/passive_env_checker.py:73: UserWarning: \u001b[33mWARN: Agent's maximum action space value is infinity. This is probably too high\u001b[0m\n",
      "  logger.warn(\n",
      "/home/yasin/.local/share/virtualenvs/symmetry-cs285-U_vq4NrE/lib/python3.8/site-packages/gym/utils/passive_env_checker.py:97: UserWarning: \u001b[33mWARN: We recommend you to use a symmetric and normalized Box action space (range=[-1, 1]) https://stable-baselines3.readthedocs.io/en/master/guide/rl_tips.html\u001b[0m\n",
      "  logger.warn(\n"
     ]
    },
    {
     "data": {
      "text/plain": [
       "array([ 0.00023643,  0.00900927, -0.00711681,  0.00897299])"
      ]
     },
     "execution_count": 3,
     "metadata": {},
     "output_type": "execute_result"
    }
   ],
   "source": [
    "d3rlpy.seed(1)\n",
    "use_gpu = True\n",
    "# prepare environment\n",
    "env = gym.make(\"InvertedPendulum-v4\")\n",
    "eval_env = gym.make(\"InvertedPendulum-v4\")\n",
    "env.reset(seed=1)\n",
    "eval_env.reset(seed=1)"
   ]
  },
  {
   "cell_type": "markdown",
   "id": "c35492fa-eb11-45b6-b1bc-50b9d9893ab5",
   "metadata": {
    "jp-MarkdownHeadingCollapsed": true
   },
   "source": [
    "## Create dataset"
   ]
  },
  {
   "cell_type": "code",
   "execution_count": 5,
   "id": "133dc7a7-22c1-4bc8-a90c-9ebcce88928a",
   "metadata": {
    "scrolled": true
   },
   "outputs": [
    {
     "name": "stdout",
     "output_type": "stream",
     "text": [
      "\u001b[2m2023-09-29 10:36:45\u001b[0m [\u001b[32m\u001b[1minfo     \u001b[0m] \u001b[1mDirectory is created at d3rlpy_logs/SAC_online_20230929103645\u001b[0m\n",
      "\u001b[2m2023-09-29 10:36:45\u001b[0m [\u001b[32m\u001b[1mdebug    \u001b[0m] \u001b[1mBuilding model...\u001b[0m\n",
      "\u001b[2m2023-09-29 10:36:45\u001b[0m [\u001b[32m\u001b[1mdebug    \u001b[0m] \u001b[1mModel has been built.\u001b[0m\n",
      "\u001b[2m2023-09-29 10:36:45\u001b[0m [\u001b[32m\u001b[1minfo     \u001b[0m] \u001b[1mParameters are saved to d3rlpy_logs/SAC_online_20230929103645/params.json\u001b[0m \u001b[36mparams\u001b[0m=\u001b[35m{'action_scaler': None, 'actor_encoder_factory': {'type': 'default', 'params': {'activation': 'relu', 'use_batch_norm': False, 'dropout_rate': 0.2}}, 'actor_learning_rate': 0.0003, 'actor_optim_factory': {'optim_cls': 'Adam', 'betas': (0.9, 0.999), 'eps': 1e-08, 'weight_decay': 0, 'amsgrad': False}, 'batch_size': 256, 'critic_encoder_factory': {'type': 'default', 'params': {'activation': 'relu', 'use_batch_norm': False, 'dropout_rate': None}}, 'critic_learning_rate': 0.0003, 'critic_optim_factory': {'optim_cls': 'Adam', 'betas': (0.9, 0.999), 'eps': 1e-08, 'weight_decay': 0, 'amsgrad': False}, 'gamma': 0.99, 'generated_maxlen': 100000, 'initial_temperature': 1.0, 'n_critics': 2, 'n_frames': 1, 'n_steps': 1, 'q_func_factory': {'type': 'mean', 'params': {'share_encoder': False}}, 'real_ratio': 1.0, 'reward_scaler': None, 'scaler': None, 'tau': 0.005, 'temp_learning_rate': 0.0003, 'temp_optim_factory': {'optim_cls': 'Adam', 'betas': (0.9, 0.999), 'eps': 1e-08, 'weight_decay': 0, 'amsgrad': False}, 'use_gpu': 0, 'algorithm': 'SAC', 'observation_shape': (4,), 'action_size': 1}\u001b[0m\n"
     ]
    },
    {
     "name": "stderr",
     "output_type": "stream",
     "text": [
      "/home/yasin/.local/share/virtualenvs/symmetry-cs285-U_vq4NrE/lib/python3.8/site-packages/gym/core.py:200: DeprecationWarning: \u001b[33mWARN: Function `env.seed(seed)` is marked as deprecated and will be removed in the future. Please use `env.reset(seed=seed)` instead.\u001b[0m\n",
      "  deprecation(\n"
     ]
    },
    {
     "data": {
      "application/vnd.jupyter.widget-view+json": {
       "model_id": "73d477b5258a4a2a82252bc074d7d986",
       "version_major": 2,
       "version_minor": 0
      },
      "text/plain": [
       "  0%|          | 0/100000 [00:00<?, ?it/s]"
      ]
     },
     "metadata": {},
     "output_type": "display_data"
    },
    {
     "name": "stdout",
     "output_type": "stream",
     "text": [
      "\u001b[2m2023-09-29 10:36:47\u001b[0m [\u001b[32m\u001b[1minfo     \u001b[0m] \u001b[1mModel parameters are saved to d3rlpy_logs/SAC_online_20230929103645/model_1000.pt\u001b[0m\n",
      "\u001b[2m2023-09-29 10:36:48\u001b[0m [\u001b[32m\u001b[1minfo     \u001b[0m] \u001b[1mSAC_online_20230929103645: epoch=1 step=1000\u001b[0m \u001b[36mepoch\u001b[0m=\u001b[35m1\u001b[0m \u001b[36mmetrics\u001b[0m=\u001b[35m{'time_inference': 0.002146885395050049, 'time_environment_step': 0.00016734671592712403, 'time_step': 0.00239652943611145, 'rollout_return': 9.96, 'evaluation': 14.6}\u001b[0m \u001b[36mstep\u001b[0m=\u001b[35m1000\u001b[0m\n",
      "\u001b[2m2023-09-29 10:37:03\u001b[0m [\u001b[32m\u001b[1minfo     \u001b[0m] \u001b[1mModel parameters are saved to d3rlpy_logs/SAC_online_20230929103645/model_2000.pt\u001b[0m\n",
      "\u001b[2m2023-09-29 10:37:03\u001b[0m [\u001b[32m\u001b[1minfo     \u001b[0m] \u001b[1mSAC_online_20230929103645: epoch=2 step=2000\u001b[0m \u001b[36mepoch\u001b[0m=\u001b[35m2\u001b[0m \u001b[36mmetrics\u001b[0m=\u001b[35m{'time_inference': 0.0013801386356353759, 'time_environment_step': 0.00013177084922790528, 'time_sample_batch': 0.0003177614212036133, 'time_algorithm_update': 0.012360470056533814, 'temp_loss': 1.3707251897454262, 'temp': 0.8709913108348847, 'critic_loss': 0.6587207683324814, 'actor_loss': -4.27164307051897, 'time_step': 0.014282214879989624, 'rollout_return': 17.24137931034483, 'evaluation': 85.4}\u001b[0m \u001b[36mstep\u001b[0m=\u001b[35m2000\u001b[0m\n",
      "\u001b[2m2023-09-29 10:37:18\u001b[0m [\u001b[32m\u001b[1minfo     \u001b[0m] \u001b[1mModel parameters are saved to d3rlpy_logs/SAC_online_20230929103645/model_3000.pt\u001b[0m\n",
      "\u001b[2m2023-09-29 10:37:18\u001b[0m [\u001b[32m\u001b[1minfo     \u001b[0m] \u001b[1mSAC_online_20230929103645: epoch=3 step=3000\u001b[0m \u001b[36mepoch\u001b[0m=\u001b[35m3\u001b[0m \u001b[36mmetrics\u001b[0m=\u001b[35m{'time_inference': 0.0014001688957214356, 'time_environment_step': 0.00013300108909606933, 'time_sample_batch': 0.00033075547218322754, 'time_algorithm_update': 0.012373881578445435, 'temp_loss': 0.8239196244478225, 'temp': 0.6848000499010086, 'critic_loss': 1.0671175475120545, 'actor_loss': -9.14385541677475, 'time_step': 0.014326297521591187, 'rollout_return': 78.41666666666667, 'evaluation': 98.6}\u001b[0m \u001b[36mstep\u001b[0m=\u001b[35m3000\u001b[0m\n",
      "\u001b[2m2023-09-29 10:37:33\u001b[0m [\u001b[32m\u001b[1minfo     \u001b[0m] \u001b[1mModel parameters are saved to d3rlpy_logs/SAC_online_20230929103645/model_4000.pt\u001b[0m\n",
      "\u001b[2m2023-09-29 10:37:33\u001b[0m [\u001b[32m\u001b[1minfo     \u001b[0m] \u001b[1mSAC_online_20230929103645: epoch=4 step=4000\u001b[0m \u001b[36mepoch\u001b[0m=\u001b[35m4\u001b[0m \u001b[36mmetrics\u001b[0m=\u001b[35m{'time_inference': 0.0013885617256164551, 'time_environment_step': 0.00013127970695495604, 'time_sample_batch': 0.0003326959609985352, 'time_algorithm_update': 0.012260146617889404, 'temp_loss': 0.6039832804203034, 'temp': 0.5529411216080189, 'critic_loss': 1.355274220228195, 'actor_loss': -13.860278624534606, 'time_step': 0.014200453996658325, 'rollout_return': 93.72727272727273, 'evaluation': 111.2}\u001b[0m \u001b[36mstep\u001b[0m=\u001b[35m4000\u001b[0m\n",
      "\u001b[2m2023-09-29 10:37:50\u001b[0m [\u001b[32m\u001b[1minfo     \u001b[0m] \u001b[1mModel parameters are saved to d3rlpy_logs/SAC_online_20230929103645/model_5000.pt\u001b[0m\n",
      "\u001b[2m2023-09-29 10:37:50\u001b[0m [\u001b[32m\u001b[1minfo     \u001b[0m] \u001b[1mSAC_online_20230929103645: epoch=5 step=5000\u001b[0m \u001b[36mepoch\u001b[0m=\u001b[35m5\u001b[0m \u001b[36mmetrics\u001b[0m=\u001b[35m{'time_inference': 0.0015067083835601806, 'time_environment_step': 0.00013898348808288573, 'time_sample_batch': 0.0003592851161956787, 'time_algorithm_update': 0.013418007850646972, 'temp_loss': 0.4760173820257187, 'temp': 0.4458690301477909, 'critic_loss': 1.5007913255691527, 'actor_loss': -17.866270520210268, 'time_step': 0.01551821231842041, 'rollout_return': 89.81818181818181, 'evaluation': 95.8}\u001b[0m \u001b[36mstep\u001b[0m=\u001b[35m5000\u001b[0m\n",
      "\u001b[2m2023-09-29 10:38:07\u001b[0m [\u001b[32m\u001b[1minfo     \u001b[0m] \u001b[1mModel parameters are saved to d3rlpy_logs/SAC_online_20230929103645/model_6000.pt\u001b[0m\n",
      "\u001b[2m2023-09-29 10:38:07\u001b[0m [\u001b[32m\u001b[1minfo     \u001b[0m] \u001b[1mSAC_online_20230929103645: epoch=6 step=6000\u001b[0m \u001b[36mepoch\u001b[0m=\u001b[35m6\u001b[0m \u001b[36mmetrics\u001b[0m=\u001b[35m{'time_inference': 0.0015466461181640626, 'time_environment_step': 0.00014395284652709962, 'time_sample_batch': 0.00037449240684509275, 'time_algorithm_update': 0.013391623735427856, 'temp_loss': 0.37584692797064784, 'temp': 0.35841259175539014, 'critic_loss': 1.5762710428535938, 'actor_loss': -21.341943307876587, 'time_step': 0.015553839683532715, 'rollout_return': 96.3, 'evaluation': 90.9}\u001b[0m \u001b[36mstep\u001b[0m=\u001b[35m6000\u001b[0m\n",
      "\u001b[2m2023-09-29 10:38:23\u001b[0m [\u001b[32m\u001b[1minfo     \u001b[0m] \u001b[1mModel parameters are saved to d3rlpy_logs/SAC_online_20230929103645/model_7000.pt\u001b[0m\n",
      "\u001b[2m2023-09-29 10:38:23\u001b[0m [\u001b[32m\u001b[1minfo     \u001b[0m] \u001b[1mSAC_online_20230929103645: epoch=7 step=7000\u001b[0m \u001b[36mepoch\u001b[0m=\u001b[35m7\u001b[0m \u001b[36mmetrics\u001b[0m=\u001b[35m{'time_inference': 0.001515038013458252, 'time_environment_step': 0.0001413877010345459, 'rollout_return': 87.5, 'time_sample_batch': 0.0003659012317657471, 'time_algorithm_update': 0.013319556474685669, 'temp_loss': 0.29322034592926505, 'temp': 0.28831401309370996, 'critic_loss': 1.7628518122136594, 'actor_loss': -24.25589144515991, 'time_step': 0.015437565803527831, 'evaluation': 95.3}\u001b[0m \u001b[36mstep\u001b[0m=\u001b[35m7000\u001b[0m\n",
      "\u001b[2m2023-09-29 10:38:40\u001b[0m [\u001b[32m\u001b[1minfo     \u001b[0m] \u001b[1mModel parameters are saved to d3rlpy_logs/SAC_online_20230929103645/model_8000.pt\u001b[0m\n",
      "\u001b[2m2023-09-29 10:38:40\u001b[0m [\u001b[32m\u001b[1minfo     \u001b[0m] \u001b[1mSAC_online_20230929103645: epoch=8 step=8000\u001b[0m \u001b[36mepoch\u001b[0m=\u001b[35m8\u001b[0m \u001b[36mmetrics\u001b[0m=\u001b[35m{'time_inference': 0.0015375473499298095, 'time_environment_step': 0.00014431428909301758, 'time_sample_batch': 0.00037854599952697756, 'time_algorithm_update': 0.01341908836364746, 'temp_loss': 0.22361521825194358, 'temp': 0.23282525841891766, 'critic_loss': 1.7374676639139652, 'actor_loss': -26.73364154624939, 'time_step': 0.015577144622802734, 'rollout_return': 95.9, 'evaluation': 95.7}\u001b[0m \u001b[36mstep\u001b[0m=\u001b[35m8000\u001b[0m\n",
      "\u001b[2m2023-09-29 10:38:56\u001b[0m [\u001b[32m\u001b[1minfo     \u001b[0m] \u001b[1mModel parameters are saved to d3rlpy_logs/SAC_online_20230929103645/model_9000.pt\u001b[0m\n",
      "\u001b[2m2023-09-29 10:38:56\u001b[0m [\u001b[32m\u001b[1minfo     \u001b[0m] \u001b[1mSAC_online_20230929103645: epoch=9 step=9000\u001b[0m \u001b[36mepoch\u001b[0m=\u001b[35m9\u001b[0m \u001b[36mmetrics\u001b[0m=\u001b[35m{'time_inference': 0.0014635910987854004, 'time_environment_step': 0.00013536477088928222, 'time_sample_batch': 0.0003674435615539551, 'time_algorithm_update': 0.012834164142608642, 'temp_loss': 0.17190613102167845, 'temp': 0.18868754181265832, 'critic_loss': 1.871799837589264, 'actor_loss': -28.765637563705443, 'time_step': 0.014892974615097046, 'rollout_return': 91.81818181818181, 'evaluation': 111.4}\u001b[0m \u001b[36mstep\u001b[0m=\u001b[35m9000\u001b[0m\n",
      "\u001b[2m2023-09-29 10:39:13\u001b[0m [\u001b[32m\u001b[1minfo     \u001b[0m] \u001b[1mModel parameters are saved to d3rlpy_logs/SAC_online_20230929103645/model_10000.pt\u001b[0m\n",
      "\u001b[2m2023-09-29 10:39:13\u001b[0m [\u001b[32m\u001b[1minfo     \u001b[0m] \u001b[1mSAC_online_20230929103645: epoch=10 step=10000\u001b[0m \u001b[36mepoch\u001b[0m=\u001b[35m10\u001b[0m \u001b[36mmetrics\u001b[0m=\u001b[35m{'time_inference': 0.0016058118343353271, 'time_environment_step': 0.00014906907081604004, 'time_sample_batch': 0.00040207600593566897, 'time_algorithm_update': 0.013721394300460816, 'temp_loss': 0.13201291966438294, 'temp': 0.15316960626840592, 'critic_loss': 1.7908556972295047, 'actor_loss': -30.424098442077636, 'time_step': 0.015980629444122315, 'rollout_return': 91.63636363636364, 'evaluation': 91.4}\u001b[0m \u001b[36mstep\u001b[0m=\u001b[35m10000\u001b[0m\n",
      "\u001b[2m2023-09-29 10:39:32\u001b[0m [\u001b[32m\u001b[1minfo     \u001b[0m] \u001b[1mModel parameters are saved to d3rlpy_logs/SAC_online_20230929103645/model_11000.pt\u001b[0m\n",
      "\u001b[2m2023-09-29 10:39:32\u001b[0m [\u001b[32m\u001b[1minfo     \u001b[0m] \u001b[1mSAC_online_20230929103645: epoch=11 step=11000\u001b[0m \u001b[36mepoch\u001b[0m=\u001b[35m11\u001b[0m \u001b[36mmetrics\u001b[0m=\u001b[35m{'time_inference': 0.001610752820968628, 'time_environment_step': 0.0001496758460998535, 'time_sample_batch': 0.0004003031253814697, 'time_algorithm_update': 0.013996705293655395, 'temp_loss': 0.10261758966743946, 'temp': 0.12433752171695232, 'critic_loss': 1.9020268650054932, 'actor_loss': -31.78269804763794, 'time_step': 0.016258836030960084, 'rollout_return': 92.72727272727273, 'evaluation': 109.2}\u001b[0m \u001b[36mstep\u001b[0m=\u001b[35m11000\u001b[0m\n",
      "\u001b[2m2023-09-29 10:39:50\u001b[0m [\u001b[32m\u001b[1minfo     \u001b[0m] \u001b[1mModel parameters are saved to d3rlpy_logs/SAC_online_20230929103645/model_12000.pt\u001b[0m\n",
      "\u001b[2m2023-09-29 10:39:50\u001b[0m [\u001b[32m\u001b[1minfo     \u001b[0m] \u001b[1mSAC_online_20230929103645: epoch=12 step=12000\u001b[0m \u001b[36mepoch\u001b[0m=\u001b[35m12\u001b[0m \u001b[36mmetrics\u001b[0m=\u001b[35m{'time_inference': 0.0016604435443878173, 'time_environment_step': 0.0001554906368255615, 'time_sample_batch': 0.0004163200855255127, 'time_algorithm_update': 0.014472913980484009, 'temp_loss': 0.07846288247033954, 'temp': 0.1009166596904397, 'critic_loss': 1.6704128443151713, 'actor_loss': -32.94350182914734, 'time_step': 0.016811890602111815, 'rollout_return': 113.22222222222223, 'evaluation': 159.2}\u001b[0m \u001b[36mstep\u001b[0m=\u001b[35m12000\u001b[0m\n",
      "\u001b[2m2023-09-29 10:40:03\u001b[0m [\u001b[32m\u001b[1minfo     \u001b[0m] \u001b[1mModel parameters are saved to d3rlpy_logs/SAC_online_20230929103645/model_13000.pt\u001b[0m\n",
      "\u001b[2m2023-09-29 10:40:03\u001b[0m [\u001b[32m\u001b[1minfo     \u001b[0m] \u001b[1mSAC_online_20230929103645: epoch=13 step=13000\u001b[0m \u001b[36mepoch\u001b[0m=\u001b[35m13\u001b[0m \u001b[36mmetrics\u001b[0m=\u001b[35m{'time_inference': 0.0011827154159545898, 'time_environment_step': 0.00011464977264404296, 'time_sample_batch': 0.00032596969604492185, 'time_algorithm_update': 0.010694896697998047, 'temp_loss': 0.05700078916735947, 'temp': 0.08235627133399248, 'critic_loss': 1.5905223801136017, 'actor_loss': -34.13551287651062, 'time_step': 0.012393797874450684, 'rollout_return': 141.2, 'evaluation': 117.0}\u001b[0m \u001b[36mstep\u001b[0m=\u001b[35m13000\u001b[0m\n",
      "\u001b[2m2023-09-29 10:40:18\u001b[0m [\u001b[32m\u001b[1minfo     \u001b[0m] \u001b[1mModel parameters are saved to d3rlpy_logs/SAC_online_20230929103645/model_14000.pt\u001b[0m\n",
      "\u001b[2m2023-09-29 10:40:18\u001b[0m [\u001b[32m\u001b[1minfo     \u001b[0m] \u001b[1mSAC_online_20230929103645: epoch=14 step=14000\u001b[0m \u001b[36mepoch\u001b[0m=\u001b[35m14\u001b[0m \u001b[36mmetrics\u001b[0m=\u001b[35m{'time_inference': 0.001274214267730713, 'time_environment_step': 0.00012436413764953613, 'time_sample_batch': 0.00034671235084533694, 'time_algorithm_update': 0.011335973262786864, 'temp_loss': 0.037264614535495635, 'temp': 0.06839425215870142, 'critic_loss': 1.5708674205839634, 'actor_loss': -35.486516300201416, 'time_step': 0.013163758039474487, 'rollout_return': 172.71428571428572, 'evaluation': 128.1}\u001b[0m \u001b[36mstep\u001b[0m=\u001b[35m14000\u001b[0m\n",
      "\u001b[2m2023-09-29 10:40:33\u001b[0m [\u001b[32m\u001b[1minfo     \u001b[0m] \u001b[1mModel parameters are saved to d3rlpy_logs/SAC_online_20230929103645/model_15000.pt\u001b[0m\n",
      "\u001b[2m2023-09-29 10:40:33\u001b[0m [\u001b[32m\u001b[1minfo     \u001b[0m] \u001b[1mSAC_online_20230929103645: epoch=15 step=15000\u001b[0m \u001b[36mepoch\u001b[0m=\u001b[35m15\u001b[0m \u001b[36mmetrics\u001b[0m=\u001b[35m{'time_inference': 0.0012988770008087159, 'time_environment_step': 0.00012495493888854982, 'time_sample_batch': 0.00035286688804626464, 'time_algorithm_update': 0.011676511526107788, 'temp_loss': 0.021373041505226866, 'temp': 0.05833283936604858, 'critic_loss': 1.4297876668572427, 'actor_loss': -36.65191379547119, 'time_step': 0.013536738157272339, 'rollout_return': 165.5, 'evaluation': 218.4}\u001b[0m \u001b[36mstep\u001b[0m=\u001b[35m15000\u001b[0m\n",
      "\u001b[2m2023-09-29 10:40:49\u001b[0m [\u001b[32m\u001b[1minfo     \u001b[0m] \u001b[1mModel parameters are saved to d3rlpy_logs/SAC_online_20230929103645/model_16000.pt\u001b[0m\n",
      "\u001b[2m2023-09-29 10:40:49\u001b[0m [\u001b[32m\u001b[1minfo     \u001b[0m] \u001b[1mSAC_online_20230929103645: epoch=16 step=16000\u001b[0m \u001b[36mepoch\u001b[0m=\u001b[35m16\u001b[0m \u001b[36mmetrics\u001b[0m=\u001b[35m{'time_inference': 0.0012394442558288574, 'time_environment_step': 0.00011909985542297363, 'time_sample_batch': 0.00034223055839538577, 'time_algorithm_update': 0.011061605215072632, 'temp_loss': 0.00860528665437596, 'temp': 0.051926758605986834, 'critic_loss': 1.3091966491490603, 'actor_loss': -37.90456489944458, 'time_step': 0.012840696811676025, 'rollout_return': 200.2, 'evaluation': 264.1}\u001b[0m \u001b[36mstep\u001b[0m=\u001b[35m16000\u001b[0m\n",
      "\u001b[2m2023-09-29 10:41:07\u001b[0m [\u001b[32m\u001b[1minfo     \u001b[0m] \u001b[1mModel parameters are saved to d3rlpy_logs/SAC_online_20230929103645/model_17000.pt\u001b[0m\n",
      "\u001b[2m2023-09-29 10:41:07\u001b[0m [\u001b[32m\u001b[1minfo     \u001b[0m] \u001b[1mSAC_online_20230929103645: epoch=17 step=17000\u001b[0m \u001b[36mepoch\u001b[0m=\u001b[35m17\u001b[0m \u001b[36mmetrics\u001b[0m=\u001b[35m{'time_inference': 0.0014357402324676513, 'time_environment_step': 0.00013556337356567384, 'time_sample_batch': 0.00038443064689636233, 'time_algorithm_update': 0.01271211266517639, 'temp_loss': 0.0007959881477872841, 'temp': 0.049543112821877004, 'critic_loss': 1.2643906205147504, 'actor_loss': -39.38905400848389, 'time_step': 0.01476075291633606, 'rollout_return': 304.6666666666667, 'evaluation': 322.9}\u001b[0m \u001b[36mstep\u001b[0m=\u001b[35m17000\u001b[0m\n",
      "\u001b[2m2023-09-29 10:41:25\u001b[0m [\u001b[32m\u001b[1minfo     \u001b[0m] \u001b[1mModel parameters are saved to d3rlpy_logs/SAC_online_20230929103645/model_18000.pt\u001b[0m\n",
      "\u001b[2m2023-09-29 10:41:25\u001b[0m [\u001b[32m\u001b[1minfo     \u001b[0m] \u001b[1mSAC_online_20230929103645: epoch=18 step=18000\u001b[0m \u001b[36mepoch\u001b[0m=\u001b[35m18\u001b[0m \u001b[36mmetrics\u001b[0m=\u001b[35m{'time_inference': 0.0015090491771697998, 'time_environment_step': 0.00013908052444458008, 'time_sample_batch': 0.00039562177658081053, 'time_algorithm_update': 0.01323057198524475, 'temp_loss': 0.0023623663258622403, 'temp': 0.049036971226334575, 'critic_loss': 1.1862030815929174, 'actor_loss': -41.101842071533206, 'time_step': 0.015369476318359375, 'rollout_return': 351.3333333333333, 'evaluation': 316.9}\u001b[0m \u001b[36mstep\u001b[0m=\u001b[35m18000\u001b[0m\n",
      "\u001b[2m2023-09-29 10:41:51\u001b[0m [\u001b[32m\u001b[1minfo     \u001b[0m] \u001b[1mModel parameters are saved to d3rlpy_logs/SAC_online_20230929103645/model_19000.pt\u001b[0m\n",
      "\u001b[2m2023-09-29 10:41:51\u001b[0m [\u001b[32m\u001b[1minfo     \u001b[0m] \u001b[1mSAC_online_20230929103645: epoch=19 step=19000\u001b[0m \u001b[36mepoch\u001b[0m=\u001b[35m19\u001b[0m \u001b[36mmetrics\u001b[0m=\u001b[35m{'time_inference': 0.001340932607650757, 'time_environment_step': 0.0001278846263885498, 'time_sample_batch': 0.00036711907386779784, 'time_algorithm_update': 0.011761630535125732, 'temp_loss': 0.002761030351248337, 'temp': 0.0438378318361938, 'critic_loss': 1.311299154266715, 'actor_loss': -42.50180825424194, 'time_step': 0.013683393955230713, 'rollout_return': 354.0, 'evaluation': 1000.0}\u001b[0m \u001b[36mstep\u001b[0m=\u001b[35m19000\u001b[0m\n",
      "\u001b[2m2023-09-29 10:42:11\u001b[0m [\u001b[32m\u001b[1minfo     \u001b[0m] \u001b[1mModel parameters are saved to d3rlpy_logs/SAC_online_20230929103645/model_20000.pt\u001b[0m\n",
      "\u001b[2m2023-09-29 10:42:11\u001b[0m [\u001b[32m\u001b[1minfo     \u001b[0m] \u001b[1mSAC_online_20230929103645: epoch=20 step=20000\u001b[0m \u001b[36mepoch\u001b[0m=\u001b[35m20\u001b[0m \u001b[36mmetrics\u001b[0m=\u001b[35m{'time_inference': 0.0015037391185760498, 'time_environment_step': 0.00014058685302734375, 'time_sample_batch': 0.0004001679420471191, 'time_algorithm_update': 0.013124246835708618, 'temp_loss': 0.0005301495720923412, 'temp': 0.04200434237346053, 'critic_loss': 1.2635040513277054, 'actor_loss': -44.05823222732544, 'time_step': 0.015264213562011719, 'rollout_return': 724.5, 'evaluation': 441.2}\u001b[0m \u001b[36mstep\u001b[0m=\u001b[35m20000\u001b[0m\n",
      "\u001b[2m2023-09-29 10:42:31\u001b[0m [\u001b[32m\u001b[1minfo     \u001b[0m] \u001b[1mModel parameters are saved to d3rlpy_logs/SAC_online_20230929103645/model_21000.pt\u001b[0m\n",
      "\u001b[2m2023-09-29 10:42:31\u001b[0m [\u001b[32m\u001b[1minfo     \u001b[0m] \u001b[1mSAC_online_20230929103645: epoch=21 step=21000\u001b[0m \u001b[36mepoch\u001b[0m=\u001b[35m21\u001b[0m \u001b[36mmetrics\u001b[0m=\u001b[35m{'time_inference': 0.0015631606578826905, 'time_environment_step': 0.00014387702941894533, 'time_sample_batch': 0.00040691065788269046, 'time_algorithm_update': 0.013558284521102906, 'temp_loss': -0.000381974630698096, 'temp': 0.04184700104594231, 'critic_loss': 1.2099519714415072, 'actor_loss': -45.66686993026733, 'time_step': 0.015769824743270874, 'rollout_return': 803.0, 'evaluation': 343.2}\u001b[0m \u001b[36mstep\u001b[0m=\u001b[35m21000\u001b[0m\n",
      "\u001b[2m2023-09-29 10:42:47\u001b[0m [\u001b[32m\u001b[1minfo     \u001b[0m] \u001b[1mModel parameters are saved to d3rlpy_logs/SAC_online_20230929103645/model_22000.pt\u001b[0m\n",
      "\u001b[2m2023-09-29 10:42:47\u001b[0m [\u001b[32m\u001b[1minfo     \u001b[0m] \u001b[1mSAC_online_20230929103645: epoch=22 step=22000\u001b[0m \u001b[36mepoch\u001b[0m=\u001b[35m22\u001b[0m \u001b[36mmetrics\u001b[0m=\u001b[35m{'time_inference': 0.0013009688854217528, 'time_environment_step': 0.0001223928928375244, 'time_sample_batch': 0.0003543426990509033, 'time_algorithm_update': 0.011464831590652466, 'temp_loss': 0.0008620528696628753, 'temp': 0.0417507866024971, 'critic_loss': 1.197874650835991, 'actor_loss': -47.28397160720825, 'time_step': 0.013323526859283447, 'rollout_return': 454.0, 'evaluation': 287.1}\u001b[0m \u001b[36mstep\u001b[0m=\u001b[35m22000\u001b[0m\n",
      "\u001b[2m2023-09-29 10:43:04\u001b[0m [\u001b[32m\u001b[1minfo     \u001b[0m] \u001b[1mModel parameters are saved to d3rlpy_logs/SAC_online_20230929103645/model_23000.pt\u001b[0m\n",
      "\u001b[2m2023-09-29 10:43:04\u001b[0m [\u001b[32m\u001b[1minfo     \u001b[0m] \u001b[1mSAC_online_20230929103645: epoch=23 step=23000\u001b[0m \u001b[36mepoch\u001b[0m=\u001b[35m23\u001b[0m \u001b[36mmetrics\u001b[0m=\u001b[35m{'time_inference': 0.0011585295200347901, 'time_environment_step': 0.00011291766166687011, 'time_sample_batch': 0.00033252811431884764, 'time_algorithm_update': 0.010498086929321289, 'temp_loss': 0.0009182782367570326, 'temp': 0.03882981550320983, 'critic_loss': 1.2148545312434436, 'actor_loss': -48.73123034667969, 'time_step': 0.012174817323684693, 'rollout_return': 385.5, 'evaluation': 480.5}\u001b[0m \u001b[36mstep\u001b[0m=\u001b[35m23000\u001b[0m\n",
      "\u001b[2m2023-09-29 10:43:29\u001b[0m [\u001b[32m\u001b[1minfo     \u001b[0m] \u001b[1mModel parameters are saved to d3rlpy_logs/SAC_online_20230929103645/model_24000.pt\u001b[0m\n",
      "\u001b[2m2023-09-29 10:43:29\u001b[0m [\u001b[32m\u001b[1minfo     \u001b[0m] \u001b[1mSAC_online_20230929103645: epoch=24 step=24000\u001b[0m \u001b[36mepoch\u001b[0m=\u001b[35m24\u001b[0m \u001b[36mmetrics\u001b[0m=\u001b[35m{'time_inference': 0.0012850065231323241, 'time_environment_step': 0.0001246628761291504, 'time_sample_batch': 0.000362537145614624, 'time_algorithm_update': 0.011405375480651856, 'temp_loss': -0.0005280404881923459, 'temp': 0.0391087262891233, 'critic_loss': 1.1638451698124408, 'actor_loss': -50.1738535079956, 'time_step': 0.013260573148727417, 'rollout_return': 474.5, 'evaluation': 1000.0}\u001b[0m \u001b[36mstep\u001b[0m=\u001b[35m24000\u001b[0m\n",
      "\u001b[2m2023-09-29 10:43:57\u001b[0m [\u001b[32m\u001b[1minfo     \u001b[0m] \u001b[1mModel parameters are saved to d3rlpy_logs/SAC_online_20230929103645/model_25000.pt\u001b[0m\n",
      "\u001b[2m2023-09-29 10:43:57\u001b[0m [\u001b[32m\u001b[1minfo     \u001b[0m] \u001b[1mSAC_online_20230929103645: epoch=25 step=25000\u001b[0m \u001b[36mepoch\u001b[0m=\u001b[35m25\u001b[0m \u001b[36mmetrics\u001b[0m=\u001b[35m{'time_inference': 0.0015173799991607666, 'time_environment_step': 0.000139054536819458, 'time_sample_batch': 0.0004003767967224121, 'time_algorithm_update': 0.013223466396331787, 'temp_loss': 0.0009569896666216664, 'temp': 0.037883962027728556, 'critic_loss': 1.1482841962724923, 'actor_loss': -51.32570978164673, 'time_step': 0.015375293970108032, 'rollout_return': 440.6666666666667, 'evaluation': 1000.0}\u001b[0m \u001b[36mstep\u001b[0m=\u001b[35m25000\u001b[0m\n",
      "\u001b[2m2023-09-29 10:44:23\u001b[0m [\u001b[32m\u001b[1minfo     \u001b[0m] \u001b[1mModel parameters are saved to d3rlpy_logs/SAC_online_20230929103645/model_26000.pt\u001b[0m\n",
      "\u001b[2m2023-09-29 10:44:23\u001b[0m [\u001b[32m\u001b[1minfo     \u001b[0m] \u001b[1mSAC_online_20230929103645: epoch=26 step=26000\u001b[0m \u001b[36mepoch\u001b[0m=\u001b[35m26\u001b[0m \u001b[36mmetrics\u001b[0m=\u001b[35m{'time_inference': 0.0014653253555297853, 'time_environment_step': 0.0001343536376953125, 'time_sample_batch': 0.0003883373737335205, 'time_algorithm_update': 0.012974592924118043, 'temp_loss': 0.00029649099442758596, 'temp': 0.036580583453178404, 'critic_loss': 1.1872233709990978, 'actor_loss': -52.63988334274292, 'time_step': 0.015053172111511231, 'rollout_return': 899.0, 'evaluation': 701.4}\u001b[0m \u001b[36mstep\u001b[0m=\u001b[35m26000\u001b[0m\n",
      "\u001b[2m2023-09-29 10:44:42\u001b[0m [\u001b[32m\u001b[1minfo     \u001b[0m] \u001b[1mModel parameters are saved to d3rlpy_logs/SAC_online_20230929103645/model_27000.pt\u001b[0m\n",
      "\u001b[2m2023-09-29 10:44:43\u001b[0m [\u001b[32m\u001b[1minfo     \u001b[0m] \u001b[1mSAC_online_20230929103645: epoch=27 step=27000\u001b[0m \u001b[36mepoch\u001b[0m=\u001b[35m27\u001b[0m \u001b[36mmetrics\u001b[0m=\u001b[35m{'time_inference': 0.0016881184577941894, 'time_environment_step': 0.00014945149421691895, 'time_sample_batch': 0.00043230581283569335, 'time_algorithm_update': 0.014608005285263062, 'temp_loss': 0.0001544110417889897, 'temp': 0.03625646512582898, 'critic_loss': 1.2047243013232947, 'actor_loss': -53.81313753128052, 'time_step': 0.016982879877090455, 'rollout_return': 482.0, 'evaluation': 247.6}\u001b[0m \u001b[36mstep\u001b[0m=\u001b[35m27000\u001b[0m\n",
      "\u001b[2m2023-09-29 10:45:09\u001b[0m [\u001b[32m\u001b[1minfo     \u001b[0m] \u001b[1mModel parameters are saved to d3rlpy_logs/SAC_online_20230929103645/model_28000.pt\u001b[0m\n",
      "\u001b[2m2023-09-29 10:45:09\u001b[0m [\u001b[32m\u001b[1minfo     \u001b[0m] \u001b[1mSAC_online_20230929103645: epoch=28 step=28000\u001b[0m \u001b[36mepoch\u001b[0m=\u001b[35m28\u001b[0m \u001b[36mmetrics\u001b[0m=\u001b[35m{'time_inference': 0.0014994795322418213, 'time_environment_step': 0.00013608288764953614, 'time_sample_batch': 0.00039688968658447264, 'time_algorithm_update': 0.013024099826812744, 'temp_loss': 0.0005325132461439353, 'temp': 0.03434829232469201, 'critic_loss': 1.148801246523857, 'actor_loss': -54.81417121505737, 'time_step': 0.015149730682373047, 'rollout_return': 376.3333333333333, 'evaluation': 1000.0}\u001b[0m \u001b[36mstep\u001b[0m=\u001b[35m28000\u001b[0m\n",
      "\u001b[2m2023-09-29 10:45:37\u001b[0m [\u001b[32m\u001b[1minfo     \u001b[0m] \u001b[1mModel parameters are saved to d3rlpy_logs/SAC_online_20230929103645/model_29000.pt\u001b[0m\n",
      "\u001b[2m2023-09-29 10:45:37\u001b[0m [\u001b[32m\u001b[1minfo     \u001b[0m] \u001b[1mSAC_online_20230929103645: epoch=29 step=29000\u001b[0m \u001b[36mepoch\u001b[0m=\u001b[35m29\u001b[0m \u001b[36mmetrics\u001b[0m=\u001b[35m{'time_inference': 0.0015924065113067628, 'time_environment_step': 0.00014406633377075196, 'time_sample_batch': 0.0004203615188598633, 'time_algorithm_update': 0.013889527559280395, 'temp_loss': 0.0004044614554295549, 'temp': 0.03283255578950048, 'critic_loss': 1.1435792125761508, 'actor_loss': -55.70818547058106, 'time_step': 0.016147403240203858, 'rollout_return': 341.3333333333333, 'evaluation': 1000.0}\u001b[0m \u001b[36mstep\u001b[0m=\u001b[35m29000\u001b[0m\n",
      "\u001b[2m2023-09-29 10:46:00\u001b[0m [\u001b[32m\u001b[1minfo     \u001b[0m] \u001b[1mModel parameters are saved to d3rlpy_logs/SAC_online_20230929103645/model_30000.pt\u001b[0m\n",
      "\u001b[2m2023-09-29 10:46:00\u001b[0m [\u001b[32m\u001b[1minfo     \u001b[0m] \u001b[1mSAC_online_20230929103645: epoch=30 step=30000\u001b[0m \u001b[36mepoch\u001b[0m=\u001b[35m30\u001b[0m \u001b[36mmetrics\u001b[0m=\u001b[35m{'time_inference': 0.0012886323928833008, 'time_environment_step': 0.00012328100204467773, 'time_sample_batch': 0.00036481714248657226, 'time_algorithm_update': 0.011538781404495239, 'temp_loss': -0.00027884328993968665, 'temp': 0.03362398852035403, 'critic_loss': 1.1035261510014533, 'actor_loss': -56.4476894569397, 'time_step': 0.013397541761398315, 'rollout_return': 287.0, 'evaluation': 1000.0}\u001b[0m \u001b[36mstep\u001b[0m=\u001b[35m30000\u001b[0m\n",
      "\u001b[2m2023-09-29 10:46:28\u001b[0m [\u001b[32m\u001b[1minfo     \u001b[0m] \u001b[1mModel parameters are saved to d3rlpy_logs/SAC_online_20230929103645/model_31000.pt\u001b[0m\n",
      "\u001b[2m2023-09-29 10:46:28\u001b[0m [\u001b[32m\u001b[1minfo     \u001b[0m] \u001b[1mSAC_online_20230929103645: epoch=31 step=31000\u001b[0m \u001b[36mepoch\u001b[0m=\u001b[35m31\u001b[0m \u001b[36mmetrics\u001b[0m=\u001b[35m{'time_inference': 0.0017901511192321778, 'time_environment_step': 0.00016005563735961914, 'time_sample_batch': 0.00046744203567504884, 'time_algorithm_update': 0.015404877901077271, 'temp_loss': -0.0007109861221397296, 'temp': 0.034354489635676146, 'critic_loss': 1.0148707104921342, 'actor_loss': -57.21741860198975, 'time_step': 0.017934191703796388, 'rollout_return': 465.5, 'evaluation': 1000.0}\u001b[0m \u001b[36mstep\u001b[0m=\u001b[35m31000\u001b[0m\n",
      "\u001b[2m2023-09-29 10:46:53\u001b[0m [\u001b[32m\u001b[1minfo     \u001b[0m] \u001b[1mModel parameters are saved to d3rlpy_logs/SAC_online_20230929103645/model_32000.pt\u001b[0m\n",
      "\u001b[2m2023-09-29 10:46:54\u001b[0m [\u001b[32m\u001b[1minfo     \u001b[0m] \u001b[1mSAC_online_20230929103645: epoch=32 step=32000\u001b[0m \u001b[36mepoch\u001b[0m=\u001b[35m32\u001b[0m \u001b[36mmetrics\u001b[0m=\u001b[35m{'time_inference': 0.0012989501953125, 'time_environment_step': 0.0001216723918914795, 'time_sample_batch': 0.0003631739616394043, 'time_algorithm_update': 0.011627397775650024, 'temp_loss': 0.00026155258592916653, 'temp': 0.035398398641496895, 'critic_loss': 0.9837494846135378, 'actor_loss': -58.15570080184936, 'time_step': 0.013493819952011108, 'rollout_return': 1000.0, 'evaluation': 1000.0}\u001b[0m \u001b[36mstep\u001b[0m=\u001b[35m32000\u001b[0m\n",
      "\u001b[2m2023-09-29 10:47:21\u001b[0m [\u001b[32m\u001b[1minfo     \u001b[0m] \u001b[1mModel parameters are saved to d3rlpy_logs/SAC_online_20230929103645/model_33000.pt\u001b[0m\n",
      "\u001b[2m2023-09-29 10:47:21\u001b[0m [\u001b[32m\u001b[1minfo     \u001b[0m] \u001b[1mSAC_online_20230929103645: epoch=33 step=33000\u001b[0m \u001b[36mepoch\u001b[0m=\u001b[35m33\u001b[0m \u001b[36mmetrics\u001b[0m=\u001b[35m{'time_inference': 0.001756892442703247, 'time_environment_step': 0.0001545073986053467, 'time_sample_batch': 0.0004541614055633545, 'time_algorithm_update': 0.01516670036315918, 'temp_loss': -0.00012516927195247262, 'temp': 0.03571034517139196, 'critic_loss': 1.05326534922421, 'actor_loss': -59.134733013153074, 'time_step': 0.017639522790908812, 'rollout_return': 1000.0, 'evaluation': 1000.0}\u001b[0m \u001b[36mstep\u001b[0m=\u001b[35m33000\u001b[0m\n",
      "\u001b[2m2023-09-29 10:47:42\u001b[0m [\u001b[32m\u001b[1minfo     \u001b[0m] \u001b[1mModel parameters are saved to d3rlpy_logs/SAC_online_20230929103645/model_34000.pt\u001b[0m\n",
      "\u001b[2m2023-09-29 10:47:42\u001b[0m [\u001b[32m\u001b[1minfo     \u001b[0m] \u001b[1mSAC_online_20230929103645: epoch=34 step=34000\u001b[0m \u001b[36mepoch\u001b[0m=\u001b[35m34\u001b[0m \u001b[36mmetrics\u001b[0m=\u001b[35m{'time_inference': 0.0011294281482696533, 'time_environment_step': 0.00011102509498596191, 'time_sample_batch': 0.0003395833969116211, 'time_algorithm_update': 0.010340158939361572, 'temp_loss': -0.0009430620649363845, 'temp': 0.03654704589024186, 'critic_loss': 0.9486239492893219, 'actor_loss': -60.260607231140135, 'time_step': 0.011991207838058472, 'rollout_return': 1000.0, 'evaluation': 1000.0}\u001b[0m \u001b[36mstep\u001b[0m=\u001b[35m34000\u001b[0m\n",
      "\u001b[2m2023-09-29 10:48:12\u001b[0m [\u001b[32m\u001b[1minfo     \u001b[0m] \u001b[1mModel parameters are saved to d3rlpy_logs/SAC_online_20230929103645/model_35000.pt\u001b[0m\n",
      "\u001b[2m2023-09-29 10:48:12\u001b[0m [\u001b[32m\u001b[1minfo     \u001b[0m] \u001b[1mSAC_online_20230929103645: epoch=35 step=35000\u001b[0m \u001b[36mepoch\u001b[0m=\u001b[35m35\u001b[0m \u001b[36mmetrics\u001b[0m=\u001b[35m{'time_inference': 0.0017161087989807128, 'time_environment_step': 0.0001558997631072998, 'time_sample_batch': 0.00045863962173461914, 'time_algorithm_update': 0.014960583925247193, 'temp_loss': -0.0001710845854540821, 'temp': 0.03892269798740745, 'critic_loss': 0.9292755466103554, 'actor_loss': -61.196872131347654, 'time_step': 0.017398606300354003, 'rollout_return': 1000.0, 'evaluation': 1000.0}\u001b[0m \u001b[36mstep\u001b[0m=\u001b[35m35000\u001b[0m\n",
      "\u001b[2m2023-09-29 10:48:36\u001b[0m [\u001b[32m\u001b[1minfo     \u001b[0m] \u001b[1mModel parameters are saved to d3rlpy_logs/SAC_online_20230929103645/model_36000.pt\u001b[0m\n",
      "\u001b[2m2023-09-29 10:48:36\u001b[0m [\u001b[32m\u001b[1minfo     \u001b[0m] \u001b[1mSAC_online_20230929103645: epoch=36 step=36000\u001b[0m \u001b[36mepoch\u001b[0m=\u001b[35m36\u001b[0m \u001b[36mmetrics\u001b[0m=\u001b[35m{'time_inference': 0.00140787672996521, 'time_environment_step': 0.000132155179977417, 'time_sample_batch': 0.00039299559593200685, 'time_algorithm_update': 0.012493865966796875, 'temp_loss': 1.470318151405081e-05, 'temp': 0.039037736412137744, 'critic_loss': 0.7790292366445064, 'actor_loss': -62.14411632537842, 'time_step': 0.014516274213790894, 'rollout_return': 1000.0, 'evaluation': 1000.0}\u001b[0m \u001b[36mstep\u001b[0m=\u001b[35m36000\u001b[0m\n",
      "\u001b[2m2023-09-29 10:48:57\u001b[0m [\u001b[32m\u001b[1minfo     \u001b[0m] \u001b[1mModel parameters are saved to d3rlpy_logs/SAC_online_20230929103645/model_37000.pt\u001b[0m\n",
      "\u001b[2m2023-09-29 10:48:57\u001b[0m [\u001b[32m\u001b[1minfo     \u001b[0m] \u001b[1mSAC_online_20230929103645: epoch=37 step=37000\u001b[0m \u001b[36mepoch\u001b[0m=\u001b[35m37\u001b[0m \u001b[36mmetrics\u001b[0m=\u001b[35m{'time_inference': 0.0011894326210021972, 'time_environment_step': 0.00011613750457763672, 'time_sample_batch': 0.00035445785522460936, 'time_algorithm_update': 0.010699874877929687, 'temp_loss': -0.0004056020415300736, 'temp': 0.03989801998063922, 'critic_loss': 0.9576360221356154, 'actor_loss': -63.24027506637573, 'time_step': 0.012436433792114258, 'rollout_return': 1000.0, 'evaluation': 1000.0}\u001b[0m \u001b[36mstep\u001b[0m=\u001b[35m37000\u001b[0m\n",
      "\u001b[2m2023-09-29 10:49:20\u001b[0m [\u001b[32m\u001b[1minfo     \u001b[0m] \u001b[1mModel parameters are saved to d3rlpy_logs/SAC_online_20230929103645/model_38000.pt\u001b[0m\n",
      "\u001b[2m2023-09-29 10:49:20\u001b[0m [\u001b[32m\u001b[1minfo     \u001b[0m] \u001b[1mSAC_online_20230929103645: epoch=38 step=38000\u001b[0m \u001b[36mepoch\u001b[0m=\u001b[35m38\u001b[0m \u001b[36mmetrics\u001b[0m=\u001b[35m{'time_inference': 0.0012447919845581055, 'time_environment_step': 0.00012128472328186035, 'time_sample_batch': 0.0003690767288208008, 'time_algorithm_update': 0.01110352349281311, 'temp_loss': -0.0001858837233739905, 'temp': 0.041851770866662266, 'critic_loss': 0.901742152273655, 'actor_loss': -64.09013563919068, 'time_step': 0.012918923616409301, 'rollout_return': 1000.0, 'evaluation': 1000.0}\u001b[0m \u001b[36mstep\u001b[0m=\u001b[35m38000\u001b[0m\n",
      "\u001b[2m2023-09-29 10:49:42\u001b[0m [\u001b[32m\u001b[1minfo     \u001b[0m] \u001b[1mModel parameters are saved to d3rlpy_logs/SAC_online_20230929103645/model_39000.pt\u001b[0m\n",
      "\u001b[2m2023-09-29 10:49:42\u001b[0m [\u001b[32m\u001b[1minfo     \u001b[0m] \u001b[1mSAC_online_20230929103645: epoch=39 step=39000\u001b[0m \u001b[36mepoch\u001b[0m=\u001b[35m39\u001b[0m \u001b[36mmetrics\u001b[0m=\u001b[35m{'time_inference': 0.0012432491779327392, 'time_environment_step': 0.00012180376052856445, 'time_sample_batch': 0.00036962127685546877, 'time_algorithm_update': 0.011200138330459596, 'temp_loss': -0.00013708265058812684, 'temp': 0.040597284376621245, 'critic_loss': 0.7801467513144016, 'actor_loss': -64.93557683563232, 'time_step': 0.013015883207321168, 'rollout_return': 1000.0, 'evaluation': 1000.0}\u001b[0m \u001b[36mstep\u001b[0m=\u001b[35m39000\u001b[0m\n",
      "\u001b[2m2023-09-29 10:50:04\u001b[0m [\u001b[32m\u001b[1minfo     \u001b[0m] \u001b[1mModel parameters are saved to d3rlpy_logs/SAC_online_20230929103645/model_40000.pt\u001b[0m\n",
      "\u001b[2m2023-09-29 10:50:04\u001b[0m [\u001b[32m\u001b[1minfo     \u001b[0m] \u001b[1mSAC_online_20230929103645: epoch=40 step=40000\u001b[0m \u001b[36mepoch\u001b[0m=\u001b[35m40\u001b[0m \u001b[36mmetrics\u001b[0m=\u001b[35m{'time_inference': 0.0011865074634552003, 'time_environment_step': 0.00011639904975891114, 'time_sample_batch': 0.0003589351177215576, 'time_algorithm_update': 0.010684604167938233, 'temp_loss': -0.0004036384110222571, 'temp': 0.042206956382840874, 'critic_loss': 0.8236496145427227, 'actor_loss': -65.68871324539185, 'time_step': 0.01242208766937256, 'rollout_return': 1000.0, 'evaluation': 1000.0}\u001b[0m \u001b[36mstep\u001b[0m=\u001b[35m40000\u001b[0m\n",
      "\u001b[2m2023-09-29 10:50:28\u001b[0m [\u001b[32m\u001b[1minfo     \u001b[0m] \u001b[1mModel parameters are saved to d3rlpy_logs/SAC_online_20230929103645/model_41000.pt\u001b[0m\n",
      "\u001b[2m2023-09-29 10:50:28\u001b[0m [\u001b[32m\u001b[1minfo     \u001b[0m] \u001b[1mSAC_online_20230929103645: epoch=41 step=41000\u001b[0m \u001b[36mepoch\u001b[0m=\u001b[35m41\u001b[0m \u001b[36mmetrics\u001b[0m=\u001b[35m{'time_inference': 0.0012635231018066407, 'time_environment_step': 0.00012414789199829103, 'time_sample_batch': 0.00037861204147338865, 'time_algorithm_update': 0.011319297075271606, 'temp_loss': -0.0005218851173704024, 'temp': 0.04332486553117633, 'critic_loss': 0.9329539738595486, 'actor_loss': -66.58745218276978, 'time_step': 0.013168112754821777, 'rollout_return': 1000.0, 'evaluation': 1000.0}\u001b[0m \u001b[36mstep\u001b[0m=\u001b[35m41000\u001b[0m\n",
      "\u001b[2m2023-09-29 10:50:52\u001b[0m [\u001b[32m\u001b[1minfo     \u001b[0m] \u001b[1mModel parameters are saved to d3rlpy_logs/SAC_online_20230929103645/model_42000.pt\u001b[0m\n",
      "\u001b[2m2023-09-29 10:50:52\u001b[0m [\u001b[32m\u001b[1minfo     \u001b[0m] \u001b[1mSAC_online_20230929103645: epoch=42 step=42000\u001b[0m \u001b[36mepoch\u001b[0m=\u001b[35m42\u001b[0m \u001b[36mmetrics\u001b[0m=\u001b[35m{'time_inference': 0.0012393596172332764, 'time_environment_step': 0.00012099409103393554, 'time_sample_batch': 0.00037002182006835936, 'time_algorithm_update': 0.011120625972747803, 'temp_loss': 0.00028907806091592645, 'temp': 0.043774881813675164, 'critic_loss': 0.7547376109659671, 'actor_loss': -67.44703396224976, 'time_step': 0.012929841041564942, 'rollout_return': 1000.0, 'evaluation': 1000.0}\u001b[0m \u001b[36mstep\u001b[0m=\u001b[35m42000\u001b[0m\n",
      "\u001b[2m2023-09-29 10:51:21\u001b[0m [\u001b[32m\u001b[1minfo     \u001b[0m] \u001b[1mModel parameters are saved to d3rlpy_logs/SAC_online_20230929103645/model_43000.pt\u001b[0m\n",
      "\u001b[2m2023-09-29 10:51:21\u001b[0m [\u001b[32m\u001b[1minfo     \u001b[0m] \u001b[1mSAC_online_20230929103645: epoch=43 step=43000\u001b[0m \u001b[36mepoch\u001b[0m=\u001b[35m43\u001b[0m \u001b[36mmetrics\u001b[0m=\u001b[35m{'time_inference': 0.0018226218223571778, 'time_environment_step': 0.00016338062286376954, 'time_sample_batch': 0.00048330187797546387, 'time_algorithm_update': 0.015575566053390503, 'temp_loss': -0.0006102443084819243, 'temp': 0.04383360338583588, 'critic_loss': 0.7568515958338976, 'actor_loss': -68.30614276885986, 'time_step': 0.018159311532974242, 'rollout_return': 1000.0, 'evaluation': 1000.0}\u001b[0m \u001b[36mstep\u001b[0m=\u001b[35m43000\u001b[0m\n",
      "\u001b[2m2023-09-29 10:51:42\u001b[0m [\u001b[32m\u001b[1minfo     \u001b[0m] \u001b[1mModel parameters are saved to d3rlpy_logs/SAC_online_20230929103645/model_44000.pt\u001b[0m\n",
      "\u001b[2m2023-09-29 10:51:42\u001b[0m [\u001b[32m\u001b[1minfo     \u001b[0m] \u001b[1mSAC_online_20230929103645: epoch=44 step=44000\u001b[0m \u001b[36mepoch\u001b[0m=\u001b[35m44\u001b[0m \u001b[36mmetrics\u001b[0m=\u001b[35m{'time_inference': 0.0012327675819396972, 'time_environment_step': 0.00011795544624328613, 'time_sample_batch': 0.0003638627529144287, 'time_algorithm_update': 0.011081919670104981, 'temp_loss': 0.00021809737669536844, 'temp': 0.04479951882734895, 'critic_loss': 0.714128566980362, 'actor_loss': -69.1465404510498, 'time_step': 0.012873967885971069, 'rollout_return': 1000.0, 'evaluation': 1000.0}\u001b[0m \u001b[36mstep\u001b[0m=\u001b[35m44000\u001b[0m\n",
      "\u001b[2m2023-09-29 10:52:06\u001b[0m [\u001b[32m\u001b[1minfo     \u001b[0m] \u001b[1mModel parameters are saved to d3rlpy_logs/SAC_online_20230929103645/model_45000.pt\u001b[0m\n",
      "\u001b[2m2023-09-29 10:52:06\u001b[0m [\u001b[32m\u001b[1minfo     \u001b[0m] \u001b[1mSAC_online_20230929103645: epoch=45 step=45000\u001b[0m \u001b[36mepoch\u001b[0m=\u001b[35m45\u001b[0m \u001b[36mmetrics\u001b[0m=\u001b[35m{'time_inference': 0.001243816375732422, 'time_environment_step': 0.00011977386474609375, 'time_sample_batch': 0.00036687016487121584, 'time_algorithm_update': 0.011150586366653443, 'temp_loss': 0.0009828375974320807, 'temp': 0.044039992671459915, 'critic_loss': 0.7908693130463361, 'actor_loss': -69.93881310653687, 'time_step': 0.012960673332214356, 'rollout_return': 1000.0, 'evaluation': 1000.0}\u001b[0m \u001b[36mstep\u001b[0m=\u001b[35m45000\u001b[0m\n",
      "\u001b[2m2023-09-29 10:52:32\u001b[0m [\u001b[32m\u001b[1minfo     \u001b[0m] \u001b[1mModel parameters are saved to d3rlpy_logs/SAC_online_20230929103645/model_46000.pt\u001b[0m\n",
      "\u001b[2m2023-09-29 10:52:32\u001b[0m [\u001b[32m\u001b[1minfo     \u001b[0m] \u001b[1mSAC_online_20230929103645: epoch=46 step=46000\u001b[0m \u001b[36mepoch\u001b[0m=\u001b[35m46\u001b[0m \u001b[36mmetrics\u001b[0m=\u001b[35m{'time_inference': 0.0015389823913574219, 'time_environment_step': 0.00014282751083374024, 'time_sample_batch': 0.0004318232536315918, 'time_algorithm_update': 0.013415400266647339, 'temp_loss': 0.0011014715735218489, 'temp': 0.0399913843870163, 'critic_loss': 0.7298737456053496, 'actor_loss': -70.56701922607422, 'time_step': 0.0156282377243042, 'rollout_return': 1000.0, 'evaluation': 1000.0}\u001b[0m \u001b[36mstep\u001b[0m=\u001b[35m46000\u001b[0m\n",
      "\u001b[2m2023-09-29 10:52:59\u001b[0m [\u001b[32m\u001b[1minfo     \u001b[0m] \u001b[1mModel parameters are saved to d3rlpy_logs/SAC_online_20230929103645/model_47000.pt\u001b[0m\n",
      "\u001b[2m2023-09-29 10:52:59\u001b[0m [\u001b[32m\u001b[1minfo     \u001b[0m] \u001b[1mSAC_online_20230929103645: epoch=47 step=47000\u001b[0m \u001b[36mepoch\u001b[0m=\u001b[35m47\u001b[0m \u001b[36mmetrics\u001b[0m=\u001b[35m{'time_inference': 0.0013967132568359374, 'time_environment_step': 0.00013616418838500977, 'time_sample_batch': 0.00040663743019104, 'time_algorithm_update': 0.012417361974716186, 'temp_loss': 0.0001327987376425881, 'temp': 0.038869767397642134, 'critic_loss': 0.7126989288628102, 'actor_loss': -71.30563346862793, 'time_step': 0.014447393894195557, 'rollout_return': 1000.0, 'evaluation': 1000.0}\u001b[0m \u001b[36mstep\u001b[0m=\u001b[35m47000\u001b[0m\n",
      "\u001b[2m2023-09-29 10:53:33\u001b[0m [\u001b[32m\u001b[1minfo     \u001b[0m] \u001b[1mModel parameters are saved to d3rlpy_logs/SAC_online_20230929103645/model_48000.pt\u001b[0m\n",
      "\u001b[2m2023-09-29 10:53:33\u001b[0m [\u001b[32m\u001b[1minfo     \u001b[0m] \u001b[1mSAC_online_20230929103645: epoch=48 step=48000\u001b[0m \u001b[36mepoch\u001b[0m=\u001b[35m48\u001b[0m \u001b[36mmetrics\u001b[0m=\u001b[35m{'time_inference': 0.0019068033695220947, 'time_environment_step': 0.0001651167869567871, 'time_sample_batch': 0.0004964160919189453, 'time_algorithm_update': 0.016445334911346435, 'temp_loss': 0.0008528013968898449, 'temp': 0.036745310060679916, 'critic_loss': 0.6791422414854169, 'actor_loss': -71.8240217666626, 'time_step': 0.01913103199005127, 'rollout_return': 1000.0, 'evaluation': 1000.0}\u001b[0m \u001b[36mstep\u001b[0m=\u001b[35m48000\u001b[0m\n",
      "\u001b[2m2023-09-29 10:54:06\u001b[0m [\u001b[32m\u001b[1minfo     \u001b[0m] \u001b[1mModel parameters are saved to d3rlpy_logs/SAC_online_20230929103645/model_49000.pt\u001b[0m\n",
      "\u001b[2m2023-09-29 10:54:06\u001b[0m [\u001b[32m\u001b[1minfo     \u001b[0m] \u001b[1mSAC_online_20230929103645: epoch=49 step=49000\u001b[0m \u001b[36mepoch\u001b[0m=\u001b[35m49\u001b[0m \u001b[36mmetrics\u001b[0m=\u001b[35m{'time_inference': 0.0017740242481231688, 'time_environment_step': 0.00015688467025756837, 'time_sample_batch': 0.0004656786918640137, 'time_algorithm_update': 0.015182481050491333, 'temp_loss': -0.00024290877234307118, 'temp': 0.03659541387110948, 'critic_loss': 0.7835651090815663, 'actor_loss': -72.43365182495117, 'time_step': 0.017687570571899413, 'rollout_return': 1000.0, 'evaluation': 1000.0}\u001b[0m \u001b[36mstep\u001b[0m=\u001b[35m49000\u001b[0m\n",
      "\u001b[2m2023-09-29 10:54:33\u001b[0m [\u001b[32m\u001b[1minfo     \u001b[0m] \u001b[1mModel parameters are saved to d3rlpy_logs/SAC_online_20230929103645/model_50000.pt\u001b[0m\n",
      "\u001b[2m2023-09-29 10:54:33\u001b[0m [\u001b[32m\u001b[1minfo     \u001b[0m] \u001b[1mSAC_online_20230929103645: epoch=50 step=50000\u001b[0m \u001b[36mepoch\u001b[0m=\u001b[35m50\u001b[0m \u001b[36mmetrics\u001b[0m=\u001b[35m{'time_inference': 0.0015951604843139648, 'time_environment_step': 0.00014357614517211914, 'time_sample_batch': 0.0004356796741485596, 'time_algorithm_update': 0.013989039659500123, 'temp_loss': -0.00039767726228456015, 'temp': 0.037929189234972, 'critic_loss': 0.8354305466562509, 'actor_loss': -73.07659125518799, 'time_step': 0.016261535167694092, 'rollout_return': 1000.0, 'evaluation': 1000.0}\u001b[0m \u001b[36mstep\u001b[0m=\u001b[35m50000\u001b[0m\n",
      "\u001b[2m2023-09-29 10:55:03\u001b[0m [\u001b[32m\u001b[1minfo     \u001b[0m] \u001b[1mModel parameters are saved to d3rlpy_logs/SAC_online_20230929103645/model_51000.pt\u001b[0m\n",
      "\u001b[2m2023-09-29 10:55:03\u001b[0m [\u001b[32m\u001b[1minfo     \u001b[0m] \u001b[1mSAC_online_20230929103645: epoch=51 step=51000\u001b[0m \u001b[36mepoch\u001b[0m=\u001b[35m51\u001b[0m \u001b[36mmetrics\u001b[0m=\u001b[35m{'time_inference': 0.0015874757766723632, 'time_environment_step': 0.00014729166030883788, 'time_sample_batch': 0.000438779354095459, 'time_algorithm_update': 0.014050269603729248, 'temp_loss': 0.00017561047211347614, 'temp': 0.03732837211713195, 'critic_loss': 0.6433814045861364, 'actor_loss': -73.62105926513672, 'time_step': 0.01632469344139099, 'rollout_return': 1000.0, 'evaluation': 1000.0}\u001b[0m \u001b[36mstep\u001b[0m=\u001b[35m51000\u001b[0m\n",
      "\u001b[2m2023-09-29 10:55:36\u001b[0m [\u001b[32m\u001b[1minfo     \u001b[0m] \u001b[1mModel parameters are saved to d3rlpy_logs/SAC_online_20230929103645/model_52000.pt\u001b[0m\n",
      "\u001b[2m2023-09-29 10:55:36\u001b[0m [\u001b[32m\u001b[1minfo     \u001b[0m] \u001b[1mSAC_online_20230929103645: epoch=52 step=52000\u001b[0m \u001b[36mepoch\u001b[0m=\u001b[35m52\u001b[0m \u001b[36mmetrics\u001b[0m=\u001b[35m{'time_inference': 0.0017507750988006593, 'time_environment_step': 0.00015088343620300293, 'time_sample_batch': 0.0004524116516113281, 'time_algorithm_update': 0.01505269980430603, 'temp_loss': -0.0010556615942914505, 'temp': 0.0390612682364881, 'critic_loss': 0.6235815360322594, 'actor_loss': -74.16645658111572, 'time_step': 0.01751186156272888, 'rollout_return': 1000.0, 'evaluation': 1000.0}\u001b[0m \u001b[36mstep\u001b[0m=\u001b[35m52000\u001b[0m\n",
      "\u001b[2m2023-09-29 10:56:02\u001b[0m [\u001b[32m\u001b[1minfo     \u001b[0m] \u001b[1mModel parameters are saved to d3rlpy_logs/SAC_online_20230929103645/model_53000.pt\u001b[0m\n",
      "\u001b[2m2023-09-29 10:56:02\u001b[0m [\u001b[32m\u001b[1minfo     \u001b[0m] \u001b[1mSAC_online_20230929103645: epoch=53 step=53000\u001b[0m \u001b[36mepoch\u001b[0m=\u001b[35m53\u001b[0m \u001b[36mmetrics\u001b[0m=\u001b[35m{'time_inference': 0.0015328941345214844, 'time_environment_step': 0.0001400740146636963, 'time_sample_batch': 0.0004256131649017334, 'time_algorithm_update': 0.013454025030136109, 'temp_loss': 0.0004906222939316649, 'temp': 0.04075262109562754, 'critic_loss': 0.7023151195645332, 'actor_loss': -74.863483253479, 'time_step': 0.015647122859954832, 'rollout_return': 1000.0, 'evaluation': 1000.0}\u001b[0m \u001b[36mstep\u001b[0m=\u001b[35m53000\u001b[0m\n",
      "\u001b[2m2023-09-29 10:56:36\u001b[0m [\u001b[32m\u001b[1minfo     \u001b[0m] \u001b[1mModel parameters are saved to d3rlpy_logs/SAC_online_20230929103645/model_54000.pt\u001b[0m\n",
      "\u001b[2m2023-09-29 10:56:36\u001b[0m [\u001b[32m\u001b[1minfo     \u001b[0m] \u001b[1mSAC_online_20230929103645: epoch=54 step=54000\u001b[0m \u001b[36mepoch\u001b[0m=\u001b[35m54\u001b[0m \u001b[36mmetrics\u001b[0m=\u001b[35m{'time_inference': 0.001921654224395752, 'time_environment_step': 0.0001632075309753418, 'time_sample_batch': 0.00048350739479064944, 'time_algorithm_update': 0.01637549138069153, 'temp_loss': 0.00012590587482554837, 'temp': 0.039736052941530944, 'critic_loss': 0.5829792370051146, 'actor_loss': -75.29559293365479, 'time_step': 0.01905832314491272, 'rollout_return': 1000.0, 'evaluation': 1000.0}\u001b[0m \u001b[36mstep\u001b[0m=\u001b[35m54000\u001b[0m\n",
      "\u001b[2m2023-09-29 10:57:19\u001b[0m [\u001b[32m\u001b[1minfo     \u001b[0m] \u001b[1mModel parameters are saved to d3rlpy_logs/SAC_online_20230929103645/model_55000.pt\u001b[0m\n",
      "\u001b[2m2023-09-29 10:57:19\u001b[0m [\u001b[32m\u001b[1minfo     \u001b[0m] \u001b[1mSAC_online_20230929103645: epoch=55 step=55000\u001b[0m \u001b[36mepoch\u001b[0m=\u001b[35m55\u001b[0m \u001b[36mmetrics\u001b[0m=\u001b[35m{'time_inference': 0.0020854928493499758, 'time_environment_step': 0.00017986726760864258, 'time_sample_batch': 0.0005387952327728272, 'time_algorithm_update': 0.01759957766532898, 'temp_loss': 0.0008141489399713464, 'temp': 0.03748251911625266, 'critic_loss': 0.6324504435658455, 'actor_loss': -75.837649269104, 'time_step': 0.020529805183410646, 'rollout_return': 1000.0, 'evaluation': 1000.0}\u001b[0m \u001b[36mstep\u001b[0m=\u001b[35m55000\u001b[0m\n",
      "\u001b[2m2023-09-29 10:57:49\u001b[0m [\u001b[32m\u001b[1minfo     \u001b[0m] \u001b[1mModel parameters are saved to d3rlpy_logs/SAC_online_20230929103645/model_56000.pt\u001b[0m\n",
      "\u001b[2m2023-09-29 10:57:49\u001b[0m [\u001b[32m\u001b[1minfo     \u001b[0m] \u001b[1mSAC_online_20230929103645: epoch=56 step=56000\u001b[0m \u001b[36mepoch\u001b[0m=\u001b[35m56\u001b[0m \u001b[36mmetrics\u001b[0m=\u001b[35m{'time_inference': 0.0017208640575408936, 'time_environment_step': 0.00015228891372680664, 'time_sample_batch': 0.0004553272724151611, 'time_algorithm_update': 0.014716885805130005, 'temp_loss': -0.0007268347816134337, 'temp': 0.03699331114441157, 'critic_loss': 0.6108875432536006, 'actor_loss': -76.31545921325683, 'time_step': 0.017148801565170287, 'rollout_return': 1000.0, 'evaluation': 1000.0}\u001b[0m \u001b[36mstep\u001b[0m=\u001b[35m56000\u001b[0m\n",
      "\u001b[2m2023-09-29 10:58:12\u001b[0m [\u001b[32m\u001b[1minfo     \u001b[0m] \u001b[1mModel parameters are saved to d3rlpy_logs/SAC_online_20230929103645/model_57000.pt\u001b[0m\n",
      "\u001b[2m2023-09-29 10:58:12\u001b[0m [\u001b[32m\u001b[1minfo     \u001b[0m] \u001b[1mSAC_online_20230929103645: epoch=57 step=57000\u001b[0m \u001b[36mepoch\u001b[0m=\u001b[35m57\u001b[0m \u001b[36mmetrics\u001b[0m=\u001b[35m{'time_inference': 0.0012222819328308106, 'time_environment_step': 0.00011739659309387207, 'time_sample_batch': 0.0003658738136291504, 'time_algorithm_update': 0.011066903591156006, 'temp_loss': 0.0002630110729078297, 'temp': 0.03827326910942793, 'critic_loss': 0.6140193456038833, 'actor_loss': -77.05217153167725, 'time_step': 0.012850045919418336, 'rollout_return': 1000.0, 'evaluation': 1000.0}\u001b[0m \u001b[36mstep\u001b[0m=\u001b[35m57000\u001b[0m\n",
      "\u001b[2m2023-09-29 10:58:33\u001b[0m [\u001b[32m\u001b[1minfo     \u001b[0m] \u001b[1mModel parameters are saved to d3rlpy_logs/SAC_online_20230929103645/model_58000.pt\u001b[0m\n",
      "\u001b[2m2023-09-29 10:58:33\u001b[0m [\u001b[32m\u001b[1minfo     \u001b[0m] \u001b[1mSAC_online_20230929103645: epoch=58 step=58000\u001b[0m \u001b[36mepoch\u001b[0m=\u001b[35m58\u001b[0m \u001b[36mmetrics\u001b[0m=\u001b[35m{'time_inference': 0.0012419087886810303, 'time_environment_step': 0.00011798977851867676, 'time_sample_batch': 0.00036823177337646487, 'time_algorithm_update': 0.011160437107086182, 'temp_loss': 0.00033325130614684893, 'temp': 0.03747168443351984, 'critic_loss': 0.6077589422017335, 'actor_loss': -77.50843659973144, 'time_step': 0.012967203140258789, 'rollout_return': 1000.0, 'evaluation': 1000.0}\u001b[0m \u001b[36mstep\u001b[0m=\u001b[35m58000\u001b[0m\n",
      "\u001b[2m2023-09-29 10:58:55\u001b[0m [\u001b[32m\u001b[1minfo     \u001b[0m] \u001b[1mModel parameters are saved to d3rlpy_logs/SAC_online_20230929103645/model_59000.pt\u001b[0m\n",
      "\u001b[2m2023-09-29 10:58:55\u001b[0m [\u001b[32m\u001b[1minfo     \u001b[0m] \u001b[1mSAC_online_20230929103645: epoch=59 step=59000\u001b[0m \u001b[36mepoch\u001b[0m=\u001b[35m59\u001b[0m \u001b[36mmetrics\u001b[0m=\u001b[35m{'time_inference': 0.001167271137237549, 'time_environment_step': 0.0001138002872467041, 'time_sample_batch': 0.00035451197624206544, 'time_algorithm_update': 0.01065118432044983, 'temp_loss': 0.0001827722046873532, 'temp': 0.03661134037002921, 'critic_loss': 0.6152983832582831, 'actor_loss': -77.90622026062012, 'time_step': 0.012361605167388916, 'rollout_return': 1000.0, 'evaluation': 1000.0}\u001b[0m \u001b[36mstep\u001b[0m=\u001b[35m59000\u001b[0m\n",
      "\u001b[2m2023-09-29 10:59:20\u001b[0m [\u001b[32m\u001b[1minfo     \u001b[0m] \u001b[1mModel parameters are saved to d3rlpy_logs/SAC_online_20230929103645/model_60000.pt\u001b[0m\n",
      "\u001b[2m2023-09-29 10:59:20\u001b[0m [\u001b[32m\u001b[1minfo     \u001b[0m] \u001b[1mSAC_online_20230929103645: epoch=60 step=60000\u001b[0m \u001b[36mepoch\u001b[0m=\u001b[35m60\u001b[0m \u001b[36mmetrics\u001b[0m=\u001b[35m{'time_inference': 0.0014838809967041016, 'time_environment_step': 0.0001406421661376953, 'time_sample_batch': 0.00042622995376586915, 'time_algorithm_update': 0.013092740058898926, 'temp_loss': 0.0003481482219794998, 'temp': 0.035279501676559445, 'critic_loss': 0.6048342042639852, 'actor_loss': -78.27571074676514, 'time_step': 0.015238216638565064, 'rollout_return': 1000.0, 'evaluation': 1000.0}\u001b[0m \u001b[36mstep\u001b[0m=\u001b[35m60000\u001b[0m\n",
      "\u001b[2m2023-09-29 10:59:41\u001b[0m [\u001b[32m\u001b[1minfo     \u001b[0m] \u001b[1mModel parameters are saved to d3rlpy_logs/SAC_online_20230929103645/model_61000.pt\u001b[0m\n",
      "\u001b[2m2023-09-29 10:59:41\u001b[0m [\u001b[32m\u001b[1minfo     \u001b[0m] \u001b[1mSAC_online_20230929103645: epoch=61 step=61000\u001b[0m \u001b[36mepoch\u001b[0m=\u001b[35m61\u001b[0m \u001b[36mmetrics\u001b[0m=\u001b[35m{'time_inference': 0.0011466331481933595, 'time_environment_step': 0.00011105418205261231, 'time_sample_batch': 0.0003527026176452637, 'time_algorithm_update': 0.01046825337409973, 'temp_loss': -0.0006221482755063335, 'temp': 0.035018155001103876, 'critic_loss': 0.5824535194709897, 'actor_loss': -78.61052444458008, 'time_step': 0.012152021169662476, 'rollout_return': 1000.0, 'evaluation': 1000.0}\u001b[0m \u001b[36mstep\u001b[0m=\u001b[35m61000\u001b[0m\n",
      "\u001b[2m2023-09-29 11:00:04\u001b[0m [\u001b[32m\u001b[1minfo     \u001b[0m] \u001b[1mModel parameters are saved to d3rlpy_logs/SAC_online_20230929103645/model_62000.pt\u001b[0m\n",
      "\u001b[2m2023-09-29 11:00:04\u001b[0m [\u001b[32m\u001b[1minfo     \u001b[0m] \u001b[1mSAC_online_20230929103645: epoch=62 step=62000\u001b[0m \u001b[36mepoch\u001b[0m=\u001b[35m62\u001b[0m \u001b[36mmetrics\u001b[0m=\u001b[35m{'time_inference': 0.001142376184463501, 'time_environment_step': 0.00011154937744140625, 'time_sample_batch': 0.0003521792888641357, 'time_algorithm_update': 0.010425501108169555, 'temp_loss': 0.0010789279982855078, 'temp': 0.035398057743906974, 'critic_loss': 0.5754447976276279, 'actor_loss': -79.14774031066895, 'time_step': 0.012105000019073487, 'rollout_return': 1000.0, 'evaluation': 1000.0}\u001b[0m \u001b[36mstep\u001b[0m=\u001b[35m62000\u001b[0m\n",
      "\u001b[2m2023-09-29 11:00:28\u001b[0m [\u001b[32m\u001b[1minfo     \u001b[0m] \u001b[1mModel parameters are saved to d3rlpy_logs/SAC_online_20230929103645/model_63000.pt\u001b[0m\n",
      "\u001b[2m2023-09-29 11:00:28\u001b[0m [\u001b[32m\u001b[1minfo     \u001b[0m] \u001b[1mSAC_online_20230929103645: epoch=63 step=63000\u001b[0m \u001b[36mepoch\u001b[0m=\u001b[35m63\u001b[0m \u001b[36mmetrics\u001b[0m=\u001b[35m{'time_inference': 0.0013815915584564208, 'time_environment_step': 0.00013811302185058594, 'time_sample_batch': 0.0004076826572418213, 'time_algorithm_update': 0.012252776622772217, 'temp_loss': 0.00046834017356741243, 'temp': 0.033548923421651125, 'critic_loss': 0.5945721301808953, 'actor_loss': -79.52444736480713, 'time_step': 0.014269539594650268, 'rollout_return': 1000.0, 'evaluation': 1000.0}\u001b[0m \u001b[36mstep\u001b[0m=\u001b[35m63000\u001b[0m\n",
      "\u001b[2m2023-09-29 11:00:49\u001b[0m [\u001b[32m\u001b[1minfo     \u001b[0m] \u001b[1mModel parameters are saved to d3rlpy_logs/SAC_online_20230929103645/model_64000.pt\u001b[0m\n",
      "\u001b[2m2023-09-29 11:00:49\u001b[0m [\u001b[32m\u001b[1minfo     \u001b[0m] \u001b[1mSAC_online_20230929103645: epoch=64 step=64000\u001b[0m \u001b[36mepoch\u001b[0m=\u001b[35m64\u001b[0m \u001b[36mmetrics\u001b[0m=\u001b[35m{'time_inference': 0.0011329948902130127, 'time_environment_step': 0.00011093664169311524, 'time_sample_batch': 0.0003515887260437012, 'time_algorithm_update': 0.010295925855636597, 'temp_loss': 1.6412585129728542e-05, 'temp': 0.03326019703224301, 'critic_loss': 0.5454130059927702, 'actor_loss': -79.90826210021973, 'time_step': 0.01196254825592041, 'rollout_return': 1000.0, 'evaluation': 1000.0}\u001b[0m \u001b[36mstep\u001b[0m=\u001b[35m64000\u001b[0m\n",
      "\u001b[2m2023-09-29 11:01:20\u001b[0m [\u001b[32m\u001b[1minfo     \u001b[0m] \u001b[1mModel parameters are saved to d3rlpy_logs/SAC_online_20230929103645/model_65000.pt\u001b[0m\n",
      "\u001b[2m2023-09-29 11:01:20\u001b[0m [\u001b[32m\u001b[1minfo     \u001b[0m] \u001b[1mSAC_online_20230929103645: epoch=65 step=65000\u001b[0m \u001b[36mepoch\u001b[0m=\u001b[35m65\u001b[0m \u001b[36mmetrics\u001b[0m=\u001b[35m{'time_inference': 0.0015301826000213624, 'time_environment_step': 0.00014468050003051757, 'time_sample_batch': 0.0004433269500732422, 'time_algorithm_update': 0.013770798444747925, 'temp_loss': 0.0005284475370426662, 'temp': 0.03189781895838678, 'critic_loss': 0.6067173103839159, 'actor_loss': -80.28404397583007, 'time_step': 0.015987329244613647, 'rollout_return': 1000.0, 'evaluation': 1000.0}\u001b[0m \u001b[36mstep\u001b[0m=\u001b[35m65000\u001b[0m\n",
      "\u001b[2m2023-09-29 11:01:48\u001b[0m [\u001b[32m\u001b[1minfo     \u001b[0m] \u001b[1mModel parameters are saved to d3rlpy_logs/SAC_online_20230929103645/model_66000.pt\u001b[0m\n",
      "\u001b[2m2023-09-29 11:01:48\u001b[0m [\u001b[32m\u001b[1minfo     \u001b[0m] \u001b[1mSAC_online_20230929103645: epoch=66 step=66000\u001b[0m \u001b[36mepoch\u001b[0m=\u001b[35m66\u001b[0m \u001b[36mmetrics\u001b[0m=\u001b[35m{'time_inference': 0.001807288408279419, 'time_environment_step': 0.00015944671630859376, 'time_sample_batch': 0.000490088939666748, 'time_algorithm_update': 0.01558570098876953, 'temp_loss': -0.0005380581331555732, 'temp': 0.03201890472695231, 'critic_loss': 0.5844359538555145, 'actor_loss': -80.59835315704346, 'time_step': 0.018152154207229616, 'rollout_return': 1000.0, 'evaluation': 1000.0}\u001b[0m \u001b[36mstep\u001b[0m=\u001b[35m66000\u001b[0m\n",
      "\u001b[2m2023-09-29 11:02:27\u001b[0m [\u001b[32m\u001b[1minfo     \u001b[0m] \u001b[1mModel parameters are saved to d3rlpy_logs/SAC_online_20230929103645/model_67000.pt\u001b[0m\n",
      "\u001b[2m2023-09-29 11:02:27\u001b[0m [\u001b[32m\u001b[1minfo     \u001b[0m] \u001b[1mSAC_online_20230929103645: epoch=67 step=67000\u001b[0m \u001b[36mepoch\u001b[0m=\u001b[35m67\u001b[0m \u001b[36mmetrics\u001b[0m=\u001b[35m{'time_inference': 0.001455270767211914, 'time_environment_step': 0.0001357090473175049, 'time_sample_batch': 0.0004166464805603027, 'time_algorithm_update': 0.012778026819229125, 'temp_loss': 0.0004137186533771455, 'temp': 0.03269642360135913, 'critic_loss': 0.5479181655570865, 'actor_loss': -81.04577584075928, 'time_step': 0.01487689995765686, 'rollout_return': 1000.0, 'evaluation': 1000.0}\u001b[0m \u001b[36mstep\u001b[0m=\u001b[35m67000\u001b[0m\n",
      "\u001b[2m2023-09-29 11:02:53\u001b[0m [\u001b[32m\u001b[1minfo     \u001b[0m] \u001b[1mModel parameters are saved to d3rlpy_logs/SAC_online_20230929103645/model_68000.pt\u001b[0m\n",
      "\u001b[2m2023-09-29 11:02:53\u001b[0m [\u001b[32m\u001b[1minfo     \u001b[0m] \u001b[1mSAC_online_20230929103645: epoch=68 step=68000\u001b[0m \u001b[36mepoch\u001b[0m=\u001b[35m68\u001b[0m \u001b[36mmetrics\u001b[0m=\u001b[35m{'time_inference': 0.0016140122413635255, 'time_environment_step': 0.00014740586280822754, 'time_sample_batch': 0.00045038628578186036, 'time_algorithm_update': 0.013951041460037231, 'temp_loss': -0.0007862260541587603, 'temp': 0.032237688485532996, 'critic_loss': 0.6560429604798556, 'actor_loss': -81.29074547576904, 'time_step': 0.016262478828430176, 'rollout_return': 1000.0, 'evaluation': 1000.0}\u001b[0m \u001b[36mstep\u001b[0m=\u001b[35m68000\u001b[0m\n",
      "\u001b[2m2023-09-29 11:03:17\u001b[0m [\u001b[32m\u001b[1minfo     \u001b[0m] \u001b[1mModel parameters are saved to d3rlpy_logs/SAC_online_20230929103645/model_69000.pt\u001b[0m\n",
      "\u001b[2m2023-09-29 11:03:17\u001b[0m [\u001b[32m\u001b[1minfo     \u001b[0m] \u001b[1mSAC_online_20230929103645: epoch=69 step=69000\u001b[0m \u001b[36mepoch\u001b[0m=\u001b[35m69\u001b[0m \u001b[36mmetrics\u001b[0m=\u001b[35m{'time_inference': 0.0014019911289215089, 'time_environment_step': 0.00013080143928527832, 'time_sample_batch': 0.0004050772190093994, 'time_algorithm_update': 0.012325175046920777, 'temp_loss': -0.000529348657670198, 'temp': 0.03527019869536161, 'critic_loss': 0.5454567912369966, 'actor_loss': -81.58278842926025, 'time_step': 0.014351522445678711, 'rollout_return': 1000.0, 'evaluation': 1000.0}\u001b[0m \u001b[36mstep\u001b[0m=\u001b[35m69000\u001b[0m\n",
      "\u001b[2m2023-09-29 11:03:40\u001b[0m [\u001b[32m\u001b[1minfo     \u001b[0m] \u001b[1mModel parameters are saved to d3rlpy_logs/SAC_online_20230929103645/model_70000.pt\u001b[0m\n",
      "\u001b[2m2023-09-29 11:03:40\u001b[0m [\u001b[32m\u001b[1minfo     \u001b[0m] \u001b[1mSAC_online_20230929103645: epoch=70 step=70000\u001b[0m \u001b[36mepoch\u001b[0m=\u001b[35m70\u001b[0m \u001b[36mmetrics\u001b[0m=\u001b[35m{'time_inference': 0.0013864142894744872, 'time_environment_step': 0.00013062214851379395, 'time_sample_batch': 0.0004037799835205078, 'time_algorithm_update': 0.012215308666229248, 'temp_loss': 0.0010779133166943212, 'temp': 0.03456197318807244, 'critic_loss': 0.5863395862057805, 'actor_loss': -81.85673123168945, 'time_step': 0.01422275185585022, 'rollout_return': 1000.0, 'evaluation': 1000.0}\u001b[0m \u001b[36mstep\u001b[0m=\u001b[35m70000\u001b[0m\n",
      "\u001b[2m2023-09-29 11:04:04\u001b[0m [\u001b[32m\u001b[1minfo     \u001b[0m] \u001b[1mModel parameters are saved to d3rlpy_logs/SAC_online_20230929103645/model_71000.pt\u001b[0m\n",
      "\u001b[2m2023-09-29 11:04:04\u001b[0m [\u001b[32m\u001b[1minfo     \u001b[0m] \u001b[1mSAC_online_20230929103645: epoch=71 step=71000\u001b[0m \u001b[36mepoch\u001b[0m=\u001b[35m71\u001b[0m \u001b[36mmetrics\u001b[0m=\u001b[35m{'time_inference': 0.001394993543624878, 'time_environment_step': 0.00013013982772827149, 'time_sample_batch': 0.00040461230278015137, 'time_algorithm_update': 0.012298948526382447, 'temp_loss': 0.0008958021365106106, 'temp': 0.031033004423603416, 'critic_loss': 0.4825516281500459, 'actor_loss': -82.32632593536377, 'time_step': 0.014316274881362915, 'rollout_return': 1000.0, 'evaluation': 1000.0}\u001b[0m \u001b[36mstep\u001b[0m=\u001b[35m71000\u001b[0m\n",
      "\u001b[2m2023-09-29 11:04:28\u001b[0m [\u001b[32m\u001b[1minfo     \u001b[0m] \u001b[1mModel parameters are saved to d3rlpy_logs/SAC_online_20230929103645/model_72000.pt\u001b[0m\n",
      "\u001b[2m2023-09-29 11:04:28\u001b[0m [\u001b[32m\u001b[1minfo     \u001b[0m] \u001b[1mSAC_online_20230929103645: epoch=72 step=72000\u001b[0m \u001b[36mepoch\u001b[0m=\u001b[35m72\u001b[0m \u001b[36mmetrics\u001b[0m=\u001b[35m{'time_inference': 0.0013982868194580078, 'time_environment_step': 0.00013006210327148437, 'time_sample_batch': 0.00040245938301086427, 'time_algorithm_update': 0.012312014818191528, 'temp_loss': 1.3176331500289962e-05, 'temp': 0.030154170190915465, 'critic_loss': 0.5757372384294868, 'actor_loss': -82.72056484985352, 'time_step': 0.014329558610916138, 'rollout_return': 1000.0, 'evaluation': 1000.0}\u001b[0m \u001b[36mstep\u001b[0m=\u001b[35m72000\u001b[0m\n",
      "\u001b[2m2023-09-29 11:04:59\u001b[0m [\u001b[32m\u001b[1minfo     \u001b[0m] \u001b[1mModel parameters are saved to d3rlpy_logs/SAC_online_20230929103645/model_73000.pt\u001b[0m\n",
      "\u001b[2m2023-09-29 11:04:59\u001b[0m [\u001b[32m\u001b[1minfo     \u001b[0m] \u001b[1mSAC_online_20230929103645: epoch=73 step=73000\u001b[0m \u001b[36mepoch\u001b[0m=\u001b[35m73\u001b[0m \u001b[36mmetrics\u001b[0m=\u001b[35m{'time_inference': 0.001405740976333618, 'time_environment_step': 0.00013128304481506347, 'time_sample_batch': 0.000408367395401001, 'time_algorithm_update': 0.012460955619812012, 'temp_loss': -7.705913769314065e-06, 'temp': 0.029843754447996616, 'critic_loss': 0.4825667715072632, 'actor_loss': -82.96826435089112, 'time_step': 0.014494331836700439, 'rollout_return': 1000.0, 'evaluation': 1000.0}\u001b[0m \u001b[36mstep\u001b[0m=\u001b[35m73000\u001b[0m\n",
      "\u001b[2m2023-09-29 11:05:24\u001b[0m [\u001b[32m\u001b[1minfo     \u001b[0m] \u001b[1mModel parameters are saved to d3rlpy_logs/SAC_online_20230929103645/model_74000.pt\u001b[0m\n",
      "\u001b[2m2023-09-29 11:05:24\u001b[0m [\u001b[32m\u001b[1minfo     \u001b[0m] \u001b[1mSAC_online_20230929103645: epoch=74 step=74000\u001b[0m \u001b[36mepoch\u001b[0m=\u001b[35m74\u001b[0m \u001b[36mmetrics\u001b[0m=\u001b[35m{'time_inference': 0.0013014888763427735, 'time_environment_step': 0.00012242579460144043, 'time_sample_batch': 0.0003864278793334961, 'time_algorithm_update': 0.011629486799240113, 'temp_loss': 5.800365132745355e-05, 'temp': 0.029797496678307653, 'critic_loss': 0.547817069388926, 'actor_loss': -83.1834252243042, 'time_step': 0.013521380186080933, 'rollout_return': 1000.0, 'evaluation': 1000.0}\u001b[0m \u001b[36mstep\u001b[0m=\u001b[35m74000\u001b[0m\n",
      "\u001b[2m2023-09-29 11:05:51\u001b[0m [\u001b[32m\u001b[1minfo     \u001b[0m] \u001b[1mModel parameters are saved to d3rlpy_logs/SAC_online_20230929103645/model_75000.pt\u001b[0m\n",
      "\u001b[2m2023-09-29 11:05:51\u001b[0m [\u001b[32m\u001b[1minfo     \u001b[0m] \u001b[1mSAC_online_20230929103645: epoch=75 step=75000\u001b[0m \u001b[36mepoch\u001b[0m=\u001b[35m75\u001b[0m \u001b[36mmetrics\u001b[0m=\u001b[35m{'time_inference': 0.0016878931522369385, 'time_environment_step': 0.00015400195121765138, 'time_sample_batch': 0.0004776358604431152, 'time_algorithm_update': 0.014871126413345337, 'temp_loss': 0.0005992978401773144, 'temp': 0.028483533084392547, 'critic_loss': 0.47960966094583274, 'actor_loss': -83.56164099121094, 'time_step': 0.017296101331710816, 'rollout_return': 1000.0, 'evaluation': 1000.0}\u001b[0m \u001b[36mstep\u001b[0m=\u001b[35m75000\u001b[0m\n"
     ]
    },
    {
     "ename": "KeyboardInterrupt",
     "evalue": "",
     "output_type": "error",
     "traceback": [
      "\u001b[0;31m---------------------------------------------------------------------------\u001b[0m",
      "\u001b[0;31mKeyboardInterrupt\u001b[0m                         Traceback (most recent call last)",
      "Cell \u001b[0;32mIn[5], line 22\u001b[0m\n\u001b[1;32m     19\u001b[0m buffer \u001b[38;5;241m=\u001b[39m d3rlpy\u001b[38;5;241m.\u001b[39monline\u001b[38;5;241m.\u001b[39mbuffers\u001b[38;5;241m.\u001b[39mReplayBuffer(maxlen\u001b[38;5;241m=\u001b[39m\u001b[38;5;241m1000000\u001b[39m, env\u001b[38;5;241m=\u001b[39menv)\n\u001b[1;32m     21\u001b[0m \u001b[38;5;66;03m# start training\u001b[39;00m\n\u001b[0;32m---> 22\u001b[0m \u001b[43msac\u001b[49m\u001b[38;5;241;43m.\u001b[39;49m\u001b[43mfit_online\u001b[49m\u001b[43m(\u001b[49m\n\u001b[1;32m     23\u001b[0m \u001b[43m    \u001b[49m\u001b[43menv\u001b[49m\u001b[43m,\u001b[49m\n\u001b[1;32m     24\u001b[0m \u001b[43m    \u001b[49m\u001b[43mbuffer\u001b[49m\u001b[43m,\u001b[49m\n\u001b[1;32m     25\u001b[0m \u001b[43m    \u001b[49m\u001b[43meval_env\u001b[49m\u001b[38;5;241;43m=\u001b[39;49m\u001b[43meval_env\u001b[49m\u001b[43m,\u001b[49m\n\u001b[1;32m     26\u001b[0m \u001b[43m    \u001b[49m\u001b[43mn_steps\u001b[49m\u001b[38;5;241;43m=\u001b[39;49m\u001b[38;5;241;43m100000\u001b[39;49m\u001b[43m,\u001b[49m\n\u001b[1;32m     27\u001b[0m \u001b[43m    \u001b[49m\u001b[43mn_steps_per_epoch\u001b[49m\u001b[38;5;241;43m=\u001b[39;49m\u001b[38;5;241;43m1000\u001b[39;49m\u001b[43m,\u001b[49m\n\u001b[1;32m     28\u001b[0m \u001b[43m    \u001b[49m\u001b[43mupdate_interval\u001b[49m\u001b[38;5;241;43m=\u001b[39;49m\u001b[38;5;241;43m1\u001b[39;49m\u001b[43m,\u001b[49m\n\u001b[1;32m     29\u001b[0m \u001b[43m    \u001b[49m\u001b[43mupdate_start_step\u001b[49m\u001b[38;5;241;43m=\u001b[39;49m\u001b[38;5;241;43m1000\u001b[39;49m\u001b[43m,\u001b[49m\n\u001b[1;32m     30\u001b[0m \u001b[43m    \u001b[49m\u001b[43mtensorboard_dir\u001b[49m\u001b[38;5;241;43m=\u001b[39;49m\u001b[38;5;124;43m'\u001b[39;49m\u001b[38;5;124;43mtensorboard_logs\u001b[39;49m\u001b[38;5;124;43m'\u001b[39;49m\n\u001b[1;32m     31\u001b[0m \u001b[43m)\u001b[49m\n",
      "File \u001b[0;32m~/.local/share/virtualenvs/symmetry-cs285-U_vq4NrE/lib/python3.8/site-packages/d3rlpy/algos/base.py:251\u001b[0m, in \u001b[0;36mAlgoBase.fit_online\u001b[0;34m(self, env, buffer, explorer, n_steps, n_steps_per_epoch, update_interval, update_start_step, random_steps, eval_env, eval_epsilon, save_metrics, save_interval, experiment_name, with_timestamp, logdir, verbose, show_progress, tensorboard_dir, timelimit_aware, callback)\u001b[0m\n\u001b[1;32m    248\u001b[0m \u001b[38;5;66;03m# check action-space\u001b[39;00m\n\u001b[1;32m    249\u001b[0m _assert_action_space(\u001b[38;5;28mself\u001b[39m, env)\n\u001b[0;32m--> 251\u001b[0m \u001b[43mtrain_single_env\u001b[49m\u001b[43m(\u001b[49m\n\u001b[1;32m    252\u001b[0m \u001b[43m    \u001b[49m\u001b[43malgo\u001b[49m\u001b[38;5;241;43m=\u001b[39;49m\u001b[38;5;28;43mself\u001b[39;49m\u001b[43m,\u001b[49m\n\u001b[1;32m    253\u001b[0m \u001b[43m    \u001b[49m\u001b[43menv\u001b[49m\u001b[38;5;241;43m=\u001b[39;49m\u001b[43menv\u001b[49m\u001b[43m,\u001b[49m\n\u001b[1;32m    254\u001b[0m \u001b[43m    \u001b[49m\u001b[43mbuffer\u001b[49m\u001b[38;5;241;43m=\u001b[39;49m\u001b[43mbuffer\u001b[49m\u001b[43m,\u001b[49m\n\u001b[1;32m    255\u001b[0m \u001b[43m    \u001b[49m\u001b[43mexplorer\u001b[49m\u001b[38;5;241;43m=\u001b[39;49m\u001b[43mexplorer\u001b[49m\u001b[43m,\u001b[49m\n\u001b[1;32m    256\u001b[0m \u001b[43m    \u001b[49m\u001b[43mn_steps\u001b[49m\u001b[38;5;241;43m=\u001b[39;49m\u001b[43mn_steps\u001b[49m\u001b[43m,\u001b[49m\n\u001b[1;32m    257\u001b[0m \u001b[43m    \u001b[49m\u001b[43mn_steps_per_epoch\u001b[49m\u001b[38;5;241;43m=\u001b[39;49m\u001b[43mn_steps_per_epoch\u001b[49m\u001b[43m,\u001b[49m\n\u001b[1;32m    258\u001b[0m \u001b[43m    \u001b[49m\u001b[43mupdate_interval\u001b[49m\u001b[38;5;241;43m=\u001b[39;49m\u001b[43mupdate_interval\u001b[49m\u001b[43m,\u001b[49m\n\u001b[1;32m    259\u001b[0m \u001b[43m    \u001b[49m\u001b[43mupdate_start_step\u001b[49m\u001b[38;5;241;43m=\u001b[39;49m\u001b[43mupdate_start_step\u001b[49m\u001b[43m,\u001b[49m\n\u001b[1;32m    260\u001b[0m \u001b[43m    \u001b[49m\u001b[43mrandom_steps\u001b[49m\u001b[38;5;241;43m=\u001b[39;49m\u001b[43mrandom_steps\u001b[49m\u001b[43m,\u001b[49m\n\u001b[1;32m    261\u001b[0m \u001b[43m    \u001b[49m\u001b[43meval_env\u001b[49m\u001b[38;5;241;43m=\u001b[39;49m\u001b[43meval_env\u001b[49m\u001b[43m,\u001b[49m\n\u001b[1;32m    262\u001b[0m \u001b[43m    \u001b[49m\u001b[43meval_epsilon\u001b[49m\u001b[38;5;241;43m=\u001b[39;49m\u001b[43meval_epsilon\u001b[49m\u001b[43m,\u001b[49m\n\u001b[1;32m    263\u001b[0m \u001b[43m    \u001b[49m\u001b[43msave_metrics\u001b[49m\u001b[38;5;241;43m=\u001b[39;49m\u001b[43msave_metrics\u001b[49m\u001b[43m,\u001b[49m\n\u001b[1;32m    264\u001b[0m \u001b[43m    \u001b[49m\u001b[43msave_interval\u001b[49m\u001b[38;5;241;43m=\u001b[39;49m\u001b[43msave_interval\u001b[49m\u001b[43m,\u001b[49m\n\u001b[1;32m    265\u001b[0m \u001b[43m    \u001b[49m\u001b[43mexperiment_name\u001b[49m\u001b[38;5;241;43m=\u001b[39;49m\u001b[43mexperiment_name\u001b[49m\u001b[43m,\u001b[49m\n\u001b[1;32m    266\u001b[0m \u001b[43m    \u001b[49m\u001b[43mwith_timestamp\u001b[49m\u001b[38;5;241;43m=\u001b[39;49m\u001b[43mwith_timestamp\u001b[49m\u001b[43m,\u001b[49m\n\u001b[1;32m    267\u001b[0m \u001b[43m    \u001b[49m\u001b[43mlogdir\u001b[49m\u001b[38;5;241;43m=\u001b[39;49m\u001b[43mlogdir\u001b[49m\u001b[43m,\u001b[49m\n\u001b[1;32m    268\u001b[0m \u001b[43m    \u001b[49m\u001b[43mverbose\u001b[49m\u001b[38;5;241;43m=\u001b[39;49m\u001b[43mverbose\u001b[49m\u001b[43m,\u001b[49m\n\u001b[1;32m    269\u001b[0m \u001b[43m    \u001b[49m\u001b[43mshow_progress\u001b[49m\u001b[38;5;241;43m=\u001b[39;49m\u001b[43mshow_progress\u001b[49m\u001b[43m,\u001b[49m\n\u001b[1;32m    270\u001b[0m \u001b[43m    \u001b[49m\u001b[43mtensorboard_dir\u001b[49m\u001b[38;5;241;43m=\u001b[39;49m\u001b[43mtensorboard_dir\u001b[49m\u001b[43m,\u001b[49m\n\u001b[1;32m    271\u001b[0m \u001b[43m    \u001b[49m\u001b[43mtimelimit_aware\u001b[49m\u001b[38;5;241;43m=\u001b[39;49m\u001b[43mtimelimit_aware\u001b[49m\u001b[43m,\u001b[49m\n\u001b[1;32m    272\u001b[0m \u001b[43m    \u001b[49m\u001b[43mcallback\u001b[49m\u001b[38;5;241;43m=\u001b[39;49m\u001b[43mcallback\u001b[49m\u001b[43m,\u001b[49m\n\u001b[1;32m    273\u001b[0m \u001b[43m\u001b[49m\u001b[43m)\u001b[49m\n",
      "File \u001b[0;32m~/.local/share/virtualenvs/symmetry-cs285-U_vq4NrE/lib/python3.8/site-packages/d3rlpy/online/iterators.py:277\u001b[0m, in \u001b[0;36mtrain_single_env\u001b[0;34m(algo, env, buffer, explorer, n_steps, n_steps_per_epoch, update_interval, update_start_step, random_steps, eval_env, eval_epsilon, save_metrics, save_interval, experiment_name, with_timestamp, logdir, verbose, show_progress, tensorboard_dir, timelimit_aware, callback)\u001b[0m\n\u001b[1;32m    274\u001b[0m \u001b[38;5;28;01mif\u001b[39;00m epoch \u001b[38;5;241m>\u001b[39m \u001b[38;5;241m0\u001b[39m \u001b[38;5;129;01mand\u001b[39;00m total_step \u001b[38;5;241m%\u001b[39m n_steps_per_epoch \u001b[38;5;241m==\u001b[39m \u001b[38;5;241m0\u001b[39m:\n\u001b[1;32m    275\u001b[0m     \u001b[38;5;66;03m# evaluation\u001b[39;00m\n\u001b[1;32m    276\u001b[0m     \u001b[38;5;28;01mif\u001b[39;00m eval_scorer:\n\u001b[0;32m--> 277\u001b[0m         logger\u001b[38;5;241m.\u001b[39madd_metric(\u001b[38;5;124m\"\u001b[39m\u001b[38;5;124mevaluation\u001b[39m\u001b[38;5;124m\"\u001b[39m, \u001b[43meval_scorer\u001b[49m\u001b[43m(\u001b[49m\u001b[43malgo\u001b[49m\u001b[43m)\u001b[49m)\n\u001b[1;32m    279\u001b[0m     \u001b[38;5;28;01mif\u001b[39;00m epoch \u001b[38;5;241m%\u001b[39m save_interval \u001b[38;5;241m==\u001b[39m \u001b[38;5;241m0\u001b[39m:\n\u001b[1;32m    280\u001b[0m         logger\u001b[38;5;241m.\u001b[39msave_model(total_step, algo)\n",
      "File \u001b[0;32m~/.local/share/virtualenvs/symmetry-cs285-U_vq4NrE/lib/python3.8/site-packages/d3rlpy/metrics/scorer.py:472\u001b[0m, in \u001b[0;36mevaluate_on_environment.<locals>.scorer\u001b[0;34m(algo, *args)\u001b[0m\n\u001b[1;32m    470\u001b[0m         action \u001b[38;5;241m=\u001b[39m algo\u001b[38;5;241m.\u001b[39mpredict([stacked_observation\u001b[38;5;241m.\u001b[39meval()])[\u001b[38;5;241m0\u001b[39m]\n\u001b[1;32m    471\u001b[0m     \u001b[38;5;28;01melse\u001b[39;00m:\n\u001b[0;32m--> 472\u001b[0m         action \u001b[38;5;241m=\u001b[39m \u001b[43malgo\u001b[49m\u001b[38;5;241;43m.\u001b[39;49m\u001b[43mpredict\u001b[49m\u001b[43m(\u001b[49m\u001b[43m[\u001b[49m\u001b[43mobservation\u001b[49m\u001b[43m]\u001b[49m\u001b[43m)\u001b[49m[\u001b[38;5;241m0\u001b[39m]\n\u001b[1;32m    474\u001b[0m observation, reward, done, _ \u001b[38;5;241m=\u001b[39m env\u001b[38;5;241m.\u001b[39mstep(action)\n\u001b[1;32m    475\u001b[0m episode_reward \u001b[38;5;241m+\u001b[39m\u001b[38;5;241m=\u001b[39m reward\n",
      "File \u001b[0;32m~/.local/share/virtualenvs/symmetry-cs285-U_vq4NrE/lib/python3.8/site-packages/d3rlpy/algos/base.py:127\u001b[0m, in \u001b[0;36mAlgoBase.predict\u001b[0;34m(self, x)\u001b[0m\n\u001b[1;32m    108\u001b[0m \u001b[38;5;250m\u001b[39m\u001b[38;5;124;03m\"\"\"Returns greedy actions.\u001b[39;00m\n\u001b[1;32m    109\u001b[0m \n\u001b[1;32m    110\u001b[0m \u001b[38;5;124;03m.. code-block:: python\u001b[39;00m\n\u001b[0;32m   (...)\u001b[0m\n\u001b[1;32m    124\u001b[0m \n\u001b[1;32m    125\u001b[0m \u001b[38;5;124;03m\"\"\"\u001b[39;00m\n\u001b[1;32m    126\u001b[0m \u001b[38;5;28;01massert\u001b[39;00m \u001b[38;5;28mself\u001b[39m\u001b[38;5;241m.\u001b[39m_impl \u001b[38;5;129;01mis\u001b[39;00m \u001b[38;5;129;01mnot\u001b[39;00m \u001b[38;5;28;01mNone\u001b[39;00m, IMPL_NOT_INITIALIZED_ERROR\n\u001b[0;32m--> 127\u001b[0m \u001b[38;5;28;01mreturn\u001b[39;00m \u001b[38;5;28;43mself\u001b[39;49m\u001b[38;5;241;43m.\u001b[39;49m\u001b[43m_impl\u001b[49m\u001b[38;5;241;43m.\u001b[39;49m\u001b[43mpredict_best_action\u001b[49m\u001b[43m(\u001b[49m\u001b[43mx\u001b[49m\u001b[43m)\u001b[49m\n",
      "File \u001b[0;32m~/.local/share/virtualenvs/symmetry-cs285-U_vq4NrE/lib/python3.8/site-packages/d3rlpy/torch_utility.py:305\u001b[0m, in \u001b[0;36meval_api.<locals>.wrapper\u001b[0;34m(self, *args, **kwargs)\u001b[0m\n\u001b[1;32m    303\u001b[0m \u001b[38;5;28;01mdef\u001b[39;00m \u001b[38;5;21mwrapper\u001b[39m(\u001b[38;5;28mself\u001b[39m: Any, \u001b[38;5;241m*\u001b[39margs: Any, \u001b[38;5;241m*\u001b[39m\u001b[38;5;241m*\u001b[39mkwargs: Any) \u001b[38;5;241m-\u001b[39m\u001b[38;5;241m>\u001b[39m np\u001b[38;5;241m.\u001b[39mndarray:\n\u001b[1;32m    304\u001b[0m     set_eval_mode(\u001b[38;5;28mself\u001b[39m)\n\u001b[0;32m--> 305\u001b[0m     \u001b[38;5;28;01mreturn\u001b[39;00m \u001b[43mf\u001b[49m\u001b[43m(\u001b[49m\u001b[38;5;28;43mself\u001b[39;49m\u001b[43m,\u001b[49m\u001b[43m \u001b[49m\u001b[38;5;241;43m*\u001b[39;49m\u001b[43margs\u001b[49m\u001b[43m,\u001b[49m\u001b[43m \u001b[49m\u001b[38;5;241;43m*\u001b[39;49m\u001b[38;5;241;43m*\u001b[39;49m\u001b[43mkwargs\u001b[49m\u001b[43m)\u001b[49m\n",
      "File \u001b[0;32m~/.local/share/virtualenvs/symmetry-cs285-U_vq4NrE/lib/python3.8/site-packages/d3rlpy/torch_utility.py:295\u001b[0m, in \u001b[0;36mtorch_api.<locals>._torch_api.<locals>.wrapper\u001b[0;34m(self, *args, **kwargs)\u001b[0m\n\u001b[1;32m    292\u001b[0m             tensor \u001b[38;5;241m=\u001b[39m tensor\u001b[38;5;241m.\u001b[39mfloat()\n\u001b[1;32m    294\u001b[0m     tensors\u001b[38;5;241m.\u001b[39mappend(tensor)\n\u001b[0;32m--> 295\u001b[0m \u001b[38;5;28;01mreturn\u001b[39;00m \u001b[43mf\u001b[49m\u001b[43m(\u001b[49m\u001b[38;5;28;43mself\u001b[39;49m\u001b[43m,\u001b[49m\u001b[43m \u001b[49m\u001b[38;5;241;43m*\u001b[39;49m\u001b[43mtensors\u001b[49m\u001b[43m,\u001b[49m\u001b[43m \u001b[49m\u001b[38;5;241;43m*\u001b[39;49m\u001b[38;5;241;43m*\u001b[39;49m\u001b[43mkwargs\u001b[49m\u001b[43m)\u001b[49m\n",
      "File \u001b[0;32m~/.local/share/virtualenvs/symmetry-cs285-U_vq4NrE/lib/python3.8/site-packages/d3rlpy/algos/torch/base.py:58\u001b[0m, in \u001b[0;36mTorchImplBase.predict_best_action\u001b[0;34m(self, x)\u001b[0m\n\u001b[1;32m     55\u001b[0m \u001b[38;5;28;01massert\u001b[39;00m x\u001b[38;5;241m.\u001b[39mndim \u001b[38;5;241m>\u001b[39m \u001b[38;5;241m1\u001b[39m, \u001b[38;5;124m\"\u001b[39m\u001b[38;5;124mInput must have batch dimension.\u001b[39m\u001b[38;5;124m\"\u001b[39m\n\u001b[1;32m     57\u001b[0m \u001b[38;5;28;01mwith\u001b[39;00m torch\u001b[38;5;241m.\u001b[39mno_grad():\n\u001b[0;32m---> 58\u001b[0m     action \u001b[38;5;241m=\u001b[39m \u001b[38;5;28;43mself\u001b[39;49m\u001b[38;5;241;43m.\u001b[39;49m\u001b[43m_predict_best_action\u001b[49m\u001b[43m(\u001b[49m\u001b[43mx\u001b[49m\u001b[43m)\u001b[49m\n\u001b[1;32m     60\u001b[0m     \u001b[38;5;66;03m# transform action back to the original range\u001b[39;00m\n\u001b[1;32m     61\u001b[0m     \u001b[38;5;28;01mif\u001b[39;00m \u001b[38;5;28mself\u001b[39m\u001b[38;5;241m.\u001b[39m_action_scaler:\n",
      "File \u001b[0;32m~/.local/share/virtualenvs/symmetry-cs285-U_vq4NrE/lib/python3.8/site-packages/d3rlpy/algos/torch/ddpg_impl.py:195\u001b[0m, in \u001b[0;36mDDPGBaseImpl._predict_best_action\u001b[0;34m(self, x)\u001b[0m\n\u001b[1;32m    193\u001b[0m \u001b[38;5;28;01mdef\u001b[39;00m \u001b[38;5;21m_predict_best_action\u001b[39m(\u001b[38;5;28mself\u001b[39m, x: torch\u001b[38;5;241m.\u001b[39mTensor) \u001b[38;5;241m-\u001b[39m\u001b[38;5;241m>\u001b[39m torch\u001b[38;5;241m.\u001b[39mTensor:\n\u001b[1;32m    194\u001b[0m     \u001b[38;5;28;01massert\u001b[39;00m \u001b[38;5;28mself\u001b[39m\u001b[38;5;241m.\u001b[39m_policy \u001b[38;5;129;01mis\u001b[39;00m \u001b[38;5;129;01mnot\u001b[39;00m \u001b[38;5;28;01mNone\u001b[39;00m\n\u001b[0;32m--> 195\u001b[0m     \u001b[38;5;28;01mreturn\u001b[39;00m \u001b[38;5;28;43mself\u001b[39;49m\u001b[38;5;241;43m.\u001b[39;49m\u001b[43m_policy\u001b[49m\u001b[38;5;241;43m.\u001b[39;49m\u001b[43mbest_action\u001b[49m\u001b[43m(\u001b[49m\u001b[43mx\u001b[49m\u001b[43m)\u001b[49m\n",
      "File \u001b[0;32m~/.local/share/virtualenvs/symmetry-cs285-U_vq4NrE/lib/python3.8/site-packages/d3rlpy/models/torch/policies.py:245\u001b[0m, in \u001b[0;36mNormalPolicy.best_action\u001b[0;34m(self, x)\u001b[0m\n\u001b[1;32m    244\u001b[0m \u001b[38;5;28;01mdef\u001b[39;00m \u001b[38;5;21mbest_action\u001b[39m(\u001b[38;5;28mself\u001b[39m, x: torch\u001b[38;5;241m.\u001b[39mTensor) \u001b[38;5;241m-\u001b[39m\u001b[38;5;241m>\u001b[39m torch\u001b[38;5;241m.\u001b[39mTensor:\n\u001b[0;32m--> 245\u001b[0m     action \u001b[38;5;241m=\u001b[39m \u001b[38;5;28;43mself\u001b[39;49m\u001b[38;5;241;43m.\u001b[39;49m\u001b[43mforward\u001b[49m\u001b[43m(\u001b[49m\u001b[43mx\u001b[49m\u001b[43m,\u001b[49m\u001b[43m \u001b[49m\u001b[43mdeterministic\u001b[49m\u001b[38;5;241;43m=\u001b[39;49m\u001b[38;5;28;43;01mTrue\u001b[39;49;00m\u001b[43m,\u001b[49m\u001b[43m \u001b[49m\u001b[43mwith_log_prob\u001b[49m\u001b[38;5;241;43m=\u001b[39;49m\u001b[38;5;28;43;01mFalse\u001b[39;49;00m\u001b[43m)\u001b[49m\n\u001b[1;32m    246\u001b[0m     \u001b[38;5;28;01mreturn\u001b[39;00m cast(torch\u001b[38;5;241m.\u001b[39mTensor, action)\n",
      "File \u001b[0;32m~/.local/share/virtualenvs/symmetry-cs285-U_vq4NrE/lib/python3.8/site-packages/d3rlpy/models/torch/policies.py:191\u001b[0m, in \u001b[0;36mNormalPolicy.forward\u001b[0;34m(self, x, deterministic, with_log_prob)\u001b[0m\n\u001b[1;32m    189\u001b[0m dist \u001b[38;5;241m=\u001b[39m \u001b[38;5;28mself\u001b[39m\u001b[38;5;241m.\u001b[39mdist(x)\n\u001b[1;32m    190\u001b[0m \u001b[38;5;28;01mif\u001b[39;00m deterministic:\n\u001b[0;32m--> 191\u001b[0m     action, log_prob \u001b[38;5;241m=\u001b[39m \u001b[43mdist\u001b[49m\u001b[38;5;241;43m.\u001b[39;49m\u001b[43mmean_with_log_prob\u001b[49m\u001b[43m(\u001b[49m\u001b[43m)\u001b[49m\n\u001b[1;32m    192\u001b[0m \u001b[38;5;28;01melse\u001b[39;00m:\n\u001b[1;32m    193\u001b[0m     action, log_prob \u001b[38;5;241m=\u001b[39m dist\u001b[38;5;241m.\u001b[39msample_with_log_prob()\n",
      "File \u001b[0;32m~/.local/share/virtualenvs/symmetry-cs285-U_vq4NrE/lib/python3.8/site-packages/d3rlpy/models/torch/distributions.py:126\u001b[0m, in \u001b[0;36mSquashedGaussianDistribution.mean_with_log_prob\u001b[0;34m(self)\u001b[0m\n\u001b[1;32m    125\u001b[0m \u001b[38;5;28;01mdef\u001b[39;00m \u001b[38;5;21mmean_with_log_prob\u001b[39m(\u001b[38;5;28mself\u001b[39m) \u001b[38;5;241m-\u001b[39m\u001b[38;5;241m>\u001b[39m Tuple[torch\u001b[38;5;241m.\u001b[39mTensor, torch\u001b[38;5;241m.\u001b[39mTensor]:\n\u001b[0;32m--> 126\u001b[0m     \u001b[38;5;28;01mreturn\u001b[39;00m torch\u001b[38;5;241m.\u001b[39mtanh(\u001b[38;5;28mself\u001b[39m\u001b[38;5;241m.\u001b[39m_mean), \u001b[38;5;28;43mself\u001b[39;49m\u001b[38;5;241;43m.\u001b[39;49m\u001b[43m_log_prob_from_raw_y\u001b[49m\u001b[43m(\u001b[49m\u001b[38;5;28;43mself\u001b[39;49m\u001b[38;5;241;43m.\u001b[39;49m\u001b[43m_mean\u001b[49m\u001b[43m)\u001b[49m\n",
      "File \u001b[0;32m~/.local/share/virtualenvs/symmetry-cs285-U_vq4NrE/lib/python3.8/site-packages/d3rlpy/models/torch/distributions.py:134\u001b[0m, in \u001b[0;36mSquashedGaussianDistribution._log_prob_from_raw_y\u001b[0;34m(self, raw_y)\u001b[0m\n\u001b[1;32m    133\u001b[0m \u001b[38;5;28;01mdef\u001b[39;00m \u001b[38;5;21m_log_prob_from_raw_y\u001b[39m(\u001b[38;5;28mself\u001b[39m, raw_y: torch\u001b[38;5;241m.\u001b[39mTensor) \u001b[38;5;241m-\u001b[39m\u001b[38;5;241m>\u001b[39m torch\u001b[38;5;241m.\u001b[39mTensor:\n\u001b[0;32m--> 134\u001b[0m     jacob \u001b[38;5;241m=\u001b[39m \u001b[38;5;241m2\u001b[39m \u001b[38;5;241m*\u001b[39m (\u001b[43mmath\u001b[49m\u001b[38;5;241;43m.\u001b[39;49m\u001b[43mlog\u001b[49m\u001b[43m(\u001b[49m\u001b[38;5;241;43m2\u001b[39;49m\u001b[43m)\u001b[49m\u001b[43m \u001b[49m\u001b[38;5;241;43m-\u001b[39;49m\u001b[43m \u001b[49m\u001b[43mraw_y\u001b[49m\u001b[43m \u001b[49m\u001b[38;5;241;43m-\u001b[39;49m\u001b[43m \u001b[49m\u001b[43mF\u001b[49m\u001b[38;5;241;43m.\u001b[39;49m\u001b[43msoftplus\u001b[49m\u001b[43m(\u001b[49m\u001b[38;5;241;43m-\u001b[39;49m\u001b[38;5;241;43m2\u001b[39;49m\u001b[43m \u001b[49m\u001b[38;5;241;43m*\u001b[39;49m\u001b[43m \u001b[49m\u001b[43mraw_y\u001b[49m\u001b[43m)\u001b[49m)\n\u001b[1;32m    135\u001b[0m     \u001b[38;5;28;01mreturn\u001b[39;00m (\u001b[38;5;28mself\u001b[39m\u001b[38;5;241m.\u001b[39m_dist\u001b[38;5;241m.\u001b[39mlog_prob(raw_y) \u001b[38;5;241m-\u001b[39m jacob)\u001b[38;5;241m.\u001b[39msum(dim\u001b[38;5;241m=\u001b[39m\u001b[38;5;241m-\u001b[39m\u001b[38;5;241m1\u001b[39m, keepdims\u001b[38;5;241m=\u001b[39m\u001b[38;5;28;01mTrue\u001b[39;00m)\n",
      "\u001b[0;31mKeyboardInterrupt\u001b[0m: "
     ]
    }
   ],
   "source": [
    "actor_encoder = d3rlpy.models.encoders.DefaultEncoderFactory(dropout_rate=0.2)\n",
    "# setup algorithm\n",
    "sac = d3rlpy.algos.SAC(\n",
    "    batch_size=256,\n",
    "    actor_encoder_factory=actor_encoder,\n",
    "    actor_learning_rate=3e-4,\n",
    "    critic_learning_rate=3e-4,\n",
    "    temp_learning_rate=3e-4,\n",
    "    use_gpu=use_gpu\n",
    ")\n",
    "\n",
    "# prepare utilities\n",
    "buffer = d3rlpy.online.buffers.ReplayBuffer(maxlen=1000000, env=env)\n",
    "\n",
    "# start training\n",
    "sac.fit_online(\n",
    "    env,\n",
    "    buffer,\n",
    "    eval_env=eval_env,\n",
    "    n_steps=100000,\n",
    "    n_steps_per_epoch=1000,\n",
    "    update_interval=1,\n",
    "    update_start_step=1000,\n",
    "    tensorboard_dir='tensorboard_logs'\n",
    ")"
   ]
  },
  {
   "cell_type": "code",
   "execution_count": 6,
   "id": "ce7e7bd2-1bdf-4dec-9ecc-d1b42275b07e",
   "metadata": {},
   "outputs": [],
   "source": [
    "# export replay buffer as MDPDataset\n",
    "dataset = buffer.to_mdp_dataset()\n",
    "\n",
    "# save MDPDataset\n",
    "dataset.dump('d3rlpy_data/inverted_pendulum.h5')"
   ]
  },
  {
   "cell_type": "markdown",
   "id": "74f4fca6-103e-4428-8afe-04f98213ed31",
   "metadata": {},
   "source": [
    "## Load the dataset"
   ]
  },
  {
   "cell_type": "code",
   "execution_count": 5,
   "id": "987e3d33-fceb-4576-a2da-5f617d746d01",
   "metadata": {},
   "outputs": [],
   "source": [
    "dataset = d3rlpy.dataset.MDPDataset.load('d3rlpy_data/inverted_pendulum.h5')"
   ]
  },
  {
   "cell_type": "code",
   "execution_count": 6,
   "id": "5d4e58c8-a0ea-42a0-825a-702e5fa767be",
   "metadata": {},
   "outputs": [],
   "source": [
    "train_episodes, test_episodes = train_test_split(dataset)"
   ]
  },
  {
   "cell_type": "markdown",
   "id": "425935b5-2a2f-497d-a63e-c2eb7f7cf8eb",
   "metadata": {
    "jp-MarkdownHeadingCollapsed": true
   },
   "source": [
    "## Dynamics learning"
   ]
  },
  {
   "cell_type": "code",
   "execution_count": 17,
   "id": "d6db25ae-3d57-4680-bec9-9ccde0b9f983",
   "metadata": {},
   "outputs": [],
   "source": [
    "dynamics = d3rlpy.dynamics.ProbabilisticEnsembleDynamics(learning_rate=1e-4, use_gpu=True)"
   ]
  },
  {
   "cell_type": "code",
   "execution_count": 18,
   "id": "a6a23e36",
   "metadata": {
    "scrolled": true
   },
   "outputs": [
    {
     "name": "stdout",
     "output_type": "stream",
     "text": [
      "\u001b[2m2023-09-29 11:11:24\u001b[0m [\u001b[32m\u001b[1mdebug    \u001b[0m] \u001b[1mRoundIterator is selected.\u001b[0m\n",
      "\u001b[2m2023-09-29 11:11:24\u001b[0m [\u001b[32m\u001b[1minfo     \u001b[0m] \u001b[1mDirectory is created at d3rlpy_logs/ProbabilisticEnsembleDynamics_20230929111124\u001b[0m\n",
      "\u001b[2m2023-09-29 11:11:24\u001b[0m [\u001b[32m\u001b[1mdebug    \u001b[0m] \u001b[1mBuilding models...\u001b[0m\n",
      "\u001b[2m2023-09-29 11:11:24\u001b[0m [\u001b[32m\u001b[1mdebug    \u001b[0m] \u001b[1mModels have been built.\u001b[0m\n",
      "\u001b[2m2023-09-29 11:11:24\u001b[0m [\u001b[32m\u001b[1minfo     \u001b[0m] \u001b[1mParameters are saved to d3rlpy_logs/ProbabilisticEnsembleDynamics_20230929111124/params.json\u001b[0m \u001b[36mparams\u001b[0m=\u001b[35m{'action_scaler': None, 'batch_size': 100, 'discrete_action': False, 'encoder_factory': {'type': 'default', 'params': {'activation': 'relu', 'use_batch_norm': False, 'dropout_rate': None}}, 'gamma': 1.0, 'generated_maxlen': 100000, 'learning_rate': 0.0001, 'n_ensembles': 5, 'n_frames': 1, 'n_steps': 1, 'optim_factory': {'optim_cls': 'Adam', 'betas': (0.9, 0.999), 'eps': 1e-08, 'weight_decay': 0.0001, 'amsgrad': False}, 'real_ratio': 1.0, 'reward_scaler': None, 'scaler': None, 'use_gpu': 0, 'variance_type': 'max', 'algorithm': 'ProbabilisticEnsembleDynamics', 'observation_shape': (4,), 'action_size': 1}\u001b[0m\n"
     ]
    },
    {
     "data": {
      "application/vnd.jupyter.widget-view+json": {
       "model_id": "dc087679b80b4ac89a688928e2fa42f7",
       "version_major": 2,
       "version_minor": 0
      },
      "text/plain": [
       "Epoch 1/100:   0%|          | 0/530 [00:00<?, ?it/s]"
      ]
     },
     "metadata": {},
     "output_type": "display_data"
    },
    {
     "name": "stdout",
     "output_type": "stream",
     "text": [
      "\u001b[2m2023-09-29 11:11:35\u001b[0m [\u001b[32m\u001b[1minfo     \u001b[0m] \u001b[1mProbabilisticEnsembleDynamics_20230929111124: epoch=1 step=530\u001b[0m \u001b[36mepoch\u001b[0m=\u001b[35m1\u001b[0m \u001b[36mmetrics\u001b[0m=\u001b[35m{'time_sample_batch': 0.00033259661692493366, 'time_algorithm_update': 0.017799991931555407, 'loss': -20.412133104080016, 'time_step': 0.018235126981195414, 'observation_error': 0.05122452501369622, 'reward_error': 0.0010851811401877767, 'variance': 0.061272936777414716}\u001b[0m \u001b[36mstep\u001b[0m=\u001b[35m530\u001b[0m\n",
      "\u001b[2m2023-09-29 11:11:35\u001b[0m [\u001b[32m\u001b[1minfo     \u001b[0m] \u001b[1mModel parameters are saved to d3rlpy_logs/ProbabilisticEnsembleDynamics_20230929111124/model_530.pt\u001b[0m\n"
     ]
    },
    {
     "data": {
      "application/vnd.jupyter.widget-view+json": {
       "model_id": "91b339985b2c4174b902a93b8f573aa2",
       "version_major": 2,
       "version_minor": 0
      },
      "text/plain": [
       "Epoch 2/100:   0%|          | 0/530 [00:00<?, ?it/s]"
      ]
     },
     "metadata": {},
     "output_type": "display_data"
    },
    {
     "name": "stdout",
     "output_type": "stream",
     "text": [
      "\u001b[2m2023-09-29 11:11:47\u001b[0m [\u001b[32m\u001b[1minfo     \u001b[0m] \u001b[1mProbabilisticEnsembleDynamics_20230929111124: epoch=2 step=1060\u001b[0m \u001b[36mepoch\u001b[0m=\u001b[35m2\u001b[0m \u001b[36mmetrics\u001b[0m=\u001b[35m{'time_sample_batch': 0.00030880694119435434, 'time_algorithm_update': 0.01719002048924284, 'loss': -32.47664208772048, 'time_step': 0.01759045843808156, 'observation_error': 0.03070271193117635, 'reward_error': 0.0002527767268774024, 'variance': 0.029529351023722516}\u001b[0m \u001b[36mstep\u001b[0m=\u001b[35m1060\u001b[0m\n",
      "\u001b[2m2023-09-29 11:11:47\u001b[0m [\u001b[32m\u001b[1minfo     \u001b[0m] \u001b[1mModel parameters are saved to d3rlpy_logs/ProbabilisticEnsembleDynamics_20230929111124/model_1060.pt\u001b[0m\n"
     ]
    },
    {
     "data": {
      "application/vnd.jupyter.widget-view+json": {
       "model_id": "f342c3916b9c4b1c86dea0962e7904cd",
       "version_major": 2,
       "version_minor": 0
      },
      "text/plain": [
       "Epoch 3/100:   0%|          | 0/530 [00:00<?, ?it/s]"
      ]
     },
     "metadata": {},
     "output_type": "display_data"
    },
    {
     "name": "stdout",
     "output_type": "stream",
     "text": [
      "\u001b[2m2023-09-29 11:11:58\u001b[0m [\u001b[32m\u001b[1minfo     \u001b[0m] \u001b[1mProbabilisticEnsembleDynamics_20230929111124: epoch=3 step=1590\u001b[0m \u001b[36mepoch\u001b[0m=\u001b[35m3\u001b[0m \u001b[36mmetrics\u001b[0m=\u001b[35m{'time_sample_batch': 0.0003708915890387769, 'time_algorithm_update': 0.018562685768559295, 'loss': -39.59974348859967, 'time_step': 0.019040496394319355, 'observation_error': 0.019320719303135253, 'reward_error': 0.00012813193112252102, 'variance': 0.008370734354173041}\u001b[0m \u001b[36mstep\u001b[0m=\u001b[35m1590\u001b[0m\n",
      "\u001b[2m2023-09-29 11:11:58\u001b[0m [\u001b[32m\u001b[1minfo     \u001b[0m] \u001b[1mModel parameters are saved to d3rlpy_logs/ProbabilisticEnsembleDynamics_20230929111124/model_1590.pt\u001b[0m\n"
     ]
    },
    {
     "data": {
      "application/vnd.jupyter.widget-view+json": {
       "model_id": "1878c2785f20469092397276462fb1cb",
       "version_major": 2,
       "version_minor": 0
      },
      "text/plain": [
       "Epoch 4/100:   0%|          | 0/530 [00:00<?, ?it/s]"
      ]
     },
     "metadata": {},
     "output_type": "display_data"
    },
    {
     "name": "stdout",
     "output_type": "stream",
     "text": [
      "\u001b[2m2023-09-29 11:12:10\u001b[0m [\u001b[32m\u001b[1minfo     \u001b[0m] \u001b[1mProbabilisticEnsembleDynamics_20230929111124: epoch=4 step=2120\u001b[0m \u001b[36mepoch\u001b[0m=\u001b[35m4\u001b[0m \u001b[36mmetrics\u001b[0m=\u001b[35m{'time_sample_batch': 0.00041189598587324037, 'time_algorithm_update': 0.02051009232143186, 'loss': -45.66831666658509, 'time_step': 0.021043164775056657, 'observation_error': 0.017105005907388737, 'reward_error': 3.800593019367761e-05, 'variance': 0.0050899498191991615}\u001b[0m \u001b[36mstep\u001b[0m=\u001b[35m2120\u001b[0m\n",
      "\u001b[2m2023-09-29 11:12:10\u001b[0m [\u001b[32m\u001b[1minfo     \u001b[0m] \u001b[1mModel parameters are saved to d3rlpy_logs/ProbabilisticEnsembleDynamics_20230929111124/model_2120.pt\u001b[0m\n"
     ]
    },
    {
     "data": {
      "application/vnd.jupyter.widget-view+json": {
       "model_id": "41391b12ace04ab994852dcf1507e230",
       "version_major": 2,
       "version_minor": 0
      },
      "text/plain": [
       "Epoch 5/100:   0%|          | 0/530 [00:00<?, ?it/s]"
      ]
     },
     "metadata": {},
     "output_type": "display_data"
    },
    {
     "name": "stdout",
     "output_type": "stream",
     "text": [
      "\u001b[2m2023-09-29 11:12:20\u001b[0m [\u001b[32m\u001b[1minfo     \u001b[0m] \u001b[1mProbabilisticEnsembleDynamics_20230929111124: epoch=5 step=2650\u001b[0m \u001b[36mepoch\u001b[0m=\u001b[35m5\u001b[0m \u001b[36mmetrics\u001b[0m=\u001b[35m{'time_sample_batch': 0.00028540008472946455, 'time_algorithm_update': 0.014803432518581175, 'loss': -50.989142103015254, 'time_step': 0.015169774361376492, 'observation_error': 0.015502480104548697, 'reward_error': 1.7232393849179995e-05, 'variance': 0.0034933336989965333}\u001b[0m \u001b[36mstep\u001b[0m=\u001b[35m2650\u001b[0m\n",
      "\u001b[2m2023-09-29 11:12:20\u001b[0m [\u001b[32m\u001b[1minfo     \u001b[0m] \u001b[1mModel parameters are saved to d3rlpy_logs/ProbabilisticEnsembleDynamics_20230929111124/model_2650.pt\u001b[0m\n"
     ]
    },
    {
     "data": {
      "application/vnd.jupyter.widget-view+json": {
       "model_id": "5f38fb315c5c4cf2ab4821b43b246788",
       "version_major": 2,
       "version_minor": 0
      },
      "text/plain": [
       "Epoch 6/100:   0%|          | 0/530 [00:00<?, ?it/s]"
      ]
     },
     "metadata": {},
     "output_type": "display_data"
    },
    {
     "name": "stdout",
     "output_type": "stream",
     "text": [
      "\u001b[2m2023-09-29 11:12:34\u001b[0m [\u001b[32m\u001b[1minfo     \u001b[0m] \u001b[1mProbabilisticEnsembleDynamics_20230929111124: epoch=6 step=3180\u001b[0m \u001b[36mepoch\u001b[0m=\u001b[35m6\u001b[0m \u001b[36mmetrics\u001b[0m=\u001b[35m{'time_sample_batch': 0.0004213571548461914, 'time_algorithm_update': 0.021386801971579498, 'loss': -54.80422955638957, 'time_step': 0.021931462917687758, 'observation_error': 0.01727623001054546, 'reward_error': 1.7473448793193076e-05, 'variance': 0.009455191029797014}\u001b[0m \u001b[36mstep\u001b[0m=\u001b[35m3180\u001b[0m\n",
      "\u001b[2m2023-09-29 11:12:34\u001b[0m [\u001b[32m\u001b[1minfo     \u001b[0m] \u001b[1mModel parameters are saved to d3rlpy_logs/ProbabilisticEnsembleDynamics_20230929111124/model_3180.pt\u001b[0m\n"
     ]
    },
    {
     "data": {
      "application/vnd.jupyter.widget-view+json": {
       "model_id": "0f81807e67ad4b308ee5d595eca48652",
       "version_major": 2,
       "version_minor": 0
      },
      "text/plain": [
       "Epoch 7/100:   0%|          | 0/530 [00:00<?, ?it/s]"
      ]
     },
     "metadata": {},
     "output_type": "display_data"
    },
    {
     "name": "stdout",
     "output_type": "stream",
     "text": [
      "\u001b[2m2023-09-29 11:12:43\u001b[0m [\u001b[32m\u001b[1minfo     \u001b[0m] \u001b[1mProbabilisticEnsembleDynamics_20230929111124: epoch=7 step=3710\u001b[0m \u001b[36mepoch\u001b[0m=\u001b[35m7\u001b[0m \u001b[36mmetrics\u001b[0m=\u001b[35m{'time_sample_batch': 0.0002528109640445349, 'time_algorithm_update': 0.013783202081356409, 'loss': -57.82180048474726, 'time_step': 0.014112602539782254, 'observation_error': 0.02523819936042008, 'reward_error': 1.1288723567681245e-05, 'variance': 0.016596208962165317}\u001b[0m \u001b[36mstep\u001b[0m=\u001b[35m3710\u001b[0m\n",
      "\u001b[2m2023-09-29 11:12:43\u001b[0m [\u001b[32m\u001b[1minfo     \u001b[0m] \u001b[1mModel parameters are saved to d3rlpy_logs/ProbabilisticEnsembleDynamics_20230929111124/model_3710.pt\u001b[0m\n"
     ]
    },
    {
     "data": {
      "application/vnd.jupyter.widget-view+json": {
       "model_id": "a16f82561a1c4648a4a5d44a32821565",
       "version_major": 2,
       "version_minor": 0
      },
      "text/plain": [
       "Epoch 8/100:   0%|          | 0/530 [00:00<?, ?it/s]"
      ]
     },
     "metadata": {},
     "output_type": "display_data"
    },
    {
     "name": "stdout",
     "output_type": "stream",
     "text": [
      "\u001b[2m2023-09-29 11:12:51\u001b[0m [\u001b[32m\u001b[1minfo     \u001b[0m] \u001b[1mProbabilisticEnsembleDynamics_20230929111124: epoch=8 step=4240\u001b[0m \u001b[36mepoch\u001b[0m=\u001b[35m8\u001b[0m \u001b[36mmetrics\u001b[0m=\u001b[35m{'time_sample_batch': 0.0002418603537217626, 'time_algorithm_update': 0.013302937093770728, 'loss': -59.97181646059144, 'time_step': 0.013621030663544278, 'observation_error': 0.02358414102381489, 'reward_error': 1.1890042506973281e-05, 'variance': 0.023563819087165226}\u001b[0m \u001b[36mstep\u001b[0m=\u001b[35m4240\u001b[0m\n",
      "\u001b[2m2023-09-29 11:12:51\u001b[0m [\u001b[32m\u001b[1minfo     \u001b[0m] \u001b[1mModel parameters are saved to d3rlpy_logs/ProbabilisticEnsembleDynamics_20230929111124/model_4240.pt\u001b[0m\n"
     ]
    },
    {
     "data": {
      "application/vnd.jupyter.widget-view+json": {
       "model_id": "9f8e13e4fb01485d8dbccf8311fd3221",
       "version_major": 2,
       "version_minor": 0
      },
      "text/plain": [
       "Epoch 9/100:   0%|          | 0/530 [00:00<?, ?it/s]"
      ]
     },
     "metadata": {},
     "output_type": "display_data"
    },
    {
     "name": "stdout",
     "output_type": "stream",
     "text": [
      "\u001b[2m2023-09-29 11:12:59\u001b[0m [\u001b[32m\u001b[1minfo     \u001b[0m] \u001b[1mProbabilisticEnsembleDynamics_20230929111124: epoch=9 step=4770\u001b[0m \u001b[36mepoch\u001b[0m=\u001b[35m9\u001b[0m \u001b[36mmetrics\u001b[0m=\u001b[35m{'time_sample_batch': 0.00024062417588143978, 'time_algorithm_update': 0.012972847470697367, 'loss': -61.94088985695029, 'time_step': 0.013285816840405733, 'observation_error': 0.03791243643881648, 'reward_error': 1.3443410529580408e-05, 'variance': 0.03708136686249886}\u001b[0m \u001b[36mstep\u001b[0m=\u001b[35m4770\u001b[0m\n",
      "\u001b[2m2023-09-29 11:12:59\u001b[0m [\u001b[32m\u001b[1minfo     \u001b[0m] \u001b[1mModel parameters are saved to d3rlpy_logs/ProbabilisticEnsembleDynamics_20230929111124/model_4770.pt\u001b[0m\n"
     ]
    },
    {
     "data": {
      "application/vnd.jupyter.widget-view+json": {
       "model_id": "5e370c251786402086e612ed5b7ec739",
       "version_major": 2,
       "version_minor": 0
      },
      "text/plain": [
       "Epoch 10/100:   0%|          | 0/530 [00:00<?, ?it/s]"
      ]
     },
     "metadata": {},
     "output_type": "display_data"
    },
    {
     "name": "stdout",
     "output_type": "stream",
     "text": [
      "\u001b[2m2023-09-29 11:13:19\u001b[0m [\u001b[32m\u001b[1minfo     \u001b[0m] \u001b[1mProbabilisticEnsembleDynamics_20230929111124: epoch=10 step=5300\u001b[0m \u001b[36mepoch\u001b[0m=\u001b[35m10\u001b[0m \u001b[36mmetrics\u001b[0m=\u001b[35m{'time_sample_batch': 0.0005501652663608767, 'time_algorithm_update': 0.028427433967590333, 'loss': -63.33990565425945, 'time_step': 0.029145997875141647, 'observation_error': 0.04135790380045728, 'reward_error': 1.3443513714087985e-05, 'variance': 0.04047232014120748}\u001b[0m \u001b[36mstep\u001b[0m=\u001b[35m5300\u001b[0m\n",
      "\u001b[2m2023-09-29 11:13:19\u001b[0m [\u001b[32m\u001b[1minfo     \u001b[0m] \u001b[1mModel parameters are saved to d3rlpy_logs/ProbabilisticEnsembleDynamics_20230929111124/model_5300.pt\u001b[0m\n"
     ]
    },
    {
     "data": {
      "application/vnd.jupyter.widget-view+json": {
       "model_id": "358a8e8b8f0d436e8a0a2d56c385a6fc",
       "version_major": 2,
       "version_minor": 0
      },
      "text/plain": [
       "Epoch 11/100:   0%|          | 0/530 [00:00<?, ?it/s]"
      ]
     },
     "metadata": {},
     "output_type": "display_data"
    },
    {
     "name": "stdout",
     "output_type": "stream",
     "text": [
      "\u001b[2m2023-09-29 11:13:47\u001b[0m [\u001b[32m\u001b[1minfo     \u001b[0m] \u001b[1mProbabilisticEnsembleDynamics_20230929111124: epoch=11 step=5830\u001b[0m \u001b[36mepoch\u001b[0m=\u001b[35m11\u001b[0m \u001b[36mmetrics\u001b[0m=\u001b[35m{'time_sample_batch': 0.0009231765315217792, 'time_algorithm_update': 0.04401969414836956, 'loss': -62.834476249622846, 'time_step': 0.04519812026113834, 'observation_error': 0.04432421911136872, 'reward_error': 9.826894084721747e-06, 'variance': 0.05208830889547658}\u001b[0m \u001b[36mstep\u001b[0m=\u001b[35m5830\u001b[0m\n",
      "\u001b[2m2023-09-29 11:13:47\u001b[0m [\u001b[32m\u001b[1minfo     \u001b[0m] \u001b[1mModel parameters are saved to d3rlpy_logs/ProbabilisticEnsembleDynamics_20230929111124/model_5830.pt\u001b[0m\n"
     ]
    },
    {
     "data": {
      "application/vnd.jupyter.widget-view+json": {
       "model_id": "d1a8e2f3fe4e403da1041138cd81c690",
       "version_major": 2,
       "version_minor": 0
      },
      "text/plain": [
       "Epoch 12/100:   0%|          | 0/530 [00:00<?, ?it/s]"
      ]
     },
     "metadata": {},
     "output_type": "display_data"
    },
    {
     "name": "stdout",
     "output_type": "stream",
     "text": [
      "\u001b[2m2023-09-29 11:14:14\u001b[0m [\u001b[32m\u001b[1minfo     \u001b[0m] \u001b[1mProbabilisticEnsembleDynamics_20230929111124: epoch=12 step=6360\u001b[0m \u001b[36mepoch\u001b[0m=\u001b[35m12\u001b[0m \u001b[36mmetrics\u001b[0m=\u001b[35m{'time_sample_batch': 0.0008653235885332216, 'time_algorithm_update': 0.04187214779403974, 'loss': -64.18831972963405, 'time_step': 0.04295915747588536, 'observation_error': 0.049309373375705255, 'reward_error': 1.0259783253875893e-05, 'variance': 0.05525980940818887}\u001b[0m \u001b[36mstep\u001b[0m=\u001b[35m6360\u001b[0m\n",
      "\u001b[2m2023-09-29 11:14:14\u001b[0m [\u001b[32m\u001b[1minfo     \u001b[0m] \u001b[1mModel parameters are saved to d3rlpy_logs/ProbabilisticEnsembleDynamics_20230929111124/model_6360.pt\u001b[0m\n"
     ]
    },
    {
     "data": {
      "application/vnd.jupyter.widget-view+json": {
       "model_id": "f2494cfc9f974305a8721bb27580b16b",
       "version_major": 2,
       "version_minor": 0
      },
      "text/plain": [
       "Epoch 13/100:   0%|          | 0/530 [00:00<?, ?it/s]"
      ]
     },
     "metadata": {},
     "output_type": "display_data"
    },
    {
     "name": "stdout",
     "output_type": "stream",
     "text": [
      "\u001b[2m2023-09-29 11:14:30\u001b[0m [\u001b[32m\u001b[1minfo     \u001b[0m] \u001b[1mProbabilisticEnsembleDynamics_20230929111124: epoch=13 step=6890\u001b[0m \u001b[36mepoch\u001b[0m=\u001b[35m13\u001b[0m \u001b[36mmetrics\u001b[0m=\u001b[35m{'time_sample_batch': 0.0005415169697887492, 'time_algorithm_update': 0.026409645800320607, 'loss': -65.78858204067878, 'time_step': 0.027140796859309358, 'observation_error': 0.0485241453111006, 'reward_error': 1.8516859414781524e-05, 'variance': 0.052597995807452856}\u001b[0m \u001b[36mstep\u001b[0m=\u001b[35m6890\u001b[0m\n",
      "\u001b[2m2023-09-29 11:14:30\u001b[0m [\u001b[32m\u001b[1minfo     \u001b[0m] \u001b[1mModel parameters are saved to d3rlpy_logs/ProbabilisticEnsembleDynamics_20230929111124/model_6890.pt\u001b[0m\n"
     ]
    },
    {
     "data": {
      "application/vnd.jupyter.widget-view+json": {
       "model_id": "0889809b69864c5e8198524fce97774f",
       "version_major": 2,
       "version_minor": 0
      },
      "text/plain": [
       "Epoch 14/100:   0%|          | 0/530 [00:00<?, ?it/s]"
      ]
     },
     "metadata": {},
     "output_type": "display_data"
    },
    {
     "name": "stdout",
     "output_type": "stream",
     "text": [
      "\u001b[2m2023-09-29 11:14:41\u001b[0m [\u001b[32m\u001b[1minfo     \u001b[0m] \u001b[1mProbabilisticEnsembleDynamics_20230929111124: epoch=14 step=7420\u001b[0m \u001b[36mepoch\u001b[0m=\u001b[35m14\u001b[0m \u001b[36mmetrics\u001b[0m=\u001b[35m{'time_sample_batch': 0.00033572259938941814, 'time_algorithm_update': 0.018449803568282217, 'loss': -65.64781129225246, 'time_step': 0.01887947163491879, 'observation_error': 0.0639842922713136, 'reward_error': 1.1270112936972703e-05, 'variance': 0.05904040952111293}\u001b[0m \u001b[36mstep\u001b[0m=\u001b[35m7420\u001b[0m\n",
      "\u001b[2m2023-09-29 11:14:41\u001b[0m [\u001b[32m\u001b[1minfo     \u001b[0m] \u001b[1mModel parameters are saved to d3rlpy_logs/ProbabilisticEnsembleDynamics_20230929111124/model_7420.pt\u001b[0m\n"
     ]
    },
    {
     "data": {
      "application/vnd.jupyter.widget-view+json": {
       "model_id": "64e812c971b5413cbdffaedccf2bf600",
       "version_major": 2,
       "version_minor": 0
      },
      "text/plain": [
       "Epoch 15/100:   0%|          | 0/530 [00:00<?, ?it/s]"
      ]
     },
     "metadata": {},
     "output_type": "display_data"
    },
    {
     "name": "stdout",
     "output_type": "stream",
     "text": [
      "\u001b[2m2023-09-29 11:14:51\u001b[0m [\u001b[32m\u001b[1minfo     \u001b[0m] \u001b[1mProbabilisticEnsembleDynamics_20230929111124: epoch=15 step=7950\u001b[0m \u001b[36mepoch\u001b[0m=\u001b[35m15\u001b[0m \u001b[36mmetrics\u001b[0m=\u001b[35m{'time_sample_batch': 0.0002763041910135521, 'time_algorithm_update': 0.014961852217620274, 'loss': -67.25376990336292, 'time_step': 0.015313972167248996, 'observation_error': 0.052796360283653025, 'reward_error': 7.74530451955151e-06, 'variance': 0.05396485844863551}\u001b[0m \u001b[36mstep\u001b[0m=\u001b[35m7950\u001b[0m\n",
      "\u001b[2m2023-09-29 11:14:51\u001b[0m [\u001b[32m\u001b[1minfo     \u001b[0m] \u001b[1mModel parameters are saved to d3rlpy_logs/ProbabilisticEnsembleDynamics_20230929111124/model_7950.pt\u001b[0m\n"
     ]
    },
    {
     "data": {
      "application/vnd.jupyter.widget-view+json": {
       "model_id": "ff34745cfce14654ae6533f42c504b62",
       "version_major": 2,
       "version_minor": 0
      },
      "text/plain": [
       "Epoch 16/100:   0%|          | 0/530 [00:00<?, ?it/s]"
      ]
     },
     "metadata": {},
     "output_type": "display_data"
    },
    {
     "name": "stdout",
     "output_type": "stream",
     "text": [
      "\u001b[2m2023-09-29 11:15:13\u001b[0m [\u001b[32m\u001b[1minfo     \u001b[0m] \u001b[1mProbabilisticEnsembleDynamics_20230929111124: epoch=16 step=8480\u001b[0m \u001b[36mepoch\u001b[0m=\u001b[35m16\u001b[0m \u001b[36mmetrics\u001b[0m=\u001b[35m{'time_sample_batch': 0.000689603697578862, 'time_algorithm_update': 0.03346070433562657, 'loss': -67.17911743847829, 'time_step': 0.034327781425332125, 'observation_error': 0.058663015714726374, 'reward_error': 1.2664396318714133e-05, 'variance': 0.06369797953059417}\u001b[0m \u001b[36mstep\u001b[0m=\u001b[35m8480\u001b[0m\n",
      "\u001b[2m2023-09-29 11:15:13\u001b[0m [\u001b[32m\u001b[1minfo     \u001b[0m] \u001b[1mModel parameters are saved to d3rlpy_logs/ProbabilisticEnsembleDynamics_20230929111124/model_8480.pt\u001b[0m\n"
     ]
    },
    {
     "data": {
      "application/vnd.jupyter.widget-view+json": {
       "model_id": "b7dc20cc0d77497e9c8bbc4144ef13c6",
       "version_major": 2,
       "version_minor": 0
      },
      "text/plain": [
       "Epoch 17/100:   0%|          | 0/530 [00:00<?, ?it/s]"
      ]
     },
     "metadata": {},
     "output_type": "display_data"
    },
    {
     "name": "stdout",
     "output_type": "stream",
     "text": [
      "\u001b[2m2023-09-29 11:15:32\u001b[0m [\u001b[32m\u001b[1minfo     \u001b[0m] \u001b[1mProbabilisticEnsembleDynamics_20230929111124: epoch=17 step=9010\u001b[0m \u001b[36mepoch\u001b[0m=\u001b[35m17\u001b[0m \u001b[36mmetrics\u001b[0m=\u001b[35m{'time_sample_batch': 0.0006000959648276275, 'time_algorithm_update': 0.02914149446307488, 'loss': -67.91822125057004, 'time_step': 0.029925105256854365, 'observation_error': 0.05131517864886923, 'reward_error': 7.24873877538924e-06, 'variance': 0.05631169523849699}\u001b[0m \u001b[36mstep\u001b[0m=\u001b[35m9010\u001b[0m\n",
      "\u001b[2m2023-09-29 11:15:32\u001b[0m [\u001b[32m\u001b[1minfo     \u001b[0m] \u001b[1mModel parameters are saved to d3rlpy_logs/ProbabilisticEnsembleDynamics_20230929111124/model_9010.pt\u001b[0m\n"
     ]
    },
    {
     "data": {
      "application/vnd.jupyter.widget-view+json": {
       "model_id": "7b20ca510dfb4ddb930febbd647baefc",
       "version_major": 2,
       "version_minor": 0
      },
      "text/plain": [
       "Epoch 18/100:   0%|          | 0/530 [00:00<?, ?it/s]"
      ]
     },
     "metadata": {},
     "output_type": "display_data"
    },
    {
     "name": "stdout",
     "output_type": "stream",
     "text": [
      "\u001b[2m2023-09-29 11:16:14\u001b[0m [\u001b[32m\u001b[1minfo     \u001b[0m] \u001b[1mProbabilisticEnsembleDynamics_20230929111124: epoch=18 step=9540\u001b[0m \u001b[36mepoch\u001b[0m=\u001b[35m18\u001b[0m \u001b[36mmetrics\u001b[0m=\u001b[35m{'time_sample_batch': 0.0011886367258035911, 'time_algorithm_update': 0.05977701106161441, 'loss': -68.4674239572489, 'time_step': 0.061328351272726955, 'observation_error': 0.059621477800907305, 'reward_error': 7.624959043206456e-06, 'variance': 0.060915663909175986}\u001b[0m \u001b[36mstep\u001b[0m=\u001b[35m9540\u001b[0m\n",
      "\u001b[2m2023-09-29 11:16:14\u001b[0m [\u001b[32m\u001b[1minfo     \u001b[0m] \u001b[1mModel parameters are saved to d3rlpy_logs/ProbabilisticEnsembleDynamics_20230929111124/model_9540.pt\u001b[0m\n"
     ]
    },
    {
     "data": {
      "application/vnd.jupyter.widget-view+json": {
       "model_id": "b0e2172ebe4e45b7a67e51d22522979a",
       "version_major": 2,
       "version_minor": 0
      },
      "text/plain": [
       "Epoch 19/100:   0%|          | 0/530 [00:00<?, ?it/s]"
      ]
     },
     "metadata": {},
     "output_type": "display_data"
    },
    {
     "name": "stdout",
     "output_type": "stream",
     "text": [
      "\u001b[2m2023-09-29 11:16:52\u001b[0m [\u001b[32m\u001b[1minfo     \u001b[0m] \u001b[1mProbabilisticEnsembleDynamics_20230929111124: epoch=19 step=10070\u001b[0m \u001b[36mepoch\u001b[0m=\u001b[35m19\u001b[0m \u001b[36mmetrics\u001b[0m=\u001b[35m{'time_sample_batch': 0.0013251034718639446, 'time_algorithm_update': 0.059490364452577986, 'loss': -68.62509382895703, 'time_step': 0.061218462350233545, 'observation_error': 0.06133395400478845, 'reward_error': 1.1275552682559303e-05, 'variance': 0.0696823628538121}\u001b[0m \u001b[36mstep\u001b[0m=\u001b[35m10070\u001b[0m\n",
      "\u001b[2m2023-09-29 11:16:52\u001b[0m [\u001b[32m\u001b[1minfo     \u001b[0m] \u001b[1mModel parameters are saved to d3rlpy_logs/ProbabilisticEnsembleDynamics_20230929111124/model_10070.pt\u001b[0m\n"
     ]
    },
    {
     "data": {
      "application/vnd.jupyter.widget-view+json": {
       "model_id": "0281f95b8ad244229d8ee80c9ba190ac",
       "version_major": 2,
       "version_minor": 0
      },
      "text/plain": [
       "Epoch 20/100:   0%|          | 0/530 [00:00<?, ?it/s]"
      ]
     },
     "metadata": {},
     "output_type": "display_data"
    },
    {
     "name": "stdout",
     "output_type": "stream",
     "text": [
      "\u001b[2m2023-09-29 11:17:09\u001b[0m [\u001b[32m\u001b[1minfo     \u001b[0m] \u001b[1mProbabilisticEnsembleDynamics_20230929111124: epoch=20 step=10600\u001b[0m \u001b[36mepoch\u001b[0m=\u001b[35m20\u001b[0m \u001b[36mmetrics\u001b[0m=\u001b[35m{'time_sample_batch': 0.0005566336073965397, 'time_algorithm_update': 0.030079545614854344, 'loss': -69.80945651193835, 'time_step': 0.030820361173377848, 'observation_error': 0.05950156556726813, 'reward_error': 7.3332883297531445e-06, 'variance': 0.06245188768652463}\u001b[0m \u001b[36mstep\u001b[0m=\u001b[35m10600\u001b[0m\n",
      "\u001b[2m2023-09-29 11:17:09\u001b[0m [\u001b[32m\u001b[1minfo     \u001b[0m] \u001b[1mModel parameters are saved to d3rlpy_logs/ProbabilisticEnsembleDynamics_20230929111124/model_10600.pt\u001b[0m\n"
     ]
    },
    {
     "data": {
      "application/vnd.jupyter.widget-view+json": {
       "model_id": "aa1023a0854a4b0d85b3b91f41af5250",
       "version_major": 2,
       "version_minor": 0
      },
      "text/plain": [
       "Epoch 21/100:   0%|          | 0/530 [00:00<?, ?it/s]"
      ]
     },
     "metadata": {},
     "output_type": "display_data"
    },
    {
     "name": "stdout",
     "output_type": "stream",
     "text": [
      "\u001b[2m2023-09-29 11:17:20\u001b[0m [\u001b[32m\u001b[1minfo     \u001b[0m] \u001b[1mProbabilisticEnsembleDynamics_20230929111124: epoch=21 step=11130\u001b[0m \u001b[36mepoch\u001b[0m=\u001b[35m21\u001b[0m \u001b[36mmetrics\u001b[0m=\u001b[35m{'time_sample_batch': 0.0003434671545928379, 'time_algorithm_update': 0.01761069837606178, 'loss': -69.76888222964305, 'time_step': 0.018048967505401036, 'observation_error': 0.06386523390159587, 'reward_error': 4.857642131188769e-06, 'variance': 0.06600326176921535}\u001b[0m \u001b[36mstep\u001b[0m=\u001b[35m11130\u001b[0m\n",
      "\u001b[2m2023-09-29 11:17:20\u001b[0m [\u001b[32m\u001b[1minfo     \u001b[0m] \u001b[1mModel parameters are saved to d3rlpy_logs/ProbabilisticEnsembleDynamics_20230929111124/model_11130.pt\u001b[0m\n"
     ]
    },
    {
     "data": {
      "application/vnd.jupyter.widget-view+json": {
       "model_id": "a51cfd6fb28e4f018b68e638f53ad9d8",
       "version_major": 2,
       "version_minor": 0
      },
      "text/plain": [
       "Epoch 22/100:   0%|          | 0/530 [00:00<?, ?it/s]"
      ]
     },
     "metadata": {},
     "output_type": "display_data"
    },
    {
     "name": "stdout",
     "output_type": "stream",
     "text": [
      "\u001b[2m2023-09-29 11:17:31\u001b[0m [\u001b[32m\u001b[1minfo     \u001b[0m] \u001b[1mProbabilisticEnsembleDynamics_20230929111124: epoch=22 step=11660\u001b[0m \u001b[36mepoch\u001b[0m=\u001b[35m22\u001b[0m \u001b[36mmetrics\u001b[0m=\u001b[35m{'time_sample_batch': 0.0003254535063257757, 'time_algorithm_update': 0.017896470033897542, 'loss': -70.22852872812523, 'time_step': 0.01831411640599089, 'observation_error': 0.06605615835447338, 'reward_error': 4.60721693591686e-06, 'variance': 0.06186358347411099}\u001b[0m \u001b[36mstep\u001b[0m=\u001b[35m11660\u001b[0m\n",
      "\u001b[2m2023-09-29 11:17:31\u001b[0m [\u001b[32m\u001b[1minfo     \u001b[0m] \u001b[1mModel parameters are saved to d3rlpy_logs/ProbabilisticEnsembleDynamics_20230929111124/model_11660.pt\u001b[0m\n"
     ]
    },
    {
     "data": {
      "application/vnd.jupyter.widget-view+json": {
       "model_id": "5536d0b92efb4a71acffb43255fc5f3d",
       "version_major": 2,
       "version_minor": 0
      },
      "text/plain": [
       "Epoch 23/100:   0%|          | 0/530 [00:00<?, ?it/s]"
      ]
     },
     "metadata": {},
     "output_type": "display_data"
    },
    {
     "name": "stdout",
     "output_type": "stream",
     "text": [
      "\u001b[2m2023-09-29 11:17:40\u001b[0m [\u001b[32m\u001b[1minfo     \u001b[0m] \u001b[1mProbabilisticEnsembleDynamics_20230929111124: epoch=23 step=12190\u001b[0m \u001b[36mepoch\u001b[0m=\u001b[35m23\u001b[0m \u001b[36mmetrics\u001b[0m=\u001b[35m{'time_sample_batch': 0.0002480844281754404, 'time_algorithm_update': 0.01373051202522134, 'loss': -70.83984474685957, 'time_step': 0.014054630387504145, 'observation_error': 0.05781598093877873, 'reward_error': 5.1193364213631935e-06, 'variance': 0.06438034351702154}\u001b[0m \u001b[36mstep\u001b[0m=\u001b[35m12190\u001b[0m\n",
      "\u001b[2m2023-09-29 11:17:40\u001b[0m [\u001b[32m\u001b[1minfo     \u001b[0m] \u001b[1mModel parameters are saved to d3rlpy_logs/ProbabilisticEnsembleDynamics_20230929111124/model_12190.pt\u001b[0m\n"
     ]
    },
    {
     "data": {
      "application/vnd.jupyter.widget-view+json": {
       "model_id": "e2c3c57d040f49aca62a576be78b8b5c",
       "version_major": 2,
       "version_minor": 0
      },
      "text/plain": [
       "Epoch 24/100:   0%|          | 0/530 [00:00<?, ?it/s]"
      ]
     },
     "metadata": {},
     "output_type": "display_data"
    },
    {
     "name": "stdout",
     "output_type": "stream",
     "text": [
      "\u001b[2m2023-09-29 11:17:54\u001b[0m [\u001b[32m\u001b[1minfo     \u001b[0m] \u001b[1mProbabilisticEnsembleDynamics_20230929111124: epoch=24 step=12720\u001b[0m \u001b[36mepoch\u001b[0m=\u001b[35m24\u001b[0m \u001b[36mmetrics\u001b[0m=\u001b[35m{'time_sample_batch': 0.0004490451992682691, 'time_algorithm_update': 0.023557868543660865, 'loss': -70.78697811072728, 'time_step': 0.024139120443811956, 'observation_error': 0.06007225411129482, 'reward_error': 4.656911369405527e-06, 'variance': 0.06477023289953614}\u001b[0m \u001b[36mstep\u001b[0m=\u001b[35m12720\u001b[0m\n",
      "\u001b[2m2023-09-29 11:17:54\u001b[0m [\u001b[32m\u001b[1minfo     \u001b[0m] \u001b[1mModel parameters are saved to d3rlpy_logs/ProbabilisticEnsembleDynamics_20230929111124/model_12720.pt\u001b[0m\n"
     ]
    },
    {
     "data": {
      "application/vnd.jupyter.widget-view+json": {
       "model_id": "502ccd57d0e746b7828809ac05ca9197",
       "version_major": 2,
       "version_minor": 0
      },
      "text/plain": [
       "Epoch 25/100:   0%|          | 0/530 [00:00<?, ?it/s]"
      ]
     },
     "metadata": {},
     "output_type": "display_data"
    },
    {
     "name": "stdout",
     "output_type": "stream",
     "text": [
      "\u001b[2m2023-09-29 11:18:03\u001b[0m [\u001b[32m\u001b[1minfo     \u001b[0m] \u001b[1mProbabilisticEnsembleDynamics_20230929111124: epoch=25 step=13250\u001b[0m \u001b[36mepoch\u001b[0m=\u001b[35m25\u001b[0m \u001b[36mmetrics\u001b[0m=\u001b[35m{'time_sample_batch': 0.0002714615947795364, 'time_algorithm_update': 0.014593084803167379, 'loss': -71.27660174459781, 'time_step': 0.014943678873889851, 'observation_error': 0.06714805912053613, 'reward_error': 5.194499509730657e-06, 'variance': 0.05943042637506311}\u001b[0m \u001b[36mstep\u001b[0m=\u001b[35m13250\u001b[0m\n",
      "\u001b[2m2023-09-29 11:18:03\u001b[0m [\u001b[32m\u001b[1minfo     \u001b[0m] \u001b[1mModel parameters are saved to d3rlpy_logs/ProbabilisticEnsembleDynamics_20230929111124/model_13250.pt\u001b[0m\n"
     ]
    },
    {
     "data": {
      "application/vnd.jupyter.widget-view+json": {
       "model_id": "4f2943e7730e4331ab6482685df3f81d",
       "version_major": 2,
       "version_minor": 0
      },
      "text/plain": [
       "Epoch 26/100:   0%|          | 0/530 [00:00<?, ?it/s]"
      ]
     },
     "metadata": {},
     "output_type": "display_data"
    },
    {
     "name": "stdout",
     "output_type": "stream",
     "text": [
      "\u001b[2m2023-09-29 11:18:11\u001b[0m [\u001b[32m\u001b[1minfo     \u001b[0m] \u001b[1mProbabilisticEnsembleDynamics_20230929111124: epoch=26 step=13780\u001b[0m \u001b[36mepoch\u001b[0m=\u001b[35m26\u001b[0m \u001b[36mmetrics\u001b[0m=\u001b[35m{'time_sample_batch': 0.0002190140058409493, 'time_algorithm_update': 0.012370561203866634, 'loss': -71.45303584404711, 'time_step': 0.012658020685303886, 'observation_error': 0.05092257880650948, 'reward_error': 4.417132052277008e-06, 'variance': 0.05751030125924735}\u001b[0m \u001b[36mstep\u001b[0m=\u001b[35m13780\u001b[0m\n",
      "\u001b[2m2023-09-29 11:18:11\u001b[0m [\u001b[32m\u001b[1minfo     \u001b[0m] \u001b[1mModel parameters are saved to d3rlpy_logs/ProbabilisticEnsembleDynamics_20230929111124/model_13780.pt\u001b[0m\n"
     ]
    },
    {
     "data": {
      "application/vnd.jupyter.widget-view+json": {
       "model_id": "74e547186a8c432f8f2def17381b1b9e",
       "version_major": 2,
       "version_minor": 0
      },
      "text/plain": [
       "Epoch 27/100:   0%|          | 0/530 [00:00<?, ?it/s]"
      ]
     },
     "metadata": {},
     "output_type": "display_data"
    },
    {
     "name": "stdout",
     "output_type": "stream",
     "text": [
      "\u001b[2m2023-09-29 11:18:19\u001b[0m [\u001b[32m\u001b[1minfo     \u001b[0m] \u001b[1mProbabilisticEnsembleDynamics_20230929111124: epoch=27 step=14310\u001b[0m \u001b[36mepoch\u001b[0m=\u001b[35m27\u001b[0m \u001b[36mmetrics\u001b[0m=\u001b[35m{'time_sample_batch': 0.00021676612350175965, 'time_algorithm_update': 0.01231299841179038, 'loss': -71.28712139489515, 'time_step': 0.01260039266550316, 'observation_error': 0.055466723441066124, 'reward_error': 4.130526414919878e-06, 'variance': 0.05930555979300593}\u001b[0m \u001b[36mstep\u001b[0m=\u001b[35m14310\u001b[0m\n",
      "\u001b[2m2023-09-29 11:18:19\u001b[0m [\u001b[32m\u001b[1minfo     \u001b[0m] \u001b[1mModel parameters are saved to d3rlpy_logs/ProbabilisticEnsembleDynamics_20230929111124/model_14310.pt\u001b[0m\n"
     ]
    },
    {
     "data": {
      "application/vnd.jupyter.widget-view+json": {
       "model_id": "2985ca47a15e4fee8c235fb431c3e36b",
       "version_major": 2,
       "version_minor": 0
      },
      "text/plain": [
       "Epoch 28/100:   0%|          | 0/530 [00:00<?, ?it/s]"
      ]
     },
     "metadata": {},
     "output_type": "display_data"
    },
    {
     "name": "stdout",
     "output_type": "stream",
     "text": [
      "\u001b[2m2023-09-29 11:18:27\u001b[0m [\u001b[32m\u001b[1minfo     \u001b[0m] \u001b[1mProbabilisticEnsembleDynamics_20230929111124: epoch=28 step=14840\u001b[0m \u001b[36mepoch\u001b[0m=\u001b[35m28\u001b[0m \u001b[36mmetrics\u001b[0m=\u001b[35m{'time_sample_batch': 0.00021747148261879975, 'time_algorithm_update': 0.011870245213778514, 'loss': -72.01450376690559, 'time_step': 0.01215164931315296, 'observation_error': 0.05384452977682634, 'reward_error': 4.958277186516445e-06, 'variance': 0.059429284071312434}\u001b[0m \u001b[36mstep\u001b[0m=\u001b[35m14840\u001b[0m\n",
      "\u001b[2m2023-09-29 11:18:27\u001b[0m [\u001b[32m\u001b[1minfo     \u001b[0m] \u001b[1mModel parameters are saved to d3rlpy_logs/ProbabilisticEnsembleDynamics_20230929111124/model_14840.pt\u001b[0m\n"
     ]
    },
    {
     "data": {
      "application/vnd.jupyter.widget-view+json": {
       "model_id": "e9e731a047634db78748d0987679ce36",
       "version_major": 2,
       "version_minor": 0
      },
      "text/plain": [
       "Epoch 29/100:   0%|          | 0/530 [00:00<?, ?it/s]"
      ]
     },
     "metadata": {},
     "output_type": "display_data"
    },
    {
     "name": "stdout",
     "output_type": "stream",
     "text": [
      "\u001b[2m2023-09-29 11:18:34\u001b[0m [\u001b[32m\u001b[1minfo     \u001b[0m] \u001b[1mProbabilisticEnsembleDynamics_20230929111124: epoch=29 step=15370\u001b[0m \u001b[36mepoch\u001b[0m=\u001b[35m29\u001b[0m \u001b[36mmetrics\u001b[0m=\u001b[35m{'time_sample_batch': 0.00020851369174021596, 'time_algorithm_update': 0.011733845494828135, 'loss': -72.74389545242741, 'time_step': 0.012006903144548524, 'observation_error': 0.05612882193147803, 'reward_error': 4.01361379475133e-06, 'variance': 0.05502982951260663}\u001b[0m \u001b[36mstep\u001b[0m=\u001b[35m15370\u001b[0m\n",
      "\u001b[2m2023-09-29 11:18:34\u001b[0m [\u001b[32m\u001b[1minfo     \u001b[0m] \u001b[1mModel parameters are saved to d3rlpy_logs/ProbabilisticEnsembleDynamics_20230929111124/model_15370.pt\u001b[0m\n"
     ]
    },
    {
     "data": {
      "application/vnd.jupyter.widget-view+json": {
       "model_id": "b4cdf1f624d4441f81804a8462902e3d",
       "version_major": 2,
       "version_minor": 0
      },
      "text/plain": [
       "Epoch 30/100:   0%|          | 0/530 [00:00<?, ?it/s]"
      ]
     },
     "metadata": {},
     "output_type": "display_data"
    },
    {
     "name": "stdout",
     "output_type": "stream",
     "text": [
      "\u001b[2m2023-09-29 11:18:42\u001b[0m [\u001b[32m\u001b[1minfo     \u001b[0m] \u001b[1mProbabilisticEnsembleDynamics_20230929111124: epoch=30 step=15900\u001b[0m \u001b[36mepoch\u001b[0m=\u001b[35m30\u001b[0m \u001b[36mmetrics\u001b[0m=\u001b[35m{'time_sample_batch': 0.00023463896985323924, 'time_algorithm_update': 0.012923775978808134, 'loss': -72.60151137226033, 'time_step': 0.013230951777044333, 'observation_error': 0.05133315335196834, 'reward_error': 4.073855459538848e-06, 'variance': 0.051052123275909723}\u001b[0m \u001b[36mstep\u001b[0m=\u001b[35m15900\u001b[0m\n",
      "\u001b[2m2023-09-29 11:18:42\u001b[0m [\u001b[32m\u001b[1minfo     \u001b[0m] \u001b[1mModel parameters are saved to d3rlpy_logs/ProbabilisticEnsembleDynamics_20230929111124/model_15900.pt\u001b[0m\n"
     ]
    },
    {
     "data": {
      "application/vnd.jupyter.widget-view+json": {
       "model_id": "1db7585bca6046538660bccee1479be3",
       "version_major": 2,
       "version_minor": 0
      },
      "text/plain": [
       "Epoch 31/100:   0%|          | 0/530 [00:00<?, ?it/s]"
      ]
     },
     "metadata": {},
     "output_type": "display_data"
    },
    {
     "name": "stdout",
     "output_type": "stream",
     "text": [
      "\u001b[2m2023-09-29 11:18:50\u001b[0m [\u001b[32m\u001b[1minfo     \u001b[0m] \u001b[1mProbabilisticEnsembleDynamics_20230929111124: epoch=31 step=16430\u001b[0m \u001b[36mepoch\u001b[0m=\u001b[35m31\u001b[0m \u001b[36mmetrics\u001b[0m=\u001b[35m{'time_sample_batch': 0.00021287900096965287, 'time_algorithm_update': 0.011945185571346642, 'loss': -72.57351251188314, 'time_step': 0.012222263498126336, 'observation_error': 0.05526679970679322, 'reward_error': 3.5052083203599725e-06, 'variance': 0.051675972801671695}\u001b[0m \u001b[36mstep\u001b[0m=\u001b[35m16430\u001b[0m\n",
      "\u001b[2m2023-09-29 11:18:50\u001b[0m [\u001b[32m\u001b[1minfo     \u001b[0m] \u001b[1mModel parameters are saved to d3rlpy_logs/ProbabilisticEnsembleDynamics_20230929111124/model_16430.pt\u001b[0m\n"
     ]
    },
    {
     "data": {
      "application/vnd.jupyter.widget-view+json": {
       "model_id": "1819c96b2fcd4d53832ff6278b385131",
       "version_major": 2,
       "version_minor": 0
      },
      "text/plain": [
       "Epoch 32/100:   0%|          | 0/530 [00:00<?, ?it/s]"
      ]
     },
     "metadata": {},
     "output_type": "display_data"
    },
    {
     "name": "stdout",
     "output_type": "stream",
     "text": [
      "\u001b[2m2023-09-29 11:18:57\u001b[0m [\u001b[32m\u001b[1minfo     \u001b[0m] \u001b[1mProbabilisticEnsembleDynamics_20230929111124: epoch=32 step=16960\u001b[0m \u001b[36mepoch\u001b[0m=\u001b[35m32\u001b[0m \u001b[36mmetrics\u001b[0m=\u001b[35m{'time_sample_batch': 0.0002157094343653265, 'time_algorithm_update': 0.011805234765106778, 'loss': -72.92850612694363, 'time_step': 0.012086248847673524, 'observation_error': 0.051392913181831756, 'reward_error': 3.938034307162024e-06, 'variance': 0.04942470509570993}\u001b[0m \u001b[36mstep\u001b[0m=\u001b[35m16960\u001b[0m\n",
      "\u001b[2m2023-09-29 11:18:57\u001b[0m [\u001b[32m\u001b[1minfo     \u001b[0m] \u001b[1mModel parameters are saved to d3rlpy_logs/ProbabilisticEnsembleDynamics_20230929111124/model_16960.pt\u001b[0m\n"
     ]
    },
    {
     "data": {
      "application/vnd.jupyter.widget-view+json": {
       "model_id": "0712182303544ee2881cdc3ba1424aef",
       "version_major": 2,
       "version_minor": 0
      },
      "text/plain": [
       "Epoch 33/100:   0%|          | 0/530 [00:00<?, ?it/s]"
      ]
     },
     "metadata": {},
     "output_type": "display_data"
    },
    {
     "name": "stdout",
     "output_type": "stream",
     "text": [
      "\u001b[2m2023-09-29 11:19:05\u001b[0m [\u001b[32m\u001b[1minfo     \u001b[0m] \u001b[1mProbabilisticEnsembleDynamics_20230929111124: epoch=33 step=17490\u001b[0m \u001b[36mepoch\u001b[0m=\u001b[35m33\u001b[0m \u001b[36mmetrics\u001b[0m=\u001b[35m{'time_sample_batch': 0.00021326451931359634, 'time_algorithm_update': 0.011651442185887751, 'loss': -73.42930552464611, 'time_step': 0.01192795510561961, 'observation_error': 0.05453318835381707, 'reward_error': 4.376021708468808e-06, 'variance': 0.045130509826814026}\u001b[0m \u001b[36mstep\u001b[0m=\u001b[35m17490\u001b[0m\n",
      "\u001b[2m2023-09-29 11:19:05\u001b[0m [\u001b[32m\u001b[1minfo     \u001b[0m] \u001b[1mModel parameters are saved to d3rlpy_logs/ProbabilisticEnsembleDynamics_20230929111124/model_17490.pt\u001b[0m\n"
     ]
    },
    {
     "data": {
      "application/vnd.jupyter.widget-view+json": {
       "model_id": "f7e06eca4e68496ab5bd9cf12b258ee0",
       "version_major": 2,
       "version_minor": 0
      },
      "text/plain": [
       "Epoch 34/100:   0%|          | 0/530 [00:00<?, ?it/s]"
      ]
     },
     "metadata": {},
     "output_type": "display_data"
    },
    {
     "name": "stdout",
     "output_type": "stream",
     "text": [
      "\u001b[2m2023-09-29 11:19:13\u001b[0m [\u001b[32m\u001b[1minfo     \u001b[0m] \u001b[1mProbabilisticEnsembleDynamics_20230929111124: epoch=34 step=18020\u001b[0m \u001b[36mepoch\u001b[0m=\u001b[35m34\u001b[0m \u001b[36mmetrics\u001b[0m=\u001b[35m{'time_sample_batch': 0.00023014410486761128, 'time_algorithm_update': 0.012615682493965582, 'loss': -73.44760344883181, 'time_step': 0.012911709749473716, 'observation_error': 0.05038565043159434, 'reward_error': 3.267699977150269e-06, 'variance': 0.04624445905082057}\u001b[0m \u001b[36mstep\u001b[0m=\u001b[35m18020\u001b[0m\n",
      "\u001b[2m2023-09-29 11:19:13\u001b[0m [\u001b[32m\u001b[1minfo     \u001b[0m] \u001b[1mModel parameters are saved to d3rlpy_logs/ProbabilisticEnsembleDynamics_20230929111124/model_18020.pt\u001b[0m\n"
     ]
    },
    {
     "data": {
      "application/vnd.jupyter.widget-view+json": {
       "model_id": "eed83c5c988b44b0bd5916d2c9de690a",
       "version_major": 2,
       "version_minor": 0
      },
      "text/plain": [
       "Epoch 35/100:   0%|          | 0/530 [00:00<?, ?it/s]"
      ]
     },
     "metadata": {},
     "output_type": "display_data"
    },
    {
     "name": "stdout",
     "output_type": "stream",
     "text": [
      "\u001b[2m2023-09-29 11:19:20\u001b[0m [\u001b[32m\u001b[1minfo     \u001b[0m] \u001b[1mProbabilisticEnsembleDynamics_20230929111124: epoch=35 step=18550\u001b[0m \u001b[36mepoch\u001b[0m=\u001b[35m35\u001b[0m \u001b[36mmetrics\u001b[0m=\u001b[35m{'time_sample_batch': 0.00021751916633462007, 'time_algorithm_update': 0.012010991348410553, 'loss': -72.93064856619205, 'time_step': 0.01229529155875152, 'observation_error': 0.05061202782108373, 'reward_error': 3.966337030333665e-06, 'variance': 0.04764189232445529}\u001b[0m \u001b[36mstep\u001b[0m=\u001b[35m18550\u001b[0m\n",
      "\u001b[2m2023-09-29 11:19:20\u001b[0m [\u001b[32m\u001b[1minfo     \u001b[0m] \u001b[1mModel parameters are saved to d3rlpy_logs/ProbabilisticEnsembleDynamics_20230929111124/model_18550.pt\u001b[0m\n"
     ]
    },
    {
     "data": {
      "application/vnd.jupyter.widget-view+json": {
       "model_id": "05f041e50cc94618b2502ded077d6b95",
       "version_major": 2,
       "version_minor": 0
      },
      "text/plain": [
       "Epoch 36/100:   0%|          | 0/530 [00:00<?, ?it/s]"
      ]
     },
     "metadata": {},
     "output_type": "display_data"
    },
    {
     "name": "stdout",
     "output_type": "stream",
     "text": [
      "\u001b[2m2023-09-29 11:19:28\u001b[0m [\u001b[32m\u001b[1minfo     \u001b[0m] \u001b[1mProbabilisticEnsembleDynamics_20230929111124: epoch=36 step=19080\u001b[0m \u001b[36mepoch\u001b[0m=\u001b[35m36\u001b[0m \u001b[36mmetrics\u001b[0m=\u001b[35m{'time_sample_batch': 0.0002229915474945644, 'time_algorithm_update': 0.012258389760863107, 'loss': -73.1264863662, 'time_step': 0.012549001765701007, 'observation_error': 0.050883980126988845, 'reward_error': 3.7910144222657e-06, 'variance': 0.04370624398781017}\u001b[0m \u001b[36mstep\u001b[0m=\u001b[35m19080\u001b[0m\n",
      "\u001b[2m2023-09-29 11:19:28\u001b[0m [\u001b[32m\u001b[1minfo     \u001b[0m] \u001b[1mModel parameters are saved to d3rlpy_logs/ProbabilisticEnsembleDynamics_20230929111124/model_19080.pt\u001b[0m\n"
     ]
    },
    {
     "data": {
      "application/vnd.jupyter.widget-view+json": {
       "model_id": "f9067883608b44e8973b67d82144a110",
       "version_major": 2,
       "version_minor": 0
      },
      "text/plain": [
       "Epoch 37/100:   0%|          | 0/530 [00:00<?, ?it/s]"
      ]
     },
     "metadata": {},
     "output_type": "display_data"
    },
    {
     "name": "stdout",
     "output_type": "stream",
     "text": [
      "\u001b[2m2023-09-29 11:19:35\u001b[0m [\u001b[32m\u001b[1minfo     \u001b[0m] \u001b[1mProbabilisticEnsembleDynamics_20230929111124: epoch=37 step=19610\u001b[0m \u001b[36mepoch\u001b[0m=\u001b[35m37\u001b[0m \u001b[36mmetrics\u001b[0m=\u001b[35m{'time_sample_batch': 0.0002108915796819723, 'time_algorithm_update': 0.011969457932238308, 'loss': -73.60528620234075, 'time_step': 0.012247901592614515, 'observation_error': 0.04517218962564351, 'reward_error': 4.3864927844845904e-06, 'variance': 0.04206439548020809}\u001b[0m \u001b[36mstep\u001b[0m=\u001b[35m19610\u001b[0m\n",
      "\u001b[2m2023-09-29 11:19:35\u001b[0m [\u001b[32m\u001b[1minfo     \u001b[0m] \u001b[1mModel parameters are saved to d3rlpy_logs/ProbabilisticEnsembleDynamics_20230929111124/model_19610.pt\u001b[0m\n"
     ]
    },
    {
     "data": {
      "application/vnd.jupyter.widget-view+json": {
       "model_id": "aad231fb016a4a6897cc65d524213566",
       "version_major": 2,
       "version_minor": 0
      },
      "text/plain": [
       "Epoch 38/100:   0%|          | 0/530 [00:00<?, ?it/s]"
      ]
     },
     "metadata": {},
     "output_type": "display_data"
    },
    {
     "name": "stdout",
     "output_type": "stream",
     "text": [
      "\u001b[2m2023-09-29 11:19:43\u001b[0m [\u001b[32m\u001b[1minfo     \u001b[0m] \u001b[1mProbabilisticEnsembleDynamics_20230929111124: epoch=38 step=20140\u001b[0m \u001b[36mepoch\u001b[0m=\u001b[35m38\u001b[0m \u001b[36mmetrics\u001b[0m=\u001b[35m{'time_sample_batch': 0.00022001131525579488, 'time_algorithm_update': 0.012160756902874641, 'loss': -73.9924356748473, 'time_step': 0.012448983372382398, 'observation_error': 0.046050829496724746, 'reward_error': 4.339441269951612e-06, 'variance': 0.041669609716905955}\u001b[0m \u001b[36mstep\u001b[0m=\u001b[35m20140\u001b[0m\n",
      "\u001b[2m2023-09-29 11:19:43\u001b[0m [\u001b[32m\u001b[1minfo     \u001b[0m] \u001b[1mModel parameters are saved to d3rlpy_logs/ProbabilisticEnsembleDynamics_20230929111124/model_20140.pt\u001b[0m\n"
     ]
    },
    {
     "data": {
      "application/vnd.jupyter.widget-view+json": {
       "model_id": "4524037f8fa14803ba16233170a7b69f",
       "version_major": 2,
       "version_minor": 0
      },
      "text/plain": [
       "Epoch 39/100:   0%|          | 0/530 [00:00<?, ?it/s]"
      ]
     },
     "metadata": {},
     "output_type": "display_data"
    },
    {
     "name": "stdout",
     "output_type": "stream",
     "text": [
      "\u001b[2m2023-09-29 11:19:51\u001b[0m [\u001b[32m\u001b[1minfo     \u001b[0m] \u001b[1mProbabilisticEnsembleDynamics_20230929111124: epoch=39 step=20670\u001b[0m \u001b[36mepoch\u001b[0m=\u001b[35m39\u001b[0m \u001b[36mmetrics\u001b[0m=\u001b[35m{'time_sample_batch': 0.00023296554133577166, 'time_algorithm_update': 0.01261278323407443, 'loss': -73.78414862830684, 'time_step': 0.012919831725786318, 'observation_error': 0.040919099443158996, 'reward_error': 4.113512664627314e-06, 'variance': 0.03938303311409193}\u001b[0m \u001b[36mstep\u001b[0m=\u001b[35m20670\u001b[0m\n",
      "\u001b[2m2023-09-29 11:19:51\u001b[0m [\u001b[32m\u001b[1minfo     \u001b[0m] \u001b[1mModel parameters are saved to d3rlpy_logs/ProbabilisticEnsembleDynamics_20230929111124/model_20670.pt\u001b[0m\n"
     ]
    },
    {
     "data": {
      "application/vnd.jupyter.widget-view+json": {
       "model_id": "d4c6f2942379401fa71aae99e332a19b",
       "version_major": 2,
       "version_minor": 0
      },
      "text/plain": [
       "Epoch 40/100:   0%|          | 0/530 [00:00<?, ?it/s]"
      ]
     },
     "metadata": {},
     "output_type": "display_data"
    },
    {
     "name": "stdout",
     "output_type": "stream",
     "text": [
      "\u001b[2m2023-09-29 11:19:59\u001b[0m [\u001b[32m\u001b[1minfo     \u001b[0m] \u001b[1mProbabilisticEnsembleDynamics_20230929111124: epoch=40 step=21200\u001b[0m \u001b[36mepoch\u001b[0m=\u001b[35m40\u001b[0m \u001b[36mmetrics\u001b[0m=\u001b[35m{'time_sample_batch': 0.0002263869879380712, 'time_algorithm_update': 0.012424103269037211, 'loss': -73.7735917541216, 'time_step': 0.012720898862154979, 'observation_error': 0.04918248094133487, 'reward_error': 3.264055990994634e-06, 'variance': 0.039208464769263006}\u001b[0m \u001b[36mstep\u001b[0m=\u001b[35m21200\u001b[0m\n",
      "\u001b[2m2023-09-29 11:19:59\u001b[0m [\u001b[32m\u001b[1minfo     \u001b[0m] \u001b[1mModel parameters are saved to d3rlpy_logs/ProbabilisticEnsembleDynamics_20230929111124/model_21200.pt\u001b[0m\n"
     ]
    },
    {
     "data": {
      "application/vnd.jupyter.widget-view+json": {
       "model_id": "338edca8c81e45b98333787b10156c1f",
       "version_major": 2,
       "version_minor": 0
      },
      "text/plain": [
       "Epoch 41/100:   0%|          | 0/530 [00:00<?, ?it/s]"
      ]
     },
     "metadata": {},
     "output_type": "display_data"
    },
    {
     "name": "stdout",
     "output_type": "stream",
     "text": [
      "\u001b[2m2023-09-29 11:20:06\u001b[0m [\u001b[32m\u001b[1minfo     \u001b[0m] \u001b[1mProbabilisticEnsembleDynamics_20230929111124: epoch=41 step=21730\u001b[0m \u001b[36mepoch\u001b[0m=\u001b[35m41\u001b[0m \u001b[36mmetrics\u001b[0m=\u001b[35m{'time_sample_batch': 0.00021726455328599463, 'time_algorithm_update': 0.01190438540476673, 'loss': -74.81808409780827, 'time_step': 0.012185542988327315, 'observation_error': 0.04441194108868245, 'reward_error': 3.5585025797042944e-06, 'variance': 0.03525826544713498}\u001b[0m \u001b[36mstep\u001b[0m=\u001b[35m21730\u001b[0m\n",
      "\u001b[2m2023-09-29 11:20:06\u001b[0m [\u001b[32m\u001b[1minfo     \u001b[0m] \u001b[1mModel parameters are saved to d3rlpy_logs/ProbabilisticEnsembleDynamics_20230929111124/model_21730.pt\u001b[0m\n"
     ]
    },
    {
     "data": {
      "application/vnd.jupyter.widget-view+json": {
       "model_id": "9208b3e4b79c4891af5a13cea2dde3d5",
       "version_major": 2,
       "version_minor": 0
      },
      "text/plain": [
       "Epoch 42/100:   0%|          | 0/530 [00:00<?, ?it/s]"
      ]
     },
     "metadata": {},
     "output_type": "display_data"
    },
    {
     "name": "stdout",
     "output_type": "stream",
     "text": [
      "\u001b[2m2023-09-29 11:20:14\u001b[0m [\u001b[32m\u001b[1minfo     \u001b[0m] \u001b[1mProbabilisticEnsembleDynamics_20230929111124: epoch=42 step=22260\u001b[0m \u001b[36mepoch\u001b[0m=\u001b[35m42\u001b[0m \u001b[36mmetrics\u001b[0m=\u001b[35m{'time_sample_batch': 0.0002391630748532853, 'time_algorithm_update': 0.012601507384822054, 'loss': -74.53842510727216, 'time_step': 0.012909117734657144, 'observation_error': 0.04592974843504896, 'reward_error': 6.6093592656777895e-06, 'variance': 0.0361174887163605}\u001b[0m \u001b[36mstep\u001b[0m=\u001b[35m22260\u001b[0m\n",
      "\u001b[2m2023-09-29 11:20:14\u001b[0m [\u001b[32m\u001b[1minfo     \u001b[0m] \u001b[1mModel parameters are saved to d3rlpy_logs/ProbabilisticEnsembleDynamics_20230929111124/model_22260.pt\u001b[0m\n"
     ]
    },
    {
     "data": {
      "application/vnd.jupyter.widget-view+json": {
       "model_id": "d32ea1e645cd4c88bbb97ffdf35fa10a",
       "version_major": 2,
       "version_minor": 0
      },
      "text/plain": [
       "Epoch 43/100:   0%|          | 0/530 [00:00<?, ?it/s]"
      ]
     },
     "metadata": {},
     "output_type": "display_data"
    },
    {
     "name": "stdout",
     "output_type": "stream",
     "text": [
      "\u001b[2m2023-09-29 11:20:22\u001b[0m [\u001b[32m\u001b[1minfo     \u001b[0m] \u001b[1mProbabilisticEnsembleDynamics_20230929111124: epoch=43 step=22790\u001b[0m \u001b[36mepoch\u001b[0m=\u001b[35m43\u001b[0m \u001b[36mmetrics\u001b[0m=\u001b[35m{'time_sample_batch': 0.00021201529592837926, 'time_algorithm_update': 0.011837733016823823, 'loss': -74.61355973549608, 'time_step': 0.01211660493094966, 'observation_error': 0.04207649422280918, 'reward_error': 3.941460868684793e-06, 'variance': 0.03317257495411961}\u001b[0m \u001b[36mstep\u001b[0m=\u001b[35m22790\u001b[0m\n",
      "\u001b[2m2023-09-29 11:20:22\u001b[0m [\u001b[32m\u001b[1minfo     \u001b[0m] \u001b[1mModel parameters are saved to d3rlpy_logs/ProbabilisticEnsembleDynamics_20230929111124/model_22790.pt\u001b[0m\n"
     ]
    },
    {
     "data": {
      "application/vnd.jupyter.widget-view+json": {
       "model_id": "93908cf5f6654c7ba3bfc97416967edc",
       "version_major": 2,
       "version_minor": 0
      },
      "text/plain": [
       "Epoch 44/100:   0%|          | 0/530 [00:00<?, ?it/s]"
      ]
     },
     "metadata": {},
     "output_type": "display_data"
    },
    {
     "name": "stdout",
     "output_type": "stream",
     "text": [
      "\u001b[2m2023-09-29 11:20:30\u001b[0m [\u001b[32m\u001b[1minfo     \u001b[0m] \u001b[1mProbabilisticEnsembleDynamics_20230929111124: epoch=44 step=23320\u001b[0m \u001b[36mepoch\u001b[0m=\u001b[35m44\u001b[0m \u001b[36mmetrics\u001b[0m=\u001b[35m{'time_sample_batch': 0.00023745635770401865, 'time_algorithm_update': 0.01288957011024907, 'loss': -74.48083333069424, 'time_step': 0.013197886269047575, 'observation_error': 0.041748275943728305, 'reward_error': 3.459535775680124e-06, 'variance': 0.03218577432978345}\u001b[0m \u001b[36mstep\u001b[0m=\u001b[35m23320\u001b[0m\n",
      "\u001b[2m2023-09-29 11:20:30\u001b[0m [\u001b[32m\u001b[1minfo     \u001b[0m] \u001b[1mModel parameters are saved to d3rlpy_logs/ProbabilisticEnsembleDynamics_20230929111124/model_23320.pt\u001b[0m\n"
     ]
    },
    {
     "data": {
      "application/vnd.jupyter.widget-view+json": {
       "model_id": "3238dd99de294467a11bfef655967e36",
       "version_major": 2,
       "version_minor": 0
      },
      "text/plain": [
       "Epoch 45/100:   0%|          | 0/530 [00:00<?, ?it/s]"
      ]
     },
     "metadata": {},
     "output_type": "display_data"
    },
    {
     "name": "stdout",
     "output_type": "stream",
     "text": [
      "\u001b[2m2023-09-29 11:20:37\u001b[0m [\u001b[32m\u001b[1minfo     \u001b[0m] \u001b[1mProbabilisticEnsembleDynamics_20230929111124: epoch=45 step=23850\u001b[0m \u001b[36mepoch\u001b[0m=\u001b[35m45\u001b[0m \u001b[36mmetrics\u001b[0m=\u001b[35m{'time_sample_batch': 0.00020806384536455261, 'time_algorithm_update': 0.01183601235443691, 'loss': -74.43943344512076, 'time_step': 0.012109881077172622, 'observation_error': 0.04931009454051875, 'reward_error': 3.4262041211028717e-06, 'variance': 0.03174327813929715}\u001b[0m \u001b[36mstep\u001b[0m=\u001b[35m23850\u001b[0m\n",
      "\u001b[2m2023-09-29 11:20:37\u001b[0m [\u001b[32m\u001b[1minfo     \u001b[0m] \u001b[1mModel parameters are saved to d3rlpy_logs/ProbabilisticEnsembleDynamics_20230929111124/model_23850.pt\u001b[0m\n"
     ]
    },
    {
     "data": {
      "application/vnd.jupyter.widget-view+json": {
       "model_id": "11a3b376f6bb44bf855a9c50836291e0",
       "version_major": 2,
       "version_minor": 0
      },
      "text/plain": [
       "Epoch 46/100:   0%|          | 0/530 [00:00<?, ?it/s]"
      ]
     },
     "metadata": {},
     "output_type": "display_data"
    },
    {
     "name": "stdout",
     "output_type": "stream",
     "text": [
      "\u001b[2m2023-09-29 11:20:45\u001b[0m [\u001b[32m\u001b[1minfo     \u001b[0m] \u001b[1mProbabilisticEnsembleDynamics_20230929111124: epoch=46 step=24380\u001b[0m \u001b[36mepoch\u001b[0m=\u001b[35m46\u001b[0m \u001b[36mmetrics\u001b[0m=\u001b[35m{'time_sample_batch': 0.0002100521663449845, 'time_algorithm_update': 0.011770754940104934, 'loss': -75.16069973639722, 'time_step': 0.012045175624343584, 'observation_error': 0.03744878806288466, 'reward_error': 2.943187097116264e-06, 'variance': 0.029396880819332318}\u001b[0m \u001b[36mstep\u001b[0m=\u001b[35m24380\u001b[0m\n",
      "\u001b[2m2023-09-29 11:20:45\u001b[0m [\u001b[32m\u001b[1minfo     \u001b[0m] \u001b[1mModel parameters are saved to d3rlpy_logs/ProbabilisticEnsembleDynamics_20230929111124/model_24380.pt\u001b[0m\n"
     ]
    },
    {
     "data": {
      "application/vnd.jupyter.widget-view+json": {
       "model_id": "3d14aa88be1445abac2fe31526b0526e",
       "version_major": 2,
       "version_minor": 0
      },
      "text/plain": [
       "Epoch 47/100:   0%|          | 0/530 [00:00<?, ?it/s]"
      ]
     },
     "metadata": {},
     "output_type": "display_data"
    },
    {
     "name": "stdout",
     "output_type": "stream",
     "text": [
      "\u001b[2m2023-09-29 11:20:52\u001b[0m [\u001b[32m\u001b[1minfo     \u001b[0m] \u001b[1mProbabilisticEnsembleDynamics_20230929111124: epoch=47 step=24910\u001b[0m \u001b[36mepoch\u001b[0m=\u001b[35m47\u001b[0m \u001b[36mmetrics\u001b[0m=\u001b[35m{'time_sample_batch': 0.0002137998365006357, 'time_algorithm_update': 0.011913205992500737, 'loss': -74.12571661967152, 'time_step': 0.012193362218029094, 'observation_error': 0.046165878134458826, 'reward_error': 2.8876133615663027e-06, 'variance': 0.030368684492606532}\u001b[0m \u001b[36mstep\u001b[0m=\u001b[35m24910\u001b[0m\n",
      "\u001b[2m2023-09-29 11:20:52\u001b[0m [\u001b[32m\u001b[1minfo     \u001b[0m] \u001b[1mModel parameters are saved to d3rlpy_logs/ProbabilisticEnsembleDynamics_20230929111124/model_24910.pt\u001b[0m\n"
     ]
    },
    {
     "data": {
      "application/vnd.jupyter.widget-view+json": {
       "model_id": "48e59e6c50c54ab18bb5ac2190a75f6a",
       "version_major": 2,
       "version_minor": 0
      },
      "text/plain": [
       "Epoch 48/100:   0%|          | 0/530 [00:00<?, ?it/s]"
      ]
     },
     "metadata": {},
     "output_type": "display_data"
    },
    {
     "name": "stdout",
     "output_type": "stream",
     "text": [
      "\u001b[2m2023-09-29 11:20:59\u001b[0m [\u001b[32m\u001b[1minfo     \u001b[0m] \u001b[1mProbabilisticEnsembleDynamics_20230929111124: epoch=48 step=25440\u001b[0m \u001b[36mepoch\u001b[0m=\u001b[35m48\u001b[0m \u001b[36mmetrics\u001b[0m=\u001b[35m{'time_sample_batch': 0.00020905350739101194, 'time_algorithm_update': 0.01177555075231588, 'loss': -74.61441153580287, 'time_step': 0.01204820713906918, 'observation_error': 0.03966082534654918, 'reward_error': 3.1220784310696565e-06, 'variance': 0.02736604698455948}\u001b[0m \u001b[36mstep\u001b[0m=\u001b[35m25440\u001b[0m\n",
      "\u001b[2m2023-09-29 11:21:00\u001b[0m [\u001b[32m\u001b[1minfo     \u001b[0m] \u001b[1mModel parameters are saved to d3rlpy_logs/ProbabilisticEnsembleDynamics_20230929111124/model_25440.pt\u001b[0m\n"
     ]
    },
    {
     "data": {
      "application/vnd.jupyter.widget-view+json": {
       "model_id": "e2477358e24444c89302bfb812bf6db8",
       "version_major": 2,
       "version_minor": 0
      },
      "text/plain": [
       "Epoch 49/100:   0%|          | 0/530 [00:00<?, ?it/s]"
      ]
     },
     "metadata": {},
     "output_type": "display_data"
    },
    {
     "name": "stdout",
     "output_type": "stream",
     "text": [
      "\u001b[2m2023-09-29 11:21:07\u001b[0m [\u001b[32m\u001b[1minfo     \u001b[0m] \u001b[1mProbabilisticEnsembleDynamics_20230929111124: epoch=49 step=25970\u001b[0m \u001b[36mepoch\u001b[0m=\u001b[35m49\u001b[0m \u001b[36mmetrics\u001b[0m=\u001b[35m{'time_sample_batch': 0.0002163792556186892, 'time_algorithm_update': 0.012028981154819705, 'loss': -74.9626923831004, 'time_step': 0.012310436086834601, 'observation_error': 0.03828628911082982, 'reward_error': 3.610855162217695e-06, 'variance': 0.028245123177694238}\u001b[0m \u001b[36mstep\u001b[0m=\u001b[35m25970\u001b[0m\n",
      "\u001b[2m2023-09-29 11:21:07\u001b[0m [\u001b[32m\u001b[1minfo     \u001b[0m] \u001b[1mModel parameters are saved to d3rlpy_logs/ProbabilisticEnsembleDynamics_20230929111124/model_25970.pt\u001b[0m\n"
     ]
    },
    {
     "data": {
      "application/vnd.jupyter.widget-view+json": {
       "model_id": "6f274d1078764c3c916e705c73450c01",
       "version_major": 2,
       "version_minor": 0
      },
      "text/plain": [
       "Epoch 50/100:   0%|          | 0/530 [00:00<?, ?it/s]"
      ]
     },
     "metadata": {},
     "output_type": "display_data"
    },
    {
     "name": "stdout",
     "output_type": "stream",
     "text": [
      "\u001b[2m2023-09-29 11:21:15\u001b[0m [\u001b[32m\u001b[1minfo     \u001b[0m] \u001b[1mProbabilisticEnsembleDynamics_20230929111124: epoch=50 step=26500\u001b[0m \u001b[36mepoch\u001b[0m=\u001b[35m50\u001b[0m \u001b[36mmetrics\u001b[0m=\u001b[35m{'time_sample_batch': 0.00021815120049242703, 'time_algorithm_update': 0.011867742268544323, 'loss': -75.45014302955484, 'time_step': 0.012149554378581498, 'observation_error': 0.038574360795443484, 'reward_error': 2.3459218646287318e-06, 'variance': 0.026728652089972323}\u001b[0m \u001b[36mstep\u001b[0m=\u001b[35m26500\u001b[0m\n",
      "\u001b[2m2023-09-29 11:21:15\u001b[0m [\u001b[32m\u001b[1minfo     \u001b[0m] \u001b[1mModel parameters are saved to d3rlpy_logs/ProbabilisticEnsembleDynamics_20230929111124/model_26500.pt\u001b[0m\n"
     ]
    },
    {
     "data": {
      "application/vnd.jupyter.widget-view+json": {
       "model_id": "c6e3ff917ceb44898c32455e641662d3",
       "version_major": 2,
       "version_minor": 0
      },
      "text/plain": [
       "Epoch 51/100:   0%|          | 0/530 [00:00<?, ?it/s]"
      ]
     },
     "metadata": {},
     "output_type": "display_data"
    },
    {
     "name": "stdout",
     "output_type": "stream",
     "text": [
      "\u001b[2m2023-09-29 11:21:22\u001b[0m [\u001b[32m\u001b[1minfo     \u001b[0m] \u001b[1mProbabilisticEnsembleDynamics_20230929111124: epoch=51 step=27030\u001b[0m \u001b[36mepoch\u001b[0m=\u001b[35m51\u001b[0m \u001b[36mmetrics\u001b[0m=\u001b[35m{'time_sample_batch': 0.00020969498832270784, 'time_algorithm_update': 0.011863224911239912, 'loss': -75.0148216571448, 'time_step': 0.012137780099544885, 'observation_error': 0.036071390067189214, 'reward_error': 2.912674482441612e-06, 'variance': 0.02644411706288823}\u001b[0m \u001b[36mstep\u001b[0m=\u001b[35m27030\u001b[0m\n",
      "\u001b[2m2023-09-29 11:21:22\u001b[0m [\u001b[32m\u001b[1minfo     \u001b[0m] \u001b[1mModel parameters are saved to d3rlpy_logs/ProbabilisticEnsembleDynamics_20230929111124/model_27030.pt\u001b[0m\n"
     ]
    },
    {
     "data": {
      "application/vnd.jupyter.widget-view+json": {
       "model_id": "eee2c0a43ac84f4aba6547b163bbd066",
       "version_major": 2,
       "version_minor": 0
      },
      "text/plain": [
       "Epoch 52/100:   0%|          | 0/530 [00:00<?, ?it/s]"
      ]
     },
     "metadata": {},
     "output_type": "display_data"
    },
    {
     "name": "stdout",
     "output_type": "stream",
     "text": [
      "\u001b[2m2023-09-29 11:21:30\u001b[0m [\u001b[32m\u001b[1minfo     \u001b[0m] \u001b[1mProbabilisticEnsembleDynamics_20230929111124: epoch=52 step=27560\u001b[0m \u001b[36mepoch\u001b[0m=\u001b[35m52\u001b[0m \u001b[36mmetrics\u001b[0m=\u001b[35m{'time_sample_batch': 0.00021631627712609633, 'time_algorithm_update': 0.011903399341511276, 'loss': -75.04825341926431, 'time_step': 0.01218645932539454, 'observation_error': 0.04224147702533676, 'reward_error': 2.7790456640673815e-06, 'variance': 0.02720507225952064}\u001b[0m \u001b[36mstep\u001b[0m=\u001b[35m27560\u001b[0m\n",
      "\u001b[2m2023-09-29 11:21:30\u001b[0m [\u001b[32m\u001b[1minfo     \u001b[0m] \u001b[1mModel parameters are saved to d3rlpy_logs/ProbabilisticEnsembleDynamics_20230929111124/model_27560.pt\u001b[0m\n"
     ]
    },
    {
     "data": {
      "application/vnd.jupyter.widget-view+json": {
       "model_id": "66f4031e2e514c58be7d462afbc6d892",
       "version_major": 2,
       "version_minor": 0
      },
      "text/plain": [
       "Epoch 53/100:   0%|          | 0/530 [00:00<?, ?it/s]"
      ]
     },
     "metadata": {},
     "output_type": "display_data"
    },
    {
     "name": "stdout",
     "output_type": "stream",
     "text": [
      "\u001b[2m2023-09-29 11:21:37\u001b[0m [\u001b[32m\u001b[1minfo     \u001b[0m] \u001b[1mProbabilisticEnsembleDynamics_20230929111124: epoch=53 step=28090\u001b[0m \u001b[36mepoch\u001b[0m=\u001b[35m53\u001b[0m \u001b[36mmetrics\u001b[0m=\u001b[35m{'time_sample_batch': 0.00021650026429374263, 'time_algorithm_update': 0.0120696855041216, 'loss': -75.1842740184856, 'time_step': 0.012352115703078936, 'observation_error': 0.03827753456829803, 'reward_error': 3.0384350822293994e-06, 'variance': 0.026049907924351384}\u001b[0m \u001b[36mstep\u001b[0m=\u001b[35m28090\u001b[0m\n",
      "\u001b[2m2023-09-29 11:21:37\u001b[0m [\u001b[32m\u001b[1minfo     \u001b[0m] \u001b[1mModel parameters are saved to d3rlpy_logs/ProbabilisticEnsembleDynamics_20230929111124/model_28090.pt\u001b[0m\n"
     ]
    },
    {
     "data": {
      "application/vnd.jupyter.widget-view+json": {
       "model_id": "7d0dcdd5909642b282ed2d3bef7a5dd0",
       "version_major": 2,
       "version_minor": 0
      },
      "text/plain": [
       "Epoch 54/100:   0%|          | 0/530 [00:00<?, ?it/s]"
      ]
     },
     "metadata": {},
     "output_type": "display_data"
    },
    {
     "name": "stdout",
     "output_type": "stream",
     "text": [
      "\u001b[2m2023-09-29 11:21:45\u001b[0m [\u001b[32m\u001b[1minfo     \u001b[0m] \u001b[1mProbabilisticEnsembleDynamics_20230929111124: epoch=54 step=28620\u001b[0m \u001b[36mepoch\u001b[0m=\u001b[35m54\u001b[0m \u001b[36mmetrics\u001b[0m=\u001b[35m{'time_sample_batch': 0.00021030947847186393, 'time_algorithm_update': 0.011652688260348338, 'loss': -74.61505893491349, 'time_step': 0.011928573194539771, 'observation_error': 0.03579394065082487, 'reward_error': 2.418002433646334e-06, 'variance': 0.025221960122654756}\u001b[0m \u001b[36mstep\u001b[0m=\u001b[35m28620\u001b[0m\n",
      "\u001b[2m2023-09-29 11:21:45\u001b[0m [\u001b[32m\u001b[1minfo     \u001b[0m] \u001b[1mModel parameters are saved to d3rlpy_logs/ProbabilisticEnsembleDynamics_20230929111124/model_28620.pt\u001b[0m\n"
     ]
    },
    {
     "data": {
      "application/vnd.jupyter.widget-view+json": {
       "model_id": "2e79e347de0643c780202f4fae33541d",
       "version_major": 2,
       "version_minor": 0
      },
      "text/plain": [
       "Epoch 55/100:   0%|          | 0/530 [00:00<?, ?it/s]"
      ]
     },
     "metadata": {},
     "output_type": "display_data"
    },
    {
     "name": "stdout",
     "output_type": "stream",
     "text": [
      "\u001b[2m2023-09-29 11:21:52\u001b[0m [\u001b[32m\u001b[1minfo     \u001b[0m] \u001b[1mProbabilisticEnsembleDynamics_20230929111124: epoch=55 step=29150\u001b[0m \u001b[36mepoch\u001b[0m=\u001b[35m55\u001b[0m \u001b[36mmetrics\u001b[0m=\u001b[35m{'time_sample_batch': 0.00021469683017370835, 'time_algorithm_update': 0.011885631759211703, 'loss': -75.59899183939088, 'time_step': 0.012166073637188605, 'observation_error': 0.03479271606822143, 'reward_error': 6.4806649624640955e-06, 'variance': 0.022986109668235232}\u001b[0m \u001b[36mstep\u001b[0m=\u001b[35m29150\u001b[0m\n",
      "\u001b[2m2023-09-29 11:21:52\u001b[0m [\u001b[32m\u001b[1minfo     \u001b[0m] \u001b[1mModel parameters are saved to d3rlpy_logs/ProbabilisticEnsembleDynamics_20230929111124/model_29150.pt\u001b[0m\n"
     ]
    },
    {
     "data": {
      "application/vnd.jupyter.widget-view+json": {
       "model_id": "47e5cddec8b1465db11ce4e710d4f1ef",
       "version_major": 2,
       "version_minor": 0
      },
      "text/plain": [
       "Epoch 56/100:   0%|          | 0/530 [00:00<?, ?it/s]"
      ]
     },
     "metadata": {},
     "output_type": "display_data"
    },
    {
     "name": "stdout",
     "output_type": "stream",
     "text": [
      "\u001b[2m2023-09-29 11:22:03\u001b[0m [\u001b[32m\u001b[1minfo     \u001b[0m] \u001b[1mProbabilisticEnsembleDynamics_20230929111124: epoch=56 step=29680\u001b[0m \u001b[36mepoch\u001b[0m=\u001b[35m56\u001b[0m \u001b[36mmetrics\u001b[0m=\u001b[35m{'time_sample_batch': 0.0003204674090979234, 'time_algorithm_update': 0.017131571949652907, 'loss': -75.2902534772765, 'time_step': 0.01755140727421023, 'observation_error': 0.03393886709624912, 'reward_error': 2.6423067929199885e-06, 'variance': 0.023349863636381113}\u001b[0m \u001b[36mstep\u001b[0m=\u001b[35m29680\u001b[0m\n",
      "\u001b[2m2023-09-29 11:22:03\u001b[0m [\u001b[32m\u001b[1minfo     \u001b[0m] \u001b[1mModel parameters are saved to d3rlpy_logs/ProbabilisticEnsembleDynamics_20230929111124/model_29680.pt\u001b[0m\n"
     ]
    },
    {
     "data": {
      "application/vnd.jupyter.widget-view+json": {
       "model_id": "a3f71395dc9d4d0a8c871e9d84353569",
       "version_major": 2,
       "version_minor": 0
      },
      "text/plain": [
       "Epoch 57/100:   0%|          | 0/530 [00:00<?, ?it/s]"
      ]
     },
     "metadata": {},
     "output_type": "display_data"
    },
    {
     "name": "stdout",
     "output_type": "stream",
     "text": [
      "\u001b[2m2023-09-29 11:22:13\u001b[0m [\u001b[32m\u001b[1minfo     \u001b[0m] \u001b[1mProbabilisticEnsembleDynamics_20230929111124: epoch=57 step=30210\u001b[0m \u001b[36mepoch\u001b[0m=\u001b[35m57\u001b[0m \u001b[36mmetrics\u001b[0m=\u001b[35m{'time_sample_batch': 0.00032007334367284234, 'time_algorithm_update': 0.016416756611949992, 'loss': -76.38465303205095, 'time_step': 0.016822188755251325, 'observation_error': 0.03439911739217015, 'reward_error': 4.078634765525912e-06, 'variance': 0.023176009929490475}\u001b[0m \u001b[36mstep\u001b[0m=\u001b[35m30210\u001b[0m\n",
      "\u001b[2m2023-09-29 11:22:13\u001b[0m [\u001b[32m\u001b[1minfo     \u001b[0m] \u001b[1mModel parameters are saved to d3rlpy_logs/ProbabilisticEnsembleDynamics_20230929111124/model_30210.pt\u001b[0m\n"
     ]
    },
    {
     "data": {
      "application/vnd.jupyter.widget-view+json": {
       "model_id": "37b37004e64d4db48f3d7c4f40f76a17",
       "version_major": 2,
       "version_minor": 0
      },
      "text/plain": [
       "Epoch 58/100:   0%|          | 0/530 [00:00<?, ?it/s]"
      ]
     },
     "metadata": {},
     "output_type": "display_data"
    },
    {
     "name": "stdout",
     "output_type": "stream",
     "text": [
      "\u001b[2m2023-09-29 11:22:23\u001b[0m [\u001b[32m\u001b[1minfo     \u001b[0m] \u001b[1mProbabilisticEnsembleDynamics_20230929111124: epoch=58 step=30740\u001b[0m \u001b[36mepoch\u001b[0m=\u001b[35m58\u001b[0m \u001b[36mmetrics\u001b[0m=\u001b[35m{'time_sample_batch': 0.0002819272707093437, 'time_algorithm_update': 0.014988862793400603, 'loss': -76.42608065335256, 'time_step': 0.015350526683735398, 'observation_error': 0.037157694396361726, 'reward_error': 2.287662458052497e-06, 'variance': 0.021805680911873737}\u001b[0m \u001b[36mstep\u001b[0m=\u001b[35m30740\u001b[0m\n",
      "\u001b[2m2023-09-29 11:22:23\u001b[0m [\u001b[32m\u001b[1minfo     \u001b[0m] \u001b[1mModel parameters are saved to d3rlpy_logs/ProbabilisticEnsembleDynamics_20230929111124/model_30740.pt\u001b[0m\n"
     ]
    },
    {
     "data": {
      "application/vnd.jupyter.widget-view+json": {
       "model_id": "e6c0032c225647dfa260164a60598825",
       "version_major": 2,
       "version_minor": 0
      },
      "text/plain": [
       "Epoch 59/100:   0%|          | 0/530 [00:00<?, ?it/s]"
      ]
     },
     "metadata": {},
     "output_type": "display_data"
    },
    {
     "name": "stdout",
     "output_type": "stream",
     "text": [
      "\u001b[2m2023-09-29 11:22:32\u001b[0m [\u001b[32m\u001b[1minfo     \u001b[0m] \u001b[1mProbabilisticEnsembleDynamics_20230929111124: epoch=59 step=31270\u001b[0m \u001b[36mepoch\u001b[0m=\u001b[35m59\u001b[0m \u001b[36mmetrics\u001b[0m=\u001b[35m{'time_sample_batch': 0.00029003440209154815, 'time_algorithm_update': 0.015174890014360535, 'loss': -75.12382061436492, 'time_step': 0.015549993964861024, 'observation_error': 0.031240384780602124, 'reward_error': 2.2690771700197143e-06, 'variance': 0.02177502499956835}\u001b[0m \u001b[36mstep\u001b[0m=\u001b[35m31270\u001b[0m\n",
      "\u001b[2m2023-09-29 11:22:32\u001b[0m [\u001b[32m\u001b[1minfo     \u001b[0m] \u001b[1mModel parameters are saved to d3rlpy_logs/ProbabilisticEnsembleDynamics_20230929111124/model_31270.pt\u001b[0m\n"
     ]
    },
    {
     "data": {
      "application/vnd.jupyter.widget-view+json": {
       "model_id": "af5b751db6324b7fb679f87e0688798e",
       "version_major": 2,
       "version_minor": 0
      },
      "text/plain": [
       "Epoch 60/100:   0%|          | 0/530 [00:00<?, ?it/s]"
      ]
     },
     "metadata": {},
     "output_type": "display_data"
    },
    {
     "name": "stdout",
     "output_type": "stream",
     "text": [
      "\u001b[2m2023-09-29 11:22:42\u001b[0m [\u001b[32m\u001b[1minfo     \u001b[0m] \u001b[1mProbabilisticEnsembleDynamics_20230929111124: epoch=60 step=31800\u001b[0m \u001b[36mepoch\u001b[0m=\u001b[35m60\u001b[0m \u001b[36mmetrics\u001b[0m=\u001b[35m{'time_sample_batch': 0.0003254454090910138, 'time_algorithm_update': 0.016900059861956904, 'loss': -75.93701460316495, 'time_step': 0.017321764298205106, 'observation_error': 0.033019261122399036, 'reward_error': 3.7358440157813256e-06, 'variance': 0.022068056530210302}\u001b[0m \u001b[36mstep\u001b[0m=\u001b[35m31800\u001b[0m\n",
      "\u001b[2m2023-09-29 11:22:42\u001b[0m [\u001b[32m\u001b[1minfo     \u001b[0m] \u001b[1mModel parameters are saved to d3rlpy_logs/ProbabilisticEnsembleDynamics_20230929111124/model_31800.pt\u001b[0m\n"
     ]
    },
    {
     "data": {
      "application/vnd.jupyter.widget-view+json": {
       "model_id": "ce40387c31a74030b46f5d9d4b6a152d",
       "version_major": 2,
       "version_minor": 0
      },
      "text/plain": [
       "Epoch 61/100:   0%|          | 0/530 [00:00<?, ?it/s]"
      ]
     },
     "metadata": {},
     "output_type": "display_data"
    },
    {
     "name": "stdout",
     "output_type": "stream",
     "text": [
      "\u001b[2m2023-09-29 11:22:53\u001b[0m [\u001b[32m\u001b[1minfo     \u001b[0m] \u001b[1mProbabilisticEnsembleDynamics_20230929111124: epoch=61 step=32330\u001b[0m \u001b[36mepoch\u001b[0m=\u001b[35m61\u001b[0m \u001b[36mmetrics\u001b[0m=\u001b[35m{'time_sample_batch': 0.00032478458476516435, 'time_algorithm_update': 0.016943627483439895, 'loss': -75.66797068973757, 'time_step': 0.017360024182301648, 'observation_error': 0.031815568526795054, 'reward_error': 2.509068657694085e-06, 'variance': 0.01930256270520433}\u001b[0m \u001b[36mstep\u001b[0m=\u001b[35m32330\u001b[0m\n",
      "\u001b[2m2023-09-29 11:22:53\u001b[0m [\u001b[32m\u001b[1minfo     \u001b[0m] \u001b[1mModel parameters are saved to d3rlpy_logs/ProbabilisticEnsembleDynamics_20230929111124/model_32330.pt\u001b[0m\n"
     ]
    },
    {
     "data": {
      "application/vnd.jupyter.widget-view+json": {
       "model_id": "e771da53eb89498ca059b4c65c5df11b",
       "version_major": 2,
       "version_minor": 0
      },
      "text/plain": [
       "Epoch 62/100:   0%|          | 0/530 [00:00<?, ?it/s]"
      ]
     },
     "metadata": {},
     "output_type": "display_data"
    },
    {
     "name": "stdout",
     "output_type": "stream",
     "text": [
      "\u001b[2m2023-09-29 11:23:03\u001b[0m [\u001b[32m\u001b[1minfo     \u001b[0m] \u001b[1mProbabilisticEnsembleDynamics_20230929111124: epoch=62 step=32860\u001b[0m \u001b[36mepoch\u001b[0m=\u001b[35m62\u001b[0m \u001b[36mmetrics\u001b[0m=\u001b[35m{'time_sample_batch': 0.00032555337222117296, 'time_algorithm_update': 0.017301396603854196, 'loss': -75.63365158225005, 'time_step': 0.01772040736000493, 'observation_error': 0.02951510374935123, 'reward_error': 2.56273625390896e-06, 'variance': 0.0204913430412148}\u001b[0m \u001b[36mstep\u001b[0m=\u001b[35m32860\u001b[0m\n",
      "\u001b[2m2023-09-29 11:23:03\u001b[0m [\u001b[32m\u001b[1minfo     \u001b[0m] \u001b[1mModel parameters are saved to d3rlpy_logs/ProbabilisticEnsembleDynamics_20230929111124/model_32860.pt\u001b[0m\n"
     ]
    },
    {
     "data": {
      "application/vnd.jupyter.widget-view+json": {
       "model_id": "de97eb14eb9e4895934e68e35030ad52",
       "version_major": 2,
       "version_minor": 0
      },
      "text/plain": [
       "Epoch 63/100:   0%|          | 0/530 [00:00<?, ?it/s]"
      ]
     },
     "metadata": {},
     "output_type": "display_data"
    },
    {
     "name": "stdout",
     "output_type": "stream",
     "text": [
      "\u001b[2m2023-09-29 11:23:12\u001b[0m [\u001b[32m\u001b[1minfo     \u001b[0m] \u001b[1mProbabilisticEnsembleDynamics_20230929111124: epoch=63 step=33390\u001b[0m \u001b[36mepoch\u001b[0m=\u001b[35m63\u001b[0m \u001b[36mmetrics\u001b[0m=\u001b[35m{'time_sample_batch': 0.0002702964926665684, 'time_algorithm_update': 0.01424931580165647, 'loss': -76.55617382481412, 'time_step': 0.014593600776960265, 'observation_error': 0.03445127351178642, 'reward_error': 2.4831065440827204e-06, 'variance': 0.018387538575256785}\u001b[0m \u001b[36mstep\u001b[0m=\u001b[35m33390\u001b[0m\n",
      "\u001b[2m2023-09-29 11:23:12\u001b[0m [\u001b[32m\u001b[1minfo     \u001b[0m] \u001b[1mModel parameters are saved to d3rlpy_logs/ProbabilisticEnsembleDynamics_20230929111124/model_33390.pt\u001b[0m\n"
     ]
    },
    {
     "data": {
      "application/vnd.jupyter.widget-view+json": {
       "model_id": "2380491580d7455c96fdb7e05e242f92",
       "version_major": 2,
       "version_minor": 0
      },
      "text/plain": [
       "Epoch 64/100:   0%|          | 0/530 [00:00<?, ?it/s]"
      ]
     },
     "metadata": {},
     "output_type": "display_data"
    },
    {
     "name": "stdout",
     "output_type": "stream",
     "text": [
      "\u001b[2m2023-09-29 11:23:20\u001b[0m [\u001b[32m\u001b[1minfo     \u001b[0m] \u001b[1mProbabilisticEnsembleDynamics_20230929111124: epoch=64 step=33920\u001b[0m \u001b[36mepoch\u001b[0m=\u001b[35m64\u001b[0m \u001b[36mmetrics\u001b[0m=\u001b[35m{'time_sample_batch': 0.0002602716661849112, 'time_algorithm_update': 0.013732302863642855, 'loss': -76.63372791218308, 'time_step': 0.01406971553586564, 'observation_error': 0.034894273915073895, 'reward_error': 2.4756642411495937e-06, 'variance': 0.018805409686277325}\u001b[0m \u001b[36mstep\u001b[0m=\u001b[35m33920\u001b[0m\n",
      "\u001b[2m2023-09-29 11:23:20\u001b[0m [\u001b[32m\u001b[1minfo     \u001b[0m] \u001b[1mModel parameters are saved to d3rlpy_logs/ProbabilisticEnsembleDynamics_20230929111124/model_33920.pt\u001b[0m\n"
     ]
    },
    {
     "data": {
      "application/vnd.jupyter.widget-view+json": {
       "model_id": "49a508e7c3a345cc9d50528ed77d6c15",
       "version_major": 2,
       "version_minor": 0
      },
      "text/plain": [
       "Epoch 65/100:   0%|          | 0/530 [00:00<?, ?it/s]"
      ]
     },
     "metadata": {},
     "output_type": "display_data"
    },
    {
     "name": "stdout",
     "output_type": "stream",
     "text": [
      "\u001b[2m2023-09-29 11:23:30\u001b[0m [\u001b[32m\u001b[1minfo     \u001b[0m] \u001b[1mProbabilisticEnsembleDynamics_20230929111124: epoch=65 step=34450\u001b[0m \u001b[36mepoch\u001b[0m=\u001b[35m65\u001b[0m \u001b[36mmetrics\u001b[0m=\u001b[35m{'time_sample_batch': 0.00027412108655245796, 'time_algorithm_update': 0.01435446469288952, 'loss': -76.52732433463042, 'time_step': 0.014706218917414826, 'observation_error': 0.02799637575136321, 'reward_error': 2.0445282054651005e-06, 'variance': 0.017822787858222968}\u001b[0m \u001b[36mstep\u001b[0m=\u001b[35m34450\u001b[0m\n",
      "\u001b[2m2023-09-29 11:23:30\u001b[0m [\u001b[32m\u001b[1minfo     \u001b[0m] \u001b[1mModel parameters are saved to d3rlpy_logs/ProbabilisticEnsembleDynamics_20230929111124/model_34450.pt\u001b[0m\n"
     ]
    },
    {
     "data": {
      "application/vnd.jupyter.widget-view+json": {
       "model_id": "8495f0ba8f8d47d4903ccfdeca68df57",
       "version_major": 2,
       "version_minor": 0
      },
      "text/plain": [
       "Epoch 66/100:   0%|          | 0/530 [00:00<?, ?it/s]"
      ]
     },
     "metadata": {},
     "output_type": "display_data"
    },
    {
     "name": "stdout",
     "output_type": "stream",
     "text": [
      "\u001b[2m2023-09-29 11:23:38\u001b[0m [\u001b[32m\u001b[1minfo     \u001b[0m] \u001b[1mProbabilisticEnsembleDynamics_20230929111124: epoch=66 step=34980\u001b[0m \u001b[36mepoch\u001b[0m=\u001b[35m66\u001b[0m \u001b[36mmetrics\u001b[0m=\u001b[35m{'time_sample_batch': 0.00026819975870960165, 'time_algorithm_update': 0.014337397971243228, 'loss': -76.47635112258624, 'time_step': 0.014682229959739829, 'observation_error': 0.027860274124098396, 'reward_error': 3.0486014551906796e-06, 'variance': 0.019055230163657066}\u001b[0m \u001b[36mstep\u001b[0m=\u001b[35m34980\u001b[0m\n",
      "\u001b[2m2023-09-29 11:23:38\u001b[0m [\u001b[32m\u001b[1minfo     \u001b[0m] \u001b[1mModel parameters are saved to d3rlpy_logs/ProbabilisticEnsembleDynamics_20230929111124/model_34980.pt\u001b[0m\n"
     ]
    },
    {
     "data": {
      "application/vnd.jupyter.widget-view+json": {
       "model_id": "91665b64f96146efb5f2f23d6156bef4",
       "version_major": 2,
       "version_minor": 0
      },
      "text/plain": [
       "Epoch 67/100:   0%|          | 0/530 [00:00<?, ?it/s]"
      ]
     },
     "metadata": {},
     "output_type": "display_data"
    },
    {
     "name": "stdout",
     "output_type": "stream",
     "text": [
      "\u001b[2m2023-09-29 11:23:47\u001b[0m [\u001b[32m\u001b[1minfo     \u001b[0m] \u001b[1mProbabilisticEnsembleDynamics_20230929111124: epoch=67 step=35510\u001b[0m \u001b[36mepoch\u001b[0m=\u001b[35m67\u001b[0m \u001b[36mmetrics\u001b[0m=\u001b[35m{'time_sample_batch': 0.0002685938241346827, 'time_algorithm_update': 0.014210697389998526, 'loss': -75.06184901651346, 'time_step': 0.014557526246556696, 'observation_error': 0.02909151265203349, 'reward_error': 3.1106381937376017e-06, 'variance': 0.018063176574721163}\u001b[0m \u001b[36mstep\u001b[0m=\u001b[35m35510\u001b[0m\n",
      "\u001b[2m2023-09-29 11:23:47\u001b[0m [\u001b[32m\u001b[1minfo     \u001b[0m] \u001b[1mModel parameters are saved to d3rlpy_logs/ProbabilisticEnsembleDynamics_20230929111124/model_35510.pt\u001b[0m\n"
     ]
    },
    {
     "data": {
      "application/vnd.jupyter.widget-view+json": {
       "model_id": "0075364b7f564e2fbac54ef394200749",
       "version_major": 2,
       "version_minor": 0
      },
      "text/plain": [
       "Epoch 68/100:   0%|          | 0/530 [00:00<?, ?it/s]"
      ]
     },
     "metadata": {},
     "output_type": "display_data"
    },
    {
     "name": "stdout",
     "output_type": "stream",
     "text": [
      "\u001b[2m2023-09-29 11:23:56\u001b[0m [\u001b[32m\u001b[1minfo     \u001b[0m] \u001b[1mProbabilisticEnsembleDynamics_20230929111124: epoch=68 step=36040\u001b[0m \u001b[36mepoch\u001b[0m=\u001b[35m68\u001b[0m \u001b[36mmetrics\u001b[0m=\u001b[35m{'time_sample_batch': 0.0002640053911029168, 'time_algorithm_update': 0.014141846602817752, 'loss': -76.60032080524373, 'time_step': 0.014481673150692346, 'observation_error': 0.02952686627378928, 'reward_error': 2.816465245533148e-06, 'variance': 0.018629540338322377}\u001b[0m \u001b[36mstep\u001b[0m=\u001b[35m36040\u001b[0m\n",
      "\u001b[2m2023-09-29 11:23:56\u001b[0m [\u001b[32m\u001b[1minfo     \u001b[0m] \u001b[1mModel parameters are saved to d3rlpy_logs/ProbabilisticEnsembleDynamics_20230929111124/model_36040.pt\u001b[0m\n"
     ]
    },
    {
     "data": {
      "application/vnd.jupyter.widget-view+json": {
       "model_id": "59d3fac0f95f4ce6b834d40b8ea38581",
       "version_major": 2,
       "version_minor": 0
      },
      "text/plain": [
       "Epoch 69/100:   0%|          | 0/530 [00:00<?, ?it/s]"
      ]
     },
     "metadata": {},
     "output_type": "display_data"
    },
    {
     "name": "stdout",
     "output_type": "stream",
     "text": [
      "\u001b[2m2023-09-29 11:24:05\u001b[0m [\u001b[32m\u001b[1minfo     \u001b[0m] \u001b[1mProbabilisticEnsembleDynamics_20230929111124: epoch=69 step=36570\u001b[0m \u001b[36mepoch\u001b[0m=\u001b[35m69\u001b[0m \u001b[36mmetrics\u001b[0m=\u001b[35m{'time_sample_batch': 0.0002863222697995744, 'time_algorithm_update': 0.0145037848994417, 'loss': -75.55379502998208, 'time_step': 0.014868908558251723, 'observation_error': 0.03267774143213153, 'reward_error': 2.0032926895112953e-06, 'variance': 0.019403780181471538}\u001b[0m \u001b[36mstep\u001b[0m=\u001b[35m36570\u001b[0m\n",
      "\u001b[2m2023-09-29 11:24:05\u001b[0m [\u001b[32m\u001b[1minfo     \u001b[0m] \u001b[1mModel parameters are saved to d3rlpy_logs/ProbabilisticEnsembleDynamics_20230929111124/model_36570.pt\u001b[0m\n"
     ]
    },
    {
     "data": {
      "application/vnd.jupyter.widget-view+json": {
       "model_id": "f9c911a688b24f48b347bdedae54c424",
       "version_major": 2,
       "version_minor": 0
      },
      "text/plain": [
       "Epoch 70/100:   0%|          | 0/530 [00:00<?, ?it/s]"
      ]
     },
     "metadata": {},
     "output_type": "display_data"
    },
    {
     "name": "stdout",
     "output_type": "stream",
     "text": [
      "\u001b[2m2023-09-29 11:24:14\u001b[0m [\u001b[32m\u001b[1minfo     \u001b[0m] \u001b[1mProbabilisticEnsembleDynamics_20230929111124: epoch=70 step=37100\u001b[0m \u001b[36mepoch\u001b[0m=\u001b[35m70\u001b[0m \u001b[36mmetrics\u001b[0m=\u001b[35m{'time_sample_batch': 0.00027218089913422206, 'time_algorithm_update': 0.01413357122889105, 'loss': -77.1583772749271, 'time_step': 0.01448399840660815, 'observation_error': 0.026019847336565597, 'reward_error': 2.676964185710358e-06, 'variance': 0.017157533702488757}\u001b[0m \u001b[36mstep\u001b[0m=\u001b[35m37100\u001b[0m\n",
      "\u001b[2m2023-09-29 11:24:14\u001b[0m [\u001b[32m\u001b[1minfo     \u001b[0m] \u001b[1mModel parameters are saved to d3rlpy_logs/ProbabilisticEnsembleDynamics_20230929111124/model_37100.pt\u001b[0m\n"
     ]
    },
    {
     "data": {
      "application/vnd.jupyter.widget-view+json": {
       "model_id": "968c429500b04eb1a5759884087b9443",
       "version_major": 2,
       "version_minor": 0
      },
      "text/plain": [
       "Epoch 71/100:   0%|          | 0/530 [00:00<?, ?it/s]"
      ]
     },
     "metadata": {},
     "output_type": "display_data"
    },
    {
     "name": "stdout",
     "output_type": "stream",
     "text": [
      "\u001b[2m2023-09-29 11:24:23\u001b[0m [\u001b[32m\u001b[1minfo     \u001b[0m] \u001b[1mProbabilisticEnsembleDynamics_20230929111124: epoch=71 step=37630\u001b[0m \u001b[36mepoch\u001b[0m=\u001b[35m71\u001b[0m \u001b[36mmetrics\u001b[0m=\u001b[35m{'time_sample_batch': 0.00026737294107113247, 'time_algorithm_update': 0.014380625958712596, 'loss': -73.88170498182188, 'time_step': 0.014730423801350144, 'observation_error': 0.028514870932784212, 'reward_error': 3.0153709100023472e-06, 'variance': 0.0181905706021363}\u001b[0m \u001b[36mstep\u001b[0m=\u001b[35m37630\u001b[0m\n",
      "\u001b[2m2023-09-29 11:24:23\u001b[0m [\u001b[32m\u001b[1minfo     \u001b[0m] \u001b[1mModel parameters are saved to d3rlpy_logs/ProbabilisticEnsembleDynamics_20230929111124/model_37630.pt\u001b[0m\n"
     ]
    },
    {
     "data": {
      "application/vnd.jupyter.widget-view+json": {
       "model_id": "70ac53143ade4cc7950252863f0e368a",
       "version_major": 2,
       "version_minor": 0
      },
      "text/plain": [
       "Epoch 72/100:   0%|          | 0/530 [00:00<?, ?it/s]"
      ]
     },
     "metadata": {},
     "output_type": "display_data"
    },
    {
     "name": "stdout",
     "output_type": "stream",
     "text": [
      "\u001b[2m2023-09-29 11:24:32\u001b[0m [\u001b[32m\u001b[1minfo     \u001b[0m] \u001b[1mProbabilisticEnsembleDynamics_20230929111124: epoch=72 step=38160\u001b[0m \u001b[36mepoch\u001b[0m=\u001b[35m72\u001b[0m \u001b[36mmetrics\u001b[0m=\u001b[35m{'time_sample_batch': 0.00026537697270231426, 'time_algorithm_update': 0.014525169246601608, 'loss': -78.16160413634103, 'time_step': 0.014864985448009562, 'observation_error': 0.028414993947489846, 'reward_error': 9.772102283346336e-06, 'variance': 0.016190294939928317}\u001b[0m \u001b[36mstep\u001b[0m=\u001b[35m38160\u001b[0m\n",
      "\u001b[2m2023-09-29 11:24:32\u001b[0m [\u001b[32m\u001b[1minfo     \u001b[0m] \u001b[1mModel parameters are saved to d3rlpy_logs/ProbabilisticEnsembleDynamics_20230929111124/model_38160.pt\u001b[0m\n"
     ]
    },
    {
     "data": {
      "application/vnd.jupyter.widget-view+json": {
       "model_id": "15c51974d5f742d1bc92d0f8e320a3cd",
       "version_major": 2,
       "version_minor": 0
      },
      "text/plain": [
       "Epoch 73/100:   0%|          | 0/530 [00:00<?, ?it/s]"
      ]
     },
     "metadata": {},
     "output_type": "display_data"
    },
    {
     "name": "stdout",
     "output_type": "stream",
     "text": [
      "\u001b[2m2023-09-29 11:24:41\u001b[0m [\u001b[32m\u001b[1minfo     \u001b[0m] \u001b[1mProbabilisticEnsembleDynamics_20230929111124: epoch=73 step=38690\u001b[0m \u001b[36mepoch\u001b[0m=\u001b[35m73\u001b[0m \u001b[36mmetrics\u001b[0m=\u001b[35m{'time_sample_batch': 0.0002704692336748231, 'time_algorithm_update': 0.014069879729792756, 'loss': -77.08009555744675, 'time_step': 0.014417513361516988, 'observation_error': 0.02915859501728734, 'reward_error': 4.080101402224431e-06, 'variance': 0.016617058615418814}\u001b[0m \u001b[36mstep\u001b[0m=\u001b[35m38690\u001b[0m\n",
      "\u001b[2m2023-09-29 11:24:41\u001b[0m [\u001b[32m\u001b[1minfo     \u001b[0m] \u001b[1mModel parameters are saved to d3rlpy_logs/ProbabilisticEnsembleDynamics_20230929111124/model_38690.pt\u001b[0m\n"
     ]
    },
    {
     "data": {
      "application/vnd.jupyter.widget-view+json": {
       "model_id": "993c3a1292cd42629e5c16d3000fb8f8",
       "version_major": 2,
       "version_minor": 0
      },
      "text/plain": [
       "Epoch 74/100:   0%|          | 0/530 [00:00<?, ?it/s]"
      ]
     },
     "metadata": {},
     "output_type": "display_data"
    },
    {
     "name": "stdout",
     "output_type": "stream",
     "text": [
      "\u001b[2m2023-09-29 11:24:49\u001b[0m [\u001b[32m\u001b[1minfo     \u001b[0m] \u001b[1mProbabilisticEnsembleDynamics_20230929111124: epoch=74 step=39220\u001b[0m \u001b[36mepoch\u001b[0m=\u001b[35m74\u001b[0m \u001b[36mmetrics\u001b[0m=\u001b[35m{'time_sample_batch': 0.00026612911584242337, 'time_algorithm_update': 0.014222397894229528, 'loss': -77.79221580073519, 'time_step': 0.01456775485344653, 'observation_error': 0.028694801091797565, 'reward_error': 2.193000830485206e-06, 'variance': 0.016111361255401378}\u001b[0m \u001b[36mstep\u001b[0m=\u001b[35m39220\u001b[0m\n",
      "\u001b[2m2023-09-29 11:24:49\u001b[0m [\u001b[32m\u001b[1minfo     \u001b[0m] \u001b[1mModel parameters are saved to d3rlpy_logs/ProbabilisticEnsembleDynamics_20230929111124/model_39220.pt\u001b[0m\n"
     ]
    },
    {
     "data": {
      "application/vnd.jupyter.widget-view+json": {
       "model_id": "95b319c265e64b65ade47b853b09203a",
       "version_major": 2,
       "version_minor": 0
      },
      "text/plain": [
       "Epoch 75/100:   0%|          | 0/530 [00:00<?, ?it/s]"
      ]
     },
     "metadata": {},
     "output_type": "display_data"
    },
    {
     "name": "stdout",
     "output_type": "stream",
     "text": [
      "\u001b[2m2023-09-29 11:24:58\u001b[0m [\u001b[32m\u001b[1minfo     \u001b[0m] \u001b[1mProbabilisticEnsembleDynamics_20230929111124: epoch=75 step=39750\u001b[0m \u001b[36mepoch\u001b[0m=\u001b[35m75\u001b[0m \u001b[36mmetrics\u001b[0m=\u001b[35m{'time_sample_batch': 0.0002702659031130233, 'time_algorithm_update': 0.014437929189430094, 'loss': -76.45521523997469, 'time_step': 0.014786551133641657, 'observation_error': 0.02696950043889556, 'reward_error': 2.113873584618874e-06, 'variance': 0.015915734825928323}\u001b[0m \u001b[36mstep\u001b[0m=\u001b[35m39750\u001b[0m\n",
      "\u001b[2m2023-09-29 11:24:58\u001b[0m [\u001b[32m\u001b[1minfo     \u001b[0m] \u001b[1mModel parameters are saved to d3rlpy_logs/ProbabilisticEnsembleDynamics_20230929111124/model_39750.pt\u001b[0m\n"
     ]
    },
    {
     "data": {
      "application/vnd.jupyter.widget-view+json": {
       "model_id": "55faa854c36b4a1a9f8c8e03ac36f3b0",
       "version_major": 2,
       "version_minor": 0
      },
      "text/plain": [
       "Epoch 76/100:   0%|          | 0/530 [00:00<?, ?it/s]"
      ]
     },
     "metadata": {},
     "output_type": "display_data"
    },
    {
     "name": "stdout",
     "output_type": "stream",
     "text": [
      "\u001b[2m2023-09-29 11:25:07\u001b[0m [\u001b[32m\u001b[1minfo     \u001b[0m] \u001b[1mProbabilisticEnsembleDynamics_20230929111124: epoch=76 step=40280\u001b[0m \u001b[36mepoch\u001b[0m=\u001b[35m76\u001b[0m \u001b[36mmetrics\u001b[0m=\u001b[35m{'time_sample_batch': 0.0002682739833615861, 'time_algorithm_update': 0.0142415186144271, 'loss': -77.49628700760175, 'time_step': 0.0145887923690508, 'observation_error': 0.03215411812705641, 'reward_error': 2.4065126203677662e-06, 'variance': 0.015488457909151012}\u001b[0m \u001b[36mstep\u001b[0m=\u001b[35m40280\u001b[0m\n",
      "\u001b[2m2023-09-29 11:25:07\u001b[0m [\u001b[32m\u001b[1minfo     \u001b[0m] \u001b[1mModel parameters are saved to d3rlpy_logs/ProbabilisticEnsembleDynamics_20230929111124/model_40280.pt\u001b[0m\n"
     ]
    },
    {
     "data": {
      "application/vnd.jupyter.widget-view+json": {
       "model_id": "943c989efa0046df950139b4c9ad72ef",
       "version_major": 2,
       "version_minor": 0
      },
      "text/plain": [
       "Epoch 77/100:   0%|          | 0/530 [00:00<?, ?it/s]"
      ]
     },
     "metadata": {},
     "output_type": "display_data"
    },
    {
     "name": "stdout",
     "output_type": "stream",
     "text": [
      "\u001b[2m2023-09-29 11:25:16\u001b[0m [\u001b[32m\u001b[1minfo     \u001b[0m] \u001b[1mProbabilisticEnsembleDynamics_20230929111124: epoch=77 step=40810\u001b[0m \u001b[36mepoch\u001b[0m=\u001b[35m77\u001b[0m \u001b[36mmetrics\u001b[0m=\u001b[35m{'time_sample_batch': 0.0002677301190934091, 'time_algorithm_update': 0.014274821641310206, 'loss': -78.2297306924496, 'time_step': 0.01461704542052071, 'observation_error': 0.027868823916285403, 'reward_error': 2.205071119730097e-06, 'variance': 0.015202775264357465}\u001b[0m \u001b[36mstep\u001b[0m=\u001b[35m40810\u001b[0m\n",
      "\u001b[2m2023-09-29 11:25:16\u001b[0m [\u001b[32m\u001b[1minfo     \u001b[0m] \u001b[1mModel parameters are saved to d3rlpy_logs/ProbabilisticEnsembleDynamics_20230929111124/model_40810.pt\u001b[0m\n"
     ]
    },
    {
     "data": {
      "application/vnd.jupyter.widget-view+json": {
       "model_id": "4b872271236c47db9240aabb30a7d106",
       "version_major": 2,
       "version_minor": 0
      },
      "text/plain": [
       "Epoch 78/100:   0%|          | 0/530 [00:00<?, ?it/s]"
      ]
     },
     "metadata": {},
     "output_type": "display_data"
    },
    {
     "name": "stdout",
     "output_type": "stream",
     "text": [
      "\u001b[2m2023-09-29 11:25:25\u001b[0m [\u001b[32m\u001b[1minfo     \u001b[0m] \u001b[1mProbabilisticEnsembleDynamics_20230929111124: epoch=78 step=41340\u001b[0m \u001b[36mepoch\u001b[0m=\u001b[35m78\u001b[0m \u001b[36mmetrics\u001b[0m=\u001b[35m{'time_sample_batch': 0.0002714350538433723, 'time_algorithm_update': 0.014226627799699892, 'loss': -76.34059462637272, 'time_step': 0.014576776522510456, 'observation_error': 0.021626726309728714, 'reward_error': 2.041743509087938e-06, 'variance': 0.015222666641655825}\u001b[0m \u001b[36mstep\u001b[0m=\u001b[35m41340\u001b[0m\n",
      "\u001b[2m2023-09-29 11:25:25\u001b[0m [\u001b[32m\u001b[1minfo     \u001b[0m] \u001b[1mModel parameters are saved to d3rlpy_logs/ProbabilisticEnsembleDynamics_20230929111124/model_41340.pt\u001b[0m\n"
     ]
    },
    {
     "data": {
      "application/vnd.jupyter.widget-view+json": {
       "model_id": "c4a57370b6404468aa8f92a981c148bd",
       "version_major": 2,
       "version_minor": 0
      },
      "text/plain": [
       "Epoch 79/100:   0%|          | 0/530 [00:00<?, ?it/s]"
      ]
     },
     "metadata": {},
     "output_type": "display_data"
    },
    {
     "name": "stdout",
     "output_type": "stream",
     "text": [
      "\u001b[2m2023-09-29 11:25:34\u001b[0m [\u001b[32m\u001b[1minfo     \u001b[0m] \u001b[1mProbabilisticEnsembleDynamics_20230929111124: epoch=79 step=41870\u001b[0m \u001b[36mepoch\u001b[0m=\u001b[35m79\u001b[0m \u001b[36mmetrics\u001b[0m=\u001b[35m{'time_sample_batch': 0.00026801397215645267, 'time_algorithm_update': 0.014306473731994628, 'loss': -77.61770360694742, 'time_step': 0.014654399314016665, 'observation_error': 0.02575141729649705, 'reward_error': 2.5697039391379124e-06, 'variance': 0.014693059382201161}\u001b[0m \u001b[36mstep\u001b[0m=\u001b[35m41870\u001b[0m\n",
      "\u001b[2m2023-09-29 11:25:34\u001b[0m [\u001b[32m\u001b[1minfo     \u001b[0m] \u001b[1mModel parameters are saved to d3rlpy_logs/ProbabilisticEnsembleDynamics_20230929111124/model_41870.pt\u001b[0m\n"
     ]
    },
    {
     "data": {
      "application/vnd.jupyter.widget-view+json": {
       "model_id": "f3298314e6454da4a69588c151f2e4d1",
       "version_major": 2,
       "version_minor": 0
      },
      "text/plain": [
       "Epoch 80/100:   0%|          | 0/530 [00:00<?, ?it/s]"
      ]
     },
     "metadata": {},
     "output_type": "display_data"
    },
    {
     "name": "stdout",
     "output_type": "stream",
     "text": [
      "\u001b[2m2023-09-29 11:25:44\u001b[0m [\u001b[32m\u001b[1minfo     \u001b[0m] \u001b[1mProbabilisticEnsembleDynamics_20230929111124: epoch=80 step=42400\u001b[0m \u001b[36mepoch\u001b[0m=\u001b[35m80\u001b[0m \u001b[36mmetrics\u001b[0m=\u001b[35m{'time_sample_batch': 0.0003285763398656305, 'time_algorithm_update': 0.016607934124064895, 'loss': -76.18036203924215, 'time_step': 0.017033545476085734, 'observation_error': 0.025299191802158713, 'reward_error': 3.148129818435072e-06, 'variance': 0.015788859549015714}\u001b[0m \u001b[36mstep\u001b[0m=\u001b[35m42400\u001b[0m\n",
      "\u001b[2m2023-09-29 11:25:44\u001b[0m [\u001b[32m\u001b[1minfo     \u001b[0m] \u001b[1mModel parameters are saved to d3rlpy_logs/ProbabilisticEnsembleDynamics_20230929111124/model_42400.pt\u001b[0m\n"
     ]
    },
    {
     "data": {
      "application/vnd.jupyter.widget-view+json": {
       "model_id": "08c7a86c00154c3fb4ea4b1a65708a85",
       "version_major": 2,
       "version_minor": 0
      },
      "text/plain": [
       "Epoch 81/100:   0%|          | 0/530 [00:00<?, ?it/s]"
      ]
     },
     "metadata": {},
     "output_type": "display_data"
    },
    {
     "name": "stdout",
     "output_type": "stream",
     "text": [
      "\u001b[2m2023-09-29 11:25:57\u001b[0m [\u001b[32m\u001b[1minfo     \u001b[0m] \u001b[1mProbabilisticEnsembleDynamics_20230929111124: epoch=81 step=42930\u001b[0m \u001b[36mepoch\u001b[0m=\u001b[35m81\u001b[0m \u001b[36mmetrics\u001b[0m=\u001b[35m{'time_sample_batch': 0.0004356726160589254, 'time_algorithm_update': 0.02102590371977608, 'loss': -77.73877934149976, 'time_step': 0.021577333504298947, 'observation_error': 0.025178762855202985, 'reward_error': 2.512057744896048e-06, 'variance': 0.014973641810300435}\u001b[0m \u001b[36mstep\u001b[0m=\u001b[35m42930\u001b[0m\n",
      "\u001b[2m2023-09-29 11:25:57\u001b[0m [\u001b[32m\u001b[1minfo     \u001b[0m] \u001b[1mModel parameters are saved to d3rlpy_logs/ProbabilisticEnsembleDynamics_20230929111124/model_42930.pt\u001b[0m\n"
     ]
    },
    {
     "data": {
      "application/vnd.jupyter.widget-view+json": {
       "model_id": "bd3c43f44fc84ce6a0c1545e6f7f5102",
       "version_major": 2,
       "version_minor": 0
      },
      "text/plain": [
       "Epoch 82/100:   0%|          | 0/530 [00:00<?, ?it/s]"
      ]
     },
     "metadata": {},
     "output_type": "display_data"
    },
    {
     "name": "stdout",
     "output_type": "stream",
     "text": [
      "\u001b[2m2023-09-29 11:26:09\u001b[0m [\u001b[32m\u001b[1minfo     \u001b[0m] \u001b[1mProbabilisticEnsembleDynamics_20230929111124: epoch=82 step=43460\u001b[0m \u001b[36mepoch\u001b[0m=\u001b[35m82\u001b[0m \u001b[36mmetrics\u001b[0m=\u001b[35m{'time_sample_batch': 0.0003661286156132536, 'time_algorithm_update': 0.018567963366238577, 'loss': -78.60519572923768, 'time_step': 0.01903271495171313, 'observation_error': 0.027135141914751644, 'reward_error': 2.1108807746986064e-06, 'variance': 0.01483264094306259}\u001b[0m \u001b[36mstep\u001b[0m=\u001b[35m43460\u001b[0m\n",
      "\u001b[2m2023-09-29 11:26:09\u001b[0m [\u001b[32m\u001b[1minfo     \u001b[0m] \u001b[1mModel parameters are saved to d3rlpy_logs/ProbabilisticEnsembleDynamics_20230929111124/model_43460.pt\u001b[0m\n"
     ]
    },
    {
     "data": {
      "application/vnd.jupyter.widget-view+json": {
       "model_id": "cd1ee1be5fd144859d05e323e3237f7f",
       "version_major": 2,
       "version_minor": 0
      },
      "text/plain": [
       "Epoch 83/100:   0%|          | 0/530 [00:00<?, ?it/s]"
      ]
     },
     "metadata": {},
     "output_type": "display_data"
    },
    {
     "name": "stdout",
     "output_type": "stream",
     "text": [
      "\u001b[2m2023-09-29 11:26:22\u001b[0m [\u001b[32m\u001b[1minfo     \u001b[0m] \u001b[1mProbabilisticEnsembleDynamics_20230929111124: epoch=83 step=43990\u001b[0m \u001b[36mepoch\u001b[0m=\u001b[35m83\u001b[0m \u001b[36mmetrics\u001b[0m=\u001b[35m{'time_sample_batch': 0.0004347589780699532, 'time_algorithm_update': 0.021959892758783305, 'loss': -77.47610302331313, 'time_step': 0.02252780041604672, 'observation_error': 0.029723640076938975, 'reward_error': 4.60204113655787e-06, 'variance': 0.014471729479413354}\u001b[0m \u001b[36mstep\u001b[0m=\u001b[35m43990\u001b[0m\n",
      "\u001b[2m2023-09-29 11:26:22\u001b[0m [\u001b[32m\u001b[1minfo     \u001b[0m] \u001b[1mModel parameters are saved to d3rlpy_logs/ProbabilisticEnsembleDynamics_20230929111124/model_43990.pt\u001b[0m\n"
     ]
    },
    {
     "data": {
      "application/vnd.jupyter.widget-view+json": {
       "model_id": "93405f16705e490abc7791d625fc61aa",
       "version_major": 2,
       "version_minor": 0
      },
      "text/plain": [
       "Epoch 84/100:   0%|          | 0/530 [00:00<?, ?it/s]"
      ]
     },
     "metadata": {},
     "output_type": "display_data"
    },
    {
     "name": "stdout",
     "output_type": "stream",
     "text": [
      "\u001b[2m2023-09-29 11:26:30\u001b[0m [\u001b[32m\u001b[1minfo     \u001b[0m] \u001b[1mProbabilisticEnsembleDynamics_20230929111124: epoch=84 step=44520\u001b[0m \u001b[36mepoch\u001b[0m=\u001b[35m84\u001b[0m \u001b[36mmetrics\u001b[0m=\u001b[35m{'time_sample_batch': 0.0002672303397700472, 'time_algorithm_update': 0.013016274740111152, 'loss': -78.04706600117234, 'time_step': 0.013358052721563375, 'observation_error': 0.029760204118024353, 'reward_error': 2.1448418015051485e-06, 'variance': 0.014819866347916622}\u001b[0m \u001b[36mstep\u001b[0m=\u001b[35m44520\u001b[0m\n",
      "\u001b[2m2023-09-29 11:26:30\u001b[0m [\u001b[32m\u001b[1minfo     \u001b[0m] \u001b[1mModel parameters are saved to d3rlpy_logs/ProbabilisticEnsembleDynamics_20230929111124/model_44520.pt\u001b[0m\n"
     ]
    },
    {
     "data": {
      "application/vnd.jupyter.widget-view+json": {
       "model_id": "260ff62b07bc4c3d8fdff82c78c177a5",
       "version_major": 2,
       "version_minor": 0
      },
      "text/plain": [
       "Epoch 85/100:   0%|          | 0/530 [00:00<?, ?it/s]"
      ]
     },
     "metadata": {},
     "output_type": "display_data"
    },
    {
     "name": "stdout",
     "output_type": "stream",
     "text": [
      "\u001b[2m2023-09-29 11:26:38\u001b[0m [\u001b[32m\u001b[1minfo     \u001b[0m] \u001b[1mProbabilisticEnsembleDynamics_20230929111124: epoch=85 step=45050\u001b[0m \u001b[36mepoch\u001b[0m=\u001b[35m85\u001b[0m \u001b[36mmetrics\u001b[0m=\u001b[35m{'time_sample_batch': 0.00026361447460246536, 'time_algorithm_update': 0.013171741647540399, 'loss': -77.23396427946271, 'time_step': 0.013510207410128611, 'observation_error': 0.02417918709424649, 'reward_error': 1.8012511216796385e-06, 'variance': 0.014779475713161584}\u001b[0m \u001b[36mstep\u001b[0m=\u001b[35m45050\u001b[0m\n",
      "\u001b[2m2023-09-29 11:26:38\u001b[0m [\u001b[32m\u001b[1minfo     \u001b[0m] \u001b[1mModel parameters are saved to d3rlpy_logs/ProbabilisticEnsembleDynamics_20230929111124/model_45050.pt\u001b[0m\n"
     ]
    },
    {
     "data": {
      "application/vnd.jupyter.widget-view+json": {
       "model_id": "882781bc0adc410ebeb57489a1646fdd",
       "version_major": 2,
       "version_minor": 0
      },
      "text/plain": [
       "Epoch 86/100:   0%|          | 0/530 [00:00<?, ?it/s]"
      ]
     },
     "metadata": {},
     "output_type": "display_data"
    },
    {
     "name": "stdout",
     "output_type": "stream",
     "text": [
      "\u001b[2m2023-09-29 11:26:47\u001b[0m [\u001b[32m\u001b[1minfo     \u001b[0m] \u001b[1mProbabilisticEnsembleDynamics_20230929111124: epoch=86 step=45580\u001b[0m \u001b[36mepoch\u001b[0m=\u001b[35m86\u001b[0m \u001b[36mmetrics\u001b[0m=\u001b[35m{'time_sample_batch': 0.00026067832730851083, 'time_algorithm_update': 0.01315969116282913, 'loss': -75.72691439862521, 'time_step': 0.013491819039830622, 'observation_error': 0.02610460883706468, 'reward_error': 5.0014475404323385e-06, 'variance': 0.01590669931932067}\u001b[0m \u001b[36mstep\u001b[0m=\u001b[35m45580\u001b[0m\n",
      "\u001b[2m2023-09-29 11:26:47\u001b[0m [\u001b[32m\u001b[1minfo     \u001b[0m] \u001b[1mModel parameters are saved to d3rlpy_logs/ProbabilisticEnsembleDynamics_20230929111124/model_45580.pt\u001b[0m\n"
     ]
    },
    {
     "data": {
      "application/vnd.jupyter.widget-view+json": {
       "model_id": "2ce3bb93651744528e04cdc6b413bf57",
       "version_major": 2,
       "version_minor": 0
      },
      "text/plain": [
       "Epoch 87/100:   0%|          | 0/530 [00:00<?, ?it/s]"
      ]
     },
     "metadata": {},
     "output_type": "display_data"
    },
    {
     "name": "stdout",
     "output_type": "stream",
     "text": [
      "\u001b[2m2023-09-29 11:26:55\u001b[0m [\u001b[32m\u001b[1minfo     \u001b[0m] \u001b[1mProbabilisticEnsembleDynamics_20230929111124: epoch=87 step=46110\u001b[0m \u001b[36mepoch\u001b[0m=\u001b[35m87\u001b[0m \u001b[36mmetrics\u001b[0m=\u001b[35m{'time_sample_batch': 0.00025139394796119547, 'time_algorithm_update': 0.012994190431990713, 'loss': -78.69593828669134, 'time_step': 0.013317440140922114, 'observation_error': 0.031822404735377494, 'reward_error': 2.5327069335205834e-06, 'variance': 0.014900619352741161}\u001b[0m \u001b[36mstep\u001b[0m=\u001b[35m46110\u001b[0m\n",
      "\u001b[2m2023-09-29 11:26:55\u001b[0m [\u001b[32m\u001b[1minfo     \u001b[0m] \u001b[1mModel parameters are saved to d3rlpy_logs/ProbabilisticEnsembleDynamics_20230929111124/model_46110.pt\u001b[0m\n"
     ]
    },
    {
     "data": {
      "application/vnd.jupyter.widget-view+json": {
       "model_id": "9e86b86c850b4db7ba37b42aae8164f2",
       "version_major": 2,
       "version_minor": 0
      },
      "text/plain": [
       "Epoch 88/100:   0%|          | 0/530 [00:00<?, ?it/s]"
      ]
     },
     "metadata": {},
     "output_type": "display_data"
    },
    {
     "name": "stdout",
     "output_type": "stream",
     "text": [
      "\u001b[2m2023-09-29 11:27:03\u001b[0m [\u001b[32m\u001b[1minfo     \u001b[0m] \u001b[1mProbabilisticEnsembleDynamics_20230929111124: epoch=88 step=46640\u001b[0m \u001b[36mepoch\u001b[0m=\u001b[35m88\u001b[0m \u001b[36mmetrics\u001b[0m=\u001b[35m{'time_sample_batch': 0.0002721674037429522, 'time_algorithm_update': 0.013153224171332594, 'loss': -78.59650344848633, 'time_step': 0.013499846548404333, 'observation_error': 0.028566251131329122, 'reward_error': 1.839934088338523e-06, 'variance': 0.013672434412786838}\u001b[0m \u001b[36mstep\u001b[0m=\u001b[35m46640\u001b[0m\n",
      "\u001b[2m2023-09-29 11:27:03\u001b[0m [\u001b[32m\u001b[1minfo     \u001b[0m] \u001b[1mModel parameters are saved to d3rlpy_logs/ProbabilisticEnsembleDynamics_20230929111124/model_46640.pt\u001b[0m\n"
     ]
    },
    {
     "data": {
      "application/vnd.jupyter.widget-view+json": {
       "model_id": "33e4b0f12d3d43c981c6bc537d6cd794",
       "version_major": 2,
       "version_minor": 0
      },
      "text/plain": [
       "Epoch 89/100:   0%|          | 0/530 [00:00<?, ?it/s]"
      ]
     },
     "metadata": {},
     "output_type": "display_data"
    },
    {
     "name": "stdout",
     "output_type": "stream",
     "text": [
      "\u001b[2m2023-09-29 11:27:11\u001b[0m [\u001b[32m\u001b[1minfo     \u001b[0m] \u001b[1mProbabilisticEnsembleDynamics_20230929111124: epoch=89 step=47170\u001b[0m \u001b[36mepoch\u001b[0m=\u001b[35m89\u001b[0m \u001b[36mmetrics\u001b[0m=\u001b[35m{'time_sample_batch': 0.0002580750663325472, 'time_algorithm_update': 0.012693036277339144, 'loss': -77.39728774484598, 'time_step': 0.01302094504518329, 'observation_error': 0.026261512252589863, 'reward_error': 2.4046064161290758e-06, 'variance': 0.014872894959409213}\u001b[0m \u001b[36mstep\u001b[0m=\u001b[35m47170\u001b[0m\n",
      "\u001b[2m2023-09-29 11:27:11\u001b[0m [\u001b[32m\u001b[1minfo     \u001b[0m] \u001b[1mModel parameters are saved to d3rlpy_logs/ProbabilisticEnsembleDynamics_20230929111124/model_47170.pt\u001b[0m\n"
     ]
    },
    {
     "data": {
      "application/vnd.jupyter.widget-view+json": {
       "model_id": "ef0486c9ecbe4b5598a6ed67f13cc2ce",
       "version_major": 2,
       "version_minor": 0
      },
      "text/plain": [
       "Epoch 90/100:   0%|          | 0/530 [00:00<?, ?it/s]"
      ]
     },
     "metadata": {},
     "output_type": "display_data"
    },
    {
     "name": "stdout",
     "output_type": "stream",
     "text": [
      "\u001b[2m2023-09-29 11:27:19\u001b[0m [\u001b[32m\u001b[1minfo     \u001b[0m] \u001b[1mProbabilisticEnsembleDynamics_20230929111124: epoch=90 step=47700\u001b[0m \u001b[36mepoch\u001b[0m=\u001b[35m90\u001b[0m \u001b[36mmetrics\u001b[0m=\u001b[35m{'time_sample_batch': 0.0002608456701602576, 'time_algorithm_update': 0.013260893551808484, 'loss': -79.31718290077066, 'time_step': 0.013591774904503013, 'observation_error': 0.027154096215539218, 'reward_error': 2.6689418238988715e-06, 'variance': 0.013374396318297154}\u001b[0m \u001b[36mstep\u001b[0m=\u001b[35m47700\u001b[0m\n",
      "\u001b[2m2023-09-29 11:27:19\u001b[0m [\u001b[32m\u001b[1minfo     \u001b[0m] \u001b[1mModel parameters are saved to d3rlpy_logs/ProbabilisticEnsembleDynamics_20230929111124/model_47700.pt\u001b[0m\n"
     ]
    },
    {
     "data": {
      "application/vnd.jupyter.widget-view+json": {
       "model_id": "25ed26ec0cef492587db511849f49a01",
       "version_major": 2,
       "version_minor": 0
      },
      "text/plain": [
       "Epoch 91/100:   0%|          | 0/530 [00:00<?, ?it/s]"
      ]
     },
     "metadata": {},
     "output_type": "display_data"
    },
    {
     "name": "stdout",
     "output_type": "stream",
     "text": [
      "\u001b[2m2023-09-29 11:27:28\u001b[0m [\u001b[32m\u001b[1minfo     \u001b[0m] \u001b[1mProbabilisticEnsembleDynamics_20230929111124: epoch=91 step=48230\u001b[0m \u001b[36mepoch\u001b[0m=\u001b[35m91\u001b[0m \u001b[36mmetrics\u001b[0m=\u001b[35m{'time_sample_batch': 0.0002616059105351286, 'time_algorithm_update': 0.013056042959105294, 'loss': -78.11850285080244, 'time_step': 0.013389181640912901, 'observation_error': 0.024340605009765395, 'reward_error': 1.6196701149122332e-06, 'variance': 0.013523170508578626}\u001b[0m \u001b[36mstep\u001b[0m=\u001b[35m48230\u001b[0m\n",
      "\u001b[2m2023-09-29 11:27:28\u001b[0m [\u001b[32m\u001b[1minfo     \u001b[0m] \u001b[1mModel parameters are saved to d3rlpy_logs/ProbabilisticEnsembleDynamics_20230929111124/model_48230.pt\u001b[0m\n"
     ]
    },
    {
     "data": {
      "application/vnd.jupyter.widget-view+json": {
       "model_id": "0a668a288f4a4589b764c848a81a9da2",
       "version_major": 2,
       "version_minor": 0
      },
      "text/plain": [
       "Epoch 92/100:   0%|          | 0/530 [00:00<?, ?it/s]"
      ]
     },
     "metadata": {},
     "output_type": "display_data"
    },
    {
     "name": "stdout",
     "output_type": "stream",
     "text": [
      "\u001b[2m2023-09-29 11:27:36\u001b[0m [\u001b[32m\u001b[1minfo     \u001b[0m] \u001b[1mProbabilisticEnsembleDynamics_20230929111124: epoch=92 step=48760\u001b[0m \u001b[36mepoch\u001b[0m=\u001b[35m92\u001b[0m \u001b[36mmetrics\u001b[0m=\u001b[35m{'time_sample_batch': 0.00025945069654932564, 'time_algorithm_update': 0.012796460907414275, 'loss': -78.08099133833399, 'time_step': 0.013128869938400557, 'observation_error': 0.02713449510895238, 'reward_error': 2.268351167119536e-06, 'variance': 0.014153887459867011}\u001b[0m \u001b[36mstep\u001b[0m=\u001b[35m48760\u001b[0m\n",
      "\u001b[2m2023-09-29 11:27:36\u001b[0m [\u001b[32m\u001b[1minfo     \u001b[0m] \u001b[1mModel parameters are saved to d3rlpy_logs/ProbabilisticEnsembleDynamics_20230929111124/model_48760.pt\u001b[0m\n"
     ]
    },
    {
     "data": {
      "application/vnd.jupyter.widget-view+json": {
       "model_id": "3537dd3697cf44a9adf2a6a9d3512e84",
       "version_major": 2,
       "version_minor": 0
      },
      "text/plain": [
       "Epoch 93/100:   0%|          | 0/530 [00:00<?, ?it/s]"
      ]
     },
     "metadata": {},
     "output_type": "display_data"
    },
    {
     "name": "stdout",
     "output_type": "stream",
     "text": [
      "\u001b[2m2023-09-29 11:27:44\u001b[0m [\u001b[32m\u001b[1minfo     \u001b[0m] \u001b[1mProbabilisticEnsembleDynamics_20230929111124: epoch=93 step=49290\u001b[0m \u001b[36mepoch\u001b[0m=\u001b[35m93\u001b[0m \u001b[36mmetrics\u001b[0m=\u001b[35m{'time_sample_batch': 0.0002659392806718934, 'time_algorithm_update': 0.012891799548886857, 'loss': -78.20729367957925, 'time_step': 0.013230366077063219, 'observation_error': 0.025877290415682628, 'reward_error': 2.2130179516022737e-06, 'variance': 0.01314779207272031}\u001b[0m \u001b[36mstep\u001b[0m=\u001b[35m49290\u001b[0m\n",
      "\u001b[2m2023-09-29 11:27:44\u001b[0m [\u001b[32m\u001b[1minfo     \u001b[0m] \u001b[1mModel parameters are saved to d3rlpy_logs/ProbabilisticEnsembleDynamics_20230929111124/model_49290.pt\u001b[0m\n"
     ]
    },
    {
     "data": {
      "application/vnd.jupyter.widget-view+json": {
       "model_id": "9edd1d81c95f4c8ea529bc1fa5a39162",
       "version_major": 2,
       "version_minor": 0
      },
      "text/plain": [
       "Epoch 94/100:   0%|          | 0/530 [00:00<?, ?it/s]"
      ]
     },
     "metadata": {},
     "output_type": "display_data"
    },
    {
     "name": "stdout",
     "output_type": "stream",
     "text": [
      "\u001b[2m2023-09-29 11:27:52\u001b[0m [\u001b[32m\u001b[1minfo     \u001b[0m] \u001b[1mProbabilisticEnsembleDynamics_20230929111124: epoch=94 step=49820\u001b[0m \u001b[36mepoch\u001b[0m=\u001b[35m94\u001b[0m \u001b[36mmetrics\u001b[0m=\u001b[35m{'time_sample_batch': 0.00025876827959744436, 'time_algorithm_update': 0.012903617912868284, 'loss': -78.81004956803231, 'time_step': 0.013234085856743578, 'observation_error': 0.02405944408166533, 'reward_error': 5.642760207295634e-06, 'variance': 0.012802598021862571}\u001b[0m \u001b[36mstep\u001b[0m=\u001b[35m49820\u001b[0m\n",
      "\u001b[2m2023-09-29 11:27:52\u001b[0m [\u001b[32m\u001b[1minfo     \u001b[0m] \u001b[1mModel parameters are saved to d3rlpy_logs/ProbabilisticEnsembleDynamics_20230929111124/model_49820.pt\u001b[0m\n"
     ]
    },
    {
     "data": {
      "application/vnd.jupyter.widget-view+json": {
       "model_id": "fd505f15894745f0b4ca763d3b965957",
       "version_major": 2,
       "version_minor": 0
      },
      "text/plain": [
       "Epoch 95/100:   0%|          | 0/530 [00:00<?, ?it/s]"
      ]
     },
     "metadata": {},
     "output_type": "display_data"
    },
    {
     "name": "stdout",
     "output_type": "stream",
     "text": [
      "\u001b[2m2023-09-29 11:28:00\u001b[0m [\u001b[32m\u001b[1minfo     \u001b[0m] \u001b[1mProbabilisticEnsembleDynamics_20230929111124: epoch=95 step=50350\u001b[0m \u001b[36mepoch\u001b[0m=\u001b[35m95\u001b[0m \u001b[36mmetrics\u001b[0m=\u001b[35m{'time_sample_batch': 0.00026469455575043303, 'time_algorithm_update': 0.013309708631263588, 'loss': -78.2001476143891, 'time_step': 0.01365058422088623, 'observation_error': 0.027750650634485095, 'reward_error': 4.119265204033636e-06, 'variance': 0.013260720171633936}\u001b[0m \u001b[36mstep\u001b[0m=\u001b[35m50350\u001b[0m\n",
      "\u001b[2m2023-09-29 11:28:00\u001b[0m [\u001b[32m\u001b[1minfo     \u001b[0m] \u001b[1mModel parameters are saved to d3rlpy_logs/ProbabilisticEnsembleDynamics_20230929111124/model_50350.pt\u001b[0m\n"
     ]
    },
    {
     "data": {
      "application/vnd.jupyter.widget-view+json": {
       "model_id": "d7ad82d4181a489a9b2fea39fb4cf7f1",
       "version_major": 2,
       "version_minor": 0
      },
      "text/plain": [
       "Epoch 96/100:   0%|          | 0/530 [00:00<?, ?it/s]"
      ]
     },
     "metadata": {},
     "output_type": "display_data"
    },
    {
     "name": "stdout",
     "output_type": "stream",
     "text": [
      "\u001b[2m2023-09-29 11:28:08\u001b[0m [\u001b[32m\u001b[1minfo     \u001b[0m] \u001b[1mProbabilisticEnsembleDynamics_20230929111124: epoch=96 step=50880\u001b[0m \u001b[36mepoch\u001b[0m=\u001b[35m96\u001b[0m \u001b[36mmetrics\u001b[0m=\u001b[35m{'time_sample_batch': 0.00025884025501755046, 'time_algorithm_update': 0.012915252289682065, 'loss': -79.36837634680406, 'time_step': 0.013245424234642172, 'observation_error': 0.028539693559588214, 'reward_error': 1.6886137744251665e-06, 'variance': 0.01499570423226387}\u001b[0m \u001b[36mstep\u001b[0m=\u001b[35m50880\u001b[0m\n",
      "\u001b[2m2023-09-29 11:28:08\u001b[0m [\u001b[32m\u001b[1minfo     \u001b[0m] \u001b[1mModel parameters are saved to d3rlpy_logs/ProbabilisticEnsembleDynamics_20230929111124/model_50880.pt\u001b[0m\n"
     ]
    },
    {
     "data": {
      "application/vnd.jupyter.widget-view+json": {
       "model_id": "c3db4b2bbab54dcb94aebca15c077226",
       "version_major": 2,
       "version_minor": 0
      },
      "text/plain": [
       "Epoch 97/100:   0%|          | 0/530 [00:00<?, ?it/s]"
      ]
     },
     "metadata": {},
     "output_type": "display_data"
    },
    {
     "name": "stdout",
     "output_type": "stream",
     "text": [
      "\u001b[2m2023-09-29 11:28:16\u001b[0m [\u001b[32m\u001b[1minfo     \u001b[0m] \u001b[1mProbabilisticEnsembleDynamics_20230929111124: epoch=97 step=51410\u001b[0m \u001b[36mepoch\u001b[0m=\u001b[35m97\u001b[0m \u001b[36mmetrics\u001b[0m=\u001b[35m{'time_sample_batch': 0.0002693666602080723, 'time_algorithm_update': 0.012924021594929246, 'loss': -79.1492484398608, 'time_step': 0.013268172965859467, 'observation_error': 0.026195537713497537, 'reward_error': 2.096857699631485e-06, 'variance': 0.01332933954578178}\u001b[0m \u001b[36mstep\u001b[0m=\u001b[35m51410\u001b[0m\n",
      "\u001b[2m2023-09-29 11:28:16\u001b[0m [\u001b[32m\u001b[1minfo     \u001b[0m] \u001b[1mModel parameters are saved to d3rlpy_logs/ProbabilisticEnsembleDynamics_20230929111124/model_51410.pt\u001b[0m\n"
     ]
    },
    {
     "data": {
      "application/vnd.jupyter.widget-view+json": {
       "model_id": "ee6773b8523e40f5862574516f2335d6",
       "version_major": 2,
       "version_minor": 0
      },
      "text/plain": [
       "Epoch 98/100:   0%|          | 0/530 [00:00<?, ?it/s]"
      ]
     },
     "metadata": {},
     "output_type": "display_data"
    },
    {
     "name": "stdout",
     "output_type": "stream",
     "text": [
      "\u001b[2m2023-09-29 11:28:25\u001b[0m [\u001b[32m\u001b[1minfo     \u001b[0m] \u001b[1mProbabilisticEnsembleDynamics_20230929111124: epoch=98 step=51940\u001b[0m \u001b[36mepoch\u001b[0m=\u001b[35m98\u001b[0m \u001b[36mmetrics\u001b[0m=\u001b[35m{'time_sample_batch': 0.00026967930343915834, 'time_algorithm_update': 0.01294171135380583, 'loss': -78.81249899234412, 'time_step': 0.013282822662929319, 'observation_error': 0.026611029896239972, 'reward_error': 2.135120425222167e-06, 'variance': 0.012498832833967606}\u001b[0m \u001b[36mstep\u001b[0m=\u001b[35m51940\u001b[0m\n",
      "\u001b[2m2023-09-29 11:28:25\u001b[0m [\u001b[32m\u001b[1minfo     \u001b[0m] \u001b[1mModel parameters are saved to d3rlpy_logs/ProbabilisticEnsembleDynamics_20230929111124/model_51940.pt\u001b[0m\n"
     ]
    },
    {
     "data": {
      "application/vnd.jupyter.widget-view+json": {
       "model_id": "24511864899a4ae9aa783a81c2003b36",
       "version_major": 2,
       "version_minor": 0
      },
      "text/plain": [
       "Epoch 99/100:   0%|          | 0/530 [00:00<?, ?it/s]"
      ]
     },
     "metadata": {},
     "output_type": "display_data"
    },
    {
     "name": "stdout",
     "output_type": "stream",
     "text": [
      "\u001b[2m2023-09-29 11:28:33\u001b[0m [\u001b[32m\u001b[1minfo     \u001b[0m] \u001b[1mProbabilisticEnsembleDynamics_20230929111124: epoch=99 step=52470\u001b[0m \u001b[36mepoch\u001b[0m=\u001b[35m99\u001b[0m \u001b[36mmetrics\u001b[0m=\u001b[35m{'time_sample_batch': 0.00025926356045704967, 'time_algorithm_update': 0.012917462384925698, 'loss': -78.50234591646014, 'time_step': 0.013246399951430987, 'observation_error': 0.026967493642121053, 'reward_error': 1.785908835401077e-06, 'variance': 0.012565490767809587}\u001b[0m \u001b[36mstep\u001b[0m=\u001b[35m52470\u001b[0m\n",
      "\u001b[2m2023-09-29 11:28:33\u001b[0m [\u001b[32m\u001b[1minfo     \u001b[0m] \u001b[1mModel parameters are saved to d3rlpy_logs/ProbabilisticEnsembleDynamics_20230929111124/model_52470.pt\u001b[0m\n"
     ]
    },
    {
     "data": {
      "application/vnd.jupyter.widget-view+json": {
       "model_id": "b2ea5f2f1665440dadae2dc428e7312b",
       "version_major": 2,
       "version_minor": 0
      },
      "text/plain": [
       "Epoch 100/100:   0%|          | 0/530 [00:00<?, ?it/s]"
      ]
     },
     "metadata": {},
     "output_type": "display_data"
    },
    {
     "name": "stdout",
     "output_type": "stream",
     "text": [
      "\u001b[2m2023-09-29 11:28:41\u001b[0m [\u001b[32m\u001b[1minfo     \u001b[0m] \u001b[1mProbabilisticEnsembleDynamics_20230929111124: epoch=100 step=53000\u001b[0m \u001b[36mepoch\u001b[0m=\u001b[35m100\u001b[0m \u001b[36mmetrics\u001b[0m=\u001b[35m{'time_sample_batch': 0.00026225908747259176, 'time_algorithm_update': 0.01337816355363378, 'loss': -78.91229915978774, 'time_step': 0.013713202836378566, 'observation_error': 0.02558656144630602, 'reward_error': 2.5343300311431827e-06, 'variance': 0.012141100572091912}\u001b[0m \u001b[36mstep\u001b[0m=\u001b[35m53000\u001b[0m\n",
      "\u001b[2m2023-09-29 11:28:41\u001b[0m [\u001b[32m\u001b[1minfo     \u001b[0m] \u001b[1mModel parameters are saved to d3rlpy_logs/ProbabilisticEnsembleDynamics_20230929111124/model_53000.pt\u001b[0m\n"
     ]
    },
    {
     "data": {
      "text/plain": [
       "[(1,\n",
       "  {'time_sample_batch': 0.00033259661692493366,\n",
       "   'time_algorithm_update': 0.017799991931555407,\n",
       "   'loss': -20.412133104080016,\n",
       "   'time_step': 0.018235126981195414,\n",
       "   'observation_error': 0.05122452501369622,\n",
       "   'reward_error': 0.0010851811401877767,\n",
       "   'variance': 0.061272936777414716}),\n",
       " (2,\n",
       "  {'time_sample_batch': 0.00030880694119435434,\n",
       "   'time_algorithm_update': 0.01719002048924284,\n",
       "   'loss': -32.47664208772048,\n",
       "   'time_step': 0.01759045843808156,\n",
       "   'observation_error': 0.03070271193117635,\n",
       "   'reward_error': 0.0002527767268774024,\n",
       "   'variance': 0.029529351023722516}),\n",
       " (3,\n",
       "  {'time_sample_batch': 0.0003708915890387769,\n",
       "   'time_algorithm_update': 0.018562685768559295,\n",
       "   'loss': -39.59974348859967,\n",
       "   'time_step': 0.019040496394319355,\n",
       "   'observation_error': 0.019320719303135253,\n",
       "   'reward_error': 0.00012813193112252102,\n",
       "   'variance': 0.008370734354173041}),\n",
       " (4,\n",
       "  {'time_sample_batch': 0.00041189598587324037,\n",
       "   'time_algorithm_update': 0.02051009232143186,\n",
       "   'loss': -45.66831666658509,\n",
       "   'time_step': 0.021043164775056657,\n",
       "   'observation_error': 0.017105005907388737,\n",
       "   'reward_error': 3.800593019367761e-05,\n",
       "   'variance': 0.0050899498191991615}),\n",
       " (5,\n",
       "  {'time_sample_batch': 0.00028540008472946455,\n",
       "   'time_algorithm_update': 0.014803432518581175,\n",
       "   'loss': -50.989142103015254,\n",
       "   'time_step': 0.015169774361376492,\n",
       "   'observation_error': 0.015502480104548697,\n",
       "   'reward_error': 1.7232393849179995e-05,\n",
       "   'variance': 0.0034933336989965333}),\n",
       " (6,\n",
       "  {'time_sample_batch': 0.0004213571548461914,\n",
       "   'time_algorithm_update': 0.021386801971579498,\n",
       "   'loss': -54.80422955638957,\n",
       "   'time_step': 0.021931462917687758,\n",
       "   'observation_error': 0.01727623001054546,\n",
       "   'reward_error': 1.7473448793193076e-05,\n",
       "   'variance': 0.009455191029797014}),\n",
       " (7,\n",
       "  {'time_sample_batch': 0.0002528109640445349,\n",
       "   'time_algorithm_update': 0.013783202081356409,\n",
       "   'loss': -57.82180048474726,\n",
       "   'time_step': 0.014112602539782254,\n",
       "   'observation_error': 0.02523819936042008,\n",
       "   'reward_error': 1.1288723567681245e-05,\n",
       "   'variance': 0.016596208962165317}),\n",
       " (8,\n",
       "  {'time_sample_batch': 0.0002418603537217626,\n",
       "   'time_algorithm_update': 0.013302937093770728,\n",
       "   'loss': -59.97181646059144,\n",
       "   'time_step': 0.013621030663544278,\n",
       "   'observation_error': 0.02358414102381489,\n",
       "   'reward_error': 1.1890042506973281e-05,\n",
       "   'variance': 0.023563819087165226}),\n",
       " (9,\n",
       "  {'time_sample_batch': 0.00024062417588143978,\n",
       "   'time_algorithm_update': 0.012972847470697367,\n",
       "   'loss': -61.94088985695029,\n",
       "   'time_step': 0.013285816840405733,\n",
       "   'observation_error': 0.03791243643881648,\n",
       "   'reward_error': 1.3443410529580408e-05,\n",
       "   'variance': 0.03708136686249886}),\n",
       " (10,\n",
       "  {'time_sample_batch': 0.0005501652663608767,\n",
       "   'time_algorithm_update': 0.028427433967590333,\n",
       "   'loss': -63.33990565425945,\n",
       "   'time_step': 0.029145997875141647,\n",
       "   'observation_error': 0.04135790380045728,\n",
       "   'reward_error': 1.3443513714087985e-05,\n",
       "   'variance': 0.04047232014120748}),\n",
       " (11,\n",
       "  {'time_sample_batch': 0.0009231765315217792,\n",
       "   'time_algorithm_update': 0.04401969414836956,\n",
       "   'loss': -62.834476249622846,\n",
       "   'time_step': 0.04519812026113834,\n",
       "   'observation_error': 0.04432421911136872,\n",
       "   'reward_error': 9.826894084721747e-06,\n",
       "   'variance': 0.05208830889547658}),\n",
       " (12,\n",
       "  {'time_sample_batch': 0.0008653235885332216,\n",
       "   'time_algorithm_update': 0.04187214779403974,\n",
       "   'loss': -64.18831972963405,\n",
       "   'time_step': 0.04295915747588536,\n",
       "   'observation_error': 0.049309373375705255,\n",
       "   'reward_error': 1.0259783253875893e-05,\n",
       "   'variance': 0.05525980940818887}),\n",
       " (13,\n",
       "  {'time_sample_batch': 0.0005415169697887492,\n",
       "   'time_algorithm_update': 0.026409645800320607,\n",
       "   'loss': -65.78858204067878,\n",
       "   'time_step': 0.027140796859309358,\n",
       "   'observation_error': 0.0485241453111006,\n",
       "   'reward_error': 1.8516859414781524e-05,\n",
       "   'variance': 0.052597995807452856}),\n",
       " (14,\n",
       "  {'time_sample_batch': 0.00033572259938941814,\n",
       "   'time_algorithm_update': 0.018449803568282217,\n",
       "   'loss': -65.64781129225246,\n",
       "   'time_step': 0.01887947163491879,\n",
       "   'observation_error': 0.0639842922713136,\n",
       "   'reward_error': 1.1270112936972703e-05,\n",
       "   'variance': 0.05904040952111293}),\n",
       " (15,\n",
       "  {'time_sample_batch': 0.0002763041910135521,\n",
       "   'time_algorithm_update': 0.014961852217620274,\n",
       "   'loss': -67.25376990336292,\n",
       "   'time_step': 0.015313972167248996,\n",
       "   'observation_error': 0.052796360283653025,\n",
       "   'reward_error': 7.74530451955151e-06,\n",
       "   'variance': 0.05396485844863551}),\n",
       " (16,\n",
       "  {'time_sample_batch': 0.000689603697578862,\n",
       "   'time_algorithm_update': 0.03346070433562657,\n",
       "   'loss': -67.17911743847829,\n",
       "   'time_step': 0.034327781425332125,\n",
       "   'observation_error': 0.058663015714726374,\n",
       "   'reward_error': 1.2664396318714133e-05,\n",
       "   'variance': 0.06369797953059417}),\n",
       " (17,\n",
       "  {'time_sample_batch': 0.0006000959648276275,\n",
       "   'time_algorithm_update': 0.02914149446307488,\n",
       "   'loss': -67.91822125057004,\n",
       "   'time_step': 0.029925105256854365,\n",
       "   'observation_error': 0.05131517864886923,\n",
       "   'reward_error': 7.24873877538924e-06,\n",
       "   'variance': 0.05631169523849699}),\n",
       " (18,\n",
       "  {'time_sample_batch': 0.0011886367258035911,\n",
       "   'time_algorithm_update': 0.05977701106161441,\n",
       "   'loss': -68.4674239572489,\n",
       "   'time_step': 0.061328351272726955,\n",
       "   'observation_error': 0.059621477800907305,\n",
       "   'reward_error': 7.624959043206456e-06,\n",
       "   'variance': 0.060915663909175986}),\n",
       " (19,\n",
       "  {'time_sample_batch': 0.0013251034718639446,\n",
       "   'time_algorithm_update': 0.059490364452577986,\n",
       "   'loss': -68.62509382895703,\n",
       "   'time_step': 0.061218462350233545,\n",
       "   'observation_error': 0.06133395400478845,\n",
       "   'reward_error': 1.1275552682559303e-05,\n",
       "   'variance': 0.0696823628538121}),\n",
       " (20,\n",
       "  {'time_sample_batch': 0.0005566336073965397,\n",
       "   'time_algorithm_update': 0.030079545614854344,\n",
       "   'loss': -69.80945651193835,\n",
       "   'time_step': 0.030820361173377848,\n",
       "   'observation_error': 0.05950156556726813,\n",
       "   'reward_error': 7.3332883297531445e-06,\n",
       "   'variance': 0.06245188768652463}),\n",
       " (21,\n",
       "  {'time_sample_batch': 0.0003434671545928379,\n",
       "   'time_algorithm_update': 0.01761069837606178,\n",
       "   'loss': -69.76888222964305,\n",
       "   'time_step': 0.018048967505401036,\n",
       "   'observation_error': 0.06386523390159587,\n",
       "   'reward_error': 4.857642131188769e-06,\n",
       "   'variance': 0.06600326176921535}),\n",
       " (22,\n",
       "  {'time_sample_batch': 0.0003254535063257757,\n",
       "   'time_algorithm_update': 0.017896470033897542,\n",
       "   'loss': -70.22852872812523,\n",
       "   'time_step': 0.01831411640599089,\n",
       "   'observation_error': 0.06605615835447338,\n",
       "   'reward_error': 4.60721693591686e-06,\n",
       "   'variance': 0.06186358347411099}),\n",
       " (23,\n",
       "  {'time_sample_batch': 0.0002480844281754404,\n",
       "   'time_algorithm_update': 0.01373051202522134,\n",
       "   'loss': -70.83984474685957,\n",
       "   'time_step': 0.014054630387504145,\n",
       "   'observation_error': 0.05781598093877873,\n",
       "   'reward_error': 5.1193364213631935e-06,\n",
       "   'variance': 0.06438034351702154}),\n",
       " (24,\n",
       "  {'time_sample_batch': 0.0004490451992682691,\n",
       "   'time_algorithm_update': 0.023557868543660865,\n",
       "   'loss': -70.78697811072728,\n",
       "   'time_step': 0.024139120443811956,\n",
       "   'observation_error': 0.06007225411129482,\n",
       "   'reward_error': 4.656911369405527e-06,\n",
       "   'variance': 0.06477023289953614}),\n",
       " (25,\n",
       "  {'time_sample_batch': 0.0002714615947795364,\n",
       "   'time_algorithm_update': 0.014593084803167379,\n",
       "   'loss': -71.27660174459781,\n",
       "   'time_step': 0.014943678873889851,\n",
       "   'observation_error': 0.06714805912053613,\n",
       "   'reward_error': 5.194499509730657e-06,\n",
       "   'variance': 0.05943042637506311}),\n",
       " (26,\n",
       "  {'time_sample_batch': 0.0002190140058409493,\n",
       "   'time_algorithm_update': 0.012370561203866634,\n",
       "   'loss': -71.45303584404711,\n",
       "   'time_step': 0.012658020685303886,\n",
       "   'observation_error': 0.05092257880650948,\n",
       "   'reward_error': 4.417132052277008e-06,\n",
       "   'variance': 0.05751030125924735}),\n",
       " (27,\n",
       "  {'time_sample_batch': 0.00021676612350175965,\n",
       "   'time_algorithm_update': 0.01231299841179038,\n",
       "   'loss': -71.28712139489515,\n",
       "   'time_step': 0.01260039266550316,\n",
       "   'observation_error': 0.055466723441066124,\n",
       "   'reward_error': 4.130526414919878e-06,\n",
       "   'variance': 0.05930555979300593}),\n",
       " (28,\n",
       "  {'time_sample_batch': 0.00021747148261879975,\n",
       "   'time_algorithm_update': 0.011870245213778514,\n",
       "   'loss': -72.01450376690559,\n",
       "   'time_step': 0.01215164931315296,\n",
       "   'observation_error': 0.05384452977682634,\n",
       "   'reward_error': 4.958277186516445e-06,\n",
       "   'variance': 0.059429284071312434}),\n",
       " (29,\n",
       "  {'time_sample_batch': 0.00020851369174021596,\n",
       "   'time_algorithm_update': 0.011733845494828135,\n",
       "   'loss': -72.74389545242741,\n",
       "   'time_step': 0.012006903144548524,\n",
       "   'observation_error': 0.05612882193147803,\n",
       "   'reward_error': 4.01361379475133e-06,\n",
       "   'variance': 0.05502982951260663}),\n",
       " (30,\n",
       "  {'time_sample_batch': 0.00023463896985323924,\n",
       "   'time_algorithm_update': 0.012923775978808134,\n",
       "   'loss': -72.60151137226033,\n",
       "   'time_step': 0.013230951777044333,\n",
       "   'observation_error': 0.05133315335196834,\n",
       "   'reward_error': 4.073855459538848e-06,\n",
       "   'variance': 0.051052123275909723}),\n",
       " (31,\n",
       "  {'time_sample_batch': 0.00021287900096965287,\n",
       "   'time_algorithm_update': 0.011945185571346642,\n",
       "   'loss': -72.57351251188314,\n",
       "   'time_step': 0.012222263498126336,\n",
       "   'observation_error': 0.05526679970679322,\n",
       "   'reward_error': 3.5052083203599725e-06,\n",
       "   'variance': 0.051675972801671695}),\n",
       " (32,\n",
       "  {'time_sample_batch': 0.0002157094343653265,\n",
       "   'time_algorithm_update': 0.011805234765106778,\n",
       "   'loss': -72.92850612694363,\n",
       "   'time_step': 0.012086248847673524,\n",
       "   'observation_error': 0.051392913181831756,\n",
       "   'reward_error': 3.938034307162024e-06,\n",
       "   'variance': 0.04942470509570993}),\n",
       " (33,\n",
       "  {'time_sample_batch': 0.00021326451931359634,\n",
       "   'time_algorithm_update': 0.011651442185887751,\n",
       "   'loss': -73.42930552464611,\n",
       "   'time_step': 0.01192795510561961,\n",
       "   'observation_error': 0.05453318835381707,\n",
       "   'reward_error': 4.376021708468808e-06,\n",
       "   'variance': 0.045130509826814026}),\n",
       " (34,\n",
       "  {'time_sample_batch': 0.00023014410486761128,\n",
       "   'time_algorithm_update': 0.012615682493965582,\n",
       "   'loss': -73.44760344883181,\n",
       "   'time_step': 0.012911709749473716,\n",
       "   'observation_error': 0.05038565043159434,\n",
       "   'reward_error': 3.267699977150269e-06,\n",
       "   'variance': 0.04624445905082057}),\n",
       " (35,\n",
       "  {'time_sample_batch': 0.00021751916633462007,\n",
       "   'time_algorithm_update': 0.012010991348410553,\n",
       "   'loss': -72.93064856619205,\n",
       "   'time_step': 0.01229529155875152,\n",
       "   'observation_error': 0.05061202782108373,\n",
       "   'reward_error': 3.966337030333665e-06,\n",
       "   'variance': 0.04764189232445529}),\n",
       " (36,\n",
       "  {'time_sample_batch': 0.0002229915474945644,\n",
       "   'time_algorithm_update': 0.012258389760863107,\n",
       "   'loss': -73.1264863662,\n",
       "   'time_step': 0.012549001765701007,\n",
       "   'observation_error': 0.050883980126988845,\n",
       "   'reward_error': 3.7910144222657e-06,\n",
       "   'variance': 0.04370624398781017}),\n",
       " (37,\n",
       "  {'time_sample_batch': 0.0002108915796819723,\n",
       "   'time_algorithm_update': 0.011969457932238308,\n",
       "   'loss': -73.60528620234075,\n",
       "   'time_step': 0.012247901592614515,\n",
       "   'observation_error': 0.04517218962564351,\n",
       "   'reward_error': 4.3864927844845904e-06,\n",
       "   'variance': 0.04206439548020809}),\n",
       " (38,\n",
       "  {'time_sample_batch': 0.00022001131525579488,\n",
       "   'time_algorithm_update': 0.012160756902874641,\n",
       "   'loss': -73.9924356748473,\n",
       "   'time_step': 0.012448983372382398,\n",
       "   'observation_error': 0.046050829496724746,\n",
       "   'reward_error': 4.339441269951612e-06,\n",
       "   'variance': 0.041669609716905955}),\n",
       " (39,\n",
       "  {'time_sample_batch': 0.00023296554133577166,\n",
       "   'time_algorithm_update': 0.01261278323407443,\n",
       "   'loss': -73.78414862830684,\n",
       "   'time_step': 0.012919831725786318,\n",
       "   'observation_error': 0.040919099443158996,\n",
       "   'reward_error': 4.113512664627314e-06,\n",
       "   'variance': 0.03938303311409193}),\n",
       " (40,\n",
       "  {'time_sample_batch': 0.0002263869879380712,\n",
       "   'time_algorithm_update': 0.012424103269037211,\n",
       "   'loss': -73.7735917541216,\n",
       "   'time_step': 0.012720898862154979,\n",
       "   'observation_error': 0.04918248094133487,\n",
       "   'reward_error': 3.264055990994634e-06,\n",
       "   'variance': 0.039208464769263006}),\n",
       " (41,\n",
       "  {'time_sample_batch': 0.00021726455328599463,\n",
       "   'time_algorithm_update': 0.01190438540476673,\n",
       "   'loss': -74.81808409780827,\n",
       "   'time_step': 0.012185542988327315,\n",
       "   'observation_error': 0.04441194108868245,\n",
       "   'reward_error': 3.5585025797042944e-06,\n",
       "   'variance': 0.03525826544713498}),\n",
       " (42,\n",
       "  {'time_sample_batch': 0.0002391630748532853,\n",
       "   'time_algorithm_update': 0.012601507384822054,\n",
       "   'loss': -74.53842510727216,\n",
       "   'time_step': 0.012909117734657144,\n",
       "   'observation_error': 0.04592974843504896,\n",
       "   'reward_error': 6.6093592656777895e-06,\n",
       "   'variance': 0.0361174887163605}),\n",
       " (43,\n",
       "  {'time_sample_batch': 0.00021201529592837926,\n",
       "   'time_algorithm_update': 0.011837733016823823,\n",
       "   'loss': -74.61355973549608,\n",
       "   'time_step': 0.01211660493094966,\n",
       "   'observation_error': 0.04207649422280918,\n",
       "   'reward_error': 3.941460868684793e-06,\n",
       "   'variance': 0.03317257495411961}),\n",
       " (44,\n",
       "  {'time_sample_batch': 0.00023745635770401865,\n",
       "   'time_algorithm_update': 0.01288957011024907,\n",
       "   'loss': -74.48083333069424,\n",
       "   'time_step': 0.013197886269047575,\n",
       "   'observation_error': 0.041748275943728305,\n",
       "   'reward_error': 3.459535775680124e-06,\n",
       "   'variance': 0.03218577432978345}),\n",
       " (45,\n",
       "  {'time_sample_batch': 0.00020806384536455261,\n",
       "   'time_algorithm_update': 0.01183601235443691,\n",
       "   'loss': -74.43943344512076,\n",
       "   'time_step': 0.012109881077172622,\n",
       "   'observation_error': 0.04931009454051875,\n",
       "   'reward_error': 3.4262041211028717e-06,\n",
       "   'variance': 0.03174327813929715}),\n",
       " (46,\n",
       "  {'time_sample_batch': 0.0002100521663449845,\n",
       "   'time_algorithm_update': 0.011770754940104934,\n",
       "   'loss': -75.16069973639722,\n",
       "   'time_step': 0.012045175624343584,\n",
       "   'observation_error': 0.03744878806288466,\n",
       "   'reward_error': 2.943187097116264e-06,\n",
       "   'variance': 0.029396880819332318}),\n",
       " (47,\n",
       "  {'time_sample_batch': 0.0002137998365006357,\n",
       "   'time_algorithm_update': 0.011913205992500737,\n",
       "   'loss': -74.12571661967152,\n",
       "   'time_step': 0.012193362218029094,\n",
       "   'observation_error': 0.046165878134458826,\n",
       "   'reward_error': 2.8876133615663027e-06,\n",
       "   'variance': 0.030368684492606532}),\n",
       " (48,\n",
       "  {'time_sample_batch': 0.00020905350739101194,\n",
       "   'time_algorithm_update': 0.01177555075231588,\n",
       "   'loss': -74.61441153580287,\n",
       "   'time_step': 0.01204820713906918,\n",
       "   'observation_error': 0.03966082534654918,\n",
       "   'reward_error': 3.1220784310696565e-06,\n",
       "   'variance': 0.02736604698455948}),\n",
       " (49,\n",
       "  {'time_sample_batch': 0.0002163792556186892,\n",
       "   'time_algorithm_update': 0.012028981154819705,\n",
       "   'loss': -74.9626923831004,\n",
       "   'time_step': 0.012310436086834601,\n",
       "   'observation_error': 0.03828628911082982,\n",
       "   'reward_error': 3.610855162217695e-06,\n",
       "   'variance': 0.028245123177694238}),\n",
       " (50,\n",
       "  {'time_sample_batch': 0.00021815120049242703,\n",
       "   'time_algorithm_update': 0.011867742268544323,\n",
       "   'loss': -75.45014302955484,\n",
       "   'time_step': 0.012149554378581498,\n",
       "   'observation_error': 0.038574360795443484,\n",
       "   'reward_error': 2.3459218646287318e-06,\n",
       "   'variance': 0.026728652089972323}),\n",
       " (51,\n",
       "  {'time_sample_batch': 0.00020969498832270784,\n",
       "   'time_algorithm_update': 0.011863224911239912,\n",
       "   'loss': -75.0148216571448,\n",
       "   'time_step': 0.012137780099544885,\n",
       "   'observation_error': 0.036071390067189214,\n",
       "   'reward_error': 2.912674482441612e-06,\n",
       "   'variance': 0.02644411706288823}),\n",
       " (52,\n",
       "  {'time_sample_batch': 0.00021631627712609633,\n",
       "   'time_algorithm_update': 0.011903399341511276,\n",
       "   'loss': -75.04825341926431,\n",
       "   'time_step': 0.01218645932539454,\n",
       "   'observation_error': 0.04224147702533676,\n",
       "   'reward_error': 2.7790456640673815e-06,\n",
       "   'variance': 0.02720507225952064}),\n",
       " (53,\n",
       "  {'time_sample_batch': 0.00021650026429374263,\n",
       "   'time_algorithm_update': 0.0120696855041216,\n",
       "   'loss': -75.1842740184856,\n",
       "   'time_step': 0.012352115703078936,\n",
       "   'observation_error': 0.03827753456829803,\n",
       "   'reward_error': 3.0384350822293994e-06,\n",
       "   'variance': 0.026049907924351384}),\n",
       " (54,\n",
       "  {'time_sample_batch': 0.00021030947847186393,\n",
       "   'time_algorithm_update': 0.011652688260348338,\n",
       "   'loss': -74.61505893491349,\n",
       "   'time_step': 0.011928573194539771,\n",
       "   'observation_error': 0.03579394065082487,\n",
       "   'reward_error': 2.418002433646334e-06,\n",
       "   'variance': 0.025221960122654756}),\n",
       " (55,\n",
       "  {'time_sample_batch': 0.00021469683017370835,\n",
       "   'time_algorithm_update': 0.011885631759211703,\n",
       "   'loss': -75.59899183939088,\n",
       "   'time_step': 0.012166073637188605,\n",
       "   'observation_error': 0.03479271606822143,\n",
       "   'reward_error': 6.4806649624640955e-06,\n",
       "   'variance': 0.022986109668235232}),\n",
       " (56,\n",
       "  {'time_sample_batch': 0.0003204674090979234,\n",
       "   'time_algorithm_update': 0.017131571949652907,\n",
       "   'loss': -75.2902534772765,\n",
       "   'time_step': 0.01755140727421023,\n",
       "   'observation_error': 0.03393886709624912,\n",
       "   'reward_error': 2.6423067929199885e-06,\n",
       "   'variance': 0.023349863636381113}),\n",
       " (57,\n",
       "  {'time_sample_batch': 0.00032007334367284234,\n",
       "   'time_algorithm_update': 0.016416756611949992,\n",
       "   'loss': -76.38465303205095,\n",
       "   'time_step': 0.016822188755251325,\n",
       "   'observation_error': 0.03439911739217015,\n",
       "   'reward_error': 4.078634765525912e-06,\n",
       "   'variance': 0.023176009929490475}),\n",
       " (58,\n",
       "  {'time_sample_batch': 0.0002819272707093437,\n",
       "   'time_algorithm_update': 0.014988862793400603,\n",
       "   'loss': -76.42608065335256,\n",
       "   'time_step': 0.015350526683735398,\n",
       "   'observation_error': 0.037157694396361726,\n",
       "   'reward_error': 2.287662458052497e-06,\n",
       "   'variance': 0.021805680911873737}),\n",
       " (59,\n",
       "  {'time_sample_batch': 0.00029003440209154815,\n",
       "   'time_algorithm_update': 0.015174890014360535,\n",
       "   'loss': -75.12382061436492,\n",
       "   'time_step': 0.015549993964861024,\n",
       "   'observation_error': 0.031240384780602124,\n",
       "   'reward_error': 2.2690771700197143e-06,\n",
       "   'variance': 0.02177502499956835}),\n",
       " (60,\n",
       "  {'time_sample_batch': 0.0003254454090910138,\n",
       "   'time_algorithm_update': 0.016900059861956904,\n",
       "   'loss': -75.93701460316495,\n",
       "   'time_step': 0.017321764298205106,\n",
       "   'observation_error': 0.033019261122399036,\n",
       "   'reward_error': 3.7358440157813256e-06,\n",
       "   'variance': 0.022068056530210302}),\n",
       " (61,\n",
       "  {'time_sample_batch': 0.00032478458476516435,\n",
       "   'time_algorithm_update': 0.016943627483439895,\n",
       "   'loss': -75.66797068973757,\n",
       "   'time_step': 0.017360024182301648,\n",
       "   'observation_error': 0.031815568526795054,\n",
       "   'reward_error': 2.509068657694085e-06,\n",
       "   'variance': 0.01930256270520433}),\n",
       " (62,\n",
       "  {'time_sample_batch': 0.00032555337222117296,\n",
       "   'time_algorithm_update': 0.017301396603854196,\n",
       "   'loss': -75.63365158225005,\n",
       "   'time_step': 0.01772040736000493,\n",
       "   'observation_error': 0.02951510374935123,\n",
       "   'reward_error': 2.56273625390896e-06,\n",
       "   'variance': 0.0204913430412148}),\n",
       " (63,\n",
       "  {'time_sample_batch': 0.0002702964926665684,\n",
       "   'time_algorithm_update': 0.01424931580165647,\n",
       "   'loss': -76.55617382481412,\n",
       "   'time_step': 0.014593600776960265,\n",
       "   'observation_error': 0.03445127351178642,\n",
       "   'reward_error': 2.4831065440827204e-06,\n",
       "   'variance': 0.018387538575256785}),\n",
       " (64,\n",
       "  {'time_sample_batch': 0.0002602716661849112,\n",
       "   'time_algorithm_update': 0.013732302863642855,\n",
       "   'loss': -76.63372791218308,\n",
       "   'time_step': 0.01406971553586564,\n",
       "   'observation_error': 0.034894273915073895,\n",
       "   'reward_error': 2.4756642411495937e-06,\n",
       "   'variance': 0.018805409686277325}),\n",
       " (65,\n",
       "  {'time_sample_batch': 0.00027412108655245796,\n",
       "   'time_algorithm_update': 0.01435446469288952,\n",
       "   'loss': -76.52732433463042,\n",
       "   'time_step': 0.014706218917414826,\n",
       "   'observation_error': 0.02799637575136321,\n",
       "   'reward_error': 2.0445282054651005e-06,\n",
       "   'variance': 0.017822787858222968}),\n",
       " (66,\n",
       "  {'time_sample_batch': 0.00026819975870960165,\n",
       "   'time_algorithm_update': 0.014337397971243228,\n",
       "   'loss': -76.47635112258624,\n",
       "   'time_step': 0.014682229959739829,\n",
       "   'observation_error': 0.027860274124098396,\n",
       "   'reward_error': 3.0486014551906796e-06,\n",
       "   'variance': 0.019055230163657066}),\n",
       " (67,\n",
       "  {'time_sample_batch': 0.0002685938241346827,\n",
       "   'time_algorithm_update': 0.014210697389998526,\n",
       "   'loss': -75.06184901651346,\n",
       "   'time_step': 0.014557526246556696,\n",
       "   'observation_error': 0.02909151265203349,\n",
       "   'reward_error': 3.1106381937376017e-06,\n",
       "   'variance': 0.018063176574721163}),\n",
       " (68,\n",
       "  {'time_sample_batch': 0.0002640053911029168,\n",
       "   'time_algorithm_update': 0.014141846602817752,\n",
       "   'loss': -76.60032080524373,\n",
       "   'time_step': 0.014481673150692346,\n",
       "   'observation_error': 0.02952686627378928,\n",
       "   'reward_error': 2.816465245533148e-06,\n",
       "   'variance': 0.018629540338322377}),\n",
       " (69,\n",
       "  {'time_sample_batch': 0.0002863222697995744,\n",
       "   'time_algorithm_update': 0.0145037848994417,\n",
       "   'loss': -75.55379502998208,\n",
       "   'time_step': 0.014868908558251723,\n",
       "   'observation_error': 0.03267774143213153,\n",
       "   'reward_error': 2.0032926895112953e-06,\n",
       "   'variance': 0.019403780181471538}),\n",
       " (70,\n",
       "  {'time_sample_batch': 0.00027218089913422206,\n",
       "   'time_algorithm_update': 0.01413357122889105,\n",
       "   'loss': -77.1583772749271,\n",
       "   'time_step': 0.01448399840660815,\n",
       "   'observation_error': 0.026019847336565597,\n",
       "   'reward_error': 2.676964185710358e-06,\n",
       "   'variance': 0.017157533702488757}),\n",
       " (71,\n",
       "  {'time_sample_batch': 0.00026737294107113247,\n",
       "   'time_algorithm_update': 0.014380625958712596,\n",
       "   'loss': -73.88170498182188,\n",
       "   'time_step': 0.014730423801350144,\n",
       "   'observation_error': 0.028514870932784212,\n",
       "   'reward_error': 3.0153709100023472e-06,\n",
       "   'variance': 0.0181905706021363}),\n",
       " (72,\n",
       "  {'time_sample_batch': 0.00026537697270231426,\n",
       "   'time_algorithm_update': 0.014525169246601608,\n",
       "   'loss': -78.16160413634103,\n",
       "   'time_step': 0.014864985448009562,\n",
       "   'observation_error': 0.028414993947489846,\n",
       "   'reward_error': 9.772102283346336e-06,\n",
       "   'variance': 0.016190294939928317}),\n",
       " (73,\n",
       "  {'time_sample_batch': 0.0002704692336748231,\n",
       "   'time_algorithm_update': 0.014069879729792756,\n",
       "   'loss': -77.08009555744675,\n",
       "   'time_step': 0.014417513361516988,\n",
       "   'observation_error': 0.02915859501728734,\n",
       "   'reward_error': 4.080101402224431e-06,\n",
       "   'variance': 0.016617058615418814}),\n",
       " (74,\n",
       "  {'time_sample_batch': 0.00026612911584242337,\n",
       "   'time_algorithm_update': 0.014222397894229528,\n",
       "   'loss': -77.79221580073519,\n",
       "   'time_step': 0.01456775485344653,\n",
       "   'observation_error': 0.028694801091797565,\n",
       "   'reward_error': 2.193000830485206e-06,\n",
       "   'variance': 0.016111361255401378}),\n",
       " (75,\n",
       "  {'time_sample_batch': 0.0002702659031130233,\n",
       "   'time_algorithm_update': 0.014437929189430094,\n",
       "   'loss': -76.45521523997469,\n",
       "   'time_step': 0.014786551133641657,\n",
       "   'observation_error': 0.02696950043889556,\n",
       "   'reward_error': 2.113873584618874e-06,\n",
       "   'variance': 0.015915734825928323}),\n",
       " (76,\n",
       "  {'time_sample_batch': 0.0002682739833615861,\n",
       "   'time_algorithm_update': 0.0142415186144271,\n",
       "   'loss': -77.49628700760175,\n",
       "   'time_step': 0.0145887923690508,\n",
       "   'observation_error': 0.03215411812705641,\n",
       "   'reward_error': 2.4065126203677662e-06,\n",
       "   'variance': 0.015488457909151012}),\n",
       " (77,\n",
       "  {'time_sample_batch': 0.0002677301190934091,\n",
       "   'time_algorithm_update': 0.014274821641310206,\n",
       "   'loss': -78.2297306924496,\n",
       "   'time_step': 0.01461704542052071,\n",
       "   'observation_error': 0.027868823916285403,\n",
       "   'reward_error': 2.205071119730097e-06,\n",
       "   'variance': 0.015202775264357465}),\n",
       " (78,\n",
       "  {'time_sample_batch': 0.0002714350538433723,\n",
       "   'time_algorithm_update': 0.014226627799699892,\n",
       "   'loss': -76.34059462637272,\n",
       "   'time_step': 0.014576776522510456,\n",
       "   'observation_error': 0.021626726309728714,\n",
       "   'reward_error': 2.041743509087938e-06,\n",
       "   'variance': 0.015222666641655825}),\n",
       " (79,\n",
       "  {'time_sample_batch': 0.00026801397215645267,\n",
       "   'time_algorithm_update': 0.014306473731994628,\n",
       "   'loss': -77.61770360694742,\n",
       "   'time_step': 0.014654399314016665,\n",
       "   'observation_error': 0.02575141729649705,\n",
       "   'reward_error': 2.5697039391379124e-06,\n",
       "   'variance': 0.014693059382201161}),\n",
       " (80,\n",
       "  {'time_sample_batch': 0.0003285763398656305,\n",
       "   'time_algorithm_update': 0.016607934124064895,\n",
       "   'loss': -76.18036203924215,\n",
       "   'time_step': 0.017033545476085734,\n",
       "   'observation_error': 0.025299191802158713,\n",
       "   'reward_error': 3.148129818435072e-06,\n",
       "   'variance': 0.015788859549015714}),\n",
       " (81,\n",
       "  {'time_sample_batch': 0.0004356726160589254,\n",
       "   'time_algorithm_update': 0.02102590371977608,\n",
       "   'loss': -77.73877934149976,\n",
       "   'time_step': 0.021577333504298947,\n",
       "   'observation_error': 0.025178762855202985,\n",
       "   'reward_error': 2.512057744896048e-06,\n",
       "   'variance': 0.014973641810300435}),\n",
       " (82,\n",
       "  {'time_sample_batch': 0.0003661286156132536,\n",
       "   'time_algorithm_update': 0.018567963366238577,\n",
       "   'loss': -78.60519572923768,\n",
       "   'time_step': 0.01903271495171313,\n",
       "   'observation_error': 0.027135141914751644,\n",
       "   'reward_error': 2.1108807746986064e-06,\n",
       "   'variance': 0.01483264094306259}),\n",
       " (83,\n",
       "  {'time_sample_batch': 0.0004347589780699532,\n",
       "   'time_algorithm_update': 0.021959892758783305,\n",
       "   'loss': -77.47610302331313,\n",
       "   'time_step': 0.02252780041604672,\n",
       "   'observation_error': 0.029723640076938975,\n",
       "   'reward_error': 4.60204113655787e-06,\n",
       "   'variance': 0.014471729479413354}),\n",
       " (84,\n",
       "  {'time_sample_batch': 0.0002672303397700472,\n",
       "   'time_algorithm_update': 0.013016274740111152,\n",
       "   'loss': -78.04706600117234,\n",
       "   'time_step': 0.013358052721563375,\n",
       "   'observation_error': 0.029760204118024353,\n",
       "   'reward_error': 2.1448418015051485e-06,\n",
       "   'variance': 0.014819866347916622}),\n",
       " (85,\n",
       "  {'time_sample_batch': 0.00026361447460246536,\n",
       "   'time_algorithm_update': 0.013171741647540399,\n",
       "   'loss': -77.23396427946271,\n",
       "   'time_step': 0.013510207410128611,\n",
       "   'observation_error': 0.02417918709424649,\n",
       "   'reward_error': 1.8012511216796385e-06,\n",
       "   'variance': 0.014779475713161584}),\n",
       " (86,\n",
       "  {'time_sample_batch': 0.00026067832730851083,\n",
       "   'time_algorithm_update': 0.01315969116282913,\n",
       "   'loss': -75.72691439862521,\n",
       "   'time_step': 0.013491819039830622,\n",
       "   'observation_error': 0.02610460883706468,\n",
       "   'reward_error': 5.0014475404323385e-06,\n",
       "   'variance': 0.01590669931932067}),\n",
       " (87,\n",
       "  {'time_sample_batch': 0.00025139394796119547,\n",
       "   'time_algorithm_update': 0.012994190431990713,\n",
       "   'loss': -78.69593828669134,\n",
       "   'time_step': 0.013317440140922114,\n",
       "   'observation_error': 0.031822404735377494,\n",
       "   'reward_error': 2.5327069335205834e-06,\n",
       "   'variance': 0.014900619352741161}),\n",
       " (88,\n",
       "  {'time_sample_batch': 0.0002721674037429522,\n",
       "   'time_algorithm_update': 0.013153224171332594,\n",
       "   'loss': -78.59650344848633,\n",
       "   'time_step': 0.013499846548404333,\n",
       "   'observation_error': 0.028566251131329122,\n",
       "   'reward_error': 1.839934088338523e-06,\n",
       "   'variance': 0.013672434412786838}),\n",
       " (89,\n",
       "  {'time_sample_batch': 0.0002580750663325472,\n",
       "   'time_algorithm_update': 0.012693036277339144,\n",
       "   'loss': -77.39728774484598,\n",
       "   'time_step': 0.01302094504518329,\n",
       "   'observation_error': 0.026261512252589863,\n",
       "   'reward_error': 2.4046064161290758e-06,\n",
       "   'variance': 0.014872894959409213}),\n",
       " (90,\n",
       "  {'time_sample_batch': 0.0002608456701602576,\n",
       "   'time_algorithm_update': 0.013260893551808484,\n",
       "   'loss': -79.31718290077066,\n",
       "   'time_step': 0.013591774904503013,\n",
       "   'observation_error': 0.027154096215539218,\n",
       "   'reward_error': 2.6689418238988715e-06,\n",
       "   'variance': 0.013374396318297154}),\n",
       " (91,\n",
       "  {'time_sample_batch': 0.0002616059105351286,\n",
       "   'time_algorithm_update': 0.013056042959105294,\n",
       "   'loss': -78.11850285080244,\n",
       "   'time_step': 0.013389181640912901,\n",
       "   'observation_error': 0.024340605009765395,\n",
       "   'reward_error': 1.6196701149122332e-06,\n",
       "   'variance': 0.013523170508578626}),\n",
       " (92,\n",
       "  {'time_sample_batch': 0.00025945069654932564,\n",
       "   'time_algorithm_update': 0.012796460907414275,\n",
       "   'loss': -78.08099133833399,\n",
       "   'time_step': 0.013128869938400557,\n",
       "   'observation_error': 0.02713449510895238,\n",
       "   'reward_error': 2.268351167119536e-06,\n",
       "   'variance': 0.014153887459867011}),\n",
       " (93,\n",
       "  {'time_sample_batch': 0.0002659392806718934,\n",
       "   'time_algorithm_update': 0.012891799548886857,\n",
       "   'loss': -78.20729367957925,\n",
       "   'time_step': 0.013230366077063219,\n",
       "   'observation_error': 0.025877290415682628,\n",
       "   'reward_error': 2.2130179516022737e-06,\n",
       "   'variance': 0.01314779207272031}),\n",
       " (94,\n",
       "  {'time_sample_batch': 0.00025876827959744436,\n",
       "   'time_algorithm_update': 0.012903617912868284,\n",
       "   'loss': -78.81004956803231,\n",
       "   'time_step': 0.013234085856743578,\n",
       "   'observation_error': 0.02405944408166533,\n",
       "   'reward_error': 5.642760207295634e-06,\n",
       "   'variance': 0.012802598021862571}),\n",
       " (95,\n",
       "  {'time_sample_batch': 0.00026469455575043303,\n",
       "   'time_algorithm_update': 0.013309708631263588,\n",
       "   'loss': -78.2001476143891,\n",
       "   'time_step': 0.01365058422088623,\n",
       "   'observation_error': 0.027750650634485095,\n",
       "   'reward_error': 4.119265204033636e-06,\n",
       "   'variance': 0.013260720171633936}),\n",
       " (96,\n",
       "  {'time_sample_batch': 0.00025884025501755046,\n",
       "   'time_algorithm_update': 0.012915252289682065,\n",
       "   'loss': -79.36837634680406,\n",
       "   'time_step': 0.013245424234642172,\n",
       "   'observation_error': 0.028539693559588214,\n",
       "   'reward_error': 1.6886137744251665e-06,\n",
       "   'variance': 0.01499570423226387}),\n",
       " (97,\n",
       "  {'time_sample_batch': 0.0002693666602080723,\n",
       "   'time_algorithm_update': 0.012924021594929246,\n",
       "   'loss': -79.1492484398608,\n",
       "   'time_step': 0.013268172965859467,\n",
       "   'observation_error': 0.026195537713497537,\n",
       "   'reward_error': 2.096857699631485e-06,\n",
       "   'variance': 0.01332933954578178}),\n",
       " (98,\n",
       "  {'time_sample_batch': 0.00026967930343915834,\n",
       "   'time_algorithm_update': 0.01294171135380583,\n",
       "   'loss': -78.81249899234412,\n",
       "   'time_step': 0.013282822662929319,\n",
       "   'observation_error': 0.026611029896239972,\n",
       "   'reward_error': 2.135120425222167e-06,\n",
       "   'variance': 0.012498832833967606}),\n",
       " (99,\n",
       "  {'time_sample_batch': 0.00025926356045704967,\n",
       "   'time_algorithm_update': 0.012917462384925698,\n",
       "   'loss': -78.50234591646014,\n",
       "   'time_step': 0.013246399951430987,\n",
       "   'observation_error': 0.026967493642121053,\n",
       "   'reward_error': 1.785908835401077e-06,\n",
       "   'variance': 0.012565490767809587}),\n",
       " (100,\n",
       "  {'time_sample_batch': 0.00026225908747259176,\n",
       "   'time_algorithm_update': 0.01337816355363378,\n",
       "   'loss': -78.91229915978774,\n",
       "   'time_step': 0.013713202836378566,\n",
       "   'observation_error': 0.02558656144630602,\n",
       "   'reward_error': 2.5343300311431827e-06,\n",
       "   'variance': 0.012141100572091912})]"
      ]
     },
     "execution_count": 18,
     "metadata": {},
     "output_type": "execute_result"
    }
   ],
   "source": [
    "# same as algorithms\n",
    "dynamics.fit(train_episodes,\n",
    "             eval_episodes=test_episodes,\n",
    "             n_epochs=100,\n",
    "             scorers={\n",
    "                'observation_error': d3rlpy.metrics.scorer.dynamics_observation_prediction_error_scorer,\n",
    "                'reward_error': d3rlpy.metrics.scorer.dynamics_reward_prediction_error_scorer,\n",
    "                'variance': d3rlpy.metrics.scorer.dynamics_prediction_variance_scorer,\n",
    "             },\n",
    "            tensorboard_dir='tensorboard_logs/dynamics')"
   ]
  },
  {
   "cell_type": "markdown",
   "id": "0b6a0377-82fa-4d78-b498-0bcdd282fc51",
   "metadata": {},
   "source": [
    "## Load Dynamics"
   ]
  },
  {
   "cell_type": "code",
   "execution_count": 5,
   "id": "92a2da5d-f176-42d6-b72e-e94800db8db6",
   "metadata": {},
   "outputs": [
    {
     "name": "stdout",
     "output_type": "stream",
     "text": [
      "\u001b[2m2023-09-29 15:30:26\u001b[0m [\u001b[33m\u001b[1mwarning  \u001b[0m] \u001b[1mUnused arguments are passed.  \u001b[0m \u001b[36malgorithm\u001b[0m=\u001b[35mProbabilisticEnsembleDynamics\u001b[0m \u001b[36mgamma\u001b[0m=\u001b[35m1.0\u001b[0m \u001b[36mgenerated_maxlen\u001b[0m=\u001b[35m100000\u001b[0m \u001b[36mn_steps\u001b[0m=\u001b[35m1\u001b[0m \u001b[36mreal_ratio\u001b[0m=\u001b[35m1.0\u001b[0m\n"
     ]
    }
   ],
   "source": [
    "# load trained dynamics model\n",
    "dynamics_model_path = \"d3rlpy_logs/ProbabilisticEnsembleDynamics_20230929111124\"\n",
    "dynamics = d3rlpy.dynamics.ProbabilisticEnsembleDynamics.from_json(dynamics_model_path + '/params.json')\n",
    "dynamics.load_model(dynamics_model_path + '/model_53000.pt')"
   ]
  },
  {
   "cell_type": "markdown",
   "id": "b0cd5232-3ff4-44cc-afb8-a0cf2038071d",
   "metadata": {},
   "source": [
    "## Train Offline RL Algorithm"
   ]
  },
  {
   "cell_type": "code",
   "execution_count": 6,
   "id": "7de5e387-db4f-4499-8d94-d74fbdfa75b4",
   "metadata": {},
   "outputs": [],
   "source": [
    "encoders = d3rlpy.models.encoders.DefaultEncoderFactory(dropout_rate=0.2)\n",
    "# give COMBO as the generator argument.\n",
    "combo = COMBO(dynamics=dynamics, critic_encoder_factory=encoders, actor_encoder_factory=encoders\n",
    "              use_gpu=use_gpu)"
   ]
  },
  {
   "cell_type": "code",
   "execution_count": null,
   "id": "67116a4e-3e12-4f9b-a639-cd52b508761c",
   "metadata": {},
   "outputs": [
    {
     "name": "stdout",
     "output_type": "stream",
     "text": [
      "\u001b[2m2023-09-29 15:30:35\u001b[0m [\u001b[32m\u001b[1mdebug    \u001b[0m] \u001b[1mRandomIterator is selected.\u001b[0m\n",
      "\u001b[2m2023-09-29 15:30:35\u001b[0m [\u001b[32m\u001b[1minfo     \u001b[0m] \u001b[1mDirectory is created at d3rlpy_logs/COMBO_20230929153035\u001b[0m\n",
      "\u001b[2m2023-09-29 15:30:35\u001b[0m [\u001b[32m\u001b[1mdebug    \u001b[0m] \u001b[1mBuilding models...\u001b[0m\n",
      "\u001b[2m2023-09-29 15:30:36\u001b[0m [\u001b[32m\u001b[1mdebug    \u001b[0m] \u001b[1mModels have been built.\u001b[0m\n",
      "\u001b[2m2023-09-29 15:30:36\u001b[0m [\u001b[32m\u001b[1minfo     \u001b[0m] \u001b[1mParameters are saved to d3rlpy_logs/COMBO_20230929153035/params.json\u001b[0m \u001b[36mparams\u001b[0m=\u001b[35m{'action_scaler': None, 'actor_encoder_factory': {'type': 'default', 'params': {'activation': 'relu', 'use_batch_norm': False, 'dropout_rate': 0.2}}, 'actor_learning_rate': 0.0001, 'actor_optim_factory': {'optim_cls': 'Adam', 'betas': (0.9, 0.999), 'eps': 1e-08, 'weight_decay': 0, 'amsgrad': False}, 'batch_size': 256, 'conservative_weight': 1.0, 'critic_encoder_factory': {'type': 'default', 'params': {'activation': 'relu', 'use_batch_norm': False, 'dropout_rate': 0.2}}, 'critic_learning_rate': 0.0003, 'critic_optim_factory': {'optim_cls': 'Adam', 'betas': (0.9, 0.999), 'eps': 1e-08, 'weight_decay': 0, 'amsgrad': False}, 'gamma': 0.99, 'generated_maxlen': 1250000, 'initial_temperature': 1.0, 'n_action_samples': 10, 'n_critics': 2, 'n_frames': 1, 'n_steps': 1, 'q_func_factory': {'type': 'mean', 'params': {'share_encoder': False}}, 'real_ratio': 0.5, 'reward_scaler': None, 'rollout_batch_size': 50000, 'rollout_horizon': 5, 'rollout_interval': 1000, 'scaler': None, 'soft_q_backup': False, 'tau': 0.005, 'temp_learning_rate': 0.0001, 'temp_optim_factory': {'optim_cls': 'Adam', 'betas': (0.9, 0.999), 'eps': 1e-08, 'weight_decay': 0, 'amsgrad': False}, 'update_actor_interval': 1, 'use_gpu': 0, 'algorithm': 'COMBO', 'observation_shape': (4,), 'action_size': 1}\u001b[0m\n"
     ]
    },
    {
     "data": {
      "application/vnd.jupyter.widget-view+json": {
       "model_id": "945c0bb19e454bbe8cc5dde84dbbe05b",
       "version_major": 2,
       "version_minor": 0
      },
      "text/plain": [
       "Epoch 1/1000:   0%|          | 0/1000 [00:00<?, ?it/s]"
      ]
     },
     "metadata": {},
     "output_type": "display_data"
    },
    {
     "name": "stdout",
     "output_type": "stream",
     "text": [
      "\u001b[2m2023-09-29 15:30:51\u001b[0m [\u001b[32m\u001b[1mdebug    \u001b[0m] \u001b[1m250000 transitions are generated.\u001b[0m \u001b[36mfake_transitions\u001b[0m=\u001b[35m250000\u001b[0m \u001b[36mreal_transitions\u001b[0m=\u001b[35m53262\u001b[0m\n",
      "\u001b[2m2023-09-29 15:31:18\u001b[0m [\u001b[32m\u001b[1minfo     \u001b[0m] \u001b[1mCOMBO_20230929153035: epoch=1 step=1000\u001b[0m \u001b[36mepoch\u001b[0m=\u001b[35m1\u001b[0m \u001b[36mmetrics\u001b[0m=\u001b[35m{'time_sample_batch': 0.0010948445796966552, 'time_algorithm_update': 0.024626394510269167, 'critic_loss': 7.946767935276031, 'actor_loss': -3.194101221084595, 'temp_loss': 1.4520865498781204, 'temp': 0.9536138231158257, 'time_step': 0.025825464487075806, 'environment': 46.3}\u001b[0m \u001b[36mstep\u001b[0m=\u001b[35m1000\u001b[0m\n",
      "\u001b[2m2023-09-29 15:31:18\u001b[0m [\u001b[32m\u001b[1minfo     \u001b[0m] \u001b[1mModel parameters are saved to d3rlpy_logs/COMBO_20230929153035/model_1000.pt\u001b[0m\n"
     ]
    },
    {
     "data": {
      "application/vnd.jupyter.widget-view+json": {
       "model_id": "019e27b65caf4329b20a678e9156efc1",
       "version_major": 2,
       "version_minor": 0
      },
      "text/plain": [
       "Epoch 2/1000:   0%|          | 0/1000 [00:00<?, ?it/s]"
      ]
     },
     "metadata": {},
     "output_type": "display_data"
    },
    {
     "name": "stdout",
     "output_type": "stream",
     "text": [
      "\u001b[2m2023-09-29 15:31:35\u001b[0m [\u001b[32m\u001b[1mdebug    \u001b[0m] \u001b[1m250000 transitions are generated.\u001b[0m \u001b[36mfake_transitions\u001b[0m=\u001b[35m500000\u001b[0m \u001b[36mreal_transitions\u001b[0m=\u001b[35m53262\u001b[0m\n",
      "\u001b[2m2023-09-29 15:32:02\u001b[0m [\u001b[32m\u001b[1minfo     \u001b[0m] \u001b[1mCOMBO_20230929153035: epoch=2 step=2000\u001b[0m \u001b[36mepoch\u001b[0m=\u001b[35m2\u001b[0m \u001b[36mmetrics\u001b[0m=\u001b[35m{'time_sample_batch': 0.0011157858371734618, 'time_algorithm_update': 0.024792260885238646, 'critic_loss': 7.954225881099701, 'actor_loss': -7.0867501902580265, 'temp_loss': 1.2333806045055389, 'temp': 0.8689545059204101, 'time_step': 0.026010702610015868, 'environment': 69.3}\u001b[0m \u001b[36mstep\u001b[0m=\u001b[35m2000\u001b[0m\n",
      "\u001b[2m2023-09-29 15:32:02\u001b[0m [\u001b[32m\u001b[1minfo     \u001b[0m] \u001b[1mModel parameters are saved to d3rlpy_logs/COMBO_20230929153035/model_2000.pt\u001b[0m\n"
     ]
    },
    {
     "data": {
      "application/vnd.jupyter.widget-view+json": {
       "model_id": "ae479a37e4134ef7b4e491e55ae7a653",
       "version_major": 2,
       "version_minor": 0
      },
      "text/plain": [
       "Epoch 3/1000:   0%|          | 0/1000 [00:00<?, ?it/s]"
      ]
     },
     "metadata": {},
     "output_type": "display_data"
    },
    {
     "name": "stdout",
     "output_type": "stream",
     "text": [
      "\u001b[2m2023-09-29 15:32:22\u001b[0m [\u001b[32m\u001b[1mdebug    \u001b[0m] \u001b[1m250000 transitions are generated.\u001b[0m \u001b[36mfake_transitions\u001b[0m=\u001b[35m750000\u001b[0m \u001b[36mreal_transitions\u001b[0m=\u001b[35m53262\u001b[0m\n",
      "\u001b[2m2023-09-29 15:32:50\u001b[0m [\u001b[32m\u001b[1minfo     \u001b[0m] \u001b[1mCOMBO_20230929153035: epoch=3 step=3000\u001b[0m \u001b[36mepoch\u001b[0m=\u001b[35m3\u001b[0m \u001b[36mmetrics\u001b[0m=\u001b[35m{'time_sample_batch': 0.0011568901538848877, 'time_algorithm_update': 0.02527402901649475, 'critic_loss': 9.121556072711945, 'actor_loss': -10.762299709320068, 'temp_loss': 1.0413822473287582, 'temp': 0.79569071829319, 'time_step': 0.026535606861114502, 'environment': 96.8}\u001b[0m \u001b[36mstep\u001b[0m=\u001b[35m3000\u001b[0m\n",
      "\u001b[2m2023-09-29 15:32:50\u001b[0m [\u001b[32m\u001b[1minfo     \u001b[0m] \u001b[1mModel parameters are saved to d3rlpy_logs/COMBO_20230929153035/model_3000.pt\u001b[0m\n"
     ]
    },
    {
     "data": {
      "application/vnd.jupyter.widget-view+json": {
       "model_id": "6086cda2ea4a445fa39cd4fc52e3afa6",
       "version_major": 2,
       "version_minor": 0
      },
      "text/plain": [
       "Epoch 4/1000:   0%|          | 0/1000 [00:00<?, ?it/s]"
      ]
     },
     "metadata": {},
     "output_type": "display_data"
    },
    {
     "name": "stdout",
     "output_type": "stream",
     "text": [
      "\u001b[2m2023-09-29 15:33:09\u001b[0m [\u001b[32m\u001b[1mdebug    \u001b[0m] \u001b[1m250000 transitions are generated.\u001b[0m \u001b[36mfake_transitions\u001b[0m=\u001b[35m1000000\u001b[0m \u001b[36mreal_transitions\u001b[0m=\u001b[35m53262\u001b[0m\n",
      "\u001b[2m2023-09-29 15:33:40\u001b[0m [\u001b[32m\u001b[1minfo     \u001b[0m] \u001b[1mCOMBO_20230929153035: epoch=4 step=4000\u001b[0m \u001b[36mepoch\u001b[0m=\u001b[35m4\u001b[0m \u001b[36mmetrics\u001b[0m=\u001b[35m{'time_sample_batch': 0.001307729482650757, 'time_algorithm_update': 0.028295618295669556, 'critic_loss': 10.330465433120727, 'actor_loss': -13.615860194206238, 'temp_loss': 0.9217926038503647, 'temp': 0.7289914255738258, 'time_step': 0.02972228193283081, 'environment': 96.0}\u001b[0m \u001b[36mstep\u001b[0m=\u001b[35m4000\u001b[0m\n",
      "\u001b[2m2023-09-29 15:33:40\u001b[0m [\u001b[32m\u001b[1minfo     \u001b[0m] \u001b[1mModel parameters are saved to d3rlpy_logs/COMBO_20230929153035/model_4000.pt\u001b[0m\n"
     ]
    },
    {
     "data": {
      "application/vnd.jupyter.widget-view+json": {
       "model_id": "83c2e347b0b246cbad334adf1b7ba1b9",
       "version_major": 2,
       "version_minor": 0
      },
      "text/plain": [
       "Epoch 5/1000:   0%|          | 0/1000 [00:00<?, ?it/s]"
      ]
     },
     "metadata": {},
     "output_type": "display_data"
    },
    {
     "name": "stdout",
     "output_type": "stream",
     "text": [
      "\u001b[2m2023-09-29 15:34:04\u001b[0m [\u001b[32m\u001b[1mdebug    \u001b[0m] \u001b[1m250000 transitions are generated.\u001b[0m \u001b[36mfake_transitions\u001b[0m=\u001b[35m1250000\u001b[0m \u001b[36mreal_transitions\u001b[0m=\u001b[35m53262\u001b[0m\n",
      "\u001b[2m2023-09-29 15:34:38\u001b[0m [\u001b[32m\u001b[1minfo     \u001b[0m] \u001b[1mCOMBO_20230929153035: epoch=5 step=5000\u001b[0m \u001b[36mepoch\u001b[0m=\u001b[35m5\u001b[0m \u001b[36mmetrics\u001b[0m=\u001b[35m{'time_sample_batch': 0.0014042534828186035, 'time_algorithm_update': 0.030178755760192872, 'critic_loss': 11.231264905929566, 'actor_loss': -15.773255430221557, 'temp_loss': 0.8029461585879326, 'temp': 0.6682093327641487, 'time_step': 0.03170519161224365, 'environment': 92.9}\u001b[0m \u001b[36mstep\u001b[0m=\u001b[35m5000\u001b[0m\n",
      "\u001b[2m2023-09-29 15:34:38\u001b[0m [\u001b[32m\u001b[1minfo     \u001b[0m] \u001b[1mModel parameters are saved to d3rlpy_logs/COMBO_20230929153035/model_5000.pt\u001b[0m\n"
     ]
    },
    {
     "data": {
      "application/vnd.jupyter.widget-view+json": {
       "model_id": "63d5d00efbde4c00aac8db1c77726b52",
       "version_major": 2,
       "version_minor": 0
      },
      "text/plain": [
       "Epoch 6/1000:   0%|          | 0/1000 [00:00<?, ?it/s]"
      ]
     },
     "metadata": {},
     "output_type": "display_data"
    },
    {
     "name": "stdout",
     "output_type": "stream",
     "text": [
      "\u001b[2m2023-09-29 15:35:01\u001b[0m [\u001b[32m\u001b[1mdebug    \u001b[0m] \u001b[1m250000 transitions are generated.\u001b[0m \u001b[36mfake_transitions\u001b[0m=\u001b[35m1250000\u001b[0m \u001b[36mreal_transitions\u001b[0m=\u001b[35m53262\u001b[0m\n",
      "\u001b[2m2023-09-29 15:35:30\u001b[0m [\u001b[32m\u001b[1minfo     \u001b[0m] \u001b[1mCOMBO_20230929153035: epoch=6 step=6000\u001b[0m \u001b[36mepoch\u001b[0m=\u001b[35m6\u001b[0m \u001b[36mmetrics\u001b[0m=\u001b[35m{'time_sample_batch': 0.001210195779800415, 'time_algorithm_update': 0.026691450357437134, 'critic_loss': 12.232293482780456, 'actor_loss': -17.48967091178894, 'temp_loss': 0.7100044667124749, 'temp': 0.6128161798119545, 'time_step': 0.02800618362426758, 'environment': 163.2}\u001b[0m \u001b[36mstep\u001b[0m=\u001b[35m6000\u001b[0m\n",
      "\u001b[2m2023-09-29 15:35:30\u001b[0m [\u001b[32m\u001b[1minfo     \u001b[0m] \u001b[1mModel parameters are saved to d3rlpy_logs/COMBO_20230929153035/model_6000.pt\u001b[0m\n"
     ]
    },
    {
     "data": {
      "application/vnd.jupyter.widget-view+json": {
       "model_id": "407388f808b748cebfaa322cbabb824e",
       "version_major": 2,
       "version_minor": 0
      },
      "text/plain": [
       "Epoch 7/1000:   0%|          | 0/1000 [00:00<?, ?it/s]"
      ]
     },
     "metadata": {},
     "output_type": "display_data"
    },
    {
     "name": "stdout",
     "output_type": "stream",
     "text": [
      "\u001b[2m2023-09-29 15:35:51\u001b[0m [\u001b[32m\u001b[1mdebug    \u001b[0m] \u001b[1m250000 transitions are generated.\u001b[0m \u001b[36mfake_transitions\u001b[0m=\u001b[35m1250000\u001b[0m \u001b[36mreal_transitions\u001b[0m=\u001b[35m53262\u001b[0m\n",
      "\u001b[2m2023-09-29 15:36:19\u001b[0m [\u001b[32m\u001b[1minfo     \u001b[0m] \u001b[1mCOMBO_20230929153035: epoch=7 step=7000\u001b[0m \u001b[36mepoch\u001b[0m=\u001b[35m7\u001b[0m \u001b[36mmetrics\u001b[0m=\u001b[35m{'time_sample_batch': 0.0011508197784423828, 'time_algorithm_update': 0.025089313268661498, 'critic_loss': 12.661896268844604, 'actor_loss': -18.655409872055053, 'temp_loss': 0.6169361880421639, 'temp': 0.5621944905519486, 'time_step': 0.02633899188041687, 'environment': 171.6}\u001b[0m \u001b[36mstep\u001b[0m=\u001b[35m7000\u001b[0m\n",
      "\u001b[2m2023-09-29 15:36:19\u001b[0m [\u001b[32m\u001b[1minfo     \u001b[0m] \u001b[1mModel parameters are saved to d3rlpy_logs/COMBO_20230929153035/model_7000.pt\u001b[0m\n"
     ]
    },
    {
     "data": {
      "application/vnd.jupyter.widget-view+json": {
       "model_id": "3fb27e05887a49348e68d6e7c9fac6b6",
       "version_major": 2,
       "version_minor": 0
      },
      "text/plain": [
       "Epoch 8/1000:   0%|          | 0/1000 [00:00<?, ?it/s]"
      ]
     },
     "metadata": {},
     "output_type": "display_data"
    },
    {
     "name": "stdout",
     "output_type": "stream",
     "text": [
      "\u001b[2m2023-09-29 15:36:39\u001b[0m [\u001b[32m\u001b[1mdebug    \u001b[0m] \u001b[1m250000 transitions are generated.\u001b[0m \u001b[36mfake_transitions\u001b[0m=\u001b[35m1250000\u001b[0m \u001b[36mreal_transitions\u001b[0m=\u001b[35m53262\u001b[0m\n",
      "\u001b[2m2023-09-29 15:37:04\u001b[0m [\u001b[32m\u001b[1minfo     \u001b[0m] \u001b[1mCOMBO_20230929153035: epoch=8 step=8000\u001b[0m \u001b[36mepoch\u001b[0m=\u001b[35m8\u001b[0m \u001b[36mmetrics\u001b[0m=\u001b[35m{'time_sample_batch': 0.0009590542316436768, 'time_algorithm_update': 0.021397759199142455, 'critic_loss': 12.979112617492676, 'actor_loss': -19.597264810562134, 'temp_loss': 0.5330201600193978, 'temp': 0.5162490233778954, 'time_step': 0.02243712258338928, 'environment': 287.7}\u001b[0m \u001b[36mstep\u001b[0m=\u001b[35m8000\u001b[0m\n",
      "\u001b[2m2023-09-29 15:37:04\u001b[0m [\u001b[32m\u001b[1minfo     \u001b[0m] \u001b[1mModel parameters are saved to d3rlpy_logs/COMBO_20230929153035/model_8000.pt\u001b[0m\n"
     ]
    },
    {
     "data": {
      "application/vnd.jupyter.widget-view+json": {
       "model_id": "e9ca580c7f204cb4984048de39b0563f",
       "version_major": 2,
       "version_minor": 0
      },
      "text/plain": [
       "Epoch 9/1000:   0%|          | 0/1000 [00:00<?, ?it/s]"
      ]
     },
     "metadata": {},
     "output_type": "display_data"
    },
    {
     "name": "stdout",
     "output_type": "stream",
     "text": [
      "\u001b[2m2023-09-29 15:37:24\u001b[0m [\u001b[32m\u001b[1mdebug    \u001b[0m] \u001b[1m250000 transitions are generated.\u001b[0m \u001b[36mfake_transitions\u001b[0m=\u001b[35m1250000\u001b[0m \u001b[36mreal_transitions\u001b[0m=\u001b[35m53262\u001b[0m\n",
      "\u001b[2m2023-09-29 15:37:52\u001b[0m [\u001b[32m\u001b[1minfo     \u001b[0m] \u001b[1mCOMBO_20230929153035: epoch=9 step=9000\u001b[0m \u001b[36mepoch\u001b[0m=\u001b[35m9\u001b[0m \u001b[36mmetrics\u001b[0m=\u001b[35m{'time_sample_batch': 0.0010324664115905762, 'time_algorithm_update': 0.022965423822402953, 'critic_loss': 13.339127716064453, 'actor_loss': -20.395314655303956, 'temp_loss': 0.45885050457715987, 'temp': 0.4743910070061684, 'time_step': 0.024085729122161864, 'environment': 203.3}\u001b[0m \u001b[36mstep\u001b[0m=\u001b[35m9000\u001b[0m\n",
      "\u001b[2m2023-09-29 15:37:53\u001b[0m [\u001b[32m\u001b[1minfo     \u001b[0m] \u001b[1mModel parameters are saved to d3rlpy_logs/COMBO_20230929153035/model_9000.pt\u001b[0m\n"
     ]
    },
    {
     "data": {
      "application/vnd.jupyter.widget-view+json": {
       "model_id": "81a27d597e3a4f25881c59a6a529285b",
       "version_major": 2,
       "version_minor": 0
      },
      "text/plain": [
       "Epoch 10/1000:   0%|          | 0/1000 [00:00<?, ?it/s]"
      ]
     },
     "metadata": {},
     "output_type": "display_data"
    },
    {
     "name": "stdout",
     "output_type": "stream",
     "text": [
      "\u001b[2m2023-09-29 15:38:13\u001b[0m [\u001b[32m\u001b[1mdebug    \u001b[0m] \u001b[1m250000 transitions are generated.\u001b[0m \u001b[36mfake_transitions\u001b[0m=\u001b[35m1250000\u001b[0m \u001b[36mreal_transitions\u001b[0m=\u001b[35m53262\u001b[0m\n",
      "\u001b[2m2023-09-29 15:38:40\u001b[0m [\u001b[32m\u001b[1minfo     \u001b[0m] \u001b[1mCOMBO_20230929153035: epoch=10 step=10000\u001b[0m \u001b[36mepoch\u001b[0m=\u001b[35m10\u001b[0m \u001b[36mmetrics\u001b[0m=\u001b[35m{'time_sample_batch': 0.0010823822021484375, 'time_algorithm_update': 0.024096433639526366, 'critic_loss': 13.808731454849243, 'actor_loss': -21.090496686935424, 'temp_loss': 0.39950764763355257, 'temp': 0.43591422122716905, 'time_step': 0.025266659259796143, 'environment': 167.3}\u001b[0m \u001b[36mstep\u001b[0m=\u001b[35m10000\u001b[0m\n",
      "\u001b[2m2023-09-29 15:38:40\u001b[0m [\u001b[32m\u001b[1minfo     \u001b[0m] \u001b[1mModel parameters are saved to d3rlpy_logs/COMBO_20230929153035/model_10000.pt\u001b[0m\n"
     ]
    },
    {
     "data": {
      "application/vnd.jupyter.widget-view+json": {
       "model_id": "1ceaaf6bca2a47d2aaf271c9fce188d2",
       "version_major": 2,
       "version_minor": 0
      },
      "text/plain": [
       "Epoch 11/1000:   0%|          | 0/1000 [00:00<?, ?it/s]"
      ]
     },
     "metadata": {},
     "output_type": "display_data"
    },
    {
     "name": "stdout",
     "output_type": "stream",
     "text": [
      "\u001b[2m2023-09-29 15:39:00\u001b[0m [\u001b[32m\u001b[1mdebug    \u001b[0m] \u001b[1m250000 transitions are generated.\u001b[0m \u001b[36mfake_transitions\u001b[0m=\u001b[35m1250000\u001b[0m \u001b[36mreal_transitions\u001b[0m=\u001b[35m53262\u001b[0m\n",
      "\u001b[2m2023-09-29 15:39:29\u001b[0m [\u001b[32m\u001b[1minfo     \u001b[0m] \u001b[1mCOMBO_20230929153035: epoch=11 step=11000\u001b[0m \u001b[36mepoch\u001b[0m=\u001b[35m11\u001b[0m \u001b[36mmetrics\u001b[0m=\u001b[35m{'time_sample_batch': 0.0011393396854400635, 'time_algorithm_update': 0.025296451568603516, 'critic_loss': 14.176512258529662, 'actor_loss': -21.65522629547119, 'temp_loss': 0.35113483884930613, 'temp': 0.4003301336765289, 'time_step': 0.026535499095916747, 'environment': 150.5}\u001b[0m \u001b[36mstep\u001b[0m=\u001b[35m11000\u001b[0m\n",
      "\u001b[2m2023-09-29 15:39:29\u001b[0m [\u001b[32m\u001b[1minfo     \u001b[0m] \u001b[1mModel parameters are saved to d3rlpy_logs/COMBO_20230929153035/model_11000.pt\u001b[0m\n"
     ]
    },
    {
     "data": {
      "application/vnd.jupyter.widget-view+json": {
       "model_id": "8428c06d806d4cf28c735a8488343e09",
       "version_major": 2,
       "version_minor": 0
      },
      "text/plain": [
       "Epoch 12/1000:   0%|          | 0/1000 [00:00<?, ?it/s]"
      ]
     },
     "metadata": {},
     "output_type": "display_data"
    },
    {
     "name": "stdout",
     "output_type": "stream",
     "text": [
      "\u001b[2m2023-09-29 15:39:50\u001b[0m [\u001b[32m\u001b[1mdebug    \u001b[0m] \u001b[1m250000 transitions are generated.\u001b[0m \u001b[36mfake_transitions\u001b[0m=\u001b[35m1250000\u001b[0m \u001b[36mreal_transitions\u001b[0m=\u001b[35m53262\u001b[0m\n",
      "\u001b[2m2023-09-29 15:40:22\u001b[0m [\u001b[32m\u001b[1minfo     \u001b[0m] \u001b[1mCOMBO_20230929153035: epoch=12 step=12000\u001b[0m \u001b[36mepoch\u001b[0m=\u001b[35m12\u001b[0m \u001b[36mmetrics\u001b[0m=\u001b[35m{'time_sample_batch': 0.0012596511840820312, 'time_algorithm_update': 0.027493826150894164, 'critic_loss': 14.448917604446411, 'actor_loss': -22.076117599487304, 'temp_loss': 0.30756179659068583, 'temp': 0.3675248200297356, 'time_step': 0.028853657722473145, 'environment': 183.1}\u001b[0m \u001b[36mstep\u001b[0m=\u001b[35m12000\u001b[0m\n",
      "\u001b[2m2023-09-29 15:40:22\u001b[0m [\u001b[32m\u001b[1minfo     \u001b[0m] \u001b[1mModel parameters are saved to d3rlpy_logs/COMBO_20230929153035/model_12000.pt\u001b[0m\n"
     ]
    },
    {
     "data": {
      "application/vnd.jupyter.widget-view+json": {
       "model_id": "2be510725773498c8e2afee02f80db85",
       "version_major": 2,
       "version_minor": 0
      },
      "text/plain": [
       "Epoch 13/1000:   0%|          | 0/1000 [00:00<?, ?it/s]"
      ]
     },
     "metadata": {},
     "output_type": "display_data"
    },
    {
     "name": "stdout",
     "output_type": "stream",
     "text": [
      "\u001b[2m2023-09-29 15:40:46\u001b[0m [\u001b[32m\u001b[1mdebug    \u001b[0m] \u001b[1m250000 transitions are generated.\u001b[0m \u001b[36mfake_transitions\u001b[0m=\u001b[35m1250000\u001b[0m \u001b[36mreal_transitions\u001b[0m=\u001b[35m53262\u001b[0m\n",
      "\u001b[2m2023-09-29 15:41:11\u001b[0m [\u001b[32m\u001b[1minfo     \u001b[0m] \u001b[1mCOMBO_20230929153035: epoch=13 step=13000\u001b[0m \u001b[36mepoch\u001b[0m=\u001b[35m13\u001b[0m \u001b[36mmetrics\u001b[0m=\u001b[35m{'time_sample_batch': 0.0009556443691253662, 'time_algorithm_update': 0.0214352023601532, 'critic_loss': 14.543915392875672, 'actor_loss': -22.3790276184082, 'temp_loss': 0.27260462902486327, 'temp': 0.3372444413304329, 'time_step': 0.022467111110687256, 'environment': 168.6}\u001b[0m \u001b[36mstep\u001b[0m=\u001b[35m13000\u001b[0m\n",
      "\u001b[2m2023-09-29 15:41:11\u001b[0m [\u001b[32m\u001b[1minfo     \u001b[0m] \u001b[1mModel parameters are saved to d3rlpy_logs/COMBO_20230929153035/model_13000.pt\u001b[0m\n"
     ]
    },
    {
     "data": {
      "application/vnd.jupyter.widget-view+json": {
       "model_id": "364bfdd6070847f18ab7828d7f8c0c4c",
       "version_major": 2,
       "version_minor": 0
      },
      "text/plain": [
       "Epoch 14/1000:   0%|          | 0/1000 [00:00<?, ?it/s]"
      ]
     },
     "metadata": {},
     "output_type": "display_data"
    },
    {
     "name": "stdout",
     "output_type": "stream",
     "text": [
      "\u001b[2m2023-09-29 15:41:30\u001b[0m [\u001b[32m\u001b[1mdebug    \u001b[0m] \u001b[1m250000 transitions are generated.\u001b[0m \u001b[36mfake_transitions\u001b[0m=\u001b[35m1250000\u001b[0m \u001b[36mreal_transitions\u001b[0m=\u001b[35m53262\u001b[0m\n",
      "\u001b[2m2023-09-29 15:41:59\u001b[0m [\u001b[32m\u001b[1minfo     \u001b[0m] \u001b[1mCOMBO_20230929153035: epoch=14 step=14000\u001b[0m \u001b[36mepoch\u001b[0m=\u001b[35m14\u001b[0m \u001b[36mmetrics\u001b[0m=\u001b[35m{'time_sample_batch': 0.0011528468132019044, 'time_algorithm_update': 0.025649616956710815, 'critic_loss': 14.6574340801239, 'actor_loss': -22.60507085609436, 'temp_loss': 0.23944152942299843, 'temp': 0.30937249335646627, 'time_step': 0.026898478031158447, 'environment': 193.9}\u001b[0m \u001b[36mstep\u001b[0m=\u001b[35m14000\u001b[0m\n",
      "\u001b[2m2023-09-29 15:41:59\u001b[0m [\u001b[32m\u001b[1minfo     \u001b[0m] \u001b[1mModel parameters are saved to d3rlpy_logs/COMBO_20230929153035/model_14000.pt\u001b[0m\n"
     ]
    },
    {
     "data": {
      "application/vnd.jupyter.widget-view+json": {
       "model_id": "e6116b5c4bed4645842ab316913bf523",
       "version_major": 2,
       "version_minor": 0
      },
      "text/plain": [
       "Epoch 15/1000:   0%|          | 0/1000 [00:00<?, ?it/s]"
      ]
     },
     "metadata": {},
     "output_type": "display_data"
    },
    {
     "name": "stdout",
     "output_type": "stream",
     "text": [
      "\u001b[2m2023-09-29 15:42:21\u001b[0m [\u001b[32m\u001b[1mdebug    \u001b[0m] \u001b[1m250000 transitions are generated.\u001b[0m \u001b[36mfake_transitions\u001b[0m=\u001b[35m1250000\u001b[0m \u001b[36mreal_transitions\u001b[0m=\u001b[35m53262\u001b[0m\n",
      "\u001b[2m2023-09-29 15:42:45\u001b[0m [\u001b[32m\u001b[1minfo     \u001b[0m] \u001b[1mCOMBO_20230929153035: epoch=15 step=15000\u001b[0m \u001b[36mepoch\u001b[0m=\u001b[35m15\u001b[0m \u001b[36mmetrics\u001b[0m=\u001b[35m{'time_sample_batch': 0.0009510152339935303, 'time_algorithm_update': 0.021450784683227538, 'critic_loss': 14.663075879096985, 'actor_loss': -22.745608448028566, 'temp_loss': 0.20946542060375214, 'temp': 0.28386909967660906, 'time_step': 0.02247839665412903, 'environment': 169.3}\u001b[0m \u001b[36mstep\u001b[0m=\u001b[35m15000\u001b[0m\n",
      "\u001b[2m2023-09-29 15:42:45\u001b[0m [\u001b[32m\u001b[1minfo     \u001b[0m] \u001b[1mModel parameters are saved to d3rlpy_logs/COMBO_20230929153035/model_15000.pt\u001b[0m\n"
     ]
    },
    {
     "data": {
      "application/vnd.jupyter.widget-view+json": {
       "model_id": "04c3ae758aac476589b0479661f0c6f7",
       "version_major": 2,
       "version_minor": 0
      },
      "text/plain": [
       "Epoch 16/1000:   0%|          | 0/1000 [00:00<?, ?it/s]"
      ]
     },
     "metadata": {},
     "output_type": "display_data"
    },
    {
     "name": "stdout",
     "output_type": "stream",
     "text": [
      "\u001b[2m2023-09-29 15:43:04\u001b[0m [\u001b[32m\u001b[1mdebug    \u001b[0m] \u001b[1m250000 transitions are generated.\u001b[0m \u001b[36mfake_transitions\u001b[0m=\u001b[35m1250000\u001b[0m \u001b[36mreal_transitions\u001b[0m=\u001b[35m53262\u001b[0m\n",
      "\u001b[2m2023-09-29 15:43:33\u001b[0m [\u001b[32m\u001b[1minfo     \u001b[0m] \u001b[1mCOMBO_20230929153035: epoch=16 step=16000\u001b[0m \u001b[36mepoch\u001b[0m=\u001b[35m16\u001b[0m \u001b[36mmetrics\u001b[0m=\u001b[35m{'time_sample_batch': 0.0011288914680480956, 'time_algorithm_update': 0.0250337495803833, 'critic_loss': 14.590010860443115, 'actor_loss': -22.85556982421875, 'temp_loss': 0.18363106061518192, 'temp': 0.26053827737271784, 'time_step': 0.026255910634994505, 'environment': 197.1}\u001b[0m \u001b[36mstep\u001b[0m=\u001b[35m16000\u001b[0m\n",
      "\u001b[2m2023-09-29 15:43:33\u001b[0m [\u001b[32m\u001b[1minfo     \u001b[0m] \u001b[1mModel parameters are saved to d3rlpy_logs/COMBO_20230929153035/model_16000.pt\u001b[0m\n"
     ]
    },
    {
     "data": {
      "application/vnd.jupyter.widget-view+json": {
       "model_id": "b2312892d27247238f2644c69646a70b",
       "version_major": 2,
       "version_minor": 0
      },
      "text/plain": [
       "Epoch 17/1000:   0%|          | 0/1000 [00:00<?, ?it/s]"
      ]
     },
     "metadata": {},
     "output_type": "display_data"
    },
    {
     "name": "stdout",
     "output_type": "stream",
     "text": [
      "\u001b[2m2023-09-29 15:43:52\u001b[0m [\u001b[32m\u001b[1mdebug    \u001b[0m] \u001b[1m250000 transitions are generated.\u001b[0m \u001b[36mfake_transitions\u001b[0m=\u001b[35m1250000\u001b[0m \u001b[36mreal_transitions\u001b[0m=\u001b[35m53262\u001b[0m\n",
      "\u001b[2m2023-09-29 15:44:23\u001b[0m [\u001b[32m\u001b[1minfo     \u001b[0m] \u001b[1mCOMBO_20230929153035: epoch=17 step=17000\u001b[0m \u001b[36mepoch\u001b[0m=\u001b[35m17\u001b[0m \u001b[36mmetrics\u001b[0m=\u001b[35m{'time_sample_batch': 0.0012527520656585693, 'time_algorithm_update': 0.027547587156295777, 'critic_loss': 14.606111737251283, 'actor_loss': -22.928766386032105, 'temp_loss': 0.1593070299476385, 'temp': 0.23923254130780697, 'time_step': 0.02890602493286133, 'environment': 165.4}\u001b[0m \u001b[36mstep\u001b[0m=\u001b[35m17000\u001b[0m\n",
      "\u001b[2m2023-09-29 15:44:23\u001b[0m [\u001b[32m\u001b[1minfo     \u001b[0m] \u001b[1mModel parameters are saved to d3rlpy_logs/COMBO_20230929153035/model_17000.pt\u001b[0m\n"
     ]
    },
    {
     "data": {
      "application/vnd.jupyter.widget-view+json": {
       "model_id": "87499b994a064604895487792707bfba",
       "version_major": 2,
       "version_minor": 0
      },
      "text/plain": [
       "Epoch 18/1000:   0%|          | 0/1000 [00:00<?, ?it/s]"
      ]
     },
     "metadata": {},
     "output_type": "display_data"
    },
    {
     "name": "stdout",
     "output_type": "stream",
     "text": [
      "\u001b[2m2023-09-29 15:44:51\u001b[0m [\u001b[32m\u001b[1mdebug    \u001b[0m] \u001b[1m250000 transitions are generated.\u001b[0m \u001b[36mfake_transitions\u001b[0m=\u001b[35m1250000\u001b[0m \u001b[36mreal_transitions\u001b[0m=\u001b[35m53262\u001b[0m\n",
      "\u001b[2m2023-09-29 15:45:35\u001b[0m [\u001b[32m\u001b[1minfo     \u001b[0m] \u001b[1mCOMBO_20230929153035: epoch=18 step=18000\u001b[0m \u001b[36mepoch\u001b[0m=\u001b[35m18\u001b[0m \u001b[36mmetrics\u001b[0m=\u001b[35m{'time_sample_batch': 0.0018156733512878418, 'time_algorithm_update': 0.03945487880706787, 'critic_loss': 14.563772746086121, 'actor_loss': -22.963163076400757, 'temp_loss': 0.14027482748776673, 'temp': 0.21965225176513195, 'time_step': 0.04143057799339295, 'environment': 163.2}\u001b[0m \u001b[36mstep\u001b[0m=\u001b[35m18000\u001b[0m\n",
      "\u001b[2m2023-09-29 15:45:35\u001b[0m [\u001b[32m\u001b[1minfo     \u001b[0m] \u001b[1mModel parameters are saved to d3rlpy_logs/COMBO_20230929153035/model_18000.pt\u001b[0m\n"
     ]
    },
    {
     "data": {
      "application/vnd.jupyter.widget-view+json": {
       "model_id": "801d864db9ef4f918995bee41f0b157b",
       "version_major": 2,
       "version_minor": 0
      },
      "text/plain": [
       "Epoch 19/1000:   0%|          | 0/1000 [00:00<?, ?it/s]"
      ]
     },
     "metadata": {},
     "output_type": "display_data"
    },
    {
     "name": "stdout",
     "output_type": "stream",
     "text": [
      "\u001b[2m2023-09-29 15:45:52\u001b[0m [\u001b[32m\u001b[1mdebug    \u001b[0m] \u001b[1m250000 transitions are generated.\u001b[0m \u001b[36mfake_transitions\u001b[0m=\u001b[35m1250000\u001b[0m \u001b[36mreal_transitions\u001b[0m=\u001b[35m53262\u001b[0m\n",
      "\u001b[2m2023-09-29 15:46:27\u001b[0m [\u001b[32m\u001b[1minfo     \u001b[0m] \u001b[1mCOMBO_20230929153035: epoch=19 step=19000\u001b[0m \u001b[36mepoch\u001b[0m=\u001b[35m19\u001b[0m \u001b[36mmetrics\u001b[0m=\u001b[35m{'time_sample_batch': 0.0010948736667633057, 'time_algorithm_update': 0.024765417814254762, 'critic_loss': 14.554238434791564, 'actor_loss': -22.982762552261352, 'temp_loss': 0.12209139224886895, 'temp': 0.20163575269281864, 'time_step': 0.025950382471084596, 'environment': 940.9}\u001b[0m \u001b[36mstep\u001b[0m=\u001b[35m19000\u001b[0m\n",
      "\u001b[2m2023-09-29 15:46:27\u001b[0m [\u001b[32m\u001b[1minfo     \u001b[0m] \u001b[1mModel parameters are saved to d3rlpy_logs/COMBO_20230929153035/model_19000.pt\u001b[0m\n"
     ]
    },
    {
     "data": {
      "application/vnd.jupyter.widget-view+json": {
       "model_id": "d1eb9bb4462e4a7d925b612f63b7c30f",
       "version_major": 2,
       "version_minor": 0
      },
      "text/plain": [
       "Epoch 20/1000:   0%|          | 0/1000 [00:00<?, ?it/s]"
      ]
     },
     "metadata": {},
     "output_type": "display_data"
    },
    {
     "name": "stdout",
     "output_type": "stream",
     "text": [
      "\u001b[2m2023-09-29 15:46:41\u001b[0m [\u001b[32m\u001b[1mdebug    \u001b[0m] \u001b[1m250000 transitions are generated.\u001b[0m \u001b[36mfake_transitions\u001b[0m=\u001b[35m1250000\u001b[0m \u001b[36mreal_transitions\u001b[0m=\u001b[35m53262\u001b[0m\n",
      "\u001b[2m2023-09-29 15:47:09\u001b[0m [\u001b[32m\u001b[1minfo     \u001b[0m] \u001b[1mCOMBO_20230929153035: epoch=20 step=20000\u001b[0m \u001b[36mepoch\u001b[0m=\u001b[35m20\u001b[0m \u001b[36mmetrics\u001b[0m=\u001b[35m{'time_sample_batch': 0.001088510513305664, 'time_algorithm_update': 0.024313385486602782, 'critic_loss': 14.548519114494324, 'actor_loss': -22.97985867500305, 'temp_loss': 0.10681970037519932, 'temp': 0.18517874090373515, 'time_step': 0.025492870330810546, 'environment': 181.5}\u001b[0m \u001b[36mstep\u001b[0m=\u001b[35m20000\u001b[0m\n",
      "\u001b[2m2023-09-29 15:47:09\u001b[0m [\u001b[32m\u001b[1minfo     \u001b[0m] \u001b[1mModel parameters are saved to d3rlpy_logs/COMBO_20230929153035/model_20000.pt\u001b[0m\n"
     ]
    },
    {
     "data": {
      "application/vnd.jupyter.widget-view+json": {
       "model_id": "cc43008cae7c498a807e99d8b82a859e",
       "version_major": 2,
       "version_minor": 0
      },
      "text/plain": [
       "Epoch 21/1000:   0%|          | 0/1000 [00:00<?, ?it/s]"
      ]
     },
     "metadata": {},
     "output_type": "display_data"
    },
    {
     "name": "stdout",
     "output_type": "stream",
     "text": [
      "\u001b[2m2023-09-29 15:47:23\u001b[0m [\u001b[32m\u001b[1mdebug    \u001b[0m] \u001b[1m250000 transitions are generated.\u001b[0m \u001b[36mfake_transitions\u001b[0m=\u001b[35m1250000\u001b[0m \u001b[36mreal_transitions\u001b[0m=\u001b[35m53262\u001b[0m\n",
      "\u001b[2m2023-09-29 15:47:49\u001b[0m [\u001b[32m\u001b[1minfo     \u001b[0m] \u001b[1mCOMBO_20230929153035: epoch=21 step=21000\u001b[0m \u001b[36mepoch\u001b[0m=\u001b[35m21\u001b[0m \u001b[36mmetrics\u001b[0m=\u001b[35m{'time_sample_batch': 0.0009982469081878662, 'time_algorithm_update': 0.022400669574737547, 'critic_loss': 14.764631105422973, 'actor_loss': -22.909160455703734, 'temp_loss': 0.09302690156549215, 'temp': 0.1699791299253702, 'time_step': 0.023495027303695678, 'environment': 237.1}\u001b[0m \u001b[36mstep\u001b[0m=\u001b[35m21000\u001b[0m\n",
      "\u001b[2m2023-09-29 15:47:49\u001b[0m [\u001b[32m\u001b[1minfo     \u001b[0m] \u001b[1mModel parameters are saved to d3rlpy_logs/COMBO_20230929153035/model_21000.pt\u001b[0m\n"
     ]
    },
    {
     "data": {
      "application/vnd.jupyter.widget-view+json": {
       "model_id": "c943d97171734f4ba97eb80c185e3ee5",
       "version_major": 2,
       "version_minor": 0
      },
      "text/plain": [
       "Epoch 22/1000:   0%|          | 0/1000 [00:00<?, ?it/s]"
      ]
     },
     "metadata": {},
     "output_type": "display_data"
    },
    {
     "name": "stdout",
     "output_type": "stream",
     "text": [
      "\u001b[2m2023-09-29 15:48:03\u001b[0m [\u001b[32m\u001b[1mdebug    \u001b[0m] \u001b[1m250000 transitions are generated.\u001b[0m \u001b[36mfake_transitions\u001b[0m=\u001b[35m1250000\u001b[0m \u001b[36mreal_transitions\u001b[0m=\u001b[35m53262\u001b[0m\n",
      "\u001b[2m2023-09-29 15:48:28\u001b[0m [\u001b[32m\u001b[1minfo     \u001b[0m] \u001b[1mCOMBO_20230929153035: epoch=22 step=22000\u001b[0m \u001b[36mepoch\u001b[0m=\u001b[35m22\u001b[0m \u001b[36mmetrics\u001b[0m=\u001b[35m{'time_sample_batch': 0.0010005297660827636, 'time_algorithm_update': 0.022378403902053833, 'critic_loss': 14.7899692735672, 'actor_loss': -22.889781087875367, 'temp_loss': 0.08156766242906452, 'temp': 0.15616859889030457, 'time_step': 0.023470750570297242, 'environment': 158.9}\u001b[0m \u001b[36mstep\u001b[0m=\u001b[35m22000\u001b[0m\n",
      "\u001b[2m2023-09-29 15:48:28\u001b[0m [\u001b[32m\u001b[1minfo     \u001b[0m] \u001b[1mModel parameters are saved to d3rlpy_logs/COMBO_20230929153035/model_22000.pt\u001b[0m\n"
     ]
    },
    {
     "data": {
      "application/vnd.jupyter.widget-view+json": {
       "model_id": "f2a45630d1cd4edf938348b4300a162e",
       "version_major": 2,
       "version_minor": 0
      },
      "text/plain": [
       "Epoch 23/1000:   0%|          | 0/1000 [00:00<?, ?it/s]"
      ]
     },
     "metadata": {},
     "output_type": "display_data"
    },
    {
     "name": "stdout",
     "output_type": "stream",
     "text": [
      "\u001b[2m2023-09-29 15:48:42\u001b[0m [\u001b[32m\u001b[1mdebug    \u001b[0m] \u001b[1m250000 transitions are generated.\u001b[0m \u001b[36mfake_transitions\u001b[0m=\u001b[35m1250000\u001b[0m \u001b[36mreal_transitions\u001b[0m=\u001b[35m53262\u001b[0m\n",
      "\u001b[2m2023-09-29 15:49:08\u001b[0m [\u001b[32m\u001b[1minfo     \u001b[0m] \u001b[1mCOMBO_20230929153035: epoch=23 step=23000\u001b[0m \u001b[36mepoch\u001b[0m=\u001b[35m23\u001b[0m \u001b[36mmetrics\u001b[0m=\u001b[35m{'time_sample_batch': 0.0009885420799255371, 'time_algorithm_update': 0.022323472023010254, 'critic_loss': 15.392863754272462, 'actor_loss': -22.821554538726808, 'temp_loss': 0.07015507495775819, 'temp': 0.1434967328608036, 'time_step': 0.023404853343963625, 'environment': 276.8}\u001b[0m \u001b[36mstep\u001b[0m=\u001b[35m23000\u001b[0m\n",
      "\u001b[2m2023-09-29 15:49:08\u001b[0m [\u001b[32m\u001b[1minfo     \u001b[0m] \u001b[1mModel parameters are saved to d3rlpy_logs/COMBO_20230929153035/model_23000.pt\u001b[0m\n"
     ]
    },
    {
     "data": {
      "application/vnd.jupyter.widget-view+json": {
       "model_id": "502b1bf263ec409085877f81e3c7b850",
       "version_major": 2,
       "version_minor": 0
      },
      "text/plain": [
       "Epoch 24/1000:   0%|          | 0/1000 [00:00<?, ?it/s]"
      ]
     },
     "metadata": {},
     "output_type": "display_data"
    },
    {
     "name": "stdout",
     "output_type": "stream",
     "text": [
      "\u001b[2m2023-09-29 15:49:22\u001b[0m [\u001b[32m\u001b[1mdebug    \u001b[0m] \u001b[1m250000 transitions are generated.\u001b[0m \u001b[36mfake_transitions\u001b[0m=\u001b[35m1250000\u001b[0m \u001b[36mreal_transitions\u001b[0m=\u001b[35m53262\u001b[0m\n",
      "\u001b[2m2023-09-29 15:49:50\u001b[0m [\u001b[32m\u001b[1minfo     \u001b[0m] \u001b[1mCOMBO_20230929153035: epoch=24 step=24000\u001b[0m \u001b[36mepoch\u001b[0m=\u001b[35m24\u001b[0m \u001b[36mmetrics\u001b[0m=\u001b[35m{'time_sample_batch': 0.0010443975925445556, 'time_algorithm_update': 0.02266261625289917, 'critic_loss': 15.878600238800049, 'actor_loss': -22.74286311149597, 'temp_loss': 0.060633466713130475, 'temp': 0.13189076697826385, 'time_step': 0.023810423374176024, 'environment': 265.4}\u001b[0m \u001b[36mstep\u001b[0m=\u001b[35m24000\u001b[0m\n",
      "\u001b[2m2023-09-29 15:49:50\u001b[0m [\u001b[32m\u001b[1minfo     \u001b[0m] \u001b[1mModel parameters are saved to d3rlpy_logs/COMBO_20230929153035/model_24000.pt\u001b[0m\n"
     ]
    },
    {
     "data": {
      "application/vnd.jupyter.widget-view+json": {
       "model_id": "0d98a25f43f045198d994985d6ed008f",
       "version_major": 2,
       "version_minor": 0
      },
      "text/plain": [
       "Epoch 25/1000:   0%|          | 0/1000 [00:00<?, ?it/s]"
      ]
     },
     "metadata": {},
     "output_type": "display_data"
    },
    {
     "name": "stdout",
     "output_type": "stream",
     "text": [
      "\u001b[2m2023-09-29 15:50:07\u001b[0m [\u001b[32m\u001b[1mdebug    \u001b[0m] \u001b[1m250000 transitions are generated.\u001b[0m \u001b[36mfake_transitions\u001b[0m=\u001b[35m1250000\u001b[0m \u001b[36mreal_transitions\u001b[0m=\u001b[35m53262\u001b[0m\n",
      "\u001b[2m2023-09-29 15:50:37\u001b[0m [\u001b[32m\u001b[1minfo     \u001b[0m] \u001b[1mCOMBO_20230929153035: epoch=25 step=25000\u001b[0m \u001b[36mepoch\u001b[0m=\u001b[35m25\u001b[0m \u001b[36mmetrics\u001b[0m=\u001b[35m{'time_sample_batch': 0.0011732864379882812, 'time_algorithm_update': 0.02639082455635071, 'critic_loss': 16.972540987968443, 'actor_loss': -22.62295799636841, 'temp_loss': 0.05063761124759913, 'temp': 0.12143119714409113, 'time_step': 0.027677284240722657, 'environment': 241.2}\u001b[0m \u001b[36mstep\u001b[0m=\u001b[35m25000\u001b[0m\n",
      "\u001b[2m2023-09-29 15:50:37\u001b[0m [\u001b[32m\u001b[1minfo     \u001b[0m] \u001b[1mModel parameters are saved to d3rlpy_logs/COMBO_20230929153035/model_25000.pt\u001b[0m\n"
     ]
    },
    {
     "data": {
      "application/vnd.jupyter.widget-view+json": {
       "model_id": "180170aaadac4ae1a67213cdb3b85c10",
       "version_major": 2,
       "version_minor": 0
      },
      "text/plain": [
       "Epoch 26/1000:   0%|          | 0/1000 [00:00<?, ?it/s]"
      ]
     },
     "metadata": {},
     "output_type": "display_data"
    },
    {
     "name": "stdout",
     "output_type": "stream",
     "text": [
      "\u001b[2m2023-09-29 15:50:52\u001b[0m [\u001b[32m\u001b[1mdebug    \u001b[0m] \u001b[1m250000 transitions are generated.\u001b[0m \u001b[36mfake_transitions\u001b[0m=\u001b[35m1250000\u001b[0m \u001b[36mreal_transitions\u001b[0m=\u001b[35m53262\u001b[0m\n",
      "\u001b[2m2023-09-29 15:51:19\u001b[0m [\u001b[32m\u001b[1minfo     \u001b[0m] \u001b[1mCOMBO_20230929153035: epoch=26 step=26000\u001b[0m \u001b[36mepoch\u001b[0m=\u001b[35m26\u001b[0m \u001b[36mmetrics\u001b[0m=\u001b[35m{'time_sample_batch': 0.0009476773738861084, 'time_algorithm_update': 0.02162551832199097, 'critic_loss': 18.41466019630432, 'actor_loss': -22.4470158367157, 'temp_loss': 0.04339653711766005, 'temp': 0.11188197100907564, 'time_step': 0.022659717321395875, 'environment': 211.6}\u001b[0m \u001b[36mstep\u001b[0m=\u001b[35m26000\u001b[0m\n",
      "\u001b[2m2023-09-29 15:51:19\u001b[0m [\u001b[32m\u001b[1minfo     \u001b[0m] \u001b[1mModel parameters are saved to d3rlpy_logs/COMBO_20230929153035/model_26000.pt\u001b[0m\n"
     ]
    },
    {
     "data": {
      "application/vnd.jupyter.widget-view+json": {
       "model_id": "61c85cb81c3a46c8981afa1a1219e323",
       "version_major": 2,
       "version_minor": 0
      },
      "text/plain": [
       "Epoch 27/1000:   0%|          | 0/1000 [00:00<?, ?it/s]"
      ]
     },
     "metadata": {},
     "output_type": "display_data"
    },
    {
     "name": "stdout",
     "output_type": "stream",
     "text": [
      "\u001b[2m2023-09-29 15:51:34\u001b[0m [\u001b[32m\u001b[1mdebug    \u001b[0m] \u001b[1m250000 transitions are generated.\u001b[0m \u001b[36mfake_transitions\u001b[0m=\u001b[35m1250000\u001b[0m \u001b[36mreal_transitions\u001b[0m=\u001b[35m53262\u001b[0m\n",
      "\u001b[2m2023-09-29 15:51:59\u001b[0m [\u001b[32m\u001b[1minfo     \u001b[0m] \u001b[1mCOMBO_20230929153035: epoch=27 step=27000\u001b[0m \u001b[36mepoch\u001b[0m=\u001b[35m27\u001b[0m \u001b[36mmetrics\u001b[0m=\u001b[35m{'time_sample_batch': 0.0009763448238372803, 'time_algorithm_update': 0.02226748752593994, 'critic_loss': 20.857812702178954, 'actor_loss': -22.21233226585388, 'temp_loss': 0.03734363871626556, 'temp': 0.1030594205185771, 'time_step': 0.02333630084991455, 'environment': 230.7}\u001b[0m \u001b[36mstep\u001b[0m=\u001b[35m27000\u001b[0m\n",
      "\u001b[2m2023-09-29 15:51:59\u001b[0m [\u001b[32m\u001b[1minfo     \u001b[0m] \u001b[1mModel parameters are saved to d3rlpy_logs/COMBO_20230929153035/model_27000.pt\u001b[0m\n"
     ]
    },
    {
     "data": {
      "application/vnd.jupyter.widget-view+json": {
       "model_id": "d50025dd65d6414888041ab36dd5099f",
       "version_major": 2,
       "version_minor": 0
      },
      "text/plain": [
       "Epoch 28/1000:   0%|          | 0/1000 [00:00<?, ?it/s]"
      ]
     },
     "metadata": {},
     "output_type": "display_data"
    },
    {
     "name": "stdout",
     "output_type": "stream",
     "text": [
      "\u001b[2m2023-09-29 15:52:13\u001b[0m [\u001b[32m\u001b[1mdebug    \u001b[0m] \u001b[1m250000 transitions are generated.\u001b[0m \u001b[36mfake_transitions\u001b[0m=\u001b[35m1250000\u001b[0m \u001b[36mreal_transitions\u001b[0m=\u001b[35m53262\u001b[0m\n",
      "\u001b[2m2023-09-29 15:52:37\u001b[0m [\u001b[32m\u001b[1minfo     \u001b[0m] \u001b[1mCOMBO_20230929153035: epoch=28 step=28000\u001b[0m \u001b[36mepoch\u001b[0m=\u001b[35m28\u001b[0m \u001b[36mmetrics\u001b[0m=\u001b[35m{'time_sample_batch': 0.0008904745578765869, 'time_algorithm_update': 0.02050384521484375, 'critic_loss': 26.688760794639588, 'actor_loss': -21.859609062194824, 'temp_loss': 0.03108073834516108, 'temp': 0.09499650512635707, 'time_step': 0.021479525089263915, 'environment': 216.1}\u001b[0m \u001b[36mstep\u001b[0m=\u001b[35m28000\u001b[0m\n",
      "\u001b[2m2023-09-29 15:52:37\u001b[0m [\u001b[32m\u001b[1minfo     \u001b[0m] \u001b[1mModel parameters are saved to d3rlpy_logs/COMBO_20230929153035/model_28000.pt\u001b[0m\n"
     ]
    },
    {
     "data": {
      "application/vnd.jupyter.widget-view+json": {
       "model_id": "cb9338451fff481094efba44d29190d0",
       "version_major": 2,
       "version_minor": 0
      },
      "text/plain": [
       "Epoch 29/1000:   0%|          | 0/1000 [00:00<?, ?it/s]"
      ]
     },
     "metadata": {},
     "output_type": "display_data"
    },
    {
     "name": "stdout",
     "output_type": "stream",
     "text": [
      "\u001b[2m2023-09-29 15:52:51\u001b[0m [\u001b[32m\u001b[1mdebug    \u001b[0m] \u001b[1m250000 transitions are generated.\u001b[0m \u001b[36mfake_transitions\u001b[0m=\u001b[35m1250000\u001b[0m \u001b[36mreal_transitions\u001b[0m=\u001b[35m53262\u001b[0m\n",
      "\u001b[2m2023-09-29 15:53:14\u001b[0m [\u001b[32m\u001b[1minfo     \u001b[0m] \u001b[1mCOMBO_20230929153035: epoch=29 step=29000\u001b[0m \u001b[36mepoch\u001b[0m=\u001b[35m29\u001b[0m \u001b[36mmetrics\u001b[0m=\u001b[35m{'time_sample_batch': 0.0008895418643951416, 'time_algorithm_update': 0.020559640407562255, 'critic_loss': 35.04346291446686, 'actor_loss': -21.466728038787842, 'temp_loss': 0.024556071972474457, 'temp': 0.08778008377552032, 'time_step': 0.02153502058982849, 'environment': 234.7}\u001b[0m \u001b[36mstep\u001b[0m=\u001b[35m29000\u001b[0m\n",
      "\u001b[2m2023-09-29 15:53:14\u001b[0m [\u001b[32m\u001b[1minfo     \u001b[0m] \u001b[1mModel parameters are saved to d3rlpy_logs/COMBO_20230929153035/model_29000.pt\u001b[0m\n"
     ]
    },
    {
     "data": {
      "application/vnd.jupyter.widget-view+json": {
       "model_id": "8ea5e9ed17294b0cb28d4c35d6155f5d",
       "version_major": 2,
       "version_minor": 0
      },
      "text/plain": [
       "Epoch 30/1000:   0%|          | 0/1000 [00:00<?, ?it/s]"
      ]
     },
     "metadata": {},
     "output_type": "display_data"
    },
    {
     "name": "stdout",
     "output_type": "stream",
     "text": [
      "\u001b[2m2023-09-29 15:53:28\u001b[0m [\u001b[32m\u001b[1mdebug    \u001b[0m] \u001b[1m250000 transitions are generated.\u001b[0m \u001b[36mfake_transitions\u001b[0m=\u001b[35m1250000\u001b[0m \u001b[36mreal_transitions\u001b[0m=\u001b[35m53262\u001b[0m\n",
      "\u001b[2m2023-09-29 15:53:53\u001b[0m [\u001b[32m\u001b[1minfo     \u001b[0m] \u001b[1mCOMBO_20230929153035: epoch=30 step=30000\u001b[0m \u001b[36mepoch\u001b[0m=\u001b[35m30\u001b[0m \u001b[36mmetrics\u001b[0m=\u001b[35m{'time_sample_batch': 0.0008883860111236572, 'time_algorithm_update': 0.02044105625152588, 'critic_loss': 42.57730333709717, 'actor_loss': -20.891950681686403, 'temp_loss': 0.02026073225820437, 'temp': 0.08139642079919576, 'time_step': 0.021414263725280762, 'environment': 321.4}\u001b[0m \u001b[36mstep\u001b[0m=\u001b[35m30000\u001b[0m\n",
      "\u001b[2m2023-09-29 15:53:53\u001b[0m [\u001b[32m\u001b[1minfo     \u001b[0m] \u001b[1mModel parameters are saved to d3rlpy_logs/COMBO_20230929153035/model_30000.pt\u001b[0m\n"
     ]
    },
    {
     "data": {
      "application/vnd.jupyter.widget-view+json": {
       "model_id": "6681ae9a61a44373ab6a58186a3e7a5a",
       "version_major": 2,
       "version_minor": 0
      },
      "text/plain": [
       "Epoch 31/1000:   0%|          | 0/1000 [00:00<?, ?it/s]"
      ]
     },
     "metadata": {},
     "output_type": "display_data"
    },
    {
     "name": "stdout",
     "output_type": "stream",
     "text": [
      "\u001b[2m2023-09-29 15:54:07\u001b[0m [\u001b[32m\u001b[1mdebug    \u001b[0m] \u001b[1m250000 transitions are generated.\u001b[0m \u001b[36mfake_transitions\u001b[0m=\u001b[35m1250000\u001b[0m \u001b[36mreal_transitions\u001b[0m=\u001b[35m53262\u001b[0m\n",
      "\u001b[2m2023-09-29 15:54:32\u001b[0m [\u001b[32m\u001b[1minfo     \u001b[0m] \u001b[1mCOMBO_20230929153035: epoch=31 step=31000\u001b[0m \u001b[36mepoch\u001b[0m=\u001b[35m31\u001b[0m \u001b[36mmetrics\u001b[0m=\u001b[35m{'time_sample_batch': 0.0008924696445465088, 'time_algorithm_update': 0.020564970016479493, 'critic_loss': 55.6963588142395, 'actor_loss': -20.212838212013246, 'temp_loss': 0.015636393699562177, 'temp': 0.07542929831892252, 'time_step': 0.02154224395751953, 'environment': 460.7}\u001b[0m \u001b[36mstep\u001b[0m=\u001b[35m31000\u001b[0m\n",
      "\u001b[2m2023-09-29 15:54:32\u001b[0m [\u001b[32m\u001b[1minfo     \u001b[0m] \u001b[1mModel parameters are saved to d3rlpy_logs/COMBO_20230929153035/model_31000.pt\u001b[0m\n"
     ]
    },
    {
     "data": {
      "application/vnd.jupyter.widget-view+json": {
       "model_id": "cc7ef9d75eb9432db6e936e520866da9",
       "version_major": 2,
       "version_minor": 0
      },
      "text/plain": [
       "Epoch 32/1000:   0%|          | 0/1000 [00:00<?, ?it/s]"
      ]
     },
     "metadata": {},
     "output_type": "display_data"
    },
    {
     "name": "stdout",
     "output_type": "stream",
     "text": [
      "\u001b[2m2023-09-29 15:54:47\u001b[0m [\u001b[32m\u001b[1mdebug    \u001b[0m] \u001b[1m250000 transitions are generated.\u001b[0m \u001b[36mfake_transitions\u001b[0m=\u001b[35m1250000\u001b[0m \u001b[36mreal_transitions\u001b[0m=\u001b[35m53262\u001b[0m\n",
      "\u001b[2m2023-09-29 15:55:13\u001b[0m [\u001b[32m\u001b[1minfo     \u001b[0m] \u001b[1mCOMBO_20230929153035: epoch=32 step=32000\u001b[0m \u001b[36mepoch\u001b[0m=\u001b[35m32\u001b[0m \u001b[36mmetrics\u001b[0m=\u001b[35m{'time_sample_batch': 0.0009585447311401367, 'time_algorithm_update': 0.021873024463653565, 'critic_loss': 67.88102119636535, 'actor_loss': -19.4460274515152, 'temp_loss': 0.012766112861339935, 'temp': 0.07019605983048677, 'time_step': 0.02292470169067383, 'environment': 313.7}\u001b[0m \u001b[36mstep\u001b[0m=\u001b[35m32000\u001b[0m\n",
      "\u001b[2m2023-09-29 15:55:13\u001b[0m [\u001b[32m\u001b[1minfo     \u001b[0m] \u001b[1mModel parameters are saved to d3rlpy_logs/COMBO_20230929153035/model_32000.pt\u001b[0m\n"
     ]
    },
    {
     "data": {
      "application/vnd.jupyter.widget-view+json": {
       "model_id": "74cfc6a602fa40a0ab895c1b07e9d2b9",
       "version_major": 2,
       "version_minor": 0
      },
      "text/plain": [
       "Epoch 33/1000:   0%|          | 0/1000 [00:00<?, ?it/s]"
      ]
     },
     "metadata": {},
     "output_type": "display_data"
    },
    {
     "name": "stdout",
     "output_type": "stream",
     "text": [
      "\u001b[2m2023-09-29 15:55:28\u001b[0m [\u001b[32m\u001b[1mdebug    \u001b[0m] \u001b[1m250000 transitions are generated.\u001b[0m \u001b[36mfake_transitions\u001b[0m=\u001b[35m1250000\u001b[0m \u001b[36mreal_transitions\u001b[0m=\u001b[35m53262\u001b[0m\n",
      "\u001b[2m2023-09-29 15:55:54\u001b[0m [\u001b[32m\u001b[1minfo     \u001b[0m] \u001b[1mCOMBO_20230929153035: epoch=33 step=33000\u001b[0m \u001b[36mepoch\u001b[0m=\u001b[35m33\u001b[0m \u001b[36mmetrics\u001b[0m=\u001b[35m{'time_sample_batch': 0.0008810768127441406, 'time_algorithm_update': 0.020451441526412963, 'critic_loss': 104.63008474063874, 'actor_loss': -18.38396488285065, 'temp_loss': 0.008680676315387246, 'temp': 0.06549775123596191, 'time_step': 0.021417533159255982, 'environment': 504.2}\u001b[0m \u001b[36mstep\u001b[0m=\u001b[35m33000\u001b[0m\n",
      "\u001b[2m2023-09-29 15:55:54\u001b[0m [\u001b[32m\u001b[1minfo     \u001b[0m] \u001b[1mModel parameters are saved to d3rlpy_logs/COMBO_20230929153035/model_33000.pt\u001b[0m\n"
     ]
    },
    {
     "data": {
      "application/vnd.jupyter.widget-view+json": {
       "model_id": "adc7bf1fe651403c85f868a877277027",
       "version_major": 2,
       "version_minor": 0
      },
      "text/plain": [
       "Epoch 34/1000:   0%|          | 0/1000 [00:00<?, ?it/s]"
      ]
     },
     "metadata": {},
     "output_type": "display_data"
    },
    {
     "name": "stdout",
     "output_type": "stream",
     "text": [
      "\u001b[2m2023-09-29 15:56:07\u001b[0m [\u001b[32m\u001b[1mdebug    \u001b[0m] \u001b[1m250000 transitions are generated.\u001b[0m \u001b[36mfake_transitions\u001b[0m=\u001b[35m1250000\u001b[0m \u001b[36mreal_transitions\u001b[0m=\u001b[35m53262\u001b[0m\n",
      "\u001b[2m2023-09-29 15:56:33\u001b[0m [\u001b[32m\u001b[1minfo     \u001b[0m] \u001b[1mCOMBO_20230929153035: epoch=34 step=34000\u001b[0m \u001b[36mepoch\u001b[0m=\u001b[35m34\u001b[0m \u001b[36mmetrics\u001b[0m=\u001b[35m{'time_sample_batch': 0.0008824672698974609, 'time_algorithm_update': 0.020492314100265502, 'critic_loss': 158.97169871139528, 'actor_loss': -17.148683458328247, 'temp_loss': 0.0057146516192151465, 'temp': 0.0617664904370904, 'time_step': 0.02146105146408081, 'environment': 468.6}\u001b[0m \u001b[36mstep\u001b[0m=\u001b[35m34000\u001b[0m\n",
      "\u001b[2m2023-09-29 15:56:33\u001b[0m [\u001b[32m\u001b[1minfo     \u001b[0m] \u001b[1mModel parameters are saved to d3rlpy_logs/COMBO_20230929153035/model_34000.pt\u001b[0m\n"
     ]
    },
    {
     "data": {
      "application/vnd.jupyter.widget-view+json": {
       "model_id": "5928755ae5144f0b9f5df84fd5e12224",
       "version_major": 2,
       "version_minor": 0
      },
      "text/plain": [
       "Epoch 35/1000:   0%|          | 0/1000 [00:00<?, ?it/s]"
      ]
     },
     "metadata": {},
     "output_type": "display_data"
    },
    {
     "name": "stdout",
     "output_type": "stream",
     "text": [
      "\u001b[2m2023-09-29 15:56:47\u001b[0m [\u001b[32m\u001b[1mdebug    \u001b[0m] \u001b[1m250000 transitions are generated.\u001b[0m \u001b[36mfake_transitions\u001b[0m=\u001b[35m1250000\u001b[0m \u001b[36mreal_transitions\u001b[0m=\u001b[35m53262\u001b[0m\n",
      "\u001b[2m2023-09-29 15:57:13\u001b[0m [\u001b[32m\u001b[1minfo     \u001b[0m] \u001b[1mCOMBO_20230929153035: epoch=35 step=35000\u001b[0m \u001b[36mepoch\u001b[0m=\u001b[35m35\u001b[0m \u001b[36mmetrics\u001b[0m=\u001b[35m{'time_sample_batch': 0.0008823175430297852, 'time_algorithm_update': 0.020370995998382567, 'critic_loss': 245.22126840782167, 'actor_loss': -15.461307927131653, 'temp_loss': 0.0007200605298858136, 'temp': 0.05959752248600125, 'time_step': 0.021339190006256104, 'environment': 492.7}\u001b[0m \u001b[36mstep\u001b[0m=\u001b[35m35000\u001b[0m\n",
      "\u001b[2m2023-09-29 15:57:13\u001b[0m [\u001b[32m\u001b[1minfo     \u001b[0m] \u001b[1mModel parameters are saved to d3rlpy_logs/COMBO_20230929153035/model_35000.pt\u001b[0m\n"
     ]
    },
    {
     "data": {
      "application/vnd.jupyter.widget-view+json": {
       "model_id": "1392b21cf1904557abbc7de776d0154a",
       "version_major": 2,
       "version_minor": 0
      },
      "text/plain": [
       "Epoch 36/1000:   0%|          | 0/1000 [00:00<?, ?it/s]"
      ]
     },
     "metadata": {},
     "output_type": "display_data"
    },
    {
     "name": "stdout",
     "output_type": "stream",
     "text": [
      "\u001b[2m2023-09-29 15:57:27\u001b[0m [\u001b[32m\u001b[1mdebug    \u001b[0m] \u001b[1m250000 transitions are generated.\u001b[0m \u001b[36mfake_transitions\u001b[0m=\u001b[35m1250000\u001b[0m \u001b[36mreal_transitions\u001b[0m=\u001b[35m53262\u001b[0m\n",
      "\u001b[2m2023-09-29 15:57:52\u001b[0m [\u001b[32m\u001b[1minfo     \u001b[0m] \u001b[1mCOMBO_20230929153035: epoch=36 step=36000\u001b[0m \u001b[36mepoch\u001b[0m=\u001b[35m36\u001b[0m \u001b[36mmetrics\u001b[0m=\u001b[35m{'time_sample_batch': 0.0008811202049255371, 'time_algorithm_update': 0.020385539293289186, 'critic_loss': 362.74926545333864, 'actor_loss': -13.420006425380707, 'temp_loss': -0.0031283147118228954, 'temp': 0.06142552132159471, 'time_step': 0.02135251522064209, 'environment': 402.5}\u001b[0m \u001b[36mstep\u001b[0m=\u001b[35m36000\u001b[0m\n",
      "\u001b[2m2023-09-29 15:57:52\u001b[0m [\u001b[32m\u001b[1minfo     \u001b[0m] \u001b[1mModel parameters are saved to d3rlpy_logs/COMBO_20230929153035/model_36000.pt\u001b[0m\n"
     ]
    },
    {
     "data": {
      "application/vnd.jupyter.widget-view+json": {
       "model_id": "344c0f413e584d61927a1f6f403e4851",
       "version_major": 2,
       "version_minor": 0
      },
      "text/plain": [
       "Epoch 37/1000:   0%|          | 0/1000 [00:00<?, ?it/s]"
      ]
     },
     "metadata": {},
     "output_type": "display_data"
    },
    {
     "name": "stdout",
     "output_type": "stream",
     "text": [
      "\u001b[2m2023-09-29 15:58:06\u001b[0m [\u001b[32m\u001b[1mdebug    \u001b[0m] \u001b[1m250000 transitions are generated.\u001b[0m \u001b[36mfake_transitions\u001b[0m=\u001b[35m1250000\u001b[0m \u001b[36mreal_transitions\u001b[0m=\u001b[35m53262\u001b[0m\n",
      "\u001b[2m2023-09-29 15:58:32\u001b[0m [\u001b[32m\u001b[1minfo     \u001b[0m] \u001b[1mCOMBO_20230929153035: epoch=37 step=37000\u001b[0m \u001b[36mepoch\u001b[0m=\u001b[35m37\u001b[0m \u001b[36mmetrics\u001b[0m=\u001b[35m{'time_sample_batch': 0.0008838737010955811, 'time_algorithm_update': 0.020606444835662843, 'critic_loss': 491.66002717590334, 'actor_loss': -10.883155930280685, 'temp_loss': -0.0027407265137881043, 'temp': 0.06436502879112958, 'time_step': 0.0215776686668396, 'environment': 491.8}\u001b[0m \u001b[36mstep\u001b[0m=\u001b[35m37000\u001b[0m\n",
      "\u001b[2m2023-09-29 15:58:32\u001b[0m [\u001b[32m\u001b[1minfo     \u001b[0m] \u001b[1mModel parameters are saved to d3rlpy_logs/COMBO_20230929153035/model_37000.pt\u001b[0m\n"
     ]
    },
    {
     "data": {
      "application/vnd.jupyter.widget-view+json": {
       "model_id": "532c51ca02f343dbb3eb5ed72ad38154",
       "version_major": 2,
       "version_minor": 0
      },
      "text/plain": [
       "Epoch 38/1000:   0%|          | 0/1000 [00:00<?, ?it/s]"
      ]
     },
     "metadata": {},
     "output_type": "display_data"
    },
    {
     "name": "stdout",
     "output_type": "stream",
     "text": [
      "\u001b[2m2023-09-29 15:58:46\u001b[0m [\u001b[32m\u001b[1mdebug    \u001b[0m] \u001b[1m250000 transitions are generated.\u001b[0m \u001b[36mfake_transitions\u001b[0m=\u001b[35m1250000\u001b[0m \u001b[36mreal_transitions\u001b[0m=\u001b[35m53262\u001b[0m\n",
      "\u001b[2m2023-09-29 15:59:10\u001b[0m [\u001b[32m\u001b[1minfo     \u001b[0m] \u001b[1mCOMBO_20230929153035: epoch=38 step=38000\u001b[0m \u001b[36mepoch\u001b[0m=\u001b[35m38\u001b[0m \u001b[36mmetrics\u001b[0m=\u001b[35m{'time_sample_batch': 0.0008839480876922607, 'time_algorithm_update': 0.020445169687271118, 'critic_loss': 684.0316335906982, 'actor_loss': -7.487800543606281, 'temp_loss': -0.010063396437093615, 'temp': 0.07047503524273634, 'time_step': 0.02141532874107361, 'environment': 277.0}\u001b[0m \u001b[36mstep\u001b[0m=\u001b[35m38000\u001b[0m\n",
      "\u001b[2m2023-09-29 15:59:10\u001b[0m [\u001b[32m\u001b[1minfo     \u001b[0m] \u001b[1mModel parameters are saved to d3rlpy_logs/COMBO_20230929153035/model_38000.pt\u001b[0m\n"
     ]
    },
    {
     "data": {
      "application/vnd.jupyter.widget-view+json": {
       "model_id": "263aed078d7049d28c5aaed8a3011063",
       "version_major": 2,
       "version_minor": 0
      },
      "text/plain": [
       "Epoch 39/1000:   0%|          | 0/1000 [00:00<?, ?it/s]"
      ]
     },
     "metadata": {},
     "output_type": "display_data"
    },
    {
     "name": "stdout",
     "output_type": "stream",
     "text": [
      "\u001b[2m2023-09-29 15:59:24\u001b[0m [\u001b[32m\u001b[1mdebug    \u001b[0m] \u001b[1m250000 transitions are generated.\u001b[0m \u001b[36mfake_transitions\u001b[0m=\u001b[35m1250000\u001b[0m \u001b[36mreal_transitions\u001b[0m=\u001b[35m53262\u001b[0m\n",
      "\u001b[2m2023-09-29 15:59:59\u001b[0m [\u001b[32m\u001b[1minfo     \u001b[0m] \u001b[1mCOMBO_20230929153035: epoch=39 step=39000\u001b[0m \u001b[36mepoch\u001b[0m=\u001b[35m39\u001b[0m \u001b[36mmetrics\u001b[0m=\u001b[35m{'time_sample_batch': 0.00117258620262146, 'time_algorithm_update': 0.026982392787933348, 'critic_loss': 874.2373732719421, 'actor_loss': -4.238919204294682, 'temp_loss': -0.014988005013670772, 'temp': 0.07973209227621555, 'time_step': 0.028279045581817628, 'environment': 259.3}\u001b[0m \u001b[36mstep\u001b[0m=\u001b[35m39000\u001b[0m\n",
      "\u001b[2m2023-09-29 15:59:59\u001b[0m [\u001b[32m\u001b[1minfo     \u001b[0m] \u001b[1mModel parameters are saved to d3rlpy_logs/COMBO_20230929153035/model_39000.pt\u001b[0m\n"
     ]
    },
    {
     "data": {
      "application/vnd.jupyter.widget-view+json": {
       "model_id": "1d79f37ddc444546be2d261a0950115f",
       "version_major": 2,
       "version_minor": 0
      },
      "text/plain": [
       "Epoch 40/1000:   0%|          | 0/1000 [00:00<?, ?it/s]"
      ]
     },
     "metadata": {},
     "output_type": "display_data"
    },
    {
     "name": "stdout",
     "output_type": "stream",
     "text": [
      "\u001b[2m2023-09-29 16:00:14\u001b[0m [\u001b[32m\u001b[1mdebug    \u001b[0m] \u001b[1m250000 transitions are generated.\u001b[0m \u001b[36mfake_transitions\u001b[0m=\u001b[35m1250000\u001b[0m \u001b[36mreal_transitions\u001b[0m=\u001b[35m53262\u001b[0m\n",
      "\u001b[2m2023-09-29 16:00:38\u001b[0m [\u001b[32m\u001b[1minfo     \u001b[0m] \u001b[1mCOMBO_20230929153035: epoch=40 step=40000\u001b[0m \u001b[36mepoch\u001b[0m=\u001b[35m40\u001b[0m \u001b[36mmetrics\u001b[0m=\u001b[35m{'time_sample_batch': 0.0008993368148803711, 'time_algorithm_update': 0.020748961210250855, 'critic_loss': 1214.980139694214, 'actor_loss': -0.8876194049417973, 'temp_loss': -0.021581613446353003, 'temp': 0.09026985730975866, 'time_step': 0.021736443042755127, 'environment': 229.0}\u001b[0m \u001b[36mstep\u001b[0m=\u001b[35m40000\u001b[0m\n",
      "\u001b[2m2023-09-29 16:00:38\u001b[0m [\u001b[32m\u001b[1minfo     \u001b[0m] \u001b[1mModel parameters are saved to d3rlpy_logs/COMBO_20230929153035/model_40000.pt\u001b[0m\n"
     ]
    },
    {
     "data": {
      "application/vnd.jupyter.widget-view+json": {
       "model_id": "85d3936952424688a89d50ce1e4ac2b3",
       "version_major": 2,
       "version_minor": 0
      },
      "text/plain": [
       "Epoch 41/1000:   0%|          | 0/1000 [00:00<?, ?it/s]"
      ]
     },
     "metadata": {},
     "output_type": "display_data"
    },
    {
     "name": "stdout",
     "output_type": "stream",
     "text": [
      "\u001b[2m2023-09-29 16:00:51\u001b[0m [\u001b[32m\u001b[1mdebug    \u001b[0m] \u001b[1m250000 transitions are generated.\u001b[0m \u001b[36mfake_transitions\u001b[0m=\u001b[35m1250000\u001b[0m \u001b[36mreal_transitions\u001b[0m=\u001b[35m53262\u001b[0m\n",
      "\u001b[2m2023-09-29 16:01:16\u001b[0m [\u001b[32m\u001b[1minfo     \u001b[0m] \u001b[1mCOMBO_20230929153035: epoch=41 step=41000\u001b[0m \u001b[36mepoch\u001b[0m=\u001b[35m41\u001b[0m \u001b[36mmetrics\u001b[0m=\u001b[35m{'time_sample_batch': 0.0008894867897033691, 'time_algorithm_update': 0.020497206687927247, 'critic_loss': 1816.3700308990478, 'actor_loss': 3.9522921334505083, 'temp_loss': -0.0261403067689389, 'temp': 0.1015557483509183, 'time_step': 0.02147389268875122, 'environment': 344.6}\u001b[0m \u001b[36mstep\u001b[0m=\u001b[35m41000\u001b[0m\n",
      "\u001b[2m2023-09-29 16:01:16\u001b[0m [\u001b[32m\u001b[1minfo     \u001b[0m] \u001b[1mModel parameters are saved to d3rlpy_logs/COMBO_20230929153035/model_41000.pt\u001b[0m\n"
     ]
    },
    {
     "data": {
      "application/vnd.jupyter.widget-view+json": {
       "model_id": "0356f2d301b24b6593b3044ceec74825",
       "version_major": 2,
       "version_minor": 0
      },
      "text/plain": [
       "Epoch 42/1000:   0%|          | 0/1000 [00:00<?, ?it/s]"
      ]
     },
     "metadata": {},
     "output_type": "display_data"
    },
    {
     "name": "stdout",
     "output_type": "stream",
     "text": [
      "\u001b[2m2023-09-29 16:01:30\u001b[0m [\u001b[32m\u001b[1mdebug    \u001b[0m] \u001b[1m250000 transitions are generated.\u001b[0m \u001b[36mfake_transitions\u001b[0m=\u001b[35m1250000\u001b[0m \u001b[36mreal_transitions\u001b[0m=\u001b[35m53262\u001b[0m\n",
      "\u001b[2m2023-09-29 16:01:55\u001b[0m [\u001b[32m\u001b[1minfo     \u001b[0m] \u001b[1mCOMBO_20230929153035: epoch=42 step=42000\u001b[0m \u001b[36mepoch\u001b[0m=\u001b[35m42\u001b[0m \u001b[36mmetrics\u001b[0m=\u001b[35m{'time_sample_batch': 0.0008888161182403565, 'time_algorithm_update': 0.020532148122787475, 'critic_loss': 2798.433556869507, 'actor_loss': 9.353663426011801, 'temp_loss': -0.027483344363979995, 'temp': 0.11347446212172509, 'time_step': 0.021508264780044556, 'environment': 384.3}\u001b[0m \u001b[36mstep\u001b[0m=\u001b[35m42000\u001b[0m\n",
      "\u001b[2m2023-09-29 16:01:55\u001b[0m [\u001b[32m\u001b[1minfo     \u001b[0m] \u001b[1mModel parameters are saved to d3rlpy_logs/COMBO_20230929153035/model_42000.pt\u001b[0m\n"
     ]
    },
    {
     "data": {
      "application/vnd.jupyter.widget-view+json": {
       "model_id": "9aace146d6ac44b7bb4cfb2287c24a72",
       "version_major": 2,
       "version_minor": 0
      },
      "text/plain": [
       "Epoch 43/1000:   0%|          | 0/1000 [00:00<?, ?it/s]"
      ]
     },
     "metadata": {},
     "output_type": "display_data"
    },
    {
     "name": "stdout",
     "output_type": "stream",
     "text": [
      "\u001b[2m2023-09-29 16:02:09\u001b[0m [\u001b[32m\u001b[1mdebug    \u001b[0m] \u001b[1m250000 transitions are generated.\u001b[0m \u001b[36mfake_transitions\u001b[0m=\u001b[35m1250000\u001b[0m \u001b[36mreal_transitions\u001b[0m=\u001b[35m53262\u001b[0m\n",
      "\u001b[2m2023-09-29 16:02:34\u001b[0m [\u001b[32m\u001b[1minfo     \u001b[0m] \u001b[1mCOMBO_20230929153035: epoch=43 step=43000\u001b[0m \u001b[36mepoch\u001b[0m=\u001b[35m43\u001b[0m \u001b[36mmetrics\u001b[0m=\u001b[35m{'time_sample_batch': 0.0008908965587615966, 'time_algorithm_update': 0.020618510007858276, 'critic_loss': 3176.840995819092, 'actor_loss': 15.6701915807724, 'temp_loss': -0.03440016660490073, 'temp': 0.12603752217441797, 'time_step': 0.021596325159072876, 'environment': 394.0}\u001b[0m \u001b[36mstep\u001b[0m=\u001b[35m43000\u001b[0m\n",
      "\u001b[2m2023-09-29 16:02:34\u001b[0m [\u001b[32m\u001b[1minfo     \u001b[0m] \u001b[1mModel parameters are saved to d3rlpy_logs/COMBO_20230929153035/model_43000.pt\u001b[0m\n"
     ]
    },
    {
     "data": {
      "application/vnd.jupyter.widget-view+json": {
       "model_id": "98b2d7b5816c46dfbb759e1a042c3d58",
       "version_major": 2,
       "version_minor": 0
      },
      "text/plain": [
       "Epoch 44/1000:   0%|          | 0/1000 [00:00<?, ?it/s]"
      ]
     },
     "metadata": {},
     "output_type": "display_data"
    },
    {
     "name": "stdout",
     "output_type": "stream",
     "text": [
      "\u001b[2m2023-09-29 16:02:48\u001b[0m [\u001b[32m\u001b[1mdebug    \u001b[0m] \u001b[1m250000 transitions are generated.\u001b[0m \u001b[36mfake_transitions\u001b[0m=\u001b[35m1250000\u001b[0m \u001b[36mreal_transitions\u001b[0m=\u001b[35m53262\u001b[0m\n",
      "\u001b[2m2023-09-29 16:03:14\u001b[0m [\u001b[32m\u001b[1minfo     \u001b[0m] \u001b[1mCOMBO_20230929153035: epoch=44 step=44000\u001b[0m \u001b[36mepoch\u001b[0m=\u001b[35m44\u001b[0m \u001b[36mmetrics\u001b[0m=\u001b[35m{'time_sample_batch': 0.0009080400466918945, 'time_algorithm_update': 0.020691928863525392, 'critic_loss': 4009.3140774993894, 'actor_loss': 22.98063726067543, 'temp_loss': -0.03484378712391481, 'temp': 0.1410155240893364, 'time_step': 0.021689204454421997, 'environment': 434.9}\u001b[0m \u001b[36mstep\u001b[0m=\u001b[35m44000\u001b[0m\n",
      "\u001b[2m2023-09-29 16:03:14\u001b[0m [\u001b[32m\u001b[1minfo     \u001b[0m] \u001b[1mModel parameters are saved to d3rlpy_logs/COMBO_20230929153035/model_44000.pt\u001b[0m\n"
     ]
    },
    {
     "data": {
      "application/vnd.jupyter.widget-view+json": {
       "model_id": "52d8f66a49d1494bb36f593d041317a0",
       "version_major": 2,
       "version_minor": 0
      },
      "text/plain": [
       "Epoch 45/1000:   0%|          | 0/1000 [00:00<?, ?it/s]"
      ]
     },
     "metadata": {},
     "output_type": "display_data"
    },
    {
     "name": "stdout",
     "output_type": "stream",
     "text": [
      "\u001b[2m2023-09-29 16:03:28\u001b[0m [\u001b[32m\u001b[1mdebug    \u001b[0m] \u001b[1m250000 transitions are generated.\u001b[0m \u001b[36mfake_transitions\u001b[0m=\u001b[35m1250000\u001b[0m \u001b[36mreal_transitions\u001b[0m=\u001b[35m53262\u001b[0m\n",
      "\u001b[2m2023-09-29 16:03:58\u001b[0m [\u001b[32m\u001b[1minfo     \u001b[0m] \u001b[1mCOMBO_20230929153035: epoch=45 step=45000\u001b[0m \u001b[36mepoch\u001b[0m=\u001b[35m45\u001b[0m \u001b[36mmetrics\u001b[0m=\u001b[35m{'time_sample_batch': 0.0008841102123260498, 'time_algorithm_update': 0.020554099559783937, 'critic_loss': 4082.07133203125, 'actor_loss': 30.032948748588563, 'temp_loss': -0.03603948455490172, 'temp': 0.15549942974746228, 'time_step': 0.021525095224380494, 'environment': 1000.0}\u001b[0m \u001b[36mstep\u001b[0m=\u001b[35m45000\u001b[0m\n",
      "\u001b[2m2023-09-29 16:03:58\u001b[0m [\u001b[32m\u001b[1minfo     \u001b[0m] \u001b[1mModel parameters are saved to d3rlpy_logs/COMBO_20230929153035/model_45000.pt\u001b[0m\n"
     ]
    },
    {
     "data": {
      "application/vnd.jupyter.widget-view+json": {
       "model_id": "68ed1b650a494cb79f2ff9f0cb6f7b2e",
       "version_major": 2,
       "version_minor": 0
      },
      "text/plain": [
       "Epoch 46/1000:   0%|          | 0/1000 [00:00<?, ?it/s]"
      ]
     },
     "metadata": {},
     "output_type": "display_data"
    },
    {
     "name": "stdout",
     "output_type": "stream",
     "text": [
      "\u001b[2m2023-09-29 16:04:12\u001b[0m [\u001b[32m\u001b[1mdebug    \u001b[0m] \u001b[1m250000 transitions are generated.\u001b[0m \u001b[36mfake_transitions\u001b[0m=\u001b[35m1250000\u001b[0m \u001b[36mreal_transitions\u001b[0m=\u001b[35m53262\u001b[0m\n",
      "\u001b[2m2023-09-29 16:04:46\u001b[0m [\u001b[32m\u001b[1minfo     \u001b[0m] \u001b[1mCOMBO_20230929153035: epoch=46 step=46000\u001b[0m \u001b[36mepoch\u001b[0m=\u001b[35m46\u001b[0m \u001b[36mmetrics\u001b[0m=\u001b[35m{'time_sample_batch': 0.0009937846660614013, 'time_algorithm_update': 0.022984045028686523, 'critic_loss': 4799.83861328125, 'actor_loss': 36.57168272972107, 'temp_loss': -0.0526954543646425, 'temp': 0.17382687795162202, 'time_step': 0.024084566831588744, 'environment': 1000.0}\u001b[0m \u001b[36mstep\u001b[0m=\u001b[35m46000\u001b[0m\n",
      "\u001b[2m2023-09-29 16:04:46\u001b[0m [\u001b[32m\u001b[1minfo     \u001b[0m] \u001b[1mModel parameters are saved to d3rlpy_logs/COMBO_20230929153035/model_46000.pt\u001b[0m\n"
     ]
    },
    {
     "data": {
      "application/vnd.jupyter.widget-view+json": {
       "model_id": "81f6017f8a0b447aa9b0e0fd73147f8a",
       "version_major": 2,
       "version_minor": 0
      },
      "text/plain": [
       "Epoch 47/1000:   0%|          | 0/1000 [00:00<?, ?it/s]"
      ]
     },
     "metadata": {},
     "output_type": "display_data"
    },
    {
     "name": "stdout",
     "output_type": "stream",
     "text": [
      "\u001b[2m2023-09-29 16:05:00\u001b[0m [\u001b[32m\u001b[1mdebug    \u001b[0m] \u001b[1m250000 transitions are generated.\u001b[0m \u001b[36mfake_transitions\u001b[0m=\u001b[35m1250000\u001b[0m \u001b[36mreal_transitions\u001b[0m=\u001b[35m53262\u001b[0m\n",
      "\u001b[2m2023-09-29 16:05:30\u001b[0m [\u001b[32m\u001b[1minfo     \u001b[0m] \u001b[1mCOMBO_20230929153035: epoch=47 step=47000\u001b[0m \u001b[36mepoch\u001b[0m=\u001b[35m47\u001b[0m \u001b[36mmetrics\u001b[0m=\u001b[35m{'time_sample_batch': 0.000879596471786499, 'time_algorithm_update': 0.020267910718917845, 'critic_loss': 7751.648747833252, 'actor_loss': 44.41690437507629, 'temp_loss': -0.08210320379957557, 'temp': 0.19810267974436283, 'time_step': 0.021233065605163574, 'environment': 1000.0}\u001b[0m \u001b[36mstep\u001b[0m=\u001b[35m47000\u001b[0m\n",
      "\u001b[2m2023-09-29 16:05:30\u001b[0m [\u001b[32m\u001b[1minfo     \u001b[0m] \u001b[1mModel parameters are saved to d3rlpy_logs/COMBO_20230929153035/model_47000.pt\u001b[0m\n"
     ]
    },
    {
     "data": {
      "application/vnd.jupyter.widget-view+json": {
       "model_id": "cf03143b069d45ddbba59db99d3d84a1",
       "version_major": 2,
       "version_minor": 0
      },
      "text/plain": [
       "Epoch 48/1000:   0%|          | 0/1000 [00:00<?, ?it/s]"
      ]
     },
     "metadata": {},
     "output_type": "display_data"
    },
    {
     "name": "stdout",
     "output_type": "stream",
     "text": [
      "\u001b[2m2023-09-29 16:05:44\u001b[0m [\u001b[32m\u001b[1mdebug    \u001b[0m] \u001b[1m250000 transitions are generated.\u001b[0m \u001b[36mfake_transitions\u001b[0m=\u001b[35m1250000\u001b[0m \u001b[36mreal_transitions\u001b[0m=\u001b[35m53262\u001b[0m\n",
      "\u001b[2m2023-09-29 16:06:14\u001b[0m [\u001b[32m\u001b[1minfo     \u001b[0m] \u001b[1mCOMBO_20230929153035: epoch=48 step=48000\u001b[0m \u001b[36mepoch\u001b[0m=\u001b[35m48\u001b[0m \u001b[36mmetrics\u001b[0m=\u001b[35m{'time_sample_batch': 0.0008873798847198486, 'time_algorithm_update': 0.020458893537521363, 'critic_loss': 11230.227066101073, 'actor_loss': 58.31261230278015, 'temp_loss': -0.07666219889745116, 'temp': 0.2216580087095499, 'time_step': 0.021433121919631957, 'environment': 1000.0}\u001b[0m \u001b[36mstep\u001b[0m=\u001b[35m48000\u001b[0m\n",
      "\u001b[2m2023-09-29 16:06:15\u001b[0m [\u001b[32m\u001b[1minfo     \u001b[0m] \u001b[1mModel parameters are saved to d3rlpy_logs/COMBO_20230929153035/model_48000.pt\u001b[0m\n"
     ]
    },
    {
     "data": {
      "application/vnd.jupyter.widget-view+json": {
       "model_id": "22708eeaac3d4b149a4218f971af53f0",
       "version_major": 2,
       "version_minor": 0
      },
      "text/plain": [
       "Epoch 49/1000:   0%|          | 0/1000 [00:00<?, ?it/s]"
      ]
     },
     "metadata": {},
     "output_type": "display_data"
    },
    {
     "name": "stdout",
     "output_type": "stream",
     "text": [
      "\u001b[2m2023-09-29 16:06:28\u001b[0m [\u001b[32m\u001b[1mdebug    \u001b[0m] \u001b[1m250000 transitions are generated.\u001b[0m \u001b[36mfake_transitions\u001b[0m=\u001b[35m1250000\u001b[0m \u001b[36mreal_transitions\u001b[0m=\u001b[35m53262\u001b[0m\n",
      "\u001b[2m2023-09-29 16:06:59\u001b[0m [\u001b[32m\u001b[1minfo     \u001b[0m] \u001b[1mCOMBO_20230929153035: epoch=49 step=49000\u001b[0m \u001b[36mepoch\u001b[0m=\u001b[35m49\u001b[0m \u001b[36mmetrics\u001b[0m=\u001b[35m{'time_sample_batch': 0.0008850722312927247, 'time_algorithm_update': 0.020491200447082518, 'critic_loss': 13284.330696838379, 'actor_loss': 74.84808188629151, 'temp_loss': -0.08920360512658954, 'temp': 0.2465774464905262, 'time_step': 0.02146318244934082, 'environment': 1000.0}\u001b[0m \u001b[36mstep\u001b[0m=\u001b[35m49000\u001b[0m\n",
      "\u001b[2m2023-09-29 16:06:59\u001b[0m [\u001b[32m\u001b[1minfo     \u001b[0m] \u001b[1mModel parameters are saved to d3rlpy_logs/COMBO_20230929153035/model_49000.pt\u001b[0m\n"
     ]
    },
    {
     "data": {
      "application/vnd.jupyter.widget-view+json": {
       "model_id": "8986fcef3a5f436caf37a55924fcdc06",
       "version_major": 2,
       "version_minor": 0
      },
      "text/plain": [
       "Epoch 50/1000:   0%|          | 0/1000 [00:00<?, ?it/s]"
      ]
     },
     "metadata": {},
     "output_type": "display_data"
    },
    {
     "name": "stdout",
     "output_type": "stream",
     "text": [
      "\u001b[2m2023-09-29 16:07:13\u001b[0m [\u001b[32m\u001b[1mdebug    \u001b[0m] \u001b[1m250000 transitions are generated.\u001b[0m \u001b[36mfake_transitions\u001b[0m=\u001b[35m1250000\u001b[0m \u001b[36mreal_transitions\u001b[0m=\u001b[35m53262\u001b[0m\n",
      "\u001b[2m2023-09-29 16:07:44\u001b[0m [\u001b[32m\u001b[1minfo     \u001b[0m] \u001b[1mCOMBO_20230929153035: epoch=50 step=50000\u001b[0m \u001b[36mepoch\u001b[0m=\u001b[35m50\u001b[0m \u001b[36mmetrics\u001b[0m=\u001b[35m{'time_sample_batch': 0.0008829050064086914, 'time_algorithm_update': 0.02051847839355469, 'critic_loss': 16942.747185546876, 'actor_loss': 94.3968818473816, 'temp_loss': -0.09540603002905845, 'temp': 0.27441528725624087, 'time_step': 0.021489097356796265, 'environment': 1000.0}\u001b[0m \u001b[36mstep\u001b[0m=\u001b[35m50000\u001b[0m\n",
      "\u001b[2m2023-09-29 16:07:44\u001b[0m [\u001b[32m\u001b[1minfo     \u001b[0m] \u001b[1mModel parameters are saved to d3rlpy_logs/COMBO_20230929153035/model_50000.pt\u001b[0m\n"
     ]
    },
    {
     "data": {
      "application/vnd.jupyter.widget-view+json": {
       "model_id": "c0ba01780761477aa06b172486fe22a5",
       "version_major": 2,
       "version_minor": 0
      },
      "text/plain": [
       "Epoch 51/1000:   0%|          | 0/1000 [00:00<?, ?it/s]"
      ]
     },
     "metadata": {},
     "output_type": "display_data"
    },
    {
     "name": "stdout",
     "output_type": "stream",
     "text": [
      "\u001b[2m2023-09-29 16:07:57\u001b[0m [\u001b[32m\u001b[1mdebug    \u001b[0m] \u001b[1m250000 transitions are generated.\u001b[0m \u001b[36mfake_transitions\u001b[0m=\u001b[35m1250000\u001b[0m \u001b[36mreal_transitions\u001b[0m=\u001b[35m53262\u001b[0m\n",
      "\u001b[2m2023-09-29 16:08:28\u001b[0m [\u001b[32m\u001b[1minfo     \u001b[0m] \u001b[1mCOMBO_20230929153035: epoch=51 step=51000\u001b[0m \u001b[36mepoch\u001b[0m=\u001b[35m51\u001b[0m \u001b[36mmetrics\u001b[0m=\u001b[35m{'time_sample_batch': 0.000883030652999878, 'time_algorithm_update': 0.02050915551185608, 'critic_loss': 20610.218107421875, 'actor_loss': 118.08803407287597, 'temp_loss': -0.10327303058654069, 'temp': 0.305372901648283, 'time_step': 0.021476887464523316, 'environment': 1000.0}\u001b[0m \u001b[36mstep\u001b[0m=\u001b[35m51000\u001b[0m\n",
      "\u001b[2m2023-09-29 16:08:28\u001b[0m [\u001b[32m\u001b[1minfo     \u001b[0m] \u001b[1mModel parameters are saved to d3rlpy_logs/COMBO_20230929153035/model_51000.pt\u001b[0m\n"
     ]
    },
    {
     "data": {
      "application/vnd.jupyter.widget-view+json": {
       "model_id": "ec9f2a3def0f4293870c07f131a8037d",
       "version_major": 2,
       "version_minor": 0
      },
      "text/plain": [
       "Epoch 52/1000:   0%|          | 0/1000 [00:00<?, ?it/s]"
      ]
     },
     "metadata": {},
     "output_type": "display_data"
    },
    {
     "name": "stdout",
     "output_type": "stream",
     "text": [
      "\u001b[2m2023-09-29 16:08:44\u001b[0m [\u001b[32m\u001b[1mdebug    \u001b[0m] \u001b[1m250000 transitions are generated.\u001b[0m \u001b[36mfake_transitions\u001b[0m=\u001b[35m1250000\u001b[0m \u001b[36mreal_transitions\u001b[0m=\u001b[35m53262\u001b[0m\n",
      "\u001b[2m2023-09-29 16:09:17\u001b[0m [\u001b[32m\u001b[1minfo     \u001b[0m] \u001b[1mCOMBO_20230929153035: epoch=52 step=52000\u001b[0m \u001b[36mepoch\u001b[0m=\u001b[35m52\u001b[0m \u001b[36mmetrics\u001b[0m=\u001b[35m{'time_sample_batch': 0.000996147871017456, 'time_algorithm_update': 0.022960602760314943, 'critic_loss': 21946.27154309082, 'actor_loss': 144.5962454147339, 'temp_loss': -0.12356063885241747, 'temp': 0.34013513389229777, 'time_step': 0.02407371735572815, 'environment': 1000.0}\u001b[0m \u001b[36mstep\u001b[0m=\u001b[35m52000\u001b[0m\n",
      "\u001b[2m2023-09-29 16:09:17\u001b[0m [\u001b[32m\u001b[1minfo     \u001b[0m] \u001b[1mModel parameters are saved to d3rlpy_logs/COMBO_20230929153035/model_52000.pt\u001b[0m\n"
     ]
    },
    {
     "data": {
      "application/vnd.jupyter.widget-view+json": {
       "model_id": "4fd0715fa4f54320bec1e5ffe855cbfb",
       "version_major": 2,
       "version_minor": 0
      },
      "text/plain": [
       "Epoch 53/1000:   0%|          | 0/1000 [00:00<?, ?it/s]"
      ]
     },
     "metadata": {},
     "output_type": "display_data"
    },
    {
     "name": "stdout",
     "output_type": "stream",
     "text": [
      "\u001b[2m2023-09-29 16:09:32\u001b[0m [\u001b[32m\u001b[1mdebug    \u001b[0m] \u001b[1m250000 transitions are generated.\u001b[0m \u001b[36mfake_transitions\u001b[0m=\u001b[35m1250000\u001b[0m \u001b[36mreal_transitions\u001b[0m=\u001b[35m53262\u001b[0m\n",
      "\u001b[2m2023-09-29 16:10:02\u001b[0m [\u001b[32m\u001b[1minfo     \u001b[0m] \u001b[1mCOMBO_20230929153035: epoch=53 step=53000\u001b[0m \u001b[36mepoch\u001b[0m=\u001b[35m53\u001b[0m \u001b[36mmetrics\u001b[0m=\u001b[35m{'time_sample_batch': 0.0008946323394775391, 'time_algorithm_update': 0.020589677333831786, 'critic_loss': 24185.791935058594, 'actor_loss': 170.99163961791993, 'temp_loss': -0.13503186032548548, 'temp': 0.380317705899477, 'time_step': 0.02157444357872009, 'environment': 1000.0}\u001b[0m \u001b[36mstep\u001b[0m=\u001b[35m53000\u001b[0m\n",
      "\u001b[2m2023-09-29 16:10:02\u001b[0m [\u001b[32m\u001b[1minfo     \u001b[0m] \u001b[1mModel parameters are saved to d3rlpy_logs/COMBO_20230929153035/model_53000.pt\u001b[0m\n"
     ]
    },
    {
     "data": {
      "application/vnd.jupyter.widget-view+json": {
       "model_id": "e06b527ffb0742ed9ec2da8458c14cdb",
       "version_major": 2,
       "version_minor": 0
      },
      "text/plain": [
       "Epoch 54/1000:   0%|          | 0/1000 [00:00<?, ?it/s]"
      ]
     },
     "metadata": {},
     "output_type": "display_data"
    }
   ],
   "source": [
    "combo.fit(dataset = train_episodes, eval_episodes=test_episodes, n_steps=100000, n_steps_per_epoch=1000, tensorboard_dir=\"tensorboard_logs\",\n",
    "         scorers={\n",
    "            'environment': d3rlpy.metrics.scorer.evaluate_on_environment(eval_env)\n",
    "        })"
   ]
  },
  {
   "cell_type": "markdown",
   "id": "975eb780-5bf9-4dce-a157-2a3391301db6",
   "metadata": {},
   "source": [
    "## Load the Policy"
   ]
  },
  {
   "cell_type": "code",
   "execution_count": 9,
   "id": "307e723b-9836-489a-b6de-d66d7cf6dd22",
   "metadata": {},
   "outputs": [],
   "source": [
    "trained_policy = COMBO()\n",
    "# initialize with dataset\n",
    "trained_policy.build_with_dataset(dataset)\n",
    "# Load entire model parameters.\n",
    "trained_policy.load_model('d3rlpy_logs/COMBO_20230929153035/model_53000.pt')"
   ]
  },
  {
   "cell_type": "markdown",
   "id": "1c0b5477-7e6c-4701-a2f3-a0df1f357aa1",
   "metadata": {},
   "source": [
    "## See the policy running"
   ]
  },
  {
   "cell_type": "code",
   "execution_count": 10,
   "id": "a11e69dd-55a6-4c4b-a2a3-fe66e4626a0d",
   "metadata": {},
   "outputs": [],
   "source": [
    "scorer = d3rlpy.metrics.scorer.evaluate_on_environment(eval_env, render=True)\n",
    "mean_episode_return = scorer(trained_policy)"
   ]
  }
 ],
 "metadata": {
  "kernelspec": {
   "display_name": "Python 3 (ipykernel)",
   "language": "python",
   "name": "python3"
  },
  "language_info": {
   "codemirror_mode": {
    "name": "ipython",
    "version": 3
   },
   "file_extension": ".py",
   "mimetype": "text/x-python",
   "name": "python",
   "nbconvert_exporter": "python",
   "pygments_lexer": "ipython3",
   "version": "3.8.10"
  }
 },
 "nbformat": 4,
 "nbformat_minor": 5
}
